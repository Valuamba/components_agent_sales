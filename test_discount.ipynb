{
 "cells": [
  {
   "cell_type": "code",
   "execution_count": 2,
   "id": "d82b9a76-e03d-4057-a4bb-2ac0752581bb",
   "metadata": {},
   "outputs": [],
   "source": [
    "import openai\n",
    "from dotenv import load_dotenv"
   ]
  },
  {
   "cell_type": "code",
   "execution_count": 3,
   "id": "19e5021d-6207-4921-85d0-f0f2e0c8c9eb",
   "metadata": {},
   "outputs": [
    {
     "data": {
      "text/plain": [
       "True"
      ]
     },
     "execution_count": 3,
     "metadata": {},
     "output_type": "execute_result"
    }
   ],
   "source": [
    "load_dotenv()"
   ]
  },
  {
   "cell_type": "code",
   "execution_count": 4,
   "id": "e91d59b9-7717-4a76-8e73-843edf316ab0",
   "metadata": {},
   "outputs": [],
   "source": [
    "client = openai.OpenAI()"
   ]
  },
  {
   "cell_type": "code",
   "execution_count": 3,
   "id": "99cd7358-983b-4aac-84cf-0354b5974275",
   "metadata": {},
   "outputs": [
    {
     "ename": "ModuleNotFoundError",
     "evalue": "No module named 'prompts'",
     "output_type": "error",
     "traceback": [
      "\u001b[1;31m---------------------------------------------------------------------------\u001b[0m",
      "\u001b[1;31mModuleNotFoundError\u001b[0m                       Traceback (most recent call last)",
      "Cell \u001b[1;32mIn[3], line 7\u001b[0m\n\u001b[0;32m      4\u001b[0m \u001b[38;5;66;03m# Add the parent directory to sys.path to find the 'prompts' module\u001b[39;00m\n\u001b[0;32m      5\u001b[0m sys\u001b[38;5;241m.\u001b[39mpath\u001b[38;5;241m.\u001b[39mappend(os\u001b[38;5;241m.\u001b[39mpath\u001b[38;5;241m.\u001b[39mdirname(os\u001b[38;5;241m.\u001b[39mpath\u001b[38;5;241m.\u001b[39mdirname(os\u001b[38;5;241m.\u001b[39mpath\u001b[38;5;241m.\u001b[39mabspath(\u001b[38;5;124m'\u001b[39m\u001b[38;5;124m'\u001b[39m))))\n\u001b[1;32m----> 7\u001b[0m \u001b[38;5;28;01mimport\u001b[39;00m \u001b[38;5;21;01mprompts\u001b[39;00m\u001b[38;5;21;01m.\u001b[39;00m\u001b[38;5;21;01mdiscounts\u001b[39;00m\u001b[38;5;21;01m.\u001b[39;00m\u001b[38;5;21;01mblock_schema\u001b[39;00m\n",
      "\u001b[1;31mModuleNotFoundError\u001b[0m: No module named 'prompts'"
     ]
    }
   ],
   "source": [
    "import sys\n",
    "import os\n",
    "\n",
    "# Add the parent directory to sys.path to find the 'prompts' module\n",
    "sys.path.append(os.path.dirname(os.path.dirname(os.path.abspath(''))))\n",
    "\n",
    "import prompts.discounts.block_schema\n"
   ]
  },
  {
   "cell_type": "markdown",
   "id": "009a3ce2-7b0e-45f6-bf55-421e1b3a5874",
   "metadata": {},
   "source": [
    "# Classify intent and generate index, annotation tags"
   ]
  },
  {
   "cell_type": "code",
   "execution_count": 9,
   "id": "dfe86acb-f83d-4371-afff-b06c788be571",
   "metadata": {},
   "outputs": [
    {
     "ename": "ModuleNotFoundError",
     "evalue": "No module named 'prompts'",
     "output_type": "error",
     "traceback": [
      "\u001b[1;31m---------------------------------------------------------------------------\u001b[0m",
      "\u001b[1;31mModuleNotFoundError\u001b[0m                       Traceback (most recent call last)",
      "Cell \u001b[1;32mIn[9], line 1\u001b[0m\n\u001b[1;32m----> 1\u001b[0m \u001b[38;5;28;01mimport\u001b[39;00m \u001b[38;5;21;01mprompts\u001b[39;00m\u001b[38;5;21;01m.\u001b[39;00m\u001b[38;5;21;01mdiscounts\u001b[39;00m\u001b[38;5;21;01m.\u001b[39;00m\u001b[38;5;21;01mblock_schema\u001b[39;00m\n\u001b[0;32m      2\u001b[0m \u001b[38;5;28;01mfrom\u001b[39;00m \u001b[38;5;21;01mimportlib\u001b[39;00m \u001b[38;5;28;01mimport\u001b[39;00m reload\n\u001b[0;32m      4\u001b[0m reload(prompts\u001b[38;5;241m.\u001b[39mdiscounts\u001b[38;5;241m.\u001b[39mblock_schema)\n",
      "\u001b[1;31mModuleNotFoundError\u001b[0m: No module named 'prompts'"
     ]
    }
   ],
   "source": [
    "import prompts.discounts.block_schema\n",
    "from importlib import reload\n",
    "\n",
    "reload(prompts.discounts.block_schema)\n",
    "\n",
    "from prompts.discounts.block_schema import correct_block_schema, different_scenarious, \\\n",
    "    generate_thread_metadata_by_scenario, company_system_message, \\\n",
    "    get_fields_for_scneraios_from_block_schema\n",
    "\n",
    "print('Updated')"
   ]
  },
  {
   "cell_type": "code",
   "execution_count": 48,
   "id": "1a9e3d6b-f69b-4f1b-ad90-b18f3471be73",
   "metadata": {},
   "outputs": [],
   "source": [
    "response = client.chat.completions.create(model='gpt-4', messages=[\n",
    "    { \"role\": \"assistant\", \"content\": company_system_message},\n",
    "    { \"role\": \"user\", \"content\": different_scenarious}\n",
    "],\n",
    "temperature=0.7)"
   ]
  },
  {
   "cell_type": "code",
   "execution_count": 53,
   "id": "328c055d-6dc0-4c26-8192-5ff867472305",
   "metadata": {},
   "outputs": [],
   "source": [
    "response = client.chat.completions.create(model='gpt-4', messages=[\n",
    "    { \"role\": \"assistant\", \"content\": company_system_message},\n",
    "    { \"role\": \"user\", \"content\": generate_thread_metadata_by_scenario}\n",
    "],\n",
    "temperature=0.7)"
   ]
  },
  {
   "cell_type": "code",
   "execution_count": 54,
   "id": "2cd6e9a6-5f16-49c3-9451-dea3b520ac79",
   "metadata": {},
   "outputs": [
    {
     "name": "stdout",
     "output_type": "stream",
     "text": [
      "```\n",
      "Customer Request:\n",
      "1. Tsubaki - amount 1 - 1665.030.125.140-4189.5 TS0_0 FA_MA\n",
      "\n",
      "Customer metadata:\n",
      "Office country: Germany\n",
      "domain: fabrikdeutsch.de\n",
      "\n",
      "\n",
      "Customer purchase history:\n",
      "Tsubaki - 1665.030.125.140-4189.5 TS0_0 FA_MA:\n",
      "      - 2023-01-23 Total selling price: $123.234,00 Margin: 55% Qty: 1 Discount: 0%\n",
      "```\n"
     ]
    }
   ],
   "source": [
    "print(response.choices[0].message.content)"
   ]
  },
  {
   "cell_type": "markdown",
   "id": "362c62c1-9e86-401c-80a1-49a1bc3a6725",
   "metadata": {},
   "source": [
    "## ToDo\n",
    "\n",
    "- написать инструкции для каждой ветки intent/sub-intent/branch\n",
    "- проработать лучше поиск похожих сообщений\n",
    "- перенести код в проект, разбить флоу на файлы, в каждом файле прописать промпты, перенять логику менеджмента промптов с\n",
    "  лангчейна\n",
    "- прогнать через скрипт больше сообщений\n",
    "\n",
    "Стоимость не включает банковские комиссии, транснациональный, нужно указывать."
   ]
  },
  {
   "cell_type": "code",
   "execution_count": null,
   "id": "5d6bfe6f-825a-4b16-8824-203e5f520975",
   "metadata": {},
   "outputs": [],
   "source": [
    "\"\"\"\n",
    "\n",
    "\n",
    "\"\"\""
   ]
  }
 ],
 "metadata": {
  "kernelspec": {
   "display_name": "venv",
   "language": "python",
   "name": "venv"
  },
  "language_info": {
   "codemirror_mode": {
    "name": "ipython",
    "version": 3
   },
   "file_extension": ".py",
   "mimetype": "text/x-python",
   "name": "python",
   "nbconvert_exporter": "python",
   "pygments_lexer": "ipython3",
   "version": "3.12.1"
  }
 },
 "nbformat": 4,
 "nbformat_minor": 5
}
