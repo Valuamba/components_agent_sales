{
 "cells": [
  {
   "cell_type": "code",
   "execution_count": null,
   "id": "44830cf5-5919-42e0-a489-bcca4641f5c3",
   "metadata": {},
   "outputs": [],
   "source": [
    "import pandas"
   ]
  },
  {
   "cell_type": "code",
   "execution_count": null,
   "id": "581ecdae-e7c0-4e3c-8f49-4ee44cb83d07",
   "metadata": {},
   "outputs": [],
   "source": [
    "from dotenv import load_dotenv\n",
    "import os\n",
    "\n",
    "load_dotenv(dotenv_path='.env')"
   ]
  },
  {
   "cell_type": "code",
   "execution_count": null,
   "id": "92acefcd-a360-46e7-95c2-9b840da2b06e",
   "metadata": {},
   "outputs": [],
   "source": []
  },
  {
   "cell_type": "code",
   "execution_count": null,
   "id": "dd438d8b-3a4b-4bd5-a7f8-a3dcbf107ad1",
   "metadata": {},
   "outputs": [],
   "source": [
    "os.environ.get('OPENAI_API_KEY')"
   ]
  },
  {
   "cell_type": "code",
   "execution_count": null,
   "id": "3fbc0084-e63f-49db-a8f0-2ed43c90d36c",
   "metadata": {},
   "outputs": [],
   "source": [
    "serper_api_key = os.environ.get('SERPER_API_KEY')"
   ]
  },
  {
   "cell_type": "code",
   "execution_count": null,
   "id": "5f0a3c8f-eb44-4eeb-a28a-fafcc9c92081",
   "metadata": {},
   "outputs": [],
   "source": [
    "file_path = \"C:\\\\Users\\\\MGroup\\\\Downloads\\\\eyfdr_oscrm_contractor_x_articul.json\""
   ]
  },
  {
   "cell_type": "code",
   "execution_count": null,
   "id": "67457ff1-4181-4c5b-ae25-3f26b0b638df",
   "metadata": {},
   "outputs": [],
   "source": [
    "import json\n",
    "import pandas as pd\n",
    "import re\n",
    "import requests"
   ]
  },
  {
   "cell_type": "code",
   "execution_count": null,
   "id": "87457d09-43bd-4536-afff-132468196947",
   "metadata": {},
   "outputs": [],
   "source": [
    "with open(file_path, 'r', encoding='utf-8') as f:\n",
    "    data = f.read()"
   ]
  },
  {
   "cell_type": "code",
   "execution_count": null,
   "id": "5f4e8970-0d86-4726-a31d-24e3b07cbfa2",
   "metadata": {},
   "outputs": [],
   "source": [
    "def escape_json_value(json_data):\n",
    "    # Escape the necessary characters\n",
    "    replacements = {\n",
    "        '\\\\': '\\\\\\\\',  # Backslash\n",
    "        '\"': '\\\\\"',    # Quotation mark\n",
    "        '/': '\\\\/',    # Forward slash\n",
    "        '\\b': '\\\\b',   # Backspace\n",
    "        '\\f': '\\\\f',   # Formfeed\n",
    "        '\\n': '\\\\n',   # Newline\n",
    "        '\\r': '\\\\r',   # Carriage return\n",
    "        '\\t': '\\\\t'    # Horizontal tab\n",
    "    }\n",
    "    # print(json_data)\n",
    "    for key, value in replacements.items():\n",
    "        json_data = json_data.replace(key, value)\n",
    "\n",
    "    return json_data\n",
    "\n",
    "\n",
    "def escape_json_values(raw_data):\n",
    "    # pattern = r'\\\"([^\\\"]+)\\\":\\\"([^\\\"]*)\\\"'\n",
    "\n",
    "    pattern = r'\\\"([^\\\"]+)\\\":\\\"((?:\\\\.|[^\\\\\"])*)\\\"'\n",
    "\n",
    "    def replacement(match):\n",
    "        # Escape special characters in the value part\n",
    "        escaped_value = escape_json_value(match.group(2))\n",
    "        return f'\"{match.group(1)}\":\"{escaped_value}\"'\n",
    "\n",
    "    # Replace each match in the raw data\n",
    "    return re.sub(pattern, replacement, raw_data)\n"
   ]
  },
  {
   "cell_type": "code",
   "execution_count": null,
   "id": "d807d633-3d51-47d3-abc0-a6327c36bd2f",
   "metadata": {},
   "outputs": [],
   "source": [
    "escaped_json = escape_json_values(data)\n"
   ]
  },
  {
   "cell_type": "code",
   "execution_count": null,
   "id": "861f5047-d844-4789-a1c4-6c81260efd6c",
   "metadata": {},
   "outputs": [],
   "source": [
    "data = json.loads(escaped_json)\n",
    "\n",
    "df = pd.DataFrame(data[2]['data'])\n",
    "\n",
    "print(\"Missing values in each column:\\n\", df.isnull().sum())\n",
    "\n",
    "print(\"\\nFirst few rows of the DataFrame:\")\n",
    "df.head()"
   ]
  },
  {
   "cell_type": "code",
   "execution_count": null,
   "id": "be618a1e-f1f1-4b83-b504-1c5966582add",
   "metadata": {},
   "outputs": [],
   "source": [
    "mask = df['description'].str.contains('E\\+H', case=False, na=False)\n"
   ]
  },
  {
   "cell_type": "code",
   "execution_count": null,
   "id": "e89e89ef-498e-43ae-92ed-85ed645b32c3",
   "metadata": {},
   "outputs": [],
   "source": [
    "filtered_df = df[mask]\n",
    "filtered_df.head()"
   ]
  },
  {
   "cell_type": "code",
   "execution_count": null,
   "id": "e2118ea2-0ce2-4b33-9a8d-15d308941899",
   "metadata": {},
   "outputs": [],
   "source": [
    "filtered_df"
   ]
  },
  {
   "cell_type": "code",
   "execution_count": null,
   "id": "e5c8fe78-24af-42d5-8418-3a39e6f3efc6",
   "metadata": {},
   "outputs": [],
   "source": [
    "markdown_table = filtered_df.to_markdown(index=False)\n",
    "\n",
    "print(markdown_table)"
   ]
  },
  {
   "cell_type": "code",
   "execution_count": null,
   "id": "39194a0d-b8a2-4e69-8f27-8d84770d1f3a",
   "metadata": {},
   "outputs": [],
   "source": [
    "from sklearn.feature_extraction.text import CountVectorizer\n",
    "import pandas as pd\n",
    "\n",
    "# Example DataFrame\n",
    "\n",
    "filtered_df = df[df['title'] == 'Endress+Hauser']\n",
    "\n",
    "# Join all descriptions into a single text\n",
    "text = \" \".join(df['description'].tolist())\n",
    "\n",
    "# Extract bi-grams or tri-grams\n",
    "vectorizer = CountVectorizer(ngram_range=(2, 3), stop_words='english')\n",
    "ngrams = vectorizer.fit_transform([text])\n",
    "ngram_features = vectorizer.get_feature_names_out()\n",
    "\n",
    "# Display most common n-grams\n",
    "ngram_counts = ngrams.toarray().sum(axis=0)\n",
    "ngram_df = pd.DataFrame({'ngram': ngram_features, 'count': ngram_counts})\n",
    "ngram_df = ngram_df.sort_values(by='count', ascending=False)\n",
    "print(ngram_df.head(20))  "
   ]
  },
  {
   "cell_type": "code",
   "execution_count": null,
   "id": "c9eeab48-74d1-4040-89dd-cbd32f46a19a",
   "metadata": {},
   "outputs": [],
   "source": [
    "import spacy\n",
    "\n",
    "nlp = spacy.load(\"en_core_web_lg\") "
   ]
  },
  {
   "cell_type": "code",
   "execution_count": null,
   "id": "e4e6e046-2dc3-47ce-920c-6b5016437298",
   "metadata": {},
   "outputs": [],
   "source": [
    "for description in filtered_df['description'].tolist():\n",
    "    doc = nlp(description)\n",
    "\n",
    "    for ent in doc.ents:\n",
    "        if ent.label_ == \"ORG\":\n",
    "            print(ent.text)"
   ]
  },
  {
   "cell_type": "code",
   "execution_count": null,
   "id": "687c82e5-6e03-4424-aecf-da32e892939b",
   "metadata": {},
   "outputs": [],
   "source": [
    "for ent in doc.ents:\n",
    "    if ent.label_ == \"ORG\":\n",
    "        print(ent.text)"
   ]
  },
  {
   "cell_type": "code",
   "execution_count": null,
   "id": "c8f98f97-3ee8-4d8b-ac84-d4acbf0c78e2",
   "metadata": {},
   "outputs": [],
   "source": [
    "raw_email = \"\"\"\n",
    "\n",
    "Buenas tardes,\n",
    "\n",
    "Por medio del presente, solicito cotizar los siguientes productos de acuerdo con siguiente información:\n",
    "\n",
    "                 Descripción\n",
    "\n",
    "Marca\n",
    "\n",
    "Numero de Parte   \n",
    "\n",
    "Cantidad\n",
    "\n",
    "INTERRUPTOR FLOTADOR 250VAC   150VDC 3A (AC) 1A (DC) (MAXIMO); DIMENSIONES: LARGO CABLE 20m\n",
    "\n",
    "ENDRESS+HAUSER\n",
    "\n",
    "71035522\n",
    "\n",
    "7\n",
    "\n",
    " \n",
    "\n",
    "                                                       \n",
    "\n",
    "Por favor enviar ficha técnica y el mejor precio y plazo de entrega que nos pueden entregar.\n",
    "\n",
    " \n",
    "\n",
    "A continuación, los datos para la cotización:\n",
    "\n",
    "Soluciones Eléctricas SELEC SPA\n",
    "\n",
    "Rut: 76917494-K \n",
    "\n",
    "Dirección: Av. Pedro de valdivia 273 Oficina 1411, Providencia Santiago Chile\n",
    "\n",
    "Giro: Venta al por menor por correo, internet y vía telefónica.\n",
    "\n",
    " \n",
    "\n",
    "Muchas Gracias\n",
    "\n",
    "\"\"\""
   ]
  },
  {
   "cell_type": "code",
   "execution_count": null,
   "id": "56adcbc8-2727-48aa-895b-ac9822239a7f",
   "metadata": {},
   "outputs": [],
   "source": [
    "doc = nlp(raw_email)\n",
    "\n",
    "for ent in doc.ents:\n",
    "    if ent.label_ == \"ORG\":\n",
    "        print(ent.text)"
   ]
  },
  {
   "cell_type": "code",
   "execution_count": null,
   "id": "1d3e3f8f-7333-4b2e-b126-4f6d4dc5af55",
   "metadata": {},
   "outputs": [],
   "source": [
    "import json"
   ]
  },
  {
   "cell_type": "code",
   "execution_count": null,
   "id": "c0aa3739-0782-4035-be3d-7a77f08f772b",
   "metadata": {},
   "outputs": [],
   "source": [
    "def search(query):\n",
    "    url = \"https://google.serper.dev/search\"\n",
    "    \n",
    "    payload = json.dumps({\n",
    "      \"q\": query,\n",
    "      \"gl\": \"us\",\n",
    "      \"page\": 1\n",
    "    })\n",
    "\n",
    "    headers = {\n",
    "        'X-API-KEY': serper_api_key,\n",
    "        'Content-Type': 'application/json'\n",
    "    }\n",
    "\n",
    "    response = requests.request(\"POST\", url, headers=headers, data=payload)\n",
    "\n",
    "    print(response.text)\n",
    "\n",
    "    return response.text"
   ]
  },
  {
   "cell_type": "code",
   "execution_count": null,
   "id": "756b3626-f5a3-4923-8781-0a86bee03555",
   "metadata": {},
   "outputs": [],
   "source": [
    "gresult = json.loads(search('E+E EE741'))"
   ]
  },
  {
   "cell_type": "code",
   "execution_count": null,
   "id": "1434e39f-26a4-49e6-b2c8-704fa892ac0e",
   "metadata": {},
   "outputs": [],
   "source": [
    "gresult = json.loads(gresult)"
   ]
  },
  {
   "cell_type": "code",
   "execution_count": null,
   "id": "2b49e8d7-d13c-4495-894b-8b16136d90f1",
   "metadata": {},
   "outputs": [],
   "source": [
    "for item in gresult['organic']:\n",
    "    print(f'{item[\"title\"]}\\n{item[\"link\"]}\\n{item[\"snippet\"]}\\n\\n')"
   ]
  },
  {
   "cell_type": "code",
   "execution_count": null,
   "id": "26b650e5-7ec5-4d7c-8dfd-6c5618c09525",
   "metadata": {},
   "outputs": [],
   "source": []
  }
 ],
 "metadata": {
  "kernelspec": {
   "display_name": "venv",
   "language": "python",
   "name": "venv"
  },
  "language_info": {
   "codemirror_mode": {
    "name": "ipython",
    "version": 3
   },
   "file_extension": ".py",
   "mimetype": "text/x-python",
   "name": "python",
   "nbconvert_exporter": "python",
   "pygments_lexer": "ipython3",
   "version": "3.12.1"
  }
 },
 "nbformat": 4,
 "nbformat_minor": 5
}
