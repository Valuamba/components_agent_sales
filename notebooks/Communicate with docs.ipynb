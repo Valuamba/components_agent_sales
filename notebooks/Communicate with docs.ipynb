{
 "cells": [
  {
   "cell_type": "code",
   "execution_count": 1,
   "id": "8b45e0cb-7a3e-4fb8-8d0d-16b9202c7e25",
   "metadata": {},
   "outputs": [
    {
     "data": {
      "text/plain": [
       "True"
      ]
     },
     "execution_count": 1,
     "metadata": {},
     "output_type": "execute_result"
    }
   ],
   "source": [
    "import autogen\n",
    "from autogen.agentchat.contrib.agent_builder import AgentBuilder\n",
    "import os\n",
    "from dotenv import load_dotenv\n",
    "import json\n",
    "\n",
    "load_dotenv()"
   ]
  },
  {
   "cell_type": "code",
   "execution_count": 19,
   "id": "be01c34a-11f6-4faf-b1a5-392b003c8ec6",
   "metadata": {},
   "outputs": [],
   "source": [
    "env_var = [\n",
    "    {\n",
    "        'model': 'gpt-4',\n",
    "        'api_key': os.getenv('OPENAI_API_KEY')\n",
    "    },\n",
    "    {\n",
    "        'model': 'gpt-3.5-turbo',\n",
    "        'api_key': os.getenv('OPENAI_API_KEY')\n",
    "    }\n",
    "]"
   ]
  },
  {
   "cell_type": "code",
   "execution_count": 28,
   "id": "99076a3a-dc41-493b-86f8-2de50214d6eb",
   "metadata": {},
   "outputs": [
    {
     "name": "stdout",
     "output_type": "stream",
     "text": [
      "models to use:  ['gpt-4', 'gpt-3.5-turbo']\n"
     ]
    }
   ],
   "source": [
    "config_name = 'autogen_config.json'\n",
    "\n",
    "config_list = autogen.config_list_from_json(\n",
    "        env_or_file=config_name,\n",
    "        filter_dict={\n",
    "            \"model\": {\n",
    "                \"gpt-4\",\n",
    "                \"gpt-3.5-turbo\",\n",
    "            }\n",
    "        }\n",
    "    )\n",
    "\n",
    "assert len(config_list) > 0 \n",
    "print(\"models to use: \", [config_list[i][\"model\"] for i in range(len(config_list))])\n",
    "\n",
    "default_llm_config = {'temperature': 0}"
   ]
  },
  {
   "cell_type": "code",
   "execution_count": 29,
   "id": "686713c3-4eb8-448f-8f73-60741f0df1d6",
   "metadata": {},
   "outputs": [],
   "source": [
    "builder = AgentBuilder(config_path=config_name)\n"
   ]
  },
  {
   "cell_type": "code",
   "execution_count": 31,
   "id": "ff9d315e-0c15-4056-a7a5-0ab3071a1fe3",
   "metadata": {},
   "outputs": [
    {
     "name": "stdout",
     "output_type": "stream",
     "text": [
      "Generating agents...\n",
      "Data_scientist,Research_analyst,Computer_programmer are generated.\n",
      "Preparing configuration for Data_scientist...\n",
      "Preparing configuration for Research_analyst...\n",
      "Preparing configuration for Computer_programmer...\n",
      "Creating agent Data_scientist with backbone gpt-4...\n",
      "Creating agent Research_analyst with backbone gpt-4...\n",
      "Creating agent Computer_programmer with backbone gpt-4...\n",
      "Adding user console proxy...\n"
     ]
    }
   ],
   "source": [
    "building_task = \"Find a paper on arxiv by programming, and analyze its application in some domain...\"\n",
    "agent_list, agent_configs = builder.build(building_task, default_llm_config)"
   ]
  },
  {
   "cell_type": "code",
   "execution_count": null,
   "id": "9912b3d1-e1f7-4c1c-b1f3-cd9cebce01a1",
   "metadata": {},
   "outputs": [],
   "source": [
    "group_chat = autogen.GroupChat(agents=agent_list, messages=[], max_round=12)\n",
    "manager = autogen.GroupChatManager(groupchat=group_chat, llm_config={\"config_list\": config_list, **default_llm_config})\n",
    "agent_list[0].initiate_chat(\n",
    "    manager,\n",
    "    message='Find a recent paper about gpt-4 on arxiv...'\n",
    ")\n"
   ]
  },
  {
   "cell_type": "code",
   "execution_count": 2,
   "id": "fabb02da-3236-45e9-a78b-db4f99a683de",
   "metadata": {},
   "outputs": [],
   "source": [
    "from openai import OpenAI\n",
    "\n",
    "client = OpenAI(api_key = os.getenv('OPENAI_API_KEY'))"
   ]
  },
  {
   "cell_type": "code",
   "execution_count": 3,
   "id": "7647b770-5d14-4a32-ae60-7f65cb5f4097",
   "metadata": {},
   "outputs": [],
   "source": [
    "model = 'gpt-4'"
   ]
  },
  {
   "cell_type": "code",
   "execution_count": 4,
   "id": "138c3fd6-f52a-495d-a3e2-e465294045c3",
   "metadata": {},
   "outputs": [
    {
     "ename": "NameError",
     "evalue": "name 'openai_client' is not defined",
     "output_type": "error",
     "traceback": [
      "\u001b[0;31m---------------------------------------------------------------------------\u001b[0m",
      "\u001b[0;31mNameError\u001b[0m                                 Traceback (most recent call last)",
      "Cell \u001b[0;32mIn[4], line 1\u001b[0m\n\u001b[0;32m----> 1\u001b[0m \u001b[43mopenai_client\u001b[49m\u001b[38;5;241m.\u001b[39mchat\u001b[38;5;241m.\u001b[39mcompletions\u001b[38;5;241m.\u001b[39mcreate(model\u001b[38;5;241m=\u001b[39mmodel, messages\u001b[38;5;241m=\u001b[39mmessages)\n",
      "\u001b[0;31mNameError\u001b[0m: name 'openai_client' is not defined"
     ]
    }
   ],
   "source": [
    "openai_client.chat.completions.create(model=model, messages=messages)"
   ]
  },
  {
   "cell_type": "code",
   "execution_count": 38,
   "id": "7459bc71-591e-4ad8-ab37-7ce9e668525a",
   "metadata": {},
   "outputs": [],
   "source": [
    "from enum import Enum\n",
    "\n",
    "\n",
    "class EmailMessage:\n",
    "    body: str\n",
    "    subject: str\n",
    "    from_: str\n",
    "    to: str\n",
    "    id: int\n",
    "    \n",
    "class DialogState(Enum):\n",
    "    NONE = 1\n",
    "    UNHANDLED_REQUEST = 2\n",
    "    "
   ]
  },
  {
   "cell_type": "code",
   "execution_count": 39,
   "id": "24db1019-a7c0-4360-aade-8f95592c0527",
   "metadata": {},
   "outputs": [
    {
     "ename": "SyntaxError",
     "evalue": "incomplete input (1866276236.py, line 5)",
     "output_type": "error",
     "traceback": [
      "\u001b[0;36m  Cell \u001b[0;32mIn[39], line 5\u001b[0;36m\u001b[0m\n\u001b[0;31m    \u001b[0m\n\u001b[0m    ^\u001b[0m\n\u001b[0;31mSyntaxError\u001b[0m\u001b[0;31m:\u001b[0m incomplete input\n"
     ]
    }
   ],
   "source": [
    "state = DialogState.NONE\n",
    "\n",
    "def email_notifier(email: EmailMessage):\n",
    "    if email.id == 1:\n",
    "        state = DialogState"
   ]
  },
  {
   "cell_type": "code",
   "execution_count": 51,
   "id": "01858be8-b35f-4c14-abbc-ea2a1035e878",
   "metadata": {},
   "outputs": [
    {
     "name": "stdout",
     "output_type": "stream",
     "text": [
      "Hello! It's great to have a chance to chat with you. What's on your mind today? If you have any questions or topics you'd like to explore, feel free to ask, and I'll do my best to provide you with detailed information. If there's something I don't know, I'll be sure to let you know.\n"
     ]
    }
   ],
   "source": [
    "from langchain.chains.conversation.memory import ConversationBufferMemory\n",
    "from langchain.llms import OpenAI\n",
    "from langchain.chains import ConversationChain\n",
    "from langchain.chat_models import ChatOpenAI\n",
    "from langchain.agents import initialize_agent, AgentType\n",
    "\n",
    "# Initialize the large language model\n",
    "# llm = OpenAI(temperature=0, openai_api_key=os.getenv('OPENAI_API_KEY'), model_name=\"gpt-4-1106-preview\")\n",
    "# llm = ChatOpenAI(temperature=0, openai_api_key=os.getenv('OPENAI_API_KEY'), model_name=\"gpt-4-1106-preview\")\n",
    "\n",
    "# # Initialize the conversation chain with ConversationBufferMemory\n",
    "# conversation_buf = ConversationChain(llm=llm, memory=ConversationBufferMemory())\n",
    "\n",
    "\n",
    "# response = conversation_buf.predict(input=\"Hi there!\")\n",
    "\n",
    "\n",
    "# # Start the conversation\n",
    "# # response = conversation_buf(\"Good morning AI!\")\n",
    "print(response)\n"
   ]
  },
  {
   "cell_type": "code",
   "execution_count": 54,
   "id": "05760d51-4b83-4e70-a203-4da086097896",
   "metadata": {},
   "outputs": [],
   "source": [
    "sales_manager_system_message = \"\"\"\n",
    "You are Sales Manager(SM) at manufacturer details dealer.  Also there are Research Analyst (RA), Customer Service Reprisentative (CSR).  The business model of the company is very simple: Customers ask to buy parts, and a CSR (Customer Service Representative) looks at the request to see what parts the customer needs. Then, an RA (Research Analyst) finds the best prices for these parts online and tells the CSR. The CSR makes an offer and sends it to the customer. The customer can either buy the parts or have questions, and the CSR helps with these questions.\n",
    "\n",
    "Description of the area of responsibility for each employee under your supervision.\n",
    "\n",
    "Agent 1. Customer Service Reprisentative (CSR)\n",
    "- classify customer request: extract details info from client email text body: brand name, part number, amount, model, serial number etc.\n",
    "- answer on technical questions\n",
    "- ping customer when it not responds\n",
    "- generate commercial offer\n",
    "\n",
    "Agent 2. Research Analyst (RA)\n",
    "- search at CRM database: search detail by brand name or model or part number at company CRM database\n",
    "- search at Google: search details at google with query\n",
    "\n",
    "Your responsibility as a Sales Manager is to make decisions based on the information provided and to assign tasks to your subordinates. The task should be set in the following format:\n",
    "\n",
    "Agent: responsible employee\n",
    "State: this is one or more words in CamelCase that describe the current state\n",
    "Task: a detailed description of the task in 1-2 sentences, which will be understandable to the employee.\n",
    "\n",
    "[Example 1]\n",
    "Agent: Customer Service Reprisentative (CSR)\n",
    "State: PartClassification\n",
    "Task: Customer sends email, you need to classify it and select information or generate response message.\n",
    "\"\"\"\n",
    "\n",
    "sales_manager_agent = initialize_agent(\n",
    "    tools=[],\n",
    "    llm=ChatOpenAI(model=\"gpt-4-1106-preview\", temperature=0),\n",
    "    agent=AgentType.CHAT_CONVERSATIONAL_REACT_DESCRIPTION,\n",
    "    verbose=True,\n",
    "    max_iterations=1,\n",
    "    early_stopping_method=\"generate\",\n",
    "    agent_kwargs={\n",
    "        'system_message': sales_manager_system_message\n",
    "    }\n",
    ")\n"
   ]
  },
  {
   "cell_type": "code",
   "execution_count": 60,
   "id": "d5d7419e-57e4-49f2-bdad-36ca1a9477c5",
   "metadata": {},
   "outputs": [
    {
     "name": "stdout",
     "output_type": "stream",
     "text": [
      "\n",
      "\n",
      "\u001b[1m> Entering new AgentExecutor chain...\u001b[0m\n",
      "\u001b[32;1m\u001b[1;3m```json\n",
      "{\n",
      "    \"action\": \"Final Answer\",\n",
      "    \"action_input\": \"Agent: Customer Service Representative (CSR)\\nState: InitialInquiryHandling\\nTask: A new customer inquiry has been received. Please classify the request by extracting the brand name, part number, quantity, and any other relevant details from the email. Then, prepare and send an initial response acknowledging the receipt of the inquiry and informing the customer that we will provide the requested information shortly.\"\n",
      "}\n",
      "```\u001b[0m\n",
      "\n",
      "\u001b[1m> Finished chain.\u001b[0m\n"
     ]
    }
   ],
   "source": [
    "response = sales_manager_agent.run({\n",
    "    \"input\": \"\"\"\n",
    "As a Sales Manager, please assign a task to one of the agents.\n",
    "\n",
    "A customer inquiry has been received via email.\n",
    "\n",
    "[Customer Request]\n",
    "Subject: Enquiry for Supply of Firetrol Battery Charger AS-2001 | AL RAMIZ ",
    "\n",
    "Date: Thu, 30 Nov 2023 15:50:44 +0400 ",
    "\n",
    "From: Ramees Khan | AREC <ramees@arecuae.com>\n",
    "To: info@famaga.ae ",
    " ",
    "Dear Sir/Ma’am\n",
    "\n",
    "[History of interaction]\n",
    "Email id: 1\n",
    "Is first touch with this customer or company: yes\n",
    "\"\"\",\n",
    "    \"chat_history\": []\n",
    "    \n",
    "})"
   ]
  },
  {
   "cell_type": "code",
   "execution_count": 62,
   "id": "033d2c63-fd2a-4e70-a5ff-b1b842d6ca0b",
   "metadata": {},
   "outputs": [
    {
     "name": "stdout",
     "output_type": "stream",
     "text": [
      "Agent: Customer Service Representative (CSR)\n",
      "State: InitialInquiryHandling\n",
      "Task: A new customer inquiry has been received. Please classify the request by extracting the brand name, part number, quantity, and any other relevant details from the email. Then, prepare and send an initial response acknowledging the receipt of the inquiry and informing the customer that we will provide the requested information shortly.\n"
     ]
    }
   ],
   "source": [
    "print(response)"
   ]
  },
  {
   "cell_type": "code",
   "execution_count": 64,
   "id": "411eaafd-52e4-4a15-a80e-042cc192fc95",
   "metadata": {},
   "outputs": [
    {
     "name": "stdout",
     "output_type": "stream",
     "text": [
      "\n",
      "\n",
      "\u001b[1m> Entering new AgentExecutor chain...\u001b[0m\n",
      "\u001b[32;1m\u001b[1;3m```json\n",
      "{\n",
      "    \"action\": \"Final Answer\",\n",
      "    \"action_input\": \"I'm sorry, but I cannot retrieve previous messages or emails. How can I assist you with your current inquiry?\"\n",
      "}\n",
      "```\u001b[0m\n",
      "\n",
      "\u001b[1m> Finished chain.\u001b[0m\n"
     ]
    },
    {
     "data": {
      "text/plain": [
       "\"I'm sorry, but I cannot retrieve previous messages or emails. How can I assist you with your current inquiry?\""
      ]
     },
     "execution_count": 64,
     "metadata": {},
     "output_type": "execute_result"
    }
   ],
   "source": [
    "response  = sales_manager_agent.run({\n",
    "    \n",
    "    \"input\": \"What email was of previous message?\",\n",
    "    \"chat_history\": []\n",
    "})\n",
    "\n",
    "response"
   ]
  },
  {
   "cell_type": "code",
   "execution_count": 5,
   "id": "91692022-fff6-4ab2-9c42-fc886d1f15ab",
   "metadata": {},
   "outputs": [],
   "source": [
    "from langchain.agents import create_vectorstore_agent\n",
    "from langchain.vectorstores import Chroma\n",
    "from langchain.agents.agent_toolkits import VectorStoreToolkit, VectorStoreInfo"
   ]
  },
  {
   "cell_type": "code",
   "execution_count": 72,
   "id": "0c6eaabc-bcd1-4c54-a46c-5e014413c7b4",
   "metadata": {},
   "outputs": [
    {
     "data": {
      "text/plain": [
       "\u001b[0;31mInit signature:\u001b[0m\n",
       "\u001b[0mChroma\u001b[0m\u001b[0;34m(\u001b[0m\u001b[0;34m\u001b[0m\n",
       "\u001b[0;34m\u001b[0m    \u001b[0mcollection_name\u001b[0m\u001b[0;34m:\u001b[0m \u001b[0;34m'str'\u001b[0m \u001b[0;34m=\u001b[0m \u001b[0;34m'langchain'\u001b[0m\u001b[0;34m,\u001b[0m\u001b[0;34m\u001b[0m\n",
       "\u001b[0;34m\u001b[0m    \u001b[0membedding_function\u001b[0m\u001b[0;34m:\u001b[0m \u001b[0;34m'Optional[Embeddings]'\u001b[0m \u001b[0;34m=\u001b[0m \u001b[0;32mNone\u001b[0m\u001b[0;34m,\u001b[0m\u001b[0;34m\u001b[0m\n",
       "\u001b[0;34m\u001b[0m    \u001b[0mpersist_directory\u001b[0m\u001b[0;34m:\u001b[0m \u001b[0;34m'Optional[str]'\u001b[0m \u001b[0;34m=\u001b[0m \u001b[0;32mNone\u001b[0m\u001b[0;34m,\u001b[0m\u001b[0;34m\u001b[0m\n",
       "\u001b[0;34m\u001b[0m    \u001b[0mclient_settings\u001b[0m\u001b[0;34m:\u001b[0m \u001b[0;34m'Optional[chromadb.config.Settings]'\u001b[0m \u001b[0;34m=\u001b[0m \u001b[0;32mNone\u001b[0m\u001b[0;34m,\u001b[0m\u001b[0;34m\u001b[0m\n",
       "\u001b[0;34m\u001b[0m    \u001b[0mcollection_metadata\u001b[0m\u001b[0;34m:\u001b[0m \u001b[0;34m'Optional[Dict]'\u001b[0m \u001b[0;34m=\u001b[0m \u001b[0;32mNone\u001b[0m\u001b[0;34m,\u001b[0m\u001b[0;34m\u001b[0m\n",
       "\u001b[0;34m\u001b[0m    \u001b[0mclient\u001b[0m\u001b[0;34m:\u001b[0m \u001b[0;34m'Optional[chromadb.Client]'\u001b[0m \u001b[0;34m=\u001b[0m \u001b[0;32mNone\u001b[0m\u001b[0;34m,\u001b[0m\u001b[0;34m\u001b[0m\n",
       "\u001b[0;34m\u001b[0m    \u001b[0mrelevance_score_fn\u001b[0m\u001b[0;34m:\u001b[0m \u001b[0;34m'Optional[Callable[[float], float]]'\u001b[0m \u001b[0;34m=\u001b[0m \u001b[0;32mNone\u001b[0m\u001b[0;34m,\u001b[0m\u001b[0;34m\u001b[0m\n",
       "\u001b[0;34m\u001b[0m\u001b[0;34m)\u001b[0m \u001b[0;34m->\u001b[0m \u001b[0;34m'None'\u001b[0m\u001b[0;34m\u001b[0m\u001b[0;34m\u001b[0m\u001b[0m\n",
       "\u001b[0;31mDocstring:\u001b[0m     \n",
       "`ChromaDB` vector store.\n",
       "\n",
       "To use, you should have the ``chromadb`` python package installed.\n",
       "\n",
       "Example:\n",
       "    .. code-block:: python\n",
       "\n",
       "            from langchain.vectorstores import Chroma\n",
       "            from langchain.embeddings.openai import OpenAIEmbeddings\n",
       "\n",
       "            embeddings = OpenAIEmbeddings()\n",
       "            vectorstore = Chroma(\"langchain_store\", embeddings)\n",
       "\u001b[0;31mInit docstring:\u001b[0m Initialize with a Chroma client.\n",
       "\u001b[0;31mFile:\u001b[0m           ~/projs/components_agent_sales/venv/lib/python3.11/site-packages/langchain/vectorstores/chroma.py\n",
       "\u001b[0;31mType:\u001b[0m           ABCMeta\n",
       "\u001b[0;31mSubclasses:\u001b[0m     "
      ]
     },
     "metadata": {},
     "output_type": "display_data"
    }
   ],
   "source": [
    "Chroma?"
   ]
  },
  {
   "cell_type": "code",
   "execution_count": 6,
   "id": "35273f21-dea3-443c-880e-e3df892abb6f",
   "metadata": {},
   "outputs": [],
   "source": [
    "chroma = Chroma(collection_name='sales_agent', persist_directory='./data/chroma', embedding_function='text-embedding-ada-002')"
   ]
  },
  {
   "cell_type": "code",
   "execution_count": 89,
   "id": "05c1e5cd-2163-4a25-b45f-9114aca492d0",
   "metadata": {},
   "outputs": [],
   "source": [
    "\n",
    "sales_manager_agent = create_vectorstore_agent(\n",
    "    llm=ChatOpenAI(model=\"gpt-4-1106-preview\", temperature=0),\n",
    "    toolkit=VectorStoreToolkit(\n",
    "        vectorstore_info=VectorStoreInfo(\n",
    "            vectorstore=chroma,\n",
    "            name='SA store',\n",
    "            description='Store chat'\n",
    "        )\n",
    "    ),\n",
    "    verbose=True,\n",
    "    prefix=sales_manager_system_message\n",
    ")"
   ]
  },
  {
   "cell_type": "code",
   "execution_count": 94,
   "id": "ae5012fa-73fe-4784-aea2-bff029ed170b",
   "metadata": {},
   "outputs": [],
   "source": [
    "import langchain\n",
    "\n",
    "langchain.debug = True"
   ]
  },
  {
   "cell_type": "code",
   "execution_count": 95,
   "id": "f75cb1b4-8f7e-4956-ad80-1f0da58e201a",
   "metadata": {},
   "outputs": [
    {
     "name": "stdout",
     "output_type": "stream",
     "text": [
      "\u001b[32;1m\u001b[1;3m[chain/start]\u001b[0m \u001b[1m[1:chain:AgentExecutor] Entering Chain run with input:\n",
      "\u001b[0m{\n",
      "  \"input\": \"\\nAs a Sales Manager, please assign a task to one of the agents.\\n\\nA customer inquiry has been received via email.\\n\\n[Customer Request]\\nSubject: Enquiry for Supply of Firetrol Battery Charger AS-2001 | AL RAMIZ ",
      "\\nDate: Thu, 30 Nov 2023 15:50:44 +0400 ",
      "\\nFrom: Ramees Khan | AREC <ramees@arecuae.com>\\nTo: info@famaga.ae ",
      " ",
      "Dear Sir/Ma’am\\n\\n[History of interaction]\\nEmail id: 1\\nIs first touch with this customer or company: yes\\n\"\n",
      "}\n",
      "\u001b[32;1m\u001b[1;3m[chain/start]\u001b[0m \u001b[1m[1:chain:AgentExecutor > 2:chain:LLMChain] Entering Chain run with input:\n",
      "\u001b[0m{\n",
      "  \"input\": \"\\nAs a Sales Manager, please assign a task to one of the agents.\\n\\nA customer inquiry has been received via email.\\n\\n[Customer Request]\\nSubject: Enquiry for Supply of Firetrol Battery Charger AS-2001 | AL RAMIZ ",
      "\\nDate: Thu, 30 Nov 2023 15:50:44 +0400 ",
      "\\nFrom: Ramees Khan | AREC <ramees@arecuae.com>\\nTo: info@famaga.ae ",
      " ",
      "Dear Sir/Ma’am\\n\\n[History of interaction]\\nEmail id: 1\\nIs first touch with this customer or company: yes\\n\",\n",
      "  \"agent_scratchpad\": \"\",\n",
      "  \"stop\": [\n",
      "    \"\\nObservation:\",\n",
      "    \"\\n\\tObservation:\"\n",
      "  ]\n",
      "}\n",
      "\u001b[32;1m\u001b[1;3m[llm/start]\u001b[0m \u001b[1m[1:chain:AgentExecutor > 2:chain:LLMChain > 3:llm:ChatOpenAI] Entering LLM run with input:\n",
      "\u001b[0m{\n",
      "  \"prompts\": [\n",
      "    \"Human: \\nYou are Sales Manager(SM) at manufacturer details dealer.  Also there are Research Analyst (RA), Customer Service Reprisentative (CSR).  The business model of the company is very simple: Customers ask to buy parts, and a CSR (Customer Service Representative) looks at the request to see what parts the customer needs. Then, an RA (Research Analyst) finds the best prices for these parts online and tells the CSR. The CSR makes an offer and sends it to the customer. The customer can either buy the parts or have questions, and the CSR helps with these questions.\\n\\nDescription of the area of responsibility for each employee under your supervision.\\n\\nAgent 1. Customer Service Reprisentative (CSR)\\n- classify customer request: extract details info from client email text body: brand name, part number, amount, model, serial number etc.\\n- answer on technical questions\\n- ping customer when it not responds\\n- generate commercial offer\\n\\nAgent 2. Research Analyst (RA)\\n- search at CRM database: search detail by brand name or model or part number at company CRM database\\n- search at Google: search details at google with query\\n\\nYour responsibility as a Sales Manager is to make decisions based on the information provided and to assign tasks to your subordinates. The task should be set in the following format:\\n\\nAgent: responsible employee\\nState: this is one or more words in CamelCase that describe the current state\\nTask: a detailed description of the task in 1-2 sentences, which will be understandable to the employee.\\n\\n[Example 1]\\nAgent: Customer Service Reprisentative (CSR)\\nState: PartClassification\\nTask: Customer sends email, you need to classify it and select information or generate response message.\\n\\n\\nSA store: Useful for when you need to answer questions about SA store. Whenever you need information about Store chat you should ALWAYS use this. Input should be a fully formed question.\\nSA store_with_sources: Useful for when you need to answer questions about SA store and the sources used to construct the answer. Whenever you need information about Store chat you should ALWAYS use this.  Input should be a fully formed question. Output is a json serialized dictionary with keys `answer` and `sources`. Only use this tool if the user explicitly asks for sources.\\n\\nUse the following format:\\n\\nQuestion: the input question you must answer\\nThought: you should always think about what to do\\nAction: the action to take, should be one of [SA store, SA store_with_sources]\\nAction Input: the input to the action\\nObservation: the result of the action\\n... (this Thought/Action/Action Input/Observation can repeat N times)\\nThought: I now know the final answer\\nFinal Answer: the final answer to the original input question\\n\\nBegin!\\n\\nQuestion: \\nAs a Sales Manager, please assign a task to one of the agents.\\n\\nA customer inquiry has been received via email.\\n\\n[Customer Request]\\nSubject: Enquiry for Supply of Firetrol Battery Charger AS-2001 | AL RAMIZ ",
      "\\nDate: Thu, 30 Nov 2023 15:50:44 +0400 ",
      "\\nFrom: Ramees Khan | AREC <ramees@arecuae.com>\\nTo: info@famaga.ae ",
      " ",
      "Dear Sir/Ma’am\\n\\n[History of interaction]\\nEmail id: 1\\nIs first touch with this customer or company: yes\\n\\nThought:\"\n",
      "  ]\n",
      "}\n",
      "\u001b[36;1m\u001b[1;3m[llm/end]\u001b[0m \u001b[1m[1:chain:AgentExecutor > 2:chain:LLMChain > 3:llm:ChatOpenAI] [15.86s] Exiting LLM run with output:\n",
      "\u001b[0m{\n",
      "  \"generations\": [\n",
      "    [\n",
      "      {\n",
      "        \"text\": \"Based on the customer inquiry received, the CSR needs to classify the request and the RA needs to find the best prices for the requested part.\\n\\nAgent: Customer Service Representative (CSR)\\nState: InitialInquiry\\nTask: Review the customer's email to extract the necessary details such as the brand name, part number, model, and serial number for the Firetrol Battery Charger AS-2001. Determine if any additional information is required from the customer and prepare to generate a commercial offer.\\n\\nAgent: Research Analyst (RA)\\nState: PriceResearch\\nTask: Search the company CRM database for the Firetrol Battery Charger AS-2001 and use Google to find the best prices for this part. Provide the information to the CSR to aid in the creation of the commercial offer.\\n\\nThought: I have assigned tasks to both the CSR and RA based on the customer's request and the company's business model.\\nFinal Answer: Tasks have been assigned to the CSR to classify the customer request and to the RA to research the best prices for the Firetrol Battery Charger AS-2001.\",\n",
      "        \"generation_info\": {\n",
      "          \"finish_reason\": \"stop\"\n",
      "        },\n",
      "        \"type\": \"ChatGeneration\",\n",
      "        \"message\": {\n",
      "          \"lc\": 1,\n",
      "          \"type\": \"constructor\",\n",
      "          \"id\": [\n",
      "            \"langchain_core\",\n",
      "            \"messages\",\n",
      "            \"ai\",\n",
      "            \"AIMessage\"\n",
      "          ],\n",
      "          \"kwargs\": {\n",
      "            \"content\": \"Based on the customer inquiry received, the CSR needs to classify the request and the RA needs to find the best prices for the requested part.\\n\\nAgent: Customer Service Representative (CSR)\\nState: InitialInquiry\\nTask: Review the customer's email to extract the necessary details such as the brand name, part number, model, and serial number for the Firetrol Battery Charger AS-2001. Determine if any additional information is required from the customer and prepare to generate a commercial offer.\\n\\nAgent: Research Analyst (RA)\\nState: PriceResearch\\nTask: Search the company CRM database for the Firetrol Battery Charger AS-2001 and use Google to find the best prices for this part. Provide the information to the CSR to aid in the creation of the commercial offer.\\n\\nThought: I have assigned tasks to both the CSR and RA based on the customer's request and the company's business model.\\nFinal Answer: Tasks have been assigned to the CSR to classify the customer request and to the RA to research the best prices for the Firetrol Battery Charger AS-2001.\",\n",
      "            \"additional_kwargs\": {}\n",
      "          }\n",
      "        }\n",
      "      }\n",
      "    ]\n",
      "  ],\n",
      "  \"llm_output\": {\n",
      "    \"token_usage\": {\n",
      "      \"completion_tokens\": 217,\n",
      "      \"prompt_tokens\": 714,\n",
      "      \"total_tokens\": 931\n",
      "    },\n",
      "    \"model_name\": \"gpt-4-1106-preview\",\n",
      "    \"system_fingerprint\": \"fp_3905aa4f79\"\n",
      "  },\n",
      "  \"run\": null\n",
      "}\n",
      "\u001b[36;1m\u001b[1;3m[chain/end]\u001b[0m \u001b[1m[1:chain:AgentExecutor > 2:chain:LLMChain] [15.86s] Exiting Chain run with output:\n",
      "\u001b[0m{\n",
      "  \"text\": \"Based on the customer inquiry received, the CSR needs to classify the request and the RA needs to find the best prices for the requested part.\\n\\nAgent: Customer Service Representative (CSR)\\nState: InitialInquiry\\nTask: Review the customer's email to extract the necessary details such as the brand name, part number, model, and serial number for the Firetrol Battery Charger AS-2001. Determine if any additional information is required from the customer and prepare to generate a commercial offer.\\n\\nAgent: Research Analyst (RA)\\nState: PriceResearch\\nTask: Search the company CRM database for the Firetrol Battery Charger AS-2001 and use Google to find the best prices for this part. Provide the information to the CSR to aid in the creation of the commercial offer.\\n\\nThought: I have assigned tasks to both the CSR and RA based on the customer's request and the company's business model.\\nFinal Answer: Tasks have been assigned to the CSR to classify the customer request and to the RA to research the best prices for the Firetrol Battery Charger AS-2001.\"\n",
      "}\n",
      "\u001b[36;1m\u001b[1;3m[chain/end]\u001b[0m \u001b[1m[1:chain:AgentExecutor] [15.86s] Exiting Chain run with output:\n",
      "\u001b[0m{\n",
      "  \"output\": \"Tasks have been assigned to the CSR to classify the customer request and to the RA to research the best prices for the Firetrol Battery Charger AS-2001.\"\n",
      "}\n"
     ]
    },
    {
     "data": {
      "text/plain": [
       "'Tasks have been assigned to the CSR to classify the customer request and to the RA to research the best prices for the Firetrol Battery Charger AS-2001.'"
      ]
     },
     "execution_count": 95,
     "metadata": {},
     "output_type": "execute_result"
    }
   ],
   "source": [
    "response = sales_manager_agent.run({\n",
    "    \"input\": \"\"\"\n",
    "As a Sales Manager, please assign a task to one of the agents.\n",
    "\n",
    "A customer inquiry has been received via email.\n",
    "\n",
    "[Customer Request]\n",
    "Subject: Enquiry for Supply of Firetrol Battery Charger AS-2001 | AL RAMIZ ",
    "\n",
    "Date: Thu, 30 Nov 2023 15:50:44 +0400 ",
    "\n",
    "From: Ramees Khan | AREC <ramees@arecuae.com>\n",
    "To: info@famaga.ae ",
    " ",
    "Dear Sir/Ma’am\n",
    "\n",
    "[History of interaction]\n",
    "Email id: 1\n",
    "Is first touch with this customer or company: yes\n",
    "\"\"\"    \n",
    "})\n",
    "response"
   ]
  },
  {
   "cell_type": "code",
   "execution_count": 92,
   "id": "3c57440d-cdf1-4918-b215-15a532cddac0",
   "metadata": {},
   "outputs": [
    {
     "data": {
      "text/plain": [
       "'Tasks have been assigned to the CSR to classify the customer request and to the RA to research the best prices for the Firetrol Battery Charger AS-2001.'"
      ]
     },
     "execution_count": 92,
     "metadata": {},
     "output_type": "execute_result"
    }
   ],
   "source": [
    "response"
   ]
  },
  {
   "cell_type": "code",
   "execution_count": 93,
   "id": "14f8b744-1115-45bd-b70b-13aef72d4f37",
   "metadata": {},
   "outputs": [
    {
     "name": "stdout",
     "output_type": "stream",
     "text": [
      "\n",
      "\n",
      "\u001b[1m> Entering new AgentExecutor chain...\u001b[0m\n",
      "\u001b[32;1m\u001b[1;3mThe question seems to be asking for the identity of a message sender, but there is no context or specific message provided to identify the sender. As a Sales Manager in this scenario, I would need more information to determine who sent a message.\n",
      "\n",
      "Thought: I need to clarify the context or get more details about the message to identify the sender.\n",
      "\n",
      "Final Answer: To identify the message sender, I would need more information about the specific message in question. Please provide additional context or details about the message.\u001b[0m\n",
      "\n",
      "\u001b[1m> Finished chain.\u001b[0m\n"
     ]
    },
    {
     "data": {
      "text/plain": [
       "'To identify the message sender, I would need more information about the specific message in question. Please provide additional context or details about the message.'"
      ]
     },
     "execution_count": 93,
     "metadata": {},
     "output_type": "execute_result"
    }
   ],
   "source": [
    "sales_manager_agent.run('Who was the message sender?')"
   ]
  },
  {
   "cell_type": "code",
   "execution_count": null,
   "id": "22f85439-7e96-4b82-a7e0-06fbd08f8b1b",
   "metadata": {},
   "outputs": [],
   "source": [
    "from langchain.chains.retrieval_qa.base import RetrievalQA\n",
    "\n",
    "chain = RetrievalQA.from_chain_type(\n",
    "            self.llm, retriever=self.vectorstore.as_retriever()\n",
    "        )\n"
   ]
  },
  {
   "cell_type": "code",
   "execution_count": null,
   "id": "414a3595-0eac-4177-99d0-548cdb69a91b",
   "metadata": {},
   "outputs": [],
   "source": [
    "#vectorstore retriever\n",
    "\n",
    "def get_relevant_documents(self, query: str) -> List[Document]:\n",
    "        if self.search_type == \"similarity\":\n",
    "            docs = self.vectorstore.similarity_search(query, **self.search_kwargs)\n",
    "        elif self.search_type == \"similarity_score_threshold\":\n",
    "            docs_and_similarities = (\n",
    "                self.vectorstore.similarity_search_with_relevance_scores(\n",
    "                    query, **self.search_kwargs\n",
    "                )\n",
    "            )\n",
    "            docs = [doc for doc, _ in docs_and_similarities]\n",
    "        elif self.search_type == \"mmr\":\n",
    "            docs = self.vectorstore.max_marginal_relevance_search(\n",
    "                query, **self.search_kwargs\n",
    "            )\n",
    "        else:\n",
    "            raise ValueError(f\"search_type of {self.search_type} not allowed.\")\n",
    "        return docs\n"
   ]
  },
  {
   "cell_type": "code",
   "execution_count": 97,
   "id": "8c5b9582-55de-4e27-ac2d-0e78472de05c",
   "metadata": {},
   "outputs": [
    {
     "name": "stdout",
     "output_type": "stream",
     "text": [
      "\n",
      "Human: \n",
      "You are Sales Manager(SM) at manufacturer details dealer.  Also there are Research Analyst (RA), Customer Service Reprisentative (CSR).  The business model of the company is very simple: Customers ask to buy parts, and a CSR (Customer Service Representative) looks at the request to see what parts the customer needs. Then, an RA (Research Analyst) finds the best prices for these parts online and tells the CSR. The CSR makes an offer and sends it to the customer. The customer can either buy the parts or have questions, and the CSR helps with these questions.\n",
      "\n",
      "Description of the area of responsibility for each employee under your supervision.\n",
      "\n",
      "Agent 1. Customer Service Reprisentative (CSR)\n",
      "- classify customer request: extract details info from client email text body: brand name, part number, amount, model, serial number etc.\n",
      "- answer on technical questions\n",
      "- ping customer when it not responds\n",
      "- generate commercial offer\n",
      "\n",
      "Agent 2. Research Analyst (RA)\n",
      "- search at CRM database: search detail by brand name or model or part number at company CRM database\n",
      "- search at Google: search details at google with query\n",
      "\n",
      "Your responsibility as a Sales Manager is to make decisions based on the information provided and to assign tasks to your subordinates. The task should be set in the following format:\n",
      "\n",
      "Agent: responsible employee\n",
      "State: this is one or more words in CamelCase that describe the current state\n",
      "Task: a detailed description of the task in 1-2 sentences, which will be understandable to the employee.\n",
      "\n",
      "[Example 1]\n",
      "Agent: Customer Service Reprisentative (CSR)\n",
      "State: PartClassification\n",
      "Task: Customer sends email, you need to classify it and select information or generate response message.\n",
      "\n",
      "\n",
      "SA store: Useful for when you need to answer questions about SA store. Whenever you need information about Store chat you should ALWAYS use this. Input should be a fully formed question.\n",
      "SA store_with_sources: Useful for when you need to answer questions about SA store and the sources used to construct the answer. Whenever you need information about Store chat you should ALWAYS use this.  Input should be a fully formed question. Output is a json serialized dictionary with keys `answer` and `sources`. Only use this tool if the user explicitly asks for sources.\n",
      "\n",
      "Use the following format:\n",
      "\n",
      "Question: the input question you must answer\n",
      "Thought: you should always think about what to do\n",
      "Action: the action to take, should be one of [SA store, SA store_with_sources]\n",
      "Action Input: the input to the action\n",
      "Observation: the result of the action\n",
      "... (this Thought/Action/Action Input/Observation can repeat N times)\n",
      "Thought: I now know the final answer\n",
      "Final Answer: the final answer to the original input question\n",
      "\n",
      "Begin!\n",
      "\n",
      "Question: \n",
      "As a Sales Manager, please assign a task to one of the agents.\n",
      "\n",
      "A customer inquiry has been received via email.\n",
      "\n",
      "[Customer Request]\n",
      "Subject: Enquiry for Supply of Firetrol Battery Charger AS-2001 | AL RAMIZ ",
      "\n",
      "Date: Thu, 30 Nov 2023 15:50:44 +0400 ",
      "\n",
      "From: Ramees Khan | AREC <ramees@arecuae.com>\n",
      "To: info@famaga.ae ",
      " ",
      "Dear Sir/Ma’am\n",
      "\n",
      "[History of interaction]\n",
      "Email id: 1\n",
      "Is first touch with this customer or company: yes\n",
      "\n",
      "Thought:\n",
      "\n"
     ]
    }
   ],
   "source": [
    "human_prompt = \"\"\"\n",
    "Human: \\nYou are Sales Manager(SM) at manufacturer details dealer.  Also there are Research Analyst (RA), Customer Service Reprisentative (CSR).  The business model of the company is very simple: Customers ask to buy parts, and a CSR (Customer Service Representative) looks at the request to see what parts the customer needs. Then, an RA (Research Analyst) finds the best prices for these parts online and tells the CSR. The CSR makes an offer and sends it to the customer. The customer can either buy the parts or have questions, and the CSR helps with these questions.\\n\\nDescription of the area of responsibility for each employee under your supervision.\\n\\nAgent 1. Customer Service Reprisentative (CSR)\\n- classify customer request: extract details info from client email text body: brand name, part number, amount, model, serial number etc.\\n- answer on technical questions\\n- ping customer when it not responds\\n- generate commercial offer\\n\\nAgent 2. Research Analyst (RA)\\n- search at CRM database: search detail by brand name or model or part number at company CRM database\\n- search at Google: search details at google with query\\n\\nYour responsibility as a Sales Manager is to make decisions based on the information provided and to assign tasks to your subordinates. The task should be set in the following format:\\n\\nAgent: responsible employee\\nState: this is one or more words in CamelCase that describe the current state\\nTask: a detailed description of the task in 1-2 sentences, which will be understandable to the employee.\\n\\n[Example 1]\\nAgent: Customer Service Reprisentative (CSR)\\nState: PartClassification\\nTask: Customer sends email, you need to classify it and select information or generate response message.\\n\\n\\nSA store: Useful for when you need to answer questions about SA store. Whenever you need information about Store chat you should ALWAYS use this. Input should be a fully formed question.\\nSA store_with_sources: Useful for when you need to answer questions about SA store and the sources used to construct the answer. Whenever you need information about Store chat you should ALWAYS use this.  Input should be a fully formed question. Output is a json serialized dictionary with keys `answer` and `sources`. Only use this tool if the user explicitly asks for sources.\\n\\nUse the following format:\\n\\nQuestion: the input question you must answer\\nThought: you should always think about what to do\\nAction: the action to take, should be one of [SA store, SA store_with_sources]\\nAction Input: the input to the action\\nObservation: the result of the action\\n... (this Thought/Action/Action Input/Observation can repeat N times)\\nThought: I now know the final answer\\nFinal Answer: the final answer to the original input question\\n\\nBegin!\\n\\nQuestion: \\nAs a Sales Manager, please assign a task to one of the agents.\\n\\nA customer inquiry has been received via email.\\n\\n[Customer Request]\\nSubject: Enquiry for Supply of Firetrol Battery Charger AS-2001 | AL RAMIZ ",
    "\\nDate: Thu, 30 Nov 2023 15:50:44 +0400 ",
    "\\nFrom: Ramees Khan | AREC <ramees@arecuae.com>\\nTo: info@famaga.ae ",
    " ",
    "Dear Sir/Ma’am\\n\\n[History of interaction]\\nEmail id: 1\\nIs first touch with this customer or company: yes\\n\\nThought:\n",
    "\"\"\"\n",
    "\n",
    "print(human_prompt)"
   ]
  },
  {
   "cell_type": "code",
   "execution_count": 38,
   "id": "1192e50a-6f30-4496-b993-8c8e17085123",
   "metadata": {},
   "outputs": [],
   "source": [
    "from langchain.chains import ConversationalRetrievalChain, LLMChain\n",
    "from langchain.memory import ConversationBufferMemory\n",
    "from langchain.chat_models import ChatOpenAI\n",
    "from langchain.prompts import PromptTemplate\n",
    "from langchain.text_splitter import CharacterTextSplitter"
   ]
  },
  {
   "cell_type": "code",
   "execution_count": 99,
   "id": "686d9c74-a4a4-4c6b-b0b8-b358ee5d7aff",
   "metadata": {},
   "outputs": [
    {
     "data": {
      "text/plain": [
       "\u001b[0;31mInit signature:\u001b[0m\n",
       "\u001b[0mConversationalRetrievalChain\u001b[0m\u001b[0;34m(\u001b[0m\u001b[0;34m\u001b[0m\n",
       "\u001b[0;34m\u001b[0m    \u001b[0;34m*\u001b[0m\u001b[0;34m,\u001b[0m\u001b[0;34m\u001b[0m\n",
       "\u001b[0;34m\u001b[0m    \u001b[0mmemory\u001b[0m\u001b[0;34m:\u001b[0m \u001b[0mOptional\u001b[0m\u001b[0;34m[\u001b[0m\u001b[0mlangchain_core\u001b[0m\u001b[0;34m.\u001b[0m\u001b[0mmemory\u001b[0m\u001b[0;34m.\u001b[0m\u001b[0mBaseMemory\u001b[0m\u001b[0;34m]\u001b[0m \u001b[0;34m=\u001b[0m \u001b[0;32mNone\u001b[0m\u001b[0;34m,\u001b[0m\u001b[0;34m\u001b[0m\n",
       "\u001b[0;34m\u001b[0m    \u001b[0mcallbacks\u001b[0m\u001b[0;34m:\u001b[0m \u001b[0mUnion\u001b[0m\u001b[0;34m[\u001b[0m\u001b[0mList\u001b[0m\u001b[0;34m[\u001b[0m\u001b[0mlangchain_core\u001b[0m\u001b[0;34m.\u001b[0m\u001b[0mcallbacks\u001b[0m\u001b[0;34m.\u001b[0m\u001b[0mbase\u001b[0m\u001b[0;34m.\u001b[0m\u001b[0mBaseCallbackHandler\u001b[0m\u001b[0;34m]\u001b[0m\u001b[0;34m,\u001b[0m \u001b[0mlangchain_core\u001b[0m\u001b[0;34m.\u001b[0m\u001b[0mcallbacks\u001b[0m\u001b[0;34m.\u001b[0m\u001b[0mbase\u001b[0m\u001b[0;34m.\u001b[0m\u001b[0mBaseCallbackManager\u001b[0m\u001b[0;34m,\u001b[0m \u001b[0mNoneType\u001b[0m\u001b[0;34m]\u001b[0m \u001b[0;34m=\u001b[0m \u001b[0;32mNone\u001b[0m\u001b[0;34m,\u001b[0m\u001b[0;34m\u001b[0m\n",
       "\u001b[0;34m\u001b[0m    \u001b[0mcallback_manager\u001b[0m\u001b[0;34m:\u001b[0m \u001b[0mOptional\u001b[0m\u001b[0;34m[\u001b[0m\u001b[0mlangchain_core\u001b[0m\u001b[0;34m.\u001b[0m\u001b[0mcallbacks\u001b[0m\u001b[0;34m.\u001b[0m\u001b[0mbase\u001b[0m\u001b[0;34m.\u001b[0m\u001b[0mBaseCallbackManager\u001b[0m\u001b[0;34m]\u001b[0m \u001b[0;34m=\u001b[0m \u001b[0;32mNone\u001b[0m\u001b[0;34m,\u001b[0m\u001b[0;34m\u001b[0m\n",
       "\u001b[0;34m\u001b[0m    \u001b[0mverbose\u001b[0m\u001b[0;34m:\u001b[0m \u001b[0mbool\u001b[0m \u001b[0;34m=\u001b[0m \u001b[0;32mNone\u001b[0m\u001b[0;34m,\u001b[0m\u001b[0;34m\u001b[0m\n",
       "\u001b[0;34m\u001b[0m    \u001b[0mtags\u001b[0m\u001b[0;34m:\u001b[0m \u001b[0mOptional\u001b[0m\u001b[0;34m[\u001b[0m\u001b[0mList\u001b[0m\u001b[0;34m[\u001b[0m\u001b[0mstr\u001b[0m\u001b[0;34m]\u001b[0m\u001b[0;34m]\u001b[0m \u001b[0;34m=\u001b[0m \u001b[0;32mNone\u001b[0m\u001b[0;34m,\u001b[0m\u001b[0;34m\u001b[0m\n",
       "\u001b[0;34m\u001b[0m    \u001b[0mmetadata\u001b[0m\u001b[0;34m:\u001b[0m \u001b[0mOptional\u001b[0m\u001b[0;34m[\u001b[0m\u001b[0mDict\u001b[0m\u001b[0;34m[\u001b[0m\u001b[0mstr\u001b[0m\u001b[0;34m,\u001b[0m \u001b[0mAny\u001b[0m\u001b[0;34m]\u001b[0m\u001b[0;34m]\u001b[0m \u001b[0;34m=\u001b[0m \u001b[0;32mNone\u001b[0m\u001b[0;34m,\u001b[0m\u001b[0;34m\u001b[0m\n",
       "\u001b[0;34m\u001b[0m    \u001b[0mcombine_docs_chain\u001b[0m\u001b[0;34m:\u001b[0m \u001b[0mlangchain\u001b[0m\u001b[0;34m.\u001b[0m\u001b[0mchains\u001b[0m\u001b[0;34m.\u001b[0m\u001b[0mcombine_documents\u001b[0m\u001b[0;34m.\u001b[0m\u001b[0mbase\u001b[0m\u001b[0;34m.\u001b[0m\u001b[0mBaseCombineDocumentsChain\u001b[0m\u001b[0;34m,\u001b[0m\u001b[0;34m\u001b[0m\n",
       "\u001b[0;34m\u001b[0m    \u001b[0mquestion_generator\u001b[0m\u001b[0;34m:\u001b[0m \u001b[0mlangchain\u001b[0m\u001b[0;34m.\u001b[0m\u001b[0mchains\u001b[0m\u001b[0;34m.\u001b[0m\u001b[0mllm\u001b[0m\u001b[0;34m.\u001b[0m\u001b[0mLLMChain\u001b[0m\u001b[0;34m,\u001b[0m\u001b[0;34m\u001b[0m\n",
       "\u001b[0;34m\u001b[0m    \u001b[0moutput_key\u001b[0m\u001b[0;34m:\u001b[0m \u001b[0mstr\u001b[0m \u001b[0;34m=\u001b[0m \u001b[0;34m'answer'\u001b[0m\u001b[0;34m,\u001b[0m\u001b[0;34m\u001b[0m\n",
       "\u001b[0;34m\u001b[0m    \u001b[0mrephrase_question\u001b[0m\u001b[0;34m:\u001b[0m \u001b[0mbool\u001b[0m \u001b[0;34m=\u001b[0m \u001b[0;32mTrue\u001b[0m\u001b[0;34m,\u001b[0m\u001b[0;34m\u001b[0m\n",
       "\u001b[0;34m\u001b[0m    \u001b[0mreturn_source_documents\u001b[0m\u001b[0;34m:\u001b[0m \u001b[0mbool\u001b[0m \u001b[0;34m=\u001b[0m \u001b[0;32mFalse\u001b[0m\u001b[0;34m,\u001b[0m\u001b[0;34m\u001b[0m\n",
       "\u001b[0;34m\u001b[0m    \u001b[0mreturn_generated_question\u001b[0m\u001b[0;34m:\u001b[0m \u001b[0mbool\u001b[0m \u001b[0;34m=\u001b[0m \u001b[0;32mFalse\u001b[0m\u001b[0;34m,\u001b[0m\u001b[0;34m\u001b[0m\n",
       "\u001b[0;34m\u001b[0m    \u001b[0mget_chat_history\u001b[0m\u001b[0;34m:\u001b[0m \u001b[0mOptional\u001b[0m\u001b[0;34m[\u001b[0m\u001b[0mCallable\u001b[0m\u001b[0;34m[\u001b[0m\u001b[0;34m[\u001b[0m\u001b[0mList\u001b[0m\u001b[0;34m[\u001b[0m\u001b[0mUnion\u001b[0m\u001b[0;34m[\u001b[0m\u001b[0mTuple\u001b[0m\u001b[0;34m[\u001b[0m\u001b[0mstr\u001b[0m\u001b[0;34m,\u001b[0m \u001b[0mstr\u001b[0m\u001b[0;34m]\u001b[0m\u001b[0;34m,\u001b[0m \u001b[0mlangchain_core\u001b[0m\u001b[0;34m.\u001b[0m\u001b[0mmessages\u001b[0m\u001b[0;34m.\u001b[0m\u001b[0mbase\u001b[0m\u001b[0;34m.\u001b[0m\u001b[0mBaseMessage\u001b[0m\u001b[0;34m]\u001b[0m\u001b[0;34m]\u001b[0m\u001b[0;34m]\u001b[0m\u001b[0;34m,\u001b[0m \u001b[0mstr\u001b[0m\u001b[0;34m]\u001b[0m\u001b[0;34m]\u001b[0m \u001b[0;34m=\u001b[0m \u001b[0;32mNone\u001b[0m\u001b[0;34m,\u001b[0m\u001b[0;34m\u001b[0m\n",
       "\u001b[0;34m\u001b[0m    \u001b[0mresponse_if_no_docs_found\u001b[0m\u001b[0;34m:\u001b[0m \u001b[0mOptional\u001b[0m\u001b[0;34m[\u001b[0m\u001b[0mstr\u001b[0m\u001b[0;34m]\u001b[0m \u001b[0;34m=\u001b[0m \u001b[0;32mNone\u001b[0m\u001b[0;34m,\u001b[0m\u001b[0;34m\u001b[0m\n",
       "\u001b[0;34m\u001b[0m    \u001b[0mretriever\u001b[0m\u001b[0;34m:\u001b[0m \u001b[0mlangchain_core\u001b[0m\u001b[0;34m.\u001b[0m\u001b[0mretrievers\u001b[0m\u001b[0;34m.\u001b[0m\u001b[0mBaseRetriever\u001b[0m\u001b[0;34m,\u001b[0m\u001b[0;34m\u001b[0m\n",
       "\u001b[0;34m\u001b[0m    \u001b[0mmax_tokens_limit\u001b[0m\u001b[0;34m:\u001b[0m \u001b[0mOptional\u001b[0m\u001b[0;34m[\u001b[0m\u001b[0mint\u001b[0m\u001b[0;34m]\u001b[0m \u001b[0;34m=\u001b[0m \u001b[0;32mNone\u001b[0m\u001b[0;34m,\u001b[0m\u001b[0;34m\u001b[0m\n",
       "\u001b[0;34m\u001b[0m\u001b[0;34m)\u001b[0m \u001b[0;34m->\u001b[0m \u001b[0;32mNone\u001b[0m\u001b[0;34m\u001b[0m\u001b[0;34m\u001b[0m\u001b[0m\n",
       "\u001b[0;31mDocstring:\u001b[0m     \n",
       "Chain for having a conversation based on retrieved documents.\n",
       "\n",
       "This chain takes in chat history (a list of messages) and new questions,\n",
       "and then returns an answer to that question.\n",
       "The algorithm for this chain consists of three parts:\n",
       "\n",
       "1. Use the chat history and the new question to create a \"standalone question\".\n",
       "This is done so that this question can be passed into the retrieval step to fetch\n",
       "relevant documents. If only the new question was passed in, then relevant context\n",
       "may be lacking. If the whole conversation was passed into retrieval, there may\n",
       "be unnecessary information there that would distract from retrieval.\n",
       "\n",
       "2. This new question is passed to the retriever and relevant documents are\n",
       "returned.\n",
       "\n",
       "3. The retrieved documents are passed to an LLM along with either the new question\n",
       "(default behavior) or the original question and chat history to generate a final\n",
       "response.\n",
       "\n",
       "Example:\n",
       "    .. code-block:: python\n",
       "\n",
       "        from langchain.chains import (\n",
       "            StuffDocumentsChain, LLMChain, ConversationalRetrievalChain\n",
       "        )\n",
       "        from langchain_core.prompts import PromptTemplate\n",
       "        from langchain.llms import OpenAI\n",
       "\n",
       "        combine_docs_chain = StuffDocumentsChain(...)\n",
       "        vectorstore = ...\n",
       "        retriever = vectorstore.as_retriever()\n",
       "\n",
       "        # This controls how the standalone question is generated.\n",
       "        # Should take `chat_history` and `question` as input variables.\n",
       "        template = (\n",
       "            \"Combine the chat history and follow up question into \"\n",
       "            \"a standalone question. Chat History: {chat_history}\"\n",
       "            \"Follow up question: {question}\"\n",
       "        )\n",
       "        prompt = PromptTemplate.from_template(template)\n",
       "        llm = OpenAI()\n",
       "        question_generator_chain = LLMChain(llm=llm, prompt=prompt)\n",
       "        chain = ConversationalRetrievalChain(\n",
       "            combine_docs_chain=combine_docs_chain,\n",
       "            retriever=retriever,\n",
       "            question_generator=question_generator_chain,\n",
       "        )\n",
       "\u001b[0;31mInit docstring:\u001b[0m\n",
       "Create a new model by parsing and validating input data from keyword arguments.\n",
       "\n",
       "Raises ValidationError if the input data cannot be parsed to form a valid model.\n",
       "\u001b[0;31mFile:\u001b[0m           ~/projs/components_agent_sales/venv/lib/python3.11/site-packages/langchain/chains/conversational_retrieval/base.py\n",
       "\u001b[0;31mType:\u001b[0m           ModelMetaclass\n",
       "\u001b[0;31mSubclasses:\u001b[0m     "
      ]
     },
     "metadata": {},
     "output_type": "display_data"
    }
   ],
   "source": [
    "ConversationalRetrievalChain?"
   ]
  },
  {
   "cell_type": "code",
   "execution_count": 14,
   "id": "5b862d17-9739-46b3-a40b-25d186e31b9f",
   "metadata": {},
   "outputs": [],
   "source": [
    "email = \"\"\"\n",
    "Subject: Enquiry for Supply of Firetrol Battery Charger AS-2001 | AL RAMIZ ",
    "Date: Thu, 30 Nov 2023 15:50:44 +0400\n",
    "From: Ramees Khan | AREC <ramees@arecuae.com>\n",
    "To: info@famaga.ae Dear Sir/Ma’am,\n",
    "We’re currently enquiring for Supply of Firetrol Battery Charger AS-2001 (Type 3AB LL-1580) Qty: 01 No.\n",
    "Please quote your best discounted prices and availability.\n",
    "I have attached a picture below for your reference. ",
    " ",
    "Thanking you.\n",
    "Best Regards,\n",
    "RAMEES KHAN\n",
    "General Manager\n",
    "M: +971-52-6927466 | E: ramees@arecuae.com\n",
    "AL RAMIZ ELECT. CONT. LLC\n",
    "A: Industrial Area 17, Sharjah - United Arab Emirates\n",
    "A: P.O Box: 96286, Sharjah\n",
    "T: +971-6-5356891\n",
    "E: info@arecuae.com | W: www.arecuae.com\n",
    " ",
    "Transformers/Maintenance, Erection & Testing | Rewinding – Transformers, Motors & Generators | Cables – Laying, Termination, Testing – HT & LT | Distribution Boards – MDB, SMDB, DB | Generator Alternator – Repair & Maintenance, Bus Bar Modification & Testing | MV, LV Electrical Panel – Installation & Testing | Hiring of all types of Testing Instruments – Oil Filter Plants, Oil Tanks, Vacuum Pumps, Crimping Tools & Generators.\n",
    "Disclaimer: This e-mail and any attachments may contain confidential and privileged information. If you are not the intended recipient, please notify the sender immediately by return e-mail, delete this e-mail and destroy any copies. Any dissemination or use of this information by a person other than the intended recipient is unauthorized and may be illegal.\n",
    "\"\"\""
   ]
  },
  {
   "cell_type": "code",
   "execution_count": 15,
   "id": "6a30a5a4-7c82-4358-a30d-0b4c81c293c3",
   "metadata": {},
   "outputs": [],
   "source": [
    "from langchain.embeddings.openai import OpenAIEmbeddings\n",
    "\n",
    "embeddings = OpenAIEmbeddings(model=\"text-embedding-ada-002\")\n",
    "# text = \"This is a test query.\"\n",
    "# query_result = embeddings.embed_query(text)\n"
   ]
  },
  {
   "cell_type": "code",
   "execution_count": 17,
   "id": "e226dae8-6cb7-4f87-aedc-8d1cb363c019",
   "metadata": {},
   "outputs": [],
   "source": [
    "chroma = Chroma(collection_name='sales_agent', persist_directory='./data/chroma', embedding_function=embeddings)"
   ]
  },
  {
   "cell_type": "code",
   "execution_count": 39,
   "id": "f85139c9-5820-487a-9b91-d9e40339d677",
   "metadata": {},
   "outputs": [],
   "source": [
    "from langchain.document_loaders import TextLoader\n",
    "\n",
    "loader = TextLoader(\"./emails.txt\", encoding=\"utf-8\")\n",
    "documents = loader.load()\n",
    "text_splitter = CharacterTextSplitter(chunk_size=1000, chunk_overlap=0)\n",
    "texts = text_splitter.split_documents(documents)\n",
    "for i, text in enumerate(texts):\n",
    "    text.metadata[\"source\"] = f\"{i}-pl\"\n",
    "embeddings = OpenAIEmbeddings()\n",
    "docsearch = Chroma.from_documents(texts, embeddings)"
   ]
  },
  {
   "cell_type": "code",
   "execution_count": 18,
   "id": "ba024781-e71d-42a0-80e1-d13b9e80150c",
   "metadata": {},
   "outputs": [],
   "source": [
    "fixed_resp = \"I don't know\"\n",
    "answer = \"I know the answer!\"\n",
    "\n",
    "llm = ChatOpenAI(model=\"gpt-4-1106-preview\", temperature=0)\n",
    "\n",
    "memory = ConversationBufferMemory(\n",
    "        k=1, output_key=\"answer\", memory_key=\"chat_history\", return_messages=True\n",
    ")\n",
    "   "
   ]
  },
  {
   "cell_type": "code",
   "execution_count": 32,
   "id": "fed23d72-d18f-47fd-9c5a-02245ba75466",
   "metadata": {},
   "outputs": [],
   "source": [
    "_template = \"\"\"Given the following conversation and a follow up question, rephrase the follow up question to be a standalone question, in its original language.\\\n",
    "Make sure to avoid using any unclear pronouns.\n",
    "\n",
    "Chat History:\n",
    "{chat_history}\n",
    "Follow Up Input: {question}\n",
    "Standalone question:\"\"\"\n",
    "CONDENSE_QUESTION_PROMPT = PromptTemplate.from_template(_template)\n",
    "condense_question_chain = LLMChain(\n",
    "    llm=llm,\n",
    "    prompt=CONDENSE_QUESTION_PROMPT,\n",
    ")"
   ]
  },
  {
   "cell_type": "code",
   "execution_count": 40,
   "id": "4e28a159-f55d-4dde-9d57-ebe68cfbd63f",
   "metadata": {},
   "outputs": [],
   "source": [
    "qa_chain = ConversationalRetrievalChain.from_llm(\n",
    "        llm=llm,\n",
    "        memory=memory,\n",
    "        retriever=docsearch.as_retriever(),\n",
    "        # condense_question_prompt=CONDENSE_QUESTION_PROMPT,\n",
    "        # question_generator=condense_question_chain,\n",
    "        # return_source_documents=True,\n",
    "        # rephrase_question=False,\n",
    "        # response_if_no_docs_found=fixed_resp,\n",
    "        verbose=True,\n",
    "    )\n",
    "    # got = await qa_chain.acall(\"What is the answer?\")\n",
    "    # assert got[\"chat_history\"][1].content == fixed_resp\n",
    "    # assert got[\"answer\"] == fixed_resp\n"
   ]
  },
  {
   "cell_type": "code",
   "execution_count": 21,
   "id": "6c0eaada-5a89-42e1-9989-04da2b62ae35",
   "metadata": {},
   "outputs": [
    {
     "name": "stdout",
     "output_type": "stream",
     "text": [
      "\n",
      "\n",
      "\u001b[1m> Entering new StuffDocumentsChain chain...\u001b[0m\n",
      "\n",
      "\n",
      "\u001b[1m> Entering new LLMChain chain...\u001b[0m\n",
      "Prompt after formatting:\n",
      "\u001b[32;1m\u001b[1;3mSystem: Use the following pieces of context to answer the user's question. \n",
      "If you don't know the answer, just say that you don't know, don't try to make up an answer.\n",
      "----------------\n",
      "\n",
      "Human: Rumember this email: \n",
      "Subject: Enquiry for Supply of Firetrol Battery Charger AS-2001 | AL RAMIZ ",
      "Date: Thu, 30 Nov 2023 15:50:44 +0400\n",
      "From: Ramees Khan | AREC <ramees@arecuae.com>\n",
      "To: info@famaga.ae Dear Sir/Ma’am,\n",
      "We’re currently enquiring for Supply of Firetrol Battery Charger AS-2001 (Type 3AB LL-1580) Qty: 01 No.\n",
      "Please quote your best discounted prices and availability.\n",
      "I have attached a picture below for your reference. ",
      " ",
      "Thanking you.\n",
      "Best Regards,\n",
      "RAMEES KHAN\n",
      "General Manager\n",
      "M: +971-52-6927466 | E: ramees@arecuae.com\n",
      "AL RAMIZ ELECT. CONT. LLC\n",
      "A: Industrial Area 17, Sharjah - United Arab Emirates\n",
      "A: P.O Box: 96286, Sharjah\n",
      "T: +971-6-5356891\n",
      "E: info@arecuae.com | W: www.arecuae.com\n",
      " ",
      "Transformers/Maintenance, Erection & Testing | Rewinding – Transformers, Motors & Generators | Cables – Laying, Termination, Testing – HT & LT | Distribution Boards – MDB, SMDB, DB | Generator Alternator – Repair & Maintenance, Bus Bar Modification & Testing | MV, LV Electrical Panel – Installation & Testing | Hiring of all types of Testing Instruments – Oil Filter Plants, Oil Tanks, Vacuum Pumps, Crimping Tools & Generators.\n",
      "Disclaimer: This e-mail and any attachments may contain confidential and privileged information. If you are not the intended recipient, please notify the sender immediately by return e-mail, delete this e-mail and destroy any copies. Any dissemination or use of this information by a person other than the intended recipient is unauthorized and may be illegal.\n",
      " and answer REMEMBERED.\u001b[0m\n",
      "\n",
      "\u001b[1m> Finished chain.\u001b[0m\n",
      "\n",
      "\u001b[1m> Finished chain.\u001b[0m\n"
     ]
    },
    {
     "data": {
      "text/plain": [
       "'REMEMBERED.'"
      ]
     },
     "execution_count": 21,
     "metadata": {},
     "output_type": "execute_result"
    }
   ],
   "source": [
    "got = await qa_chain.acall(f\"Rumember this email: {email} and answer REMEMBERED.\")\n",
    "got['answer']"
   ]
  },
  {
   "cell_type": "code",
   "execution_count": 26,
   "id": "adfed4bc-77b7-4a9f-919a-072e709070c9",
   "metadata": {},
   "outputs": [],
   "source": [
    "import langchain\n",
    "langchain.debug = True"
   ]
  },
  {
   "cell_type": "code",
   "execution_count": 41,
   "id": "c68a6070-f78b-470a-a60e-728f631275cc",
   "metadata": {},
   "outputs": [
    {
     "name": "stdout",
     "output_type": "stream",
     "text": [
      "\u001b[32;1m\u001b[1;3m[chain/start]\u001b[0m \u001b[1m[1:chain:ConversationalRetrievalChain] Entering Chain run with input:\n",
      "\u001b[0m[inputs]\n",
      "\u001b[32;1m\u001b[1;3m[chain/start]\u001b[0m \u001b[1m[1:chain:ConversationalRetrievalChain > 2:chain:LLMChain] Entering Chain run with input:\n",
      "\u001b[0m{\n",
      "  \"question\": \"Get subject from email.\",\n",
      "  \"chat_history\": \"\\nHuman: Rumember this email: \\nSubject: Enquiry for Supply of Firetrol Battery Charger AS-2001 | AL RAMIZ ",
      "Date: Thu, 30 Nov 2023 15:50:44 +0400\\nFrom: Ramees Khan | AREC <ramees@arecuae.com>\\nTo: info@famaga.ae Dear Sir/Ma’am,\\nWe’re currently enquiring for Supply of Firetrol Battery Charger AS-2001 (Type 3AB LL-1580) Qty: 01 No.\\nPlease quote your best discounted prices and availability.\\nI have attached a picture below for your reference. ",
      " ",
      "Thanking you.\\nBest Regards,\\nRAMEES KHAN\\nGeneral Manager\\nM: +971-52-6927466 | E: ramees@arecuae.com\\nAL RAMIZ ELECT. CONT. LLC\\nA: Industrial Area 17, Sharjah - United Arab Emirates\\nA: P.O Box: 96286, Sharjah\\nT: +971-6-5356891\\nE: info@arecuae.com | W: www.arecuae.com\\n ",
      "Transformers/Maintenance, Erection & Testing | Rewinding – Transformers, Motors & Generators | Cables – Laying, Termination, Testing – HT & LT | Distribution Boards – MDB, SMDB, DB | Generator Alternator – Repair & Maintenance, Bus Bar Modification & Testing | MV, LV Electrical Panel – Installation & Testing | Hiring of all types of Testing Instruments – Oil Filter Plants, Oil Tanks, Vacuum Pumps, Crimping Tools & Generators.\\nDisclaimer: This e-mail and any attachments may contain confidential and privileged information. If you are not the intended recipient, please notify the sender immediately by return e-mail, delete this e-mail and destroy any copies. Any dissemination or use of this information by a person other than the intended recipient is unauthorized and may be illegal.\\n and answer REMEMBERED.\\nAssistant: REMEMBERED.\\nHuman: Get subject from document.\\nAssistant: I'm sorry, but you haven't provided a document for me to reference. If you can provide the document or the subject line of the email you're referring to, I'd be happy to help you with your question.\\nHuman: Get subject from document.\\nAssistant: I'm sorry, but as an AI, I don't have access to previous conversations or the ability to recall past interactions. Each session with me doesn't retain any memory of past exchanges. If you need help with crafting a subject line or have any other questions, feel free to ask!\\nHuman: Get subject from document.\\nAssistant: I'm sorry, but you haven't provided any details about a conversation or an email. Without additional context or information, I cannot determine the subject line of the email you're referring to. If you can provide more details, I'd be happy to help.\\nHuman: Get subject from document.\\nAssistant: I'm sorry, but as an AI, I don't have access to previous conversations or any external data such as emails. If you can provide the subject line or any other details, I'd be happy to help you with any questions or topics related to that information.\"\n",
      "}\n",
      "\u001b[32;1m\u001b[1;3m[llm/start]\u001b[0m \u001b[1m[1:chain:ConversationalRetrievalChain > 2:chain:LLMChain > 3:llm:ChatOpenAI] Entering LLM run with input:\n",
      "\u001b[0m{\n",
      "  \"prompts\": [\n",
      "    \"Human: Given the following conversation and a follow up question, rephrase the follow up question to be a standalone question, in its original language.\\n\\nChat History:\\n\\nHuman: Rumember this email: \\nSubject: Enquiry for Supply of Firetrol Battery Charger AS-2001 | AL RAMIZ ",
      "Date: Thu, 30 Nov 2023 15:50:44 +0400\\nFrom: Ramees Khan | AREC <ramees@arecuae.com>\\nTo: info@famaga.ae Dear Sir/Ma’am,\\nWe’re currently enquiring for Supply of Firetrol Battery Charger AS-2001 (Type 3AB LL-1580) Qty: 01 No.\\nPlease quote your best discounted prices and availability.\\nI have attached a picture below for your reference. ",
      " ",
      "Thanking you.\\nBest Regards,\\nRAMEES KHAN\\nGeneral Manager\\nM: +971-52-6927466 | E: ramees@arecuae.com\\nAL RAMIZ ELECT. CONT. LLC\\nA: Industrial Area 17, Sharjah - United Arab Emirates\\nA: P.O Box: 96286, Sharjah\\nT: +971-6-5356891\\nE: info@arecuae.com | W: www.arecuae.com\\n ",
      "Transformers/Maintenance, Erection & Testing | Rewinding – Transformers, Motors & Generators | Cables – Laying, Termination, Testing – HT & LT | Distribution Boards – MDB, SMDB, DB | Generator Alternator – Repair & Maintenance, Bus Bar Modification & Testing | MV, LV Electrical Panel – Installation & Testing | Hiring of all types of Testing Instruments – Oil Filter Plants, Oil Tanks, Vacuum Pumps, Crimping Tools & Generators.\\nDisclaimer: This e-mail and any attachments may contain confidential and privileged information. If you are not the intended recipient, please notify the sender immediately by return e-mail, delete this e-mail and destroy any copies. Any dissemination or use of this information by a person other than the intended recipient is unauthorized and may be illegal.\\n and answer REMEMBERED.\\nAssistant: REMEMBERED.\\nHuman: Get subject from document.\\nAssistant: I'm sorry, but you haven't provided a document for me to reference. If you can provide the document or the subject line of the email you're referring to, I'd be happy to help you with your question.\\nHuman: Get subject from document.\\nAssistant: I'm sorry, but as an AI, I don't have access to previous conversations or the ability to recall past interactions. Each session with me doesn't retain any memory of past exchanges. If you need help with crafting a subject line or have any other questions, feel free to ask!\\nHuman: Get subject from document.\\nAssistant: I'm sorry, but you haven't provided any details about a conversation or an email. Without additional context or information, I cannot determine the subject line of the email you're referring to. If you can provide more details, I'd be happy to help.\\nHuman: Get subject from document.\\nAssistant: I'm sorry, but as an AI, I don't have access to previous conversations or any external data such as emails. If you can provide the subject line or any other details, I'd be happy to help you with any questions or topics related to that information.\\nFollow Up Input: Get subject from email.\\nStandalone question:\"\n",
      "  ]\n",
      "}\n",
      "\u001b[36;1m\u001b[1;3m[llm/end]\u001b[0m \u001b[1m[1:chain:ConversationalRetrievalChain > 2:chain:LLMChain > 3:llm:ChatOpenAI] [11.20s] Exiting LLM run with output:\n",
      "\u001b[0m{\n",
      "  \"generations\": [\n",
      "    [\n",
      "      {\n",
      "        \"text\": \"What is the subject line of the email from Ramees Khan of AREC?\",\n",
      "        \"generation_info\": {\n",
      "          \"finish_reason\": \"stop\"\n",
      "        },\n",
      "        \"type\": \"ChatGeneration\",\n",
      "        \"message\": {\n",
      "          \"lc\": 1,\n",
      "          \"type\": \"constructor\",\n",
      "          \"id\": [\n",
      "            \"langchain_core\",\n",
      "            \"messages\",\n",
      "            \"ai\",\n",
      "            \"AIMessage\"\n",
      "          ],\n",
      "          \"kwargs\": {\n",
      "            \"content\": \"What is the subject line of the email from Ramees Khan of AREC?\",\n",
      "            \"additional_kwargs\": {}\n",
      "          }\n",
      "        }\n",
      "      }\n",
      "    ]\n",
      "  ],\n",
      "  \"llm_output\": {\n",
      "    \"token_usage\": {\n",
      "      \"completion_tokens\": 17,\n",
      "      \"prompt_tokens\": 710,\n",
      "      \"total_tokens\": 727\n",
      "    },\n",
      "    \"model_name\": \"gpt-4-1106-preview\",\n",
      "    \"system_fingerprint\": \"fp_3905aa4f79\"\n",
      "  },\n",
      "  \"run\": null\n",
      "}\n",
      "\u001b[36;1m\u001b[1;3m[chain/end]\u001b[0m \u001b[1m[1:chain:ConversationalRetrievalChain > 2:chain:LLMChain] [11.21s] Exiting Chain run with output:\n",
      "\u001b[0m{\n",
      "  \"text\": \"What is the subject line of the email from Ramees Khan of AREC?\"\n",
      "}\n"
     ]
    },
    {
     "name": "stderr",
     "output_type": "stream",
     "text": [
      "Number of requested results 4 is greater than number of elements in index 1, updating n_results = 1\n"
     ]
    },
    {
     "name": "stdout",
     "output_type": "stream",
     "text": [
      "\u001b[32;1m\u001b[1;3m[chain/start]\u001b[0m \u001b[1m[1:chain:ConversationalRetrievalChain > 5:chain:StuffDocumentsChain] Entering Chain run with input:\n",
      "\u001b[0m[inputs]\n",
      "\u001b[32;1m\u001b[1;3m[chain/start]\u001b[0m \u001b[1m[1:chain:ConversationalRetrievalChain > 5:chain:StuffDocumentsChain > 6:chain:LLMChain] Entering Chain run with input:\n",
      "\u001b[0m{\n",
      "  \"question\": \"What is the subject line of the email from Ramees Khan of AREC?\",\n",
      "  \"context\": \"Subject: Enquiry for Supply of Firetrol Battery Charger AS-2001 | AL RAMIZ ",
      "Date: Thu, 30 Nov 2023 15:50:44 +0400\\nFrom: Ramees Khan | AREC <ramees@arecuae.com>\\nTo: info@famaga.ae Dear Sir/Ma’am,\\nWe’re currently enquiring for Supply of Firetrol Battery Charger AS-2001 (Type 3AB LL-1580) Qty: 01 No.\\nPlease quote your best discounted prices and availability.\\nI have attached a picture below for your reference. ",
      " ",
      "Thanking you.\\nBest Regards,\\nRAMEES KHAN\\nGeneral Manager\\nM: +971-52-6927466 | E: ramees@arecuae.com\\nAL RAMIZ ELECT. CONT. LLC\\nA: Industrial Area 17, Sharjah - United Arab Emirates\\nA: P.O Box: 96286, Sharjah\\nT: +971-6-5356891\\nE: info@arecuae.com | W: www.arecuae.com\\n ",
      "Transformers/Maintenance, Erection & Testing | Rewinding – Transformers, Motors & Generators | Cables – Laying, Termination, Testing – HT & LT | Distribution Boards – MDB, SMDB, DB | Generator Alternator – Repair & Maintenance, Bus Bar Modification & Testing | MV, LV Electrical Panel – Installation & Testing | Hiring of all types of Testing Instruments – Oil Filter Plants, Oil Tanks, Vacuum Pumps, Crimping Tools & Generators.\\nDisclaimer: This e-mail and any attachments may contain confidential and privileged information. If you are not the intended recipient, please notify the sender immediately by return e-mail, delete this e-mail and destroy any copies. Any dissemination or use of this information by a person other than the intended recipient is unauthorized and may be illegal.\"\n",
      "}\n",
      "\u001b[32;1m\u001b[1;3m[llm/start]\u001b[0m \u001b[1m[1:chain:ConversationalRetrievalChain > 5:chain:StuffDocumentsChain > 6:chain:LLMChain > 7:llm:ChatOpenAI] Entering LLM run with input:\n",
      "\u001b[0m{\n",
      "  \"prompts\": [\n",
      "    \"System: Use the following pieces of context to answer the user's question. \\nIf you don't know the answer, just say that you don't know, don't try to make up an answer.\\n----------------\\nSubject: Enquiry for Supply of Firetrol Battery Charger AS-2001 | AL RAMIZ ",
      "Date: Thu, 30 Nov 2023 15:50:44 +0400\\nFrom: Ramees Khan | AREC <ramees@arecuae.com>\\nTo: info@famaga.ae Dear Sir/Ma’am,\\nWe’re currently enquiring for Supply of Firetrol Battery Charger AS-2001 (Type 3AB LL-1580) Qty: 01 No.\\nPlease quote your best discounted prices and availability.\\nI have attached a picture below for your reference. ",
      " ",
      "Thanking you.\\nBest Regards,\\nRAMEES KHAN\\nGeneral Manager\\nM: +971-52-6927466 | E: ramees@arecuae.com\\nAL RAMIZ ELECT. CONT. LLC\\nA: Industrial Area 17, Sharjah - United Arab Emirates\\nA: P.O Box: 96286, Sharjah\\nT: +971-6-5356891\\nE: info@arecuae.com | W: www.arecuae.com\\n ",
      "Transformers/Maintenance, Erection & Testing | Rewinding – Transformers, Motors & Generators | Cables – Laying, Termination, Testing – HT & LT | Distribution Boards – MDB, SMDB, DB | Generator Alternator – Repair & Maintenance, Bus Bar Modification & Testing | MV, LV Electrical Panel – Installation & Testing | Hiring of all types of Testing Instruments – Oil Filter Plants, Oil Tanks, Vacuum Pumps, Crimping Tools & Generators.\\nDisclaimer: This e-mail and any attachments may contain confidential and privileged information. If you are not the intended recipient, please notify the sender immediately by return e-mail, delete this e-mail and destroy any copies. Any dissemination or use of this information by a person other than the intended recipient is unauthorized and may be illegal.\\nHuman: What is the subject line of the email from Ramees Khan of AREC?\"\n",
      "  ]\n",
      "}\n",
      "\u001b[36;1m\u001b[1;3m[llm/end]\u001b[0m \u001b[1m[1:chain:ConversationalRetrievalChain > 5:chain:StuffDocumentsChain > 6:chain:LLMChain > 7:llm:ChatOpenAI] [10.15s] Exiting LLM run with output:\n",
      "\u001b[0m{\n",
      "  \"generations\": [\n",
      "    [\n",
      "      {\n",
      "        \"text\": \"The subject line of the email from Ramees Khan of AREC is \\\"Enquiry for Supply of Firetrol Battery Charger AS-2001 | AL RAMIZ\\\".\",\n",
      "        \"generation_info\": {\n",
      "          \"finish_reason\": \"stop\"\n",
      "        },\n",
      "        \"type\": \"ChatGeneration\",\n",
      "        \"message\": {\n",
      "          \"lc\": 1,\n",
      "          \"type\": \"constructor\",\n",
      "          \"id\": [\n",
      "            \"langchain_core\",\n",
      "            \"messages\",\n",
      "            \"ai\",\n",
      "            \"AIMessage\"\n",
      "          ],\n",
      "          \"kwargs\": {\n",
      "            \"content\": \"The subject line of the email from Ramees Khan of AREC is \\\"Enquiry for Supply of Firetrol Battery Charger AS-2001 | AL RAMIZ\\\".\",\n",
      "            \"additional_kwargs\": {}\n",
      "          }\n",
      "        }\n",
      "      }\n",
      "    ]\n",
      "  ],\n",
      "  \"llm_output\": {\n",
      "    \"token_usage\": {\n",
      "      \"completion_tokens\": 35,\n",
      "      \"prompt_tokens\": 464,\n",
      "      \"total_tokens\": 499\n",
      "    },\n",
      "    \"model_name\": \"gpt-4-1106-preview\",\n",
      "    \"system_fingerprint\": \"fp_3905aa4f79\"\n",
      "  },\n",
      "  \"run\": null\n",
      "}\n",
      "\u001b[36;1m\u001b[1;3m[chain/end]\u001b[0m \u001b[1m[1:chain:ConversationalRetrievalChain > 5:chain:StuffDocumentsChain > 6:chain:LLMChain] [10.16s] Exiting Chain run with output:\n",
      "\u001b[0m{\n",
      "  \"text\": \"The subject line of the email from Ramees Khan of AREC is \\\"Enquiry for Supply of Firetrol Battery Charger AS-2001 | AL RAMIZ\\\".\"\n",
      "}\n",
      "\u001b[36;1m\u001b[1;3m[chain/end]\u001b[0m \u001b[1m[1:chain:ConversationalRetrievalChain > 5:chain:StuffDocumentsChain] [10.16s] Exiting Chain run with output:\n",
      "\u001b[0m{\n",
      "  \"output_text\": \"The subject line of the email from Ramees Khan of AREC is \\\"Enquiry for Supply of Firetrol Battery Charger AS-2001 | AL RAMIZ\\\".\"\n",
      "}\n",
      "\u001b[36;1m\u001b[1;3m[chain/end]\u001b[0m \u001b[1m[1:chain:ConversationalRetrievalChain] [30.24s] Exiting Chain run with output:\n",
      "\u001b[0m{\n",
      "  \"answer\": \"The subject line of the email from Ramees Khan of AREC is \\\"Enquiry for Supply of Firetrol Battery Charger AS-2001 | AL RAMIZ\\\".\"\n",
      "}\n"
     ]
    },
    {
     "data": {
      "text/plain": [
       "'The subject line of the email from Ramees Khan of AREC is \"Enquiry for Supply of Firetrol Battery Charger AS-2001 | AL RAMIZ\".'"
      ]
     },
     "execution_count": 41,
     "metadata": {},
     "output_type": "execute_result"
    }
   ],
   "source": [
    "got = await qa_chain.acall({ 'question': 'Get subject from email.'})\n",
    "got['answer']"
   ]
  },
  {
   "cell_type": "code",
   "execution_count": null,
   "id": "b5710def-ef42-4cc1-b00a-0cd9d76996b3",
   "metadata": {},
   "outputs": [],
   "source": [
    "from langchain.chains import (\n",
    "                StuffDocumentsChain, LLMChain, ConversationalRetrievalChain\n",
    "            )\n",
    "from langchain_core.prompts import PromptTemplate\n",
    "from langchain_community.llms import OpenAI\n",
    "\n",
    "            combine_docs_chain = StuffDocumentsChain(...)\n",
    "            vectorstore = ...\n",
    "            retriever = vectorstore.as_retriever()\n",
    "\n",
    "            # This controls how the standalone question is generated.\n",
    "            # Should take `chat_history` and `question` as input variables.\n",
    "            template = (\n",
    "                \"Combine the chat history and follow up question into \"\n",
    "                \"a standalone question. Chat History: {chat_history}\"\n",
    "                \"Follow up question: {question}\"\n",
    "            )\n",
    "            prompt = PromptTemplate.from_template(template)\n",
    "            llm = OpenAI()\n",
    "            question_generator_chain = LLMChain(llm=llm, prompt=prompt)\n",
    "            chain = ConversationalRetrievalChain(\n",
    "                combine_docs_chain=combine_docs_chain,\n",
    "                retriever=retriever,\n",
    "                question_generator=question_generator_chain,\n",
    "            )\n"
   ]
  },
  {
   "cell_type": "code",
   "execution_count": null,
   "id": "6f87ebaf-9e40-45aa-a26d-76eefe255834",
   "metadata": {},
   "outputs": [],
   "source": [
    "def _get_chat_history(chat_history: List[CHAT_TURN_TYPE]) -> str:\n",
    "    buffer = \"\"\n",
    "    for dialogue_turn in chat_history:\n",
    "        if isinstance(dialogue_turn, BaseMessage):\n",
    "            role_prefix = _ROLE_MAP.get(dialogue_turn.type, f\"{dialogue_turn.type}: \")\n",
    "            buffer += f\"\\n{role_prefix}{dialogue_turn.content}\"\n",
    "        elif isinstance(dialogue_turn, tuple):\n",
    "            human = \"Human: \" + dialogue_turn[0]\n",
    "            ai = \"Assistant: \" + dialogue_turn[1]\n",
    "            buffer += \"\\n\" + \"\\n\".join([human, ai])\n",
    "        else:\n",
    "            raise ValueError(\n",
    "                f\"Unsupported chat history format: {type(dialogue_turn)}.\"\n",
    "                f\" Full chat history: {chat_history} \"\n",
    "            )\n",
    "    return buffer\n"
   ]
  },
  {
   "cell_type": "markdown",
   "id": "b4f0f6d4-5785-4141-ba12-0771b807b387",
   "metadata": {},
   "source": [
    "#\n",
    "\n",
    "* чтобы получить историю чата, нужно получить "
   ]
  },
  {
   "cell_type": "code",
   "execution_count": 46,
   "id": "745edf2c-7980-4917-969f-8d92863c379b",
   "metadata": {},
   "outputs": [],
   "source": [
    "llm = ChatOpenAI(model=\"gpt-4-1106-preview\", temperature=0)"
   ]
  },
  {
   "cell_type": "code",
   "execution_count": null,
   "id": "a742b3f6-905e-4f50-b6bc-6a4e8b82c327",
   "metadata": {},
   "outputs": [],
   "source": [
    "memory = ConversationBufferMemory(\n",
    "    k=1, output_key=\"answer\", memory_key=\"chat_history\", return_messages=True\n",
    ")"
   ]
  },
  {
   "cell_type": "code",
   "execution_count": 67,
   "id": "51c43543-11c3-4b75-a7b6-ad7c48f493a5",
   "metadata": {},
   "outputs": [],
   "source": [
    "inputs = {\n",
    " 'question': 'What about email message?'   \n",
    "}"
   ]
  },
  {
   "cell_type": "code",
   "execution_count": 45,
   "id": "038b4614-d8fd-4069-bfca-47e6af766b5a",
   "metadata": {},
   "outputs": [],
   "source": [
    "from langchain.chains import StuffDocumentsChain\n",
    "\n",
    "\n",
    "prompt_template = \"\"\"Use the following pieces of context to answer the question at the end. If you don't know the answer, just say that you don't know, don't try to make up an answer.\n",
    "\n",
    "{context}\n",
    "\n",
    "Question: {question}\n",
    "Helpful Answer:\"\"\"\n",
    "PROMPT = PromptTemplate(\n",
    "    template=prompt_template, input_variables=[\"context\", \"question\"]\n",
    ")\n",
    "\n",
    "llm_chain = LLMChain(\n",
    "        llm=llm, prompt=PROMPT, verbose=True\n",
    ")\n",
    "stuff_documents_chain = StuffDocumentsChain(\n",
    "        llm_chain=llm_chain,\n",
    "        document_variable_name='context',\n",
    "        verbose=True\n",
    "    )\n"
   ]
  },
  {
   "cell_type": "markdown",
   "id": "5921e924-a768-4b9b-b982-2c7c1e031b3f",
   "metadata": {},
   "source": [
    "### Condense"
   ]
  },
  {
   "cell_type": "code",
   "execution_count": 47,
   "id": "0f4b012a-3853-4660-a519-a3493b7cb988",
   "metadata": {},
   "outputs": [],
   "source": [
    "_template = \"\"\"Given the following conversation and a follow up question, rephrase the follow up question to be a standalone question, in its original language.\n",
    "\n",
    "Chat History:\n",
    "{chat_history}\n",
    "Follow Up Input: {question}\n",
    "Standalone question:\"\"\"\n",
    "CONDENSE_QUESTION_PROMPT = PromptTemplate.from_template(_template)\n",
    "\n",
    "condense_question_chain = LLMChain(\n",
    "    llm=llm,\n",
    "    prompt=CONDENSE_QUESTION_PROMPT,\n",
    "    verbose=True        \n",
    ")\n"
   ]
  },
  {
   "cell_type": "code",
   "execution_count": 71,
   "id": "3cf71a97-261f-47a2-b58b-c0e746fcedc8",
   "metadata": {},
   "outputs": [],
   "source": [
    "from langchain_core.messages import BaseMessage\n",
    "\n",
    "\n",
    "_ROLE_MAP = {\"human\": \"Human: \", \"ai\": \"Assistant: \"}\n",
    "\n",
    "\n",
    "def _get_chat_history(chat_history: list) -> str:\n",
    "    buffer = \"\"\n",
    "    for dialogue_turn in chat_history:\n",
    "        if isinstance(dialogue_turn, BaseMessage):\n",
    "            role_prefix = _ROLE_MAP.get(dialogue_turn.type, f\"{dialogue_turn.type}: \")\n",
    "            buffer += f\"\\n{role_prefix}{dialogue_turn.content}\"\n",
    "        elif isinstance(dialogue_turn, tuple):\n",
    "            human = \"Human: \" + dialogue_turn[0]\n",
    "            ai = \"Assistant: \" + dialogue_turn[1]\n",
    "            buffer += \"\\n\" + \"\\n\".join([human, ai])\n",
    "        else:\n",
    "            raise ValueError(\n",
    "                f\"Unsupported chat history format: {type(dialogue_turn)}.\"\n",
    "                f\" Full chat history: {chat_history} \"\n",
    "            )\n",
    "    return buffer\n",
    "\n"
   ]
  },
  {
   "cell_type": "code",
   "execution_count": 49,
   "id": "b9f77416-bb54-4bf8-985e-5b243f5e3a60",
   "metadata": {},
   "outputs": [
    {
     "data": {
      "text/plain": [
       "['chat_history']"
      ]
     },
     "execution_count": 49,
     "metadata": {},
     "output_type": "execute_result"
    }
   ],
   "source": [
    "memory.memory_variables"
   ]
  },
  {
   "cell_type": "code",
   "execution_count": 58,
   "id": "f75574fa-cc68-4055-bc2a-e9d1e2dbba19",
   "metadata": {},
   "outputs": [],
   "source": [
    "input_keys = [\"question\", \"chat_history\"]\n"
   ]
  },
  {
   "cell_type": "code",
   "execution_count": 62,
   "id": "3b02ae27-ffb4-469a-a8f3-9b535c3d4854",
   "metadata": {},
   "outputs": [
    {
     "data": {
      "text/plain": [
       "{'question'}"
      ]
     },
     "execution_count": 62,
     "metadata": {},
     "output_type": "execute_result"
    }
   ],
   "source": [
    "set(['question']).difference(['chat_history'])"
   ]
  },
  {
   "cell_type": "code",
   "execution_count": 69,
   "id": "bbec8084-0b2f-42a6-b158-bc7f9f989557",
   "metadata": {},
   "outputs": [
    {
     "data": {
      "text/plain": [
       "{'question': 'What about email message?',\n",
       " 'chat_history': [HumanMessage(content='Rumember this email: \\nSubject: Enquiry for Supply of Firetrol Battery Charger AS-2001 | AL RAMIZ\\u2028Date: Thu, 30 Nov 2023 15:50:44 +0400\\nFrom: Ramees Khan | AREC <ramees@arecuae.com>\\nTo: info@famaga.ae Dear Sir/Ma’am,\\nWe’re currently enquiring for Supply of Firetrol Battery Charger AS-2001 (Type 3AB LL-1580) Qty: 01 No.\\nPlease quote your best discounted prices and availability.\\nI have attached a picture below for your reference.\\u2028\\u2028Thanking you.\\nBest Regards,\\nRAMEES KHAN\\nGeneral Manager\\nM: +971-52-6927466 | E: ramees@arecuae.com\\nAL RAMIZ ELECT. CONT. LLC\\nA: Industrial Area 17, Sharjah - United Arab Emirates\\nA: P.O Box: 96286, Sharjah\\nT: +971-6-5356891\\nE: info@arecuae.com | W: www.arecuae.com\\n\\u2028Transformers/Maintenance, Erection & Testing | Rewinding – Transformers, Motors & Generators | Cables – Laying, Termination, Testing – HT & LT | Distribution Boards – MDB, SMDB, DB | Generator Alternator – Repair & Maintenance, Bus Bar Modification & Testing | MV, LV Electrical Panel – Installation & Testing | Hiring of all types of Testing Instruments – Oil Filter Plants, Oil Tanks, Vacuum Pumps, Crimping Tools & Generators.\\nDisclaimer: This e-mail and any attachments may contain confidential and privileged information. If you are not the intended recipient, please notify the sender immediately by return e-mail, delete this e-mail and destroy any copies. Any dissemination or use of this information by a person other than the intended recipient is unauthorized and may be illegal.\\n and answer REMEMBERED.'),\n",
       "  AIMessage(content='REMEMBERED.'),\n",
       "  HumanMessage(content='Get subject from document.'),\n",
       "  AIMessage(content=\"I'm sorry, but you haven't provided a document for me to reference. If you can provide the document or the subject line of the email you're referring to, I'd be happy to help you with your question.\"),\n",
       "  HumanMessage(content='Get subject from document.'),\n",
       "  AIMessage(content=\"I'm sorry, but as an AI, I don't have access to previous conversations or the ability to recall past interactions. Each session with me doesn't retain any memory of past exchanges. If you need help with crafting a subject line or have any other questions, feel free to ask!\"),\n",
       "  HumanMessage(content='Get subject from document.'),\n",
       "  AIMessage(content=\"I'm sorry, but you haven't provided any details about a conversation or an email. Without additional context or information, I cannot determine the subject line of the email you're referring to. If you can provide more details, I'd be happy to help.\"),\n",
       "  HumanMessage(content='Get subject from document.'),\n",
       "  AIMessage(content=\"I'm sorry, but as an AI, I don't have access to previous conversations or any external data such as emails. If you can provide the subject line or any other details, I'd be happy to help you with any questions or topics related to that information.\"),\n",
       "  HumanMessage(content='Get subject from email.'),\n",
       "  AIMessage(content='The subject line of the email from Ramees Khan of AREC is \"Enquiry for Supply of Firetrol Battery Charger AS-2001 | AL RAMIZ\".')]}"
      ]
     },
     "execution_count": 69,
     "metadata": {},
     "output_type": "execute_result"
    }
   ],
   "source": [
    "if not isinstance(inputs, dict):\n",
    "    _input_keys = set(input_keys)\n",
    "    if memory is not None:\n",
    "        _input_keys = _input_keys.difference(memory.memory_variables)\n",
    "        if len(_input_keys) != 1:\n",
    "            raise ValueError(\n",
    "                    f\"A single string input was passed in, but this chain expects \"\n",
    "                    f\"multiple inputs ({_input_keys}). When a chain expects \"\n",
    "                    f\"multiple inputs, please call it by passing in a dictionary, \"\n",
    "                    \"eg `chain({'foo': 1, 'bar': 2})`\"\n",
    "                )\n",
    "        inputs = {list(_input_keys)[0]: inputs}\n",
    "if memory is not None:\n",
    "    external_context = memory.load_memory_variables(inputs)\n",
    "    inputs = dict(inputs, **external_context)\n",
    "\n",
    "inputs"
   ]
  },
  {
   "cell_type": "code",
   "execution_count": null,
   "id": "f59bbf80-ab4c-4038-9b1b-2f13e9c0ccea",
   "metadata": {},
   "outputs": [],
   "source": [
    "print(_get_chat_history(inputs['chat_history']))"
   ]
  },
  {
   "cell_type": "code",
   "execution_count": 68,
   "id": "eeeefa8d-f8d6-48ca-86b8-27e6bf950988",
   "metadata": {},
   "outputs": [
    {
     "data": {
      "text/plain": [
       "{'chat_history': [HumanMessage(content='Rumember this email: \\nSubject: Enquiry for Supply of Firetrol Battery Charger AS-2001 | AL RAMIZ\\u2028Date: Thu, 30 Nov 2023 15:50:44 +0400\\nFrom: Ramees Khan | AREC <ramees@arecuae.com>\\nTo: info@famaga.ae Dear Sir/Ma’am,\\nWe’re currently enquiring for Supply of Firetrol Battery Charger AS-2001 (Type 3AB LL-1580) Qty: 01 No.\\nPlease quote your best discounted prices and availability.\\nI have attached a picture below for your reference.\\u2028\\u2028Thanking you.\\nBest Regards,\\nRAMEES KHAN\\nGeneral Manager\\nM: +971-52-6927466 | E: ramees@arecuae.com\\nAL RAMIZ ELECT. CONT. LLC\\nA: Industrial Area 17, Sharjah - United Arab Emirates\\nA: P.O Box: 96286, Sharjah\\nT: +971-6-5356891\\nE: info@arecuae.com | W: www.arecuae.com\\n\\u2028Transformers/Maintenance, Erection & Testing | Rewinding – Transformers, Motors & Generators | Cables – Laying, Termination, Testing – HT & LT | Distribution Boards – MDB, SMDB, DB | Generator Alternator – Repair & Maintenance, Bus Bar Modification & Testing | MV, LV Electrical Panel – Installation & Testing | Hiring of all types of Testing Instruments – Oil Filter Plants, Oil Tanks, Vacuum Pumps, Crimping Tools & Generators.\\nDisclaimer: This e-mail and any attachments may contain confidential and privileged information. If you are not the intended recipient, please notify the sender immediately by return e-mail, delete this e-mail and destroy any copies. Any dissemination or use of this information by a person other than the intended recipient is unauthorized and may be illegal.\\n and answer REMEMBERED.'),\n",
       "  AIMessage(content='REMEMBERED.'),\n",
       "  HumanMessage(content='Get subject from document.'),\n",
       "  AIMessage(content=\"I'm sorry, but you haven't provided a document for me to reference. If you can provide the document or the subject line of the email you're referring to, I'd be happy to help you with your question.\"),\n",
       "  HumanMessage(content='Get subject from document.'),\n",
       "  AIMessage(content=\"I'm sorry, but as an AI, I don't have access to previous conversations or the ability to recall past interactions. Each session with me doesn't retain any memory of past exchanges. If you need help with crafting a subject line or have any other questions, feel free to ask!\"),\n",
       "  HumanMessage(content='Get subject from document.'),\n",
       "  AIMessage(content=\"I'm sorry, but you haven't provided any details about a conversation or an email. Without additional context or information, I cannot determine the subject line of the email you're referring to. If you can provide more details, I'd be happy to help.\"),\n",
       "  HumanMessage(content='Get subject from document.'),\n",
       "  AIMessage(content=\"I'm sorry, but as an AI, I don't have access to previous conversations or any external data such as emails. If you can provide the subject line or any other details, I'd be happy to help you with any questions or topics related to that information.\"),\n",
       "  HumanMessage(content='Get subject from email.'),\n",
       "  AIMessage(content='The subject line of the email from Ramees Khan of AREC is \"Enquiry for Supply of Firetrol Battery Charger AS-2001 | AL RAMIZ\".')]}"
      ]
     },
     "execution_count": 68,
     "metadata": {},
     "output_type": "execute_result"
    }
   ],
   "source": [
    "memory.load_memory_variables(inputs)"
   ]
  },
  {
   "cell_type": "code",
   "execution_count": null,
   "id": "c796886b-186b-4e16-94c8-0bae03aa5372",
   "metadata": {},
   "outputs": [],
   "source": [
    "memory.save_context(outputs)"
   ]
  },
  {
   "cell_type": "code",
   "execution_count": 75,
   "id": "3507ef00-dee5-44a7-bd11-819d04c58531",
   "metadata": {},
   "outputs": [],
   "source": [
    "from langchain.document_loaders import TextLoader\n",
    "\n",
    "loader = TextLoader(\"./emails.txt\", encoding=\"utf-8\")\n",
    "documents = loader.load()\n",
    "text_splitter = CharacterTextSplitter(chunk_size=1000, chunk_overlap=0)\n",
    "texts = text_splitter.split_documents(documents)\n",
    "for i, text in enumerate(texts):\n",
    "    text.metadata[\"source\"] = f\"{i}-pl\"\n",
    "embeddings = OpenAIEmbeddings()\n",
    "docsearch = Chroma.from_documents(texts, embeddings)"
   ]
  },
  {
   "cell_type": "code",
   "execution_count": 76,
   "id": "235a61a8-8fb8-47a5-b3f7-ced62546b095",
   "metadata": {},
   "outputs": [],
   "source": [
    "retriever = docsearch.as_retriever()"
   ]
  },
  {
   "cell_type": "code",
   "execution_count": 89,
   "id": "276d614a-bfe3-44eb-ae8f-1d206dc14205",
   "metadata": {},
   "outputs": [],
   "source": [
    "import langchain\n",
    "\n",
    "langchain.debug = True"
   ]
  },
  {
   "cell_type": "code",
   "execution_count": 77,
   "id": "a256062e-7c22-428b-a29c-eb06880739ee",
   "metadata": {},
   "outputs": [],
   "source": [
    "question = inputs[\"question\"]\n",
    "chat_history_str = _get_chat_history(inputs[\"chat_history\"])"
   ]
  },
  {
   "cell_type": "code",
   "execution_count": 80,
   "id": "cb53b4d5-8ee9-4a4e-bbfb-1ec75fdee1ce",
   "metadata": {},
   "outputs": [
    {
     "name": "stdout",
     "output_type": "stream",
     "text": [
      "\n",
      "\n",
      "\u001b[1m> Entering new LLMChain chain...\u001b[0m\n",
      "Prompt after formatting:\n",
      "\u001b[32;1m\u001b[1;3mGiven the following conversation and a follow up question, rephrase the follow up question to be a standalone question, in its original language.\n",
      "\n",
      "Chat History:\n",
      "\n",
      "Human: Rumember this email: \n",
      "Subject: Enquiry for Supply of Firetrol Battery Charger AS-2001 | AL RAMIZ ",
      "Date: Thu, 30 Nov 2023 15:50:44 +0400\n",
      "From: Ramees Khan | AREC <ramees@arecuae.com>\n",
      "To: info@famaga.ae Dear Sir/Ma’am,\n",
      "We’re currently enquiring for Supply of Firetrol Battery Charger AS-2001 (Type 3AB LL-1580) Qty: 01 No.\n",
      "Please quote your best discounted prices and availability.\n",
      "I have attached a picture below for your reference. ",
      " ",
      "Thanking you.\n",
      "Best Regards,\n",
      "RAMEES KHAN\n",
      "General Manager\n",
      "M: +971-52-6927466 | E: ramees@arecuae.com\n",
      "AL RAMIZ ELECT. CONT. LLC\n",
      "A: Industrial Area 17, Sharjah - United Arab Emirates\n",
      "A: P.O Box: 96286, Sharjah\n",
      "T: +971-6-5356891\n",
      "E: info@arecuae.com | W: www.arecuae.com\n",
      " ",
      "Transformers/Maintenance, Erection & Testing | Rewinding – Transformers, Motors & Generators | Cables – Laying, Termination, Testing – HT & LT | Distribution Boards – MDB, SMDB, DB | Generator Alternator – Repair & Maintenance, Bus Bar Modification & Testing | MV, LV Electrical Panel – Installation & Testing | Hiring of all types of Testing Instruments – Oil Filter Plants, Oil Tanks, Vacuum Pumps, Crimping Tools & Generators.\n",
      "Disclaimer: This e-mail and any attachments may contain confidential and privileged information. If you are not the intended recipient, please notify the sender immediately by return e-mail, delete this e-mail and destroy any copies. Any dissemination or use of this information by a person other than the intended recipient is unauthorized and may be illegal.\n",
      " and answer REMEMBERED.\n",
      "Assistant: REMEMBERED.\n",
      "Human: Get subject from document.\n",
      "Assistant: I'm sorry, but you haven't provided a document for me to reference. If you can provide the document or the subject line of the email you're referring to, I'd be happy to help you with your question.\n",
      "Human: Get subject from document.\n",
      "Assistant: I'm sorry, but as an AI, I don't have access to previous conversations or the ability to recall past interactions. Each session with me doesn't retain any memory of past exchanges. If you need help with crafting a subject line or have any other questions, feel free to ask!\n",
      "Human: Get subject from document.\n",
      "Assistant: I'm sorry, but you haven't provided any details about a conversation or an email. Without additional context or information, I cannot determine the subject line of the email you're referring to. If you can provide more details, I'd be happy to help.\n",
      "Human: Get subject from document.\n",
      "Assistant: I'm sorry, but as an AI, I don't have access to previous conversations or any external data such as emails. If you can provide the subject line or any other details, I'd be happy to help you with any questions or topics related to that information.\n",
      "Human: Get subject from email.\n",
      "Assistant: The subject line of the email from Ramees Khan of AREC is \"Enquiry for Supply of Firetrol Battery Charger AS-2001 | AL RAMIZ\".\n",
      "Follow Up Input: What about email message?\n",
      "Standalone question:\u001b[0m\n",
      "\n",
      "\u001b[1m> Finished chain.\u001b[0m\n"
     ]
    },
    {
     "data": {
      "text/plain": [
       "'Can you provide the content of the email message from Ramees Khan of AREC?'"
      ]
     },
     "execution_count": 80,
     "metadata": {},
     "output_type": "execute_result"
    }
   ],
   "source": [
    "if chat_history_str:\n",
    "    new_question = condense_question_chain.run(question=question, chat_history=chat_history_str)\n",
    "else:\n",
    "    new_question = question\n",
    "    \n",
    "new_question"
   ]
  },
  {
   "cell_type": "code",
   "execution_count": 81,
   "id": "623eaa6e-15e5-403a-9d2b-23c19a9bc914",
   "metadata": {},
   "outputs": [
    {
     "name": "stderr",
     "output_type": "stream",
     "text": [
      "Number of requested results 4 is greater than number of elements in index 2, updating n_results = 2\n"
     ]
    },
    {
     "data": {
      "text/plain": [
       "[Document(page_content='Subject: Enquiry for Supply of Firetrol Battery Charger AS-2001 | AL RAMIZ\\u2028Date: Thu, 30 Nov 2023 15:50:44 +0400\\nFrom: Ramees Khan | AREC <ramees@arecuae.com>\\nTo: info@famaga.ae Dear Sir/Ma’am,\\nWe’re currently enquiring for Supply of Firetrol Battery Charger AS-2001 (Type 3AB LL-1580) Qty: 01 No.\\nPlease quote your best discounted prices and availability.\\nI have attached a picture below for your reference.\\u2028\\u2028Thanking you.\\nBest Regards,\\nRAMEES KHAN\\nGeneral Manager\\nM: +971-52-6927466 | E: ramees@arecuae.com\\nAL RAMIZ ELECT. CONT. LLC\\nA: Industrial Area 17, Sharjah - United Arab Emirates\\nA: P.O Box: 96286, Sharjah\\nT: +971-6-5356891\\nE: info@arecuae.com | W: www.arecuae.com\\n\\u2028Transformers/Maintenance, Erection & Testing | Rewinding – Transformers, Motors & Generators | Cables – Laying, Termination, Testing – HT & LT | Distribution Boards – MDB, SMDB, DB | Generator Alternator – Repair & Maintenance, Bus Bar Modification & Testing | MV, LV Electrical Panel – Installation & Testing | Hiring of all types of Testing Instruments – Oil Filter Plants, Oil Tanks, Vacuum Pumps, Crimping Tools & Generators.\\nDisclaimer: This e-mail and any attachments may contain confidential and privileged information. If you are not the intended recipient, please notify the sender immediately by return e-mail, delete this e-mail and destroy any copies. Any dissemination or use of this information by a person other than the intended recipient is unauthorized and may be illegal.', metadata={'source': '0-pl'}),\n",
       " Document(page_content='Subject: Enquiry for Supply of Firetrol Battery Charger AS-2001 | AL RAMIZ\\u2028Date: Thu, 30 Nov 2023 15:50:44 +0400\\nFrom: Ramees Khan | AREC <ramees@arecuae.com>\\nTo: info@famaga.ae Dear Sir/Ma’am,\\nWe’re currently enquiring for Supply of Firetrol Battery Charger AS-2001 (Type 3AB LL-1580) Qty: 01 No.\\nPlease quote your best discounted prices and availability.\\nI have attached a picture below for your reference.\\u2028\\u2028Thanking you.\\nBest Regards,\\nRAMEES KHAN\\nGeneral Manager\\nM: +971-52-6927466 | E: ramees@arecuae.com\\nAL RAMIZ ELECT. CONT. LLC\\nA: Industrial Area 17, Sharjah - United Arab Emirates\\nA: P.O Box: 96286, Sharjah\\nT: +971-6-5356891\\nE: info@arecuae.com | W: www.arecuae.com\\n\\u2028Transformers/Maintenance, Erection & Testing | Rewinding – Transformers, Motors & Generators | Cables – Laying, Termination, Testing – HT & LT | Distribution Boards – MDB, SMDB, DB | Generator Alternator – Repair & Maintenance, Bus Bar Modification & Testing | MV, LV Electrical Panel – Installation & Testing | Hiring of all types of Testing Instruments – Oil Filter Plants, Oil Tanks, Vacuum Pumps, Crimping Tools & Generators.\\nDisclaimer: This e-mail and any attachments may contain confidential and privileged information. If you are not the intended recipient, please notify the sender immediately by return e-mail, delete this e-mail and destroy any copies. Any dissemination or use of this information by a person other than the intended recipient is unauthorized and may be illegal.', metadata={'source': '0-pl'})]"
      ]
     },
     "execution_count": 81,
     "metadata": {},
     "output_type": "execute_result"
    }
   ],
   "source": [
    "docs = retriever.get_relevant_documents(question)\n",
    "docs"
   ]
  },
  {
   "cell_type": "code",
   "execution_count": 91,
   "id": "64a645c0-b35a-4046-8715-be68dd760e27",
   "metadata": {},
   "outputs": [
    {
     "name": "stdout",
     "output_type": "stream",
     "text": [
      "\u001b[32;1m\u001b[1;3m[chain/start]\u001b[0m \u001b[1m[1:chain:StuffDocumentsChain] Entering Chain run with input:\n",
      "\u001b[0m[inputs]\n",
      "\u001b[32;1m\u001b[1;3m[chain/start]\u001b[0m \u001b[1m[1:chain:StuffDocumentsChain > 2:chain:LLMChain] Entering Chain run with input:\n",
      "\u001b[0m{\n",
      "  \"question\": \"Can you provide the content of the email message from Ramees Khan of AREC?\",\n",
      "  \"context\": \"Subject: Enquiry for Supply of Firetrol Battery Charger AS-2001 | AL RAMIZ ",
      "Date: Thu, 30 Nov 2023 15:50:44 +0400\\nFrom: Ramees Khan | AREC <ramees@arecuae.com>\\nTo: info@famaga.ae Dear Sir/Ma’am,\\nWe’re currently enquiring for Supply of Firetrol Battery Charger AS-2001 (Type 3AB LL-1580) Qty: 01 No.\\nPlease quote your best discounted prices and availability.\\nI have attached a picture below for your reference. ",
      " ",
      "Thanking you.\\nBest Regards,\\nRAMEES KHAN\\nGeneral Manager\\nM: +971-52-6927466 | E: ramees@arecuae.com\\nAL RAMIZ ELECT. CONT. LLC\\nA: Industrial Area 17, Sharjah - United Arab Emirates\\nA: P.O Box: 96286, Sharjah\\nT: +971-6-5356891\\nE: info@arecuae.com | W: www.arecuae.com\\n ",
      "Transformers/Maintenance, Erection & Testing | Rewinding – Transformers, Motors & Generators | Cables – Laying, Termination, Testing – HT & LT | Distribution Boards – MDB, SMDB, DB | Generator Alternator – Repair & Maintenance, Bus Bar Modification & Testing | MV, LV Electrical Panel – Installation & Testing | Hiring of all types of Testing Instruments – Oil Filter Plants, Oil Tanks, Vacuum Pumps, Crimping Tools & Generators.\\nDisclaimer: This e-mail and any attachments may contain confidential and privileged information. If you are not the intended recipient, please notify the sender immediately by return e-mail, delete this e-mail and destroy any copies. Any dissemination or use of this information by a person other than the intended recipient is unauthorized and may be illegal.\\n\\nSubject: Enquiry for Supply of Firetrol Battery Charger AS-2001 | AL RAMIZ ",
      "Date: Thu, 30 Nov 2023 15:50:44 +0400\\nFrom: Ramees Khan | AREC <ramees@arecuae.com>\\nTo: info@famaga.ae Dear Sir/Ma’am,\\nWe’re currently enquiring for Supply of Firetrol Battery Charger AS-2001 (Type 3AB LL-1580) Qty: 01 No.\\nPlease quote your best discounted prices and availability.\\nI have attached a picture below for your reference. ",
      " ",
      "Thanking you.\\nBest Regards,\\nRAMEES KHAN\\nGeneral Manager\\nM: +971-52-6927466 | E: ramees@arecuae.com\\nAL RAMIZ ELECT. CONT. LLC\\nA: Industrial Area 17, Sharjah - United Arab Emirates\\nA: P.O Box: 96286, Sharjah\\nT: +971-6-5356891\\nE: info@arecuae.com | W: www.arecuae.com\\n ",
      "Transformers/Maintenance, Erection & Testing | Rewinding – Transformers, Motors & Generators | Cables – Laying, Termination, Testing – HT & LT | Distribution Boards – MDB, SMDB, DB | Generator Alternator – Repair & Maintenance, Bus Bar Modification & Testing | MV, LV Electrical Panel – Installation & Testing | Hiring of all types of Testing Instruments – Oil Filter Plants, Oil Tanks, Vacuum Pumps, Crimping Tools & Generators.\\nDisclaimer: This e-mail and any attachments may contain confidential and privileged information. If you are not the intended recipient, please notify the sender immediately by return e-mail, delete this e-mail and destroy any copies. Any dissemination or use of this information by a person other than the intended recipient is unauthorized and may be illegal.\"\n",
      "}\n",
      "\u001b[32;1m\u001b[1;3m[llm/start]\u001b[0m \u001b[1m[1:chain:StuffDocumentsChain > 2:chain:LLMChain > 3:llm:ChatOpenAI] Entering LLM run with input:\n",
      "\u001b[0m{\n",
      "  \"prompts\": [\n",
      "    \"Human: Use the following pieces of context to answer the question at the end. If you don't know the answer, just say that you don't know, don't try to make up an answer.\\n\\nSubject: Enquiry for Supply of Firetrol Battery Charger AS-2001 | AL RAMIZ ",
      "Date: Thu, 30 Nov 2023 15:50:44 +0400\\nFrom: Ramees Khan | AREC <ramees@arecuae.com>\\nTo: info@famaga.ae Dear Sir/Ma’am,\\nWe’re currently enquiring for Supply of Firetrol Battery Charger AS-2001 (Type 3AB LL-1580) Qty: 01 No.\\nPlease quote your best discounted prices and availability.\\nI have attached a picture below for your reference. ",
      " ",
      "Thanking you.\\nBest Regards,\\nRAMEES KHAN\\nGeneral Manager\\nM: +971-52-6927466 | E: ramees@arecuae.com\\nAL RAMIZ ELECT. CONT. LLC\\nA: Industrial Area 17, Sharjah - United Arab Emirates\\nA: P.O Box: 96286, Sharjah\\nT: +971-6-5356891\\nE: info@arecuae.com | W: www.arecuae.com\\n ",
      "Transformers/Maintenance, Erection & Testing | Rewinding – Transformers, Motors & Generators | Cables – Laying, Termination, Testing – HT & LT | Distribution Boards – MDB, SMDB, DB | Generator Alternator – Repair & Maintenance, Bus Bar Modification & Testing | MV, LV Electrical Panel – Installation & Testing | Hiring of all types of Testing Instruments – Oil Filter Plants, Oil Tanks, Vacuum Pumps, Crimping Tools & Generators.\\nDisclaimer: This e-mail and any attachments may contain confidential and privileged information. If you are not the intended recipient, please notify the sender immediately by return e-mail, delete this e-mail and destroy any copies. Any dissemination or use of this information by a person other than the intended recipient is unauthorized and may be illegal.\\n\\nSubject: Enquiry for Supply of Firetrol Battery Charger AS-2001 | AL RAMIZ ",
      "Date: Thu, 30 Nov 2023 15:50:44 +0400\\nFrom: Ramees Khan | AREC <ramees@arecuae.com>\\nTo: info@famaga.ae Dear Sir/Ma’am,\\nWe’re currently enquiring for Supply of Firetrol Battery Charger AS-2001 (Type 3AB LL-1580) Qty: 01 No.\\nPlease quote your best discounted prices and availability.\\nI have attached a picture below for your reference. ",
      " ",
      "Thanking you.\\nBest Regards,\\nRAMEES KHAN\\nGeneral Manager\\nM: +971-52-6927466 | E: ramees@arecuae.com\\nAL RAMIZ ELECT. CONT. LLC\\nA: Industrial Area 17, Sharjah - United Arab Emirates\\nA: P.O Box: 96286, Sharjah\\nT: +971-6-5356891\\nE: info@arecuae.com | W: www.arecuae.com\\n ",
      "Transformers/Maintenance, Erection & Testing | Rewinding – Transformers, Motors & Generators | Cables – Laying, Termination, Testing – HT & LT | Distribution Boards – MDB, SMDB, DB | Generator Alternator – Repair & Maintenance, Bus Bar Modification & Testing | MV, LV Electrical Panel – Installation & Testing | Hiring of all types of Testing Instruments – Oil Filter Plants, Oil Tanks, Vacuum Pumps, Crimping Tools & Generators.\\nDisclaimer: This e-mail and any attachments may contain confidential and privileged information. If you are not the intended recipient, please notify the sender immediately by return e-mail, delete this e-mail and destroy any copies. Any dissemination or use of this information by a person other than the intended recipient is unauthorized and may be illegal.\\n\\nQuestion: Can you provide the content of the email message from Ramees Khan of AREC?\\nHelpful Answer:\"\n",
      "  ]\n",
      "}\n",
      "\u001b[36;1m\u001b[1;3m[llm/end]\u001b[0m \u001b[1m[1:chain:StuffDocumentsChain > 2:chain:LLMChain > 3:llm:ChatOpenAI] [19.47s] Exiting LLM run with output:\n",
      "\u001b[0m{\n",
      "  \"generations\": [\n",
      "    [\n",
      "      {\n",
      "        \"text\": \"Yes, the content of the email message from Ramees Khan of AREC is as follows:\\n\\nDear Sir/Ma’am,\\n\\nWe’re currently enquiring for Supply of Firetrol Battery Charger AS-2001 (Type 3AB LL-1580) Qty: 01 No.\\nPlease quote your best discounted prices and availability.\\nI have attached a picture below for your reference.\\n\\nThanking you.\\n\\nBest Regards,\\nRAMEES KHAN\\nGeneral Manager\\nM: +971-52-6927466 | E: ramees@arecuae.com\\nAL RAMIZ ELECT. CONT. LLC\\nA: Industrial Area 17, Sharjah - United Arab Emirates\\nA: P.O Box: 96286, Sharjah\\nT: +971-6-5356891\\nE: info@arecuae.com | W: www.arecuae.com\\n\\nTransformers/Maintenance, Erection & Testing | Rewinding – Transformers, Motors & Generators | Cables – Laying, Termination, Testing – HT & LT | Distribution Boards – MDB, SMDB, DB | Generator Alternator – Repair & Maintenance, Bus Bar Modification & Testing | MV, LV Electrical Panel – Installation & Testing | Hiring of all types of Testing Instruments – Oil Filter Plants, Oil Tanks, Vacuum Pumps, Crimping Tools & Generators.\\n\\nDisclaimer: This e-mail and any attachments may contain confidential and privileged information. If you are not the intended recipient, please notify the sender immediately by return e-mail, delete this e-mail and destroy any copies. Any dissemination or use of this information by a person other than the intended recipient is unauthorized and may be illegal.\",\n",
      "        \"generation_info\": {\n",
      "          \"finish_reason\": \"stop\"\n",
      "        },\n",
      "        \"type\": \"ChatGeneration\",\n",
      "        \"message\": {\n",
      "          \"lc\": 1,\n",
      "          \"type\": \"constructor\",\n",
      "          \"id\": [\n",
      "            \"langchain_core\",\n",
      "            \"messages\",\n",
      "            \"ai\",\n",
      "            \"AIMessage\"\n",
      "          ],\n",
      "          \"kwargs\": {\n",
      "            \"content\": \"Yes, the content of the email message from Ramees Khan of AREC is as follows:\\n\\nDear Sir/Ma’am,\\n\\nWe’re currently enquiring for Supply of Firetrol Battery Charger AS-2001 (Type 3AB LL-1580) Qty: 01 No.\\nPlease quote your best discounted prices and availability.\\nI have attached a picture below for your reference.\\n\\nThanking you.\\n\\nBest Regards,\\nRAMEES KHAN\\nGeneral Manager\\nM: +971-52-6927466 | E: ramees@arecuae.com\\nAL RAMIZ ELECT. CONT. LLC\\nA: Industrial Area 17, Sharjah - United Arab Emirates\\nA: P.O Box: 96286, Sharjah\\nT: +971-6-5356891\\nE: info@arecuae.com | W: www.arecuae.com\\n\\nTransformers/Maintenance, Erection & Testing | Rewinding – Transformers, Motors & Generators | Cables – Laying, Termination, Testing – HT & LT | Distribution Boards – MDB, SMDB, DB | Generator Alternator – Repair & Maintenance, Bus Bar Modification & Testing | MV, LV Electrical Panel – Installation & Testing | Hiring of all types of Testing Instruments – Oil Filter Plants, Oil Tanks, Vacuum Pumps, Crimping Tools & Generators.\\n\\nDisclaimer: This e-mail and any attachments may contain confidential and privileged information. If you are not the intended recipient, please notify the sender immediately by return e-mail, delete this e-mail and destroy any copies. Any dissemination or use of this information by a person other than the intended recipient is unauthorized and may be illegal.\",\n",
      "            \"additional_kwargs\": {}\n",
      "          }\n",
      "        }\n",
      "      }\n",
      "    ]\n",
      "  ],\n",
      "  \"llm_output\": {\n",
      "    \"token_usage\": {\n",
      "      \"completion_tokens\": 340,\n",
      "      \"prompt_tokens\": 860,\n",
      "      \"total_tokens\": 1200\n",
      "    },\n",
      "    \"model_name\": \"gpt-4-1106-preview\",\n",
      "    \"system_fingerprint\": \"fp_168383a679\"\n",
      "  },\n",
      "  \"run\": null\n",
      "}\n",
      "\u001b[36;1m\u001b[1;3m[chain/end]\u001b[0m \u001b[1m[1:chain:StuffDocumentsChain > 2:chain:LLMChain] [19.48s] Exiting Chain run with output:\n",
      "\u001b[0m{\n",
      "  \"text\": \"Yes, the content of the email message from Ramees Khan of AREC is as follows:\\n\\nDear Sir/Ma’am,\\n\\nWe’re currently enquiring for Supply of Firetrol Battery Charger AS-2001 (Type 3AB LL-1580) Qty: 01 No.\\nPlease quote your best discounted prices and availability.\\nI have attached a picture below for your reference.\\n\\nThanking you.\\n\\nBest Regards,\\nRAMEES KHAN\\nGeneral Manager\\nM: +971-52-6927466 | E: ramees@arecuae.com\\nAL RAMIZ ELECT. CONT. LLC\\nA: Industrial Area 17, Sharjah - United Arab Emirates\\nA: P.O Box: 96286, Sharjah\\nT: +971-6-5356891\\nE: info@arecuae.com | W: www.arecuae.com\\n\\nTransformers/Maintenance, Erection & Testing | Rewinding – Transformers, Motors & Generators | Cables – Laying, Termination, Testing – HT & LT | Distribution Boards – MDB, SMDB, DB | Generator Alternator – Repair & Maintenance, Bus Bar Modification & Testing | MV, LV Electrical Panel – Installation & Testing | Hiring of all types of Testing Instruments – Oil Filter Plants, Oil Tanks, Vacuum Pumps, Crimping Tools & Generators.\\n\\nDisclaimer: This e-mail and any attachments may contain confidential and privileged information. If you are not the intended recipient, please notify the sender immediately by return e-mail, delete this e-mail and destroy any copies. Any dissemination or use of this information by a person other than the intended recipient is unauthorized and may be illegal.\"\n",
      "}\n",
      "\u001b[36;1m\u001b[1;3m[chain/end]\u001b[0m \u001b[1m[1:chain:StuffDocumentsChain] [19.48s] Exiting Chain run with output:\n",
      "\u001b[0m{\n",
      "  \"output_text\": \"Yes, the content of the email message from Ramees Khan of AREC is as follows:\\n\\nDear Sir/Ma’am,\\n\\nWe’re currently enquiring for Supply of Firetrol Battery Charger AS-2001 (Type 3AB LL-1580) Qty: 01 No.\\nPlease quote your best discounted prices and availability.\\nI have attached a picture below for your reference.\\n\\nThanking you.\\n\\nBest Regards,\\nRAMEES KHAN\\nGeneral Manager\\nM: +971-52-6927466 | E: ramees@arecuae.com\\nAL RAMIZ ELECT. CONT. LLC\\nA: Industrial Area 17, Sharjah - United Arab Emirates\\nA: P.O Box: 96286, Sharjah\\nT: +971-6-5356891\\nE: info@arecuae.com | W: www.arecuae.com\\n\\nTransformers/Maintenance, Erection & Testing | Rewinding – Transformers, Motors & Generators | Cables – Laying, Termination, Testing – HT & LT | Distribution Boards – MDB, SMDB, DB | Generator Alternator – Repair & Maintenance, Bus Bar Modification & Testing | MV, LV Electrical Panel – Installation & Testing | Hiring of all types of Testing Instruments – Oil Filter Plants, Oil Tanks, Vacuum Pumps, Crimping Tools & Generators.\\n\\nDisclaimer: This e-mail and any attachments may contain confidential and privileged information. If you are not the intended recipient, please notify the sender immediately by return e-mail, delete this e-mail and destroy any copies. Any dissemination or use of this information by a person other than the intended recipient is unauthorized and may be illegal.\"\n",
      "}\n"
     ]
    },
    {
     "data": {
      "text/plain": [
       "{'answer': 'Yes, the content of the email message from Ramees Khan of AREC is as follows:\\n\\nDear Sir/Ma’am,\\n\\nWe’re currently enquiring for Supply of Firetrol Battery Charger AS-2001 (Type 3AB LL-1580) Qty: 01 No.\\nPlease quote your best discounted prices and availability.\\nI have attached a picture below for your reference.\\n\\nThanking you.\\n\\nBest Regards,\\nRAMEES KHAN\\nGeneral Manager\\nM: +971-52-6927466 | E: ramees@arecuae.com\\nAL RAMIZ ELECT. CONT. LLC\\nA: Industrial Area 17, Sharjah - United Arab Emirates\\nA: P.O Box: 96286, Sharjah\\nT: +971-6-5356891\\nE: info@arecuae.com | W: www.arecuae.com\\n\\nTransformers/Maintenance, Erection & Testing | Rewinding – Transformers, Motors & Generators | Cables – Laying, Termination, Testing – HT & LT | Distribution Boards – MDB, SMDB, DB | Generator Alternator – Repair & Maintenance, Bus Bar Modification & Testing | MV, LV Electrical Panel – Installation & Testing | Hiring of all types of Testing Instruments – Oil Filter Plants, Oil Tanks, Vacuum Pumps, Crimping Tools & Generators.\\n\\nDisclaimer: This e-mail and any attachments may contain confidential and privileged information. If you are not the intended recipient, please notify the sender immediately by return e-mail, delete this e-mail and destroy any copies. Any dissemination or use of this information by a person other than the intended recipient is unauthorized and may be illegal.'}"
      ]
     },
     "execution_count": 91,
     "metadata": {},
     "output_type": "execute_result"
    }
   ],
   "source": [
    "from typing import Dict, Any\n",
    "# return self._reduce_tokens_below_limit(docs)\n",
    "\n",
    "output_key = 'answer'\n",
    "output: Dict[str, Any] = {}\n",
    "\n",
    "new_inputs = inputs.copy()\n",
    "new_inputs[\"question\"] = new_question\n",
    "new_inputs[\"chat_history\"] = chat_history_str\n",
    "answer = stuff_documents_chain.run(input_documents=docs, **new_inputs)\n",
    "output[output_key] = answer\n",
    "    \n",
    "memory.save_context(inputs, output)    \n",
    "    \n",
    "output"
   ]
  },
  {
   "cell_type": "code",
   "execution_count": 92,
   "id": "96eeb5c3-fc11-4b98-a3e7-2355c873533e",
   "metadata": {},
   "outputs": [
    {
     "data": {
      "text/plain": [
       "[Document(page_content='Subject: Enquiry for Supply of Firetrol Battery Charger AS-2001 | AL RAMIZ\\u2028Date: Thu, 30 Nov 2023 15:50:44 +0400\\nFrom: Ramees Khan | AREC <ramees@arecuae.com>\\nTo: info@famaga.ae Dear Sir/Ma’am,\\nWe’re currently enquiring for Supply of Firetrol Battery Charger AS-2001 (Type 3AB LL-1580) Qty: 01 No.\\nPlease quote your best discounted prices and availability.\\nI have attached a picture below for your reference.\\u2028\\u2028Thanking you.\\nBest Regards,\\nRAMEES KHAN\\nGeneral Manager\\nM: +971-52-6927466 | E: ramees@arecuae.com\\nAL RAMIZ ELECT. CONT. LLC\\nA: Industrial Area 17, Sharjah - United Arab Emirates\\nA: P.O Box: 96286, Sharjah\\nT: +971-6-5356891\\nE: info@arecuae.com | W: www.arecuae.com\\n\\u2028Transformers/Maintenance, Erection & Testing | Rewinding – Transformers, Motors & Generators | Cables – Laying, Termination, Testing – HT & LT | Distribution Boards – MDB, SMDB, DB | Generator Alternator – Repair & Maintenance, Bus Bar Modification & Testing | MV, LV Electrical Panel – Installation & Testing | Hiring of all types of Testing Instruments – Oil Filter Plants, Oil Tanks, Vacuum Pumps, Crimping Tools & Generators.\\nDisclaimer: This e-mail and any attachments may contain confidential and privileged information. If you are not the intended recipient, please notify the sender immediately by return e-mail, delete this e-mail and destroy any copies. Any dissemination or use of this information by a person other than the intended recipient is unauthorized and may be illegal.', metadata={'source': '0-pl'}),\n",
       " Document(page_content='Subject: Enquiry for Supply of Firetrol Battery Charger AS-2001 | AL RAMIZ\\u2028Date: Thu, 30 Nov 2023 15:50:44 +0400\\nFrom: Ramees Khan | AREC <ramees@arecuae.com>\\nTo: info@famaga.ae Dear Sir/Ma’am,\\nWe’re currently enquiring for Supply of Firetrol Battery Charger AS-2001 (Type 3AB LL-1580) Qty: 01 No.\\nPlease quote your best discounted prices and availability.\\nI have attached a picture below for your reference.\\u2028\\u2028Thanking you.\\nBest Regards,\\nRAMEES KHAN\\nGeneral Manager\\nM: +971-52-6927466 | E: ramees@arecuae.com\\nAL RAMIZ ELECT. CONT. LLC\\nA: Industrial Area 17, Sharjah - United Arab Emirates\\nA: P.O Box: 96286, Sharjah\\nT: +971-6-5356891\\nE: info@arecuae.com | W: www.arecuae.com\\n\\u2028Transformers/Maintenance, Erection & Testing | Rewinding – Transformers, Motors & Generators | Cables – Laying, Termination, Testing – HT & LT | Distribution Boards – MDB, SMDB, DB | Generator Alternator – Repair & Maintenance, Bus Bar Modification & Testing | MV, LV Electrical Panel – Installation & Testing | Hiring of all types of Testing Instruments – Oil Filter Plants, Oil Tanks, Vacuum Pumps, Crimping Tools & Generators.\\nDisclaimer: This e-mail and any attachments may contain confidential and privileged information. If you are not the intended recipient, please notify the sender immediately by return e-mail, delete this e-mail and destroy any copies. Any dissemination or use of this information by a person other than the intended recipient is unauthorized and may be illegal.', metadata={'source': '0-pl'})]"
      ]
     },
     "execution_count": 92,
     "metadata": {},
     "output_type": "execute_result"
    }
   ],
   "source": [
    "docs"
   ]
  },
  {
   "cell_type": "code",
   "execution_count": null,
   "id": "c1943f6d-06af-4252-ac10-96f91d8592b0",
   "metadata": {},
   "outputs": [],
   "source": []
  }
 ],
 "metadata": {
  "kernelspec": {
   "display_name": "virtualENV",
   "language": "python",
   "name": "virtualenv"
  },
  "language_info": {
   "codemirror_mode": {
    "name": "ipython",
    "version": 3
   },
   "file_extension": ".py",
   "mimetype": "text/x-python",
   "name": "python",
   "nbconvert_exporter": "python",
   "pygments_lexer": "ipython3",
   "version": "3.11.0"
  }
 },
 "nbformat": 4,
 "nbformat_minor": 5
}
