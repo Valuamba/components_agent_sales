{
 "cells": [
  {
   "cell_type": "code",
   "execution_count": 5,
   "id": "bc384f98-d436-44d9-a045-91c810e0a310",
   "metadata": {},
   "outputs": [],
   "source": [
    "import warnings\n",
    "from importlib import reload\n",
    "\n",
    "warnings.filterwarnings('ignore')"
   ]
  },
  {
   "cell_type": "code",
   "execution_count": 13,
   "id": "df866dcd-000d-4242-8226-e2411d2834a4",
   "metadata": {},
   "outputs": [],
   "source": [
    "import openai\n",
    "from dotenv import load_dotenv\n",
    "import os\n",
    "from IPython.display import display, Markdown\n",
    "\n",
    "client = None"
   ]
  },
  {
   "cell_type": "code",
   "execution_count": 14,
   "id": "6dbf2632-6a1c-43d2-961c-bbd5f9fc2541",
   "metadata": {},
   "outputs": [
    {
     "name": "stdout",
     "output_type": "stream",
     "text": [
      "The autoreload extension is already loaded. To reload it, use:\n",
      "  %reload_ext autoreload\n"
     ]
    }
   ],
   "source": [
    "%load_ext autoreload\n",
    "%autoreload 2"
   ]
  },
  {
   "cell_type": "code",
   "execution_count": 15,
   "id": "9242090a-b72f-45b6-8b54-0956493b08ab",
   "metadata": {},
   "outputs": [],
   "source": [
    "import prompts\n",
    "from importlib import reload\n",
    "\n",
    "reload(prompts)\n",
    "\n",
    "from prompts import TARRIFICARTOR_ADR"
   ]
  },
  {
   "cell_type": "code",
   "execution_count": 16,
   "id": "3598e5a0-eb2b-4c7f-a3f2-7352d8c8e69f",
   "metadata": {},
   "outputs": [],
   "source": [
    "from datetime import datetime\n",
    "from typing import List, Optional\n",
    "from pydantic import BaseModel, Field\n",
    "from sqlalchemy import create_engine, Column, String, Integer, Float, DateTime, Text, Boolean\n",
    "from sqlalchemy.ext.declarative import declarative_base\n",
    "from sqlalchemy.orm import sessionmaker\n",
    "import uuid\n",
    "import tiktoken\n",
    "\n",
    "from ipywidgets import widgets, Layout, Button, Textarea, HBox\n",
    "from IPython.display import display\n",
    "import threading\n",
    "\n",
    "completion_pricing_per_1k_tokens_usd = {\n",
    "    \"gpt-4-1106-preview\": {\"input\": 0.01, \"output\": 0.03},\n",
    "    \"gpt-4-1106-vision-preview\": {\"input\": 0.01, \"output\": 0.03},\n",
    "    \"gpt-4\": {\"input\": 0.03, \"output\": 0.06},\n",
    "    \"gpt-4-32k\": {\"input\": 0.06, \"output\": 0.12},\n",
    "    \"gpt-3.5-turbo-1106\": {\"input\": 0.0010, \"output\": 0.002},\n",
    "    \"gpt-3.5-turbo-instruct\": {\"input\": 0.0010, \"output\": 0.002},\n",
    "}\n",
    "\n",
    "assistants_api_price_usd = {\n",
    "    \"Code interpreter\": {\"input\": 0.03},\n",
    "    \"Retrieval\": {\"input\": 0.2},\n",
    "}\n",
    "\n",
    "\n",
    "# Define your Pydantic model for data validation\n",
    "class PromptVersion(BaseModel):\n",
    "    pkid: Optional[int] = None \n",
    "    id: Optional[str] = Field(default_factory=lambda: str(uuid.uuid4()))\n",
    "    created_at: datetime = Field(default_factory=datetime.now)\n",
    "    updated_at: datetime = Field(default_factory=datetime.now)\n",
    "    prompt: str\n",
    "    response: str\n",
    "    model: str\n",
    "    input_tokens: int\n",
    "    output_tokens: int\n",
    "    tags: Optional[str] = None\n",
    "    total_price: float\n",
    "    is_like: Optional[bool] = None\n",
    "    temperature: Optional[float] = None\n",
    "    feedback: Optional[str] = None\n",
    "\n",
    "Base = declarative_base()\n",
    "\n",
    "# Define your SQLAlchemy model for the database schema\n",
    "class PromptVersionDB(Base):\n",
    "    __tablename__ = 'prompt_versions'\n",
    "    pkid = Column(Integer, primary_key=True, autoincrement=True)\n",
    "    id = Column(String, default=lambda: str(uuid.uuid4()))\n",
    "    created_at = Column(DateTime, default=datetime.now)\n",
    "    updated_at = Column(DateTime, default=datetime.now, onupdate=datetime.now)\n",
    "    prompt = Column(Text)\n",
    "    response = Column(Text)\n",
    "    model = Column(String)\n",
    "    input_tokens = Column(Integer)\n",
    "    output_tokens = Column(Integer)\n",
    "    temperature = Column(Float)\n",
    "    total_price = Column(Float)\n",
    "    feedback = Column(Text)\n",
    "    tags = Column(Text)\n",
    "    is_like = Column(Boolean)\n",
    "\n",
    "\n",
    "def num_tokens_from_string(string: str, encoding_name: str = \"gpt-3.5-turbo\") -> int:\n",
    "    \"\"\"Returns the number of tokens in a text string.\"\"\"\n",
    "    encoding = tiktoken.encoding_for_model(encoding_name)\n",
    "    num_tokens = len(encoding.encode(string))\n",
    "    return num_tokens\n",
    "    \n",
    "\n",
    "class GPTDatabaseLogger:\n",
    "    def __init__(self, db_url):\n",
    "        self.engine = create_engine(db_url)\n",
    "        Base.metadata.create_all(self.engine)\n",
    "        self.Session = sessionmaker(bind=self.engine)\n",
    "        if os.getenv('OPENAI_API_KEY') is None:\n",
    "            load_dotenv()\n",
    "        self.client = openai.OpenAI()\n",
    "\n",
    "    def create_completion(self, messages, temperature, output = True, tags: str = None,\n",
    "                          model: str = 'gpt-4', **kwargs): \n",
    "        tokens_pricing = completion_pricing_per_1k_tokens_usd[model]\n",
    "\n",
    "        prompt = \"\\n\\n\".join([msg['role'] + \": \" + msg['content'] for msg in messages])\n",
    "        prompt_tokens = sum([ num_tokens_from_string(msg['content']) for msg in messages])\n",
    "    \n",
    "        response = self.client.chat.completions.create(model=model, \n",
    "                                                  messages=messages, \n",
    "                                                  temperature=temperature, \n",
    "                                                  stream=True, **kwargs\n",
    "                                                 )\n",
    "        collected_messages = []\n",
    "        for chunk in response:\n",
    "            if chunk.choices[0].delta.content:\n",
    "                if output:\n",
    "                    print(chunk.choices[0].delta.content, end='')\n",
    "                collected_messages.append(chunk.choices[0].delta.content)\n",
    "\n",
    "        content_str = ''.join(collected_messages)\n",
    "        output_tokens = num_tokens_from_string(content_str)\n",
    "\n",
    "        total_price = (tokens_pricing['input'] * prompt_tokens + tokens_pricing['output'] * output_tokens) / 1000\n",
    "\n",
    "        prompt_version = PromptVersion(\n",
    "            prompt=prompt, \n",
    "            response=content_str, \n",
    "            model=model,\n",
    "            temperature=temperature,\n",
    "            input_tokens=prompt_tokens, \n",
    "            output_tokens=output_tokens,\n",
    "            total_price=total_price,\n",
    "            tags=tags\n",
    "        )\n",
    "        \n",
    "        session = self.Session()\n",
    "        db_record = PromptVersionDB(**prompt_version.dict())\n",
    "        session.add(db_record)\n",
    "        session.commit()\n",
    "        self.note_id = db_record.id  # Assuming the record has an ID field\n",
    "        session.close()\n",
    "\n",
    "        # Step 3: Return result from method\n",
    "        print(\"\\n\\n--------------------\\n\\nNote saved without feedback. ID:\", self.note_id + '\\n\\n')\n",
    "\n",
    "        # Step 4: Run the window for feedback form\n",
    "        self.collect_feedback()\n",
    "\n",
    "        return content_str\n",
    "\n",
    "    \n",
    "    def collect_feedback(self):\n",
    "        feedback_input = Textarea(\n",
    "            value='',\n",
    "            placeholder='Type your feedback here...',\n",
    "            description='Feedback:',\n",
    "            disabled=False,\n",
    "            layout=Layout(width='70%', height='80px')\n",
    "        )\n",
    "\n",
    "        like_button = Button(description='👍 Like', button_style='success', tooltip='Like this content')\n",
    "        dislike_button = Button(description='👎 Dislike', button_style='danger', tooltip='Dislike this content')\n",
    "        feedback_button = Button(description='Submit Feedback', button_style='success', tooltip='Click to submit feedback')\n",
    "\n",
    "        def on_like_disliked(b):\n",
    "            session = self.Session()\n",
    "            note_to_update = session.query(PromptVersionDB).filter_by(id=self.note_id).first()\n",
    "            if note_to_update:\n",
    "                if b.description == '👍 Like':\n",
    "                    note_to_update.is_like = True\n",
    "                elif b.description == '👎 Dislike':\n",
    "                    note_to_update.is_like = False\n",
    "                session.commit()\n",
    "            session.close()\n",
    "\n",
    "        def on_feedback_submitted(b):\n",
    "            feedback = feedback_input.value\n",
    "            session = self.Session()\n",
    "            note_to_update = session.query(PromptVersionDB).filter_by(id=self.note_id).first()\n",
    "            if note_to_update:\n",
    "                note_to_update.feedback = feedback\n",
    "                session.commit()\n",
    "                print(\"Feedback updated successfully.\")\n",
    "            else:\n",
    "                print(\"Note not found.\")\n",
    "            session.close()\n",
    "            feedback_input.value = ''  # Clear input after submission\n",
    "\n",
    "        feedback_button.on_click(on_feedback_submitted)\n",
    "        like_button.on_click(on_like_disliked)\n",
    "        dislike_button.on_click(on_like_disliked)\n",
    "\n",
    "        display(HBox([like_button, dislike_button]), feedback_input, feedback_button)"
   ]
  },
  {
   "cell_type": "code",
   "execution_count": 17,
   "id": "e1438218-19ff-4dba-b42c-ebf2407852c3",
   "metadata": {},
   "outputs": [],
   "source": [
    "db_logger = GPTDatabaseLogger('sqlite:///../famaga/prompt_versions.db')"
   ]
  },
  {
   "cell_type": "markdown",
   "id": "cff84326-9459-43e7-885b-3e250561a1c2",
   "metadata": {},
   "source": [
    "## Products"
   ]
  },
  {
   "cell_type": "code",
   "execution_count": 23,
   "id": "228bda83-b925-4869-8811-28113bde392a",
   "metadata": {},
   "outputs": [],
   "source": [
    "import prompts\n",
    "from importlib import reload\n",
    "\n",
    "reload(prompts)\n",
    "\n",
    "from prompts import TARRIFICARTOR_ADR, ROUTES, ROUTES_DESCRIPTION"
   ]
  },
  {
   "cell_type": "code",
   "execution_count": 20,
   "id": "82616842-27a7-4e67-b2fe-c00be25c334f",
   "metadata": {},
   "outputs": [
    {
     "name": "stdout",
     "output_type": "stream",
     "text": [
      "Creating Architectural Decision Records (ADRs) using PlantUML and C4 for Golang microservices involves several steps. Here's a step-by-step guide on how to create diagrams for other microservices:\n",
      "\n",
      "Step 1: Define the Scope\n",
      "Identify the microservice for which you are creating the ADR. Determine what processes, entities, and data flows are involved.\n",
      "\n",
      "Step 2: Prepare the Flow-Overview Diagram\n",
      "Using the example provided, prepare a flow-overview diagram for your microservice. This diagram should illustrate the process and data flow within the microservice. Use the PlantUML language to create this diagram.\n",
      "\n",
      "Step 3: Detail Each Step\n",
      "For each step in the process, provide a detailed explanation. Just like the example provided, describe what occurs at each stage, what data is involved, and which entities are interacting. This will help anyone reading the ADR to understand the logic and flow.\n",
      "\n",
      "Step 4: Describe the Interactions\n",
      "Detail the interactions between different services in your architecture. Explain the role of each service and how they communicate with one another.\n",
      "\n",
      "Step 5: Apply Color and Formatting\n",
      "Use color and formatting to highlight important aspects of the diagram. For example, in the example provided, red text is used to indicate when changes are committed.\n",
      "\n",
      "Step 6: Review and Refine\n",
      "Once you have prepared your ADR, review it for clarity and accuracy. Make sure it accurately represents your microservice's architecture and is easy to understand.\n",
      "\n",
      "The aim of these diagrams is to provide a visual representation of the architecture and flow of your microservices, making them easier to understand and manage. Remember, your ADRs should be clear and concise, providing just enough detail to understand the architecture and its rationale.\n",
      "\n",
      "ADRs are an important part of documenting your software architecture. They provide a detailed record of why certain architectural decisions were made, making it easier for others to understand and maintain your system in the future.\n",
      "\n",
      "--------------------\n",
      "\n",
      "Note saved without feedback. ID: 4b4abd4d-5994-4473-87af-754d067e55d7\n",
      "\n",
      "\n"
     ]
    },
    {
     "data": {
      "application/vnd.jupyter.widget-view+json": {
       "model_id": "5c43e8acbc8b49baa5bf5127f7157a26",
       "version_major": 2,
       "version_minor": 0
      },
      "text/plain": [
       "HBox(children=(Button(button_style='success', description='👍 Like', style=ButtonStyle(), tooltip='Like this co…"
      ]
     },
     "metadata": {},
     "output_type": "display_data"
    },
    {
     "data": {
      "application/vnd.jupyter.widget-view+json": {
       "model_id": "8435d5db660c4082943ad2f89096c859",
       "version_major": 2,
       "version_minor": 0
      },
      "text/plain": [
       "Textarea(value='', description='Feedback:', layout=Layout(height='80px', width='70%'), placeholder='Type your …"
      ]
     },
     "metadata": {},
     "output_type": "display_data"
    },
    {
     "data": {
      "application/vnd.jupyter.widget-view+json": {
       "model_id": "5fe2ff6dd7f746b5bd23ffcc49bbfbb1",
       "version_major": 2,
       "version_minor": 0
      },
      "text/plain": [
       "Button(button_style='success', description='Submit Feedback', style=ButtonStyle(), tooltip='Click to submit fe…"
      ]
     },
     "metadata": {},
     "output_type": "display_data"
    }
   ],
   "source": [
    "response = db_logger.create_completion([\n",
    "    { \"role\": \"user\", \"content\": f\"\"\"\n",
    "You are Senior Architect, you are usiung PlanUML and C4 to describe ADRs of Golang microservices. Could you please \n",
    "read the example of flow-overview.puml ADR and common HowTo that would describe how to create flow-overview diagrams\n",
    "for other microservices, this should contains of basic concepts of approach and should be understandable Middle\n",
    "Solutions Architect. Please read diagram description [DIAGRAM DESCRIPTIONS]. Read also flow overview of Senior Architect\n",
    "it would be helpful and describing some approaches [FLOW-OVERVIEW].\n",
    "\n",
    "Write guide how to create ADRs!\n",
    "\n",
    "[DIAGRAM DESCRIPTIONS]\n",
    "Here's a step-by-step guide on how to read this diagram:\n",
    "\n",
    "1. The process starts with the ATS.hr-crm-api service (ATS) launching a task every 20 minutes to update the candidate's salary. It fetches all candidates who are not registered in WBTeam with the status \"Processed/Working\".\n",
    "\n",
    "2. For each candidate, ATS sets the CalculationType to \"IT department\", MotivationType to \"Undefined\", and flags the candidate as registered in WBTeam. It then sends a request to WBTeam.crm-api (CRM) to update the candidate's salary.\n",
    "\n",
    "3. CRM searches for a user by WBUserID or by (Fio AND Phone). It then requests the CustomFields service to save the motivation type in custom fields. The CustomFields service saves the motivation type and commits all changes.\n",
    "\n",
    "4. CRM then requests the Tarificator service to save the CalculationType. The Tarificator service checks if the request type is not equal to 0. If it is not, it adds or updates the CalculationType in the tariff_office.employee_fields. If it is equal to 0, it searches for the calculation type in the custom_fields table. If there is no record, it adds a record to the table, gets the ID of CalculationType from the request, and adds or updates the CalculationType in the tariff_office.employee_fields. It then commits all changes.\n",
    "\n",
    "5. CRM searches for a RECRUITER by WBUserID or by (Fio AND Phone), saves the salary for an employee with the status `send_to_tarificator` in the employee_income.income table, and updates the salary in the Tarificator service. It sends attributes including IsBonus: false, IsNewEmployee: true, and ApplicationDate: time.Now().\n",
    "\n",
    "6. The Tarificator service updates the salary in the tariff_office.incomes table, sets the `calculation` and `payment` flags to true in the tariff_office.access_users table, sets the status of accruals in the tariff_office.accruals table, deletes canceled accruals, and commits all changes. It then sends a message to Tarificator.CALC for recalculation.\n",
    "\n",
    "7. CRM requests the OrgStruct service to embed the user in the org-structure. The OrgStruct service adds or updates the group-employee relationship and commits all changes.\n",
    "\n",
    "8. Finally, ATS commits the transaction.\n",
    "\n",
    "This diagram is a great way to visualize the flow of data and interactions between different services in a microservice architecture. It helps in understanding the system's behavior and can be used as a reference for designing and implementing similar systems.\n",
    "[/DIAGRAM DESCRIPTIONS]\n",
    "\n",
    "[FLOW-OVERVIEW]\n",
    "```\n",
    "{TARRIFICARTOR_ADR}\n",
    "```\n",
    "[/FLOW-OVERVIEW]\n",
    "\"\"\"}\n",
    "], tags='adr', model='gpt-4', temperature=0.7) "
   ]
  },
  {
   "cell_type": "code",
   "execution_count": null,
   "id": "bc9e2a91-db1d-4588-9122-8db94f8e85e5",
   "metadata": {},
   "outputs": [],
   "source": [
    "client_history = \"\"\"\n",
    "Date: 2023-07-24\n",
    "425178 (R412022869) Aventics (brand of Emerson) R412022869 margin: 30.86%, sell: 23.04$ qty. 4\n",
    "\n",
    "Date: 2023-10-17\n",
    "446982 (CHV10L) ILME CHV10L margin: 24.94%, sell: 8.66$ qty. 5\n",
    "446982 (CHV10LG) ILME CHV10LG margin: 24.93%, sell: 15.32$ qty. 5\n",
    "446982 (CNEM 10T) ILME CNEM 10T margin: 25.0%, sell: 5.96$ qty. 5\n",
    "446982 (CNEF 1OT) ILME CNEF 1OT margin: 24.92%, sell: 6.02$ qty. 5\n",
    "446982 (CHV06L16) ILME CHV06L16 margin: 25.05%, sell: 5.31$ qty. 5\n",
    "446982 (CHV06LG) ILME CHV06LG margin: 24.96%, sell: 14.18$ qty. 5\n",
    "446982 (CNEM 06T) ILME CNEM 06T margin: 25.06%, sell: 4.47$ qty. 5\n",
    "446982 (CNEF 06T) ILME CNEF 06T margin: 25.0%, sell: 4.56$ qty. 5\n",
    "\n",
    "Date: 2023-10-31\n",
    "451268 (T1040015C3) Tedea-Huntleigh (brand of VPG Transducers) T1040015C3 margin: 32.31%, sell: 121.88$ qty. 1\n",
    "\n",
    "Date: 2023-11-16\n",
    "455000 (E3010-013-005) Fraser Anti-Static E3010-013-005 margin: 22.23%, sell: 336.98$ qty. 2\n",
    "\n",
    "Date: 2023-11-23\n",
    "458446 (R412022869) Aventics (brand of Emerson) R412022869 margin: 55.16%, sell: 35.53$ qty. 2\n",
    "\"\"\"\n",
    "\n",
    "chain_of_thought = \"\"\"\n",
    "Thought: Let's start by analyzing the client's previous purchase history.\n",
    "Block: [Block 1: Initial Contact]\n",
    "Decision Point: Has the customer previously bought the same product?\n",
    "Decision Observation: The client has not previously purchased the part END-Armaturen ZE311067. They have bought other products, but not this specific one.\n",
    "\n",
    "Block Observation: Since the client hasn't purchased this product before, we need to understand the price they are willing to pay for it.\n",
    "\n",
    "Thought: Now, we need to understand the price the client is willing to pay for the product.\n",
    "Block: [Block 2: Customer Stated Desired Price]\n",
    "Decision Point: Is there an answer with a specific price?\n",
    "Decision Observation: The client has not stated a specific price they are willing to pay for the product.\n",
    "\n",
    "Block Observation: Since the client hasn't stated a specific price, we need to return to the start of the cycle and ask the client for their desired price.\n",
    "\n",
    "Thought: We need to ask the client for their desired price for the product.\n",
    "Block: [Block 3: Return to the start of the cycle]\n",
    "Decision Point: Has the customer previously bought the same product?\n",
    "Decision Observation: The client has not previously purchased the part END-Armaturen ZE311067.\n",
    "\"\"\"\n",
    "\n",
    "client request"
   ]
  },
  {
   "cell_type": "code",
   "execution_count": 1,
   "id": "77b3fee1-739e-4659-8c7a-b18d363691b0",
   "metadata": {},
   "outputs": [
    {
     "ename": "ImportError",
     "evalue": "cannot import name 'TARRIFICARTOR_ADR' from 'prompts' (C:\\Users\\MGroup\\components_agent_sales\\notebooks\\famaga\\prompts\\__init__.py)",
     "output_type": "error",
     "traceback": [
      "\u001b[1;31m---------------------------------------------------------------------------\u001b[0m",
      "\u001b[1;31mImportError\u001b[0m                               Traceback (most recent call last)",
      "Cell \u001b[1;32mIn[1], line 1\u001b[0m\n\u001b[1;32m----> 1\u001b[0m \u001b[38;5;28;01mfrom\u001b[39;00m \u001b[38;5;21;01mprompts\u001b[39;00m \u001b[38;5;28;01mimport\u001b[39;00m TARRIFICARTOR_ADR\n",
      "\u001b[1;31mImportError\u001b[0m: cannot import name 'TARRIFICARTOR_ADR' from 'prompts' (C:\\Users\\MGroup\\components_agent_sales\\notebooks\\famaga\\prompts\\__init__.py)"
     ]
    }
   ],
   "source": [
    "from prompts import TARRIFICARTOR_ADR"
   ]
  },
  {
   "cell_type": "code",
   "execution_count": null,
   "id": "526d9b9c-1d21-4e25-af89-09a83fd57be8",
   "metadata": {},
   "outputs": [],
   "source": [
    "import prompts.discounts.block_schema\n",
    "from importlib import reload\n",
    "import utils\n",
    "\n",
    "reload(prompts.discounts.block_schema)\n",
    "reload(utils)\n",
    "\n",
    "\n",
    "from prompts.discounts.block_schema import correct_block_schema, generate_different_scenarious_by_decision_points, \\\n",
    "    generate_thread_metadata_by_scenario, company_system_message, example_scenarios_V1, \\\n",
    "    get_fields_for_scneraios_from_block_schema, RESULT_BLOCK_SCHEMA, generated_scenarios_v1, \\\n",
    "    continue_generating_different_scenarious_by_decision_points, generated_scenarios_without_points_v2, \\\n",
    "    example_scenarios_V2\n",
    "\n",
    "from utils import get_scenarios\n",
    "\n",
    "\n",
    "print('Updated')"
   ]
  },
  {
   "cell_type": "code",
   "execution_count": 25,
   "id": "709fe9ad-590e-49c4-b8c9-137ac0a500ee",
   "metadata": {},
   "outputs": [
    {
     "name": "stdout",
     "output_type": "stream",
     "text": [
      "```\n",
      "\n",
      "@startuml\n",
      "!theme toy\n",
      "scale 2\n",
      "\n",
      "participant \"API Router\" as api\n",
      "participant \"Metrics Router\" as metrics\n",
      "participant \"Middleware\" as mid\n",
      "participant \"Service\" as svc\n",
      "participant \"Logger\" as log\n",
      "\n",
      "group API\n",
      "    api -> api: Initialization of API router handler\n",
      "    api -> api: Define routes for health checks\n",
      "    api -> api: Define routes for document operations\n",
      "    api -> api: Define routes for photo and preview operations\n",
      "    api -> api: Define routes for other services\n",
      "    api -> api: Define legacy routes\n",
      "    api -> api: Define routes for version 2 operations\n",
      "    api -> api: Define routes for mobile requests\n",
      "    api -> mid: Authenticate routes using middleware\n",
      "    api -> svc: Call service methods based on routes\n",
      "    api -> log: Log HTTP requests and responses\n",
      "end\n",
      "\n",
      "group Metrics\n",
      "    metrics -> metrics: Initialization of Metrics router handler\n",
      "    metrics -> metrics: Define \"/metrics\" route for monitoring performance metrics\n",
      "    metrics -> log: Log HTTP requests and responses\n",
      "end\n",
      "\n",
      "@enduml\n",
      "\n",
      "```\n",
      "This diagram illustrates the flow of operations in a Golang microservice architecture for handling document-related requests. The process starts with the initialization of the API and Metrics router handlers. The API router handler defines various routes for health checks, document operations, photo and preview operations, other services, legacy routes, version 2 operations, and mobile requests. These routes are authenticated using middleware and call service methods based on the routes. The Metrics router handler defines a \"/metrics\" route for monitoring performance metrics. All HTTP requests and responses are logged.\n",
      "\n",
      "--------------------\n",
      "\n",
      "Note saved without feedback. ID: 4522fda6-605f-4edd-8196-2c0b5a200ec6\n",
      "\n",
      "\n"
     ]
    },
    {
     "data": {
      "application/vnd.jupyter.widget-view+json": {
       "model_id": "f2fddf9027424d928eacbe3513bc99b5",
       "version_major": 2,
       "version_minor": 0
      },
      "text/plain": [
       "HBox(children=(Button(button_style='success', description='👍 Like', style=ButtonStyle(), tooltip='Like this co…"
      ]
     },
     "metadata": {},
     "output_type": "display_data"
    },
    {
     "data": {
      "application/vnd.jupyter.widget-view+json": {
       "model_id": "e39eb7f5ac7d4f45bda3408aa1ecc3ab",
       "version_major": 2,
       "version_minor": 0
      },
      "text/plain": [
       "Textarea(value='', description='Feedback:', layout=Layout(height='80px', width='70%'), placeholder='Type your …"
      ]
     },
     "metadata": {},
     "output_type": "display_data"
    },
    {
     "data": {
      "application/vnd.jupyter.widget-view+json": {
       "model_id": "bceaf05937144fecbd4ef0191b90a798",
       "version_major": 2,
       "version_minor": 0
      },
      "text/plain": [
       "Button(button_style='success', description='Submit Feedback', style=ButtonStyle(), tooltip='Click to submit fe…"
      ]
     },
     "metadata": {},
     "output_type": "display_data"
    }
   ],
   "source": [
    "response = db_logger.create_completion([\n",
    "    { \"role\": \"user\", \"content\": f\"\"\"\n",
    "You are Senior Architect, you are usiung PlanUML and C4 to describe ADRs of Golang microservices. Please\n",
    "write flow-overview adr by the diagram description [DIAGRAM DESCRIPTIONS] and routes [ROUTES]. Please use example adr \n",
    "[FLOW-OVERVIEW] to create your own.\n",
    "\n",
    "[DIAGRAM DESCRIPTIONS]\n",
    "{ROUTES_DESCRIPTION}\n",
    "[/DIAGRAM DESCRIPTIONS]\n",
    "\n",
    "[ROUTE]\n",
    "{ROUTES}\n",
    "[/ROUTE]\n",
    "\n",
    "[FLOW-OVERVIEW]\n",
    "```\n",
    "{TARRIFICARTOR_ADR}\n",
    "```\n",
    "[/FLOW-OVERVIEW]\n",
    "\"\"\"}\n",
    "], tags='adr', model='gpt-4', temperature=0.2) "
   ]
  },
  {
   "cell_type": "code",
   "execution_count": null,
   "id": "4f4f3bf3-f893-44fe-bf46-8dcd450a3b67",
   "metadata": {},
   "outputs": [],
   "source": []
  },
  {
   "cell_type": "code",
   "execution_count": null,
   "id": "04f6046f-1079-4780-b1a4-d152cb946276",
   "metadata": {},
   "outputs": [],
   "source": [
    "This is an example of an Architecture Decision Record (ADR) described using PlantUML and C4 model. It represents the flow of data and interactions between different microservices in a Golang application. Here's a step-by-step guide on how to understand and create a similar ADR:\n",
    "\n",
    "1. **Identify the Participants**: In this ADR, the participants are different microservices like ATS.hr-crm-api, WBTeam.cmr-api, CustomFields.Service, Tarificator.API, OrgStruct.Service, and NATS. These are represented using the `participant` keyword.\n",
    "\n",
    "2. **Define the Interactions**: The arrows (`->`) represent the interactions between different participants. For example, `ats -> ats: Every 20 minutes a task to update candidate's salary is launched` means that the ATS.hr-crm-api service performs a task to update the candidate's salary every 20 minutes.\n",
    "\n",
    "3. **Use Groups and Loops**: The `group` and `loop` keywords are used to represent a set of actions that are performed together or repeatedly. For example, the loop `for all candidates` means that the actions inside this loop are performed for each candidate.\n",
    "\n",
    "4. **Handle Conditions**: The `alt` keyword is used to handle conditions. For example, `alt if request type is not equal to 0` means that the actions inside this block are performed if the request type is not equal to 0.\n",
    "\n",
    "5. **Use Notes**: The `note over` keyword is used to add explanatory notes over a participant. For example, `note over crm` is used to add a note over the WBTeam.cmr-api service.\n",
    "\n",
    "6. **Commit Changes**: The `commit all changes` statements represent the points where all the changes made by a service are committed.\n",
    "\n",
    "7. **End the Diagram**: The `@enduml` keyword is used to signify the end of the UML diagram.\n",
    "\n",
    "To create a similar ADR, you need to identify the participants (microservices) in your application, define their interactions, group related actions, handle conditions, and add explanatory notes. Remember to commit the changes made by each service and end the diagram with the `@enduml` keyword."
   ]
  }
 ],
 "metadata": {
  "kernelspec": {
   "display_name": "venv",
   "language": "python",
   "name": "venv"
  },
  "language_info": {
   "codemirror_mode": {
    "name": "ipython",
    "version": 3
   },
   "file_extension": ".py",
   "mimetype": "text/x-python",
   "name": "python",
   "nbconvert_exporter": "python",
   "pygments_lexer": "ipython3",
   "version": "3.12.2"
  }
 },
 "nbformat": 4,
 "nbformat_minor": 5
}
