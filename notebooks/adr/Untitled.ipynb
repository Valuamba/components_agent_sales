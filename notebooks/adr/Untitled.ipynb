{
 "cells": [
  {
   "cell_type": "code",
   "execution_count": 4,
   "id": "29024a6d-3aed-4ee4-8055-5987307aea41",
   "metadata": {},
   "outputs": [],
   "source": [
    "from prompts import TARRIFICARTOR_ADR"
   ]
  },
  {
   "cell_type": "code",
   "execution_count": 2,
   "id": "e88097bf-259a-4f9e-b1ec-81f73b9ee67e",
   "metadata": {},
   "outputs": [
    {
     "data": {
      "text/plain": [
       "'\\n@startuml\\n!theme toy\\nscale 2\\n\\nparticipant \"ATS.hr-crm-api\" as ats\\nparticipant \"WBTeam.cmr-api\" as crm\\nparticipant \"CustomFields.Service\" as customfields\\nparticipant \"Tarificator.API\" as trf\\nparticipant \"OrgStruct.Service\" as org\\nparticipant \"NATS\" as nats\\n\\ngroup ATS\\n        ats -> ats: Every 20 minutes a task to update candidate\\'s salary is launched\\n        ats -> ats: Get all candidates who are not registered in WBTeam with the status \"Processed/Working\"\\n is_registered_in_wbteam=false\\n\\n        loop for all candidates\\n                ats -> ats: Set CalculationType = \"IT department\"\\n\\t\\t            ats -> ats: Set MotivationType = \"Undefined\"\\n                ats -> ats: Set the candidate\\'s flag that he is registered in WBTeam\\n set is_registered_in_wbteam=true\\n                ats -> crm: Request CRM to update candidate\\'s salary in WBTeam\\n/api/v1/create_income_for_hr_crm_api\\n\\n\\n                group CRM-API\\n                        crm -> crm: Search for a user by WBUserID or by (Fio AND Phone)\\n                        crm -> customfields: Request CustomFields service to save motivation type in custom fields\\n                        group CustomFields\\n                                customfields -> customfields: Save motivation type in custom fields\\n                                customfields -[#red]-> customfields: \"<font color=red> Commit all changes</font>\"\\n                        end\\n                        crm -> trf: Request tariff calculator to save CalculationType\\n /api/v1/pub/calculation-type\\n\\n                        group Tarificator\\n                                alt if request type is not equal to 0\\n                                        trf -> trf: Add or update CalculationType\\n in tariff_office.employee_fields\\n                                else\\n                                        trf -> trf: Search for calculation type in custom_fields table\\n                                        alt if there is no record\\n                                                trf -> trf: Add a record to the custom_fields table\\n                                                trf -> trf: Get the ID of CalculationType that came from the request\\n tariff_office.calculation_type\\n                                                trf -> trf: Add or update CalculationType\\n tariff_office.employee_fields\\n                                        end\\n                                        trf -> trf: Update CalculationType in custom_fields table\\n                                        trf -> trf: Get the ID of CalculationType that came from the request\\n tariff_office.calculation_type\\n                                        trf -> trf: Add or update CalculationType\\n tariff_office.employee_fields\\n                                end\\n                                trf -[#red]-> trf: \"<font color=red> Commit all changes</font>\"\\n                        end\\n\\n                        crm -> crm: Search for RECRUITER by WBUserID or by (Fio AND Phone)\\n                        crm -> crm: Save salary for an employee with the status `send_to_tarificator`\\n employee_income.income\\n                        note over crm\\n                                This is called SalaryApproval.\\n                                The last action occurs in an atomic transaction\\n                                in case of rollback of the main transaction - salary change will not rollback\\n                        end note\\n\\n                        crm -> trf: Update salary in the tariff calculator\\n /api/v1/pub/incomes\\n                        note over crm\\n                                Send attributes:\\n                                IsBonus:         false\\n                                IsNewEmployee:   true,\\n                                ApplicationDate: time.Now(),\\n                        end note\\n                        group Tarificator\\n\\n                                == update salary tariff_office.incomes ==\\n                                trf -> trf: Check if the service(hr-crm-api) is in the available services\\n                                alt no service\\n                                        trf -> trf: Make the current active salary inactive\\n                                        trf -> trf: Add a new active salary\\n                                else service exists\\n                                        trf -> trf: Make the current active salary inactive\\n                                        trf -> trf: Update all records of active salaries for the service(hr-crm-api) to new values\\n                                        note over trf\\n                                                It\\'s not clear here. Update everything!!!\\n\\t                                              queryUpdate := `UPDATE tariff_office.incomes SET total_sum = $1, current_sum = $2, is_current = $4 WHERE income_service_id = $3`\\n                                        end note\\n                                end\\n                                trf -[#red]-> trf: \"<font color=red> Commit all changes</font>\"\\n\\n\\n                                == enable employee calculation and payment ==\\n                                note over trf\\n                                        Important - the employee is new!\\n                                end note\\n                                trf -> trf: Set the `calculation` and `payment` flags to true\\n tariff_office.access_users\\n                                trf -> trf: Set the status of accruals - recalculate from the specified date\\n `ready_for_billing` if the status is `do_not_pay` and date >= specified value\\n tariff_office.accruals\\n                                note over trf\\n                                        For new employees there are no records!!!\\n                                        We won\\'t update anything\\n                                end note\\n\\n                                trf -> trf: Set the status of accruals - do not pay until the specified date\\n `do_not_pay` if the status is `ready_for_billing` and date < specified value\\n tariff_office.accruals\\n\\n                                trf -> trf: Delete canceled accruals\\n status=`cansel` AND date >=specified value\\n                                trf -[#red]-> trf: \"<font color=red> Commit all changes</font>\"\\n\\n                                == Delete ready accruals ==\\n                                group #tomato do atomically, without the possibility to rollback changes\\n                                        trf -> trf: Delete all errors that occurred during payments\\nall history\\n                                end\\n\\n                                group #tomato do atomically, without the possibility to rollback changes\\n                                        trf -> trf: Delete all accruals that are ready for payment from the specified date\\n status = `ready_for_billing`\\n                                end\\n\\n                                trf -> nats: Send a message to Tarificator.CALC for recalculation\\n\\n                        end\\n\\n                        crm -> org: Request to embed the user in the org-structure\\n\\n                        group ORG-STRUCT-API\\n                                org -> org: Add or update group-employee relationship\\n                                org -[#red]-> org: \"<font color=red> Commit all changes</font>\"\\n                        end\\n\\n                end\\n\\n        end\\n        ats -> ats: Commit the transaction\\nend\\n\\n@enduml\\n\\n'"
      ]
     },
     "execution_count": 2,
     "metadata": {},
     "output_type": "execute_result"
    }
   ],
   "source": [
    "TARRIFICARTOR_ADR"
   ]
  },
  {
   "cell_type": "code",
   "execution_count": 7,
   "id": "ba9a06be-a887-4dac-af28-302430db0cc2",
   "metadata": {},
   "outputs": [
    {
     "name": "stdout",
     "output_type": "stream",
     "text": [
      "registrationsStatusStorage storage.StatusStorage,\n",
      "registrationsService *registration.RegistrationService,\n",
      "registrationsPass string,\n",
      "auth := &Auth{secret: authSecret, secretBasic: authBasicSecret, log: log, tokenRegistrations: registrationsPass,\n",
      "registrationStatus := &Status{log: log, statusStorage: registrationsStatusStorage}\n",
      "registrations := &Registrations{log: log, registrationsService: registrationsService, worksheetsLinkService: worksheetsLinkService, courierClaimsService: courierClaimsService, scansService: scansServer, notifyService: notifyService, accessService: access, logsService: logsService}\n",
      "registrationsHisrory := &RegistrationsHistory{log: log, historiesService: registrationHistoriesService}\n",
      "router.POST(\"/ar/registration\", auth.AuthJWT(registrations.Insert))\n",
      "router.GET(\"/ar/registration\", auth.AuthJWT(registrations.All))\n",
      "router.GET(\"/ar/registration/:id\", auth.AuthJWT(registrations.ByID))\n",
      "router.PUT(\"/ar/registration/:id/send\", auth.AuthJWT(registrations.Send))\n",
      "router.PUT(\"/ar/registration/:id/cancel\", auth.AuthJWT(registrations.Cancel))\n",
      "router.GET(\"/ar/registration/:id/history\", auth.AuthJWT(registrationsHisrory.ByAll))\n",
      "router.PUT(\"/ar/registration/:id/rr-approved\", auth.AuthJWT(registrations.IsRegionEmployeeApproved))\n",
      "router.PUT(\"/ar/registration/:id/documents-check\", auth.AuthJWT(registrations.DocumentsOnCheck))\n",
      "router.GET(\"/ar/registration/:id/rr\", auth.AuthJWT(registrations.CheckRegionEmployeeApproved))\n",
      "router.GET(\"/ar/registration/:id/ckeck\", registrations.CheckRegistrationByID)\n",
      "router.GET(\"/ar/registrations/:id/worksheets/:worksheetId\", auth.AuthJWT(registrations.GetWorksheetByID))\n",
      "router.GET(\"/ar/registrations/:id/worksheets\", registrations.GetFirstWorksheetWithStatusDone)\n",
      "router.GET(\"/ar/worksheets/:id/registration\", registrations.GetRegistrationIDByWorksheet)\n",
      "router.GET(\"/ar/lk/registration\", auth.AuthJWTApplicantRegistration(registrations.AllLK))\n",
      "router.GET(\"/ar/branch-offices-couriers\", auth.AuthJWT(registrations.GetBranchOffices))\n",
      "router.GET(\"/ar/worksheet-by-telephone\", auth.AuthJWT(registrations.GetWorksheetByPhoneNumber))\n",
      "router.GET(\"/ar/registration-bo/appointment/:id1/employeeId/:id2\", auth.AuthJWTExecutor(registrations.Appointment))\n",
      "router.POST(\"/ar/registrations/:id/link\", worksheetsLink.CreateLink)\n",
      "router.PUT(\"/ar/worksheets/:id/cancelled\", auth.AuthJWTWorksheets(registrations.CloseBecauseCancelWorksheet))\n",
      "router.GET(\"/ar/1c/registrations/not-accepted-employees\", auth.AuthJWT1C(registrations.GetResponsibleFor1C))\n",
      "router.GET(\"/ar/1c/registrations/not-accepted-couriers\", auth.AuthJWT1C(registrations.GetResponsibleByCouriersAllFor1C))\n",
      "router.POST(\"/ar/1c/registrations/not-accepted-couriers/:registrationId\", auth.AuthJWT1C(registrations.DiscardCouriersFrom1C))\n",
      "router.POST(\"/ar/1c/registrations/duplicate/:employeeId\", auth.AuthJWT1C(registrations.DeleteDuplicateCouriersFrom1C))\n",
      "router.GET(\"/ar/1c/employee/:id\", auth.AuthJWT1C(registrations.GetDataByEmployeeID))\n",
      "router.POST(\"/ar/mobile/registration-courier\", auth.AuthJWTMobile(registrations.InsertForMobile))\n",
      "router.POST(\"/ar/wh/employee/registration\", auth.AuthJWTMobile(registrations.InsertWarehouseEmployee))\n",
      "router.POST(\"/ar/wh/employee/registration-array\", auth.AuthJWTMobile(registrations.InsertWarehouseEmployeeArray))\n",
      "router.POST(\"/ar/new-contract/employee\", auth.AuthJWTMobile(registrations.InsertMobileNewContractEmployeeArray))\n",
      "router.POST(\"/ar/kz/employee/registration\", auth.AuthJWTKZ(registrations.InsertKZEmployee))\n",
      "router.POST(\"/ar/pvz-managers/employee/registration\", auth.AuthJWTMobile(registrations.InsertPVZMenegersEmployee))\n",
      "router.POST(\"/ar/dl/employee/registration\", auth.AuthDelivery(registrations.InsertDeliveryEmployee))\n",
      "router.GET(\"/ar/short-data/auto-reception\", auth.AuthShortAutoRecepiant(registrations.GetAllShortDataOnAutoReception))\n",
      "registrations.\n",
      "router.POST(\"/v1/autocreate-applications\", registrations.AutoCreateApplications)\n",
      "router.GET(\"/ar/armeniya/file\", auth.AuthJWTForArmeniya(registrations.GetArmeniyaByCreateAt))\n"
     ]
    }
   ],
   "source": [
    "\n",
    "with open(r'C:\\Users\\MGroup\\hr\\hr\\hr-applications-registration\\cmd\\api\\handlers\\routers.go', 'r') as f:\n",
    "    text_block = f.read()\n",
    "\n",
    "# Split the text into lines\n",
    "lines = text_block.strip().split('\\n')\n",
    "\n",
    "# Define keywords to exclude\n",
    "excluded_keywords = ['registrationFiles', 'registrationFileTypes', 'registrationComments', 'registrationHisrory']\n",
    "\n",
    "# Filter the lines\n",
    "filtered_lines = []\n",
    "for line in lines:\n",
    "    # Check if the line is not a comment, contains 'registration', and does not contain any excluded keywords\n",
    "    if not line.strip().startswith('//') and 'registrations' in line and not any(excluded in line for excluded in excluded_keywords):\n",
    "        filtered_lines.append(line.strip())\n",
    "\n",
    "# Output the filtered lines\n",
    "for line in filtered_lines:\n",
    "    print(line)\n"
   ]
  },
  {
   "cell_type": "code",
   "execution_count": null,
   "id": "9e172cf2-7109-4263-bf55-f9e50b64bfb1",
   "metadata": {},
   "outputs": [],
   "source": []
  }
 ],
 "metadata": {
  "kernelspec": {
   "display_name": "Python 3 (ipykernel)",
   "language": "python",
   "name": "python3"
  },
  "language_info": {
   "codemirror_mode": {
    "name": "ipython",
    "version": 3
   },
   "file_extension": ".py",
   "mimetype": "text/x-python",
   "name": "python",
   "nbconvert_exporter": "python",
   "pygments_lexer": "ipython3",
   "version": "3.12.2"
  }
 },
 "nbformat": 4,
 "nbformat_minor": 5
}
