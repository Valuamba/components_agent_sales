{
 "cells": [
  {
   "cell_type": "code",
   "execution_count": null,
   "id": "e54eeae8-3f2b-4f88-8840-5e423dbe8af4",
   "metadata": {},
   "outputs": [],
   "source": [
    "pip install scrapy"
   ]
  },
  {
   "cell_type": "code",
   "execution_count": 3,
   "id": "a5e94e30-6903-464f-ab4b-83721f07d20e",
   "metadata": {},
   "outputs": [],
   "source": [
    "import scrapy\n",
    "from scrapy.crawler import CrawlerProcess\n",
    "\n",
    "\n",
    "class MySpider(scrapy.Spider):\n",
    "    name = 'my_spider'\n",
    "    start_urls = ['https://lms.tough-dev.school/']\n",
    "\n",
    "    def parse(self, response):\n",
    "        # Extract the title of the current page\n",
    "        title = response.css('title::text').get()\n",
    "\n",
    "        # Extract the URL of the current page\n",
    "        url = response.url\n",
    "\n",
    "        # Return the extracted information\n",
    "        yield {\n",
    "            'title': title,\n",
    "            'url': url\n",
    "        }\n",
    "\n",
    "        # Follow links to other pages\n",
    "        for next_page in response.css('a::attr(href)').getall():\n",
    "            yield response.follow(next_page, self.parse)"
   ]
  },
  {
   "cell_type": "code",
   "execution_count": null,
   "id": "389d71f7-d0e6-4400-854a-58a4d269999c",
   "metadata": {},
   "outputs": [],
   "source": [
    "process = CrawlerProcess({\n",
    "    'USER_AGENT': 'Mozilla/5.0 (compatible; MySpider/1.0)',\n",
    "    'LOG_LEVEL': 'INFO',\n",
    "})\n",
    "\n",
    "# Start the spider\n",
    "process.crawl(MySpider)\n",
    "process.start()  #"
   ]
  },
  {
   "cell_type": "code",
   "execution_count": null,
   "id": "723f1947-2f81-4e23-894d-68304fc7db62",
   "metadata": {},
   "outputs": [],
   "source": [
    "import requests"
   ]
  },
  {
   "cell_type": "code",
   "execution_count": null,
   "id": "1f63d13f-fa99-46d2-b58f-6bb37032ba07",
   "metadata": {},
   "outputs": [],
   "source": []
  }
 ],
 "metadata": {
  "kernelspec": {
   "display_name": "Python 3 (ipykernel)",
   "language": "python",
   "name": "python3"
  },
  "language_info": {
   "codemirror_mode": {
    "name": "ipython",
    "version": 3
   },
   "file_extension": ".py",
   "mimetype": "text/x-python",
   "name": "python",
   "nbconvert_exporter": "python",
   "pygments_lexer": "ipython3",
   "version": "3.12.2"
  }
 },
 "nbformat": 4,
 "nbformat_minor": 5
}
