{
 "cells": [
  {
   "cell_type": "code",
   "execution_count": 14,
   "id": "f87b03cd-2008-4512-95ad-e10a489533af",
   "metadata": {},
   "outputs": [],
   "source": [
    "from langchain.chat_models import ChatOpenAI\n",
    "from langchain.agents import load_tools, AgentType, initialize_agent\n",
    "\n",
    "import os"
   ]
  },
  {
   "cell_type": "code",
   "execution_count": 19,
   "id": "9810a4f7-6d1d-410a-99ab-04669d31977e",
   "metadata": {},
   "outputs": [],
   "source": [
    "os.environ['SEARCHAPI_API_KEY'] = '4p8mcF1Qfa5EQdTQyNdXjUwo'"
   ]
  },
  {
   "cell_type": "code",
   "execution_count": 20,
   "id": "b474b05b-486a-42be-ad0c-76596f61de7f",
   "metadata": {},
   "outputs": [
    {
     "data": {
      "text/plain": [
       "True"
      ]
     },
     "execution_count": 20,
     "metadata": {},
     "output_type": "execute_result"
    }
   ],
   "source": [
    "from dotenv import load_dotenv\n",
    "\n",
    "load_dotenv()"
   ]
  },
  {
   "cell_type": "code",
   "execution_count": 21,
   "id": "0697f6ec-8312-488e-b73e-ee7ec883bec6",
   "metadata": {},
   "outputs": [],
   "source": [
    "llm = ChatOpenAI(model='gpt-4', temperature=0.1)"
   ]
  },
  {
   "cell_type": "code",
   "execution_count": 22,
   "id": "b421bc12-169a-4c8a-a8a5-6348c6013801",
   "metadata": {},
   "outputs": [],
   "source": [
    "tools = load_tools(['searchapi'])\n",
    "\n",
    "agent = initialize_agent(\n",
    "    tools,\n",
    "    llm,\n",
    "    agent=AgentType.ZERO_SHOT_REACT_DESCRIPTION,\n",
    "    early_stopping_method='generate'\n",
    ")"
   ]
  },
  {
   "cell_type": "code",
   "execution_count": 23,
   "id": "64e75b2e-9805-4949-b66b-e82111e5f2c5",
   "metadata": {},
   "outputs": [],
   "source": [
    "output = agent.run(\"1. what is the price of bitcoin. 2. summarize any recent news about Romania. 3. a photo of a bitcoin with a rocket flying by on the way to the moon. 4. whats the temperature in Switzerland \")"
   ]
  },
  {
   "cell_type": "code",
   "execution_count": 24,
   "id": "e8b14fbf-1294-4f16-93c9-8c51ac7ddd0f",
   "metadata": {},
   "outputs": [
    {
     "data": {
      "text/plain": [
       "\"1. The current price of Bitcoin is 41955.4 USD. 2. Recent news about Romania includes a military parade for Great Union Day, heavy snowfall causing power outages and one death, and Romania qualifying for Euro 2024. 3. There are several images available online of a Bitcoin with a rocket flying by on the way to the moon, but I can't provide the actual image. 4. The temperature in Switzerland varies greatly depending on the location and time of day, with temperatures ranging from -5°C to 34°C.\""
      ]
     },
     "execution_count": 24,
     "metadata": {},
     "output_type": "execute_result"
    }
   ],
   "source": [
    "output"
   ]
  },
  {
   "cell_type": "code",
   "execution_count": null,
   "id": "d0970166-4bbd-4794-b3de-5f4b7f355b44",
   "metadata": {},
   "outputs": [],
   "source": []
  }
 ],
 "metadata": {
  "kernelspec": {
   "display_name": "Python 3 (ipykernel)",
   "language": "python",
   "name": "python3"
  },
  "language_info": {
   "codemirror_mode": {
    "name": "ipython",
    "version": 3
   },
   "file_extension": ".py",
   "mimetype": "text/x-python",
   "name": "python",
   "nbconvert_exporter": "python",
   "pygments_lexer": "ipython3",
   "version": "3.12.1"
  }
 },
 "nbformat": 4,
 "nbformat_minor": 5
}
