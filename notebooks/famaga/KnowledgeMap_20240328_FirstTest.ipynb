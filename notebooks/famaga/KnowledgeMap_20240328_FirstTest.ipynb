{
 "cells": [
  {
   "cell_type": "code",
   "execution_count": 1,
   "id": "3fc80fcb-50af-465a-ab57-68024c47eb4d",
   "metadata": {},
   "outputs": [],
   "source": [
    "FAMAGA_DOWNLOAD_HTML_URL = \"https://test-api.famaga.org/imap\"\n",
    "FAMAGA_DOWNLOAD_HTML_TOKEN = \"YXBpZmFtYWdhcnU6RHpJVFd1Lk1COUV4LjNmdERsZ01YYlcvb0VFcW9NLw\"\n",
    "EXTRACTED_DEALS_DATABASE_PATH = 'extracted_deals_messaging.db'\n",
    "CLIENTS_HISTORY_PATH = r'C:\\Users\\MGroup\\Documents\\products.json'\n",
    "GPT_DB_LOGGER_PATH = 'sqlite:///prompt_versions.db'\n",
    "\n",
    "AGENTS_API_URL = 'http://localhost:8000'"
   ]
  },
  {
   "cell_type": "code",
   "execution_count": 2,
   "id": "e399d7bc-48ef-453f-87a3-eb98e9fdb067",
   "metadata": {},
   "outputs": [
    {
     "ename": "AttributeError",
     "evalue": "module 'clients' has no attribute 'msg_html_extracter'",
     "output_type": "error",
     "traceback": [
      "\u001b[0;31m---------------------------------------------------------------------------\u001b[0m",
      "\u001b[0;31mAttributeError\u001b[0m                            Traceback (most recent call last)",
      "Cell \u001b[0;32mIn[2], line 5\u001b[0m\n\u001b[1;32m      2\u001b[0m \u001b[38;5;28;01mimport\u001b[39;00m \u001b[38;5;21;01mclients\u001b[39;00m\n\u001b[1;32m      4\u001b[0m reload(clients)\n\u001b[0;32m----> 5\u001b[0m reload(\u001b[43mclients\u001b[49m\u001b[38;5;241;43m.\u001b[39;49m\u001b[43mmsg_html_extracter\u001b[49m)\n\u001b[1;32m      7\u001b[0m \u001b[38;5;28;01mfrom\u001b[39;00m \u001b[38;5;21;01mclients\u001b[39;00m\u001b[38;5;21;01m.\u001b[39;00m\u001b[38;5;21;01magents\u001b[39;00m \u001b[38;5;28;01mimport\u001b[39;00m AgentsAPIClient\n\u001b[1;32m      8\u001b[0m \u001b[38;5;28;01mfrom\u001b[39;00m \u001b[38;5;21;01mclients\u001b[39;00m\u001b[38;5;21;01m.\u001b[39;00m\u001b[38;5;21;01mclient_statistics\u001b[39;00m \u001b[38;5;28;01mimport\u001b[39;00m ClientStatisticsService\n",
      "\u001b[0;31mAttributeError\u001b[0m: module 'clients' has no attribute 'msg_html_extracter'"
     ]
    }
   ],
   "source": [
    "from importlib import reload\n",
    "import clients\n",
    "\n",
    "reload(clients)\n",
    "reload(clients.msg_html_extracter)\n",
    "\n",
    "from clients.agents import AgentsAPIClient\n",
    "from clients.client_statistics import ClientStatisticsService\n",
    "from clients.clients_deals_history import ClientDealsHistoryRepository\n",
    "from clients.email_downloader import EmailDownloader\n",
    "from clients.extracted_deals import ExtractedDealsRepository\n",
    "from clients.gpt_database_logger import GPTDatabaseLogger\n",
    "from clients.msg_html_extracter import MsgHtmlExtracter\n",
    "\n",
    "print('Updated')"
   ]
  },
  {
   "cell_type": "code",
   "execution_count": 144,
   "id": "e4fb027e-d612-4c90-bc32-be15e1484661",
   "metadata": {},
   "outputs": [],
   "source": [
    "deals_rep = ExtractedDealsRepository(EXTRACTED_DEALS_DATABASE_PATH)\n",
    "client_deals_rep = ClientDealsHistoryRepository(CLIENTS_HISTORY_PATH)\n",
    "client_statistics = ClientStatisticsService()\n",
    "downloader = EmailDownloader(FAMAGA_DOWNLOAD_HTML_URL, FAMAGA_DOWNLOAD_HTML_TOKEN)\n",
    "client = AgentsAPIClient(AGENTS_API_URL)\n",
    "db_logger = GPTDatabaseLogger(GPT_DB_LOGGER_PATH)"
   ]
  },
  {
   "cell_type": "code",
   "execution_count": 11,
   "id": "7ea03b2e-3a40-4711-841f-9b1a150ac605",
   "metadata": {},
   "outputs": [],
   "source": [
    "import json\n",
    "import re\n",
    "\n",
    "def select_json_block(text: str):\n",
    "    match = re.search(r\"```json\\n([\\s\\S]*?)\\n```\", text)\n",
    "    if match:\n",
    "        json_data = match.group(1)\n",
    "    else:\n",
    "        raise ValueError(\"No valid JSON data found in the string.\")\n",
    "\n",
    "    return json.loads(json_data)"
   ]
  },
  {
   "cell_type": "code",
   "execution_count": 128,
   "id": "7d63a1f2-b098-48ad-bb13-fe34d7670006",
   "metadata": {},
   "outputs": [],
   "source": [
    "from typing import List, Literal, Optional\n",
    "from pydantic import BaseModel, Field\n",
    "import json\n",
    "\n",
    "\n",
    "class Intent(BaseModel):\n",
    "    intent: str\n",
    "    sub_intent: str\n",
    "    branch: str\n",
    "\n",
    "\n",
    "class Message(BaseModel):\n",
    "    id: str  # Adjust the type as needed (e.g., int for integer IDs)\n",
    "    body: str\n",
    "    sign: Optional[str] = None\n",
    "    from_: Literal['customer', 'manager'] = Field(..., alias='from')\n",
    "    intents: List[Intent]\n",
    "\n",
    "    class Config:\n",
    "        allow_population_by_field_name = True"
   ]
  },
  {
   "cell_type": "code",
   "execution_count": 109,
   "id": "80cd313f-e18e-4f78-8eca-d0aeadd45ec1",
   "metadata": {},
   "outputs": [],
   "source": [
    "msg = \"\"\"\n",
    "Dear Sir or Madam,\n",
    "Please advise if stators and rotors are available for the attached. The pump appears to be very similar to a Mono pump\n",
    "Kind regards\n",
    "Austen Brunton BEng (Hons), MIMarEST\n",
    "Technical Fleet Manager\n",
    "WYM Group Ltd\n",
    "Incorporating Wilson Yacht Management and Wilson Ship Management\n",
    "New Email Address: austen@wymgroup.com\n",
    "Web: www.wymgroup.com\n",
    "Phone: +44 (0) 1482 648322\n",
    "Mob: +44 (0) 7760665835\n",
    "\"\"\""
   ]
  },
  {
   "cell_type": "markdown",
   "id": "63f752fb-6232-4574-9019-11e95de64409",
   "metadata": {
    "jp-MarkdownHeadingCollapsed": true
   },
   "source": [
    "### Get message intents"
   ]
  },
  {
   "cell_type": "code",
   "execution_count": 110,
   "id": "d27dd77b-71de-42a2-b445-5af6ac420bd0",
   "metadata": {},
   "outputs": [],
   "source": [
    "\n",
    "def get_message_intents(msg: str):\n",
    "    response = db_logger.create_completion(temperature=0.1, tags='intent_classifier', model='gpt-4', messages=[\n",
    "    { \"role\": \"user\", \"content\": f\"\"\"\n",
    "Please attach to each message in chat history tags, annotations, indexes, intents to better classification and search.\n",
    "The message could have one or more intents.\n",
    "\n",
    "Message:\n",
    "```\n",
    "{msg}\n",
    "```\n",
    "\n",
    "For example, this message would have intents:\n",
    "- customer: Hello So as not to waste precious time. We order devices from offer no. 440822 of friday, 29 september 2023 . \n",
    "If possible, please provide an additional discount on your purchase. Please confirm acceptance of our order. \n",
    "In the meantime, once you know what the transport cost will be, we will discuss how to deliver the parcel to us \n",
    "or whether we will collect it ourselves.\n",
    "\n",
    "Example of intents/sub-intents/branches namings:\n",
    "   - Order Processing -> Order Placement Confirmation -> Confirmation of Specific Offer\n",
    "   - Order Processing -> Order Acceptance Confirmation -> Confirmation of Order Receipt and Acceptance\n",
    "   - Pricing and Quotes -> Discount Inquiry -> Request for Additional Discount on Purchase\n",
    "   - Pricing and Quotes -> Transport Cost Inquiry -> Inquiry About Delivery Costs\n",
    "   - Delivery and Shipping -> Delivery Method Discussion -> Discussing Whether to Ship or Self-Collect\n",
    "   - Delivery and Shipping -> Discussing Logistics -> Coordination of Transport and Delivery Options\n",
    "   - Product Inquiry -> Availability Check\n",
    "\n",
    "Put the result at ```json``` format, like:\n",
    "```json\n",
    "[\n",
    "    {{\n",
    "        \"id\": \"<message_id>\",\n",
    "        \"body\": \"<message body>\", //only body without sign\n",
    "        \"sign\": \"<signature>\", //message signature\n",
    "        \"from\": \"<message from>\", //this should be one of two values: customer or manager\n",
    "        \"intents\": [\n",
    "            {{\n",
    "                \"intent\": \"<main intent>\",\n",
    "                \"sub_intent\": \"<sub intent>\",\n",
    "                \"branch\": \"<branch>\"\n",
    "            }}\n",
    "        ]\n",
    "    \n",
    "    }}\n",
    "]\n",
    "```\n",
    "Please put new lines symbols if it suitable for context \\\\n at body and sign fields.\n",
    "    \"\"\"}                             \n",
    "    ])\n",
    "    response_raw_json = select_json_block(response)\n",
    "    parsed_messages = [Message(**message) for message in response_raw_json]\n",
    "    return parsed_messages"
   ]
  },
  {
   "cell_type": "markdown",
   "id": "55a11728-cd3d-49ed-9fa1-e1e04fca1a1c",
   "metadata": {},
   "source": [
    "### Get message details"
   ]
  },
  {
   "cell_type": "code",
   "execution_count": 112,
   "id": "1fa8789c-4ee4-412a-9afd-372198ef25b4",
   "metadata": {},
   "outputs": [
    {
     "name": "stderr",
     "output_type": "stream",
     "text": [
      "<>:35: SyntaxWarning: invalid escape sequence '\\`'\n",
      "<>:35: SyntaxWarning: invalid escape sequence '\\`'\n",
      "C:\\Users\\MGroup\\AppData\\Local\\Temp\\ipykernel_28008\\2480512955.py:35: SyntaxWarning: invalid escape sequence '\\`'\n",
      "  \"\"\"}\n"
     ]
    }
   ],
   "source": [
    "def get_details_from_message(msg):\n",
    "    response = db_logger.create_completion(temperature=0.1, tags='intent_classifier', model='gpt-4', messages=[\n",
    "    { \"role\": \"user\", \"content\": f\"\"\"\n",
    "Try to extract from text brand name, amount, detail name, part number from the text. Also recognize country by text.\n",
    "<<<>>>\n",
    "Dear Sir or Madam,\\nPlease advise if stators and rotors are available for the attached. \n",
    "The pump appears to be very similar to a Mono pump\\nKind regards\n",
    "<<<>>>\n",
    "\n",
    "If you cannot recognize specified parameters please put `null` value.\n",
    "\n",
    "---\n",
    "\n",
    "Your response should be a list of comma separated values, eg: `foo, bar, baz`\n",
    "\n",
    "The output should be a markdown code snippet formatted in the following adr, including the leading and trailing \"\\`\\`\\`json\" and \"\\`\\`\\`\":\n",
    "\n",
    "```json\n",
    "{{\n",
    "    \"parts\": [\n",
    "        {{\n",
    "           \"amount\": int // This is the amount of details\n",
    "           \"brand_name\": string // This is thr brand  name of detail\n",
    "           \"part_number\": string // This is the part number of detail\n",
    "        }}\n",
    "    ],\n",
    "    \"client\": {{\n",
    "        \"country\": string // This is the country of detail,\n",
    "        \"domain\": string // customer company domain\n",
    "        \"email\": string // customer email,\n",
    "        \"office_country\": string // country of customer office\n",
    "    }}\n",
    "}}\n",
    "```\n",
    "    \"\"\"}                             \n",
    "    ])\n",
    "    return response"
   ]
  },
  {
   "cell_type": "code",
   "execution_count": null,
   "id": "5ad587b8-2178-42c4-9ec2-8b158b9f6841",
   "metadata": {},
   "outputs": [],
   "source": [
    "parsed_messages = get_message_intents(msg)"
   ]
  },
  {
   "cell_type": "code",
   "execution_count": null,
   "id": "d0b5b36f-0c73-450f-a4ef-46a7a6391a83",
   "metadata": {},
   "outputs": [],
   "source": [
    "msg_details = get_details_from_message(msg)"
   ]
  },
  {
   "cell_type": "markdown",
   "id": "00c4a9ab-bc8d-4d0d-a1dd-3d32479d04f7",
   "metadata": {},
   "source": [
    "### Build SQL query"
   ]
  },
  {
   "cell_type": "code",
   "execution_count": 122,
   "id": "be125083-53a6-4c57-b93b-ebe92af8107d",
   "metadata": {},
   "outputs": [],
   "source": [
    "def build_sql_query(msg_details, intents):\n",
    "    response = db_logger.create_completion(temperature=0.1, tags='intent_classifier', model='gpt-4', messages=[\n",
    "    { \"role\": \"user\", \"content\": f\"\"\"\n",
    "Here is the table.\n",
    "\n",
    "TABLE product_inquiries (\n",
    "    intent TEXT,\n",
    "    sub_intent TEXT,\n",
    "    is_brand_name BOOLEAN,\n",
    "    is_part_number BOOLEAN,\n",
    "    action TEXT\n",
    ")\n",
    "\n",
    "Please build sql query that select one or more rows by presented data. Please ignore action field at sql request condition. Database: sqlite\n",
    "\n",
    "{intents}\n",
    "\n",
    "Message details:\n",
    "{msg_details}\n",
    "---\n",
    "\n",
    "Put the result at ```json``` format, like:\n",
    "```sql\n",
    "SELECT * FROM table_name\n",
    "WHERE field1 = 'value_2'\n",
    "```\n",
    "    \"\"\"}                             \n",
    "    ])\n",
    "    match = re.search(r\"```sql\\n([\\s\\S]*?)\\n```\", response)\n",
    "    if match:\n",
    "        return match.group(1)\n",
    "    else:\n",
    "        raise ValueError(\"No valid JSON data found in the string.\")\n",
    "\n",
    "    return json.loads(json_data)\n",
    "    return response_raw_json"
   ]
  },
  {
   "cell_type": "code",
   "execution_count": 124,
   "id": "5e39c6fc-8edd-44de-b84e-de5b97264426",
   "metadata": {},
   "outputs": [
    {
     "name": "stdout",
     "output_type": "stream",
     "text": [
      "Based on the provided JSON data, the SQL query to select one or more rows from the `product_inquiries` table would be:\n",
      "\n",
      "```sql\n",
      "SELECT * FROM product_inquiries\n",
      "WHERE intent = 'Product Inquiry' \n",
      "AND sub_intent = 'Availability Check' \n",
      "AND is_brand_name = 1 \n",
      "AND is_part_number = 0\n",
      "```\n",
      "\n",
      "This query will select all rows where the `intent` is 'Product Inquiry', the `sub_intent` is 'Availability Check', the `is_brand_name` is true (1), and the `is_part_number` is false (0).\n",
      "\n",
      "Please note that in SQLite, boolean values are represented as integers, where 1 is true and 0 is false.\n",
      "\n",
      "--------------------\n",
      "\n",
      "Note saved without feedback. ID: 236a0544-1e50-4a83-9630-03360b661e98\n",
      "Input tokens: 177 Output tokens: 145 Total price: 0.01$\n",
      "\n",
      "\n"
     ]
    },
    {
     "data": {
      "application/vnd.jupyter.widget-view+json": {
       "model_id": "d6d76e0a89ba4936ab6e2df12bc62637",
       "version_major": 2,
       "version_minor": 0
      },
      "text/plain": [
       "HBox(children=(Button(button_style='success', description='👍 Like', style=ButtonStyle(), tooltip='Like this co…"
      ]
     },
     "metadata": {},
     "output_type": "display_data"
    },
    {
     "data": {
      "application/vnd.jupyter.widget-view+json": {
       "model_id": "6372ecc4eab84471a137029a7a6e7852",
       "version_major": 2,
       "version_minor": 0
      },
      "text/plain": [
       "Textarea(value='', description='Feedback:', layout=Layout(height='80px', width='70%'), placeholder='Type your …"
      ]
     },
     "metadata": {},
     "output_type": "display_data"
    },
    {
     "data": {
      "application/vnd.jupyter.widget-view+json": {
       "model_id": "7389c4e3ad3c4ca9b2efc4c5a1a28dfb",
       "version_major": 2,
       "version_minor": 0
      },
      "text/plain": [
       "Button(button_style='success', description='Submit Feedback', style=ButtonStyle(), tooltip='Click to submit fe…"
      ]
     },
     "metadata": {},
     "output_type": "display_data"
    }
   ],
   "source": [
    "intents_str = '\\n'.join([f'{intent.intent} -> {intent.sub_intent}' for intent in parsed_messages[0].intents])\n",
    "intents_str\n",
    "raw_sql = build_sql_query(msg_details, intents_str)"
   ]
  },
  {
   "cell_type": "code",
   "execution_count": 45,
   "id": "f496bac8-8f0a-409b-9988-2cab6909cc6a",
   "metadata": {},
   "outputs": [
    {
     "name": "stdout",
     "output_type": "stream",
     "text": [
      "ask_specify_part_number\n"
     ]
    }
   ],
   "source": [
    "for row in rows:\n",
    "    action = row[4]\n",
    "    print(action)"
   ]
  },
  {
   "cell_type": "markdown",
   "id": "a477923c-5537-47a9-a783-84cb86082812",
   "metadata": {
    "jp-MarkdownHeadingCollapsed": true
   },
   "source": [
    "### Ask specify part number"
   ]
  },
  {
   "cell_type": "code",
   "execution_count": 52,
   "id": "ebbdb964-9752-42ad-a307-d3052243399e",
   "metadata": {},
   "outputs": [
    {
     "name": "stdout",
     "output_type": "stream",
     "text": [
      "Dear Valued Customer,\n",
      "\n",
      "Thank you for your interest in our Mono brand parts. In order to assist you more efficiently, could you please provide us with the specific part number you are interested in?\n",
      "\n",
      "Looking forward to your response.\n",
      "\n",
      "--------------------\n",
      "\n",
      "Note saved without feedback. ID: 13bafa8b-f97e-481b-b50e-6ed5a9d37a4c\n",
      "Input tokens: 169 Output tokens: 45 Total price: 0.01$\n",
      "\n",
      "\n"
     ]
    },
    {
     "data": {
      "application/vnd.jupyter.widget-view+json": {
       "model_id": "40c80a4140414c27ad9ba7e04dd30373",
       "version_major": 2,
       "version_minor": 0
      },
      "text/plain": [
       "HBox(children=(Button(button_style='success', description='👍 Like', style=ButtonStyle(), tooltip='Like this co…"
      ]
     },
     "metadata": {},
     "output_type": "display_data"
    },
    {
     "data": {
      "application/vnd.jupyter.widget-view+json": {
       "model_id": "c1ae179164554ed2a7e2957d5e8b87fa",
       "version_major": 2,
       "version_minor": 0
      },
      "text/plain": [
       "Textarea(value='', description='Feedback:', layout=Layout(height='80px', width='70%'), placeholder='Type your …"
      ]
     },
     "metadata": {},
     "output_type": "display_data"
    },
    {
     "data": {
      "application/vnd.jupyter.widget-view+json": {
       "model_id": "7f5f313450084eb89be91735689054e7",
       "version_major": 2,
       "version_minor": 0
      },
      "text/plain": [
       "Button(button_style='success', description='Submit Feedback', style=ButtonStyle(), tooltip='Click to submit fe…"
      ]
     },
     "metadata": {},
     "output_type": "display_data"
    }
   ],
   "source": [
    "response = db_logger.create_completion(temperature=0.3, tags='intent_classifier', model='gpt-4', messages=[\n",
    "{ \"role\": \"user\", \"content\": f\"\"\"\n",
    "You are sales manager that sale parts and components for manufacturers.\n",
    "As a Senior sales manager, please ask customer to specify part number for part. When you build your own message please read the examples of \n",
    "other sales managers [EXAMPLE MESSAGES].\n",
    "\n",
    "Metadata:\n",
    "{{\n",
    "    \"parts\": [\n",
    "        {{\n",
    "           \"amount\": null,\n",
    "           \"brand_name\": \"Mono\",\n",
    "           \"part_number\": null\n",
    "        }}\n",
    "    ],\n",
    "    \"client\": {{\n",
    "        \"country\": null,\n",
    "        \"domain\": null,\n",
    "        \"email\": null,\n",
    "        \"office_country\": null\n",
    "    }}\n",
    "}}\n",
    "\n",
    "The example of previous messages from sales use it to build your own:\n",
    "\n",
    "[EXAMPLE MESSAGES]\n",
    "Message 1: ```\n",
    "Dear Sir / Madam,\n",
    "Thank you for your request!\n",
    "Could you please tell us the article number?\n",
    "```\n",
    "[/EXAMPLE MESSAGES]\n",
    "\"\"\"}                             \n",
    "])"
   ]
  },
  {
   "cell_type": "markdown",
   "id": "de0352da-7f7a-47ad-bc89-e6766518cff0",
   "metadata": {
    "jp-MarkdownHeadingCollapsed": true
   },
   "source": [
    "### Google sheet reader"
   ]
  },
  {
   "cell_type": "code",
   "execution_count": 81,
   "id": "75007f74-4ada-4960-a719-c899b8a99418",
   "metadata": {},
   "outputs": [],
   "source": [
    "import sqlite3\n",
    "import gspread\n",
    "from oauth2client.service_account import ServiceAccountCredentials\n",
    "from pydantic import BaseModel, Field, field_validator\n",
    "\n",
    "\n",
    "class ProductInquiry(BaseModel):\n",
    "    intent: str\n",
    "    sub_intent: str\n",
    "    is_brand_name: bool\n",
    "    is_part_number: bool\n",
    "    action: str\n",
    "\n",
    "    @field_validator('is_brand_name', 'is_part_number')\n",
    "    def convert_int_to_bool(cls, v):\n",
    "        if isinstance(v, bool):\n",
    "            return v  # In case the input is already a boolean\n",
    "        if v in (1, 'TRUE', 'True', 'true'):\n",
    "            return True\n",
    "        elif v in (0, 'FALSE', 'False', 'false'):\n",
    "            return False\n",
    "        raise ValueError('Must be a boolean or equivalent integer (0 or 1)')\n",
    "\n",
    "\n",
    "\n",
    "class GoogleSheetToSQLiteConverter:\n",
    "    def __init__(self, spreadsheet: str, credentials_path: str):\n",
    "        scope = ['https://spreadsheets.google.com/feeds','https://www.googleapis.com/auth/drive']\n",
    "        creds = ServiceAccountCredentials.from_json_keyfile_name(credentials_path, scope)\n",
    "        self.spreadsheet = spreadsheet\n",
    "        self.client = gspread.authorize(creds)\n",
    "        \n",
    "    def get_sheet_data(self, sheet: str):\n",
    "        worksheet = client.open(self.spreadsheet).worksheet(sheet)\n",
    "        records = worksheet.get_all_records()\n",
    "\n",
    "        return records"
   ]
  },
  {
   "cell_type": "markdown",
   "id": "94915f5d-a7af-4245-9554-991add9f5808",
   "metadata": {
    "jp-MarkdownHeadingCollapsed": true
   },
   "source": [
    "### Init sql db"
   ]
  },
  {
   "cell_type": "code",
   "execution_count": 101,
   "id": "a68cf4da-44ee-444a-88eb-57fb2e0e6fec",
   "metadata": {},
   "outputs": [],
   "source": [
    "import sqlite3\n",
    "\n",
    "\n",
    "def init_sqlite_db(conn, product_inquiries):\n",
    "    cursor = conn.cursor()\n",
    "    \n",
    "    product_inquiries_data = [\n",
    "        [\n",
    "            inquiry.intent,\n",
    "            inquiry.sub_intent,\n",
    "            int(inquiry.is_brand_name),  # Convert boolean to int\n",
    "            int(inquiry.is_part_number),  # Convert boolean to int\n",
    "            inquiry.action\n",
    "        ]\n",
    "        for inquiry in product_inquiries\n",
    "    ]\n",
    "\n",
    "    print()\n",
    "    cursor.execute('''CREATE TABLE product_inquiries (\n",
    "        intent TEXT,\n",
    "        sub_intent TEXT,\n",
    "        is_brand_name BOOLEAN,\n",
    "        is_part_number BOOLEAN,\n",
    "        action TEXT\n",
    "    )''')\n",
    "    \n",
    "    cursor.executemany('INSERT INTO product_inquiries VALUES (?, ?, ?, ?, ?)', product_inquiries_data)\n",
    "    conn.commit()\n",
    "    print('Data was added to db successfully.')"
   ]
  },
  {
   "cell_type": "markdown",
   "id": "432313f4-9e6b-4014-bf73-fe7c6dd84579",
   "metadata": {},
   "source": [
    "## Test"
   ]
  },
  {
   "cell_type": "code",
   "execution_count": null,
   "id": "f3d8df4f-4098-4478-a553-3754d3b92d44",
   "metadata": {},
   "outputs": [],
   "source": [
    "msg = \"\"\"\n",
    "Dear Sir or Madam,\n",
    "Please advise if stators and rotors are available for the attached. The pump appears to be very similar to a Mono pump\n",
    "Kind regards\n",
    "Austen Brunton BEng (Hons), MIMarEST\n",
    "Technical Fleet Manager\n",
    "WYM Group Ltd\n",
    "Incorporating Wilson Yacht Management and Wilson Ship Management\n",
    "New Email Address: austen@wymgroup.com\n",
    "Web: www.wymgroup.com\n",
    "Phone: +44 (0) 1482 648322\n",
    "Mob: +44 (0) 7760665835\n",
    "\"\"\""
   ]
  },
  {
   "cell_type": "code",
   "execution_count": 130,
   "id": "707e8726-9573-4754-b201-9d281ba36669",
   "metadata": {},
   "outputs": [
    {
     "name": "stdout",
     "output_type": "stream",
     "text": [
      "```json\n",
      "[\n",
      "    {\n",
      "        \"id\": \"1\",\n",
      "        \"body\": \"Dear Sir or Madam,\\nPlease advise if stators and rotors are available for the attached. The pump appears to be very similar to a Mono pump\\nKind regards\",\n",
      "        \"sign\": \"Austen Brunton BEng (Hons), MIMarEST\\nTechnical Fleet Manager\\nWYM Group Ltd\\nIncorporating Wilson Yacht Management and Wilson Ship Management\\nNew Email Address: austen@wymgroup.com\\nWeb: www.wymgroup.com\\nPhone: +44 (0) 1482 648322\\nMob: +44 (0) 7760665835\",\n",
      "        \"from\": \"customer\",\n",
      "        \"intents\": [\n",
      "            {\n",
      "                \"intent\": \"Product Inquiry\",\n",
      "                \"sub_intent\": \"Availability Check\",\n",
      "                \"branch\": \"Inquiry About Availability of Specific Parts\"\n",
      "            }\n",
      "        ]\n",
      "    \n",
      "    }\n",
      "]\n",
      "```\n",
      "\n",
      "--------------------\n",
      "\n",
      "Note saved without feedback. ID: 97aafac4-d1df-4feb-b2c7-317e62fe7734\n",
      "Input tokens: 504 Output tokens: 198 Total price: 0.03$\n",
      "\n",
      "\n"
     ]
    },
    {
     "data": {
      "application/vnd.jupyter.widget-view+json": {
       "model_id": "f29caf3733e14b6ab17256f03875428a",
       "version_major": 2,
       "version_minor": 0
      },
      "text/plain": [
       "HBox(children=(Button(button_style='success', description='👍 Like', style=ButtonStyle(), tooltip='Like this co…"
      ]
     },
     "metadata": {},
     "output_type": "display_data"
    },
    {
     "data": {
      "application/vnd.jupyter.widget-view+json": {
       "model_id": "0eb9ba4b9833427bb6cd09d52d139674",
       "version_major": 2,
       "version_minor": 0
      },
      "text/plain": [
       "Textarea(value='', description='Feedback:', layout=Layout(height='80px', width='70%'), placeholder='Type your …"
      ]
     },
     "metadata": {},
     "output_type": "display_data"
    },
    {
     "data": {
      "application/vnd.jupyter.widget-view+json": {
       "model_id": "bdd2b90298904153a9f689b6914cfdeb",
       "version_major": 2,
       "version_minor": 0
      },
      "text/plain": [
       "Button(button_style='success', description='Submit Feedback', style=ButtonStyle(), tooltip='Click to submit fe…"
      ]
     },
     "metadata": {},
     "output_type": "display_data"
    }
   ],
   "source": [
    "parsed_messages = get_message_intents(msg)"
   ]
  },
  {
   "cell_type": "code",
   "execution_count": 131,
   "id": "5f9ecc79-ea2c-4cf1-b63b-652d5d78aae6",
   "metadata": {},
   "outputs": [
    {
     "name": "stdout",
     "output_type": "stream",
     "text": [
      "```json\n",
      "{\n",
      "    \"parts\": [\n",
      "        {\n",
      "           \"amount\": null,\n",
      "           \"brand_name\": \"Mono\",\n",
      "           \"part_number\": null\n",
      "        }\n",
      "    ],\n",
      "    \"client\": {\n",
      "        \"country\": null,\n",
      "        \"domain\": null,\n",
      "        \"email\": null,\n",
      "        \"office_country\": null\n",
      "    }\n",
      "}\n",
      "```\n",
      "\n",
      "--------------------\n",
      "\n",
      "Note saved without feedback. ID: 902181af-9f31-4a84-8842-ac887f9fbe1f\n",
      "Input tokens: 247 Output tokens: 70 Total price: 0.01$\n",
      "\n",
      "\n"
     ]
    },
    {
     "data": {
      "application/vnd.jupyter.widget-view+json": {
       "model_id": "e0eee6ace6e34eb49be95109e966eb21",
       "version_major": 2,
       "version_minor": 0
      },
      "text/plain": [
       "HBox(children=(Button(button_style='success', description='👍 Like', style=ButtonStyle(), tooltip='Like this co…"
      ]
     },
     "metadata": {},
     "output_type": "display_data"
    },
    {
     "data": {
      "application/vnd.jupyter.widget-view+json": {
       "model_id": "432f1de4c5d34edb9136bffadd5d397c",
       "version_major": 2,
       "version_minor": 0
      },
      "text/plain": [
       "Textarea(value='', description='Feedback:', layout=Layout(height='80px', width='70%'), placeholder='Type your …"
      ]
     },
     "metadata": {},
     "output_type": "display_data"
    },
    {
     "data": {
      "application/vnd.jupyter.widget-view+json": {
       "model_id": "ef999f2e33a844028ea131094325be76",
       "version_major": 2,
       "version_minor": 0
      },
      "text/plain": [
       "Button(button_style='success', description='Submit Feedback', style=ButtonStyle(), tooltip='Click to submit fe…"
      ]
     },
     "metadata": {},
     "output_type": "display_data"
    }
   ],
   "source": [
    "msg_details = get_details_from_message(msg)"
   ]
  },
  {
   "cell_type": "code",
   "execution_count": 132,
   "id": "15f7bd6f-7d52-48dd-871b-33c5fff2223e",
   "metadata": {},
   "outputs": [
    {
     "name": "stdout",
     "output_type": "stream",
     "text": [
      "Based on the provided JSON data, the SQL query would look like this:\n",
      "\n",
      "```sql\n",
      "SELECT * FROM product_inquiries\n",
      "WHERE intent = 'Product Inquiry' \n",
      "AND sub_intent = 'Availability Check' \n",
      "AND is_brand_name = 1 \n",
      "AND is_part_number = 0\n",
      "```\n",
      "\n",
      "This query will select all rows from the `product_inquiries` table where `intent` is 'Product Inquiry', `sub_intent` is 'Availability Check', `is_brand_name` is true (1), and `is_part_number` is false (0). The `action` field is ignored as per the instructions. \n",
      "\n",
      "Please note that the JSON data does not provide any information about the `action` field, so it's not included in the WHERE clause. Also, the `is_brand_name` and `is_part_number` fields are assumed to be boolean, with `true` represented as 1 and `false` as 0.\n",
      "\n",
      "--------------------\n",
      "\n",
      "Note saved without feedback. ID: a687b3e8-ff8a-43fd-987a-06c3f110fa22\n",
      "Input tokens: 177 Output tokens: 191 Total price: 0.02$\n",
      "\n",
      "\n"
     ]
    },
    {
     "data": {
      "application/vnd.jupyter.widget-view+json": {
       "model_id": "f8f0109aeab04360b23d50e72723a005",
       "version_major": 2,
       "version_minor": 0
      },
      "text/plain": [
       "HBox(children=(Button(button_style='success', description='👍 Like', style=ButtonStyle(), tooltip='Like this co…"
      ]
     },
     "metadata": {},
     "output_type": "display_data"
    },
    {
     "data": {
      "application/vnd.jupyter.widget-view+json": {
       "model_id": "6df0bbf797a746c19378ac62f3c1ceec",
       "version_major": 2,
       "version_minor": 0
      },
      "text/plain": [
       "Textarea(value='', description='Feedback:', layout=Layout(height='80px', width='70%'), placeholder='Type your …"
      ]
     },
     "metadata": {},
     "output_type": "display_data"
    },
    {
     "data": {
      "application/vnd.jupyter.widget-view+json": {
       "model_id": "7281ed5bf2294e58ba4140c21320542f",
       "version_major": 2,
       "version_minor": 0
      },
      "text/plain": [
       "Button(button_style='success', description='Submit Feedback', style=ButtonStyle(), tooltip='Click to submit fe…"
      ]
     },
     "metadata": {},
     "output_type": "display_data"
    }
   ],
   "source": [
    "intents_str = '\\n'.join([f'{intent.intent} -> {intent.sub_intent}' for intent in parsed_messages[0].intents])\n",
    "raw_sql = build_sql_query(msg_details, intents_str)"
   ]
  },
  {
   "cell_type": "code",
   "execution_count": 133,
   "id": "6237e3a8-61ff-40d6-8215-1ea646d96f22",
   "metadata": {},
   "outputs": [
    {
     "name": "stdout",
     "output_type": "stream",
     "text": [
      "\n",
      "Data was added to db successfully.\n"
     ]
    }
   ],
   "source": [
    "conn = sqlite3.connect(':memory:')\n",
    "cursor = conn.cursor()\n",
    "\n",
    "ghconv = GoogleSheetToSQLiteConverter(\n",
    "    spreadsheet='Famaga Knowledge Map', \n",
    "    credentials_path=r'C:\\Users\\MGroup\\Downloads\\langchain-400510-ac38916fe0c8.json')\n",
    "\n",
    "sheet_data = ghconv.get_sheet_data('Classify parts')\n",
    "\n",
    "product_inquiries = [\n",
    "    ProductInquiry(\n",
    "        intent=item['Intent'],\n",
    "        sub_intent=item['Sub-intent'],\n",
    "        is_brand_name=item['Brand name'],\n",
    "        is_part_number=item['Part Number'],\n",
    "        action=item['Action']\n",
    "    )\n",
    "    for item in sheet_data\n",
    "]\n",
    "\n",
    "init_sqlite_db(conn, product_inquiries)"
   ]
  },
  {
   "cell_type": "code",
   "execution_count": 126,
   "id": "ecde4ef0-cc36-495e-b104-0508644c3b17",
   "metadata": {},
   "outputs": [
    {
     "data": {
      "text/plain": [
       "<sqlite3.Cursor at 0x24f8b479940>"
      ]
     },
     "execution_count": 126,
     "metadata": {},
     "output_type": "execute_result"
    }
   ],
   "source": [
    "cursor.execute(raw_sql)"
   ]
  },
  {
   "cell_type": "code",
   "execution_count": 134,
   "id": "f3411932-2b9d-4b91-9282-08a8ee590877",
   "metadata": {},
   "outputs": [
    {
     "name": "stdout",
     "output_type": "stream",
     "text": [
      "('Product Inquiry', 'Availability Check', 1, 0, 'ask_specify_part_number')\n"
     ]
    }
   ],
   "source": [
    "cursor.execute(raw_sql)\n",
    "rows = cursor.fetchall()\n",
    "\n",
    "for row in rows:\n",
    "    print(row)"
   ]
  },
  {
   "cell_type": "code",
   "execution_count": null,
   "id": "195919bb-ebd9-4a7f-ae60-1cd2dd47de80",
   "metadata": {},
   "outputs": [],
   "source": [
    "MsgHtmlExtracter.extract_messages_from_raw_html()"
   ]
  },
  {
   "cell_type": "code",
   "execution_count": 159,
   "id": "0c3f11c7-c5d3-404d-927a-a8eb9a2940b8",
   "metadata": {},
   "outputs": [],
   "source": [
    "messages_html = deals_rep.get_messaging_html(415947)\n",
    "# resp = client.handle_messages(123,messages_html)"
   ]
  },
  {
   "cell_type": "code",
   "execution_count": 160,
   "id": "f12ced9c-706a-4fc2-b401-a1e8a753f6fd",
   "metadata": {},
   "outputs": [],
   "source": [
    "messages = MsgHtmlExtracter.extract_messages_from_raw_html(messages_html)"
   ]
  },
  {
   "cell_type": "code",
   "execution_count": 161,
   "id": "0831f6d2-89ed-47f3-aa8d-3a8a367624a3",
   "metadata": {},
   "outputs": [
    {
     "name": "stdout",
     "output_type": "stream",
     "text": [
      "Message:< o\\:*\n",
      "                  {behavior:url(#default#VML);} w\\:*\n",
      "                  {behavior:url(#default#VML);} .shape\n",
      "                  {behavior:url(#default#VML);}Hi please be so kind and quote us\n",
      "                  on:059091816\n",
      "                    eachRECEIVER:\n",
      "                    TYPE: LIGHT; MANUF P/N: LR 100TB 58; HOUSING\n",
      "                    MATERIAL: NICKELPLATED\n",
      "                    BRASS; HOUSING M12 X 1; CONNECTION 4 PIN M12 PLUG;\n",
      "                    SENSING RANGE UP TO18\n",
      "                    METERS; SEALING CLASS AP67____________________________________________________________________________________059092116\n",
      "                    eachSENSOR:\n",
      "                    TYPE: REMOTE; RANGE: 24 M; RATING: 10-55 HZ;\n",
      "                    ELECTRICALCONNECTION:\n",
      "                    4 PIN; MOUNT: SCREW IN; DIMENSIONS: DIA 12 X LG 58\n",
      "                    MM; PROBEDIAMETER:\n",
      "                    12 MM; MANUF P/N: LT 100H TB58 J; OPERATIONAL\n",
      "                    TEMPERATURE: -25-65 DEGC;\n",
      "                    SEALING CLASS: IP65; LIGHT IMMUNITY; 20:>80 000\n",
      "                    LUXRegardsPietroVat\n",
      "                  number: 4710153570Virus-free.www.avast.com\n",
      "\n",
      "Message:Offer-Nr.:415947Customer request #:Customer #:108605Date:Wednesday, 21 June 2023Inquiry #:Contact person:Muhammad Ali AmmarOffer valid till21.07.2023Inquiry date21.06.2023E-mail:maa@famaga.deWe would like to thank you for\n",
      "                      your inquiry and we are pleased to provide you our\n",
      "                      quotation as follows. Please feel free to contact\n",
      "                      us if you need any further information.Pos.TitleDescription\n",
      "                                and articleQty.PriceDiscount\n",
      "                                %Price\n",
      "                                incl. discountSumDelivery\n",
      "                                time1LR-100L-TS58-JLichtempfängerBauform M12 x 58 mmLEDSteckeranschluss M12/4-pol.EdelstahlhülseZolltarifnummer: 85414900Ursprungsland: DKExportdaten: AL: N; ECCN: NTelco880916pcs€143,6425%€107,73€1.723,683 -\n",
      "                              5 days2LT-100HL-TS58-JLichtsenderBauform M12 x 58 mmSteckeranschluss M12/4-pol.LEDZolltarifnummer: 85414900Ursprungsland: DKExportdaten: AL: N; ECCN: NTelco917516pcs€91,7725%€68,83€1.101,283 -\n",
      "                              5 daysGoods\n",
      "                                valueTrans.NettoTotal\n",
      "                                payment€2.824,96€0,00€2.824,96€0,00€2.824,96Delivery termsEXW - LübeckPayment conditionsinkl. Porto und VerpackungPayment termsnach VereinbarungValid till21.07.2023Please be kindly informed about 30 Euro fee for\n",
      "                      orders under 150 Euro.Our general terms and conditions of delivery\n",
      "                      shall apply. The terms can be found on the\n",
      "                      internet underhttps://famaga.de/imperssumor obtained from us.Wir hoffen, dass unser Angebot für Sie als\n",
      "                      interessant erwiesen hat und freuen uns, Sie zu\n",
      "                      Stammkunden unseres Unternehmens zählen zu können.Yours sincerelyFAMAGA Group OHGMuhammad Ali Ammar\n",
      "\n",
      "Message:Good Day SirWe had to give a discount to Eskom\n",
      "              Matimba to secure the order, is there any way that your\n",
      "              company can help us with a better discount structure it\n",
      "              will really make life easier on our side.Do you perhaps have the size and weight\n",
      "              on these items as well?Is there a difference between your part\n",
      "              number and Eskom?RECIEVER:LR-100L-TS58-JESKOMLR 100TB58SENSOR:LT-100HL-TS58-J\n",
      "                ESKOMLT\n",
      "                100H TB58 JIf you can please respond urgently so\n",
      "              we can forward an orderRegardsPietro<image001.jpg>Vat\n",
      "              number: 4710153570From:maa@famaga.de<maa@famaga.de>Sent:Friday, July 14, 2023 10:48 PMTo:marricosales@gmail.comSubject:Reminder FAMAGA Group OHG № KP415947Dear Sir/ Madam,I would like to follow up on quotation, which was sent in\n",
      "              response to your inquiry.Our company would be glad to provide any additional\n",
      "              information and make every effort to fulfill your\n",
      "              requirements and receive an order!Please take into consideration, that our portfolio not\n",
      "              limited to this brand only.One of our distinctive features is close cooperation with\n",
      "              various manufacturers from Europe, United States, Japan\n",
      "              and other countries around the world.Famaga Group OHG works directly with them, avoiding a\n",
      "              long chain of agents, which allows us to provide the best\n",
      "              prices to our customers.If you require any more information, please do not\n",
      "              hesitate to ask or call us.We look forward to receiving your valuable feedback!\n",
      "\n",
      "Message:Good day SirHerewith the purchase order please be so\n",
      "            kind and send us a pro forma so we can do a EFT from our\n",
      "            bankIs there a difference between your part\n",
      "            number and Eskom’s number?RECIEVER:LR-100L-TS58-JESKOMLR 100TB58SENSOR:LT-100HL-TS58-J                \n",
      "               ESKOMLT\n",
      "              100H TB58 JDo we need to arrange shipping to our\n",
      "            destination, if so can you assist with the weight and size\n",
      "            of the package?RegardsPietro<image001.jpg>Vat\n",
      "              number: 4710153570From:marricosales@gmail.com<marricosales@gmail.com>Sent:Tuesday, July 18, 2023 8:18 AMTo:'maa@famaga.de'<maa@famaga.de>Subject:FW: FW: Reminder FAMAGA Group OHG №\n",
      "                  KP415947Good day SirWe thank you so much for understanding\n",
      "            and helping usIs there a difference between your part\n",
      "            number and Eskom’s number?RECIEVER:LR-100L-TS58-JESKOMLR 100TB58SENSOR:LT-100HL-TS58-J                \n",
      "               ESKOMLT\n",
      "              100H TB58 JDo we need to arrange shipping to our\n",
      "            destination, if so can you assist with the weight and size\n",
      "            of the package?I will forward the purchase order shortlyRegardsPietro<image001.jpg>Vat\n",
      "              number: 4710153570From:Muhammad Ali Ammar <maa@famaga.de>Sent:Tuesday, July 18, 2023 12:29 AMTo:marricosales@gmail.comSubject:Re: FW: Reminder FAMAGA Group OHG №\n",
      "                  KP415947Dear,Please find the discounted price quotation in an\n",
      "            attachment.Mit freundlichen Grüßen / Best\n",
      "                regards,Muhammad Ali AmmarVertrieb / Sales DeptFAMAGA Group OHG+49 451 7036 4997 ext. 108+1 786 822 61 55 ext. 105+44 20 808 96 845 ext. 114https://famaga.comOn 7/17/2023 6:08 PM,marricosales@gmail.comwrote:\n",
      "\n",
      "Message:Good Morning Sir please can you correct\n",
      "          SALES at shipping and billing adressRegardsPietro<image001.jpg>Vat\n",
      "              number: 4710153570From:Muhammad Ali Ammar<maa@famaga.de>Sent:Tuesday, July 18, 2023 7:03 PMTo:marricosales@gmail.comSubject:Re: FW: FW: Reminder FAMAGA Group OHG №\n",
      "                KP415947Dear,Please find the proforma invoice in an attachment as per your\n",
      "          PO.Mit freundlichen Grüßen / Best regards,Muhammad Ali AmmarVertrieb / Sales DeptFAMAGA Group OHG+49 451 7036 4997 ext. 108+1 786 822 61 55 ext. 105+44 20 808 96 845 ext. 114https://famaga.comOn 7/18/2023 10:39 AM,marricosales@gmail.comwrote:\n",
      "\n",
      "Message:﻿Dear,Please find the corrected invoice in an attachment.Mit freundlichen Grüßen / Best regards,Muhammad Ali AmmarVertrieb / Sales DeptFAMAGA Group OHG+49 451 7036 4997 ext. 108+1 786 822 61 55 ext. 105+44 20 808 96 845 ext. 114https://famaga.comOn 7/19/2023 9:05 AM,marricosales@gmail.comwrote:<Proforma_415947 (1).pdf>\n",
      "\n",
      "Message:On 19 Jul 2023, at 15:40, Muhammad Ali Ammar <maa@famaga.de> wrote:\n",
      "\n",
      "Message:Good evening just a follow up if you have received payment?Regards PietroSent from my iPad\n"
     ]
    }
   ],
   "source": [
    "print('\\n\\n'.join([f'Message:{m}' if 'for orders under 150 Euro' not in m  else 'Message: Offer' for m in messages[::-1]]))"
   ]
  },
  {
   "cell_type": "code",
   "execution_count": 162,
   "id": "16d07538-d5e8-44de-a957-c3baf82be6d2",
   "metadata": {},
   "outputs": [],
   "source": [
    "client = AgentsAPIClient('https://neon-dev.us')\n"
   ]
  },
  {
   "cell_type": "code",
   "execution_count": 165,
   "id": "396a5e8b-a624-41a6-9679-b864862c0bc7",
   "metadata": {},
   "outputs": [
    {
     "ename": "Exception",
     "evalue": "Failed to upload email content: 500 - Internal Server Error",
     "output_type": "error",
     "traceback": [
      "\u001b[1;31m---------------------------------------------------------------------------\u001b[0m",
      "\u001b[1;31mException\u001b[0m                                 Traceback (most recent call last)",
      "Cell \u001b[1;32mIn[165], line 1\u001b[0m\n\u001b[1;32m----> 1\u001b[0m \u001b[43mclient\u001b[49m\u001b[38;5;241;43m.\u001b[39;49m\u001b[43mhandle_html_messages\u001b[49m\u001b[43m(\u001b[49m\u001b[43mdeal_id\u001b[49m\u001b[38;5;241;43m=\u001b[39;49m\u001b[38;5;241;43m322\u001b[39;49m\u001b[43m,\u001b[49m\u001b[43m \u001b[49m\u001b[43mmessages_html\u001b[49m\u001b[38;5;241;43m=\u001b[39;49m\u001b[43mmessages_html\u001b[49m\u001b[43m)\u001b[49m\n",
      "File \u001b[1;32m~\\components_agent_sales\\notebooks\\famaga\\clients\\agents.py:76\u001b[0m, in \u001b[0;36mAgentsAPIClient.handle_html_messages\u001b[1;34m(self, deal_id, messages_html)\u001b[0m\n\u001b[0;32m     74\u001b[0m     \u001b[38;5;28;01mreturn\u001b[39;00m response\u001b[38;5;241m.\u001b[39mjson()\n\u001b[0;32m     75\u001b[0m \u001b[38;5;28;01melse\u001b[39;00m:\n\u001b[1;32m---> 76\u001b[0m     \u001b[38;5;28;01mraise\u001b[39;00m \u001b[38;5;167;01mException\u001b[39;00m(\u001b[38;5;124mf\u001b[39m\u001b[38;5;124m\"\u001b[39m\u001b[38;5;124mFailed to upload email content: \u001b[39m\u001b[38;5;132;01m{\u001b[39;00mresponse\u001b[38;5;241m.\u001b[39mstatus_code\u001b[38;5;132;01m}\u001b[39;00m\u001b[38;5;124m - \u001b[39m\u001b[38;5;132;01m{\u001b[39;00mresponse\u001b[38;5;241m.\u001b[39mtext\u001b[38;5;132;01m}\u001b[39;00m\u001b[38;5;124m\"\u001b[39m)\n",
      "\u001b[1;31mException\u001b[0m: Failed to upload email content: 500 - Internal Server Error"
     ]
    }
   ],
   "source": [
    "client.handle_html_messages(deal_id=322, messages_html=messages_html)"
   ]
  },
  {
   "cell_type": "code",
   "execution_count": null,
   "id": "9c97c0fc-91c7-41bf-bad9-74954426ed4d",
   "metadata": {},
   "outputs": [],
   "source": []
  }
 ],
 "metadata": {
  "kernelspec": {
   "display_name": "Python 3 (ipykernel)",
   "language": "python",
   "name": "python3"
  },
  "language_info": {
   "codemirror_mode": {
    "name": "ipython",
    "version": 3
   },
   "file_extension": ".py",
   "mimetype": "text/x-python",
   "name": "python",
   "nbconvert_exporter": "python",
   "pygments_lexer": "ipython3",
   "version": "3.12.3"
  }
 },
 "nbformat": 4,
 "nbformat_minor": 5
}
