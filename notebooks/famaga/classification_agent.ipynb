{
 "cells": [
  {
   "cell_type": "code",
   "execution_count": 8,
   "id": "df866dcd-000d-4242-8226-e2411d2834a4",
   "metadata": {},
   "outputs": [],
   "source": [
    "import openai\n",
    "from dotenv import load_dotenv\n",
    "import os\n",
    "from IPython.display import display, Markdown\n",
    "\n",
    "client = None"
   ]
  },
  {
   "cell_type": "code",
   "execution_count": 9,
   "id": "6dbf2632-6a1c-43d2-961c-bbd5f9fc2541",
   "metadata": {},
   "outputs": [
    {
     "name": "stdout",
     "output_type": "stream",
     "text": [
      "The autoreload extension is already loaded. To reload it, use:\n",
      "  %reload_ext autoreload\n"
     ]
    }
   ],
   "source": [
    "%load_ext autoreload\n",
    "%autoreload 2"
   ]
  },
  {
   "cell_type": "code",
   "execution_count": 10,
   "id": "2cff4645-cc42-42df-a3bd-ed6016f8742e",
   "metadata": {},
   "outputs": [
    {
     "name": "stdout",
     "output_type": "stream",
     "text": [
      "Updated\n"
     ]
    }
   ],
   "source": [
    "import prompts.discounts.block_schema\n",
    "from importlib import reload\n",
    "import utils\n",
    "\n",
    "reload(prompts.discounts.block_schema)\n",
    "reload(utils)\n",
    "\n",
    "\n",
    "from prompts.discounts.block_schema import correct_block_schema, generate_different_scenarious_by_decision_points, \\\n",
    "    generate_thread_metadata_by_scenario, company_system_message, example_scenarios_V1, \\\n",
    "    get_fields_for_scneraios_from_block_schema, RESULT_BLOCK_SCHEMA, generated_scenarios_v1, \\\n",
    "    continue_generating_different_scenarious_by_decision_points, generated_scenarios_without_points_v2, \\\n",
    "    example_scenarios_V2\n",
    "\n",
    "from utils import get_scenarios\n",
    "\n",
    "\n",
    "print('Updated')"
   ]
  },
  {
   "cell_type": "code",
   "execution_count": 126,
   "id": "e1e19a15-31bd-45d5-96e0-5835e3e63ebc",
   "metadata": {},
   "outputs": [],
   "source": [
    "def create_completion(messages, temperature, output = True, model: str = 'gpt-4', **kwargs):    \n",
    "    global client\n",
    "    if os.getenv('OPENAI_API_KEY') is None:\n",
    "        load_dotenv()\n",
    "\n",
    "    if client is None:\n",
    "        client = openai.OpenAI()\n",
    "\n",
    "    response = client.chat.completions.create(model=model, messages=messages, \n",
    "                                              temperature=temperature, stream=True, **kwargs)\n",
    "    collected_messages = []\n",
    "    for chunk in response:\n",
    "        if chunk.choices[0].delta.content:\n",
    "            if output:\n",
    "                print(chunk.choices[0].delta.content, end='')\n",
    "            collected_messages.append(chunk.choices[0].delta.content)\n",
    "\n",
    "    return ''.join(collected_messages)\n",
    "    "
   ]
  },
  {
   "cell_type": "code",
   "execution_count": 114,
   "id": "27ba1998-bdb3-4997-b835-b8363413613f",
   "metadata": {},
   "outputs": [],
   "source": [
    "message_with_request = \"Witam ZAPYTANIE ODNOŚNIE DOSTĘPNOŚCI N/W ARTYKUŁÓW - Prowadnik kabli -- Cable carrier ( prowadnik kabla ) 1665.030.200.3000-4655 TSO_0 FA_MA Tsubaki 1szt Energy chain (prowadnik kabla ) 1665.030.125.140-4189.5 TS0_0 FA_MA Tsubaki 1szt Jęśli możecie dostarczyć proszę o ofertę Pozdrawiam / Best regards Adam Janura Kom. / Mobile +48 537-797-300 www.landoia.pl \\\"LANDOIA\\\" Kapusta Łukasz 26-613 Radom, ul. Marii Gajl 1 NIP 7962440697\"\n",
    "\n",
    "message_with_discount = \"Hello Due to the fact that our client has accepted our offer for the device which includes your Tsubaki cable guides, please confirm that the offer is valid. An additional discount from you will be appreciated. A quick response will allow us to place an order with your company for the offered items.\"\n",
    "\n",
    "email = message_with_discount"
   ]
  },
  {
   "cell_type": "code",
   "execution_count": 84,
   "id": "6fde522c-12e2-4fc8-86b5-0e15da82d24b",
   "metadata": {},
   "outputs": [],
   "source": [
    "    # Tasks:\n",
    "    #     - Classify intent of email message\n",
    "    #       Input: { \"email_message\": string }\n",
    "    #     - Find most suitable intent for target intent\n",
    "    #       Input: { \"target_intent\": string, \"intents\": array(string)}\n",
    "\n",
    "system_prompt = \"\"\"\n",
    "You are Senior Sales manager of first line of communication with customer. When customer send message you are the first person that define intents from email\n",
    "and decide what to do next \n",
    "\n",
    "You have in under the authority following sales managers:\n",
    "- Discount Sales manager: takes tasks related with negotiations abount discounts, can accept only messages from customers with discount intent \n",
    "- Intent Classification Manager: helps to manage work with intents\n",
    "- Customer Service Manager: this sales manager could answer on any customer questions, that other sales cannot to do.\n",
    "\n",
    "\"\"\"\n",
    "\n",
    "prompt = \"\"\"\n",
    "As a Senior Sales Manager of first line of service, please read the following email from customer, exract all intents and then decide what \n",
    "sales manager you would delegate the task to write message. Do it step by step.\n",
    "\n",
    "Messages processing instruction:\n",
    "1. First of all you need to get message intent to better understand which manager could handle the email at next.\n",
    "2. When you got the intent you needed to pass email to manager that has competence to work with message with intents.\n",
    "\n",
    "[EMAIL FROM CUSTOMER]\n",
    "{message_with_discount}\n",
    "[/EMAIL FROM CUSTOMER]\n",
    "\n",
    "Allowed keys from storage: {task_inputs}\n",
    "\n",
    "Thought: you should always think about what to do\n",
    "Assignee: the assignee manager from list\n",
    "Task: the task for assignee manager\n",
    "Task Input: take allowed key from storage that would needed to task completion or none, for instance it could look like ['intents', 'email']\n",
    "Observation: the result of the task from manager\n",
    "... (this Thought/Assignee/Task/Task Input/Observation can repeat N times)\n",
    "Thought: I now know the final answer\n",
    "Final Answer: the final answer to the original input question\n",
    "\"\"\"\n",
    "\n"
   ]
  },
  {
   "cell_type": "code",
   "execution_count": 234,
   "id": "305b6e4f-e2b3-4db4-b247-b42987619e10",
   "metadata": {},
   "outputs": [],
   "source": [
    "import agents.senior_sales.agent\n",
    "\n",
    "reload(agents.senior_sales.agent)\n",
    "\n",
    "from agents.senior_sales.agent import SeniorSalesAgent"
   ]
  },
  {
   "cell_type": "code",
   "execution_count": 235,
   "id": "29a7d4eb-886c-4280-83d2-6077a0b7c163",
   "metadata": {},
   "outputs": [],
   "source": [
    "senior_sales = SeniorSalesAgent()"
   ]
  },
  {
   "cell_type": "code",
   "execution_count": 236,
   "id": "b27b9b20-6cdb-4178-b29f-83dd759cef39",
   "metadata": {},
   "outputs": [
    {
     "name": "stdout",
     "output_type": "stream",
     "text": [
      "Senior Sales\n",
      "\n",
      "Thought: I need to define the intents in this email to understand which manager can handle it.\n",
      "\n",
      "Assignee: Intent Classification Manager\n",
      "Task: Define the intents in the customer's email.\n",
      "Task Input: ['email']\n",
      "\n",
      "\n",
      "\n",
      "Intent classifier\n",
      "\n",
      "Thought: To define the intents in the customer's email, I need to analyze the email content and classify it based on the intents.\n",
      "Instruction: Intent Classification\n",
      "Instruction Input: ['email', 'intents']\n",
      "```json\n",
      "{\n",
      "    \"intents\": [\n",
      "        {\n",
      "            \"intent\": \"Order Processing\",\n",
      "            \"sub_intent\": \"Order Confirmation\",\n",
      "            \"branch\": \"Confirmation of Specific Offer/Product Order\"\n",
      "        },\n",
      "        {\n",
      "            \"intent\": \"Pricing Inquiries and Confirmation\",\n",
      "            \"sub_intent\": \"Pricing Inquiries\",\n",
      "            \"branch\": \"Discount Requests\"\n",
      "        }\n",
      "    ]\n",
      "}\n",
      "```\n",
      "\n",
      "\n",
      "Thought: The intents in the customer's email have been successfully classified.\n",
      "Final Answer: The intents in the customer's email are: Order Processing, Order Confirmation, Confirmation of Specific Offer/Product Order, Pricing Inquiries and Confirmation, Pricing Inquiries, and Discount Requests.Thought: Based on the identified intents, the Discount Sales Manager is competent to handle this email because it involves negotiation about discounts.\n",
      "Assignee: Discount Sales Manager\n",
      "Task: Respond to the customer's email addressing the intents identified: Order Processing, Order Confirmation, Confirmation of Specific Offer/Product Order, Pricing Inquiries and Confirmation, Pricing Inquiries, and Discount Requests.\n",
      "Task Input: ['intents', 'email']\n",
      "\n",
      "\n",
      "Stop because there is no Discount Sales Manager agent.\n"
     ]
    },
    {
     "data": {
      "text/plain": [
       "\"Thought: Based on the identified intents, the Discount Sales Manager is competent to handle this email because it involves negotiation about discounts.\\nAssignee: Discount Sales Manager\\nTask: Respond to the customer's email addressing the intents identified: Order Processing, Order Confirmation, Confirmation of Specific Offer/Product Order, Pricing Inquiries and Confirmation, Pricing Inquiries, and Discount Requests.\\nTask Input: ['intents', 'email']\""
      ]
     },
     "execution_count": 236,
     "metadata": {},
     "output_type": "execute_result"
    }
   ],
   "source": [
    "senior_sales.run(email, **{\n",
    "    'intents': intents\n",
    "})"
   ]
  },
  {
   "cell_type": "code",
   "execution_count": 87,
   "id": "b05d897d-6854-4d28-aaec-7bf63d375c81",
   "metadata": {},
   "outputs": [],
   "source": [
    "def senior_sales_manager(email: str, **kwargs):\n",
    "    kwargs['email'] = email\n",
    "\n",
    "    # print(f\"[{', '.join(kwargs.keys())}]\")\n",
    "    # print(prompt.format(message_with_discount=email, task_inputs=', '.join(kwargs.keys()))+ '\\n\\n')\n",
    "    \n",
    "    response = create_completion([\n",
    "        { \"role\": \"assistant\", \"content\": system_prompt},\n",
    "        { \"role\": \"user\", \"content\": prompt.format(message_with_discount=email, task_inputs=f\"[{', '.join(kwargs.keys())}]\")}\n",
    "    ], \n",
    "    stop=['\\nObservation:', '\\n\\tObservation:'],                        \n",
    "    temperature=0.3)\n",
    "\n",
    "    return response"
   ]
  },
  {
   "cell_type": "code",
   "execution_count": 88,
   "id": "1536e3df-18d5-47e6-91f8-bfba81362609",
   "metadata": {},
   "outputs": [
    {
     "name": "stdout",
     "output_type": "stream",
     "text": [
      "Thought: This customer email seems to have two primary intents. The first one is a request for confirmation that the offer for the Tsubaki cable guides is still valid. The second one is a negotiation for an additional discount on the products. \n",
      "\n",
      "Assignee: Intent Classification Manager\n",
      "Task: Classify the intents present in the customer email.\n",
      "Task Input: ['email']\n"
     ]
    }
   ],
   "source": [
    "response = senior_sales_manager(message_with_discount)"
   ]
  },
  {
   "cell_type": "code",
   "execution_count": 90,
   "id": "3eeb3d44-9df4-47c0-b5d1-64a917fb734a",
   "metadata": {},
   "outputs": [
    {
     "data": {
      "text/plain": [
       "('Intent Classification Manager',\n",
       " 'Classify the intents present in the customer email.\\n',\n",
       " \"['email']\\n\")"
      ]
     },
     "execution_count": 90,
     "metadata": {},
     "output_type": "execute_result"
    }
   ],
   "source": [
    "import re\n",
    "import json\n",
    "\n",
    "regex = (\n",
    "            r\"Assignee\\s*\\d*\\s*:[\\s]*(.*?)[\\s]*Task\\s*\\d*\\s*:[\\s]*(.*)Task\\s*\\d*\\s*Input:[\\s]*(.*)\"\n",
    "        )\n",
    "action_match = re.search(regex, response, re.DOTALL)\n",
    "       \n",
    "    \n",
    "action_match.group(1), action_match.group(2), action_match.group(3)"
   ]
  },
  {
   "cell_type": "code",
   "execution_count": 93,
   "id": "6f1d2f6f-c2f6-4e3d-babb-637630900b64",
   "metadata": {},
   "outputs": [],
   "source": [
    "import ast\n",
    "\n",
    "assignee = action_match.group(1)\n",
    "task = action_match.group(2)\n",
    "task_input = ast.literal_eval(action_match.group(3))\n",
    "\n",
    "# task_input[0]"
   ]
  },
  {
   "cell_type": "code",
   "execution_count": null,
   "id": "c1226d07-857e-4a02-b6e2-298f6c70429d",
   "metadata": {},
   "outputs": [],
   "source": [
    "if assignee == 'Intent Classification Manager':\n",
    "    "
   ]
  },
  {
   "cell_type": "markdown",
   "id": "4d3273ff-bb0e-4574-9bce-d98bd685ef8c",
   "metadata": {},
   "source": [
    "### Intent Classifier"
   ]
  },
  {
   "cell_type": "code",
   "execution_count": 116,
   "id": "c7b9a407-413a-40ce-bcd9-03b960d8720c",
   "metadata": {},
   "outputs": [],
   "source": [
    "itent_classifier_main_prompt = \"\"\"\n",
    "Please do the task from higher Sales Manager.\n",
    "The task: {task}\n",
    "\n",
    "The available instructions:\n",
    "1. Instruction: Intent Classification\n",
    "Insruction Input: ['email', 'intents']\n",
    "2. Instruction: Find the most related intents\n",
    "\n",
    "Allowed keys from storage: email, intents\n",
    "\n",
    "Use the following format:\n",
    "\n",
    "Thought: you should always think about what to do\n",
    "Instruction: the intruction to take, should be one of available instructions\n",
    "Instruction Input: take allowed key from storage that would needed to instruction completion or none, \n",
    "for instance it could look like ['intents', 'email']\n",
    "Observation: the result of the action\n",
    "... (this Thought/Instruction/Instruction Input/Observation can repeat N times)\n",
    "Thought: I now know the final answer\n",
    "Final Answer: the final answer to the original input question\n",
    "\"\"\""
   ]
  },
  {
   "cell_type": "code",
   "execution_count": 117,
   "id": "daa0a964-b1dd-4195-8380-ccbdc243155e",
   "metadata": {},
   "outputs": [
    {
     "name": "stdout",
     "output_type": "stream",
     "text": [
      "Thought: To classify the intents in the customer email, I should use the 'Intent Classification' instruction.\n",
      "Instruction: Intent Classification\n",
      "Instruction Input: ['email', 'intents']\n"
     ]
    }
   ],
   "source": [
    "response = create_completion([\n",
    "            # { \"role\": \"assistant\", \"content\": system_prompt},\n",
    "            { \"role\": \"user\", \"content\": itent_classifier_main_prompt.format(task=task)}\n",
    "], \n",
    "stop=['\\nObservation:', '\\n\\tObservation:'],                            \n",
    "temperature=0.3)\n"
   ]
  },
  {
   "cell_type": "code",
   "execution_count": null,
   "id": "623404cd-a937-4d81-a9b2-beb6da4d0011",
   "metadata": {},
   "outputs": [],
   "source": [
    "response = create_completion([\n",
    "    { \"role\": \"assistant\", \"content\": system_prompt},\n",
    "    { \"role\": \"user\", \"content\": prompt}\n",
    "], temperature=0.7)"
   ]
  },
  {
   "cell_type": "code",
   "execution_count": 118,
   "id": "113a5918-711c-47d1-964a-bd8896b2bb61",
   "metadata": {},
   "outputs": [
    {
     "data": {
      "text/plain": [
       "('Intent Classification', ['email', 'intents'])"
      ]
     },
     "execution_count": 118,
     "metadata": {},
     "output_type": "execute_result"
    }
   ],
   "source": [
    "def parse_instruction(response):\n",
    "    regex = (r\"Instruction\\s*\\d*\\s*:[\\s]*(.*?)[\\s]*Instruction\\s*\\d*\\s*Input:[\\s]*(.*)\")\n",
    "    \n",
    "    instruction_match = re.search(regex, response, re.DOTALL)\n",
    "    \n",
    "    return instruction_match.group(1), ast.literal_eval(instruction_match.group(2))\n",
    "\n",
    "instruction, instruction_input = parse_instruction(response)\n",
    "instruction, instruction_input"
   ]
  },
  {
   "cell_type": "code",
   "execution_count": 119,
   "id": "9d9fd619-e8ee-4bd0-9c9e-2cc8c456e566",
   "metadata": {},
   "outputs": [],
   "source": [
    "intents = \"\"\"\n",
    "# Consolidated Intents Hierarchy\n",
    "\n",
    "## Order Processing\n",
    "- Order Confirmation\n",
    "  - Confirmation of Specific Offer/Product Order\n",
    "  - Confirmation of Order Receipt and Acceptance\n",
    "- Order Documentation and Information\n",
    "  - Providing and Requesting Order-Related Information\n",
    "\n",
    "## Payment Processing and Confirmation\n",
    "- Invoice Processing\n",
    "- Payment Confirmation\n",
    "  - Confirming and Inquiring about Payment Methods\n",
    "\n",
    "## Delivery and Shipping\n",
    "- Delivery and Shipping Confirmation\n",
    "  - Confirmation of Shipping Details\n",
    "  - Pickup and Delivery Method Information\n",
    "- Delivery Logistics Discussion\n",
    "  - Discussing Shipping and Self-Collection Options\n",
    "\n",
    "## Pricing Inquiries and Confirmation\n",
    "- Transport and Delivery Pricing\n",
    "  - Inquiries and Updates on Transport Costs\n",
    "- Pricing Inquiries\n",
    "  - Discount Requests\n",
    "  - Quotation Requests\n",
    "  - Price Confirmations\n",
    "\n",
    "## Product Information and Availability\n",
    "- Product Details\n",
    "  - Information on Product Portfolio and Availability\n",
    "\n",
    "## Sales and Customer Service Follow-up\n",
    "- Follow-up on Quotations\n",
    "- Customer Service Assistance\n",
    "\n",
    "\"\"\""
   ]
  },
  {
   "cell_type": "code",
   "execution_count": 115,
   "id": "f83f5787-b321-4935-b1fd-b457e7f8b38b",
   "metadata": {},
   "outputs": [],
   "source": [
    "kwargs = {\n",
    "    'email': email,\n",
    "    'intents': intents\n",
    "}"
   ]
  },
  {
   "cell_type": "code",
   "execution_count": null,
   "id": "d8087801-55ac-4081-b8cc-ca7891daa911",
   "metadata": {},
   "outputs": [],
   "source": []
  },
  {
   "cell_type": "code",
   "execution_count": 121,
   "id": "e668e528-59a5-4658-ba72-e48eedc40b9c",
   "metadata": {},
   "outputs": [],
   "source": [
    "INTENT_FORMAT = \"\"\"\n",
    "Put the result at ```json``` format, like:\n",
    "{\n",
    "    \"intents\": [\n",
    "        {\n",
    "            \"intent\": \"<main intent>\",\n",
    "            \"sub_intent\": \"<sub intent>\",\n",
    "            \"branch\": \"<branch>\"\n",
    "        }\n",
    "    ]\n",
    "}\n",
    "\"\"\"\n",
    "\n",
    "intent_classification_prompt = \"\"\"\n",
    "Please classifiy for email message [EMAIL MESSAGE] all intent to better classification and search. You can use our default list of intents [INTENTS] or\n",
    "if there is no suitable intent you can generate your own.\n",
    "\n",
    "[EMAIL MESSAGE]\n",
    "{email}\n",
    "[/EMAIL MESSAGE]\n",
    "\n",
    "[INTENTS]\n",
    "{intents}\n",
    "[/INTENTS]\n",
    "\n",
    "For example, this message would have intents:\n",
    "- customer: Hello So as not to waste precious time. We order devices from offer no. 440822 of friday, 29 september 2023 . \n",
    "If possible, please provide an additional discount on your purchase. Please confirm acceptance of our order. \n",
    "In the meantime, once you know what the transport cost will be, we will discuss how to deliver the parcel to us \n",
    "or whether we will collect it ourselves.\n",
    "\n",
    "Example of intents/sub-intents/branches namings:\n",
    "   - Order Processing -> Order Placement Confirmation -> Confirmation of Specific Offer\n",
    "   - Order Processing -> Order Acceptance Confirmation -> Confirmation of Order Receipt and Acceptance\n",
    "   - Pricing and Quotes -> Discount Inquiry -> Request for Additional Discount on Purchase\n",
    "   - Pricing and Quotes -> Transport Cost Inquiry -> Inquiry About Delivery Costs\n",
    "   - Delivery and Shipping -> Delivery Method Discussion -> Discussing Whether to Ship or Self-Collect\n",
    "   - Delivery and Shipping -> Discussing Logistics -> Coordination of Transport and Delivery Options\n",
    "\n",
    "Response format:\n",
    "{intent_response_format}\n",
    "\"\"\""
   ]
  },
  {
   "cell_type": "code",
   "execution_count": null,
   "id": "38708fd3-310f-4236-b685-2849c7257363",
   "metadata": {},
   "outputs": [],
   "source": [
    "print(intent_classification_prompt.format(intent_response_format=INTENT_FORMAT, **kwargs))"
   ]
  },
  {
   "cell_type": "code",
   "execution_count": 125,
   "id": "111ec5c2-8a2f-40bc-8edf-4eca791a8ed2",
   "metadata": {},
   "outputs": [
    {
     "name": "stdout",
     "output_type": "stream",
     "text": [
      "{\n",
      "    \"intents\": [\n",
      "        {\n",
      "            \"intent\": \"Order Processing\",\n",
      "            \"sub_intent\": \"Order Confirmation\",\n",
      "            \"branch\": \"Confirmation of Specific Offer/Product Order\"\n",
      "        },\n",
      "        {\n",
      "            \"intent\": \"Pricing Inquiries and Confirmation\",\n",
      "            \"sub_intent\": \"Pricing Inquiries\",\n",
      "            \"branch\": \"Discount Requests\"\n",
      "        }\n",
      "    ]\n",
      "}"
     ]
    }
   ],
   "source": [
    "response = create_completion([\n",
    "    { \"role\": \"user\", \"content\": intent_classification_prompt.format(intent_response_format=INTENT_FORMAT, **kwargs)}\n",
    "], temperature=0.7)"
   ]
  },
  {
   "cell_type": "code",
   "execution_count": 200,
   "id": "8fe22e9e-9bfc-4344-b09f-15c0c1f34e62",
   "metadata": {},
   "outputs": [],
   "source": [
    "import agents.intent_classifier.classify_intents\n",
    "import agents.intent_classifier.agent\n",
    "\n",
    "reload(agents.intent_classifier.classify_intents)\n",
    "reload(agents.intent_classifier.agent)\n",
    "\n",
    "from agents.intent_classifier.classify_intents import ClassifyIntentsInstruction\n",
    "from agents.intent_classifier.agent import IntentClassifierAgent\n"
   ]
  },
  {
   "cell_type": "code",
   "execution_count": 201,
   "id": "b4aa43f7-791e-4d37-b291-5348ce9b3fec",
   "metadata": {},
   "outputs": [],
   "source": [
    "agent = IntentClassifierAgent()"
   ]
  },
  {
   "cell_type": "code",
   "execution_count": 202,
   "id": "ec403a2d-0366-442f-b2ad-de331a731c64",
   "metadata": {},
   "outputs": [
    {
     "name": "stdout",
     "output_type": "stream",
     "text": [
      "Thought: I need to classify the intents present in the customer email.\n",
      "Instruction: Intent Classification\n",
      "Instruction Input: ['email', 'intents']```json\n",
      "{\n",
      "    \"intents\": [\n",
      "        {\n",
      "            \"intent\": \"Order Processing\",\n",
      "            \"sub_intent\": \"Order Confirmation\",\n",
      "            \"branch\": \"Confirmation of Specific Offer/Product Order\"\n",
      "        },\n",
      "        {\n",
      "            \"intent\": \"Pricing Inquiries and Confirmation\",\n",
      "            \"sub_intent\": \"Pricing Inquiries\",\n",
      "            \"branch\": \"Discount Requests\"\n",
      "        }\n",
      "    ]\n",
      "}\n",
      "```Thought: The intents have been successfully classified.\n",
      "Final Answer: The intents present in the customer email are Order Processing, Order Confirmation, Confirmation of Specific Offer/Product Order, Pricing Inquiries and Confirmation, Pricing Inquiries, and Discount Requests."
     ]
    },
    {
     "data": {
      "text/plain": [
       "'The intents present in the customer email are Order Processing, Order Confirmation, Confirmation of Specific Offer/Product Order, Pricing Inquiries and Confirmation, Pricing Inquiries, and Discount Requests.'"
      ]
     },
     "execution_count": 202,
     "metadata": {},
     "output_type": "execute_result"
    }
   ],
   "source": [
    "agent.run(task, **{\n",
    "    'email': email,\n",
    "    'intents': intents\n",
    "})"
   ]
  },
  {
   "cell_type": "code",
   "execution_count": 136,
   "id": "610de944-c888-43be-9b97-763ebb202a52",
   "metadata": {},
   "outputs": [],
   "source": [
    "intent_classifier = ClassifyIntentsInstruction()"
   ]
  },
  {
   "cell_type": "code",
   "execution_count": 139,
   "id": "9051e053-70a3-4370-99f0-df885dcc5ec3",
   "metadata": {},
   "outputs": [
    {
     "data": {
      "text/plain": [
       "'\\nPlease classifiy for email message [EMAIL MESSAGE] all intent to better classification and search. You can use our default list of intents [INTENTS] or\\nif there is no suitable intent you can generate your own.\\n\\n[EMAIL MESSAGE]\\n{email}\\n[/EMAIL MESSAGE]\\n\\n[INTENTS]\\n{intents}\\n[/INTENTS]\\n\\nFor example, this message would have intents:\\n- customer: Hello So as not to waste precious time. We order devices from offer no. 440822 of friday, 29 september 2023 . \\nIf possible, please provide an additional discount on your purchase. Please confirm acceptance of our order. \\nIn the meantime, once you know what the transport cost will be, we will discuss how to deliver the parcel to us \\nor whether we will collect it ourselves.\\n\\nExample of intents/sub-intents/branches namings:\\n   - Order Processing -> Order Placement Confirmation -> Confirmation of Specific Offer\\n   - Order Processing -> Order Acceptance Confirmation -> Confirmation of Order Receipt and Acceptance\\n   - Pricing and Quotes -> Discount Inquiry -> Request for Additional Discount on Purchase\\n   - Pricing and Quotes -> Transport Cost Inquiry -> Inquiry About Delivery Costs\\n   - Delivery and Shipping -> Delivery Method Discussion -> Discussing Whether to Ship or Self-Collect\\n   - Delivery and Shipping -> Discussing Logistics -> Coordination of Transport and Delivery Options\\n'"
      ]
     },
     "execution_count": 139,
     "metadata": {},
     "output_type": "execute_result"
    }
   ],
   "source": [
    "ClassifyIntentsInstruction.instruction"
   ]
  },
  {
   "cell_type": "code",
   "execution_count": 138,
   "id": "2c46e436-8343-4c5b-9f07-8f70676f8844",
   "metadata": {},
   "outputs": [
    {
     "name": "stdout",
     "output_type": "stream",
     "text": [
      "{\n",
      "    \"intents\": [\n",
      "        {\n",
      "            \"intent\": \"Order Processing\",\n",
      "            \"sub_intent\": \"Order Confirmation\",\n",
      "            \"branch\": \"Confirmation of Specific Offer/Product Order\"\n",
      "        },\n",
      "        {\n",
      "            \"intent\": \"Pricing Inquiries and Confirmation\",\n",
      "            \"sub_intent\": \"Pricing Inquiries\",\n",
      "            \"branch\": \"Discount Requests\"\n",
      "        }\n",
      "    ]\n",
      "}Intents:\n",
      "Order Processing -> Order Confirmation -> Confirmation of Specific Offer/Product Order\n",
      "Pricing Inquiries and Confirmation -> Pricing Inquiries -> Discount Requests\n"
     ]
    }
   ],
   "source": [
    "r = intent_classifier.run(**{\n",
    "    'email': email,\n",
    "    'intents': intents\n",
    "})\n",
    "\n",
    "print(r)"
   ]
  },
  {
   "cell_type": "code",
   "execution_count": null,
   "id": "762202c2-587e-441b-b383-fdd99c292558",
   "metadata": {},
   "outputs": [],
   "source": []
  }
 ],
 "metadata": {
  "kernelspec": {
   "display_name": "Python 3 (ipykernel)",
   "language": "python",
   "name": "python3"
  },
  "language_info": {
   "codemirror_mode": {
    "name": "ipython",
    "version": 3
   },
   "file_extension": ".py",
   "mimetype": "text/x-python",
   "name": "python",
   "nbconvert_exporter": "python",
   "pygments_lexer": "ipython3",
   "version": "3.12.1"
  }
 },
 "nbformat": 4,
 "nbformat_minor": 5
}
