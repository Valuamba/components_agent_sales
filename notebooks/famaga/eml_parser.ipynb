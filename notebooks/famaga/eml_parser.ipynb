{
 "cells": [
  {
   "cell_type": "code",
   "execution_count": 2,
   "id": "4b562aec-c4d2-42e8-a4c7-ab3bc84b74bf",
   "metadata": {},
   "outputs": [],
   "source": [
    "path = r'C:\\Users\\MGroup\\Downloads\\Re Offer №453757 13.11.2023, Contrinex _ FAMAGA Group GmbH & Co. KG .eml'\n",
    "dir =  r'notebooks/eml_parser.ipynb'"
   ]
  },
  {
   "cell_type": "code",
   "execution_count": 18,
   "id": "d492f82a-2753-4f8e-8b69-4902bf19f926",
   "metadata": {},
   "outputs": [
    {
     "data": {
      "text/plain": [
       "'C:\\\\Users\\\\MGroup\\\\components_agent_sales\\\\notebooks'"
      ]
     },
     "execution_count": 18,
     "metadata": {},
     "output_type": "execute_result"
    }
   ],
   "source": [
    "os.getcwd()"
   ]
  },
  {
   "cell_type": "code",
   "execution_count": 4,
   "id": "7a54411e-7893-487f-bb53-c53b677bdf6c",
   "metadata": {},
   "outputs": [],
   "source": [
    "# with open(path, 'r') as f:\n",
    "#     print(f.read())"
   ]
  },
  {
   "cell_type": "code",
   "execution_count": 6,
   "id": "df31a075-adfa-4a2c-b27f-b8187b4fc4f1",
   "metadata": {},
   "outputs": [
    {
     "ename": "NotADirectoryError",
     "evalue": "[WinError 267] Неверно задано имя папки: 'C:\\\\Users\\\\MGroup\\\\Downloads\\\\Re Offer №453757 13.11.2023, Contrinex _ FAMAGA Group GmbH & Co. KG .eml'",
     "output_type": "error",
     "traceback": [
      "\u001b[1;31m---------------------------------------------------------------------------\u001b[0m",
      "\u001b[1;31mNotADirectoryError\u001b[0m                        Traceback (most recent call last)",
      "Cell \u001b[1;32mIn[6], line 25\u001b[0m\n\u001b[0;32m     21\u001b[0m     \u001b[38;5;28;01mreturn\u001b[39;00m sorted_emails\n\u001b[0;32m     23\u001b[0m \u001b[38;5;66;03m# Directory containing your .eml files\u001b[39;00m\n\u001b[0;32m     24\u001b[0m \u001b[38;5;66;03m# Process the directory and get sorted emails\u001b[39;00m\n\u001b[1;32m---> 25\u001b[0m sorted_emails \u001b[38;5;241m=\u001b[39m \u001b[43mprocess_directory\u001b[49m\u001b[43m(\u001b[49m\u001b[43mpath\u001b[49m\u001b[43m)\u001b[49m\n\u001b[0;32m     27\u001b[0m \u001b[38;5;66;03m# Output or process the sorted emails as needed\u001b[39;00m\n\u001b[0;32m     28\u001b[0m \u001b[38;5;28;01mfor\u001b[39;00m email \u001b[38;5;129;01min\u001b[39;00m sorted_emails:\n",
      "Cell \u001b[1;32mIn[6], line 12\u001b[0m, in \u001b[0;36mprocess_directory\u001b[1;34m(directory_path)\u001b[0m\n\u001b[0;32m     10\u001b[0m \u001b[38;5;28;01mdef\u001b[39;00m \u001b[38;5;21mprocess_directory\u001b[39m(directory_path):\n\u001b[0;32m     11\u001b[0m     email_data \u001b[38;5;241m=\u001b[39m []\n\u001b[1;32m---> 12\u001b[0m     \u001b[38;5;28;01mfor\u001b[39;00m file_name \u001b[38;5;129;01min\u001b[39;00m \u001b[43mos\u001b[49m\u001b[38;5;241;43m.\u001b[39;49m\u001b[43mlistdir\u001b[49m\u001b[43m(\u001b[49m\u001b[43mdirectory_path\u001b[49m\u001b[43m)\u001b[49m:\n\u001b[0;32m     13\u001b[0m         \u001b[38;5;28;01mif\u001b[39;00m file_name\u001b[38;5;241m.\u001b[39mendswith(\u001b[38;5;124m'\u001b[39m\u001b[38;5;124m.eml\u001b[39m\u001b[38;5;124m'\u001b[39m):\n\u001b[0;32m     14\u001b[0m             \u001b[38;5;28;01mwith\u001b[39;00m \u001b[38;5;28mopen\u001b[39m(os\u001b[38;5;241m.\u001b[39mpath\u001b[38;5;241m.\u001b[39mjoin(directory_path, file_name), \u001b[38;5;124m'\u001b[39m\u001b[38;5;124mrb\u001b[39m\u001b[38;5;124m'\u001b[39m) \u001b[38;5;28;01mas\u001b[39;00m f:\n",
      "\u001b[1;31mNotADirectoryError\u001b[0m: [WinError 267] Неверно задано имя папки: 'C:\\\\Users\\\\MGroup\\\\Downloads\\\\Re Offer №453757 13.11.2023, Contrinex _ FAMAGA Group GmbH & Co. KG .eml'"
     ]
    }
   ],
   "source": [
    "import os\n",
    "from email import message_from_file\n",
    "\n",
    "def extract_email_data(eml_file):\n",
    "    # Use the existing script or modified version to extract data from eml_file\n",
    "    # Return a dictionary containing the email's content and metadata\n",
    "    # Example: {\"timestamp\": ..., \"subject\": ..., \"sender\": ..., \"recipient\": ..., \"content\": ...}\n",
    "    pass\n",
    "\n",
    "def process_directory(directory_path):\n",
    "    email_data = []\n",
    "    for file_name in os.listdir(directory_path):\n",
    "        if file_name.endswith('.eml'):\n",
    "            with open(os.path.join(directory_path, file_name), 'rb') as f:\n",
    "                email_info = extract_email_data(f)\n",
    "                email_data.append(email_info)\n",
    "    \n",
    "    # Sort the emails based on your criteria, e.g., timestamp\n",
    "    sorted_emails = sorted(email_data, key=lambda x: x['timestamp'])\n",
    "\n",
    "    return sorted_emails\n",
    "\n",
    "# Directory containing your .eml files\n",
    "# Process the directory and get sorted emails\n",
    "sorted_emails = process_directory(path)\n",
    "\n",
    "# Output or process the sorted emails as needed\n",
    "for email in sorted_emails:\n",
    "    print(email)\n"
   ]
  },
  {
   "cell_type": "code",
   "execution_count": 20,
   "id": "6344a40c-169b-462d-b7bd-dd6c525fe18a",
   "metadata": {},
   "outputs": [],
   "source": [
    "from email import policy\n",
    "from email.parser import BytesParser\n",
    "from email.message import EmailMessage\n",
    "import os\n",
    "\n",
    "def extract_email_data(eml_file_path) -> dict:\n",
    "    \"\"\"\n",
    "    Extracts data from an .eml file.\n",
    "\n",
    "    Args:\n",
    "    eml_file_path (str): Path to the .eml file.\n",
    "\n",
    "    Returns:\n",
    "    dict: Extracted email data including sender, recipient, subject, date, and body.\n",
    "    \"\"\"\n",
    "\n",
    "    with open(eml_file_path, 'rb') as f:\n",
    "        msg: EmailMessage = BytesParser(policy=policy.default).parse(f)\n",
    "\n",
    "    # Extracting basic details\n",
    "    email_data = {\n",
    "        \"from\": msg[\"From\"],\n",
    "        \"to\": msg[\"To\"],\n",
    "        \"subject\": msg[\"Subject\"],\n",
    "        \"date\": msg[\"Date\"]\n",
    "    }\n",
    "\n",
    "    # Extracting the body of the email\n",
    "    if msg.is_multipart():\n",
    "        parts = [part.get_payload(decode=True) for part in msg.walk() if part.get_content_type() == 'text/plain']\n",
    "        body = ''.join(str(part, 'utf-8') for part in parts)\n",
    "    else:\n",
    "        body = str(msg.get_payload(decode=True), 'utf-8')\n",
    "\n",
    "    email_data[\"body\"] = body.strip()\n",
    "\n",
    "    return email_data"
   ]
  },
  {
   "cell_type": "code",
   "execution_count": null,
   "id": "ee9c9478-afd1-4e5f-937f-d7d378aec045",
   "metadata": {},
   "outputs": [],
   "source": [
    "from email.parser import BytesParser\n",
    "from email.message import EmailMessage\n",
    "from email import policy\n",
    "\n",
    "with open(path, 'rb') as f:\n",
    "    msg: EmailMessage = BytesParser(policy=policy.default).parse(f)\n",
    "    parts = [part.get_payload(decode=True) for part in msg.walk() if part.get_content_type() == 'text/plain']\n",
    "    body = ''.join(str(part, 'utf-8') for part in parts)\n",
    "    print(body)"
   ]
  },
  {
   "cell_type": "code",
   "execution_count": null,
   "id": "682a5956-d276-478b-baa3-098fc3bde885",
   "metadata": {},
   "outputs": [],
   "source": [
    "print(extract_email_data(path)['body'])"
   ]
  },
  {
   "cell_type": "code",
   "execution_count": 11,
   "id": "6a59db8c-638b-4638-8323-e0b9e3d0c835",
   "metadata": {},
   "outputs": [
    {
     "name": "stdout",
     "output_type": "stream",
     "text": [
      "Message:\n",
      "...\n",
      "------------\n"
     ]
    }
   ],
   "source": [
    "def separate_messages(email_body):\n",
    "    \"\"\"\n",
    "    Separates individual messages from an email thread.\n",
    "\n",
    "    Args:\n",
    "    email_body (str): The body of the email containing the entire conversation.\n",
    "\n",
    "    Returns:\n",
    "    list: A list of individual email messages.\n",
    "    \"\"\"\n",
    "    # Split the email body into lines\n",
    "    lines = email_body.split('\\n')\n",
    "\n",
    "    # Initialize variables\n",
    "    messages = []\n",
    "    current_message = []\n",
    "\n",
    "    # Iterate over each line\n",
    "    for line in lines:\n",
    "        if line.startswith('>'):\n",
    "            # Start of a quoted message\n",
    "            if current_message:\n",
    "                # Add the current message to the list and start a new one\n",
    "                messages.append('\\n'.join(current_message).strip())\n",
    "                current_message = []\n",
    "        else:\n",
    "            # Part of the current message\n",
    "            current_message.append(line)\n",
    "\n",
    "    # Add the last message if it exists\n",
    "    if current_message:\n",
    "        messages.append('\\n'.join(current_message).strip())\n",
    "\n",
    "    return messages\n",
    "\n",
    "# Example Usage\n",
    "email_body = \"...\"  # Replace with your actual email body\n",
    "messages = separate_messages(email_body)\n",
    "for message in messages:\n",
    "    print(\"Message:\")\n",
    "    print(message)\n",
    "    print(\"------------\")"
   ]
  },
  {
   "cell_type": "code",
   "execution_count": 12,
   "id": "4051bfa5-78b3-45e1-8339-1e96e7bd7645",
   "metadata": {},
   "outputs": [
    {
     "data": {
      "text/plain": [
       "['Good day,\\n\\nVery dear Mr. Lesar, thanks you for your order! Proforma invoice for \\npayment attached. Please send me a payment confirmation after it will be \\nmade to start processing your order as fast as possible.\\n\\nWish you a nice day!\\n\\n-- \\nMit freundlichen Grüßen / Best regards / Z wyrazami szacunku,\\nSawwa Wronskiy\\nVertrieb / Sales Manager\\nFAMAGA Group OHG\\n\\n+48226022408\\nhttps://famaga.de/',\n",
       " '-- \\nMit freundlichen Grüßen / Best regards / Z wyrazami szacunku,\\nSawwa Wronskiy\\nVertrieb / Sales Manager\\nFAMAGA Group OHG\\n\\n+48226022408\\nhttps://famaga.de/']"
      ]
     },
     "execution_count": 12,
     "metadata": {},
     "output_type": "execute_result"
    }
   ],
   "source": [
    "separate_messages(extract_email_data(path)['body'])"
   ]
  },
  {
   "cell_type": "code",
   "execution_count": 13,
   "id": "8c9110dc-9c2b-426a-a135-dd57783a655b",
   "metadata": {},
   "outputs": [
    {
     "name": "stdout",
     "output_type": "stream",
     "text": [
      "To: \"vzdrževanje | Eurobox d.o.o.\" <vzdrzevanje@eurobox.si>\n",
      "From: Sawwa Vronskiy <ws@famaga.de>\n",
      "Subject: Re: Offer №453757 13.11.2023, Contrinex || FAMAGA Group GmbH & Co. KG *\n"
     ]
    }
   ],
   "source": [
    "from email import policy\n",
    "from email.parser import BytesParser\n",
    "with open(path, 'rb') as fp:\n",
    "    msg = BytesParser(policy=policy.default).parse(fp)\n",
    "\n",
    "print('To:', msg['to'])\n",
    "print('From:', msg['from'])\n",
    "print('Subject:', msg['subject'])"
   ]
  },
  {
   "cell_type": "code",
   "execution_count": 15,
   "id": "6d44a7fd-67cb-4e70-a28c-edc65cd937fd",
   "metadata": {},
   "outputs": [],
   "source": [
    "import sys\n",
    "import os\n",
    "import os.path\n",
    "from collections import defaultdict\n",
    "from email.parser import Parser\n",
    "\n",
    "eml_mail = 'your eml file'\n",
    "output_dir = 'mention the directory where you want the files to be download'\n",
    "\n",
    "def parse_message(filename):\n",
    "    with open(filename) as f:\n",
    "        return Parser().parse(f)\n",
    "\n",
    "def find_attachments(message):\n",
    "    \"\"\"\n",
    "    Return a tuple of parsed content-disposition dict, message object\n",
    "    for each attachment found.\n",
    "    \"\"\"\n",
    "    found = []\n",
    "    for part in message.walk():\n",
    "        if 'content-disposition' not in part:\n",
    "            continue\n",
    "        cdisp = part['content-disposition'].split(';')\n",
    "        cdisp = [x.strip() for x in cdisp]\n",
    "        if cdisp[0].lower() != 'attachment':\n",
    "            continue\n",
    "        parsed = {}\n",
    "        for kv in cdisp[1:]:\n",
    "            key, val = kv.split('=')\n",
    "            if val.startswith('\"'):\n",
    "                val = val.strip('\"')\n",
    "            elif val.startswith(\"'\"):\n",
    "                val = val.strip(\"'\")\n",
    "            parsed[key] = val\n",
    "        found.append((parsed, part))\n",
    "    return found\n",
    "\n",
    "def run(eml_filename, output_dir):\n",
    "    msg = parse_message(eml_filename)\n",
    "    attachments = find_attachments(msg)\n",
    "    print (\"Found {0} attachments...\".format(len(attachments)))\n",
    "    if not os.path.isdir(output_dir):\n",
    "        os.mkdir(output_dir)\n",
    "    for cdisp, part in attachments:\n",
    "        cdisp_filename = os.path.normpath(cdisp['filename'])\n",
    "        # prevent malicious crap\n",
    "        if os.path.isabs(cdisp_filename):\n",
    "            cdisp_filename = os.path.basename(cdisp_filename)\n",
    "        towrite = os.path.join(output_dir, cdisp_filename)\n",
    "        print( \"Writing \" + towrite)\n",
    "        with open(towrite, 'wb') as fp:\n",
    "            data = part.get_payload(decode=True)\n",
    "            fp.write(data)"
   ]
  },
  {
   "cell_type": "code",
   "execution_count": 19,
   "id": "9ddf96d4-223a-449e-8d78-38ce898b12f3",
   "metadata": {},
   "outputs": [
    {
     "name": "stdout",
     "output_type": "stream",
     "text": [
      "Found 1 attachments...\n",
      "Writing C:\\Users\\MGroup\\components_agent_sales\\notebooks\\Proforma_453757.pdf\n"
     ]
    }
   ],
   "source": [
    "run(path, os.getcwd())"
   ]
  },
  {
   "cell_type": "code",
   "execution_count": null,
   "id": "4c3f8168-7aa3-4a4c-b10e-9f9afef62748",
   "metadata": {},
   "outputs": [],
   "source": [
    "import email\n",
    "\n",
    "with open(path) as email_file:\n",
    "    email_message = email.message_from_file(email_file)\n",
    "\n",
    "print(email_message.get_payload()[0])"
   ]
  },
  {
   "cell_type": "code",
   "execution_count": 24,
   "id": "686f1016-b906-4bd6-bff8-264b6e84e3af",
   "metadata": {},
   "outputs": [
    {
     "data": {
      "text/plain": [
       "<email.message.Message at 0x2aa7bd62360>"
      ]
     },
     "execution_count": 24,
     "metadata": {},
     "output_type": "execute_result"
    }
   ],
   "source": []
  },
  {
   "cell_type": "code",
   "execution_count": null,
   "id": "4e645d6e-ffd2-492c-86d9-713c34cf1106",
   "metadata": {},
   "outputs": [],
   "source": []
  }
 ],
 "metadata": {
  "kernelspec": {
   "display_name": "gpt",
   "language": "python",
   "name": "gpt"
  },
  "language_info": {
   "codemirror_mode": {
    "name": "ipython",
    "version": 3
   },
   "file_extension": ".py",
   "mimetype": "text/x-python",
   "name": "python",
   "nbconvert_exporter": "python",
   "pygments_lexer": "ipython3",
   "version": "3.12.3"
  }
 },
 "nbformat": 4,
 "nbformat_minor": 5
}
