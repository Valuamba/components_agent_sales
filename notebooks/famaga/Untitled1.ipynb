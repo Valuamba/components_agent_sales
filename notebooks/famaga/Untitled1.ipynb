{
 "cells": [
  {
   "cell_type": "code",
   "execution_count": 1,
   "id": "ed024981-bdf3-441f-a724-ddbcded9e0f7",
   "metadata": {},
   "outputs": [],
   "source": [
    "import tiktoken\n",
    "\n",
    "encoding = tiktoken.encoding_for_model(\"gpt-3.5-turbo\")\n"
   ]
  },
  {
   "cell_type": "code",
   "execution_count": 2,
   "id": "748427e4-2b44-4206-a442-6515810de0b0",
   "metadata": {},
   "outputs": [
    {
     "data": {
      "text/plain": [
       "True"
      ]
     },
     "execution_count": 2,
     "metadata": {},
     "output_type": "execute_result"
    }
   ],
   "source": [
    "import openai\n",
    "from dotenv import load_dotenv\n",
    "\n",
    "load_dotenv()"
   ]
  },
  {
   "cell_type": "code",
   "execution_count": 3,
   "id": "82091e39-e5fb-4661-bdf4-abee2844e8ce",
   "metadata": {},
   "outputs": [
    {
     "name": "stdout",
     "output_type": "stream",
     "text": [
      "This is a test."
     ]
    }
   ],
   "source": [
    "from openai import OpenAI\n",
    "\n",
    "client = OpenAI()\n",
    "\n",
    "stream = client.chat.completions.create(\n",
    "    model=\"gpt-4\",\n",
    "    messages=[{\"role\": \"user\", \"content\": \"Say this is a test\"}],\n",
    "    stream=True,\n",
    ")\n",
    "for chunk in stream:\n",
    "    if chunk.choices[0].delta.content is not None:\n",
    "        print(chunk.choices[0].delta.content, end=\"\")"
   ]
  },
  {
   "cell_type": "code",
   "execution_count": 4,
   "id": "fe0b15b9-c3aa-485c-93d1-2cd73f33fe71",
   "metadata": {},
   "outputs": [],
   "source": [
    "import json\n",
    "\n",
    "resp = \"\"\"\n",
    "[\n",
    "    {\n",
    "        \"id\": \"1\",\n",
    "        \"body\": \"Very dear Mr. Janura, attached is an updated proforma with the delivery price added. Please send me the payment confirmation after it will be made and we will send\n",
    " your order as fast as possible.Wish you a nice day!\",\n",
    "        \"from\": \"manager\",\n",
    "        \"intents\": [\n",
    "            {\n",
    "                \"intent\": \"Order Processing\",\n",
    "                \"sub_intent\": \"Order Update\",\n",
    "                \"branch\": \"Informing Updated Proforma Invoice\"\n",
    "            },\n",
    "            {\n",
    "                \"intent\": \"Payment\",\n",
    "                \"sub_intent\": \"Payment Confirmation\",\n",
    "                \"branch\": \"Request for Payment Confirmation\"\n",
    "            }\n",
    "        ]\n",
    "    },\n",
    "    {\n",
    "        \"id\": \"2\",\n",
    "        \"body\": \"We decide to deliver our order using your transport. Please send me a pro-forma invoice\",\n",
    "        \"from\": \"customer\",\n",
    "        \"intents\": [\n",
    "            {\n",
    "                \"intent\": \"Delivery and Shipping\",\n",
    "                \"sub_intent\": \"Delivery Method Confirmation\",\n",
    "                \"branch\": \"Confirming Delivery via Company Transport\"\n",
    "            },\n",
    "            {\n",
    "                \"intent\": \"Order Processing\",\n",
    "                \"sub_intent\": \"Proforma Invoice Request\",\n",
    "                \"branch\": \"Request for Proforma Invoice\"\n",
    "            }\n",
    "        ]\n",
    "    },\n",
    "    {\n",
    "        \"id\": \"3\",\n",
    "        \"body\": \"Good day,Very dear Mr. Janura, sure, we have calculated shipping and it made by us is will be 159.24 euro. If you would like us to made it I will prepare you an up\n",
    "dated proforma and after you pay the shipping amount we will proceed with shipping\",\n",
    "        \"from\": \"manager\",\n",
    "        \"intents\": [\n",
    "            {\n",
    "                \"intent\": \"Pricing and Quotes\",\n",
    "                \"sub_intent\": \"Transport Cost Confirmation\",\n",
    "                \"branch\": \"Confirming Shipping Cost\"\n",
    "            },\n",
    "            {\n",
    "                \"intent\": \"Order Processing\",\n",
    "                \"sub_intent\": \"Order Update\",\n",
    "                \"branch\": \"Offer to Update Proforma Invoice\"\n",
    "            },\n",
    "            {\n",
    "                \"intent\": \"Payment\",\n",
    "                \"sub_intent\": \"Payment Details\",\n",
    "                \"branch\": \"Details on Shipping Payment\"\n",
    "            }\n",
    "        ]\n",
    "    },\n",
    "    {\n",
    "        \"id\": \"4\",\n",
    "        \"body\": \"Dear Sawwa Vronskiy. Thank you for the nice message that our order is ready for collection. We talked earlier that you will provide the cost of transporting the go\n",
    "ods by your company once you have the data. If it is possible, please provide such cost. Then we will analyze what type of transport will be more beneficial for us.\",\n",
    "        \"from\": \"customer\",\n",
    "        \"intents\": [\n",
    "            {\n",
    "                \"intent\": \"Order Processing\",\n",
    "                \"sub_intent\": \"Order Confirmation\",\n",
    "                \"branch\": \"Acknowledging Order Readiness\"\n",
    "            },\n",
    "            {\n",
    "                \"intent\": \"Pricing and Quotes\",\n",
    "                \"sub_intent\": \"Transport Cost Inquiry\",\n",
    "                \"branch\": \"Inquiry About Delivery Costs\"\n",
    "            },\n",
    "            {\n",
    "                \"intent\": \"Delivery and Shipping\",\n",
    "                \"sub_intent\": \"Delivery Method Discussion\",\n",
    "                \"branch\": \"Discussing Beneficial Transport Type\"\n",
    "            }\n",
    "        ]\n",
    "    }\n",
    "]\n",
    "\n",
    "\"\"\""
   ]
  },
  {
   "cell_type": "code",
   "execution_count": null,
   "id": "0d37373e-d1bf-47d7-a30a-ad2f4d2851d9",
   "metadata": {},
   "outputs": [],
   "source": [
    "from typing import List, Literal\n",
    "from pydantic import BaseModel, Field\n",
    "import json\n",
    "\n",
    "\n",
    "class Intent(BaseModel):\n",
    "    intent: str\n",
    "    sub_intent: str\n",
    "    branch: str\n",
    "\n",
    "\n",
    "class Message(BaseModel):\n",
    "    id: str  # Adjust the type as needed (e.g., int for integer IDs)\n",
    "    body: str\n",
    "    from_: Literal['customer', 'manager'] = Field(..., alias='from')\n",
    "    intents: List[Intent]\n",
    "\n",
    "    class Config:\n",
    "        allow_population_by_field_name = True\n",
    "    "
   ]
  },
  {
   "cell_type": "code",
   "execution_count": 6,
   "id": "83f24804-a540-41c3-ade1-760789072d63",
   "metadata": {},
   "outputs": [
    {
     "data": {
      "text/plain": [
       "'\\n[\\n    {\\n        \"id\": \"1\",\\n        \"body\": \"Very dear Mr. Janura, attached is an updated proforma with the delivery price added. Please send me the payment confirmation after it will be made and we will send\\n your order as fast as possible.Wish you a nice day!\",\\n        \"from\": \"manager\",\\n        \"intents\": [\\n            {\\n                \"intent\": \"Order Processing\",\\n                \"sub_intent\": \"Order Update\",\\n                \"branch\": \"Informing Updated Proforma Invoice\"\\n            },\\n            {\\n                \"intent\": \"Payment\",\\n                \"sub_intent\": \"Payment Confirmation\",\\n                \"branch\": \"Request for Payment Confirmation\"\\n            }\\n        ]\\n    },\\n    {\\n        \"id\": \"2\",\\n        \"body\": \"We decide to deliver our order using your transport. Please send me a pro-forma invoice\",\\n        \"from\": \"customer\",\\n        \"intents\": [\\n            {\\n                \"intent\": \"Delivery and Shipping\",\\n                \"sub_intent\": \"Delivery Method Confirmation\",\\n                \"branch\": \"Confirming Delivery via Company Transport\"\\n            },\\n            {\\n                \"intent\": \"Order Processing\",\\n                \"sub_intent\": \"Proforma Invoice Request\",\\n                \"branch\": \"Request for Proforma Invoice\"\\n            }\\n        ]\\n    },\\n    {\\n        \"id\": \"3\",\\n        \"body\": \"Good day,Very dear Mr. Janura, sure, we have calculated shipping and it made by us is will be 159.24 euro. If you would like us to made it I will prepare you an up\\ndated proforma and after you pay the shipping amount we will proceed with shipping\",\\n        \"from\": \"manager\",\\n        \"intents\": [\\n            {\\n                \"intent\": \"Pricing and Quotes\",\\n                \"sub_intent\": \"Transport Cost Confirmation\",\\n                \"branch\": \"Confirming Shipping Cost\"\\n            },\\n            {\\n                \"intent\": \"Order Processing\",\\n                \"sub_intent\": \"Order Update\",\\n                \"branch\": \"Offer to Update Proforma Invoice\"\\n            },\\n            {\\n                \"intent\": \"Payment\",\\n                \"sub_intent\": \"Payment Details\",\\n                \"branch\": \"Details on Shipping Payment\"\\n            }\\n        ]\\n    },\\n    {\\n        \"id\": \"4\",\\n        \"body\": \"Dear Sawwa Vronskiy. Thank you for the nice message that our order is ready for collection. We talked earlier that you will provide the cost of transporting the go\\nods by your company once you have the data. If it is possible, please provide such cost. Then we will analyze what type of transport will be more beneficial for us.\",\\n        \"from\": \"customer\",\\n        \"intents\": [\\n            {\\n                \"intent\": \"Order Processing\",\\n                \"sub_intent\": \"Order Confirmation\",\\n                \"branch\": \"Acknowledging Order Readiness\"\\n            },\\n            {\\n                \"intent\": \"Pricing and Quotes\",\\n                \"sub_intent\": \"Transport Cost Inquiry\",\\n                \"branch\": \"Inquiry About Delivery Costs\"\\n            },\\n            {\\n                \"intent\": \"Delivery and Shipping\",\\n                \"sub_intent\": \"Delivery Method Discussion\",\\n                \"branch\": \"Discussing Beneficial Transport Type\"\\n            }\\n        ]\\n    }\\n]\\n\\n'"
      ]
     },
     "execution_count": 6,
     "metadata": {},
     "output_type": "execute_result"
    }
   ],
   "source": [
    "# json.loads(resp)\n",
    "\n",
    "resp"
   ]
  },
  {
   "cell_type": "code",
   "execution_count": 3,
   "id": "135e8d57-0e39-4f9b-8636-e3d392c4fbb3",
   "metadata": {},
   "outputs": [
    {
     "data": {
      "text/plain": [
       "'\\n'"
      ]
     },
     "execution_count": 3,
     "metadata": {},
     "output_type": "execute_result"
    }
   ],
   "source": [
    "resp[208]"
   ]
  },
  {
   "cell_type": "code",
   "execution_count": null,
   "id": "0744b540-9de7-412e-96f1-eefcfeec7e8a",
   "metadata": {},
   "outputs": [],
   "source": []
  }
 ],
 "metadata": {
  "kernelspec": {
   "display_name": "Python 3 (ipykernel)",
   "language": "python",
   "name": "python3"
  },
  "language_info": {
   "codemirror_mode": {
    "name": "ipython",
    "version": 3
   },
   "file_extension": ".py",
   "mimetype": "text/x-python",
   "name": "python",
   "nbconvert_exporter": "python",
   "pygments_lexer": "ipython3",
   "version": "3.12.3"
  }
 },
 "nbformat": 4,
 "nbformat_minor": 5
}
