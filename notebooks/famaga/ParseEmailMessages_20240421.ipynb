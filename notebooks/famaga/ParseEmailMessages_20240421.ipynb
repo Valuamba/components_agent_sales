{
 "cells": [
  {
   "cell_type": "code",
   "execution_count": null,
   "id": "d0f6d894-0c35-4a11-ab7b-273d3e6f6f8d",
   "metadata": {},
   "outputs": [],
   "source": [
    "import warnings\n",
    "from importlib import reload\n",
    "\n",
    "warnings.filterwarnings('ignore')"
   ]
  },
  {
   "cell_type": "code",
   "execution_count": 39,
   "id": "b7d775aa-2a9b-49f4-bf8b-fa003f0eca01",
   "metadata": {},
   "outputs": [],
   "source": [
    "from clients.gpt_database_logger import GPTDatabaseLogger\n",
    "\n",
    "GPT_DB_LOGGER_PATH = 'sqlite:///prompt_versions.db'\n",
    "\n",
    "db_logger = GPTDatabaseLogger(GPT_DB_LOGGER_PATH)"
   ]
  },
  {
   "cell_type": "code",
   "execution_count": null,
   "id": "5a3ced99-e1d1-45f7-97ee-f18374030e9a",
   "metadata": {},
   "outputs": [],
   "source": [
    "import os\n",
    "from email import message_from_file\n",
    "\n",
    "\n",
    "def process_directory(directory_path):\n",
    "    email_data = []\n",
    "    for file_name in os.listdir(directory_path):\n",
    "        if file_name.endswith('.eml'):\n",
    "            with open(os.path.join(directory_path, file_name), 'rb') as f:\n",
    "                email_info = extract_email_data(f)\n",
    "                email_data.append(email_info)\n",
    "    \n",
    "    # Sort the emails based on your criteria, e.g., timestamp\n",
    "    sorted_emails = sorted(email_data, key=lambda x: x['timestamp'])\n",
    "\n",
    "    return sorted_emails\n",
    "\n",
    "\n",
    "sorted_emails = process_directory(path)\n",
    "\n",
    "for email in sorted_emails:\n",
    "    print(email)\n"
   ]
  },
  {
   "cell_type": "code",
   "execution_count": 22,
   "id": "28fdd382-137b-4721-b6bc-15f5fcdaeb0c",
   "metadata": {},
   "outputs": [],
   "source": [
    "from bs4 import BeautifulSoup\n",
    "import copy\n",
    "import re\n",
    "import json\n",
    "import hashlib\n",
    "import email\n",
    "from email.policy import default"
   ]
  },
  {
   "cell_type": "code",
   "execution_count": 11,
   "id": "9bd14bae-e5dd-43e2-89a1-da3d26eb6682",
   "metadata": {},
   "outputs": [],
   "source": [
    "from email import policy\n",
    "from email.parser import BytesParser\n",
    "from email.message import EmailMessage\n",
    "import os\n",
    "\n",
    "\n",
    "def extract_email_data(eml_file_path) -> dict:\n",
    "    \"\"\"\n",
    "    Extracts data from an .eml file.\n",
    "\n",
    "    Args:\n",
    "    eml_file_path (str): Path to the .eml file.\n",
    "\n",
    "    Returns:\n",
    "    dict: Extracted email data including sender, recipient, subject, date, and body.\n",
    "    \"\"\"\n",
    "\n",
    "    with open(eml_file_path, 'rb') as f:\n",
    "        msg: EmailMessage = BytesParser(policy=policy.default).parse(f)\n",
    "\n",
    "    # Extracting basic details\n",
    "    email_data = {\n",
    "        \"from\": msg[\"From\"],\n",
    "        \"to\": msg[\"To\"],\n",
    "        \"subject\": msg[\"Subject\"],\n",
    "        \"date\": msg[\"Date\"]\n",
    "    }\n",
    "\n",
    "    # Extracting the body of the email\n",
    "    if msg.is_multipart():\n",
    "        parts = [part.get_payload(decode=True) for part in msg.walk() if part.get_content_type() == 'text/plain']\n",
    "        body = ''.join(str(part, 'utf-8') for part in parts)\n",
    "    else:\n",
    "        body = str(msg.get_payload(decode=True), 'utf-8')\n",
    "\n",
    "    email_data[\"body\"] = body.strip()\n",
    "\n",
    "    return email_data\n",
    "    "
   ]
  },
  {
   "cell_type": "code",
   "execution_count": 12,
   "id": "a81d4b2a-177e-47bb-be66-30b8c2df08c8",
   "metadata": {},
   "outputs": [],
   "source": [
    "email_data = extract_email_data('./deals_html/413460.html')"
   ]
  },
  {
   "cell_type": "code",
   "execution_count": 26,
   "id": "08202320-81da-4ea6-886b-9bf4d727241c",
   "metadata": {},
   "outputs": [],
   "source": [
    "def extract_messages_from_raw_html(html_content: str):\n",
    "    soup = BeautifulSoup(html_content, \"html.parser\")\n",
    "    messages = []\n",
    "    clone_body = copy.copy(soup)\n",
    "\n",
    "    for nested_blockquote in clone_body.find_all(\"blockquote\"):\n",
    "        nested_blockquote.decompose()\n",
    "\n",
    "    messages.append(clone_body.get_text(strip=True))\n",
    "    blockquotes = soup.find_all(\"blockquote\")\n",
    "\n",
    "    for blockquote in blockquotes:\n",
    "        clone = copy.copy(blockquote)\n",
    "\n",
    "        for nested_blockquote in clone.find_all(\"blockquote\"):\n",
    "            nested_blockquote.decompose()\n",
    "\n",
    "        messages.append(clone.get_text(strip=True))\n",
    "\n",
    "    return messages\n",
    "\n",
    "\n",
    "def extract_messages_from_raw_html(html_content: str):\n",
    "    \"\"\"\n",
    "    Метод парсит сырой HTML переписки и возвращает сообщения по убыванию по дате\n",
    "    (т.е с последнего сообщения к первому)\n",
    "    \"\"\"\n",
    "    soup = BeautifulSoup(html_content, \"html.parser\")\n",
    "    messages = []\n",
    "    clone_body = copy.copy(soup)\n",
    "\n",
    "    for nested_blockquote in clone_body.find_all(\"blockquote\"):\n",
    "        nested_blockquote.decompose()\n",
    "\n",
    "    messages.append(clone_body.get_text(strip=True))\n",
    "    blockquotes = soup.find_all(\"blockquote\")\n",
    "\n",
    "    for blockquote in blockquotes:\n",
    "        clone = copy.copy(blockquote)\n",
    "\n",
    "        for nested_blockquote in clone.find_all(\"blockquote\"):\n",
    "            nested_blockquote.decompose()\n",
    "\n",
    "        messages.append(clone.get_text(strip=True))\n",
    "\n",
    "    from_end_to_start_messages = messages\n",
    "    return from_end_to_start_messages\n"
   ]
  },
  {
   "cell_type": "code",
   "execution_count": 17,
   "id": "e49343f3-cc95-4918-9516-d466781fd7d4",
   "metadata": {},
   "outputs": [],
   "source": [
    "with open('./deals_html/413460.html', 'rb') as f:\n",
    "    html = f.read()"
   ]
  },
  {
   "cell_type": "code",
   "execution_count": 24,
   "id": "71b7741e-0337-4e43-bae3-78a43e10a285",
   "metadata": {},
   "outputs": [],
   "source": [
    "messages = extract_messages_from_raw_html(html)"
   ]
  },
  {
   "cell_type": "code",
   "execution_count": 30,
   "id": "a7cf81dc-ec8c-4dea-a2a1-d67c68a3b64c",
   "metadata": {},
   "outputs": [
    {
     "name": "stdout",
     "output_type": "stream",
     "text": [
      "<@font-face {font-family:Calibri; panose-1:2 15 5 2 2 2 4 3 2 4;}p.MsoNormal, li.MsoNormal, div.MsoNormal {margin:0cm; margin-bottom:.0001pt; font-size:11.0pt; font-family:\"Calibri\",sans-serif; mso-fareast-language:RU-US;}a:link, span.MsoHyperlink {mso-style-priority:99; color:blue; text-decoration:underline;}a:visited, span.MsoHyperlinkFollowed {mso-style-priority:99; color:purple; text-decoration:underline;}span.EmailStyle17 {mso-style-type:personal-compose; font-family:\"Calibri\",sans-serif; color:windowtext;}.MsoChpDefault {mso-style-type:export-only; font-family:\"Calibri\",sans-serif; mso-fareast-language:RU-US;}Mit\n",
      "            freundlichen Grüßen / Best regards,Kristine GergaiaSales\n",
      "          ManagerFAMAGA\n",
      "          Group OHG23560, Lubeck, Hinter den\n",
      "          Kirschkaten 83+49 (451) 70 36 49 97 (134)https://famaga.de/-------- Forwarded Message --------Subject:10001-03Date:Mon, 12 Jun 2023 12:25:59 +0000From:eutradesales<eutradesales@proton.me>To:Kristine Gergaia<kg1@famaga.de>I\n",
      "            have a new request for you. give me a quote please.And also please send the companies with which you work.\n",
      "            It is quite possible that we could work with you in a larger\n",
      "            volume.Since\n",
      "              I am looking for a lot of products on the Internet, and\n",
      "              very often your site opens up to me.Also,\n",
      "                if you want, you can send me your WhatsApp number, for\n",
      "                faster communication.END\n",
      "                ARMATUREN SK711067/PA (1 pc)END ARMATUREN ZA64-EE63 EE620632 (1 pc)END ARMATUREN ZA310066-EE620852/AX  (1 pc)\n"
     ]
    }
   ],
   "source": [
    "print(messages[3])"
   ]
  },
  {
   "cell_type": "code",
   "execution_count": 31,
   "id": "d2811166-df20-4424-9f4d-b825be5a291c",
   "metadata": {},
   "outputs": [],
   "source": [
    "import re\n",
    "\n",
    "# Function to remove HTML tags from a string\n",
    "def strip_html(html_string):\n",
    "    clean_text = re.sub(r'<[^>]+>', '', html_string)\n",
    "    return clean_text"
   ]
  },
  {
   "cell_type": "code",
   "execution_count": 32,
   "id": "1bea0bfc-edbc-4f58-852a-b3eb02c23277",
   "metadata": {},
   "outputs": [
    {
     "data": {
      "text/plain": [
       "'To:Kristine GergaiaI\\r\\r\\n            have a new request for you. give me a quote please.And also please send the companies with which you work.\\r\\r\\n            It is quite possible that we could work with you in a larger\\r\\r\\n            volume.Since\\r\\r\\n              I am looking for a lot of products on the Internet, and\\r\\r\\n              very often your site opens up to me.Also,\\r\\r\\n                if you want, you can send me your WhatsApp number, for\\r\\r\\n                faster communication.END\\r\\r\\n                ARMATUREN SK711067/PA (1 pc)END ARMATUREN ZA64-EE63 EE620632 (1 pc)END ARMATUREN ZA310066-EE620852/AX\\xa0 (1 pc)'"
      ]
     },
     "execution_count": 32,
     "metadata": {},
     "output_type": "execute_result"
    }
   ],
   "source": [
    "strip_html(messages[3])"
   ]
  },
  {
   "cell_type": "code",
   "execution_count": null,
   "id": "d7bb2bbd-aa34-4312-9c7d-1623db13d4f1",
   "metadata": {},
   "outputs": [],
   "source": [
    "offer_message = \"Please feel free to contact us if you need any further information\"\n",
    "msgs_without_offers = [msg for msg in messages if offer_message not in msg]\n",
    "\n",
    "for msg in msgs_without_offers:\n",
    "    print(msg)\n",
    "    print('\\n\\n')\n",
    "\n"
   ]
  },
  {
   "cell_type": "code",
   "execution_count": 44,
   "id": "c4459baa-c03e-400c-9360-ca2da235e680",
   "metadata": {},
   "outputs": [
    {
     "data": {
      "text/plain": [
       "'-------- Forwarded\\r\\r\\n                                                Message --------Subject:Fwd:\\r\\r\\n                                                        9089,7951-7954,\\r\\r\\n                                                        6553,6554Date:Tue, 30 May\\r\\r\\n                                                        2023 17:01:54\\r\\r\\n                                                        +0300From:info@famaga.de<info@famaga.de>To:sales@famaga.de<sales@famaga.de>--------\\r\\r\\n                                                  Weitergeleitete\\r\\r\\n                                                  Nachricht --------Betreff:9089,7951-7954,\\r\\r\\n                                                          6553,6554Datum:Tue, 30 May\\r\\r\\n                                                          2023 13:53:48\\r\\r\\n                                                          +0000Von:eutradesales<eutradesales@proton.me>An:info@famaga.de<info@famaga.de>Dear\\r\\r\\n                                                        Team,My name is Mikhail, I am from SIA TEMPUS company\\r\\r\\n                                                          based in Riga,\\r\\r\\n                                                          Latvia.Our company would\\r\\r\\n                                                          like to\\r\\r\\n                                                          clarify if the\\r\\r\\n                                                          items\\r\\r\\n                                                          available:K-Tron\\r\\r\\n                                                          9473-41073 (1\\r\\r\\n                                                          pc)K-Tron\\r\\r\\n                                                          0000004180 KCM\\r\\r\\n                                                          box 1600W\\r\\r\\n                                                          Drive (2 pc)K-Tron\\r\\r\\n                                                          0000025153 KCM\\r\\r\\n                                                          Cover with\\r\\r\\n                                                          keypad (2 pc)K-Tron\\r\\r\\n                                                          0000005108 KCM\\r\\r\\n                                                          Profibus DP\\r\\r\\n                                                          Module (2 pc)K-Tron\\r\\r\\n                                                          0000038727\\r\\r\\n                                                          Mounting KIT\\r\\r\\n                                                          (2 pc)K-TRON\\r\\r\\n                                                          MTR,SA STEPPER\\r\\r\\n                                                          1500RPM 170V\\r\\r\\n                                                          2.7A, 7518 (2\\r\\r\\n                                                          pc)K-TRON\\r\\r\\n                                                          BRUSH,SEAL\\r\\r\\n                                                          (OEM HU), 527\\r\\r\\n                                                          ( 1 pc)If your\\r\\r\\n                                                          company has\\r\\r\\n                                                          that product\\r\\r\\n                                                          in stock, you\\r\\r\\n                                                          could possibly\\r\\r\\n                                                          send\\r\\r\\n                                                          acommercial\\r\\r\\n                                                          offer with\\r\\r\\n                                                          delivery\\r\\r\\n                                                          terms. If you\\r\\r\\n                                                          do not have it\\r\\r\\n                                                          in stock,could\\r\\r\\n                                                          we make an\\r\\r\\n                                                          order from\\r\\r\\n                                                          you? Whether\\r\\r\\n                                                          it is yes,\\r\\r\\n                                                          could you tell\\r\\r\\n                                                          us the\\r\\r\\n                                                          delivery time\\r\\r\\n                                                          to Riga,\\r\\r\\n                                                          Latvia.TEMPUS SIAActual address:\\r\\r\\n                                                          Meldru iela 3\\r\\r\\n                                                          Rīga, LV-1015Legal address: Meldru\\r\\r\\n                                                          iela 3 LV-1015BANK: SWEDBANKKODS: HABALV2XKONTS:\\r\\r\\n                                                          LV79HABA0551042459472PVN Nr.:\\r\\r\\n                                                          LV40203017317With Best Regards,Mikhail'"
      ]
     },
     "execution_count": 44,
     "metadata": {},
     "output_type": "execute_result"
    }
   ],
   "source": [
    "msgs_without_offers[-1].strip()"
   ]
  },
  {
   "cell_type": "code",
   "execution_count": 45,
   "id": "c57ce9cb-85c7-4410-ad68-06034b57e0d4",
   "metadata": {},
   "outputs": [
    {
     "name": "stderr",
     "output_type": "stream",
     "text": [
      "<>:33: SyntaxWarning: invalid escape sequence '\\`'\n",
      "<>:33: SyntaxWarning: invalid escape sequence '\\`'\n",
      "/var/folders/x2/0f74_mmn0ts5qbnsn_wp241w0000gn/T/ipykernel_78512/3047214954.py:33: SyntaxWarning: invalid escape sequence '\\`'\n",
      "  \"\"\"}\n"
     ]
    },
    {
     "name": "stdout",
     "output_type": "stream",
     "text": [
      "```json\n",
      "{\n",
      "    \"parts\": [\n",
      "        {\n",
      "           \"amount\": 1,\n",
      "           \"brand_name\": \"K-Tron\",\n",
      "           \"part_number\": \"9473-41073\"\n",
      "        },\n",
      "        {\n",
      "           \"amount\": 2,\n",
      "           \"brand_name\": \"K-Tron\",\n",
      "           \"part_number\": \"0000004180\"\n",
      "        },\n",
      "        {\n",
      "           \"amount\": 2,\n",
      "           \"brand_name\": \"K-Tron\",\n",
      "           \"part_number\": \"0000025153\"\n",
      "        },\n",
      "        {\n",
      "           \"amount\": 2,\n",
      "           \"brand_name\": \"K-Tron\",\n",
      "           \"part_number\": \"0000005108\"\n",
      "        },\n",
      "        {\n",
      "           \"amount\": 2,\n",
      "           \"brand_name\": \"K-Tron\",\n",
      "           \"part_number\": \"0000038727\"\n",
      "        },\n",
      "        {\n",
      "           \"amount\": 2,\n",
      "           \"brand_name\": \"K-TRON\",\n",
      "           \"part_number\": \"MTR,SA STEPPER 1500RPM 170V 2.7A, 7518\"\n",
      "        },\n",
      "        {\n",
      "           \"amount\": 1,\n",
      "           \"brand_name\": \"K-TRON\",\n",
      "           \"part_number\": \"BRUSH,SEAL (OEM HU), 527\"\n",
      "        }\n",
      "    ],\n",
      "    \"client\": {\n",
      "        \"country\": \"Latvia\",\n",
      "        \"domain\": \"proton.me\",\n",
      "        \"email\": \"eutradesales@proton.me\",\n",
      "        \"office_country\": \"Latvia\"\n",
      "    }\n",
      "}\n",
      "```\n",
      "\n",
      "--------------------\n",
      "\n",
      "Note saved without feedback. ID: 1746f58a-ca8d-4ee0-aff2-124f6395c696\n",
      "Input tokens: 794 Output tokens: 314 Total price: 0.04$\n",
      "\n",
      "\n"
     ]
    },
    {
     "data": {
      "application/vnd.jupyter.widget-view+json": {
       "model_id": "951b6011515145ed830d7099f3e6fcd3",
       "version_major": 2,
       "version_minor": 0
      },
      "text/plain": [
       "HBox(children=(Button(button_style='success', description='👍 Like', style=ButtonStyle(), tooltip='Like this co…"
      ]
     },
     "metadata": {},
     "output_type": "display_data"
    },
    {
     "data": {
      "application/vnd.jupyter.widget-view+json": {
       "model_id": "e97d56aab55f4cfca528c3cf8e7585e6",
       "version_major": 2,
       "version_minor": 0
      },
      "text/plain": [
       "Textarea(value='', description='Feedback:', layout=Layout(height='80px', width='70%'), placeholder='Type your …"
      ]
     },
     "metadata": {},
     "output_type": "display_data"
    },
    {
     "data": {
      "application/vnd.jupyter.widget-view+json": {
       "model_id": "bf6b1aeb7b1949db8ecf92727972b1de",
       "version_major": 2,
       "version_minor": 0
      },
      "text/plain": [
       "Button(button_style='success', description='Submit Feedback', style=ButtonStyle(), tooltip='Click to submit fe…"
      ]
     },
     "metadata": {},
     "output_type": "display_data"
    }
   ],
   "source": [
    "response = db_logger.create_completion(temperature=0.1, tags='intent_classifier', model='gpt-4', messages=[\n",
    "    { \"role\": \"user\", \"content\": f\"\"\"\n",
    "Try to extract from text brand name, amount, detail name, part number from the text. Also recognize country by text.\n",
    "<<<>>>\n",
    "{msgs_without_offers[-1].strip()}\n",
    "<<<>>>\n",
    "\n",
    "If you cannot recognize specified parameters please put `null` value.\n",
    "\n",
    "---\n",
    "\n",
    "Your response should be a list of comma separated values, eg: `foo, bar, baz`\n",
    "\n",
    "The output should be a markdown code snippet formatted in the following adr, including the leading and trailing \"\\`\\`\\`json\" and \"\\`\\`\\`\":\n",
    "\n",
    "```json\n",
    "{{\n",
    "    \"parts\": [\n",
    "        {{\n",
    "           \"amount\": int // This is the amount of details\n",
    "           \"brand_name\": string // This is thr brand  name of detail\n",
    "           \"part_number\": string // This is the part number of detail\n",
    "        }}\n",
    "    ],\n",
    "    \"client\": {{\n",
    "        \"country\": string // This is the country of detail,\n",
    "        \"domain\": string // customer company domain\n",
    "        \"email\": string // customer email,\n",
    "        \"office_country\": string // country of customer office\n",
    "    }}\n",
    "}}\n",
    "```\n",
    "    \"\"\"}                             \n",
    "    ])"
   ]
  },
  {
   "cell_type": "code",
   "execution_count": 22,
   "id": "9c9ad847-e161-45f4-8fd9-bfee3e8f0ac0",
   "metadata": {},
   "outputs": [],
   "source": [
    "from bs4 import BeautifulSoup, Tag\n",
    "\n",
    "def build_html_structure(html):\n",
    "    soup = BeautifulSoup(html, 'html.parser')\n",
    "    max_depth = 20  # Estimate the maximum depth of your HTML\n",
    "    # Use 2 spaces for indentation, adjust number as needed\n",
    "    indentations = ['  ' * i for i in range(max_depth + 1)]  # Precompute indentations using 2 spaces\n",
    "\n",
    "    # Recursive function to generate HTML-like string without text nodes\n",
    "    def generate_html_structure(element, depth=0):\n",
    "        if isinstance(element, Tag):\n",
    "            indent = indentations[depth]\n",
    "            class_attr = f'class=\"{element[\"class\"]}\"' if 'class' in element.attrs else ''\n",
    "            tag_open = f\"{indent}<{element.name} {class_attr.strip()}>\"\n",
    "\n",
    "            # Gather all child tags for processing\n",
    "            child_tags = [child for child in element.children if isinstance(child, Tag)]\n",
    "            \n",
    "            if len(child_tags) == 1:\n",
    "                # Single child: Use single-line format\n",
    "                child_html = generate_html_structure(child_tags[0], depth + 1).strip()\n",
    "                return f\"{tag_open}{child_html}</{element.name}>\"\n",
    "            elif child_tags:\n",
    "                # Multiple children: Use multiline format with children on new lines\n",
    "                children_html = ''.join(generate_html_structure(child, depth + 1) for child in child_tags)\n",
    "                tag_close = f\"{indent}</{element.name}>\"\n",
    "                return f\"{tag_open}\\n{children_html}\\n{tag_close}\"\n",
    "            else:\n",
    "                # No children: Close tag on the same line\n",
    "                return f\"{tag_open}</{element.name}>\"\n",
    "\n",
    "        return ''  # Ignore non-tag elements and text\n",
    "\n",
    "    # Start from the root of the document and skip the [document] tag\n",
    "    return ''.join(generate_html_structure(child) for child in soup.children)"
   ]
  },
  {
   "cell_type": "code",
   "execution_count": 192,
   "id": "562847ee-a4b4-4aa1-b268-6b806ec60aa2",
   "metadata": {},
   "outputs": [],
   "source": [
    "exmpl_file_1 = './deals_html/discount/380760.html'\n",
    "exmpl_file_2 = './deals_html/discount/376107.html'\n",
    "exmpl_file_3 = './deals_html/discount/382491.html'\n",
    "exmpl_file_4 = './deals_html/discount/397719.html'\n",
    "exmpl_file_5 = './deals_html/391303.html'\n",
    "\n",
    "\n",
    "exmpl_file = exmpl_file_4\n",
    "\n",
    "with open(exmpl_file, 'rb') as f:\n",
    "    html = f.read()"
   ]
  },
  {
   "cell_type": "code",
   "execution_count": null,
   "id": "c5487b94-c7b9-4016-87d1-3b85b9040b16",
   "metadata": {},
   "outputs": [],
   "source": [
    "\n",
    "structured_html = build_html_structure(html)\n",
    "print(structured_html)"
   ]
  },
  {
   "cell_type": "code",
   "execution_count": 188,
   "id": "e338b5a3-23a6-4d83-92ff-26104ec93803",
   "metadata": {},
   "outputs": [],
   "source": [
    "soup = BeautifulSoup(html, \"html.parser\")\n",
    "body = soup.find('body')"
   ]
  },
  {
   "cell_type": "code",
   "execution_count": null,
   "id": "f08ed6d0-6f13-4dc1-b125-8f9436db094f",
   "metadata": {},
   "outputs": [],
   "source": [
    "soup"
   ]
  },
  {
   "cell_type": "code",
   "execution_count": 193,
   "id": "3d724215-e33c-4266-9227-a39231e9bc11",
   "metadata": {},
   "outputs": [
    {
     "name": "stdout",
     "output_type": "stream",
     "text": [
      "[document]\n",
      "div\n",
      "div\n",
      "blockquote\n",
      "blockquote\n",
      "blockquote\n",
      "div\n",
      "div\n",
      "div\n",
      "div\n",
      "div\n",
      "div\n",
      "div\n",
      "div\n",
      "div\n",
      "blockquote\n"
     ]
    }
   ],
   "source": [
    "from typing import List\n",
    "\n",
    "specific_style = \"border:none;border-top:solid\"\n",
    "\n",
    "\n",
    "def get_messages_from_html_file(file_path: str):\n",
    "    with open(exmpl_file, 'rb') as f:\n",
    "        html = f.read()\n",
    "        return split_email_html_on_messages(html)\n",
    "        \n",
    "def split_email_html_on_messages(email_html) -> List[str]:\n",
    "    soup = BeautifulSoup(html, \"html.parser\")\n",
    "    body = soup.find('body')\n",
    "    return get_element_message(body)\n",
    "\n",
    "keys_to_check = ['From:', 'Sent:', 'To:', 'Subject:']\n",
    "\n",
    "# Function to check presence of keys\n",
    "def check_presence_of_keys(element, keys):\n",
    "    text = element.get_text()  # Extract all text from the HTML\n",
    "    missing_keys = [key for key in keys if key not in text]\n",
    "    return missing_keys\n",
    "\n",
    "\n",
    "def get_element_messages(element) -> List[str]:\n",
    "    print(element.name)\n",
    "    child_elements = [desc for desc in element.children if desc.name in ['p', 'div', 'table', 'blockquote']]\n",
    "    messages = []\n",
    "\n",
    "    message = ''\n",
    "\n",
    "    def _append_message(msg: str):\n",
    "        if msg.strip():\n",
    "            messages.append(msg)\n",
    "        \n",
    "    for child in child_elements:\n",
    "        if child.name == 'div':\n",
    "            blockquote = child.find('blockquote')\n",
    "            if blockquote:\n",
    "                _append_message(message)\n",
    "                message = ''\n",
    "                messages += get_element_messages(child)\n",
    "            elif hasattr(child, 'style') and child.get('style') and specific_style in child.get('style'):\n",
    "                _append_message(message)\n",
    "                message = ''\n",
    "            else:\n",
    "                message += child.get_text(strip=True)\n",
    "        elif child.name == 'p':\n",
    "            if hasattr(child, 'class') and child.get('class') and child.get('class')[0] == 'moz-forward-container':\n",
    "                _append_message(message)\n",
    "                message = ''\n",
    "            elif not check_presence_of_keys(child, keys_to_check):\n",
    "                _append_message(message)\n",
    "                message = ''\n",
    "                message += child.get_text(strip=True) \n",
    "            else:\n",
    "                message += child.get_text(strip=True)\n",
    "        elif child.name == 'blockquote':\n",
    "            _append_message(message)\n",
    "            message = ''\n",
    "            messages += get_element_messages(child)\n",
    "        elif child.name == 'table':\n",
    "            blockquote = child.find('blockquote')\n",
    "            if blockquote:\n",
    "                print('Table blockquote')\n",
    "                _append_message(message)\n",
    "                message = ''\n",
    "                messages += get_element_messages(blockquote)\n",
    "            else:\n",
    "                message += child.get_text(strip=True)\n",
    "        else:\n",
    "            message += child.get_text(strip=True)\n",
    "\n",
    "    _append_message(message)\n",
    "\n",
    "    return messages\n",
    "\n",
    "soup = BeautifulSoup(html, \"html.parser\")\n",
    "root_element = soup.find('body') if soup.find('body') else soup\n",
    "messages = get_element_messages(root_element)"
   ]
  },
  {
   "cell_type": "code",
   "execution_count": 195,
   "id": "808fd375-09e1-45a6-a2e3-f24ab9f80c3c",
   "metadata": {},
   "outputs": [
    {
     "name": "stdout",
     "output_type": "stream",
     "text": [
      "Message 8:\n",
      "```\n",
      "Hello Ali,Hope this email finds you well.Please be informed that we had submitted our offer to the end user and got feedback from them that our prices were on the higher side by 45% from the prices other vendors quoted to them.Hence we request you to please recheck the prices and help us so we will be able to win this bid.\n",
      "```\n",
      "\n",
      "\n",
      "Message 7:\n",
      "```\n",
      "On Thu, 13 Apr 2023 at 21:06, <maa@famaga.de> wrote:\n",
      "```\n",
      "\n",
      "\n",
      "Message 6:\n",
      "```\n",
      "Dear Sir/ Madam,I would like to follow up on quotation, which was sent in response to your inquiry.Our company would be glad to provide any additional information and make every effort to fulfill your requirements and receive an order!Please take into consideration, that our portfolio not limited to this brand only.One of our distinctive features is close cooperation with various manufacturers from Europe, United States, Japan and other countries around the world.Famaga Group OHG works directly with them, avoiding a long chain of agents, which allows us to provide the best prices to our customers.If you require any more information, please do not hesitate to ask or call us.We look forward to receiving your valuable feedback!\n",
      "```\n",
      "\n",
      "\n",
      "Message 5:\n",
      "```\n",
      "Offer-Nr.:397719Customer request #:Peter K.Customer #:29008Date:Wednesday, 05 April 2023Inquiry #:Contact person:Muhammad Ali AmmarOffer valid till04.05.2023Inquiry date05.04.2023E-mail:maa@famaga.deWe would like to thank you for your inquiry and we are pleased to provide you our quotation as follows. Please feel free to contact us if you need any further information.Pos.DescriptionDescription and articleQty.PriceSumDelivery time1PRGM7-TT-MS-AF1F2-#8-7-CVD/A Manufacturing (D-A)20022434203pcs3.921,88£11.765,64£8-10 weeksGoods valueTrans.NettoTotal payment11.765,64£0,00£11.765,64£0,00£11.765,64£Delivery termsEXW - LübeckPayment conditionsinkl. Porto und  VerpackungPayment termsnach VereinbarungValid till04.05.2023Please be kindly informed about 30 Euro fee for orders under 150 Euro.Our general terms and conditions of delivery shall apply. The terms can be found on the internet underhttps://famaga.de/imperssumor obtained from us.Wir hoffen, dass unser Angebot für Sie als interessant erwiesen hat und freuen uns, Sie zu Stammkunden unseres Unternehmens  zählen zu können.Yours sincerelyFAMAGA Group OHGMuhammad Ali Ammar\n",
      "```\n",
      "\n",
      "\n",
      "Message 4:\n",
      "```\n",
      "Subject:Fwd: Fwd: REQUEST FOR QUOTATION_Refteck_Ref_5400022840_D\n",
      "              & A MANUFACTURING KUN29008Date:Tue, 4 Apr 2023 19:29:23 +0300From:Muhammad Ali Ammar<maa@famaga.de>To:sales@famaga.de<sales@famaga.de>\n",
      "```\n",
      "\n",
      "\n",
      "Message 3:\n",
      "```\n",
      "Subject:Fwd: REQUEST FOR QUOTATION_Refteck_Ref_5400022840_D\n",
      "                & A MANUFACTURING KUN29008Date:Wed, 29 Mar 2023 17:02:55 +0300From:Muhammad Ali Ammar<maa@famaga.de>To:sales@famaga.de<sales@famaga.de>\n",
      "```\n",
      "\n",
      "\n",
      "Message 2:\n",
      "```\n",
      "Subject:REQUEST FOR QUOTATION_Refteck_Ref_5400022840_D &\n",
      "                  A MANUFACTURINGDate:Wed, 29 Mar 2023 18:36:28 +0530From:Peter K<peter.k@refteck.com>To:maa@famaga.deCC:sales@famaga.de, Ramon\n",
      "                  Singh<rsingh@refteck.com>\n",
      "```\n",
      "\n",
      "\n",
      "Message 1:\n",
      "```\n",
      "Hello Ali,Hope you are safe and healthy.Please check our requirements below and quote us with the best possible prices.*************************************************************SAP: 2002243420Item Description: ASSEMBLY,MANIFOLD BLOW BACK MONELLong Description : Manufacturer's model/type n - PRGM7-TT-MS-AF1F2-#8-7-CVMANUFACTURER - D & A MANUFACTURING INC.Class Name - 902573_TRANSMIT_PAQTY- 3EA*************************************************************Please share your best discounted reseller prices. Also kindly include the following with your quote:Exact pickup location of the goods.Approx shipping charges tillRefteck Solutions Europe GmbH C/o TST Lager GmbH Street Medipark 2 City Kiefersfelden Postal code 83088 GERMANYCurrent lead time.Quote validity: kindly provide us at least 30 days.HSN/Custom Tariff Code.Technical Datasheets/Drawings.Gross Weight & Dimensions of the package.Warranty/Guarantee period.Certificate of Conformity.Payment Terms: Please allow Prior to Shipping.If you need any assistance, please let us know. Looking forward to hearing from you.Kind Regards,Peter K.Associate\n",
      "                                          - ProcurementSupply\n",
      "                                          Chain ManagementRefteck\n",
      "                                                  Solutions Europe GmbHAlt-Heerdt 104, 40549 DüsseldorfGermanyTel: +49 211 93 67 02 17Email:peter.k@refteck.comWeb:www.refteck.com\n",
      "```\n",
      "\n",
      "\n"
     ]
    }
   ],
   "source": [
    "for idx, msg in enumerate(messages):\n",
    "    print(f'Message {len(messages) - idx}:\\n```\\n{msg}\\n```\\n\\n')"
   ]
  },
  {
   "cell_type": "code",
   "execution_count": 64,
   "id": "f7d9be89-4095-4bf4-b9e9-e270ed3b3cdb",
   "metadata": {},
   "outputs": [],
   "source": [
    "signature_div = soup.find('div', class_='moz-signature')\n"
   ]
  },
  {
   "cell_type": "code",
   "execution_count": 68,
   "id": "49e1bf09-6450-4f35-bfcf-24cc42f66521",
   "metadata": {},
   "outputs": [
    {
     "data": {
      "text/plain": [
       "<div class=\"moz-signature\">\n",
       "<style><!--@font-face {font-family:\"Cambria Math\"; panose-1:2 4 5 3 5 4 6 3 2 4;}@font-face {font-family:Calibri; panose-1:2 15 5 2 2 2 4 3 2 4;}/* Style Definitions */p.MsoNormal, li.MsoNormal, div.MsoNormal {margin:0cm; margin-bottom:.0001pt; font-size:11.0pt; font-family:\"Calibri\",sans-serif; mso-fareast-language:RU-US;}a:link, span.MsoHyperlink {mso-style-priority:99; color:blue; text-decoration:underline;}a:visited, span.MsoHyperlinkFollowed {mso-style-priority:99; color:purple; text-decoration:underline;}span.EmailStyle17 {mso-style-type:personal-compose; font-family:\"Calibri\",sans-serif; color:windowtext;}.MsoChpDefault {mso-style-type:export-only; font-family:\"Calibri\",sans-serif; mso-fareast-language:RU-US;}--></style><!--[if gte mso 9]><xml><o:shapedefaults v:ext=\"edit\" spidmax=\"1027\" /></xml><![RUdif]--><!--[if gte mso 9]><xml><o:shapelayout v:ext=\"edit\"><o:idmap v:ext=\"edit\" data=\"1\" /></o:shapelayout></xml><![RUdif]--><strong><span style=\"color: #1f2e41; mso-fareast-language: RU-IE;\">Mit\n",
       "\n",
       "          freundlichen Grüßen / Best regards, <br/>\n",
       "\n",
       "          Vlad Pugach</span></strong><br/>\n",
       "<span style=\"color: #1f2e41; mso-fareast-language: RU-IE;\">Aftersales</span><br/>\n",
       "<span style=\"color: #1f2e41; mso-fareast-language: RU-IE;\">FAMAGA\n",
       "\n",
       "        Group OHG</span>\n",
       "<p class=\"MsoNormal\" style=\"font-size: 10pt;\"><a href=\"https://famaga.com/\"><img src=\"cid:part1.l6znH8IL.ORF6wwAC@famaga.de\"/></a></p>\n",
       "<span style=\"font-size:10pt; color: #1f2e41; mso-fareast-language:\n",
       "\n",
       "        RU-IE;\">23560, Lubeck, Hinter den Kirschkaten 83</span><br/>\n",
       "<strong><span style=\"color: #1f2e41; mso-fareast-language: RU-IE;\"><img height=\"12\" src=\"cid:part2.rugbi5Fn.0mn506m0@famaga.de\" width=\"12\"/> </span></strong> <span style=\"font-size:\n",
       "\n",
       "        10pt; color: #1f2e41; mso-fareast-language: RU-IE;\">+</span><br/>\n",
       "<strong><span style=\"color: #1f2e41; mso-fareast-language: RU-IE;\"><img height=\"12\" src=\"cid:part3.pCT9Fk6u.yEc6cJA6@famaga.de\" width=\"12\"/></span></strong><a href=\"https://famaga.de\"><span style=\"mso-fareast-language: RU-IE;\"> <span style=\"font-size:10pt; color: #1f2e41;\"> https://famaga.de/\n",
       "\n",
       "          </span></span></a></div>"
      ]
     },
     "execution_count": 68,
     "metadata": {},
     "output_type": "execute_result"
    }
   ],
   "source": [
    "signature_div"
   ]
  },
  {
   "cell_type": "code",
   "execution_count": 67,
   "id": "90fa8713-90f2-4375-9c85-69ee40599284",
   "metadata": {},
   "outputs": [
    {
     "data": {
      "text/plain": [
       "'\\nMit\\r\\r\\n          freundlichen Grüßen / Best regards, \\r\\r\\n          Vlad Pugach\\nAftersales\\nFAMAGA\\r\\r\\n        Group OHG\\n\\n23560, Lubeck, Hinter den Kirschkaten 83\\n  +\\n  https://famaga.de/\\r\\r\\n          '"
      ]
     },
     "execution_count": 67,
     "metadata": {},
     "output_type": "execute_result"
    }
   ],
   "source": [
    "signature_div.get_text()"
   ]
  },
  {
   "cell_type": "code",
   "execution_count": null,
   "id": "0520b23c-9141-47b7-b8a2-ef89d17886e8",
   "metadata": {},
   "outputs": [],
   "source": []
  }
 ],
 "metadata": {
  "kernelspec": {
   "display_name": "gpt",
   "language": "python",
   "name": "gpt"
  },
  "language_info": {
   "codemirror_mode": {
    "name": "ipython",
    "version": 3
   },
   "file_extension": ".py",
   "mimetype": "text/x-python",
   "name": "python",
   "nbconvert_exporter": "python",
   "pygments_lexer": "ipython3",
   "version": "3.12.3"
  }
 },
 "nbformat": 4,
 "nbformat_minor": 5
}
