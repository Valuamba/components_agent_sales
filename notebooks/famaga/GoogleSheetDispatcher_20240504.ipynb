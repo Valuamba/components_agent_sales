{
 "cells": [
  {
   "cell_type": "code",
   "execution_count": 2,
   "id": "8024f3cd-c248-41ff-950c-f6738ca56f54",
   "metadata": {},
   "outputs": [],
   "source": [
    "import gspread\n",
    "from oauth2client.service_account import ServiceAccountCredentials\n",
    "from pydantic import BaseModel, Field, field_validator"
   ]
  },
  {
   "cell_type": "code",
   "execution_count": 22,
   "id": "636316af-6226-43a9-9e18-aeeb3dac466a",
   "metadata": {},
   "outputs": [],
   "source": [
    "class GoogleSheetToSQLiteConverter:\n",
    "    def __init__(self, spreadsheet: str, credentials_path: str):\n",
    "        scope = ['https://spreadsheets.google.com/feeds','https://www.googleapis.com/auth/drive']\n",
    "        creds = ServiceAccountCredentials.from_json_keyfile_name(credentials_path, scope)\n",
    "        self.spreadsheet = spreadsheet\n",
    "        self.client = gspread.authorize(creds)\n",
    "        \n",
    "    def get_sheet_data(self, sheet: str):\n",
    "        worksheet = self.client.open(self.spreadsheet).worksheet(sheet)\n",
    "        records = worksheet.get_all_values()\n",
    "\n",
    "        return records"
   ]
  },
  {
   "cell_type": "code",
   "execution_count": 23,
   "id": "bd8c37b0-5996-4f5b-8b4d-8446b4a36db5",
   "metadata": {},
   "outputs": [],
   "source": [
    "ghconv = GoogleSheetToSQLiteConverter(\n",
    "    spreadsheet='Famaga Knowledge Map', \n",
    "    credentials_path=r'langchain-400510-06936d0d30b5.json')\n",
    "\n",
    "sheet_data = ghconv.get_sheet_data('Discount -> Purchased same product')\n",
    "\n"
   ]
  },
  {
   "cell_type": "code",
   "execution_count": null,
   "id": "058436c4-75dd-43c4-9a4e-aa87901cd7a6",
   "metadata": {},
   "outputs": [],
   "source": [
    " = 'Discount -> Purchased same product'"
   ]
  },
  {
   "cell_type": "code",
   "execution_count": null,
   "id": "bd923a4b-2e39-4437-a1ef-4f3527620350",
   "metadata": {},
   "outputs": [],
   "source": [
    "sheet = ghconv.client.open(\"Your_Sheet_Title\").sheet1\n",
    "\n",
    "# Get all values in the sheet\n",
    "data = sheet.get_all_values()\n",
    "headers = data.pop(0)"
   ]
  },
  {
   "cell_type": "code",
   "execution_count": 26,
   "id": "9a949432-1be7-4734-88df-46ee4223a0fa",
   "metadata": {},
   "outputs": [
    {
     "data": {
      "text/html": [
       "<div>\n",
       "<style scoped>\n",
       "    .dataframe tbody tr th:only-of-type {\n",
       "        vertical-align: middle;\n",
       "    }\n",
       "\n",
       "    .dataframe tbody tr th {\n",
       "        vertical-align: top;\n",
       "    }\n",
       "\n",
       "    .dataframe thead th {\n",
       "        text-align: right;\n",
       "    }\n",
       "</style>\n",
       "<table border=\"1\" class=\"dataframe\">\n",
       "  <thead>\n",
       "    <tr style=\"text-align: right;\">\n",
       "      <th></th>\n",
       "      <th>Is margin still above 10%?</th>\n",
       "      <th>Is the same margin on product as previous?</th>\n",
       "      <th>instruction</th>\n",
       "    </tr>\n",
       "  </thead>\n",
       "  <tbody>\n",
       "    <tr>\n",
       "      <th>0</th>\n",
       "      <td>If you change price that would be equal at pre...</td>\n",
       "      <td>Wether price or margin on the same product tha...</td>\n",
       "      <td></td>\n",
       "    </tr>\n",
       "    <tr>\n",
       "      <th>1</th>\n",
       "      <td>TRUE</td>\n",
       "      <td>TRUE</td>\n",
       "      <td>Give 2% discount</td>\n",
       "    </tr>\n",
       "    <tr>\n",
       "      <th>2</th>\n",
       "      <td>FALSE</td>\n",
       "      <td>ANY</td>\n",
       "      <td>Ask customer justification</td>\n",
       "    </tr>\n",
       "    <tr>\n",
       "      <th>3</th>\n",
       "      <td>FALSE</td>\n",
       "      <td>TRUE</td>\n",
       "      <td>It seems the price cannot be the same as previ...</td>\n",
       "    </tr>\n",
       "  </tbody>\n",
       "</table>\n",
       "</div>"
      ],
      "text/plain": [
       "                          Is margin still above 10%?  \\\n",
       "0  If you change price that would be equal at pre...   \n",
       "1                                               TRUE   \n",
       "2                                              FALSE   \n",
       "3                                              FALSE   \n",
       "\n",
       "          Is the same margin on product as previous?  \\\n",
       "0  Wether price or margin on the same product tha...   \n",
       "1                                               TRUE   \n",
       "2                                                ANY   \n",
       "3                                               TRUE   \n",
       "\n",
       "                                         instruction  \n",
       "0                                                     \n",
       "1                                   Give 2% discount  \n",
       "2                         Ask customer justification  \n",
       "3  It seems the price cannot be the same as previ...  "
      ]
     },
     "execution_count": 26,
     "metadata": {},
     "output_type": "execute_result"
    }
   ],
   "source": [
    "import pandas as pd\n",
    "\n",
    "\n",
    "headers = sheet_data.pop(0)\n",
    "\n",
    "# Convert to a DataFrame\n",
    "df = pd.DataFrame(sheet_data, columns=headers)\n",
    "\n",
    "# Print DataFrame\n",
    "df"
   ]
  },
  {
   "cell_type": "code",
   "execution_count": 25,
   "id": "fb1f8286-1a13-4410-b5c0-1fa0e1ad459a",
   "metadata": {},
   "outputs": [
    {
     "name": "stdout",
     "output_type": "stream",
     "text": [
      "| Is margin still above 10%?   | Is the same margin on product as previous?   | instruction                                                                                                                 |\n",
      "|:-----------------------------|:---------------------------------------------|:----------------------------------------------------------------------------------------------------------------------------|\n",
      "| TRUE                         | TRUE                                         | Give 2% discount                                                                                                            |\n",
      "| FALSE                        | ANY                                          | Ask customer justification                                                                                                  |\n",
      "| FALSE                        | TRUE                                         | It seems the price cannot be the same as previous on this product, due to some negotiation on market or due to exchang rate |\n"
     ]
    }
   ],
   "source": [
    "markdown_table = df.to_markdown(index=False)\n",
    "print(markdown_table)"
   ]
  },
  {
   "cell_type": "code",
   "execution_count": 24,
   "id": "51eb3b92-1449-4637-bc30-5ca7a2ddb01c",
   "metadata": {},
   "outputs": [
    {
     "data": {
      "text/plain": [
       "[['Is margin still above 10%?',\n",
       "  'Is the same margin on product as previous?',\n",
       "  'instruction'],\n",
       " ['If you change price that would be equal at previous order is our margin steel be great than 10%?',\n",
       "  'Wether price or margin on the same product that have been bought earlier?',\n",
       "  ''],\n",
       " ['TRUE', 'TRUE', 'Give 2% discount'],\n",
       " ['FALSE', 'ANY', 'Ask customer justification'],\n",
       " ['FALSE',\n",
       "  'TRUE',\n",
       "  'It seems the price cannot be the same as previous on this product, due to some negotiation on market or due to exchang rate']]"
      ]
     },
     "execution_count": 24,
     "metadata": {},
     "output_type": "execute_result"
    }
   ],
   "source": [
    "sheet_data"
   ]
  },
  {
   "cell_type": "code",
   "execution_count": 21,
   "id": "1779575d-9e3d-442b-9f05-a0349b1d8fbd",
   "metadata": {},
   "outputs": [
    {
     "data": {
      "text/plain": [
       "{'Is margin still above 10%?': 'If you change price that would be equal at previous order is our margin steel be great than 10%?',\n",
       " 'Is the same margin on product as previous?': 'Wether price or margin on the same product that have been bought earlier?',\n",
       " 'instruction': ''}"
      ]
     },
     "execution_count": 21,
     "metadata": {},
     "output_type": "execute_result"
    }
   ],
   "source": [
    "headers"
   ]
  },
  {
   "cell_type": "code",
   "execution_count": 27,
   "id": "c56d4e12-8972-4d79-b796-0fae1f8ce494",
   "metadata": {},
   "outputs": [],
   "source": [
    "def get_instruction(df, margin_above_10, same_margin):\n",
    "    # Build the query string\n",
    "    query_string = f'`Is margin still above 10%?` == \"{margin_above_10}\" and `Is the same margin on product as previous?` == \"{same_margin}\"'\n",
    "    result = df.query(query_string)\n",
    "    return result['instruction'].iloc[0]\n",
    "\n",
    "# Example Usage\n",
    "instruction = get_instruction(df, \"TRUE\", \"TRUE\")\n"
   ]
  },
  {
   "cell_type": "code",
   "execution_count": 28,
   "id": "f43e2b06-70e6-4b25-93c4-a6d28f041105",
   "metadata": {},
   "outputs": [
    {
     "data": {
      "text/plain": [
       "'Give 2% discount'"
      ]
     },
     "execution_count": 28,
     "metadata": {},
     "output_type": "execute_result"
    }
   ],
   "source": [
    "instruction"
   ]
  },
  {
   "cell_type": "code",
   "execution_count": 30,
   "id": "c4763220-f16b-4ef8-8895-1f5787f54d96",
   "metadata": {},
   "outputs": [],
   "source": [
    "from clients.gpt_database_logger import GPTDatabaseLogger\n",
    "\n",
    "GPT_DB_LOGGER_PATH = 'sqlite:///prompt_versions.db'\n",
    "\n",
    "db_logger = GPTDatabaseLogger(GPT_DB_LOGGER_PATH)"
   ]
  },
  {
   "cell_type": "code",
   "execution_count": 32,
   "id": "7e16d645-6095-457c-ba7f-87e25583f1bd",
   "metadata": {},
   "outputs": [
    {
     "name": "stdout",
     "output_type": "stream",
     "text": [
      "```json\n",
      "{\n",
      "    \"query\": \"`Is margin still above 10%?` == 'TRUE' and `Is the same margin on product as previous?` == 'TRUE' and `Product` == '700Z Tomoe Valve'\"\n",
      "}\n",
      "```\n",
      "\n",
      "--------------------\n",
      "\n",
      "Note saved without feedback. ID: 9a39d255-38f8-4b7f-a569-de7dc6507726\n",
      "Input tokens: 431 Output tokens: 52 Total price: 0.02$\n",
      "\n",
      "\n"
     ]
    },
    {
     "data": {
      "application/vnd.jupyter.widget-view+json": {
       "model_id": "3a98b43ee52b4b4c86eeaa2dff266c41",
       "version_major": 2,
       "version_minor": 0
      },
      "text/plain": [
       "HBox(children=(Button(button_style='success', description='👍 Like', style=ButtonStyle(), tooltip='Like this co…"
      ]
     },
     "metadata": {},
     "output_type": "display_data"
    },
    {
     "data": {
      "application/vnd.jupyter.widget-view+json": {
       "model_id": "826da968c9bb44fe9409dd8cc21181f3",
       "version_major": 2,
       "version_minor": 0
      },
      "text/plain": [
       "Textarea(value='', description='Feedback:', layout=Layout(height='80px', width='70%'), placeholder='Type your …"
      ]
     },
     "metadata": {},
     "output_type": "display_data"
    },
    {
     "data": {
      "application/vnd.jupyter.widget-view+json": {
       "model_id": "fcf24a1e60aa4ce7a4b83a28b135e2dd",
       "version_major": 2,
       "version_minor": 0
      },
      "text/plain": [
       "Button(button_style='success', description='Submit Feedback', style=ButtonStyle(), tooltip='Click to submit fe…"
      ]
     },
     "metadata": {},
     "output_type": "display_data"
    }
   ],
   "source": [
    "response = db_logger.create_completion(temperature=0.1, tags='query_builder', model='gpt-4', messages=[\n",
    "        { \"role\": \"user\", \"content\": f\"\"\"\n",
    "Build query for this input data.\n",
    "\n",
    "[CLIENT PURCHASE HISTORY]\n",
    "**Client purchase history:**\n",
    "Date: 2020-08-25\n",
    "135614 (GPC-040 Aventics (brand of Emerson)) margin: 20%, sell: 73.97$ qty. 1\n",
    "135614 (1827003935 Aventics (brand of Emerson)) margin: 20%, sell: 61.01$ qty. 1\n",
    "135614 (Shipping cost None) margin: 20%, sell: 72$ qty. 1\n",
    "\n",
    "Date: 2021-06-30\n",
    "190259 (058912610 Technotrans) margin: 20%, sell: 10.84$ qty. 50\n",
    "\n",
    "Date: 2024-04-29\n",
    "376924 (700Z Tomoe Valve) margin: 28%, sell: 374.27$ qty. 1\n",
    "\n",
    "[/CLIENT PURCHASE HISTORY]\n",
    "\n",
    "Offer:\n",
    "(700Z Tomoe Valve) margin: 28%, sell: 374.27$ qty. 1\n",
    "        \n",
    "### Querying Instructions:\n",
    "\n",
    "#### 1. **Field Names**:\n",
    "   - **\"Is margin still above 10%?\"**: This field checks if the margin is above 10%.\n",
    "   - **\"Is the same margin on product as previous?\"**: This field checks if the current margin on the product matches the previous margin.\n",
    "\n",
    "#### 2. **Possible Values**:\n",
    "   - **TRUE**: The condition is met.\n",
    "   - **FALSE**: The condition is not met.\n",
    "   - **ANY**: The condition is not relevant or any value is acceptable.\n",
    "\n",
    "#### 3. **Building a Query**:\n",
    "   - Use only field names that listed at instruction with possible values\n",
    "   - Use the `query()` method in Pandas to filter the table based on the conditions.\n",
    "   - Format each condition as a string using the field names and their desired values.\n",
    "\n",
    "#### 5. **Example Queries**:\n",
    "\n",
    "```json\n",
    "{{\n",
    "    \"query\": \"`Is margin still above 10%?` == 'TRUE' and `Is the same margin on product as previous?` == 'TRUE'\"\n",
    "}}\n",
    "```\n",
    "\"\"\"}])"
   ]
  },
  {
   "cell_type": "code",
   "execution_count": 34,
   "id": "6530f28b-31b6-4148-8e52-ab773789d2b9",
   "metadata": {},
   "outputs": [
    {
     "data": {
      "text/plain": [
       "'Give 2% discount'"
      ]
     },
     "execution_count": 34,
     "metadata": {},
     "output_type": "execute_result"
    }
   ],
   "source": [
    "query_string = \"`Is margin still above 10%?` == 'TRUE' and `Is the same margin on product as previous?` == 'TRUE'\"\n",
    "result = df.query(query_string)\n",
    "result['instruction'].iloc[0]"
   ]
  },
  {
   "cell_type": "code",
   "execution_count": null,
   "id": "97bd67c3-8717-4ad6-baa0-71e349a0ac4f",
   "metadata": {},
   "outputs": [],
   "source": []
  }
 ],
 "metadata": {
  "kernelspec": {
   "display_name": "gpt",
   "language": "python",
   "name": "gpt"
  },
  "language_info": {
   "codemirror_mode": {
    "name": "ipython",
    "version": 3
   },
   "file_extension": ".py",
   "mimetype": "text/x-python",
   "name": "python",
   "nbconvert_exporter": "python",
   "pygments_lexer": "ipython3",
   "version": "3.12.3"
  }
 },
 "nbformat": 4,
 "nbformat_minor": 5
}
