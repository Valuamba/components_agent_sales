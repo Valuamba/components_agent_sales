{
 "cells": [
  {
   "cell_type": "code",
   "execution_count": 2,
   "id": "a61d545e-c4e8-40d5-b37b-beec841376ed",
   "metadata": {},
   "outputs": [
    {
     "name": "stdout",
     "output_type": "stream",
     "text": [
      "kek\n"
     ]
    }
   ],
   "source": [
    "print(\"kek\")"
   ]
  },
  {
   "cell_type": "code",
   "execution_count": 3,
   "id": "484d8eb6-7b70-4e91-b0a4-757ee917fcff",
   "metadata": {},
   "outputs": [],
   "source": [
    "import openai\n",
    "from dotenv import load_dotenv"
   ]
  },
  {
   "cell_type": "code",
   "execution_count": 4,
   "id": "d0b4f3b4-8ed5-4597-89bf-9a7fbbaf0610",
   "metadata": {},
   "outputs": [
    {
     "data": {
      "text/plain": [
       "True"
      ]
     },
     "execution_count": 4,
     "metadata": {},
     "output_type": "execute_result"
    }
   ],
   "source": [
    "load_dotenv()"
   ]
  },
  {
   "cell_type": "code",
   "execution_count": 5,
   "id": "31d6d442-72a5-451c-9894-3028a7eb1fe1",
   "metadata": {},
   "outputs": [],
   "source": [
    "client = openai.OpenAI()"
   ]
  },
  {
   "cell_type": "code",
   "execution_count": 7,
   "id": "870fb9b3-eca5-4634-af23-b50743cc1b39",
   "metadata": {
    "scrolled": true
   },
   "outputs": [],
   "source": [
    "response = client.chat.completions.create(model='gpt-4', messages=[\n",
    "    { \"role\": \"user\", \"content\": \"write hello world on pascal ABC\"}\n",
    "])"
   ]
  },
  {
   "cell_type": "code",
   "execution_count": 14,
   "id": "df7700f4-0dcc-4b7c-b33a-9894044910fe",
   "metadata": {},
   "outputs": [
    {
     "name": "stdout",
     "output_type": "stream",
     "text": [
      "program HelloWorld;\n",
      "begin\n",
      "    writeln('Hello, World!');\n",
      "end.\n"
     ]
    }
   ],
   "source": [
    "print(response.choices[0].message.content)"
   ]
  },
  {
   "cell_type": "code",
   "execution_count": 15,
   "id": "9125727d-7814-4b85-93a1-3936eec466f1",
   "metadata": {},
   "outputs": [
    {
     "data": {
      "text/plain": [
       "<openai.OpenAI at 0x1babeb11160>"
      ]
     },
     "execution_count": 15,
     "metadata": {},
     "output_type": "execute_result"
    }
   ],
   "source": [
    "client"
   ]
  },
  {
   "cell_type": "code",
   "execution_count": 16,
   "id": "2cc724f9-9465-44ca-8dc1-a1044765f5d4",
   "metadata": {},
   "outputs": [
    {
     "ename": "NameError",
     "evalue": "name 'Gitlab' is not defined",
     "output_type": "error",
     "traceback": [
      "\u001b[1;31m---------------------------------------------------------------------------\u001b[0m",
      "\u001b[1;31mNameError\u001b[0m                                 Traceback (most recent call last)",
      "Cell \u001b[1;32mIn[16], line 1\u001b[0m\n\u001b[1;32m----> 1\u001b[0m gitlab_client \u001b[38;5;241m=\u001b[39m \u001b[43mGitlab\u001b[49m()\n",
      "\u001b[1;31mNameError\u001b[0m: name 'Gitlab' is not defined"
     ]
    }
   ],
   "source": [
    "gitlab_client = Gitlab()"
   ]
  },
  {
   "cell_type": "code",
   "execution_count": null,
   "id": "c64db4ca-31cd-4528-b31a-e340cc78d537",
   "metadata": {},
   "outputs": [],
   "source": [
    "import sys\n",
    "# Assuming the current working directory is the root of the project structure you've provided\n",
    "# Adjust the path as necessary if your current working directory is different\n",
    "sys.path.append('../..')\n",
    "\n",
    "from app.agents.classify_intents.agent import ClassifyIntentsAgent\n",
    "\n",
    "# Now you can use ClassifyAgent as needed\n",
    "agent = ClassifyIntentsAgent()\n"
   ]
  },
  {
   "cell_type": "code",
   "execution_count": null,
   "id": "3bbee07f-bc75-45eb-a4d3-3ea7d40fdb7e",
   "metadata": {},
   "outputs": [],
   "source": [
    "import os\n",
    "import sys\n",
    "\n",
    "# Get the absolute path to the 'app' directory\n",
    "project_root = os.path.abspath(r'C:\\Users\\MGroup\\components_agent_sales')\n",
    "sys.path.append(project_root)\n",
    "\n",
    "# Now, attempt the import again\n",
    "from app.agents.classify_intents.agent import ClassifyIntentsAgent"
   ]
  },
  {
   "cell_type": "code",
   "execution_count": null,
   "id": "66fd89a7-d863-4de1-9176-533e4abad56b",
   "metadata": {},
   "outputs": [],
   "source": []
  }
 ],
 "metadata": {
  "kernelspec": {
   "display_name": "Python 3 (ipykernel)",
   "language": "python",
   "name": "python3"
  },
  "language_info": {
   "codemirror_mode": {
    "name": "ipython",
    "version": 3
   },
   "file_extension": ".py",
   "mimetype": "text/x-python",
   "name": "python",
   "nbconvert_exporter": "python",
   "pygments_lexer": "ipython3",
   "version": "3.12.2"
  }
 },
 "nbformat": 4,
 "nbformat_minor": 5
}
