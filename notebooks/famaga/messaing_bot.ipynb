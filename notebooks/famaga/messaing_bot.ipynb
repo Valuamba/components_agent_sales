{
 "cells": [
  {
   "cell_type": "code",
   "execution_count": 1,
   "id": "ca1f2122-691e-4648-9e96-a810a03212ee",
   "metadata": {},
   "outputs": [
    {
     "name": "stderr",
     "output_type": "stream",
     "text": [
      "/var/folders/x2/0f74_mmn0ts5qbnsn_wp241w0000gn/T/ipykernel_1959/1859934246.py:16: DeprecationWarning: Passing `parse_mode`, `disable_web_page_preview` or `protect_content` to Bot initializer is deprecated. This arguments will be removed in 3.5.0 version\n",
      "Use `default=DefaultBotProperties(...)` instead.\n",
      "  bot = Bot(TOKEN, parse_mode=ParseMode.HTML)\n"
     ]
    }
   ],
   "source": [
    "import asyncio\n",
    "import logging\n",
    "import sys\n",
    "from os import getenv\n",
    "\n",
    "from aiogram import Bot, Dispatcher, Router, types\n",
    "from aiogram.enums import ParseMode\n",
    "from aiogram.filters import CommandStart\n",
    "from aiogram.types import Message\n",
    "from aiogram.utils.markdown import hbold\n",
    "import requests\n",
    "\n",
    "\n",
    "TOKEN = \"7091099686:AAHm31jtRiNHnUNOEiHa28tcnxJ33AGDTUQ\"\n",
    "\n",
    "bot = Bot(TOKEN, parse_mode=ParseMode.HTML)"
   ]
  },
  {
   "cell_type": "code",
   "execution_count": null,
   "id": "cb1dfac4-89d4-40f8-9257-d285b212bbf3",
   "metadata": {},
   "outputs": [
    {
     "name": "stdout",
     "output_type": "stream",
     "text": [
      "message_id=71 date=datetime.datetime(2024, 4, 17, 12, 3, 21, tzinfo=TzInfo(UTC)) chat=Chat(id=-1002129058709, type='supergroup', title='Famaga CSR', username=None, first_name=None, last_name=None, is_forum=True, photo=None, active_usernames=None, available_reactions=None, accent_color_id=None, background_custom_emoji_id=None, profile_accent_color_id=None, profile_background_custom_emoji_id=None, emoji_status_custom_emoji_id=None, emoji_status_expiration_date=None, bio=None, has_private_forwards=None, has_restricted_voice_and_video_messages=None, join_to_send_messages=None, join_by_request=None, description=None, invite_link=None, pinned_message=None, permissions=None, slow_mode_delay=None, unrestrict_boost_count=None, message_auto_delete_time=None, has_aggressive_anti_spam_enabled=None, has_hidden_members=None, has_protected_content=None, has_visible_history=None, sticker_set_name=None, can_set_sticker_set=None, custom_emoji_sticker_set_name=None, linked_chat_id=None, location=None) message_thread_id=67 from_user=User(id=6102292898, is_bot=False, first_name='Valentin', last_name='Marchuk', username='valuamba', language_code='ru', is_premium=True, added_to_attachment_menu=None, can_join_groups=None, can_read_all_group_messages=None, supports_inline_queries=None) sender_chat=None sender_boost_count=None forward_origin=None is_topic_message=True is_automatic_forward=None reply_to_message=Message(message_id=67, date=datetime.datetime(2024, 4, 17, 12, 2, 9, tzinfo=TzInfo(UTC)), chat=Chat(id=-1002129058709, type='supergroup', title='Famaga CSR', username=None, first_name=None, last_name=None, is_forum=True, photo=None, active_usernames=None, available_reactions=None, accent_color_id=None, background_custom_emoji_id=None, profile_accent_color_id=None, profile_background_custom_emoji_id=None, emoji_status_custom_emoji_id=None, emoji_status_expiration_date=None, bio=None, has_private_forwards=None, has_restricted_voice_and_video_messages=None, join_to_send_messages=None, join_by_request=None, description=None, invite_link=None, pinned_message=None, permissions=None, slow_mode_delay=None, unrestrict_boost_count=None, message_auto_delete_time=None, has_aggressive_anti_spam_enabled=None, has_hidden_members=None, has_protected_content=None, has_visible_history=None, sticker_set_name=None, can_set_sticker_set=None, custom_emoji_sticker_set_name=None, linked_chat_id=None, location=None), message_thread_id=67, from_user=User(id=6102292898, is_bot=False, first_name='Valentin', last_name='Marchuk', username='valuamba', language_code='ru', is_premium=True, added_to_attachment_menu=None, can_join_groups=None, can_read_all_group_messages=None, supports_inline_queries=None), sender_chat=None, sender_boost_count=None, forward_origin=None, is_topic_message=True, is_automatic_forward=None, reply_to_message=None, external_reply=None, quote=None, reply_to_story=None, via_bot=None, edit_date=None, has_protected_content=None, media_group_id=None, author_signature=None, text=None, entities=None, link_preview_options=None, animation=None, audio=None, document=None, photo=None, sticker=None, story=None, video=None, video_note=None, voice=None, caption=None, caption_entities=None, has_media_spoiler=None, contact=None, dice=None, game=None, poll=None, venue=None, location=None, new_chat_members=None, left_chat_member=None, new_chat_title=None, new_chat_photo=None, delete_chat_photo=None, group_chat_created=None, supergroup_chat_created=None, channel_chat_created=None, message_auto_delete_timer_changed=None, migrate_to_chat_id=None, migrate_from_chat_id=None, pinned_message=None, invoice=None, successful_payment=None, users_shared=None, chat_shared=None, connected_website=None, write_access_allowed=None, passport_data=None, proximity_alert_triggered=None, boost_added=None, forum_topic_created=ForumTopicCreated(name='Buy product', icon_color=16749490, icon_custom_emoji_id='5309832892262654231'), forum_topic_edited=None, forum_topic_closed=None, forum_topic_reopened=None, general_forum_topic_hidden=None, general_forum_topic_unhidden=None, giveaway_created=None, giveaway=None, giveaway_winners=None, giveaway_completed=None, video_chat_scheduled=None, video_chat_started=None, video_chat_ended=None, video_chat_participants_invited=None, web_app_data=None, reply_markup=None, forward_date=None, forward_from=None, forward_from_chat=None, forward_from_message_id=None, forward_sender_name=None, forward_signature=None, user_shared=None) external_reply=None quote=None reply_to_story=None via_bot=None edit_date=None has_protected_content=None media_group_id=None author_signature=None text='Dear Sir or Madam,\\n\\n \\n\\nPlease advise if stators and rotors are available for the attached. The pump appears to be very similar to a Mono pump\\n\\n \\n\\nKind regards\\n\\nAusten Brunton BEng (Hons), MIMarEST\\n\\nTechnical Fleet Manager\\n\\n \\n\\nWYM Group Ltd\\n\\nIncorporating Wilson Yacht Management and Wilson Ship Management\\n\\n \\n\\nNew Email Address: austen@wymgroup.com\\n\\nWeb: www.wymgroup.com\\n\\n \\n\\nPhone: +44 (0) 1482 648322\\n\\nMob: +44 (0) 7760665835' entities=[MessageEntity(type='email', offset=329, length=19, url=None, user=None, language=None, custom_emoji_id=None), MessageEntity(type='url', offset=355, length=16, url=None, user=None, language=None, custom_emoji_id=None)] link_preview_options=None animation=None audio=None document=None photo=None sticker=None story=None video=None video_note=None voice=None caption=None caption_entities=None has_media_spoiler=None contact=None dice=None game=None poll=None venue=None location=None new_chat_members=None left_chat_member=None new_chat_title=None new_chat_photo=None delete_chat_photo=None group_chat_created=None supergroup_chat_created=None channel_chat_created=None message_auto_delete_timer_changed=None migrate_to_chat_id=None migrate_from_chat_id=None pinned_message=None invoice=None successful_payment=None users_shared=None chat_shared=None connected_website=None write_access_allowed=None passport_data=None proximity_alert_triggered=None boost_added=None forum_topic_created=None forum_topic_edited=None forum_topic_closed=None forum_topic_reopened=None general_forum_topic_hidden=None general_forum_topic_unhidden=None giveaway_created=None giveaway=None giveaway_winners=None giveaway_completed=None video_chat_scheduled=None video_chat_started=None video_chat_ended=None video_chat_participants_invited=None web_app_data=None reply_markup=None forward_date=None forward_from=None forward_from_chat=None forward_from_message_id=None forward_sender_name=None forward_signature=None user_shared=None\n"
     ]
    },
    {
     "name": "stderr",
     "output_type": "stream",
     "text": [
      "Cause exception while process update id=319410139 by bot id=7091099686\n",
      "AttributeError: 'NoneType' object has no attribute 'splitlines'\n",
      "Traceback (most recent call last):\n",
      "  File \"/Users/valuamba/projs/components_agent_sales/venv/lib/python3.12/site-packages/aiogram/dispatcher/dispatcher.py\", line 309, in _process_update\n",
      "    response = await self.feed_update(bot, update, **kwargs)\n",
      "               ^^^^^^^^^^^^^^^^^^^^^^^^^^^^^^^^^^^^^^^^^^^^^\n",
      "  File \"/Users/valuamba/projs/components_agent_sales/venv/lib/python3.12/site-packages/aiogram/dispatcher/dispatcher.py\", line 158, in feed_update\n",
      "    response = await self.update.wrap_outer_middleware(\n",
      "               ^^^^^^^^^^^^^^^^^^^^^^^^^^^^^^^^^^^^^^^^\n",
      "  File \"/Users/valuamba/projs/components_agent_sales/venv/lib/python3.12/site-packages/aiogram/dispatcher/middlewares/error.py\", line 25, in __call__\n",
      "    return await handler(event, data)\n",
      "           ^^^^^^^^^^^^^^^^^^^^^^^^^^\n",
      "  File \"/Users/valuamba/projs/components_agent_sales/venv/lib/python3.12/site-packages/aiogram/dispatcher/middlewares/user_context.py\", line 27, in __call__\n",
      "    return await handler(event, data)\n",
      "           ^^^^^^^^^^^^^^^^^^^^^^^^^^\n",
      "  File \"/Users/valuamba/projs/components_agent_sales/venv/lib/python3.12/site-packages/aiogram/fsm/middleware.py\", line 41, in __call__\n",
      "    return await handler(event, data)\n",
      "           ^^^^^^^^^^^^^^^^^^^^^^^^^^\n",
      "  File \"/Users/valuamba/projs/components_agent_sales/venv/lib/python3.12/site-packages/aiogram/dispatcher/event/telegram.py\", line 121, in trigger\n",
      "    return await wrapped_inner(event, kwargs)\n",
      "           ^^^^^^^^^^^^^^^^^^^^^^^^^^^^^^^^^^\n",
      "  File \"/Users/valuamba/projs/components_agent_sales/venv/lib/python3.12/site-packages/aiogram/dispatcher/event/handler.py\", line 43, in call\n",
      "    return await wrapped()\n",
      "           ^^^^^^^^^^^^^^^\n",
      "  File \"/Users/valuamba/projs/components_agent_sales/venv/lib/python3.12/site-packages/aiogram/dispatcher/dispatcher.py\", line 276, in _listen_update\n",
      "    return await self.propagate_event(update_type=update_type, event=event, **kwargs)\n",
      "           ^^^^^^^^^^^^^^^^^^^^^^^^^^^^^^^^^^^^^^^^^^^^^^^^^^^^^^^^^^^^^^^^^^^^^^^^^^\n",
      "  File \"/Users/valuamba/projs/components_agent_sales/venv/lib/python3.12/site-packages/aiogram/dispatcher/router.py\", line 128, in propagate_event\n",
      "    return await observer.wrap_outer_middleware(_wrapped, event=event, data=kwargs)\n",
      "           ^^^^^^^^^^^^^^^^^^^^^^^^^^^^^^^^^^^^^^^^^^^^^^^^^^^^^^^^^^^^^^^^^^^^^^^^\n",
      "  File \"/Users/valuamba/projs/components_agent_sales/venv/lib/python3.12/site-packages/aiogram/dispatcher/router.py\", line 123, in _wrapped\n",
      "    return await self._propagate_event(\n",
      "           ^^^^^^^^^^^^^^^^^^^^^^^^^^^^\n",
      "  File \"/Users/valuamba/projs/components_agent_sales/venv/lib/python3.12/site-packages/aiogram/dispatcher/router.py\", line 148, in _propagate_event\n",
      "    response = await observer.trigger(event, **kwargs)\n",
      "               ^^^^^^^^^^^^^^^^^^^^^^^^^^^^^^^^^^^^^^^\n",
      "  File \"/Users/valuamba/projs/components_agent_sales/venv/lib/python3.12/site-packages/aiogram/dispatcher/event/telegram.py\", line 121, in trigger\n",
      "    return await wrapped_inner(event, kwargs)\n",
      "           ^^^^^^^^^^^^^^^^^^^^^^^^^^^^^^^^^^\n",
      "  File \"/Users/valuamba/projs/components_agent_sales/venv/lib/python3.12/site-packages/aiogram/dispatcher/event/handler.py\", line 43, in call\n",
      "    return await wrapped()\n",
      "           ^^^^^^^^^^^^^^^\n",
      "  File \"/var/folders/x2/0f74_mmn0ts5qbnsn_wp241w0000gn/T/ipykernel_1959/1867452146.py\", line 30, in echo_handler\n",
      "    \"message\": preprocess_text(message.text),\n",
      "               ^^^^^^^^^^^^^^^^^^^^^^^^^^^^^\n",
      "  File \"/var/folders/x2/0f74_mmn0ts5qbnsn_wp241w0000gn/T/ipykernel_1959/1867452146.py\", line 5, in preprocess_text\n",
      "    cleaned_lines = [line.strip() for line in text.splitlines() if line.strip()]\n",
      "                                              ^^^^^^^^^^^^^^^\n",
      "AttributeError: 'NoneType' object has no attribute 'splitlines'\n"
     ]
    },
    {
     "name": "stdout",
     "output_type": "stream",
     "text": [
      "message_id=73 date=datetime.datetime(2024, 4, 17, 12, 7, 24, tzinfo=TzInfo(UTC)) chat=Chat(id=-1002129058709, type='supergroup', title='Famaga CSR', username=None, first_name=None, last_name=None, is_forum=True, photo=None, active_usernames=None, available_reactions=None, accent_color_id=None, background_custom_emoji_id=None, profile_accent_color_id=None, profile_background_custom_emoji_id=None, emoji_status_custom_emoji_id=None, emoji_status_expiration_date=None, bio=None, has_private_forwards=None, has_restricted_voice_and_video_messages=None, join_to_send_messages=None, join_by_request=None, description=None, invite_link=None, pinned_message=None, permissions=None, slow_mode_delay=None, unrestrict_boost_count=None, message_auto_delete_time=None, has_aggressive_anti_spam_enabled=None, has_hidden_members=None, has_protected_content=None, has_visible_history=None, sticker_set_name=None, can_set_sticker_set=None, custom_emoji_sticker_set_name=None, linked_chat_id=None, location=None) message_thread_id=73 from_user=User(id=6102292898, is_bot=False, first_name='Valentin', last_name='Marchuk', username='valuamba', language_code='en', is_premium=True, added_to_attachment_menu=None, can_join_groups=None, can_read_all_group_messages=None, supports_inline_queries=None) sender_chat=None sender_boost_count=None forward_origin=None is_topic_message=True is_automatic_forward=None reply_to_message=None external_reply=None quote=None reply_to_story=None via_bot=None edit_date=None has_protected_content=None media_group_id=None author_signature=None text=None entities=None link_preview_options=None animation=None audio=None document=None photo=None sticker=None story=None video=None video_note=None voice=None caption=None caption_entities=None has_media_spoiler=None contact=None dice=None game=None poll=None venue=None location=None new_chat_members=None left_chat_member=None new_chat_title=None new_chat_photo=None delete_chat_photo=None group_chat_created=None supergroup_chat_created=None channel_chat_created=None message_auto_delete_timer_changed=None migrate_to_chat_id=None migrate_from_chat_id=None pinned_message=None invoice=None successful_payment=None users_shared=None chat_shared=None connected_website=None write_access_allowed=None passport_data=None proximity_alert_triggered=None boost_added=None forum_topic_created=ForumTopicCreated(name='sdfvfdv', icon_color=7322096, icon_custom_emoji_id=None) forum_topic_edited=None forum_topic_closed=None forum_topic_reopened=None general_forum_topic_hidden=None general_forum_topic_unhidden=None giveaway_created=None giveaway=None giveaway_winners=None giveaway_completed=None video_chat_scheduled=None video_chat_started=None video_chat_ended=None video_chat_participants_invited=None web_app_data=None reply_markup=None forward_date=None forward_from=None forward_from_chat=None forward_from_message_id=None forward_sender_name=None forward_signature=None user_shared=None\n",
      "message_id=74 date=datetime.datetime(2024, 4, 17, 12, 7, 40, tzinfo=TzInfo(UTC)) chat=Chat(id=-1002129058709, type='supergroup', title='Famaga CSR', username=None, first_name=None, last_name=None, is_forum=True, photo=None, active_usernames=None, available_reactions=None, accent_color_id=None, background_custom_emoji_id=None, profile_accent_color_id=None, profile_background_custom_emoji_id=None, emoji_status_custom_emoji_id=None, emoji_status_expiration_date=None, bio=None, has_private_forwards=None, has_restricted_voice_and_video_messages=None, join_to_send_messages=None, join_by_request=None, description=None, invite_link=None, pinned_message=None, permissions=None, slow_mode_delay=None, unrestrict_boost_count=None, message_auto_delete_time=None, has_aggressive_anti_spam_enabled=None, has_hidden_members=None, has_protected_content=None, has_visible_history=None, sticker_set_name=None, can_set_sticker_set=None, custom_emoji_sticker_set_name=None, linked_chat_id=None, location=None) message_thread_id=73 from_user=User(id=6102292898, is_bot=False, first_name='Valentin', last_name='Marchuk', username='valuamba', language_code='en', is_premium=True, added_to_attachment_menu=None, can_join_groups=None, can_read_all_group_messages=None, supports_inline_queries=None) sender_chat=None sender_boost_count=None forward_origin=None is_topic_message=True is_automatic_forward=None reply_to_message=Message(message_id=73, date=datetime.datetime(2024, 4, 17, 12, 7, 24, tzinfo=TzInfo(UTC)), chat=Chat(id=-1002129058709, type='supergroup', title='Famaga CSR', username=None, first_name=None, last_name=None, is_forum=True, photo=None, active_usernames=None, available_reactions=None, accent_color_id=None, background_custom_emoji_id=None, profile_accent_color_id=None, profile_background_custom_emoji_id=None, emoji_status_custom_emoji_id=None, emoji_status_expiration_date=None, bio=None, has_private_forwards=None, has_restricted_voice_and_video_messages=None, join_to_send_messages=None, join_by_request=None, description=None, invite_link=None, pinned_message=None, permissions=None, slow_mode_delay=None, unrestrict_boost_count=None, message_auto_delete_time=None, has_aggressive_anti_spam_enabled=None, has_hidden_members=None, has_protected_content=None, has_visible_history=None, sticker_set_name=None, can_set_sticker_set=None, custom_emoji_sticker_set_name=None, linked_chat_id=None, location=None), message_thread_id=73, from_user=User(id=6102292898, is_bot=False, first_name='Valentin', last_name='Marchuk', username='valuamba', language_code='en', is_premium=True, added_to_attachment_menu=None, can_join_groups=None, can_read_all_group_messages=None, supports_inline_queries=None), sender_chat=None, sender_boost_count=None, forward_origin=None, is_topic_message=True, is_automatic_forward=None, reply_to_message=None, external_reply=None, quote=None, reply_to_story=None, via_bot=None, edit_date=None, has_protected_content=None, media_group_id=None, author_signature=None, text=None, entities=None, link_preview_options=None, animation=None, audio=None, document=None, photo=None, sticker=None, story=None, video=None, video_note=None, voice=None, caption=None, caption_entities=None, has_media_spoiler=None, contact=None, dice=None, game=None, poll=None, venue=None, location=None, new_chat_members=None, left_chat_member=None, new_chat_title=None, new_chat_photo=None, delete_chat_photo=None, group_chat_created=None, supergroup_chat_created=None, channel_chat_created=None, message_auto_delete_timer_changed=None, migrate_to_chat_id=None, migrate_from_chat_id=None, pinned_message=None, invoice=None, successful_payment=None, users_shared=None, chat_shared=None, connected_website=None, write_access_allowed=None, passport_data=None, proximity_alert_triggered=None, boost_added=None, forum_topic_created=ForumTopicCreated(name='sdfvfdv', icon_color=7322096, icon_custom_emoji_id=None), forum_topic_edited=None, forum_topic_closed=None, forum_topic_reopened=None, general_forum_topic_hidden=None, general_forum_topic_unhidden=None, giveaway_created=None, giveaway=None, giveaway_winners=None, giveaway_completed=None, video_chat_scheduled=None, video_chat_started=None, video_chat_ended=None, video_chat_participants_invited=None, web_app_data=None, reply_markup=None, forward_date=None, forward_from=None, forward_from_chat=None, forward_from_message_id=None, forward_sender_name=None, forward_signature=None, user_shared=None) external_reply=None quote=None reply_to_story=None via_bot=None edit_date=None has_protected_content=None media_group_id=None author_signature=None text='Dear Sir or Madam,\\n\\n \\n\\nPlease advise if stators and rotors are available for the attached. The pump appears to be very similar to a Mono pump\\n\\n \\n\\nKind regards\\n\\nAusten Brunton BEng (Hons), MIMarEST\\n\\nTechnical Fleet Manager\\n\\n \\n\\nWYM Group Ltd\\n\\nIncorporating Wilson Yacht Management and Wilson Ship Management\\n\\n \\n\\nNew Email Address: austen@wymgroup.com\\n\\nWeb: www.wymgroup.com\\n\\n \\n\\nPhone: +44 (0) 1482 648322\\n\\nMob: +44 (0) 7760665835' entities=[MessageEntity(type='email', offset=329, length=19, url=None, user=None, language=None, custom_emoji_id=None), MessageEntity(type='url', offset=355, length=16, url=None, user=None, language=None, custom_emoji_id=None)] link_preview_options=None animation=None audio=None document=None photo=None sticker=None story=None video=None video_note=None voice=None caption=None caption_entities=None has_media_spoiler=None contact=None dice=None game=None poll=None venue=None location=None new_chat_members=None left_chat_member=None new_chat_title=None new_chat_photo=None delete_chat_photo=None group_chat_created=None supergroup_chat_created=None channel_chat_created=None message_auto_delete_timer_changed=None migrate_to_chat_id=None migrate_from_chat_id=None pinned_message=None invoice=None successful_payment=None users_shared=None chat_shared=None connected_website=None write_access_allowed=None passport_data=None proximity_alert_triggered=None boost_added=None forum_topic_created=None forum_topic_edited=None forum_topic_closed=None forum_topic_reopened=None general_forum_topic_hidden=None general_forum_topic_unhidden=None giveaway_created=None giveaway=None giveaway_winners=None giveaway_completed=None video_chat_scheduled=None video_chat_started=None video_chat_ended=None video_chat_participants_invited=None web_app_data=None reply_markup=None forward_date=None forward_from=None forward_from_chat=None forward_from_message_id=None forward_sender_name=None forward_signature=None user_shared=None\n",
      "message_id=76 date=datetime.datetime(2024, 4, 17, 12, 9, 27, tzinfo=TzInfo(UTC)) chat=Chat(id=-1002129058709, type='supergroup', title='Famaga CSR', username=None, first_name=None, last_name=None, is_forum=True, photo=None, active_usernames=None, available_reactions=None, accent_color_id=None, background_custom_emoji_id=None, profile_accent_color_id=None, profile_background_custom_emoji_id=None, emoji_status_custom_emoji_id=None, emoji_status_expiration_date=None, bio=None, has_private_forwards=None, has_restricted_voice_and_video_messages=None, join_to_send_messages=None, join_by_request=None, description=None, invite_link=None, pinned_message=None, permissions=None, slow_mode_delay=None, unrestrict_boost_count=None, message_auto_delete_time=None, has_aggressive_anti_spam_enabled=None, has_hidden_members=None, has_protected_content=None, has_visible_history=None, sticker_set_name=None, can_set_sticker_set=None, custom_emoji_sticker_set_name=None, linked_chat_id=None, location=None) message_thread_id=73 from_user=User(id=6102292898, is_bot=False, first_name='Valentin', last_name='Marchuk', username='valuamba', language_code='en', is_premium=True, added_to_attachment_menu=None, can_join_groups=None, can_read_all_group_messages=None, supports_inline_queries=None) sender_chat=None sender_boost_count=None forward_origin=None is_topic_message=True is_automatic_forward=None reply_to_message=Message(message_id=73, date=datetime.datetime(2024, 4, 17, 12, 7, 24, tzinfo=TzInfo(UTC)), chat=Chat(id=-1002129058709, type='supergroup', title='Famaga CSR', username=None, first_name=None, last_name=None, is_forum=True, photo=None, active_usernames=None, available_reactions=None, accent_color_id=None, background_custom_emoji_id=None, profile_accent_color_id=None, profile_background_custom_emoji_id=None, emoji_status_custom_emoji_id=None, emoji_status_expiration_date=None, bio=None, has_private_forwards=None, has_restricted_voice_and_video_messages=None, join_to_send_messages=None, join_by_request=None, description=None, invite_link=None, pinned_message=None, permissions=None, slow_mode_delay=None, unrestrict_boost_count=None, message_auto_delete_time=None, has_aggressive_anti_spam_enabled=None, has_hidden_members=None, has_protected_content=None, has_visible_history=None, sticker_set_name=None, can_set_sticker_set=None, custom_emoji_sticker_set_name=None, linked_chat_id=None, location=None), message_thread_id=73, from_user=User(id=6102292898, is_bot=False, first_name='Valentin', last_name='Marchuk', username='valuamba', language_code='en', is_premium=True, added_to_attachment_menu=None, can_join_groups=None, can_read_all_group_messages=None, supports_inline_queries=None), sender_chat=None, sender_boost_count=None, forward_origin=None, is_topic_message=True, is_automatic_forward=None, reply_to_message=None, external_reply=None, quote=None, reply_to_story=None, via_bot=None, edit_date=None, has_protected_content=None, media_group_id=None, author_signature=None, text=None, entities=None, link_preview_options=None, animation=None, audio=None, document=None, photo=None, sticker=None, story=None, video=None, video_note=None, voice=None, caption=None, caption_entities=None, has_media_spoiler=None, contact=None, dice=None, game=None, poll=None, venue=None, location=None, new_chat_members=None, left_chat_member=None, new_chat_title=None, new_chat_photo=None, delete_chat_photo=None, group_chat_created=None, supergroup_chat_created=None, channel_chat_created=None, message_auto_delete_timer_changed=None, migrate_to_chat_id=None, migrate_from_chat_id=None, pinned_message=None, invoice=None, successful_payment=None, users_shared=None, chat_shared=None, connected_website=None, write_access_allowed=None, passport_data=None, proximity_alert_triggered=None, boost_added=None, forum_topic_created=ForumTopicCreated(name='sdfvfdv', icon_color=7322096, icon_custom_emoji_id=None), forum_topic_edited=None, forum_topic_closed=None, forum_topic_reopened=None, general_forum_topic_hidden=None, general_forum_topic_unhidden=None, giveaway_created=None, giveaway=None, giveaway_winners=None, giveaway_completed=None, video_chat_scheduled=None, video_chat_started=None, video_chat_ended=None, video_chat_participants_invited=None, web_app_data=None, reply_markup=None, forward_date=None, forward_from=None, forward_from_chat=None, forward_from_message_id=None, forward_sender_name=None, forward_signature=None, user_shared=None) external_reply=None quote=None reply_to_story=None via_bot=None edit_date=None has_protected_content=None media_group_id=None author_signature=None text='My local supplier gives me discount 20%, could you please change the final price?' entities=None link_preview_options=None animation=None audio=None document=None photo=None sticker=None story=None video=None video_note=None voice=None caption=None caption_entities=None has_media_spoiler=None contact=None dice=None game=None poll=None venue=None location=None new_chat_members=None left_chat_member=None new_chat_title=None new_chat_photo=None delete_chat_photo=None group_chat_created=None supergroup_chat_created=None channel_chat_created=None message_auto_delete_timer_changed=None migrate_to_chat_id=None migrate_from_chat_id=None pinned_message=None invoice=None successful_payment=None users_shared=None chat_shared=None connected_website=None write_access_allowed=None passport_data=None proximity_alert_triggered=None boost_added=None forum_topic_created=None forum_topic_edited=None forum_topic_closed=None forum_topic_reopened=None general_forum_topic_hidden=None general_forum_topic_unhidden=None giveaway_created=None giveaway=None giveaway_winners=None giveaway_completed=None video_chat_scheduled=None video_chat_started=None video_chat_ended=None video_chat_participants_invited=None web_app_data=None reply_markup=None forward_date=None forward_from=None forward_from_chat=None forward_from_message_id=None forward_sender_name=None forward_signature=None user_shared=None\n"
     ]
    }
   ],
   "source": [
    "\n",
    "dp = Dispatcher()\n",
    "\n",
    "def preprocess_text(text):\n",
    "    # Split the text into lines, strip each line, and filter out empty lines\n",
    "    cleaned_lines = [line.strip() for line in text.splitlines() if line.strip()]\n",
    "    # Join the cleaned lines back into a single string with newline characters\n",
    "    cleaned_text = '\\n'.join(cleaned_lines)\n",
    "    return cleaned_text\n",
    "    \n",
    "\n",
    "@dp.message(CommandStart())\n",
    "async def command_start_handler(message: Message) -> None:\n",
    "    \"\"\"\n",
    "    This handler receives messages with `/start` command\n",
    "    \"\"\"\n",
    "    await message.answer(f\"Hello, {hbold(message.from_user.full_name)}!\")\n",
    "\n",
    "\n",
    "@dp.message()\n",
    "async def echo_handler(message: types.Message) -> None:\n",
    "    \"\"\"\n",
    "    Handler will forward receive a message back to the sender\n",
    "\n",
    "    By default, message handler will handle all message types (like a text, photo, sticker etc.)\n",
    "    \"\"\"\n",
    "    try:\n",
    "        print(message)\n",
    "        data = {\n",
    "            \"thread_id\": message.message_thread_id,\n",
    "            \"message\": preprocess_text(message.text),\n",
    "            \"topic_name\": f'RE: Offer №{message.message_thread_id}',\n",
    "            \"sender\": message.from_user.username\n",
    "        }\n",
    "        url = 'http://localhost:8027/api/message/'\n",
    "        response = requests.post(url, json=data)\n",
    "        # print(response)\n",
    "        await message.send_copy(chat_id=message.chat.id)\n",
    "    except TypeError:\n",
    "        await message.answer(\"Nice try!\")\n",
    "\n",
    "\n",
    "\n",
    "await dp.start_polling(bot)"
   ]
  },
  {
   "cell_type": "code",
   "execution_count": 3,
   "id": "7c0299f2-f6fc-45ac-8946-d76c689d25ab",
   "metadata": {},
   "outputs": [
    {
     "data": {
      "text/plain": [
       "Message(message_id=70, date=datetime.datetime(2024, 4, 17, 12, 3, 12, tzinfo=TzInfo(UTC)), chat=Chat(id=-1002129058709, type='supergroup', title='Famaga CSR', username=None, first_name=None, last_name=None, is_forum=True, photo=None, active_usernames=None, available_reactions=None, accent_color_id=None, background_custom_emoji_id=None, profile_accent_color_id=None, profile_background_custom_emoji_id=None, emoji_status_custom_emoji_id=None, emoji_status_expiration_date=None, bio=None, has_private_forwards=None, has_restricted_voice_and_video_messages=None, join_to_send_messages=None, join_by_request=None, description=None, invite_link=None, pinned_message=None, permissions=None, slow_mode_delay=None, unrestrict_boost_count=None, message_auto_delete_time=None, has_aggressive_anti_spam_enabled=None, has_hidden_members=None, has_protected_content=None, has_visible_history=None, sticker_set_name=None, can_set_sticker_set=None, custom_emoji_sticker_set_name=None, linked_chat_id=None, location=None), message_thread_id=36, from_user=User(id=7091099686, is_bot=True, first_name='Famaga', last_name=None, username='famaga_csr_bot', language_code=None, is_premium=None, added_to_attachment_menu=None, can_join_groups=None, can_read_all_group_messages=None, supports_inline_queries=None), sender_chat=None, sender_boost_count=None, forward_origin=None, is_topic_message=True, is_automatic_forward=None, reply_to_message=Message(message_id=36, date=datetime.datetime(2024, 3, 26, 19, 22, 56, tzinfo=TzInfo(UTC)), chat=Chat(id=-1002129058709, type='supergroup', title='Famaga CSR', username=None, first_name=None, last_name=None, is_forum=True, photo=None, active_usernames=None, available_reactions=None, accent_color_id=None, background_custom_emoji_id=None, profile_accent_color_id=None, profile_background_custom_emoji_id=None, emoji_status_custom_emoji_id=None, emoji_status_expiration_date=None, bio=None, has_private_forwards=None, has_restricted_voice_and_video_messages=None, join_to_send_messages=None, join_by_request=None, description=None, invite_link=None, pinned_message=None, permissions=None, slow_mode_delay=None, unrestrict_boost_count=None, message_auto_delete_time=None, has_aggressive_anti_spam_enabled=None, has_hidden_members=None, has_protected_content=None, has_visible_history=None, sticker_set_name=None, can_set_sticker_set=None, custom_emoji_sticker_set_name=None, linked_chat_id=None, location=None), message_thread_id=36, from_user=User(id=6102292898, is_bot=False, first_name='Valentin', last_name='Marchuk', username='valuamba', language_code='ru', is_premium=True, added_to_attachment_menu=None, can_join_groups=None, can_read_all_group_messages=None, supports_inline_queries=None), sender_chat=None, sender_boost_count=None, forward_origin=None, is_topic_message=True, is_automatic_forward=None, reply_to_message=None, external_reply=None, quote=None, reply_to_story=None, via_bot=None, edit_date=None, has_protected_content=None, media_group_id=None, author_signature=None, text=None, entities=None, link_preview_options=None, animation=None, audio=None, document=None, photo=None, sticker=None, story=None, video=None, video_note=None, voice=None, caption=None, caption_entities=None, has_media_spoiler=None, contact=None, dice=None, game=None, poll=None, venue=None, location=None, new_chat_members=None, left_chat_member=None, new_chat_title=None, new_chat_photo=None, delete_chat_photo=None, group_chat_created=None, supergroup_chat_created=None, channel_chat_created=None, message_auto_delete_timer_changed=None, migrate_to_chat_id=None, migrate_from_chat_id=None, pinned_message=None, invoice=None, successful_payment=None, users_shared=None, chat_shared=None, connected_website=None, write_access_allowed=None, passport_data=None, proximity_alert_triggered=None, boost_added=None, forum_topic_created=ForumTopicCreated(name='sdcvdsvds', icon_color=9367192, icon_custom_emoji_id='5312536423851630001'), forum_topic_edited=None, forum_topic_closed=None, forum_topic_reopened=None, general_forum_topic_hidden=None, general_forum_topic_unhidden=None, giveaway_created=None, giveaway=None, giveaway_winners=None, giveaway_completed=None, video_chat_scheduled=None, video_chat_started=None, video_chat_ended=None, video_chat_participants_invited=None, web_app_data=None, reply_markup=None, forward_date=None, forward_from=None, forward_from_chat=None, forward_from_message_id=None, forward_sender_name=None, forward_signature=None, user_shared=None), external_reply=None, quote=None, reply_to_story=None, via_bot=None, edit_date=None, has_protected_content=None, media_group_id=None, author_signature=None, text='Some shit', entities=None, link_preview_options=None, animation=None, audio=None, document=None, photo=None, sticker=None, story=None, video=None, video_note=None, voice=None, caption=None, caption_entities=None, has_media_spoiler=None, contact=None, dice=None, game=None, poll=None, venue=None, location=None, new_chat_members=None, left_chat_member=None, new_chat_title=None, new_chat_photo=None, delete_chat_photo=None, group_chat_created=None, supergroup_chat_created=None, channel_chat_created=None, message_auto_delete_timer_changed=None, migrate_to_chat_id=None, migrate_from_chat_id=None, pinned_message=None, invoice=None, successful_payment=None, users_shared=None, chat_shared=None, connected_website=None, write_access_allowed=None, passport_data=None, proximity_alert_triggered=None, boost_added=None, forum_topic_created=None, forum_topic_edited=None, forum_topic_closed=None, forum_topic_reopened=None, general_forum_topic_hidden=None, general_forum_topic_unhidden=None, giveaway_created=None, giveaway=None, giveaway_winners=None, giveaway_completed=None, video_chat_scheduled=None, video_chat_started=None, video_chat_ended=None, video_chat_participants_invited=None, web_app_data=None, reply_markup=None, forward_date=None, forward_from=None, forward_from_chat=None, forward_from_message_id=None, forward_sender_name=None, forward_signature=None, user_shared=None)"
      ]
     },
     "execution_count": 3,
     "metadata": {},
     "output_type": "execute_result"
    }
   ],
   "source": [
    "await bot.send_message(chat_id='-1002129058709', text=\"Some shit\", message_thread_id=36)"
   ]
  },
  {
   "cell_type": "code",
   "execution_count": null,
   "id": "8050ed5c-7e55-449b-b551-cb21fca0f099",
   "metadata": {},
   "outputs": [],
   "source": [
    "types.Message??"
   ]
  },
  {
   "cell_type": "code",
   "execution_count": null,
   "id": "4564ca38-45a7-4a36-b5f3-6f0797906803",
   "metadata": {},
   "outputs": [],
   "source": [
    "types.user.User??"
   ]
  },
  {
   "cell_type": "code",
   "execution_count": null,
   "id": "7053aac3-109e-4498-bd39-d370d9e61ee3",
   "metadata": {},
   "outputs": [],
   "source": []
  }
 ],
 "metadata": {
  "kernelspec": {
   "display_name": "Python 3 (ipykernel)",
   "language": "python",
   "name": "python3"
  },
  "language_info": {
   "codemirror_mode": {
    "name": "ipython",
    "version": 3
   },
   "file_extension": ".py",
   "mimetype": "text/x-python",
   "name": "python",
   "nbconvert_exporter": "python",
   "pygments_lexer": "ipython3",
   "version": "3.12.3"
  }
 },
 "nbformat": 4,
 "nbformat_minor": 5
}
