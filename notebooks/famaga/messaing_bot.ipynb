{
 "cells": [
  {
   "cell_type": "code",
   "execution_count": 1,
   "id": "ca1f2122-691e-4648-9e96-a810a03212ee",
   "metadata": {},
   "outputs": [
    {
     "name": "stderr",
     "output_type": "stream",
     "text": [
      "/var/folders/x2/0f74_mmn0ts5qbnsn_wp241w0000gn/T/ipykernel_1959/1859934246.py:16: DeprecationWarning: Passing `parse_mode`, `disable_web_page_preview` or `protect_content` to Bot initializer is deprecated. This arguments will be removed in 3.5.0 version\n",
      "Use `default=DefaultBotProperties(...)` instead.\n",
      "  bot = Bot(TOKEN, parse_mode=ParseMode.HTML)\n"
     ]
    }
   ],
   "source": [
    "import asyncio\n",
    "import logging\n",
    "import sys\n",
    "from os import getenv\n",
    "\n",
    "from aiogram import Bot, Dispatcher, Router, types\n",
    "from aiogram.enums import ParseMode\n",
    "from aiogram.filters import CommandStart\n",
    "from aiogram.types import Message\n",
    "from aiogram.utils.markdown import hbold\n",
    "import requests\n",
    "\n",
    "\n",
    "TOKEN = \"7091099686:AAHm31jtRiNHnUNOEiHa28tcnxJ33AGDTUQ\"\n",
    "\n",
    "bot = Bot(TOKEN, parse_mode=ParseMode.HTML)"
   ]
  },
  {
   "cell_type": "code",
   "execution_count": null,
   "id": "cb1dfac4-89d4-40f8-9257-d285b212bbf3",
   "metadata": {},
   "outputs": [],
   "source": [
    "\n",
    "dp = Dispatcher()\n",
    "\n",
    "def preprocess_text(text):\n",
    "    # Split the text into lines, strip each line, and filter out empty lines\n",
    "    cleaned_lines = [line.strip() for line in text.splitlines() if line.strip()]\n",
    "    # Join the cleaned lines back into a single string with newline characters\n",
    "    cleaned_text = '\\n'.join(cleaned_lines)\n",
    "    return cleaned_text\n",
    "    \n",
    "\n",
    "@dp.message(CommandStart())\n",
    "async def command_start_handler(message: Message) -> None:\n",
    "    \"\"\"\n",
    "    This handler receives messages with `/start` command\n",
    "    \"\"\"\n",
    "    await message.answer(f\"Hello, {hbold(message.from_user.full_name)}!\")\n",
    "\n",
    "\n",
    "@dp.message()\n",
    "async def echo_handler(message: types.Message) -> None:\n",
    "    \"\"\"\n",
    "    Handler will forward receive a message back to the sender\n",
    "\n",
    "    By default, message handler will handle all message types (like a text, photo, sticker etc.)\n",
    "    \"\"\"\n",
    "    try:\n",
    "        print(message)\n",
    "        data = {\n",
    "            \"thread_id\": message.message_thread_id,\n",
    "            \"message\": preprocess_text(message.text),\n",
    "            \"topic_name\": f'RE: Offer №{message.message_thread_id}',\n",
    "            \"sender\": message.from_user.username\n",
    "        }\n",
    "        url = 'http://localhost:8027/api/message/'\n",
    "        response = requests.post(url, json=data)\n",
    "        # print(response)\n",
    "        await message.send_copy(chat_id=message.chat.id)\n",
    "    except TypeError:\n",
    "        await message.answer(\"Nice try!\")\n",
    "\n",
    "\n",
    "\n",
    "await dp.start_polling(bot)"
   ]
  },
  {
   "cell_type": "code",
   "execution_count": null,
   "id": "7c0299f2-f6fc-45ac-8946-d76c689d25ab",
   "metadata": {},
   "outputs": [],
   "source": [
    "await bot.send_message(chat_id='-1002129058709', text=\"Some shit\", message_thread_id=36)"
   ]
  },
  {
   "cell_type": "code",
   "execution_count": null,
   "id": "8050ed5c-7e55-449b-b551-cb21fca0f099",
   "metadata": {},
   "outputs": [],
   "source": [
    "types.Message??"
   ]
  },
  {
   "cell_type": "code",
   "execution_count": null,
   "id": "4564ca38-45a7-4a36-b5f3-6f0797906803",
   "metadata": {},
   "outputs": [],
   "source": [
    "types.user.User??"
   ]
  },
  {
   "cell_type": "code",
   "execution_count": null,
   "id": "7053aac3-109e-4498-bd39-d370d9e61ee3",
   "metadata": {},
   "outputs": [],
   "source": []
  }
 ],
 "metadata": {
  "kernelspec": {
   "display_name": "Python 3 (ipykernel)",
   "language": "python",
   "name": "python3"
  },
  "language_info": {
   "codemirror_mode": {
    "name": "ipython",
    "version": 3
   },
   "file_extension": ".py",
   "mimetype": "text/x-python",
   "name": "python",
   "nbconvert_exporter": "python",
   "pygments_lexer": "ipython3",
   "version": "3.12.3"
  }
 },
 "nbformat": 4,
 "nbformat_minor": 5
}
