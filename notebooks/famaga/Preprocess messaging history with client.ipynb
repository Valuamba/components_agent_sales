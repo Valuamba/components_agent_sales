{
 "cells": [
  {
   "cell_type": "code",
   "execution_count": 40,
   "id": "d0c614f4-ee47-49fb-b5c0-8fbac6534e9f",
   "metadata": {},
   "outputs": [
    {
     "name": "stdout",
     "output_type": "stream",
     "text": [
      "Failed to upload content. Status code: 422\n"
     ]
    }
   ],
   "source": [
    "import requests\n",
    "\n",
    "# Replace these variables with actual values if necessary\n",
    "deal_id = 4171011\n",
    "bearer_token = \"YXBpZmFtYWdhcnU6RHpJVFd1Lk1COUV4LjNmdERsZ01YYlcvb0VFcW9NLw\"\n",
    "\n",
    "# Step 1: Download the file/content from the given endpoint\n",
    "download_url = \"https://test-api.famaga.org/imap/deal/417101\"\n",
    "headers = {\n",
    "    \"Authorization\": f\"Bearer {bearer_token}\"\n",
    "}\n",
    "response = requests.get(download_url, headers=headers)\n",
    "\n",
    "# Assuming the response contains the expected data in JSON format\n",
    "if response.status_code == 200:\n",
    "    data = response.json()\n",
    "    # Extracting content from the first item in the content list for demonstration\n",
    "    content_item = data['content'][-1]\n",
    "    subject = content_item['subject']\n",
    "    html_content = content_item['body']['html']\n",
    "    \n",
    "    # Step 2: Upload the HTML content to another endpoint\n",
    "    upload_url = \"http://localhost:8000/v1/upload-html/\"\n",
    "    body = {\n",
    "    \"deal_id\": deal_id,\n",
    "    \"html_content\": html_content,\n",
    "    \"subject\": subject\n",
    "    }\n",
    "    \n",
    "    # Convert the dictionary to a JSON string for the request\n",
    "    response = requests.post(upload_url, data=json.dumps(body), headers=headers)\n",
    "    \n",
    "    if upload_response.status_code == 200:\n",
    "        print(\"Content uploaded successfully.\")\n",
    "    else:\n",
    "        print(\"Failed to upload content. Status code:\", upload_response.status_code)\n",
    "else:\n",
    "    print(\"Failed to download content. Status code:\", response.status_code)\n"
   ]
  },
  {
   "cell_type": "code",
   "execution_count": null,
   "id": "5c15e833-ef54-4c11-b860-1efe052028ea",
   "metadata": {},
   "outputs": [],
   "source": [
    "html_content"
   ]
  },
  {
   "cell_type": "code",
   "execution_count": null,
   "id": "7d85e0ce-6ba8-4a51-95cd-902d1963b448",
   "metadata": {},
   "outputs": [],
   "source": [
    "download_url = \"https://test-api.famaga.org/imap/deal/417101\"\n",
    "headers = {\n",
    "    \"Authorization\": f\"Bearer {bearer_token}\"\n",
    "}\n",
    "response = requests.get(download_url, headers=headers)\n",
    "data = response.json()"
   ]
  },
  {
   "cell_type": "code",
   "execution_count": null,
   "id": "03af9c0f-d284-4f19-9ac7-4682bbe986f3",
   "metadata": {},
   "outputs": [],
   "source": [
    "def extract_messages_from_body(html_content: str):\n",
    "    soup = BeautifulSoup(html_content, \"html.parser\")\n",
    "    messages = []\n",
    "    body = soup.find_all(\"body\")[0]\n",
    "    clone_body = copy.copy(body)\n",
    "\n",
    "    for nested_blockquote in clone_body.find_all(\"blockquote\"):\n",
    "        nested_blockquote.decompose()\n",
    "    messages.append(clone_body.get_text(strip=True))\n",
    "    blockquotes = soup.find_all(\"blockquote\")\n",
    "\n",
    "    for blockquote in blockquotes:\n",
    "        clone = copy.copy(blockquote)\n",
    "\n",
    "        for nested_blockquote in clone.find_all(\"blockquote\"):\n",
    "            nested_blockquote.decompose()\n",
    "\n",
    "        messages.append(clone.get_text(strip=True))\n",
    "\n",
    "    return messages"
   ]
  },
  {
   "cell_type": "code",
   "execution_count": null,
   "id": "b85b6c94-f7ce-439b-b942-9df4febe317e",
   "metadata": {},
   "outputs": [],
   "source": [
    "data['content'][0]['body']['html']"
   ]
  },
  {
   "cell_type": "code",
   "execution_count": null,
   "id": "91459743-4ad1-4877-8ba7-106b22e32fb8",
   "metadata": {},
   "outputs": [],
   "source": [
    "data"
   ]
  },
  {
   "cell_type": "code",
   "execution_count": null,
   "id": "59fa7eb6-0933-4d23-98f5-6a550eecfcb4",
   "metadata": {},
   "outputs": [],
   "source": [
    "import copy\n",
    "import re\n",
    "import json\n",
    "import hashlib\n",
    "import email\n",
    "from email.policy import default\n",
    "\n",
    "from bs4 import BeautifulSoup\n"
   ]
  },
  {
   "cell_type": "code",
   "execution_count": 37,
   "id": "a415381f-a7d1-4229-b543-c3d8130c037d",
   "metadata": {},
   "outputs": [],
   "source": [
    "html_content = data['content'][-1]['body']['html']\n",
    "soup = BeautifulSoup(html_content, \"html.parser\")\n",
    "messages = []\n",
    "clone_body = copy.copy(soup)"
   ]
  },
  {
   "cell_type": "code",
   "execution_count": 38,
   "id": "be37e01c-deb8-47d0-bc62-ba5efa2d2d7c",
   "metadata": {},
   "outputs": [],
   "source": [
    "for nested_blockquote in clone_body.find_all(\"blockquote\"):\n",
    "    nested_blockquote.decompose()\n",
    "    \n",
    "messages.append(clone_body.get_text(strip=True))\n",
    "blockquotes = soup.find_all(\"blockquote\")\n",
    "\n",
    "for blockquote in blockquotes:\n",
    "    clone = copy.copy(blockquote)\n",
    "\n",
    "    for nested_blockquote in clone.find_all(\"blockquote\"):\n",
    "        nested_blockquote.decompose()\n",
    "\n",
    "    messages.append(clone.get_text(strip=True))\n"
   ]
  },
  {
   "cell_type": "code",
   "execution_count": 41,
   "id": "ef01dcdd-02e4-4119-ad51-3df467598623",
   "metadata": {},
   "outputs": [
    {
     "data": {
      "text/plain": [
       "7"
      ]
     },
     "execution_count": 41,
     "metadata": {},
     "output_type": "execute_result"
    }
   ],
   "source": [
    "len(messages)"
   ]
  },
  {
   "cell_type": "code",
   "execution_count": 39,
   "id": "2540cd89-ac67-4502-942c-88b86b09d3ee",
   "metadata": {},
   "outputs": [
    {
     "name": "stdout",
     "output_type": "stream",
     "text": [
      "Thank you very much dear!Em qua., 28 de jun. de 2023 às 12:01, Muhammad Ali Ammar <maa@famaga.de> escreveu:--Best Regards,Isabela RodriguezPhone: +1 786 220 3334Commercial DepartmentOffice             150 SE  2ndAvenue – Suite 404Miami, FL – 33131Warehouse   2020 NW  129thAvenue – Suite 203Miami, FL – 33182Telephone     (786) 782 1440Websitewww.supplywiseus.com\n",
      "\n",
      "\n",
      "Dear,Please find the datasheet in an attachment.KFD2-SRA-EX4 you can see in description part number is190176We never offer used items. I confirm that items are new.Mit\n",
      "          freundlichen Grüßen / Best regards,Muhammad Ali AmmarVertrieb\n",
      "        / Sales DeptFAMAGA\n",
      "        Group OHG+49 451 7036\n",
      "        4997 ext. 108+1 786 822\n",
      "        61 55 ext. 105+44 20 808\n",
      "        96 845 ext. 114https://famaga.comOn 6/28/2023 3:31 PM, Isabela Rodriguez\n",
      "      wrote:\n",
      "\n",
      "\n",
      "Hello dear,Any news?Em ter., 27 de jun. de 2023 às\n",
      "          13:10, Isabela Rodriguez <isabela.rodriguez@supplywiseus.com>\n",
      "          escreveu:--Best\n",
      "                  Regards,Isabela RodriguezPhone: +1 786 220 3334Commercial DepartmentOffice             150 SE\n",
      "               2ndAvenue – Suite 404Miami, FL – 33131Warehouse   2020 NW\n",
      "                 129thAvenue – Suite 203Miami, FL – 33182Telephone     (786)\n",
      "              782 1440Websitewww.supplywiseus.com\n",
      "\n",
      "\n",
      "Thank you for your offer.Could you please confirm the Part Number? Is itKFD2-SRA-EX4?Could you explain why the \"SRA\" is different? Mine was \n",
      "              \"SAR\"Could you provide the unit weight?Should I consider any freight cost?Is this a NEW equipment fromPepperl\n",
      "                + Fuchs.?Is there any datasheet available?Will you need any information from me at the time of\n",
      "              ordering?Em seg., 26 de jun. de\n",
      "              2023 às 13:44, <maa@famaga.de>\n",
      "              escreveu:--Best\n",
      "                      Regards,Isabela RodriguezPhone: +1 786 220 3334Commercial\n",
      "                  DepartmentOffice\n",
      "                              150 SE  2ndAvenue – Suite 404Miami, FL – 33131Warehouse\n",
      "                      2020 NW  129thAvenue – Suite 203Miami, FL – 33182Telephone  \n",
      "                    (786) 782 1440Websitewww.supplywiseus.com\n",
      "\n",
      "\n",
      "Dear Sir/ Madam,I would like to follow up on quotation, which was sent\n",
      "                in response to your inquiry.Our company would be glad to provide any additional\n",
      "                information and make every effort to fulfill your\n",
      "                requirements and receive an order!Please take into consideration, that our portfolio not\n",
      "                limited to this brand only.One of our distinctive features is close cooperation\n",
      "                with various manufacturers from Europe, United States,\n",
      "                Japan and other countries around the world.Famaga Group OHG works directly with them, avoiding a\n",
      "                long chain of agents, which allows us to provide the\n",
      "                best prices to our customers.If you require any more information, please do not\n",
      "                hesitate to ask or call us.We look forward to receiving your valuable feedback!\n",
      "\n",
      "\n",
      "Offer-Nr.:417101Customer request #:Isabela RodriguezCustomer #:90188Date:Friday, 23 June 2023Inquiry #:21061711Contact person:Muhammad Ali AmmarOffer valid till23.07.2023Inquiry date23.06.2023E-mail:maa@famaga.deWe would like to thank you for your inquiry and\n",
      "                      we are pleased to provide you our quotation as\n",
      "                      follows. Please feel free to contact us if you\n",
      "                      need any further information.Pos.TitleDescription and articleQty.PriceDiscount %Price incl. discountSumDelivery time1KFD2-SRA-EX4\n",
      "                              Schaltverstärker Singapur 8536 4900Pepperl+Fuchs1901765pcs561,06$30%392,74$1.963,70$8 - 9 weeksGoods valueTrans.NettoTotal payment1.963,70$0,00$1.963,70$0,00$1.963,70$Delivery termsEXW Germany, 23560 LuebeckPayment conditionsexcl. Packing and shippingPayment termsAdvance paymentValid till23.07.2023Please be kindly informed about 30 Euro fee for\n",
      "                        orders under 150 Euro.Our general terms and conditions of delivery\n",
      "                        shall apply. The terms can be found on the\n",
      "                        internet underhttps://famaga.de/imperssumor obtained from us.We hope our offer turned out to be profitable\n",
      "                        for you and we will be glad to see you among the\n",
      "                        regular customers of our companyYours sincerelyFAMAGA Group OHGMuhammad Ali Ammar\n",
      "\n",
      "\n",
      "-------- Forwarded Message --------Subject:Fwd: RFQ 21061711 DEADLINE 06/28/2023\n",
      "                              KUN90188Date:Fri, 23 Jun 2023 16:38:56 +0300From:Muhammad Ali Ammar<maa@famaga.de>To:sales@famaga.de<sales@famaga.de>-------- Forwarded Message --------Subject:RFQ 21061711 DEADLINE 06/28/2023Date:Fri, 23 Jun 2023 10:30:39 -0300From:Isabela Rodriguez<isabela.rodriguez@supplywiseus.com>To:Muhammad Ali Ammar<maa@famaga.de>--Hello,I would\n",
      "                                    like to request a quote for the\n",
      "                                    following product:Intrinsic safety\n",
      "                                barrier; Function: Exi elements\n",
      "                                protection; 04 channels; fixing: modules\n",
      "                                for electrified rail. ; Max. voltage\n",
      "                                d/output (Exi side) Uo=10.5V ; Max\n",
      "                                current d/output(Exi side) Io=14mA ;\n",
      "                                Ext. power max. (Exi side) Po=34mW ;\n",
      "                                power supply: 19 to 30 Vdc .PN: KFD2-SAR-EX4MANUFACTURER: Pepperl + FuchsQUANTITY: 05 UNITPlease, when\n",
      "                                          providing the quotation, make\n",
      "                                          sure to contain the\n",
      "                                          information below and that the\n",
      "                                          material to be supplied will\n",
      "                                          always be in \"original\n",
      "                                          manufacturer's equipment,\n",
      "                                          never used\" condition.Lead time -\n",
      "                                              A:Material\n",
      "                                              weight, dimensions or\n",
      "                                              chargeable weight - A:Are these\n",
      "                                              products being\n",
      "                                              shipped/picked up from the\n",
      "                                              US? - A:Will we need\n",
      "                                              to provide any technical,\n",
      "                                              purchase or end user\n",
      "                                              information about the item\n",
      "                                              at the time of the order?\n",
      "                                              - A:Does this\n",
      "                                              material have any\n",
      "                                              certificates? Conformity,\n",
      "                                              Origin and/or Calibration?\n",
      "                                              If so, which ones and what\n",
      "                                              are the extra costs for\n",
      "                                              them? - A:Could you let\n",
      "                                              me know the estimated\n",
      "                                              shipping price to 2020 NW\n",
      "                                              129th Avenue – Suite 203 /\n",
      "                                              Miami, FL – 33182? - A:Isabela\n",
      "                                                      RodriguezSales\n",
      "                                                        Assistant+ 1(786)\n",
      "                                                        220 3334(extension line)+ 1 (786) 782 1440\n",
      "                                                          (commercial)|www.supplywiseus.comOffice 150 SE 2nd Avenue –\n",
      "                                                          Suite 404\n",
      "                                                          Miami, FL –\n",
      "                                                          33131Warehouse\n",
      "                                                          2020 NW 129th\n",
      "                                                          Avenue – Suite\n",
      "                                                          203 Miami, FL\n",
      "                                                          – 33182Duns\n",
      "                                                          # 099478797W9/ IRS / IEN\n",
      "                                                          # 88-2021022SALES TAX #\n",
      "                                                          23-8018775726-4\n",
      "\n",
      "\n"
     ]
    }
   ],
   "source": [
    "for m in messages:\n",
    "    print(m + '\\n\\n')"
   ]
  },
  {
   "cell_type": "code",
   "execution_count": null,
   "id": "7c560933-e70a-4f8d-9863-df7c95fd9139",
   "metadata": {},
   "outputs": [],
   "source": [
    "for m in messages:\n",
    "    print(m + '\\n\\n')"
   ]
  },
  {
   "cell_type": "code",
   "execution_count": null,
   "id": "84f3a921-bae0-40a1-b970-f1b0d144edb0",
   "metadata": {},
   "outputs": [],
   "source": []
  }
 ],
 "metadata": {
  "kernelspec": {
   "display_name": "Python 3 (ipykernel)",
   "language": "python",
   "name": "python3"
  },
  "language_info": {
   "codemirror_mode": {
    "name": "ipython",
    "version": 3
   },
   "file_extension": ".py",
   "mimetype": "text/x-python",
   "name": "python",
   "nbconvert_exporter": "python",
   "pygments_lexer": "ipython3",
   "version": "3.12.3"
  }
 },
 "nbformat": 4,
 "nbformat_minor": 5
}
