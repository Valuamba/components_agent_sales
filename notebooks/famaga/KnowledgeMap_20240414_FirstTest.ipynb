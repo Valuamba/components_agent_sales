{
 "cells": [
  {
   "cell_type": "code",
   "execution_count": 1,
   "id": "192d6ddb-d363-4578-b9b3-6817d1c1414b",
   "metadata": {},
   "outputs": [],
   "source": [
    "import warnings\n",
    "from importlib import reload\n",
    "\n",
    "warnings.filterwarnings('ignore')"
   ]
  },
  {
   "cell_type": "code",
   "execution_count": 2,
   "id": "3fc80fcb-50af-465a-ab57-68024c47eb4d",
   "metadata": {},
   "outputs": [],
   "source": [
    "import openai\n",
    "from dotenv import load_dotenv\n",
    "import os\n",
    "from IPython.display import display, Markdown\n",
    "\n",
    "\n",
    "FAMAGA_DOWNLOAD_HTML_URL = \"https://test-api.famaga.org/imap\"\n",
    "FAMAGA_DOWNLOAD_HTML_TOKEN = \"YXBpZmFtYWdhcnU6RHpJVFd1Lk1COUV4LjNmdERsZ01YYlcvb0VFcW9NLw\"\n",
    "EXTRACTED_DEALS_DATABASE_PATH = 'extracted_deals_messaging.db'\n",
    "CLIENTS_HISTORY_PATH = r'C:\\Users\\MGroup\\Documents\\products.json'\n",
    "GPT_DB_LOGGER_PATH = 'sqlite:///prompt_versions.db'\n",
    "\n",
    "AGENTS_API_URL = 'http://localhost:8000'"
   ]
  },
  {
   "cell_type": "code",
   "execution_count": 24,
   "id": "e399d7bc-48ef-453f-87a3-eb98e9fdb067",
   "metadata": {},
   "outputs": [
    {
     "name": "stdout",
     "output_type": "stream",
     "text": [
      "Updated\n"
     ]
    }
   ],
   "source": [
    "from importlib import reload\n",
    "import clients\n",
    "\n",
    "reload(clients)\n",
    "# reload(clients.msg_html_extracter)\n",
    "# reload(clients.gpt_database_logger)\n",
    "# reload(clients.clients_deals_history)\n",
    "\n",
    "from clients.agents import AgentsAPIClient\n",
    "from clients.client_statistics import ClientStatisticsService\n",
    "from clients.clients_deals_history import ClientDealsHistoryRepository\n",
    "from clients.email_downloader import EmailDownloader\n",
    "from clients.extracted_deals import ExtractedDealsRepository\n",
    "from clients.gpt_database_logger import GPTDatabaseLogger\n",
    "from clients.msg_html_extracter import MsgHtmlExtracter\n",
    "\n",
    "print('Updated')"
   ]
  },
  {
   "cell_type": "code",
   "execution_count": 25,
   "id": "e4fb027e-d612-4c90-bc32-be15e1484661",
   "metadata": {},
   "outputs": [],
   "source": [
    "deals_rep = ExtractedDealsRepository(EXTRACTED_DEALS_DATABASE_PATH)\n",
    "client_deals_rep = ClientDealsHistoryRepository(CLIENTS_HISTORY_PATH)\n",
    "client_statistics = ClientStatisticsService()\n",
    "downloader = EmailDownloader(FAMAGA_DOWNLOAD_HTML_URL, FAMAGA_DOWNLOAD_HTML_TOKEN)\n",
    "client = AgentsAPIClient(AGENTS_API_URL)\n",
    "db_logger = GPTDatabaseLogger(GPT_DB_LOGGER_PATH)"
   ]
  },
  {
   "cell_type": "code",
   "execution_count": 56,
   "id": "7ea03b2e-3a40-4711-841f-9b1a150ac605",
   "metadata": {},
   "outputs": [],
   "source": [
    "import json\n",
    "import re\n",
    "\n",
    "def select_json_block(text: str):\n",
    "    match = re.search(r\"```json\\n([\\s\\S]*?)\\n```\", text)\n",
    "    if match:\n",
    "        json_data = match.group(1)\n",
    "    else:\n",
    "        raise ValueError(\"No valid JSON data found in the string.\")\n",
    "\n",
    "    return json.loads(json_data)"
   ]
  },
  {
   "cell_type": "code",
   "execution_count": 70,
   "id": "7d63a1f2-b098-48ad-bb13-fe34d7670006",
   "metadata": {},
   "outputs": [],
   "source": [
    "from typing import List, Literal, Optional\n",
    "from pydantic import BaseModel, Field\n",
    "import json\n",
    "\n",
    "\n",
    "class Intent(BaseModel):\n",
    "    intent: str\n",
    "    sub_intent: str\n",
    "\n",
    "\n",
    "class Message(BaseModel):\n",
    "    id: str  # Adjust the type as needed (e.g., int for integer IDs)\n",
    "    body: str\n",
    "    sign: Optional[str] = None\n",
    "    from_: Literal['customer', 'manager'] = Field(..., alias='from')\n",
    "    intents: List[Intent]\n",
    "    metadata_keys: List[str]\n",
    "\n",
    "    class Config:\n",
    "        allow_population_by_field_name = True"
   ]
  },
  {
   "cell_type": "code",
   "execution_count": 5,
   "id": "80cd313f-e18e-4f78-8eca-d0aeadd45ec1",
   "metadata": {},
   "outputs": [],
   "source": [
    "msg = \"\"\"\n",
    "Dear Sir or Madam,\n",
    "Please advise if stators and rotors are available for the attached. The pump appears to be very similar to a Mono pump\n",
    "Kind regards\n",
    "Austen Brunton BEng (Hons), MIMarEST\n",
    "Technical Fleet Manager\n",
    "WYM Group Ltd\n",
    "Incorporating Wilson Yacht Management and Wilson Ship Management\n",
    "New Email Address: austen@wymgroup.com\n",
    "Web: www.wymgroup.com\n",
    "Phone: +44 (0) 1482 648322\n",
    "Mob: +44 (0) 7760665835\n",
    "\"\"\""
   ]
  },
  {
   "cell_type": "markdown",
   "id": "63f752fb-6232-4574-9019-11e95de64409",
   "metadata": {},
   "source": [
    "### Get message intents"
   ]
  },
  {
   "cell_type": "code",
   "execution_count": 77,
   "id": "d27dd77b-71de-42a2-b445-5af6ac420bd0",
   "metadata": {},
   "outputs": [],
   "source": [
    "class AgentExecutor:\n",
    "    def __init__(self, gpt_logger_path: str):\n",
    "       self.db_logger = GPTDatabaseLogger(gpt_logger_path)\n",
    "\n",
    "    def get_message_intents(self, msg: str):\n",
    "        response = self.db_logger.create_completion(temperature=0.1, tags='intent_classifier', model='gpt-4', messages=[\n",
    "        { \"role\": \"user\", \"content\": f\"\"\"\n",
    "Please attach to each message in chat history tags, annotations, indexes, intents to better classification and search.\n",
    "The message could have one or more intents.\n",
    "\n",
    "Message:\n",
    "```\n",
    "Dear Kristine! Could you give us discount?\n",
    "```\n",
    "\n",
    "You can choose one of the following intents or figure out your own.\n",
    "   - Order Processing -> Order Placement Confirmation\n",
    "   - Order Processing -> Order Acceptance Confirmation\n",
    "   - Pricing and Quotes -> Discount Inquiry\n",
    "   - Pricing and Quotes -> Transport Cost Inquiry\n",
    "   - Delivery and Shipping -> Delivery Method Discussion\n",
    "   - Delivery and Shipping -> Discussing Logistics\n",
    "   - Product Inquiry -> Availability Check\n",
    "\n",
    "Also please define which metadata entites should be find from message.\n",
    "The available keys:\n",
    "- discount_inquiry: the metadata of discount discussions, could be specified at messages with Pricing and Quotes -> Discount Inquiry intent\n",
    "- client_info: info about client email, phone, office, country, address\n",
    "- part_inquiry: the info about parts and components (part number, brand, model, qty)\n",
    "\n",
    "\n",
    "Put the result at ```json``` format, like:\n",
    "```json\n",
    "    {{\n",
    "        \"id\": \"<message_id>\",\n",
    "        \"body\": \"<message body>\", //only body without sign\n",
    "        \"sign\": \"<signature>\", //message signature\n",
    "        \"from\": \"<message from>\", //this should be one of two values: customer or manager\n",
    "        \"intents\": [\n",
    "            {{\n",
    "                \"intent\": \"<main intent>\",\n",
    "                \"sub_intent\": \"<sub intent>\"\n",
    "            }}\n",
    "        ],\n",
    "        \"metadata_keys\": [ 'key1', 'key2']\n",
    "    \n",
    "    }}\n",
    "```\n",
    "Please put new lines symbols if it suitable for context \\\\n at body and sign fields.\n",
    "    \"\"\"}                             \n",
    "    ])\n",
    "        response_raw_json = select_json_block(response)\n",
    "        parsed_messages = Message(**response_raw_json)\n",
    "        return parsed_messages"
   ]
  },
  {
   "cell_type": "code",
   "execution_count": null,
   "id": "ad4b1406-1b52-4af3-84d9-585f25ed4801",
   "metadata": {},
   "outputs": [],
   "source": []
  },
  {
   "cell_type": "code",
   "execution_count": 217,
   "id": "ddef5841-3da9-42c1-ab86-7fcd01f79554",
   "metadata": {},
   "outputs": [],
   "source": [
    "msg3 = \"\"\"\n",
    "Hello Ali,\n",
    "\n",
    "Hope this email finds you well.\n",
    "\n",
    "Please be informed that we had submitted our offer to the end user and got feedback from them that our prices were on the higher side by 45% from the prices other vendors quoted to them.\n",
    "\n",
    "Hence we request you to please recheck the prices and help us so we will be able to win this bid.\n",
    "\"\"\""
   ]
  },
  {
   "cell_type": "code",
   "execution_count": 218,
   "id": "1911b2e2-804f-4c55-941c-be4087a07fc2",
   "metadata": {},
   "outputs": [
    {
     "name": "stdout",
     "output_type": "stream",
     "text": [
      "```json\n",
      "[\n",
      "    {\n",
      "        \"id\": \"1\",\n",
      "        \"body\": \"Hello Ali,\\n\\nHope this email finds you well.\\n\\nPlease be informed that we had submitted our offer to the end user and got feedback from them that our prices were on the higher side by 45% from the prices other vendors quoted to them.\\n\\nHence we request you to please recheck the prices and help us so we will be able to win this bid.\",\n",
      "        \"sign\": \"\",\n",
      "        \"from\": \"customer\",\n",
      "        \"intents\": [\n",
      "            {\n",
      "                \"intent\": \"Pricing and Quotes\",\n",
      "                \"sub_intent\": \"Discount Inquiry\",\n",
      "                \"keywords\": [\"offer\", \"prices\", \"higher\", \"vendors\", \"quoted\", \"recheck\", \"win\", \"bid\"]\n",
      "            }\n",
      "        ]\n",
      "    \n",
      "    }\n",
      "]\n",
      "```\n",
      "\n",
      "--------------------\n",
      "\n",
      "Note saved without feedback. ID: aeb8241d-2497-4599-9a07-b17eb332049a\n",
      "Input tokens: 336 Output tokens: 174 Total price: 0.02$\n",
      "\n",
      "\n"
     ]
    },
    {
     "data": {
      "application/vnd.jupyter.widget-view+json": {
       "model_id": "31006e945e9e45318d69222c49a5f4dc",
       "version_major": 2,
       "version_minor": 0
      },
      "text/plain": [
       "HBox(children=(Button(button_style='success', description='👍 Like', style=ButtonStyle(), tooltip='Like this co…"
      ]
     },
     "metadata": {},
     "output_type": "display_data"
    },
    {
     "data": {
      "application/vnd.jupyter.widget-view+json": {
       "model_id": "6c5b09178a7845e9a0a5015c6651f05a",
       "version_major": 2,
       "version_minor": 0
      },
      "text/plain": [
       "Textarea(value='', description='Feedback:', layout=Layout(height='80px', width='70%'), placeholder='Type your …"
      ]
     },
     "metadata": {},
     "output_type": "display_data"
    },
    {
     "data": {
      "application/vnd.jupyter.widget-view+json": {
       "model_id": "1a09afbd105442bd9947fd353bb15ca2",
       "version_major": 2,
       "version_minor": 0
      },
      "text/plain": [
       "Button(button_style='success', description='Submit Feedback', style=ButtonStyle(), tooltip='Click to submit fe…"
      ]
     },
     "metadata": {},
     "output_type": "display_data"
    }
   ],
   "source": [
    "get_message_intents(msg3)"
   ]
  },
  {
   "cell_type": "markdown",
   "id": "55a11728-cd3d-49ed-9fa1-e1e04fca1a1c",
   "metadata": {},
   "source": [
    "### Get message details"
   ]
  },
  {
   "cell_type": "code",
   "execution_count": 181,
   "id": "1fa8789c-4ee4-412a-9afd-372198ef25b4",
   "metadata": {},
   "outputs": [
    {
     "name": "stderr",
     "output_type": "stream",
     "text": [
      "<>:35: SyntaxWarning: invalid escape sequence '\\`'\n",
      "<>:35: SyntaxWarning: invalid escape sequence '\\`'\n",
      "C:\\Users\\MGroup\\AppData\\Local\\Temp\\ipykernel_28008\\2480512955.py:35: SyntaxWarning: invalid escape sequence '\\`'\n",
      "  \"\"\"}\n"
     ]
    }
   ],
   "source": [
    "def get_details_from_message(msg):\n",
    "    response = db_logger.create_completion(temperature=0.1, tags='intent_classifier', model='gpt-4', messages=[\n",
    "    { \"role\": \"user\", \"content\": f\"\"\"\n",
    "Try to extract from text brand name, amount, detail name, part number from the text. Also recognize country by text.\n",
    "<<<>>>\n",
    "Dear Sir or Madam,\\nPlease advise if stators and rotors are available for the attached. \n",
    "The pump appears to be very similar to a Mono pump\\nKind regards\n",
    "<<<>>>\n",
    "\n",
    "If you cannot recognize specified parameters please put `null` value.\n",
    "\n",
    "---\n",
    "\n",
    "Your response should be a list of comma separated values, eg: `foo, bar, baz`\n",
    "\n",
    "The output should be a markdown code snippet formatted in the following adr, including the leading and trailing \"\\`\\`\\`json\" and \"\\`\\`\\`\":\n",
    "\n",
    "```json\n",
    "{{\n",
    "    \"parts\": [\n",
    "        {{\n",
    "           \"amount\": int // This is the amount of details\n",
    "           \"brand_name\": string // This is thr brand  name of detail\n",
    "           \"part_number\": string // This is the part number of detail\n",
    "        }}\n",
    "    ],\n",
    "    \"client\": {{\n",
    "        \"country\": string // This is the country of detail,\n",
    "        \"domain\": string // customer company domain\n",
    "        \"email\": string // customer email,\n",
    "        \"office_country\": string // country of customer office\n",
    "    }}\n",
    "}}\n",
    "```\n",
    "    \"\"\"}                             \n",
    "    ])\n",
    "    return response"
   ]
  },
  {
   "cell_type": "code",
   "execution_count": 182,
   "id": "5ad587b8-2178-42c4-9ec2-8b158b9f6841",
   "metadata": {},
   "outputs": [],
   "source": [
    "parsed_messages = get_message_intents(msg)"
   ]
  },
  {
   "cell_type": "code",
   "execution_count": null,
   "id": "d0b5b36f-0c73-450f-a4ef-46a7a6391a83",
   "metadata": {},
   "outputs": [],
   "source": [
    "msg_details = get_details_from_message(msg)"
   ]
  },
  {
   "cell_type": "markdown",
   "id": "00c4a9ab-bc8d-4d0d-a1dd-3d32479d04f7",
   "metadata": {
    "jp-MarkdownHeadingCollapsed": true
   },
   "source": [
    "### Build SQL query"
   ]
  },
  {
   "cell_type": "code",
   "execution_count": 122,
   "id": "be125083-53a6-4c57-b93b-ebe92af8107d",
   "metadata": {},
   "outputs": [],
   "source": [
    "def build_sql_query(msg_details, intents):\n",
    "    response = db_logger.create_completion(temperature=0.1, tags='intent_classifier', model='gpt-4', messages=[\n",
    "    { \"role\": \"user\", \"content\": f\"\"\"\n",
    "Here is the table.\n",
    "\n",
    "TABLE product_inquiries (\n",
    "    intent TEXT,\n",
    "    sub_intent TEXT,\n",
    "    is_brand_name BOOLEAN,\n",
    "    is_part_number BOOLEAN,\n",
    "    action TEXT\n",
    ")\n",
    "\n",
    "Please build sql query that select one or more rows by presented data. Please ignore action field at sql request condition. Database: sqlite\n",
    "\n",
    "{intents}\n",
    "\n",
    "Message details:\n",
    "{msg_details}\n",
    "---\n",
    "\n",
    "Put the result at ```json``` format, like:\n",
    "```sql\n",
    "SELECT * FROM table_name\n",
    "WHERE field1 = 'value_2'\n",
    "```\n",
    "    \"\"\"}                             \n",
    "    ])\n",
    "    match = re.search(r\"```sql\\n([\\s\\S]*?)\\n```\", response)\n",
    "    if match:\n",
    "        return match.group(1)\n",
    "    else:\n",
    "        raise ValueError(\"No valid JSON data found in the string.\")\n",
    "\n",
    "    return json.loads(json_data)\n",
    "    return response_raw_json"
   ]
  },
  {
   "cell_type": "code",
   "execution_count": null,
   "id": "5e39c6fc-8edd-44de-b84e-de5b97264426",
   "metadata": {},
   "outputs": [],
   "source": [
    "intents_str = '\\n'.join([f'{intent.intent} -> {intent.sub_intent}' for intent in parsed_messages[0].intents])\n",
    "intents_str\n",
    "raw_sql = build_sql_query(msg_details, intents_str)"
   ]
  },
  {
   "cell_type": "code",
   "execution_count": 45,
   "id": "f496bac8-8f0a-409b-9988-2cab6909cc6a",
   "metadata": {},
   "outputs": [
    {
     "name": "stdout",
     "output_type": "stream",
     "text": [
      "ask_specify_part_number\n"
     ]
    }
   ],
   "source": [
    "for row in rows:\n",
    "    action = row[4]\n",
    "    print(action)"
   ]
  },
  {
   "cell_type": "markdown",
   "id": "a477923c-5537-47a9-a783-84cb86082812",
   "metadata": {
    "jp-MarkdownHeadingCollapsed": true
   },
   "source": [
    "### Ask specify part number"
   ]
  },
  {
   "cell_type": "code",
   "execution_count": 52,
   "id": "ebbdb964-9752-42ad-a307-d3052243399e",
   "metadata": {},
   "outputs": [
    {
     "name": "stdout",
     "output_type": "stream",
     "text": [
      "Dear Valued Customer,\n",
      "\n",
      "Thank you for your interest in our Mono brand parts. In order to assist you more efficiently, could you please provide us with the specific part number you are interested in?\n",
      "\n",
      "Looking forward to your response.\n",
      "\n",
      "--------------------\n",
      "\n",
      "Note saved without feedback. ID: 13bafa8b-f97e-481b-b50e-6ed5a9d37a4c\n",
      "Input tokens: 169 Output tokens: 45 Total price: 0.01$\n",
      "\n",
      "\n"
     ]
    },
    {
     "data": {
      "application/vnd.jupyter.widget-view+json": {
       "model_id": "40c80a4140414c27ad9ba7e04dd30373",
       "version_major": 2,
       "version_minor": 0
      },
      "text/plain": [
       "HBox(children=(Button(button_style='success', description='👍 Like', style=ButtonStyle(), tooltip='Like this co…"
      ]
     },
     "metadata": {},
     "output_type": "display_data"
    },
    {
     "data": {
      "application/vnd.jupyter.widget-view+json": {
       "model_id": "c1ae179164554ed2a7e2957d5e8b87fa",
       "version_major": 2,
       "version_minor": 0
      },
      "text/plain": [
       "Textarea(value='', description='Feedback:', layout=Layout(height='80px', width='70%'), placeholder='Type your …"
      ]
     },
     "metadata": {},
     "output_type": "display_data"
    },
    {
     "data": {
      "application/vnd.jupyter.widget-view+json": {
       "model_id": "7f5f313450084eb89be91735689054e7",
       "version_major": 2,
       "version_minor": 0
      },
      "text/plain": [
       "Button(button_style='success', description='Submit Feedback', style=ButtonStyle(), tooltip='Click to submit fe…"
      ]
     },
     "metadata": {},
     "output_type": "display_data"
    }
   ],
   "source": [
    "response = db_logger.create_completion(temperature=0.3, tags='intent_classifier', model='gpt-4', messages=[\n",
    "{ \"role\": \"user\", \"content\": f\"\"\"\n",
    "You are sales manager that sale parts and components for manufacturers.\n",
    "As a Senior sales manager, please ask customer to specify part number for part. When you build your own message please read the examples of \n",
    "other sales managers [EXAMPLE MESSAGES].\n",
    "\n",
    "Metadata:\n",
    "{{\n",
    "    \"parts\": [\n",
    "        {{\n",
    "           \"amount\": null,\n",
    "           \"brand_name\": \"Mono\",\n",
    "           \"part_number\": null\n",
    "        }}\n",
    "    ],\n",
    "    \"client\": {{\n",
    "        \"country\": null,\n",
    "        \"domain\": null,\n",
    "        \"email\": null,\n",
    "        \"office_country\": null\n",
    "    }}\n",
    "}}\n",
    "\n",
    "The example of previous messages from sales use it to build your own:\n",
    "\n",
    "[EXAMPLE MESSAGES]\n",
    "Message 1: ```\n",
    "Dear Sir / Madam,\n",
    "Thank you for your request!\n",
    "Could you please tell us the article number?\n",
    "```\n",
    "[/EXAMPLE MESSAGES]\n",
    "\"\"\"}                             \n",
    "])"
   ]
  },
  {
   "cell_type": "markdown",
   "id": "de0352da-7f7a-47ad-bc89-e6766518cff0",
   "metadata": {
    "jp-MarkdownHeadingCollapsed": true
   },
   "source": [
    "### Google sheet reader"
   ]
  },
  {
   "cell_type": "code",
   "execution_count": 6,
   "id": "75007f74-4ada-4960-a719-c899b8a99418",
   "metadata": {},
   "outputs": [],
   "source": [
    "import sqlite3\n",
    "import gspread\n",
    "from oauth2client.service_account import ServiceAccountCredentials\n",
    "from pydantic import BaseModel, Field, field_validator\n",
    "\n",
    "\n",
    "class ProductInquiry(BaseModel):\n",
    "    intent: str\n",
    "    sub_intent: str\n",
    "    is_brand_name: bool\n",
    "    is_part_number: bool\n",
    "    action: str\n",
    "\n",
    "    @field_validator('is_brand_name', 'is_part_number')\n",
    "    def convert_int_to_bool(cls, v):\n",
    "        if isinstance(v, bool):\n",
    "            return v  # In case the input is already a boolean\n",
    "        if v in (1, 'TRUE', 'True', 'true'):\n",
    "            return True\n",
    "        elif v in (0, 'FALSE', 'False', 'false'):\n",
    "            return False\n",
    "        raise ValueError('Must be a boolean or equivalent integer (0 or 1)')\n",
    "\n",
    "\n",
    "\n",
    "class GoogleSheetToSQLiteConverter:\n",
    "    def __init__(self, spreadsheet: str, credentials_path: str):\n",
    "        scope = ['https://spreadsheets.google.com/feeds','https://www.googleapis.com/auth/drive']\n",
    "        creds = ServiceAccountCredentials.from_json_keyfile_name(credentials_path, scope)\n",
    "        self.spreadsheet = spreadsheet\n",
    "        self.client = gspread.authorize(creds)\n",
    "        \n",
    "    def get_sheet_data(self, sheet: str):\n",
    "        worksheet = self.client.open(self.spreadsheet).worksheet(sheet)\n",
    "        records = worksheet.get_all_records()\n",
    "\n",
    "        return records"
   ]
  },
  {
   "cell_type": "markdown",
   "id": "94915f5d-a7af-4245-9554-991add9f5808",
   "metadata": {},
   "source": [
    "### Init sql db"
   ]
  },
  {
   "cell_type": "code",
   "execution_count": 279,
   "id": "a68cf4da-44ee-444a-88eb-57fb2e0e6fec",
   "metadata": {},
   "outputs": [],
   "source": [
    "import sqlite3\n",
    "\n",
    "\n",
    "def init_sqlite_db(conn, product_inquiries, discount_branch):\n",
    "    cursor = conn.cursor()\n",
    "    \n",
    "    product_inquiries_data = [\n",
    "        [\n",
    "            inquiry.intent,\n",
    "            inquiry.sub_intent,\n",
    "            int(inquiry.is_brand_name),  # Convert boolean to int\n",
    "            int(inquiry.is_part_number),  # Convert boolean to int\n",
    "            inquiry.action\n",
    "        ]\n",
    "        for inquiry in product_inquiries\n",
    "    ]\n",
    "\n",
    "    discount_data = [\n",
    "        [\n",
    "            discount_branch.sub_intent,\n",
    "            discount_branch.is_margin_sufficient,\n",
    "            discount_branch.is_discount_specified,\n",
    "            discount_branch.is_customer_bought_previously,\n",
    "            discount_branch.action\n",
    "        ]\n",
    "    ]\n",
    "    \n",
    "    print()\n",
    "    cursor.execute('''CREATE TABLE product_inquiries (\n",
    "        intent TEXT,\n",
    "        sub_intent TEXT,\n",
    "        is_brand_name BOOLEAN,\n",
    "        is_part_number BOOLEAN,\n",
    "        action TEXT\n",
    "    )''')\n",
    "    \n",
    "    cursor.executemany('INSERT INTO product_inquiries VALUES (?, ?, ?, ?, ?)', product_inquiries_data)\n",
    "    conn.commit()\n",
    "    print('Data was added to db successfully.')"
   ]
  },
  {
   "cell_type": "markdown",
   "id": "f52e2046-d809-4150-8384-680e76a64df3",
   "metadata": {
    "jp-MarkdownHeadingCollapsed": true
   },
   "source": [
    "## Parse discount sheet fields"
   ]
  },
  {
   "cell_type": "code",
   "execution_count": 7,
   "id": "f86632a8-125f-4ebd-b4c4-5923d6259ed9",
   "metadata": {},
   "outputs": [],
   "source": [
    "def map_googl_sheet_bool_to_int(v):\n",
    "    if isinstance(v, bool):\n",
    "        return v  # In case the input is already a boolean\n",
    "    if v in (1, 'TRUE', 'True', 'true'):\n",
    "        return True\n",
    "    elif v in (0, 'FALSE', 'False', 'false'):\n",
    "        return False\n",
    "    raise ValueError('Must be a boolean or equivalent integer (0 or 1)')"
   ]
  },
  {
   "cell_type": "code",
   "execution_count": 8,
   "id": "649c9a7b-ce5d-4cef-9fe0-a870dae8c412",
   "metadata": {},
   "outputs": [],
   "source": [
    "class Discount(BaseModel):\n",
    "    sub_intent: str\n",
    "    is_margin_sufficient: bool\n",
    "    is_discount_specified: bool\n",
    "    is_customer_bought_previously: bool\n",
    "    action: str\n",
    "\n",
    "    @field_validator('is_margin_sufficient', 'is_discount_specified', 'is_customer_bought_previously')\n",
    "    def convert_int_to_bool(cls, v):\n",
    "        return map_googl_sheet_bool_to_int(v)"
   ]
  },
  {
   "cell_type": "code",
   "execution_count": 272,
   "id": "d333d4b8-2e45-409b-94e7-da1356fcd2dc",
   "metadata": {},
   "outputs": [],
   "source": [
    "ghconv = GoogleSheetToSQLiteConverter(\n",
    "    spreadsheet='Famaga Knowledge Map', \n",
    "    credentials_path=r'C:\\Users\\MGroup\\Downloads\\langchain-400510-ac38916fe0c8.json')\n",
    "\n",
    "sheet_data = ghconv.get_sheet_data('discount')\n"
   ]
  },
  {
   "cell_type": "code",
   "execution_count": 15,
   "id": "fddee37e-6ba8-44d3-9fad-253d7f630607",
   "metadata": {},
   "outputs": [],
   "source": [
    "from typing import List\n",
    "\n",
    "\n",
    "class FamagaKBRepo:\n",
    "    def __init__(self, spreadsheet, credentials_path):\n",
    "        self.ghconv = GoogleSheetToSQLiteConverter(\n",
    "            spreadsheet=spreadsheet, \n",
    "            credentials_path=credentials_path)\n",
    "\n",
    "    def get_discount_branch(self) -> List[Discount]:\n",
    "        sheet_data = self.ghconv.get_sheet_data('discount')\n",
    "        discount_branch = [\n",
    "            Discount(\n",
    "                sub_intent = item['Sub-intent'],\n",
    "                is_margin_sufficient = item['Is margin still above 10%?'],\n",
    "                is_discount_specified = item['Specified dicount, at %'],\n",
    "                is_customer_bought_previously = item['Did customer buy the same part previously?'],\n",
    "                action = item['Action']\n",
    "            )\n",
    "            for item in sheet_data\n",
    "        ]\n",
    "        return discount_branch\n",
    "        \n"
   ]
  },
  {
   "cell_type": "code",
   "execution_count": 19,
   "id": "4e1dca13-7410-4c91-89aa-e92cd3055b85",
   "metadata": {},
   "outputs": [],
   "source": [
    "import sqlite3\n",
    "\n",
    "\n",
    "class MemoryKB:\n",
    "    def __init__(self):\n",
    "        self.conn = sqlite3.connect(':memory:')\n",
    "        self.cursor = self.conn.cursor()\n",
    "\n",
    "    def create_discount_table(self, discounts):\n",
    "        table_name = 'discount'\n",
    "        discount_data = [\n",
    "            [\n",
    "                discount.sub_intent,\n",
    "                discount.is_margin_sufficient,\n",
    "                discount.is_discount_specified,\n",
    "                discount.is_customer_bought_previously,\n",
    "                discount.action\n",
    "            ]\n",
    "            for discount in discounts\n",
    "        ]\n",
    "\n",
    "        self.cursor.execute(f'''CREATE TABLE {table_name} (\n",
    "            sub_intent TEXT,\n",
    "            is_margin_sufficient BOOLEAN,\n",
    "            is_discount_specified BOOLEAN,\n",
    "            is_customer_bought_previously BOOLEAN,\n",
    "            action TEXT\n",
    "        )''')\n",
    "        \n",
    "        self.cursor.executemany(f'INSERT INTO {table_name} VALUES (?, ?, ?, ?, ?)', discount_data)\n",
    "        self.conn.commit()\n",
    "        print('Data was added to db successfully.')\n",
    "\n",
    "    def create_product_inquiries_table(self, product_inquiries):\n",
    "        table_name = 'product_inquiries'\n",
    "        product_inquiries_data = [\n",
    "            [\n",
    "                inquiry.intent,\n",
    "                inquiry.sub_intent,\n",
    "                int(inquiry.is_brand_name),  # Convert boolean to int\n",
    "                int(inquiry.is_part_number),  # Convert boolean to int\n",
    "                inquiry.action\n",
    "            ]\n",
    "            for inquiry in product_inquiries\n",
    "        ]\n",
    "    \n",
    "        self.cursor.execute(f'''CREATE TABLE {table_name} (\n",
    "            intent TEXT,\n",
    "            sub_intent TEXT,\n",
    "            is_brand_name BOOLEAN,\n",
    "            is_part_number BOOLEAN,\n",
    "            action TEXT\n",
    "        )''')\n",
    "        \n",
    "        self.cursor.executemany(f'INSERT INTO {table_name} VALUES (?, ?, ?, ?, ?)', product_inquiries_data)\n",
    "        self.conn.commit()\n",
    "        print('Data was added to db successfully.')\n",
    "\n",
    "    def flush(self):\n",
    "        self.cursor.close()\n",
    "        self.conn.close()\n",
    "        self.cursor = None\n",
    "        self.conn = None"
   ]
  },
  {
   "cell_type": "code",
   "execution_count": 31,
   "id": "784ac09a-2099-4178-b436-b7142d4dfc10",
   "metadata": {},
   "outputs": [],
   "source": [
    "famaga_gh_repo = FamagaKBRepo('Famaga Knowledge Map', r'C:\\Users\\MGroup\\Downloads\\langchain-400510-ac38916fe0c8.json')"
   ]
  },
  {
   "cell_type": "code",
   "execution_count": 32,
   "id": "41060607-ddf7-4bdf-8006-b3354e02df5d",
   "metadata": {},
   "outputs": [],
   "source": [
    "discount_branch = famaga_gh_repo.get_discount_branch()"
   ]
  },
  {
   "cell_type": "code",
   "execution_count": 33,
   "id": "5169ee34-995f-4d6b-9463-d8ab67c75649",
   "metadata": {},
   "outputs": [],
   "source": [
    "memory = MemoryKB()"
   ]
  },
  {
   "cell_type": "code",
   "execution_count": 34,
   "id": "b7ca1d37-f08f-44dc-a079-96a821e74dda",
   "metadata": {},
   "outputs": [
    {
     "name": "stdout",
     "output_type": "stream",
     "text": [
      "Data was added to db successfully.\n"
     ]
    }
   ],
   "source": [
    "memory.create_discount_table(discount_branch)"
   ]
  },
  {
   "cell_type": "code",
   "execution_count": 36,
   "id": "918c2bcb-21e5-4206-a0b0-e1f917dded5c",
   "metadata": {},
   "outputs": [
    {
     "name": "stdout",
     "output_type": "stream",
     "text": [
      "ask_specify_discount\n"
     ]
    }
   ],
   "source": [
    "raw_sql = \"\"\"\n",
    "SELECT * FROM discount\n",
    "WHERE is_discount_specified = 0 AND is_customer_bought_previously = 0\n",
    "\"\"\"\n",
    "\n",
    "memory.cursor.execute(raw_sql)\n",
    "rows = memory.cursor.fetchall()\n",
    "\n",
    "for row in rows:\n",
    "    print(row[4])"
   ]
  },
  {
   "cell_type": "code",
   "execution_count": null,
   "id": "a96eb41c-8ac1-4388-abbf-a22910381018",
   "metadata": {},
   "outputs": [],
   "source": []
  },
  {
   "cell_type": "code",
   "execution_count": 30,
   "id": "96628aab-4f69-4b50-a470-bd7998684e5a",
   "metadata": {},
   "outputs": [
    {
     "name": "stdout",
     "output_type": "stream",
     "text": [
      "```sql\n",
      "SELECT * FROM discount\n",
      "WHERE sub_intent = 'Ask discount' AND is_discount_specified = 0 AND is_customer_bought_previously = 0\n",
      "```\n",
      "\n",
      "--------------------\n",
      "\n",
      "Note saved without feedback. ID: 0a348968-8d21-4276-bb90-0ec586f9edb0\n",
      "Input tokens: 144 Output tokens: 36 Total price: 0.01$\n",
      "\n",
      "\n"
     ]
    },
    {
     "data": {
      "application/vnd.jupyter.widget-view+json": {
       "model_id": "2ef1fcc592c944d9962145c8bafc3468",
       "version_major": 2,
       "version_minor": 0
      },
      "text/plain": [
       "HBox(children=(Button(button_style='success', description='👍 Like', style=ButtonStyle(), tooltip='Like this co…"
      ]
     },
     "metadata": {},
     "output_type": "display_data"
    },
    {
     "data": {
      "application/vnd.jupyter.widget-view+json": {
       "model_id": "6f6e8660582d469c819280cc71198757",
       "version_major": 2,
       "version_minor": 0
      },
      "text/plain": [
       "Textarea(value='', description='Feedback:', layout=Layout(height='80px', width='70%'), placeholder='Type your …"
      ]
     },
     "metadata": {},
     "output_type": "display_data"
    },
    {
     "data": {
      "application/vnd.jupyter.widget-view+json": {
       "model_id": "315fa31dc7364320b17e02cf079a97d7",
       "version_major": 2,
       "version_minor": 0
      },
      "text/plain": [
       "Button(button_style='success', description='Submit Feedback', style=ButtonStyle(), tooltip='Click to submit fe…"
      ]
     },
     "metadata": {},
     "output_type": "display_data"
    },
    {
     "data": {
      "text/plain": [
       "\"```sql\\nSELECT * FROM discount\\nWHERE sub_intent = 'Ask discount' AND is_discount_specified = 0 AND is_customer_bought_previously = 0\\n```\""
      ]
     },
     "execution_count": 30,
     "metadata": {},
     "output_type": "execute_result"
    }
   ],
   "source": [
    "db_logger.create_completion(temperature=0.1, tags='intent_classifier', model='gpt-4', messages=[\n",
    "    { \"role\": \"user\", \"content\": f\"\"\"\n",
    "Please build sql query that select one or more rows by presented data. Please ignore action field at sql request condition. \n",
    "Database: sqlite\n",
    "\n",
    "Metadata:\n",
    "sub_intent = Ask discount\n",
    "is_discount_specified = false\n",
    "is_customer_bought_previously = false\n",
    "\n",
    "Use only the following table and columns:\n",
    "Table: discount. Columns: sub_intent(text), is_margin_sufficient (boolean, null), is_discount_specified (boolean), \n",
    "is_customer_bought_previously (boolean), action (text)\n",
    "\n",
    "Please do not write any commentaries or explanations, output only sql query.\n",
    "\n",
    "Put the result at ```json``` format, like:\n",
    "```sql\n",
    "SELECT * FROM table_name\n",
    "WHERE field1 = 'value_2'\n",
    "\"\"\".strip()\n",
    "    }])"
   ]
  },
  {
   "cell_type": "markdown",
   "id": "565829ec-8cd3-43ef-a9fe-4c3910bf76b6",
   "metadata": {},
   "source": [
    "**Base metadata**\n",
    "\n",
    "- customer info\n",
    "- parts inquiry\n",
    "- "
   ]
  },
  {
   "cell_type": "code",
   "execution_count": 37,
   "id": "ede51cf5-65af-4ef5-840e-43ea84a6620a",
   "metadata": {},
   "outputs": [
    {
     "data": {
      "text/plain": [
       "'Kind regards\\nAusten Brunton BEng (Hons), MIMarEST\\nTechnical Fleet Manager\\nWYM Group Ltd\\nIncorporating Wilson Yacht Management and Wilson Ship Management\\nNew Email Address: austen@wymgroup.com\\nWeb: www.wymgroup.com\\nPhone: +44 (0) 1482 648322\\nMob: +44 (0) 7760665835'"
      ]
     },
     "execution_count": 37,
     "metadata": {},
     "output_type": "execute_result"
    }
   ],
   "source": [
    "\"\"\"\n",
    "Kind regards\n",
    "Austen Brunton BEng (Hons), MIMarEST\n",
    "Technical Fleet Manager\n",
    "WYM Group Ltd\n",
    "Incorporating Wilson Yacht Management and Wilson Ship Management\n",
    "New Email Address: austen@wymgroup.com\n",
    "Web: www.wymgroup.com\n",
    "Phone: +44 (0) 1482 648322\n",
    "Mob: +44 (0) 7760665835\n",
    "\"\"\".strip()"
   ]
  },
  {
   "cell_type": "markdown",
   "id": "45304b01-0af6-4131-92bf-68cfcda3dcae",
   "metadata": {},
   "source": [
    "## Metadata classifier"
   ]
  },
  {
   "cell_type": "code",
   "execution_count": null,
   "id": "11b4e390-e335-4685-a842-4ca42bc11bb1",
   "metadata": {},
   "outputs": [],
   "source": [
    "class DiscountInquiry\n",
    "{\n",
    "    [Field(description=\"Indicates if the margin is sufficient for discount\")]\n",
    "    public int is_margin_sufficient { get; set; }\n",
    "}"
   ]
  },
  {
   "cell_type": "code",
   "execution_count": null,
   "id": "79dad3c1-b833-4f8a-a9da-0029232f018f",
   "metadata": {},
   "outputs": [],
   "source": [
    "from typing import List, Dict, Optional\n",
    "from dataclasses import dataclass, field\n",
    "\n",
    "@dataclass\n",
    "class DiscountInquiryMetadata:\n",
    "    is_margin_sufficient: Optional[bool] = None\n",
    "    is_discount_specified: Optional[bool] = None\n",
    "    desired_discount: Optional[int] = None\n",
    "    is_customer_bought_previously: Optional[bool] = None\n",
    "\n",
    "@dataclass\n",
    "class PartsInquiryMetadata:\n",
    "    part_number: str\n",
    "    brand: str\n",
    "\n",
    "@dataclass\n",
    "class CustomerInfo:\n",
    "    email: str\n",
    "    domain: str\n",
    "    office_country: str\n",
    "    phone: str\n",
    "\n",
    "@dataclass\n",
    "class MessageMetadata:\n",
    "    intents: List[Dict[str, str]] = field(default_factory=list)\n",
    "    parts_inquiries: List[PartsInquiryMetadata] = field(default_factory=list)\n",
    "    customer_info: Optional[CustomerInfo] = None\n",
    "    discount_inquiry: Optional[DiscountInquiryMetadata] = None\n",
    "\n",
    "@dataclass\n",
    "class Message:\n",
    "    from_who: str\n",
    "    message: str\n",
    "    metadata: MessageMetadata\n",
    "\n",
    "class MessagingHistory:\n",
    "    def __init__(self):\n",
    "        self.history: List[Message] = []\n",
    "        self.discount_inquiry_state: Optional[DiscountInquiryMetadata] = None\n",
    "\n",
    "    def add_message(self, from_who: str, message: str, metadata: Dict):\n",
    "        \"\"\"Add a message to the history, updating global inquiries state based on metadata.\"\"\"\n",
    "        # Convert metadata dict to MessageMetadata object\n",
    "        message_metadata = self._parse_metadata(metadata)\n",
    "        # Update global state if necessary\n",
    "        if message_metadata.discount_inquiry:\n",
    "            self._update_discount_inquiry_state(message_metadata.discount_inquiry)\n",
    "            message_metadata.discount_inquiry = self.discount_inquiry_state\n",
    "        new_message = Message(from_who, message, message_metadata)\n",
    "        self.history.append(new_message)\n",
    "\n",
    "    def _update_discount_inquiry_state(self, new_discount_metadata: DiscountInquiryMetadata):\n",
    "        \"\"\"Update global discount inquiry state.\"\"\"\n",
    "        if self.discount_inquiry_state is None:\n",
    "            self.discount_inquiry_state = new_discount_metadata\n",
    "        else:\n",
    "            # Update existing state with any non-None values from the new state\n",
    "            for field_name in vars(new_discount_metadata):\n",
    "                new_value = getattr(new_discount_metadata, field_name)\n",
    "                if new_value is not None:\n",
    "                    setattr(self.discount_inquiry_state, field_name, new_value)\n",
    "\n",
    "    def _parse_metadata(self, metadata: Dict) -> MessageMetadata:\n",
    "        \"\"\"Parse metadata dict to MessageMetadata object.\"\"\"\n",
    "\n",
    "        tracked_metadata = [metadata for metadata in self.global_metadata if metadata.state == State.Tracking]\n",
    "\n",
    "        \n",
    "        \n",
    "        return MessageMetadata()  # Placeholder implementation\n",
    "\n",
    "    def get_history(self) -> List[Message]:\n",
    "        \"\"\"Return the messaging history.\"\"\"\n",
    "        return self.history\n",
    "\n",
    "# This approach requires implementing the _parse_metadata method to correctly\n",
    "# convert incoming metadata dictionaries into strongly-typed MessageMetadata objects.\n"
   ]
  },
  {
   "cell_type": "markdown",
   "id": "aad64654-98cf-4614-a39d-757504c8f5fe",
   "metadata": {},
   "source": [
    "### Annotate fields"
   ]
  },
  {
   "cell_type": "code",
   "execution_count": 48,
   "id": "cfa7f69e-6e89-4b50-8feb-27a3ceb042ee",
   "metadata": {},
   "outputs": [],
   "source": [
    "from dataclasses import dataclass, field\n",
    "from typing import Optional, Any\n",
    "\n",
    "def annotated_field(description: str, default: Any = None, include_in_instructions: bool = True):\n",
    "    \"\"\"Custom field for dataclasses with a description and optional inclusion in instructions.\"\"\"\n",
    "    return field(default=default, metadata={'description': description, 'include_in_instructions': include_in_instructions})\n"
   ]
  },
  {
   "cell_type": "code",
   "execution_count": 122,
   "id": "fc61b964-8daf-4147-8ec7-0e5df3a02a0e",
   "metadata": {},
   "outputs": [],
   "source": [
    "# @dataclass\n",
    "# class DiscountInquiryMetadata:\n",
    "#     is_margin_sufficient: Optional[bool] = annotated_field(\"Indicates if the margin is sufficient for discount\", None)\n",
    "#     is_discount_specified: Optional[bool] = annotated_field(\"True if the discount amount is specified by the customer\", None)\n",
    "#     desired_discount: Optional[int] = annotated_field(\"The percentage of the desired discount\", None)\n",
    "#     is_customer_bought_previously: Optional[bool] = annotated_field(\"True if the customer has made purchases previously\", None, include_in_instructions=False)\n",
    "\n",
    "#     @classmethod\n",
    "#     def metadata_key(cls):\n",
    "#         return \"discount_inquiry\"\n",
    "\n",
    "#     @classmethod\n",
    "#     def instruction(cls):\n",
    "#         return \"\"\n",
    "\n",
    "\n",
    "from pydantic import BaseModel, Field\n",
    "from typing import Optional\n",
    "\n",
    "\n",
    "class DiscountInquiryMetadata(BaseModel):\n",
    "    is_margin_sufficient: Optional[bool] = None\n",
    "    is_discount_specified: Optional[bool] = None\n",
    "    desired_discount: Optional[int] = None\n",
    "    is_customer_bought_previously: Optional[bool] = None\n",
    "\n",
    "    @classmethod\n",
    "    def metadata_key(cls):\n",
    "        return \"discount_inquiry\"\n",
    "\n",
    "    @classmethod\n",
    "    def schema(cls):\n",
    "        return  \"\"\"\n",
    "{\n",
    "    \"is_margin_sufficient\": bool | null // Indicates if the margin is sufficient for discount\",\n",
    "    \"is_discount_specified\": bool | null // True if the discount amount is specified by the customer\",\n",
    "    \"desired_discount\": float | null // The percentage of the desired discount\"\n",
    "}\n",
    "\"\"\"\n"
   ]
  },
  {
   "cell_type": "code",
   "execution_count": null,
   "id": "3e09ac35-a65c-49c3-8b36-820c220f66f7",
   "metadata": {},
   "outputs": [],
   "source": [
    "from typing import get_type_hints\n",
    "\n",
    "\n",
    "def generate_schema(cls):\n",
    "    \"\"\"Generate JSON schema based on the data class fields and metadata, excluding certain fields.\"\"\"\n",
    "    schema = {}\n",
    "    type_hints = get_type_hints(cls)  # Correctly retrieve type hints\n",
    "    for field_name, field_info in cls.__dataclass_fields__.items():\n",
    "        # Only include the field if it's meant to be in the instructions (or schema)\n",
    "        if field_info.metadata.get('include_in_instructions', True):\n",
    "            description = field_info.metadata.get('description', 'No description provided.')\n",
    "            # Use type hints to get the field type\n",
    "            field_type = type_hints[field_name]\n",
    "            field_type_str = str(field_type).replace(\"typing.\", \"\").replace(\"Optional[\", \"\").replace(\"]\", \"\")\n",
    "            schema[field_name] = f\"{field_type_str} // {description}\"\n",
    "    return schema\n",
    "\n",
    "def generate_instructions(cls):\n",
    "    \"\"\"Generate human-readable instructions for filling out the data class fields, excluding certain fields.\"\"\"\n",
    "    instructions = []\n",
    "    for field_name, field_info in cls.__dataclass_fields__.items():\n",
    "        if field_info.metadata.get('include_in_instructions', True):\n",
    "            description = field_info.metadata.get('description', 'No description provided.')\n",
    "            instructions.append(f\"- **{field_name}**: {description}\")\n",
    "    return \"\\n\".join(instructions)\n",
    "\n",
    "# Example usage\n",
    "schema = generate_schema(DiscountInquiryMetadata)\n",
    "instructions = generate_instructions(DiscountInquiryMetadata)\n",
    "\n",
    "print(schema)\n",
    "print(instructions)\n"
   ]
  },
  {
   "cell_type": "code",
   "execution_count": 120,
   "id": "11bf0b5f-c9ed-46ff-a71a-621e1cc2191c",
   "metadata": {},
   "outputs": [
    {
     "name": "stdout",
     "output_type": "stream",
     "text": [
      "List\n"
     ]
    }
   ],
   "source": [
    "# "
   ]
  },
  {
   "cell_type": "code",
   "execution_count": 106,
   "id": "93e2fa36-155c-4912-b6d2-262cc22c03ed",
   "metadata": {},
   "outputs": [
    {
     "name": "stdout",
     "output_type": "stream",
     "text": [
      "{\n",
      "    \"is_margin_sufficient\": \"typing.Optional[bool] // Indicates if the margin is sufficient for discount\",\n",
      "    \"is_discount_specified\": \"typing.Optional[bool] // True if the discount amount is specified by the customer\",\n",
      "    \"desired_discount\": \"typing.Optional[int] // The percentage of the desired discount\"\n",
      "}\n"
     ]
    }
   ],
   "source": [
    "import json\n",
    "\n",
    "print(json.dumps(schema, indent=4))"
   ]
  },
  {
   "cell_type": "code",
   "execution_count": 78,
   "id": "e8172475-a01c-4fa1-90da-43e445dcb1d6",
   "metadata": {},
   "outputs": [],
   "source": [
    "executor = AgentExecutor(GPT_DB_LOGGER_PATH)"
   ]
  },
  {
   "cell_type": "code",
   "execution_count": 79,
   "id": "b3032c4e-1f7a-4426-95a8-d0504ef5fae6",
   "metadata": {},
   "outputs": [
    {
     "name": "stdout",
     "output_type": "stream",
     "text": [
      "```json\n",
      "    {\n",
      "        \"id\": \"1\",\n",
      "        \"body\": \"Dear Kristine! Could you give us discount?\",\n",
      "        \"sign\": \"\",\n",
      "        \"from\": \"customer\",\n",
      "        \"intents\": [\n",
      "            {\n",
      "                \"intent\": \"Pricing and Quotes\",\n",
      "                \"sub_intent\": \"Discount Inquiry\"\n",
      "            }\n",
      "        ],\n",
      "        \"metadata_keys\": [ \"discount_inquiry\"]\n",
      "    \n",
      "    }\n",
      "```\n",
      "\n",
      "--------------------\n",
      "\n",
      "Note saved without feedback. ID: fd86829b-8ab9-4dd3-af49-c2837260de10\n",
      "Input tokens: 344 Output tokens: 85 Total price: 0.02$\n",
      "\n",
      "\n"
     ]
    },
    {
     "data": {
      "application/vnd.jupyter.widget-view+json": {
       "model_id": "35add68a067e46669c634d88ca5b0294",
       "version_major": 2,
       "version_minor": 0
      },
      "text/plain": [
       "HBox(children=(Button(button_style='success', description='👍 Like', style=ButtonStyle(), tooltip='Like this co…"
      ]
     },
     "metadata": {},
     "output_type": "display_data"
    },
    {
     "data": {
      "application/vnd.jupyter.widget-view+json": {
       "model_id": "29c4b1b08b2b484f9ded588c4928ce64",
       "version_major": 2,
       "version_minor": 0
      },
      "text/plain": [
       "Textarea(value='', description='Feedback:', layout=Layout(height='80px', width='70%'), placeholder='Type your …"
      ]
     },
     "metadata": {},
     "output_type": "display_data"
    },
    {
     "data": {
      "application/vnd.jupyter.widget-view+json": {
       "model_id": "c8f3aad4566c4cd6b0849dd1ac67d1c3",
       "version_major": 2,
       "version_minor": 0
      },
      "text/plain": [
       "Button(button_style='success', description='Submit Feedback', style=ButtonStyle(), tooltip='Click to submit fe…"
      ]
     },
     "metadata": {},
     "output_type": "display_data"
    }
   ],
   "source": [
    "message_intents = executor.get_message_intents('Dear Kristine! Could you give us discount?')"
   ]
  },
  {
   "cell_type": "code",
   "execution_count": 81,
   "id": "524dd110-71a6-4909-a6ed-bf5a59fb55ed",
   "metadata": {},
   "outputs": [
    {
     "data": {
      "text/plain": [
       "['discount_inquiry']"
      ]
     },
     "execution_count": 81,
     "metadata": {},
     "output_type": "execute_result"
    }
   ],
   "source": [
    "message_intents.metadata_keys"
   ]
  },
  {
   "cell_type": "code",
   "execution_count": 124,
   "id": "e03157c9-504b-4359-a0ca-e6c1cb4d04c9",
   "metadata": {},
   "outputs": [],
   "source": [
    "def get_discount_metadata(msg, db_logger):\n",
    "    return db_logger.create_completion(temperature=0.1, tags='intent_classifier', model='gpt-4', messages=[\n",
    "        { \"role\": \"user\", \"content\": f\"\"\"\n",
    "Please define the following values from the message\n",
    "\n",
    "Message:\n",
    "{msg}\n",
    "\n",
    "Put the result at ```json``` format, like:\n",
    "```json\n",
    "{DiscountInquiryMetadata.schema()}\n",
    "```\n",
    "\"\"\"\n",
    "        }])"
   ]
  },
  {
   "cell_type": "code",
   "execution_count": 125,
   "id": "176a0d1b-b853-40d4-862c-84968883a129",
   "metadata": {},
   "outputs": [
    {
     "name": "stdout",
     "output_type": "stream",
     "text": [
      "```json\n",
      "{\n",
      "    \"is_margin_sufficient\": null,\n",
      "    \"is_discount_specified\": false,\n",
      "    \"desired_discount\": null\n",
      "}\n",
      "```\n",
      "\n",
      "--------------------\n",
      "\n",
      "Note saved without feedback. ID: 3af1d4e9-6c1b-439f-8e92-211e9ade9f92\n",
      "Input tokens: 98 Output tokens: 31 Total price: 0.0$\n",
      "\n",
      "\n"
     ]
    },
    {
     "data": {
      "application/vnd.jupyter.widget-view+json": {
       "model_id": "774bdc4544bb41a2996350df0c8ff514",
       "version_major": 2,
       "version_minor": 0
      },
      "text/plain": [
       "HBox(children=(Button(button_style='success', description='👍 Like', style=ButtonStyle(), tooltip='Like this co…"
      ]
     },
     "metadata": {},
     "output_type": "display_data"
    },
    {
     "data": {
      "application/vnd.jupyter.widget-view+json": {
       "model_id": "8d46707fe0f341ac945410ec69370dfa",
       "version_major": 2,
       "version_minor": 0
      },
      "text/plain": [
       "Textarea(value='', description='Feedback:', layout=Layout(height='80px', width='70%'), placeholder='Type your …"
      ]
     },
     "metadata": {},
     "output_type": "display_data"
    },
    {
     "data": {
      "application/vnd.jupyter.widget-view+json": {
       "model_id": "17575432678f42a58fd8561ed4d3dcc2",
       "version_major": 2,
       "version_minor": 0
      },
      "text/plain": [
       "Button(button_style='success', description='Submit Feedback', style=ButtonStyle(), tooltip='Click to submit fe…"
      ]
     },
     "metadata": {},
     "output_type": "display_data"
    }
   ],
   "source": [
    "discount_metadata = get_discount_metadata(\n",
    "    'Dear Kristine! Could you give us discount?',\n",
    "    executor.db_logger\n",
    ")"
   ]
  },
  {
   "cell_type": "code",
   "execution_count": 89,
   "id": "38bae9a8-dfbb-4b71-83bb-ba3d7bc34a6b",
   "metadata": {},
   "outputs": [
    {
     "data": {
      "text/plain": [
       "DiscountInquiryMetadata(is_margin_sufficient=None, is_discount_specified=False, desired_discount=None, is_customer_bought_previously=None)"
      ]
     },
     "execution_count": 89,
     "metadata": {},
     "output_type": "execute_result"
    }
   ],
   "source": [
    "response_raw_json = select_json_block(discount_metadata)\n",
    "DiscountInquiryMetadata(**response_raw_json)\n"
   ]
  },
  {
   "cell_type": "code",
   "execution_count": 54,
   "id": "d2bbe054-47d5-4511-abf0-3311a5c16cf9",
   "metadata": {},
   "outputs": [
    {
     "name": "stdout",
     "output_type": "stream",
     "text": [
      "```json\n",
      "[\n",
      "    {\n",
      "        \"id\": \"1\",\n",
      "        \"body\": \"Dear Kristine! Could you give us discount?\",\n",
      "        \"sign\": \"\",\n",
      "        \"from\": \"customer\",\n",
      "        \"intents\": [\n",
      "            {\n",
      "                \"intent\": \"Pricing and Quotes\",\n",
      "                \"sub_intent\": \"Discount Inquiry\",\n",
      "                \"keywords\": [\"discount\"]\n",
      "            }\n",
      "        ],\n",
      "        \"metadata_keys\": [ \"discount_inquiry\"]\n",
      "    \n",
      "    }\n",
      "]\n",
      "```\n",
      "\n",
      "--------------------\n",
      "\n",
      "Note saved without feedback. ID: fe786834-7b45-471c-97f9-ffca630353be\n",
      "Input tokens: 365 Output tokens: 94 Total price: 0.02$\n",
      "\n",
      "\n"
     ]
    },
    {
     "data": {
      "application/vnd.jupyter.widget-view+json": {
       "model_id": "c0db11956ba446fcae555c2c8274c6d7",
       "version_major": 2,
       "version_minor": 0
      },
      "text/plain": [
       "HBox(children=(Button(button_style='success', description='👍 Like', style=ButtonStyle(), tooltip='Like this co…"
      ]
     },
     "metadata": {},
     "output_type": "display_data"
    },
    {
     "data": {
      "application/vnd.jupyter.widget-view+json": {
       "model_id": "93290b3350cc4396b4c58835d5ed4bd6",
       "version_major": 2,
       "version_minor": 0
      },
      "text/plain": [
       "Textarea(value='', description='Feedback:', layout=Layout(height='80px', width='70%'), placeholder='Type your …"
      ]
     },
     "metadata": {},
     "output_type": "display_data"
    },
    {
     "data": {
      "application/vnd.jupyter.widget-view+json": {
       "model_id": "9910caf372c041da849a002b4262de44",
       "version_major": 2,
       "version_minor": 0
      },
      "text/plain": [
       "Button(button_style='success', description='Submit Feedback', style=ButtonStyle(), tooltip='Click to submit fe…"
      ]
     },
     "metadata": {},
     "output_type": "display_data"
    },
    {
     "data": {
      "text/plain": [
       "'```json\\n[\\n    {\\n        \"id\": \"1\",\\n        \"body\": \"Dear Kristine! Could you give us discount?\",\\n        \"sign\": \"\",\\n        \"from\": \"customer\",\\n        \"intents\": [\\n            {\\n                \"intent\": \"Pricing and Quotes\",\\n                \"sub_intent\": \"Discount Inquiry\",\\n                \"keywords\": [\"discount\"]\\n            }\\n        ],\\n        \"metadata_keys\": [ \"discount_inquiry\"]\\n    \\n    }\\n]\\n```'"
      ]
     },
     "execution_count": 54,
     "metadata": {},
     "output_type": "execute_result"
    }
   ],
   "source": [
    "db_logger.create_completion(temperature=0.1, tags='intent_classifier', model='gpt-4', messages=[\n",
    "    { \"role\": \"user\", \"content\": f\"\"\"\n",
    "Please attach to each message in chat history tags, annotations, indexes, intents to better classification and search.\n",
    "The message could have one or more intents.\n",
    "\n",
    "Message:\n",
    "```\n",
    "Dear Kristine! Could you give us discount?\n",
    "```\n",
    "\n",
    "You can choose one of the following intents or figure out your own.\n",
    "   - Order Processing -> Order Placement Confirmation\n",
    "   - Order Processing -> Order Acceptance Confirmation\n",
    "   - Pricing and Quotes -> Discount Inquiry\n",
    "   - Pricing and Quotes -> Transport Cost Inquiry\n",
    "   - Delivery and Shipping -> Delivery Method Discussion\n",
    "   - Delivery and Shipping -> Discussing Logistics\n",
    "   - Product Inquiry -> Availability Check\n",
    "\n",
    "Also please define which metadata entites should be find from message.\n",
    "The available keys:\n",
    "- discount_inquiry: the metadata of discount discussions, could be specified at messages with Pricing and Quotes -> Discount Inquiry intent\n",
    "- client_info: info about client email, phone, office, country, address\n",
    "- part_inquiry: the info about parts and components (part number, brand, model, qty)\n",
    "\n",
    "\n",
    "Put the result at ```json``` format, like:\n",
    "```json\n",
    "[\n",
    "    {{\n",
    "        \"id\": \"<message_id>\",\n",
    "        \"body\": \"<message body>\", //only body without sign\n",
    "        \"sign\": \"<signature>\", //message signature\n",
    "        \"from\": \"<message from>\", //this should be one of two values: customer or manager\n",
    "        \"intents\": [\n",
    "            {{\n",
    "                \"intent\": \"<main intent>\",\n",
    "                \"sub_intent\": \"<sub intent>\",\n",
    "                \"keywords\": [\"word1\", \"word2\"] //key words at base form (lemma)\n",
    "            }}\n",
    "        ],\n",
    "        \"metadata_keys\": [ 'key1', 'key2']\n",
    "    \n",
    "    }}\n",
    "]\n",
    "```\n",
    "Please put new lines symbols if it suitable for context \\\\n at body and sign fields.\n",
    "\"\"\".strip()\n",
    "    }])"
   ]
  },
  {
   "cell_type": "markdown",
   "id": "432313f4-9e6b-4014-bf73-fe7c6dd84579",
   "metadata": {},
   "source": [
    "## Test"
   ]
  },
  {
   "cell_type": "code",
   "execution_count": 194,
   "id": "f3d8df4f-4098-4478-a553-3754d3b92d44",
   "metadata": {},
   "outputs": [],
   "source": [
    "msg = \"\"\"\n",
    "Dear Sir or Madam,\n",
    "Please advise if stators and rotors are available for the attached. The pump appears to be very similar to a Mono pump\n",
    "Kind regards\n",
    "Austen Brunton BEng (Hons), MIMarEST\n",
    "Technical Fleet Manager\n",
    "WYM Group Ltd\n",
    "Incorporating Wilson Yacht Management and Wilson Ship Management\n",
    "New Email Address: austen@wymgroup.com\n",
    "Web: www.wymgroup.com\n",
    "Phone: +44 (0) 1482 648322\n",
    "Mob: +44 (0) 7760665835\n",
    "\"\"\"\n",
    "\n",
    "msg1 = \"\"\"\n",
    "Good Afternoon Kristine,\n",
    " \n",
    "Please see below proof of payment that should appear in your account shortly.\n",
    "\n",
    " \n",
    "Have a great weekend!\n",
    " \n",
    "Many thanks,\n",
    "Miki\n",
    "\"\"\"\n",
    "\n",
    "msg2 = \"\"\"\n",
    "Dear Kristine Gergaia,\n",
    "\n",
    "\n",
    "Thank you for your offer. \n",
    "\n",
    "Please send me offer for the coil 0000000.840423050 (Norgren)  5pcs.\n",
    "\n",
    "Delivery time 5-6 weeks. It`s correct?\n",
    "\n",
    " \n",
    "Best regards, \n",
    "Yuri Avdonjushkin\n",
    "\n",
    "OÜ Anveide reg,10078552\n",
    "\n",
    "VAT:  EE100229833\n",
    "\n",
    "Kärberi 16-53, 13812 Tallinn, Estonia\n",
    "\n",
    "Tel. +372 5153828\n",
    "\n",
    "E-mail:  juri.avdonyushkin@gmail.com  \n",
    "\"\"\"\n",
    "\n",
    "msg3 = \"\"\"\n",
    "Afternoon\n",
    "\n",
    " \n",
    "\n",
    "Many thanks for your email – please can you confirm if the price quoted includes the price for the certificates?\n",
    "\n",
    " \n",
    "\n",
    "Tim Carde\n",
    "\n",
    "RSC Spares Ltd\n",
    "\n",
    "Unit 91 Portmanmoor Rd Ind Est\n",
    "\n",
    "Cardiff\n",
    "\n",
    "CF24 5HB\n",
    "\n",
    "Tel: 029 20489555\n",
    "\n",
    "Email: tim@rsc-spares.co.uk\n",
    "\"\"\""
   ]
  },
  {
   "cell_type": "code",
   "execution_count": 195,
   "id": "fcb1a6de-c258-420a-964b-f134d1e5565c",
   "metadata": {},
   "outputs": [
    {
     "name": "stdout",
     "output_type": "stream",
     "text": [
      "```json\n",
      "[\n",
      "    {\n",
      "        \"id\": \"1\",\n",
      "        \"body\": \"Afternoon\\n\\nMany thanks for your email – please can you confirm if the price quoted includes the price for the certificates?\",\n",
      "        \"sign\": \"Tim Carde\\nRSC Spares Ltd\\nUnit 91 Portmanmoor Rd Ind Est\\nCardiff\\nCF24 5HB\\nTel: 029 20489555\\nEmail: tim@rsc-spares.co.uk\",\n",
      "        \"from\": \"customer\",\n",
      "        \"intents\": [\n",
      "            {\n",
      "                \"intent\": \"Pricing and Quotes\",\n",
      "                \"sub_intent\": \"Price Confirmation\",\n",
      "                \"branch\": \"Confirmation of Price Including Certificates\"\n",
      "            }\n",
      "        ]\n",
      "    \n",
      "    }\n",
      "]\n",
      "```\n",
      "\n",
      "--------------------\n",
      "\n",
      "Note saved without feedback. ID: 4e4fabdf-2bbc-41e2-89cb-3ab572b27613\n",
      "Input tokens: 460 Output tokens: 153 Total price: 0.02$\n",
      "\n",
      "\n"
     ]
    },
    {
     "data": {
      "application/vnd.jupyter.widget-view+json": {
       "model_id": "27f8e3fe0c94420e8ac13d7d684be651",
       "version_major": 2,
       "version_minor": 0
      },
      "text/plain": [
       "HBox(children=(Button(button_style='success', description='👍 Like', style=ButtonStyle(), tooltip='Like this co…"
      ]
     },
     "metadata": {},
     "output_type": "display_data"
    },
    {
     "data": {
      "application/vnd.jupyter.widget-view+json": {
       "model_id": "f4530b74abaa4be399ecfd8cf6462f13",
       "version_major": 2,
       "version_minor": 0
      },
      "text/plain": [
       "Textarea(value='', description='Feedback:', layout=Layout(height='80px', width='70%'), placeholder='Type your …"
      ]
     },
     "metadata": {},
     "output_type": "display_data"
    },
    {
     "data": {
      "application/vnd.jupyter.widget-view+json": {
       "model_id": "ef382dd2388a46b2bdb9068f367d3421",
       "version_major": 2,
       "version_minor": 0
      },
      "text/plain": [
       "Button(button_style='success', description='Submit Feedback', style=ButtonStyle(), tooltip='Click to submit fe…"
      ]
     },
     "metadata": {},
     "output_type": "display_data"
    }
   ],
   "source": [
    "parsed_messages = get_message_intents(msg3)"
   ]
  },
  {
   "cell_type": "code",
   "execution_count": 192,
   "id": "707e8726-9573-4754-b201-9d281ba36669",
   "metadata": {},
   "outputs": [
    {
     "name": "stdout",
     "output_type": "stream",
     "text": [
      "```json\n",
      "[\n",
      "    {\n",
      "        \"id\": \"1\",\n",
      "        \"body\": \"Dear Kristine Gergaia,\\n\\nThank you for your offer. \\n\\nPlease send me offer for the coil 0000000.840423050 (Norgren)  5pcs.\\n\\nDelivery time 5-6 weeks. It`s correct?\\n\\nBest regards,\", \n",
      "        \"sign\": \"Yuri Avdonjushkin\\n\\nOÜ Anveide reg,10078552\\n\\nVAT:  EE100229833\\n\\nKärberi 16-53, 13812 Tallinn, Estonia\\n\\nTel. +372 5153828\\n\\nE-mail:  juri.avdonyushkin@gmail.com\", \n",
      "        \"from\": \"customer\", \n",
      "        \"intents\": [\n",
      "            {\n",
      "                \"intent\": \"Order Processing\",\n",
      "                \"sub_intent\": \"Order Placement Confirmation\",\n",
      "                \"branch\": \"Confirmation of Specific Offer\"\n",
      "            },\n",
      "            {\n",
      "                \"intent\": \"Delivery and Shipping\",\n",
      "                \"sub_intent\": \"Delivery Time Inquiry\",\n",
      "                \"branch\": \"Inquiry About Delivery Time\"\n",
      "            }\n",
      "        ]\n",
      "    \n",
      "    }\n",
      "]\n",
      "```\n",
      "\n",
      "--------------------\n",
      "\n",
      "Note saved without feedback. ID: 0b48087a-069b-4d9f-96e9-bd4910dbb8de\n",
      "Input tokens: 509 Output tokens: 248 Total price: 0.03$\n",
      "\n",
      "\n"
     ]
    },
    {
     "data": {
      "application/vnd.jupyter.widget-view+json": {
       "model_id": "357c9be0354d400d84b18a9beaa84aff",
       "version_major": 2,
       "version_minor": 0
      },
      "text/plain": [
       "HBox(children=(Button(button_style='success', description='👍 Like', style=ButtonStyle(), tooltip='Like this co…"
      ]
     },
     "metadata": {},
     "output_type": "display_data"
    },
    {
     "data": {
      "application/vnd.jupyter.widget-view+json": {
       "model_id": "5cb959dc8ff84af0b6d2d8075ac231cb",
       "version_major": 2,
       "version_minor": 0
      },
      "text/plain": [
       "Textarea(value='', description='Feedback:', layout=Layout(height='80px', width='70%'), placeholder='Type your …"
      ]
     },
     "metadata": {},
     "output_type": "display_data"
    },
    {
     "data": {
      "application/vnd.jupyter.widget-view+json": {
       "model_id": "6b5f6ef31bca44a0af8f2da4f9eca66b",
       "version_major": 2,
       "version_minor": 0
      },
      "text/plain": [
       "Button(button_style='success', description='Submit Feedback', style=ButtonStyle(), tooltip='Click to submit fe…"
      ]
     },
     "metadata": {},
     "output_type": "display_data"
    }
   ],
   "source": [
    "parsed_messages = get_message_intents(msg2)"
   ]
  },
  {
   "cell_type": "code",
   "execution_count": null,
   "id": "5f9ecc79-ea2c-4cf1-b63b-652d5d78aae6",
   "metadata": {},
   "outputs": [],
   "source": [
    "msg_details = get_details_from_message(msg)"
   ]
  },
  {
   "cell_type": "code",
   "execution_count": null,
   "id": "15f7bd6f-7d52-48dd-871b-33c5fff2223e",
   "metadata": {},
   "outputs": [],
   "source": [
    "intents_str = '\\n'.join([f'{intent.intent} -> {intent.sub_intent}' for intent in parsed_messages[0].intents])\n",
    "raw_sql = build_sql_query(msg_details, intents_str)"
   ]
  },
  {
   "cell_type": "code",
   "execution_count": 133,
   "id": "6237e3a8-61ff-40d6-8215-1ea646d96f22",
   "metadata": {},
   "outputs": [
    {
     "name": "stdout",
     "output_type": "stream",
     "text": [
      "\n",
      "Data was added to db successfully.\n"
     ]
    }
   ],
   "source": [
    "conn = sqlite3.connect(':memory:')\n",
    "cursor = conn.cursor()\n",
    "\n",
    "ghconv = GoogleSheetToSQLiteConverter(\n",
    "    spreadsheet='Famaga Knowledge Map', \n",
    "    credentials_path=r'C:\\Users\\MGroup\\Downloads\\langchain-400510-ac38916fe0c8.json')\n",
    "\n",
    "sheet_data = ghconv.get_sheet_data('Classify parts')\n",
    "\n",
    "product_inquiries = [\n",
    "    ProductInquiry(\n",
    "        intent=item['Intent'],\n",
    "        sub_intent=item['Sub-intent'],\n",
    "        is_brand_name=item['Brand name'],\n",
    "        is_part_number=item['Part Number'],\n",
    "        action=item['Action']\n",
    "    )\n",
    "    for item in sheet_data\n",
    "]\n",
    "\n",
    "init_sqlite_db(conn, product_inquiries)"
   ]
  },
  {
   "cell_type": "code",
   "execution_count": 126,
   "id": "ecde4ef0-cc36-495e-b104-0508644c3b17",
   "metadata": {},
   "outputs": [
    {
     "data": {
      "text/plain": [
       "<sqlite3.Cursor at 0x24f8b479940>"
      ]
     },
     "execution_count": 126,
     "metadata": {},
     "output_type": "execute_result"
    }
   ],
   "source": [
    "cursor.execute(raw_sql)"
   ]
  },
  {
   "cell_type": "code",
   "execution_count": 134,
   "id": "f3411932-2b9d-4b91-9282-08a8ee590877",
   "metadata": {},
   "outputs": [
    {
     "name": "stdout",
     "output_type": "stream",
     "text": [
      "('Product Inquiry', 'Availability Check', 1, 0, 'ask_specify_part_number')\n"
     ]
    }
   ],
   "source": [
    "cursor.execute(raw_sql)\n",
    "rows = cursor.fetchall()\n",
    "\n",
    "for row in rows:\n",
    "    print(row)"
   ]
  },
  {
   "cell_type": "code",
   "execution_count": null,
   "id": "195919bb-ebd9-4a7f-ae60-1cd2dd47de80",
   "metadata": {},
   "outputs": [],
   "source": [
    "MsgHtmlExtracter.extract_messages_from_raw_html()"
   ]
  },
  {
   "cell_type": "code",
   "execution_count": 159,
   "id": "0c3f11c7-c5d3-404d-927a-a8eb9a2940b8",
   "metadata": {},
   "outputs": [],
   "source": [
    "messages_html = deals_rep.get_messaging_html(415947)\n",
    "# resp = client.handle_messages(123,messages_html)"
   ]
  },
  {
   "cell_type": "code",
   "execution_count": 160,
   "id": "f12ced9c-706a-4fc2-b401-a1e8a753f6fd",
   "metadata": {},
   "outputs": [],
   "source": [
    "messages = MsgHtmlExtracter.extract_messages_from_raw_html(messages_html)"
   ]
  },
  {
   "cell_type": "code",
   "execution_count": null,
   "id": "0831f6d2-89ed-47f3-aa8d-3a8a367624a3",
   "metadata": {},
   "outputs": [],
   "source": [
    "print('\\n\\n'.join([f'Message:{m}' if 'for orders under 150 Euro' not in m  else 'Message: Offer' for m in messages[::-1]]))"
   ]
  },
  {
   "cell_type": "code",
   "execution_count": 167,
   "id": "16d07538-d5e8-44de-a957-c3baf82be6d2",
   "metadata": {},
   "outputs": [],
   "source": [
    "client = AgentsAPIClient('https://neon-dev.us')\n"
   ]
  },
  {
   "cell_type": "code",
   "execution_count": null,
   "id": "396a5e8b-a624-41a6-9679-b864862c0bc7",
   "metadata": {},
   "outputs": [],
   "source": [
    "client.handle_html_messages(deal_id=\"322\", messages_html=messages_html)"
   ]
  },
  {
   "cell_type": "code",
   "execution_count": 170,
   "id": "9c97c0fc-91c7-41bf-bad9-74954426ed4d",
   "metadata": {},
   "outputs": [
    {
     "data": {
      "text/plain": [
       "{'output': {'parts': [{'amount': None,\n",
       "    'brand_name': 'Mono',\n",
       "    'part_number': None}],\n",
       "  'client': {'country': 'United Kingdom',\n",
       "   'domain': 'wymgroup.com',\n",
       "   'email': 'austen@wymgroup.com',\n",
       "   'office_country': 'United Kingdom'},\n",
       "  'deal_id': None,\n",
       "  'message_id': None,\n",
       "  'agent_task_id': None},\n",
       " 'action': 'classify_parts',\n",
       " 'logs': [{'step_name': 'classify_request',\n",
       "   'log': 'Decision Point: Classify customer request\\nCondition: Did the customer leave a request indicating specific parts?\\nObservation: Yes, the customer specified stators and rotors for a pump similar to a Mono pump.\\n\\nAction: Classify parts from request',\n",
       "   'task_id': 1651},\n",
       "  {'step_name': 'classify_parts',\n",
       "   'log': '```json\\n{\\n    \"parts\": [\\n        {\\n           \"amount\": null,\\n           \"brand_name\": \"Mono\",\\n           \"part_number\": null\\n        }\\n    ],\\n    \"client\": {\\n        \"country\": \"United Kingdom\",\\n        \"domain\": \"wymgroup.com\",\\n        \"email\": \"austen@wymgroup.com\",\\n        \"office_country\": \"United Kingdom\"\\n    }\\n}\\n```',\n",
       "   'task_id': 1652}]}"
      ]
     },
     "execution_count": 170,
     "metadata": {},
     "output_type": "execute_result"
    }
   ],
   "source": [
    "client.handle_list_messages(deal_id=\"322\", messages=[\n",
    "\"\"\"\n",
    "Dear Sir or Madam,\n",
    "Please advise if stators and rotors are available for the attached. The pump appears to be very similar to a Mono pump\n",
    "Kind regards\n",
    "Austen Brunton BEng (Hons), MIMarEST\n",
    "Technical Fleet Manager\n",
    "WYM Group Ltd\n",
    "Incorporating Wilson Yacht Management and Wilson Ship Management\n",
    "New Email Address: austen@wymgroup.com\n",
    "Web: www.wymgroup.com\n",
    "Phone: +44 (0) 1482 648322\n",
    "Mob: +44 (0) 7760665835\n",
    "\"\"\"\n",
    "])"
   ]
  },
  {
   "cell_type": "markdown",
   "id": "75f6f09d-7b82-4aa5-bdea-cff7e7a7a02a",
   "metadata": {},
   "source": [
    "## Work with Scenarios"
   ]
  },
  {
   "cell_type": "code",
   "execution_count": 219,
   "id": "76adfcfc-3be5-42c0-acd8-a6028014f9ae",
   "metadata": {},
   "outputs": [
    {
     "name": "stderr",
     "output_type": "stream",
     "text": [
      "C:\\Users\\MGroup\\components_agent_sales\\venv\\Lib\\site-packages\\pydantic\\_internal\\_config.py:321: UserWarning: Valid config keys have changed in V2:\n",
      "* 'fields' has been removed\n",
      "  warnings.warn(message, UserWarning)\n"
     ]
    }
   ],
   "source": [
    "from typing import List, Optional, Union\n",
    "from pydantic import BaseModel\n",
    "\n",
    "class Position(BaseModel):\n",
    "    position: str\n",
    "    description: str\n",
    "    article: str\n",
    "    qty: int\n",
    "    discount_percents: str\n",
    "    discounted_price: float\n",
    "    sum: float\n",
    "    delivery_time_from_days: int\n",
    "    delivery_time_to_days: int\n",
    "\n",
    "class Total(BaseModel):\n",
    "    payment: float\n",
    "\n",
    "class Offer(BaseModel):\n",
    "    positions: List[Position]\n",
    "    total: Total\n",
    "\n",
    "# Since messages can have either a text message or an offer, we use Union for typing\n",
    "class Message(BaseModel):\n",
    "    from_: str = None  # Use 'from_' because 'from' is a reserved keyword in Python\n",
    "    message: Optional[str] = None\n",
    "    offer: Optional[Offer] = None\n",
    "\n",
    "    # Customizing the field names to match the JSON structure\n",
    "    class Config:\n",
    "        fields = {'from_': 'from'}\n",
    "\n",
    "class Scenario(BaseModel):\n",
    "    messaging_history: List[Message]\n",
    "\n",
    "class Scenarios(BaseModel):\n",
    "    scenarios: List[Scenario]\n"
   ]
  },
  {
   "cell_type": "code",
   "execution_count": 229,
   "id": "a26941f9-8bfd-45f7-90e2-00d98b043b07",
   "metadata": {},
   "outputs": [
    {
     "data": {
      "text/html": [
       "<div>\n",
       "<style scoped>\n",
       "    .dataframe tbody tr th:only-of-type {\n",
       "        vertical-align: middle;\n",
       "    }\n",
       "\n",
       "    .dataframe tbody tr th {\n",
       "        vertical-align: top;\n",
       "    }\n",
       "\n",
       "    .dataframe thead th {\n",
       "        text-align: right;\n",
       "    }\n",
       "</style>\n",
       "<table border=\"1\" class=\"dataframe\">\n",
       "  <thead>\n",
       "    <tr style=\"text-align: right;\">\n",
       "      <th></th>\n",
       "      <th>client_id</th>\n",
       "      <th>articul</th>\n",
       "      <th>id</th>\n",
       "    </tr>\n",
       "  </thead>\n",
       "  <tbody>\n",
       "    <tr>\n",
       "      <th>49789</th>\n",
       "      <td>80323</td>\n",
       "      <td>0000000150011000</td>\n",
       "      <td>456020</td>\n",
       "    </tr>\n",
       "    <tr>\n",
       "      <th>49514</th>\n",
       "      <td>105309</td>\n",
       "      <td>00004669</td>\n",
       "      <td>455147</td>\n",
       "    </tr>\n",
       "    <tr>\n",
       "      <th>54036</th>\n",
       "      <td>92227</td>\n",
       "      <td>0014600000000000</td>\n",
       "      <td>462640</td>\n",
       "    </tr>\n",
       "    <tr>\n",
       "      <th>33873</th>\n",
       "      <td>103498</td>\n",
       "      <td>0022111</td>\n",
       "      <td>430545</td>\n",
       "    </tr>\n",
       "    <tr>\n",
       "      <th>44625</th>\n",
       "      <td>113520</td>\n",
       "      <td>007.000.000.002.204</td>\n",
       "      <td>445624</td>\n",
       "    </tr>\n",
       "    <tr>\n",
       "      <th>...</th>\n",
       "      <td>...</td>\n",
       "      <td>...</td>\n",
       "      <td>...</td>\n",
       "    </tr>\n",
       "    <tr>\n",
       "      <th>21772</th>\n",
       "      <td>97560</td>\n",
       "      <td>ZK311011</td>\n",
       "      <td>414034</td>\n",
       "    </tr>\n",
       "    <tr>\n",
       "      <th>21773</th>\n",
       "      <td>97560</td>\n",
       "      <td>ZK311012</td>\n",
       "      <td>414034</td>\n",
       "    </tr>\n",
       "    <tr>\n",
       "      <th>21753</th>\n",
       "      <td>97560</td>\n",
       "      <td>ZK451006</td>\n",
       "      <td>414034</td>\n",
       "    </tr>\n",
       "    <tr>\n",
       "      <th>21754</th>\n",
       "      <td>97560</td>\n",
       "      <td>ZK451007</td>\n",
       "      <td>414034</td>\n",
       "    </tr>\n",
       "    <tr>\n",
       "      <th>6575</th>\n",
       "      <td>67197</td>\n",
       "      <td>ZP516A02RD01</td>\n",
       "      <td>387541</td>\n",
       "    </tr>\n",
       "  </tbody>\n",
       "</table>\n",
       "<p>713 rows × 3 columns</p>\n",
       "</div>"
      ],
      "text/plain": [
       "       client_id              articul      id\n",
       "49789      80323     0000000150011000  456020\n",
       "49514     105309             00004669  455147\n",
       "54036      92227     0014600000000000  462640\n",
       "33873     103498              0022111  430545\n",
       "44625     113520  007.000.000.002.204  445624\n",
       "...          ...                  ...     ...\n",
       "21772      97560             ZK311011  414034\n",
       "21773      97560             ZK311012  414034\n",
       "21753      97560             ZK451006  414034\n",
       "21754      97560             ZK451007  414034\n",
       "6575       67197         ZP516A02RD01  387541\n",
       "\n",
       "[713 rows x 3 columns]"
      ]
     },
     "execution_count": 229,
     "metadata": {},
     "output_type": "execute_result"
    }
   ],
   "source": [
    "client_deals_rep.optimized_get_deals_with_exceeds_price_with_gap(min_day_gap=1)"
   ]
  },
  {
   "cell_type": "code",
   "execution_count": 239,
   "id": "e4995605-6192-4f62-b4cd-090425b6e8ca",
   "metadata": {},
   "outputs": [],
   "source": [
    "client_history = client_deals_rep.get_client_history(67197)"
   ]
  },
  {
   "cell_type": "code",
   "execution_count": null,
   "id": "ff6d98f0-787d-4cd7-b405-a60f0ed729b7",
   "metadata": {},
   "outputs": [],
   "source": [
    "client_history"
   ]
  },
  {
   "cell_type": "code",
   "execution_count": 246,
   "id": "7ff49aa1-3ddb-424d-9dea-6b08c07cf2be",
   "metadata": {},
   "outputs": [
    {
     "name": "stdout",
     "output_type": "stream",
     "text": [
      "Article ID: ZP516A02RD01 was bought on 2 different dates.\n",
      "Article ID:  was bought on 4 different dates.\n",
      "Article ID: 6ES7972-0BA52-0XA0 was bought on 2 different dates.\n",
      "Article ID: 6ES7155-6BA01-0CN0 was bought on 2 different dates.\n",
      "Article ID: 6ES7193-6BP00-0BA0 was bought on 2 different dates.\n",
      "Article ID: 6EP7133-6AB00-0BN0 was bought on 2 different dates.\n"
     ]
    }
   ],
   "source": [
    "from collections import defaultdict\n",
    "from typing import Dict, List, Set\n",
    "\n",
    "\n",
    "def find_articles_bought_multiple_times(data: Dict) -> Dict[str, Set]:\n",
    "    article_dates = defaultdict(set)\n",
    "\n",
    "    for purchase_date, transactions in data.items():\n",
    "        for transaction in transactions:\n",
    "            article_id = transaction['articul']\n",
    "            # Record the date for each article_id, automatically avoiding duplicates due to the set\n",
    "            article_dates[article_id].add(purchase_date)\n",
    "\n",
    "    # Filter out articles bought only once\n",
    "    return {article_id: dates for article_id, dates in article_dates.items() if len(dates) > 1}\n",
    "\n",
    "\n",
    "def print_duplicated_items_grouped_by_date(data):\n",
    "    # Step 1: Group transactions by article ID\n",
    "    articles = defaultdict(list)\n",
    "    for date, transactions in data.items():\n",
    "        for transaction in transactions:\n",
    "            article_id = transaction['articul']\n",
    "            articles[article_id].append((date, transaction))\n",
    "    \n",
    "    # Step 2: Identify duplicates and group them by date\n",
    "    duplicates_by_date = defaultdict(lambda: defaultdict(list))\n",
    "    for article_id, transactions in articles.items():\n",
    "        if len(transactions) > 1:  # Only consider items bought more than once\n",
    "            for date, transaction in transactions:\n",
    "                duplicates_by_date[date][article_id].append(transaction)\n",
    "\n",
    "    # Step 3: Print or return the grouped duplicates\n",
    "    print(\"**Client purchase history:**\")\n",
    "    for date, articles in sorted(duplicates_by_date.items()):\n",
    "        print(f\"Date: {date}\")\n",
    "        for article_id, transactions in articles.items():\n",
    "            for transaction in transactions:\n",
    "                brand_title = transaction['brand_title'] if transaction['brand_title'] else \"None\"\n",
    "                margin = transaction['margin']\n",
    "                sell_price = transaction['price_sell']\n",
    "                qty = transaction['amount']\n",
    "                print(f\"{transaction['id']} ({article_id} {brand_title}) margin: {margin:.2f}%, sell: {sell_price}$ qty. {qty}\")\n",
    "        print()\n",
    "\n",
    "\n",
    "def get_duplicated_items_grouped_by_date(data):\n",
    "    # Step 1: Group transactions by article ID\n",
    "    articles = defaultdict(list)\n",
    "    for date, transactions in data.items():\n",
    "        for transaction in transactions:\n",
    "            article_id = transaction['articul']\n",
    "            articles[article_id].append((date, transaction))\n",
    "    \n",
    "    # Step 2: Identify duplicates and prepare them for re-structuring\n",
    "    duplicates_by_date = defaultdict(list)\n",
    "    for article_id, transactions in articles.items():\n",
    "        if len(transactions) > 1:  # Only consider items bought more than once\n",
    "            for date, transaction in transactions:\n",
    "                duplicates_by_date[date].append(transaction)\n",
    "\n",
    "    # Return the structured data similar to the input format\n",
    "    return duplicates_by_date\n",
    "\n",
    "\n",
    "articles_bought_multiple_times = find_articles_bought_multiple_times(client_history)\n",
    "for article_id, dates in articles_bought_multiple_times.items():\n",
    "    print(f\"Article ID: {article_id} was bought on {len(dates)} different dates.\")\n"
   ]
  },
  {
   "cell_type": "code",
   "execution_count": 254,
   "id": "135fe4ad-2d00-419d-860b-5f2e6d1f2a6e",
   "metadata": {},
   "outputs": [],
   "source": [
    "import json\n",
    "\n",
    "\n",
    "duplicated_data = get_duplicated_items_grouped_by_date(client_history)"
   ]
  },
  {
   "cell_type": "code",
   "execution_count": null,
   "id": "b44781f8-8594-464e-828c-f0bb525142e3",
   "metadata": {},
   "outputs": [],
   "source": [
    "import math\n",
    "from pandas import isna\n",
    "\n",
    "\n",
    "def flatten_data(data):\n",
    "    flat_list = []\n",
    "    for date, transactions in data.items():\n",
    "        for transaction in transactions:\n",
    "            # Create a copy to avoid modifying the original data\n",
    "            flat_transaction = transaction.copy()\n",
    "            # Add the purchase date as a field in each transaction\n",
    "            flat_transaction['purchase_date'] = date.isoformat()\n",
    "            for key, value in flat_transaction.items():\n",
    "                if isna(value):  # Checks for NaN and None, replaces with Python's None if true\n",
    "                    flat_transaction[key] = None\n",
    "            flat_list.append(flat_transaction)\n",
    "    return flat_list\n",
    "\n",
    "\n",
    "flattened_data = flatten_data(client_history)\n",
    "flattened_data"
   ]
  },
  {
   "cell_type": "code",
   "execution_count": null,
   "id": "89aad07f-683d-4fd2-b507-31742e2ae29e",
   "metadata": {},
   "outputs": [],
   "source": [
    "print(json.dumps(flattened_data, cls=CustomEncoder, indent=4))"
   ]
  },
  {
   "cell_type": "code",
   "execution_count": null,
   "id": "fe49c518-88c0-490f-a988-2918919c34a1",
   "metadata": {},
   "outputs": [],
   "source": [
    "import json\n",
    "from datetime import date\n",
    "\n",
    "\n",
    "duplicated_items_grouped_by_date = dict(duplicated_data)\n",
    "\n",
    "\n",
    "def serialize_data(data):\n",
    "    # Convert dates to string in keys\n",
    "    serialized_data = {date.isoformat(): transactions for date, transactions in data.items()}\n",
    "    return serialized_data\n",
    "\n",
    "class CustomEncoder(json.JSONEncoder):\n",
    "    def default(self, obj):\n",
    "        if isinstance(obj, date):\n",
    "            return obj.isoformat()\n",
    "        return json.JSONEncoder.default(self, obj)\n",
    "\n",
    "# duplicated_items_json = json.dumps(duplicated_items_grouped_by_date, cls=CustomEncoder, indent=4)\n",
    "\n",
    "# print(duplicated_items_json)\n",
    "\n",
    "serialized_data = serialize_data(duplicated_items_grouped_by_date)\n",
    "duplicated_items_json = json.dumps(serialized_data, cls=CustomEncoder, indent=4)\n",
    "\n",
    "print(duplicated_items_json)"
   ]
  },
  {
   "cell_type": "code",
   "execution_count": 250,
   "id": "7060a182-0d4e-4dd6-aac3-8c4c8fd2380b",
   "metadata": {},
   "outputs": [
    {
     "name": "stdout",
     "output_type": "stream",
     "text": [
      "**Client purchase history:**\n",
      "Date: 2023-01-27\n",
      "380825 (ZP516A02RD01 DELIMON / BIJUR DELIMON) margin: 23.22%, sell: 3887.0$ qty. 1\n",
      "380825 ( None) margin: 15.29%, sell: 850.0$ qty. 1\n",
      "\n",
      "Date: 2023-02-23\n",
      "387541 (ZP516A02RD01 DELIMON / BIJUR DELIMON) margin: 24.37%, sell: 5262.5$ qty. 1\n",
      "\n",
      "Date: 2023-07-28\n",
      "426634 ( None) margin: 41.18%, sell: 170.0$ qty. 1\n",
      "426634 (6ES7972-0BA52-0XA0 Siemens) margin: 20.96%, sell: 38.7$ qty. 1\n",
      "426634 (6ES7155-6BA01-0CN0 Siemens) margin: 18.72%, sell: 287.12$ qty. 1\n",
      "426634 (6ES7193-6BP00-0BA0 Siemens) margin: 18.71%, sell: 14.22$ qty. 2\n",
      "426634 (6EP7133-6AB00-0BN0 Siemens) margin: 7.32%, sell: 121.53$ qty. 1\n",
      "\n",
      "Date: 2023-09-14\n",
      "438515 ( None) margin: 28.57%, sell: 140.0$ qty. 1\n",
      "438515 (6ES7972-0BA52-0XA0 Siemens) margin: 31.9%, sell: 42.89$ qty. 1\n",
      "438515 (6ES7155-6BA01-0CN0 Siemens) margin: 30.09%, sell: 310.0$ qty. 1\n",
      "438515 (6ES7193-6BP00-0BA0 Siemens) margin: 31.92%, sell: 15.76$ qty. 3\n",
      "438515 (6EP7133-6AB00-0BN0 Siemens) margin: 29.44%, sell: 130.0$ qty. 1\n",
      "\n",
      "Date: 2023-10-13\n",
      "445979 ( None) margin: 40.91%, sell: 220.0$ qty. 1\n",
      "\n",
      "\n"
     ]
    }
   ],
   "source": [
    "print(ClientStatisticsService.get_purchase_history_str(get_duplicated_items_grouped_by_date(client_history)))"
   ]
  },
  {
   "cell_type": "code",
   "execution_count": null,
   "id": "d0c342eb-7b1b-4403-aa3b-c48d85929ba2",
   "metadata": {},
   "outputs": [],
   "source": [
    "get_duplicated_items_grouped_by_date(client_history)"
   ]
  },
  {
   "cell_type": "code",
   "execution_count": 241,
   "id": "623aefc8-a752-41b1-ac4b-e78a979ea8a5",
   "metadata": {},
   "outputs": [
    {
     "name": "stdout",
     "output_type": "stream",
     "text": [
      "**Client purchase history:**\n",
      "Date: 2023-01-27\n",
      "380825 (ZP516A02RD01 DELIMON / BIJUR DELIMON) margin: 23.22%, sell: 3887.0$ qty. 1\n",
      "380825 ( None) margin: 15.29%, sell: 850.0$ qty. 1\n",
      "\n",
      "Date: 2023-02-23\n",
      "387541 (ZP516A02RD01 DELIMON / BIJUR DELIMON) margin: 24.37%, sell: 5262.5$ qty. 1\n",
      "\n",
      "Date: 2023-05-02\n",
      "403142 (6SL3220-2YE56-0CF0 Siemens) margin: 20.8%, sell: 15081.53$ qty. 4\n",
      "403142 (3VA2580-6HL32-0AA0 Siemens) margin: 20.8%, sell: 1398.51$ qty. 4\n",
      "403142 (3KD4830-0QE10-0 Siemens) margin: 20.8%, sell: 541.65$ qty. 4\n",
      "403142 (8UD1151-3AF21 Siemens) margin: 20.81%, sell: 42.2$ qty. 4\n",
      "403142 (6SL3000-0CE36-3AA0 Siemens) margin: 20.8%, sell: 1109.16$ qty. 4\n",
      "\n",
      "Date: 2023-07-28\n",
      "426634 ( None) margin: 41.18%, sell: 170.0$ qty. 1\n",
      "426634 (6EP1334-1LB00 Siemens) margin: 27.59%, sell: 88.87$ qty. 1\n",
      "426634 (6ES7222-1HF32-0XB0 Siemens) margin: 35.15%, sell: 128.3$ qty. 1\n",
      "426634 (6ES7972-0BA52-0XA0 Siemens) margin: 20.96%, sell: 38.7$ qty. 1\n",
      "426634 (6ES7155-6BA01-0CN0 Siemens) margin: 18.72%, sell: 287.12$ qty. 1\n",
      "426634 (6ES7193-6BP00-0BA0 Siemens) margin: 18.71%, sell: 14.22$ qty. 2\n",
      "426634 (6ES7134-6GD01-0BA1 Siemens) margin: 18.71%, sell: 162.87$ qty. 2\n",
      "426634 (6EP7133-6AB00-0BN0 Siemens) margin: 7.32%, sell: 121.53$ qty. 1\n",
      "426634 (6GK1503-3CB00 Siemens) margin: 38.25%, sell: 1194.06$ qty. 1\n",
      "\n",
      "Date: 2023-09-14\n",
      "438515 (6ES7972-0BA52-0XA0 Siemens) margin: 31.9%, sell: 42.89$ qty. 1\n",
      "438515 ( None) margin: 28.57%, sell: 140.0$ qty. 1\n",
      "438515 (6ES7193-6BP00-0BA0 Siemens) margin: 31.92%, sell: 15.76$ qty. 3\n",
      "438515 (6ES7131-6BH01-0BA0 Siemens) margin: 31.89%, sell: 89.59$ qty. 3\n",
      "438515 (6EP7133-6AB00-0BN0 Siemens) margin: 29.44%, sell: 130.0$ qty. 1\n",
      "438515 (6ES7155-6BA01-0CN0 Siemens) margin: 30.09%, sell: 310.0$ qty. 1\n",
      "\n",
      "Date: 2023-10-13\n",
      "445979 (382087136 Schneider Electric) margin: 33.01%, sell: 139.93$ qty. 4\n",
      "445979 ( None) margin: 40.91%, sell: 220.0$ qty. 1\n",
      "\n",
      "Date: 2023-10-31\n",
      "449032 (3RW5527-3HA14 Siemens) margin: 22.25%, sell: 2950.09$ qty. 1\n",
      "449032 (3RW5524-1HA14 Siemens) margin: 22.25%, sell: 2166.47$ qty. 1\n",
      "\n",
      "Date: 2023-11-10\n",
      "452874 (BMXFTW301 Schneider Electric) margin: 20.29%, sell: 51.5$ qty. 8\n",
      "452874 (BMXART0814 Schneider Electric) margin: 20.29%, sell: 969.75$ qty. 8\n",
      "452874 (BMXAMI0810 Schneider Electric) margin: 20.29%, sell: 851.83$ qty. 4\n",
      "452874 (BMXDDO1602 Schneider Electric) margin: 20.29%, sell: 262.2$ qty. 4\n",
      "452874 (BMXDDI1602 Schneider Electric) margin: 20.29%, sell: 188.06$ qty. 4\n",
      "452874 (BMEP581020 Schneider Electric) margin: 20.29%, sell: 2141.48$ qty. 4\n",
      "452874 (BMENOC0301 Schneider Electric) margin: 20.29%, sell: 1534.29$ qty. 4\n",
      "452874 (BMXFCW301S Schneider Electric) margin: 20.29%, sell: 81.17$ qty. 8\n",
      "452874 (BMXCPS3500 Schneider Electric) margin: 20.29%, sell: 594.65$ qty. 4\n",
      "452874 (BMEXBP1200 Schneider Electric) margin: 20.29%, sell: 447.87$ qty. 4\n",
      "452874 (BMXNOM0200 Schneider Electric) margin: 20.29%, sell: 769.03$ qty. 4\n",
      "452874 (BMXFTW308S Schneider Electric) margin: 20.29%, sell: 93.84$ qty. 4\n",
      "\n",
      "\n"
     ]
    }
   ],
   "source": [
    "print(ClientStatisticsService.get_purchase_history_str(client_history))"
   ]
  },
  {
   "cell_type": "code",
   "execution_count": null,
   "id": "91f70e9e-a788-4e4b-9a80-443c26ec1e3d",
   "metadata": {},
   "outputs": [],
   "source": []
  }
 ],
 "metadata": {
  "kernelspec": {
   "display_name": "venv",
   "language": "python",
   "name": "venv"
  },
  "language_info": {
   "codemirror_mode": {
    "name": "ipython",
    "version": 3
   },
   "file_extension": ".py",
   "mimetype": "text/x-python",
   "name": "python",
   "nbconvert_exporter": "python",
   "pygments_lexer": "ipython3",
   "version": "3.12.2"
  }
 },
 "nbformat": 4,
 "nbformat_minor": 5
}
