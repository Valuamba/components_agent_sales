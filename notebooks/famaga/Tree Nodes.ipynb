{
 "cells": [
  {
   "cell_type": "code",
   "execution_count": 1,
   "id": "19605ab5-5bcb-428d-a199-1a505e787158",
   "metadata": {},
   "outputs": [],
   "source": [
    "class TreeNode:\n",
    "    def __init__(self, description, action=None, yes=None, no=None):\n",
    "        self.description = description\n",
    "        self.action = action\n",
    "        self.yes = yes\n",
    "        self.no = no\n",
    "\n",
    "    def add_yes_node(self, node):\n",
    "        self.yes = node\n",
    "\n",
    "    def add_no_node(self, node):\n",
    "        self.no = node\n",
    "\n",
    "# Define the nodes with actions and conditions\n",
    "root = TreeNode(\"Анализ волатильности цены в истории клиента\", action=\"Получить историю покупок товара\")\n",
    "\n",
    "price_changed_condition = TreeNode(\"Цена изменилась?\")\n",
    "root.add_yes_node(price_changed_condition)\n",
    "\n",
    "justification_exists_condition = TreeNode(\"Есть ли обоснование от нас почему цена изменилась?\")\n",
    "price_changed_condition.add_yes_node(justification_exists_condition)\n",
    "\n",
    "price_direction_condition = TreeNode(\"Цена изменилась в большую или меньшую сторону?\")\n",
    "justification_exists_condition.add_no_node(price_direction_condition)\n",
    "\n",
    "# Link the 'No' paths where necessary\n",
    "root.add_no_node(TreeNode(\"Do nothing\"))\n",
    "justification_exists_condition.add_yes_node(TreeNode(\"Продолжить коммуникацию\"))\n",
    "\n",
    "# This structure now includes decision points, conditions, and linked actions.\n",
    "# You can traverse this tree based on user responses or conditions being met."
   ]
  },
  {
   "cell_type": "code",
   "execution_count": 5,
   "id": "5cd9edf8-1914-4ef9-8110-15567815022b",
   "metadata": {},
   "outputs": [
    {
     "name": "stdout",
     "output_type": "stream",
     "text": [
      "\n",
      "\n",
      "[Decision Point: Анализ волатильности цены в истории клиента]\n",
      "*   **Action: Получить историю покупок товара\n",
      "*   *   Condition: Yes\n",
      "\n",
      "\n",
      "[Decision Point: Цена изменилась?]\n",
      "*   *   Condition: Yes\n",
      "\n",
      "\n",
      "[Decision Point: Есть ли обоснование от нас почему цена изменилась?]\n",
      "*   *   Condition: Yes\n",
      "\n",
      "\n",
      "[Decision Point: Продолжить коммуникацию]\n",
      "*   *   Condition: No\n",
      "\n",
      "\n",
      "[Decision Point: Цена изменилась в большую или меньшую сторону?]\n",
      "*   *   Condition: No\n",
      "\n",
      "\n",
      "[Decision Point: Do nothing]\n"
     ]
    }
   ],
   "source": [
    "def traverse_tree(node):\n",
    "    print('\\n')\n",
    "    if node is None:\n",
    "        return\n",
    "    print(f\"[Decision Point: {node.description}]\")\n",
    "    if node.action:\n",
    "        print(f\"*   **Action: {node.action}\")\n",
    "    if node.yes:\n",
    "        print(\"*   *   Condition: Yes\")\n",
    "        traverse_tree(node.yes)\n",
    "    if node.no:\n",
    "        print(\"*   *   Condition: No\")\n",
    "        traverse_tree(node.no)\n",
    "\n",
    "# Example traversal\n",
    "traverse_tree(root)"
   ]
  },
  {
   "cell_type": "code",
   "execution_count": null,
   "id": "175c0c77-f3ca-4072-af8f-1e05a2b28b42",
   "metadata": {},
   "outputs": [],
   "source": []
  }
 ],
 "metadata": {
  "kernelspec": {
   "display_name": "gpt",
   "language": "python",
   "name": "gpt"
  },
  "language_info": {
   "codemirror_mode": {
    "name": "ipython",
    "version": 3
   },
   "file_extension": ".py",
   "mimetype": "text/x-python",
   "name": "python",
   "nbconvert_exporter": "python",
   "pygments_lexer": "ipython3",
   "version": "3.12.3"
  }
 },
 "nbformat": 4,
 "nbformat_minor": 5
}
