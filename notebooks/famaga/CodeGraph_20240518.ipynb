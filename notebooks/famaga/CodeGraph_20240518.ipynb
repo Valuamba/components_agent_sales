{
 "cells": [
  {
   "cell_type": "code",
   "execution_count": 16,
   "id": "2637a3d1-3c0c-430a-8cb1-2b33c725bd1c",
   "metadata": {},
   "outputs": [],
   "source": [
    "from neo4j import GraphDatabase\n",
    "\n",
    "# Connection setup\n",
    "uri = \"bolt://localhost:7687\"\n",
    "driver = GraphDatabase.driver(uri, auth=(\"neo4j\", \"16zomole\"))  # Replace with your credentials\n",
    "\n",
    "def add_ast(tx, node_id, node_type, name=None):\n",
    "    \"\"\" Function to add an AST node to the Neo4j database \"\"\"\n",
    "    if name:\n",
    "        query = (\n",
    "            \"CREATE (n:ASTNode {id: $node_id, type: $node_type, name: $name}) \"\n",
    "            \"RETURN n\"\n",
    "        )\n",
    "        result = tx.run(query, node_id=node_id, node_type=node_type, name=name)\n",
    "    else:\n",
    "        query = (\n",
    "            \"CREATE (n:ASTNode {id: $node_id, type: $node_type}) \"\n",
    "            \"RETURN n\"\n",
    "        )\n",
    "        result = tx.run(query, node_id=node_id, node_type=node_type)\n",
    "    return result.single()[0]\n",
    "\n",
    "def add_relationship(tx, parent_id, child_id):\n",
    "    \"\"\" Function to add a relationship between two AST nodes \"\"\"\n",
    "    query = (\n",
    "        \"MATCH (a:ASTNode), (b:ASTNode) \"\n",
    "        \"WHERE a.id = $parent_id AND b.id = $child_id \"\n",
    "        \"CREATE (a)-[:PARENT_OF]->(b)\"\n",
    "    )\n",
    "    tx.run(query, parent_id=parent_id, child_id=child_id)\n"
   ]
  },
  {
   "cell_type": "code",
   "execution_count": 17,
   "id": "e26425dd-9556-47c8-8059-0057d6e51f53",
   "metadata": {},
   "outputs": [],
   "source": [
    "def main():\n",
    "    # Hardcoded AST nodes (simplified version of your structure)\n",
    "    ast_nodes = {\n",
    "        \"file\": (\"File\", \"main\"),\n",
    "        \"import\": (\"GenDecl\", \"import\"),\n",
    "        \"func\": (\"FuncDecl\", \"main\"),\n",
    "    }\n",
    "\n",
    "    # Relationships based on AST structure\n",
    "    relationships = [\n",
    "        (\"file\", \"import\"),\n",
    "        (\"file\", \"func\"),\n",
    "    ]\n",
    "\n",
    "    with driver.session() as session:\n",
    "        # Adding nodes\n",
    "        for node_id, (node_type, name) in ast_nodes.items():\n",
    "            session.write_transaction(add_ast, node_id, node_type, name)\n",
    "\n",
    "        # Adding relationships\n",
    "        for parent_id, child_id in relationships:\n",
    "            session.write_transaction(add_relationship, parent_id, child_id)\n",
    "\n",
    "        print(\"AST loaded into Neo4j successfully!\")\n"
   ]
  },
  {
   "cell_type": "code",
   "execution_count": 18,
   "id": "d857d3c4-5219-4102-9322-6d63c195fa84",
   "metadata": {},
   "outputs": [
    {
     "name": "stdout",
     "output_type": "stream",
     "text": [
      "AST loaded into Neo4j successfully!\n"
     ]
    },
    {
     "name": "stderr",
     "output_type": "stream",
     "text": [
      "/var/folders/x2/0f74_mmn0ts5qbnsn_wp241w0000gn/T/ipykernel_5259/3396984112.py:18: DeprecationWarning: write_transaction has been renamed to execute_write\n",
      "  session.write_transaction(add_ast, node_id, node_type, name)\n",
      "/var/folders/x2/0f74_mmn0ts5qbnsn_wp241w0000gn/T/ipykernel_5259/3396984112.py:22: DeprecationWarning: write_transaction has been renamed to execute_write\n",
      "  session.write_transaction(add_relationship, parent_id, child_id)\n"
     ]
    }
   ],
   "source": [
    "main()"
   ]
  },
  {
   "cell_type": "code",
   "execution_count": 24,
   "id": "f09abc47-b22d-4a4b-93ba-c5af6b02971e",
   "metadata": {},
   "outputs": [],
   "source": [
    "def get_ast_node(tx, node_id):\n",
    "    \"\"\" Function to retrieve an AST node from the Neo4j database \"\"\"\n",
    "    query = \"MATCH (n:ASTNode {id: $node_id}) RETURN n\"\n",
    "    result = tx.run(query, node_id=node_id)\n",
    "    record = result.single()  # Get the single record if available\n",
    "    return record[\"n\"] if record else None\n",
    "\n",
    "\n",
    "def get_children(tx, parent_id):\n",
    "    \"\"\" Function to retrieve child nodes of a specified parent node \"\"\"\n",
    "    query = (\n",
    "        \"MATCH (p:ASTNode {id: $parent_id})-[:PARENT_OF]->(c:ASTNode) \"\n",
    "        \"RETURN c\"\n",
    "    )\n",
    "    result = tx.run(query, parent_id=parent_id)\n",
    "    return [record[\"c\"] for record in result]\n"
   ]
  },
  {
   "cell_type": "code",
   "execution_count": 25,
   "id": "9c441645-1fa7-4eb8-b302-7d51b378d401",
   "metadata": {},
   "outputs": [
    {
     "name": "stdout",
     "output_type": "stream",
     "text": [
      "Retrieved Node: <Node element_id='4:5e1d3220-7b75-49f7-9fdd-98681d96641a:0' labels=frozenset({'ASTNode'}) properties={'name': 'main', 'id': 'file', 'type': 'File'}>\n",
      "Children of the node: [<Node element_id='4:5e1d3220-7b75-49f7-9fdd-98681d96641a:5' labels=frozenset({'ASTNode'}) properties={'name': 'main', 'id': 'func', 'type': 'FuncDecl'}>, <Node element_id='4:5e1d3220-7b75-49f7-9fdd-98681d96641a:2' labels=frozenset({'ASTNode'}) properties={'name': 'main', 'id': 'func', 'type': 'FuncDecl'}>, <Node element_id='4:5e1d3220-7b75-49f7-9fdd-98681d96641a:4' labels=frozenset({'ASTNode'}) properties={'name': 'import', 'id': 'import', 'type': 'GenDecl'}>, <Node element_id='4:5e1d3220-7b75-49f7-9fdd-98681d96641a:1' labels=frozenset({'ASTNode'}) properties={'name': 'import', 'id': 'import', 'type': 'GenDecl'}>, <Node element_id='4:5e1d3220-7b75-49f7-9fdd-98681d96641a:2' labels=frozenset({'ASTNode'}) properties={'name': 'main', 'id': 'func', 'type': 'FuncDecl'}>, <Node element_id='4:5e1d3220-7b75-49f7-9fdd-98681d96641a:1' labels=frozenset({'ASTNode'}) properties={'name': 'import', 'id': 'import', 'type': 'GenDecl'}>, <Node element_id='4:5e1d3220-7b75-49f7-9fdd-98681d96641a:5' labels=frozenset({'ASTNode'}) properties={'name': 'main', 'id': 'func', 'type': 'FuncDecl'}>, <Node element_id='4:5e1d3220-7b75-49f7-9fdd-98681d96641a:2' labels=frozenset({'ASTNode'}) properties={'name': 'main', 'id': 'func', 'type': 'FuncDecl'}>, <Node element_id='4:5e1d3220-7b75-49f7-9fdd-98681d96641a:4' labels=frozenset({'ASTNode'}) properties={'name': 'import', 'id': 'import', 'type': 'GenDecl'}>, <Node element_id='4:5e1d3220-7b75-49f7-9fdd-98681d96641a:1' labels=frozenset({'ASTNode'}) properties={'name': 'import', 'id': 'import', 'type': 'GenDecl'}>]\n"
     ]
    },
    {
     "name": "stderr",
     "output_type": "stream",
     "text": [
      "/var/folders/x2/0f74_mmn0ts5qbnsn_wp241w0000gn/T/ipykernel_5259/1186447875.py:9: DeprecationWarning: read_transaction has been renamed to execute_read\n",
      "  children = session.read_transaction(get_children, \"file\")\n"
     ]
    }
   ],
   "source": [
    "session = driver.session()\n",
    "node = session.execute_read(get_ast_node, \"file\")\n",
    "if node:\n",
    "    print(\"Retrieved Node:\", node)\n",
    "else:\n",
    "    print(\"Node not found.\")\n",
    "\n",
    "        # Get children of a specific node\n",
    "children = session.read_transaction(get_children, \"file\")\n",
    "print(\"Children of the node:\", [child for child in children])\n"
   ]
  },
  {
   "cell_type": "code",
   "execution_count": 27,
   "id": "ebc2eeee-c666-45c9-8e00-4ad834bada1f",
   "metadata": {},
   "outputs": [],
   "source": [
    "node = session.execute_read(get_ast_node, \"file\")\n"
   ]
  },
  {
   "cell_type": "code",
   "execution_count": 28,
   "id": "e4f93ea1-8eb4-4b43-8c02-37c72f0d4f6f",
   "metadata": {},
   "outputs": [
    {
     "data": {
      "text/plain": [
       "<Node element_id='4:5e1d3220-7b75-49f7-9fdd-98681d96641a:0' labels=frozenset({'ASTNode'}) properties={'name': 'main', 'id': 'file', 'type': 'File'}>"
      ]
     },
     "execution_count": 28,
     "metadata": {},
     "output_type": "execute_result"
    }
   ],
   "source": [
    "node"
   ]
  },
  {
   "cell_type": "code",
   "execution_count": null,
   "id": "e6d47e77-05ad-4f7d-b2bb-9417cb222465",
   "metadata": {},
   "outputs": [],
   "source": []
  }
 ],
 "metadata": {
  "kernelspec": {
   "display_name": "Python 3 (ipykernel)",
   "language": "python",
   "name": "python3"
  },
  "language_info": {
   "codemirror_mode": {
    "name": "ipython",
    "version": 3
   },
   "file_extension": ".py",
   "mimetype": "text/x-python",
   "name": "python",
   "nbconvert_exporter": "python",
   "pygments_lexer": "ipython3",
   "version": "3.12.3"
  }
 },
 "nbformat": 4,
 "nbformat_minor": 5
}
