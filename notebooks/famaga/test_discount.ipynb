{
 "cells": [
  {
   "cell_type": "code",
   "execution_count": 51,
   "id": "d82b9a76-e03d-4057-a4bb-2ac0752581bb",
   "metadata": {},
   "outputs": [],
   "source": [
    "import openai\n",
    "from dotenv import load_dotenv"
   ]
  },
  {
   "cell_type": "code",
   "execution_count": 52,
   "id": "19e5021d-6207-4921-85d0-f0f2e0c8c9eb",
   "metadata": {},
   "outputs": [
    {
     "data": {
      "text/plain": [
       "True"
      ]
     },
     "execution_count": 52,
     "metadata": {},
     "output_type": "execute_result"
    }
   ],
   "source": [
    "load_dotenv()"
   ]
  },
  {
   "cell_type": "code",
   "execution_count": 53,
   "id": "e91d59b9-7717-4a76-8e73-843edf316ab0",
   "metadata": {},
   "outputs": [],
   "source": [
    "client = openai.OpenAI()"
   ]
  },
  {
   "cell_type": "code",
   "execution_count": 2,
   "id": "99cd7358-983b-4aac-84cf-0354b5974275",
   "metadata": {},
   "outputs": [
    {
     "name": "stderr",
     "output_type": "stream",
     "text": [
      "C:\\Users\\MGroup\\components_agent_sales\\notebooks\\famaga\\prompts\\discounts\\block_schema.py:1: SyntaxWarning: invalid escape sequence '\\['\n",
      "  build_block_schema = \"\"\"\n",
      "C:\\Users\\MGroup\\components_agent_sales\\notebooks\\famaga\\prompts\\discounts\\block_schema.py:199: SyntaxWarning: invalid escape sequence '\\['\n",
      "  correct_block_schema = \"\"\"\n"
     ]
    }
   ],
   "source": [
    "import sys\n",
    "import os\n",
    "\n",
    "# Add the parent directory to sys.path to find the 'prompts' module\n",
    "# sys.path.append(os.path.dirname(os.path.dirname(os.path.abspath(__file__))))\n",
    "\n",
    "import prompts.discounts.block_schema"
   ]
  },
  {
   "cell_type": "markdown",
   "id": "009a3ce2-7b0e-45f6-bf55-421e1b3a5874",
   "metadata": {},
   "source": [
    "# Classify intent and generate index, annotation tags"
   ]
  },
  {
   "cell_type": "code",
   "execution_count": 62,
   "id": "dfe86acb-f83d-4371-afff-b06c788be571",
   "metadata": {},
   "outputs": [
    {
     "name": "stdout",
     "output_type": "stream",
     "text": [
      "Updated\n"
     ]
    },
    {
     "name": "stderr",
     "output_type": "stream",
     "text": [
      "C:\\Users\\MGroup\\components_agent_sales\\notebooks\\famaga\\prompts\\discounts\\block_schema.py:1: SyntaxWarning: invalid escape sequence '\\['\n",
      "  build_block_schema = \"\"\"\n",
      "C:\\Users\\MGroup\\components_agent_sales\\notebooks\\famaga\\prompts\\discounts\\block_schema.py:199: SyntaxWarning: invalid escape sequence '\\['\n",
      "  correct_block_schema = \"\"\"\n"
     ]
    }
   ],
   "source": [
    "import prompts.discounts.block_schema\n",
    "from importlib import reload\n",
    "import utils\n",
    "\n",
    "reload(prompts.discounts.block_schema)\n",
    "reload(utils)\n",
    "\n",
    "\n",
    "from prompts.discounts.block_schema import correct_block_schema, generate_different_scenarious_by_decision_points, \\\n",
    "    generate_thread_metadata_by_scenario, company_system_message, example_scenarios_V1, \\\n",
    "    get_fields_for_scneraios_from_block_schema, RESULT_BLOCK_SCHEMA, generated_scenarios_v1, \\\n",
    "    continue_generating_different_scenarious_by_decision_points, generated_scenarios_without_points_v2, \\\n",
    "    example_scenarios_V2\n",
    "\n",
    "from utils import get_scenarios\n",
    "\n",
    "\n",
    "print('Updated')"
   ]
  },
  {
   "cell_type": "code",
   "execution_count": 48,
   "id": "1a9e3d6b-f69b-4f1b-ad90-b18f3471be73",
   "metadata": {},
   "outputs": [],
   "source": [
    "response = client.chat.completions.create(model='gpt-4', messages=[\n",
    "    { \"role\": \"assistant\", \"content\": company_system_message},\n",
    "    { \"role\": \"user\", \"content\": different_scenarious}\n",
    "],\n",
    "temperature=0.7)"
   ]
  },
  {
   "cell_type": "code",
   "execution_count": null,
   "id": "3b0053d0-11fa-470d-af37-fadc6018d836",
   "metadata": {},
   "outputs": [],
   "source": []
  },
  {
   "cell_type": "code",
   "execution_count": null,
   "id": "328c055d-6dc0-4c26-8192-5ff867472305",
   "metadata": {},
   "outputs": [],
   "source": [
    "response = client.chat.completions.create(model='gpt-4', messages=[\n",
    "    { \"role\": \"assistant\", \"content\": company_system_message},\n",
    "    { \"role\": \"user\", \"content\": get_fields_for_scneraios_from_block_schema}\n",
    "],\n",
    "temperature=0.7)\n",
    "\n",
    "print(response.choices[0].message.content)"
   ]
  },
  {
   "cell_type": "code",
   "execution_count": 8,
   "id": "2cd6e9a6-5f16-49c3-9451-dea3b520ac79",
   "metadata": {},
   "outputs": [
    {
     "name": "stdout",
     "output_type": "stream",
     "text": [
      "The block schema provided is already quite detailed with the decision-making points outlined. However, here are some additional decision points and questions that could help further specify the status of messages corresponding to each block.\n",
      "\n",
      "**[Block 1: Initial Contact]**\n",
      "- Decision Point: Does the customer have a history of prompt payments?\n",
      "- Decision Point: Has the customer purchased in bulk in the past?\n",
      "- Decision Point: Does the customer have a good relationship with the company?\n",
      "\n",
      "**[Block 2: Customer Stated Desired Price]**\n",
      "- Decision Point: Is the stated price significantly lower than the company's standard pricing?\n",
      "- Decision Point: Is the customer willing to negotiate the price if it is not feasible for the company?\n",
      "\n",
      "**[Block 6: Request Justification]**\n",
      "- Decision Point: Is the customer able to provide proof of the stated justification (such as a quote from another company)?\n",
      "- Decision Point: Is the justification provided by the customer reasonable and valid?\n",
      "\n",
      "**[Block 3: Return to the start of the cycle]**\n",
      "- Decision Point: Has there been a significant change in the company's pricing or the product's cost since the last cycle?\n",
      "- Decision Point: Has the customer's financial situation or demand changed since the last cycle?\n",
      "\n",
      "**[Block 4: Offer a discount and send an updated CO]**\n",
      "- Decision Point: Is the customer likely to accept the new price?\n",
      "- Decision Point: Will the discount offered significantly affect the company's profit margin?\n",
      "\n",
      "**[Block 5: Conclude the discount processing]**\n",
      "- Decision Point: Has the customer confirmed acceptance of the final price?\n",
      "- Decision Point: Has the discount been approved by the necessary company personnel or departments?\n",
      "\n",
      "These additional decision points and questions could aid in making more informed decisions throughout the process.\n"
     ]
    }
   ],
   "source": [
    "print(response.choices[0].message.content)"
   ]
  },
  {
   "cell_type": "code",
   "execution_count": 41,
   "id": "5d6bfe6f-825a-4b16-8824-203e5f520975",
   "metadata": {},
   "outputs": [
    {
     "name": "stdout",
     "output_type": "stream",
     "text": [
      "Scenario 35: \"Long-standing Customer with a New Project\"\n",
      "- Motivation: The client is a long-standing customer who is embarking on a new project requiring a specific part. The client is asking for a discount due to the potential of future bulk orders.\n",
      "- The client has a history of over 7 years with the company and has always made prompt payments.\n",
      "- The client is familiar with the product needed and has purchased it several times in the past.\n",
      "- The client requested a discount, stating the potential for future bulk orders as justification.\n",
      "- The client is purchasing a product priced between $100,000 - $150,000, in a quantity of 10 pieces, with our current margin at 20%.\n",
      "\n",
      "Scenario 36: \"Regular Customer with Competitive Price Offer\"\n",
      "- Motivation: The client is a regular customer who has received a competitive offer from another supplier. They are asking for a discount to match the competitor's price.\n",
      "- The client consistently orders from us for over 3 years.\n",
      "- The client requested a product they often purchase.\n",
      "- The client asked for a discount, providing a quote from a competitor as justification.\n",
      "- The client is purchasing a product priced between $50,000 - $60,000 in a quantity of 15 pieces, with our current margin at 35%.\n",
      "\n",
      "Scenario 37: \"New Customer with Bulk Order Request\"\n",
      "- Motivation: The client is a new customer who is looking to purchase in bulk. They are price-conscious and seeking a discount on their first order to establish a good business relationship.\n",
      "- The client is placing their first order with us.\n",
      "- The client requested a product that they need in bulk for their business.\n",
      "- The client asked for a discount, citing their bulk order and potential for future orders as justification.\n",
      "- The client is purchasing a product priced between $75,000 - $85,000, in a quantity of 50 pieces, with our current margin at 40%.\n",
      "\n",
      "Scenario 38: \"Returning Customer with Tight Budget\"\n",
      "- Motivation: The client is a returning customer who had a good experience with the company in the past. However, due to budget constraints, they are asking for a discount on their order.\n",
      "- The client came back after purchasing from us 6 months ago.\n",
      "- The client requested a product they had purchased before.\n",
      "- The client asked for a discount, specifying that their budget has been significantly reduced.\n",
      "- The client is purchasing a product priced between $45,000 - $55,000, in a quantity of 5 pieces, with our current margin at 12%.\n",
      "\n",
      "Scenario 39: \"Loyal Customer with Budget Constraints\"\n",
      "- Motivation: The client is a loyal customer who is facing budget constraints. They are asking for a discount to continue their business with the company without exceeding their budget.\n",
      "- The client has been a loyal customer for over 10 years.\n",
      "- The client requested a product that they regularly purchase.\n",
      "- The client asked for a discount, citing their budget constraints as justification.\n",
      "- The client is purchasing a product priced between $80,000 - $90,000, in a quantity of 20 pieces, with our current margin at 25%.\n"
     ]
    }
   ],
   "source": [
    "response = client.chat.completions.create(model='gpt-4', messages=[\n",
    "    { \"role\": \"assistant\", \"content\": company_system_message},\n",
    "    { \"role\": \"user\", \"content\": continue_generating_different_scenarious_by_decision_points.format(block_schema=RESULT_BLOCK_SCHEMA,\n",
    "    example_scenarios=example_scenarios_V2, early_generated_scenarios=get_scenarios(),\n",
    "    decision_points=\"\"\"\n",
    "**[Block 1: Initial Contact]**\n",
    "- Decision Point: Does the customer have a history of prompt payments?\n",
    "- Decision Point: Has the customer purchased in bulk in the past?\n",
    "- Decision Point: Does the customer have a good relationship with the company?\n",
    "\n",
    "**[Block 2: Customer Stated Desired Price]**\n",
    "- Decision Point: Is the stated price significantly lower than the company's standard pricing?\n",
    "- Decision Point: Is the customer willing to negotiate the price if it is not feasible for the company?\n",
    "\n",
    "**[Block 6: Request Justification]**\n",
    "- Decision Point: Is the customer able to provide proof of the stated justification (such as a quote from another company)?\n",
    "- Decision Point: Is the justification provided by the customer reasonable and valid?\n",
    "\n",
    "**[Block 3: Return to the start of the cycle]**\n",
    "- Decision Point: Has there been a significant change in the company's pricing or the product's cost since the last cycle?\n",
    "- Decision Point: Has the customer's financial situation or demand changed since the last cycle?\n",
    "\n",
    "**[Block 4: Offer a discount and send an updated CO]**\n",
    "- Decision Point: Is the customer likely to accept the new price?\n",
    "- Decision Point: Will the discount offered significantly affect the company's profit margin?\n",
    "\n",
    "**[Block 5: Conclude the discount processing]**\n",
    "- Decision Point: Has the customer confirmed acceptance of the final price?\n",
    "- Decision Point: Has the discount been approved by the necessary company personnel or departments?\n",
    "\n",
    "Addition decision points:\n",
    "- Decision Point: Has the customer KPI about asking supplier about discounts?\n",
    "- Decision Point: Does the customer asks abount discount because he always asking about discount?\n",
    "\"\"\"\n",
    "                                                                                  )}\n",
    "],\n",
    "temperature=0.7)\n",
    "\n",
    "print(response.choices[0].message.content)"
   ]
  },
  {
   "cell_type": "code",
   "execution_count": 58,
   "id": "ce2ca39a-d68b-470c-8d69-4813e4872806",
   "metadata": {},
   "outputs": [],
   "source": [
    "message = \"\"\"\n",
    "Good day, Very dear Mr. Janura,we have received your order! Goods are ready for collection. \n",
    "EUR-Pallet Weight: 37 kg Dimensions: 120x83x55 cm Address for Pickup: FAMAGA Group GmbH & Co. KG Hinter den Kirschkaten 83 23560, \n",
    "L\\u00fcbeck Germany Contact Person: Irina Piltschik irina.p@famaga.de Please, put in CC logistics@famaga.de +49 (0) 451 98 92 06 81 \n",
    "Please send me the label after it will be prepared to inform our logistics. Wish you a nice day!\n",
    "\"\"\"\n",
    "\n",
    "message2 = \"\"\"\n",
    "Hello So as not to waste precious time. We order devices from offer no. 440822 of friday, 29 september 2023 . \n",
    "If possible, please provide an additional discount on your purchase. Please confirm acceptance of our order. \n",
    "In the meantime, once you know what the transport cost will be, we will discuss how to deliver the parcel to us or whether we will collect it ourselves\n",
    "\"\"\""
   ]
  },
  {
   "cell_type": "code",
   "execution_count": 59,
   "id": "08c01939-9aea-4fae-bf54-7ccfbe1c36b4",
   "metadata": {},
   "outputs": [
    {
     "name": "stdout",
     "output_type": "stream",
     "text": [
      "Hello, waste, precious, time, order, devices, offer, 440822, Friday, 29, September, 2023, possible, provide, additional, discount, purchase, confirm, acceptance, meantime, transport, cost, discuss, deliver, parcel, collect, ourselves.\n"
     ]
    }
   ],
   "source": [
    "response = client.chat.completions.create(model='gpt-4', messages=[\n",
    "    { \"role\": \"assistant\", \"content\": company_system_message},\n",
    "    { \"role\": \"user\", \"content\": f\"You are vector database, please create index words from this message: {message2}\"}\n",
    "],\n",
    "temperature=0.7)\n",
    "\n",
    "print(response.choices[0].message.content)"
   ]
  },
  {
   "cell_type": "code",
   "execution_count": null,
   "id": "651dd3f0-1cc8-48b7-855a-3c3d6afc2a76",
   "metadata": {},
   "outputs": [],
   "source": [
    "Good day, Mr. Janura, order, received, goods, ready, collection, EUR-Pallet, weight, 37 kg, dimensions, 120x83x55 cm, pickup, address, FAMAGA Group GmbH & Co. KG, Hinter den Kirschkaten 83, 23560, Lübeck, Germany, contact person, Irina Piltschik, irina.p@famaga.de, CC, logistics@famaga.de, +49 (0) 451 98 92 06 81, label, prepared, inform, logistics, nice day."
   ]
  },
  {
   "cell_type": "code",
   "execution_count": 60,
   "id": "f879ec1e-c17d-417f-8d5f-c7f25be8da3a",
   "metadata": {},
   "outputs": [],
   "source": [
    "from utils import get_scenarios"
   ]
  },
  {
   "cell_type": "code",
   "execution_count": null,
   "id": "9e340140-b715-4a13-a64a-18a80245820a",
   "metadata": {},
   "outputs": [],
   "source": [
    "get_scenarios(generated_scenarios_v1)"
   ]
  },
  {
   "cell_type": "code",
   "execution_count": null,
   "id": "4ca708a4-0a62-4e84-9d0d-d25728908153",
   "metadata": {},
   "outputs": [],
   "source": [
    "{\n",
    "    \"input_message_classification\": {\n",
    "        \"from\": \"customer\",\n",
    "        \"body\": \"Hello So as not to waste precious time. We order devices from offer no. 440822 of friday, 29 september 2023 . If possible, please provide an additional discount on your purchase. Please confirm acceptance of our order. In the meantime, once you know what the transport cost will be, we will discuss how to deliver the parcel to us or whether we will collect it ourselves\",  \n",
    "        \"intents\": [\n",
    "                        {\n",
    "                            \"intent\": \"Order Processing\",\n",
    "                            \"sub_intent\": \"Order Placement Confirmation\",\n",
    "                            \"branch\": \"Sales\"\n",
    "                        },\n",
    "                        {\n",
    "                            \"intent\": \"Order Processing\",\n",
    "                            \"sub_intent\": \"Order Acceptance Confirmation\",\n",
    "                            \"branch\": \"Sales\"\n",
    "                        },\n",
    "                        {\n",
    "                            \"intent\": \"Pricing and Quotes\",\n",
    "                            \"sub_intent\": \"Discount Inquiry\",\n",
    "                            \"branch\": \"Sales\"\n",
    "                        },\n",
    "                        {\n",
    "                            \"intent\": \"Pricing and Quotes\",\n",
    "                            \"sub_intent\": \"Transport Cost Inquiry\",\n",
    "                            \"branch\": \"Sales\"\n",
    "                        },\n",
    "                        {\n",
    "                            \"intent\": \"Delivery and Shipping\",\n",
    "                            \"sub_intent\": \"Delivery Method Discussion\",\n",
    "                            \"branch\": \"Logistics\"\n",
    "                        },\n",
    "                        {\n",
    "                            \"intent\": \"Delivery and Shipping\",\n",
    "                            \"sub_intent\": \"Discussing Logistics\",\n",
    "                            \"branch\": \"Logistics\"\n",
    "                        }\n",
    "        ]\n",
    "    },\n",
    "    \"response\": {\n",
    "        \"from\": \"manager\",\n",
    "        \"body\": \"Good day, Very dear Mr. Janura, I am waiting for a dimmensions of package from a manufacturer and then I will inform you, what shipping price will be\",\n",
    "        \"intents\": [\n",
    "                        {\n",
    "                            \"intent\": \"Delivery and Shipping\",\n",
    "                            \"sub_intent\": \"Shipping Cost Update\",\n",
    "                            \"branch\": \"Logistics\"\n",
    "                        }\n",
    "        ]             \n",
    "    },\n",
    "    \"task\": {\n",
    "        \"assignee\": \"sales-manager\",\n",
    "        \"summary\": \"I have no responsibility to answer on customer requests about discount, please help.\"\n",
    "    }\n",
    "}"
   ]
  },
  {
   "cell_type": "code",
   "execution_count": null,
   "id": "6a366ca2-be12-47a1-9de2-b386e3ad748f",
   "metadata": {},
   "outputs": [],
   "source": [
    "table Message:\n",
    "    id: int (not incrementing)\n",
    "    peer_id: uuid PK\n",
    "    body: big text string\n",
    "    from_type: 0 or 1 (where manager=0, customer=1)\n",
    "    sent_at: utc datetime\n",
    "    reply_to: FK Message peer_id\n",
    "    deal_id: FK Deal deal_id\n",
    "    intents: Json Array of objects\n",
    "    feedback_id: FK Feedback\n",
    "    created_at: datetime utc\n",
    "    updated_at: datetime utc\n",
    "\n",
    "table Deal:\n",
    "    deal_id: int PK (non incremented)\n",
    "    subject: string\n",
    "    country: string\n",
    "    domain: string\n",
    "    email: string\n",
    "    office_country: string\n",
    "    phone_number: string\n",
    "    created_at: datetime utc\n",
    "    updated_at: datetime utc\n",
    "\n",
    "table Feedback:\n",
    "    id: int auto-increment\n",
    "    feedback_types: int[] (could be values 0, 1, 2, 3)\n",
    "    commentary: string\n",
    "    created_at: datetime utc\n",
    "    updated_at: datetime utc"
   ]
  },
  {
   "cell_type": "code",
   "execution_count": 74,
   "id": "6ce61fd7-11c5-4412-9bba-01f8d8b92043",
   "metadata": {},
   "outputs": [],
   "source": [
    "p = \"\"\"\n",
    "Convert this code to code that use SQL alchemy as a Database engine:\n",
    "```\n",
    " def get_top_relevant_messages(self, embeddings, k=3):\n",
    "    try:\n",
    "        query = f'''\n",
    "            WITH vector_matches AS (\n",
    "                SELECT brand_id, name, embedding <=> '{embeddings}' AS distance\n",
    "                FROM {self.vector_collection_name}\n",
    "            )\n",
    "            SELECT brand_id, name, distance\n",
    "            FROM vector_matches\n",
    "            ORDER BY distance\n",
    "            LIMIT :k;\n",
    "        '''\n",
    "\n",
    "        with self.Session() as session:\n",
    "            result = session.execute(text(query), {\"k\": k})\n",
    "            all_matches = result.fetchall()\n",
    "\n",
    "        relevant_matches = []\n",
    "        print('All matches:')\n",
    "        for doc in all_matches:\n",
    "            print(f'-- {round(doc[2], 2)}: {doc[1]}')\n",
    "\n",
    "            if round(doc[2], 2) <= float(self.similarity_search_limit):\n",
    "                relevant_matches.append({\n",
    "                    \"document\": doc,\n",
    "                    \"score\": doc[2]\n",
    "                })\n",
    "\n",
    "        if len(relevant_matches) == 0:\n",
    "            print(\"No relevant matches found\")\n",
    "        else:\n",
    "            print(\"Relevant matches: \")\n",
    "            [print(f'-- {round(doc[\"score\"], 2)}: {doc[\"document\"][2]}') for doc in relevant_matches]\n",
    "        return relevant_matches\n",
    "    except Exception as e:\n",
    "        print(f\"[get_top_relevant_messages] {type(e).__name__} exception: {e}\")\n",
    "        return []\n",
    "```\n",
    "\n",
    "I define start of class:\n",
    "```\n",
    "class EmbeddingRepository:\n",
    "    def __init__(self, session: Session, vector_collection_name, similarity_search_limit):\n",
    "        self.session = session\n",
    "        self.vector_collection_name = vector_collection_name\n",
    "        self.similarity_search_limit = similarity_search_limit\n",
    "```\n",
    "\n",
    "Please use SQL for querying if it not possible modify my code to do this. I want to see this query:\n",
    "query = f'''\n",
    "                WITH vector_matches AS (\n",
    "                    SELECT brand_id, name, embedding <=> :embeddings AS distance\n",
    "                    FROM {self.vector_collection_name}\n",
    "                )\n",
    "                SELECT brand_id, name, distance\n",
    "                FROM vector_matches\n",
    "                ORDER BY distance\n",
    "                LIMIT :k;\n",
    "'''\n",
    "\"\"\""
   ]
  },
  {
   "cell_type": "code",
   "execution_count": 75,
   "id": "c70ba6ca-62dd-45e9-924b-9ad4c12a86cd",
   "metadata": {},
   "outputs": [
    {
     "name": "stdout",
     "output_type": "stream",
     "text": [
      "Here is your code converted to use SQLAlchemy:\n",
      "\n",
      "```python\n",
      "from sqlalchemy import text\n",
      "\n",
      "class EmbeddingRepository:\n",
      "    def __init__(self, session: Session, vector_collection_name, similarity_search_limit):\n",
      "        self.session = session\n",
      "        self.vector_collection_name = vector_collection_name\n",
      "        self.similarity_search_limit = similarity_search_limit\n",
      "\n",
      "    def get_top_relevant_messages(self, embeddings, k=3):\n",
      "        try:\n",
      "            query = f'''\n",
      "                WITH vector_matches AS (\n",
      "                    SELECT brand_id, name, embedding <=> :embeddings AS distance\n",
      "                    FROM {self.vector_collection_name}\n",
      "                )\n",
      "                SELECT brand_id, name, distance\n",
      "                FROM vector_matches\n",
      "                ORDER BY distance\n",
      "                LIMIT :k;\n",
      "            '''\n",
      "\n",
      "            result = self.session.execute(text(query), {\"embeddings\": embeddings, \"k\": k})\n",
      "            all_matches = result.fetchall()\n",
      "\n",
      "            relevant_matches = []\n",
      "            print('All matches:')\n",
      "            for doc in all_matches:\n",
      "                print(f'-- {round(doc[2], 2)}: {doc[1]}')\n",
      "\n",
      "                if round(doc[2], 2) <= float(self.similarity_search_limit):\n",
      "                    relevant_matches.append({\n",
      "                        \"document\": doc,\n",
      "                        \"score\": doc[2]\n",
      "                    })\n",
      "\n",
      "            if len(relevant_matches) == 0:\n",
      "                print(\"No relevant matches found\")\n",
      "            else:\n",
      "                print(\"Relevant matches: \")\n",
      "                [print(f'-- {round(doc[\"score\"], 2)}: {doc[\"document\"][2]}') for doc in relevant_matches]\n",
      "            return relevant_matches\n",
      "        except Exception as e:\n",
      "            print(f\"[get_top_relevant_messages] {type(e).__name__} exception: {e}\")\n",
      "            return []\n",
      "```\n",
      "\n",
      "In this code, I've replaced `self.Session()` with `self.session` and used `self.session.execute()` to execute the SQL query. The `text()` function from SQLAlchemy is used to create a SQL expression that can be used in a SQLAlchemy query. The parameters for the query are passed as a dictionary to the `execute()` function.\n"
     ]
    }
   ],
   "source": [
    "response = client.chat.completions.create(model='gpt-4', messages=[\n",
    "    { \"role\": \"user\", \"content\": p}\n",
    "],\n",
    "temperature=0.2)\n",
    "\n",
    "print(response.choices[0].message.content)"
   ]
  },
  {
   "cell_type": "code",
   "execution_count": null,
   "id": "0884d5a4-31dd-460d-a04f-857701d9e731",
   "metadata": {},
   "outputs": [],
   "source": []
  }
 ],
 "metadata": {
  "kernelspec": {
   "display_name": "Python 3 (ipykernel)",
   "language": "python",
   "name": "python3"
  },
  "language_info": {
   "codemirror_mode": {
    "name": "ipython",
    "version": 3
   },
   "file_extension": ".py",
   "mimetype": "text/x-python",
   "name": "python",
   "nbconvert_exporter": "python",
   "pygments_lexer": "ipython3",
   "version": "3.12.3"
  }
 },
 "nbformat": 4,
 "nbformat_minor": 5
}
