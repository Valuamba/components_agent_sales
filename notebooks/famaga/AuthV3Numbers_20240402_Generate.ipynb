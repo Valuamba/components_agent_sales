{
 "cells": [
  {
   "cell_type": "code",
   "execution_count": 1,
   "id": "ea42a84b-3611-42f1-b043-c7007518a7d8",
   "metadata": {},
   "outputs": [
    {
     "name": "stdout",
     "output_type": "stream",
     "text": [
      "Updated\n"
     ]
    }
   ],
   "source": [
    "import openai\n",
    "from dotenv import load_dotenv\n",
    "import os\n",
    "from IPython.display import display, Markdown\n",
    "\n",
    "\n",
    "FAMAGA_DOWNLOAD_HTML_URL = \"https://test-api.famaga.org/imap\"\n",
    "FAMAGA_DOWNLOAD_HTML_TOKEN = \"YXBpZmFtYWdhcnU6RHpJVFd1Lk1COUV4LjNmdERsZ01YYlcvb0VFcW9NLw\"\n",
    "EXTRACTED_DEALS_DATABASE_PATH = 'extracted_deals_messaging.db'\n",
    "CLIENTS_HISTORY_PATH = r'C:\\Users\\MGroup\\Documents\\products.json'\n",
    "GPT_DB_LOGGER_PATH = 'sqlite:///prompt_versions.db'\n",
    "\n",
    "AGENTS_API_URL = 'http://localhost:8000'\n",
    "\n",
    "from importlib import reload\n",
    "import clients\n",
    "\n",
    "reload(clients)\n",
    "\n",
    "from clients.agents import AgentsAPIClient\n",
    "from clients.client_statistics import ClientStatisticsService\n",
    "from clients.clients_deals_history import ClientDealsHistoryRepository\n",
    "from clients.email_downloader import EmailDownloader\n",
    "from clients.extracted_deals import ExtractedDealsRepository\n",
    "from clients.gpt_database_logger import GPTDatabaseLogger\n",
    "from clients.msg_html_extracter import MsgHtmlExtracter\n",
    "\n",
    "print('Updated')\n",
    "\n",
    "deals_rep = ExtractedDealsRepository(EXTRACTED_DEALS_DATABASE_PATH)\n"
   ]
  },
  {
   "cell_type": "code",
   "execution_count": 2,
   "id": "43ad83f1-50e3-4466-b356-f5224d527198",
   "metadata": {},
   "outputs": [],
   "source": [
    "db_logger = GPTDatabaseLogger(GPT_DB_LOGGER_PATH)"
   ]
  },
  {
   "cell_type": "code",
   "execution_count": 4,
   "id": "680fe20d-107f-4d13-b535-4ddb9bb35214",
   "metadata": {},
   "outputs": [
    {
     "name": "stdout",
     "output_type": "stream",
     "text": [
      "During the review of applications from IOS and Android, a test account is required. For this, we have formulated the following requirements:\n",
      "\n",
      "The mobile phone of the test account should in no way belong to any client. Ideally, the phone number should be non-existent and should not be easily guessed. For example: 7-000-XXX-XX-XX, the digits should be different and not in sequence.\n",
      "Bad phone number options:\n",
      "7-999-999-99-99\n",
      "7-000-123-45-67\n",
      "7-000-987-65-43\n",
      "7-000-123-43-21\n",
      "The confirmation code (also known as OTP) should be 6-digit (for all accounts) and should not be easily guessed. Part of the phone number should not be used either!\n",
      "Bad code options:\n",
      "000 000\n",
      "999 999\n",
      "123 321\n",
      "474 747\n",
      "535 535\n",
      "If for some reason your test number should correspond to a user-id, it should also in no way belong to any real client and should be strictly associated with the test number. The user-id should also not be easily guessed:\n",
      "Bad user-id options:\n",
      "99999\n",
      "122223\n",
      "\n",
      "--------------------\n",
      "\n",
      "Note saved without feedback. ID: e54bc536-495e-45db-9bbb-6e916615b98d\n",
      "Input tokens: 463 Output tokens: 243 Total price: 0.03$\n",
      "\n",
      "\n"
     ]
    },
    {
     "data": {
      "application/vnd.jupyter.widget-view+json": {
       "model_id": "dfca0eb2cfea466d9bb1225cbfbfeb1b",
       "version_major": 2,
       "version_minor": 0
      },
      "text/plain": [
       "HBox(children=(Button(button_style='success', description='👍 Like', style=ButtonStyle(), tooltip='Like this co…"
      ]
     },
     "metadata": {},
     "output_type": "display_data"
    },
    {
     "data": {
      "application/vnd.jupyter.widget-view+json": {
       "model_id": "e9c94963c4794b99ae6dc7b957a63aa0",
       "version_major": 2,
       "version_minor": 0
      },
      "text/plain": [
       "Textarea(value='', description='Feedback:', layout=Layout(height='80px', width='70%'), placeholder='Type your …"
      ]
     },
     "metadata": {},
     "output_type": "display_data"
    },
    {
     "data": {
      "application/vnd.jupyter.widget-view+json": {
       "model_id": "168425d728014cac807834fd19a8ee55",
       "version_major": 2,
       "version_minor": 0
      },
      "text/plain": [
       "Button(button_style='success', description='Submit Feedback', style=ButtonStyle(), tooltip='Click to submit fe…"
      ]
     },
     "metadata": {},
     "output_type": "display_data"
    },
    {
     "data": {
      "text/plain": [
       "'During the review of applications from IOS and Android, a test account is required. For this, we have formulated the following requirements:\\n\\nThe mobile phone of the test account should in no way belong to any client. Ideally, the phone number should be non-existent and should not be easily guessed. For example: 7-000-XXX-XX-XX, the digits should be different and not in sequence.\\nBad phone number options:\\n7-999-999-99-99\\n7-000-123-45-67\\n7-000-987-65-43\\n7-000-123-43-21\\nThe confirmation code (also known as OTP) should be 6-digit (for all accounts) and should not be easily guessed. Part of the phone number should not be used either!\\nBad code options:\\n000 000\\n999 999\\n123 321\\n474 747\\n535 535\\nIf for some reason your test number should correspond to a user-id, it should also in no way belong to any real client and should be strictly associated with the test number. The user-id should also not be easily guessed:\\nBad user-id options:\\n99999\\n122223'"
      ]
     },
     "execution_count": 4,
     "metadata": {},
     "output_type": "execute_result"
    }
   ],
   "source": [
    "db_logger.create_completion(temperature=0.1, tags='authv3', model='gpt-4', messages=[\n",
    "    { \"role\": \"user\", \"content\": f\"\"\"\n",
    "        Please rewrite on english instruction: {requirements}\n",
    "    \"\"\"}                             \n",
    "    ])"
   ]
  },
  {
   "cell_type": "code",
   "execution_count": 3,
   "id": "f3f23bd7-7970-42a0-892c-741373ef7663",
   "metadata": {},
   "outputs": [],
   "source": [
    "requirements = \"\"\"\n",
    "Во время ревью приложений со стороны IOS и Android требуется наличие тестового аккаунта. Для этого мы сформировали следующие требования:\n",
    "\n",
    "Мобильный телефон тестового аккаунта ни в коем случае не должен принадлежать какому-либо клиенту. В идеале, номер телефона должен быть несуществующим, а также он не должен легко угадываться. Например: 7-000-ХХХ-ХХ-ХХ, цифры должны быть различными и не идущими по порядку.\n",
    "Плохие варианты номеров:\n",
    "7-999-999-99-99\n",
    "7-000-123-45-67\n",
    "7-000-987-65-43\n",
    "7-000-123-43-21\n",
    "Код подтверждения (он же OTP) должен быть 6-значным (вообще для всех аккаунтов), а также не должен быть легко угадываемым. Часть номера телефона тоже брать не надо!\n",
    "Плохие варианты кодов:\n",
    "000 000\n",
    "999 999\n",
    "123 321\n",
    "474 747\n",
    "535 535\n",
    "Если вдруг вашему тестовому номеру должен соответствовать какой-либо user-id, он также ни в коем случае не должен принадлежать какому-либо реальному клиенту и должен быть строго связан с тестовым номером. User-id также не должен быть легко угадываемым:\n",
    "Плохие варианты user-id:\n",
    "99999\n",
    "122223\n",
    "\"\"\""
   ]
  },
  {
   "cell_type": "code",
   "execution_count": 5,
   "id": "6fa22662-3ab8-4ddc-bf7c-67e4b7a5c2e3",
   "metadata": {},
   "outputs": [
    {
     "name": "stdout",
     "output_type": "stream",
     "text": [
      "Phone Numbers:\n",
      "1. 7-000-246-81-39\n",
      "2. 7-000-357-92-48\n",
      "3. 7-000-468-13-57\n",
      "4. 7-000-579-24-86\n",
      "5. 7-000-681-35-75\n",
      "6. 7-000-792-46-64\n",
      "7. 7-000-813-57-93\n",
      "8. 7-000-924-68-82\n",
      "9. 7-000-135-79-71\n",
      "10. 7-000-246-81-60\n",
      "11. 7-000-357-92-59\n",
      "12. 7-000-468-13-48\n",
      "13. 7-000-579-24-37\n",
      "14. 7-000-681-35-26\n",
      "15. 7-000-792-46-15\n",
      "16. 7-000-813-57-04\n",
      "17. 7-000-924-68-93\n",
      "18. 7-000-135-79-82\n",
      "19. 7-000-246-81-71\n",
      "20. 7-000-357-92-60\n",
      "21. 7-000-468-13-59\n",
      "22. 7-000-579-24-48\n",
      "23. 7-000-681-35-37\n",
      "24. 7-000-792-46-26\n",
      "25. 7-000-813-57-15\n",
      "26. 7-000-924-68-04\n",
      "27. 7-000-135-79-93\n",
      "28. 7-000-246-81-82\n",
      "29. 7-000-357-92-71\n",
      "30. 7-000-468-13-60\n",
      "31. 7-000-579-24-59\n",
      "32. 7-000-681-35-48\n",
      "33. 7-000-792-46-37\n",
      "34. 7-000-813-57-26\n",
      "35. 7-000-924-68-15\n",
      "36. 7-000-135-79-04\n",
      "37. 7-000-246-81-93\n",
      "38. 7-000-357-92-82\n",
      "39. 7-000-468-13-71\n",
      "40. 7-000-579-24-60\n",
      "41. 7-000-681-35-59\n",
      "42. 7-000-792-46-48\n",
      "43. 7-000-813-57-37\n",
      "44. 7-000-924-68-26\n",
      "45. 7-000-135-79-15\n",
      "46. 7-000-246-81-04\n",
      "47. 7-000-357-92-93\n",
      "48. 7-000-468-13-82\n",
      "49. 7-000-579-24-71\n",
      "50. 7-000-681-35-60\n",
      "51. 7-000-792-46-59\n",
      "52. 7-000-813-57-48\n",
      "53. 7-000-924-68-37\n",
      "54. 7-000-135-79-26\n",
      "55. 7-000-246-81-15\n",
      "56. 7-000-357-92-04\n",
      "57. 7-000-468-13-93\n",
      "58. 7-000-579-24-82\n",
      "59. 7-000-681-35-71\n",
      "60. 7-000-792-46-60\n",
      "\n",
      "OTP Codes:\n",
      "1. 246 813\n",
      "2. 357 924\n",
      "3. 468 135\n",
      "4. 579 246\n",
      "5. 681 357\n",
      "6. 792 468\n",
      "7. 813 579\n",
      "8. 924 681\n",
      "9. 135 792\n",
      "10. 246 813\n",
      "\n",
      "User-IDs:\n",
      "1. 2468135\n",
      "2. 3579246\n",
      "3. 4681357\n",
      "4. 5792468\n",
      "5. 6813579\n",
      "6. 7924681\n",
      "7. 8135792\n",
      "8. 9246813\n",
      "9. 1357924\n",
      "10. 2468135\n",
      "\n",
      "--------------------\n",
      "\n",
      "Note saved without feedback. ID: 09784154-f132-4881-ac0d-029bd7a53190\n",
      "Input tokens: 257 Output tokens: 929 Total price: 0.06$\n",
      "\n",
      "\n"
     ]
    },
    {
     "data": {
      "application/vnd.jupyter.widget-view+json": {
       "model_id": "1081701283ea4eb18cb372118b7e7d54",
       "version_major": 2,
       "version_minor": 0
      },
      "text/plain": [
       "HBox(children=(Button(button_style='success', description='👍 Like', style=ButtonStyle(), tooltip='Like this co…"
      ]
     },
     "metadata": {},
     "output_type": "display_data"
    },
    {
     "data": {
      "application/vnd.jupyter.widget-view+json": {
       "model_id": "79c53d74fdd24c2e8b017a2758808a4e",
       "version_major": 2,
       "version_minor": 0
      },
      "text/plain": [
       "Textarea(value='', description='Feedback:', layout=Layout(height='80px', width='70%'), placeholder='Type your …"
      ]
     },
     "metadata": {},
     "output_type": "display_data"
    },
    {
     "data": {
      "application/vnd.jupyter.widget-view+json": {
       "model_id": "45ed0d712a724f55b01f2c7d35efb9dc",
       "version_major": 2,
       "version_minor": 0
      },
      "text/plain": [
       "Button(button_style='success', description='Submit Feedback', style=ButtonStyle(), tooltip='Click to submit fe…"
      ]
     },
     "metadata": {},
     "output_type": "display_data"
    },
    {
     "data": {
      "text/plain": [
       "'Phone Numbers:\\n1. 7-000-246-81-39\\n2. 7-000-357-92-48\\n3. 7-000-468-13-57\\n4. 7-000-579-24-86\\n5. 7-000-681-35-75\\n6. 7-000-792-46-64\\n7. 7-000-813-57-93\\n8. 7-000-924-68-82\\n9. 7-000-135-79-71\\n10. 7-000-246-81-60\\n11. 7-000-357-92-59\\n12. 7-000-468-13-48\\n13. 7-000-579-24-37\\n14. 7-000-681-35-26\\n15. 7-000-792-46-15\\n16. 7-000-813-57-04\\n17. 7-000-924-68-93\\n18. 7-000-135-79-82\\n19. 7-000-246-81-71\\n20. 7-000-357-92-60\\n21. 7-000-468-13-59\\n22. 7-000-579-24-48\\n23. 7-000-681-35-37\\n24. 7-000-792-46-26\\n25. 7-000-813-57-15\\n26. 7-000-924-68-04\\n27. 7-000-135-79-93\\n28. 7-000-246-81-82\\n29. 7-000-357-92-71\\n30. 7-000-468-13-60\\n31. 7-000-579-24-59\\n32. 7-000-681-35-48\\n33. 7-000-792-46-37\\n34. 7-000-813-57-26\\n35. 7-000-924-68-15\\n36. 7-000-135-79-04\\n37. 7-000-246-81-93\\n38. 7-000-357-92-82\\n39. 7-000-468-13-71\\n40. 7-000-579-24-60\\n41. 7-000-681-35-59\\n42. 7-000-792-46-48\\n43. 7-000-813-57-37\\n44. 7-000-924-68-26\\n45. 7-000-135-79-15\\n46. 7-000-246-81-04\\n47. 7-000-357-92-93\\n48. 7-000-468-13-82\\n49. 7-000-579-24-71\\n50. 7-000-681-35-60\\n51. 7-000-792-46-59\\n52. 7-000-813-57-48\\n53. 7-000-924-68-37\\n54. 7-000-135-79-26\\n55. 7-000-246-81-15\\n56. 7-000-357-92-04\\n57. 7-000-468-13-93\\n58. 7-000-579-24-82\\n59. 7-000-681-35-71\\n60. 7-000-792-46-60\\n\\nOTP Codes:\\n1. 246 813\\n2. 357 924\\n3. 468 135\\n4. 579 246\\n5. 681 357\\n6. 792 468\\n7. 813 579\\n8. 924 681\\n9. 135 792\\n10. 246 813\\n\\nUser-IDs:\\n1. 2468135\\n2. 3579246\\n3. 4681357\\n4. 5792468\\n5. 6813579\\n6. 7924681\\n7. 8135792\\n8. 9246813\\n9. 1357924\\n10. 2468135'"
      ]
     },
     "execution_count": 5,
     "metadata": {},
     "output_type": "execute_result"
    }
   ],
   "source": [
    "db_logger.create_completion(temperature=0.1, tags='authv3', model='gpt-4', messages=[\n",
    "    { \"role\": \"user\", \"content\": f\"\"\"\n",
    "Please generate 60 phone numbers by the following requirements.\n",
    "\n",
    "During the review of applications from IOS and Android, a test account is required. For this, we have formulated the following requirements:\n",
    "\n",
    "The mobile phone of the test account should in no way belong to any client. Ideally, the phone number should be non-existent and should not be easily guessed. For example: 7-000-XXX-XX-XX, the digits should be different and not in sequence.\n",
    "Bad phone number options:\n",
    "7-999-999-99-99\n",
    "7-000-123-45-67\n",
    "7-000-987-65-43\n",
    "7-000-123-43-21\n",
    "The confirmation code (also known as OTP) should be 6-digit (for all accounts) and should not be easily guessed. Part of the phone number should not be used either!\n",
    "Bad code options:\n",
    "000 000\n",
    "999 999\n",
    "123 321\n",
    "474 747\n",
    "535 535\n",
    "If for some reason your test number should correspond to a user-id, it should also in no way belong to any real client and should be strictly associated with the test number. The user-id should also not be easily guessed:\n",
    "Bad user-id options:\n",
    "99999\n",
    "122223\n",
    "    \"\"\"}                             \n",
    "    ])"
   ]
  },
  {
   "cell_type": "code",
   "execution_count": null,
   "id": "f50e1b41-19b0-4b46-9044-86b4d3adf4a7",
   "metadata": {},
   "outputs": [],
   "source": []
  }
 ],
 "metadata": {
  "kernelspec": {
   "display_name": "Python 3 (ipykernel)",
   "language": "python",
   "name": "python3"
  },
  "language_info": {
   "codemirror_mode": {
    "name": "ipython",
    "version": 3
   },
   "file_extension": ".py",
   "mimetype": "text/x-python",
   "name": "python",
   "nbconvert_exporter": "python",
   "pygments_lexer": "ipython3",
   "version": "3.12.3"
  }
 },
 "nbformat": 4,
 "nbformat_minor": 5
}
