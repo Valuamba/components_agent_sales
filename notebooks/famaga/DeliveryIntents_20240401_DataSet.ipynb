{
 "cells": [
  {
   "cell_type": "code",
   "execution_count": 22,
   "id": "5ee949d7-8eca-4e7b-b71d-109898c50eb8",
   "metadata": {},
   "outputs": [
    {
     "name": "stdout",
     "output_type": "stream",
     "text": [
      "Updated\n"
     ]
    }
   ],
   "source": [
    "import openai\n",
    "from dotenv import load_dotenv\n",
    "import os\n",
    "from IPython.display import display, Markdown\n",
    "\n",
    "\n",
    "FAMAGA_DOWNLOAD_HTML_URL = \"https://test-api.famaga.org/imap\"\n",
    "FAMAGA_DOWNLOAD_HTML_TOKEN = \"YXBpZmFtYWdhcnU6RHpJVFd1Lk1COUV4LjNmdERsZ01YYlcvb0VFcW9NLw\"\n",
    "EXTRACTED_DEALS_DATABASE_PATH = 'extracted_deals_messaging.db'\n",
    "CLIENTS_HISTORY_PATH = r'C:\\Users\\MGroup\\Documents\\products.json'\n",
    "GPT_DB_LOGGER_PATH = 'sqlite:///prompt_versions.db'\n",
    "\n",
    "AGENTS_API_URL = 'http://localhost:8000'\n",
    "\n",
    "from importlib import reload\n",
    "import clients\n",
    "\n",
    "reload(clients)\n",
    "reload(clients.clients_deals_history)\n",
    "\n",
    "from clients.agents import AgentsAPIClient\n",
    "from clients.client_statistics import ClientStatisticsService\n",
    "from clients.clients_deals_history import ClientDealsHistoryRepository\n",
    "from clients.email_downloader import EmailDownloader\n",
    "from clients.extracted_deals import ExtractedDealsRepository\n",
    "from clients.gpt_database_logger import GPTDatabaseLogger\n",
    "from clients.msg_html_extracter import MsgHtmlExtracter\n",
    "\n",
    "print('Updated')\n",
    "\n",
    "deals_rep = ExtractedDealsRepository(EXTRACTED_DEALS_DATABASE_PATH)\n"
   ]
  },
  {
   "cell_type": "code",
   "execution_count": 5,
   "id": "89583841-5e4e-4a7f-a797-7f5f6d95e73d",
   "metadata": {},
   "outputs": [
    {
     "data": {
      "text/plain": [
       "256"
      ]
     },
     "execution_count": 5,
     "metadata": {},
     "output_type": "execute_result"
    }
   ],
   "source": [
    "keywords = [\"delivery\"]\n",
    "exclude_phrases = [\"Delivery time\", \"Delivery terms\", 'delivery shall']\n",
    "deals_with_keywords = deals_rep.get_deals_with_keywords(keywords, exclude_phrases)\n",
    "len(deals_with_keywords)  optimized_get_deals_with_exceeds_price"
   ]
  },
  {
   "cell_type": "code",
   "execution_count": 7,
   "id": "e3be8a98-b30a-4d5c-8224-f65f2152d803",
   "metadata": {},
   "outputs": [
    {
     "data": {
      "text/plain": [
       "[376208, 376291, 376670, 377271, 377305]"
      ]
     },
     "execution_count": 7,
     "metadata": {},
     "output_type": "execute_result"
    }
   ],
   "source": [
    "[d[0] for d in deals_with_keywords[:5]]"
   ]
  },
  {
   "cell_type": "code",
   "execution_count": 8,
   "id": "6476795d-0f2d-42b0-bb92-e076c64ea070",
   "metadata": {},
   "outputs": [
    {
     "name": "stdout",
     "output_type": "stream",
     "text": [
      "HTML content saved to deals_html/delivery\\376208.html\n"
     ]
    }
   ],
   "source": [
    "deals_rep.get_html_file(376208, 'deals_html/delivery')"
   ]
  },
  {
   "cell_type": "code",
   "execution_count": null,
   "id": "b800dc96-cf7f-4d7e-9e6b-7c09cd88da59",
   "metadata": {},
   "outputs": [],
   "source": [
    "certificate"
   ]
  },
  {
   "cell_type": "code",
   "execution_count": 14,
   "id": "cf6caaaa-4ce8-4328-926e-96d216e0ea72",
   "metadata": {},
   "outputs": [
    {
     "data": {
      "text/plain": [
       "30"
      ]
     },
     "execution_count": 14,
     "metadata": {},
     "output_type": "execute_result"
    }
   ],
   "source": [
    "keywords = [\"certificates\"]\n",
    "exclude_phrases = [\"discount\"]\n",
    "deals_with_keywords = deals_rep.get_deals_with_keywords(keywords, exclude_phrases)\n",
    "len(deals_with_keywords)"
   ]
  },
  {
   "cell_type": "code",
   "execution_count": 16,
   "id": "5a462a02-3caf-4356-976c-4d19e85a4393",
   "metadata": {},
   "outputs": [
    {
     "data": {
      "text/plain": [
       "[375599, 376208, 377982, 378431, 378903]"
      ]
     },
     "execution_count": 16,
     "metadata": {},
     "output_type": "execute_result"
    }
   ],
   "source": [
    "[d[0] for d in deals_with_keywords[:5]]"
   ]
  },
  {
   "cell_type": "code",
   "execution_count": 21,
   "id": "00864fc9-017f-483d-8dd5-3cfb68bd608e",
   "metadata": {},
   "outputs": [
    {
     "name": "stdout",
     "output_type": "stream",
     "text": [
      "HTML content saved to deals_html/certificate\\378903.html\n"
     ]
    }
   ],
   "source": [
    "deals_rep.get_html_file(378903, 'deals_html/certificate')"
   ]
  },
  {
   "cell_type": "code",
   "execution_count": null,
   "id": "627d8208-0e7d-43c3-9b0d-f99e7dce23a6",
   "metadata": {},
   "outputs": [],
   "source": []
  }
 ],
 "metadata": {
  "kernelspec": {
   "display_name": "Python 3 (ipykernel)",
   "language": "python",
   "name": "python3"
  },
  "language_info": {
   "codemirror_mode": {
    "name": "ipython",
    "version": 3
   },
   "file_extension": ".py",
   "mimetype": "text/x-python",
   "name": "python",
   "nbconvert_exporter": "python",
   "pygments_lexer": "ipython3",
   "version": "3.12.3"
  }
 },
 "nbformat": 4,
 "nbformat_minor": 5
}
