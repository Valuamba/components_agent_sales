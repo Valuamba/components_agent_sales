{
 "cells": [
  {
   "cell_type": "code",
   "execution_count": 191,
   "id": "367d7278-0185-47b2-8b77-38172393ef92",
   "metadata": {},
   "outputs": [],
   "source": [
    "import importlib\n",
    "import memoization\n",
    "importlib.reload(memoization)\n",
    "from memoization import get_gpt"
   ]
  },
  {
   "cell_type": "code",
   "execution_count": 1,
   "id": "669fbf89-3e11-494a-9555-2ac688e06ad5",
   "metadata": {},
   "outputs": [],
   "source": [
    "with open('./dataset/worksheet.yml', 'r') as f:\n",
    "    yml_schema = f.read()\n",
    "\n",
    "parsed_yaml = yaml.safe_load(yml_schema)\n"
   ]
  },
  {
   "cell_type": "code",
   "execution_count": 305,
   "id": "767933ba-7803-41b0-bdc9-12d57b52db25",
   "metadata": {},
   "outputs": [],
   "source": [
    "import yaml\n",
    "import json\n",
    "import re\n",
    "\n",
    "\n",
    "def select_json_block(text: str):\n",
    "    match = re.search(r\"```json\\n([\\s\\S]*?)\\n```\", text)\n",
    "    if match:\n",
    "        json_data = match.group(1)\n",
    "    else:\n",
    "        raise ValueError(\"No valid JSON data found in the string.\")\n",
    "\n",
    "    return json.loads(json_data)\n",
    "\n",
    "\n",
    "def build_schema(yaml_content):\n",
    "    parsed_yaml = yaml.safe_load(yaml_content)\n",
    "    subjects_schema = {}\n",
    "\n",
    "    for subject, content in parsed_yaml['subjects'].items():\n",
    "        schema = {}\n",
    "        for field in content['fields']:\n",
    "            field_schema = {\n",
    "                \"type\": field['schema']['type']\n",
    "            }\n",
    "            if 'enum' in field['schema']:\n",
    "                field_schema['enum'] = field['schema']['enum']\n",
    "            if 'format' in field['schema']:\n",
    "                field_schema['format'] = field['schema']['format']\n",
    "            \n",
    "            schema[field['name']] = field_schema\n",
    "        \n",
    "        subjects_schema[subject] = schema\n",
    "\n",
    "    return subjects_schema\n",
    "\n",
    "\n",
    "def build_conversation_prompt(conversation_history: List[Message]) -> str:\n",
    "    field_request_indices = [i for i, msg in enumerate(conversation_history) if msg.message_type == 'field_request']\n",
    "    \n",
    "    if not field_request_indices:\n",
    "        # Collect all messages from the security guard\n",
    "        selected_messages = [msg for msg in conversation_history if msg.from_ == 'security guard']\n",
    "    else:\n",
    "        latest_field_request_index = max(field_request_indices)\n",
    "        selected_messages = [conversation_history[latest_field_request_index]]\n",
    "        selected_messages.extend(msg for msg in conversation_history[latest_field_request_index + 1:] if msg.message_type != 'field_request')\n",
    "    \n",
    "    conversation_history_str = '\\n'.join([f\"{message.from_}: {message.text}\" for message in selected_messages])\n",
    "\n",
    "    return conversation_history_str\n",
    "\n",
    "\n",
    "def build_field_prompt(field: FieldRule) -> str:\n",
    "    field_instructions = []\n",
    "    \n",
    "    field_description = f\"  - {field.name}: {field.schema['type']}\"\n",
    "    if 'format' in field.schema:\n",
    "        field_description += f\" ({field.schema['format']} format)\"\n",
    "    field_instructions.append(field_description)\n",
    "    \n",
    "    field_metadata = f\"    description: {field.description}\"\n",
    "    field_instructions.append(field_metadata)\n",
    "    \n",
    "    if 'enum' in field.schema:\n",
    "        possible_values = f\"    possible values: {', '.join(field.schema['enum'])}\"\n",
    "        field_instructions.append(possible_values)\n",
    "    \n",
    "    return '\\n'.join(field_instructions)\n",
    "    \n",
    "\n",
    "def build_schema_prompt(yaml_content, subject: str = None):\n",
    "    parsed_yaml = yaml.safe_load(yaml_content)\n",
    "    instructions = []\n",
    "\n",
    "    subjects = parsed_yaml['subjects']\n",
    "\n",
    "    if subject:\n",
    "        subjects = {subject: subjects[subject]} if subject in subjects else {}\n",
    "\n",
    "    for subject_name, content in subjects.items():\n",
    "        subject_description = f\"{subject_name}: {content['description']}\"\n",
    "        instructions.append(subject_description)\n",
    "        \n",
    "        for field in content['fields']:\n",
    "            field_description = f\"  - {field['name']}: {field['schema']['type']}\"\n",
    "            if 'format' in field['schema']:\n",
    "                field_description += f\" ({field['schema']['format']} format)\"\n",
    "            instructions.append(field_description)\n",
    "            \n",
    "            field_metadata = f\"    description: {field['description']}\"\n",
    "            instructions.append(field_metadata)\n",
    "            \n",
    "            if 'enum' in field['schema']:\n",
    "                possible_values = f\"    possible values: {', '.join(field['schema']['enum'])}\"\n",
    "                instructions.append(possible_values)\n",
    "\n",
    "    return \"\\n\".join(instructions)\n",
    "\n",
    "\n",
    "def define_worksheet_fields(subject, subject_fields: dict, conversation_history, **kwargs):\n",
    "    subject_str = f'{subject['name']}: {subject['description']}'\n",
    "    fields_str = '\\n'.join(build_prompt_from_subject_fields_v2(subject_fields))\n",
    "\n",
    "    conversation_history_str = '\\n'.join([f\"{message['from']}: {message['text']}\" for message in conversation_history])\n",
    "\n",
    "    prompt = f\"\"\"\n",
    "Please find entities at speech of Latin America candidate on security guy position.\n",
    "\n",
    "Here is possible fields:\n",
    "{subject_str}\n",
    "{fields_str}\n",
    "\n",
    "Here is conversation:\n",
    "{conversation_history_str}\n",
    "\n",
    "When analyzing the conversation, follow these guidelines:\n",
    "\n",
    "\t1.\tTrack which fields have been asked about in the conversation.\n",
    "\t2.\tCollect and compile all relevant field information, even if it spans multiple steps.\n",
    "\t3.\tFinalize the field only when all required details have been provided.\n",
    "\t4.\tOnly include incomplete field errors for fields that have been asked about but not fully completed.\n",
    "\t5.\tDo not include errors for fields that have not yet been asked.\n",
    "\n",
    "incomplete_field_error: (array)\n",
    "    field_name: <field name>\n",
    "    current_value: <current field value>\n",
    "    required_details: <required details>\n",
    "\n",
    "    \n",
    "Please put result info json format, like this ```json```.\n",
    "\"\"\"\n",
    "    # print(prompt)\n",
    "    \n",
    "    response = tget_gpt(prompt, model='gpt-4o', temperature=0, **kwargs)\n",
    "\n",
    "    return select_json_block(response)\n",
    "\n",
    "\n",
    "def build_prompt_from_subject_fields(fields):\n",
    "    instructions = []\n",
    "        \n",
    "    for field in fields:\n",
    "        field_description = f\"  - {field['name']}: {field['schema']['type']}\"\n",
    "        if 'format' in field['schema']:\n",
    "            field_description += f\" ({field['schema']['format']} format)\"\n",
    "        instructions.append(field_description)\n",
    "            \n",
    "        field_metadata = f\"    description: {field['description']}\"\n",
    "        instructions.append(field_metadata)\n",
    "            \n",
    "        if 'enum' in field['schema']:\n",
    "            possible_values = f\"    possible values: {', '.join(field['schema']['enum'])}\"\n",
    "            instructions.append(possible_values)\n",
    "    return instructions\n",
    "\n",
    "\n",
    "def build_prompt_from_subject_fields_v2(fields: List[FieldRule]) -> List[str]:\n",
    "    instructions = []\n",
    "\n",
    "    for field in fields:\n",
    "        field_description = f\"  - {field.name}: {field.schema['type']}\"\n",
    "        if 'format' in field.schema:\n",
    "            field_description += f\" ({field.schema['format']} format)\"\n",
    "        instructions.append(field_description)\n",
    "            \n",
    "        field_metadata = f\"    description: {field.description}\"\n",
    "        instructions.append(field_metadata)\n",
    "            \n",
    "        if 'enum' in field.schema:\n",
    "            possible_values = f\"    possible values: {', '.join(field.schema['enum'])}\"\n",
    "            instructions.append(possible_values)\n",
    "    \n",
    "    return instructions"
   ]
  },
  {
   "cell_type": "code",
   "execution_count": 306,
   "id": "2608986f-c1bc-4e22-a4ae-5694345f79cf",
   "metadata": {},
   "outputs": [],
   "source": [
    "def clarify_field_details(field_name: str, current_value: str, validation_error: str, **kwargs):\n",
    "    field_error_str = f'field: {field_name}\\ncurrent value: {current_value}\\nrequired details: {validation_error}'\n",
    "    \n",
    "    response = tget_gpt(f\"\"\"\n",
    "You are recruiter. Ensure the accurate and complete collection of candidate information by reasking questions \n",
    "and clarifying details to complete the worksheet field information.\n",
    "\n",
    "**Instructions:**\n",
    "\n",
    "1. **Identify Incomplete Fields:**\n",
    "   - Review the provided list of fields that have incomplete or missing details.\n",
    "\n",
    "2. **Addressing Incomplete Information:**\n",
    "   - For each field with incomplete information, identify the missing details.\n",
    "   - Politely ask the candidate to provide the missing information to complete the field.\n",
    "\n",
    "3. **Sample Prompt Structure:**\n",
    "   - Use a polite and clear approach to reask for the missing details.\n",
    "   - Ensure the candidate understands what specific information is needed.\n",
    "\n",
    "4. **Handling Specific Fields:**\n",
    "   - **Field Name:** Birth Date\n",
    "     - **Current Value:** September 12\n",
    "     - **Required Details:** Year of birth\n",
    "     - **Clarification Prompt:** \"Could you please provide the year of your birth to complete your birth date?\"\n",
    "\n",
    "5. **General Tips:**\n",
    "   - Be patient and understanding if the candidate is unsure or needs time to find the information.\n",
    "   - Confirm with the candidate once the information is provided to ensure accuracy.\n",
    "\n",
    "Please ask for correction by the following field:\n",
    "\n",
    "{field_error_str}\n",
    "\n",
    "Put the response into ```json``` with schema:\n",
    "\n",
    "```\n",
    "{{\n",
    "    \"text\": string // Text message\n",
    "}}\n",
    "    \"\"\", **kwargs)\n",
    "    parsed =  select_json_block(response)\n",
    "    return Message(text=parsed['text'], message_type=MessageType.Clarification, from_=FromType.Recruiter)"
   ]
  },
  {
   "cell_type": "code",
   "execution_count": 388,
   "id": "a2a9c97e-566f-4841-87f1-590d2d7576d0",
   "metadata": {},
   "outputs": [
    {
     "name": "stdout",
     "output_type": "stream",
     "text": [
      "Parent trace id: 54a6baed-ab11-42d5-9621-34f4b6aacbdf\n",
      "State: contact_info\n",
      "State: contact_info\n",
      "Parent trace id: 94f51691-2538-46b9-ac8c-284a8935067e\n",
      "State: contact_info\n",
      "State: contact_info\n",
      "Parent trace id: 89f880cf-61fe-48f8-95db-504a8c9cee80\n",
      "State: contact_info\n",
      "State: contact_info\n"
     ]
    }
   ],
   "source": [
    "def next_dialog_step(subject: dict, subject_fields: List[FieldRule], worksheet_fields: dict, **kwargs):\n",
    "    subject_str = f'{subject['name']}: {subject['description']}'\n",
    "    fields_str = '\\n'.join(build_prompt_from_subject_fields_v2(subject_fields))\n",
    "    \n",
    "    fillded_fields = []\n",
    "    fillded_fields.append(f'{subject['name']}:')\n",
    "    for field, value in worskheet_field_storage.get(subject['name'], {}).items():\n",
    "        fillded_fields.append(f'   - {field}: {value}')\n",
    "    fillded_fields.append('')\n",
    "    \n",
    "    response = tget_gpt(f\"\"\"\n",
    "You are a recruiter in Latin America, hiring candidates for a security guard position in a store. \n",
    "For employment, you need to make a call with the candidate and gather all the necessary information to fill out the application form.\n",
    "\n",
    "Your task is to ask the question needed to fill in the next field based on the previous answers.\n",
    "The examples of questions:\n",
    "- Can you please tell me your first names?\n",
    "- Great, thank you. Now, can you tell me your last names?\n",
    "- Thank you. What is your gender?\n",
    "- Perfect. And your ID number?\n",
    "- Alright. Now, your date of birth, please.\n",
    "- Thank you. Can you also tell me your place of birth?\n",
    "\n",
    "Here is already filled fields by user:\n",
    "{'\\n'.join(fillded_fields)}\n",
    "\n",
    "Here is possible fields:\n",
    "{subject_str}\n",
    "{fields_str}\n",
    "\n",
    "Put the response into ```json``` with schema:\n",
    "\n",
    "```\n",
    "{{\n",
    "    \"message\": string // Text message\n",
    "}}\n",
    "\n",
    "\"\"\", **kwargs)\n",
    "\n",
    "    response_data = select_json_block(response)\n",
    "    return Message(text=response_data['message'], message_type=MessageType.FieldRequest, from_=FromType.Recruiter)\n",
    "    "
   ]
  },
  {
   "cell_type": "code",
   "execution_count": 369,
   "id": "968d3665-49b1-4945-b120-324a700cc4a0",
   "metadata": {},
   "outputs": [
    {
     "data": {
      "text/plain": [
       "dict_items([('first_names', 'Carlos')])"
      ]
     },
     "execution_count": 369,
     "metadata": {},
     "output_type": "execute_result"
    }
   ],
   "source": [
    "worskheet_field_storage['personal_info'].items()"
   ]
  },
  {
   "cell_type": "code",
   "execution_count": 309,
   "id": "5cd40df4-ef4e-4441-b3e7-4acbed94b513",
   "metadata": {},
   "outputs": [],
   "source": [
    "def find_discussed_fields(subject_fields: List[FieldRule], conversation_history: List[Message], **kwargs):\n",
    "    subject_fields_str = {'\\n'.join(build_prompt_from_subject_fields_v2(subject_fields))}\n",
    "\n",
    "    conversation_history_str = build_conversation_prompt(conversation_history)\n",
    "   \n",
    "    response = tget_gpt(f\"\"\"\n",
    "Please find entities at speech of Latin America candidate on security guy position.\n",
    "\n",
    "Here is possible fields:\n",
    "{subject_fields_str}\n",
    "\n",
    "When the value of one field logically precludes or invalidates the relevance of other fields, those dependent fields should be set to null. \n",
    "Apply this principle to ensure data integrity and relevance across all fields, irrespective of their types.\n",
    "\n",
    "Here is conversation:\n",
    "{conversation_history_str}\n",
    "\n",
    "Please recognize which field or field mentioned at latest message from security guard.\n",
    " \n",
    "Please put result info json format, like this ```json```. For instance:\n",
    "[{{\n",
    "    'field_name': <field_name>,\n",
    "    'value': <field value>\n",
    "}}]\n",
    "\n",
    "\"\"\", **kwargs)\n",
    "\n",
    "    return select_json_block(response)"
   ]
  },
  {
   "cell_type": "code",
   "execution_count": 310,
   "id": "8d7377ec-3705-4e2f-b617-77fbe7bf4d47",
   "metadata": {},
   "outputs": [],
   "source": [
    "def validate_fields(fields_rules: List[FieldRule], fields_to_validate, **kwargs):\n",
    "    field_names = [ f['field_name'] for f in fields_to_validate]\n",
    "    matched_fields = [f for f in fields_rules if f.name in field_names]\n",
    "    \n",
    "    fields_rules = '\\n'.join([build_field_prompt(f) for f in matched_fields])\n",
    "    actual_fields = '\\n'.join([ f'{f['field_name']}: {f['value']}' for f in fields_to_validate])\n",
    "\n",
    "    response = tget_gpt(f\"\"\"\n",
    "Please validate the field values, focusing on their meanings rather than their formatting, character case, or similar aspects. \n",
    "This is needed for a worksheet that might be filled out via voice, which can introduce format variations.\n",
    "\n",
    "The rules:\n",
    "{fields_rules}\n",
    "\n",
    "The actual field values:\n",
    "{actual_fields}\n",
    "\n",
    "Please put response into ```json``` structure, for example:\n",
    "[{{\n",
    "    'field_name': <field_name>,\n",
    "    'validation_error': <field validation error or null>\n",
    "}}]\n",
    "    \"\"\", **kwargs)\n",
    "\n",
    "    return select_json_block(response)"
   ]
  },
  {
   "cell_type": "code",
   "execution_count": 82,
   "id": "1013eb75-02ea-4929-bb71-46c5bafeb36a",
   "metadata": {},
   "outputs": [
    {
     "name": "stdout",
     "output_type": "stream",
     "text": [
      "```json\n",
      "{\n",
      "    \"message\": \"Great, thank you. Now, can you tell me your last names?\"\n",
      "}\n",
      "```"
     ]
    }
   ],
   "source": [
    "\n"
   ]
  },
  {
   "cell_type": "code",
   "execution_count": 75,
   "id": "0a3d859b-21f1-48ad-a8af-3262d8966903",
   "metadata": {},
   "outputs": [
    {
     "data": {
      "text/plain": [
       "[{'field_name': 'first_names', 'validation_error': None}]"
      ]
     },
     "execution_count": 75,
     "metadata": {},
     "output_type": "execute_result"
    }
   ],
   "source": [
    "validated_fields"
   ]
  },
  {
   "cell_type": "code",
   "execution_count": null,
   "id": "7c35d8d8-ebe9-4a5c-b1f5-9c15bab9ac65",
   "metadata": {},
   "outputs": [],
   "source": [
    "filled_fields = [r['field_name'] for r in json_data]"
   ]
  },
  {
   "cell_type": "code",
   "execution_count": 341,
   "id": "768940f2-9e11-41fd-a9a4-ed066a140576",
   "metadata": {},
   "outputs": [],
   "source": [
    "parsed_yaml = yaml.safe_load(yml_schema)\n",
    "\n",
    "# subject_name = 'personal_info'\n",
    "\n",
    "# subject = parsed_yaml['subjects'][subject_name]\n",
    "\n",
    "# subject_details = {\n",
    "#     'name': subject_name,\n",
    "#     'description': subject['description']\n",
    "# }\n"
   ]
  },
  {
   "cell_type": "code",
   "execution_count": 311,
   "id": "c418a1ba-a788-40c1-a68c-1573a0faf1d3",
   "metadata": {},
   "outputs": [],
   "source": [
    "from uuid import uuid4\n",
    "import uuid\n",
    "from IPython.display import display, JSON  # For displaying JSON in Jupyter\n",
    "\n",
    "\n",
    "class Trace:\n",
    "\n",
    "    def __init__(self):\n",
    "        self.trace_storage = {}\n",
    "\n",
    "    def relate_with_parent(self, parent_id, obj: dict):\n",
    "        if parent_id not in self.trace_storage:\n",
    "            self.trace_storage[parent_id] = []\n",
    "        self.trace_storage[parent_id].append(obj)\n",
    "\n",
    "    def get_id(self):\n",
    "        return uuid.uuid4()\n",
    "\n",
    "    def create_trace(self, obj: dict):\n",
    "        trace_id = self.get_id()\n",
    "        self.trace_storage[trace_id] = [obj]\n",
    "        return trace_id\n",
    "\n",
    "    def get_trace(self, trace_id):\n",
    "        if trace_id in self.trace_storage:\n",
    "            return self._build_hierarchy(trace_id)\n",
    "        return {}\n",
    "\n",
    "    def _build_hierarchy(self, trace_id):\n",
    "        if trace_id not in self.trace_storage:\n",
    "            return {}\n",
    "        trace_items = self.trace_storage[trace_id]\n",
    "        result = []\n",
    "        for item in trace_items:\n",
    "            item_copy = item.copy()\n",
    "            if 'parent_trace_id' in item_copy:\n",
    "                child_trace_id = item_copy.pop('parent_trace_id')\n",
    "                item_copy['children'] = self._build_hierarchy(child_trace_id)\n",
    "            result.append(item_copy)\n",
    "        return result\n",
    "\n",
    "    def get_all_traces(self):\n",
    "        all_traces = {}\n",
    "        for trace_id in self.trace_storage:\n",
    "            all_traces[trace_id] = self._build_hierarchy(trace_id)\n",
    "        return all_traces\n",
    "\n",
    "\n",
    "def tget_gpt(content, model=\"gpt-4o\", temperature=0, max_tokens=1000, stream=True, **kwargs):\n",
    "    try:\n",
    "        response = get_gpt(content, model, temperature, max_tokens, stream=False)\n",
    "        trace_data = {\n",
    "            'content': content,\n",
    "            'response': response,\n",
    "            'model': model,\n",
    "            'temperature': temperature,\n",
    "            'max_tokens': max_tokens,\n",
    "            'stream': stream\n",
    "        }\n",
    "        parent_trace_id = kwargs.get('parent_trace_id', None)\n",
    "        if parent_trace_id:\n",
    "            trace.relate_with_parent(parent_trace_id, trace_data)\n",
    "        else:\n",
    "            new_trace_id = trace.create_trace(trace_data)\n",
    "            print(f\"New trace created with ID: {new_trace_id}\")\n",
    "        return response\n",
    "    except Exception as e:\n",
    "        print(f\"An error occurred: {e}\")\n",
    "        trace_data = {\n",
    "            'content': content,\n",
    "            'error': str(e),\n",
    "            'model': model,\n",
    "            'temperature': temperature,\n",
    "            'max_tokens': max_tokens,\n",
    "            'stream': stream\n",
    "        }\n",
    "        parent_trace_id = kwargs.get('parent_trace_id', None)\n",
    "        if parent_trace_id:\n",
    "            trace.relate_with_parent(parent_trace_id, trace_data)\n",
    "        else:\n",
    "            new_trace_id = trace.create_trace(trace_data)\n",
    "            print(f\"New trace created with ID: {new_trace_id}\")\n",
    "        raise\n",
    "\n",
    "\n",
    "def build_pretty_trace(trace_data, indent=0):\n",
    "    output = \"\"\n",
    "    indent_str = \"  \" * indent\n",
    "    for item in trace_data:\n",
    "        output += f\"{indent_str}<h2>Prompt:</h2>\\n{indent_str}{item['content'].replace('\\\\n', '<br>' + indent_str)}\\n\"\n",
    "        if 'response' in item:\n",
    "            output += f\"{indent_str}<h4>Response:</h4>\\n{indent_str}{item['response'].replace('\\\\n', '<br>' + indent_str)}\\n\"\n",
    "        if 'error' in item:\n",
    "            output += f\"{indent_str}<b>Error:</b>\\n{indent_str}{item['error'].replace('\\\\n', '<br>' + indent_str)}\\n\"\n",
    "        if 'children' in item and item['children']:\n",
    "            output += build_pretty_trace(item['children'], indent + 1)\n",
    "    return output\n",
    "\n",
    "\n",
    "def display_pretty_trace(trace_id):\n",
    "    trace_data = trace.get_trace(trace_id)\n",
    "    pretty_trace = build_pretty_trace(trace_data)\n",
    "    # display(JSON(trace.get_all_traces()))\n",
    "    display(HTML(f\"<pre>{pretty_trace}</pre>\"))"
   ]
  },
  {
   "cell_type": "code",
   "execution_count": 118,
   "id": "9b6b484c-dfa3-4cc5-877c-f8a8763ec414",
   "metadata": {},
   "outputs": [],
   "source": [
    "trace = Trace()"
   ]
  },
  {
   "cell_type": "code",
   "execution_count": 390,
   "id": "238896a0-fd76-4652-abfa-44828b8e77cd",
   "metadata": {},
   "outputs": [
    {
     "name": "stdout",
     "output_type": "stream",
     "text": [
      "Parent trace id: 8c58b02b-c4e9-41b4-8358-c134fb9424f8\n",
      "State: contact_info\n",
      "State: contact_info\n"
     ]
    }
   ],
   "source": [
    "from dataclasses import dataclass\n",
    "from typing import Optional, List\n",
    "from uuid import uuid4\n",
    "\n",
    "\n",
    "class FromType:\n",
    "    Recruiter = 'recruiter'\n",
    "    SecurityGuard = 'security guard'\n",
    "\n",
    "\n",
    "class MessageType:\n",
    "    Clarification = 'clarification'\n",
    "    FieldRequest = 'field_request'\n",
    "    Response = 'response'\n",
    "\n",
    "\n",
    "@dataclass\n",
    "class Message:\n",
    "    text: str\n",
    "    message_type: MessageType\n",
    "    from_: FromType\n",
    "\n",
    "\n",
    "@dataclass\n",
    "class FieldRule:\n",
    "    name: str\n",
    "    description: str\n",
    "    required: bool\n",
    "    schema: dict\n",
    "    example: str = None\n",
    "\n",
    "@dataclass\n",
    "class Subject:\n",
    "    name: str\n",
    "    description: str\n",
    "    fields: List[Field]\n",
    "\n",
    "\n",
    "@dataclass\n",
    "class Field:\n",
    "    name: str\n",
    "    value: str\n",
    "    validation_error: Optional[str] = None\n",
    "\n",
    "\n",
    "def merge_fields(js_found_fields: List[dict], validated_fields: List[dict]) -> List[Field]:\n",
    "    field_map = {field['field_name']: Field(name=field['field_name'], value=field['value']) for field in js_found_fields}\n",
    "    \n",
    "    for v_field in validated_fields:\n",
    "        if v_field['field_name'] in field_map:\n",
    "            field_map[v_field['field_name']].validation_error = v_field['validation_error']\n",
    "    \n",
    "    return list(field_map.values())\n",
    "\n",
    "\n",
    "def handle_candidate_messages_v2(conversation_history: List[Message], worskheet_field_storage): \n",
    "    trace_id = trace.get_id()\n",
    "    kwargs = {}\n",
    "    print(f'Parent trace id: {trace_id}')\n",
    "    parent_trace = {'parent_trace_id': str(trace_id)}\n",
    "    kwargs.update(parent_trace)\n",
    "\n",
    "    state = dialog_dispatcher(parsed_yaml, worskheet_field_storage)\n",
    "    field_rules = get_fields_rules(parsed_yaml, state)\n",
    "    \n",
    "    js_found_fields = find_discussed_fields(field_rules, conversation_history, **kwargs)\n",
    "    validated_fields = validate_fields(field_rules, js_found_fields, **kwargs)\n",
    "    \n",
    "    found_fields = merge_fields(js_found_fields, validated_fields)\n",
    "\n",
    "    append_keys_to_storage_v2(state, found_fields, worskheet_field_storage)\n",
    "    state = dialog_dispatcher(parsed_yaml, worskheet_field_storage)\n",
    "    field_rules = get_fields_rules(parsed_yaml, state)\n",
    "    subject = parsed_yaml['subjects'][state]\n",
    "\n",
    "    subject_details = {\n",
    "        'name': state,\n",
    "        'description': subject['description']\n",
    "    }\n",
    "    \n",
    "    invalid_field = next((f for f in validated_fields if f['validation_error']), None)\n",
    "    if invalid_field:\n",
    "        field_value = next(f.value for f in found_fields if f.name == invalid_field['field_name'])\n",
    "        message = clarify_field_details(invalid_field['field_name'], field_value, invalid_field['validation_error'], **kwargs)\n",
    "    else:\n",
    "        message = next_dialog_step(subject_details, field_rules, worskheet_field_storage, **kwargs)\n",
    "\n",
    "    return message\n",
    "    \n",
    "\n",
    "def append_keys_to_storage_v2(subject_name: str, fields_info: List[Field], worskheet_field_storage: dict):\n",
    "    if subject_name not in worskheet_field_storage or not worskheet_field_storage.get(subject_name, None):\n",
    "        worskheet_field_storage[subject_name] = {}\n",
    "\n",
    "    incomplete_fields = {field.name for field in fields_info if field.validation_error}\n",
    "\n",
    "    for field in fields_info:\n",
    "        if field.name not in worskheet_field_storage[subject_name] and field.name not in incomplete_fields:\n",
    "            worskheet_field_storage[subject_name][field.name] = field.value\n",
    "        "
   ]
  },
  {
   "cell_type": "code",
   "execution_count": 382,
   "id": "4c9426d6-d235-402b-8f67-ea33b6b58085",
   "metadata": {},
   "outputs": [],
   "source": [
    "def get_fields_rules(parsed_yml: dict, subject: str) -> List[FieldRule]:\n",
    "    # print(parsed_yml['subjects'][subject])\n",
    "    return [\n",
    "        FieldRule(\n",
    "            name=s['name'],\n",
    "            description=s['description'],\n",
    "            required=s['required'],\n",
    "            schema=s['schema'],\n",
    "            example=s.get('example')\n",
    "        ) for s in parsed_yml['subjects'][subject]['fields']\n",
    "    ]\n",
    "\n",
    "def dialog_dispatcher(parsed_yaml, memory_storage: dict) -> str:\n",
    "    subject_keys = list(parsed_yaml['subjects'].keys())\n",
    "    state = memory_storage.get('state', None)\n",
    "\n",
    "    if not state and not set(subject_keys).isdisjoint(memory_storage.keys()):\n",
    "        state = subject_keys[0]\n",
    "        memory_storage[state] = {}\n",
    "\n",
    "    print(f'State: {state}')\n",
    "    field_rules = get_fields_rules(parsed_yaml, state)\n",
    "    fields_rule_names = set([f.name for f in field_rules])\n",
    "    memory_fields_names = memory_storage.get(state, {}).keys()\n",
    "\n",
    "    if set(fields_rule_names) == set(memory_fields_names):\n",
    "        state = get_next_subject(parsed_yaml['subjects'])\n",
    "\n",
    "    memory_storage['state'] = state\n",
    "    return state\n",
    "        "
   ]
  },
  {
   "cell_type": "code",
   "execution_count": 364,
   "id": "0dd883aa-7775-4bd9-823f-27e91e77ac7a",
   "metadata": {},
   "outputs": [
    {
     "data": {
      "text/plain": [
       "'contact_info'"
      ]
     },
     "execution_count": 364,
     "metadata": {},
     "output_type": "execute_result"
    }
   ],
   "source": [
    "def get_next_subject(subjects: dict, current_subject: str) -> str:\n",
    "    subject_keys = list(subjects.keys())\n",
    "    current_index = subject_keys.index(current_subject)\n",
    "    if current_index + 1 < len(subject_keys):\n",
    "        return subject_keys[current_index + 1]\n",
    "    return None\n",
    "\n",
    "get_next_subject(parsed_yaml['subjects'], 'personal_info')"
   ]
  },
  {
   "cell_type": "code",
   "execution_count": 8,
   "id": "2b79dda4-aafc-4a14-8cd4-500588036a79",
   "metadata": {},
   "outputs": [],
   "source": [
    "worskheet_field_storage = {}\n",
    "conversation_history = []"
   ]
  },
  {
   "cell_type": "code",
   "execution_count": 349,
   "id": "30a0c4e5-1320-4b4e-8190-5393da42891f",
   "metadata": {},
   "outputs": [
    {
     "data": {
      "text/plain": [
       "{'description': 'Personal information about the individual',\n",
       " 'fields': [{'name': 'first_names',\n",
       "   'description': 'First names (can be multiple in Hispanic cultures)',\n",
       "   'required': True,\n",
       "   'schema': {'type': 'string'},\n",
       "   'example': 'Hose Los Jose'},\n",
       "  {'name': 'last_names',\n",
       "   'description': 'Last name of security guard',\n",
       "   'required': True,\n",
       "   'schema': {'type': 'string'}},\n",
       "  {'name': 'gender',\n",
       "   'description': 'Gender (Male or Female)',\n",
       "   'required': True,\n",
       "   'schema': {'type': 'string'}},\n",
       "  {'name': 'id_number',\n",
       "   'description': 'ID number. Format ###-########-#, last digit is a checksum',\n",
       "   'required': True,\n",
       "   'schema': {'type': 'string'},\n",
       "   'example': '123-45678901-2'},\n",
       "  {'name': 'has_drivers_license',\n",
       "   'description': \"Do you have a driver's license?\",\n",
       "   'required': True,\n",
       "   'schema': {'type': 'boolean'},\n",
       "   'example': True},\n",
       "  {'name': 'license_category',\n",
       "   'description': \"Driver's license category\",\n",
       "   'required': False,\n",
       "   'schema': {'type': 'string', 'enum': ['A', 'B', 'C', 'D', 'E', 'F']},\n",
       "   'example': 'B'},\n",
       "  {'name': 'birth_date',\n",
       "   'description': 'Date of birth',\n",
       "   'required': True,\n",
       "   'schema': {'type': 'string'}},\n",
       "  {'name': 'birth_place',\n",
       "   'description': 'Place of birth',\n",
       "   'required': True,\n",
       "   'schema': {'type': 'string'},\n",
       "   'example': 'San Jose'},\n",
       "  {'name': 'nationality',\n",
       "   'description': 'Nationality (non-citizens cannot be security guards)',\n",
       "   'required': True,\n",
       "   'schema': {'type': 'string'},\n",
       "   'example': 'Costa Rican'},\n",
       "  {'name': 'marital_status',\n",
       "   'description': 'Marital status: Married, Single, Civil union',\n",
       "   'required': True,\n",
       "   'schema': {'type': 'string', 'enum': ['Married', 'Single', 'Civil union']},\n",
       "   'example': 'Married'}]}"
      ]
     },
     "execution_count": 349,
     "metadata": {},
     "output_type": "execute_result"
    }
   ],
   "source": [
    "parsed_yaml['subjects']['personal_info']"
   ]
  },
  {
   "cell_type": "markdown",
   "id": "900c6180-87d1-4f1b-a517-9df44c7e1499",
   "metadata": {},
   "source": [
    "## Test"
   ]
  },
  {
   "cell_type": "code",
   "execution_count": null,
   "id": "c0747038-ec91-4e2e-90fb-3794237a70bf",
   "metadata": {},
   "outputs": [],
   "source": [
    "parsed_yaml"
   ]
  },
  {
   "cell_type": "code",
   "execution_count": 272,
   "id": "58f7c53a-3a23-4aeb-b4dd-855dc9dccbf6",
   "metadata": {},
   "outputs": [],
   "source": [
    "conversation_history = [\n",
    "    {\n",
    "        'from': FromType.Recruiter,\n",
    "        'text': 'Please answer what your first name'\n",
    "    },\n",
    "    {\n",
    "        'from': FromType.SecurityGuard,\n",
    "        'text': 'My name is Jaez'\n",
    "    },\n",
    "    {\n",
    "        'from': FromType.Recruiter,\n",
    "        'text': 'Alright! Please say your birth date.'\n",
    "    },\n",
    "    {\n",
    "        'from': FromType.SecurityGuard,\n",
    "        'text': 'September 12'\n",
    "    }\n",
    "]"
   ]
  },
  {
   "cell_type": "code",
   "execution_count": null,
   "id": "19c3c1e0-9800-4266-9752-2883f479e24b",
   "metadata": {},
   "outputs": [],
   "source": [
    "conversation_history = [\n",
    "    {\n",
    "        'from': FromType.SecurityGuard,\n",
    "        'text': 'My name is Carlos Amigos'\n",
    "    },\n",
    "    {\n",
    "        'from': FromType.Recruiter,\n",
    "        'text': \"Thank you for providing your last name. However, 'Amigos' is not a typical last name for a security guard. Could you please confirm if 'Amigos' is indeed your legal last name, or if there might have been a mistake? If it is a mistake, could you please provide your correct last name?\"\n",
    "    },\n",
    "    {\n",
    "        'from': FromType.SecurityGuard,\n",
    "        'text': \"It's correct\"\n",
    "    },\n",
    "    {\n",
    "        'from': FromType.Recruiter,\n",
    "        'text': \"Thank you, Carlos Amigos. What is your gender?\"\n",
    "    },\n",
    "    # {\n",
    "    #     'from': FromType.SecurityGuard,\n",
    "    #     'text': 'male'\n",
    "    # }\n",
    "]"
   ]
  },
  {
   "cell_type": "code",
   "execution_count": 261,
   "id": "0b225558-6aa7-48dd-bfa9-b4a39b82ac4c",
   "metadata": {},
   "outputs": [],
   "source": [
    "field_rules: List[Field] = [\n",
    "    Field(\n",
    "        name=s['name'],\n",
    "        description=s['description'],\n",
    "        required=s['required'],\n",
    "        schema=s['schema'],\n",
    "        example=s.get('example')  # Use get to handle cases where 'example' might not be present\n",
    "    ) for s in subject['fields']\n",
    "]"
   ]
  },
  {
   "cell_type": "code",
   "execution_count": null,
   "id": "e1d731d4-20c0-4b8c-b5cf-7cec5da60226",
   "metadata": {},
   "outputs": [],
   "source": [
    "subject['fields']"
   ]
  },
  {
   "cell_type": "code",
   "execution_count": 13,
   "id": "0fa404d6-9b05-4b88-baf2-a06cc5f98cd2",
   "metadata": {},
   "outputs": [
    {
     "name": "stdout",
     "output_type": "stream",
     "text": [
      "```json\n",
      "{\n",
      "  \"personal_info\": {\n",
      "    \"first_names\": \"Jaez\",\n",
      "    \"birth_date\": \"September 12\"\n",
      "  },\n",
      "  \"incomplete_field_error\": [\n",
      "    {\n",
      "      \"field_name\": \"birth_date\",\n",
      "      \"current_value\": \"September 12\",\n",
      "      \"required_details\": \"Year of birth\"\n",
      "    }\n",
      "  ]\n",
      "}\n",
      "```"
     ]
    },
    {
     "data": {
      "text/plain": [
       "'Could you please provide the year of your birth to complete your birth date? Currently, we have September 12, but we need the full date including the year. Thank you!'"
      ]
     },
     "execution_count": 13,
     "metadata": {},
     "output_type": "execute_result"
    }
   ],
   "source": [
    "handle_candidate_messages(conversation_history, worskheet_field_storage)"
   ]
  },
  {
   "cell_type": "code",
   "execution_count": 383,
   "id": "ab62f838-037c-4cbe-8fd9-a342745e2b03",
   "metadata": {},
   "outputs": [
    {
     "name": "stdout",
     "output_type": "stream",
     "text": [
      "Parent trace id: 1551ca91-b210-4598-a236-c0d8d1b0ca9e\n",
      "State: contact_info\n"
     ]
    },
    {
     "ename": "ValueError",
     "evalue": "No valid JSON data found in the string.",
     "output_type": "error",
     "traceback": [
      "\u001b[0;31m---------------------------------------------------------------------------\u001b[0m",
      "\u001b[0;31mValueError\u001b[0m                                Traceback (most recent call last)",
      "Cell \u001b[0;32mIn[383], line 1\u001b[0m\n\u001b[0;32m----> 1\u001b[0m \u001b[43mhandle_candidate_messages_v2\u001b[49m\u001b[43m(\u001b[49m\u001b[43mconversation_history\u001b[49m\u001b[43m,\u001b[49m\u001b[43m \u001b[49m\u001b[43mworskheet_field_storage\u001b[49m\u001b[43m)\u001b[49m\n",
      "Cell \u001b[0;32mIn[362], line 67\u001b[0m, in \u001b[0;36mhandle_candidate_messages_v2\u001b[0;34m(conversation_history, worskheet_field_storage)\u001b[0m\n\u001b[1;32m     64\u001b[0m field_rules \u001b[38;5;241m=\u001b[39m get_fields_rules(parsed_yaml, state)\n\u001b[1;32m     66\u001b[0m js_found_fields \u001b[38;5;241m=\u001b[39m find_discussed_fields(field_rules, conversation_history, \u001b[38;5;241m*\u001b[39m\u001b[38;5;241m*\u001b[39mkwargs)\n\u001b[0;32m---> 67\u001b[0m validated_fields \u001b[38;5;241m=\u001b[39m \u001b[43mvalidate_fields\u001b[49m\u001b[43m(\u001b[49m\u001b[43mfield_rules\u001b[49m\u001b[43m,\u001b[49m\u001b[43m \u001b[49m\u001b[43mjs_found_fields\u001b[49m\u001b[43m,\u001b[49m\u001b[43m \u001b[49m\u001b[38;5;241;43m*\u001b[39;49m\u001b[38;5;241;43m*\u001b[39;49m\u001b[43mkwargs\u001b[49m\u001b[43m)\u001b[49m\n\u001b[1;32m     69\u001b[0m found_fields \u001b[38;5;241m=\u001b[39m merge_fields(js_found_fields, validated_fields)\n\u001b[1;32m     71\u001b[0m append_keys_to_storage_v2(subject_name, found_fields, worskheet_field_storage)\n",
      "Cell \u001b[0;32mIn[310], line 25\u001b[0m, in \u001b[0;36mvalidate_fields\u001b[0;34m(fields_rules, fields_to_validate, **kwargs)\u001b[0m\n\u001b[1;32m      6\u001b[0m     actual_fields \u001b[38;5;241m=\u001b[39m \u001b[38;5;124m'\u001b[39m\u001b[38;5;130;01m\\n\u001b[39;00m\u001b[38;5;124m'\u001b[39m\u001b[38;5;241m.\u001b[39mjoin([ \u001b[38;5;124mf\u001b[39m\u001b[38;5;124m'\u001b[39m\u001b[38;5;132;01m{\u001b[39;00mf[\u001b[38;5;124m'\u001b[39m\u001b[38;5;124mfield_name\u001b[39m\u001b[38;5;124m'\u001b[39m]\u001b[38;5;132;01m}\u001b[39;00m\u001b[38;5;124m: \u001b[39m\u001b[38;5;132;01m{\u001b[39;00mf[\u001b[38;5;124m'\u001b[39m\u001b[38;5;124mvalue\u001b[39m\u001b[38;5;124m'\u001b[39m]\u001b[38;5;132;01m}\u001b[39;00m\u001b[38;5;124m'\u001b[39m \u001b[38;5;28;01mfor\u001b[39;00m f \u001b[38;5;129;01min\u001b[39;00m fields_to_validate])\n\u001b[1;32m      8\u001b[0m     response \u001b[38;5;241m=\u001b[39m tget_gpt(\u001b[38;5;124mf\u001b[39m\u001b[38;5;124m\"\"\"\u001b[39m\n\u001b[1;32m      9\u001b[0m \u001b[38;5;124mPlease validate the field values, focusing on their meanings rather than their formatting, character case, or similar aspects. \u001b[39m\n\u001b[1;32m     10\u001b[0m \u001b[38;5;124mThis is needed for a worksheet that might be filled out via voice, which can introduce format variations.\u001b[39m\n\u001b[0;32m   (...)\u001b[0m\n\u001b[1;32m     22\u001b[0m \u001b[38;5;130;01m}}\u001b[39;00m\u001b[38;5;124m]\u001b[39m\n\u001b[1;32m     23\u001b[0m \u001b[38;5;124m    \u001b[39m\u001b[38;5;124m\"\"\"\u001b[39m, \u001b[38;5;241m*\u001b[39m\u001b[38;5;241m*\u001b[39mkwargs)\n\u001b[0;32m---> 25\u001b[0m     \u001b[38;5;28;01mreturn\u001b[39;00m \u001b[43mselect_json_block\u001b[49m\u001b[43m(\u001b[49m\u001b[43mresponse\u001b[49m\u001b[43m)\u001b[49m\n",
      "Cell \u001b[0;32mIn[305], line 11\u001b[0m, in \u001b[0;36mselect_json_block\u001b[0;34m(text)\u001b[0m\n\u001b[1;32m      9\u001b[0m     json_data \u001b[38;5;241m=\u001b[39m match\u001b[38;5;241m.\u001b[39mgroup(\u001b[38;5;241m1\u001b[39m)\n\u001b[1;32m     10\u001b[0m \u001b[38;5;28;01melse\u001b[39;00m:\n\u001b[0;32m---> 11\u001b[0m     \u001b[38;5;28;01mraise\u001b[39;00m \u001b[38;5;167;01mValueError\u001b[39;00m(\u001b[38;5;124m\"\u001b[39m\u001b[38;5;124mNo valid JSON data found in the string.\u001b[39m\u001b[38;5;124m\"\u001b[39m)\n\u001b[1;32m     13\u001b[0m \u001b[38;5;28;01mreturn\u001b[39;00m json\u001b[38;5;241m.\u001b[39mloads(json_data)\n",
      "\u001b[0;31mValueError\u001b[0m: No valid JSON data found in the string."
     ]
    }
   ],
   "source": [
    "handle_candidate_messages_v2(conversation_history, worskheet_field_storage)"
   ]
  },
  {
   "cell_type": "code",
   "execution_count": 301,
   "id": "74379b21-6a83-4619-8575-91e674a78088",
   "metadata": {},
   "outputs": [
    {
     "data": {
      "text/plain": [
       "'security guard: My name is Carlos\\nsecurity guard: My name Carlos\\nsecurity guard: My name carlos'"
      ]
     },
     "execution_count": 301,
     "metadata": {},
     "output_type": "execute_result"
    }
   ],
   "source": [
    "build_conversation_prompt(conversation_history)"
   ]
  },
  {
   "cell_type": "code",
   "execution_count": 299,
   "id": "aa7442a6-3198-4670-ac54-d6f82ac18171",
   "metadata": {},
   "outputs": [
    {
     "data": {
      "text/plain": [
       "[Message(text='My name is Carlos', message_type='response', from_='security guard'),\n",
       " Message(text='My name Carlos', message_type='response', from_='security guard'),\n",
       " Message(text='My name carlos', message_type='response', from_='security guard')]"
      ]
     },
     "execution_count": 299,
     "metadata": {},
     "output_type": "execute_result"
    }
   ],
   "source": [
    "conversation_history"
   ]
  },
  {
   "cell_type": "code",
   "execution_count": null,
   "id": "39c9808a-059b-48a0-9744-71ac04b78051",
   "metadata": {},
   "outputs": [],
   "source": [
    "for k in trace.get_all_traces().keys():\n",
    "    print(str(k))"
   ]
  },
  {
   "cell_type": "code",
   "execution_count": null,
   "id": "f81d479e-d1c8-499f-bcc6-ba465b6b686b",
   "metadata": {},
   "outputs": [],
   "source": [
    "# print(trace.get_all_traces()[-1])\n",
    "\n",
    "display(JSON(trace.get_all_traces()))"
   ]
  },
  {
   "cell_type": "code",
   "execution_count": 384,
   "id": "f4ac019c-8e84-485f-8b2e-deeeae4c9a1c",
   "metadata": {
    "scrolled": true
   },
   "outputs": [
    {
     "data": {
      "text/html": [
       "<pre><h2>Prompt:</h2>\n",
       "\n",
       "Please find entities at speech of Latin America candidate on security guy position.\n",
       "\n",
       "Here is possible fields:\n",
       "{'  - address: string<br>    description: Address (street and house number)<br>  - sector: string<br>    description: Sector (city district)<br>  - city: string<br>    description: City<br>  - home_phone: string<br>    description: Home phone (obsolete)<br>  - mobile_phone: string<br>    description: Mobile phone<br>  - pager: string<br>    description: Pager (obsolete)'}\n",
       "\n",
       "Here is conversation:\n",
       "security guard: What to do?\n",
       "security guard: What to do?\n",
       "\n",
       "Please recognize which field or field mentioned at latest message from security guard.\n",
       " \n",
       "Please put result info json format, like this ```json```. For instance:\n",
       "[{\n",
       "    'field_name': <field_name>,\n",
       "    'value': <field value>\n",
       "}]\n",
       "\n",
       "\n",
       "<h4>Response:</h4>\n",
       "Based on the provided conversation, there are no specific fields or values mentioned that match the possible fields you listed. The conversation only includes the repeated question \"What to do?\" from the security guard, which does not provide any information related to address, sector, city, home phone, mobile phone, or pager.\n",
       "\n",
       "Therefore, the result would be an empty list as no relevant entities were found in the conversation.\n",
       "\n",
       "```json\n",
       "[]\n",
       "```\n",
       "<h2>Prompt:</h2>\n",
       "\n",
       "Please validate the field values, focusing on their meanings rather than their formatting, character case, or similar aspects. \n",
       "This is needed for a worksheet that might be filled out via voice, which can introduce format variations.\n",
       "\n",
       "The rules:\n",
       "\n",
       "\n",
       "The actual field values:\n",
       "\n",
       "\n",
       "Please put response into ```json``` structure, for example:\n",
       "[{\n",
       "    'field_name': <field_name>,\n",
       "    'validation_error': <field validation error or null>\n",
       "}]\n",
       "    \n",
       "<h4>Response:</h4>\n",
       "Sure, I can help with that. However, I need the actual field values and the rules for validation to proceed. Could you please provide those details?\n",
       "</pre>"
      ],
      "text/plain": [
       "<IPython.core.display.HTML object>"
      ]
     },
     "metadata": {},
     "output_type": "display_data"
    }
   ],
   "source": [
    "display_pretty_trace('1551ca91-b210-4598-a236-c0d8d1b0ca9e')"
   ]
  },
  {
   "cell_type": "code",
   "execution_count": 397,
   "id": "2ca3ac47-bb87-4093-bf4d-147c4a05b602",
   "metadata": {
    "scrolled": true
   },
   "outputs": [
    {
     "data": {
      "text/html": [
       "<pre><h2>Prompt:</h2>\n",
       "\n",
       "Please find entities at speech of Latin America candidate on security guy position.\n",
       "\n",
       "Here is possible fields:\n",
       "{'  - address: string<br>    description: Address (street and house number)<br>  - sector: string<br>    description: Sector (city district)<br>  - city: string<br>    description: City<br>  - home_phone: string<br>    description: Home phone (obsolete)<br>  - mobile_phone: string<br>    description: Mobile phone'}\n",
       "\n",
       "Here is conversation:\n",
       "recruiter: Thank you for providing your contact information. Can you please tell me your first names?\n",
       "security guard: What next?\n",
       "\n",
       "Please recognize which field or field mentioned at latest message from security guard.\n",
       " \n",
       "Please put result info json format, like this ```json```. For instance:\n",
       "[{\n",
       "    'field_name': <field_name>,\n",
       "    'value': <field value>\n",
       "}]\n",
       "\n",
       "\n",
       "<h4>Response:</h4>\n",
       "Based on the provided conversation, the security guard did not mention any specific field or provide any information that matches the fields listed. Therefore, there are no entities to extract from the latest message from the security guard.\n",
       "\n",
       "Here is the result in JSON format:\n",
       "\n",
       "```json\n",
       "[]\n",
       "```\n",
       "<h2>Prompt:</h2>\n",
       "\n",
       "Please validate the field values, focusing on their meanings rather than their formatting, character case, or similar aspects. \n",
       "This is needed for a worksheet that might be filled out via voice, which can introduce format variations.\n",
       "\n",
       "The rules:\n",
       "\n",
       "\n",
       "The actual field values:\n",
       "\n",
       "\n",
       "Please put response into ```json``` structure, for example:\n",
       "[{\n",
       "    'field_name': <field_name>,\n",
       "    'validation_error': <field validation error or null>\n",
       "}]\n",
       "    \n",
       "<h4>Response:</h4>\n",
       "Sure, I can help with that. However, I need the actual field values and the rules for validation to proceed. Could you please provide those details?\n",
       "</pre>"
      ],
      "text/plain": [
       "<IPython.core.display.HTML object>"
      ]
     },
     "metadata": {},
     "output_type": "display_data"
    }
   ],
   "source": [
    "latest_trace = list(trace.get_all_traces().keys())[-1]\n",
    "display_pretty_trace(latest_trace)"
   ]
  },
  {
   "cell_type": "code",
   "execution_count": null,
   "id": "927d2556-ca01-4603-8d12-ccef60787def",
   "metadata": {},
   "outputs": [],
   "source": [
    "trace.get_trace('50f2acb6-30c2-4ee7-85a3-07c4d24a9d3f')"
   ]
  },
  {
   "cell_type": "code",
   "execution_count": 396,
   "id": "45988a7b-96ec-41c4-9cdd-0e403f5b32fa",
   "metadata": {},
   "outputs": [
    {
     "ename": "KeyError",
     "evalue": "'24ccb200-266d-4ec4-a4a8-72b253768dbc'",
     "output_type": "error",
     "traceback": [
      "\u001b[0;31m---------------------------------------------------------------------------\u001b[0m",
      "\u001b[0;31mKeyError\u001b[0m                                  Traceback (most recent call last)",
      "Cell \u001b[0;32mIn[396], line 1\u001b[0m\n\u001b[0;32m----> 1\u001b[0m \u001b[43mtrace\u001b[49m\u001b[38;5;241;43m.\u001b[39;49m\u001b[43mget_all_traces\u001b[49m\u001b[43m(\u001b[49m\u001b[43m)\u001b[49m\u001b[43m[\u001b[49m\u001b[38;5;124;43m'\u001b[39;49m\u001b[38;5;124;43m24ccb200-266d-4ec4-a4a8-72b253768dbc\u001b[39;49m\u001b[38;5;124;43m'\u001b[39;49m\u001b[43m]\u001b[49m\n",
      "\u001b[0;31mKeyError\u001b[0m: '24ccb200-266d-4ec4-a4a8-72b253768dbc'"
     ]
    }
   ],
   "source": [
    "trace.get_all_traces()['24ccb200-266d-4ec4-a4a8-72b253768dbc']"
   ]
  },
  {
   "cell_type": "markdown",
   "id": "94bd48d5-fdeb-4af3-841e-fab0894b4c09",
   "metadata": {},
   "source": [
    "## Interface"
   ]
  },
  {
   "cell_type": "code",
   "execution_count": 385,
   "id": "e5a7d83a-54a8-44bb-a9bb-acadcb75adb5",
   "metadata": {},
   "outputs": [],
   "source": [
    "worskheet_field_storage = {}\n",
    "conversation_history = []"
   ]
  },
  {
   "cell_type": "code",
   "execution_count": 394,
   "id": "5e548098-423b-4515-8474-204c140fe5f8",
   "metadata": {},
   "outputs": [],
   "source": [
    "with open('./dataset/worksheet.yml', 'r') as f:\n",
    "    yml_schema = f.read()\n",
    "\n",
    "parsed_yaml = yaml.safe_load(yml_schema)"
   ]
  },
  {
   "cell_type": "code",
   "execution_count": 386,
   "id": "b87a8e83-2199-4eb9-8f1a-188b4d36c8e0",
   "metadata": {},
   "outputs": [
    {
     "name": "stdout",
     "output_type": "stream",
     "text": [
      "dict_keys(['personal_info', 'contact_info', 'physical_attributes', 'family_info', 'emergency_contact_info', 'education_info', 'work_experience_info', 'references_info', 'consent_info'])\n"
     ]
    }
   ],
   "source": [
    "worskheet_field_storage['state'] = 'contact_info'\n",
    "\n",
    "print(parsed_yaml['subjects'].keys())"
   ]
  },
  {
   "cell_type": "code",
   "execution_count": 395,
   "id": "c26a6c1a-dbca-4a9a-a3b0-f69c1804b94b",
   "metadata": {},
   "outputs": [
    {
     "name": "stdout",
     "output_type": "stream",
     "text": [
      "Running on local URL:  http://127.0.0.1:7897\n",
      "\n",
      "To create a public link, set `share=True` in `launch()`.\n"
     ]
    },
    {
     "data": {
      "text/html": [
       "<div><iframe src=\"http://127.0.0.1:7897/\" width=\"100%\" height=\"500\" allow=\"autoplay; camera; microphone; clipboard-read; clipboard-write;\" frameborder=\"0\" allowfullscreen></iframe></div>"
      ],
      "text/plain": [
       "<IPython.core.display.HTML object>"
      ]
     },
     "metadata": {},
     "output_type": "display_data"
    },
    {
     "data": {
      "text/plain": []
     },
     "execution_count": 395,
     "metadata": {},
     "output_type": "execute_result"
    },
    {
     "name": "stdout",
     "output_type": "stream",
     "text": [
      "Parent trace id: 071e2b63-29a7-4f9f-b771-56cccde037b4\n",
      "State: contact_info\n"
     ]
    },
    {
     "name": "stderr",
     "output_type": "stream",
     "text": [
      "Traceback (most recent call last):\n",
      "  File \"/Users/valuamba/projs/components_agent_sales/venv/lib/python3.12/site-packages/gradio/queueing.py\", line 532, in process_events\n",
      "    response = await route_utils.call_process_api(\n",
      "               ^^^^^^^^^^^^^^^^^^^^^^^^^^^^^^^^^^^\n",
      "  File \"/Users/valuamba/projs/components_agent_sales/venv/lib/python3.12/site-packages/gradio/route_utils.py\", line 276, in call_process_api\n",
      "    output = await app.get_blocks().process_api(\n",
      "             ^^^^^^^^^^^^^^^^^^^^^^^^^^^^^^^^^^^\n",
      "  File \"/Users/valuamba/projs/components_agent_sales/venv/lib/python3.12/site-packages/gradio/blocks.py\", line 1928, in process_api\n",
      "    result = await self.call_function(\n",
      "             ^^^^^^^^^^^^^^^^^^^^^^^^^\n",
      "  File \"/Users/valuamba/projs/components_agent_sales/venv/lib/python3.12/site-packages/gradio/blocks.py\", line 1512, in call_function\n",
      "    prediction = await fn(*processed_input)\n",
      "                 ^^^^^^^^^^^^^^^^^^^^^^^^^^\n",
      "  File \"/Users/valuamba/projs/components_agent_sales/venv/lib/python3.12/site-packages/gradio/utils.py\", line 799, in async_wrapper\n",
      "    response = await f(*args, **kwargs)\n",
      "               ^^^^^^^^^^^^^^^^^^^^^^^^\n",
      "  File \"/Users/valuamba/projs/components_agent_sales/venv/lib/python3.12/site-packages/gradio/chat_interface.py\", line 546, in _submit_fn\n",
      "    response = await anyio.to_thread.run_sync(\n",
      "               ^^^^^^^^^^^^^^^^^^^^^^^^^^^^^^^\n",
      "  File \"/Users/valuamba/projs/components_agent_sales/venv/lib/python3.12/site-packages/anyio/to_thread.py\", line 56, in run_sync\n",
      "    return await get_async_backend().run_sync_in_worker_thread(\n",
      "           ^^^^^^^^^^^^^^^^^^^^^^^^^^^^^^^^^^^^^^^^^^^^^^^^^^^^\n",
      "  File \"/Users/valuamba/projs/components_agent_sales/venv/lib/python3.12/site-packages/anyio/_backends/_asyncio.py\", line 2144, in run_sync_in_worker_thread\n",
      "    return await future\n",
      "           ^^^^^^^^^^^^\n",
      "  File \"/Users/valuamba/projs/components_agent_sales/venv/lib/python3.12/site-packages/anyio/_backends/_asyncio.py\", line 851, in run\n",
      "    result = context.run(func, *args)\n",
      "             ^^^^^^^^^^^^^^^^^^^^^^^^\n",
      "  File \"/var/folders/x2/0f74_mmn0ts5qbnsn_wp241w0000gn/T/ipykernel_68288/1650590510.py\", line 12, in echo\n",
      "    message = handle_candidate_messages_v2(conversation_history, worskheet_field_storage)\n",
      "              ^^^^^^^^^^^^^^^^^^^^^^^^^^^^^^^^^^^^^^^^^^^^^^^^^^^^^^^^^^^^^^^^^^^^^^^^^^^\n",
      "  File \"/var/folders/x2/0f74_mmn0ts5qbnsn_wp241w0000gn/T/ipykernel_68288/841583756.py\", line 67, in handle_candidate_messages_v2\n",
      "    validated_fields = validate_fields(field_rules, js_found_fields, **kwargs)\n",
      "                       ^^^^^^^^^^^^^^^^^^^^^^^^^^^^^^^^^^^^^^^^^^^^^^^^^^^^^^^\n",
      "  File \"/var/folders/x2/0f74_mmn0ts5qbnsn_wp241w0000gn/T/ipykernel_68288/3494545086.py\", line 25, in validate_fields\n",
      "    return select_json_block(response)\n",
      "           ^^^^^^^^^^^^^^^^^^^^^^^^^^^\n",
      "  File \"/var/folders/x2/0f74_mmn0ts5qbnsn_wp241w0000gn/T/ipykernel_68288/3374481240.py\", line 11, in select_json_block\n",
      "    raise ValueError(\"No valid JSON data found in the string.\")\n",
      "ValueError: No valid JSON data found in the string.\n"
     ]
    }
   ],
   "source": [
    "import gradio as gr\n",
    "\n",
    "\n",
    "hist = None\n",
    "def echo(message, history):\n",
    "    conversation_history.append(Message(\n",
    "        from_=FromType.SecurityGuard,\n",
    "        text=message,\n",
    "        message_type=MessageType.Response\n",
    "    ))\n",
    "\n",
    "    message = handle_candidate_messages_v2(conversation_history, worskheet_field_storage)\n",
    "    \n",
    "    conversation_history.append(message)\n",
    "    return message.text\n",
    "    \n",
    "\n",
    "demo = gr.ChatInterface(fn=echo, examples=[\"hello\", \"hola\", \"merhaba\"], title=\"Echo Bot\", chatbot=gr.Chatbot(height=300))\n",
    "demo.launch()"
   ]
  },
  {
   "cell_type": "code",
   "execution_count": 323,
   "id": "d95155c7-4ea6-4464-8b09-ec18e9a92bae",
   "metadata": {},
   "outputs": [
    {
     "data": {
      "text/plain": [
       "[Message(text='My name is Carlos', message_type='response', from_='security guard'),\n",
       " Message(text='My name Carlos', message_type='response', from_='security guard'),\n",
       " Message(text='My name carlos', message_type='response', from_='security guard')]"
      ]
     },
     "execution_count": 323,
     "metadata": {},
     "output_type": "execute_result"
    }
   ],
   "source": [
    "conversation_history"
   ]
  },
  {
   "cell_type": "code",
   "execution_count": 224,
   "id": "d5482e01-0654-4354-9b6c-2d5132bf56d7",
   "metadata": {},
   "outputs": [
    {
     "data": {
      "text/plain": [
       "[Message(text='Perfect. And your ID number?', message_type='field_request', from_='recruiter'),\n",
       " Message(text='123', message_type='response', from_='security guard'),\n",
       " Message(text=\"Could you please provide your ID number in the correct format (###-########-#)? The last digit should be a checksum. Currently, we have '123' which does not match the required format. Thank you!\", message_type='clarification', from_='recruiter')]"
      ]
     },
     "execution_count": 224,
     "metadata": {},
     "output_type": "execute_result"
    }
   ],
   "source": [
    "# Find the index of the latest 'field_request' message\n",
    "latest_field_request_index = max(i for i, msg in enumerate(conversation_history) if msg.message_type == 'field_request')\n",
    "\n",
    "# Include the latest 'field_request' message\n",
    "selected_messages = [conversation_history[latest_field_request_index]]\n",
    "\n",
    "# Extract messages starting from the latest 'field_request' until a new 'field_request' appears or the end of the list\n",
    "for msg in conversation_history[latest_field_request_index + 1:]:\n",
    "    if msg.message_type == 'field_request':\n",
    "        break\n",
    "    selected_messages.append(msg)\n",
    "\n",
    "selected_messages"
   ]
  },
  {
   "cell_type": "markdown",
   "id": "fdad74f4-edcd-4177-a547-17b4c9fba05b",
   "metadata": {},
   "source": [
    "## разделить промпты чтобы один классифицировал поле, второй писал сообщение "
   ]
  },
  {
   "cell_type": "markdown",
   "id": "ab82fb63-4732-4b42-a116-4a80b6f37084",
   "metadata": {},
   "source": [
    "## Test Another prompt"
   ]
  },
  {
   "cell_type": "code",
   "execution_count": 321,
   "id": "8f12db6d-f3c8-48fc-8448-5f8e82e23d4d",
   "metadata": {},
   "outputs": [
    {
     "name": "stdout",
     "output_type": "stream",
     "text": [
      "\n",
      "Please find entities at speech of Latin America candidate on security guy position.\n",
      "\n",
      "Here is possible fields:\n",
      "{\"  - first_names: string\\n    description: First names (can be multiple in Hispanic cultures)\\n  - last_names: string\\n    description: Last name of security guard\\n  - gender: string\\n    description: Gender (Male or Female)\\n  - id_number: string\\n    description: ID number. Format ###-########-#, last digit is a checksum\\n  - has_drivers_license: boolean\\n    description: Do you have a driver's license?\\n  - license_category: string\\n    description: Driver's license category\\n    possible values: A, B, C, D, E, F\\n  - birth_date: string\\n    description: Date of birth\\n  - birth_place: string\\n    description: Place of birth\\n  - nationality: string\\n    description: Nationality (non-citizens cannot be security guards)\\n  - marital_status: string\\n    description: Marital status: Married, Single, Civil union\\n    possible values: Married, Single, Civil union\"}\n",
      "\n",
      "Here is conversation:\n",
      "security guard: My name is Carlos\n",
      "security guard: My name Carlos\n",
      "security guard: My name carlos\n",
      "\n",
      "Please recognize which field or field mentioned at latest message from security guard.\n",
      " \n",
      "Please put result info json format, like this ```json```. For instance:\n",
      "[{\n",
      "    'field_name': <field_name>,\n",
      "    'value': <field value>\n",
      "}]\n",
      "\n",
      "\n"
     ]
    }
   ],
   "source": [
    "print(trace.get_trace('50f2acb6-30c2-4ee7-85a3-07c4d24a9d3f')[0]['content'])"
   ]
  },
  {
   "cell_type": "code",
   "execution_count": 327,
   "id": "7355cee6-92d1-4c0b-9fff-1e94a65bddc0",
   "metadata": {},
   "outputs": [
    {
     "name": "stdout",
     "output_type": "stream",
     "text": [
      "```json\n",
      "[\n",
      "    {\n",
      "        \"field_name\": \"has_drivers_license\",\n",
      "        \"value\": false\n",
      "    },\n",
      "    {\n",
      "        \"field_name\": \"license_category\",\n",
      "        \"value\": null\n",
      "    }\n",
      "]\n",
      "```"
     ]
    }
   ],
   "source": [
    "response = get_gpt(\"\"\"\n",
    "Please find entities at speech of Latin America candidate on security guy position. \n",
    "If there more than one entity or entity ralted you can specify them.\n",
    "\n",
    "Here is possible fields:\n",
    "- first_names: string\n",
    "  description: First names (can be multiple in Hispanic cultures)\n",
    "- last_names: string\n",
    "  description: Last name of security guard\n",
    "- gender: string\n",
    "  description: Gender (Male or Female)\n",
    "- id_number: string\n",
    "  description: ID number. Format ###-########-#, last digit is a checksum\n",
    "- has_drivers_license: boolean\n",
    "  description: Do you have a driver's license?\n",
    "- license_category: string\n",
    "  description: Driver's license category\n",
    "  possible values: A, B, C, D, E, F\n",
    "- birth_date: string\n",
    "  description: Date of birth\n",
    "- birth_place: string\n",
    "  description: Place of birth\n",
    "- nationality: string\n",
    "  description: Nationality (non-citizens cannot be security guards)\n",
    "- marital_status: string\n",
    "  description: Marital status: Married, Single, Civil union\n",
    "  possible values: Married, Single, Civil union\n",
    "\n",
    "When the value of one field logically precludes or invalidates the relevance of other fields, those dependent fields should be set to null. \n",
    "Apply this principle to ensure data integrity and relevance across all fields, irrespective of their types.\n",
    "  \n",
    "Here is conversation:\n",
    "recruiter: Do you have driver license?\n",
    "security guard: No\n",
    "\n",
    "Please recognize which field or field mentioned at latest message from security guard.\n",
    " \n",
    "Please put result info json format, like this ```json```. For instance:\n",
    "[{{\n",
    "    'field_name': <field_name>,\n",
    "    'value': <field value>\n",
    "}}]\n",
    "\"\"\", model='gpt-4o')"
   ]
  },
  {
   "cell_type": "code",
   "execution_count": 61,
   "id": "d1ea3d30-1234-4c23-a49f-9eefff48ac3c",
   "metadata": {},
   "outputs": [
    {
     "name": "stdout",
     "output_type": "stream",
     "text": [
      "birth_date: Sept 14\n"
     ]
    }
   ],
   "source": [
    "actual_fields = '\\n'.join([ f'{f['field_name']}: {f['value']}' for f in json_data])\n",
    "print(actual_fields)"
   ]
  },
  {
   "cell_type": "code",
   "execution_count": 51,
   "id": "9772dc2f-1c28-4790-83bf-fa70acfbda6d",
   "metadata": {},
   "outputs": [
    {
     "data": {
      "text/plain": [
       "[{'name': 'birth_date',\n",
       "  'description': 'Date of birth',\n",
       "  'required': True,\n",
       "  'schema': {'type': 'string'}}]"
      ]
     },
     "execution_count": 51,
     "metadata": {},
     "output_type": "execute_result"
    }
   ],
   "source": [
    "matched_fields = [f for f in subject['fields'] if f['name'] in filled_fields]\n",
    "matched_fields"
   ]
  },
  {
   "cell_type": "code",
   "execution_count": 56,
   "id": "cefd2e49-19c7-4d7f-a81a-82f0cc8d36ab",
   "metadata": {},
   "outputs": [
    {
     "data": {
      "text/plain": [
       "'  - birth_date: string\\n    description: Date of birth'"
      ]
     },
     "execution_count": 56,
     "metadata": {},
     "output_type": "execute_result"
    }
   ],
   "source": [
    "fields_rules = '\\n'.join([build_field_prompt(f) for f in matched_fields])\n",
    "fields_rules"
   ]
  },
  {
   "cell_type": "code",
   "execution_count": 65,
   "id": "dbacc86b-1a1c-41e1-90bb-7897dde663c1",
   "metadata": {},
   "outputs": [],
   "source": [
    "def validate_fields(fields_rules, actual_fields):\n",
    "    response = get_gpt(f\"\"\"\n",
    "Please validate the field value. Validate by value, not by field format.\n",
    "\n",
    "The rules:\n",
    "{fields_rules}\n",
    "\n",
    "The actual field values:\n",
    "{actual_fields}\n",
    "\n",
    "Please put response into ```json``` structure, for example:\n",
    "[{{\n",
    "    'field_name': <field_name>,\n",
    "    'validation_error': <field validation error or null>\n",
    "}}]\n",
    "    \"\"\")\n",
    "\n",
    "    return select_json_block(response)"
   ]
  },
  {
   "cell_type": "code",
   "execution_count": null,
   "id": "84d9b352-1ad1-4bb8-b157-77fbc3324b9d",
   "metadata": {},
   "outputs": [],
   "source": [
    "validate_fields()"
   ]
  },
  {
   "cell_type": "code",
   "execution_count": 32,
   "id": "56e6d931-ecad-4cc3-b204-707ff0babd90",
   "metadata": {},
   "outputs": [
    {
     "name": "stdout",
     "output_type": "stream",
     "text": [
      "  - first_names: string\n",
      "    description: First names (can be multiple in Hispanic cultures)\n",
      "  - last_names: string\n",
      "    description: Last name of security guard\n",
      "  - gender: string\n",
      "    description: Gender (Male or Female)\n",
      "  - id_number: string\n",
      "    description: ID number. Format ###-########-#, last digit is a checksum\n",
      "  - has_drivers_license: boolean\n",
      "    description: Do you have a driver's license?\n",
      "  - license_category: string\n",
      "    description: Driver's license category\n",
      "    possible values: A, B, C, D, E, F\n",
      "  - birth_date: string\n",
      "    description: Date of birth\n",
      "  - birth_place: string\n",
      "    description: Place of birth\n",
      "  - nationality: string\n",
      "    description: Nationality (non-citizens cannot be security guards)\n",
      "  - marital_status: string\n",
      "    description: Marital status: Married, Single, Civil union\n",
      "    possible values: Married, Single, Civil union\n"
     ]
    }
   ],
   "source": [
    "fields_str = '\\n'.join(build_prompt_from_subject_fields(subject['fields']))\n",
    "\n",
    "print(fields_str)"
   ]
  },
  {
   "cell_type": "code",
   "execution_count": 43,
   "id": "57682683-a145-4dc1-9034-9bc923cf68f6",
   "metadata": {},
   "outputs": [
    {
     "name": "stdout",
     "output_type": "stream",
     "text": [
      "security guard: What to do?\n",
      "security guard: My name is Carlos Alberto\n",
      "recruiter: Could you please provide the last name of the security guard to complete the 'last_names' field?\n",
      "security guard: García Fernández\n",
      "recruiter: Alright. Say your birth day\n",
      "security guard: Sept 14\n"
     ]
    }
   ],
   "source": [
    "conversation_history_str = '\\n'.join([f\"{message['from']}: {message['text']}\" for message in conversation_history])\n",
    "\n",
    "conversation_history_str += f'\\n{FromType.SecurityGuard}: García Fernández'\n",
    "conversation_history_str += f'\\n{FromType.Recruiter}: Alright. Say your birth day'\n",
    "conversation_history_str += f'\\n{FromType.SecurityGuard}: Sept 14'\n",
    "\n",
    "\n",
    "print(conversation_history_str)"
   ]
  },
  {
   "cell_type": "code",
   "execution_count": null,
   "id": "73ea03cb-10df-49eb-8452-ed603f471e64",
   "metadata": {},
   "outputs": [],
   "source": []
  }
 ],
 "metadata": {
  "kernelspec": {
   "display_name": "gpt",
   "language": "python",
   "name": "gpt"
  },
  "language_info": {
   "codemirror_mode": {
    "name": "ipython",
    "version": 3
   },
   "file_extension": ".py",
   "mimetype": "text/x-python",
   "name": "python",
   "nbconvert_exporter": "python",
   "pygments_lexer": "ipython3",
   "version": "3.12.3"
  }
 },
 "nbformat": 4,
 "nbformat_minor": 5
}
