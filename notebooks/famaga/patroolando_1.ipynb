{
 "cells": [
  {
   "cell_type": "code",
   "execution_count": 11,
   "id": "367d7278-0185-47b2-8b77-38172393ef92",
   "metadata": {},
   "outputs": [],
   "source": [
    "from memoization import get_gpt"
   ]
  },
  {
   "cell_type": "code",
   "execution_count": 1,
   "id": "669fbf89-3e11-494a-9555-2ac688e06ad5",
   "metadata": {},
   "outputs": [],
   "source": [
    "with open('./dataset/worksheet.yml', 'r') as f:\n",
    "    yml_schema = f.read()"
   ]
  },
  {
   "cell_type": "code",
   "execution_count": 133,
   "id": "767933ba-7803-41b0-bdc9-12d57b52db25",
   "metadata": {},
   "outputs": [],
   "source": [
    "import yaml\n",
    "import json\n",
    "import re\n",
    "\n",
    "\n",
    "def select_json_block(text: str):\n",
    "    match = re.search(r\"```json\\n([\\s\\S]*?)\\n```\", text)\n",
    "    if match:\n",
    "        json_data = match.group(1)\n",
    "    else:\n",
    "        raise ValueError(\"No valid JSON data found in the string.\")\n",
    "\n",
    "    return json.loads(json_data)\n",
    "\n",
    "\n",
    "def build_schema(yaml_content):\n",
    "    parsed_yaml = yaml.safe_load(yaml_content)\n",
    "    subjects_schema = {}\n",
    "\n",
    "    for subject, content in parsed_yaml['subjects'].items():\n",
    "        schema = {}\n",
    "        for field in content['fields']:\n",
    "            field_schema = {\n",
    "                \"type\": field['schema']['type']\n",
    "            }\n",
    "            if 'enum' in field['schema']:\n",
    "                field_schema['enum'] = field['schema']['enum']\n",
    "            if 'format' in field['schema']:\n",
    "                field_schema['format'] = field['schema']['format']\n",
    "            \n",
    "            schema[field['name']] = field_schema\n",
    "        \n",
    "        subjects_schema[subject] = schema\n",
    "\n",
    "    return subjects_schema\n",
    "\n",
    "\n",
    "\n",
    "def build_field_prompt(field):\n",
    "    field_instructions = []\n",
    "    field_description = f\"  - {field['name']}: {field['schema']['type']}\"\n",
    "    if 'format' in field['schema']:\n",
    "        field_description += f\" ({field['schema']['format']} format)\"\n",
    "    field_instructions.append(field_description)\n",
    "            \n",
    "    field_metadata = f\"    description: {field['description']}\"\n",
    "    field_instructions.append(field_metadata)\n",
    "            \n",
    "    if 'enum' in field['schema']:\n",
    "        possible_values = f\"    possible values: {', '.join(field['schema']['enum'])}\"\n",
    "        field_instructions.append(possible_values)\n",
    "\n",
    "    return '\\n'.join(field_instructions)\n",
    "    \n",
    "\n",
    "def build_schema_prompt(yaml_content, subject: str = None):\n",
    "    parsed_yaml = yaml.safe_load(yaml_content)\n",
    "    instructions = []\n",
    "\n",
    "    subjects = parsed_yaml['subjects']\n",
    "\n",
    "    if subject:\n",
    "        subjects = {subject: subjects[subject]} if subject in subjects else {}\n",
    "\n",
    "    for subject_name, content in subjects.items():\n",
    "        subject_description = f\"{subject_name}: {content['description']}\"\n",
    "        instructions.append(subject_description)\n",
    "        \n",
    "        for field in content['fields']:\n",
    "            field_description = f\"  - {field['name']}: {field['schema']['type']}\"\n",
    "            if 'format' in field['schema']:\n",
    "                field_description += f\" ({field['schema']['format']} format)\"\n",
    "            instructions.append(field_description)\n",
    "            \n",
    "            field_metadata = f\"    description: {field['description']}\"\n",
    "            instructions.append(field_metadata)\n",
    "            \n",
    "            if 'enum' in field['schema']:\n",
    "                possible_values = f\"    possible values: {', '.join(field['schema']['enum'])}\"\n",
    "                instructions.append(possible_values)\n",
    "\n",
    "    return \"\\n\".join(instructions)\n",
    "\n",
    "\n",
    "def define_worksheet_fields(subject, subject_fields: dict, conversation_history, **kwargs):\n",
    "    subject_str = f'{subject['name']}: {subject['description']}'\n",
    "    fields_str = '\\n'.join(build_prompt_from_subject_fields(subject_fields))\n",
    "\n",
    "    conversation_history_str = '\\n'.join([f\"{message['from']}: {message['text']}\" for message in conversation_history])\n",
    "\n",
    "    prompt = f\"\"\"\n",
    "Please find entities at speech of Latin America candidate on security guy position.\n",
    "\n",
    "Here is possible fields:\n",
    "{subject_str}\n",
    "{fields_str}\n",
    "\n",
    "Here is conversation:\n",
    "{conversation_history_str}\n",
    "\n",
    "When analyzing the conversation, follow these guidelines:\n",
    "\n",
    "\t1.\tTrack which fields have been asked about in the conversation.\n",
    "\t2.\tCollect and compile all relevant field information, even if it spans multiple steps.\n",
    "\t3.\tFinalize the field only when all required details have been provided.\n",
    "\t4.\tOnly include incomplete field errors for fields that have been asked about but not fully completed.\n",
    "\t5.\tDo not include errors for fields that have not yet been asked.\n",
    "\n",
    "incomplete_field_error: (array)\n",
    "    field_name: <field name>\n",
    "    current_value: <current field value>\n",
    "    required_details: <required details>\n",
    "\n",
    "    \n",
    "Please put result info json format, like this ```json```.\n",
    "\"\"\"\n",
    "    # print(prompt)\n",
    "    \n",
    "    response = tget_gpt(prompt, model='gpt-4o', temperature=0, **kwargs)\n",
    "\n",
    "    return select_json_block(response)\n",
    "\n",
    "\n",
    "def build_prompt_from_subject_fields(fields):\n",
    "    instructions = []\n",
    "        \n",
    "    for field in fields:\n",
    "        field_description = f\"  - {field['name']}: {field['schema']['type']}\"\n",
    "        if 'format' in field['schema']:\n",
    "            field_description += f\" ({field['schema']['format']} format)\"\n",
    "        instructions.append(field_description)\n",
    "            \n",
    "        field_metadata = f\"    description: {field['description']}\"\n",
    "        instructions.append(field_metadata)\n",
    "            \n",
    "        if 'enum' in field['schema']:\n",
    "            possible_values = f\"    possible values: {', '.join(field['schema']['enum'])}\"\n",
    "            instructions.append(possible_values)\n",
    "    return instructions"
   ]
  },
  {
   "cell_type": "code",
   "execution_count": 146,
   "id": "2608986f-c1bc-4e22-a4ae-5694345f79cf",
   "metadata": {},
   "outputs": [],
   "source": [
    "def clarify_field_details(field_name: str, current_value: str, validation_error: str, **kwargs):\n",
    "    field_error_str = f'field: {field_name}\\ncurrent value: {current_value}\\nrequired details: {validation_error}'\n",
    "    \n",
    "    response = tget_gpt(f\"\"\"\n",
    "You are recruiter. Ensure the accurate and complete collection of candidate information by reasking questions \n",
    "and clarifying details to complete the worksheet field information.\n",
    "\n",
    "**Instructions:**\n",
    "\n",
    "1. **Identify Incomplete Fields:**\n",
    "   - Review the provided list of fields that have incomplete or missing details.\n",
    "\n",
    "2. **Addressing Incomplete Information:**\n",
    "   - For each field with incomplete information, identify the missing details.\n",
    "   - Politely ask the candidate to provide the missing information to complete the field.\n",
    "\n",
    "3. **Sample Prompt Structure:**\n",
    "   - Use a polite and clear approach to reask for the missing details.\n",
    "   - Ensure the candidate understands what specific information is needed.\n",
    "\n",
    "4. **Handling Specific Fields:**\n",
    "   - **Field Name:** Birth Date\n",
    "     - **Current Value:** September 12\n",
    "     - **Required Details:** Year of birth\n",
    "     - **Clarification Prompt:** \"Could you please provide the year of your birth to complete your birth date?\"\n",
    "\n",
    "5. **General Tips:**\n",
    "   - Be patient and understanding if the candidate is unsure or needs time to find the information.\n",
    "   - Confirm with the candidate once the information is provided to ensure accuracy.\n",
    "\n",
    "Please ask for correction by the following field:\n",
    "\n",
    "{field_error_str}\n",
    "\n",
    "Put the response into ```json``` with schema:\n",
    "\n",
    "```\n",
    "{{\n",
    "    \"text\": string // Text message\n",
    "}}\n",
    "    \"\"\", **kwargs)\n",
    "    return select_json_block(response)"
   ]
  },
  {
   "cell_type": "code",
   "execution_count": 135,
   "id": "a2a9c97e-566f-4841-87f1-590d2d7576d0",
   "metadata": {},
   "outputs": [],
   "source": [
    "def next_dialog_step(subject, subject_fields, worksheet_fields: dict, **kwargs):\n",
    "    subject_str = f'{subject['name']}: {subject['description']}'\n",
    "    fields_str = '\\n'.join(build_prompt_from_subject_fields(subject_fields))\n",
    "    \n",
    "    fillded_fields = []\n",
    "    for subject, fields in worskheet_field_storage.items():\n",
    "        fillded_fields.append(f'{subject}:')\n",
    "        for field, value in fields.items():\n",
    "            fillded_fields.append(f'   - {field}: {value}')\n",
    "        fillded_fields.append('')\n",
    "    \n",
    "    response = tget_gpt(f\"\"\"\n",
    "You are a recruiter in Latin America, hiring candidates for a security guard position in a store. \n",
    "For employment, you need to make a call with the candidate and gather all the necessary information to fill out the application form.\n",
    "\n",
    "Your task is to ask the question needed to fill in the next field based on the previous answers.\n",
    "The examples of questions:\n",
    "- Can you please tell me your first names?\n",
    "- Great, thank you. Now, can you tell me your last names?\n",
    "- Thank you. What is your gender?\n",
    "- Perfect. And your ID number?\n",
    "- Alright. Now, your date of birth, please.\n",
    "- Thank you. Can you also tell me your place of birth?\n",
    "\n",
    "Here is already filled fields by user:\n",
    "{'\\n'.join(fillded_fields)}\n",
    "\n",
    "Here is possible fields:\n",
    "{subject_str}\n",
    "{fields_str}\n",
    "\n",
    "Put the response into ```json``` with schema:\n",
    "\n",
    "```\n",
    "{{\n",
    "    \"message\": string // Text message\n",
    "}}\n",
    "\n",
    "\"\"\", **kwargs)\n",
    "\n",
    "    response_data = select_json_block(response)\n",
    "    return response_data\n",
    "    "
   ]
  },
  {
   "cell_type": "code",
   "execution_count": null,
   "id": "968d3665-49b1-4945-b120-324a700cc4a0",
   "metadata": {},
   "outputs": [],
   "source": [
    "subject['fields']"
   ]
  },
  {
   "cell_type": "code",
   "execution_count": 136,
   "id": "5cd40df4-ef4e-4441-b3e7-4acbed94b513",
   "metadata": {},
   "outputs": [],
   "source": [
    "def find_discussed_fields(subject_fields, conversation_history, **kwargs):\n",
    "    subject_fields_str = {'\\n'.join(build_prompt_from_subject_fields(subject_fields))}\n",
    "    conversation_history_str = '\\n'.join([f\"{message['from']}: {message['text']}\" for message in conversation_history])\n",
    "\n",
    "    response = tget_gpt(f\"\"\"\n",
    "Please find entities at speech of Latin America candidate on security guy position.\n",
    "\n",
    "Here is possible fields:\n",
    "{subject_fields_str}\n",
    "\n",
    "Here is conversation:\n",
    "{conversation_history_str}\n",
    "\n",
    "Please recognize which field or field mentioned at latest message from security guard.\n",
    "\n",
    "    \n",
    "Please put result info json format, like this ```json```. For instance:\n",
    "[{{\n",
    "    'field_name': <field_name>,\n",
    "    'value': <field value>\n",
    "}}]\n",
    "\n",
    "\"\"\", **kwargs)\n",
    "\n",
    "    return select_json_block(response)"
   ]
  },
  {
   "cell_type": "code",
   "execution_count": 173,
   "id": "8d7377ec-3705-4e2f-b617-77fbe7bf4d47",
   "metadata": {},
   "outputs": [],
   "source": [
    "def validate_fields(fields_rules, fields, **kwargs):\n",
    "    field_names = [ f['field_name'] for f in fields]\n",
    "    matched_fields = [f for f in subject['fields'] if f['name'] in field_names]\n",
    "    \n",
    "    fields_rules = '\\n'.join([build_field_prompt(f) for f in matched_fields])\n",
    "    actual_fields = '\\n'.join([ f'{f['field_name']}: {f['value']}' for f in fields])\n",
    "\n",
    "    response = tget_gpt(f\"\"\"\n",
    "Please validate the field values, focusing on their meanings rather than their formatting, character case, or similar aspects. \n",
    "This is needed for a worksheet that might be filled out via voice, which can introduce format variations.\n",
    "\n",
    "The rules:\n",
    "{fields_rules}\n",
    "\n",
    "The actual field values:\n",
    "{actual_fields}\n",
    "\n",
    "Please put response into ```json``` structure, for example:\n",
    "[{{\n",
    "    'field_name': <field_name>,\n",
    "    'validation_error': <field validation error or null>\n",
    "}}]\n",
    "    \"\"\", **kwargs)\n",
    "\n",
    "    return select_json_block(response)"
   ]
  },
  {
   "cell_type": "code",
   "execution_count": 82,
   "id": "1013eb75-02ea-4929-bb71-46c5bafeb36a",
   "metadata": {},
   "outputs": [
    {
     "name": "stdout",
     "output_type": "stream",
     "text": [
      "```json\n",
      "{\n",
      "    \"message\": \"Great, thank you. Now, can you tell me your last names?\"\n",
      "}\n",
      "```"
     ]
    }
   ],
   "source": [
    "\n"
   ]
  },
  {
   "cell_type": "code",
   "execution_count": 75,
   "id": "0a3d859b-21f1-48ad-a8af-3262d8966903",
   "metadata": {},
   "outputs": [
    {
     "data": {
      "text/plain": [
       "[{'field_name': 'first_names', 'validation_error': None}]"
      ]
     },
     "execution_count": 75,
     "metadata": {},
     "output_type": "execute_result"
    }
   ],
   "source": [
    "validated_fields"
   ]
  },
  {
   "cell_type": "code",
   "execution_count": null,
   "id": "7c35d8d8-ebe9-4a5c-b1f5-9c15bab9ac65",
   "metadata": {},
   "outputs": [],
   "source": [
    "filled_fields = [r['field_name'] for r in json_data]"
   ]
  },
  {
   "cell_type": "code",
   "execution_count": 80,
   "id": "768940f2-9e11-41fd-a9a4-ed066a140576",
   "metadata": {},
   "outputs": [],
   "source": [
    "parsed_yaml = yaml.safe_load(yml_schema)\n",
    "\n",
    "subject_name = 'personal_info'\n",
    "\n",
    "subject = parsed_yaml['subjects'][subject_name]\n",
    "\n",
    "subject_details = {\n",
    "    'name': subject_name,\n",
    "    'description': subject['description']\n",
    "}\n"
   ]
  },
  {
   "cell_type": "code",
   "execution_count": 158,
   "id": "c418a1ba-a788-40c1-a68c-1573a0faf1d3",
   "metadata": {},
   "outputs": [],
   "source": [
    "from uuid import uuid4\n",
    "import uuid\n",
    "from IPython.display import display, JSON  # For displaying JSON in Jupyter\n",
    "\n",
    "\n",
    "class Trace:\n",
    "\n",
    "    def __init__(self):\n",
    "        self.trace_storage = {}\n",
    "\n",
    "    def relate_with_parent(self, parent_id, obj: dict):\n",
    "        if parent_id not in self.trace_storage:\n",
    "            self.trace_storage[parent_id] = []\n",
    "        self.trace_storage[parent_id].append(obj)\n",
    "\n",
    "    def get_id(self):\n",
    "        return uuid.uuid4()\n",
    "\n",
    "    def create_trace(self, obj: dict):\n",
    "        trace_id = self.get_id()\n",
    "        self.trace_storage[trace_id] = [obj]\n",
    "        return trace_id\n",
    "\n",
    "    def get_trace(self, trace_id):\n",
    "        if trace_id in self.trace_storage:\n",
    "            return self._build_hierarchy(trace_id)\n",
    "        return {}\n",
    "\n",
    "    def _build_hierarchy(self, trace_id):\n",
    "        if trace_id not in self.trace_storage:\n",
    "            return {}\n",
    "        trace_items = self.trace_storage[trace_id]\n",
    "        result = []\n",
    "        for item in trace_items:\n",
    "            item_copy = item.copy()\n",
    "            if 'parent_trace_id' in item_copy:\n",
    "                child_trace_id = item_copy.pop('parent_trace_id')\n",
    "                item_copy['children'] = self._build_hierarchy(child_trace_id)\n",
    "            result.append(item_copy)\n",
    "        return result\n",
    "\n",
    "    def get_all_traces(self):\n",
    "        all_traces = {}\n",
    "        for trace_id in self.trace_storage:\n",
    "            all_traces[trace_id] = self._build_hierarchy(trace_id)\n",
    "        return all_traces\n",
    "\n",
    "\n",
    "def tget_gpt(content, model=\"gpt-4o\", temperature=0, max_tokens=1000, stream=True, **kwargs):\n",
    "    try:\n",
    "        response = get_gpt(content, model, temperature, max_tokens, stream)\n",
    "        trace_data = {\n",
    "            'content': content,\n",
    "            'response': response,\n",
    "            'model': model,\n",
    "            'temperature': temperature,\n",
    "            'max_tokens': max_tokens,\n",
    "            'stream': stream\n",
    "        }\n",
    "        parent_trace_id = kwargs.get('parent_trace_id', None)\n",
    "        if parent_trace_id:\n",
    "            trace.relate_with_parent(parent_trace_id, trace_data)\n",
    "        else:\n",
    "            new_trace_id = trace.create_trace(trace_data)\n",
    "            print(f\"New trace created with ID: {new_trace_id}\")\n",
    "        return response\n",
    "    except Exception as e:\n",
    "        print(f\"An error occurred: {e}\")\n",
    "        trace_data = {\n",
    "            'content': content,\n",
    "            'error': str(e),\n",
    "            'model': model,\n",
    "            'temperature': temperature,\n",
    "            'max_tokens': max_tokens,\n",
    "            'stream': stream\n",
    "        }\n",
    "        parent_trace_id = kwargs.get('parent_trace_id', None)\n",
    "        if parent_trace_id:\n",
    "            trace.relate_with_parent(parent_trace_id, trace_data)\n",
    "        else:\n",
    "            new_trace_id = trace.create_trace(trace_data)\n",
    "            print(f\"New trace created with ID: {new_trace_id}\")\n",
    "        raise\n",
    "\n",
    "\n",
    "def build_pretty_trace(trace_data, indent=0):\n",
    "    output = \"\"\n",
    "    indent_str = \"  \" * indent\n",
    "    for item in trace_data:\n",
    "        output += f\"{indent_str}<h2>Prompt:</h2>\\n{indent_str}{item['content'].replace('\\\\n', '<br>' + indent_str)}\\n\"\n",
    "        if 'response' in item:\n",
    "            output += f\"{indent_str}<h4>Response:</h4>\\n{indent_str}{item['response'].replace('\\\\n', '<br>' + indent_str)}\\n\"\n",
    "        if 'error' in item:\n",
    "            output += f\"{indent_str}<b>Error:</b>\\n{indent_str}{item['error'].replace('\\\\n', '<br>' + indent_str)}\\n\"\n",
    "        if 'children' in item and item['children']:\n",
    "            output += build_pretty_trace(item['children'], indent + 1)\n",
    "    return output\n",
    "\n",
    "\n",
    "def display_pretty_trace(trace_id):\n",
    "    trace_data = trace.get_trace(trace_id)\n",
    "    pretty_trace = build_pretty_trace(trace_data)\n",
    "    # display(JSON(trace.get_all_traces()))\n",
    "    display(HTML(f\"<pre>{pretty_trace}</pre>\"))"
   ]
  },
  {
   "cell_type": "code",
   "execution_count": 118,
   "id": "9b6b484c-dfa3-4cc5-877c-f8a8763ec414",
   "metadata": {},
   "outputs": [],
   "source": [
    "trace = Trace()"
   ]
  },
  {
   "cell_type": "code",
   "execution_count": 151,
   "id": "238896a0-fd76-4652-abfa-44828b8e77cd",
   "metadata": {},
   "outputs": [],
   "source": [
    "from dataclasses import dataclass\n",
    "from typing import Optional, List\n",
    "from uuid import uuid4\n",
    "\n",
    "\n",
    "class FromType:\n",
    "    Recruiter = 'recruiter'\n",
    "    SecurityGuard = 'security guard'\n",
    "\n",
    "\n",
    "def handle_candidate_messages(conversation_history, worskheet_field_storage):\n",
    "    worsheet_result = define_worksheet_fields(subject_details, subject['fields'], conversation_history)\n",
    "\n",
    "    append_keys_to_storage(subject_name, worsheet_result, worskheet_field_storage)\n",
    "\n",
    "    if len(worsheet_result['incomplete_field_error']) > 0:\n",
    "        incomplete_field_error = worsheet_result['incomplete_field_error'][0]\n",
    "\n",
    "    # if incomplete_field_error:\n",
    "        response = clarify_field_details(incomplete_field_error)['text']\n",
    "    else:\n",
    "        response = next_dialog_step(subject_name, subject_fields, worskheet_field_storage)['message']\n",
    "    \n",
    "    return response\n",
    "\n",
    "\n",
    "def merge_fields(js_found_fields: List[dict], validated_fields: List[dict]) -> List[Field]:\n",
    "    field_map = {field['field_name']: Field(name=field['field_name'], value=field['value']) for field in js_found_fields}\n",
    "    \n",
    "    for v_field in validated_fields:\n",
    "        if v_field['field_name'] in field_map:\n",
    "            field_map[v_field['field_name']].validation_error = v_field['validation_error']\n",
    "    \n",
    "    return list(field_map.values())\n",
    "\n",
    "\n",
    "def handle_candidate_messages_v2(conversation_history, worskheet_field_storage): \n",
    "    trace_id = trace.get_id()\n",
    "    kwargs = {}\n",
    "    print(f'Parent trace id: {trace_id}')\n",
    "    parent_trace = {'parent_trace_id': str(trace_id)}\n",
    "    kwargs.update(parent_trace)\n",
    "    \n",
    "    js_found_fields = find_discussed_fields(subject['fields'], conversation_history, **kwargs)\n",
    "    validated_fields = validate_fields(subject['fields'], js_found_fields, **kwargs)\n",
    "    \n",
    "    found_fields = merge_fields(js_found_fields, validated_fields)\n",
    "\n",
    "    append_keys_to_storage_v2(subject_name, found_fields, worskheet_field_storage)\n",
    "    \n",
    "    invalid_field = next((f for f in validated_fields if f['validation_error']), None)\n",
    "    if invalid_field:\n",
    "        field_value = next(f.value for f in found_fields if f.name == invalid_field['field_name'])\n",
    "        response = clarify_field_details(invalid_field['field_name'], field_value, invalid_field['validation_error'], **kwargs)['text']\n",
    "    else:\n",
    "        response = next_dialog_step(subject_details, subject['fields'], worskheet_field_storage, **kwargs)['message']\n",
    "\n",
    "    return response\n",
    "\n",
    "\n",
    "def append_keys_to_storage(subject_name: str, worsheet_result, worskheet_field_storage: dict):\n",
    "    subject_worksheet_fields = worsheet_result[subject_name]\n",
    "    \n",
    "    for field_name, value in subject_worksheet_fields.items():\n",
    "        if subject_name not in worskheet_field_storage or not worskheet_field_storage.get(subject_name, None):\n",
    "            worskheet_field_storage[subject_name] = {}\n",
    "\n",
    "        incomplete_fields = {error['field_name'] for error in worsheet_result['incomplete_field_error']}\n",
    "    \n",
    "        if field_name not in worskheet_field_storage[subject_name]:\n",
    "            if field_name not in incomplete_fields:\n",
    "            # if worsheet_result['incomplete_field_error'] and field_name != worsheet_result['incomplete_field_error']['field_name']:\n",
    "                worskheet_field_storage[subject_name][field_name] = value\n",
    "\n",
    "\n",
    "@dataclass\n",
    "class Field:\n",
    "    name: str\n",
    "    value: str\n",
    "    validation_error: Optional[str] = None\n",
    "    \n",
    "\n",
    "def append_keys_to_storage_v2(subject_name: str, fields_info: List[Field], worskheet_field_storage: dict):\n",
    "    if subject_name not in worskheet_field_storage or not worskheet_field_storage.get(subject_name, None):\n",
    "        worskheet_field_storage[subject_name] = {}\n",
    "\n",
    "    incomplete_fields = {field.name for field in fields_info if field.validation_error}\n",
    "\n",
    "    for field in fields_info:\n",
    "        if field.name not in worskheet_field_storage[subject_name] and field.name not in incomplete_fields:\n",
    "            worskheet_field_storage[subject_name][field.name] = field.value\n",
    "        "
   ]
  },
  {
   "cell_type": "code",
   "execution_count": 8,
   "id": "2b79dda4-aafc-4a14-8cd4-500588036a79",
   "metadata": {},
   "outputs": [],
   "source": [
    "worskheet_field_storage = {}\n",
    "conversation_history = []"
   ]
  },
  {
   "cell_type": "markdown",
   "id": "900c6180-87d1-4f1b-a517-9df44c7e1499",
   "metadata": {},
   "source": [
    "## Test"
   ]
  },
  {
   "cell_type": "code",
   "execution_count": 90,
   "id": "58f7c53a-3a23-4aeb-b4dd-855dc9dccbf6",
   "metadata": {},
   "outputs": [],
   "source": [
    "conversation_history = [\n",
    "    {\n",
    "        'from': FromType.Recruiter,\n",
    "        'text': 'Please answer what your first name'\n",
    "    },\n",
    "    {\n",
    "        'from': FromType.SecurityGuard,\n",
    "        'text': 'My name is Jaez'\n",
    "    },\n",
    "    {\n",
    "        'from': FromType.Recruiter,\n",
    "        'text': 'Alright! Please say your birth date.'\n",
    "    },\n",
    "    {\n",
    "        'from': FromType.SecurityGuard,\n",
    "        'text': 'September 12'\n",
    "    }\n",
    "]"
   ]
  },
  {
   "cell_type": "code",
   "execution_count": 170,
   "id": "19c3c1e0-9800-4266-9752-2883f479e24b",
   "metadata": {},
   "outputs": [],
   "source": [
    "conversation_history = [\n",
    "    {\n",
    "        'from': FromType.SecurityGuard,\n",
    "        'text': 'My name is Carlos Amigos'\n",
    "    },\n",
    "    {\n",
    "        'from': FromType.Recruiter,\n",
    "        'text': \"Thank you for providing your last name. However, 'Amigos' is not a typical last name for a security guard. Could you please confirm if 'Amigos' is indeed your legal last name, or if there might have been a mistake? If it is a mistake, could you please provide your correct last name?\"\n",
    "    },\n",
    "    {\n",
    "        'from': FromType.SecurityGuard,\n",
    "        'text': \"It's correct\"\n",
    "    },\n",
    "    {\n",
    "        'from': FromType.Recruiter,\n",
    "        'text': \"Thank you, Carlos Amigos. What is your gender?\"\n",
    "    },\n",
    "    {\n",
    "        'from': FromType.SecurityGuard,\n",
    "        'text': 'male'\n",
    "    }\n",
    "]"
   ]
  },
  {
   "cell_type": "code",
   "execution_count": 13,
   "id": "0fa404d6-9b05-4b88-baf2-a06cc5f98cd2",
   "metadata": {},
   "outputs": [
    {
     "name": "stdout",
     "output_type": "stream",
     "text": [
      "```json\n",
      "{\n",
      "  \"personal_info\": {\n",
      "    \"first_names\": \"Jaez\",\n",
      "    \"birth_date\": \"September 12\"\n",
      "  },\n",
      "  \"incomplete_field_error\": [\n",
      "    {\n",
      "      \"field_name\": \"birth_date\",\n",
      "      \"current_value\": \"September 12\",\n",
      "      \"required_details\": \"Year of birth\"\n",
      "    }\n",
      "  ]\n",
      "}\n",
      "```"
     ]
    },
    {
     "data": {
      "text/plain": [
       "'Could you please provide the year of your birth to complete your birth date? Currently, we have September 12, but we need the full date including the year. Thank you!'"
      ]
     },
     "execution_count": 13,
     "metadata": {},
     "output_type": "execute_result"
    }
   ],
   "source": [
    "handle_candidate_messages(conversation_history, worskheet_field_storage)"
   ]
  },
  {
   "cell_type": "code",
   "execution_count": 174,
   "id": "ab62f838-037c-4cbe-8fd9-a342745e2b03",
   "metadata": {},
   "outputs": [
    {
     "name": "stdout",
     "output_type": "stream",
     "text": [
      "Parent trace id: 1b28b915-f6d5-45ad-ab83-2f3510a9933a\n",
      "```json\n",
      "[\n",
      "    {\n",
      "        \"field_name\": \"first_names\",\n",
      "        \"validation_error\": null\n",
      "    },\n",
      "    {\n",
      "        \"field_name\": \"last_names\",\n",
      "        \"validation_error\": null\n",
      "    },\n",
      "    {\n",
      "        \"field_name\": \"gender\",\n",
      "        \"validation_error\": null\n",
      "    }\n",
      "]\n",
      "```"
     ]
    },
    {
     "data": {
      "text/plain": [
       "'Perfect. And your ID number?'"
      ]
     },
     "execution_count": 174,
     "metadata": {},
     "output_type": "execute_result"
    }
   ],
   "source": [
    "handle_candidate_messages_v2(conversation_history, worskheet_field_storage)"
   ]
  },
  {
   "cell_type": "code",
   "execution_count": 148,
   "id": "f81d479e-d1c8-499f-bcc6-ba465b6b686b",
   "metadata": {},
   "outputs": [
    {
     "data": {
      "application/json": {
       "03e6e35a-567e-4507-9aac-13376e65c388": [
        {
         "content": "\nPlease validate the field value. Validate by value, not by field format.\n\nThe rules:\n  - first_names: string\n    description: First names (can be multiple in Hispanic cultures)\n  - last_names: string\n    description: Last name of security guard\n  - gender: string\n    description: Gender (Male or Female)\n\nThe actual field values:\nfirst_names: Carlos\nlast_names: Amigos\ngender: male\n\nPlease put response into ```json``` structure, for example:\n[{\n    'field_name': <field_name>,\n    'validation_error': <field validation error or null>\n}]\n    ",
         "max_tokens": 1000,
         "model": "gpt-4o",
         "response": "```json\n[\n    {\n        \"field_name\": \"first_names\",\n        \"validation_error\": null\n    },\n    {\n        \"field_name\": \"last_names\",\n        \"validation_error\": null\n    },\n    {\n        \"field_name\": \"gender\",\n        \"validation_error\": \"Gender should be 'Male' or 'Female'\"\n    }\n]\n```",
         "stream": true,
         "temperature": 0
        }
       ],
       "13f1e868-3406-47b2-b757-bcbe5c8acce1": [
        {
         "content": "\nPlease find entities at speech of Latin America candidate on security guy position.\n\nHere is possible fields:\n{\"  - first_names: string\\n    description: First names (can be multiple in Hispanic cultures)\\n  - last_names: string\\n    description: Last name of security guard\\n  - gender: string\\n    description: Gender (Male or Female)\\n  - id_number: string\\n    description: ID number. Format ###-########-#, last digit is a checksum\\n  - has_drivers_license: boolean\\n    description: Do you have a driver's license?\\n  - license_category: string\\n    description: Driver's license category\\n    possible values: A, B, C, D, E, F\\n  - birth_date: string\\n    description: Date of birth\\n  - birth_place: string\\n    description: Place of birth\\n  - nationality: string\\n    description: Nationality (non-citizens cannot be security guards)\\n  - marital_status: string\\n    description: Marital status: Married, Single, Civil union\\n    possible values: Married, Single, Civil union\"}\n\nHere is conversation:\nsecurity guard: My name is Carlos Amigos\nrecruiter: Thank you for providing your last name. However, 'Amigos' is not a typical last name for a security guard. Could you please confirm if 'Amigos' is indeed your legal last name, or if there might have been a mistake? If it is a mistake, could you please provide your correct last name?\nsecurity guard: It's correct\nrecruiter: Thank you, Carlos Amigos. What is your gender?\nsecurity guard: male\nrecruiter: Could you please confirm your gender by specifying 'Male' or 'Female' to complete the gender field?\n\nPlease recognize which field or field mentioned at latest message from security guard.\n\n    \nPlease put result info json format, like this ```json```. For instance:\n[{\n    'field_name': <field_name>,\n    'value': <field value>\n}]\n\n",
         "max_tokens": 1000,
         "model": "gpt-4o",
         "response": "```json\n[\n    {\n        \"field_name\": \"first_names\",\n        \"value\": \"Carlos\"\n    },\n    {\n        \"field_name\": \"last_names\",\n        \"value\": \"Amigos\"\n    },\n    {\n        \"field_name\": \"gender\",\n        \"value\": \"male\"\n    }\n]\n```",
         "stream": true,
         "temperature": 0
        }
       ],
       "1f90230e-a21e-4865-8cef-bb62c4c4ff1f": [
        {
         "content": "\nPlease find entities at speech of Latin America candidate on security guy position.\n\nHere is possible fields:\n{\"  - first_names: string\\n    description: First names (can be multiple in Hispanic cultures)\\n  - last_names: string\\n    description: Last name of security guard\\n  - gender: string\\n    description: Gender (Male or Female)\\n  - id_number: string\\n    description: ID number. Format ###-########-#, last digit is a checksum\\n  - has_drivers_license: boolean\\n    description: Do you have a driver's license?\\n  - license_category: string\\n    description: Driver's license category\\n    possible values: A, B, C, D, E, F\\n  - birth_date: string\\n    description: Date of birth\\n  - birth_place: string\\n    description: Place of birth\\n  - nationality: string\\n    description: Nationality (non-citizens cannot be security guards)\\n  - marital_status: string\\n    description: Marital status: Married, Single, Civil union\\n    possible values: Married, Single, Civil union\"}\n\nHere is conversation:\nsecurity guard: My name is Carlos Amigos\nrecruiter: Thank you for providing your last name. However, 'Amigos' is not a typical last name for a security guard. Could you please confirm if 'Amigos' is indeed your legal last name, or if there might have been a mistake? If it is a mistake, could you please provide your correct last name?\nsecurity guard: It's correct\nrecruiter: Thank you, Carlos Amigos. What is your gender?\nsecurity guard: male\nrecruiter: Could you please confirm your gender by specifying 'Male' or 'Female' to complete the gender field?\n\nPlease recognize which field or field mentioned at latest message from security guard.\n\n    \nPlease put result info json format, like this ```json```. For instance:\n[{\n    'field_name': <field_name>,\n    'value': <field value>\n}]\n\n",
         "max_tokens": 1000,
         "model": "gpt-4o",
         "response": "```json\n[\n    {\n        \"field_name\": \"first_names\",\n        \"value\": \"Carlos\"\n    },\n    {\n        \"field_name\": \"last_names\",\n        \"value\": \"Amigos\"\n    },\n    {\n        \"field_name\": \"gender\",\n        \"value\": \"male\"\n    }\n]\n```",
         "stream": true,
         "temperature": 0
        },
        {
         "content": "\nPlease validate the field value. Validate by value, not by field format.\n\nThe rules:\n  - first_names: string\n    description: First names (can be multiple in Hispanic cultures)\n  - last_names: string\n    description: Last name of security guard\n  - gender: string\n    description: Gender (Male or Female)\n\nThe actual field values:\nfirst_names: Carlos\nlast_names: Amigos\ngender: male\n\nPlease put response into ```json``` structure, for example:\n[{\n    'field_name': <field_name>,\n    'validation_error': <field validation error or null>\n}]\n    ",
         "max_tokens": 1000,
         "model": "gpt-4o",
         "response": "```json\n[\n    {\n        \"field_name\": \"first_names\",\n        \"validation_error\": null\n    },\n    {\n        \"field_name\": \"last_names\",\n        \"validation_error\": null\n    },\n    {\n        \"field_name\": \"gender\",\n        \"validation_error\": \"Gender should be 'Male' or 'Female'\"\n    }\n]\n```",
         "stream": true,
         "temperature": 0
        }
       ],
       "4bd22b85-6348-410b-99dc-b4cd2e723b63": [
        {
         "content": "\nPlease find entities at speech of Latin America candidate on security guy position.\n\nHere is possible fields:\n{\"  - first_names: string\\n    description: First names (can be multiple in Hispanic cultures)\\n  - last_names: string\\n    description: Last name of security guard\\n  - gender: string\\n    description: Gender (Male or Female)\\n  - id_number: string\\n    description: ID number. Format ###-########-#, last digit is a checksum\\n  - has_drivers_license: boolean\\n    description: Do you have a driver's license?\\n  - license_category: string\\n    description: Driver's license category\\n    possible values: A, B, C, D, E, F\\n  - birth_date: string\\n    description: Date of birth\\n  - birth_place: string\\n    description: Place of birth\\n  - nationality: string\\n    description: Nationality (non-citizens cannot be security guards)\\n  - marital_status: string\\n    description: Marital status: Married, Single, Civil union\\n    possible values: Married, Single, Civil union\"}\n\nHere is conversation:\nsecurity guard: My name is Carlos Amigos\nrecruiter: Thank you for providing your last name. However, 'Amigos' is not a typical last name for a security guard. Could you please confirm if 'Amigos' is indeed your legal last name, or if there might have been a mistake? If it is a mistake, could you please provide your correct last name?\nsecurity guard: It's correct\nrecruiter: Thank you, Carlos Amigos. What is your gender?\nsecurity guard: male\nrecruiter: Could you please confirm your gender by specifying 'Male' or 'Female' to complete the gender field?\n\nPlease recognize which field or field mentioned at latest message from security guard.\n\n    \nPlease put result info json format, like this ```json```. For instance:\n[{\n    'field_name': <field_name>,\n    'value': <field value>\n}]\n\n",
         "max_tokens": 1000,
         "model": "gpt-4o",
         "response": "```json\n[\n    {\n        \"field_name\": \"first_names\",\n        \"value\": \"Carlos\"\n    },\n    {\n        \"field_name\": \"last_names\",\n        \"value\": \"Amigos\"\n    },\n    {\n        \"field_name\": \"gender\",\n        \"value\": \"male\"\n    }\n]\n```",
         "stream": true,
         "temperature": 0
        },
        {
         "content": "\nPlease validate the field value. Validate by value, not by field format.\n\nThe rules:\n  - first_names: string\n    description: First names (can be multiple in Hispanic cultures)\n  - last_names: string\n    description: Last name of security guard\n  - gender: string\n    description: Gender (Male or Female)\n\nThe actual field values:\nfirst_names: Carlos\nlast_names: Amigos\ngender: male\n\nPlease put response into ```json``` structure, for example:\n[{\n    'field_name': <field_name>,\n    'validation_error': <field validation error or null>\n}]\n    ",
         "max_tokens": 1000,
         "model": "gpt-4o",
         "response": "```json\n[\n    {\n        \"field_name\": \"first_names\",\n        \"validation_error\": null\n    },\n    {\n        \"field_name\": \"last_names\",\n        \"validation_error\": null\n    },\n    {\n        \"field_name\": \"gender\",\n        \"validation_error\": \"Gender should be 'Male' or 'Female'\"\n    }\n]\n```",
         "stream": true,
         "temperature": 0
        },
        {
         "content": "\nYou are recruiter. Ensure the accurate and complete collection of candidate information by reasking questions \nand clarifying details to complete the worksheet field information.\n\n**Instructions:**\n\n1. **Identify Incomplete Fields:**\n   - Review the provided list of fields that have incomplete or missing details.\n\n2. **Addressing Incomplete Information:**\n   - For each field with incomplete information, identify the missing details.\n   - Politely ask the candidate to provide the missing information to complete the field.\n\n3. **Sample Prompt Structure:**\n   - Use a polite and clear approach to reask for the missing details.\n   - Ensure the candidate understands what specific information is needed.\n\n4. **Handling Specific Fields:**\n   - **Field Name:** Birth Date\n     - **Current Value:** September 12\n     - **Required Details:** Year of birth\n     - **Clarification Prompt:** \"Could you please provide the year of your birth to complete your birth date?\"\n\n5. **General Tips:**\n   - Be patient and understanding if the candidate is unsure or needs time to find the information.\n   - Confirm with the candidate once the information is provided to ensure accuracy.\n\nPlease ask for correction by the following field:\n\nfield: gender\ncurrent value: male\nrequired details: Gender should be 'Male' or 'Female'\n\nPut the response into ```json``` with schema:\n\n```\n{\n    \"text\": string // Text message\n}\n    ",
         "max_tokens": 1000,
         "model": "gpt-4o",
         "response": "```json\n{\n    \"text\": \"Could you please confirm your gender by specifying 'Male' or 'Female' to complete the gender field?\"\n}\n```",
         "stream": true,
         "temperature": 0
        }
       ],
       "b8663a31-fb17-4423-8a61-7acc8efd0cc7": [
        {
         "content": "\nPlease validate the field value. Validate by value, not by field format.\n\nThe rules:\n  - first_names: string\n    description: First names (can be multiple in Hispanic cultures)\n  - last_names: string\n    description: Last name of security guard\n  - gender: string\n    description: Gender (Male or Female)\n\nThe actual field values:\nfirst_names: Carlos\nlast_names: Amigos\ngender: male\n\nPlease put response into ```json``` structure, for example:\n[{\n    'field_name': <field_name>,\n    'validation_error': <field validation error or null>\n}]\n    ",
         "max_tokens": 1000,
         "model": "gpt-4o",
         "response": "```json\n[\n    {\n        \"field_name\": \"first_names\",\n        \"validation_error\": null\n    },\n    {\n        \"field_name\": \"last_names\",\n        \"validation_error\": null\n    },\n    {\n        \"field_name\": \"gender\",\n        \"validation_error\": \"Gender should be 'Male' or 'Female'\"\n    }\n]\n```",
         "stream": true,
         "temperature": 0
        }
       ],
       "d3f3e640-ecbe-4214-a7c2-0330cd63b445": [
        {
         "content": "\nPlease find entities at speech of Latin America candidate on security guy position.\n\nHere is possible fields:\n{\"  - first_names: string\\n    description: First names (can be multiple in Hispanic cultures)\\n  - last_names: string\\n    description: Last name of security guard\\n  - gender: string\\n    description: Gender (Male or Female)\\n  - id_number: string\\n    description: ID number. Format ###-########-#, last digit is a checksum\\n  - has_drivers_license: boolean\\n    description: Do you have a driver's license?\\n  - license_category: string\\n    description: Driver's license category\\n    possible values: A, B, C, D, E, F\\n  - birth_date: string\\n    description: Date of birth\\n  - birth_place: string\\n    description: Place of birth\\n  - nationality: string\\n    description: Nationality (non-citizens cannot be security guards)\\n  - marital_status: string\\n    description: Marital status: Married, Single, Civil union\\n    possible values: Married, Single, Civil union\"}\n\nHere is conversation:\nsecurity guard: My name is Carlos Amigos\nrecruiter: Thank you for providing your last name. However, 'Amigos' is not a typical last name for a security guard. Could you please confirm if 'Amigos' is indeed your legal last name, or if there might have been a mistake? If it is a mistake, could you please provide your correct last name?\nsecurity guard: It's correct\nrecruiter: Thank you, Carlos Amigos. What is your gender?\nsecurity guard: male\nrecruiter: Could you please confirm your gender by specifying 'Male' or 'Female' to complete the gender field?\n\nPlease recognize which field or field mentioned at latest message from security guard.\n\n    \nPlease put result info json format, like this ```json```. For instance:\n[{\n    'field_name': <field_name>,\n    'value': <field value>\n}]\n\n",
         "max_tokens": 1000,
         "model": "gpt-4o",
         "response": "```json\n[\n    {\n        \"field_name\": \"first_names\",\n        \"value\": \"Carlos\"\n    },\n    {\n        \"field_name\": \"last_names\",\n        \"value\": \"Amigos\"\n    },\n    {\n        \"field_name\": \"gender\",\n        \"value\": \"male\"\n    }\n]\n```",
         "stream": true,
         "temperature": 0
        },
        {
         "content": "\nPlease validate the field value. Validate by value, not by field format.\n\nThe rules:\n  - first_names: string\n    description: First names (can be multiple in Hispanic cultures)\n  - last_names: string\n    description: Last name of security guard\n  - gender: string\n    description: Gender (Male or Female)\n\nThe actual field values:\nfirst_names: Carlos\nlast_names: Amigos\ngender: male\n\nPlease put response into ```json``` structure, for example:\n[{\n    'field_name': <field_name>,\n    'validation_error': <field validation error or null>\n}]\n    ",
         "max_tokens": 1000,
         "model": "gpt-4o",
         "response": "```json\n[\n    {\n        \"field_name\": \"first_names\",\n        \"validation_error\": null\n    },\n    {\n        \"field_name\": \"last_names\",\n        \"validation_error\": null\n    },\n    {\n        \"field_name\": \"gender\",\n        \"validation_error\": \"Gender should be 'Male' or 'Female'\"\n    }\n]\n```",
         "stream": true,
         "temperature": 0
        }
       ]
      },
      "text/plain": [
       "<IPython.core.display.JSON object>"
      ]
     },
     "metadata": {
      "application/json": {
       "expanded": false,
       "root": "root"
      }
     },
     "output_type": "display_data"
    }
   ],
   "source": [
    "display(JSON(trace.get_all_traces()))"
   ]
  },
  {
   "cell_type": "code",
   "execution_count": 175,
   "id": "f4ac019c-8e84-485f-8b2e-deeeae4c9a1c",
   "metadata": {
    "scrolled": true
   },
   "outputs": [
    {
     "data": {
      "text/html": [
       "<pre><h2>Prompt:</h2>\n",
       "\n",
       "Please find entities at speech of Latin America candidate on security guy position.\n",
       "\n",
       "Here is possible fields:\n",
       "{\"  - first_names: string<br>    description: First names (can be multiple in Hispanic cultures)<br>  - last_names: string<br>    description: Last name of security guard<br>  - gender: string<br>    description: Gender (Male or Female)<br>  - id_number: string<br>    description: ID number. Format ###-########-#, last digit is a checksum<br>  - has_drivers_license: boolean<br>    description: Do you have a driver's license?<br>  - license_category: string<br>    description: Driver's license category<br>    possible values: A, B, C, D, E, F<br>  - birth_date: string<br>    description: Date of birth<br>  - birth_place: string<br>    description: Place of birth<br>  - nationality: string<br>    description: Nationality (non-citizens cannot be security guards)<br>  - marital_status: string<br>    description: Marital status: Married, Single, Civil union<br>    possible values: Married, Single, Civil union\"}\n",
       "\n",
       "Here is conversation:\n",
       "security guard: My name is Carlos Amigos\n",
       "recruiter: Thank you for providing your last name. However, 'Amigos' is not a typical last name for a security guard. Could you please confirm if 'Amigos' is indeed your legal last name, or if there might have been a mistake? If it is a mistake, could you please provide your correct last name?\n",
       "security guard: It's correct\n",
       "recruiter: Thank you, Carlos Amigos. What is your gender?\n",
       "security guard: male\n",
       "\n",
       "Please recognize which field or field mentioned at latest message from security guard.\n",
       "\n",
       "    \n",
       "Please put result info json format, like this ```json```. For instance:\n",
       "[{\n",
       "    'field_name': <field_name>,\n",
       "    'value': <field value>\n",
       "}]\n",
       "\n",
       "\n",
       "<h4>Response:</h4>\n",
       "```json\n",
       "[\n",
       "    {\n",
       "        \"field_name\": \"first_names\",\n",
       "        \"value\": \"Carlos\"\n",
       "    },\n",
       "    {\n",
       "        \"field_name\": \"last_names\",\n",
       "        \"value\": \"Amigos\"\n",
       "    },\n",
       "    {\n",
       "        \"field_name\": \"gender\",\n",
       "        \"value\": \"male\"\n",
       "    }\n",
       "]\n",
       "```\n",
       "<h2>Prompt:</h2>\n",
       "\n",
       "Please validate the field values, focusing on their meanings rather than their formatting, character case, or similar aspects. \n",
       "This is needed for a worksheet that might be filled out via voice, which can introduce format variations.\n",
       "\n",
       "The rules:\n",
       "  - first_names: string\n",
       "    description: First names (can be multiple in Hispanic cultures)\n",
       "  - last_names: string\n",
       "    description: Last name of security guard\n",
       "  - gender: string\n",
       "    description: Gender (Male or Female)\n",
       "\n",
       "The actual field values:\n",
       "first_names: Carlos\n",
       "last_names: Amigos\n",
       "gender: male\n",
       "\n",
       "Please put response into ```json``` structure, for example:\n",
       "[{\n",
       "    'field_name': <field_name>,\n",
       "    'validation_error': <field validation error or null>\n",
       "}]\n",
       "    \n",
       "<h4>Response:</h4>\n",
       "```json\n",
       "[\n",
       "    {\n",
       "        \"field_name\": \"first_names\",\n",
       "        \"validation_error\": null\n",
       "    },\n",
       "    {\n",
       "        \"field_name\": \"last_names\",\n",
       "        \"validation_error\": null\n",
       "    },\n",
       "    {\n",
       "        \"field_name\": \"gender\",\n",
       "        \"validation_error\": null\n",
       "    }\n",
       "]\n",
       "```\n",
       "<h2>Prompt:</h2>\n",
       "\n",
       "You are a recruiter in Latin America, hiring candidates for a security guard position in a store. \n",
       "For employment, you need to make a call with the candidate and gather all the necessary information to fill out the application form.\n",
       "\n",
       "Your task is to ask the question needed to fill in the next field based on the previous answers.\n",
       "The examples of questions:\n",
       "- Can you please tell me your first names?\n",
       "- Great, thank you. Now, can you tell me your last names?\n",
       "- Thank you. What is your gender?\n",
       "- Perfect. And your ID number?\n",
       "- Alright. Now, your date of birth, please.\n",
       "- Thank you. Can you also tell me your place of birth?\n",
       "\n",
       "Here is already filled fields by user:\n",
       "personal_info:\n",
       "   - first_names: Carlos\n",
       "   - last_names: Amigos\n",
       "   - gender: Male\n",
       "\n",
       "\n",
       "Here is possible fields:\n",
       "personal_info: Personal information about the individual\n",
       "  - first_names: string\n",
       "    description: First names (can be multiple in Hispanic cultures)\n",
       "  - last_names: string\n",
       "    description: Last name of security guard\n",
       "  - gender: string\n",
       "    description: Gender (Male or Female)\n",
       "  - id_number: string\n",
       "    description: ID number. Format ###-########-#, last digit is a checksum\n",
       "  - has_drivers_license: boolean\n",
       "    description: Do you have a driver's license?\n",
       "  - license_category: string\n",
       "    description: Driver's license category\n",
       "    possible values: A, B, C, D, E, F\n",
       "  - birth_date: string\n",
       "    description: Date of birth\n",
       "  - birth_place: string\n",
       "    description: Place of birth\n",
       "  - nationality: string\n",
       "    description: Nationality (non-citizens cannot be security guards)\n",
       "  - marital_status: string\n",
       "    description: Marital status: Married, Single, Civil union\n",
       "    possible values: Married, Single, Civil union\n",
       "\n",
       "Put the response into ```json``` with schema:\n",
       "\n",
       "```\n",
       "{\n",
       "    \"message\": string // Text message\n",
       "}\n",
       "\n",
       "\n",
       "<h4>Response:</h4>\n",
       "```json\n",
       "{\n",
       "    \"message\": \"Perfect. And your ID number?\"\n",
       "}\n",
       "```\n",
       "</pre>"
      ],
      "text/plain": [
       "<IPython.core.display.HTML object>"
      ]
     },
     "metadata": {},
     "output_type": "display_data"
    }
   ],
   "source": [
    "display_pretty_trace('1b28b915-f6d5-45ad-ab83-2f3510a9933a')"
   ]
  },
  {
   "cell_type": "markdown",
   "id": "94bd48d5-fdeb-4af3-841e-fab0894b4c09",
   "metadata": {},
   "source": [
    "## Interface"
   ]
  },
  {
   "cell_type": "code",
   "execution_count": 92,
   "id": "e5a7d83a-54a8-44bb-a9bb-acadcb75adb5",
   "metadata": {},
   "outputs": [],
   "source": [
    "worskheet_field_storage = {}\n",
    "conversation_history = []"
   ]
  },
  {
   "cell_type": "code",
   "execution_count": 93,
   "id": "c26a6c1a-dbca-4a9a-a3b0-f69c1804b94b",
   "metadata": {},
   "outputs": [
    {
     "name": "stdout",
     "output_type": "stream",
     "text": [
      "Running on local URL:  http://127.0.0.1:7887\n",
      "\n",
      "To create a public link, set `share=True` in `launch()`.\n"
     ]
    },
    {
     "data": {
      "text/html": [
       "<div><iframe src=\"http://127.0.0.1:7887/\" width=\"100%\" height=\"500\" allow=\"autoplay; camera; microphone; clipboard-read; clipboard-write;\" frameborder=\"0\" allowfullscreen></iframe></div>"
      ],
      "text/plain": [
       "<IPython.core.display.HTML object>"
      ]
     },
     "metadata": {},
     "output_type": "display_data"
    },
    {
     "data": {
      "text/plain": []
     },
     "execution_count": 93,
     "metadata": {},
     "output_type": "execute_result"
    },
    {
     "name": "stdout",
     "output_type": "stream",
     "text": [
      "```json\n",
      "[\n",
      "    {\n",
      "        \"field_name\": \"first_names\",\n",
      "        \"value\": \"Carlos\"\n",
      "    },\n",
      "    {\n",
      "        \"field_name\": \"last_names\",\n",
      "        \"value\": \"Amigos\"\n",
      "    }\n",
      "]\n",
      "``````json\n",
      "[\n",
      "    {\n",
      "        \"field_name\": \"first_names\",\n",
      "        \"validation_error\": null\n",
      "    },\n",
      "    {\n",
      "        \"field_name\": \"last_names\",\n",
      "        \"validation_error\": \"Last name 'Amigos' is not a typical last name for a security guard.\"\n",
      "    }\n",
      "]\n",
      "``````json\n",
      "{\n",
      "    \"text\": \"Thank you for providing your last name. However, 'Amigos' is not a typical last name for a security guard. Could you please confirm if 'Amigos' is indeed your legal last name, or if there might have been a mistake? If it is a mistake, could you please provide your correct last name?\"\n",
      "}\n",
      "``````json\n",
      "[\n",
      "    {\n",
      "        \"field_name\": \"last_names\",\n",
      "        \"value\": \"Amigos\"\n",
      "    }\n",
      "]\n",
      "``````json\n",
      "[{\n",
      "    \"field_name\": \"last_names\",\n",
      "    \"validation_error\": null\n",
      "}]\n",
      "``````json\n",
      "{\n",
      "    \"message\": \"Thank you, Carlos Amigos. What is your gender?\"\n",
      "}\n",
      "``````json\n",
      "[\n",
      "    {\n",
      "        \"field_name\": \"first_names\",\n",
      "        \"value\": \"Carlos\"\n",
      "    },\n",
      "    {\n",
      "        \"field_name\": \"last_names\",\n",
      "        \"value\": \"Amigos\"\n",
      "    },\n",
      "    {\n",
      "        \"field_name\": \"gender\",\n",
      "        \"value\": \"male\"\n",
      "    }\n",
      "]\n",
      "``````json\n",
      "[\n",
      "    {\n",
      "        \"field_name\": \"first_names\",\n",
      "        \"validation_error\": null\n",
      "    },\n",
      "    {\n",
      "        \"field_name\": \"last_names\",\n",
      "        \"validation_error\": null\n",
      "    },\n",
      "    {\n",
      "        \"field_name\": \"gender\",\n",
      "        \"validation_error\": \"Gender should be 'Male' or 'Female'\"\n",
      "    }\n",
      "]\n",
      "``````json\n",
      "{\n",
      "    \"text\": \"Could you please confirm your gender by specifying 'Male' or 'Female' to complete the gender field?\"\n",
      "}\n",
      "```"
     ]
    }
   ],
   "source": [
    "import gradio as gr\n",
    "\n",
    "\n",
    "hist = None\n",
    "def echo(message, history):\n",
    "    conversation_history.append({\n",
    "        'from': FromType.SecurityGuard,\n",
    "        'text': message\n",
    "    })\n",
    "\n",
    "    response = handle_candidate_messages_v2(conversation_history, worskheet_field_storage)\n",
    "    \n",
    "    conversation_history.append({\n",
    "        'from': FromType.Recruiter,\n",
    "        'text': response\n",
    "    })\n",
    "    return response\n",
    "    \n",
    "\n",
    "demo = gr.ChatInterface(fn=echo, examples=[\"hello\", \"hola\", \"merhaba\"], title=\"Echo Bot\", chatbot=gr.Chatbot(height=300))\n",
    "demo.launch()"
   ]
  },
  {
   "cell_type": "code",
   "execution_count": null,
   "id": "d1da5dac-64d4-40a2-bc9d-9e8b262b6866",
   "metadata": {},
   "outputs": [],
   "source": [
    "## разделить промпты чтобы один классифицировал поле, второй писал сообщение "
   ]
  },
  {
   "cell_type": "markdown",
   "id": "ab82fb63-4732-4b42-a116-4a80b6f37084",
   "metadata": {},
   "source": [
    "## Test Another prompt"
   ]
  },
  {
   "cell_type": "code",
   "execution_count": 48,
   "id": "7355cee6-92d1-4c0b-9fff-1e94a65bddc0",
   "metadata": {},
   "outputs": [
    {
     "data": {
      "text/plain": [
       "['birth_date']"
      ]
     },
     "execution_count": 48,
     "metadata": {},
     "output_type": "execute_result"
    }
   ],
   "source": [
    "response = get_gpt(f\"\"\"\n",
    "Please find entities at speech of Latin America candidate on security guy position.\n",
    "\n",
    "Here is possible fields:\n",
    "{'\\n'.join(build_prompt_from_subject_fields(subject['fields']))}\n",
    "\n",
    "Here is conversation:\n",
    "security guard: What to do?\n",
    "security guard: My name is Carlos Alberto\n",
    "recruiter: Could you please provide the last name of the security guard to complete the 'last_names' field?\n",
    "security guard: García Fernández\n",
    "recruiter: Alright. Say your birth day\n",
    "security guard: Sept 14\n",
    "\n",
    "Please recognize which field or field mentioned at latest message from security guard.\n",
    "\n",
    "    \n",
    "Please put result info json format, like this ```json```. For instance:\n",
    "[{{\n",
    "    'field_name': <field_name>,\n",
    "    'value': <field value>\n",
    "}}]\n",
    "\n",
    "\"\"\")\n",
    "\n",
    "json_data = select_json_block(response)\n",
    "\n",
    "filled_fields = [r['field_name'] for r in json_data]\n",
    "filled_fields"
   ]
  },
  {
   "cell_type": "code",
   "execution_count": 61,
   "id": "d1ea3d30-1234-4c23-a49f-9eefff48ac3c",
   "metadata": {},
   "outputs": [
    {
     "name": "stdout",
     "output_type": "stream",
     "text": [
      "birth_date: Sept 14\n"
     ]
    }
   ],
   "source": [
    "actual_fields = '\\n'.join([ f'{f['field_name']}: {f['value']}' for f in json_data])\n",
    "print(actual_fields)"
   ]
  },
  {
   "cell_type": "code",
   "execution_count": 51,
   "id": "9772dc2f-1c28-4790-83bf-fa70acfbda6d",
   "metadata": {},
   "outputs": [
    {
     "data": {
      "text/plain": [
       "[{'name': 'birth_date',\n",
       "  'description': 'Date of birth',\n",
       "  'required': True,\n",
       "  'schema': {'type': 'string'}}]"
      ]
     },
     "execution_count": 51,
     "metadata": {},
     "output_type": "execute_result"
    }
   ],
   "source": [
    "matched_fields = [f for f in subject['fields'] if f['name'] in filled_fields]\n",
    "matched_fields"
   ]
  },
  {
   "cell_type": "code",
   "execution_count": 56,
   "id": "cefd2e49-19c7-4d7f-a81a-82f0cc8d36ab",
   "metadata": {},
   "outputs": [
    {
     "data": {
      "text/plain": [
       "'  - birth_date: string\\n    description: Date of birth'"
      ]
     },
     "execution_count": 56,
     "metadata": {},
     "output_type": "execute_result"
    }
   ],
   "source": [
    "fields_rules = '\\n'.join([build_field_prompt(f) for f in matched_fields])\n",
    "fields_rules"
   ]
  },
  {
   "cell_type": "code",
   "execution_count": 65,
   "id": "dbacc86b-1a1c-41e1-90bb-7897dde663c1",
   "metadata": {},
   "outputs": [],
   "source": [
    "def validate_fields(fields_rules, actual_fields):\n",
    "    response = get_gpt(f\"\"\"\n",
    "Please validate the field value. Validate by value, not by field format.\n",
    "\n",
    "The rules:\n",
    "{fields_rules}\n",
    "\n",
    "The actual field values:\n",
    "{actual_fields}\n",
    "\n",
    "Please put response into ```json``` structure, for example:\n",
    "[{{\n",
    "    'field_name': <field_name>,\n",
    "    'validation_error': <field validation error or null>\n",
    "}}]\n",
    "    \"\"\")\n",
    "\n",
    "    return select_json_block(response)"
   ]
  },
  {
   "cell_type": "code",
   "execution_count": null,
   "id": "84d9b352-1ad1-4bb8-b157-77fbc3324b9d",
   "metadata": {},
   "outputs": [],
   "source": [
    "validate_fields()"
   ]
  },
  {
   "cell_type": "code",
   "execution_count": 32,
   "id": "56e6d931-ecad-4cc3-b204-707ff0babd90",
   "metadata": {},
   "outputs": [
    {
     "name": "stdout",
     "output_type": "stream",
     "text": [
      "  - first_names: string\n",
      "    description: First names (can be multiple in Hispanic cultures)\n",
      "  - last_names: string\n",
      "    description: Last name of security guard\n",
      "  - gender: string\n",
      "    description: Gender (Male or Female)\n",
      "  - id_number: string\n",
      "    description: ID number. Format ###-########-#, last digit is a checksum\n",
      "  - has_drivers_license: boolean\n",
      "    description: Do you have a driver's license?\n",
      "  - license_category: string\n",
      "    description: Driver's license category\n",
      "    possible values: A, B, C, D, E, F\n",
      "  - birth_date: string\n",
      "    description: Date of birth\n",
      "  - birth_place: string\n",
      "    description: Place of birth\n",
      "  - nationality: string\n",
      "    description: Nationality (non-citizens cannot be security guards)\n",
      "  - marital_status: string\n",
      "    description: Marital status: Married, Single, Civil union\n",
      "    possible values: Married, Single, Civil union\n"
     ]
    }
   ],
   "source": [
    "fields_str = '\\n'.join(build_prompt_from_subject_fields(subject['fields']))\n",
    "\n",
    "print(fields_str)"
   ]
  },
  {
   "cell_type": "code",
   "execution_count": 43,
   "id": "57682683-a145-4dc1-9034-9bc923cf68f6",
   "metadata": {},
   "outputs": [
    {
     "name": "stdout",
     "output_type": "stream",
     "text": [
      "security guard: What to do?\n",
      "security guard: My name is Carlos Alberto\n",
      "recruiter: Could you please provide the last name of the security guard to complete the 'last_names' field?\n",
      "security guard: García Fernández\n",
      "recruiter: Alright. Say your birth day\n",
      "security guard: Sept 14\n"
     ]
    }
   ],
   "source": [
    "conversation_history_str = '\\n'.join([f\"{message['from']}: {message['text']}\" for message in conversation_history])\n",
    "\n",
    "conversation_history_str += f'\\n{FromType.SecurityGuard}: García Fernández'\n",
    "conversation_history_str += f'\\n{FromType.Recruiter}: Alright. Say your birth day'\n",
    "conversation_history_str += f'\\n{FromType.SecurityGuard}: Sept 14'\n",
    "\n",
    "\n",
    "print(conversation_history_str)"
   ]
  },
  {
   "cell_type": "code",
   "execution_count": null,
   "id": "73ea03cb-10df-49eb-8452-ed603f471e64",
   "metadata": {},
   "outputs": [],
   "source": []
  }
 ],
 "metadata": {
  "kernelspec": {
   "display_name": "gpt",
   "language": "python",
   "name": "gpt"
  },
  "language_info": {
   "codemirror_mode": {
    "name": "ipython",
    "version": 3
   },
   "file_extension": ".py",
   "mimetype": "text/x-python",
   "name": "python",
   "nbconvert_exporter": "python",
   "pygments_lexer": "ipython3",
   "version": "3.12.3"
  }
 },
 "nbformat": 4,
 "nbformat_minor": 5
}
