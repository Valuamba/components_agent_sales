{
 "cells": [
  {
   "cell_type": "code",
   "execution_count": 316,
   "id": "b29bad96-53c4-44b2-8155-b4ea2783880a",
   "metadata": {},
   "outputs": [],
   "source": [
    "import sys\n",
    "\n",
    "sys.path.append('/Users/valuamba/projs/components_agent_sales/app/utils')\n",
    "sys.path.append('/Users/valuamba/projs/components_agent_sales/app/core/clients/')\n",
    "\n",
    "from html_messages_parser import get_element_messages, get_messages_from_html_file, select_json_block \n",
    "from famaga import FamagaClient"
   ]
  },
  {
   "cell_type": "code",
   "execution_count": 317,
   "id": "1df8a6a6-56af-45b0-acd3-f11246afbb93",
   "metadata": {},
   "outputs": [],
   "source": [
    "# let's define a few helper utilities\n",
    "\n",
    "from pathlib import Path\n",
    "import hashlib\n",
    "import subprocess\n",
    "import json\n",
    "from bs4 import BeautifulSoup\n",
    "\n",
    "\n",
    "text_cache = Path('cache')\n",
    "\n",
    "def sha1(input_string):\n",
    "    \"\"\"Helper to hash input strings\"\"\"\n",
    "    try:\n",
    "\n",
    "        # Step 5: Create a new SHA-1 hash object\n",
    "        hash_object = hashlib.sha1()\n",
    "\n",
    "        # Step 6: Update the hash object with the bytes-like object\n",
    "        hash_object.update(input_string.encode('utf-8'))\n",
    "\n",
    "        # Step 7: Get the hexadecimal representation of the hash\n",
    "        return hash_object.hexdigest()\n",
    "    except Exception as e:\n",
    "        raise ValueError(input_string) from e\n",
    "        \n",
    "def htmltotext(source: str):\n",
    "    \"\"\"Extract text from Email. Requires pdftotext binary in the path\"\"\"\n",
    "\n",
    "    with open(source, 'r') as f:\n",
    "        data = f.read()\n",
    "\n",
    "    soup = BeautifulSoup(data, 'html.parser')\n",
    "    \n",
    "    return soup.get_text()\n",
    "\n",
    "def extract_text(source):\n",
    "    \"\"\"Get text from Email. Cache results to avoid recomputation\"\"\"\n",
    "    local = text_cache / sha1(source.name + \" > text\")\n",
    "\n",
    "    if local.exists():\n",
    "        return local\n",
    "    print(f\"extracting from {source}\")\n",
    "    print(f'target: {local}')\n",
    "    htmltotext(source, local)\n",
    "    return local\n",
    "\n",
    "\n",
    "def email_to_text(path):\n",
    "    return extract_text(path).read_text()"
   ]
  },
  {
   "cell_type": "code",
   "execution_count": 319,
   "id": "32fd99e5-f2b7-4947-9aa2-635a92e65725",
   "metadata": {},
   "outputs": [],
   "source": [
    "from functools import wraps\n",
    "import inspect\n",
    "\n",
    "\n",
    "def stored(func):\n",
    "    \"\"\"\n",
    "    implements nix-like durable memoisation of function results.\n",
    "\n",
    "    Lazy way to avoid recomputing expensive calls. Expects results to be JSON-serializable\n",
    "    \"\"\"\n",
    "    @wraps(func)\n",
    "    def CACHE(*args, **kwargs):\n",
    "        name = func.__name__\n",
    "        meta = {}\n",
    "\n",
    "        meta[\"name\"] = name\n",
    "        meta[\"func\"] = inspect.getsource(func)\n",
    "        meta[\"args\"] = args\n",
    "        meta[\"kwargs\"] = kwargs\n",
    "\n",
    "        js = json.dumps(meta)\n",
    "        sha = hashlib.sha1(js.encode('utf-8'))\n",
    "\n",
    "        digest = sha.hexdigest()\n",
    "\n",
    "        path = text_cache / f\"{digest}-{name}.json\"\n",
    "\n",
    "        if path.exists():\n",
    "            with path.open('r') as r:\n",
    "                cached = json.load(r)\n",
    "            return cached[\"result\"]\n",
    "        result = func(*args, **kwargs)\n",
    "        meta[\"result\"] = result\n",
    "        with path.open('w') as w:\n",
    "            json.dump(meta, w)\n",
    "        return result\n",
    "\n",
    "    return CACHE"
   ]
  },
  {
   "cell_type": "code",
   "execution_count": 320,
   "id": "b0e31841-8e19-4471-9c11-5bc2f100312c",
   "metadata": {},
   "outputs": [],
   "source": [
    "from openai import OpenAI\n",
    "from dotenv import load_dotenv\n",
    "\n",
    "load_dotenv()\n",
    "client = OpenAI()\n",
    "\n",
    "@stored\n",
    "def get_gpt(content, model=\"gpt-4-1106-preview\", temperature=0, max_tokens=1000, stream=True):\n",
    "    \"\"\"\n",
    "    Cached call to GPT.\n",
    "    \"\"\"\n",
    "    messages = [{\"role\": \"user\", \"content\": content}]\n",
    "\n",
    "    if stream:\n",
    "        response = client.chat.completions.create(\n",
    "            model=model, \n",
    "            messages=messages, \n",
    "            temperature=temperature, \n",
    "            stream=True\n",
    "        )\n",
    "        \n",
    "        collected_messages = []\n",
    "        for chunk in response:\n",
    "            if chunk.choices[0].delta.content:\n",
    "                print(chunk.choices[0].delta.content, end='')\n",
    "                collected_messages.append(chunk.choices[0].delta.content)\n",
    "    \n",
    "        content_str = ''.join(collected_messages)\n",
    "        return content_str\n",
    "    else:\n",
    "        completion = client.chat.completions.create(\n",
    "            model=model,\n",
    "            messages=messages,\n",
    "            temperature=temperature,\n",
    "            max_tokens=max_tokens,\n",
    "        )\n",
    "        return completion.model_dump()\n"
   ]
  },
  {
   "cell_type": "code",
   "execution_count": 321,
   "id": "adfac079-6f92-4cb9-8035-f85334bc5535",
   "metadata": {},
   "outputs": [
    {
     "data": {
      "text/plain": [
       "'\"Lol Kek Cheburek\" is a phrase that originated from Russian internet slang. \"Lol\" is an English internet slang term meaning \"laugh out loud\", \"Kek\" is a Korean internet slang term used to express laughter, similar to \"lol\", and \"Cheburek\" is a popular deep-fried turnover with a filling of ground or minced meat and onions. It is often used in memes or as a humorous phrase online.'"
      ]
     },
     "execution_count": 321,
     "metadata": {},
     "output_type": "execute_result"
    }
   ],
   "source": [
    "get_gpt('What is the lol kek cheburek?1', 'gpt-4')"
   ]
  },
  {
   "cell_type": "code",
   "execution_count": null,
   "id": "34917e46-1879-4b5b-94d1-c3a4068a0c04",
   "metadata": {},
   "outputs": [],
   "source": [
    "7f2eee719c076609a1f11f770bf9513f1c1f94e0-get_gpt"
   ]
  },
  {
   "cell_type": "code",
   "execution_count": 13,
   "id": "311a674f-d296-4640-9e2c-372800208db4",
   "metadata": {},
   "outputs": [],
   "source": [
    "name1 = '502048_78717.0.html'\n",
    "name = '467721_51407.0.html'\n",
    "\n",
    "deal_id = name.split('_')[0]\n",
    "\n",
    "text = htmltotext(Path(f'./deals_html/discount_v4/{name}'))"
   ]
  },
  {
   "cell_type": "code",
   "execution_count": 6,
   "id": "1303ae38-d787-48ef-8b53-f848b8d77dad",
   "metadata": {},
   "outputs": [],
   "source": [
    "@stored\n",
    "def get_messages(txt):\n",
    "\n",
    "    prompt = \"\"\"\n",
    "You are Sales manager. Read a conversation between customer and manager and classify messages, senders (customer or manager).\n",
    "\n",
    "Respond with array of messagds. Respond with an empty string, if none is found\n",
    "\n",
    "```txt\n",
    "$TXT\n",
    "```\"\"\".strip() + \"\\n\"\n",
    "    \n",
    "    filled = prompt.replace(\"$TXT\", txt)\n",
    "    result = get_gpt(filled)\n",
    "    return result"
   ]
  },
  {
   "cell_type": "code",
   "execution_count": 35,
   "id": "8b944f33-d92d-4edf-bed4-d15b73e63c28",
   "metadata": {},
   "outputs": [
    {
     "data": {
      "text/plain": [
       "'```json\\n[\\n  {\\n    \"message\": \"Please give the price in words for better understanding. also mention HSCode\",\\n    \"sender\": \"customer\"\\n  },\\n  {\\n    \"message\": \"We highly appreciate your offer, but prices are much higher than our budgeted figures. Hence request to offer special discount enabling us to get approval from our management. Delivery period should be shortened as much as possible.\",\\n    \"sender\": \"customer\"\\n  },\\n  {\\n    \"message\": \"Hello Mr Shumail, Supplier have offered for base please find attached the TDS and select the complete code. Can you please check the item number again? Unfortunately this is not complete.I have attached the Schaltbau catalog for you. You will find the order key on page 4. Thank you Best Regards, Pushkar Agarwal +97156.9576861\",\\n    \"sender\": \"manager\"\\n  },\\n  {\\n    \"message\": \"Offer-Nr.:502048 Customer request #:Shumail Customer #:95613 Date:Tuesday, 23 April 2024 Inquiry #:Contact person:Pushkar Agarwal Offer valid till22.05.2024 Inquiry date23.04.2024 E-mail: pushkar@famaga.com We would like to thank you for your inquiry and we are pleased to provide you our quotation as follows. Please feel free to contact us if you need any further information.\",\\n    \"sender\": \"manager\"\\n  },\\n  {\\n    \"message\": \"Dear Sir, Greetings, Please note we required the following products/as per attached/below list and request to please offer us your best DDP ABU DHABI   Prices ASAP or within 2 day maximum or otherwise advise\",\\n    \"sender\": \"customer\"\\n  }\\n]\\n```'"
      ]
     },
     "execution_count": 35,
     "metadata": {},
     "output_type": "execute_result"
    }
   ],
   "source": [
    "result = get_messages(text)\n",
    "result"
   ]
  },
  {
   "cell_type": "code",
   "execution_count": 38,
   "id": "7a257318-a906-4d43-b1c3-b0288d048f50",
   "metadata": {},
   "outputs": [],
   "source": [
    "@stored\n",
    "def discount_chronology(txt):\n",
    "\n",
    "    prompt = \"\"\"\n",
    "You are Sales manager. Read a conversation between customer and manager and classify discount chronology discussion.\n",
    "\n",
    "Respond with array of messages where was mentioned or discussed discount.\n",
    "Respond with an empty string, if none is found\n",
    "\n",
    "```txt\n",
    "$TXT\n",
    "```\"\"\".strip() + \"\\n\"\n",
    "    \n",
    "    filled = prompt.replace(\"$TXT\", txt)\n",
    "    result = get_gpt(filled)\n",
    "    return result"
   ]
  },
  {
   "cell_type": "code",
   "execution_count": 44,
   "id": "749e70a0-5262-4b9d-826b-e1c189cb2834",
   "metadata": {},
   "outputs": [
    {
     "name": "stdout",
     "output_type": "stream",
     "text": [
      "```json\n",
      "[\n",
      "  \"We highly appreciate your offer, but prices are much higher than our budgeted figures. Hence request to offer special discount enabling us to get approval from our management. Delivery period should be shortened as much as possible.\"\n",
      "]\n",
      "```"
     ]
    }
   ],
   "source": [
    "messages = []\n",
    "for msg in select_json_block(result):\n",
    "    if 'Offer-Nr.' not in msg['message']:\n",
    "        messages.append(msg)\n",
    "    else:\n",
    "        messages.append({ 'message': '< Commercial offer >', 'sender': 'maanger'})\n",
    "\n",
    "\n",
    "chronology = discount_chronology('\\n'.join([f'Message: {m['message']}\\nSender: {m['sender']}' for m in messages]))     "
   ]
  },
  {
   "cell_type": "code",
   "execution_count": 49,
   "id": "29fc8dbd-4ce4-4e85-bf53-9c987b9ce531",
   "metadata": {},
   "outputs": [],
   "source": [
    "api_key = \"YXBpZmFtYWdhcnU6RHpJVFd1Lk1COUV4LjNmdERsZ01YYlcvb0VFcW9NLw\"\n",
    "session_id = \"085qpt4eflu39a0dg7hjhr5mdu\"\n",
    "famaga = FamagaClient(api_key, session_id)\n",
    "\n",
    "def get_customer_data(deal_id):\n",
    "    offer_info = famaga.list_offers_by_deal_id(deal_id)\n",
    "    offer_id = offer_info['content'][0]['request']['id']\n",
    "    client_id = offer_info['content'][0]['request']['firm']['id']\n",
    "    \n",
    "    purchase_history = famaga.get_client_purchase_history_formatted(client_id, int(deal_id))\n",
    "    \n",
    "    current_offer = famaga.list_current_offer_details(offer_id)\n",
    "\n",
    "    return purchase_history, current_offer"
   ]
  },
  {
   "cell_type": "code",
   "execution_count": 50,
   "id": "39e8c197-95a4-4ab4-bc39-c210e252e8a4",
   "metadata": {},
   "outputs": [
    {
     "data": {
      "text/plain": [
       "('[CLIENT PURCHASE HISTORY]\\n**Client purchase history:**\\nDate: 2022-09-29\\n272381 (F862BP224K310Z Kemet/Evox Rifa) margin: 85%, sell: 22.47$ qty. 10, request id 350875\\n\\nDate: 2024-04-23\\n375707 (T77630-40 AI-TEK Instruments) margin: 22%, sell: 3315.87$ qty. 1, request id 502049\\n\\nDate: 2024-04-25\\n376251 (665006002 Mystik) margin: 25%, sell: 906.38$ qty. 1, request id 503139\\n\\n[/CLIENT PURCHASE HISTORY]',\n",
       " '(S800E Schaltbau) margin: 25%, sell: 101.59$ qty. 6')"
      ]
     },
     "execution_count": 50,
     "metadata": {},
     "output_type": "execute_result"
    }
   ],
   "source": [
    "get_customer_data(502048)"
   ]
  },
  {
   "cell_type": "code",
   "execution_count": null,
   "id": "251360f0-b777-4574-bb0e-74788e134ca0",
   "metadata": {},
   "outputs": [],
   "source": [
    "import requests\n",
    "import uuid\n",
    "import json\n",
    "\n",
    "data = {\n",
    "    \"run_uuid\": str(uuid.uuid4()),\n",
    "    \"deal_id\": deal_id,\n",
    "    \"raw_text\": text\n",
    "}\n",
    "\n",
    "\n",
    "response = requests.post('http://localhost:8013/v2/agent/discount/raw_text', data=json.dumps(data))\n",
    "\n",
    "response.content"
   ]
  },
  {
   "cell_type": "code",
   "execution_count": null,
   "id": "fc9ac49c-25a8-4abb-8efc-fc3cc6cc761c",
   "metadata": {},
   "outputs": [],
   "source": [
    "print(json.dumps(response.json(), indent=2))"
   ]
  },
  {
   "cell_type": "code",
   "execution_count": 7,
   "id": "510ef902-6cf4-46d0-a116-93f80af2b47c",
   "metadata": {},
   "outputs": [
    {
     "name": "stdout",
     "output_type": "stream",
     "text": [
      "Ignore case, manufacturer's price increase while deciding\n"
     ]
    }
   ],
   "source": [
    "import requests\n",
    "\n",
    "class FamagaClient:\n",
    "    def __init__(self, api_token):\n",
    "        self.api_token = api_token\n",
    "        self.base_url = \"https://api.famaga.org\"\n",
    "\n",
    "    def list_offers_by_deal_id(self, deal_id):\n",
    "        url = f\"{self.base_url}/requisition?request={deal_id}\"\n",
    "        headers = {'Authorization': self.api_token}\n",
    "        response = requests.get(url, headers=headers)\n",
    "        return response.json()\n",
    "\n",
    "    def get_client_purchase_history_formatted(self, client_id, deal_id):\n",
    "        url = f\"{self.base_url}/requisition?client={client_id}\"\n",
    "        headers = {'Authorization': self.api_token}\n",
    "        response = requests.get(url, headers=headers)\n",
    "        return response.json()\n",
    "\n",
    "    def list_current_offer_details(self, offer_id):\n",
    "        url = f\"{self.base_url}/requisition/{offer_id}/products\"\n",
    "        headers = {'Authorization': self.api_token}\n",
    "        response = requests.get(url, headers=headers)\n",
    "        return response.json()\n",
    "\n",
    "# Helper function to calculate margin\n",
    "def calculate_margin(total_purchase_price, total_selling_price):\n",
    "    return ((total_selling_price - total_purchase_price) / total_purchase_price) * 100\n",
    "\n",
    "# Decision-making function\n",
    "def determine_discount(deal_id):\n",
    "    client = FamagaClient(\"Bearer YXBpZmFtYWdhcnU6RHpJVFd1Lk1COUV4LjNmdERsZ01YYlcvb0VFcW9NLw\")\n",
    "\n",
    "    offer_info = client.list_offers_by_deal_id(deal_id)\n",
    "    if not offer_info['content']:\n",
    "        return \"No offers found for this deal ID\"\n",
    "\n",
    "    offer_id = offer_info['content'][0]['request']['id']\n",
    "    client_id = offer_info['content'][0]['request']['firm']['id']\n",
    "    purchase_history = client.get_client_purchase_history_formatted(client_id, int(deal_id))\n",
    "    current_offer = client.list_current_offer_details(offer_id)\n",
    "\n",
    "    if not current_offer:\n",
    "        return \"No current offer details found\"\n",
    "\n",
    "    total_purchase_price = sum([float(product['price_buy_ru']) for product in current_offer])\n",
    "    total_selling_price = sum([float(product['price_sell_ru']) for product in current_offer])\n",
    "    current_margin = calculate_margin(total_purchase_price, total_selling_price)\n",
    "\n",
    "    # Implement the discount logic\n",
    "    has_purchased_current_product = any(deal['id'] == deal_id for deal in purchase_history['content'])\n",
    "    if has_purchased_current_product:\n",
    "        previous_offer = purchase_history['content'][0]\n",
    "        previous_price = float(previous_offer['request']['cost'])\n",
    "        if total_purchase_price <= previous_price:\n",
    "            return f\"Offer same price as last time: {previous_price}\"\n",
    "        else:\n",
    "            new_price = total_purchase_price * 1.12\n",
    "            return f\"Set 12% margin price: {new_price}, explain manufacturer's price change\"\n",
    "\n",
    "    has_specified_desired_price = any(deal['target_price'] > 0 for deal in purchase_history['content'])\n",
    "    if has_specified_desired_price:\n",
    "        desired_price = next(deal['target_price'] for deal in purchase_history['content'] if deal['target_price'] > 0)\n",
    "        if total_purchase_price <= desired_price:\n",
    "            return f\"Offer desired price: {desired_price}\"\n",
    "        else:\n",
    "            new_price = total_purchase_price * 1.10\n",
    "            return f\"Set 10% margin price: {new_price}, explain maximum possible discount\"\n",
    "\n",
    "    if purchase_history['total'] > 0:\n",
    "        if all(float(deal['request']['cost']) == total_purchase_price for deal in purchase_history['content']):\n",
    "            return \"Deny discount, margin did not change\"\n",
    "        else:\n",
    "            previous_offers = [float(deal['request']['cost']) for deal in purchase_history['content']]\n",
    "            if any(prev_price > total_purchase_price for prev_price in previous_offers):\n",
    "                return \"Ignore case, manufacturer's price increase while deciding\"\n",
    "            else:\n",
    "                return \"Give 2% discount due to previous discount\"\n",
    "\n",
    "    if purchase_history['total'] == 0:\n",
    "        if purchase_history['content'][0]['request']['firm']['type'] == '1':\n",
    "            return \"Give 2% discount, ask for desired price\"\n",
    "        else:\n",
    "            return \"Deny discount, client is not a large company\"\n",
    "\n",
    "    if purchase_history['total'] > 10:\n",
    "        return \"Set 10% margin, candidate for blacklist if no purchase with max discount\"\n",
    "\n",
    "    if any(abs((deal['created'] - purchase_history['content'][0]['created']).days) <= 2 for deal in purchase_history['content']):\n",
    "        return \"Suggest discussing discount for multiple offers, pass to sales team for manual processing\"\n",
    "\n",
    "    return \"No applicable discount found\"\n",
    "\n",
    "# # Example usage\n",
    "# deal_id = 432036  # Replace with actual deal_id\n",
    "# discount_decision = determine_discount(deal_id)\n",
    "# print(discount_decision)\n"
   ]
  },
  {
   "cell_type": "code",
   "execution_count": 8,
   "id": "619e6882-8204-4b64-ae29-4f1dd587cca6",
   "metadata": {},
   "outputs": [
    {
     "name": "stdout",
     "output_type": "stream",
     "text": [
      "Ignore case, manufacturer's price increase while deciding\n"
     ]
    }
   ],
   "source": [
    "deals = [\n",
    "    511087\n",
    "\n",
    "]\n",
    "\n",
    "discount_decision = determine_discount(deals[0])\n",
    "print(discount_decision)"
   ]
  },
  {
   "cell_type": "code",
   "execution_count": null,
   "id": "3634159b-73cd-4066-9643-03293df19d54",
   "metadata": {},
   "outputs": [],
   "source": [
    "def process_deals():\n",
    "    client = FamagaClient(\"Bearer YXBpZmFtYWdhcnU6RHpJVFd1Lk1COUV4LjNmdERsZ01YYlcvb0VFcW9NLw\")\n",
    "    url = f\"{client.base_url}/requisition?limit=200&page=20\"\n",
    "    headers = {'Authorization': client.api_token}\n",
    "    response = requests.get(url, headers=headers)\n",
    "    deals = response.json()['content']\n",
    "\n",
    "    for deal in deals:\n",
    "        deal_id = deal['request']['id']\n",
    "        result = determine_discount(deal_id)\n",
    "        print(f\"Deal ID: {deal_id}, Discount Decision: {result}\")\n",
    "\n",
    "# Example usage\n",
    "process_deals()"
   ]
  },
  {
   "cell_type": "code",
   "execution_count": null,
   "id": "c8746c89-3014-4d34-8024-7415669bde08",
   "metadata": {},
   "outputs": [],
   "source": [
    "Deal ID: 505143, Discount Decision: Give 2% discount due to previous discount\n",
    "Deal ID: 505082, Discount Decision: Give 2% discount due to previous discount\n"
   ]
  },
  {
   "cell_type": "code",
   "execution_count": 13,
   "id": "7b4787cb-423d-4c41-a3f1-97d35f8625a7",
   "metadata": {},
   "outputs": [
    {
     "data": {
      "text/html": [
       "<div>\n",
       "<style scoped>\n",
       "    .dataframe tbody tr th:only-of-type {\n",
       "        vertical-align: middle;\n",
       "    }\n",
       "\n",
       "    .dataframe tbody tr th {\n",
       "        vertical-align: top;\n",
       "    }\n",
       "\n",
       "    .dataframe thead th {\n",
       "        text-align: right;\n",
       "    }\n",
       "</style>\n",
       "<table border=\"1\" class=\"dataframe\">\n",
       "  <thead>\n",
       "    <tr style=\"text-align: right;\">\n",
       "      <th></th>\n",
       "      <th>Deal ID</th>\n",
       "      <th>Client ID</th>\n",
       "      <th>Firm</th>\n",
       "      <th>Cost</th>\n",
       "      <th>Discount Decision</th>\n",
       "    </tr>\n",
       "  </thead>\n",
       "  <tbody>\n",
       "    <tr>\n",
       "      <th>0</th>\n",
       "      <td>511220</td>\n",
       "      <td>118684</td>\n",
       "      <td>Aptal DMCC</td>\n",
       "      <td>1626.34</td>\n",
       "      <td>Ignore case, manufacturer's price increase whi...</td>\n",
       "    </tr>\n",
       "    <tr>\n",
       "      <th>1</th>\n",
       "      <td>511087</td>\n",
       "      <td>127211</td>\n",
       "      <td>The Leicester Bearing Co.Ltd</td>\n",
       "      <td>404.49</td>\n",
       "      <td>Ignore case, manufacturer's price increase whi...</td>\n",
       "    </tr>\n",
       "  </tbody>\n",
       "</table>\n",
       "</div>"
      ],
      "text/plain": [
       "   Deal ID  Client ID                          Firm     Cost  \\\n",
       "0   511220     118684                    Aptal DMCC  1626.34   \n",
       "1   511087     127211  The Leicester Bearing Co.Ltd   404.49   \n",
       "\n",
       "                                   Discount Decision  \n",
       "0  Ignore case, manufacturer's price increase whi...  \n",
       "1  Ignore case, manufacturer's price increase whi...  "
      ]
     },
     "metadata": {},
     "output_type": "display_data"
    },
    {
     "name": "stdout",
     "output_type": "stream",
     "text": [
      "Trace data for Deal ID 511220:\n"
     ]
    },
    {
     "data": {
      "application/json": [
       {
        "API Call": "list_offers_by_deal_id",
        "Response": {
         "content": [
          {
           "created": "2024-05-23T15:20:31+00:00",
           "decision": 0,
           "id": 381603,
           "lastsend": "2024-05-23T16:17:53+00:00",
           "link": "index.php?option=com_oscrm&view=requisition&request_id=511220&Itemid=219",
           "processing_time": "",
           "proform": {
            "fam": null
           },
           "request": {
            "brand": {
             "conversion": "5.19",
             "id": 809,
             "link": "index.php?option=com_oscrm&view=brandform&id=809&Itemid=219",
             "title": "Allen-Bradley"
            },
            "contractor": {
             "created": "2022-08-03T13:46:02+00:00",
             "id": 34743,
             "link": "index.php?option=com_oscrm&view=contractorform&id=34743&Itemid=216",
             "modified": "2024-02-29T07:05:53+00:00",
             "title": "ZWOD Vertriebs und Logistik GmbH"
            },
            "cost": "1626.34",
            "curator": {
             "email": "pushkar@famaga.com",
             "id": 822,
             "name": "Pushkar Agarwal",
             "username": "Pushkar Agarwal"
            },
            "firm": {
             "conversion": "",
             "id": 118684,
             "link": "index.php?option=com_oscrm&view=firmform&id=118684&Itemid=219",
             "title": "Aptal DMCC",
             "type": "1"
            },
            "id": 511220,
            "initials": "KP",
            "requestManagers": [
             []
            ]
           },
           "state": true,
           "target_price": 0,
           "target_price_solved": false
          }
         ],
         "limit": 20,
         "page": 1,
         "total": 1
        },
        "URL": "https://api.famaga.org/requisition?request=511220"
       },
       {
        "API Call": "get_client_purchase_history_formatted",
        "Response": {
         "content": [
          {
           "created": "2024-05-23T15:20:31+00:00",
           "decision": 0,
           "id": 381603,
           "lastsend": "2024-05-23T16:17:53+00:00",
           "link": "index.php?option=com_oscrm&view=requisition&request_id=511220&Itemid=219",
           "processing_time": "",
           "proform": {
            "fam": null
           },
           "request": {
            "brand": {
             "conversion": "5.19",
             "id": 809,
             "link": "index.php?option=com_oscrm&view=brandform&id=809&Itemid=219",
             "title": "Allen-Bradley"
            },
            "contractor": {
             "created": "2022-08-03T13:46:02+00:00",
             "id": 34743,
             "link": "index.php?option=com_oscrm&view=contractorform&id=34743&Itemid=216",
             "modified": "2024-02-29T07:05:53+00:00",
             "title": "ZWOD Vertriebs und Logistik GmbH"
            },
            "cost": "1626.34",
            "curator": {
             "email": "pushkar@famaga.com",
             "id": 822,
             "name": "Pushkar Agarwal",
             "username": "Pushkar Agarwal"
            },
            "firm": {
             "conversion": "",
             "id": 118684,
             "link": "index.php?option=com_oscrm&view=firmform&id=118684&Itemid=219",
             "title": "Aptal DMCC",
             "type": "1"
            },
            "id": 511220,
            "initials": "KP",
            "requestManagers": [
             []
            ]
           },
           "state": true,
           "target_price": 0,
           "target_price_solved": false
          },
          {
           "created": "2024-05-15T12:12:02+00:00",
           "decision": 0,
           "id": 379811,
           "lastsend": "2024-05-15T13:48:56+00:00",
           "link": "index.php?option=com_oscrm&view=requisition&request_id=506884&Itemid=219",
           "processing_time": "",
           "proform": {
            "fam": null
           },
           "request": {
            "brand": {
             "conversion": "10.11",
             "id": 8175,
             "link": "index.php?option=com_oscrm&view=brandform&id=8175&Itemid=219",
             "title": "Autronica"
            },
            "contractor": {
             "created": "2018-02-12T08:24:32+00:00",
             "id": 9108,
             "link": "index.php?option=com_oscrm&view=contractorform&id=9108&Itemid=216",
             "modified": "2023-11-13T09:38:09+00:00",
             "title": "EGON HARIG GmbH"
            },
            "cost": "2950.08",
            "curator": {
             "email": "pushkar@famaga.com",
             "id": 822,
             "name": "Pushkar Agarwal",
             "username": "Pushkar Agarwal"
            },
            "firm": {
             "conversion": "",
             "id": 118684,
             "link": "index.php?option=com_oscrm&view=firmform&id=118684&Itemid=219",
             "title": "Aptal DMCC",
             "type": "1"
            },
            "id": 506884,
            "initials": "KP",
            "requestManagers": [
             []
            ]
           },
           "state": true,
           "target_price": 0,
           "target_price_solved": false
          },
          {
           "created": "2024-04-23T07:44:37+00:00",
           "decision": 0,
           "id": 375537,
           "lastsend": "2024-04-23T08:13:07+00:00",
           "link": "index.php?option=com_oscrm&view=requisition&request_id=501480&Itemid=219",
           "processing_time": "",
           "proform": {
            "fam": null
           },
           "request": {
            "brand": {
             "conversion": "",
             "id": 16484,
             "link": "index.php?option=com_oscrm&view=brandform&id=16484&Itemid=219",
             "title": "MEZ MOTOREN"
            },
            "contractor": {
             "created": "2014-10-07T21:22:08+00:00",
             "id": 1923,
             "link": "index.php?option=com_oscrm&view=contractorform&id=1923&Itemid=216",
             "modified": "2023-11-21T11:19:45+00:00",
             "title": "Clemens Lammers GmbH"
            },
            "cost": "452.9",
            "curator": {
             "email": "pushkar@famaga.com",
             "id": 822,
             "name": "Pushkar Agarwal",
             "username": "Pushkar Agarwal"
            },
            "firm": {
             "conversion": "",
             "id": 118684,
             "link": "index.php?option=com_oscrm&view=firmform&id=118684&Itemid=219",
             "title": "Aptal DMCC",
             "type": "1"
            },
            "id": 501480,
            "initials": "EG",
            "requestManagers": [
             []
            ]
           },
           "state": true,
           "target_price": 0,
           "target_price_solved": false
          }
         ],
         "limit": 20,
         "page": 1,
         "total": 3
        },
        "URL": "https://api.famaga.org/requisition?client=118684"
       },
       {
        "API Call": "list_current_offer_details",
        "Response": [
         {
          "articul": "1769-L32E",
          "articul_id": 250959,
          "brand_id": 809,
          "brand_title": "Allen-Bradley",
          "cc_id": 595413,
          "checked_out": 0,
          "checked_out_time": "0000-00-00 00:00:00",
          "confirmed_arrival_from": 0,
          "confirmed_arrival_to": 0,
          "contractor_id": 34743,
          "count": 1,
          "created_by": 0,
          "description": "Controller",
          "description_de": "Controller",
          "discount": "0",
          "discount_client": 0,
          "id": 1283774,
          "margin_ru": 22,
          "model_number": "",
          "ordering": 1126899,
          "planned_arrival_germany_from": 0,
          "planned_arrival_germany_to": 0,
          "price": "980",
          "price_buy": 0,
          "price_buy_de": 0,
          "price_buy_ru": 980,
          "price_deliv": 0,
          "price_end": "1626.34",
          "price_sell": 0,
          "price_sell_ru": 1626.34,
          "request_id": 511220,
          "ri_id": 961676,
          "state": 1,
          "tax": 7,
          "unit": "pcs",
          "weight": "3"
         }
        ],
        "URL": "https://api.famaga.org/requisition/511220/products"
       }
      ],
      "text/plain": [
       "<IPython.core.display.JSON object>"
      ]
     },
     "metadata": {
      "application/json": {
       "expanded": false,
       "root": "root"
      }
     },
     "output_type": "display_data"
    },
    {
     "name": "stdout",
     "output_type": "stream",
     "text": [
      "Trace data for Deal ID 511087:\n"
     ]
    },
    {
     "data": {
      "application/json": [
       {
        "API Call": "list_offers_by_deal_id",
        "Response": {
         "content": [
          {
           "created": "2024-05-23T15:14:43+00:00",
           "decision": 0,
           "id": 381602,
           "lastsend": "-0001-11-30T00:00:00+00:00",
           "link": "index.php?option=com_oscrm&view=requisition&request_id=511087&Itemid=219",
           "processing_time": "",
           "proform": {
            "fam": null
           },
           "request": {
            "brand": {
             "conversion": "9.38",
             "id": 3516,
             "link": "index.php?option=com_oscrm&view=brandform&id=3516&Itemid=219",
             "title": "UTENTRA"
            },
            "contractor": {
             "created": "2014-01-08T11:40:56+00:00",
             "id": 1272,
             "link": "index.php?option=com_oscrm&view=contractorform&id=1272&Itemid=216",
             "modified": "2021-09-27T08:55:40+00:00",
             "title": "UTENTRA SRL"
            },
            "cost": "404.49",
            "curator": {
             "email": "lct@famaga.de",
             "id": 872,
             "name": "Luca Telia",
             "username": "Luca Telia"
            },
            "firm": {
             "conversion": "",
             "id": 127211,
             "link": "index.php?option=com_oscrm&view=firmform&id=127211&Itemid=219",
             "title": "The Leicester Bearing Co.Ltd",
             "type": "2"
            },
            "id": 511087,
            "initials": "KP",
            "requestManagers": [
             []
            ]
           },
           "state": true,
           "target_price": 0,
           "target_price_solved": false
          }
         ],
         "limit": 20,
         "page": 1,
         "total": 1
        },
        "URL": "https://api.famaga.org/requisition?request=511087"
       },
       {
        "API Call": "get_client_purchase_history_formatted",
        "Response": {
         "content": [
          {
           "created": "2024-05-23T15:14:43+00:00",
           "decision": 0,
           "id": 381602,
           "lastsend": "-0001-11-30T00:00:00+00:00",
           "link": "index.php?option=com_oscrm&view=requisition&request_id=511087&Itemid=219",
           "processing_time": "",
           "proform": {
            "fam": null
           },
           "request": {
            "brand": {
             "conversion": "9.38",
             "id": 3516,
             "link": "index.php?option=com_oscrm&view=brandform&id=3516&Itemid=219",
             "title": "UTENTRA"
            },
            "contractor": {
             "created": "2014-01-08T11:40:56+00:00",
             "id": 1272,
             "link": "index.php?option=com_oscrm&view=contractorform&id=1272&Itemid=216",
             "modified": "2021-09-27T08:55:40+00:00",
             "title": "UTENTRA SRL"
            },
            "cost": "404.49",
            "curator": {
             "email": "lct@famaga.de",
             "id": 872,
             "name": "Luca Telia",
             "username": "Luca Telia"
            },
            "firm": {
             "conversion": "",
             "id": 127211,
             "link": "index.php?option=com_oscrm&view=firmform&id=127211&Itemid=219",
             "title": "The Leicester Bearing Co.Ltd",
             "type": "2"
            },
            "id": 511087,
            "initials": "KP",
            "requestManagers": [
             []
            ]
           },
           "state": true,
           "target_price": 0,
           "target_price_solved": false
          }
         ],
         "limit": 20,
         "page": 1,
         "total": 1
        },
        "URL": "https://api.famaga.org/requisition?client=127211"
       },
       {
        "API Call": "list_current_offer_details",
        "Response": [
         {
          "articul": "U/HC 182",
          "articul_id": 1178433,
          "brand_id": 3516,
          "brand_title": "UTENTRA",
          "cc_id": 595412,
          "checked_out": 0,
          "checked_out_time": "0000-00-00 00:00:00",
          "confirmed_arrival_from": 0,
          "confirmed_arrival_to": 0,
          "contractor_id": 1272,
          "count": 1,
          "created_by": 0,
          "description": "N°5 Centrifugal fans our mod. U/HC 182 – Arrangement 5 – With motor Kw 1,10 Poles 2\nV.230/400 Hz.50 B5 IP55 – “Cantoni” – IE3 – Inlet protection net – Position of discharge to be\nagreed",
          "description_de": "N°5 Centrifugal fans our mod. U/HC 182 – Arrangement 5 – With motor Kw 1,10 Poles 2\nV.230/400 Hz.50 B5 IP55 – “Cantoni” – IE3 – Inlet protection net – Position of discharge to be\nagreed",
          "discount": "0",
          "discount_client": 0,
          "id": 1283773,
          "margin_ru": 22,
          "model_number": "",
          "ordering": 1126898,
          "planned_arrival_germany_from": 0,
          "planned_arrival_germany_to": 0,
          "price": "285.5",
          "price_buy": 0,
          "price_buy_de": 0,
          "price_buy_ru": 285.5,
          "price_deliv": 0,
          "price_end": "404.49",
          "price_sell": 0,
          "price_sell_ru": 404.49,
          "request_id": 511087,
          "ri_id": 961449,
          "state": 1,
          "tax": 7,
          "unit": "pcs",
          "weight": "16"
         }
        ],
        "URL": "https://api.famaga.org/requisition/511087/products"
       }
      ],
      "text/plain": [
       "<IPython.core.display.JSON object>"
      ]
     },
     "metadata": {
      "application/json": {
       "expanded": false,
       "root": "root"
      }
     },
     "output_type": "display_data"
    }
   ],
   "source": [
    "import requests\n",
    "import pandas as pd\n",
    "from IPython.display import display, JSON\n",
    "\n",
    "class FamagaClient:\n",
    "    def __init__(self, api_token):\n",
    "        self.api_token = api_token\n",
    "        self.base_url = \"https://api.famaga.org\"\n",
    "\n",
    "    def list_offers_by_deal_id(self, deal_id):\n",
    "        url = f\"{self.base_url}/requisition?request={deal_id}\"\n",
    "        headers = {'Authorization': self.api_token}\n",
    "        response = requests.get(url, headers=headers)\n",
    "        return response.json(), url\n",
    "\n",
    "    def get_client_purchase_history_formatted(self, client_id, deal_id):\n",
    "        url = f\"{self.base_url}/requisition?client={client_id}\"\n",
    "        headers = {'Authorization': self.api_token}\n",
    "        response = requests.get(url, headers=headers)\n",
    "        return response.json(), url\n",
    "\n",
    "    def list_current_offer_details(self, offer_id):\n",
    "        url = f\"{self.base_url}/requisition/{offer_id}/products\"\n",
    "        headers = {'Authorization': self.api_token}\n",
    "        response = requests.get(url, headers=headers)\n",
    "        return response.json(), url\n",
    "\n",
    "def calculate_margin(total_purchase_price, total_selling_price):\n",
    "    return ((total_selling_price - total_purchase_price) / total_purchase_price) * 100\n",
    "\n",
    "def determine_discount(deal_id, client):\n",
    "    trace_data = []\n",
    "    \n",
    "    offer_info, url = client.list_offers_by_deal_id(deal_id)\n",
    "    trace_data.append({\n",
    "        \"API Call\": \"list_offers_by_deal_id\",\n",
    "        \"URL\": url,\n",
    "        \"Response\": offer_info\n",
    "    })\n",
    "\n",
    "    if not offer_info['content']:\n",
    "        return \"No offers found for this deal ID\", trace_data\n",
    "\n",
    "    offer_id = offer_info['content'][0]['request']['id']\n",
    "    client_id = offer_info['content'][0]['request']['firm']['id']\n",
    "    \n",
    "    purchase_history, url = client.get_client_purchase_history_formatted(client_id, int(deal_id))\n",
    "    trace_data.append({\n",
    "        \"API Call\": \"get_client_purchase_history_formatted\",\n",
    "        \"URL\": url,\n",
    "        \"Response\": purchase_history\n",
    "    })\n",
    "    \n",
    "    current_offer, url = client.list_current_offer_details(offer_id)\n",
    "    trace_data.append({\n",
    "        \"API Call\": \"list_current_offer_details\",\n",
    "        \"URL\": url,\n",
    "        \"Response\": current_offer\n",
    "    })\n",
    "\n",
    "    if not current_offer:\n",
    "        return \"No current offer details found\", trace_data\n",
    "\n",
    "    total_purchase_price = sum([float(product['price_buy_ru']) for product in current_offer])\n",
    "    total_selling_price = sum([float(product['price_sell_ru']) for product in current_offer])\n",
    "    current_margin = calculate_margin(total_purchase_price, total_selling_price)\n",
    "\n",
    "    has_purchased_current_product = any(deal['id'] == deal_id for deal in purchase_history['content'])\n",
    "    if has_purchased_current_product:\n",
    "        previous_offer = purchase_history['content'][0]\n",
    "        previous_price = float(previous_offer['request']['cost'])\n",
    "        if total_purchase_price <= previous_price:\n",
    "            return f\"Offer same price as last time: {previous_price}\", trace_data\n",
    "        else:\n",
    "            new_price = total_purchase_price * 1.12\n",
    "            return f\"Set 12% margin price: {new_price}, explain manufacturer's price change\", trace_data\n",
    "\n",
    "    has_specified_desired_price = any(deal['target_price'] > 0 for deal in purchase_history['content'])\n",
    "    if has_specified_desired_price:\n",
    "        desired_price = next(deal['target_price'] for deal in purchase_history['content'] if deal['target_price'] > 0)\n",
    "        if total_purchase_price <= desired_price:\n",
    "            return f\"Offer desired price: {desired_price}\", trace_data\n",
    "        else:\n",
    "            new_price = total_purchase_price * 1.10\n",
    "            return f\"Set 10% margin price: {new_price}, explain maximum possible discount\", trace_data\n",
    "\n",
    "    if purchase_history['total'] > 0:\n",
    "        if all(float(deal['request']['cost']) == total_purchase_price for deal in purchase_history['content']):\n",
    "            return \"Deny discount, margin did not change\", trace_data\n",
    "        else:\n",
    "            previous_offers = [float(deal['request']['cost']) for deal in purchase_history['content']]\n",
    "            if any(prev_price > total_purchase_price for prev_price in previous_offers):\n",
    "                return \"Ignore case, manufacturer's price increase while deciding\", trace_data\n",
    "            else:\n",
    "                return \"Give 2% discount due to previous discount\", trace_data\n",
    "\n",
    "    if purchase_history['total'] == 0:\n",
    "        if purchase_history['content'][0]['request']['firm']['type'] == '1':\n",
    "            return \"Give 2% discount, ask for desired price\", trace_data\n",
    "        else:\n",
    "            return \"Deny discount, client is not a large company\", trace_data\n",
    "\n",
    "    if purchase_history['total'] > 10:\n",
    "        return \"Set 10% margin, candidate for blacklist if no purchase with max discount\", trace_data\n",
    "\n",
    "    if any(abs((deal['created'] - purchase_history['content'][0]['created']).days) <= 2 for deal in purchase_history['content']):\n",
    "        return \"Suggest discussing discount for multiple offers, pass to sales team for manual processing\", trace_data\n",
    "\n",
    "    return \"No applicable discount found\", trace_data\n",
    "\n",
    "def process_deals():\n",
    "    client = FamagaClient(\"Bearer YXBpZmFtYWdhcnU6RHpJVFd1Lk1COUV4LjNmdERsZ01YYlcvb0VFcW9NLw\")\n",
    "    url = f\"{client.base_url}/requisition?limit=2\"\n",
    "    headers = {'Authorization': client.api_token}\n",
    "    response = requests.get(url, headers=headers)\n",
    "    deals = response.json()['content']\n",
    "\n",
    "    all_trace_data = []\n",
    "    results = []\n",
    "\n",
    "    for deal in deals:\n",
    "        deal_id = deal['request']['id']\n",
    "        discount_decision, trace_data = determine_discount(deal_id, client)\n",
    "        \n",
    "        result = {\n",
    "            \"Deal ID\": deal_id,\n",
    "            \"Client ID\": deal['request']['firm']['id'],\n",
    "            \"Firm\": deal['request']['firm']['title'],\n",
    "            \"Cost\": deal['request']['cost'],\n",
    "            \"Discount Decision\": discount_decision\n",
    "        }\n",
    "        results.append(result)\n",
    "        all_trace_data.append(trace_data)\n",
    "\n",
    "    # Display results in a pretty format\n",
    "    df = pd.DataFrame(results)\n",
    "    display(df)\n",
    "    \n",
    "    # Display trace data for each request\n",
    "    for i, trace_data in enumerate(all_trace_data):\n",
    "        print(f\"Trace data for Deal ID {results[i]['Deal ID']}:\")\n",
    "        display(JSON(trace_data))\n",
    "\n",
    "# Example usage\n",
    "process_deals()\n"
   ]
  },
  {
   "cell_type": "markdown",
   "id": "791fff6b-3d8b-43ea-ba98-e0dc4e8cb2c3",
   "metadata": {},
   "source": [
    "## V2"
   ]
  },
  {
   "cell_type": "code",
   "execution_count": null,
   "id": "bd154333-ebd6-4161-afa8-70fea6d8c5df",
   "metadata": {},
   "outputs": [],
   "source": [
    "def get_sales_history(self, client_id: int, deal_id: int) -> HistoryResponse:\n",
    "        url = f\"{BASE_URL}/calculation-history?request={deal_id}\"\n",
    "        response = requests.get(url, headers=self._get_headers())\n",
    "        return self._handle_response(response)"
   ]
  },
  {
   "cell_type": "code",
   "execution_count": 330,
   "id": "cf60223e-5842-4c62-aa83-8f0dd9ed4e54",
   "metadata": {},
   "outputs": [],
   "source": [
    "from dataclasses import dataclass\n",
    "from typing import List, Optional, Union\n",
    "\n",
    "@dataclass\n",
    "class Firm:\n",
    "    id: int\n",
    "    title: str\n",
    "    type: str\n",
    "    conversion: str\n",
    "    link: str\n",
    "\n",
    "@dataclass\n",
    "class Brand:\n",
    "    id: int\n",
    "    title: str\n",
    "    conversion: str\n",
    "    link: str\n",
    "\n",
    "@dataclass\n",
    "class Contractor:\n",
    "    id: int\n",
    "    title: str\n",
    "    link: str\n",
    "    created: str\n",
    "    modified: str\n",
    "\n",
    "@dataclass\n",
    "class Curator:\n",
    "    id: int\n",
    "    name: str\n",
    "    username: str\n",
    "    email: str\n",
    "\n",
    "@dataclass\n",
    "class Request:\n",
    "    id: int\n",
    "    firm: Firm\n",
    "    initials: str\n",
    "    brand: Brand\n",
    "    contractor: Contractor\n",
    "    curator: Curator\n",
    "    requestManagers: List[List]\n",
    "    cost: str\n",
    "\n",
    "@dataclass\n",
    "class Proform:\n",
    "    fam: Optional[int]\n",
    "\n",
    "@dataclass\n",
    "class HistoryContent:\n",
    "    id: int\n",
    "    request: Request\n",
    "    created: str\n",
    "    lastsend: str\n",
    "    processing_time: str\n",
    "    decision: int\n",
    "    link: str\n",
    "    target_price: int\n",
    "    target_price_solved: bool\n",
    "    state: bool\n",
    "    proform: Proform\n",
    "\n",
    "@dataclass\n",
    "class HistoryResponse:\n",
    "    content: List[HistoryContent]\n",
    "    total: int\n",
    "    limit: int\n",
    "    page: int\n",
    "\n",
    "\n",
    "## PRODUCTS \n",
    "\n",
    "@dataclass\n",
    "class ProductDetail:\n",
    "    id: int\n",
    "    ri_id: int\n",
    "    cc_id: int\n",
    "    request_id: int\n",
    "    brand_id: int\n",
    "    articul: str\n",
    "    articul_id: int\n",
    "    contractor_id: int\n",
    "    count: int\n",
    "    price: str            # purchase price from manufacturer\n",
    "    price_buy_de: float\n",
    "    price_end: str        # the end price for client\n",
    "    price_deliv: float \n",
    "    discount: str         # discount from supplier\n",
    "    discount_client: float\n",
    "    margin_ru: int        # margin that helps us identify discount\n",
    "    tax: int\n",
    "    price_buy_ru: float\n",
    "    price_buy: float\n",
    "    price_sell_ru: float\n",
    "    price_sell: float\n",
    "    unit: str\n",
    "    weight: str\n",
    "    planned_arrival_germany_from: int\n",
    "    planned_arrival_germany_to: int\n",
    "    confirmed_arrival_from: int\n",
    "    confirmed_arrival_to: int\n",
    "    checked_out: int\n",
    "    checked_out_time: str\n",
    "    created_by: int\n",
    "    state: int\n",
    "    ordering: int\n",
    "    model_number: Optional[str] = \"\"\n",
    "    description: Optional[str] = \"\"\n",
    "    description_de: Optional[str] = \"\"\n",
    "    brand_title: Optional[str] = None\n",
    "\n",
    "\n",
    "## CALCULATION HISTORY\n",
    "\n",
    "@dataclass\n",
    "class Request:\n",
    "    id: int\n",
    "\n",
    "@dataclass\n",
    "class User:\n",
    "    id: int\n",
    "\n",
    "@dataclass\n",
    "class NoticeMailContent:\n",
    "    id: int\n",
    "    request: Request\n",
    "    type: str\n",
    "    user: User\n",
    "    created_at: str\n",
    "    note: str\n",
    "    status: int\n",
    "\n",
    "@dataclass\n",
    "class NoticeMailResponse:\n",
    "    content: List[NoticeMailContent]\n",
    "    total: int\n",
    "    limit: int\n",
    "    offset: int\n",
    "\n",
    "@dataclass\n",
    "class Product:\n",
    "    id: str\n",
    "    tax: str\n",
    "    count: str\n",
    "    weight: str\n",
    "    articul: str\n",
    "    brand_id: str\n",
    "    discount: str\n",
    "    margin_ru: str\n",
    "    description: str\n",
    "    price_deliv: str\n",
    "    model_number: str\n",
    "    price_buy_de: str\n",
    "    price_buy_ru: str\n",
    "    price_sell_ru: str\n",
    "    description_de: str\n",
    "    expense: Optional[str] = None\n",
    "    unit: Optional[str] = None\n",
    "\n",
    "@dataclass\n",
    "class VersionData:\n",
    "    id: str\n",
    "    bonus: str\n",
    "    brand_id: str\n",
    "    currency: str\n",
    "    exchange: str\n",
    "    products: List[Product]\n",
    "    favourite: str\n",
    "    firm_type: str\n",
    "    margin_de: str\n",
    "    freeze_end: int\n",
    "    request_id: str\n",
    "    bonus_sales: str\n",
    "    brutto_open: str\n",
    "    firm_manager: str\n",
    "    price_weigth: str\n",
    "    total_weight: str\n",
    "    contractor_id: str\n",
    "    taxes_reserve: str\n",
    "    term_validity: str\n",
    "    bonus_purchase: str\n",
    "    contractor_kun: str\n",
    "    calculation_type: str\n",
    "    delivery_cost_ru: str\n",
    "    price_buy_all_de: str\n",
    "    price_buy_all_ru: str\n",
    "    price_sell_all_ru: str\n",
    "    price_deliv_client: str\n",
    "    planned_arrival_unit: str\n",
    "    contractor_kun_validity: str\n",
    "    planned_arrival_germany_to: str\n",
    "    price_buy_all_de_with_deliv: str\n",
    "    planned_arrival_germany_from: str\n",
    "    purchasing_department: List[str] = None\n",
    "    calculation_error: Optional[str] = None\n",
    "    request_type: Optional[str] = None\n",
    "\n",
    "@dataclass\n",
    "class CalculationHistoryContent:\n",
    "    id: int\n",
    "    request: Request\n",
    "    user: User\n",
    "    type: str\n",
    "    created_at: str\n",
    "    note: str\n",
    "    sha1_hash: str\n",
    "    version_data: Optional[VersionData] = None\n",
    "\n",
    "@dataclass\n",
    "class CalculationHistoryResponse:\n",
    "    content: List[CalculationHistoryContent]\n",
    "    total: int\n",
    "    limit: int\n",
    "    offset: int\n",
    "\n",
    "\n",
    "from typing import Dict, List, Union, Optional\n",
    "import logging\n",
    "from dataclasses import dataclass\n",
    "import requests\n",
    "from dacite import from_dict\n",
    "\n",
    "\n",
    "BASE_URL = \"https://api.famaga.org\"\n",
    "\n",
    "\n",
    "class APIClient:\n",
    "    def __init__(self, token: str) -> None:\n",
    "        self.token = token\n",
    "\n",
    "    def _extract_date(self, datetime_str: str) -> str:\n",
    "        dt = datetime.fromisoformat(datetime_str)\n",
    "        return dt.strftime('%Y-%m-%d')\n",
    "\n",
    "    def prettify_history_response(self, response: HistoryResponse) -> str:\n",
    "        prettified = \"\"\n",
    "        for content in response.content:\n",
    "            prettified += (\n",
    "                f\"Deal: {content.request.id} at {_extract_date(content.created)}\\n\"\n",
    "            )\n",
    "        return prettified\n",
    "\n",
    "    def prettify_deal_offer(self, offer: HistoryContent):\n",
    "        prettified = f\"Deal: {offer.request.id} at {self._extract_date(offer.created)}\"\n",
    "        return prettified\n",
    "\n",
    "    \n",
    "    def prettify_offer_products(self, products: List[Product]) -> str:\n",
    "        prettified = \"\"\n",
    "        for product in products:\n",
    "             prettified += (f'{product.id} ({product.articul}) {product.description}, margin {product.margin_ru}%' +\\\n",
    "                            f' {round(float(product.price_sell_ru), 2)}\\n')\n",
    "        return prettified\n",
    "    \n",
    "    def prettify_product_details(self, products: List[ProductDetail]) -> str:\n",
    "        prettified = \"\"\n",
    "        for product in products:\n",
    "             prettified += (f'{product.id} ({product.articul}) {product.brand_title}' +\\\n",
    "                            f' {round(float(product.price_end), 2)} ({product.discount}%)\\n')\n",
    "        return prettified\n",
    "\n",
    "    def prettify_notice_mail_response(self, response: NoticeMailResponse) -> str:\n",
    "        prettified = \"\"\n",
    "        for content in response.content:\n",
    "            prettified += (\n",
    "                f\"{content.request.id}\"\n",
    "                f\"Type: {content.type}\\n\"\n",
    "                f\"User ID: {content.user.id}\\n\"\n",
    "                f\"Created At: {content.created_at}\\n\"\n",
    "                f\"Note: {content.note}\\n\"\n",
    "                f\"Status: {content.status}\\n\"\n",
    "                \"--------------------------\\n\"\n",
    "            )\n",
    "        return prettified\n",
    "    \n",
    "    def _get_headers(self) -> Dict[str, str]:\n",
    "        return {\"Authorization\": f\"Bearer {self.token}\"}\n",
    "\n",
    "    def _handle_response(self, response: requests.Response) -> HistoryResponse:\n",
    "        try:\n",
    "            response.raise_for_status()\n",
    "            logging.info(f\"Request to {response.url} succeeded with status code {response.status_code}\")\n",
    "            data = response.json()\n",
    "            # Using dacite to convert dict to dataclass instances\n",
    "            return from_dict(data_class=HistoryResponse, data=data)\n",
    "        except requests.exceptions.HTTPError as e:\n",
    "            logging.error(f\"HTTP error occurred: {e}\")\n",
    "            raise\n",
    "        except requests.exceptions.RequestException as e:\n",
    "            logging.error(f\"Error occurred: {e}\")\n",
    "            raise\n",
    "\n",
    "    def offers_by_client_id(self, client_id) -> HistoryResponse:\n",
    "        \"\"\"Retrieve retrieve customer offers by client ID.\n",
    "\n",
    "        Offer could be with different decisions: purchased, canceled, pending and etc.\n",
    "        \"\"\"\n",
    "        response = requests.get(f\"{BASE_URL}/requisition?client={client_id}\", headers=self._get_headers())\n",
    "        return self._handle_response(response)\n",
    "\n",
    "    def offers_by_deal_id(self, deal_id: int) -> HistoryResponse:\n",
    "        \"\"\"Retrieve retrieve customer offers by client ID.\n",
    "\n",
    "        Offer could be with different decisions: purchased, canceled, pending and etc.\n",
    "        \"\"\"\n",
    "        url = f\"{BASE_URL}/requisition?request={deal_id}\"\n",
    "        response = requests.get(url, headers=self._get_headers())\n",
    "        return self._handle_response(response)\n",
    "        \n",
    "    def offer_products(self, offer_id: int) -> List[ProductDetail]:\n",
    "        \"Select all products at offer\"\n",
    "        url = f\"{BASE_URL}/requisition/{offer_id}/products\"\n",
    "        response = requests.get(url, headers=self._get_headers())\n",
    "        return [ProductDetail(**product) for product in response.json()]\n",
    "\n",
    "    def get_notice_mail(self, request_id: int) -> NoticeMailResponse:\n",
    "        url = f\"{BASE_URL}/requisition-client-history?request={request_id}\"\n",
    "        response = requests.get(url, headers=self._get_headers())\n",
    "        return self._handle_notice_mail_response(response)\n",
    "\n",
    "    def _handle_notice_mail_response(self, response: requests.Response) -> NoticeMailResponse:\n",
    "        try:\n",
    "            response.raise_for_status()\n",
    "            logging.info(f\"Request to {response.url} succeeded with status code {response.status_code}\")\n",
    "            data = response.json()\n",
    "            return from_dict(data_class=NoticeMailResponse, data=data)\n",
    "        except requests.exceptions.HTTPError as e:\n",
    "            logging.error(f\"HTTP error occurred: {e}\")\n",
    "            raise\n",
    "        except requests.exceptions.RequestException as e:\n",
    "            logging.error(f\"Error occurred: {e}\")\n",
    "            raise\n",
    "\n",
    "    def get_calculation_history(self, request_id: int) -> CalculationHistoryResponse:\n",
    "        url = f\"{BASE_URL}/calculation-history?request={request_id}\"\n",
    "        response = requests.get(url, headers=self._get_headers())\n",
    "        return self._handle_calculation_history_response(response)\n",
    "\n",
    "    def _handle_calculation_history_response(self, response: requests.Response) -> CalculationHistoryResponse:\n",
    "        try:\n",
    "            response.raise_for_status()\n",
    "            logging.info(f\"Request to {response.url} succeeded with status code {response.status_code}\")\n",
    "            data = response.json()\n",
    "            for c in data['content']:\n",
    "                if c['version_data']:\n",
    "                    version_data = c['version_data']\n",
    "                    if isinstance(version_data['currency'], int):\n",
    "                        version_data['currency'] = str(version_data['currency'])\n",
    "                    if isinstance(version_data['freeze_end'], str):\n",
    "                        version_data['freeze_end'] = int(version_data['freeze_end'])\n",
    "            return from_dict(data_class=CalculationHistoryResponse, data=data)\n",
    "        except requests.exceptions.HTTPError as e:\n",
    "            logging.error(f\"HTTP error occurred: {e}\")\n",
    "            raise\n",
    "        except requests.exceptions.RequestException as e:\n",
    "            logging.error(f\"Error occurred: {e}\")\n",
    "            raise\n"
   ]
  },
  {
   "cell_type": "code",
   "execution_count": 331,
   "id": "9ab895df-4923-4754-a025-a27f12d977d7",
   "metadata": {},
   "outputs": [],
   "source": [
    "client = APIClient('YXBpZmFtYWdhcnU6RHpJVFd1Lk1COUV4LjNmdERsZ01YYlcvb0VFcW9NLw')"
   ]
  },
  {
   "cell_type": "code",
   "execution_count": null,
   "id": "e43c948d-4e4e-46a7-8995-b367b640bdaa",
   "metadata": {},
   "outputs": [],
   "source": [
    "current_deal_id = 123\n",
    "\n",
    "class DiscountStatement:\n",
    "    hasSpecifiedDesiredPrice: bool\n",
    "    desired_price: Optional[float] = None\n",
    "    desired_discount: Optional[float] = None\n",
    "    \n",
    "\n",
    "class ConversationDiscountStatement\n",
    "    deal_statement: DiscountStatement\n",
    "    products_statement: Dict[str, DiscountStatement]\n",
    "\n",
    "current_deal_offer = get_latest_offer(current_deal_id)\n",
    "conversation_discount_statement = ConversationDiscountStatement()\n",
    "\n",
    "new_deal_offer = copy.copy(current_deal_offer)\n",
    "\n",
    "client_id = current_deal_offer.firm.id\n",
    "\n",
    "purchase_history = get_customer_purchase_history(client_id)\n",
    "current_deal_offer = get_latest_offer(current_deal_id)\n",
    "\n",
    "bought_products_for_all_time = [deal.products for deal in purchase_history]\n",
    "\n",
    "matched_products = get_matched_products(bought_products_for_all_time, current_deal_offer.products)\n",
    "\n",
    "matched_products = {\n",
    "    'AC1242': [\n",
    "        {\n",
    "            \"purchase_price\",\n",
    "            \"discount\",\n",
    "            \"purchase_date\"\n",
    "        }\n",
    "    ]\n",
    "}\n",
    "\n",
    "\n",
    "\n",
    "if matched_products.items():\n",
    "    new_deal_offer = setup_previous_products_prices(new_deal_offer, matched_products)\n",
    "\n",
    "    new_margin = calculate_deal_margin(new_deal_offer)\n",
    "    if check_deal_margin(new_margin):\n",
    "        pass\n",
    "elif conversation_discount_statement.deal_statement.hasSpecifiedDesiredPrice:\n",
    "    new_deal_offer = apply_deal_discount(new_deal_offer, conversation_discount_statement.desired_price)\n",
    "\n",
    "    "
   ]
  },
  {
   "cell_type": "code",
   "execution_count": null,
   "id": "a3b6dccc-8a61-4a4c-a2d9-09702bbb3d6e",
   "metadata": {},
   "outputs": [],
   "source": [
    "\n",
    "class CurrencyType:\n",
    "    RUB = \"RUB\"\n",
    "\n",
    "class BoughtProduct:\n",
    "    purchase_price: float\n",
    "    currency: CurrencyType\n",
    "    \n",
    "\n",
    "class ClientHistoryResolver:\n",
    "\n",
    "    "
   ]
  },
  {
   "cell_type": "code",
   "execution_count": 227,
   "id": "88dafd90-ef7d-4c22-9d86-27e4c506febd",
   "metadata": {},
   "outputs": [],
   "source": [
    "deal_info = client.offers_by_deal_id(413629)\n",
    "\n",
    "client_id = deal_info.content[0].request.firm.id"
   ]
  },
  {
   "cell_type": "code",
   "execution_count": 258,
   "id": "926cc0f9-f697-4a53-a9e7-bb0251595173",
   "metadata": {},
   "outputs": [],
   "source": [
    "client_offers = client.offers_by_client_id(client_id)"
   ]
  },
  {
   "cell_type": "code",
   "execution_count": 282,
   "id": "23f7a40b-3290-495f-9a2b-1db80b314255",
   "metadata": {},
   "outputs": [
    {
     "data": {
      "text/plain": [
       "467995"
      ]
     },
     "execution_count": 282,
     "metadata": {},
     "output_type": "execute_result"
    }
   ],
   "source": [
    "client_offers.content[0].request.id"
   ]
  },
  {
   "cell_type": "code",
   "execution_count": 283,
   "id": "fc0b1656-2ea1-4b00-a3fb-82182790f017",
   "metadata": {},
   "outputs": [
    {
     "data": {
      "text/plain": [
       "'Deal: 374953 at 2023-01-06'"
      ]
     },
     "execution_count": 283,
     "metadata": {},
     "output_type": "execute_result"
    }
   ],
   "source": [
    "client.prettify_deal_offer(client_offers.content[0])"
   ]
  },
  {
   "cell_type": "code",
   "execution_count": 288,
   "id": "ce1b8fc7-7ad2-4efb-9bb1-14f4051ccff2",
   "metadata": {},
   "outputs": [
    {
     "name": "stdout",
     "output_type": "stream",
     "text": [
      "## Purchase history\n",
      "Deal: 467995 at 2024-01-05\n",
      "1197848 (UM200) Dynalco (brand of Barksdale) 1689.48 (0%)\n",
      "\n",
      "\n",
      "Deal: 451843 at 2023-11-02\n",
      "1166956 (GN 7110.2-10-0,5) ELESA / GANTER NORM / GANTER GRIFF 28.28 (30%)\n",
      "1166957 (E 7110.1-KE-2,5) ELESA / GANTER NORM / GANTER GRIFF 69.0 (30%)\n",
      "1166958 (E 7110-2-E-0) ELESA / GANTER NORM / GANTER GRIFF 162.52 (0%)\n",
      "\n",
      "\n",
      "Deal: 432527 at 2023-08-28\n",
      "1129476 (0509-7901-00) Ross Hill 1587.34 (0%)\n",
      "\n",
      "\n",
      "Deal: 429409 at 2023-08-08\n",
      "1121584 (9731060) Sauer Danfoss 2627.11 (0%)\n",
      "1211626 () None 970.0 (0%)\n",
      "\n",
      "\n",
      "Deal: 426013 at 2023-07-31\n",
      "1116082 (0509­3000­23) Ross Hill 678.01 (0%)\n",
      "1124444 () None 95.0 (0%)\n",
      "\n",
      "\n",
      "Deal: 413629 at 2023-06-26\n",
      "1095279 (0000-2003-00) Ross Hill 1043.56 (0%)\n",
      "1111496 () None 95.0 (0%)\n",
      "\n",
      "\n",
      "Deal: 381927 at 2023-01-31\n",
      "1014154 (072023) Pepperl+Fuchs 402.01 (30%)\n",
      "\n",
      "\n",
      "Deal: 374953 at 2023-01-06\n",
      "1000367 (692.913007141) HUBA CONTROL 419.17 (15%)\n",
      "1008100 () None 127.0 (0%)\n",
      "\n",
      "\n"
     ]
    }
   ],
   "source": [
    "print('## Purchase history')\n",
    "for offer in client_offers.content:\n",
    "    print(client.prettify_deal_offer(offer))\n",
    "    offer_products = client.offer_products(offer.request.id)\n",
    "    print(client.prettify_product_details(offer_products))\n",
    "    print()"
   ]
  },
  {
   "cell_type": "code",
   "execution_count": 295,
   "id": "caef6741-bfc4-4c51-9c34-fddbd42ff1fc",
   "metadata": {},
   "outputs": [
    {
     "name": "stdout",
     "output_type": "stream",
     "text": [
      "Latest deal(413629) offer\n",
      "1095279 (0000-2003-00) BOARD, PCB, SPROCKET SLIP 3PH DETECTOR, margin 14% 1066.43\n",
      "\n"
     ]
    }
   ],
   "source": [
    "latest_offer = get_latest_offer(413629)\n",
    "\n",
    "print(f'Latest deal({413629}) offer')\n",
    "print(client.prettify_offer_products(latest_offer.products))"
   ]
  },
  {
   "cell_type": "code",
   "execution_count": null,
   "id": "0747ec0b-e39c-4d80-92c6-d5f18062a7eb",
   "metadata": {},
   "outputs": [],
   "source": [
    "latest_offer"
   ]
  },
  {
   "cell_type": "code",
   "execution_count": 279,
   "id": "f91bfb76-ac6c-46ec-8ba4-82fe20f6d72d",
   "metadata": {},
   "outputs": [
    {
     "data": {
      "text/plain": [
       "'Deal: 374953 at 2023-01-06'"
      ]
     },
     "execution_count": 279,
     "metadata": {},
     "output_type": "execute_result"
    }
   ],
   "source": [
    "client.prettify_deal_offer(client_offers.content[0])"
   ]
  },
  {
   "cell_type": "code",
   "execution_count": 250,
   "id": "a2395b22-8566-4960-b0ed-75c26d135d34",
   "metadata": {},
   "outputs": [
    {
     "name": "stdout",
     "output_type": "stream",
     "text": [
      "Deal: 413629 at 2023-06-26T13:23:08+00:00\n",
      "\n",
      "1095279 (0000-2003-00) Ross Hill 1043.56 (0%)\n",
      "1111496 () None 95.0 (0%)\n",
      "\n"
     ]
    }
   ],
   "source": [
    "print(client.prettify_history_response(deal_info))\n",
    "print(client.prettify_product_details(client.offer_products(413629)))"
   ]
  },
  {
   "cell_type": "code",
   "execution_count": 303,
   "id": "74bfecfb-b18b-4402-803d-7b675503661c",
   "metadata": {},
   "outputs": [],
   "source": [
    "products_bought_before = get_products_bought_before(413629)"
   ]
  },
  {
   "cell_type": "code",
   "execution_count": 304,
   "id": "de2c88fd-dad9-4064-bcef-5bbef41bf87c",
   "metadata": {},
   "outputs": [
    {
     "name": "stdout",
     "output_type": "stream",
     "text": [
      "## Poducts bought brefore\n",
      "1000367 (692.913007141) 738, margin 22% 419.17\n",
      "1008100 () 0, margin 22% 127.0\n",
      "\n"
     ]
    }
   ],
   "source": [
    "print('## Poducts bought brefore')\n",
    "\n",
    "print(prettify_product_history(products_bought_before))"
   ]
  },
  {
   "cell_type": "code",
   "execution_count": 327,
   "id": "8dcaad2f-19cd-45e7-aeab-9fbac2b5b813",
   "metadata": {},
   "outputs": [
    {
     "name": "stdout",
     "output_type": "stream",
     "text": [
      "Based on the provided instructions and customer data, here is the decision-making process for the current deal:\n",
      "\n",
      "1. **Customer has NOT purchased THIS product and has NOT specified a desired price, BUT has purchased other products:**\n",
      "   \n",
      "   a) **If the margin was unchanged in previous deals** (the price in the initial offer equals the price in the final offer for the same quantity within one quotation): Refuse the discount.\n",
      "\n",
      "   b) **If the margin changed in previous deals** (the price in the initial offer does not equal the price in the final offer for the same quantity within one quotation):\n",
      "   \n",
      "      - If the price in the final offer is higher: Ignore the case (this is due to the supplier's price increase while the customer was deciding).\n",
      "      - If a discount was given previously: Offer a 2% discount.\n",
      "\n",
      "From the purchase history, it is evident that the customer has not bought any products in the past. Additionally, there is no indication that the price in the initial offer changed in previous deals. Therefore, we should follow the instruction for refusing the discount.\n",
      "\n",
      "**Decision: Refuse the discount.**\n",
      "\n",
      "**Explanation to the customer:**\n",
      "\"Thank you for your interest in our products. Unfortunately, we are unable to offer a discount on this product at this time. The current price reflects the best possible offer we can provide. If you have any further questions or need assistance, please let us know.\"\n",
      "\n",
      "**Outcome Consideration:**\n",
      "- If the customer still buys, continue to refuse discounts in future deals.\n",
      "- If the customer does not buy, offer a 2% discount next time and ask for the desired price."
     ]
    }
   ],
   "source": [
    "res = get_gpt(\"\"\"\n",
    "Here is an instruction:\n",
    "\n",
    "1. **Customer previously purchased THIS product:** Try to offer the same price as last time if profitability allows. If not, set a 12% margin and explain that the supplier's price has changed, and this is the maximum possible discount.\n",
    "\n",
    "2. **Customer has NOT previously purchased THIS product but specified a desired price:** Offer a discount if the margin allows. Otherwise, set a 10% margin and explain that this is the maximum possible discount.\n",
    "\n",
    "3. **Customer has NOT purchased THIS product and has NOT specified a desired price, BUT has purchased other products:**\n",
    "   \n",
    "   a) **If the margin was unchanged in previous deals** (the price in the initial offer equals the price in the final offer for the same quantity within one quotation): Refuse the discount.\n",
    "\n",
    "   b) **If the margin changed in previous deals** (the price in the initial offer does not equal the price in the final offer for the same quantity within one quotation):\n",
    "   \n",
    "      - If the price in the final offer is higher: Ignore the case (this is due to the supplier's price increase while the customer was deciding).\n",
    "      - If a discount was given previously: Offer a 2% discount.\n",
    "\n",
    "4. **Customer has NEVER purchased before and has NOT specified a desired price:** Check the total number of customer deals.\n",
    "   \n",
    "   a) **First quotation for a large company:** Offer a 2% discount and ask for the desired price.\n",
    "   \n",
    "   b) **First quotation for a non-large company:** Refuse the discount.\n",
    "   \n",
    "   c) **More than 10 quotations without any sales:** Set a 10% margin. This customer is a candidate for the blacklist; if they do not buy even with the maximum discount, we will likely not work with them in the future.\n",
    "   \n",
    "   d) **Several quotations with request dates differing by +/- 2 days (likely one project):** Propose a discount if the customer buys multiple quotations at once. Do not specify the exact price but ask for the desired price and hand it over to the manager for manual processing.\n",
    "\n",
    "Additionally, remember the outcomes:\n",
    "   \n",
    "   a) **In case of a FULL discount refusal:** If the customer still buys, continue to refuse discounts. If the customer does not buy, offer a 2% discount next time and ask for the desired price.\n",
    "   \n",
    "   b) **In case of offering a 2% discount:** If the customer buys, continue offering 2% where possible. If the customer does not buy, offer a 3% discount next time (if margin allows) and continue to find the \"acceptable discount\" from deal to deal.\n",
    "\n",
    "# Customer data\n",
    "\n",
    "Is specified desired price: False\n",
    "Is customer large company: False\n",
    "\n",
    "## Purchase history\n",
    "Deal: 467995 at 2024-01-05 Decision: Not bought\n",
    "1197848 (UM200) Dynalco (brand of Barksdale) 1689.48 (0%)\n",
    "\n",
    "\n",
    "Deal: 451843 at 2023-11-02 Decision: Not bought\n",
    "1166956 (GN 7110.2-10-0,5) ELESA / GANTER NORM / GANTER GRIFF 28.28 (30%)\n",
    "1166957 (E 7110.1-KE-2,5) ELESA / GANTER NORM / GANTER GRIFF 69.0 (30%)\n",
    "1166958 (E 7110-2-E-0) ELESA / GANTER NORM / GANTER GRIFF 162.52 (0%)\n",
    "\n",
    "\n",
    "Deal: 432527 at 2023-08-28 Decision: Not bought\n",
    "1129476 (0509-7901-00) Ross Hill 1587.34 (0%)\n",
    "\n",
    "\n",
    "Deal: 429409 at 2023-08-08 Decision: Not bought\n",
    "1121584 (9731060) Sauer Danfoss 2627.11 (0%)\n",
    "1211626 () None 970.0 (0%)\n",
    "\n",
    "\n",
    "Deal: 426013 at 2023-07-31 Decision: Not bought\n",
    "1116082 (0509­3000­23) Ross Hill 678.01 (0%)\n",
    "1124444 () None 95.0 (0%)\n",
    "\n",
    " \n",
    "Deal: 413629 at 2023-06-26 Decision: Not bought\n",
    "1095279 (0000-2003-00) Ross Hill 1043.56 (0%)\n",
    "1111496 () None 95.0 (0%)\n",
    "\n",
    "\n",
    "Deal: 381927 at 2023-01-31 Decision: Not bought\n",
    "1014154 (072023) Pepperl+Fuchs 402.01 (30%)\n",
    "\n",
    "\n",
    "Deal: 374953 at 2023-01-06 Decision: Not bought\n",
    "1000367 (692.913007141) HUBA CONTROL 419.17 (15%)\n",
    "1008100 () None 127.0 (0%)\n",
    "\n",
    "## Current deal(413629) offer\n",
    "1095279 (0000-2003-00) BOARD, PCB, SPROCKET SLIP 3PH DETECTOR, margin 14% 1066.43\n",
    "\n",
    "Please make decision\n",
    "\n",
    "\"\"\", 'gpt-4o'\n",
    ")"
   ]
  },
  {
   "cell_type": "code",
   "execution_count": 328,
   "id": "026b99f3-b35e-403e-af95-543e0e94dd97",
   "metadata": {},
   "outputs": [
    {
     "data": {
      "text/plain": [
       "1043.56"
      ]
     },
     "execution_count": 328,
     "metadata": {},
     "output_type": "execute_result"
    }
   ],
   "source": [
    "calcilation_response = client.get_calculation_history(413629)\n",
    "notice_resp = client.get_notice_mail(413629)\n",
    "\n",
    "get_products_with_changed_price(calcilation_response.content, notice_resp.content)"
   ]
  },
  {
   "cell_type": "code",
   "execution_count": null,
   "id": "ba8e0161-f2d5-4273-9511-e112737085c1",
   "metadata": {},
   "outputs": [],
   "source": [
    "calcilation_response"
   ]
  },
  {
   "cell_type": "code",
   "execution_count": 203,
   "id": "48170ec6-c7a9-4727-b8b5-cd41c4c6cce1",
   "metadata": {},
   "outputs": [
    {
     "name": "stdout",
     "output_type": "stream",
     "text": [
      "ID: 318963\n",
      "Request ID: 413629\n",
      "Created: 2023-06-26T13:23:08+00:00\n",
      "Last Sent: 2023-06-26T13:42:21+00:00\n",
      "Processing Time: 2397957\n",
      "Decision: 2\n",
      "Link: index.php?option=com_oscrm&view=requisition&request_id=413629&Itemid=219\n",
      "Target Price: 0\n",
      "Target Price Solved: False\n",
      "State: True\n",
      "Proform: 53711\n",
      "--------------------------\n",
      "\n"
     ]
    }
   ],
   "source": [
    "\n",
    "print(client.prettify_history_response(deal_info))"
   ]
  },
  {
   "cell_type": "code",
   "execution_count": null,
   "id": "5f662607-1349-496d-814c-86436824ccbc",
   "metadata": {},
   "outputs": [],
   "source": [
    "def calculate_common_deal_margin(products: List[Product]) -> float:\n",
    "    total_margin = sum(float(product.margin_ru) for product in products)\n",
    "    return total_margin\n",
    "\n",
    "def calculate_common_deal_margin_v2(products: List[Product]) -> float:\n",
    "    total_purchase_price = sum(float(product.price_buy_ru) * float(product.count) for product in products)\n",
    "    total_selling_price = sum(float(product.price_sell_ru) * float(product.count) for product in products)\n",
    "    \n",
    "    # Calculate margin using the provided formula\n",
    "    margin = 100 * (1 - (total_purchase_price / total_selling_price))\n",
    "    \n",
    "    return margin\n",
    "\n",
    "\n",
    "for content in client.offers_by_client_id(client_id).content:\n",
    "\n",
    "    print(f'Brand title: {content.request.brand.title}. Requisition {content.request.id}')\n",
    "    products = client.offer_products(content.request.id)\n",
    "\n",
    "    print(f'Margin {calculate_common_deal_margin(products)}')\n",
    "    print(f'Margin V2 {calculate_common_deal_margin_v2(products)}')\n",
    "    for product in products:\n",
    "        print(f'{product.articul} {product.brand_title}')\n",
    "    # for branch in content.request"
   ]
  },
  {
   "cell_type": "code",
   "execution_count": null,
   "id": "ae238a42-c35c-4504-8542-6946959e6342",
   "metadata": {},
   "outputs": [],
   "source": [
    "calcilation_response = client.get_calculation_history(413629)"
   ]
  },
  {
   "cell_type": "code",
   "execution_count": 147,
   "id": "4fa31881-ce01-432f-ad3c-1297c79605dd",
   "metadata": {},
   "outputs": [],
   "source": [
    "notice_resp = client.get_notice_mail(413629)"
   ]
  },
  {
   "cell_type": "code",
   "execution_count": 338,
   "id": "42f77819-8b7b-4815-ba61-1f2c1470603b",
   "metadata": {},
   "outputs": [
    {
     "data": {
      "text/plain": [
       "{'1121584': <PriceState.PRICE_NOT_CHANGED: 'PriceNotChanged'>}"
      ]
     },
     "execution_count": 338,
     "metadata": {},
     "output_type": "execute_result"
    }
   ],
   "source": [
    "deal_id = client_offers.content[3].request.id\n",
    "calcilation_response = client.get_calculation_history(deal_id)\n",
    "notice_resp = client.get_notice_mail(deal_id)\n",
    "\n",
    "get_products_with_changed_price(calcilation_response.content, notice_resp.content)"
   ]
  },
  {
   "cell_type": "code",
   "execution_count": 148,
   "id": "fea582bd-94ce-4cff-a15c-29a086231310",
   "metadata": {},
   "outputs": [],
   "source": [
    "from datetime import datetime, timedelta\n",
    "from typing import List\n",
    "\n",
    "def filter_calculations_by_notice_time(calculations: List[CalculationHistoryContent], notices: List[NoticeMailContent], time_delta_minutes: int = 5) -> List[CalculationHistoryContent]:\n",
    "    filtered_calculations = []\n",
    "    time_delta = timedelta(minutes=time_delta_minutes)\n",
    "\n",
    "    for notice in notices:\n",
    "        notice_time = datetime.fromisoformat(notice.created_at.replace('Z', '+00:00'))\n",
    "        for calculation in calculations:\n",
    "            calculation_time = datetime.fromisoformat(calculation.created_at.replace('Z', '+00:00'))\n",
    "            if abs((calculation_time - notice_time).total_seconds()) <= time_delta.total_seconds():\n",
    "                filtered_calculations.append(calculation)\n",
    "\n",
    "    return filtered_calculations"
   ]
  },
  {
   "cell_type": "code",
   "execution_count": null,
   "id": "4270b9c5-d6a4-498a-98cb-7056f64792b9",
   "metadata": {},
   "outputs": [],
   "source": [
    "filter_calculations_by_notice_time(calcilation_response.content, notice_resp.content)"
   ]
  },
  {
   "cell_type": "code",
   "execution_count": 151,
   "id": "8b38cee3-ac79-41ed-abf5-346569fcaa59",
   "metadata": {},
   "outputs": [],
   "source": [
    "def compare_product_prices(first_offer: VersionData, latest_offer: VersionData):\n",
    "    product_prices_comparison = {}\n",
    "\n",
    "    first_offer_products = {product.id: float(product.price_sell_ru) for product in first_offer.products}\n",
    "    latest_offer_products = {product.id: float(product.price_sell_ru) for product in latest_offer.products}\n",
    "\n",
    "    for product_id, first_price in first_offer_products.items():\n",
    "        latest_price = latest_offer_products.get(product_id)\n",
    "        if latest_price is not None:\n",
    "            if latest_price < first_price:\n",
    "                comparison = \"less\"\n",
    "            elif latest_price > first_price:\n",
    "                comparison = \"greater\"\n",
    "            else:\n",
    "                comparison = \"same\"\n",
    "            product_prices_comparison[product_id] = {\n",
    "                \"first_price\": first_price,\n",
    "                \"latest_price\": latest_price,\n",
    "                \"comparison\": comparison\n",
    "            }\n",
    "\n",
    "    return product_prices_comparison"
   ]
  },
  {
   "cell_type": "code",
   "execution_count": 155,
   "id": "5b564450-32fb-4c29-baeb-751d37233641",
   "metadata": {},
   "outputs": [
    {
     "name": "stdout",
     "output_type": "stream",
     "text": [
      "Product ID: 1095279, First Price: 1141.91, Latest Price: 1066.43, Comparison: less\n"
     ]
    }
   ],
   "source": [
    "filtered_calculations = filter_calculations_by_notice_time(calcilation_response.content, notice_resp.content)\n",
    "\n",
    "def get_products_with_changed_price(calculations: List[CalculationHistoryContent]):\n",
    "    sorted_calculations = sorted(filtered_calculations, key=lambda x: x.created_at)\n",
    "    if sorted_calculations:\n",
    "        first_offer = sorted_calculations[0].version_data\n",
    "        latest_offer = sorted_calculations[-1].version_data\n",
    "    \n",
    "        if first_offer and latest_offer:\n",
    "            comparison_result = compare_product_prices(first_offer, latest_offer)\n",
    "            for product_id, comparison in comparison_result.items():\n",
    "                print(f\"Product ID: {product_id}, First Price: {comparison['first_price']}, Latest Price: {comparison['latest_price']}, Comparison: {comparison['comparison']}\")\n",
    "\n",
    "get_products_with_changed_price(filtered_calculations)"
   ]
  },
  {
   "cell_type": "code",
   "execution_count": 157,
   "id": "206987c4-92b9-47fe-bd24-82d2d83812b2",
   "metadata": {},
   "outputs": [],
   "source": [
    "from datetime import datetime, timedelta\n",
    "from typing import List, Dict\n",
    "from enum import Enum\n",
    "\n",
    "class PriceState(Enum):\n",
    "    PRICE_NOT_CHANGED = \"PriceNotChanged\"\n",
    "    PRICE_INCREASED = \"PriceIncreased\"\n",
    "    PRICE_DECREASED = \"PriceDecreased\"\n",
    "\n",
    "def filter_calculations_by_notice_time(calculations: List[CalculationHistoryContent], notices: List[NoticeMailContent], time_delta_minutes: int = 5) -> List[CalculationHistoryContent]:\n",
    "    filtered_calculations = []\n",
    "    time_delta = timedelta(minutes=time_delta_minutes)\n",
    "\n",
    "    for notice in notices:\n",
    "        notice_time = datetime.fromisoformat(notice.created_at.replace('Z', '+00:00'))\n",
    "        for calculation in calculations:\n",
    "            calculation_time = datetime.fromisoformat(calculation.created_at.replace('Z', '+00:00'))\n",
    "            if abs((calculation_time - notice_time).total_seconds()) <= time_delta.total_seconds():\n",
    "                filtered_calculations.append(calculation)\n",
    "\n",
    "    return filtered_calculations\n",
    "\n",
    "def compare_product_prices(first_offer: VersionData, latest_offer: VersionData) -> Dict[str, PriceState]:\n",
    "    product_prices_comparison = {}\n",
    "\n",
    "    first_offer_products = {product.id: float(product.price_sell_ru) for product in first_offer.products}\n",
    "    latest_offer_products = {product.id: float(product.price_sell_ru) for product in latest_offer.products}\n",
    "\n",
    "    for product_id, first_price in first_offer_products.items():\n",
    "        latest_price = latest_offer_products.get(product_id)\n",
    "        if latest_price is not None:\n",
    "            if latest_price < first_price:\n",
    "                state = PriceState.PRICE_DECREASED\n",
    "            elif latest_price > first_price:\n",
    "                state = PriceState.PRICE_INCREASED\n",
    "            else:\n",
    "                state = PriceState.PRICE_NOT_CHANGED\n",
    "            product_prices_comparison[product_id] = state\n",
    "\n",
    "    return product_prices_comparison\n",
    "\n",
    "def get_products_with_changed_price(calculations: List[CalculationHistoryContent], notices: List[NoticeMailContent]) -> Dict[str, PriceState]:\n",
    "    \"Get \"\n",
    "    filtered_calculations = filter_calculations_by_notice_time(calculations, notices)\n",
    "    sorted_calculations = sorted(filtered_calculations, key=lambda x: x.created_at)\n",
    "    \n",
    "    if sorted_calculations:\n",
    "        first_offer = sorted_calculations[0].version_data\n",
    "        latest_offer = sorted_calculations[-1].version_data\n",
    "    \n",
    "        if first_offer and latest_offer:\n",
    "            comparison_result = compare_product_prices(first_offer, latest_offer)\n",
    "            return comparison_result\n",
    "    \n",
    "    return {}"
   ]
  },
  {
   "cell_type": "code",
   "execution_count": 176,
   "id": "095f9979-a6c9-4331-a9de-343f17c60146",
   "metadata": {},
   "outputs": [],
   "source": [
    "def get_latest_offer(request_id: int) -> Optional[VersionData]:\n",
    "    \"Get latest offer that was sent client on the current deal\"\n",
    "    calcilation_response = client.get_calculation_history(request_id)\n",
    "    notice_resp = client.get_notice_mail(request_id)\n",
    "    \n",
    "    filtered_calculations = filter_calculations_by_notice_time(calcilation_response.content, notice_resp.content)\n",
    "    sorted_calculations = sorted(filtered_calculations, key=lambda x: x.created_at)\n",
    "\n",
    "    latest_offer = sorted_calculations[-1].version_data\n",
    "    return latest_offer\n",
    "\n",
    "def has_bought_product_before(client_id: int, product_id: int) -> bool:\n",
    "    \"\"\"Check if the customer has already bought the same product earlier.\"\"\"\n",
    "    history_response = self.offers_by_client_id(client_id)\n",
    "    for content in history_response.content:\n",
    "        products = self.offer_products(content.request.id)\n",
    "        if any(product.id == product_id for product in products):\n",
    "            return True\n",
    "    return False"
   ]
  },
  {
   "cell_type": "code",
   "execution_count": 190,
   "id": "52a5e4c8-ef4b-497a-9c5c-54798b72245b",
   "metadata": {},
   "outputs": [],
   "source": [
    "latest_offer = get_latest_offer(413629)"
   ]
  },
  {
   "cell_type": "code",
   "execution_count": 313,
   "id": "7ebe3de1-6f50-4d61-982b-d32912e0f49a",
   "metadata": {},
   "outputs": [],
   "source": [
    "def get_full_purchase_history(client_id: int) -> List[ProductDetail]:\n",
    "    \"\"\"Retrieve the full purchase history for a client.\"\"\"\n",
    "    history_response = client.offers_by_client_id(client_id)\n",
    "    all_products = []\n",
    "    for content in history_response.content:\n",
    "        all_products.extend(client.offer_products(content.request.id))\n",
    "    return all_products\n",
    "    \n",
    "\n",
    "@dataclass\n",
    "class ProductHistory:\n",
    "    id: str\n",
    "    tax: str\n",
    "    count: str\n",
    "    weight: str\n",
    "    articul: str\n",
    "    brand_id: str\n",
    "    discount: str\n",
    "    margin_ru: str\n",
    "    description: str\n",
    "    price_deliv: str\n",
    "    model_number: str\n",
    "    price_buy_de: str\n",
    "    price_buy_ru: str\n",
    "    price_sell_ru: str\n",
    "    description_de: str\n",
    "    previous_price: Optional[str] = None\n",
    "    previous_margin: Optional[str] = None\n",
    "    expense: Optional[str] = None\n",
    "    unit: Optional[str] = None\n",
    "\n",
    "def prettify_product_history(product_history: List[ProductHistory]):\n",
    "    prettified = \"\"\n",
    "    for product in products:\n",
    "        prettified += (f'{product.id} ({product.articul}) {product.brand_id}, margin {product.margin_ru}%' +\\\n",
    "                            f' {round(float(product.price_sell_ru), 2)}\\n')\n",
    "    return prettified\n",
    "\n",
    "def get_products_bought_before(deal_id: int) -> List[ProductHistory]:\n",
    "    \"\"\"Check which products from the latest offer were bought before and return their previous price and margin.\"\"\"\n",
    "    deal_info = client.offers_by_deal_id(deal_id)\n",
    "\n",
    "    client_id = deal_info.content[0].request.firm.id\n",
    "    if client_id is None:\n",
    "        return []\n",
    "\n",
    "    latest_offer = get_latest_offer(deal_id)\n",
    "    if latest_offer is None:\n",
    "        return []\n",
    "\n",
    "    # Get full purchase history for the client\n",
    "    purchase_history = get_full_purchase_history(client_id)\n",
    "    purchased_product_ids = {product.articul: product for product in purchase_history}\n",
    "    print(purchased_product_ids)\n",
    "\n",
    "    # Check which products in the latest offer were bought before\n",
    "    bought_before = []\n",
    "    for product in latest_offer.products:\n",
    "        if product.articul in purchased_product_ids:\n",
    "            previous_product = purchased_product_ids[product.articul]\n",
    "            product_history = ProductHistory(\n",
    "                id=product.id,\n",
    "                tax=product.tax,\n",
    "                count=product.count,\n",
    "                weight=product.weight,\n",
    "                articul=product.articul,\n",
    "                brand_id=product.brand_id,\n",
    "                discount=product.discount,\n",
    "                margin_ru=product.margin_ru,\n",
    "                description=product.description,\n",
    "                price_deliv=product.price_deliv,\n",
    "                model_number=product.model_number,\n",
    "                price_buy_de=product.price_buy_de,\n",
    "                price_buy_ru=product.price_buy_ru,\n",
    "                price_sell_ru=product.price_sell_ru,\n",
    "                description_de=product.description_de,\n",
    "                previous_price=previous_product.price_sell_ru,\n",
    "                previous_margin=previous_product.margin_ru,\n",
    "                expense=product.expense,\n",
    "                unit=product.unit\n",
    "            )\n",
    "            bought_before.append(product_history)\n",
    "\n",
    "    return bought_before"
   ]
  },
  {
   "cell_type": "code",
   "execution_count": null,
   "id": "27e68c0d-f832-4a67-898d-4358bd037004",
   "metadata": {},
   "outputs": [],
   "source": [
    "print(prettify_product_history(get_products_bought_before(413629)))"
   ]
  },
  {
   "cell_type": "code",
   "execution_count": null,
   "id": "7f80085d-daa0-4f4b-9e1e-90d86325fcd2",
   "metadata": {},
   "outputs": [],
   "source": [
    "def calculate_common_margin(deal: VersionData) -> float:\n",
    "    \"\"\"Calculate the common margin of the deal.\"\"\"\n",
    "    total_cost = sum(float(product.price_buy_ru) for product in deal.products)\n",
    "    total_revenue = sum(float(product.price_sell_ru) for product in deal.products)\n",
    "    common_margin = (total_revenue - total_cost) / total_revenue * 100\n",
    "    return common_margin\n",
    "\n",
    "def check_margin_with_previous_prices(deal_id: int) -> bool:\n",
    "    \"\"\"Check if setting the previous price and margin for bought before products affects the overall margin.\"\"\"\n",
    "    latest_offer = get_latest_offer(deal_id)\n",
    "    if latest_offer is None:\n",
    "        return False\n",
    "\n",
    "    products_bought_before = get_products_bought_before(deal_id)\n",
    "    \n",
    "    # Calculate total cost and revenue with previous prices and margins\n",
    "    total_cost_with_prev = 0\n",
    "    total_revenue_with_prev = 0\n",
    "    \n",
    "    for product in latest_offer.products:\n",
    "        if any(prev_product.id == product.id for prev_product in products_bought_before):\n",
    "            previous_product = next(prev_product for prev_product in products_bought_before if prev_product.id == product.id)\n",
    "            total_cost_with_prev += float(previous_product.price_buy_ru)\n",
    "            total_revenue_with_prev += float(previous_product.previous_price)\n",
    "        else:\n",
    "            total_cost_with_prev += float(product.price_buy_ru)\n",
    "            total_revenue_with_prev += float(product.price_sell_ru)\n",
    "    \n",
    "    common_margin_with_prev = (total_revenue_with_prev - total_cost_with_prev) / total_revenue_with_prev * 100\n",
    "    print(common_margin_with_prev)\n",
    "    \n",
    "    return common_margin_with_prev > 10"
   ]
  },
  {
   "cell_type": "markdown",
   "id": "b542fd0f-e3aa-455a-a2fb-980f124764bb",
   "metadata": {},
   "source": []
  },
  {
   "cell_type": "code",
   "execution_count": null,
   "id": "43ef4e0c-f3d1-4f0e-8d12-d1a704bbfda7",
   "metadata": {},
   "outputs": [],
   "source": [
    "def apply_discounts_and_check_margin(deal: VersionData, desired_discount) -> Union[VersionData, str]:\n",
    "    \"\"\"Apply discounts and check if the overall margin is greater than 10%.\"\"\"\n",
    "    latest_offer = get_latest_offer(deal.id)\n",
    "    if latest_offer is None:\n",
    "        return \"No latest offer found.\"\n",
    "\n",
    "    products_bought_before = get_products_bought_before(deal.id)\n",
    "    \n",
    "    # Apply previous prices and margins for products bought before\n",
    "    for product in latest_offer.products:\n",
    "        matching_previous_product = next((prev_product for prev_product in products_bought_before if prev_product.id == product.id), None)\n",
    "        if matching_previous_product:\n",
    "            product.price_sell_ru = matching_previous_product.previous_price\n",
    "            product.margin_ru = matching_previous_product.previous_margin\n",
    "        elif product.desired_price:\n",
    "            # Apply desired price if product was not bought before\n",
    "            desired_price = float(product.desired_price)\n",
    "            cost_price = float(product.price_buy_ru)\n",
    "            margin = ((desired_price - cost_price) / desired_price) * 100\n",
    "            if margin >= 10:\n",
    "                product.price_sell_ru = str(desired_price)\n",
    "                product.margin_ru = str(margin)\n",
    "            else:\n",
    "                # Set margin to 10% if desired margin is not achievable\n",
    "                product.margin_ru = \"10\"\n",
    "                product.price_sell_ru = str(cost_price * 1.10)\n",
    "    \n",
    "    # Recalculate the common margin\n",
    "    total_cost_with_discounts = sum(float(product.price_buy_ru) for product in latest_offer.products)\n",
    "    total_revenue_with_discounts = sum(float(product.price_sell_ru) for product in latest_offer.products)\n",
    "    common_margin_with_discounts = (total_revenue_with_discounts - total_cost_with_discounts) / total_revenue_with_discounts * 100\n",
    "    \n",
    "    # Check if the common margin meets the desired discount for the entire deal\n",
    "    if deal.desired_discount and common_margin_with_discounts >= deal.desired_discount:\n",
    "        return latest_offer\n",
    "    else:\n",
    "        return f\"Margin is below the desired discount: {common_margin_with_discounts:.2f}%\""
   ]
  },
  {
   "cell_type": "code",
   "execution_count": 198,
   "id": "e39da03d-9551-4a46-a5ee-bc72c691a08e",
   "metadata": {},
   "outputs": [
    {
     "name": "stdout",
     "output_type": "stream",
     "text": [
      "38.14155391161025\n",
      "Setup previous price\n",
      "38.14155391161025\n"
     ]
    },
    {
     "data": {
      "text/plain": [
       "True"
      ]
     },
     "execution_count": 198,
     "metadata": {},
     "output_type": "execute_result"
    }
   ],
   "source": [
    "from typing import List\n",
    "\n",
    "\n",
    "deal_id = 413629\n",
    "\n",
    "\n",
    "@dataclass\n",
    "class ProductDiscountStatement:\n",
    "    \"\"\"\n",
    "    Discount statement for product or component\n",
    "    \"\"\"\n",
    "    product_id: str\n",
    "    hasSpecifiedDesiredPrice: bool\n",
    "    desired_discount_per: Optional[float] = None\n",
    "    desired_discount: [float] = None\n",
    "\n",
    "\n",
    "@dataclass\n",
    "class DealDiscountStatement:\n",
    "    products_discount_statements: List[ProductDiscountStatement]\n",
    "\n",
    "\n",
    "discount_statement = DiscountStatement(\n",
    "    hasSpecifiedDesiredPrice=True\n",
    ")\n",
    "\n",
    "products_bought_before = get_products_bought_before(deal_id)\n",
    "\n",
    "# has the client bought product before?\n",
    "if len(products_bought_before) > 0:\n",
    "    if check_margin_with_previous_prices(deal_id):\n",
    "        print('Setup previous price')\n",
    "    else:\n",
    "        print('Setup 12% margin')\n",
    "elif discount_statement.hasSpecifiedDesiredPrice:\n",
    "    deal = get_latest_offer(deal_id)\n",
    "    deal.desired_discount = 10.0  # Example desired discount for the entire deal\n",
    "    result = apply_discounts_and_check_margin(deal)\n",
    "    \n",
    "    if isinstance(result, str):\n",
    "        print(result)\n",
    "    else:\n",
    "        print(f\"Updated Deal: {result}\")\n",
    "    \n",
    "    \n",
    "\n",
    "latest_offer = get_latest_offer(413629)\n",
    "\n",
    "\n",
    "common_margin = calculate_common_margin(latest_offer)\n",
    "common_margin\n",
    "\n",
    "check_margin_with_previous_prices(413629)"
   ]
  },
  {
   "cell_type": "code",
   "execution_count": 296,
   "id": "9a91232d-a462-4f49-922a-c5da1ebfabd6",
   "metadata": {},
   "outputs": [
    {
     "data": {
      "text/plain": [
       "[]"
      ]
     },
     "execution_count": 296,
     "metadata": {},
     "output_type": "execute_result"
    }
   ],
   "source": [
    "products_bought_before"
   ]
  },
  {
   "cell_type": "code",
   "execution_count": null,
   "id": "65fb82d9-919c-4328-b6a6-877b7ab88861",
   "metadata": {},
   "outputs": [],
   "source": [
    "451540_41673.0"
   ]
  },
  {
   "cell_type": "code",
   "execution_count": 219,
   "id": "7679d6b4-1eb4-4ddd-8ae6-add3f7f8e179",
   "metadata": {},
   "outputs": [
    {
     "name": "stdout",
     "output_type": "stream",
     "text": [
      "ID: 343167\n",
      "Request ID: 451540\n",
      "Created: 2023-11-06T06:35:44+00:00\n",
      "Last Sent: 2023-11-15T06:53:28+00:00\n",
      "Processing Time: 1208684\n",
      "Decision: 2\n",
      "Link: index.php?option=com_oscrm&view=requisition&request_id=451540&Itemid=219\n",
      "Target Price: 0\n",
      "Target Price Solved: False\n",
      "State: True\n",
      "Proform: 55456\n",
      "--------------------------\n",
      "\n"
     ]
    }
   ],
   "source": [
    "deal_id = 451540\n",
    "deal_info = client.offers_by_deal_id(deal_id)\n",
    "\n",
    "print(client.prettify_history_response(deal_info))"
   ]
  },
  {
   "cell_type": "code",
   "execution_count": 211,
   "id": "bcf27e45-cb73-4c42-b135-16b6b8af042d",
   "metadata": {},
   "outputs": [
    {
     "name": "stdout",
     "output_type": "stream",
     "text": [
      "ID: 1168514\n",
      "Articul: S260\n",
      "Price: 155\n",
      "Price Buy DE: 0\n",
      "Description: TEMP ASSEMBLY\n",
      "Rodax code: S260 PVA AG S HV D6 W3 A1 E405 N110 Z310 SC173\n",
      "S260: Assembly with low screwed head in aluminum\n",
      "PVA: Hi-tech spring loaded thermoplast\n",
      "AG: ATEX Gas Ex ic ec\n",
      "S: Single element\n",
      "HV: High vibration resistance\n",
      "D6: Sensor diameter 6 mm\n",
      "W3: 3 wire electrical connection\n",
      "A1: Accuracy class A\n",
      "E405: Connection to thermowell ½\" NPT\n",
      "N110: Extension length 110 mm\n",
      "Z310: Bore depth in thermowell 310 mm\n",
      "SC173: Single conduit 1x M20x1.5\n",
      "ATEX II 3G Ex ic/ec IIC T6...T1 Gc\n",
      "According to drawing 2113.2117.450\n",
      "\n",
      "+Q02031\n",
      "CERTIFICATES\n",
      "Q02031 EN 10204-2.1 Certificate of compliance to order\n",
      "--------------------------\n",
      "\n"
     ]
    }
   ],
   "source": [
    "print(client.prettify_product_details(client.offer_products(deal_id)))"
   ]
  },
  {
   "cell_type": "code",
   "execution_count": 209,
   "id": "9d4cbf3a-f97c-4ebd-99d2-c07ca9056450",
   "metadata": {},
   "outputs": [
    {
     "data": {
      "text/plain": [
       "\u001b[0;31mType:\u001b[0m        APIClient\n",
       "\u001b[0;31mString form:\u001b[0m <__main__.APIClient object at 0x10ac57e00>\n",
       "\u001b[0;31mDocstring:\u001b[0m   <no docstring>"
      ]
     },
     "metadata": {},
     "output_type": "display_data"
    }
   ],
   "source": [
    "client?"
   ]
  },
  {
   "cell_type": "code",
   "execution_count": 195,
   "id": "e2d0a081-f525-465b-9e0b-d860cb6d189b",
   "metadata": {},
   "outputs": [
    {
     "name": "stdout",
     "output_type": "stream",
     "text": [
      "38.14155391161025\n"
     ]
    },
    {
     "data": {
      "text/plain": [
       "True"
      ]
     },
     "execution_count": 195,
     "metadata": {},
     "output_type": "execute_result"
    }
   ],
   "source": [
    "check_margin_with_previous_prices(413629)"
   ]
  },
  {
   "cell_type": "code",
   "execution_count": 199,
   "id": "49aac62a-009f-42a9-9dbb-cc4538438b9e",
   "metadata": {},
   "outputs": [
    {
     "data": {
      "text/plain": [
       "[]"
      ]
     },
     "execution_count": 199,
     "metadata": {},
     "output_type": "execute_result"
    }
   ],
   "source": [
    "products_bought_before = get_products_bought_before(451540)\n",
    "products_bought_before"
   ]
  },
  {
   "cell_type": "code",
   "execution_count": 159,
   "id": "86aa2981-84df-4fad-a89e-655040e14d96",
   "metadata": {},
   "outputs": [
    {
     "data": {
      "text/plain": [
       "{'1095279': <PriceState.PRICE_DECREASED: 'PriceDecreased'>}"
      ]
     },
     "execution_count": 159,
     "metadata": {},
     "output_type": "execute_result"
    }
   ],
   "source": [
    "# filtered_calculations = filter_calculations_by_notice_time(calcilation_response.content, notice_resp.content)\n",
    "get_products_with_changed_price(calcilation_response.content, notice_resp.content)"
   ]
  },
  {
   "cell_type": "code",
   "execution_count": 63,
   "id": "a314f279-ceb7-43bd-9814-1e07d4daa6b9",
   "metadata": {},
   "outputs": [],
   "source": [
    "deal_id = 454448\n",
    "rsp = client.list_offers_by_deal_id(deal_id)\n"
   ]
  },
  {
   "cell_type": "code",
   "execution_count": 62,
   "id": "e714f798-f21e-4426-84dc-96d9f3491c15",
   "metadata": {},
   "outputs": [
    {
     "data": {
      "text/plain": [
       "HistoryContent(id=382282, request=Request(id=509466, firm=Firm(id=98640, title='REFACCIONES INDUSTRIALES GABSA, SA DE CV', type='3', conversion='33.33', link='index.php?option=com_oscrm&view=firmform&id=98640&Itemid=219'), initials='EG', brand=Brand(id=12540, title='SMITEC', conversion='21.74', link='index.php?option=com_oscrm&view=brandform&id=12540&Itemid=219'), contractor=Contractor(id=5819, title='SMIPACK S.p.A.', link='index.php?option=com_oscrm&view=contractorform&id=5819&Itemid=216', created='2016-10-04T06:50:31+00:00', modified='2024-04-09T14:31:53+00:00'), curator=Curator(id=851, name='Adrian Dumitrascu', username='Adrian Dumitrascu', email='adu@famaga.de'), requestManagers=[[]], cost='626.15'), created='2024-05-27T15:24:45+00:00', lastsend='-0001-11-30T00:00:00+00:00', processing_time='', decision=0, link='index.php?option=com_oscrm&view=requisition&request_id=509466&Itemid=219', target_price=0, target_price_solved=False, state=True, proform=Proform(fam=None))"
      ]
     },
     "execution_count": 62,
     "metadata": {},
     "output_type": "execute_result"
    }
   ],
   "source": [
    "rsp = client.list_offers_by_client_id(98640)\n",
    "# customer_purchase_history = rsp.content\n",
    "\n",
    "rsp.content[0]"
   ]
  },
  {
   "cell_type": "code",
   "execution_count": 77,
   "id": "bca7ca7c-38c8-4929-acef-95d20f281dac",
   "metadata": {},
   "outputs": [
    {
     "data": {
      "text/plain": [
       "[ProductDetail(id=1174132, ri_id=855528, cc_id=539935, request_id=454448, brand_id=7101, articul='PCIPFM_025_1_1_DE', articul_id=822466, contractor_id=3620, count=10, price='196', price_buy_de=0, price_end='147.5', price_deliv=0, discount='50', discount_client=0, margin_ru=20, tax=7, price_buy_ru=196, price_buy=0, price_sell_ru=147.5, price_sell=0, unit='pcs', weight='0.4', planned_arrival_germany_from=0, planned_arrival_germany_to=0, confirmed_arrival_from=0, confirmed_arrival_to=0, checked_out=0, checked_out_time='0000-00-00 00:00:00', created_by=0, state=1, ordering=1019923, model_number='', description='', description_de='', brand_title='Procom Valves'),\n",
       " ProductDetail(id=1185369, ri_id=0, cc_id=539935, request_id=454448, brand_id=0, articul='', articul_id=0, contractor_id=3620, count=1, price='15', price_buy_de=0, price_end='22', price_deliv=0, discount='0', discount_client=0, margin_ru=20, tax=0, price_buy_ru=15, price_buy=0, price_sell_ru=22, price_sell=0, unit='pcs', weight='0', planned_arrival_germany_from=0, planned_arrival_germany_to=0, confirmed_arrival_from=0, confirmed_arrival_to=0, checked_out=0, checked_out_time='0000-00-00 00:00:00', created_by=0, state=1, ordering=1030888, model_number='', description='Shipping', description_de='Shipping', brand_title=None)]"
      ]
     },
     "execution_count": 77,
     "metadata": {},
     "output_type": "execute_result"
    }
   ],
   "source": [
    "deal_id = 454448\n",
    "rsp = client.offer_products(deal_id)\n",
    "\n",
    "rsp"
   ]
  },
  {
   "cell_type": "code",
   "execution_count": null,
   "id": "c1f6472f-9451-40c5-a511-5e60554e3e2d",
   "metadata": {},
   "outputs": [],
   "source": [
    "customer_purchase_history"
   ]
  },
  {
   "cell_type": "code",
   "execution_count": null,
   "id": "ed1430b6-b2fd-4e10-ba80-36fd4b579e0f",
   "metadata": {},
   "outputs": [],
   "source": [
    "\n"
   ]
  },
  {
   "cell_type": "code",
   "execution_count": null,
   "id": "51f374b4-9afd-4ddc-b758-ab5fcdb1136f",
   "metadata": {},
   "outputs": [],
   "source": [
    "{\n",
    "    \"service\": \"crm-api\",\n",
    "    {\n",
    "  \"metadata\": {\n",
    "    \"resources\": {\n",
    "      \"requests\": {\n",
    "        \"memory\": \"100Mi\",\n",
    "        \"cpu\": \"50m\"\n",
    "      },\n",
    "      \"limits\": {\n",
    "        \"memory\": \"200Mi\",\n",
    "        \"cpu\": \"100m\"\n",
    "      }\n",
    "    },\n",
    "    \"servicePorts\": [\n",
    "      {\n",
    "        \"name\": \"http\",\n",
    "        \"port\": 80,\n",
    "        \"protocol\": \"TCP\",\n",
    "        \"targetPort\": 8080\n",
    "      },\n",
    "      {\n",
    "        \"name\": \"https\",\n",
    "        \"port\": 443,\n",
    "        \"protocol\": \"TCP\",\n",
    "        \"targetPort\": 443\n",
    "      }\n",
    "    ],\n",
    "    \"vaultEnvironmentVariables\": {\n",
    "      \"services/alljobswb/prd/secrets/k8s.prod-dl/executors-api\": {\n",
    "        \"FNS_SMNPD_TOKEN\": \"smnpd_token\",\n",
    "        \"fdgvfrde\": \"dfgbfd\",\n",
    "        \"dfbfd\": \"dfgd\"\n",
    "      }\n",
    "    },\n",
    "    \"environmentVariables\": {\n",
    "      \"DEBUG\": \"true\",\n",
    "      \"SERVER_PORT\": 8080,\n",
    "      \"PG_SERVER\": \"alljobswb-pgsql-cl1-haproxy.alljobswb.svc.k8s.prod-dl\",\n",
    "      \"PG_NAME\": \"alljobswb\",\n",
    "      \"PG_PORT\": 5000,\n",
    "      \"PG_MAX_OPEN_CONN\": 8,\n",
    "      \"CRM_PG_SERVER\": \"alljobswb-pgsql-cl1-haproxy.alljobswb.svc.k8s.prod-dl\",\n",
    "      \"CRM_PG_NAME\": \"crm\",\n",
    "      \"CRM_PG_PORT\": 5000,\n",
    "      \"CRM_PG_MAX_OPEN_CONN\": 8,\n",
    "      \"FNS_SMNPD_URL\": \"http://sm-npd.suppliers-mobile.svc.k8s.portal-dp\",\n",
    "      \"FNS_SUPPLIER_ID\": 8759,\n",
    "      \"WBBALANCE_TIMEOUT\": \"1000000000 # 1s\",\n",
    "      \"AUTH_URL\": \"http://auth.alljobswb.svc.k8s.prod-dl\"\n",
    "    }\n",
    "  }\n",
    "}\n",
    "\n",
    "    \"type\": \"NodePort\"\n",
    "  }"
   ]
  },
  {
   "cell_type": "code",
   "execution_count": null,
   "id": "afb2b012-29c5-45af-bd27-41d00274144a",
   "metadata": {},
   "outputs": [],
   "source": []
  }
 ],
 "metadata": {
  "kernelspec": {
   "display_name": "gpt",
   "language": "python",
   "name": "gpt"
  },
  "language_info": {
   "codemirror_mode": {
    "name": "ipython",
    "version": 3
   },
   "file_extension": ".py",
   "mimetype": "text/x-python",
   "name": "python",
   "nbconvert_exporter": "python",
   "pygments_lexer": "ipython3",
   "version": "3.12.3"
  }
 },
 "nbformat": 4,
 "nbformat_minor": 5
}
