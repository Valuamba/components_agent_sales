{
 "cells": [
  {
   "cell_type": "code",
   "execution_count": 2,
   "id": "b29bad96-53c4-44b2-8155-b4ea2783880a",
   "metadata": {},
   "outputs": [],
   "source": [
    "import sys\n",
    "\n",
    "sys.path.append('/Users/valuamba/projs/components_agent_sales/app/utils')\n",
    "sys.path.append('/Users/valuamba/projs/components_agent_sales/app/core/clients/')\n",
    "\n",
    "from html_messages_parser import get_element_messages, get_messages_from_html_file, select_json_block \n",
    "from famaga import FamagaClient"
   ]
  },
  {
   "cell_type": "code",
   "execution_count": 3,
   "id": "1df8a6a6-56af-45b0-acd3-f11246afbb93",
   "metadata": {},
   "outputs": [],
   "source": [
    "# let's define a few helper utilities\n",
    "\n",
    "from pathlib import Path\n",
    "import hashlib\n",
    "import subprocess\n",
    "import json\n",
    "from bs4 import BeautifulSoup\n",
    "\n",
    "\n",
    "text_cache = Path('cache')\n",
    "\n",
    "def sha1(input_string):\n",
    "    \"\"\"Helper to hash input strings\"\"\"\n",
    "    try:\n",
    "\n",
    "        # Step 5: Create a new SHA-1 hash object\n",
    "        hash_object = hashlib.sha1()\n",
    "\n",
    "        # Step 6: Update the hash object with the bytes-like object\n",
    "        hash_object.update(input_string.encode('utf-8'))\n",
    "\n",
    "        # Step 7: Get the hexadecimal representation of the hash\n",
    "        return hash_object.hexdigest()\n",
    "    except Exception as e:\n",
    "        raise ValueError(input_string) from e\n",
    "        \n",
    "def htmltotext(source: str):\n",
    "    \"\"\"Extract text from Email. Requires pdftotext binary in the path\"\"\"\n",
    "\n",
    "    with open(source, 'r') as f:\n",
    "        data = f.read()\n",
    "\n",
    "    soup = BeautifulSoup(data, 'html.parser')\n",
    "    \n",
    "    return soup.get_text()\n",
    "\n",
    "def extract_text(source):\n",
    "    \"\"\"Get text from Email. Cache results to avoid recomputation\"\"\"\n",
    "    local = text_cache / sha1(source.name + \" > text\")\n",
    "\n",
    "    if local.exists():\n",
    "        return local\n",
    "    print(f\"extracting from {source}\")\n",
    "    print(f'target: {local}')\n",
    "    htmltotext(source, local)\n",
    "    return local\n",
    "\n",
    "\n",
    "def email_to_text(path):\n",
    "    return extract_text(path).read_text()"
   ]
  },
  {
   "cell_type": "code",
   "execution_count": 4,
   "id": "32fd99e5-f2b7-4947-9aa2-635a92e65725",
   "metadata": {},
   "outputs": [],
   "source": [
    "from functools import wraps\n",
    "import inspect\n",
    "\n",
    "\n",
    "def stored(func):\n",
    "    \"\"\"\n",
    "    implements nix-like durable memoisation of function results.\n",
    "\n",
    "    Lazy way to avoid recomputing expensive calls. Expects results to be JSON-serializable\n",
    "    \"\"\"\n",
    "    @wraps(func)\n",
    "    def CACHE(*args, **kwargs):\n",
    "        name = func.__name__\n",
    "        meta = {}\n",
    "\n",
    "        meta[\"name\"] = name\n",
    "        meta[\"func\"] = inspect.getsource(func)\n",
    "        meta[\"args\"] = args\n",
    "        meta[\"kwargs\"] = kwargs\n",
    "\n",
    "        js = json.dumps(meta)\n",
    "        sha = hashlib.sha1(js.encode('utf-8'))\n",
    "\n",
    "        digest = sha.hexdigest()\n",
    "\n",
    "        path = text_cache / f\"{digest}-{name}.json\"\n",
    "\n",
    "        if path.exists():\n",
    "            with path.open('r') as r:\n",
    "                cached = json.load(r)\n",
    "            return cached[\"result\"]\n",
    "        result = func(*args, **kwargs)\n",
    "        meta[\"result\"] = result\n",
    "        with path.open('w') as w:\n",
    "            json.dump(meta, w)\n",
    "        return result\n",
    "\n",
    "    return CACHE"
   ]
  },
  {
   "cell_type": "code",
   "execution_count": 5,
   "id": "b0e31841-8e19-4471-9c11-5bc2f100312c",
   "metadata": {},
   "outputs": [],
   "source": [
    "from openai import OpenAI\n",
    "from dotenv import load_dotenv\n",
    "\n",
    "load_dotenv()\n",
    "client = OpenAI()\n",
    "\n",
    "@stored\n",
    "def get_gpt(content, model=\"gpt-4-1106-preview\", temperature=0, max_tokens=1000, stream=True):\n",
    "    \"\"\"\n",
    "    Cached call to GPT.\n",
    "    \"\"\"\n",
    "    messages = [{\"role\": \"user\", \"content\": content}]\n",
    "\n",
    "    if stream:\n",
    "        response = client.chat.completions.create(\n",
    "            model=model, \n",
    "            messages=messages, \n",
    "            temperature=temperature, \n",
    "            stream=True\n",
    "        )\n",
    "        \n",
    "        collected_messages = []\n",
    "        for chunk in response:\n",
    "            if chunk.choices[0].delta.content:\n",
    "                print(chunk.choices[0].delta.content, end='')\n",
    "                collected_messages.append(chunk.choices[0].delta.content)\n",
    "    \n",
    "        content_str = ''.join(collected_messages)\n",
    "        return content_str\n",
    "    else:\n",
    "        completion = client.chat.completions.create(\n",
    "            model=model,\n",
    "            messages=messages,\n",
    "            temperature=temperature,\n",
    "            max_tokens=max_tokens,\n",
    "        )\n",
    "        return completion.model_dump()\n"
   ]
  },
  {
   "cell_type": "code",
   "execution_count": 14,
   "id": "adfac079-6f92-4cb9-8035-f85334bc5535",
   "metadata": {},
   "outputs": [
    {
     "name": "stdout",
     "output_type": "stream",
     "text": [
      "\"Lol Kek Cheburek\" is a phrase that originated from Russian internet slang. \"Lol\" is an English internet slang term meaning \"laugh out loud\", \"Kek\" is a Korean internet slang term used to express laughter, similar to \"lol\", and \"Cheburek\" is a popular deep-fried turnover with a filling of ground or minced meat and onions. It is often used in memes or as a humorous phrase online."
     ]
    },
    {
     "data": {
      "text/plain": [
       "'\"Lol Kek Cheburek\" is a phrase that originated from Russian internet slang. \"Lol\" is an English internet slang term meaning \"laugh out loud\", \"Kek\" is a Korean internet slang term used to express laughter, similar to \"lol\", and \"Cheburek\" is a popular deep-fried turnover with a filling of ground or minced meat and onions. It is often used in memes or as a humorous phrase online.'"
      ]
     },
     "execution_count": 14,
     "metadata": {},
     "output_type": "execute_result"
    }
   ],
   "source": [
    "get_gpt('What is the lol kek cheburek?1', 'gpt-4')"
   ]
  },
  {
   "cell_type": "code",
   "execution_count": null,
   "id": "34917e46-1879-4b5b-94d1-c3a4068a0c04",
   "metadata": {},
   "outputs": [],
   "source": [
    "7f2eee719c076609a1f11f770bf9513f1c1f94e0-get_gpt"
   ]
  },
  {
   "cell_type": "code",
   "execution_count": 13,
   "id": "311a674f-d296-4640-9e2c-372800208db4",
   "metadata": {},
   "outputs": [],
   "source": [
    "name1 = '502048_78717.0.html'\n",
    "name = '467721_51407.0.html'\n",
    "\n",
    "deal_id = name.split('_')[0]\n",
    "\n",
    "text = htmltotext(Path(f'./deals_html/discount_v4/{name}'))"
   ]
  },
  {
   "cell_type": "code",
   "execution_count": 31,
   "id": "1303ae38-d787-48ef-8b53-f848b8d77dad",
   "metadata": {},
   "outputs": [],
   "source": [
    "@stored\n",
    "def get_messages(txt):\n",
    "\n",
    "    prompt = \"\"\"\n",
    "You are Sales manager. Read a conversation between customer and manager and classify messages, senders (customer or manager).\n",
    "\n",
    "Respond with array of messagds. Respond with an empty string, if none is found\n",
    "\n",
    "```txt\n",
    "$TXT\n",
    "```\"\"\".strip() + \"\\n\"\n",
    "    \n",
    "    filled = prompt.replace(\"$TXT\", txt)\n",
    "    result = get_gpt(filled)\n",
    "    return result"
   ]
  },
  {
   "cell_type": "code",
   "execution_count": 35,
   "id": "8b944f33-d92d-4edf-bed4-d15b73e63c28",
   "metadata": {},
   "outputs": [
    {
     "data": {
      "text/plain": [
       "'```json\\n[\\n  {\\n    \"message\": \"Please give the price in words for better understanding. also mention HSCode\",\\n    \"sender\": \"customer\"\\n  },\\n  {\\n    \"message\": \"We highly appreciate your offer, but prices are much higher than our budgeted figures. Hence request to offer special discount enabling us to get approval from our management. Delivery period should be shortened as much as possible.\",\\n    \"sender\": \"customer\"\\n  },\\n  {\\n    \"message\": \"Hello Mr Shumail, Supplier have offered for base please find attached the TDS and select the complete code. Can you please check the item number again? Unfortunately this is not complete.I have attached the Schaltbau catalog for you. You will find the order key on page 4. Thank you Best Regards, Pushkar Agarwal +97156.9576861\",\\n    \"sender\": \"manager\"\\n  },\\n  {\\n    \"message\": \"Offer-Nr.:502048 Customer request #:Shumail Customer #:95613 Date:Tuesday, 23 April 2024 Inquiry #:Contact person:Pushkar Agarwal Offer valid till22.05.2024 Inquiry date23.04.2024 E-mail: pushkar@famaga.com We would like to thank you for your inquiry and we are pleased to provide you our quotation as follows. Please feel free to contact us if you need any further information.\",\\n    \"sender\": \"manager\"\\n  },\\n  {\\n    \"message\": \"Dear Sir, Greetings, Please note we required the following products/as per attached/below list and request to please offer us your best DDP ABU DHABI   Prices ASAP or within 2 day maximum or otherwise advise\",\\n    \"sender\": \"customer\"\\n  }\\n]\\n```'"
      ]
     },
     "execution_count": 35,
     "metadata": {},
     "output_type": "execute_result"
    }
   ],
   "source": [
    "result = get_messages(text)\n",
    "result"
   ]
  },
  {
   "cell_type": "code",
   "execution_count": 38,
   "id": "7a257318-a906-4d43-b1c3-b0288d048f50",
   "metadata": {},
   "outputs": [],
   "source": [
    "@stored\n",
    "def discount_chronology(txt):\n",
    "\n",
    "    prompt = \"\"\"\n",
    "You are Sales manager. Read a conversation between customer and manager and classify discount chronology discussion.\n",
    "\n",
    "Respond with array of messages where was mentioned or discussed discount.\n",
    "Respond with an empty string, if none is found\n",
    "\n",
    "```txt\n",
    "$TXT\n",
    "```\"\"\".strip() + \"\\n\"\n",
    "    \n",
    "    filled = prompt.replace(\"$TXT\", txt)\n",
    "    result = get_gpt(filled)\n",
    "    return result"
   ]
  },
  {
   "cell_type": "code",
   "execution_count": 44,
   "id": "749e70a0-5262-4b9d-826b-e1c189cb2834",
   "metadata": {},
   "outputs": [
    {
     "name": "stdout",
     "output_type": "stream",
     "text": [
      "```json\n",
      "[\n",
      "  \"We highly appreciate your offer, but prices are much higher than our budgeted figures. Hence request to offer special discount enabling us to get approval from our management. Delivery period should be shortened as much as possible.\"\n",
      "]\n",
      "```"
     ]
    }
   ],
   "source": [
    "messages = []\n",
    "for msg in select_json_block(result):\n",
    "    if 'Offer-Nr.' not in msg['message']:\n",
    "        messages.append(msg)\n",
    "    else:\n",
    "        messages.append({ 'message': '< Commercial offer >', 'sender': 'maanger'})\n",
    "\n",
    "\n",
    "chronology = discount_chronology('\\n'.join([f'Message: {m['message']}\\nSender: {m['sender']}' for m in messages]))     "
   ]
  },
  {
   "cell_type": "code",
   "execution_count": 49,
   "id": "29fc8dbd-4ce4-4e85-bf53-9c987b9ce531",
   "metadata": {},
   "outputs": [],
   "source": [
    "api_key = \"YXBpZmFtYWdhcnU6RHpJVFd1Lk1COUV4LjNmdERsZ01YYlcvb0VFcW9NLw\"\n",
    "session_id = \"085qpt4eflu39a0dg7hjhr5mdu\"\n",
    "famaga = FamagaClient(api_key, session_id)\n",
    "\n",
    "def get_customer_data(deal_id):\n",
    "    offer_info = famaga.list_offers_by_deal_id(deal_id)\n",
    "    offer_id = offer_info['content'][0]['request']['id']\n",
    "    client_id = offer_info['content'][0]['request']['firm']['id']\n",
    "    \n",
    "    purchase_history = famaga.get_client_purchase_history_formatted(client_id, int(deal_id))\n",
    "    \n",
    "    current_offer = famaga.list_current_offer_details(offer_id)\n",
    "\n",
    "    return purchase_history, current_offer"
   ]
  },
  {
   "cell_type": "code",
   "execution_count": 50,
   "id": "39e8c197-95a4-4ab4-bc39-c210e252e8a4",
   "metadata": {},
   "outputs": [
    {
     "data": {
      "text/plain": [
       "('[CLIENT PURCHASE HISTORY]\\n**Client purchase history:**\\nDate: 2022-09-29\\n272381 (F862BP224K310Z Kemet/Evox Rifa) margin: 85%, sell: 22.47$ qty. 10, request id 350875\\n\\nDate: 2024-04-23\\n375707 (T77630-40 AI-TEK Instruments) margin: 22%, sell: 3315.87$ qty. 1, request id 502049\\n\\nDate: 2024-04-25\\n376251 (665006002 Mystik) margin: 25%, sell: 906.38$ qty. 1, request id 503139\\n\\n[/CLIENT PURCHASE HISTORY]',\n",
       " '(S800E Schaltbau) margin: 25%, sell: 101.59$ qty. 6')"
      ]
     },
     "execution_count": 50,
     "metadata": {},
     "output_type": "execute_result"
    }
   ],
   "source": [
    "get_customer_data(502048)"
   ]
  },
  {
   "cell_type": "code",
   "execution_count": 15,
   "id": "251360f0-b777-4574-bb0e-74788e134ca0",
   "metadata": {},
   "outputs": [
    {
     "data": {
      "text/plain": [
       "b'{\"actions\":[{\"action\":{\"action_version\":1,\"action_name\":\"classify_discount_messages\",\"action_id\":6627,\"action_time\":10904.0,\"action_status\":1},\"ui_message\":\"<b>Action 6627 - classify_discount_messages</b> \\xf0\\x9f\\x9f\\xa2 Passed\\\\n\\\\nMessages amount: 3\\\\n\",\"data\":[{\"message\":\"Dear Sir,\\xc2\\xa0Please provide your official Quotation along with shorten delivery lead time.Also please provide us discounted prices to issue the PO.\\xc2\\xa0Thanks & Best Regards,\\xc2\\xa0\\xc2\\xa0\\xc2\\xa0Sameer Iqbal\",\"sender\":\"customer\"},{\"message\":\"*\\xc2\\xa0Though the supplier has increased the price by 5% in 2024 we have reduced our margin and offered you the same.\",\"sender\":\"manager\"},{\"message\":\"Dear Sir,\\xc2\\xa0Please provide your best discounted prices for below BOQ\\xe2\\x80\\x99s, to get our deep look on your Quote.Also provide us Weight & Dimension of Shipment.\",\"sender\":\"customer\"}],\"metadata\":{\"completion_cost_usd\":0.059,\"completion_time_sec\":10904.0,\"llm_model\":\"gpt-4\",\"raw_output\":\"```json\\\\n[\\\\n    {\\\\n        \\\\\"message\\\\\": \\\\\"Dear Sir,\\\\\\\\u00a0Please provide your official Quotation along with shorten delivery lead time.Also please provide us discounted prices to issue the PO.\\\\\\\\u00a0Thanks & Best Regards,\\\\\\\\u00a0\\\\\\\\u00a0\\\\\\\\u00a0Sameer Iqbal\\\\\",\\\\n        \\\\\"sender\\\\\": \\\\\"customer\\\\\"\\\\n    },\\\\n    {\\\\n        \\\\\"message\\\\\": \\\\\"*\\\\\\\\u00a0Though the supplier has increased the price by 5% in 2024 we have reduced our margin and offered you the same.\\\\\",\\\\n        \\\\\"sender\\\\\": \\\\\"manager\\\\\"\\\\n    },\\\\n     {\\\\n        \\\\\"message\\\\\": \\\\\"Dear Sir,\\\\\\\\u00a0Please provide your best discounted prices for below BOQ\\xe2\\x80\\x99s, to get our deep look on your Quote.Also provide us Weight & Dimension of Shipment.\\\\\",\\\\n        \\\\\"sender\\\\\": \\\\\"customer\\\\\"\\\\n    }\\\\n]\\\\n```\"},\"error\":null},{\"action\":{\"action_version\":1,\"action_name\":\"document_selection\",\"action_id\":6628,\"action_time\":1962.0,\"action_status\":1},\"ui_message\":\"<b>Action 6628 - document_selection</b> \\xf0\\x9f\\x9f\\xa2 Passed\\\\n\\\\nDocument name: Discount -> Purchased same product\\\\n\",\"data\":{\"document_name\":\"Discount -> Purchased same product\"},\"metadata\":{\"completion_cost_usd\":0.055,\"completion_time_sec\":1962.0,\"llm_model\":\"gpt-4\",\"raw_output\":\"```json\\\\n{\\\\n    \\\\\"document_name\\\\\": \\\\\"Discount -> Purchased same product\\\\\"\\\\n}\\\\n```\"},\"error\":null},{\"action\":{\"action_version\":1,\"action_name\":\"query_builder\",\"action_id\":6629,\"action_time\":6515.0,\"action_status\":1},\"ui_message\":\"<b>Action 6629 - query_builder</b> \\xf0\\x9f\\x9f\\xa2 Passed\\\\n\\\\nQuery: `Is margin still above 10%?` == \\'TRUE\\' and `Is the same margin on product as previous?` == \\'TRUE\\'\\\\n\",\"data\":{\"query\":\"`Is margin still above 10%?` == \\'TRUE\\' and `Is the same margin on product as previous?` == \\'TRUE\\'\"},\"metadata\":{\"completion_cost_usd\":0.062,\"completion_time_sec\":6515.0,\"llm_model\":\"gpt-4\",\"raw_output\":\"```json\\\\n{\\\\n    \\\\\"query\\\\\": \\\\\"`Is margin still above 10%?` == \\'TRUE\\' and `Is the same margin on product as previous?` == \\'TRUE\\'\\\\\",\\\\n    \\\\\"details\\\\\": \\\\\"Note 1. As per available data, it has been identified that the intended margin of 10% has been retained and the same margin has been applied to products that have been previously bought by the client.\\\\\"\\\\n}\\\\n```\"},\"error\":null},{\"action\":{\"action_version\":1,\"action_name\":\"task_execution\",\"action_id\":6630,\"action_time\":13880.0,\"action_status\":1},\"ui_message\":\"<b>Action 6630 - task_execution</b> \\xf0\\x9f\\x9f\\xa2 Passed\\\\n\\\\nTask: Dear Sameer Iqbal, \\\\n\\\\nThank you for considering our offer and your demand for a discount. I understand why you are looking for ways to save on costs. I am pleased to tell you that we are willing to give a 2% discount on your current order. Here is the updated quotation: \\\\n\\\\n(2500972 Kries-Energietechnik) margin: 10%, sell: 284.69$ qty. 6 \\\\n(3503118_S Kries-Energietechnik) margin: 10%, sell: 19.35$ qty. 6 \\\\n(2504381_H001 Kries-Energietechnik) margin: 10%, sell: 84.87$ qty. 6 \\\\n\\\\nThis updated pricing reflects the 2% discount on the original selling prices. We believe this discount provides a good balance between rewarding your loyalty and our needs to maintain a sustainable business. Thank you for your understanding and continued business. \\\\n\\\\nBest Regards.\\\\n\",\"data\":{\"output\":\"Dear Sameer Iqbal, \\\\n\\\\nThank you for considering our offer and your demand for a discount. I understand why you are looking for ways to save on costs. I am pleased to tell you that we are willing to give a 2% discount on your current order. Here is the updated quotation: \\\\n\\\\n(2500972 Kries-Energietechnik) margin: 10%, sell: 284.69$ qty. 6 \\\\n(3503118_S Kries-Energietechnik) margin: 10%, sell: 19.35$ qty. 6 \\\\n(2504381_H001 Kries-Energietechnik) margin: 10%, sell: 84.87$ qty. 6 \\\\n\\\\nThis updated pricing reflects the 2% discount on the original selling prices. We believe this discount provides a good balance between rewarding your loyalty and our needs to maintain a sustainable business. Thank you for your understanding and continued business. \\\\n\\\\nBest Regards.\"},\"metadata\":{\"completion_cost_usd\":0.068,\"completion_time_sec\":13880.0,\"llm_model\":\"gpt-4\",\"raw_output\":\"```json\\\\n{\\\\n    \\\\\"output\\\\\": \\\\\"Dear Sameer Iqbal, \\\\\\\\n\\\\\\\\nThank you for considering our offer and your demand for a discount. I understand why you are looking for ways to save on costs. I am pleased to tell you that we are willing to give a 2% discount on your current order. Here is the updated quotation: \\\\\\\\n\\\\\\\\n(2500972 Kries-Energietechnik) margin: 10%, sell: 284.69$ qty. 6 \\\\\\\\n(3503118_S Kries-Energietechnik) margin: 10%, sell: 19.35$ qty. 6 \\\\\\\\n(2504381_H001 Kries-Energietechnik) margin: 10%, sell: 84.87$ qty. 6 \\\\\\\\n\\\\\\\\nThis updated pricing reflects the 2% discount on the original selling prices. We believe this discount provides a good balance between rewarding your loyalty and our needs to maintain a sustainable business. Thank you for your understanding and continued business. \\\\\\\\n\\\\\\\\nBest Regards.\\\\\"\\\\n}\\\\n```\"},\"error\":null}],\"run\":{\"run_id\":166},\"tasks\":[{\"summary\":\"Dear Sameer Iqbal, \\\\n\\\\nThank you for considering our offer and your demand for a discount. I understand why you are looking for ways to save on costs. I am pleased to tell you that we are willing to give a 2% discount on your current order. Here is the updated quotation: \\\\n\\\\n(2500972 Kries-Energietechnik) margin: 10%, sell: 284.69$ qty. 6 \\\\n(3503118_S Kries-Energietechnik) margin: 10%, sell: 19.35$ qty. 6 \\\\n(2504381_H001 Kries-Energietechnik) margin: 10%, sell: 84.87$ qty. 6 \\\\n\\\\nThis updated pricing reflects the 2% discount on the original selling prices. We believe this discount provides a good balance between rewarding your loyalty and our needs to maintain a sustainable business. Thank you for your understanding and continued business. \\\\n\\\\nBest Regards.\"}]}'"
      ]
     },
     "execution_count": 15,
     "metadata": {},
     "output_type": "execute_result"
    }
   ],
   "source": [
    "import requests\n",
    "import uuid\n",
    "import json\n",
    "\n",
    "data = {\n",
    "    \"run_uuid\": str(uuid.uuid4()),\n",
    "    \"deal_id\": deal_id,\n",
    "    \"raw_text\": text\n",
    "}\n",
    "\n",
    "\n",
    "response = requests.post('http://localhost:8013/v2/agent/discount/raw_text', data=json.dumps(data))\n",
    "\n",
    "response.content"
   ]
  },
  {
   "cell_type": "code",
   "execution_count": 16,
   "id": "fc9ac49c-25a8-4abb-8efc-fc3cc6cc761c",
   "metadata": {},
   "outputs": [
    {
     "name": "stdout",
     "output_type": "stream",
     "text": [
      "{\n",
      "  \"actions\": [\n",
      "    {\n",
      "      \"action\": {\n",
      "        \"action_version\": 1,\n",
      "        \"action_name\": \"classify_discount_messages\",\n",
      "        \"action_id\": 6627,\n",
      "        \"action_time\": 10904.0,\n",
      "        \"action_status\": 1\n",
      "      },\n",
      "      \"ui_message\": \"<b>Action 6627 - classify_discount_messages</b> \\ud83d\\udfe2 Passed\\n\\nMessages amount: 3\\n\",\n",
      "      \"data\": [\n",
      "        {\n",
      "          \"message\": \"Dear Sir,\\u00a0Please provide your official Quotation along with shorten delivery lead time.Also please provide us discounted prices to issue the PO.\\u00a0Thanks & Best Regards,\\u00a0\\u00a0\\u00a0Sameer Iqbal\",\n",
      "          \"sender\": \"customer\"\n",
      "        },\n",
      "        {\n",
      "          \"message\": \"*\\u00a0Though the supplier has increased the price by 5% in 2024 we have reduced our margin and offered you the same.\",\n",
      "          \"sender\": \"manager\"\n",
      "        },\n",
      "        {\n",
      "          \"message\": \"Dear Sir,\\u00a0Please provide your best discounted prices for below BOQ\\u2019s, to get our deep look on your Quote.Also provide us Weight & Dimension of Shipment.\",\n",
      "          \"sender\": \"customer\"\n",
      "        }\n",
      "      ],\n",
      "      \"metadata\": {\n",
      "        \"completion_cost_usd\": 0.059,\n",
      "        \"completion_time_sec\": 10904.0,\n",
      "        \"llm_model\": \"gpt-4\",\n",
      "        \"raw_output\": \"```json\\n[\\n    {\\n        \\\"message\\\": \\\"Dear Sir,\\\\u00a0Please provide your official Quotation along with shorten delivery lead time.Also please provide us discounted prices to issue the PO.\\\\u00a0Thanks & Best Regards,\\\\u00a0\\\\u00a0\\\\u00a0Sameer Iqbal\\\",\\n        \\\"sender\\\": \\\"customer\\\"\\n    },\\n    {\\n        \\\"message\\\": \\\"*\\\\u00a0Though the supplier has increased the price by 5% in 2024 we have reduced our margin and offered you the same.\\\",\\n        \\\"sender\\\": \\\"manager\\\"\\n    },\\n     {\\n        \\\"message\\\": \\\"Dear Sir,\\\\u00a0Please provide your best discounted prices for below BOQ\\u2019s, to get our deep look on your Quote.Also provide us Weight & Dimension of Shipment.\\\",\\n        \\\"sender\\\": \\\"customer\\\"\\n    }\\n]\\n```\"\n",
      "      },\n",
      "      \"error\": null\n",
      "    },\n",
      "    {\n",
      "      \"action\": {\n",
      "        \"action_version\": 1,\n",
      "        \"action_name\": \"document_selection\",\n",
      "        \"action_id\": 6628,\n",
      "        \"action_time\": 1962.0,\n",
      "        \"action_status\": 1\n",
      "      },\n",
      "      \"ui_message\": \"<b>Action 6628 - document_selection</b> \\ud83d\\udfe2 Passed\\n\\nDocument name: Discount -> Purchased same product\\n\",\n",
      "      \"data\": {\n",
      "        \"document_name\": \"Discount -> Purchased same product\"\n",
      "      },\n",
      "      \"metadata\": {\n",
      "        \"completion_cost_usd\": 0.055,\n",
      "        \"completion_time_sec\": 1962.0,\n",
      "        \"llm_model\": \"gpt-4\",\n",
      "        \"raw_output\": \"```json\\n{\\n    \\\"document_name\\\": \\\"Discount -> Purchased same product\\\"\\n}\\n```\"\n",
      "      },\n",
      "      \"error\": null\n",
      "    },\n",
      "    {\n",
      "      \"action\": {\n",
      "        \"action_version\": 1,\n",
      "        \"action_name\": \"query_builder\",\n",
      "        \"action_id\": 6629,\n",
      "        \"action_time\": 6515.0,\n",
      "        \"action_status\": 1\n",
      "      },\n",
      "      \"ui_message\": \"<b>Action 6629 - query_builder</b> \\ud83d\\udfe2 Passed\\n\\nQuery: `Is margin still above 10%?` == 'TRUE' and `Is the same margin on product as previous?` == 'TRUE'\\n\",\n",
      "      \"data\": {\n",
      "        \"query\": \"`Is margin still above 10%?` == 'TRUE' and `Is the same margin on product as previous?` == 'TRUE'\"\n",
      "      },\n",
      "      \"metadata\": {\n",
      "        \"completion_cost_usd\": 0.062,\n",
      "        \"completion_time_sec\": 6515.0,\n",
      "        \"llm_model\": \"gpt-4\",\n",
      "        \"raw_output\": \"```json\\n{\\n    \\\"query\\\": \\\"`Is margin still above 10%?` == 'TRUE' and `Is the same margin on product as previous?` == 'TRUE'\\\",\\n    \\\"details\\\": \\\"Note 1. As per available data, it has been identified that the intended margin of 10% has been retained and the same margin has been applied to products that have been previously bought by the client.\\\"\\n}\\n```\"\n",
      "      },\n",
      "      \"error\": null\n",
      "    },\n",
      "    {\n",
      "      \"action\": {\n",
      "        \"action_version\": 1,\n",
      "        \"action_name\": \"task_execution\",\n",
      "        \"action_id\": 6630,\n",
      "        \"action_time\": 13880.0,\n",
      "        \"action_status\": 1\n",
      "      },\n",
      "      \"ui_message\": \"<b>Action 6630 - task_execution</b> \\ud83d\\udfe2 Passed\\n\\nTask: Dear Sameer Iqbal, \\n\\nThank you for considering our offer and your demand for a discount. I understand why you are looking for ways to save on costs. I am pleased to tell you that we are willing to give a 2% discount on your current order. Here is the updated quotation: \\n\\n(2500972 Kries-Energietechnik) margin: 10%, sell: 284.69$ qty. 6 \\n(3503118_S Kries-Energietechnik) margin: 10%, sell: 19.35$ qty. 6 \\n(2504381_H001 Kries-Energietechnik) margin: 10%, sell: 84.87$ qty. 6 \\n\\nThis updated pricing reflects the 2% discount on the original selling prices. We believe this discount provides a good balance between rewarding your loyalty and our needs to maintain a sustainable business. Thank you for your understanding and continued business. \\n\\nBest Regards.\\n\",\n",
      "      \"data\": {\n",
      "        \"output\": \"Dear Sameer Iqbal, \\n\\nThank you for considering our offer and your demand for a discount. I understand why you are looking for ways to save on costs. I am pleased to tell you that we are willing to give a 2% discount on your current order. Here is the updated quotation: \\n\\n(2500972 Kries-Energietechnik) margin: 10%, sell: 284.69$ qty. 6 \\n(3503118_S Kries-Energietechnik) margin: 10%, sell: 19.35$ qty. 6 \\n(2504381_H001 Kries-Energietechnik) margin: 10%, sell: 84.87$ qty. 6 \\n\\nThis updated pricing reflects the 2% discount on the original selling prices. We believe this discount provides a good balance between rewarding your loyalty and our needs to maintain a sustainable business. Thank you for your understanding and continued business. \\n\\nBest Regards.\"\n",
      "      },\n",
      "      \"metadata\": {\n",
      "        \"completion_cost_usd\": 0.068,\n",
      "        \"completion_time_sec\": 13880.0,\n",
      "        \"llm_model\": \"gpt-4\",\n",
      "        \"raw_output\": \"```json\\n{\\n    \\\"output\\\": \\\"Dear Sameer Iqbal, \\\\n\\\\nThank you for considering our offer and your demand for a discount. I understand why you are looking for ways to save on costs. I am pleased to tell you that we are willing to give a 2% discount on your current order. Here is the updated quotation: \\\\n\\\\n(2500972 Kries-Energietechnik) margin: 10%, sell: 284.69$ qty. 6 \\\\n(3503118_S Kries-Energietechnik) margin: 10%, sell: 19.35$ qty. 6 \\\\n(2504381_H001 Kries-Energietechnik) margin: 10%, sell: 84.87$ qty. 6 \\\\n\\\\nThis updated pricing reflects the 2% discount on the original selling prices. We believe this discount provides a good balance between rewarding your loyalty and our needs to maintain a sustainable business. Thank you for your understanding and continued business. \\\\n\\\\nBest Regards.\\\"\\n}\\n```\"\n",
      "      },\n",
      "      \"error\": null\n",
      "    }\n",
      "  ],\n",
      "  \"run\": {\n",
      "    \"run_id\": 166\n",
      "  },\n",
      "  \"tasks\": [\n",
      "    {\n",
      "      \"summary\": \"Dear Sameer Iqbal, \\n\\nThank you for considering our offer and your demand for a discount. I understand why you are looking for ways to save on costs. I am pleased to tell you that we are willing to give a 2% discount on your current order. Here is the updated quotation: \\n\\n(2500972 Kries-Energietechnik) margin: 10%, sell: 284.69$ qty. 6 \\n(3503118_S Kries-Energietechnik) margin: 10%, sell: 19.35$ qty. 6 \\n(2504381_H001 Kries-Energietechnik) margin: 10%, sell: 84.87$ qty. 6 \\n\\nThis updated pricing reflects the 2% discount on the original selling prices. We believe this discount provides a good balance between rewarding your loyalty and our needs to maintain a sustainable business. Thank you for your understanding and continued business. \\n\\nBest Regards.\"\n",
      "    }\n",
      "  ]\n",
      "}\n"
     ]
    }
   ],
   "source": [
    "print(json.dumps(response.json(), indent=2))"
   ]
  },
  {
   "cell_type": "code",
   "execution_count": null,
   "id": "510ef902-6cf4-46d0-a116-93f80af2b47c",
   "metadata": {},
   "outputs": [],
   "source": []
  }
 ],
 "metadata": {
  "kernelspec": {
   "display_name": "gpt",
   "language": "python",
   "name": "gpt"
  },
  "language_info": {
   "codemirror_mode": {
    "name": "ipython",
    "version": 3
   },
   "file_extension": ".py",
   "mimetype": "text/x-python",
   "name": "python",
   "nbconvert_exporter": "python",
   "pygments_lexer": "ipython3",
   "version": "3.12.3"
  }
 },
 "nbformat": 4,
 "nbformat_minor": 5
}
