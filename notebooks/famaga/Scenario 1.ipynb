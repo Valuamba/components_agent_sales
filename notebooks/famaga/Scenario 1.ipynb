{
 "cells": [
  {
   "cell_type": "code",
   "execution_count": 10,
   "id": "dd5fe8fb-6c62-4493-b17c-e5bdca1171d3",
   "metadata": {},
   "outputs": [],
   "source": [
    "import warnings\n",
    "from importlib import reload\n",
    "import openai\n",
    "from dotenv import load_dotenv\n",
    "import os\n",
    "from IPython.display import display, Markdown\n",
    "\n",
    "client = None\n",
    "warnings.filterwarnings('ignore')"
   ]
  },
  {
   "cell_type": "code",
   "execution_count": 6,
   "id": "e8ffba36-cf6f-4567-a8bb-a4bc703e031f",
   "metadata": {},
   "outputs": [
    {
     "name": "stdout",
     "output_type": "stream",
     "text": [
      "The autoreload extension is already loaded. To reload it, use:\n",
      "  %reload_ext autoreload\n"
     ]
    }
   ],
   "source": [
    "%load_ext autoreload\n",
    "%autoreload 2"
   ]
  },
  {
   "cell_type": "code",
   "execution_count": 13,
   "id": "f11a1934-f86d-44f9-887b-301accfe1291",
   "metadata": {},
   "outputs": [],
   "source": [
    "import openai_client\n",
    "\n",
    "reload(openai_client)\n",
    "\n",
    "from openai_client import GPTDatabaseLogger"
   ]
  },
  {
   "cell_type": "code",
   "execution_count": 14,
   "id": "5d3d62f9-8942-411b-8f28-d0564b704950",
   "metadata": {},
   "outputs": [],
   "source": [
    "db_logger = GPTDatabaseLogger('sqlite:///prompt_versions.db')"
   ]
  },
  {
   "cell_type": "code",
   "execution_count": 16,
   "id": "bbf2d4b8-e45c-4c99-b012-14a3d7d02c88",
   "metadata": {},
   "outputs": [
    {
     "name": "stdout",
     "output_type": "stream",
     "text": [
      "1. Russia\n",
      "2. Canada\n",
      "3. China\n",
      "4. United States\n",
      "5. Brazil\n",
      "6. Australia\n",
      "7. India\n",
      "8. Argentina\n",
      "9. Kazakhstan\n",
      "10. Algeria\n",
      "\n",
      "--------------------\n",
      "\n",
      "Note saved without feedback. ID: a03a68b3-1f07-4f96-b87a-f0e52796dabb\n",
      "\n",
      "\n"
     ]
    },
    {
     "data": {
      "application/vnd.jupyter.widget-view+json": {
       "model_id": "500963cf3fd34523bb89e7758d12a566",
       "version_major": 2,
       "version_minor": 0
      },
      "text/plain": [
       "HBox(children=(Button(button_style='success', description='👍 Like', style=ButtonStyle(), tooltip='Like this co…"
      ]
     },
     "metadata": {},
     "output_type": "display_data"
    },
    {
     "data": {
      "application/vnd.jupyter.widget-view+json": {
       "model_id": "0bf0423e5ca844c49a1ffc5c2920ae51",
       "version_major": 2,
       "version_minor": 0
      },
      "text/plain": [
       "Textarea(value='', description='Feedback:', layout=Layout(height='80px', width='70%'), placeholder='Type your …"
      ]
     },
     "metadata": {},
     "output_type": "display_data"
    },
    {
     "data": {
      "application/vnd.jupyter.widget-view+json": {
       "model_id": "ac79fb9f3fef4db0babbf958a593641a",
       "version_major": 2,
       "version_minor": 0
      },
      "text/plain": [
       "Button(button_style='success', description='Submit Feedback', style=ButtonStyle(), tooltip='Click to submit fe…"
      ]
     },
     "metadata": {},
     "output_type": "display_data"
    }
   ],
   "source": [
    "r = db_logger.create_completion([{ \"role\": \"user\", \"content\": 'list top 10 biggest countries'}], 0.7, tags='test')"
   ]
  },
  {
   "cell_type": "code",
   "execution_count": null,
   "id": "735b3d3e-bfc6-4044-a378-4b721abf6ade",
   "metadata": {},
   "outputs": [],
   "source": []
  }
 ],
 "metadata": {
  "kernelspec": {
   "display_name": "Python 3 (ipykernel)",
   "language": "python",
   "name": "python3"
  },
  "language_info": {
   "codemirror_mode": {
    "name": "ipython",
    "version": 3
   },
   "file_extension": ".py",
   "mimetype": "text/x-python",
   "name": "python",
   "nbconvert_exporter": "python",
   "pygments_lexer": "ipython3",
   "version": "3.12.3"
  }
 },
 "nbformat": 4,
 "nbformat_minor": 5
}
