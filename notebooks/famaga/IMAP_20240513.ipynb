{
 "cells": [
  {
   "cell_type": "code",
   "execution_count": 22,
   "id": "f10e9cea-3182-4a99-9176-72bb063e14e3",
   "metadata": {},
   "outputs": [
    {
     "data": {
      "text/plain": [
       "('OK', [b'14613'])"
      ]
     },
     "execution_count": 22,
     "metadata": {},
     "output_type": "execute_result"
    }
   ],
   "source": [
    "import imaplib\n",
    "import email\n",
    "from email.header import decode_header\n",
    "\n",
    "# Account credentials\n",
    "username = 'gk@famaga.de'\n",
    "password = '78U5tV5BEhdz78q'\n",
    "imap_server = 'mail.famaga.de'\n",
    "\n",
    "# Connect to the server\n",
    "mail = imaplib.IMAP4_SSL(imap_server)\n",
    "\n",
    "# Log in to the account\n",
    "mail.login(username, password)\n",
    "\n",
    "# Select the mailbox you want to use\n",
    "mail.select('inbox')\n",
    "\n",
    "# # Search for all emails in the inbox\n",
    "# status, messages = mail.search(None, 'ALL')\n",
    "\n",
    "# # Convert messages to a list of email IDs\n",
    "# email_ids = messages[0].split()\n",
    "\n",
    "# # Fetch the latest 5 messages\n",
    "# latest_email_ids = email_ids[-5:]\n",
    "\n",
    "\n"
   ]
  },
  {
   "cell_type": "code",
   "execution_count": null,
   "id": "fe45a815-f2c1-44f7-9563-3234ab37e018",
   "metadata": {},
   "outputs": [],
   "source": [
    "for email_id in latest_email_ids:\n",
    "    # Fetch the email by ID\n",
    "    status, msg_data = mail.fetch(email_id, '(RFC822)')\n",
    "    \n",
    "    # Get the email content\n",
    "    for response_part in msg_data:\n",
    "        if isinstance(response_part, tuple):\n",
    "            msg = email.message_from_bytes(response_part[1])\n",
    "            # Decode the email subject\n",
    "            subject, encoding = decode_header(msg['Subject'])[0]\n",
    "            if isinstance(subject, bytes):\n",
    "                subject = subject.decode(encoding if encoding else 'utf-8')\n",
    "            # Decode the email sender\n",
    "            from_ = msg.get('From')\n",
    "            print(f'Subject: {subject}')\n",
    "            print(f'From: {from_}')\n",
    "            # If the email message is multipart\n",
    "            if msg.is_multipart():\n",
    "                # Iterate over email parts\n",
    "                for part in msg.walk():\n",
    "                    # Extract content type of email\n",
    "                    content_type = part.get_content_type()\n",
    "                    content_disposition = str(part.get('Content-Disposition'))\n",
    "                    try:\n",
    "                        # Get the email body\n",
    "                        body = part.get_payload(decode=True).decode()\n",
    "                    except:\n",
    "                        pass\n",
    "                    if content_type == 'text/plain' and 'attachment' not in content_disposition:\n",
    "                        # Print text/plain emails and skip attachments\n",
    "                        print(body)\n",
    "            else:\n",
    "                # Extract content type of email\n",
    "                content_type = msg.get_content_type()\n",
    "                # Get the email body\n",
    "                body = msg.get_payload(decode=True).decode()\n",
    "                if content_type == 'text/plain':\n",
    "                    # Print only text email parts\n",
    "                    print(body)\n",
    "\n",
    "# Logout and close the connection\n",
    "mail.logout()"
   ]
  },
  {
   "cell_type": "code",
   "execution_count": 6,
   "id": "4ea6cf8e-52ee-4257-832d-9005ec072f45",
   "metadata": {},
   "outputs": [],
   "source": [
    "import imaplib, email, getpass\n",
    "from email import policy"
   ]
  },
  {
   "cell_type": "code",
   "execution_count": null,
   "id": "344a3357-915c-4311-9fb0-5c72e94d35c6",
   "metadata": {},
   "outputs": [],
   "source": [
    "import imaplib, email, getpass\n",
    "from email import policy\n",
    "\n",
    "imap_host = 'imap.gmail.com'\n",
    "imap_user = 'example@gmail.com'\n",
    "\n",
    "# init imap connection\n",
    "mail = imaplib.IMAP4_SSL(imap_host, 993)\n",
    "rc, resp = mail.login(imap_user, getpass.getpass())"
   ]
  },
  {
   "cell_type": "code",
   "execution_count": null,
   "id": "b839c8ab-637b-4c0e-88f6-ce964301742a",
   "metadata": {},
   "outputs": [],
   "source": [
    "----- MESSAGE START -----\n",
    "\n",
    "From: \"Crm.famaga.org\" <socket@famaga.org>\n",
    "To: gk@famaga.de\n",
    "Date: Sun, 12 May 2024 08:04:12 +0200\n",
    "Subject: Comment has been added: Request KP507234"
   ]
  },
  {
   "cell_type": "code",
   "execution_count": null,
   "id": "e02ac2d5-e69f-4245-acfd-dfacf7898279",
   "metadata": {},
   "outputs": [],
   "source": [
    "----- MESSAGE START -----\n",
    "\n",
    "From: system@famaga.org\n",
    "To: gk@famaga.de\n",
    "Date: Mon, 13 May 2024 08:47:43 +0000\n",
    "Subject: New Deal 507350 | GRAD 84 OOD | Kampmann\n",
    "\n",
    "----- MESSAGE START -----\n",
    "\n",
    "From: system@famaga.org\n",
    "To: gk@famaga.de\n",
    "Date: Mon, 13 May 2024 09:31:44 +0000\n",
    "Subject: New Deal 507391 | GRAD 84 OOD | Pixsys"
   ]
  },
  {
   "cell_type": "code",
   "execution_count": null,
   "id": "71e33082-3918-4182-8c39-684e95c36460",
   "metadata": {},
   "outputs": [],
   "source": [
    "# select only unread messages from inbox\n",
    "mail.select('Inbox')\n",
    "status, data = mail.search(None, '(UNSEEN)')\n",
    "\n",
    "# for each e-mail messages, print text content\n",
    "for num in data[0].split():\n",
    "    # get a single message and parse it by policy.SMTP (RFC compliant)\n",
    "    status, data = mail.fetch(num, '(BODY.PEEK[])')\n",
    "    # status, data = mail.fetch(num, '(RFC822)')\n",
    "    email_msg = data[0][1]\n",
    "    email_msg = email.message_from_bytes(email_msg, policy=policy.SMTP)\n",
    "\n",
    "    print(\"\\n----- MESSAGE START -----\\n\")\n",
    "\n",
    "    print(\"From: %s\\nTo: %s\\nDate: %s\\nSubject: %s\\n\\n\" % ( \\\n",
    "        str(email_msg['From']), \\\n",
    "        str(email_msg['To']), \\\n",
    "        str(email_msg['Date']), \\\n",
    "        str(email_msg['Subject'] )))\n",
    "\n",
    "    # print only message parts that contain text data\n",
    "    for part in email_msg.walk():\n",
    "        if part.get_content_type() == \"text/plain\":\n",
    "            for line in part.get_content().splitlines():\n",
    "                print(line)\n",
    "\n",
    "    print(\"\\n----- MESSAGE END -----\\n\")"
   ]
  },
  {
   "cell_type": "code",
   "execution_count": 56,
   "id": "28bac353-52fe-4687-83b8-4ae3302b4ad3",
   "metadata": {},
   "outputs": [
    {
     "data": {
      "text/plain": [
       "('OK', [b'Logged in'])"
      ]
     },
     "execution_count": 56,
     "metadata": {},
     "output_type": "execute_result"
    }
   ],
   "source": [
    "import imaplib\n",
    "import email\n",
    "from email.policy import SMTP\n",
    "\n",
    "username = 'gk@famaga.de'\n",
    "password = '78U5tV5BEhdz78q'\n",
    "imap_server = 'mail.famaga.de'\n",
    "\n",
    "# Set up connection and log in\n",
    "mail = imaplib.IMAP4_SSL(imap_server)\n",
    "mail.login(username, password)"
   ]
  },
  {
   "cell_type": "code",
   "execution_count": 58,
   "id": "19e73d18-96b4-40e9-8b1d-de1a8fe5d8f5",
   "metadata": {},
   "outputs": [
    {
     "name": "stdout",
     "output_type": "stream",
     "text": [
      "Search status: OK, message count: 26\n"
     ]
    }
   ],
   "source": [
    "# Select the inbox and search for unseen messages\n",
    "mail.select('Inbox')\n",
    "status, data = mail.search(None, 'UNSEEN')\n",
    "print(f'Search status: {status}, message count: {len(data[0].split())}')"
   ]
  },
  {
   "cell_type": "code",
   "execution_count": 26,
   "id": "7030613c-28b4-435f-b870-93c2fa6de6f2",
   "metadata": {},
   "outputs": [],
   "source": [
    "status, email_data = mail.fetch(num, '(BODY.PEEK[])')\n",
    "email_msg = email.message_from_bytes(email_data[0][1], policy=SMTP)\n"
   ]
  },
  {
   "cell_type": "code",
   "execution_count": 31,
   "id": "09f4a197-50e3-44a5-affb-6367159cbf26",
   "metadata": {},
   "outputs": [
    {
     "data": {
      "text/plain": [
       "\u001b[0;31mType:\u001b[0m            EmailMessage\n",
       "\u001b[0;31mString form:\u001b[0m    \n",
       "Return-Path: <socket@famaga.org>\r\n",
       "X-Spam-Checker-Version: SpamAssassin 3.4.4 (2020-01-24) on app.famaga.org\r\n",
       "X-Spam-Level: \r\n",
       "X-Spam-Status: No, score=-0.1 required=5.0 tests=DKIM_SIGNED,DKIM_VALID,\r\n",
       "\tDKIM_VALID_AU,DKIM_VALID_EF,HTML_MESSAGE,MIME_HTML_ONLY,NO_RELAYS,\r\n",
       "\tURIBL_BLOCKED autolearn=ham autolearn_force=no version=3.4.4\r\n",
       "X-Original-To: gk@famaga.de\r\n",
       "Delivered-To: gk-famaga.de@app.famaga.org\r\n",
       "Received: by app.famaga.org (Postfix, from userid 1196)\r\n",
       "\tid 5498C2968F21; Mon, 13 May 2024 18:29:16 +0200 (CEST)\r\n",
       "DKIM-Signature: v=1; a=rsa-sha256; c=simple/simple; d=famaga.org; s=2020;\r\n",
       "\tt=1715617756; bh=cyKqrVaVBzF0weCBzwQ1vzW1ErAMqZcGI6/3e6LsMoo=;\r\n",
       "\th=To:Subject:Date:From:Reply-To:From;\r\n",
       "\tb=gkI6cTLycBfIJT6OG0dDvC6aHo/6HB2hTHZrA00aq3kMO6BcVYYzxX7e3FYrKth9V\r\n",
       "\t qscvSdVY52P6a2j3TRb1ddcWgMXovHdC4a68X0GgEgP+Bl8nGV/vIeqvaVKax8+nqf\r\n",
       "\t i/QSJPsN35bO+e2DdBIJKmR/H9rfLGKwtRkHueTgyYroj8aIYXViLDRZwFprqtOjKC\r\n",
       "\t zPeWOkPUrapra/GAVhfWKjFFeCH50O63ZmWJvHs9D483E4s3m9oLuV74JEMcPqAbpJ\r\n",
       "\t surpQQcR59BayNURnab6GlcaQMCCG0pTx6lLjI2VHaSzSMtFcVozr2/yjqH1V9Xudd\r\n",
       "\t 7WrFL0X1b70uA==\r\n",
       "To: gk@famaga.de\r\n",
       "Subject: Comment has been added: Request KP498327\r\n",
       "Date: Mon, 13 May 2024 18:29:16 +0200\r\n",
       "From: \"Crm.famaga.org\" <socket@famaga.org>\r\n",
       "Reply-To: \"Crm.famaga.org\" <socket@famaga.org>\r\n",
       "Message-ID: <200ce9d830f46e791affeda0e23871dc@famaga.org>\r\n",
       "X-Priority: 3\r\n",
       "X-Mailer:\r\n",
       " PHPMailer 5.2.1 (http://code.google.com/a/apache-extras.org/p/phpmailer/)\r\n",
       "MIME-Version: 1.0\r\n",
       "Content-Transfer-Encoding: 8bit\r\n",
       "Content-Type: text/html; charset=\"utf-8\"\r\n",
       "\r\n",
       "<!DOCTYPE html PUBLIC \"-//W3C//DTD XHTML 1.0 Transitional//EN\" \"http://www.w3.org/TR/xhtml1/DTD/xhtml1-transitional.dtd\">\r\n",
       "<html xmlns=\"http://www.w3.org/1999/xhtml\">\r\n",
       "<head>\r\n",
       "  <meta content=\"text/html; charset=utf-8\" http-equiv=\"content-type\" />\r\n",
       "  <meta name=\"Generator\" content=\"JComments\" />\r\n",
       "</head>\r\n",
       "<body>\r\n",
       "<a style=\"color: #777;\" href=\"https://famaga.org/index.php?option=com_oscrm&amp;view=requisition&amp;request_id=498327#comment-3432529\" target=\"_blank\">#</a>&nbsp;\r\n",
       "<span style=\"color: #3c452d;font: bold 1em Verdana, Arial, Sans-Serif;\">Giorgi Abashidze</span>\r\n",
       " &mdash; <span style=\"font-size: 11px; color: #999;\">2024-05-13 19:29</span>\r\n",
       "<div style=\"border: 1px solid #ccc; padding: 10px 5px; margin: 5px 0; font: normal 1em Verdana, Arial, Sans-Serif;\">Georg kitov, please update offer for 2PCS and confirm calculation</div>\r\n",
       "\r\n",
       "<p style=\"border-top: 1px solid #ccc; margin: 10px 0 0 0; color: #555;\">This message was sent to you because you chose to be notified about new comments related to &quot;<a href=\"https://famaga.org/index.php?option=com_oscrm&amp;view=requisition&amp;request_id=498327\" target=\"_blank\">Request KP498327</a>&quot;. You can unsubscribe by clicking on the link below:<br /><a href=\"https://famaga.org/index.php?option=com_jcomments&amp;task=unsubscribe&amp;hash=6b2ae0b1589f28cb82ddd9c740c3e723&amp;format=raw\" target=\"_blank\">Unsubscribe</a></p>\r\n",
       "</body>\r\n",
       "</html>\r\n",
       "\r\n",
       "\u001b[0;31mLength:\u001b[0m          19\n",
       "\u001b[0;31mFile:\u001b[0m            /Library/Frameworks/Python.framework/Versions/3.12/lib/python3.12/email/message.py\n",
       "\u001b[0;31mSource:\u001b[0m         \n",
       "\u001b[0;32mclass\u001b[0m \u001b[0mEmailMessage\u001b[0m\u001b[0;34m(\u001b[0m\u001b[0mMIMEPart\u001b[0m\u001b[0;34m)\u001b[0m\u001b[0;34m:\u001b[0m\u001b[0;34m\u001b[0m\n",
       "\u001b[0;34m\u001b[0m\u001b[0;34m\u001b[0m\n",
       "\u001b[0;34m\u001b[0m    \u001b[0;32mdef\u001b[0m \u001b[0mset_content\u001b[0m\u001b[0;34m(\u001b[0m\u001b[0mself\u001b[0m\u001b[0;34m,\u001b[0m \u001b[0;34m*\u001b[0m\u001b[0margs\u001b[0m\u001b[0;34m,\u001b[0m \u001b[0;34m**\u001b[0m\u001b[0mkw\u001b[0m\u001b[0;34m)\u001b[0m\u001b[0;34m:\u001b[0m\u001b[0;34m\u001b[0m\n",
       "\u001b[0;34m\u001b[0m        \u001b[0msuper\u001b[0m\u001b[0;34m(\u001b[0m\u001b[0;34m)\u001b[0m\u001b[0;34m.\u001b[0m\u001b[0mset_content\u001b[0m\u001b[0;34m(\u001b[0m\u001b[0;34m*\u001b[0m\u001b[0margs\u001b[0m\u001b[0;34m,\u001b[0m \u001b[0;34m**\u001b[0m\u001b[0mkw\u001b[0m\u001b[0;34m)\u001b[0m\u001b[0;34m\u001b[0m\n",
       "\u001b[0;34m\u001b[0m        \u001b[0;32mif\u001b[0m \u001b[0;34m'MIME-Version'\u001b[0m \u001b[0;32mnot\u001b[0m \u001b[0;32min\u001b[0m \u001b[0mself\u001b[0m\u001b[0;34m:\u001b[0m\u001b[0;34m\u001b[0m\n",
       "\u001b[0;34m\u001b[0m            \u001b[0mself\u001b[0m\u001b[0;34m[\u001b[0m\u001b[0;34m'MIME-Version'\u001b[0m\u001b[0;34m]\u001b[0m \u001b[0;34m=\u001b[0m \u001b[0;34m'1.0'\u001b[0m\u001b[0;34m\u001b[0m\u001b[0;34m\u001b[0m\u001b[0m\n",
       "\u001b[0;31mClass docstring:\u001b[0m\n",
       "Basic message object.\n",
       "\n",
       "A message object is defined as something that has a bunch of RFC 2822\n",
       "headers and a payload.  It may optionally have an envelope header\n",
       "(a.k.a. Unix-From or From_ header).  If the message is a container (i.e. a\n",
       "multipart or a message/rfc822), then the payload is a list of Message\n",
       "objects, otherwise it is a string.\n",
       "\n",
       "Message objects implement part of the `mapping' interface, which assumes\n",
       "there is exactly one occurrence of the header per message.  Some headers\n",
       "do in fact appear multiple times (e.g. Received) and for those headers,\n",
       "you must use the explicit API to set or get all the headers.  Not all of\n",
       "the mapping methods are implemented."
      ]
     },
     "metadata": {},
     "output_type": "display_data"
    }
   ],
   "source": [
    "email_msg??"
   ]
  },
  {
   "cell_type": "code",
   "execution_count": 107,
   "id": "e0e4794d-d5ea-4383-9e30-04295cc0d010",
   "metadata": {},
   "outputs": [
    {
     "data": {
      "text/plain": [
       "('OK', [b'Logged in'])"
      ]
     },
     "execution_count": 107,
     "metadata": {},
     "output_type": "execute_result"
    }
   ],
   "source": [
    "import imaplib\n",
    "import email\n",
    "from email.policy import SMTP\n",
    "\n",
    "username = 'gk@famaga.de'\n",
    "password = '78U5tV5BEhdz78q'\n",
    "imap_server = 'mail.famaga.de'\n",
    "\n",
    "# Set up connection and log in\n",
    "mail = imaplib.IMAP4_SSL(imap_server)\n",
    "mail.login(username, password)"
   ]
  },
  {
   "cell_type": "code",
   "execution_count": 125,
   "id": "af6488c5-a02b-4b5e-9ee7-c2fb7f2aa051",
   "metadata": {},
   "outputs": [
    {
     "data": {
      "text/plain": [
       "('OK', [b'14667'])"
      ]
     },
     "execution_count": 125,
     "metadata": {},
     "output_type": "execute_result"
    }
   ],
   "source": [
    "mail.select('inbox')"
   ]
  },
  {
   "cell_type": "code",
   "execution_count": 126,
   "id": "0dae4c9a-a0f9-4d23-b65b-70caf2b12809",
   "metadata": {},
   "outputs": [
    {
     "name": "stdout",
     "output_type": "stream",
     "text": [
      "Search status: OK, message count: 2\n"
     ]
    }
   ],
   "source": [
    "status, data = mail.search(None, 'UNSEEN')\n",
    "print(f'Search status: {status}, message count: {len(data[0].split())}')"
   ]
  },
  {
   "cell_type": "code",
   "execution_count": 72,
   "id": "c9c19d69-d661-4ca3-8211-860f8a95dc1b",
   "metadata": {},
   "outputs": [
    {
     "data": {
      "text/plain": [
       "b'14320'"
      ]
     },
     "execution_count": 72,
     "metadata": {},
     "output_type": "execute_result"
    }
   ],
   "source": [
    "data[0].split()[2]"
   ]
  },
  {
   "cell_type": "code",
   "execution_count": null,
   "id": "36a0a25c-315e-4aa0-8e1b-42848a319b21",
   "metadata": {},
   "outputs": [],
   "source": [
    "for num in data[0].split():\n",
    "    st, dt = mail.fetch(num, '(BODY.PEEK[])')\n",
    "    email_msg = email.message_from_bytes(dt[0][1], policy=SMTP)\n",
    "    if email_msg:\n",
    "        print(\"\\n----- MESSAGE START -----\\n\")\n",
    "        print(f\"From: {email_msg['From']}\\nTo: {email_msg['To']}\\nDate: {email_msg['Date']}\\nSubject: {email_msg['Subject']}\\nContent Type: {email_msg['Content-Type']}\\n\")\n",
    "        payload = email_msg.get_payload(decode=True)\n",
    "        if payload:\n",
    "            plain_text_body = payload.decode()\n",
    "            display(HTML(plain_text_body))\n",
    "\n",
    "        print('\\n-- Walk plain --\\n')\n",
    "        for part in email_msg.walk():\n",
    "            if part.get_content_type() == \"text/plain\":\n",
    "                print(part.get_content())\n",
    "        print(\"\\n----- MESSAGE END -----\\n\")\n",
    "\n"
   ]
  },
  {
   "cell_type": "code",
   "execution_count": 66,
   "id": "59ae70c2-cddf-4783-aea0-42f10bdea813",
   "metadata": {},
   "outputs": [
    {
     "ename": "AttributeError",
     "evalue": "'NoneType' object has no attribute 'decode'",
     "output_type": "error",
     "traceback": [
      "\u001b[0;31m---------------------------------------------------------------------------\u001b[0m",
      "\u001b[0;31mAttributeError\u001b[0m                            Traceback (most recent call last)",
      "Cell \u001b[0;32mIn[66], line 13\u001b[0m\n\u001b[1;32m      9\u001b[0m st, dt \u001b[38;5;241m=\u001b[39m mail\u001b[38;5;241m.\u001b[39mfetch(id4, \u001b[38;5;124m'\u001b[39m\u001b[38;5;124m(BODY.PEEK[])\u001b[39m\u001b[38;5;124m'\u001b[39m)\n\u001b[1;32m     11\u001b[0m email_msg \u001b[38;5;241m=\u001b[39m email\u001b[38;5;241m.\u001b[39mmessage_from_bytes(dt[\u001b[38;5;241m0\u001b[39m][\u001b[38;5;241m1\u001b[39m], policy\u001b[38;5;241m=\u001b[39mSMTP)\n\u001b[0;32m---> 13\u001b[0m plain_text_body \u001b[38;5;241m=\u001b[39m \u001b[43memail_msg\u001b[49m\u001b[38;5;241;43m.\u001b[39;49m\u001b[43mget_payload\u001b[49m\u001b[43m(\u001b[49m\u001b[43mdecode\u001b[49m\u001b[38;5;241;43m=\u001b[39;49m\u001b[38;5;28;43;01mTrue\u001b[39;49;00m\u001b[43m)\u001b[49m\u001b[38;5;241;43m.\u001b[39;49m\u001b[43mdecode\u001b[49m()\n\u001b[1;32m     16\u001b[0m display(HTML(plain_text_body))\n",
      "\u001b[0;31mAttributeError\u001b[0m: 'NoneType' object has no attribute 'decode'"
     ]
    }
   ],
   "source": [
    "# result, data = mail.uid('FETCH', '1647', '(BODY.PEEK[])')  # '14307' should be the UID of the email\n",
    "from IPython.display import HTML\n",
    "\n",
    "id1 = b'14338'\n",
    "id2 = b'14307'\n",
    "id3 = b'14321'\n",
    "id4 = b'14356'\n",
    "\n",
    "st, dt = mail.fetch(id4, '(BODY.PEEK[])')\n",
    "\n",
    "email_msg = email.message_from_bytes(dt[0][1], policy=SMTP)\n",
    "\n",
    "plain_text_body = email_msg.get_payload(decode=True).decode()\n",
    "\n",
    "\n",
    "display(HTML(plain_text_body))"
   ]
  },
  {
   "cell_type": "code",
   "execution_count": 52,
   "id": "e93bcbb0-11d7-4a15-b531-32bef81b407e",
   "metadata": {},
   "outputs": [
    {
     "name": "stdout",
     "output_type": "stream",
     "text": [
      "From: system@famaga.org\n",
      "To: gk@famaga.de\n",
      "Date: Mon, 13 May 2024 06:27:28 +0000\n",
      "Subject: New Deal 507240 | GRAD 84 OOD | DOLD\n",
      "\n"
     ]
    }
   ],
   "source": [
    "# print(f\"Message ID: {data[0][0]}\")\n",
    "print(f\"From: {email_msg['From']}\\nTo: {email_msg['To']}\\nDate: {email_msg['Date']}\\nSubject: {email_msg['Subject']}\\n\")"
   ]
  },
  {
   "cell_type": "code",
   "execution_count": null,
   "id": "926ed02d-cbdd-4656-8d30-ac3fec0ee7fa",
   "metadata": {},
   "outputs": [],
   "source": [
    "import imaplib\n",
    "import email\n",
    "from email.policy import SMTP\n",
    "\n",
    "# Set up connection and log in\n",
    "mail = imaplib.IMAP4_SSL('mail.famaga.de')\n",
    "mail.login('gk@famaga.de', '78U5tV5BEhdz78q')\n",
    "\n",
    "# Select the inbox and search for unseen messages\n",
    "mail.select('Inbox')\n",
    "status, data = mail.search(None, 'UNSEEN')\n",
    "print(f'Search status: {status}, message count: {len(data[0].split())}')\n",
    "\n",
    "# Fetch and process each unseen message\n",
    "for num in data[0].split():\n",
    "    status, data = mail.fetch(num, '(BODY.PEEK[])')\n",
    "    email_msg = email.message_from_bytes(data[0][1], policy=SMTP)\n",
    "\n",
    "    # Print message details\n",
    "    print(\"\\n----- MESSAGE START -----\\n\")\n",
    "    print(f\"Message ID: {data[0][0]}\")\n",
    "    print(f\"From: {email_msg['From']}\\nTo: {email_msg['To']}\\nDate: {email_msg['Date']}\\nSubject: {email_msg['Subject']}\\n\")\n",
    "\n",
    "    # Print plain text parts\n",
    "    for part in email_msg.walk():\n",
    "        if part.get_content_type() == \"text/plain\":\n",
    "            print(part.get_content())\n",
    "\n",
    "    print(\"\\n----- MESSAGE END -----\\n\")\n",
    "\n",
    "# Log out\n",
    "# mail.logout()\n"
   ]
  },
  {
   "cell_type": "markdown",
   "id": "667cd47c-6570-4ce1-8f90-b268058c250c",
   "metadata": {},
   "source": [
    "## Collect to CSV"
   ]
  },
  {
   "cell_type": "code",
   "execution_count": 87,
   "id": "8c5e9ee3-abe4-441a-8b92-e70cf3c6c3a9",
   "metadata": {},
   "outputs": [],
   "source": [
    "import imaplib\n",
    "import email\n",
    "import csv\n",
    "import re\n",
    "import os\n",
    "from email.policy import SMTP\n",
    "from datetime import datetime\n",
    "\n",
    "# Define the path for your CSV file\n",
    "csv_file_path = 'conversations.csv'\n",
    "\n",
    "# IMAP connection setup\n",
    "imap_server = 'mail.famaga.de'\n",
    "username = 'gk@famaga.de'\n",
    "password = '78U5tV5BEhdz78q'\n",
    "\n",
    "# Regular expressions for extracting deal IDs\n",
    "deal_id_patterns = [\n",
    "    r\"New Deal (\\d+)\",  # Example pattern\n",
    "    # Add more patterns here\n",
    "]"
   ]
  },
  {
   "cell_type": "code",
   "execution_count": 128,
   "id": "09a0b243-dcb8-4c37-80ae-42460522b8eb",
   "metadata": {},
   "outputs": [
    {
     "name": "stdout",
     "output_type": "stream",
     "text": [
      "message count: 2\n"
     ]
    }
   ],
   "source": [
    "\n",
    "deal_id_patterns = [\n",
    "    r\"New Deal [A-Z]*?(\\d+)\",            # New Deal IDs with optional leading letters\n",
    "    r\"Request [A-Z]*?(\\d+)\",             # Comment IDs with optional leading letters\n",
    "    r\"Offer №(\\d+)\",                     # Offer IDs\n",
    "    r\"№ [A-Z]*?(\\d+)\"                    # Inquiry IDs with optional leading letters\n",
    "]\n",
    "\n",
    "\n",
    "def extract_deal_id(subject):\n",
    "    for pattern in deal_id_patterns:\n",
    "        match = re.search(pattern, subject)\n",
    "        if match:\n",
    "            return match.group(1)\n",
    "    return None\n",
    "\n",
    "# Function to initialize CSV with headers if it doesn't exist\n",
    "def initialize_csv(file_path):\n",
    "    if not os.path.exists(file_path):\n",
    "        with open(file_path, mode='w', newline='', encoding='utf-8') as file:\n",
    "            writer = csv.writer(file)\n",
    "            writer.writerow(['deal_id', 'message_id', 'from', 'to', 'date', 'subject', 'content_type', 'html_content', 'plain_text', 'is_attachments', 'created_at'])\n",
    "\n",
    "# Read existing data to avoid duplicates\n",
    "existing_messages = set()\n",
    "if os.path.exists(csv_file_path):\n",
    "    with open(csv_file_path, mode='r', newline='', encoding='utf-8') as file:\n",
    "        reader = csv.reader(file)\n",
    "        next(reader, None)  # Skip header\n",
    "        for row in reader:\n",
    "            existing_messages.add(row[1])  # Assuming message_id is the second column\n",
    "\n",
    "def fetch_emails():\n",
    "    with imaplib.IMAP4_SSL(imap_server) as mail:\n",
    "        mail.login(username, password)\n",
    "        mail.select('inbox')\n",
    "        result, data = mail.search(None, '(UNSEEN)')\n",
    "        if result != 'OK':\n",
    "            return\n",
    "\n",
    "        print(f'message count: {len(data[0].split())}')\n",
    "\n",
    "        # # Search for seen (read) emails\n",
    "        # result, data = mail.search(None, '(SEEN)')\n",
    "        # if result != 'OK':\n",
    "        #     print(\"No messages found.\")\n",
    "        #     return\n",
    "        \n",
    "        # # Get list of email UIDs\n",
    "        # email_uids = data[0].split()\n",
    "\n",
    "        # print(f'Emails count: {len(email_uids)}')\n",
    "        # # Get the latest 100 seen emails\n",
    "        # latest_email_uids = email_uids[-100:]\n",
    "        \n",
    "        subjects = []\n",
    "        \n",
    "        # for num in latest_email_uids:\n",
    "        #     st, dt = mail.fetch(num, '(BODY.PEEK[])')\n",
    "\n",
    "        for num in data[0].split():\n",
    "            st, dt = mail.fetch(num, '(BODY.PEEK[])')\n",
    "            email_msg = email.message_from_bytes(dt[0][1], policy=SMTP)\n",
    "            \n",
    "            if email_msg:\n",
    "                message_id = email_msg['Message-ID']\n",
    "                if message_id in existing_messages:\n",
    "                    continue  # Skip if already processed\n",
    "\n",
    "                subject = email_msg['Subject']\n",
    "                deal_id = extract_deal_id(subject)\n",
    "                if not deal_id:\n",
    "                    continue  # Skip if no deal ID found\n",
    "                \n",
    "                from_email = email_msg['From']\n",
    "                to_email = email_msg['To']\n",
    "                date = email_msg['Date']\n",
    "                content_type = email_msg.get_content_type()\n",
    "                html_content = ''\n",
    "                plain_text = ''\n",
    "                is_attachments = False\n",
    "\n",
    "                if email_msg.is_multipart():\n",
    "                    for part in email_msg.walk():\n",
    "                        part_content_type = part.get_content_type()\n",
    "                        if part.get_content_maintype() == 'multipart' or part.get('Content-Disposition', '').startswith('attachment'):\n",
    "                            continue\n",
    "                        \n",
    "                        try:\n",
    "                            # Attempt to decode text\n",
    "                            content = part.get_payload(decode=True).decode('utf-8')\n",
    "                        except UnicodeDecodeError:\n",
    "                            try:\n",
    "                                # Fallback to another encoding\n",
    "                                content = part.get_payload(decode=True).decode('iso-8859-1')\n",
    "                            except UnicodeDecodeError:\n",
    "                                # Skip part if still fails\n",
    "                                continue\n",
    "\n",
    "                        if part_content_type == 'text/plain':\n",
    "                            plain_text += content\n",
    "                        elif part_content_type == 'text/html':\n",
    "                            html_content += content\n",
    "                else:\n",
    "                    try:\n",
    "                        content = email_msg.get_payload(decode=True).decode('utf-8')\n",
    "                    except UnicodeDecodeError:\n",
    "                        try:\n",
    "                            content = email_msg.get_payload(decode=True).decode('iso-8859-1')\n",
    "                        except UnicodeDecodeError:\n",
    "                            content = None\n",
    "\n",
    "                    if content and content_type == 'text/plain':\n",
    "                        plain_text = content\n",
    "                    elif content and content_type == 'text/html':\n",
    "                        html_content = content\n",
    "\n",
    "                created_at = datetime.utcnow().isoformat()\n",
    "\n",
    "                print(f'Append {deal_id}:{message_id}. Subject: {subject}')\n",
    "                # Append to CSV\n",
    "                with open(csv_file_path, mode='a', newline='', encoding='utf-8') as file:\n",
    "                    writer = csv.writer(file)\n",
    "                    writer.writerow([deal_id, message_id, from_email, to_email, date, subject, content_type, html_content, plain_text, is_attachments, created_at])\n",
    "\n",
    "# Initialize CSV with headers if it doesn't exist\n",
    "initialize_csv(csv_file_path)\n",
    "\n",
    "# Fetch emails and process them\n",
    "fetch_emails()\n"
   ]
  },
  {
   "cell_type": "code",
   "execution_count": 114,
   "id": "a0ceaf6b-25ba-41e5-846d-a7d774a6b4d1",
   "metadata": {},
   "outputs": [
    {
     "data": {
      "text/plain": [
       "'506224'"
      ]
     },
     "execution_count": 114,
     "metadata": {},
     "output_type": "execute_result"
    }
   ],
   "source": [
    "extract_deal_id('Automatische Antwort: Anfrage von FAMAGA Group GmbH & Co. KG № KP506224/0 Monday, 13 May 2024')"
   ]
  },
  {
   "cell_type": "code",
   "execution_count": null,
   "id": "6b5af6a0-6058-4420-89aa-fd35583e3812",
   "metadata": {},
   "outputs": [],
   "source": [
    "import imaplib\n",
    "import email\n",
    "from email.policy import SMTP\n",
    "\n",
    "# IMAP connection setup\n",
    "imap_server = 'mail.famaga.de'\n",
    "username = 'gk@famaga.de'\n",
    "password = '78U5tV5BEhdz78q'\n",
    "\n",
    "def fetch_latest_seen_email_subjects(limit=100):\n",
    "    with imaplib.IMAP4_SSL(imap_server) as mail:\n",
    "        mail.login(username, password)\n",
    "        mail.select('inbox')\n",
    "        \n",
    "        # Search for seen (read) emails\n",
    "        result, data = mail.search(None, '(SEEN)')\n",
    "        if result != 'OK':\n",
    "            print(\"No messages found.\")\n",
    "            return\n",
    "        \n",
    "        # Get list of email UIDs\n",
    "        email_uids = data[0].split()\n",
    "\n",
    "        print(f'Emails count: {len(email_uids)}')\n",
    "        # Get the latest 100 seen emails\n",
    "        latest_email_uids = email_uids[-limit:]\n",
    "        \n",
    "        subjects = []\n",
    "        \n",
    "        for num in latest_email_uids:\n",
    "            st, dt = mail.fetch(num, '(BODY.PEEK[HEADER.FIELDS (SUBJECT)])')\n",
    "            if st != 'OK':\n",
    "                print(f\"Failed to fetch message {num}\")\n",
    "                continue\n",
    "\n",
    "            for response_part in dt:\n",
    "                if isinstance(response_part, tuple):\n",
    "                    msg = email.message_from_bytes(response_part[1], policy=SMTP)\n",
    "                    subject = msg['subject']\n",
    "                    subjects.append(subject)\n",
    "        \n",
    "        print(subjects)\n",
    "        return subjects\n",
    "\n",
    "# Fetch and print subjects of the latest 100 seen emails\n",
    "emails_subjects = fetch_latest_seen_email_subjects()\n",
    "emails_subjects"
   ]
  },
  {
   "cell_type": "code",
   "execution_count": null,
   "id": "0ce6833f-0635-4df3-b436-627efc99ca17",
   "metadata": {},
   "outputs": [],
   "source": [
    "for sub in emails_subjects:\n",
    "    if sub:\n",
    "        print(sub)"
   ]
  },
  {
   "cell_type": "code",
   "execution_count": 95,
   "id": "645a07b7-4b11-491e-abf3-07b4b805644b",
   "metadata": {},
   "outputs": [],
   "source": [
    "emails_subjects"
   ]
  },
  {
   "cell_type": "code",
   "execution_count": null,
   "id": "ab9d2648-8e52-42ab-9fa0-a4b286de9867",
   "metadata": {},
   "outputs": [],
   "source": [
    "deal_id_patterns = [\n",
    "    r\"New Deal [A-Z]*?(\\d+)\",            # New Deal IDs with optional leading letters\n",
    "    r\"Request [A-Z]*?(\\d+)\",             # Comment IDs with optional leading letters\n",
    "    r\"Offer №(\\d+)\",                     # Offer IDs\n",
    "    r\"№ [A-Z]*?(\\d+)\"                    # Inquiry IDs with optional leading letters\n",
    "]\n",
    "\n",
    "def extract_deal_id(subject):\n",
    "    for pattern in deal_id_patterns:\n",
    "        match = re.search(pattern, subject)\n",
    "        if match:\n",
    "            return match.group(1)\n",
    "    return None\n",
    "\n",
    "# def extract_ids(subjects, regex_patterns):\n",
    "#     results = []\n",
    "#     for subject in subjects:\n",
    "#         for key, pattern in regex_patterns.items():\n",
    "#             match = re.search(pattern, subject)\n",
    "#             if match:\n",
    "#                 results.append((subject, key, match.group(1)))  # Change to match.group(1) to get only the ID part\n",
    "#                 break  # Assume each subject only matches one pattern\n",
    "#     return results\n",
    "\n",
    "for subject in emails_subjects:\n",
    "    deal_id = extract_deal_id(subject)\n",
    "    if deal_id:\n",
    "        print(f\"Subject: {subject}\\nDeal ID: {deal_id}\\n\")\n",
    "    else:\n",
    "        print(f\"Subject: {subject}\\nDeal ID: Not found\\n\")"
   ]
  },
  {
   "cell_type": "code",
   "execution_count": 5,
   "id": "c2d42451-308f-415a-8a48-64e2ea6b53a1",
   "metadata": {},
   "outputs": [],
   "source": [
    "import pandas as pd\n",
    "\n",
    "df = pd.read_csv('emails.csv')"
   ]
  },
  {
   "cell_type": "code",
   "execution_count": 6,
   "id": "19356c05-8e92-45d8-a210-2b433a65fb6e",
   "metadata": {},
   "outputs": [
    {
     "data": {
      "text/plain": [
       "(122, 11)"
      ]
     },
     "execution_count": 6,
     "metadata": {},
     "output_type": "execute_result"
    }
   ],
   "source": [
    "df.shape"
   ]
  },
  {
   "cell_type": "code",
   "execution_count": 7,
   "id": "ad7e1881-dd51-4d5c-a3d4-8b9a80216e74",
   "metadata": {},
   "outputs": [
    {
     "data": {
      "text/html": [
       "<div>\n",
       "<style scoped>\n",
       "    .dataframe tbody tr th:only-of-type {\n",
       "        vertical-align: middle;\n",
       "    }\n",
       "\n",
       "    .dataframe tbody tr th {\n",
       "        vertical-align: top;\n",
       "    }\n",
       "\n",
       "    .dataframe thead th {\n",
       "        text-align: right;\n",
       "    }\n",
       "</style>\n",
       "<table border=\"1\" class=\"dataframe\">\n",
       "  <thead>\n",
       "    <tr style=\"text-align: right;\">\n",
       "      <th></th>\n",
       "      <th>deal_id</th>\n",
       "      <th>message_id</th>\n",
       "      <th>from</th>\n",
       "      <th>to</th>\n",
       "      <th>date</th>\n",
       "      <th>subject</th>\n",
       "      <th>content_type</th>\n",
       "      <th>html_content</th>\n",
       "      <th>plain_text</th>\n",
       "      <th>is_attachments</th>\n",
       "      <th>created_at</th>\n",
       "    </tr>\n",
       "  </thead>\n",
       "  <tbody>\n",
       "    <tr>\n",
       "      <th>0</th>\n",
       "      <td>507171</td>\n",
       "      <td>&lt;7f66dc48dc55ab6115b2a45a0c5c534e@famaga.org&gt;</td>\n",
       "      <td>\"Crm.famaga.org\" &lt;socket@famaga.org&gt;</td>\n",
       "      <td>gk@famaga.de</td>\n",
       "      <td>Mon, 13 May 2024 20:56:19 +0200</td>\n",
       "      <td>Comment has been added: Request KP507171</td>\n",
       "      <td>text/html</td>\n",
       "      <td>&lt;!DOCTYPE html PUBLIC \"-//W3C//DTD XHTML 1.0 T...</td>\n",
       "      <td>NaN</td>\n",
       "      <td>False</td>\n",
       "      <td>2024-05-13T19:14:56.214727</td>\n",
       "    </tr>\n",
       "    <tr>\n",
       "      <th>1</th>\n",
       "      <td>505576</td>\n",
       "      <td>&lt;7fc2143933bf2ba5d72ef1bdec184e08@famaga.org&gt;</td>\n",
       "      <td>\"Crm.famaga.org\" &lt;socket@famaga.org&gt;</td>\n",
       "      <td>gk@famaga.de</td>\n",
       "      <td>Mon, 13 May 2024 20:57:14 +0200</td>\n",
       "      <td>Comment has been added: Request KP505576</td>\n",
       "      <td>text/html</td>\n",
       "      <td>&lt;!DOCTYPE html PUBLIC \"-//W3C//DTD XHTML 1.0 T...</td>\n",
       "      <td>NaN</td>\n",
       "      <td>False</td>\n",
       "      <td>2024-05-13T19:14:56.527771</td>\n",
       "    </tr>\n",
       "    <tr>\n",
       "      <th>2</th>\n",
       "      <td>499046</td>\n",
       "      <td>&lt;c3fb3d7f558183a3f299e67068f96c35@famaga.org&gt;</td>\n",
       "      <td>\"Crm.famaga.org\" &lt;socket@famaga.org&gt;</td>\n",
       "      <td>gk@famaga.de</td>\n",
       "      <td>Mon, 13 May 2024 21:03:15 +0200</td>\n",
       "      <td>Comment has been added: Request KP499046</td>\n",
       "      <td>text/html</td>\n",
       "      <td>&lt;!DOCTYPE html PUBLIC \"-//W3C//DTD XHTML 1.0 T...</td>\n",
       "      <td>NaN</td>\n",
       "      <td>False</td>\n",
       "      <td>2024-05-13T19:14:56.928285</td>\n",
       "    </tr>\n",
       "    <tr>\n",
       "      <th>3</th>\n",
       "      <td>507289</td>\n",
       "      <td>&lt;deff49aea0437b5e45db3bfcb2a4789b@famaga.org&gt;</td>\n",
       "      <td>\"Crm.famaga.org\" &lt;socket@famaga.org&gt;</td>\n",
       "      <td>gk@famaga.de</td>\n",
       "      <td>Mon, 13 May 2024 21:05:36 +0200</td>\n",
       "      <td>Comment has been added: Request KP507289</td>\n",
       "      <td>text/html</td>\n",
       "      <td>&lt;!DOCTYPE html PUBLIC \"-//W3C//DTD XHTML 1.0 T...</td>\n",
       "      <td>NaN</td>\n",
       "      <td>False</td>\n",
       "      <td>2024-05-13T19:14:57.232556</td>\n",
       "    </tr>\n",
       "    <tr>\n",
       "      <th>4</th>\n",
       "      <td>498327</td>\n",
       "      <td>&lt;4d1f8fd9a212b8d962cb1cf92c78dee0@famaga.org&gt;</td>\n",
       "      <td>\"Crm.famaga.org\" &lt;socket@famaga.org&gt;</td>\n",
       "      <td>gk@famaga.de</td>\n",
       "      <td>Mon, 13 May 2024 21:07:16 +0200</td>\n",
       "      <td>Comment has been added: Request KP498327</td>\n",
       "      <td>text/html</td>\n",
       "      <td>&lt;!DOCTYPE html PUBLIC \"-//W3C//DTD XHTML 1.0 T...</td>\n",
       "      <td>NaN</td>\n",
       "      <td>False</td>\n",
       "      <td>2024-05-13T19:14:57.544275</td>\n",
       "    </tr>\n",
       "    <tr>\n",
       "      <th>...</th>\n",
       "      <td>...</td>\n",
       "      <td>...</td>\n",
       "      <td>...</td>\n",
       "      <td>...</td>\n",
       "      <td>...</td>\n",
       "      <td>...</td>\n",
       "      <td>...</td>\n",
       "      <td>...</td>\n",
       "      <td>...</td>\n",
       "      <td>...</td>\n",
       "      <td>...</td>\n",
       "    </tr>\n",
       "    <tr>\n",
       "      <th>117</th>\n",
       "      <td>507919</td>\n",
       "      <td>&lt;d68a6a6da236ef50c53b011e5e8753dc@famaga.org&gt;</td>\n",
       "      <td>system@famaga.org</td>\n",
       "      <td>gk@famaga.de</td>\n",
       "      <td>Tue, 14 May 2024 09:28:08 +0000</td>\n",
       "      <td>New Deal 507919 | GRAD 84 OOD | Pulsotronic</td>\n",
       "      <td>text/html</td>\n",
       "      <td>&lt;p&gt;You have been assigned to a new deal 507919...</td>\n",
       "      <td>NaN</td>\n",
       "      <td>False</td>\n",
       "      <td>2024-05-14T09:28:12.314617</td>\n",
       "    </tr>\n",
       "    <tr>\n",
       "      <th>118</th>\n",
       "      <td>507920</td>\n",
       "      <td>&lt;49a7652ce8eab4942565ea3aa69a4011@famaga.org&gt;</td>\n",
       "      <td>system@famaga.org</td>\n",
       "      <td>gk@famaga.de</td>\n",
       "      <td>Tue, 14 May 2024 09:29:13 +0000</td>\n",
       "      <td>New Deal 507920 | GRAD 84 OOD | Rittal</td>\n",
       "      <td>text/html</td>\n",
       "      <td>&lt;p&gt;You have been assigned to a new deal 507920...</td>\n",
       "      <td>NaN</td>\n",
       "      <td>False</td>\n",
       "      <td>2024-05-14T09:29:18.544330</td>\n",
       "    </tr>\n",
       "    <tr>\n",
       "      <th>119</th>\n",
       "      <td>507919</td>\n",
       "      <td>&lt;czOB7hf43Ld7KxawKG2tzPvmqjGIne6eNP9R2EBNJ0@fa...</td>\n",
       "      <td>Georg Kitov &lt;gk@famaga.de&gt;</td>\n",
       "      <td>office@ergate.cz, Georg Kitov &lt;gk@famaga.de&gt;</td>\n",
       "      <td>Tue, 14 May 2024 11:29:38 +0200</td>\n",
       "      <td>Inquiry from FAMAGA Group GmbH &amp; Co. KG № DN50...</td>\n",
       "      <td>multipart/mixed</td>\n",
       "      <td>&lt;style type=\"text/css\"&gt;\\r\\n    &lt;!--\\r\\n    tab...</td>\n",
       "      <td>NaN</td>\n",
       "      <td>False</td>\n",
       "      <td>2024-05-14T09:29:42.430655</td>\n",
       "    </tr>\n",
       "    <tr>\n",
       "      <th>120</th>\n",
       "      <td>507919</td>\n",
       "      <td>&lt;uWqxPB0lfX2ZKSvneMwuMF7VhFQYSQUOzORriECrgI@fa...</td>\n",
       "      <td>Georg Kitov &lt;gk@famaga.de&gt;</td>\n",
       "      <td>info@pulsotronic.de, Georg Kitov &lt;gk@famaga.de&gt;</td>\n",
       "      <td>Tue, 14 May 2024 11:29:55 +0200</td>\n",
       "      <td>Anfrage von FAMAGA Group GmbH &amp; Co. KG № DN507...</td>\n",
       "      <td>multipart/mixed</td>\n",
       "      <td>&lt;style type=\"text/css\"&gt;\\r\\n    &lt;!--\\r\\n    tab...</td>\n",
       "      <td>NaN</td>\n",
       "      <td>False</td>\n",
       "      <td>2024-05-14T09:29:58.463154</td>\n",
       "    </tr>\n",
       "    <tr>\n",
       "      <th>121</th>\n",
       "      <td>507400</td>\n",
       "      <td>&lt;acdf7197f86747e4829bec6e34b3e00e@stuebbe.com&gt;</td>\n",
       "      <td>Sales &lt;sales@stuebbe.com&gt;</td>\n",
       "      <td>'Georg Kitov' &lt;gk@famaga.de&gt;</td>\n",
       "      <td>Tue, 14 May 2024 09:35:39 +0000</td>\n",
       "      <td>AW: [EXTERN]  Anfrage von FAMAGA Group GmbH &amp; ...</td>\n",
       "      <td>multipart/related</td>\n",
       "      <td>&lt;html xmlns:v=\"urn:schemas-microsoft-com:vml\" ...</td>\n",
       "      <td>TAKE IT EASY:\\r\\nBequem bestellen im STÜBBE We...</td>\n",
       "      <td>False</td>\n",
       "      <td>2024-05-14T09:35:44.514434</td>\n",
       "    </tr>\n",
       "  </tbody>\n",
       "</table>\n",
       "<p>122 rows × 11 columns</p>\n",
       "</div>"
      ],
      "text/plain": [
       "     deal_id                                         message_id  \\\n",
       "0     507171      <7f66dc48dc55ab6115b2a45a0c5c534e@famaga.org>   \n",
       "1     505576      <7fc2143933bf2ba5d72ef1bdec184e08@famaga.org>   \n",
       "2     499046      <c3fb3d7f558183a3f299e67068f96c35@famaga.org>   \n",
       "3     507289      <deff49aea0437b5e45db3bfcb2a4789b@famaga.org>   \n",
       "4     498327      <4d1f8fd9a212b8d962cb1cf92c78dee0@famaga.org>   \n",
       "..       ...                                                ...   \n",
       "117   507919      <d68a6a6da236ef50c53b011e5e8753dc@famaga.org>   \n",
       "118   507920      <49a7652ce8eab4942565ea3aa69a4011@famaga.org>   \n",
       "119   507919  <czOB7hf43Ld7KxawKG2tzPvmqjGIne6eNP9R2EBNJ0@fa...   \n",
       "120   507919  <uWqxPB0lfX2ZKSvneMwuMF7VhFQYSQUOzORriECrgI@fa...   \n",
       "121   507400     <acdf7197f86747e4829bec6e34b3e00e@stuebbe.com>   \n",
       "\n",
       "                                     from  \\\n",
       "0    \"Crm.famaga.org\" <socket@famaga.org>   \n",
       "1    \"Crm.famaga.org\" <socket@famaga.org>   \n",
       "2    \"Crm.famaga.org\" <socket@famaga.org>   \n",
       "3    \"Crm.famaga.org\" <socket@famaga.org>   \n",
       "4    \"Crm.famaga.org\" <socket@famaga.org>   \n",
       "..                                    ...   \n",
       "117                     system@famaga.org   \n",
       "118                     system@famaga.org   \n",
       "119            Georg Kitov <gk@famaga.de>   \n",
       "120            Georg Kitov <gk@famaga.de>   \n",
       "121             Sales <sales@stuebbe.com>   \n",
       "\n",
       "                                                  to  \\\n",
       "0                                       gk@famaga.de   \n",
       "1                                       gk@famaga.de   \n",
       "2                                       gk@famaga.de   \n",
       "3                                       gk@famaga.de   \n",
       "4                                       gk@famaga.de   \n",
       "..                                               ...   \n",
       "117                                     gk@famaga.de   \n",
       "118                                     gk@famaga.de   \n",
       "119     office@ergate.cz, Georg Kitov <gk@famaga.de>   \n",
       "120  info@pulsotronic.de, Georg Kitov <gk@famaga.de>   \n",
       "121                     'Georg Kitov' <gk@famaga.de>   \n",
       "\n",
       "                                date  \\\n",
       "0    Mon, 13 May 2024 20:56:19 +0200   \n",
       "1    Mon, 13 May 2024 20:57:14 +0200   \n",
       "2    Mon, 13 May 2024 21:03:15 +0200   \n",
       "3    Mon, 13 May 2024 21:05:36 +0200   \n",
       "4    Mon, 13 May 2024 21:07:16 +0200   \n",
       "..                               ...   \n",
       "117  Tue, 14 May 2024 09:28:08 +0000   \n",
       "118  Tue, 14 May 2024 09:29:13 +0000   \n",
       "119  Tue, 14 May 2024 11:29:38 +0200   \n",
       "120  Tue, 14 May 2024 11:29:55 +0200   \n",
       "121  Tue, 14 May 2024 09:35:39 +0000   \n",
       "\n",
       "                                               subject       content_type  \\\n",
       "0             Comment has been added: Request KP507171          text/html   \n",
       "1             Comment has been added: Request KP505576          text/html   \n",
       "2             Comment has been added: Request KP499046          text/html   \n",
       "3             Comment has been added: Request KP507289          text/html   \n",
       "4             Comment has been added: Request KP498327          text/html   \n",
       "..                                                 ...                ...   \n",
       "117        New Deal 507919 | GRAD 84 OOD | Pulsotronic          text/html   \n",
       "118             New Deal 507920 | GRAD 84 OOD | Rittal          text/html   \n",
       "119  Inquiry from FAMAGA Group GmbH & Co. KG № DN50...    multipart/mixed   \n",
       "120  Anfrage von FAMAGA Group GmbH & Co. KG № DN507...    multipart/mixed   \n",
       "121  AW: [EXTERN]  Anfrage von FAMAGA Group GmbH & ...  multipart/related   \n",
       "\n",
       "                                          html_content  \\\n",
       "0    <!DOCTYPE html PUBLIC \"-//W3C//DTD XHTML 1.0 T...   \n",
       "1    <!DOCTYPE html PUBLIC \"-//W3C//DTD XHTML 1.0 T...   \n",
       "2    <!DOCTYPE html PUBLIC \"-//W3C//DTD XHTML 1.0 T...   \n",
       "3    <!DOCTYPE html PUBLIC \"-//W3C//DTD XHTML 1.0 T...   \n",
       "4    <!DOCTYPE html PUBLIC \"-//W3C//DTD XHTML 1.0 T...   \n",
       "..                                                 ...   \n",
       "117  <p>You have been assigned to a new deal 507919...   \n",
       "118  <p>You have been assigned to a new deal 507920...   \n",
       "119  <style type=\"text/css\">\\r\\n    <!--\\r\\n    tab...   \n",
       "120  <style type=\"text/css\">\\r\\n    <!--\\r\\n    tab...   \n",
       "121  <html xmlns:v=\"urn:schemas-microsoft-com:vml\" ...   \n",
       "\n",
       "                                            plain_text  is_attachments  \\\n",
       "0                                                  NaN           False   \n",
       "1                                                  NaN           False   \n",
       "2                                                  NaN           False   \n",
       "3                                                  NaN           False   \n",
       "4                                                  NaN           False   \n",
       "..                                                 ...             ...   \n",
       "117                                                NaN           False   \n",
       "118                                                NaN           False   \n",
       "119                                                NaN           False   \n",
       "120                                                NaN           False   \n",
       "121  TAKE IT EASY:\\r\\nBequem bestellen im STÜBBE We...           False   \n",
       "\n",
       "                     created_at  \n",
       "0    2024-05-13T19:14:56.214727  \n",
       "1    2024-05-13T19:14:56.527771  \n",
       "2    2024-05-13T19:14:56.928285  \n",
       "3    2024-05-13T19:14:57.232556  \n",
       "4    2024-05-13T19:14:57.544275  \n",
       "..                          ...  \n",
       "117  2024-05-14T09:28:12.314617  \n",
       "118  2024-05-14T09:29:18.544330  \n",
       "119  2024-05-14T09:29:42.430655  \n",
       "120  2024-05-14T09:29:58.463154  \n",
       "121  2024-05-14T09:35:44.514434  \n",
       "\n",
       "[122 rows x 11 columns]"
      ]
     },
     "execution_count": 7,
     "metadata": {},
     "output_type": "execute_result"
    }
   ],
   "source": [
    "df"
   ]
  },
  {
   "cell_type": "markdown",
   "id": "21af9cfd-2cd6-450c-b551-5dc4a0d7ace8",
   "metadata": {},
   "source": [
    "## SPAM"
   ]
  },
  {
   "cell_type": "code",
   "execution_count": 159,
   "id": "caac8580-4561-47af-a789-9ca4d32a3279",
   "metadata": {},
   "outputs": [],
   "source": [
    "imap_server = 'mail.famaga.de'\n",
    "username = 'sales6@famaga.com'\n",
    "password = '5qaBz5JFlDFHVev'"
   ]
  },
  {
   "cell_type": "code",
   "execution_count": 160,
   "id": "8382d156-2628-4d3b-9c6c-a25c3e063da6",
   "metadata": {},
   "outputs": [
    {
     "data": {
      "text/plain": [
       "('OK', [b'Logged in'])"
      ]
     },
     "execution_count": 160,
     "metadata": {},
     "output_type": "execute_result"
    }
   ],
   "source": [
    "import imaplib\n",
    "import email\n",
    "import csv\n",
    "import re\n",
    "import os\n",
    "from email.policy import SMTP\n",
    "from datetime import datetime\n",
    "\n",
    "# Set up connection and log in\n",
    "mail = imaplib.IMAP4_SSL(imap_server)\n",
    "mail.login(username, password)"
   ]
  },
  {
   "cell_type": "code",
   "execution_count": 148,
   "id": "195fcd20-7c36-4823-8378-06f73cd1e78f",
   "metadata": {},
   "outputs": [
    {
     "data": {
      "text/plain": [
       "('OK', [b'1714'])"
      ]
     },
     "execution_count": 148,
     "metadata": {},
     "output_type": "execute_result"
    }
   ],
   "source": [
    "mail.select('spam')"
   ]
  },
  {
   "cell_type": "code",
   "execution_count": 122,
   "id": "af87c3a6-4c60-49e5-9722-8f2c8621f824",
   "metadata": {},
   "outputs": [
    {
     "data": {
      "text/plain": [
       "\u001b[0;31mSignature:\u001b[0m \u001b[0mmail\u001b[0m\u001b[0;34m.\u001b[0m\u001b[0mselect\u001b[0m\u001b[0;34m(\u001b[0m\u001b[0mmailbox\u001b[0m\u001b[0;34m=\u001b[0m\u001b[0;34m'INBOX'\u001b[0m\u001b[0;34m,\u001b[0m \u001b[0mreadonly\u001b[0m\u001b[0;34m=\u001b[0m\u001b[0;32mFalse\u001b[0m\u001b[0;34m)\u001b[0m\u001b[0;34m\u001b[0m\u001b[0;34m\u001b[0m\u001b[0m\n",
       "\u001b[0;31mSource:\u001b[0m   \n",
       "    \u001b[0;32mdef\u001b[0m \u001b[0mselect\u001b[0m\u001b[0;34m(\u001b[0m\u001b[0mself\u001b[0m\u001b[0;34m,\u001b[0m \u001b[0mmailbox\u001b[0m\u001b[0;34m=\u001b[0m\u001b[0;34m'INBOX'\u001b[0m\u001b[0;34m,\u001b[0m \u001b[0mreadonly\u001b[0m\u001b[0;34m=\u001b[0m\u001b[0;32mFalse\u001b[0m\u001b[0;34m)\u001b[0m\u001b[0;34m:\u001b[0m\u001b[0;34m\u001b[0m\n",
       "\u001b[0;34m\u001b[0m        \u001b[0;34m\"\"\"Select a mailbox.\u001b[0m\n",
       "\u001b[0;34m\u001b[0m\n",
       "\u001b[0;34m        Flush all untagged responses.\u001b[0m\n",
       "\u001b[0;34m\u001b[0m\n",
       "\u001b[0;34m        (typ, [data]) = <instance>.select(mailbox='INBOX', readonly=False)\u001b[0m\n",
       "\u001b[0;34m\u001b[0m\n",
       "\u001b[0;34m        'data' is count of messages in mailbox ('EXISTS' response).\u001b[0m\n",
       "\u001b[0;34m\u001b[0m\n",
       "\u001b[0;34m        Mandated responses are ('FLAGS', 'EXISTS', 'RECENT', 'UIDVALIDITY'), so\u001b[0m\n",
       "\u001b[0;34m        other responses should be obtained via <instance>.response('FLAGS') etc.\u001b[0m\n",
       "\u001b[0;34m        \"\"\"\u001b[0m\u001b[0;34m\u001b[0m\n",
       "\u001b[0;34m\u001b[0m        \u001b[0mself\u001b[0m\u001b[0;34m.\u001b[0m\u001b[0muntagged_responses\u001b[0m \u001b[0;34m=\u001b[0m \u001b[0;34m{\u001b[0m\u001b[0;34m}\u001b[0m    \u001b[0;31m# Flush old responses.\u001b[0m\u001b[0;34m\u001b[0m\n",
       "\u001b[0;34m\u001b[0m        \u001b[0mself\u001b[0m\u001b[0;34m.\u001b[0m\u001b[0mis_readonly\u001b[0m \u001b[0;34m=\u001b[0m \u001b[0mreadonly\u001b[0m\u001b[0;34m\u001b[0m\n",
       "\u001b[0;34m\u001b[0m        \u001b[0;32mif\u001b[0m \u001b[0mreadonly\u001b[0m\u001b[0;34m:\u001b[0m\u001b[0;34m\u001b[0m\n",
       "\u001b[0;34m\u001b[0m            \u001b[0mname\u001b[0m \u001b[0;34m=\u001b[0m \u001b[0;34m'EXAMINE'\u001b[0m\u001b[0;34m\u001b[0m\n",
       "\u001b[0;34m\u001b[0m        \u001b[0;32melse\u001b[0m\u001b[0;34m:\u001b[0m\u001b[0;34m\u001b[0m\n",
       "\u001b[0;34m\u001b[0m            \u001b[0mname\u001b[0m \u001b[0;34m=\u001b[0m \u001b[0;34m'SELECT'\u001b[0m\u001b[0;34m\u001b[0m\n",
       "\u001b[0;34m\u001b[0m        \u001b[0mtyp\u001b[0m\u001b[0;34m,\u001b[0m \u001b[0mdat\u001b[0m \u001b[0;34m=\u001b[0m \u001b[0mself\u001b[0m\u001b[0;34m.\u001b[0m\u001b[0m_simple_command\u001b[0m\u001b[0;34m(\u001b[0m\u001b[0mname\u001b[0m\u001b[0;34m,\u001b[0m \u001b[0mmailbox\u001b[0m\u001b[0;34m)\u001b[0m\u001b[0;34m\u001b[0m\n",
       "\u001b[0;34m\u001b[0m        \u001b[0;32mif\u001b[0m \u001b[0mtyp\u001b[0m \u001b[0;34m!=\u001b[0m \u001b[0;34m'OK'\u001b[0m\u001b[0;34m:\u001b[0m\u001b[0;34m\u001b[0m\n",
       "\u001b[0;34m\u001b[0m            \u001b[0mself\u001b[0m\u001b[0;34m.\u001b[0m\u001b[0mstate\u001b[0m \u001b[0;34m=\u001b[0m \u001b[0;34m'AUTH'\u001b[0m     \u001b[0;31m# Might have been 'SELECTED'\u001b[0m\u001b[0;34m\u001b[0m\n",
       "\u001b[0;34m\u001b[0m            \u001b[0;32mreturn\u001b[0m \u001b[0mtyp\u001b[0m\u001b[0;34m,\u001b[0m \u001b[0mdat\u001b[0m\u001b[0;34m\u001b[0m\n",
       "\u001b[0;34m\u001b[0m        \u001b[0mself\u001b[0m\u001b[0;34m.\u001b[0m\u001b[0mstate\u001b[0m \u001b[0;34m=\u001b[0m \u001b[0;34m'SELECTED'\u001b[0m\u001b[0;34m\u001b[0m\n",
       "\u001b[0;34m\u001b[0m        \u001b[0;32mif\u001b[0m \u001b[0;34m'READ-ONLY'\u001b[0m \u001b[0;32min\u001b[0m \u001b[0mself\u001b[0m\u001b[0;34m.\u001b[0m\u001b[0muntagged_responses\u001b[0m \\\n",
       "                \u001b[0;32mand\u001b[0m \u001b[0;32mnot\u001b[0m \u001b[0mreadonly\u001b[0m\u001b[0;34m:\u001b[0m\u001b[0;34m\u001b[0m\n",
       "\u001b[0;34m\u001b[0m            \u001b[0;32mif\u001b[0m \u001b[0m__debug__\u001b[0m\u001b[0;34m:\u001b[0m\u001b[0;34m\u001b[0m\n",
       "\u001b[0;34m\u001b[0m                \u001b[0;32mif\u001b[0m \u001b[0mself\u001b[0m\u001b[0;34m.\u001b[0m\u001b[0mdebug\u001b[0m \u001b[0;34m>=\u001b[0m \u001b[0;36m1\u001b[0m\u001b[0;34m:\u001b[0m\u001b[0;34m\u001b[0m\n",
       "\u001b[0;34m\u001b[0m                    \u001b[0mself\u001b[0m\u001b[0;34m.\u001b[0m\u001b[0m_dump_ur\u001b[0m\u001b[0;34m(\u001b[0m\u001b[0mself\u001b[0m\u001b[0;34m.\u001b[0m\u001b[0muntagged_responses\u001b[0m\u001b[0;34m)\u001b[0m\u001b[0;34m\u001b[0m\n",
       "\u001b[0;34m\u001b[0m            \u001b[0;32mraise\u001b[0m \u001b[0mself\u001b[0m\u001b[0;34m.\u001b[0m\u001b[0mreadonly\u001b[0m\u001b[0;34m(\u001b[0m\u001b[0;34m'%s is not writable'\u001b[0m \u001b[0;34m%\u001b[0m \u001b[0mmailbox\u001b[0m\u001b[0;34m)\u001b[0m\u001b[0;34m\u001b[0m\n",
       "\u001b[0;34m\u001b[0m        \u001b[0;32mreturn\u001b[0m \u001b[0mtyp\u001b[0m\u001b[0;34m,\u001b[0m \u001b[0mself\u001b[0m\u001b[0;34m.\u001b[0m\u001b[0muntagged_responses\u001b[0m\u001b[0;34m.\u001b[0m\u001b[0mget\u001b[0m\u001b[0;34m(\u001b[0m\u001b[0;34m'EXISTS'\u001b[0m\u001b[0;34m,\u001b[0m \u001b[0;34m[\u001b[0m\u001b[0;32mNone\u001b[0m\u001b[0;34m]\u001b[0m\u001b[0;34m)\u001b[0m\u001b[0;34m\u001b[0m\u001b[0;34m\u001b[0m\u001b[0m\n",
       "\u001b[0;31mFile:\u001b[0m      /Library/Frameworks/Python.framework/Versions/3.12/lib/python3.12/imaplib.py\n",
       "\u001b[0;31mType:\u001b[0m      method"
      ]
     },
     "metadata": {},
     "output_type": "display_data"
    }
   ],
   "source": [
    "mail.select??"
   ]
  },
  {
   "cell_type": "code",
   "execution_count": 149,
   "id": "652e73b1-52ee-407f-8998-0ee13f187ae9",
   "metadata": {},
   "outputs": [
    {
     "name": "stdout",
     "output_type": "stream",
     "text": [
      "Search status: OK, message count: 1710\n"
     ]
    }
   ],
   "source": [
    "status, data = mail.search(None, 'UNSEEN')\n",
    "print(f'Search status: {status}, message count: {len(data[0].split())}')"
   ]
  },
  {
   "cell_type": "code",
   "execution_count": 150,
   "id": "2e7ec6df-8d31-46da-ab50-133f187e03ae",
   "metadata": {},
   "outputs": [],
   "source": [
    "num = data[0].split()[10]"
   ]
  },
  {
   "cell_type": "code",
   "execution_count": 151,
   "id": "246f23bc-ac21-4292-8ad3-508fc804b467",
   "metadata": {},
   "outputs": [
    {
     "data": {
      "text/plain": [
       "b'11'"
      ]
     },
     "execution_count": 151,
     "metadata": {},
     "output_type": "execute_result"
    }
   ],
   "source": [
    "num"
   ]
  },
  {
   "cell_type": "code",
   "execution_count": 152,
   "id": "ee2d9803-5540-4be3-aef6-9a5fb8f60190",
   "metadata": {},
   "outputs": [],
   "source": [
    "st, dt = mail.fetch(num, '(BODY.PEEK[])')\n",
    "email_msg = email.message_from_bytes(dt[0][1], policy=SMTP)\n",
    "\n",
    "# plain_text_body = email_msg.get_payload(decode=True).decode()\n",
    "\n",
    "# plain_text_body"
   ]
  },
  {
   "cell_type": "code",
   "execution_count": 153,
   "id": "71fc0e03-9ef7-4dbd-b3d1-dcd6768d62e9",
   "metadata": {},
   "outputs": [
    {
     "name": "stdout",
     "output_type": "stream",
     "text": [
      "From: IPTV Gewinner 🔥 <info@healthyliving-tips.com>\n",
      "To: info@mueller-ersatzteile.de\n",
      "Date: Thu, 28 Dec 2023 22:25:43 +0000\n",
      "Subject: 🎁 Herzlichen Glückwunsch! Fordern Sie Ihren Preis an: Füllen Sie unsere Umfrage aus 🎁\n",
      "\n"
     ]
    }
   ],
   "source": [
    "print(f\"From: {email_msg['From']}\\nTo: {email_msg['To']}\\nDate: {email_msg['Date']}\\nSubject: {email_msg['Subject']}\\n\")"
   ]
  },
  {
   "cell_type": "code",
   "execution_count": null,
   "id": "0553ee7e-32b7-411a-b131-72e3b00acb26",
   "metadata": {},
   "outputs": [],
   "source": [
    "dt[0][1]"
   ]
  },
  {
   "cell_type": "code",
   "execution_count": 106,
   "id": "19da5731-a2ff-4d9d-9120-289e990d07ec",
   "metadata": {},
   "outputs": [],
   "source": [
    "email_msg = email.message_from_bytes(dt[0][1], policy=SMTP)"
   ]
  },
  {
   "cell_type": "code",
   "execution_count": 70,
   "id": "743b98be-fc40-4e26-965f-1c6672fe7b94",
   "metadata": {},
   "outputs": [
    {
     "data": {
      "text/plain": [
       "<email.message.EmailMessage at 0x12c185f10>"
      ]
     },
     "execution_count": 70,
     "metadata": {},
     "output_type": "execute_result"
    }
   ],
   "source": [
    "email_msg"
   ]
  },
  {
   "cell_type": "code",
   "execution_count": 107,
   "id": "569aa9a5-0b96-41ba-9cdf-bc68220808a6",
   "metadata": {},
   "outputs": [
    {
     "name": "stdout",
     "output_type": "stream",
     "text": [
      "Encapsulated Original Message Content:\n",
      " Enter For A Chance To Win An Apple Watch Series 9Here's your chance to score the Apple Watch Series 9, valued at $499! Elevate your well-being with advanced health monitoring, fitness tracking, stress reduction, and smart features. Simply take our quick survey to enter and transform your daily routine.Take Survey & EnterHere's to your best life. You got this!- Healthy Living Tips \n",
      "One-click Unsubscribe: http://healthlylivingtips.moosend.com/unsubscribe/bc29a98d-631b-4816-ad38-3c7bfb243645/94ab0427-1197-4d13-8377-22eae32a2aa9/\n"
     ]
    }
   ],
   "source": [
    "from email.policy import default\n",
    "\n",
    "email_msg = email.message_from_bytes(dt[0][1], policy=SMTP)\n",
    "\n",
    "def extract_original_message(msg):\n",
    "    # Check if the message is multipart\n",
    "    if msg.is_multipart():\n",
    "        # Iterate through each part of the multipart message\n",
    "        for part in msg.iter_parts():\n",
    "            content_type = part.get_content_type()\n",
    "            content_disposition = part.get(\"Content-Disposition\", \"\")\n",
    "            \n",
    "            # Only extract the part with content-type 'message/rfc822'\n",
    "            if content_type == \"message/rfc822\":\n",
    "                # Recursively extract the original message\n",
    "                return extract_original_message(part.get_payload(0))\n",
    "            elif content_type in [\"text/plain\", \"text/html\"] and \"attachment\" not in content_disposition:\n",
    "                payload = part.get_payload(decode=True)\n",
    "                decoded_payload = payload.decode(part.get_content_charset() or 'utf-8')\n",
    "                return decoded_payload\n",
    "    else:\n",
    "        # Single part message\n",
    "        payload = msg.get_payload(decode=True)\n",
    "        decoded_payload = payload.decode(msg.get_content_charset() or 'utf-8')\n",
    "        return decoded_payload\n",
    "\n",
    "def extract_encapsulated_message(msg):\n",
    "    # Check if the message contains an encapsulated original message\n",
    "    if msg.is_multipart():\n",
    "        for part in msg.iter_parts():\n",
    "            content_type = part.get_content_type()\n",
    "            if content_type == \"message/rfc822\":\n",
    "                original_msg = part.get_payload(0)\n",
    "                return extract_original_message(original_msg)\n",
    "    return None\n",
    "\n",
    "# # Sample usage with an email message\n",
    "# raw_email = b\"\"\"<your raw email message here>\"\"\"\n",
    "# email_msg = email.message_from_bytes(raw_email, policy=default)\n",
    "\n",
    "# Extract the encapsulated original message content\n",
    "encapsulated_message_content = extract_encapsulated_message(email_msg)\n",
    "if encapsulated_message_content:\n",
    "    print(\"Encapsulated Original Message Content:\")\n",
    "    print(encapsulated_message_content)\n",
    "else:\n",
    "    print(\"No encapsulated original message found.\")\n",
    "\n",
    "# If no encapsulated message found, print the original message content directly\n",
    "if not encapsulated_message_content:\n",
    "    original_message_content = extract_original_message(email_msg)\n",
    "    print(\"Original Message Content:\")\n",
    "    print(original_message_content)"
   ]
  },
  {
   "cell_type": "code",
   "execution_count": 125,
   "id": "4545f5a5-2e41-4ff2-9a82-1e139d42c049",
   "metadata": {},
   "outputs": [
    {
     "data": {
      "text/plain": [
       "\" Enter For A Chance To Win An Apple Watch Series 9Here's your chance to score the Apple Watch Series 9, valued at $499! Elevate your well-being with advanced health monitoring, fitness tracking, stress reduction, and smart features. Simply take our quick survey to enter and transform your daily routine.Take Survey & EnterHere's to your best life. You got this!- Healthy Living Tips \\nOne-click Unsubscribe: http://healthlylivingtips.moosend.com/unsubscribe/bc29a98d-631b-4816-ad38-3c7bfb243645/94ab0427-1197-4d13-8377-22eae32a2aa9/\""
      ]
     },
     "execution_count": 125,
     "metadata": {},
     "output_type": "execute_result"
    }
   ],
   "source": [
    "encapsulated_message_content"
   ]
  },
  {
   "cell_type": "code",
   "execution_count": null,
   "id": "72069638-aaec-454b-b2d0-d130a8418c73",
   "metadata": {},
   "outputs": [],
   "source": [
    "for num in data[0].split():\n",
    "    st, dt = mail.fetch(num, '(BODY.PEEK[])')\n",
    "    email_msg = email.message_from_bytes(dt[0][1], policy=SMTP)\n",
    "\n",
    "    spam = get_gpt(f\"\"\"\n",
    "    You are sales manager at company that sells parts and components for manufacturers. Usually customers sends request \n",
    "    with part number, brand, model and etc.\n",
    "    \n",
    "    But customers could ask some questions without sending parts details. Your zone of responsibility distinguis spam messages and messages \n",
    "    from customers.\n",
    "    \n",
    "    Please detect the following message:\n",
    "    {encapsulated_message_content}\n",
    "    \n",
    "    Response with short anser spam/not spam.\n",
    "    \"\"\", stream=False)\n",
    "    print(f'Part {num}: {spam['choices'][0]['message']['content']}')"
   ]
  },
  {
   "cell_type": "code",
   "execution_count": 134,
   "id": "87d6c73a-b3a6-414d-b70b-ef69fcb57293",
   "metadata": {},
   "outputs": [
    {
     "name": "stdout",
     "output_type": "stream",
     "text": [
      "content=\"J'aime la programmation.\" response_metadata={'token_usage': {'completion_tokens': 7, 'prompt_tokens': 34, 'total_tokens': 41}, 'model_name': 'gpt-4', 'system_fingerprint': None, 'finish_reason': 'stop', 'logprobs': None} id='run-cde69e38-d27c-428f-8aa9-44c49a515123-0'\n",
      "0.00144\n"
     ]
    }
   ],
   "source": [
    "from langchain_openai import OpenAI\n",
    "from langchain.prompts import PromptTemplate\n",
    "from langchain_openai import ChatOpenAI\n",
    "from langchain_community.callbacks import get_openai_callback\n",
    "\n",
    "\n",
    "from dotenv import load_dotenv\n",
    "\n",
    "load_dotenv()\n",
    "\n",
    "template = \"\"\"\n",
    "            You are sales manager at company that sells parts and components for manufacturers. Usually customers sends request \n",
    "            with part number, brand, model and etc.\n",
    "\n",
    "            But customers could ask some questions without sending parts details. Your zone of responsibility distinguis spam messages and messages \n",
    "            from customers.\n",
    "\n",
    "            Please detect the following message:\n",
    "            {body}\n",
    "\n",
    "            Response with short anser spam/not spam.\n",
    "        \"\"\"\n",
    "prompt = PromptTemplate.from_template(template)\n",
    "\n",
    "llm = ChatOpenAI(model='gpt-4')\n",
    "\n",
    "messages = [\n",
    "    (\"system\", \"You are a helpful assistant that translates English to French.\"),\n",
    "    (\"human\", \"Translate this sentence from English to French. I love programming.\"),\n",
    "]\n",
    "\n",
    "with get_openai_callback() as cb:\n",
    "    resp = llm.invoke(messages)\n",
    "    print(resp)\n",
    "    print(cb.total_cost)\n",
    "# response = llm_chain.invoke(prompt)"
   ]
  },
  {
   "cell_type": "code",
   "execution_count": 41,
   "id": "22d61685-e8db-41da-beb6-cfb246341f88",
   "metadata": {},
   "outputs": [
    {
     "ename": "AttributeError",
     "evalue": "'NoneType' object has no attribute 'decode'",
     "output_type": "error",
     "traceback": [
      "\u001b[0;31m---------------------------------------------------------------------------\u001b[0m",
      "\u001b[0;31mAttributeError\u001b[0m                            Traceback (most recent call last)",
      "Cell \u001b[0;32mIn[41], line 1\u001b[0m\n\u001b[0;32m----> 1\u001b[0m plain_text_body \u001b[38;5;241m=\u001b[39m \u001b[43memail_msg\u001b[49m\u001b[38;5;241;43m.\u001b[39;49m\u001b[43mget_payload\u001b[49m\u001b[43m(\u001b[49m\u001b[43mdecode\u001b[49m\u001b[38;5;241;43m=\u001b[39;49m\u001b[38;5;28;43;01mTrue\u001b[39;49;00m\u001b[43m)\u001b[49m\u001b[38;5;241;43m.\u001b[39;49m\u001b[43mdecode\u001b[49m()\n",
      "\u001b[0;31mAttributeError\u001b[0m: 'NoneType' object has no attribute 'decode'"
     ]
    }
   ],
   "source": [
    "plain_text_body = email_msg.get_payload(decode=True).decode()"
   ]
  },
  {
   "cell_type": "code",
   "execution_count": null,
   "id": "125d45b3-fc63-4621-97df-777d9cdef902",
   "metadata": {},
   "outputs": [],
   "source": [
    "email_msg??"
   ]
  },
  {
   "cell_type": "code",
   "execution_count": null,
   "id": "99fdb562-1c56-405d-9380-0fd522673086",
   "metadata": {},
   "outputs": [],
   "source": [
    "for part in email_msg.walk():\n",
    "    if part.get_content_type() == \"text/plain\":\n",
    "        print(part.get_content())"
   ]
  },
  {
   "cell_type": "code",
   "execution_count": 88,
   "id": "02eecd77-e60f-4d63-ac96-8893fca0545f",
   "metadata": {},
   "outputs": [
    {
     "name": "stdout",
     "output_type": "stream",
     "text": [
      "Number of messages in INBOX: b'1676'\n"
     ]
    }
   ],
   "source": [
    "typ, data = mail.select('spam', readonly=False)\n",
    "\n",
    "if typ == 'OK':\n",
    "    print(\"Number of messages in INBOX:\", data[0])"
   ]
  },
  {
   "cell_type": "code",
   "execution_count": 91,
   "id": "6ef0e3d6-27b9-4bd0-80a1-336760e13aac",
   "metadata": {},
   "outputs": [
    {
     "data": {
      "text/plain": [
       "'FLAGS'"
      ]
     },
     "execution_count": 91,
     "metadata": {},
     "output_type": "execute_result"
    }
   ],
   "source": [
    "typ, flags = mail.response('FLAGS')\n",
    "if typ == 'OK':\n",
    "    print(\"Flags available:\", flags)\n"
   ]
  },
  {
   "cell_type": "code",
   "execution_count": 92,
   "id": "383d8e22-e143-4cb1-afb6-f5145f83e93e",
   "metadata": {},
   "outputs": [
    {
     "name": "stdout",
     "output_type": "stream",
     "text": [
      "{'OK': [b'[CLOSED] Previous mailbox closed.', b'[PERMANENTFLAGS (\\\\Answered \\\\Flagged \\\\Deleted \\\\Seen \\\\Draft \\\\*)] Flags permitted.', b'[UNSEEN 1] First unseen.', b'[UIDVALIDITY 1685285979] UIDs valid', b'[UIDNEXT 1678] Predicted next UID'], 'CLOSED': [b''], 'PERMANENTFLAGS': [b'(\\\\Answered \\\\Flagged \\\\Deleted \\\\Seen \\\\Draft \\\\*)'], 'EXISTS': [b'1676'], 'RECENT': [b'0'], 'UNSEEN': [b'1'], 'UIDVALIDITY': [b'1685285979'], 'UIDNEXT': [b'1678'], 'READ-WRITE': [b'']}\n"
     ]
    }
   ],
   "source": [
    "print(mail.untagged_responses)  # This will print all untagged responses captured\n"
   ]
  },
  {
   "cell_type": "code",
   "execution_count": null,
   "id": "261d528d-0a11-4e93-b752-30809cf6046d",
   "metadata": {},
   "outputs": [],
   "source": [
    "email_msg??"
   ]
  },
  {
   "cell_type": "code",
   "execution_count": 61,
   "id": "d5f9546b-05b6-40f4-95b5-adb664711b0c",
   "metadata": {},
   "outputs": [],
   "source": [
    "email_msg.get_payload(decode=True)"
   ]
  },
  {
   "cell_type": "code",
   "execution_count": 23,
   "id": "5d528eaf-d655-4b58-af1c-261d17e089ee",
   "metadata": {},
   "outputs": [
    {
     "ename": "AttributeError",
     "evalue": "'NoneType' object has no attribute 'decode'",
     "output_type": "error",
     "traceback": [
      "\u001b[0;31m---------------------------------------------------------------------------\u001b[0m",
      "\u001b[0;31mAttributeError\u001b[0m                            Traceback (most recent call last)",
      "Cell \u001b[0;32mIn[23], line 1\u001b[0m\n\u001b[0;32m----> 1\u001b[0m \u001b[43memail_msg\u001b[49m\u001b[38;5;241;43m.\u001b[39;49m\u001b[43mget_payload\u001b[49m\u001b[43m(\u001b[49m\u001b[43mdecode\u001b[49m\u001b[38;5;241;43m=\u001b[39;49m\u001b[38;5;28;43;01mTrue\u001b[39;49;00m\u001b[43m)\u001b[49m\u001b[38;5;241;43m.\u001b[39;49m\u001b[43mdecode\u001b[49m(\u001b[38;5;124m'\u001b[39m\u001b[38;5;124mutf-8\u001b[39m\u001b[38;5;124m'\u001b[39m)\n",
      "\u001b[0;31mAttributeError\u001b[0m: 'NoneType' object has no attribute 'decode'"
     ]
    }
   ],
   "source": [
    "email_msg.get_payload(decode=True).decode('utf-8')"
   ]
  },
  {
   "cell_type": "code",
   "execution_count": null,
   "id": "1dc520a8-3a09-44f2-9da7-a8e2a45bd32e",
   "metadata": {},
   "outputs": [],
   "source": [
    "email_msg??"
   ]
  },
  {
   "cell_type": "code",
   "execution_count": 111,
   "id": "cd9b03e0-4510-4eb8-8c96-0f09baa850a2",
   "metadata": {},
   "outputs": [],
   "source": [
    "from openai import OpenAI\n",
    "from dotenv import load_dotenv\n",
    "\n",
    "load_dotenv()\n",
    "client = OpenAI()\n",
    "\n",
    "\n",
    "def get_gpt(content, model=\"gpt-4-1106-preview\", temperature=0, max_tokens=1000, stream=True):\n",
    "    \"\"\"\n",
    "    Cached call to GPT.\n",
    "    \"\"\"\n",
    "    messages = [{\"role\": \"user\", \"content\": content}]\n",
    "\n",
    "    if stream:\n",
    "        response = client.chat.completions.create(\n",
    "            model=model, \n",
    "            messages=messages, \n",
    "            temperature=temperature, \n",
    "            stream=True\n",
    "        )\n",
    "        \n",
    "        collected_messages = []\n",
    "        for chunk in response:\n",
    "            if chunk.choices[0].delta.content:\n",
    "                print(chunk.choices[0].delta.content, end='')\n",
    "                collected_messages.append(chunk.choices[0].delta.content)\n",
    "    \n",
    "        content_str = ''.join(collected_messages)\n",
    "        return content_str\n",
    "    else:\n",
    "        completion = client.chat.completions.create(\n",
    "            model=model,\n",
    "            messages=messages,\n",
    "            temperature=temperature,\n",
    "            max_tokens=max_tokens,\n",
    "        )\n",
    "        return completion.model_dump()\n"
   ]
  },
  {
   "cell_type": "code",
   "execution_count": null,
   "id": "34322289-6a5f-494f-8203-513ebf4dde6b",
   "metadata": {},
   "outputs": [],
   "source": [
    "get_gpt('gpt-4o')"
   ]
  },
  {
   "cell_type": "code",
   "execution_count": 168,
   "id": "5fc3bde3-2bef-403b-a017-0fba8d590343",
   "metadata": {},
   "outputs": [],
   "source": [
    "import pandas as pd\n",
    "\n",
    "\n",
    "df = pd.read_csv('spam_detection_results.csv')"
   ]
  },
  {
   "cell_type": "code",
   "execution_count": 169,
   "id": "8180d59c-b17c-482e-a1e7-461d823d858c",
   "metadata": {},
   "outputs": [
    {
     "data": {
      "text/html": [
       "<div>\n",
       "<style scoped>\n",
       "    .dataframe tbody tr th:only-of-type {\n",
       "        vertical-align: middle;\n",
       "    }\n",
       "\n",
       "    .dataframe tbody tr th {\n",
       "        vertical-align: top;\n",
       "    }\n",
       "\n",
       "    .dataframe thead th {\n",
       "        text-align: right;\n",
       "    }\n",
       "</style>\n",
       "<table border=\"1\" class=\"dataframe\">\n",
       "  <thead>\n",
       "    <tr style=\"text-align: right;\">\n",
       "      <th></th>\n",
       "      <th>imap_server</th>\n",
       "      <th>imap_user</th>\n",
       "      <th>subject</th>\n",
       "      <th>body</th>\n",
       "      <th>from</th>\n",
       "      <th>to</th>\n",
       "      <th>date</th>\n",
       "      <th>message_id</th>\n",
       "      <th>spam_flag</th>\n",
       "      <th>spam_score</th>\n",
       "      <th>gpt_spam_flag</th>\n",
       "      <th>cost</th>\n",
       "      <th>created_at</th>\n",
       "      <th>folder</th>\n",
       "      <th>body_hash</th>\n",
       "      <th>is_error</th>\n",
       "    </tr>\n",
       "  </thead>\n",
       "  <tbody>\n",
       "    <tr>\n",
       "      <th>0</th>\n",
       "      <td>mail.famaga.de</td>\n",
       "      <td>sales6@famaga.com</td>\n",
       "      <td>Acceptance of quotation</td>\n",
       "      <td>\\n\\n\\n\\nAcceptance of quotation\\n\\n\\n\\r\\n\\r\\nA...</td>\n",
       "      <td>\"new-plant-equipment.com\" &lt;info@new-plant-equi...</td>\n",
       "      <td>info@new-plant-equipment.com</td>\n",
       "      <td>Sat, 11 May 2024 01:38:31 +0300</td>\n",
       "      <td>b'930'</td>\n",
       "      <td>No</td>\n",
       "      <td>1.3</td>\n",
       "      <td>Not spam</td>\n",
       "      <td>0.00558</td>\n",
       "      <td>2024-05-17 00:42:16</td>\n",
       "      <td>INBOX</td>\n",
       "      <td>5655980b56bdf48e42e10fe19528955387baae7f</td>\n",
       "      <td>False</td>\n",
       "    </tr>\n",
       "    <tr>\n",
       "      <th>1</th>\n",
       "      <td>mail.famaga.de</td>\n",
       "      <td>sales6@famaga.com</td>\n",
       "      <td>Soldering Stations - Wholesale Tech at Its Finest</td>\n",
       "      <td>\\n\\n\\n\\n\\n\\n\\n\\n\\n\\n\\n\\n\\n\\n\\n\\n\\n\\n\\nHi,The A...</td>\n",
       "      <td>jayden@szatetools.cn</td>\n",
       "      <td>info@2technologie.com</td>\n",
       "      <td>Sat, 11 May 2024 06:54:26 +0800</td>\n",
       "      <td>b'931'</td>\n",
       "      <td>No</td>\n",
       "      <td>2.6</td>\n",
       "      <td>Spam</td>\n",
       "      <td>0.01035</td>\n",
       "      <td>2024-05-17 00:42:20</td>\n",
       "      <td>INBOX</td>\n",
       "      <td>9bf8d3db9933c33de7671856ecfc3d4aacb6858a</td>\n",
       "      <td>False</td>\n",
       "    </tr>\n",
       "    <tr>\n",
       "      <th>2</th>\n",
       "      <td>mail.famaga.de</td>\n",
       "      <td>sales6@famaga.com</td>\n",
       "      <td>=?UTF-8?B?UHJlY2lzaW9uIFBsYW5ldGFyeSBSZWR1Y2Vy?=</td>\n",
       "      <td>Hi,\\nWe published A market research Report on ...</td>\n",
       "      <td>\"Eileen\" &lt;eileen@vicmarketinfocustomer.com&gt;</td>\n",
       "      <td>NaN</td>\n",
       "      <td>Sat, 11 May 2024 09:33:06 +0800</td>\n",
       "      <td>b'932'</td>\n",
       "      <td>No</td>\n",
       "      <td>2.0</td>\n",
       "      <td>Spam</td>\n",
       "      <td>0.00981</td>\n",
       "      <td>2024-05-17 00:42:23</td>\n",
       "      <td>INBOX</td>\n",
       "      <td>076a869043d9c3bd1e69cc1baefbf8eadc3bb208</td>\n",
       "      <td>False</td>\n",
       "    </tr>\n",
       "    <tr>\n",
       "      <th>3</th>\n",
       "      <td>mail.famaga.de</td>\n",
       "      <td>sales6@famaga.com</td>\n",
       "      <td>=?UTF-8?B?UHJlY2lzaW9uIFBsYW5ldGFyeSBSZWR1Y2Vy?=</td>\n",
       "      <td>Hi,\\nWe published A market research Report on ...</td>\n",
       "      <td>\"Eileen\" &lt;eileen@vicmarketinfocustomer.com&gt;</td>\n",
       "      <td>NaN</td>\n",
       "      <td>Sat, 11 May 2024 09:33:06 +0800</td>\n",
       "      <td>b'933'</td>\n",
       "      <td>No</td>\n",
       "      <td>2.0</td>\n",
       "      <td>Spam</td>\n",
       "      <td>0.00981</td>\n",
       "      <td>2024-05-17 00:42:28</td>\n",
       "      <td>INBOX</td>\n",
       "      <td>076a869043d9c3bd1e69cc1baefbf8eadc3bb208</td>\n",
       "      <td>False</td>\n",
       "    </tr>\n",
       "    <tr>\n",
       "      <th>4</th>\n",
       "      <td>mail.famaga.de</td>\n",
       "      <td>sales6@famaga.com</td>\n",
       "      <td>Requirement of Spares ---- MM0938</td>\n",
       "      <td>CLOSING DATE: 13/05/2024\\r\\n\\r\\n \\r\\n\\r\\nDear ...</td>\n",
       "      <td>\"SCM7@Al Bijjar Trading \\(FZC\\)  Staff Id # 16...</td>\n",
       "      <td>&lt;info@progmat.hu&gt;</td>\n",
       "      <td>Sat, 11 May 2024 11:07:27 +0500</td>\n",
       "      <td>b'934'</td>\n",
       "      <td>No</td>\n",
       "      <td>2.3</td>\n",
       "      <td>Not spam</td>\n",
       "      <td>0.04833</td>\n",
       "      <td>2024-05-17 00:42:35</td>\n",
       "      <td>INBOX</td>\n",
       "      <td>0dfd54d245e244d7aaf8d4a4d4436e58435c25d8</td>\n",
       "      <td>False</td>\n",
       "    </tr>\n",
       "    <tr>\n",
       "      <th>...</th>\n",
       "      <td>...</td>\n",
       "      <td>...</td>\n",
       "      <td>...</td>\n",
       "      <td>...</td>\n",
       "      <td>...</td>\n",
       "      <td>...</td>\n",
       "      <td>...</td>\n",
       "      <td>...</td>\n",
       "      <td>...</td>\n",
       "      <td>...</td>\n",
       "      <td>...</td>\n",
       "      <td>...</td>\n",
       "      <td>...</td>\n",
       "      <td>...</td>\n",
       "      <td>...</td>\n",
       "      <td>...</td>\n",
       "    </tr>\n",
       "    <tr>\n",
       "      <th>337</th>\n",
       "      <td>mail.famaga.de</td>\n",
       "      <td>sales6@famaga.com</td>\n",
       "      <td>info,Ist es nicht an der Zeit, dass Sie belohn...</td>\n",
       "      <td>How To Get Rid Of Knee Pain Fast!  =**********...</td>\n",
       "      <td>Lidl Silvercrest Espresso &lt;TRC.69892@tracking-...</td>\n",
       "      <td>info &lt;info@mueller-ersatzteile.de&gt;</td>\n",
       "      <td>Wed, 15 May 2024 15:25:50 +0200</td>\n",
       "      <td>b'1687'</td>\n",
       "      <td>YES</td>\n",
       "      <td>114.1</td>\n",
       "      <td>This message is spam.</td>\n",
       "      <td>0.12861</td>\n",
       "      <td>2024-05-17 00:44:03</td>\n",
       "      <td>spam</td>\n",
       "      <td>5693c8bde460289a39a37824dfb7c350e0f761e2</td>\n",
       "      <td>False</td>\n",
       "    </tr>\n",
       "    <tr>\n",
       "      <th>338</th>\n",
       "      <td>mail.famaga.de</td>\n",
       "      <td>sales6@famaga.com</td>\n",
       "      <td>NaN</td>\n",
       "      <td>NaN</td>\n",
       "      <td>NaN</td>\n",
       "      <td>NaN</td>\n",
       "      <td>NaN</td>\n",
       "      <td>b'1587'</td>\n",
       "      <td>NaN</td>\n",
       "      <td>NaN</td>\n",
       "      <td>NaN</td>\n",
       "      <td>0.00000</td>\n",
       "      <td>2024-05-17 00:44:18</td>\n",
       "      <td>spam</td>\n",
       "      <td>NaN</td>\n",
       "      <td>True</td>\n",
       "    </tr>\n",
       "    <tr>\n",
       "      <th>339</th>\n",
       "      <td>mail.famaga.de</td>\n",
       "      <td>sales6@famaga.com</td>\n",
       "      <td>NaN</td>\n",
       "      <td>NaN</td>\n",
       "      <td>NaN</td>\n",
       "      <td>NaN</td>\n",
       "      <td>NaN</td>\n",
       "      <td>b'1587'</td>\n",
       "      <td>NaN</td>\n",
       "      <td>NaN</td>\n",
       "      <td>NaN</td>\n",
       "      <td>0.00000</td>\n",
       "      <td>2024-05-17 00:44:31</td>\n",
       "      <td>spam</td>\n",
       "      <td>NaN</td>\n",
       "      <td>True</td>\n",
       "    </tr>\n",
       "    <tr>\n",
       "      <th>340</th>\n",
       "      <td>mail.famaga.de</td>\n",
       "      <td>sales6@famaga.com</td>\n",
       "      <td>NaN</td>\n",
       "      <td>NaN</td>\n",
       "      <td>NaN</td>\n",
       "      <td>NaN</td>\n",
       "      <td>NaN</td>\n",
       "      <td>b'1587'</td>\n",
       "      <td>NaN</td>\n",
       "      <td>NaN</td>\n",
       "      <td>NaN</td>\n",
       "      <td>0.00000</td>\n",
       "      <td>2024-05-17 00:44:46</td>\n",
       "      <td>spam</td>\n",
       "      <td>NaN</td>\n",
       "      <td>True</td>\n",
       "    </tr>\n",
       "    <tr>\n",
       "      <th>341</th>\n",
       "      <td>mail.famaga.de</td>\n",
       "      <td>sales6@famaga.com</td>\n",
       "      <td>NaN</td>\n",
       "      <td>NaN</td>\n",
       "      <td>NaN</td>\n",
       "      <td>NaN</td>\n",
       "      <td>NaN</td>\n",
       "      <td>b'1587'</td>\n",
       "      <td>NaN</td>\n",
       "      <td>NaN</td>\n",
       "      <td>NaN</td>\n",
       "      <td>0.00000</td>\n",
       "      <td>2024-05-17 00:45:00</td>\n",
       "      <td>spam</td>\n",
       "      <td>NaN</td>\n",
       "      <td>True</td>\n",
       "    </tr>\n",
       "  </tbody>\n",
       "</table>\n",
       "<p>342 rows × 16 columns</p>\n",
       "</div>"
      ],
      "text/plain": [
       "        imap_server          imap_user  \\\n",
       "0    mail.famaga.de  sales6@famaga.com   \n",
       "1    mail.famaga.de  sales6@famaga.com   \n",
       "2    mail.famaga.de  sales6@famaga.com   \n",
       "3    mail.famaga.de  sales6@famaga.com   \n",
       "4    mail.famaga.de  sales6@famaga.com   \n",
       "..              ...                ...   \n",
       "337  mail.famaga.de  sales6@famaga.com   \n",
       "338  mail.famaga.de  sales6@famaga.com   \n",
       "339  mail.famaga.de  sales6@famaga.com   \n",
       "340  mail.famaga.de  sales6@famaga.com   \n",
       "341  mail.famaga.de  sales6@famaga.com   \n",
       "\n",
       "                                               subject  \\\n",
       "0                              Acceptance of quotation   \n",
       "1    Soldering Stations - Wholesale Tech at Its Finest   \n",
       "2     =?UTF-8?B?UHJlY2lzaW9uIFBsYW5ldGFyeSBSZWR1Y2Vy?=   \n",
       "3     =?UTF-8?B?UHJlY2lzaW9uIFBsYW5ldGFyeSBSZWR1Y2Vy?=   \n",
       "4                    Requirement of Spares ---- MM0938   \n",
       "..                                                 ...   \n",
       "337  info,Ist es nicht an der Zeit, dass Sie belohn...   \n",
       "338                                                NaN   \n",
       "339                                                NaN   \n",
       "340                                                NaN   \n",
       "341                                                NaN   \n",
       "\n",
       "                                                  body  \\\n",
       "0    \\n\\n\\n\\nAcceptance of quotation\\n\\n\\n\\r\\n\\r\\nA...   \n",
       "1    \\n\\n\\n\\n\\n\\n\\n\\n\\n\\n\\n\\n\\n\\n\\n\\n\\n\\n\\nHi,The A...   \n",
       "2    Hi,\\nWe published A market research Report on ...   \n",
       "3    Hi,\\nWe published A market research Report on ...   \n",
       "4    CLOSING DATE: 13/05/2024\\r\\n\\r\\n \\r\\n\\r\\nDear ...   \n",
       "..                                                 ...   \n",
       "337  How To Get Rid Of Knee Pain Fast!  =**********...   \n",
       "338                                                NaN   \n",
       "339                                                NaN   \n",
       "340                                                NaN   \n",
       "341                                                NaN   \n",
       "\n",
       "                                                  from  \\\n",
       "0    \"new-plant-equipment.com\" <info@new-plant-equi...   \n",
       "1                                 jayden@szatetools.cn   \n",
       "2          \"Eileen\" <eileen@vicmarketinfocustomer.com>   \n",
       "3          \"Eileen\" <eileen@vicmarketinfocustomer.com>   \n",
       "4    \"SCM7@Al Bijjar Trading \\(FZC\\)  Staff Id # 16...   \n",
       "..                                                 ...   \n",
       "337  Lidl Silvercrest Espresso <TRC.69892@tracking-...   \n",
       "338                                                NaN   \n",
       "339                                                NaN   \n",
       "340                                                NaN   \n",
       "341                                                NaN   \n",
       "\n",
       "                                     to                             date  \\\n",
       "0          info@new-plant-equipment.com  Sat, 11 May 2024 01:38:31 +0300   \n",
       "1                 info@2technologie.com  Sat, 11 May 2024 06:54:26 +0800   \n",
       "2                                   NaN  Sat, 11 May 2024 09:33:06 +0800   \n",
       "3                                   NaN  Sat, 11 May 2024 09:33:06 +0800   \n",
       "4                     <info@progmat.hu>  Sat, 11 May 2024 11:07:27 +0500   \n",
       "..                                  ...                              ...   \n",
       "337  info <info@mueller-ersatzteile.de>  Wed, 15 May 2024 15:25:50 +0200   \n",
       "338                                 NaN                              NaN   \n",
       "339                                 NaN                              NaN   \n",
       "340                                 NaN                              NaN   \n",
       "341                                 NaN                              NaN   \n",
       "\n",
       "    message_id spam_flag  spam_score          gpt_spam_flag     cost  \\\n",
       "0       b'930'        No         1.3               Not spam  0.00558   \n",
       "1       b'931'        No         2.6                   Spam  0.01035   \n",
       "2       b'932'        No         2.0                   Spam  0.00981   \n",
       "3       b'933'        No         2.0                   Spam  0.00981   \n",
       "4       b'934'        No         2.3               Not spam  0.04833   \n",
       "..         ...       ...         ...                    ...      ...   \n",
       "337    b'1687'       YES       114.1  This message is spam.  0.12861   \n",
       "338    b'1587'       NaN         NaN                    NaN  0.00000   \n",
       "339    b'1587'       NaN         NaN                    NaN  0.00000   \n",
       "340    b'1587'       NaN         NaN                    NaN  0.00000   \n",
       "341    b'1587'       NaN         NaN                    NaN  0.00000   \n",
       "\n",
       "              created_at folder                                 body_hash  \\\n",
       "0    2024-05-17 00:42:16  INBOX  5655980b56bdf48e42e10fe19528955387baae7f   \n",
       "1    2024-05-17 00:42:20  INBOX  9bf8d3db9933c33de7671856ecfc3d4aacb6858a   \n",
       "2    2024-05-17 00:42:23  INBOX  076a869043d9c3bd1e69cc1baefbf8eadc3bb208   \n",
       "3    2024-05-17 00:42:28  INBOX  076a869043d9c3bd1e69cc1baefbf8eadc3bb208   \n",
       "4    2024-05-17 00:42:35  INBOX  0dfd54d245e244d7aaf8d4a4d4436e58435c25d8   \n",
       "..                   ...    ...                                       ...   \n",
       "337  2024-05-17 00:44:03   spam  5693c8bde460289a39a37824dfb7c350e0f761e2   \n",
       "338  2024-05-17 00:44:18   spam                                       NaN   \n",
       "339  2024-05-17 00:44:31   spam                                       NaN   \n",
       "340  2024-05-17 00:44:46   spam                                       NaN   \n",
       "341  2024-05-17 00:45:00   spam                                       NaN   \n",
       "\n",
       "     is_error  \n",
       "0       False  \n",
       "1       False  \n",
       "2       False  \n",
       "3       False  \n",
       "4       False  \n",
       "..        ...  \n",
       "337     False  \n",
       "338      True  \n",
       "339      True  \n",
       "340      True  \n",
       "341      True  \n",
       "\n",
       "[342 rows x 16 columns]"
      ]
     },
     "execution_count": 169,
     "metadata": {},
     "output_type": "execute_result"
    }
   ],
   "source": [
    "df"
   ]
  },
  {
   "cell_type": "code",
   "execution_count": 143,
   "id": "13050504-701e-44cd-9a30-32e1645890cc",
   "metadata": {},
   "outputs": [
    {
     "name": "stdout",
     "output_type": "stream",
     "text": [
      "\n",
      "\n",
      "Guten Tag,\n",
      "\n",
      "Diese E-Mail stammt von Elon Musk und dem Gründer, CEO und Chefingenieur des SpaceX-Teams; Frühphaseninvestor, CEO und Produktarchitekt von Tesla, Inc.; Gründer von The Boring Company; und Mitbegründer von Neuralink und OpenAI. Mit einem geschätzten Nettovermögen von rund 245 Milliarden US-Dollar. Ihre E-Mail-Adresse wurde zufällig aus der E-Mail-Datenbank der USA, Kanadas und Europas ausgewählt und Sie haben 18.087,71 Tesla-Aktien zu 228,0 $ pro Aktie (TSLA) im Wert von 4.124.270,00 $ gewonnen. Bitte nehmen Sie diese E-Mail ernst, indem Sie auf diese E-Mail antworten oder sich für einen Anspruch an (elonmusk.foundation11@yandex.com) wenden.\n",
      "\n"
     ]
    }
   ],
   "source": [
    "print(df.loc[0, 'body'])"
   ]
  },
  {
   "cell_type": "code",
   "execution_count": 144,
   "id": "82b09e6c-6814-4255-83e4-f63407dd2c26",
   "metadata": {},
   "outputs": [
    {
     "name": "stdout",
     "output_type": "stream",
     "text": [
      "Dear Sir,\n",
      "\n",
      "\n",
      "We want to purchase the below product.\n",
      "ICC19101 (ISA-8) Fastwel    - 1\n",
      "ICC19201 (ISA-8) Fastwel  - 1\n",
      "Fastwel NIB94101 -  1\n",
      "Fastwel PS151  - 1\n",
      "Could you pls quote us the most competitive price,  weight, lead time？\n",
      "\n",
      "\n",
      "\n",
      "\n",
      "Best Regards\n",
      "Patty Xu\n",
      "Hong Kong Rise International Trade Co., Limited\n",
      "ROOM 1006, 10/F., PO YIP BUILDING,23 HING YIP STREET, KWUN TONG, KOWLOON, HONG KONG\n"
     ]
    }
   ],
   "source": [
    "print(df.loc[9, 'body'])"
   ]
  },
  {
   "cell_type": "code",
   "execution_count": null,
   "id": "095164b5-3f15-47f8-baba-d9ea48b9512c",
   "metadata": {},
   "outputs": [],
   "source": [
    "email_msg??"
   ]
  },
  {
   "cell_type": "code",
   "execution_count": null,
   "id": "8f0c4bfb-cc20-4d56-b06a-f72951a78d2e",
   "metadata": {},
   "outputs": [],
   "source": []
  }
 ],
 "metadata": {
  "kernelspec": {
   "display_name": "gpt",
   "language": "python",
   "name": "gpt"
  },
  "language_info": {
   "codemirror_mode": {
    "name": "ipython",
    "version": 3
   },
   "file_extension": ".py",
   "mimetype": "text/x-python",
   "name": "python",
   "nbconvert_exporter": "python",
   "pygments_lexer": "ipython3",
   "version": "3.12.3"
  }
 },
 "nbformat": 4,
 "nbformat_minor": 5
}
