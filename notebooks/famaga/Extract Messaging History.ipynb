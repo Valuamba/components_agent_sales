{
 "cells": [
  {
   "cell_type": "markdown",
   "id": "25fa260f-d1ba-4daf-809e-27e21fa552b8",
   "metadata": {},
   "source": [
    "## Config"
   ]
  },
  {
   "cell_type": "code",
   "execution_count": 16,
   "id": "5c32c876-2fd6-42a2-97fa-e966dbee7c4c",
   "metadata": {},
   "outputs": [],
   "source": [
    "database_path = 'extracted_deals_messaging.db'"
   ]
  },
  {
   "cell_type": "code",
   "execution_count": 5,
   "id": "40f4c26f-2e81-45f9-8d16-ddab0d05492c",
   "metadata": {},
   "outputs": [],
   "source": [
    "import sqlite3\n",
    "\n",
    "# Connect to SQLite database (or create it if it doesn't exist)\n",
    "conn = sqlite3.connect('extracted_deals_messaging.db')\n",
    "\n",
    "# Create a cursor object using the cursor method\n",
    "cursor = conn.cursor()\n",
    "\n",
    "# Create table as per the provided SQL command\n",
    "cursor.execute('''\n",
    "ALTER TABLE deals ADD COLUMN messages_count INTEGER  NULL;\n",
    "''')\n",
    "\n",
    "# Commit the changes and close the connection\n",
    "conn.commit()\n",
    "conn.close()"
   ]
  },
  {
   "cell_type": "code",
   "execution_count": 4,
   "id": "8b6c2b96-cbc7-4fe8-957c-90cbe88e05d0",
   "metadata": {},
   "outputs": [],
   "source": [
    "import pandas as pd\n",
    "\n",
    "df = pd.read_json(r'C:\\Users\\MGroup\\Documents\\products.json')"
   ]
  },
  {
   "cell_type": "code",
   "execution_count": null,
   "id": "8184e70d-bdb3-4651-8db3-8145bb1e0fbf",
   "metadata": {},
   "outputs": [],
   "source": [
    "from concurrent.futures import ThreadPoolExecutor, as_completed\n",
    "import requests\n",
    "from bs4 import BeautifulSoup\n",
    "import copy\n",
    "import pandas as pd\n",
    "import sqlite3\n",
    "\n",
    "\n",
    "def get_messages_from_contents(data):\n",
    "    if len(data['content']) == 0:\n",
    "        print('There is no items')\n",
    "        return\n",
    "    html_content = data['content'][-1]['body']['html']\n",
    "    soup = BeautifulSoup(html_content, \"html.parser\")\n",
    "    messages = []\n",
    "    clone_body = copy.copy(soup)\n",
    "    \n",
    "    for nested_blockquote in clone_body.find_all(\"blockquote\"):\n",
    "        nested_blockquote.decompose()\n",
    "        \n",
    "    messages.append(clone_body.get_text(strip=True))\n",
    "    blockquotes = soup.find_all(\"blockquote\")\n",
    "    \n",
    "    for blockquote in blockquotes:\n",
    "        clone = copy.copy(blockquote)\n",
    "    \n",
    "        for nested_blockquote in clone.find_all(\"blockquote\"):\n",
    "            nested_blockquote.decompose()\n",
    "    \n",
    "        messages.append(clone.get_text(strip=True))\n",
    "    return messages\n",
    "\n",
    "\n",
    "def fetch_deals_chunk(deal_ids_chunk, headers):\n",
    "    print(f'Start chunk {len(deal_ids_chunk)}')\n",
    "    deals_info = {}\n",
    "    error_collection = []\n",
    "    for deal_id in deal_ids_chunk:\n",
    "        try:\n",
    "            download_url = f\"https://test-api.famaga.org/imap/deal/{deal_id}\"\n",
    "            response = requests.get(download_url, headers=headers)\n",
    "            if response.status_code != 200:\n",
    "                error_text = response.text\n",
    "                print(f'[{deal_id}]: {error_text}')\n",
    "                # Insert error into DB\n",
    "                insert_deal_into_db(deal_id, None, error_text)\n",
    "            else:\n",
    "                print(f'Append deal {deal_id}')\n",
    "                deal_info = response.json()\n",
    "                # Insert deal into DB\n",
    "                insert_deal_into_db(deal_id, deal_info)\n",
    "        except Exception as e:\n",
    "            print(f'[{deal_id}]: 500 error - {str(e)[:500]}')\n",
    "            # Insert error into DB for unexpected issues\n",
    "            insert_deal_into_db(deal_id, None, f'[{deal_id}]: 500 error')\n",
    "\n",
    "\n",
    "def insert_deal_into_db(deal_id, deal_info, error_msg=None):\n",
    "    conn = sqlite3.connect('your_database_name.db')\n",
    "    cursor = conn.cursor()\n",
    "    if error_msg:\n",
    "        cursor.execute('''INSERT INTO deals (deal_id, error_msg) VALUES (?, ?)''',\n",
    "                       (deal_id, error_msg))\n",
    "    else:\n",
    "        # parsed_messages = json.dumps(get_messages_from_contents(deal_info)) if deal_info else None\n",
    "        parsed_messages = None\n",
    "        cursor.execute('''INSERT INTO deals (deal_id, chat_history, parsed_messages) VALUES (?, ?, ?)''',\n",
    "                       (deal_id, json.dumps(deal_info), parsed_messages))\n",
    "    conn.commit()\n",
    "    conn.close()\n",
    "\n",
    "\n",
    "def divide_into_chunks(deals_ids, chunk_count=20):\n",
    "    for i in range(0, len(deals_ids), chunk_count):\n",
    "        yield deals_ids[i:i + chunk_count]\n",
    "\n",
    "def main(deals_ids, headers):\n",
    "    max_workers = 2\n",
    "    chunks = list(divide_into_chunks(deals_ids, max_workers))  # Divide deals_ids into 20 chunks\n",
    "\n",
    "    with ThreadPoolExecutor(max_workers=max_workers) as executor:\n",
    "        futures = [executor.submit(fetch_deals_chunk, chunk, headers) for chunk in chunks]\n",
    "        # Wait for all threads to complete\n",
    "        as_completed(futures)\n",
    "\n",
    "# Example usage\n",
    "headers = {\"Authorization\": \"YXBpZmFtYWdhcnU6RHpJVFd1Lk1COUV4LjNmdERsZ01YYlcvb0VFcW9NLw\"}\n",
    "\n",
    "df = pd.read_json(r'C:\\Users\\MGroup\\Documents\\products.json')\n",
    "conn = sqlite3.connect('extracted_deals_messaging.db')\n",
    "query = \"SELECT deal_id FROM deals\"\n",
    "existing_deal_ids_df = pd.read_sql_query(query, conn)\n",
    "conn.close()\n",
    "\n",
    "existing_deal_ids = existing_deal_ids_df['deal_id'].tolist()\n",
    "\n",
    "filtered_df = df[~df['id'].isin(existing_deal_ids)]\n",
    "deals_ids = filtered_df['id'].values.tolist()\n",
    "\n",
    "\n",
    "main(deals_ids, headers)"
   ]
  },
  {
   "cell_type": "code",
   "execution_count": 3,
   "id": "ee0c7462-d307-4544-90ba-d3b2d8e0417b",
   "metadata": {},
   "outputs": [
    {
     "data": {
      "text/plain": [
       "[374206,\n",
       " 374210,\n",
       " 374299,\n",
       " 374340,\n",
       " 374341,\n",
       " 374360,\n",
       " 374370,\n",
       " 374384,\n",
       " 374432,\n",
       " 374482,\n",
       " 374531,\n",
       " 374555,\n",
       " 374569,\n",
       " 374589,\n",
       " 374590,\n",
       " 374610,\n",
       " 374680,\n",
       " 374749,\n",
       " 374812,\n",
       " 374889,\n",
       " 374902,\n",
       " 374935,\n",
       " 374976,\n",
       " 375005]"
      ]
     },
     "execution_count": 3,
     "metadata": {},
     "output_type": "execute_result"
    }
   ],
   "source": [
    "import pandas as pd\n",
    "import sqlite3\n",
    "\n",
    "\n",
    "df = pd.read_json(r'C:\\Users\\MGroup\\Documents\\products.json')\n",
    "conn = sqlite3.connect('extracted_deals_messaging.db')\n",
    "query = \"SELECT deal_id FROM deals\"\n",
    "existing_deal_ids_df = pd.read_sql_query(query, conn)\n",
    "conn.close()\n",
    "\n",
    "existing_deal_ids = existing_deal_ids_df['deal_id'].tolist()\n",
    "\n",
    "filtered_df = df[~df['id'].isin(existing_deal_ids)]\n",
    "deals_ids = filtered_df['id'].values.tolist()\n",
    "\n",
    "existing_deal_ids"
   ]
  },
  {
   "cell_type": "code",
   "execution_count": 12,
   "id": "cb3cb4ba-8cca-46ce-b12f-a35fa3268440",
   "metadata": {},
   "outputs": [
    {
     "name": "stdout",
     "output_type": "stream",
     "text": [
      "Message 0:\n",
      "```Dear Ali,Thank you for your interest. Your quotation for our inquiry ref. 112023 is still being viewed by the customer. We will let you know, once we receive the news.Kind Regards,Ms. IRINA BUSHUEVAPurchasing specialistAMCOR.GmbHFerdinandstrasse 25-27 D-20095 Hamburg+ 49 (0) 40 4011 9214ext.626https://amcor.gmbh|626@amcor.gmbhMAKEBETTERTHAN WELLCONFIDENTIALпн, 3 июл. 2023 г. в 15:17, <maa@famaga.de>:\n",
      "```\n",
      "Message 1:\n",
      "```Dear Sir/ Madam,I would like to follow up on quotation, which was sent in response to your inquiry.Our company would be glad to provide any additional information and make every effort to fulfill your requirements and receive an order!Please take into consideration, that our portfolio not limited to this brand only.One of our distinctive features is close cooperation with various manufacturers from Europe, United States, Japan and other countries around the world.Famaga Group OHG works directly with them, avoiding a long chain of agents, which allows us to provide the best prices to our customers.If you require any more information, please do not hesitate to ask or call us.We look forward to receiving your valuable feedback!\n",
      "```\n",
      "Message 2:\n",
      "```Offer-Nr.:410731Customer request #:IRINA BUSHUEVACustomer #:44796Date:Monday, 05 June 2023Inquiry #:112023Contact person:Muhammad Ali AmmarOffer valid till02.07.2023Inquiry date31.05.2023E-mail:maa@famaga.dePosition 3 - 23 weeksPosition 12 - 14 weeksOther positions - 1 weekWe would like to thank you for your inquiry and we are pleased to provide you our quotation as follows. Please feel free to contact us if you need any further information.Pos.TitleDescription and articleQty.PriceSumDelivery time1PACKING BOX RINGFISHER CONTROLS (Brand of Emerson)16A6086X0124pcs€43,08€172,3214                    -\n",
      "                    23                    weeks2WASHER,PACKINGFISHER CONTROLS (Brand of Emerson)14A8366X0124pcs€21,54€86,1614                    -\n",
      "                    23                    weeks3SCHEIBEFISHER CONTROLS (Brand of Emerson)75B1036X0924pcs€3.260,88€13.043,5214                    -\n",
      "                    23                    weeks4STIFTFISHER CONTROLS (Brand of Emerson)75B1122X0524pcs€122,53€490,1214                    -\n",
      "                    23                    weeks5KEIL, KONISCHFISHER CONTROLS (Brand of Emerson)G13725K00224pcs€92,89€371,5614                    -\n",
      "                    23                    weeks6PACKING,RINGFISHER CONTROLS (Brand of Emerson)12A9138X01216pcs€75,40€1.206,4014                    -\n",
      "                    23                    weeks7SEAL RINGFISHER CONTROLS (Brand of Emerson)75B0341X0228pcs€1.722,00€13.776,0014                    -\n",
      "                    23                    weeks8SEAL RINGFISHER CONTROLS (Brand of Emerson)75B0341X0224pcs€1.722,00€6.888,0014                    -\n",
      "                    23                    weeks9MEMBRANFISHER CONTROLS (Brand of Emerson)2E8597022021pcs€251,78€251,7814                    -\n",
      "                    23                    weeks10KOLBENRINGFISHER CONTROLS (Brand of Emerson)17A3990X0123pcs€599,14€1.797,4214                    -\n",
      "                    23                    weeks11DICHTUNGSSATZFISHER CONTROLS (Brand of Emerson)RGASKETX3922pcs€663,76€1.327,5214                    -\n",
      "                    23                    weeks12STOPFEN/SPINDEL BAUGFISHER CONTROLS (Brand of Emerson)27A3953X1321pcs€10.326,57€10.326,5714                    -\n",
      "                    23                    weeks13SATZFISHER CONTROLS (Brand of Emerson)RPACKX001521pcs€282,74€282,7414                    -\n",
      "                    23                    weeks14SEAT RINGFISHER CONTROLS (Brand of Emerson)2V7216460621pcs€4.547,99€4.547,9914                    -\n",
      "                    23                    weeksGoods valueTrans.Nettoinlc. VATTotal payment€54.568,10€0,00€54.568,10€10.367,94€64.936,04Delivery termsEXW - LübeckPayment conditionsinkl. Porto und  VerpackungPayment termsnach VereinbarungValid till02.07.2023Please be kindly informed about 30 Euro fee for orders under 150 Euro.Our general terms and conditions of delivery shall apply. The terms can be found on the internet underhttps://famaga.de/imperssumor obtained from us.Wir hoffen, dass unser Angebot für Sie als interessant erwiesen hat und freuen uns, Sie zu Stammkunden unseres Unternehmens  zählen zu können.Yours sincerelyFAMAGA Group OHGMuhammad Ali Ammar\n",
      "```\n",
      "Message 3:\n",
      "```-------- Forwarded Message --------Subject:Fwd: Concerning a supply of parts for valve -\n",
      "              Ref.No.112023 KUN44796Date:Wed, 31 May 2023 14:39:03 +0300From:Muhammad Ali Ammar<maa@famaga.de>To:sales@famaga.de<sales@famaga.de>-------- Forwarded Message --------Subject:Re: Concerning a supply of parts for valve -\n",
      "                Ref.No.112023Date:Wed, 31 May 2023 09:40:35 +0300From:Irina Bushueva<626@amcor.gmbh>To:Muhammad Ali Ammar<maa@famaga.de>Dear Ali,Please receive in the attachment.Kind Regards,Ms.\n",
      "                  IRINA BUSHUEVAPurchasing\n",
      "                  specialistAMCOR.GmbHFerdinandstrasse\n",
      "                                  25-27 D-20095 Hamburg+ 49 (0) 40\n",
      "                                  4011 9214ext.626https://amcor.gmbh|626@amcor.gmbhMAKEBETTERTHAN WELLCONFIDENTIALчт, 18 мая 2023 г. в 15:08,\n",
      "            Muhammad Ali Ammar <maa@famaga.de>:\n",
      "```\n",
      "Message 4:\n",
      "```Dear,Regarding this inquiry we also need the photos of the\n",
      "                nameplates for all the items please.Mit\n",
      "                    freundlichen Grüßen / Best regards,Muhammad Ali AmmarVertrieb / Sales DeptFAMAGA Group OHG+49 451\n",
      "                  7036 4997 ext. 108+1 786\n",
      "                  822 61 55 ext. 105+44 20\n",
      "                  808 96 845 ext. 114https://famaga.comOn 5/18/2023 9:49 AM, Irina Bushueva wrote:\n",
      "```\n",
      "Message 5:\n",
      "```Dear Mr. Ammar,I kindly request you to consider a possibility of\n",
      "                  delivering:1. PACKING BOX RING (KEY 107) OF VALVE EMERSON\n",
      "                      КАТ.16А6086Х01 2   - 4 PC(S)2. WASHER PACKING (KEY 115) OF VALVE EMERSON\n",
      "                      КАТ.14А8366Х01 2   - 4 PC(S)3. DISC VALVE (KEY 3) OF VALVE EMERSON\n",
      "                      КАТ.75В1036Х92   - 4 PC(S)4. PIN HOLLOW (KEY 16) OF VALVE EMERSON\n",
      "                      КАТ.75В1122Х05 2   - 4 PC(S)5. PIN TAPER (KEY 10) OF VALVE EMERSON\n",
      "                      КАТ.G13725K002 2   - 4 PC(S)6. PACKING RING (KEY 108)OF VALVE VA2-4\n",
      "                      КАТ.12А9138Х01 2   - 16 PC(S)7. GASKET OF RETAINING RING (KEY 16) OF VALVE - 8\n",
      "                      pc(s)8. SEAL RING (KEY 4) OF VALVE VA2-4 КАТ.75B0341X02\n",
      "                      2   - 4 PC(S)9. DIAPHRAGM OF VALVE IBH КАТ.2E859702202   - 1\n",
      "                      PC(S)10. PISTON GRAPHITE RING OF VALVE IBH\n",
      "                      КАТ.17A3990X012   - 3 PC(S)11. GASKET SET OF VALVE IBH КАТ.RGASKETX392   - 2\n",
      "                      PC(S)12. PLUG/STEM/PLUNGER HI-TEMP OF VALVE IBH\n",
      "                      КАТ.27A3953X132   - 1 PC(S)13. KIT REPAIR OF STUFFING BOX SEAL OF VALVE IBH\n",
      "                      КАТ.RPACKX00152   - 1 PC(S)14. SEAT RING OF VALVE IBH КАТ.2V721646062   - 1\n",
      "                      PC(S)Please state the carry weight and dimensions in\n",
      "                      the offer.Kind Regards,Ms.\n",
      "                          IRINA BUSHUEVAPurchasing\n",
      "                          specialistAMCOR.GmbHFerdinandstrasse\n",
      "                                          25-27 D-20095 Hamburg+ 49\n",
      "                                          (0) 40 4011 9214ext.626https://amcor.gmbh|626@amcor.gmbhMAKEBETTERTHAN\n",
      "                          WELLCONFIDENTIAL\n",
      "```\n"
     ]
    }
   ],
   "source": [
    "import sqlite3\n",
    "import json\n",
    "\n",
    "def get_deal_messaging_history(deal_id: int):\n",
    "    # Replace 'your_database_name.db' with the path to your actual SQLite database file\n",
    "    database_path = 'extracted_deals_messaging.db'\n",
    "    deal_id_to_extract = 410731  # Replace 123 with the actual deal_id you're interested in\n",
    "    \n",
    "    # Connect to the SQLite database\n",
    "    conn = sqlite3.connect(database_path)\n",
    "    \n",
    "    # Create a cursor object using the cursor method\n",
    "    cursor = conn.cursor()\n",
    "    \n",
    "    # SQL query to select the parsed_messages of a specific deal by deal_id\n",
    "    query = \"SELECT parsed_messages FROM deals WHERE deal_id = ?\"\n",
    "    \n",
    "    # Execute the query with the deal_id you're interested in\n",
    "    cursor.execute(query, (deal_id_to_extract,))\n",
    "    \n",
    "    # Fetch the result\n",
    "    result = cursor.fetchone()\n",
    "    \n",
    "    # Close the connection\n",
    "    conn.close()\n",
    "    \n",
    "    # Check if the result is not None\n",
    "    if result:\n",
    "        # result[0] contains the JSON string of parsed_messages\n",
    "        parsed_messages_json = result[0]\n",
    "        \n",
    "        # Convert the JSON string back into a Python object (e.g., list or dictionary)\n",
    "        parsed_messages = json.loads(parsed_messages_json)\n",
    "    \n",
    "        for idx, msg in enumerate(parsed_messages):\n",
    "            print(f'Message {idx}:\\n```{msg}\\n```')\n",
    "        # Now 'parsed_messages' is a Python object that you can work with\n",
    "        # print(json.dumps(parsed_messages, indent=2))\n",
    "    else:\n",
    "        print(f\"No deal found with ID {deal_id_to_extract}\")\n",
    "\n",
    "\n",
    "get_deal_messaging_history(413460)"
   ]
  },
  {
   "cell_type": "markdown",
   "id": "21dcc493-9568-42c7-bdd0-2c6625c22dcb",
   "metadata": {
    "jp-MarkdownHeadingCollapsed": true
   },
   "source": [
    "### Get messages by key words"
   ]
  },
  {
   "cell_type": "code",
   "execution_count": null,
   "id": "323a11f6-c27d-4279-9363-d8cc7ad6da78",
   "metadata": {},
   "outputs": [],
   "source": [
    "import sqlite3\n",
    "import json\n",
    "\n",
    "def get_deals_with_keywords(database_path, keywords):\n",
    "    # Connect to the SQLite database\n",
    "    conn = sqlite3.connect(database_path)\n",
    "    cursor = conn.cursor()\n",
    "    \n",
    "    # Prepare the SQL query\n",
    "    # Use LOWER function for case-insensitive search and the LIKE operator for partial match\n",
    "    query = \"\"\"\n",
    "    SELECT deal_id, parsed_messages\n",
    "    FROM deals\n",
    "    WHERE \n",
    "        LOWER(parsed_messages) LIKE '%follow up%'\n",
    "        AND LOWER(parsed_messages) LIKE '%quotation%'\n",
    "    \"\"\"\n",
    "    \n",
    "    # Execute the query\n",
    "    cursor.execute(query)\n",
    "    \n",
    "    # Fetch all matching rows\n",
    "    rows = cursor.fetchall()\n",
    "    \n",
    "    # Close the database connection\n",
    "    conn.close()\n",
    "    \n",
    "    # Filter and collect messages containing the keywords\n",
    "    filtered_messages = []\n",
    "    for row in rows:\n",
    "        deal_id, parsed_messages_json = row\n",
    "        # Deserialize the JSON string to a Python object (list or dict)\n",
    "        parsed_messages = json.loads(parsed_messages_json)\n",
    "        \n",
    "        # Assuming parsed_messages is a list of messages\n",
    "        # Filter messages containing any of the keywords\n",
    "        messages_with_keywords = [message for message in parsed_messages if all(keyword.lower() in message.lower() for keyword in keywords)]\n",
    "        \n",
    "        if messages_with_keywords:\n",
    "            filtered_messages.append((deal_id, messages_with_keywords))\n",
    "    \n",
    "    return filtered_messages\n",
    "\n",
    "# Usage\n",
    "database_path = 'extracted_deals_messaging.db'  # Update with your actual database path\n",
    "keywords = ['follow up']\n",
    "deals_with_keywords = get_deals_with_keywords(database_path, keywords)\n",
    "\n",
    "for deal_id, messages in deals_with_keywords:\n",
    "    print(f\"Deal ID: {deal_id}, Messages: {messages}\\n\\n\")\n"
   ]
  },
  {
   "cell_type": "markdown",
   "id": "f5d2c71c-24d2-4396-aa97-6c18ed7046e5",
   "metadata": {},
   "source": [
    "### Get HTML file"
   ]
  },
  {
   "cell_type": "code",
   "execution_count": 11,
   "id": "514eb9c3-17da-453c-88a7-dd07c9265916",
   "metadata": {},
   "outputs": [
    {
     "name": "stdout",
     "output_type": "stream",
     "text": [
      "HTML content saved to deals_html\\413460.html\n"
     ]
    }
   ],
   "source": [
    "import sqlite3\n",
    "import os\n",
    "import json\n",
    "\n",
    "\n",
    "def save_html_to_file(data, dir_name='htmls', file_name='content.html'):\n",
    "    # os.makedirs(dir_name, exist_ok=True)\n",
    "    \n",
    "    if data['content']:\n",
    "        html_content = data['content'][-1]['body']['html']\n",
    "        \n",
    "        file_path = os.path.join(dir_name, file_name)\n",
    "        \n",
    "        with open(file_path, 'w', encoding='utf-8') as file:\n",
    "            file.write(html_content)\n",
    "        \n",
    "        print(f\"HTML content saved to {file_path}\")\n",
    "    else:\n",
    "        print(\"No content found.\")\n",
    "\n",
    "\n",
    "def get_html_file(deal_id):\n",
    "    database_path = 'extracted_deals_messaging.db'\n",
    "    deal_id_to_extract = deal_id  \n",
    "    \n",
    "    conn = sqlite3.connect(database_path)\n",
    "    cursor = conn.cursor()  \n",
    "    query = \"SELECT chat_history FROM deals WHERE deal_id = ?\"\n",
    "    cursor.execute(query, (deal_id_to_extract,))\n",
    "    result = cursor.fetchone()\n",
    "    conn.close()\n",
    "    \n",
    "    if result:\n",
    "        chat_history_json = result[0]\n",
    "        chat_history = json.loads(chat_history_json)\n",
    "\n",
    "        save_html_to_file(chat_history, dir_name='deals_html', file_name=f'{deal_id}.html')\n",
    "    \n",
    "        # for idx, msg in enumerate(parsed_messages):\n",
    "        #     print(f'Message {idx}:\\n```{msg}\\n```')\n",
    "    else:\n",
    "        print(f\"No deal found with ID {deal_id_to_extract}\")\n",
    "\n",
    "\n",
    "get_html_file(413460)\n"
   ]
  },
  {
   "cell_type": "markdown",
   "id": "873efb0a-bb4c-4a6f-89aa-a1e8a31ba242",
   "metadata": {},
   "source": [
    "### Get all error messages"
   ]
  },
  {
   "cell_type": "code",
   "execution_count": 25,
   "id": "dcb50e0e-4e58-48b3-a141-143c6fbebb75",
   "metadata": {},
   "outputs": [],
   "source": [
    "conn = sqlite3.connect(database_path)\n",
    "cursor = conn.cursor()  \n",
    "query = \"SELECT DISTINCT error_msg FROM deals\"\n",
    "cursor.execute(query)\n",
    "result = cursor.fetchall()\n",
    "conn.close()"
   ]
  },
  {
   "cell_type": "code",
   "execution_count": 36,
   "id": "6c447186-869d-4937-97f5-8cbcdf89baa8",
   "metadata": {},
   "outputs": [],
   "source": [
    "unique_error_msgs = [row[0] for row in result if len(row) > 0 and row[0] and len(row[0]) < 500]"
   ]
  },
  {
   "cell_type": "code",
   "execution_count": 35,
   "id": "5ebde3d7-e72b-49a3-a996-445e9338c6f9",
   "metadata": {},
   "outputs": [
    {
     "data": {
      "text/plain": [
       "(None,)"
      ]
     },
     "execution_count": 35,
     "metadata": {},
     "output_type": "execute_result"
    }
   ],
   "source": [
    "result[0]"
   ]
  },
  {
   "cell_type": "code",
   "execution_count": 30,
   "id": "287db45f-f8de-47ad-9cc0-6e6a2e053bac",
   "metadata": {},
   "outputs": [
    {
     "data": {
      "text/plain": [
       "94806"
      ]
     },
     "execution_count": 30,
     "metadata": {},
     "output_type": "execute_result"
    }
   ],
   "source": [
    "len(unique_error_msgs[2])"
   ]
  },
  {
   "cell_type": "code",
   "execution_count": null,
   "id": "2952920c-f64e-4413-9368-06d4aa2e6fa6",
   "metadata": {},
   "outputs": [],
   "source": [
    "unique_error_msgs"
   ]
  },
  {
   "cell_type": "code",
   "execution_count": 40,
   "id": "071f8b9b-1c69-436a-a62a-fd28f399f62c",
   "metadata": {},
   "outputs": [
    {
     "name": "stdout",
     "output_type": "stream",
     "text": [
      "There is no ga@famaga.com in db\n",
      "There is no tv@famaga.de in db\n",
      "There is no vla@famaga.com in db\n",
      "Wrong password for mni@famaga.com\n",
      "There is no lb@famaga.de in db\n",
      "Wrong password for ws@famaga.de\n",
      "There is no ko@famaga.de in db\n",
      "There is no tba@famaga.com in db\n",
      "There is no asma@famaga.de in db\n",
      "Wrong password for mg@famaga.de\n",
      "There is no ja@famaga.de in db\n",
      "There is no ds@famaga.de in db\n",
      "There is no gf@famaga.com in db\n",
      "Wrong password for pj@famaga.de\n",
      "There is no gab@famaga-group.com in db\n",
      "There is no e.aghayev@famaga.de in db\n",
      "Wrong password for pushkar@famaga.com\n",
      "Wrong password for alg@famaga.ro\n",
      "There is no maria.pasca@famaga.de in db\n",
      "There is no id@famaga.com in db\n",
      "There is no sa@famaga.de in db\n",
      "There is no ingrid.dona@famaga.de in db\n",
      "There is no mo@famaga.de in db\n",
      "Wrong password for ada.giba@famaga.de\n",
      "There is no aj@famaga.de in db\n",
      "There is no adrian.poplacean@famaga.de in db\n",
      "There is no jk@famaga.de in db\n",
      "There is no leticia.souza@famaga.de in db\n",
      "There is no t.aghayev@famaga.de in db\n"
     ]
    }
   ],
   "source": [
    "filtered_messages = [msg for msg in unique_error_msgs if \"500 error\" not in msg]\n",
    "for m in filtered_messages:\n",
    "    print(m.replace(\"\\\"\", ''))"
   ]
  },
  {
   "cell_type": "code",
   "execution_count": null,
   "id": "38d51f55-c8ed-4ee7-8fa4-2c069982cd26",
   "metadata": {},
   "outputs": [],
   "source": []
  }
 ],
 "metadata": {
  "kernelspec": {
   "display_name": "gpt",
   "language": "python",
   "name": "gpt"
  },
  "language_info": {
   "codemirror_mode": {
    "name": "ipython",
    "version": 3
   },
   "file_extension": ".py",
   "mimetype": "text/x-python",
   "name": "python",
   "nbconvert_exporter": "python",
   "pygments_lexer": "ipython3",
   "version": "3.12.3"
  }
 },
 "nbformat": 4,
 "nbformat_minor": 5
}
