{
 "cells": [
  {
   "cell_type": "code",
   "execution_count": 1,
   "id": "515c2066-2eb6-45c3-8b14-e5e7fbb18ced",
   "metadata": {},
   "outputs": [],
   "source": [
    "import requests\n",
    "from collections import defaultdict\n",
    "from datetime import datetime\n",
    "\n",
    "\n",
    "class FamagaClient:\n",
    "    def __init__(self, api_key, session_id):\n",
    "        self.base_url = \"https://api.famaga.org\"\n",
    "        self.headers = {\n",
    "            \"Authorization\": f\"Bearer {api_key}\",\n",
    "            \"Cookie\": f\"PHPSESSID={session_id}\"\n",
    "        }\n",
    "\n",
    "    def list_offers_by_deal_id(self, deal_id):\n",
    "        \"\"\"List offers by deal ID\"\"\"\n",
    "        response = requests.get(f\"{self.base_url}/requisition?request={deal_id}\", headers=self.headers)\n",
    "        return response.json()\n",
    "\n",
    "    def parts_selected_at_offer(self, offer_id):\n",
    "        \"\"\"Fetch parts selected at a specific offer\"\"\"\n",
    "        response = requests.get(f\"{self.base_url}/requisition/{offer_id}/products\", headers=self.headers)\n",
    "        return response.json()\n",
    "\n",
    "    def list_offers_by_client_id(self, client_id):\n",
    "        \"\"\"Retrieve offers by client ID\"\"\"\n",
    "        response = requests.get(f\"{self.base_url}/requisition?client={client_id}\", headers=self.headers)\n",
    "        return response.json()\n",
    "\n",
    "    def list_current_offer_details(self, offer_id):\n",
    "        \"\"\"List details of the current offer in a specific format\"\"\"\n",
    "        parts = self.parts_selected_at_offer(offer_id)\n",
    "        formatted_parts = []\n",
    "        for part in parts:\n",
    "            formatted_part = f\"({part['articul']} {part['brand_title']}) margin: {part['margin_ru']}%, sell: {part['price_end']}$ qty. {part['count']}\"\n",
    "            formatted_parts.append(formatted_part)\n",
    "        return \"\\n\".join(formatted_parts)\n",
    "\n",
    "    def find_parts_client_bought_before(self, client_id, current_offer_parts):\n",
    "        \"\"\"Return the parts that a client has bought before\"\"\"\n",
    "        all_offers = self.list_offers_by_client_id(client_id)\n",
    "        past_parts = []\n",
    "        for offer in all_offers.get('content', []):\n",
    "            parts = self.parts_selected_at_offer(offer['request']['id'])\n",
    "            past_parts.extend(parts)\n",
    "\n",
    "        bought_before = []\n",
    "        current_parts_articul = [part['articul'] for part in current_offer_parts]\n",
    "        for part in past_parts:\n",
    "            if part['articul'] in current_parts_articul:\n",
    "                bought_before.append(part)\n",
    "\n",
    "        return bought_before\n",
    "\n",
    "    def get_client_purchase_history_formatted(self, client_id, exluded_deal: int = None):\n",
    "        \"\"\"Generate formatted purchase history for a client\"\"\"\n",
    "        history_data = self.list_offers_by_client_id(client_id)\n",
    "        purchases = defaultdict(list)\n",
    "\n",
    "        for item in history_data.get('content', []):\n",
    "            date_key = datetime.strptime(item['created'], '%Y-%m-%dT%H:%M:%S%z').date()\n",
    "            request_id = int(item['request']['id'])\n",
    "            if exluded_deal is None or request_id != exluded_deal:\n",
    "                parts = self.parts_selected_at_offer(request_id)\n",
    "\n",
    "                for part in parts:\n",
    "                    line = f\"{item['id']} ({part['articul']} {part['brand_title']}) margin: {part['margin_ru']}%, sell: {part['price_end']}$ qty. {part['count']}, request id {part['request_id']}\"\n",
    "                    purchases[date_key].append(line)\n",
    "\n",
    "        # Formatting the result\n",
    "        result = \"[CLIENT PURCHASE HISTORY]\\n**Client purchase history:**\\n\"\n",
    "        for date in sorted(purchases):\n",
    "            result += f\"Date: {date}\\n\"\n",
    "            result += \"\\n\".join(purchases[date]) + \"\\n\\n\"\n",
    "        result += \"[/CLIENT PURCHASE HISTORY]\"\n",
    "        return result"
   ]
  },
  {
   "cell_type": "code",
   "execution_count": 2,
   "id": "7e93311a-9fa5-4a85-96fe-1e47c3b8e5a1",
   "metadata": {},
   "outputs": [],
   "source": [
    "api_key = \"YXBpZmFtYWdhcnU6RHpJVFd1Lk1COUV4LjNmdERsZ01YYlcvb0VFcW9NLw\"\n",
    "session_id = \"085qpt4eflu39a0dg7hjhr5mdu\"\n",
    "famaga = FamagaClient(api_key, session_id)"
   ]
  },
  {
   "cell_type": "code",
   "execution_count": 19,
   "id": "11f1b41e-aefa-4b8c-be2e-6ae386eb7752",
   "metadata": {},
   "outputs": [
    {
     "data": {
      "text/plain": [
       "{'content': [{'id': 359513,\n",
       "   'request': {'id': 476119,\n",
       "    'firm': {'id': 115706,\n",
       "     'title': 'EUROSANAT',\n",
       "     'type': '2',\n",
       "     'conversion': '',\n",
       "     'link': 'index.php?option=com_oscrm&view=firmform&id=115706&Itemid=219'},\n",
       "    'initials': 'AKA',\n",
       "    'brand': {'id': 12766,\n",
       "     'title': 'LOOS International / Bosch Industriekessel',\n",
       "     'conversion': '12.9',\n",
       "     'link': 'index.php?option=com_oscrm&view=brandform&id=12766&Itemid=219'},\n",
       "    'contractor': {'id': 32450,\n",
       "     'title': 'C.P.Biro d.o.o.',\n",
       "     'link': 'index.php?option=com_oscrm&view=contractorform&id=32450&Itemid=216',\n",
       "     'created': '2022-03-14T07:17:23+00:00',\n",
       "     'modified': '2024-03-13T12:56:16+00:00'},\n",
       "    'curator': {'id': 884,\n",
       "     'name': 'Maria Pasca',\n",
       "     'username': 'Maria Pasca',\n",
       "     'email': 'maria.pasca@famaga.de'},\n",
       "    'requestManagers': [[]],\n",
       "    'cost': '21231.26'},\n",
       "   'created': '2024-02-06T09:24:10+00:00',\n",
       "   'lastsend': '2024-02-06T13:02:31+00:00',\n",
       "   'processing_time': '',\n",
       "   'decision': 6,\n",
       "   'link': 'index.php?option=com_oscrm&view=requisition&request_id=476119&Itemid=219',\n",
       "   'target_price': 0,\n",
       "   'target_price_solved': False,\n",
       "   'state': True,\n",
       "   'proform': {'fam': None}}],\n",
       " 'total': 1,\n",
       " 'limit': 20,\n",
       " 'page': 1}"
      ]
     },
     "execution_count": 19,
     "metadata": {},
     "output_type": "execute_result"
    }
   ],
   "source": [
    "resp = famaga.list_offers_by_deal_id(476119)\n",
    "resp"
   ]
  },
  {
   "cell_type": "code",
   "execution_count": null,
   "id": "4960a5b9-8d6a-4670-8760-5c746b070087",
   "metadata": {},
   "outputs": [],
   "source": []
  },
  {
   "cell_type": "code",
   "execution_count": 26,
   "id": "777a6abb-3bbb-4d3e-bb4e-d1211049cecc",
   "metadata": {},
   "outputs": [],
   "source": [
    "from pydantic import BaseModel, HttpUrl, EmailStr\n",
    "from typing import List, Optional\n",
    "from datetime import datetime\n",
    "import json\n",
    "\n",
    "class Firm(BaseModel):\n",
    "    id: int\n",
    "    title: str\n",
    "    type: str\n",
    "    conversion: Optional[str]\n",
    "    link: str\n",
    "\n",
    "class Brand(BaseModel):\n",
    "    id: int\n",
    "    title: str\n",
    "    conversion: Optional[str]\n",
    "    link: str\n",
    "\n",
    "class Contractor(BaseModel):\n",
    "    id: int\n",
    "    title: str\n",
    "    link: str\n",
    "    created: datetime\n",
    "    modified: str\n",
    "\n",
    "class Curator(BaseModel):\n",
    "    id: int\n",
    "    name: str\n",
    "    username: str\n",
    "    email: EmailStr\n",
    "\n",
    "class Request(BaseModel):\n",
    "    id: int\n",
    "    firm: Firm\n",
    "    initials: str\n",
    "    brand: Brand\n",
    "    contractor: Contractor\n",
    "    curator: Curator\n",
    "    requestManagers: List[List]\n",
    "    cost: str\n",
    "\n",
    "class Content(BaseModel):\n",
    "    id: int\n",
    "    request: Request\n",
    "    created: datetime\n",
    "    lastsend: datetime\n",
    "    processing_time: Optional[str]\n",
    "    decision: int\n",
    "    link: str\n",
    "    target_price: int\n",
    "    target_price_solved: bool\n",
    "    state: bool\n",
    "    proform: Optional[dict]\n",
    "\n",
    "class Response(BaseModel):\n",
    "    content: List[Content]\n",
    "    total: int\n",
    "    limit: int\n",
    "    page: int\n"
   ]
  },
  {
   "cell_type": "code",
   "execution_count": 11,
   "id": "a0643179-cd49-4b79-9b65-266dac24dd8c",
   "metadata": {},
   "outputs": [],
   "source": [
    "mr = Response.model_validate(resp)"
   ]
  },
  {
   "cell_type": "code",
   "execution_count": 20,
   "id": "bda82ee0-c71a-4404-90c2-24a748008645",
   "metadata": {},
   "outputs": [
    {
     "data": {
      "text/plain": [
       "115706"
      ]
     },
     "execution_count": 20,
     "metadata": {},
     "output_type": "execute_result"
    }
   ],
   "source": [
    "mr.content[0].request.firm.id"
   ]
  },
  {
   "cell_type": "code",
   "execution_count": 28,
   "id": "5bb51ed8-b323-4996-8d9a-cc381cacbae5",
   "metadata": {},
   "outputs": [],
   "source": [
    "import csv\n",
    "\n",
    "\n",
    "resp = famaga.list_offers_by_deal_id(467721)\n",
    "mr = Response.model_validate(resp)\n",
    "\n",
    "offers_resp = famaga.list_offers_by_client_id(mr.content[0].request.firm.id)"
   ]
  },
  {
   "cell_type": "code",
   "execution_count": 29,
   "id": "ff8df3f1-c5d9-40dd-8531-6ed003771fef",
   "metadata": {},
   "outputs": [
    {
     "name": "stdout",
     "output_type": "stream",
     "text": [
      "CSV file created at offers.csv\n"
     ]
    }
   ],
   "source": [
    "content_list = offers_resp['content']\n",
    "\n",
    "# Specify the CSV file path\n",
    "csv_file_path = 'offers.csv'\n",
    "\n",
    "# Write to CSV file\n",
    "with open(csv_file_path, mode='w', newline='') as file:\n",
    "    writer = csv.writer(file)\n",
    "\n",
    "    # Write the header\n",
    "    header = ['id', 'request_id', 'firm_id', 'firm_title', 'initials', 'brand_id', 'brand_title', 'contractor_id', 'contractor_title', 'curator_name', 'curator_email', 'cost', 'created', 'lastsend', 'processing_time', 'decision', 'link', 'target_price', 'target_price_solved', 'state']\n",
    "    writer.writerow(header)\n",
    "\n",
    "    # Write the data\n",
    "    for item in content_list:\n",
    "        row = [\n",
    "            item['id'],\n",
    "            item['request']['id'],\n",
    "            item['request']['firm']['id'],\n",
    "            item['request']['firm']['title'],\n",
    "            item['request']['initials'],\n",
    "            item['request']['brand']['id'],\n",
    "            item['request']['brand']['title'],\n",
    "            item['request']['contractor']['id'],\n",
    "            item['request']['contractor']['title'],\n",
    "            item['request']['curator']['name'],\n",
    "            item['request']['curator']['email'],\n",
    "            item['request']['cost'],\n",
    "            item['created'],\n",
    "            item['lastsend'],\n",
    "            item['processing_time'],\n",
    "            item['decision'],\n",
    "            item['link'],\n",
    "            item['target_price'],\n",
    "            item['target_price_solved'],\n",
    "            item['state']\n",
    "        ]\n",
    "        writer.writerow(row)\n",
    "\n",
    "print(f\"CSV file created at {csv_file_path}\")"
   ]
  },
  {
   "cell_type": "code",
   "execution_count": null,
   "id": "891bf6b6-4815-4652-a4eb-648910a8239f",
   "metadata": {},
   "outputs": [],
   "source": []
  },
  {
   "cell_type": "code",
   "execution_count": null,
   "id": "092217f7-90ef-48c7-9064-d31a945a4966",
   "metadata": {},
   "outputs": [],
   "source": [
    "mss = {\n",
    "    'Endress+Hauser': ['E+H'],\n",
    "    '': ['sefsef', 'sdfs']\n",
    "}"
   ]
  },
  {
   "cell_type": "code",
   "execution_count": null,
   "id": "881c9b01-c7ae-4138-92d4-8ee80f33b3b4",
   "metadata": {},
   "outputs": [],
   "source": [
    "70234324"
   ]
  }
 ],
 "metadata": {
  "kernelspec": {
   "display_name": "Python 3 (ipykernel)",
   "language": "python",
   "name": "python3"
  },
  "language_info": {
   "codemirror_mode": {
    "name": "ipython",
    "version": 3
   },
   "file_extension": ".py",
   "mimetype": "text/x-python",
   "name": "python",
   "nbconvert_exporter": "python",
   "pygments_lexer": "ipython3",
   "version": "3.12.3"
  }
 },
 "nbformat": 4,
 "nbformat_minor": 5
}
