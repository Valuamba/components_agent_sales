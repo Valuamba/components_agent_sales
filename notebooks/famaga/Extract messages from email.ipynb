{
 "cells": [
  {
   "cell_type": "code",
   "execution_count": 1,
   "id": "5dfb3c55-54e5-4567-8f4b-2ca1b2d96f90",
   "metadata": {},
   "outputs": [
    {
     "data": {
      "text/plain": [
       "['Re Offer №453757 13.11.2023, Contrinex _ FAMAGA Group GmbH _ Co. KG .eml',\n",
       " 'Re ORDER_ Zamowienie Reminder FAMAGA Group GmbH _ Co. KG № KP440822 (5) (2).eml',\n",
       " 'Re Reminder FAMAGA Group GmbH _ Co. KG № KP434876 (6).eml',\n",
       " 'Re Reminder FAMAGA Group GmbH _ Co. KG № KP445605 (1).eml']"
      ]
     },
     "execution_count": 1,
     "metadata": {},
     "output_type": "execute_result"
    }
   ],
   "source": [
    "import os\n",
    "\n",
    "emails_dir = r'C:\\Users\\MGroup\\Downloads\\Автоматизация-20240128T094908Z-001\\Автоматизация'\n",
    "\n",
    "def get_eml_files(directory):\n",
    "    files = os.listdir(directory)\n",
    "    eml_files = [file for file in files if file.endswith('.eml')]\n",
    "    return eml_files\n",
    "\n",
    "eml_files = get_eml_files(emails_dir)\n",
    "eml_files"
   ]
  },
  {
   "cell_type": "code",
   "execution_count": 21,
   "id": "1b560824-0869-493f-9053-9b05e35d93d6",
   "metadata": {},
   "outputs": [],
   "source": []
  },
  {
   "cell_type": "code",
   "execution_count": 76,
   "id": "7b44ffb9-2089-4d1a-85f4-29b07ac224cc",
   "metadata": {},
   "outputs": [],
   "source": [
    "import email\n",
    "from email.policy import default\n",
    "\n",
    "def extract_html_from_eml(file_path):\n",
    "    # Read the .eml file content\n",
    "    with open(file_path, 'rb') as file:\n",
    "        eml_content = file.read()\n",
    "    \n",
    "    # Parse the email content\n",
    "    message = email.message_from_bytes(eml_content, policy=policy.default)\n",
    "    # message = email.message_from_string(eml_content, policy=default)\n",
    "    \n",
    "    # Initialize an empty string to hold the HTML part\n",
    "    html_content = \"\"\n",
    "    \n",
    "    # Check if the email message is multipart\n",
    "    if message.is_multipart():\n",
    "        # Iterate over each part of the email\n",
    "        for part in message.walk():\n",
    "            # Check if the content type is HTML\n",
    "            if part.get_content_type() == 'text/html':\n",
    "                # Get the HTML content and break the loop\n",
    "                html_content = part.get_payload(decode=True).decode(part.get_content_charset())\n",
    "                break\n",
    "    else:\n",
    "        # If the email is not multipart, directly check if it's HTML\n",
    "        if message.get_content_type() == 'text/html':\n",
    "            html_content = message.get_payload(decode=True).decode(message.get_content_charset())\n",
    "    \n",
    "    return html_content\n",
    "\n",
    "# Example usage (Make sure to replace 'path_to_your_eml_file.eml' with the actual file path)\n",
    "file_name = 'Re Reminder FAMAGA Group GmbH _ Co. KG № KP434876 (6).eml'\n",
    "file_path = os.path.join(emails_dir, file_name)\n",
    "html_content = extract_html_from_eml(file_path)\n",
    "# print(html_content)\n"
   ]
  },
  {
   "cell_type": "code",
   "execution_count": null,
   "id": "a0881520-fc56-4090-aa0c-5598cfe53156",
   "metadata": {},
   "outputs": [],
   "source": [
    "html_content"
   ]
  },
  {
   "cell_type": "code",
   "execution_count": 75,
   "id": "390d6620-4b89-4459-9fd8-1304994ce723",
   "metadata": {},
   "outputs": [
    {
     "name": "stderr",
     "output_type": "stream",
     "text": [
      "IOPub data rate exceeded.\n",
      "The Jupyter server will temporarily stop sending output\n",
      "to the client in order to avoid crashing it.\n",
      "To change this limit, set the config variable\n",
      "`--ServerApp.iopub_data_rate_limit`.\n",
      "\n",
      "Current values:\n",
      "ServerApp.iopub_data_rate_limit=1000000.0 (bytes/sec)\n",
      "ServerApp.rate_limit_window=3.0 (secs)\n",
      "\n"
     ]
    }
   ],
   "source": [
    "from bs4 import BeautifulSoup, NavigableString, Tag\n",
    "\n",
    "def find_root_blockquotes(soup):\n",
    "    \"\"\"\n",
    "    Find all blockquote elements that are not nested within another blockquote.\n",
    "    \"\"\"\n",
    "    root_blockquotes = []\n",
    "    for blockquote in soup.find_all(\"blockquote\"):\n",
    "        if not blockquote.find_parent(\"blockquote\"):\n",
    "            root_blockquotes.append(blockquote)\n",
    "    return root_blockquotes\n",
    "\n",
    "def extract_content_and_nested(blockquote, depth=0):\n",
    "    \"\"\"\n",
    "    Extract content and nested blockquotes, handling various tag arrangements.\n",
    "    \"\"\"\n",
    "    contents = []\n",
    "    for element in blockquote.contents:\n",
    "        if isinstance(element, NavigableString):\n",
    "            if element.strip():  # Ignore empty or whitespace strings\n",
    "                contents.append((depth, element.strip()))\n",
    "        elif isinstance(element, Tag):\n",
    "            if element.name == \"blockquote\":\n",
    "                # Recursively process nested blockquotes\n",
    "                contents.extend(extract_content_and_nested(element, depth + 1))\n",
    "                break\n",
    "            else:\n",
    "                # Process non-blockquote tags for text\n",
    "                text = element.get_text(strip=True)\n",
    "                if text:\n",
    "                    contents.append((depth, text))\n",
    "                # Also, look for nested blockquotes within other tags like div\n",
    "                for nested_blockquote in element.find_all(\"blockquote\"):\n",
    "                    contents.extend(extract_content_and_nested(nested_blockquote, depth + 1))\n",
    "    return contents\n",
    "\n",
    "# Parse the HTML content\n",
    "soup = BeautifulSoup(html_content, \"html.parser\")\n",
    "\n",
    "# Find root blockquotes\n",
    "root_blockquotes = find_root_blockquotes(soup)\n",
    "\n",
    "# Extract content and nested blockquotes\n",
    "messages = []\n",
    "for blockquote in root_blockquotes[:1]:\n",
    "    messages.extend(extract_content_and_nested(blockquote))\n",
    "\n",
    "# Print extracted messages\n",
    "for depth, content in messages:\n",
    "    print(f\"Message at depth {depth}: {content}\")\n"
   ]
  },
  {
   "cell_type": "code",
   "execution_count": null,
   "id": "11c42bcf-0a97-4ff3-98ef-96ae0fac3036",
   "metadata": {},
   "outputs": [],
   "source": [
    "messages"
   ]
  },
  {
   "cell_type": "code",
   "execution_count": 39,
   "id": "22cb36fa-cd6f-4713-b65e-b4fb22aae85c",
   "metadata": {},
   "outputs": [
    {
     "data": {
      "text/plain": [
       "13"
      ]
     },
     "execution_count": 39,
     "metadata": {},
     "output_type": "execute_result"
    }
   ],
   "source": [
    "blockquotes = soup.find_all(\"blockquote\")\n",
    "len(blockquotes)"
   ]
  },
  {
   "cell_type": "code",
   "execution_count": 78,
   "id": "b324dd31-c89e-414d-ad9f-ce2b2a075aa2",
   "metadata": {},
   "outputs": [],
   "source": [
    "def extract_messages_from_body(html_content: str):\n",
    "    soup = BeautifulSoup(html_content, \"html.parser\")\n",
    "    messages = []\n",
    "    body = soup.find_all(\"body\")[0]\n",
    "    clone_body = copy.copy(body)\n",
    "    \n",
    "    for nested_blockquote in clone_body.find_all(\"blockquote\"):\n",
    "        nested_blockquote.decompose()\n",
    "    messages.append(clone_body.get_text(strip=True))\n",
    "    blockquotes = soup.find_all(\"blockquote\")\n",
    "\n",
    "    for blockquote in blockquotes:\n",
    "        clone = copy.copy(blockquote)\n",
    "        \n",
    "        for nested_blockquote in clone.find_all(\"blockquote\"):\n",
    "            nested_blockquote.decompose()\n",
    "        \n",
    "        messages.append(clone.get_text(strip=True))\n",
    "\n",
    "    return messages\n"
   ]
  },
  {
   "cell_type": "code",
   "execution_count": 79,
   "id": "6f03bc65-552b-4741-9087-2ff01278c3d2",
   "metadata": {},
   "outputs": [],
   "source": [
    "messages = extract_messages_from_body(html_content)"
   ]
  },
  {
   "cell_type": "code",
   "execution_count": 85,
   "id": "6e500662-b76f-4531-926d-c513dcc7b475",
   "metadata": {},
   "outputs": [
    {
     "name": "stdout",
     "output_type": "stream",
     "text": [
      "Message: 523\n",
      "\n",
      "\n",
      "Message: 256\n",
      "\n",
      "\n",
      "Message: 491\n",
      "\n",
      "\n",
      "Message: 111\n",
      "\n",
      "\n",
      "Message: 578\n",
      "\n",
      "\n",
      "Message: 60\n",
      "\n",
      "\n",
      "Message: 560\n",
      "\n",
      "\n",
      "Message: 554\n",
      "\n",
      "\n",
      "Message: 600\n",
      "\n",
      "\n",
      "Message: 1680\n",
      "\n",
      "\n",
      "Message: 4543\n",
      "\n",
      "\n",
      "Message: 1556\n",
      "\n",
      "\n"
     ]
    }
   ],
   "source": [
    "for msg in messages:\n",
    "    if msg and not msg.isspace():\n",
    "        print(f'Message: {len(msg)}\\n\\n')"
   ]
  },
  {
   "cell_type": "code",
   "execution_count": null,
   "id": "51f0e0b8-6e30-437b-b8e6-73f4542d8e6a",
   "metadata": {},
   "outputs": [],
   "source": [
    "email_parsed_messages_consistency = [\n",
    " {\n",
    "    \"start\": \"Good\",\n",
    "     \"end\": \"https://famaga.de/\"\n",
    " },\n",
    " {\n",
    "    \"start\": \"Dear\",\n",
    "    \"end\": \"Amir\"\n",
    " }\n",
    "]\n",
    "\n",
    "11"
   ]
  },
  {
   "cell_type": "code",
   "execution_count": 64,
   "id": "d7da3341-2c6c-4427-aeeb-80f37d710f90",
   "metadata": {},
   "outputs": [],
   "source": [
    "import hashlib\n",
    "\n",
    "def normalize_content(content: str) -> str:\n",
    "    \"\"\"\n",
    "    Normalize the content for consistent hashing.\n",
    "    This function can be expanded based on your normalization needs.\n",
    "    \"\"\"\n",
    "    # Example normalization: strip leading/trailing whitespace and convert to lowercase.\n",
    "    return content.strip().lower()\n",
    "\n",
    "def content_hash(content: str) -> str:\n",
    "    \"\"\"\n",
    "    Convert the normalized content to a SHA-256 hash.\n",
    "    \"\"\"\n",
    "    normalized_content = normalize_content(content)\n",
    "    # Encode the normalized content to a byte format as required by hashlib\n",
    "    content_bytes = normalized_content.encode()\n",
    "    # Generate SHA-256 hash\n",
    "    hash_obj = hashlib.sha256(content_bytes)\n",
    "    # Convert the hash object to a hexadecimal string\n",
    "    hash_hex = hash_obj.hexdigest()\n",
    "    return hash_hex"
   ]
  },
  {
   "cell_type": "code",
   "execution_count": 63,
   "id": "b9a681fd-0e44-44b4-8d8a-29ce4ca938fe",
   "metadata": {},
   "outputs": [
    {
     "data": {
      "text/plain": [
       "'8218a337c20fd774501ecfb94cb77184d206a6cc324c39b535ba41cefc6043be'"
      ]
     },
     "execution_count": 63,
     "metadata": {},
     "output_type": "execute_result"
    }
   ],
   "source": [
    "content_hash(messages[0])"
   ]
  },
  {
   "cell_type": "code",
   "execution_count": 68,
   "id": "c2b6f242-89d2-4688-bbe5-e0a96513e7f7",
   "metadata": {},
   "outputs": [
    {
     "data": {
      "text/plain": [
       "['Very dear Mr. Janura, attached is an updated proforma with the\\n      delivery price added. Please send me the payment confirmation\\n      after it will be made and we will send your order as fast as\\n      possible.Wish you a nice day!-- \\nMit freundlichen Grüßen / Best regards / Z wyrazami szacunku,\\nSawwa Wronskiy\\nVertrieb / Sales Manager\\nFAMAGA Group OHG\\n\\n+48226022408https://famaga.de/',\n",
       " 'Hello\\n\\nWe decide to deliver our order using your transport.\\nPlease send me a pro-forma invoicePozdrawiam\\n              / Best regardsAdam\\n          JanuraKom.\\n                  / Mobile+48 537-797-300www.landoia.pl\"LANDOIA\"\\n              Kapusta Łukasz26-613\\n              Radom,ul.\\n              Marii Gajl 1NIP\\n              7962440697W dniu 2023-11-22 08:57, Sawwa Vronskiy\\n        napisał(a):',\n",
       " 'Good day,Very dear Mr. Janura, sure, we have calculated shipping\\n              and it made by us is will be 159.24 euro. If you would\\n              like us to made it I will prepare you an updated proforma\\n              and after you pay the shipping amount we will proceed with\\n              shipping-- \\nMit freundlichen Grüßen / Best regards / Z wyrazami szacunku,\\nSawwa Wronskiy\\nVertrieb / Sales Manager\\nFAMAGA Group OHG\\n\\n+48226022408https://famaga.de/',\n",
       " 'Good morning\\n\\nDear Sawwa Vronskiy.\\nThank you for the nice message that our order is ready for collection.\\nWe talked earlier that you will provide the cost of transporting the goods by your company once you have the data. \\nIf it is possible, please provide such cost. Then we will analyze what type of transport will be more beneficial for us.\\n\\nRegards\\nAdam--Pozdrawiam\\n                      / Best regardsAdam\\n                  JanuraKom.\\n                          / Mobile+48 537-797-300www.landoia.pl\"LANDOIA\"\\n                      Kapusta Łukasz26-613 Radom,ul. Marii Gajl\\n                      1NIP 7962440697W dniu 2023-11-20 19:04, Sawwa\\n                Vronskiy napisał(a):',\n",
       " 'Good day,Very dear Mr. Janura,we have received your order!Goods\\n                      are ready for collectionEUR-PalletWeight: 37 kgDimensions: 120x83x55 cmAddress\\n                      for Pickup:FAMAGA Group GmbH & Co. KGHinter den Kirschkaten 8323560, LübeckGermanyContact\\n                      Person:Irina Piltschikirina.p@famaga.dePlease, put in CClogistics@famaga.de+49 (0) 451 98 92 06 81Please\\n                      send me the label after it will be prepared to\\n                      inform our logistics.Wish\\n                      you a nice day!-- \\nMit freundlichen Grüßen / Best regards / Z wyrazami szacunku,\\nSawwa Wronskiy\\nVertrieb / Sales Manager\\nFAMAGA Group OHG\\n\\n+48226022408https://famaga.de/-- \\nMit freundlichen Grüßen / Best regards / Z wyrazami szacunku,\\nSawwa Wronskiy\\nVertrieb / Sales Manager\\nFAMAGA Group OHG\\n\\n+48226022408https://famaga.de/',\n",
       " 'Good day,Very dear Mr. Janura, thanks you for your\\n                        order! Proforma invoice for payment in archive.\\n                        Please send me a payment confirmation after it\\n                        will be made to start processing your order as\\n                        fast as possible.Wish you a nice day!Mit freundlichen\\n                            Grüßen / Best regards / Z wyrazami szacunku,Sawwa WronskiyVertrieb / Sales\\n                          ManagerFAMAGA Group OHG+48226022408https://famaga.de/',\n",
       " 'Hello\\nSo as not to waste precious time.We order devices from offer no. 440822 of friday, 29 september 2023.\\n\\nIf possible, please provide an additional discount on your purchase.Please confirm acceptance of our order.In the meantime, once you know what the transport cost will be, we will discuss how to deliver the parcel to us or whether we will collect it ourselvesPozdrawiam\\n                                / Best regardsAdam JanuraKom.\\n                                    / Mobile+48 537-797-300www.landoia.pl\"LANDOIA\"\\n                                Kapusta Łukasz26-613 Radom,ul. Marii Gajl\\n                                1NIP 7962440697W dniu 2023-11-03 11:18,\\n                          Sawwa Wronskiy napisał(a):',\n",
       " 'Good day,Very dear Mr. Janura, I am waiting for\\n                                a dimmensions of package from a\\n                                manufacturer and then I will inform you,\\n                                what shipping price will beMit freundlichen\\n                                    Grüßen / Best regards / Z wyrazami\\n                                    szacunku,Sawwa WronskiyVertrieb / Sales\\n                                  ManagerFAMAGA Group OHG+48226022408https://famaga.de/',\n",
       " '--Good morning\\n\\nI am waiting for information about transport costs.\\nThis determines whether we will order with delivery or collect ourselves.\\nI am asking for a quick answerPozdrawiam\\n                                        / Best regardsAdam JanuraKom.\\n                                            / Mobile+48\\n                                          537-797-300www.landoia.pl\"LANDOIA\"\\n                                        Kapusta Łukasz26-613 Radom,ul. Marii Gajl\\n                                        1NIP 7962440697-------- Wiadomość oryginalna\\n                                  --------Temat:Re: Reminder FAMAGA Group GmbH\\n                                        & Co. KG № KP440822Data:2023-11-02 07:41Od:magazyn@landoia.plDo:Sawwa Wronskiy<ws@famaga.de>Hello.\\nThank you for confirming the offer. Please provide transport costs.--Pozdrawiam\\n                                            / Best regardsAdam JanuraKom.\\n                                                / Mobile+48\\n                                              537-797-300www.landoia.pl\"LANDOIA\"\\n                                            Kapusta Łukasz26-613 Radom,ul. Marii Gajl\\n                                            1NIP 7962440697W dniu\\n                                      2023-11-01 13:13, Sawwa Wronskiy\\n                                      napisał(a):',\n",
       " 'Good day,Very dear Mr. Janura, we\\n                                            have received the\\n                                            confirmation. Our offer is\\n                                            still valid. I will send you\\n                                            a proforma invoice for\\n                                            payment. May I just ask you-\\n                                            can you please tell me,\\n                                            would you like to collect\\n                                            your order from our\\n                                            warehouse in Germany by your\\n                                            courier or you would like us\\n                                            to add transport costs? In\\n                                            the second case, may I ask\\n                                            you the address for\\n                                            shipping?Thanks you for your reply\\n                                            in advance!Mit freundlichen\\n                                                Grüßen / Best regards /\\n                                                Z wyrazami szacunku,Sawwa WronskiyVertrieb / Sales\\n                                              ManagerFAMAGA Group OHG+48226022408https://famaga.de/',\n",
       " 'HelloDue to the fact that our client has accepted our offer for the device which includes your Tsubaki cable guides,\\n please confirm that the offer is valid. An additional discount from you will be appreciated. \\nA quick response will allow us to place an order with your company for the offered items.Pozdrawiam\\n                                                    / Best regardsAdam JanuraKom.\\n                                                        / Mobile+48\\n                                                      537-797-300www.landoia.pl\"LANDOIA\"\\n                                                    Kapusta Łukasz26-613 Radom,ul. Marii Gajl\\n                                                    1NIP 7962440697W\\n                                              dniu 2023-10-10 21:27,ws@famaga.denapisał(a):',\n",
       " 'Dear Sir/ Madam,I would like to\\n                                                  follow up on\\n                                                  quotation, which was\\n                                                  sent in response to\\n                                                  your inquiry.Our company would be\\n                                                  glad to provide any\\n                                                  additional information\\n                                                  and make every effort\\n                                                  to fulfill your\\n                                                  requirements and\\n                                                  receive an order!Please take into\\n                                                  consideration, that\\n                                                  our portfolio not\\n                                                  limited to this brand\\n                                                  only.One of our\\n                                                  distinctive features\\n                                                  is close cooperation\\n                                                  with various\\n                                                  manufacturers from\\n                                                  Europe, United States,\\n                                                  Japan and other\\n                                                  countries around the\\n                                                  world.Famaga Group OHG\\n                                                  works directly with\\n                                                  them, avoiding a long\\n                                                  chain of agents, which\\n                                                  allows us to provide\\n                                                  the best prices to our\\n                                                  customers.If you require any\\n                                                  more information,\\n                                                  please do not hesitate\\n                                                  to ask or call us.We look forward to\\n                                                  receiving your\\n                                                  valuable feedback!',\n",
       " 'Offer-Nr.:440822Customer\\n                                                          request #:Customer\\n                                                          #:113150Date:Friday, 29\\n                                                          September 2023Inquiry #:Contact\\n                                                          person:Sawwa\\n                                                          WronskiyOffer\\n                                                          valid till29.10.2023Inquiry\\n                                                          date22.09.2023E-mail:ws@famaga.deWe would like\\n                                                        to thank you for\\n                                                        your inquiry and\\n                                                        we are pleased\\n                                                        to provide you\\n                                                        our quotation as\\n                                                        follows. Please\\n                                                        feel free to\\n                                                        contact us if\\n                                                        you need any\\n                                                        further\\n                                                        information.Pos.TitleDescription and articleQty.PriceSumDelivery time1EnergieketteKettenserie:\\n                                                          BASIC-LINE -\\n                                                          UA1665Kettenbezeichnung: 1665.030.200.300-4655Werkstoff:\\n                                                          KunststoffTSUBAKI\\n                                                          KABELSCHLEPP1665.030.200.300-46551pcs€599,76€599,762 - 3 weeks2EnergieketteKettenserie:\\n                                                          BASIC-LINE -\\n                                                          UA1665Kettenbezeichnung: 1665.030.125.140-4189,5Werkstoff:\\n                                                          KunststoffTSUBAKI\\n                                                          KABELSCHLEPP1665.030.125.140-4189,51pcs€478,37€478,372 - 3 weeksGoods\\n                                                          valueTrans.NettoTotal\\n                                                          payment€1.078,13€0,00€1.078,13€0,00€1.078,13Delivery\\n                                                          termsEXW\\n                                                          Germany, 23560\\n                                                          LuebeckPayment\\n                                                          conditionsexcl.\\n                                                          Packing and\\n                                                          shippingPayment\\n                                                          termsAdvance\\n                                                          paymentValid till29.10.2023Please be\\n                                                          kindly\\n                                                          informed about\\n                                                          30 Euro fee\\n                                                          for orders\\n                                                          under 150\\n                                                          Euro.Our general\\n                                                          terms and\\n                                                          conditions of\\n                                                          delivery shall\\n                                                          apply. The\\n                                                          terms can be\\n                                                          found on the\\n                                                          internet underhttps://famaga.de/imperssumor obtained\\n                                                          from us.We hope our\\n                                                          offer turned\\n                                                          out to be\\n                                                          profitable for\\n                                                          you and we\\n                                                          will be glad\\n                                                          to see you\\n                                                          among the\\n                                                          regular\\n                                                          customers of\\n                                                          our companyYours\\n                                                        sincerelyFAMAGA Group\\n                                                        GmbH & Co.\\n                                                        KGSawwa Wronskiy',\n",
       " 'WitamZAPYTANIE\\n                                                        ODNOŚNIE\\n                                                        DOSTĘPNOŚCI N/W\\n                                                        ARTYKUŁÓW- Prowadnik\\n                                                        kabli--Cable carrier\\xa0 ( prowadnik kabla\\n                                                          )1665.030.200.3000-4655\\xa0 TSO_0\\n                                                          FA_MATsubaki1sztEnergy chain\\xa0 (prowadnik kabla )1665.030.125.140-4189.5\\xa0\\xa0 TS0_0\\n                                                          FA_MATsubaki1sztJęśli\\n                                                          możecie\\n                                                          dostarczyć\\n                                                          proszę o\\n                                                          ofertęPozdrawiam\\n                                                          / Best regardsAdam JanuraKom.\\n                                                          / Mobile+48\\n                                                          537-797-300www.landoia.pl\"LANDOIA\"\\n                                                          Kapusta Łukasz26-613 Radom,ul. Marii Gajl\\n                                                          1NIP 7962440697']"
      ]
     },
     "execution_count": 68,
     "metadata": {},
     "output_type": "execute_result"
    }
   ],
   "source": [
    "messages"
   ]
  },
  {
   "cell_type": "code",
   "execution_count": null,
   "id": "bf070b0d-8928-4e43-944a-f959e7d3ed8d",
   "metadata": {},
   "outputs": [],
   "source": [
    "import re\n",
    "\n",
    "\n",
    "for m in messages:\n",
    "    print(re.sub(r'\\s+', ' ', m).strip())\n",
    "    print('\\n\\n')"
   ]
  },
  {
   "cell_type": "code",
   "execution_count": 44,
   "id": "d65486cb-28c4-4f2f-bfdc-fdc97d2ed0be",
   "metadata": {},
   "outputs": [
    {
     "name": "stdout",
     "output_type": "stream",
     "text": [
      "Very dear Mr. Janura, attached is an updated proforma with the\n",
      "      delivery price added. Please send me the payment confirmation\n",
      "      after it will be made and we will send your order as fast as\n",
      "      possible.Wish you a nice day!-- \n",
      "Mit freundlichen Grüßen / Best regards / Z wyrazami szacunku,\n",
      "Sawwa Wronskiy\n",
      "Vertrieb / Sales Manager\n",
      "FAMAGA Group OHG\n",
      "\n",
      "+48226022408https://famaga.de/\n",
      "\n",
      "\n",
      "-----------------------------------------------------------------\n",
      "\n",
      "\n"
     ]
    }
   ],
   "source": [
    "body = soup.find_all(\"body\")[0]\n",
    "\n",
    "for nested_blockquote in body.find_all(\"blockquote\"):\n",
    "    nested_blockquote.decompose()\n",
    "\n",
    "print(body.get_text(strip=True))\n",
    "print('\\n\\n-----------------------------------------------------------------\\n\\n')"
   ]
  },
  {
   "cell_type": "code",
   "execution_count": null,
   "id": "41337592-21c2-41b8-88b4-06dc147b3f78",
   "metadata": {},
   "outputs": [],
   "source": [
    "for blockquote in blockquotes:\n",
    "    # Clone the blockquote to avoid modifying the original\n",
    "    clone = copy.copy(blockquote)\n",
    "    \n",
    "    # Remove any nested blockquote elements from the clone\n",
    "    for nested_blockquote in clone.find_all(\"blockquote\"):\n",
    "        nested_blockquote.decompose()\n",
    "    \n",
    "    # Extract and print the content of the blockquote without the nested ones\n",
    "    print(clone.get_text(strip=True))\n",
    "    print('\\n\\n-----------------------------------------------------------------\\n\\n')"
   ]
  },
  {
   "cell_type": "code",
   "execution_count": null,
   "id": "e4e3ad83-2eb7-4a0b-9051-3db65d59781a",
   "metadata": {},
   "outputs": [],
   "source": [
    "html_content"
   ]
  },
  {
   "cell_type": "code",
   "execution_count": 25,
   "id": "72484b0e-e42e-4ca0-a3dd-4ca3d5b5be86",
   "metadata": {},
   "outputs": [],
   "source": [
    "soup = BeautifulSoup(html_content, \"html.parser\")"
   ]
  },
  {
   "cell_type": "code",
   "execution_count": 28,
   "id": "dea39b9e-0060-48e6-aa1e-b19594f5ec2f",
   "metadata": {},
   "outputs": [],
   "source": [
    "root_blockquotes = []\n",
    "for blockquote in soup.find_all(\"blockquote\"):\n",
    "    if not blockquote.find_parent(\"blockquote\"):\n",
    "        root_blockquotes.append(blockquote)\n",
    "\n",
    "len(root_blockquotes)\n",
    "\n",
    "root_blockquote = root_blockquotes[0]"
   ]
  },
  {
   "cell_type": "code",
   "execution_count": 32,
   "id": "892643a9-30bd-4d1b-a8d6-e4c8cd4d0a93",
   "metadata": {},
   "outputs": [
    {
     "data": {
      "text/plain": [
       "True"
      ]
     },
     "execution_count": 32,
     "metadata": {},
     "output_type": "execute_result"
    }
   ],
   "source": [
    "root_blockquote.contents[0]\n",
    "\n",
    "isinstance(root_blockquote.contents[0], NavigableString)"
   ]
  },
  {
   "cell_type": "code",
   "execution_count": null,
   "id": "55aec401-195b-452d-88c4-f20035efa7ea",
   "metadata": {},
   "outputs": [],
   "source": [
    " elif isinstance(element, Tag):\n",
    "            if element.name == \"blockquote\":\n",
    "                # Recursively process nested blockquotes\n",
    "                contents.extend(extract_content_and_nested(element, depth + 1))\n",
    "            else:\n",
    "                # Process non-blockquote tags for text\n",
    "                text = element.get_text(strip=True)\n",
    "                if text:\n",
    "                    contents.append((depth, text))\n",
    "                # Also, look for nested blockquotes within other tags like div\n",
    "                for nested_blockquote in element.find_all(\"blockquote\"):\n",
    "                    contents.extend(extract_content_and_nested(nested_blockquote, depth + 1))"
   ]
  },
  {
   "cell_type": "code",
   "execution_count": 16,
   "id": "007095b0-7a1f-4da9-9a0d-796f8e081198",
   "metadata": {},
   "outputs": [],
   "source": [
    "from bs4 import BeautifulSoup, NavigableString, Tag\n",
    "import copy\n",
    "\n",
    "\n",
    "def extract_content_and_nested_blockquotes(blockquote, depth=0):\n",
    "    \"\"\"\n",
    "    Extracts content from a blockquote, saves and removes nested blockquotes,\n",
    "    and then processes them recursively.\n",
    "    \"\"\"\n",
    "    # Step 2: Save nested blockquotes and remove them from the parent\n",
    "    nested_blockquotes = blockquote.find_all(\"blockquote\", recursive=False)\n",
    "    for nested in nested_blockquotes:\n",
    "        nested.extract()  # This removes the nested blockquote from the parent\n",
    "\n",
    "    # Step 3: Get content from the parent blockquote\n",
    "    # Here, we're considering any text outside of the nested blockquotes as the parent's content\n",
    "    content = blockquote.get_text(strip=True)\n",
    "    messages = [(depth, content)] if content else []\n",
    "\n",
    "    # Step 4: Recursively do the same for each child blockquote\n",
    "    for nested in nested_blockquotes:\n",
    "        messages += extract_content_and_nested_blockquotes(nested, depth+1)\n",
    "\n",
    "    return messages\n",
    "\n",
    "\n",
    "soup = BeautifulSoup(html_content, \"html.parser\")\n",
    "\n",
    "# Step 1: Get blockquote (starting with the root blockquotes)\n",
    "root_blockquotes = soup.find_all(\"blockquote\", recursive=False)\n",
    "\n",
    "# Extract messages and their nesting levels from each root blockquote\n",
    "messages = []\n",
    "for blockquote in root_blockquotes:\n",
    "    messages += extract_content_and_nested_blockquotes(blockquote)\n",
    "\n",
    "# Print extracted messages\n",
    "for depth, message in messages:\n",
    "    print(f\"Depth: {depth}, Message: {message}\")"
   ]
  },
  {
   "cell_type": "code",
   "execution_count": 20,
   "id": "495c0394-2808-48e5-9587-843ff1081b41",
   "metadata": {},
   "outputs": [
    {
     "data": {
      "text/plain": [
       "[]"
      ]
     },
     "execution_count": 20,
     "metadata": {},
     "output_type": "execute_result"
    }
   ],
   "source": [
    "root_blockquotes\n"
   ]
  },
  {
   "cell_type": "code",
   "execution_count": null,
   "id": "1a8db6ad-bedd-44bd-a4ad-f5c521b66bc4",
   "metadata": {},
   "outputs": [],
   "source": [
    "html_content"
   ]
  },
  {
   "cell_type": "code",
   "execution_count": null,
   "id": "54b0c461-03c3-4ae5-aebe-78fbe431d7da",
   "metadata": {},
   "outputs": [],
   "source": [
    "from bs4 import BeautifulSoup\n",
    "\n",
    "\n",
    "def strip_tags_correctly(soup):\n",
    "    \"\"\"\n",
    "    Recursively remove text from a BeautifulSoup tag structure\n",
    "    while keeping the tags themselves.\n",
    "    \"\"\"\n",
    "    if soup.string:\n",
    "        soup.string.replace_with(\"\")\n",
    "    for tag in soup.find_all(True):\n",
    "        strip_tags_correctly(tag)\n",
    "    return soup\n",
    "\n",
    "\n",
    "# Parse the HTML\n",
    "soup = BeautifulSoup(html_content, \"html.parser\")\n",
    "\n",
    "# Strip content while keeping the structure\n",
    "stripped_soup = strip_tags_correctly(soup)\n",
    "\n",
    "print(stripped_soup.prettify())"
   ]
  },
  {
   "cell_type": "code",
   "execution_count": null,
   "id": "76c0a134-3d37-4a18-a7db-47fb1ae59cc5",
   "metadata": {},
   "outputs": [],
   "source": [
    "body\n"
   ]
  },
  {
   "cell_type": "code",
   "execution_count": null,
   "id": "f49e7b0c-2c70-4c02-85de-3aec5b181847",
   "metadata": {},
   "outputs": [],
   "source": []
  }
 ],
 "metadata": {
  "kernelspec": {
   "display_name": "venv",
   "language": "python",
   "name": "venv"
  },
  "language_info": {
   "codemirror_mode": {
    "name": "ipython",
    "version": 3
   },
   "file_extension": ".py",
   "mimetype": "text/x-python",
   "name": "python",
   "nbconvert_exporter": "python",
   "pygments_lexer": "ipython3",
   "version": "3.12.2"
  }
 },
 "nbformat": 4,
 "nbformat_minor": 5
}
