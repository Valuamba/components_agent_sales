{
 "cells": [
  {
   "cell_type": "code",
   "execution_count": 303,
   "id": "d46bd67c-dd66-46ca-a7f3-281918602e5a",
   "metadata": {},
   "outputs": [],
   "source": [
    "with open('./dataset/worksheet.yml', 'r') as f:\n",
    "    yml_schema = f.read()"
   ]
  },
  {
   "cell_type": "code",
   "execution_count": 418,
   "id": "f25f21d4-aa4e-43c3-95d0-6e2ca89650f0",
   "metadata": {},
   "outputs": [],
   "source": [
    "import yaml\n",
    "import json\n",
    "\n",
    "\n",
    "def build_schema(yaml_content):\n",
    "    parsed_yaml = yaml.safe_load(yaml_content)\n",
    "    subjects_schema = {}\n",
    "\n",
    "    for subject, content in parsed_yaml['subjects'].items():\n",
    "        schema = {}\n",
    "        for field in content['fields']:\n",
    "            field_schema = {\n",
    "                \"type\": field['schema']['type']\n",
    "            }\n",
    "            if 'enum' in field['schema']:\n",
    "                field_schema['enum'] = field['schema']['enum']\n",
    "            if 'format' in field['schema']:\n",
    "                field_schema['format'] = field['schema']['format']\n",
    "            \n",
    "            schema[field['name']] = field_schema\n",
    "        \n",
    "        subjects_schema[subject] = schema\n",
    "\n",
    "    return subjects_schema\n",
    "\n",
    "\n",
    "\n",
    "def build_schema_prompt(yaml_content, subject: str = None):\n",
    "    parsed_yaml = yaml.safe_load(yaml_content)\n",
    "    instructions = []\n",
    "\n",
    "    subjects = parsed_yaml['subjects']\n",
    "\n",
    "    if subject:\n",
    "        subjects = {subject: subjects[subject]} if subject in subjects else {}\n",
    "\n",
    "    for subject_name, content in subjects.items():\n",
    "        subject_description = f\"{subject_name}: {content['description']}\"\n",
    "        instructions.append(subject_description)\n",
    "        \n",
    "        for field in content['fields']:\n",
    "            field_description = f\"  - {field['name']}: {field['schema']['type']}\"\n",
    "            if 'format' in field['schema']:\n",
    "                field_description += f\" ({field['schema']['format']} format)\"\n",
    "            instructions.append(field_description)\n",
    "            \n",
    "            field_metadata = f\"    description: {field['description']}\"\n",
    "            instructions.append(field_metadata)\n",
    "            \n",
    "            if 'enum' in field['schema']:\n",
    "                possible_values = f\"    possible values: {', '.join(field['schema']['enum'])}\"\n",
    "                instructions.append(possible_values)\n",
    "\n",
    "    return \"\\n\".join(instructions)\n",
    "  # To get field value read whole conversation and fill the required field with values.\n",
    "  #   !Important. You can build final field value from different messages, because candidate could answer iteratively.\n",
    "\n",
    "    # Please fill incomoplete field for latest fields or field that mentioned at conversation that have only part of value and there is needed to ask addition details to fill it full. \n",
    "\n",
    "\n",
    "\n",
    "def define_worksheet_fields(subject, subject_fields: dict, conversation_history):\n",
    "    subject_str = f'{subject['name']}: {subject['description']}'\n",
    "    fields_str = '\\n'.join(build_prompt_from_subject_fields(subject_fields))\n",
    "\n",
    "    conversation_history_str = '\\n'.join([f\"{message['from']}: {message['text']}\" for message in conversation_history])\n",
    "\n",
    "    prompt = f\"\"\"\n",
    "Please find entities at speech of Latin America candidate on security guy position.\n",
    "\n",
    "Here is possible fields:\n",
    "{subject_str}\n",
    "{fields_str}\n",
    "\n",
    "Here is conversation:\n",
    "{conversation_history_str}\n",
    "\n",
    "When analyzing the conversation, follow these guidelines:\n",
    "\n",
    "\t1.\tTrack which fields have been asked about in the conversation.\n",
    "\t2.\tCollect and compile all relevant field information, even if it spans multiple steps.\n",
    "\t3.\tFinalize the field only when all required details have been provided.\n",
    "\t4.\tOnly include incomplete field errors for fields that have been asked about but not fully completed.\n",
    "\t5.\tDo not include errors for fields that have not yet been asked.\n",
    "\n",
    "incomplete_field_error:\n",
    "    field_name: <field name>\n",
    "    current_value: <current field value>\n",
    "    required_details: <required details>\n",
    "\n",
    "    \n",
    "Please put result info json format, like this ```json```.\n",
    "\"\"\"\n",
    "    # print(prompt)\n",
    "    \n",
    "    response = get_gpt(prompt, model='gpt-4o', temperature=0)\n",
    "\n",
    "    return select_json_block(response)\n",
    "\n",
    "\n",
    "def build_prompt_from_subject_fields(fields):\n",
    "    instructions = []\n",
    "        \n",
    "    for field in fields:\n",
    "        field_description = f\"  - {field['name']}: {field['schema']['type']}\"\n",
    "        if 'format' in field['schema']:\n",
    "            field_description += f\" ({field['schema']['format']} format)\"\n",
    "        instructions.append(field_description)\n",
    "            \n",
    "        field_metadata = f\"    description: {field['description']}\"\n",
    "        instructions.append(field_metadata)\n",
    "            \n",
    "        if 'enum' in field['schema']:\n",
    "            possible_values = f\"    possible values: {', '.join(field['schema']['enum'])}\"\n",
    "            instructions.append(possible_values)\n",
    "    return instructions"
   ]
  },
  {
   "cell_type": "code",
   "execution_count": 304,
   "id": "c23815f8-b903-4b53-8021-84d2af568dcb",
   "metadata": {},
   "outputs": [],
   "source": [
    "parsed_yaml = yaml.safe_load(yml_schema)"
   ]
  },
  {
   "cell_type": "code",
   "execution_count": 401,
   "id": "d33a32a0-2a56-46b2-a728-c978695f0069",
   "metadata": {},
   "outputs": [],
   "source": [
    "subject_name = 'personal_info'\n",
    "\n",
    "subject = parsed_yaml['subjects'][subject_name]\n",
    "\n",
    "subject_details = {\n",
    "    'name': subject_name,\n",
    "    'description': subject['description']\n",
    "}"
   ]
  },
  {
   "cell_type": "code",
   "execution_count": null,
   "id": "0ea6216e-4291-47a7-bc69-9ef27545219c",
   "metadata": {},
   "outputs": [],
   "source": [
    "conversation_history = [\n",
    "    {\n",
    "        'from': 'Recruiter',\n",
    "        'text': 'Please answer what your first name'\n",
    "    },\n",
    "    {\n",
    "        'from': 'Security Guard',\n",
    "        'text': 'My name is Jaez'\n",
    "    },\n",
    "    {\n",
    "        'from': 'Recruiter',\n",
    "        'text': 'Alright! Please say your birth date.'\n",
    "    },\n",
    "    {\n",
    "        'from': 'Security Guard',\n",
    "        'text': 'September 12'\n",
    "    },\n",
    "    # {\n",
    "    #     'from': 'Recruiter',\n",
    "    #     'text': 'Please say the year?'\n",
    "    # },\n",
    "    # {\n",
    "    #     'from': 'Security Guard',\n",
    "    #     'text': 'I was born at 1990'\n",
    "    # }\n",
    "]\n",
    "\n",
    "worsheet_result = define_worksheet_fields(subject_details, subject['fields'], conversation_history)"
   ]
  },
  {
   "cell_type": "code",
   "execution_count": 362,
   "id": "8af43b1a-3eb4-431c-b25b-eff7ddab39f0",
   "metadata": {},
   "outputs": [],
   "source": [
    "def clarify_field_details(incomplete_field_error):\n",
    "    field_error_str = f'field: {incomplete_field_error['field_name']}\\ncurrent value: {incomplete_field_error['current_value']}\\nrequired details: {incomplete_field_error['required_details']}'\n",
    "    \n",
    "    response = get_gpt(f\"\"\"\n",
    "You are recruiter. Ensure the accurate and complete collection of candidate information by reasking questions \n",
    "and clarifying details to complete the worksheet field information.\n",
    "\n",
    "**Instructions:**\n",
    "\n",
    "1. **Identify Incomplete Fields:**\n",
    "   - Review the provided list of fields that have incomplete or missing details.\n",
    "\n",
    "2. **Addressing Incomplete Information:**\n",
    "   - For each field with incomplete information, identify the missing details.\n",
    "   - Politely ask the candidate to provide the missing information to complete the field.\n",
    "\n",
    "3. **Sample Prompt Structure:**\n",
    "   - Use a polite and clear approach to reask for the missing details.\n",
    "   - Ensure the candidate understands what specific information is needed.\n",
    "\n",
    "4. **Handling Specific Fields:**\n",
    "   - **Field Name:** Birth Date\n",
    "     - **Current Value:** September 12\n",
    "     - **Required Details:** Year of birth\n",
    "     - **Clarification Prompt:** \"Could you please provide the year of your birth to complete your birth date?\"\n",
    "\n",
    "5. **General Tips:**\n",
    "   - Be patient and understanding if the candidate is unsure or needs time to find the information.\n",
    "   - Confirm with the candidate once the information is provided to ensure accuracy.\n",
    "\n",
    "Please ask for correction by the following field:\n",
    "\n",
    "{field_error_str}\n",
    "\n",
    "Put the response into ```json``` with schema:\n",
    "\n",
    "```\n",
    "{{\n",
    "    \"text\": string // Text message\n",
    "}}\n",
    "    \"\"\")\n",
    "    return select_json_block(response)"
   ]
  },
  {
   "cell_type": "code",
   "execution_count": 400,
   "id": "c84dbbca-f959-42c7-af17-75b1b1359ab8",
   "metadata": {},
   "outputs": [
    {
     "data": {
      "text/plain": [
       "{'personal_info': {'first_names': 'Jaez'},\n",
       " 'incomplete_field_error': [{'field_name': 'birth_date',\n",
       "   'current_value': 'September 12',\n",
       "   'required_details': 'Year of birth'}]}"
      ]
     },
     "execution_count": 400,
     "metadata": {},
     "output_type": "execute_result"
    }
   ],
   "source": [
    "worsheet_result"
   ]
  },
  {
   "cell_type": "code",
   "execution_count": 365,
   "id": "27674f47-7821-45fd-b765-b3c5f83c7eb2",
   "metadata": {},
   "outputs": [
    {
     "name": "stdout",
     "output_type": "stream",
     "text": [
      "```json\n",
      "{\n",
      "    \"text\": \"Could you please provide the year of your birth to complete your birth date? Currently, we have September 12, but we need the full date including the year. Thank you!\"\n",
      "}\n",
      "```"
     ]
    },
    {
     "data": {
      "text/plain": [
       "{'text': 'Could you please provide the year of your birth to complete your birth date? Currently, we have September 12, but we need the full date including the year. Thank you!'}"
      ]
     },
     "execution_count": 365,
     "metadata": {},
     "output_type": "execute_result"
    }
   ],
   "source": [
    "clarify_field_details(worsheet_result['incomplete_field_error'][0])"
   ]
  },
  {
   "cell_type": "code",
   "execution_count": 374,
   "id": "3b05bc1d-e8af-4d83-bc83-c7404fe540b7",
   "metadata": {},
   "outputs": [
    {
     "data": {
      "text/plain": [
       "{'personal_info': {'first_names': 'Jaez'},\n",
       " 'incomplete_field_error': [{'field_name': 'birth_date',\n",
       "   'current_value': 'September 12',\n",
       "   'required_details': 'Year of birth'}]}"
      ]
     },
     "execution_count": 374,
     "metadata": {},
     "output_type": "execute_result"
    }
   ],
   "source": [
    "worsheet_result"
   ]
  },
  {
   "cell_type": "code",
   "execution_count": 377,
   "id": "8c72b6f1-0454-433b-8139-5b6aed990d06",
   "metadata": {},
   "outputs": [],
   "source": [
    "worskheet_field_storage = {}\n",
    "conversation_history = []"
   ]
  },
  {
   "cell_type": "code",
   "execution_count": 402,
   "id": "7888db4c-3eef-4a40-8fed-8f69b4ff5cb8",
   "metadata": {},
   "outputs": [],
   "source": [
    "def append_keys_to_storage(subject_name, worsheet_result, worskheet_field_storage):\n",
    "    subject_worksheet_fields = worsheet_result[subject_name]\n",
    "    \n",
    "    for field_name, value in subject_worksheet_fields.items():\n",
    "        if subject_name not in worskheet_field_storage or not worskheet_field_storage.get(subject_name, None):\n",
    "            worskheet_field_storage[subject_name] = {}\n",
    "    \n",
    "        incomplete_fields = {error['field_name'] for error in worsheet_result['incomplete_field_error']}\n",
    "    \n",
    "        if field_name not in worskheet_field_storage[subject_name]:\n",
    "            if field_name not in incomplete_fields:\n",
    "                worskheet_field_storage[subject_name][field_name] = value\n",
    "        "
   ]
  },
  {
   "cell_type": "code",
   "execution_count": 403,
   "id": "fc9f8c42-300f-4f8f-8170-722cb7d87293",
   "metadata": {},
   "outputs": [],
   "source": [
    "append_keys_to_storage('personal_info', worsheet_result, worskheet_field_storage)"
   ]
  },
  {
   "cell_type": "code",
   "execution_count": 404,
   "id": "2a743914-8859-4ccc-82f9-e7bf6f114f1a",
   "metadata": {},
   "outputs": [
    {
     "data": {
      "text/plain": [
       "{'personal_info': {'first_names': 'Jaez'}}"
      ]
     },
     "execution_count": 404,
     "metadata": {},
     "output_type": "execute_result"
    }
   ],
   "source": [
    "worskheet_field_storage"
   ]
  },
  {
   "cell_type": "code",
   "execution_count": 416,
   "id": "118ad6e6-111b-42dd-8616-f6a93fc4e513",
   "metadata": {},
   "outputs": [],
   "source": [
    "parsed_yaml = yaml.safe_load(yml_schema)\n",
    "\n",
    "subject_name = 'personal_info'\n",
    "\n",
    "subject = parsed_yaml['subjects'][subject_name]\n",
    "\n",
    "subject_details = {\n",
    "    'name': subject_name,\n",
    "    'description': subject['description']\n",
    "}\n",
    "\n",
    "\n",
    "class FromType:\n",
    "    Recruiter = 'recruiter'\n",
    "    SecurityGuard = 'security guard'\n",
    "\n",
    "def handle_candidate_messages(conversation_history, worskheet_field_storage):\n",
    "    worsheet_result = define_worksheet_fields(subject_details, subject['fields'], conversation_history)\n",
    "\n",
    "    append_keys_to_storage(subject_name, worsheet_result, worskheet_field_storage)\n",
    "    \n",
    "    if len(worsheet_result['incomplete_field_error']) > 0:\n",
    "        response = clarify_field_details(worsheet_result['incomplete_field_error'][0])['text']\n",
    "    else:\n",
    "        response = next_dialog_step(subject_name, subject_fields, worskheet_field_storage)['message']\n",
    "    \n",
    "    return response"
   ]
  },
  {
   "cell_type": "code",
   "execution_count": null,
   "id": "7181b3f8-30ef-4f93-9fa6-eb1879f46a32",
   "metadata": {},
   "outputs": [],
   "source": [
    "conversation_history.append({\n",
    "    'from': FromType.SecurityGuard,\n",
    "    'text': ''\n",
    "})"
   ]
  },
  {
   "cell_type": "code",
   "execution_count": 419,
   "id": "e5a582dc-1091-4024-a358-5ea70c42409b",
   "metadata": {},
   "outputs": [
    {
     "name": "stdout",
     "output_type": "stream",
     "text": [
      "```json\n",
      "{\n",
      "  \"personal_info\": {\n",
      "    \"first_names\": \"Jaez\"\n",
      "  },\n",
      "  \"incomplete_field_error\": [\n",
      "    {\n",
      "      \"field_name\": \"birth_date\",\n",
      "      \"current_value\": \"September 12\",\n",
      "      \"required_details\": \"Year of birth\"\n",
      "    }\n",
      "  ]\n",
      "}\n",
      "```"
     ]
    }
   ],
   "source": [
    "response = handle_candidate_messages(conversation_history)"
   ]
  },
  {
   "cell_type": "code",
   "execution_count": 420,
   "id": "8a13ddf2-dac4-45a9-8911-24fa266ebb49",
   "metadata": {},
   "outputs": [
    {
     "data": {
      "text/plain": [
       "'Could you please provide the year of your birth to complete your birth date? Currently, we have September 12, but we need the full date including the year. Thank you!'"
      ]
     },
     "execution_count": 420,
     "metadata": {},
     "output_type": "execute_result"
    }
   ],
   "source": [
    "response"
   ]
  },
  {
   "cell_type": "code",
   "execution_count": null,
   "id": "9fb16a58-a556-4eab-952e-fd18e1d14897",
   "metadata": {},
   "outputs": [],
   "source": [
    "conversation_history.append({\n",
    "        'from': FromType.Recruiter,\n",
    "        'text': msg\n",
    "    })"
   ]
  },
  {
   "cell_type": "code",
   "execution_count": 412,
   "id": "46f28e7a-7028-4f47-aba0-da9687a58959",
   "metadata": {},
   "outputs": [
    {
     "data": {
      "text/plain": [
       "'recruiter'"
      ]
     },
     "execution_count": 412,
     "metadata": {},
     "output_type": "execute_result"
    }
   ],
   "source": [
    "FromType.Recruiter"
   ]
  },
  {
   "cell_type": "code",
   "execution_count": 398,
   "id": "7cd32c94-1d3e-42e6-8517-21d32938dc1a",
   "metadata": {},
   "outputs": [],
   "source": [
    "def next_dialog_step(subject, subject_fields, worksheet_fields: dict):\n",
    "    subject_str = f'{subject['name']}: {subject['description']}'\n",
    "    fields_str = '\\n'.join(build_prompt_from_subject_fields(subject_fields))\n",
    "    \n",
    "    fillded_fields = []\n",
    "    for subject, fields in worskheet_field_storage.items():\n",
    "        fillded_fields.append(f'{subject}:')\n",
    "        for field, value in fields.items():\n",
    "            fillded_fields.append(f'   - {field}: {value}')\n",
    "        fillded_fields.append('')\n",
    "    \n",
    "    response = get_gpt(f\"\"\"\n",
    "You are a recruiter in Latin America, hiring candidates for a security guard position in a store. \n",
    "For employment, you need to make a call with the candidate and gather all the necessary information to fill out the application form.\n",
    "\n",
    "Your task is to ask the question needed to fill in the next field based on the previous answers.\n",
    "The examples of questions:\n",
    "- Can you please tell me your first names?\n",
    "- Great, thank you. Now, can you tell me your last names?\n",
    "- Thank you. What is your gender?\n",
    "- Perfect. And your ID number?\n",
    "- Alright. Now, your date of birth, please.\n",
    "- Thank you. Can you also tell me your place of birth?\n",
    "\n",
    "Here is already filled fields by user:\n",
    "{'\\n'.join(fillded_fields)}\n",
    "\n",
    "Here is possible fields:\n",
    "{subject_str}\n",
    "{fields_str}\n",
    "\n",
    "Put the response into ```json``` with schema:\n",
    "\n",
    "```\n",
    "{{\n",
    "    \"messaage\": string // Text message\n",
    "}}\n",
    "\n",
    "\"\"\")\n",
    "\n",
    "    response_data = select_json_block(response)\n",
    "    return response_data\n",
    "    "
   ]
  },
  {
   "cell_type": "code",
   "execution_count": 399,
   "id": "2b863b1c-b834-4a71-b5a3-7e821196351b",
   "metadata": {},
   "outputs": [
    {
     "name": "stdout",
     "output_type": "stream",
     "text": [
      "```json\n",
      "{\n",
      "    \"message\": \"Great, thank you. Now, can you tell me your last names?\"\n",
      "}\n",
      "```"
     ]
    },
    {
     "data": {
      "text/plain": [
       "{'message': 'Great, thank you. Now, can you tell me your last names?'}"
      ]
     },
     "execution_count": 399,
     "metadata": {},
     "output_type": "execute_result"
    }
   ],
   "source": [
    "next_dialog_step(subject_details, subject['fields'], worskheet_field_storage)"
   ]
  },
  {
   "cell_type": "code",
   "execution_count": 387,
   "id": "966ab774-7a03-49d0-99d5-0edb7d074e73",
   "metadata": {},
   "outputs": [
    {
     "name": "stdout",
     "output_type": "stream",
     "text": [
      "personal_info:\n",
      "   - first_names: Jaez\n"
     ]
    }
   ],
   "source": [
    "for subject, fields in worskheet_field_storage.items():\n",
    "    print(f'{subject}:')\n",
    "    for field, value in fields.items():\n",
    "        print(f'   - {field}: {value}')"
   ]
  },
  {
   "cell_type": "code",
   "execution_count": 392,
   "id": "92e920e9-2869-482c-aed3-8c8bcf622a6a",
   "metadata": {},
   "outputs": [
    {
     "name": "stdout",
     "output_type": "stream",
     "text": [
      "Good morning, thank you for coming in today. We’re just going to fill out this worksheet with your information. Let’s start with your first names. Can you please tell me your first names?\n",
      "Okay, Juan. Do you have any other first names?\n",
      "Great, thank you. Now, can you tell me your last names?\n",
      "Just Diaz? Usually, people from your region have two last names.\n",
      "Thank you. What is your gender?\n",
      "Perfect. And your ID number?\n",
      "I think there's a mistake. The format should be ###-########-#. Could you check it again?\n",
      "Great, thank you. Do you have a driver's license?\n",
      "And what category is your driver’s license?\n",
      "Alright. Now, your date of birth, please.\n",
      "Thank you. Can you also tell me your place of birth?\n",
      "Buenos Aires, got it. And your nationality?\n",
      "Perfect. What is your marital status? Are you married, single, or in a civil union?\n",
      "Thank you. That covers your personal information. Let's move on to the next section.\n"
     ]
    }
   ],
   "source": [
    "print('\\n'.join([c['text'] for c in conversation if c['speaker'] == 'Recruiter']))"
   ]
  },
  {
   "cell_type": "code",
   "execution_count": 393,
   "id": "308ea8be-9717-4531-9331-beed928edaf1",
   "metadata": {},
   "outputs": [
    {
     "name": "stdout",
     "output_type": "stream",
     "text": [
      "Object `names` not found.\n"
     ]
    }
   ],
   "source": [
    "Can you please tell me your first names?\n",
    "\n",
    "Great, thank you. Now, can you tell me your last names?\n",
    "\n",
    "Thank you. What is your gender?\n",
    "\n",
    "Perfect. And your ID number?\n",
    "\n",
    "Alright. Now, your date of birth, please.\n",
    "\n",
    "Thank you. Can you also tell me your place of birth?\n"
   ]
  },
  {
   "cell_type": "code",
   "execution_count": 364,
   "id": "7849a992-336e-4970-89b2-deb1cdd99d93",
   "metadata": {},
   "outputs": [
    {
     "data": {
      "text/plain": [
       "{'personal_info': {'first_names': 'Jaez'},\n",
       " 'incomplete_field_error': [{'field_name': 'birth_date',\n",
       "   'current_value': 'September 12',\n",
       "   'required_details': 'Year of birth'}]}"
      ]
     },
     "execution_count": 364,
     "metadata": {},
     "output_type": "execute_result"
    }
   ],
   "source": [
    "worsheet_result"
   ]
  },
  {
   "cell_type": "code",
   "execution_count": null,
   "id": "5ad646bd-14fc-468f-a2a6-4a90b8b4a8d6",
   "metadata": {},
   "outputs": [],
   "source": [
    "print(build_schema_prompt(yml_schema, 'personal_info'))"
   ]
  },
  {
   "cell_type": "code",
   "execution_count": 316,
   "id": "20a47ce9-56b5-44e7-ab4e-9b11ad743f20",
   "metadata": {},
   "outputs": [
    {
     "data": {
      "text/plain": [
       "{'first_names': {'type': 'string'},\n",
       " 'last_names': {'type': 'string'},\n",
       " 'gender': {'type': 'string'},\n",
       " 'id_number': {'type': 'string'},\n",
       " 'has_drivers_license': {'type': 'boolean'},\n",
       " 'license_category': {'type': 'string',\n",
       "  'enum': ['A', 'B', 'C', 'D', 'E', 'F']},\n",
       " 'birth_date': {'type': 'string'},\n",
       " 'birth_place': {'type': 'string'},\n",
       " 'nationality': {'type': 'string'},\n",
       " 'marital_status': {'type': 'string',\n",
       "  'enum': ['Married', 'Single', 'Civil union']}}"
      ]
     },
     "execution_count": 316,
     "metadata": {},
     "output_type": "execute_result"
    }
   ],
   "source": [
    "build_schema(yml_schema)['personal_info']"
   ]
  },
  {
   "cell_type": "code",
   "execution_count": null,
   "id": "d6cdcc31-3ccf-4846-8da8-a77d6e161fbc",
   "metadata": {},
   "outputs": [],
   "source": [
    "print(build_schema_prompt(yml_schema))"
   ]
  },
  {
   "cell_type": "code",
   "execution_count": 15,
   "id": "747bb4be-85ee-43f3-b042-9c5f8142c417",
   "metadata": {},
   "outputs": [],
   "source": [
    "from memoization import get_gpt"
   ]
  },
  {
   "cell_type": "code",
   "execution_count": null,
   "id": "916e6a1f-bdb3-472c-8bb9-274084b5261c",
   "metadata": {},
   "outputs": [],
   "source": [
    "get_gpt('kke')"
   ]
  },
  {
   "cell_type": "code",
   "execution_count": 42,
   "id": "d44a8341-cc8e-43c9-8cbf-4376c17f7b8f",
   "metadata": {},
   "outputs": [],
   "source": [
    "speech = \"\"\"\n",
    "Ladies and Gentlemen,\n",
    "\n",
    "Good day! My name is Juan Carlos Mendoza. Born on September 15, in Guadalajara, Jalisco, a city celebrated for its vibrant culture and community spirit, I am here today to express my interest in joining your esteemed security team.\n",
    "\n",
    "Having grown up in Tlaquepaque, a district known for its bustling activity and close-knit community, I have developed a strong sense of responsibility towards maintaining safety and order. My current residence at 1020 Avenida Revolución places me at the center of the city’s dynamics, allowing me to stay connected and responsive to the local pulse.\n",
    "\n",
    "With several years of experience in security roles, my background equips me with the skills necessary to effectively manage and mitigate risks. My approach combines keen observation skills, quick problem-solving abilities, and a calm demeanor, essential qualities for ensuring a safe environment.\n",
    "\n",
    "My commitment is to the safety and well-being of our community. I am prepared to bring dedication, vigilance, and integrity to this role, ensuring that our environment remains secure and that our people feel safe. It is my goal to contribute positively and significantly to your team, leveraging my local insights and security expertise.\n",
    "\n",
    "I am eager to discuss how I can contribute to your goals and become an integral part of your security operations. Thank you for considering my application. I look forward to the possibility of working together to maintain and enhance the safety standards that our community relies on.\n",
    "\n",
    "Thank you for your attention.\n",
    "\n",
    "This speech should align more closely with the context of applying for a security position, emphasizing relevant skills and local knowledge.\n",
    "\"\"\""
   ]
  },
  {
   "cell_type": "code",
   "execution_count": 272,
   "id": "e8700793-91f4-4877-80c1-74db024d0192",
   "metadata": {},
   "outputs": [],
   "source": [
    "\n",
    "def fill_worksheet(subject: str, yml_schema: str, speech: str, version: str = 'v1', temperature = 0):\n",
    "    possible_fields = build_schema_prompt(yml_schema, 'personal_info')\n",
    "    \n",
    "    prompt = f\"\"\"\n",
    "    Please find entities at speech of Latin America candidate on security guy position.\n",
    "\n",
    "    Here is possible fields:\n",
    "    {possible_fields}\n",
    "\n",
    "    There is no required strict format of filling, answers of candidate should be correct by sence. Also you can build final field value by\n",
    "    multiple answers if they was given separately at different messages.\n",
    "    \n",
    "    If there is error at fields, for instance candidate filed only part of field, but not specified the rest part, you should say about this at \n",
    "    error message. \n",
    "    \n",
    "    Please put null value at field at subject block if meets one of this conditions:\n",
    "    - field has validation error\n",
    "    - field was not specified\n",
    "    \n",
    "    Here is validation error field schema:\n",
    "    \n",
    "    errors: array\n",
    "        - field: <field_name>\n",
    "        - value: <wrong field value>\n",
    "        - message: <validation error message>\n",
    "    \n",
    "    If field was missed do not recognize it as an validation error.\n",
    "    \n",
    "    Here is conversation:\n",
    "    {speech}\n",
    "    \n",
    "    \n",
    "    Please put result info json format, like this ```json```.\n",
    "    \"\"\"\n",
    "\n",
    "    resp = get_gpt(prompt, temperature=temperature)\n",
    "\n",
    "    print(f'Temperature: {temperature}')\n",
    "    print(prompt)\n",
    "    print()\n",
    "\n",
    "    json_data = select_json_block(resp)\n",
    "    return json_data"
   ]
  },
  {
   "cell_type": "code",
   "execution_count": 47,
   "id": "a4b182be-c527-45fc-ab5a-d3754819390c",
   "metadata": {},
   "outputs": [],
   "source": [
    "resp = get_gpt(prompt)"
   ]
  },
  {
   "cell_type": "code",
   "execution_count": 273,
   "id": "c9f77eec-f978-4241-aecb-bfb2f075e68c",
   "metadata": {},
   "outputs": [],
   "source": [
    "import yaml\n",
    "import re\n",
    "\n",
    "\n",
    "def select_json_block(text: str):\n",
    "    match = re.search(r\"```json\\n([\\s\\S]*?)\\n```\", text)\n",
    "    if match:\n",
    "        json_data = match.group(1)\n",
    "    else:\n",
    "        raise ValueError(\"No valid JSON data found in the string.\")\n",
    "\n",
    "    return json.loads(json_data)\n",
    "\n",
    "\n",
    "class MemoryStorage:\n",
    "    def __init__(self):\n",
    "        self.data = {}\n",
    "        self.conversation_history = {}\n",
    "\n",
    "    def update_data(self, subject, field, value):\n",
    "        if subject not in self.data:\n",
    "            self.data[subject] = {}\n",
    "        self.data[subject][field] = value\n",
    "        if subject not in self.conversation_history:\n",
    "            self.conversation_history[subject] = {}\n",
    "        if field not in self.conversation_history[subject]:\n",
    "            self.conversation_history[subject][field] = []\n",
    "        self.conversation_history[subject][field].append(value)\n",
    "\n",
    "    def get_data(self):\n",
    "        return self.data\n",
    "\n",
    "    def get_conversation_history(self):\n",
    "        return self.conversation_history\n",
    "\n",
    "    def get_field_value(self, subject, field):\n",
    "        return self.data.get(subject, {}).get(field, None)\n",
    "\n",
    "    def get_field_history(self, subject, field):\n",
    "        return self.conversation_history.get(subject, {}).get(field, [])\n",
    "\n",
    "    def update_field_value_with_history(self, subject, field, value):\n",
    "        # If there is existing history for this field, concatenate the new value appropriately\n",
    "        history = self.get_field_history(subject, field)\n",
    "        if history:\n",
    "            # Example handling for birth_date where we need a complete date\n",
    "            if field == \"birth_date\":\n",
    "                if len(history) == 1 and '-' not in history[0]:\n",
    "                    # Assume the first entry is month and day, and the new value is year\n",
    "                    full_date = f\"{value}-{history[0]}\"\n",
    "                    self.update_data(subject, field, full_date)\n",
    "                elif len(history) == 2 and '-' not in history[1]:\n",
    "                    # Assume the second entry is year\n",
    "                    full_date = f\"{history[1]}-{value}\"\n",
    "                    self.update_data(subject, field, full_date)\n",
    "            else:\n",
    "                # For other fields, concatenate values as needed\n",
    "                combined_value = \" \".join(history) + \" \" + value\n",
    "                self.update_data(subject, field, combined_value)\n",
    "        else:\n",
    "            self.update_data(subject, field, value)\n",
    "\n",
    "# Example of handling a response with errors and incomplete fields\n",
    "def handle_response(memory_storage, response):\n",
    "    data = response.get(\"personal_info\", {})\n",
    "    errors = response.get(\"errors\", [])\n",
    "    \n",
    "    for field, value in data.items():\n",
    "        if value is not None:\n",
    "            memory_storage.update_data(\"personal_info\", field, value)\n",
    "    \n",
    "    for error in errors:\n",
    "        field = error[\"field\"]\n",
    "        value = error[\"value\"]\n",
    "        message = error[\"message\"]\n",
    "        print(f\"Error with field '{field}': {message}\")\n",
    "        if field == \"birth_date\":\n",
    "            print(\"Please provide the full date of birth (year, month, day).\")\n",
    "    \n",
    "    return memory_storage.get_data()"
   ]
  },
  {
   "cell_type": "code",
   "execution_count": 46,
   "id": "7c62283c-fe9e-4ef9-b3ef-76c3bad6bcd0",
   "metadata": {},
   "outputs": [],
   "source": [
    "memory_storage = MemoryStorage()"
   ]
  },
  {
   "cell_type": "code",
   "execution_count": 53,
   "id": "b883bd40-8175-4604-8623-6b07b7a8b3cd",
   "metadata": {},
   "outputs": [
    {
     "name": "stdout",
     "output_type": "stream",
     "text": [
      "Error with field 'birth_date': Full date of birth (year, month, day) is required\n",
      "Please provide the full date of birth (year, month, day).\n"
     ]
    },
    {
     "data": {
      "text/plain": [
       "{'personal_info': {'first_names': 'Juan Carlos',\n",
       "  'last_names': 'Mendoza',\n",
       "  'birth_date': 'September 15',\n",
       "  'birth_place': 'Guadalajara, Jalisco'}}"
      ]
     },
     "execution_count": 53,
     "metadata": {},
     "output_type": "execute_result"
    }
   ],
   "source": [
    "json_data = select_json_block(resp)\n",
    "\n",
    "handle_response(memory_storage, json_data)"
   ]
  },
  {
   "cell_type": "code",
   "execution_count": 52,
   "id": "2f84d66f-5d44-4a65-9052-1239f870389d",
   "metadata": {},
   "outputs": [
    {
     "data": {
      "text/plain": [
       "{'personal_info': {'first_names': 'Juan Carlos',\n",
       "  'last_names': 'Mendoza',\n",
       "  'gender': None,\n",
       "  'id_number': None,\n",
       "  'has_drivers_license': None,\n",
       "  'license_category': None,\n",
       "  'birth_date': 'September 15',\n",
       "  'birth_place': 'Guadalajara, Jalisco',\n",
       "  'nationality': None,\n",
       "  'marital_status': None},\n",
       " 'errors': [{'field': 'birth_date',\n",
       "   'value': 'September 15',\n",
       "   'message': 'Full date of birth (year, month, day) is required'}]}"
      ]
     },
     "execution_count": 52,
     "metadata": {},
     "output_type": "execute_result"
    }
   ],
   "source": []
  },
  {
   "cell_type": "code",
   "execution_count": 72,
   "id": "a196ba0b-0e1d-4cb0-af78-4a94995c9aac",
   "metadata": {},
   "outputs": [],
   "source": [
    "import json\n",
    "\n",
    "with open('./dataset/dialogue.json', 'r') as f:\n",
    "    dialogue_json = json.loads(f.read())"
   ]
  },
  {
   "cell_type": "code",
   "execution_count": null,
   "id": "44c57f1b-0b3f-4e80-9bcf-eac880674e59",
   "metadata": {},
   "outputs": [],
   "source": [
    "conversation = dialogue_json['dialogues'][0]['conversation']\n",
    "conversation"
   ]
  },
  {
   "cell_type": "code",
   "execution_count": null,
   "id": "836f80ca-75b5-43aa-8c7a-99d0aab91c0e",
   "metadata": {},
   "outputs": [],
   "source": [
    "conversation"
   ]
  },
  {
   "cell_type": "code",
   "execution_count": null,
   "id": "89385d01-8ff7-4397-9c69-d749292eb4e3",
   "metadata": {},
   "outputs": [],
   "source": [
    "dialogue_json"
   ]
  },
  {
   "cell_type": "code",
   "execution_count": 274,
   "id": "21d8e1a0-24df-4442-8f84-72ff5d3f7f93",
   "metadata": {},
   "outputs": [],
   "source": [
    "import yaml\n",
    "\n",
    "class MemoryStorage:\n",
    "    def __init__(self):\n",
    "        self.data = {}\n",
    "\n",
    "    def update_data(self, key, value):\n",
    "        self.data[key] = value\n",
    "\n",
    "    def get_data(self):\n",
    "        return self.data\n",
    "\n",
    "    def get_by_key(self, key):\n",
    "        return self.data.get(key, {})\n",
    "\n",
    "    def update_by_key(self, key, update):\n",
    "        current_data = self.get_by_key(key)\n",
    "        current_data.update(update)\n",
    "        self.update_data(key, current_data)\n",
    "\n",
    "class ConversationHandler:\n",
    "    def __init__(self, storage):\n",
    "        self.storage = storage\n",
    "\n",
    "    def update_conversation(self, subject, from_, text):\n",
    "        key = \"conversation_history\"\n",
    "        conversation_history = self.storage.get_by_key(key)\n",
    "        if subject not in conversation_history:\n",
    "            conversation_history[subject] = []\n",
    "        conversation_history[subject].append({\"from\": from_, \"text\": text})\n",
    "        self.storage.update_data(key, conversation_history)\n",
    "\n",
    "    def get_conversation_history(self):\n",
    "        return self.storage.get_by_key(\"conversation_history\")\n",
    "\n",
    "class DataManager:\n",
    "    def __init__(self, storage):\n",
    "        self.storage = storage\n",
    "\n",
    "    def update_field_value(self, subject, field, value):\n",
    "        personal_info = self.storage.get_by_key(subject)\n",
    "        personal_info[field] = value\n",
    "        self.storage.update_data(subject, personal_info)\n",
    "\n",
    "# Example of handling a response with errors and incomplete fields\n",
    "def handle_response(data_manager, response):\n",
    "    data = response.get(\"personal_info\", {})\n",
    "    errors = response.get(\"errors\", [])\n",
    "    \n",
    "    for field, value in data.items():\n",
    "        if value is not None:\n",
    "            data_manager.update_field_value(\"personal_info\", field, value)\n",
    "    \n",
    "    for error in errors:\n",
    "        field = error[\"field\"]\n",
    "        value = error[\"value\"]\n",
    "        message = error[\"message\"]\n",
    "        print(f\"Error with field '{field}': {message}\")\n",
    "        if field == \"birth_date\":\n",
    "            print(\"Please provide the full date of birth (year, month, day).\")\n",
    "    \n",
    "    return data_manager.storage.get_by_key(\"personal_info\")"
   ]
  },
  {
   "cell_type": "code",
   "execution_count": 96,
   "id": "26f013b7-9f6d-4ecb-ae54-af71b441ba55",
   "metadata": {},
   "outputs": [
    {
     "data": {
      "text/plain": [
       "{'personal_info': {'first_names': None,\n",
       "  'last_names': None,\n",
       "  'gender': None,\n",
       "  'id_number': None,\n",
       "  'has_drivers_license': None,\n",
       "  'license_category': None,\n",
       "  'birth_date': '1985-04-15',\n",
       "  'birth_place': None,\n",
       "  'nationality': None,\n",
       "  'marital_status': None},\n",
       " 'errors': []}"
      ]
     },
     "execution_count": 96,
     "metadata": {},
     "output_type": "execute_result"
    }
   ],
   "source": [
    "response"
   ]
  },
  {
   "cell_type": "code",
   "execution_count": 131,
   "id": "1e9a7327-b4ed-4fba-ab5a-4971d5721e3f",
   "metadata": {},
   "outputs": [
    {
     "name": "stdout",
     "output_type": "stream",
     "text": [
      "Recruiter: Alright. Now, your date of birth, please.\n",
      "Security Guard: It’s 15th of April, 1985.\n",
      "\n"
     ]
    }
   ],
   "source": [
    "offset = 18\n",
    "max_items = 2\n",
    "\n",
    "conversation_str = '\\n'.join([f'{c['speaker']}: {c['text']}' for c in conversation[offset:offset+max_items]])\n",
    "\n",
    "print(conversation_str)\n",
    "print()\n",
    "response = fill_worksheet('personal_info', yml_schema, conversation_str)"
   ]
  },
  {
   "cell_type": "code",
   "execution_count": 129,
   "id": "e80718db-fc4e-49c0-b2f6-a8de96f1b938",
   "metadata": {},
   "outputs": [],
   "source": [
    "memory_storage = MemoryStorage()\n",
    "conversation_handler = ConversationHandler(memory_storage)\n",
    "data_manager = DataManager(memory_storage)\n",
    "\n"
   ]
  },
  {
   "cell_type": "code",
   "execution_count": 132,
   "id": "0e049759-0849-4603-85b9-918b191bef41",
   "metadata": {},
   "outputs": [
    {
     "name": "stdout",
     "output_type": "stream",
     "text": [
      "{'has_drivers_license': True, 'birth_date': '1985-04-15'}\n"
     ]
    }
   ],
   "source": [
    "conversation_handler = ConversationHandler(memory_storage)\n",
    "data_manager = DataManager(memory_storage)\n",
    "\n",
    "\n",
    "updated_data = handle_response(data_manager, response)\n",
    "print(updated_data)\n"
   ]
  },
  {
   "cell_type": "code",
   "execution_count": 127,
   "id": "89b865b5-9f97-41db-92f9-21a60bfcfea5",
   "metadata": {},
   "outputs": [
    {
     "data": {
      "text/plain": [
       "{'personal_info': {'birth_date': ['1985-04-15'],\n",
       "  'has_drivers_license': [True]}}"
      ]
     },
     "execution_count": 127,
     "metadata": {},
     "output_type": "execute_result"
    }
   ],
   "source": [
    "memory_storage.get_data()"
   ]
  },
  {
   "cell_type": "code",
   "execution_count": 133,
   "id": "297656af-c2c2-4a02-a4e2-8c0465591583",
   "metadata": {},
   "outputs": [
    {
     "data": {
      "text/plain": [
       "{'has_drivers_license': True, 'birth_date': '1985-04-15'}"
      ]
     },
     "execution_count": 133,
     "metadata": {},
     "output_type": "execute_result"
    }
   ],
   "source": [
    "updated_data"
   ]
  },
  {
   "cell_type": "code",
   "execution_count": 135,
   "id": "4cc5e398-f517-41ec-af14-0896d2136fc5",
   "metadata": {},
   "outputs": [],
   "source": [
    "security_dialogs = [ c['text'] for c in conversation if c['speaker'] == 'Security Guard']"
   ]
  },
  {
   "cell_type": "code",
   "execution_count": 275,
   "id": "7579f1ed-6925-4845-96b7-4d03c6963c24",
   "metadata": {},
   "outputs": [],
   "source": [
    "def handle_worksheet_filling(input_text):\n",
    "    response = fill_worksheet('personal_info', yml_schema, input_text, temperature=0.4)\n",
    "    updated_data = handle_response(data_manager, response)\n",
    "    return updated_data, response['errors']"
   ]
  },
  {
   "cell_type": "code",
   "execution_count": null,
   "id": "749a41b6-506e-4600-b1ff-18982ea8fb27",
   "metadata": {},
   "outputs": [],
   "source": [
    "conversation"
   ]
  },
  {
   "cell_type": "code",
   "execution_count": 142,
   "id": "991ba61b-7b71-4bf0-b6e7-004b00ec6100",
   "metadata": {},
   "outputs": [
    {
     "data": {
      "text/plain": [
       "['Uh, yes. My first name is Juan.',\n",
       " 'Ah, yes. Sorry. Juan Carlos.',\n",
       " 'It’s Diaz.',\n",
       " 'Oh, right. It’s Diaz Lopez.',\n",
       " 'I am male.',\n",
       " \"It's 123-4567890-1.\",\n",
       " 'Oh, my bad. It’s 123-456789-1.',\n",
       " 'Yes, I do.',\n",
       " 'Umm, I think it’s B.',\n",
       " 'It’s 15th of April, 1985.',\n",
       " 'I was born in Buenos Aires.',\n",
       " 'I am Argentinean.',\n",
       " 'I am married.']"
      ]
     },
     "execution_count": 142,
     "metadata": {},
     "output_type": "execute_result"
    }
   ],
   "source": [
    "security_dialogs"
   ]
  },
  {
   "cell_type": "code",
   "execution_count": 164,
   "id": "a75b8607-798f-407b-8d91-e60b20ff92d0",
   "metadata": {},
   "outputs": [
    {
     "name": "stdout",
     "output_type": "stream",
     "text": [
      "Error with field 'license_category': License category specified without a valid category.\n"
     ]
    }
   ],
   "source": [
    "updated_data, errors = handle_worksheet_filling('I have license category')"
   ]
  },
  {
   "cell_type": "code",
   "execution_count": 165,
   "id": "28c5f0d3-e3df-4b3d-82f5-ce8e3dd829bd",
   "metadata": {},
   "outputs": [
    {
     "data": {
      "text/plain": [
       "[{'field': 'license_category',\n",
       "  'value': None,\n",
       "  'message': 'License category specified without a valid category.'}]"
      ]
     },
     "execution_count": 165,
     "metadata": {},
     "output_type": "execute_result"
    }
   ],
   "source": [
    "errors"
   ]
  },
  {
   "cell_type": "code",
   "execution_count": 276,
   "id": "57b46fcb-b482-4b86-9804-8658a75fdc21",
   "metadata": {},
   "outputs": [],
   "source": [
    "def build_error_prompt(error: dict):\n",
    "    return f\"\"\"\n",
    "- {error['field']}: {error['value']}\n",
    "  error: {error['message']}\n",
    "\"\"\"\n",
    "\n",
    "def build_data_string(data):\n",
    "    result = []\n",
    "    for subject, fields in data.items():\n",
    "        result.append(f\"- {subject}\")\n",
    "        for field, value in fields.items():\n",
    "            result.append(f\"     {field}: {value}\")\n",
    "    return \"\\n\".join(result)"
   ]
  },
  {
   "cell_type": "code",
   "execution_count": 168,
   "id": "4fc6e411-31c2-4614-bda9-bd9b4c4eaf9f",
   "metadata": {},
   "outputs": [
    {
     "name": "stdout",
     "output_type": "stream",
     "text": [
      "\n",
      "- license_category: None\n",
      "  error: License category specified without a valid category.\n",
      "\n"
     ]
    }
   ],
   "source": [
    "print(build_error_prompt(errors[0]))"
   ]
  },
  {
   "cell_type": "code",
   "execution_count": 277,
   "id": "71bcaaa2-f638-4c6e-a177-90241f4a3a69",
   "metadata": {},
   "outputs": [],
   "source": [
    "def get_error_instruction(error: dict):\n",
    "    field_name = error['field']\n",
    "\n",
    "    response = get_gpt(f\"\"\"\n",
    "You are recruiter that need to get worksheet information from candidate to security gut position at Latin America. \n",
    "\n",
    "Security Guard: \"I have license category\"\n",
    "\n",
    "Field error:\n",
    "\n",
    "{build_error_prompt(error)}\n",
    "\n",
    "Field info:\n",
    "{build_field_prompt(yml_schema, field_name)}\n",
    "\n",
    "Conversation history:\n",
    "{get_last_n_messages(conversation_handler.get_conversation_history(), \"1\", 10)}\n",
    "\n",
    "Ask for correct answer.\n",
    "\n",
    "Here is examples:\n",
    "\n",
    "Security Guard: Uh, yes. My first name is Juan.\n",
    "Recruiter: Okay, Juan. Do you have any other first names?\n",
    "\n",
    "Put the response into ```json``` with schema:\n",
    "\n",
    "```\n",
    "{{\n",
    "    \"text\": string // Text message\n",
    "}}\n",
    "    \"\"\")\n",
    "    \n",
    "    data = select_json_block(response)\n",
    "    return data['text']\n",
    "    "
   ]
  },
  {
   "cell_type": "code",
   "execution_count": 176,
   "id": "812eb8a4-c25b-4467-ac91-3fbcfc49e7d6",
   "metadata": {},
   "outputs": [
    {
     "name": "stdout",
     "output_type": "stream",
     "text": [
      "- personal_info\n",
      "     has_drivers_license: True\n",
      "     birth_date: 1985-04-15\n",
      "     gender: M\n",
      "     birth_place: Buenos Aires\n"
     ]
    }
   ],
   "source": [
    "print(build_data_string(memory_storage.get_data()))"
   ]
  },
  {
   "cell_type": "code",
   "execution_count": 278,
   "id": "b215a0ac-4a46-4ae0-9229-7e54c0109892",
   "metadata": {},
   "outputs": [],
   "source": [
    "def next_steps(memory_storage, subject: str):\n",
    "    possible_fields = build_schema_prompt(yml_schema, subject)\n",
    "    \n",
    "    response = get_gpt(f\"\"\"\n",
    "    You are recruiter that need to get worksheet information from candidate to security gut position at Latin America. \n",
    "    \n",
    "    Possible fields:\n",
    "    {possible_fields} \n",
    "    \n",
    "    Filled fields:\n",
    "    {build_data_string(memory_storage.get_data())}\n",
    "    \n",
    "    Please ask for the filling another field.\n",
    "    \n",
    "    Here is examples:\n",
    "    \n",
    "    - Okay, Juan. Do you have any other first names?\n",
    "    - Great, thank you. Now, can you tell me your last names?\n",
    "    - Perfect. And your ID number?\n",
    "    - Alright. Now, your date of birth, please.\n",
    "    \n",
    "    Put the response into ```json``` with schema:\n",
    "    \n",
    "    ```\n",
    "    {{\n",
    "        \"text\": string // Text message\n",
    "    }}\n",
    "    \"\"\")\n",
    "    data = select_json_block(response)\n",
    "    return data['text']\n",
    "    "
   ]
  },
  {
   "cell_type": "code",
   "execution_count": 279,
   "id": "7310f9b9-d2dc-4faa-8cf9-f18d0d1b3e2d",
   "metadata": {},
   "outputs": [],
   "source": [
    "def get_field_info(schema, field_name):\n",
    "    for subject, fields in schema.items():\n",
    "        if field_name in fields:\n",
    "            return {\n",
    "                \"subject\": subject,\n",
    "                \"field\": field_name,\n",
    "                \"info\": fields[field_name]\n",
    "            }\n",
    "    return None\n",
    "\n",
    "def build_field_prompt(yaml_content, field_name: str):\n",
    "    parsed_yaml = yaml.safe_load(yaml_content)\n",
    "    \n",
    "    for subject, content in parsed_yaml['subjects'].items():\n",
    "        for field in content['fields']:\n",
    "            if field['name'] == field_name:\n",
    "                field_schema = field['schema']\n",
    "                prompt = [\n",
    "                    f\"- {field['name']}: {field['description']}\",\n",
    "                    f\"   required: {field['required']}\",\n",
    "                    f\"   schema: {field_schema}\"\n",
    "                ]\n",
    "                return \"\\n\".join(prompt)\n",
    "    \n",
    "    return f\"Field '{field_name}' not found in the schema.\""
   ]
  },
  {
   "cell_type": "code",
   "execution_count": 154,
   "id": "111e71e2-89ed-442c-8c34-7fa8f34a2577",
   "metadata": {},
   "outputs": [],
   "source": [
    "field_name = 'license_category'\n",
    "field_info = get_field_info(build_schema(yml_schema), field_name)"
   ]
  },
  {
   "cell_type": "code",
   "execution_count": 156,
   "id": "e8748c23-c8ce-4d35-bac2-459210c8da42",
   "metadata": {},
   "outputs": [
    {
     "data": {
      "text/plain": [
       "{'subject': 'personal_info',\n",
       " 'field': 'license_category',\n",
       " 'info': {'type': 'string', 'enum': ['A', 'B', 'C', 'D', 'E', 'F']}}"
      ]
     },
     "execution_count": 156,
     "metadata": {},
     "output_type": "execute_result"
    }
   ],
   "source": [
    "field_info"
   ]
  },
  {
   "cell_type": "code",
   "execution_count": 159,
   "id": "954ed1fe-cbc5-423d-911a-260a5d3679da",
   "metadata": {},
   "outputs": [
    {
     "name": "stdout",
     "output_type": "stream",
     "text": [
      "- license_category: Driver's license category\n",
      "   required: False\n",
      "   schema: {'type': 'string', 'enum': ['A', 'B', 'C', 'D', 'E', 'F']}\n"
     ]
    }
   ],
   "source": []
  },
  {
   "cell_type": "code",
   "execution_count": null,
   "id": "0b546034-7164-47d5-83ef-2c5a073ba1f4",
   "metadata": {},
   "outputs": [],
   "source": [
    "if field_info:\n",
    "    print(f\"Field '{field_name}' information:\")\n",
    "    print(f\"Subject: {field_info['subject']}\")\n",
    "    print(f\"Description: {field_info['info']['description']}\")\n",
    "    print(f\"Required: {field_info['info']['required']}\")\n",
    "    print(f\"Example: {field_info['info']['example']}\")\n",
    "    print(f\"Schema: {field_info['info']['schema']}\")\n",
    "else:\n",
    "    print(f\"Field '{field_name}' not found in the schema.\")"
   ]
  },
  {
   "cell_type": "code",
   "execution_count": 145,
   "id": "7037e66f-71b3-420f-b635-24babd4a75ee",
   "metadata": {},
   "outputs": [
    {
     "data": {
      "text/plain": [
       "[{'speaker': 'Recruiter',\n",
       "  'text': 'Good morning, thank you for coming in today. We’re just going to fill out this worksheet with your information. Let’s start with your first names. Can you please tell me your first names?'},\n",
       " {'speaker': 'Security Guard', 'text': 'Uh, yes. My first name is Juan.'},\n",
       " {'speaker': 'Recruiter',\n",
       "  'text': 'Okay, Juan. Do you have any other first names?'},\n",
       " {'speaker': 'Security Guard', 'text': 'Ah, yes. Sorry. Juan Carlos.'},\n",
       " {'speaker': 'Recruiter',\n",
       "  'text': 'Great, thank you. Now, can you tell me your last names?'},\n",
       " {'speaker': 'Security Guard', 'text': 'It’s Diaz.'},\n",
       " {'speaker': 'Recruiter',\n",
       "  'text': 'Just Diaz? Usually, people from your region have two last names.'},\n",
       " {'speaker': 'Security Guard', 'text': 'Oh, right. It’s Diaz Lopez.'},\n",
       " {'speaker': 'Recruiter', 'text': 'Thank you. What is your gender?'},\n",
       " {'speaker': 'Security Guard', 'text': 'I am male.'},\n",
       " {'speaker': 'Recruiter', 'text': 'Perfect. And your ID number?'},\n",
       " {'speaker': 'Security Guard', 'text': \"It's 123-4567890-1.\"},\n",
       " {'speaker': 'Recruiter',\n",
       "  'text': \"I think there's a mistake. The format should be ###-########-#. Could you check it again?\"},\n",
       " {'speaker': 'Security Guard', 'text': 'Oh, my bad. It’s 123-456789-1.'},\n",
       " {'speaker': 'Recruiter',\n",
       "  'text': \"Great, thank you. Do you have a driver's license?\"},\n",
       " {'speaker': 'Security Guard', 'text': 'Yes, I do.'},\n",
       " {'speaker': 'Recruiter',\n",
       "  'text': 'And what category is your driver’s license?'},\n",
       " {'speaker': 'Security Guard', 'text': 'Umm, I think it’s B.'},\n",
       " {'speaker': 'Recruiter', 'text': 'Alright. Now, your date of birth, please.'},\n",
       " {'speaker': 'Security Guard', 'text': 'It’s 15th of April, 1985.'},\n",
       " {'speaker': 'Recruiter',\n",
       "  'text': 'Thank you. Can you also tell me your place of birth?'},\n",
       " {'speaker': 'Security Guard', 'text': 'I was born in Buenos Aires.'},\n",
       " {'speaker': 'Recruiter',\n",
       "  'text': 'Buenos Aires, got it. And your nationality?'},\n",
       " {'speaker': 'Security Guard', 'text': 'I am Argentinean.'},\n",
       " {'speaker': 'Recruiter',\n",
       "  'text': 'Perfect. What is your marital status? Are you married, single, or in a civil union?'},\n",
       " {'speaker': 'Security Guard', 'text': 'I am married.'},\n",
       " {'speaker': 'Recruiter',\n",
       "  'text': \"Thank you. That covers your personal information. Let's move on to the next section.\"}]"
      ]
     },
     "execution_count": 145,
     "metadata": {},
     "output_type": "execute_result"
    }
   ],
   "source": [
    "conversation"
   ]
  },
  {
   "cell_type": "code",
   "execution_count": null,
   "id": "6204de25-999b-48fb-9ebe-7737c0e4d23b",
   "metadata": {},
   "outputs": [],
   "source": [
    "yml_schema"
   ]
  },
  {
   "cell_type": "code",
   "execution_count": 266,
   "id": "0c06e76d-7b31-403c-9810-47f15d8211ad",
   "metadata": {},
   "outputs": [],
   "source": [
    "memory_storage = MemoryStorage()\n",
    "conversation_handler = ConversationHandler(memory_storage)\n",
    "data_manager = DataManager(memory_storage)"
   ]
  },
  {
   "cell_type": "code",
   "execution_count": 280,
   "id": "8aa3a26e-e1f6-478e-b279-d10bece999f0",
   "metadata": {},
   "outputs": [
    {
     "name": "stdout",
     "output_type": "stream",
     "text": [
      "Running on local URL:  http://127.0.0.1:7881\n",
      "\n",
      "To create a public link, set `share=True` in `launch()`.\n"
     ]
    },
    {
     "data": {
      "text/html": [
       "<div><iframe src=\"http://127.0.0.1:7881/\" width=\"100%\" height=\"500\" allow=\"autoplay; camera; microphone; clipboard-read; clipboard-write;\" frameborder=\"0\" allowfullscreen></iframe></div>"
      ],
      "text/plain": [
       "<IPython.core.display.HTML object>"
      ]
     },
     "metadata": {},
     "output_type": "display_data"
    },
    {
     "data": {
      "text/plain": []
     },
     "execution_count": 280,
     "metadata": {},
     "output_type": "execute_result"
    },
    {
     "name": "stdout",
     "output_type": "stream",
     "text": [
      "```json\n",
      "{\n",
      "  \"personal_info\": {\n",
      "    \"first_names\": \"Jane\",\n",
      "    \"last_names\": null,\n",
      "    \"gender\": \"Female\",\n",
      "    \"id_number\": \"123-4567890-1\",\n",
      "    \"has_drivers_license\": null,\n",
      "    \"license_category\": null,\n",
      "    \"birth_date\": null,\n",
      "    \"birth_place\": null,\n",
      "    \"nationality\": null,\n",
      "    \"marital_status\": null\n",
      "  },\n",
      "  \"errors\": []\n",
      "}\n",
      "```Temperature: 0.4\n",
      "\n",
      "    Please find entities at speech of Latin America candidate on security guy position.\n",
      "\n",
      "    Here is possible fields:\n",
      "    personal_info: Personal information about the individual\n",
      "  - first_names: string\n",
      "    description: First names (can be multiple in Hispanic cultures)\n",
      "  - last_names: string\n",
      "    description: Last name of security guard\n",
      "  - gender: string\n",
      "    description: Gender (Male or Female)\n",
      "  - id_number: string\n",
      "    description: ID number. Format ###-########-#, last digit is a checksum\n",
      "  - has_drivers_license: boolean\n",
      "    description: Do you have a driver's license?\n",
      "  - license_category: string\n",
      "    description: Driver's license category\n",
      "    possible values: A, B, C, D, E, F\n",
      "  - birth_date: string (date format)\n",
      "    description: Full date of birth (year, month, day)\n",
      "  - birth_place: string\n",
      "    description: Place of birth\n",
      "  - nationality: string\n",
      "    description: Nationality (non-citizens cannot be security guards)\n",
      "  - marital_status: string\n",
      "    description: Marital status: Married, Single, Civil union\n",
      "    possible values: Married, Single, Civil union\n",
      "\n",
      "    There is no required strict format of filling, answers of candidate should be correct by sence. Also you can build final field value by\n",
      "    multiple answers if they was given separately at different messages.\n",
      "    \n",
      "    If there is error at fields, for instance candidate filed only part of field, but not specified the rest part, you should say about this at \n",
      "    error message. \n",
      "    \n",
      "    Please put null value at field at subject block if meets one of this conditions:\n",
      "    - field has validation error\n",
      "    - field was not specified\n",
      "    \n",
      "    Here is validation error field schema:\n",
      "    \n",
      "    errors: array\n",
      "        - field: <field_name>\n",
      "        - value: <wrong field value>\n",
      "        - message: <validation error message>\n",
      "    \n",
      "    If field was missed do not recognize it as an validation error.\n",
      "    \n",
      "    Here is conversation:\n",
      "    Recruiter: Perfect. And your ID number?\n",
      "Security Guard: 123-4567890-1\n",
      "Recruiter: Alright, Jane. It seems there might be a discrepancy with the gender information. Can you please confirm your first name and gender again?\n",
      "Security Guard: I'm female\n",
      "Recruiter: Alright, Jane. It seems there might be a discrepancy with the gender information. Can you please confirm your first name and gender again?\n",
      "Security Guard: what next?\n",
      "Recruiter: Alright, it seems there was some confusion earlier. Can you please confirm your first name and gender one more time for our records?\n",
      "Security Guard: I answered previous my gender and first name\n",
      "Recruiter: Alright, it seems there was some confusion earlier. Can you please confirm your first name and gender one more time for our records?\n",
      "Security Guard: What should I do next?\n",
      "    \n",
      "    \n",
      "    Please put result info json format, like this ```json```.\n",
      "    \n",
      "\n",
      "```json\n",
      "{\n",
      "    \"text\": \"Alright, Jane. Let's move on. Can you please provide your date of birth?\"\n",
      "}\n",
      "``````json\n",
      "{\n",
      "  \"personal_info\": {\n",
      "    \"first_names\": \"Jane\",\n",
      "    \"last_names\": null,\n",
      "    \"gender\": \"Female\",\n",
      "    \"id_number\": null,\n",
      "    \"has_drivers_license\": null,\n",
      "    \"license_category\": null,\n",
      "    \"birth_date\": null,\n",
      "    \"birth_place\": null,\n",
      "    \"nationality\": null,\n",
      "    \"marital_status\": null\n",
      "  },\n",
      "  \"errors\": [\n",
      "    {\n",
      "      \"field\": \"birth_date\",\n",
      "      \"value\": \"Sept of 14\",\n",
      "      \"message\": \"Invalid date format. Expected format: year, month, day\"\n",
      "    }\n",
      "  ]\n",
      "}\n",
      "```Temperature: 0.4\n",
      "\n",
      "    Please find entities at speech of Latin America candidate on security guy position.\n",
      "\n",
      "    Here is possible fields:\n",
      "    personal_info: Personal information about the individual\n",
      "  - first_names: string\n",
      "    description: First names (can be multiple in Hispanic cultures)\n",
      "  - last_names: string\n",
      "    description: Last name of security guard\n",
      "  - gender: string\n",
      "    description: Gender (Male or Female)\n",
      "  - id_number: string\n",
      "    description: ID number. Format ###-########-#, last digit is a checksum\n",
      "  - has_drivers_license: boolean\n",
      "    description: Do you have a driver's license?\n",
      "  - license_category: string\n",
      "    description: Driver's license category\n",
      "    possible values: A, B, C, D, E, F\n",
      "  - birth_date: string (date format)\n",
      "    description: Full date of birth (year, month, day)\n",
      "  - birth_place: string\n",
      "    description: Place of birth\n",
      "  - nationality: string\n",
      "    description: Nationality (non-citizens cannot be security guards)\n",
      "  - marital_status: string\n",
      "    description: Marital status: Married, Single, Civil union\n",
      "    possible values: Married, Single, Civil union\n",
      "\n",
      "    There is no required strict format of filling, answers of candidate should be correct by sence. Also you can build final field value by\n",
      "    multiple answers if they was given separately at different messages.\n",
      "    \n",
      "    If there is error at fields, for instance candidate filed only part of field, but not specified the rest part, you should say about this at \n",
      "    error message. \n",
      "    \n",
      "    Please put null value at field at subject block if meets one of this conditions:\n",
      "    - field has validation error\n",
      "    - field was not specified\n",
      "    \n",
      "    Here is validation error field schema:\n",
      "    \n",
      "    errors: array\n",
      "        - field: <field_name>\n",
      "        - value: <wrong field value>\n",
      "        - message: <validation error message>\n",
      "    \n",
      "    If field was missed do not recognize it as an validation error.\n",
      "    \n",
      "    Here is conversation:\n",
      "    Recruiter: Alright, Jane. It seems there might be a discrepancy with the gender information. Can you please confirm your first name and gender again?\n",
      "Security Guard: I'm female\n",
      "Recruiter: Alright, Jane. It seems there might be a discrepancy with the gender information. Can you please confirm your first name and gender again?\n",
      "Security Guard: what next?\n",
      "Recruiter: Alright, it seems there was some confusion earlier. Can you please confirm your first name and gender one more time for our records?\n",
      "Security Guard: I answered previous my gender and first name\n",
      "Recruiter: Alright, it seems there was some confusion earlier. Can you please confirm your first name and gender one more time for our records?\n",
      "Security Guard: What should I do next?\n",
      "Recruiter: Alright, Jane. Let's move on. Can you please provide your date of birth?\n",
      "Security Guard: Sept of 14\n",
      "    \n",
      "    \n",
      "    Please put result info json format, like this ```json```.\n",
      "    \n",
      "\n",
      "Error with field 'birth_date': Invalid date format. Expected format: year, month, day\n",
      "Please provide the full date of birth (year, month, day).\n",
      "```json\n",
      "{\n",
      "    \"text\": \"Alright, it seems there was an error with the date format. Can you please provide your full date of birth in the format year, month, day? For example, 1990-09-14.\"\n",
      "}\n",
      "``````json\n",
      "{\n",
      "  \"personal_info\": {\n",
      "    \"first_names\": \"Jane\",\n",
      "    \"last_names\": null,\n",
      "    \"gender\": null,\n",
      "    \"id_number\": null,\n",
      "    \"has_drivers_license\": null,\n",
      "    \"license_category\": null,\n",
      "    \"birth_date\": null,\n",
      "    \"birth_place\": null,\n",
      "    \"nationality\": null,\n",
      "    \"marital_status\": null\n",
      "  },\n",
      "  \"errors\": [\n",
      "    {\n",
      "      \"field\": \"gender\",\n",
      "      \"value\": null,\n",
      "      \"message\": \"Gender was not confirmed by the candidate.\"\n",
      "    },\n",
      "    {\n",
      "      \"field\": \"birth_date\",\n",
      "      \"value\": \"1983\",\n",
      "      \"message\": \"Incomplete date format. Full date of birth in the format year, month, day is required.\"\n",
      "    }\n",
      "  ]\n",
      "}\n",
      "```Temperature: 0.4\n",
      "\n",
      "    Please find entities at speech of Latin America candidate on security guy position.\n",
      "\n",
      "    Here is possible fields:\n",
      "    personal_info: Personal information about the individual\n",
      "  - first_names: string\n",
      "    description: First names (can be multiple in Hispanic cultures)\n",
      "  - last_names: string\n",
      "    description: Last name of security guard\n",
      "  - gender: string\n",
      "    description: Gender (Male or Female)\n",
      "  - id_number: string\n",
      "    description: ID number. Format ###-########-#, last digit is a checksum\n",
      "  - has_drivers_license: boolean\n",
      "    description: Do you have a driver's license?\n",
      "  - license_category: string\n",
      "    description: Driver's license category\n",
      "    possible values: A, B, C, D, E, F\n",
      "  - birth_date: string (date format)\n",
      "    description: Full date of birth (year, month, day)\n",
      "  - birth_place: string\n",
      "    description: Place of birth\n",
      "  - nationality: string\n",
      "    description: Nationality (non-citizens cannot be security guards)\n",
      "  - marital_status: string\n",
      "    description: Marital status: Married, Single, Civil union\n",
      "    possible values: Married, Single, Civil union\n",
      "\n",
      "    There is no required strict format of filling, answers of candidate should be correct by sence. Also you can build final field value by\n",
      "    multiple answers if they was given separately at different messages.\n",
      "    \n",
      "    If there is error at fields, for instance candidate filed only part of field, but not specified the rest part, you should say about this at \n",
      "    error message. \n",
      "    \n",
      "    Please put null value at field at subject block if meets one of this conditions:\n",
      "    - field has validation error\n",
      "    - field was not specified\n",
      "    \n",
      "    Here is validation error field schema:\n",
      "    \n",
      "    errors: array\n",
      "        - field: <field_name>\n",
      "        - value: <wrong field value>\n",
      "        - message: <validation error message>\n",
      "    \n",
      "    If field was missed do not recognize it as an validation error.\n",
      "    \n",
      "    Here is conversation:\n",
      "    Recruiter: Alright, Jane. It seems there might be a discrepancy with the gender information. Can you please confirm your first name and gender again?\n",
      "Security Guard: what next?\n",
      "Recruiter: Alright, it seems there was some confusion earlier. Can you please confirm your first name and gender one more time for our records?\n",
      "Security Guard: I answered previous my gender and first name\n",
      "Recruiter: Alright, it seems there was some confusion earlier. Can you please confirm your first name and gender one more time for our records?\n",
      "Security Guard: What should I do next?\n",
      "Recruiter: Alright, Jane. Let's move on. Can you please provide your date of birth?\n",
      "Security Guard: Sept of 14\n",
      "Recruiter: Alright, it seems there was an error with the date format. Can you please provide your full date of birth in the format year, month, day? For example, 1990-09-14.\n",
      "Security Guard: I was born at 1983\n",
      "    \n",
      "    \n",
      "    Please put result info json format, like this ```json```.\n",
      "    \n",
      "\n",
      "Error with field 'gender': Gender was not confirmed by the candidate.\n",
      "Error with field 'birth_date': Incomplete date format. Full date of birth in the format year, month, day is required.\n",
      "Please provide the full date of birth (year, month, day).\n",
      "```json\n",
      "{\n",
      "    \"text\": \"Alright, it seems there was some confusion earlier. Can you please confirm your first name and gender one more time for our records?\"\n",
      "}\n",
      "```"
     ]
    }
   ],
   "source": [
    "import gradio as gr\n",
    "\n",
    "\n",
    "hist = None\n",
    "def echo(message, history):\n",
    "    conversation_handler.update_conversation('1', 'Security Guard', message)\n",
    "    hist = history\n",
    "    conversation_history_str = '\\n'.join(get_last_n_messages(conversation_handler.get_conversation_history(), \"1\", 10))\n",
    "    updated_data, errors = handle_worksheet_filling(conversation_history_str)\n",
    "\n",
    "    if len(errors) > 0:\n",
    "        response = get_error_instruction(errors[0])\n",
    "        conversation_handler.update_conversation('1', 'Recruiter', response)\n",
    "        return response\n",
    "\n",
    "    response = next_steps(memory_storage, 'personal_info')\n",
    "    conversation_handler.update_conversation('1', 'Recruiter', response)\n",
    "    return response\n",
    "    \n",
    "\n",
    "demo = gr.ChatInterface(fn=echo, examples=[\"hello\", \"hola\", \"merhaba\"], title=\"Echo Bot\", chatbot=gr.Chatbot(height=300))\n",
    "demo.launch()"
   ]
  },
  {
   "cell_type": "code",
   "execution_count": 205,
   "id": "be3f1ba1-aa45-492e-af29-dbb4c302173e",
   "metadata": {},
   "outputs": [],
   "source": [
    "def get_last_n_messages(messages, id, n):\n",
    "    last_n_messages = messages[str(id)][-n:]  # Get the last N messages\n",
    "    formatted_messages = [f\"{message['from']}: {message['text']}\" for message in last_n_messages]\n",
    "    return formatted_messages"
   ]
  },
  {
   "cell_type": "code",
   "execution_count": 201,
   "id": "7a9b6f38-0b55-4b1f-bc95-a3e16ac2c0cd",
   "metadata": {},
   "outputs": [],
   "source": [
    "conversation_handler.update_conversation('1', 'recruiter', 'lol')"
   ]
  },
  {
   "cell_type": "code",
   "execution_count": 215,
   "id": "2ca8cec3-5db5-4afd-8434-d776916a271d",
   "metadata": {},
   "outputs": [
    {
     "name": "stdout",
     "output_type": "stream",
     "text": [
      "recruiter: lol\n",
      "\n",
      "Security Guard: My name is jane Diaz\n",
      "\n",
      "Recruiter: Great, thank you, Jane. Can you please provide your gender? (M or F)\n",
      "\n",
      "Security Guard: male\n",
      "\n",
      "Recruiter: Perfect. And your ID number?\n",
      "\n",
      "Security Guard: 123\n",
      "\n",
      "Recruiter: Thank you for providing your name, Jane. It seems there was an error with the first names field. Could you please confirm your first names? For example, if you have multiple first names, please list them all.\n",
      "\n",
      "Security Guard: My name is Jane Diaz\n",
      "\n",
      "Recruiter: Alright, Jane. Now, can you please provide your ID number in the correct format? It should be ###-########-#.\n",
      "\n",
      "Security Guard: 123\n",
      "\n",
      "Recruiter: Thank you for providing your name, Jane. It seems there was an error with the first names field. Could you please confirm your first names? For example, if you have multiple first names, please list them all.\n",
      "\n"
     ]
    }
   ],
   "source": [
    "for msg in conversation_handler.get_conversation_history()['1']:\n",
    "    print(f'{msg['from']}: {msg['text']}')\n",
    "    print()"
   ]
  },
  {
   "cell_type": "code",
   "execution_count": null,
   "id": "7220d886-021b-4dee-a5d8-4bee6df31856",
   "metadata": {},
   "outputs": [],
   "source": [
    "print('\\n'.join(get_last_n_messages(conversation_handler.get_conversation_history(), \"1\", 10)))"
   ]
  },
  {
   "cell_type": "code",
   "execution_count": null,
   "id": "ebc5a215-c4fd-4ae2-b6de-b6e21ba5ee40",
   "metadata": {},
   "outputs": [],
   "source": [
    "memory_storage.get_data()"
   ]
  },
  {
   "cell_type": "code",
   "execution_count": 263,
   "id": "5422e6ef-91a2-4ea1-853d-c8e0993c2308",
   "metadata": {},
   "outputs": [
    {
     "data": {
      "text/plain": [
       "\u001b[0;31mType:\u001b[0m        MemoryStorage\n",
       "\u001b[0;31mString form:\u001b[0m <__main__.MemoryStorage object at 0x138309b50>\n",
       "\u001b[0;31mDocstring:\u001b[0m   <no docstring>"
      ]
     },
     "metadata": {},
     "output_type": "display_data"
    }
   ],
   "source": [
    "memory_storage"
   ]
  },
  {
   "cell_type": "code",
   "execution_count": 267,
   "id": "6abaa817-fc79-4544-bdec-5b16a941e599",
   "metadata": {},
   "outputs": [],
   "source": [
    "memory_storage.update_data(\"personal_info\", {'last_names': 'Paul Diez', 'first_names': 'Jane'})"
   ]
  },
  {
   "cell_type": "code",
   "execution_count": 297,
   "id": "0911197f-d771-4665-a0fb-bb821095c06d",
   "metadata": {},
   "outputs": [
    {
     "name": "stdout",
     "output_type": "stream",
     "text": [
      "```json\n",
      "{\n",
      "  \"personal_info\": {\n",
      "    \"birth_date\": \"1990-09-14\"\n",
      "  },\n",
      "  \"incomplete_fields\": []\n",
      "}\n",
      "```"
     ]
    },
    {
     "data": {
      "text/plain": [
       "'```json\\n{\\n  \"personal_info\": {\\n    \"birth_date\": \"1990-09-14\"\\n  },\\n  \"incomplete_fields\": []\\n}\\n```'"
      ]
     },
     "execution_count": 297,
     "metadata": {},
     "output_type": "execute_result"
    }
   ],
   "source": []
  },
  {
   "cell_type": "code",
   "execution_count": 290,
   "id": "13f2277a-c4d1-48e3-ae31-389e2a360a05",
   "metadata": {},
   "outputs": [
    {
     "ename": "SyntaxError",
     "evalue": "leading zeros in decimal integer literals are not permitted; use an 0o prefix for octal integers (3339983748.py, line 1)",
     "output_type": "error",
     "traceback": [
      "\u001b[0;36m  Cell \u001b[0;32mIn[290], line 1\u001b[0;36m\u001b[0m\n\u001b[0;31m    Recruiter: Alright, it seems there was an error with the date format. Can you please provide your full date of birth in the format year, month, day? For example, 1990-09-14.\u001b[0m\n\u001b[0m                                                                                                                                                                           ^\u001b[0m\n\u001b[0;31mSyntaxError\u001b[0m\u001b[0;31m:\u001b[0m leading zeros in decimal integer literals are not permitted; use an 0o prefix for octal integers\n"
     ]
    }
   ],
   "source": [
    "Recruiter: Alright, it seems there was an error with the date format. Can you please provide your full date of birth in the format year, month, day? For example, 1990-09-14.\n",
    "Security Guard: I was born at 1983\n",
    "\n",
    "    \n",
    "    Here is validation error field schema:\n",
    "    \n",
    "    errors: array\n",
    "        - field: <field_name>\n",
    "        - value: <wrong field value>\n",
    "        - message: <validation error message>\n",
    "\n",
    "                \n",
    "    Please put null value at field at subject block if meets one of this conditions:\n",
    "    - field has validation error\n",
    "    - field was not specified\n",
    "\n",
    "    \n",
    "    If field was missed do not recognize it as an validation error.\n"
   ]
  },
  {
   "cell_type": "code",
   "execution_count": null,
   "id": "e5b005ed-4115-42d2-90b5-b8dd5ebc702d",
   "metadata": {},
   "outputs": [],
   "source": []
  },
  {
   "cell_type": "code",
   "execution_count": null,
   "id": "0c0bbdab-519f-4190-bb5c-3f0ab0308701",
   "metadata": {},
   "outputs": [],
   "source": []
  }
 ],
 "metadata": {
  "kernelspec": {
   "display_name": "gpt",
   "language": "python",
   "name": "gpt"
  },
  "language_info": {
   "codemirror_mode": {
    "name": "ipython",
    "version": 3
   },
   "file_extension": ".py",
   "mimetype": "text/x-python",
   "name": "python",
   "nbconvert_exporter": "python",
   "pygments_lexer": "ipython3",
   "version": "3.12.3"
  }
 },
 "nbformat": 4,
 "nbformat_minor": 5
}
