{
 "cells": [
  {
   "cell_type": "code",
   "execution_count": 1,
   "id": "ecb7f703-c959-4daa-aa11-3c50b3ef4269",
   "metadata": {},
   "outputs": [],
   "source": [
    "import warnings\n",
    "from importlib import reload\n",
    "\n",
    "warnings.filterwarnings('ignore')"
   ]
  },
  {
   "cell_type": "code",
   "execution_count": 50,
   "id": "77b978dd-166f-4274-993a-dc0edff0ef54",
   "metadata": {},
   "outputs": [],
   "source": [
    "from clients.gpt_database_logger import GPTDatabaseLogger\n",
    "import re\n",
    "import json\n",
    "\n",
    "GPT_DB_LOGGER_PATH = 'sqlite:///prompt_versions.db'\n",
    "\n",
    "db_logger = GPTDatabaseLogger(GPT_DB_LOGGER_PATH)\n",
    "\n",
    "AGENT_API_URL = 'http://localhost:8013'\n",
    "AGENT_API_URL = 'https://neon-dev.us'"
   ]
  },
  {
   "cell_type": "code",
   "execution_count": 11,
   "id": "70c8bcf2-d4d5-4bd4-853c-28b8cc1f266f",
   "metadata": {},
   "outputs": [],
   "source": [
    "import sys\n",
    "\n",
    "sys.path.append('/Users/valuamba/projs/components_agent_sales/app/utils')\n",
    "\n",
    "from html_messages_parser import get_element_messages, get_messages_from_html_file  \n"
   ]
  },
  {
   "cell_type": "code",
   "execution_count": 1,
   "id": "2bc3b202-6927-4373-93e8-fa0571324e67",
   "metadata": {},
   "outputs": [],
   "source": [
    "from typing import List\n",
    "\n",
    "def get_conversation_html(file_name: str):\n",
    "    with open(f'./deals_html/discount_v4/{file_name}.html', 'r') as f:\n",
    "        return f.read()\n",
    "\n",
    "def parse_file_name(file_name: str):\n",
    "    deal_id, message_id = file_name.split('_', 1)\n",
    "    return deal_id, message_id\n",
    "\n",
    "def get_conversation_messages(file_name: str) -> List[str]:\n",
    "    return get_messages_from_html_file(f'./deals_html/discount_v3/{file_name}.html')\n",
    "\n",
    "def messages_to_pretty_format(messages: List[str]):\n",
    "    for idx, msg in enumerate(messages):\n",
    "        print(f'Message: {len(messages) - idx}')\n",
    "        print(f'```\\n' + msg + '\\n```\\n\\n')\n",
    "\n",
    "def select_json_block(text: str):\n",
    "    match = re.search(r\"```json\\n([\\s\\S]*?)\\n```\", text)\n",
    "    if match:\n",
    "        json_data = match.group(1)\n",
    "    else:\n",
    "        raise ValueError(\"No valid JSON data found in the string.\")\n",
    "\n",
    "    return json.loads(json_data)\n",
    "\n",
    "\n",
    "def prepare_conversation_to_prompt(messages_from_latest):\n",
    "    messages_str = ''\n",
    "    for idx, msg in enumerate(messages_from_latest):\n",
    "        messages_str += f'Message: {len(messages_from_latest) - idx}\\n'\n",
    "        if 'Offer-Nr.' in msg:\n",
    "            messages_str += '<Offer from CRM>'\n",
    "        messages_str += f'```\\n' + msg + '\\n```\\n\\n'\n",
    "    return messages_str\n",
    "\n",
    "def filter_messages(messages_from_latest, skip: int, lenght: int):\n",
    "    return messages_from_latest[::-1][skip:skip+lenght][::-1]\n",
    "    "
   ]
  },
  {
   "cell_type": "code",
   "execution_count": 4,
   "id": "35b4259d-d99b-4019-a9bb-d87cfa82cd26",
   "metadata": {},
   "outputs": [
    {
     "data": {
      "text/plain": [
       "'Dear Mr.Pushkar,With reference to the receipt of your Quotation Ref 451540, we request you to send us your final discounted Quotation addressed to Fire Shield Metal Works, Zone 57, Building 16, Industrial Area, Doha, QatarWe request you to confirm us that you will provide us the COC 2.1 certificate for the proposed productBest regardsThomas Philip (Manager)FIRE SHIELD METAL WORKSPost Box : 8318,Doha, Qatar.Tel : +974 44416569Mobile : +974 55549206Website :\\xa0www.safari-industries.comOn Mon, Nov 6, 2023 at 9:38\\u202fAM <pushkar@famaga.com> wrote:\\n\\n\\n\\n\\nOffer-Nr.:\\n\\n                    451540                \\n\\nCustomer request #:\\n\\n\\n\\nCustomer #:\\n\\n                    48049                \\n\\n\\nDate:\\n\\n                    Monday, 06 November 2023                \\n\\nInquiry #:\\n\\n\\n\\nContact person:\\n\\n                                            Pushkar Agarwal                                    \\n\\n\\nOffer valid till\\n\\n                    06.12.2023                \\n\\nInquiry date\\n\\n                    31.10.2023                \\n\\n\\n                    E-mail:\\n                \\n\\npushkar@famaga.com \\n\\n\\n\\nWe would like to thank you for your inquiry and we are pleased to provide you our quotation as follows. Please feel free to contact us if you need any further information.\\n\\n\\n\\n\\nPos.\\nTitle\\nDescription and article\\nQty.\\nPrice\\nSum\\nDelivery time\\n\\n\\n\\n\\n1\\n\\nTEMP ASSEMBLY\\nRodax code: S260 PVA AG S\\nHV D6 W3 A1 E405 N110 Z310\\nSC173\\nS260: Assembly with low\\nscrewed head in aluminum\\nPVA: Hi-tech spring loaded\\nthermoplast\\nAG: ATEX Gas Ex ic ec\\nS: Single element\\nHV: High vibration\\nresistance\\nD6: Sensor diameter 6 mm\\nW3: 3 wire electrical\\nconnection\\nA1: Accuracy class A\\nE405: Connection to\\nthermowell ½\" NPT\\nN110: Extension length 110\\nmm\\nZ310: Bore depth in\\nthermowell 310 mm\\nSC173: Single conduit 1x\\nM20x1.5\\nATEX II 3G Ex ic/ec IIC\\nT6...T1 Gc\\nAccording to drawing\\n2113.2117.450\\nRodax\\n\\n\\nS260\\n\\n3pcs\\n\\n                                360,15$            \\n\\n                1.080,45$            \\n\\n                                                            6                        -\\n                        8                        weeks                                                \\n\\n\\n2\\n\\nDelivery +\\nInsurance\\n\\n\\n\\n\\n\\n1pcs\\n\\n                                202,33$            \\n\\n                202,33$            \\n\\n                                                            6                        -\\n                        8                        weeks                                                \\n\\n\\n\\n\\n\\n\\n\\n\\n\\n\\n\\n\\n\\n            Goods value        \\n\\n            Trans.        \\n\\n            Netto        \\n\\n\\n\\n            Total payment        \\n\\n\\n\\n            1.282,78$        \\n\\n            0,00$        \\n\\n            1.282,78$        \\n\\n            0,00$        \\n\\n            1.282,78$        \\n\\n\\n\\n\\n\\n\\n\\nDelivery terms\\n\\nDAP\\n\\n\\n\\nPayment conditions\\n\\nexcl. Duties & Taxes\\n\\n\\n\\nPayment terms\\n\\nAdvance payment\\n\\n\\n\\nValid till\\n\\n06.12.2023\\n\\n\\n\\nPlease be kindly informed about 30 Euro fee for orders under 150 Euro.\\nOur general terms and conditions of delivery shall apply. The terms can be found on the internet under https://famaga.de/imperssum or obtained from us.\\nWe hope our offer turned out to be profitable for you and we will be glad to see you among the regular customers of our company\\n\\n\\n\\t\\t\\tYours sincerely            \\n\\n            FAMAGA Group GmbH & Co. KG\\n\\t\\t\\tPushkar Agarwal\\n\\n\\n\\n\\n\\n\\n\\n\\n\\n\\n      -------- Forwarded Message --------\\n      \\n\\n\\nSubject:\\n            \\nRFQ for the supply of Rodax spare parts 2113.2117.450\\n\\n\\nDate: \\nTue, 31 Oct 2023 15:52:17 +0300\\n\\n\\nFrom: \\nSales Safari <sales@safariproject.com>\\n\\n\\nTo: \\nsales@famaga.com\\n\\n\\nCC: \\nSafari Projects <safarips@gmail.com>\\n\\n\\n\\n\\n\\n\\n\\n\\n\\n\\n\\n\\nDear sir,\\n\\xa0\\nWe request you\\n                        to send us your best competitive Quotation (FCA,\\n                        Incoterm) for the supply of below mentioned\\n                        Rodax Spare parts\\xa02113.2117.450\\xa0with earliest delivery\\n                        schedule.\\nQuantity\\n                        required - 3 Each\\nIf the details\\n                        of the item/s you are quoting differ in any way\\n                        to the descriptions/part numbers below, please\\n                        provide details for the changes.\\nAlso, if the material is a dual\\n                            use material, please provide the ECCN\\n                            number.\\n\\n\\n\\n\\n\\n\\nItem\\n\\n\\nShort Text\\n\\n\\nLong text\\n\\n\\nQuantity Required\\n\\n\\n\\n\\n1\\xa0\\n                                \\xa0\\n\\n\\n\\n\\n\\n\\n\\n\\n\\xa0\\xa0\\n\\n\\nELEMENT,TEMP,2113.2117.450,RODAX\\n\\n\\n\\n\\n\\n\\n\\n\\n\\n\\nSpare\\n                                parts\\n                                Part name\\xa0\\xa0\\xa0\\xa0\\xa0\\xa0\\xa0\\xa0\\xa0\\xa0\\xa0\\xa0\\xa0\\xa0\\xa0\\xa0\\xa0\\xa0\\xa0\\xa0 ELEMENT,\\n                                TEMPERATURE\\n                                Manufacturer part number\\xa0\\xa0\\xa0\\xa0\\xa0\\n                                2113.2117.450\\n                                Manufacturer \\xa0\\xa0\\xa0\\xa0\\xa0\\xa0\\xa0\\xa0\\xa0\\xa0\\xa0\\xa0\\xa0\\xa0\\xa0\\xa0\\xa0RODAX\\n                                Material\\xa0\\xa0\\xa0\\xa0\\xa0\\xa0\\xa0\\xa0\\xa0\\xa0\\xa0\\xa0\\xa0\\xa0\\xa0\\xa0\\xa0\\xa0\\xa0\\xa0\\xa0 SS316\\n                                Additional Information\\xa0\\xa0\\xa0\\xa0\\xa0\\xa0\\xa0 PT 100\\n                                Certification Compliance STD\\xa0\\xa0BS EN\\n                                10204 or ISO 10474\\n\\n                                  Certificate(s) Required\\xa0\\xa0\\xa0\\xa0\\xa0\\xa0 1. COC - 2.1\\n\\n                                Equip name\\xa0\\xa0\\xa0\\xa0\\xa0\\xa0\\xa0\\xa0\\xa0\\xa0\\xa0\\xa0\\xa0\\xa0\\xa0\\xa0\\xa0\\xa0\\xa0 INSTRUMENT\\n                                SCHEDULE\\n                                Equip model\\xa0\\xa0\\xa0\\xa0\\xa0\\xa0\\xa0\\xa0\\xa0\\xa0\\xa0\\xa0\\xa0\\xa0\\xa0\\xa0\\xa0\\xa0 927E4316\\n                                927E4290\\n                                PT100\\n                                Serial number\\xa0\\xa0\\xa0\\xa0\\xa0\\xa0\\xa0\\xa0\\xa0\\xa0\\xa0\\xa0\\xa0\\xa0\\xa0\\xa0 1611\\n                                Drawing/Pos numb\\xa0\\xa0\\xa0\\xa0\\xa0\\xa0\\xa0\\xa0\\xa0\\xa0\\xa0\\xa0\\xa0 927E4316\\n                                T-4.156.895/x\\n                                927E4290 T-4.156.395/x\\n                                T-4.134.815 927e1230/SH10\\n                                T-4.134.712 927e1229/SH23\\n\\n\\n\\n\\n\\n\\n\\n\\n\\n\\n\\n\\n3\\xa0\\n                                \\xa0Ea\\xa0\\n\\n\\n\\n\\n\\n\\n\\n\\n\\xa0\\n\\n\\n\\n\\n\\xa0\\n\\xa0\\nBid required: ASAP\\nCurrency:\\n                      USD\\n                          / EUR\\xa0\\nDelivery:\\n                      ASAP (Urgently\\n                        needed items)\\nDelivery Terms:\\n                      FCA\\n                          COLLECTION ADDRESS\\nTechnical requirement:\\n                      NO\\n                          TEST REPORT – NO ACCEPTANCE\\nMaterial Test Certificates,\\n                        Pressure Test Certificate, Calibration\\n                        Certificate or Certificate of Compliance\\n                        (whichever is applicable) are required.\\n\\n\\nNote:\\n                        \\n1. PLEASE QUOTE EXACT ITEMS; In the\\n                        event that the Part No. has been changed, please\\n                        advise correct Part No. and reason for the\\n                        difference.\\n2. All Certificates mentioned on\\n                          the material text should be confirmed to be\\n                          supplied before PO issuance.\\n\\n\\xa0\\n\\xa0Best\\n                        regards\\nThomas Philip (Manager)\\nSAFARI PROJECT SUPPLIERS/FIRE SHIELD\\n                        METAL WORKS\\nPost Box : 8318,\\nDoha, Qatar.\\nTel : +974 44416569\\nMobile : +974 55549206\\nWebsite :\\xa0www.safari-industries.com\\n\\n\\n\\xa0\\n\\n\\n\\n\\n\\n\\n\\n\\n\\n'"
      ]
     },
     "execution_count": 4,
     "metadata": {},
     "output_type": "execute_result"
    }
   ],
   "source": [
    "from bs4 import BeautifulSoup\n",
    "\n",
    "soup = BeautifulSoup(get_conversation_html('451540_41673.0'), 'html.parser')\n",
    "\n",
    "\n",
    "soup.get_text()"
   ]
  },
  {
   "cell_type": "code",
   "execution_count": 7,
   "id": "41f0e777-499a-489f-be4f-253ea8611192",
   "metadata": {},
   "outputs": [],
   "source": [
    "file_name = '410158_CAFidWpS2O2JN6fPtwQ0SiqdsSG+y9qDr0xEWeZj_c==rEhG62g@mail.gmail.com'\n"
   ]
  },
  {
   "cell_type": "code",
   "execution_count": 8,
   "id": "085f85f4-058f-4b71-a4b7-40237e9946ec",
   "metadata": {},
   "outputs": [],
   "source": [
    "conversation_html = get_conversation_html(file_name)"
   ]
  },
  {
   "cell_type": "code",
   "execution_count": 9,
   "id": "93fc8253-5575-4c59-94f2-0e757180945b",
   "metadata": {},
   "outputs": [],
   "source": [
    "deal_id, message_id = parse_file_name(file_name)"
   ]
  },
  {
   "cell_type": "code",
   "execution_count": 25,
   "id": "88e8b4f6-938a-4ba7-b815-d4e327954874",
   "metadata": {},
   "outputs": [],
   "source": [
    "messages = get_conversation_messages(file_name)"
   ]
  },
  {
   "cell_type": "code",
   "execution_count": 26,
   "id": "2a9d7fed-9ac0-4cd7-8629-6767f4c659ec",
   "metadata": {},
   "outputs": [],
   "source": [
    "messages_from_start = messages[::-1]"
   ]
  },
  {
   "cell_type": "code",
   "execution_count": null,
   "id": "f58910c9-5962-4e72-81c5-49dd0cf418dc",
   "metadata": {},
   "outputs": [],
   "source": [
    "messages_to_pretty_format(messages_from_start[8:8+3][::-1])"
   ]
  },
  {
   "cell_type": "code",
   "execution_count": 114,
   "id": "8c1bed81-5e73-4544-b76e-ca80b5fc5d0e",
   "metadata": {},
   "outputs": [],
   "source": [
    "def discount_processing(conversation: str) -> str:\n",
    "    response = db_logger.create_completion(temperature=0.1, tags='discount_state', model='gpt-4', messages=[\n",
    "        { \"role\": \"user\", \"content\": f\"\"\"\n",
    "Analyze the messages and try to figure out discount state at conversation.\n",
    "\n",
    "By 'discount,' I also mean a request to lower the price, etc. The following or other terms may be used for this purpose: - discount, payment terms, lower price, \n",
    "your price is too high, provide us a cheaper price, better price, expensive.\n",
    "\n",
    "The possible discount states: NotHandled, Rejected, RepeatedRequest, NotAsked.\n",
    "\n",
    "Conversation:\n",
    "{conversation}\n",
    "\n",
    "Put the response into ```json``` format like this:\n",
    "```json\n",
    "{{\n",
    "    \"state\": <discount state>,\n",
    "    \"justification\": <justification why client ask for discount> // fill this field only if it specified at customer messages\n",
    "    \"messages_ids\": array[] // messages ids where customer or sales manager discuss or mention discount\n",
    "}}\n",
    "```\n",
    "\"\"\"}])\n",
    "    discount_state = select_json_block(response)\n",
    "    return discount_state\n",
    "    "
   ]
  },
  {
   "cell_type": "code",
   "execution_count": 115,
   "id": "c4a3fb25-17a0-4d45-b923-a842f7c24f1d",
   "metadata": {},
   "outputs": [],
   "source": [
    "prepared_messages = filter_messages(messages, 8, 3)\n",
    "prepared_conversation = prepare_conversation_to_prompt(prepared_messages)\n"
   ]
  },
  {
   "cell_type": "code",
   "execution_count": 116,
   "id": "e4fcd339-bf65-4f6c-9bcd-f3bf612e97b2",
   "metadata": {},
   "outputs": [
    {
     "name": "stdout",
     "output_type": "stream",
     "text": [
      "```json\n",
      "{\n",
      "    \"state\": \"NotHandled\",\n",
      "    \"justification\": \"The customer has already made the payment and is asking for a discount.\",\n",
      "    \"messages_ids\": [3]\n",
      "}\n",
      "```\n",
      "\n",
      "--------------------\n",
      "\n",
      "Note saved without feedback. ID: 5afaf4a8-4b0d-4a2d-bc08-345562027955\n",
      "Input tokens: 861 Output tokens: 42 Total price: 0.03$\n",
      "\n",
      "\n"
     ]
    },
    {
     "data": {
      "application/vnd.jupyter.widget-view+json": {
       "model_id": "e9979029e37747efa3160cbeba7ea93e",
       "version_major": 2,
       "version_minor": 0
      },
      "text/plain": [
       "HBox(children=(Button(button_style='success', description='👍 Like', style=ButtonStyle(), tooltip='Like this co…"
      ]
     },
     "metadata": {},
     "output_type": "display_data"
    },
    {
     "data": {
      "application/vnd.jupyter.widget-view+json": {
       "model_id": "7525200e6bc14a01b9d1e45eba1130f3",
       "version_major": 2,
       "version_minor": 0
      },
      "text/plain": [
       "Textarea(value='', description='Feedback:', layout=Layout(height='80px', width='70%'), placeholder='Type your …"
      ]
     },
     "metadata": {},
     "output_type": "display_data"
    },
    {
     "data": {
      "application/vnd.jupyter.widget-view+json": {
       "model_id": "2c3502d94a824fa4af2c1d875ca645c4",
       "version_major": 2,
       "version_minor": 0
      },
      "text/plain": [
       "Button(button_style='success', description='Submit Feedback', style=ButtonStyle(), tooltip='Click to submit fe…"
      ]
     },
     "metadata": {},
     "output_type": "display_data"
    }
   ],
   "source": [
    "response = discount_processing(prepared_conversation)"
   ]
  },
  {
   "cell_type": "code",
   "execution_count": null,
   "id": "b1d1206a-ace1-4604-9235-cbc4ed9dd113",
   "metadata": {},
   "outputs": [],
   "source": [
    "print(prepared_conversation)"
   ]
  },
  {
   "cell_type": "code",
   "execution_count": 118,
   "id": "4f9d945f-d3a5-49f0-a350-4e39a34f6c03",
   "metadata": {},
   "outputs": [],
   "source": [
    "discount_messages = ''\n",
    "for id in sorted(response['messages_ids'], reverse=True):\n",
    "    discount_messages += f'Message: {id}\\n'\n",
    "    discount_messages += f'```\\n' + prepared_messages[-id] + '\\n```\\n\\n'"
   ]
  },
  {
   "cell_type": "code",
   "execution_count": 63,
   "id": "9b7ef73f-1077-41b9-973a-47c4f878dd9a",
   "metadata": {},
   "outputs": [
    {
     "name": "stdout",
     "output_type": "stream",
     "text": [
      "good afternoon,\n",
      "                                                  please could you give\n",
      "                                                  me a discount for\n",
      "                                                  already made the\n",
      "                                                  payment and can you\n",
      "                                                  tell me how long it\n",
      "                                                  takes for me to\n",
      "                                                  receive it in\n",
      "                                                  Mozambique?<kg1@famaga.de> escreveu em qui.,\n",
      "                                                  15/06/2023 às 14:44 :\n"
     ]
    }
   ],
   "source": [
    "print(prepared_messages[-response['messages_ids'][0]])"
   ]
  },
  {
   "cell_type": "code",
   "execution_count": 99,
   "id": "4b8d861e-4a4d-4228-8adf-02f055ee15d9",
   "metadata": {},
   "outputs": [],
   "source": [
    "import requests\n",
    "from collections import defaultdict\n",
    "from datetime import datetime\n",
    "\n",
    "class FamagaClient:\n",
    "    def __init__(self, api_key, session_id):\n",
    "        self.base_url = \"https://api.famaga.org\"\n",
    "        self.headers = {\n",
    "            \"Authorization\": f\"Bearer {api_key}\",\n",
    "            \"Cookie\": f\"PHPSESSID={session_id}\"\n",
    "        }\n",
    "\n",
    "    def list_offers_by_deal_id(self, deal_id):\n",
    "        \"\"\"List offers by deal ID\"\"\"\n",
    "        response = requests.get(f\"{self.base_url}/requisition?request={deal_id}\", headers=self.headers)\n",
    "        return response.json()\n",
    "\n",
    "    def parts_selected_at_offer(self, offer_id):\n",
    "        \"\"\"Fetch parts selected at a specific offer\"\"\"\n",
    "        response = requests.get(f\"{self.base_url}/requisition/{offer_id}/products\", headers=self.headers)\n",
    "        return response.json()\n",
    "\n",
    "    def list_offers_by_client_id(self, client_id):\n",
    "        \"\"\"Retrieve offers by client ID\"\"\"\n",
    "        response = requests.get(f\"{self.base_url}/requisition?client={client_id}\", headers=self.headers)\n",
    "        return response.json()\n",
    "\n",
    "    def list_current_offer_details(self, offer_id):\n",
    "        \"\"\"List details of the current offer in a specific format\"\"\"\n",
    "        parts = self.parts_selected_at_offer(offer_id)\n",
    "        formatted_parts = []\n",
    "        for part in parts:\n",
    "            formatted_part = f\"({part['articul']} {part['brand_title']}) margin: {part['margin_ru']}%, sell: {part['price_end']}$ qty. {part['count']}\"\n",
    "            formatted_parts.append(formatted_part)\n",
    "        return \"\\n\".join(formatted_parts)\n",
    "\n",
    "    def find_parts_client_bought_before(self, client_id, current_offer_parts):\n",
    "        \"\"\"Return the parts that a client has bought before\"\"\"\n",
    "        all_offers = self.list_offers_by_client_id(client_id)\n",
    "        past_parts = []\n",
    "        for offer in all_offers.get('content', []):\n",
    "            parts = self.parts_selected_at_offer(offer['request']['id'])\n",
    "            past_parts.extend(parts)\n",
    "        \n",
    "        bought_before = []\n",
    "        current_parts_articul = [part['articul'] for part in current_offer_parts]\n",
    "        for part in past_parts:\n",
    "            if part['articul'] in current_parts_articul:\n",
    "                bought_before.append(part)\n",
    "        \n",
    "        return bought_before\n",
    "\n",
    "    def get_client_purchase_history_formatted(self, client_id, exluded_deal: int=None):\n",
    "        \"\"\"Generate formatted purchase history for a client\"\"\"\n",
    "        history_data = self.list_offers_by_client_id(client_id)\n",
    "        purchases = defaultdict(list)\n",
    "        \n",
    "        for item in history_data.get('content', []):\n",
    "            date_key = datetime.strptime(item['created'], '%Y-%m-%dT%H:%M:%S%z').date()\n",
    "            request_id = int(item['request']['id'])\n",
    "            if exluded_deal is None or request_id != exluded_deal:\n",
    "                parts = self.parts_selected_at_offer(request_id)\n",
    "    \n",
    "                for part in parts:\n",
    "                    line = f\"{item['id']} ({part['articul']} {part['brand_title']}) margin: {part['margin_ru']}%, sell: {part['price_end']}$ qty. {part['count']}, request id {part['request_id']}\"\n",
    "                    purchases[date_key].append(line)\n",
    "        \n",
    "        # Formatting the result\n",
    "        result = \"[CLIENT PURCHASE HISTORY]\\n**Client purchase history:**\\n\"\n",
    "        for date in sorted(purchases):\n",
    "            result += f\"Date: {date}\\n\"\n",
    "            result += \"\\n\".join(purchases[date]) + \"\\n\\n\"\n",
    "        result += \"[/CLIENT PURCHASE HISTORY]\"\n",
    "        return result\n",
    "\n",
    "\n"
   ]
  },
  {
   "cell_type": "code",
   "execution_count": 100,
   "id": "1eaf7d19-67d2-4648-93c0-ff5b691c7c12",
   "metadata": {},
   "outputs": [],
   "source": [
    "api_key = \"YXBpZmFtYWdhcnU6RHpJVFd1Lk1COUV4LjNmdERsZ01YYlcvb0VFcW9NLw\"\n",
    "session_id = \"085qpt4eflu39a0dg7hjhr5mdu\"\n",
    "client = FamagaClient(api_key, session_id)"
   ]
  },
  {
   "cell_type": "code",
   "execution_count": 68,
   "id": "cf91aa94-316a-432b-8a1f-23d77cd6ed87",
   "metadata": {},
   "outputs": [],
   "source": [
    "offer_info = client.list_offers_by_deal_id(deal_id)\n",
    "offer_id = offer_info['content'][0]['request']['id']\n",
    "client_id = offer_info['content'][0]['request']['firm']['id']"
   ]
  },
  {
   "cell_type": "code",
   "execution_count": 109,
   "id": "15045a6b-a6e1-458b-bb4e-f4f06e807e55",
   "metadata": {},
   "outputs": [],
   "source": [
    "purchase_history = client.get_client_purchase_history_formatted(client_id, int(deal_id))"
   ]
  },
  {
   "cell_type": "code",
   "execution_count": 119,
   "id": "7e819458-3668-48f6-9f91-e0459cbe50c9",
   "metadata": {},
   "outputs": [],
   "source": [
    "current_offer = client.list_current_offer_details(offer_id)"
   ]
  },
  {
   "cell_type": "code",
   "execution_count": 124,
   "id": "f9265efd-f69d-41cc-b12a-d73dcaa46f01",
   "metadata": {},
   "outputs": [
    {
     "name": "stdout",
     "output_type": "stream",
     "text": [
      "Discount -> Default\n",
      "\n",
      "--------------------\n",
      "\n",
      "Note saved without feedback. ID: cd3dfa1c-5fce-44b5-9226-0674bd1adb12\n",
      "Input tokens: 228 Output tokens: 3 Total price: 0.01$\n",
      "\n",
      "\n"
     ]
    },
    {
     "data": {
      "application/vnd.jupyter.widget-view+json": {
       "model_id": "42317004436c4888b9411e70998c83a2",
       "version_major": 2,
       "version_minor": 0
      },
      "text/plain": [
       "HBox(children=(Button(button_style='success', description='👍 Like', style=ButtonStyle(), tooltip='Like this co…"
      ]
     },
     "metadata": {},
     "output_type": "display_data"
    },
    {
     "data": {
      "application/vnd.jupyter.widget-view+json": {
       "model_id": "151a1a5aeaa84057beaede10a11be489",
       "version_major": 2,
       "version_minor": 0
      },
      "text/plain": [
       "Textarea(value='', description='Feedback:', layout=Layout(height='80px', width='70%'), placeholder='Type your …"
      ]
     },
     "metadata": {},
     "output_type": "display_data"
    },
    {
     "data": {
      "application/vnd.jupyter.widget-view+json": {
       "model_id": "98f95b2ccb504e43861b86381ffe6a82",
       "version_major": 2,
       "version_minor": 0
      },
      "text/plain": [
       "Button(button_style='success', description='Submit Feedback', style=ButtonStyle(), tooltip='Click to submit fe…"
      ]
     },
     "metadata": {},
     "output_type": "display_data"
    }
   ],
   "source": [
    "response = db_logger.create_completion(temperature=0, tags='query_builder', model='gpt-4', messages=[\n",
    "        { \"role\": \"user\", \"content\": f\"\"\"\n",
    "Select one of documents with instructions:\n",
    "\n",
    "- Discount -> Default: default instruction how to do negotiations with customer about decision and pricing.\n",
    "- Discount -> Purchased same product: guide how to deal with loyal customer that already bought product that requires at current deal.\n",
    "\n",
    "Messages about discount at conversation:\n",
    "```\n",
    "{discount_messages}\n",
    "```\n",
    "\n",
    "{purchase_history}\n",
    "\n",
    "Deal offer:\n",
    "{current_offer}\n",
    "\n",
    "Answer should contain single document name with no other text.\n",
    "    \n",
    "\"\"\"}])"
   ]
  },
  {
   "cell_type": "code",
   "execution_count": 125,
   "id": "f2fead34-7072-4110-9545-24adc6607362",
   "metadata": {},
   "outputs": [],
   "source": [
    "document_name = response"
   ]
  },
  {
   "cell_type": "code",
   "execution_count": 105,
   "id": "7c10b152-c7aa-4065-9a59-764de10e3ff4",
   "metadata": {},
   "outputs": [],
   "source": [
    "import gspread\n",
    "from oauth2client.service_account import ServiceAccountCredentials\n",
    "from pydantic import BaseModel, Field, field_validator\n",
    "\n",
    "\n",
    "class GoogleSheetToSQLiteConverter:\n",
    "    def __init__(self, spreadsheet: str, credentials_path: str):\n",
    "        scope = ['https://spreadsheets.google.com/feeds','https://www.googleapis.com/auth/drive']\n",
    "        creds = ServiceAccountCredentials.from_json_keyfile_name(credentials_path, scope)\n",
    "        self.spreadsheet = spreadsheet\n",
    "        self.client = gspread.authorize(creds)\n",
    "        \n",
    "    def get_sheet_data(self, sheet: str):\n",
    "        worksheet = self.client.open(self.spreadsheet).worksheet(sheet)\n",
    "        records = worksheet.get_all_values()\n",
    "\n",
    "        return records\n",
    "\n",
    "\n",
    "ghconv = GoogleSheetToSQLiteConverter(\n",
    "    spreadsheet='Famaga Knowledge Map', \n",
    "    credentials_path=r'langchain-400510-06936d0d30b5.json')\n",
    "\n",
    "\n"
   ]
  },
  {
   "cell_type": "code",
   "execution_count": 127,
   "id": "9772a50f-ac3c-454d-9f34-b7b6f9a45984",
   "metadata": {},
   "outputs": [],
   "source": [
    "sheet_data = ghconv.get_sheet_data(document_name)"
   ]
  },
  {
   "cell_type": "code",
   "execution_count": 128,
   "id": "7cde8d53-adff-4e2d-85a2-15793cf4a32a",
   "metadata": {},
   "outputs": [
    {
     "name": "stdout",
     "output_type": "stream",
     "text": [
      "#### 1. **Field Names**:\n",
      "   - **\"Is desired discount specified?\"**: Wether customer specified desired discount at percents or amount?\n",
      "   - **\"Is margin still above 10%?\"**: If you apply desired discount wether margin still greater than 10%?\n",
      "\n",
      "#### 2. **Possible Values**:\n",
      "   - **TRUE**: The condition is met.\n",
      "   - **FALSE**: The condition is not met.\n",
      "   - **ANY**: The condition is not relevant or any value is acceptable.\n",
      "\n"
     ]
    }
   ],
   "source": [
    "data = sheet_data\n",
    "\n",
    "# 1. Construct the Field Names section\n",
    "field_names_section = \"#### 1. **Field Names**:\\n\"\n",
    "for i in range(len(data[0]) - 1):  # Skip the \"instruction\" column\n",
    "    field_name = data[0][i]\n",
    "    field_description = data[1][i]\n",
    "    field_names_section += f\"   - **\\\"{field_name}\\\"**: {field_description}\\n\"\n",
    "\n",
    "# 2. Construct the Possible Values section\n",
    "possible_values_section = \"#### 2. **Possible Values**:\\n\"\n",
    "possible_values_section += \"   - **TRUE**: The condition is met.\\n\"\n",
    "possible_values_section += \"   - **FALSE**: The condition is not met.\\n\"\n",
    "possible_values_section += \"   - **ANY**: The condition is not relevant or any value is acceptable.\\n\"\n",
    "\n",
    "# Combine sections to form the final instruction\n",
    "final_instruction = f\"{field_names_section}\\n{possible_values_section}\"\n",
    "\n",
    "print(final_instruction)\n"
   ]
  },
  {
   "cell_type": "code",
   "execution_count": 129,
   "id": "19d1ac71-47eb-4a93-b51f-21a0b34e7a99",
   "metadata": {},
   "outputs": [
    {
     "name": "stdout",
     "output_type": "stream",
     "text": [
      "```json\n",
      "{\n",
      "    \"query\": \"`Is desired discount specified?` == 'FALSE'\"\n",
      "}\n",
      "```\n",
      "\n",
      "--------------------\n",
      "\n",
      "Note saved without feedback. ID: 6d1e1c46-8fa4-445e-b506-f0bb7f31f17c\n",
      "Input tokens: 344 Output tokens: 21 Total price: 0.01$\n",
      "\n",
      "\n"
     ]
    },
    {
     "data": {
      "application/vnd.jupyter.widget-view+json": {
       "model_id": "d1dc08a2b89546649633cf5fe84e9601",
       "version_major": 2,
       "version_minor": 0
      },
      "text/plain": [
       "HBox(children=(Button(button_style='success', description='👍 Like', style=ButtonStyle(), tooltip='Like this co…"
      ]
     },
     "metadata": {},
     "output_type": "display_data"
    },
    {
     "data": {
      "application/vnd.jupyter.widget-view+json": {
       "model_id": "305a3e5f50b94b2e898bf287190acd7c",
       "version_major": 2,
       "version_minor": 0
      },
      "text/plain": [
       "Textarea(value='', description='Feedback:', layout=Layout(height='80px', width='70%'), placeholder='Type your …"
      ]
     },
     "metadata": {},
     "output_type": "display_data"
    },
    {
     "data": {
      "application/vnd.jupyter.widget-view+json": {
       "model_id": "cbc9aefb875545dbb05a5b2fa79bffde",
       "version_major": 2,
       "version_minor": 0
      },
      "text/plain": [
       "Button(button_style='success', description='Submit Feedback', style=ButtonStyle(), tooltip='Click to submit fe…"
      ]
     },
     "metadata": {},
     "output_type": "display_data"
    }
   ],
   "source": [
    "response = db_logger.create_completion(temperature=0.1, tags='query_builder', model='gpt-4', messages=[\n",
    "        { \"role\": \"user\", \"content\": f\"\"\"\n",
    "Build query for this input data.\n",
    "\n",
    "Messages about discount at conversation:\n",
    "```\n",
    "{discount_messages}\n",
    "```\n",
    "\n",
    "{purchase_history}\n",
    "        \n",
    "### Querying Instructions:\n",
    "\n",
    "{final_instruction}\n",
    "\n",
    "#### 3. **Building a Query**:\n",
    "   - Use only field names that listed at instruction with possible values\n",
    "   - Use the `query()` method in Pandas to filter the table based on the conditions.\n",
    "   - Format each condition as a string using the field names and their desired values.\n",
    "\n",
    "#### 5. **Example Queries**:\n",
    "\n",
    "```json\n",
    "{{\n",
    "    \"query\": \"`Is margin still above 10%?` == 'TRUE' and `Is the same margin on product as previous?` == 'TRUE'\"\n",
    "}}\n",
    "```\n",
    "\"\"\"}])"
   ]
  },
  {
   "cell_type": "code",
   "execution_count": 130,
   "id": "c66d481c-f46f-4f01-a762-4b6652dbe08e",
   "metadata": {},
   "outputs": [],
   "source": [
    "query = select_json_block(response)"
   ]
  },
  {
   "cell_type": "code",
   "execution_count": 131,
   "id": "97a8f4b7-f5ee-430e-82aa-99bc93255662",
   "metadata": {},
   "outputs": [
    {
     "data": {
      "text/html": [
       "<div>\n",
       "<style scoped>\n",
       "    .dataframe tbody tr th:only-of-type {\n",
       "        vertical-align: middle;\n",
       "    }\n",
       "\n",
       "    .dataframe tbody tr th {\n",
       "        vertical-align: top;\n",
       "    }\n",
       "\n",
       "    .dataframe thead th {\n",
       "        text-align: right;\n",
       "    }\n",
       "</style>\n",
       "<table border=\"1\" class=\"dataframe\">\n",
       "  <thead>\n",
       "    <tr style=\"text-align: right;\">\n",
       "      <th></th>\n",
       "      <th>Is desired discount specified?</th>\n",
       "      <th>Is margin still above 10%?</th>\n",
       "      <th>instruction</th>\n",
       "    </tr>\n",
       "  </thead>\n",
       "  <tbody>\n",
       "    <tr>\n",
       "      <th>0</th>\n",
       "      <td>FALSE</td>\n",
       "      <td>ANY</td>\n",
       "      <td>Aks customer about desired discount</td>\n",
       "    </tr>\n",
       "    <tr>\n",
       "      <th>1</th>\n",
       "      <td>TRUE</td>\n",
       "      <td>TRUE</td>\n",
       "      <td>Apply customer desired discount</td>\n",
       "    </tr>\n",
       "    <tr>\n",
       "      <th>2</th>\n",
       "      <td>TRUE</td>\n",
       "      <td>FALSE</td>\n",
       "      <td>Ask about justificastions</td>\n",
       "    </tr>\n",
       "  </tbody>\n",
       "</table>\n",
       "</div>"
      ],
      "text/plain": [
       "  Is desired discount specified? Is margin still above 10%?  \\\n",
       "0                          FALSE                        ANY   \n",
       "1                           TRUE                       TRUE   \n",
       "2                           TRUE                      FALSE   \n",
       "\n",
       "                           instruction  \n",
       "0  Aks customer about desired discount  \n",
       "1      Apply customer desired discount  \n",
       "2            Ask about justificastions  "
      ]
     },
     "execution_count": 131,
     "metadata": {},
     "output_type": "execute_result"
    }
   ],
   "source": [
    "import pandas as pd\n",
    "\n",
    "\n",
    "headers = sheet_data.pop(0)\n",
    "sheet_data.pop(0)\n",
    "df = pd.DataFrame(sheet_data, columns=headers)\n",
    "\n",
    "df"
   ]
  },
  {
   "cell_type": "code",
   "execution_count": 138,
   "id": "5b327c37-b8fe-4ad0-81a3-3099fcd3dca0",
   "metadata": {},
   "outputs": [
    {
     "data": {
      "text/html": [
       "<div>\n",
       "<style scoped>\n",
       "    .dataframe tbody tr th:only-of-type {\n",
       "        vertical-align: middle;\n",
       "    }\n",
       "\n",
       "    .dataframe tbody tr th {\n",
       "        vertical-align: top;\n",
       "    }\n",
       "\n",
       "    .dataframe thead th {\n",
       "        text-align: right;\n",
       "    }\n",
       "</style>\n",
       "<table border=\"1\" class=\"dataframe\">\n",
       "  <thead>\n",
       "    <tr style=\"text-align: right;\">\n",
       "      <th></th>\n",
       "      <th>Is desired discount specified?</th>\n",
       "      <th>Is margin still above 10%?</th>\n",
       "      <th>instruction</th>\n",
       "    </tr>\n",
       "  </thead>\n",
       "  <tbody>\n",
       "  </tbody>\n",
       "</table>\n",
       "</div>"
      ],
      "text/plain": [
       "Empty DataFrame\n",
       "Columns: [Is desired discount specified?, Is margin still above 10%?, instruction]\n",
       "Index: []"
      ]
     },
     "execution_count": 138,
     "metadata": {},
     "output_type": "execute_result"
    }
   ],
   "source": [
    "result = df.query(\"`Is desired discount specified?` == 'ANY' and `Is margin still above 10%?` == 'FALSE'\")\n",
    "result"
   ]
  },
  {
   "cell_type": "code",
   "execution_count": 135,
   "id": "eff8746f-beda-43ab-baa7-bc0f4b64f121",
   "metadata": {},
   "outputs": [
    {
     "name": "stdout",
     "output_type": "stream",
     "text": [
      "```json\n",
      "{\n",
      "    \"output\": \"Good afternoon, thank you for your purchase. I understand you are interested in a discount. Could you please specify the amount or percentage of discount you are looking for?\"\n",
      "}\n",
      "```\n",
      "\n",
      "--------------------\n",
      "\n",
      "Note saved without feedback. ID: 95903d1d-79df-427f-a2f9-3e477dfd95ba\n",
      "Input tokens: 218 Output tokens: 44 Total price: 0.01$\n",
      "\n",
      "\n"
     ]
    },
    {
     "data": {
      "application/vnd.jupyter.widget-view+json": {
       "model_id": "044300368ce84c1f90eb3c95c55c9143",
       "version_major": 2,
       "version_minor": 0
      },
      "text/plain": [
       "HBox(children=(Button(button_style='success', description='👍 Like', style=ButtonStyle(), tooltip='Like this co…"
      ]
     },
     "metadata": {},
     "output_type": "display_data"
    },
    {
     "data": {
      "application/vnd.jupyter.widget-view+json": {
       "model_id": "c93f5498da0c438d9224aa09d0f1dc27",
       "version_major": 2,
       "version_minor": 0
      },
      "text/plain": [
       "Textarea(value='', description='Feedback:', layout=Layout(height='80px', width='70%'), placeholder='Type your …"
      ]
     },
     "metadata": {},
     "output_type": "display_data"
    },
    {
     "data": {
      "application/vnd.jupyter.widget-view+json": {
       "model_id": "6541670528c1471bab44e102f55c270e",
       "version_major": 2,
       "version_minor": 0
      },
      "text/plain": [
       "Button(button_style='success', description='Submit Feedback', style=ButtonStyle(), tooltip='Click to submit fe…"
      ]
     },
     "metadata": {},
     "output_type": "display_data"
    }
   ],
   "source": [
    "response = db_logger.create_completion(temperature=0.1, tags='execute_task', model='gpt-4', messages=[\n",
    "        { \"role\": \"user\", \"content\": f\"\"\"\n",
    "You are sales manager. Please do task by instruction:\n",
    "{result['instruction'].iloc[0]}\n",
    "\n",
    "The conversation with customer context:\n",
    "\n",
    "Messages about discount at conversation:\n",
    "```\n",
    "{discount_messages}\n",
    "```\n",
    "\n",
    "{purchase_history}\n",
    "\n",
    "Deal offer:\n",
    "{current_offer}\n",
    "\n",
    "Put result of task into ```json``` format, like this:\n",
    "```json\n",
    "{{\n",
    "    \"output\": \"the output of task\"\n",
    "}}\n",
    "```\n",
    "\"\"\"}])"
   ]
  },
  {
   "cell_type": "code",
   "execution_count": null,
   "id": "e159803d-ec08-4d53-bcd1-932cb9b90122",
   "metadata": {},
   "outputs": [],
   "source": []
  }
 ],
 "metadata": {
  "kernelspec": {
   "display_name": "gpt",
   "language": "python",
   "name": "gpt"
  },
  "language_info": {
   "codemirror_mode": {
    "name": "ipython",
    "version": 3
   },
   "file_extension": ".py",
   "mimetype": "text/x-python",
   "name": "python",
   "nbconvert_exporter": "python",
   "pygments_lexer": "ipython3",
   "version": "3.12.3"
  }
 },
 "nbformat": 4,
 "nbformat_minor": 5
}
