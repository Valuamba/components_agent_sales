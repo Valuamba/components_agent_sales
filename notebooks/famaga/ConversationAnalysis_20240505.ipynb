{
 "cells": [
  {
   "cell_type": "code",
   "execution_count": 1,
   "id": "90020869-b0e6-4cd1-9eaf-e54dc7be34c9",
   "metadata": {},
   "outputs": [],
   "source": [
    "import warnings\n",
    "from importlib import reload\n",
    "\n",
    "warnings.filterwarnings('ignore')"
   ]
  },
  {
   "cell_type": "code",
   "execution_count": 3,
   "id": "9d5c3116-258a-4821-ab63-0ed5e48e86b1",
   "metadata": {},
   "outputs": [],
   "source": [
    "import pandas as pd\n",
    "import sys\n",
    "from tqdm.auto import tqdm, trange\n",
    "from bs4 import BeautifulSoup\n",
    "import os\n",
    "\n",
    "# Load the dataset\n",
    "df = pd.read_csv('concurrent_requisition_results.csv')"
   ]
  },
  {
   "cell_type": "code",
   "execution_count": 4,
   "id": "bb5c2935-8351-48dd-84cc-8faab1bc81dd",
   "metadata": {},
   "outputs": [
    {
     "data": {
      "text/plain": [
       "(124449, 14)"
      ]
     },
     "execution_count": 4,
     "metadata": {},
     "output_type": "execute_result"
    }
   ],
   "source": [
    "df.shape"
   ]
  },
  {
   "cell_type": "code",
   "execution_count": 5,
   "id": "f76e106c-1fc2-4108-93fc-2d0903813aef",
   "metadata": {},
   "outputs": [
    {
     "data": {
      "text/plain": [
       "Index(['request_id', 'total', 'error', 'subject', 'body', 'plain_body',\n",
       "       'mailbox', 'mail', 'host', 'full', 'date', 'uid', 'messageId',\n",
       "       'is_attachments_exists'],\n",
       "      dtype='object')"
      ]
     },
     "execution_count": 5,
     "metadata": {},
     "output_type": "execute_result"
    }
   ],
   "source": [
    "df.columns"
   ]
  },
  {
   "cell_type": "code",
   "execution_count": 6,
   "id": "4d4d5ce7-5687-4f51-ae93-5ca3d6338305",
   "metadata": {},
   "outputs": [],
   "source": [
    "df_unique = df.drop_duplicates(subset='messageId', keep='first')\n"
   ]
  },
  {
   "cell_type": "code",
   "execution_count": 7,
   "id": "be91f92d-9bbd-4e96-b18d-fbcf9ec8bd91",
   "metadata": {},
   "outputs": [
    {
     "data": {
      "text/plain": [
       "(560, 14)"
      ]
     },
     "execution_count": 7,
     "metadata": {},
     "output_type": "execute_result"
    }
   ],
   "source": [
    "df_unique.shape"
   ]
  },
  {
   "cell_type": "markdown",
   "id": "03131ff5-342c-4e00-8179-4cd95fa6b108",
   "metadata": {},
   "source": [
    "## Split HTML bodies into messages"
   ]
  },
  {
   "cell_type": "code",
   "execution_count": null,
   "id": "eb57a0c3-aa43-47f6-b053-6b05e6d25f32",
   "metadata": {},
   "outputs": [],
   "source": [
    "import pandas as pd\n",
    "import sys\n",
    "from tqdm.auto import tqdm, trange\n",
    "from bs4 import BeautifulSoup\n",
    "from html_messages_parser import get_element_messages\n",
    "import os\n",
    "\n",
    "# Load the dataset\n",
    "df = pd.read_csv('concurrent_requisition_results.csv')\n",
    "\n",
    "# Filter rows where body is not null\n",
    "df_filtered = df[df['body'].notna()]\n",
    "\n",
    "# Set up the CSV file\n",
    "output_file = 'classified_messages.csv'\n",
    "columns = [\n",
    "    'request_id', 'total', 'error', 'subject', 'mailbox', 'mail', 'host', \n",
    "    'full', 'date', 'uid', 'messageId', 'is_attachments_exists', \n",
    "    'message_index', 'message_text', 'is_offer', 'is_system_message'\n",
    "]\n",
    "\n",
    "# Check if the file exists and is non-empty\n",
    "file_exists = os.path.exists(output_file)\n",
    "write_header = not file_exists or os.path.getsize(output_file) == 0\n",
    "\n",
    "# Write the header if the file is empty or doesn't exist\n",
    "if write_header:\n",
    "    pd.DataFrame(columns=columns).to_csv(output_file, index=False)\n",
    "\n",
    "# Initialize counters for successes and failures\n",
    "success_count = 0\n",
    "error_count = 0\n",
    "\n",
    "# Create progress bars\n",
    "pbar_total = tqdm(total=len(df_filtered), desc=\"Total Processing\", position=0, leave=True)\n",
    "pbar_errors = tqdm(total=0, desc=\"Failed Handlings\", position=1, leave=True, bar_format='{l_bar}{bar}| {n} failed')\n",
    "\n",
    "# Process each row\n",
    "for _, row in df_filtered.iterrows():\n",
    "    try:\n",
    "        soup = BeautifulSoup(row['body'], \"html.parser\")\n",
    "        root_element = soup.find('body') if soup.find('body') else soup\n",
    "        messages = get_element_messages(root_element)\n",
    "\n",
    "        # Loop through messages from latest to oldest\n",
    "        for index, message in enumerate(reversed(messages), start=1):\n",
    "            is_offer = \"Offer-Nr.:\" in message\n",
    "            is_system_message = \"Your inquiry is processed under the number:\" in message\n",
    "\n",
    "            # Create a new row with all original fields except body and plain_body\n",
    "            new_row = {\n",
    "                'request_id': row['request_id'],\n",
    "                'total': row['total'],\n",
    "                'error': row['error'],\n",
    "                'subject': row['subject'],\n",
    "                'mailbox': row['mailbox'],\n",
    "                'mail': row['mail'],\n",
    "                'host': row['host'],\n",
    "                'full': row['full'],\n",
    "                'date': row['date'],\n",
    "                'uid': row['uid'],\n",
    "                'messageId': row['messageId'],\n",
    "                'is_attachments_exists': row['is_attachments_exists'],\n",
    "                'message_index': index,\n",
    "                'message_text': message,\n",
    "                'is_offer': is_offer,\n",
    "                'is_system_message': is_system_message\n",
    "            }\n",
    "\n",
    "            # Append the row to the CSV\n",
    "            pd.DataFrame([new_row]).to_csv(output_file, index=False, mode='a', header=False)\n",
    "        success_count += 1\n",
    "    except Exception as e:\n",
    "        error_count += 1\n",
    "        pbar_errors.update(1)\n",
    "    finally:\n",
    "        pbar_total.update(1)\n",
    "\n",
    "# Close the progress bars\n",
    "pbar_total.close()\n",
    "pbar_errors.close()\n"
   ]
  }
 ],
 "metadata": {
  "kernelspec": {
   "display_name": "gpt",
   "language": "python",
   "name": "gpt"
  },
  "language_info": {
   "codemirror_mode": {
    "name": "ipython",
    "version": 3
   },
   "file_extension": ".py",
   "mimetype": "text/x-python",
   "name": "python",
   "nbconvert_exporter": "python",
   "pygments_lexer": "ipython3",
   "version": "3.12.3"
  }
 },
 "nbformat": 4,
 "nbformat_minor": 5
}
