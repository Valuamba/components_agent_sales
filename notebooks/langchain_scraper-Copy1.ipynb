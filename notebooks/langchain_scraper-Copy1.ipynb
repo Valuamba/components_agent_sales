{
 "cells": [
  {
   "cell_type": "code",
   "execution_count": null,
   "id": "71ffb350-37a6-41a1-9f52-b6135e8411e3",
   "metadata": {},
   "outputs": [],
   "source": [
    "def scrape_website(objective: str, url: str):\n",
    "    print('Scraping website...')\n",
    "    \n",
    "    headers = {\n",
    "            'Cache-Control': 'no-cache',\n",
    "            'Content-Type': 'application/json'\n",
    "    }\n",
    "    \n",
    "    data = {\n",
    "        \"url\": url\n",
    "    }\n",
    "    \n",
    "    data_json = json.dumps(data)\n",
    "    \n",
    "    post_url = f'https://chrome.browserless.io'\n",
    "    "
   ]
  },
  {
   "cell_type": "code",
   "execution_count": null,
   "id": "6f1d8b0c-2870-4298-99dc-ed4e8f597330",
   "metadata": {},
   "outputs": [],
   "source": [
    "browserless_api_key = '7bd1d93a-e848-4be8-80a5-55297a4f7bf8'\n",
    "serper_api_key = 'e3ae386de8c45d2b89204dd668b57ed012a72819'"
   ]
  },
  {
   "cell_type": "code",
   "execution_count": null,
   "id": "9dab2eed-bdf5-4f7c-b188-7af21a4b4ddb",
   "metadata": {},
   "outputs": [],
   "source": [
    "import json\n",
    "import requests"
   ]
  },
  {
   "cell_type": "code",
   "execution_count": null,
   "id": "82e18b17-dfe7-4dab-a770-138c13a2f509",
   "metadata": {},
   "outputs": [],
   "source": [
    "def scrape_website(url: str):\n",
    "    # scrape website, and also will summarize the content based on objective if the content is too large\n",
    "    # objective is the original objective & task that user give to the agent, url is the url of the website to be scraped\n",
    "\n",
    "    print(\"Scraping website...\")\n",
    "    # Define the headers for the request\n",
    "    headers = {\n",
    "        'Cache-Control': 'no-cache',\n",
    "        'Content-Type': 'application/json',\n",
    "    }\n",
    "\n",
    "    # Define the data to be sent in the request\n",
    "    data = {\n",
    "        \"url\": url\n",
    "    }\n",
    "\n",
    "    # Convert Python object to JSON string\n",
    "    data_json = json.dumps(data)\n",
    "\n",
    "    # Send the POST request\n",
    "    post_url = f\"https://chrome.browserless.io/content?token={browserless_api_key}\"\n",
    "    response = requests.post(post_url, headers=headers, data=data_json)\n",
    "    \n",
    "    # Check the response status code\n",
    "    if response.status_code == 200:\n",
    "        soup = BeautifulSoup(response.content, \"html.parser\")\n",
    "        for script in soup([\"script\", \"style\"]):\n",
    "            script.decompose()\n",
    "        text = soup.get_text()\n",
    "        print(\"CONTENTTTTTT:\", text)\n",
    "\n",
    "        return text\n",
    "#         if len(text) > 10000:\n",
    "#             output = summary(objective, text)\n",
    "            \n",
    "#             return output\n",
    "#         else:\n",
    "#             return text\n",
    "    else:\n",
    "        print(f\"HTTP request failed with status code {response.status_code}\")"
   ]
  },
  {
   "cell_type": "code",
   "execution_count": null,
   "id": "502e7129-dc8d-40ea-9fd2-8a866e4304db",
   "metadata": {},
   "outputs": [],
   "source": [
    "def search(query):\n",
    "    url = \"https://google.serper.dev/search\"\n",
    "    \n",
    "    payload = json.dumps({\n",
    "      \"q\": query,\n",
    "      \"gl\": \"us\",\n",
    "      \"page\": 1\n",
    "    })\n",
    "\n",
    "    headers = {\n",
    "        'X-API-KEY': serper_api_key,\n",
    "        'Content-Type': 'application/json'\n",
    "    }\n",
    "\n",
    "    response = requests.request(\"POST\", url, headers=headers, data=payload)\n",
    "\n",
    "    print(response.text)\n",
    "\n",
    "    return response.text"
   ]
  },
  {
   "cell_type": "code",
   "execution_count": null,
   "id": "7511e3c7-4a4f-4b6f-8872-1c52f84eb241",
   "metadata": {},
   "outputs": [],
   "source": [
    "scrape_website('https://valinonline.com/products/dw-as-503-p12-627')"
   ]
  },
  {
   "cell_type": "code",
   "execution_count": null,
   "id": "c2bd041c-0c84-4d32-8a53-20cd96479f2c",
   "metadata": {},
   "outputs": [],
   "source": [
    "search_response = search('CONTRINEX  DW-AS-503-P12-627  Nr. 532157')\n",
    "\n",
    "print(search_response)"
   ]
  },
  {
   "cell_type": "code",
   "execution_count": null,
   "id": "3fad9653-a131-4de8-96b7-dd86ff467158",
   "metadata": {},
   "outputs": [],
   "source": [
    "print(json.dumps(json.loads(search_response), indent=2))"
   ]
  },
  {
   "cell_type": "code",
   "execution_count": null,
   "id": "fdabb199-9ad4-46e3-a44a-0e9caa9d670a",
   "metadata": {},
   "outputs": [],
   "source": [
    "scrape_website('https://valinonline.com/products/dw-as-503-p12-627')"
   ]
  },
  {
   "cell_type": "code",
   "execution_count": null,
   "id": "5ee0a246-8d39-4b18-9660-3cff418cc793",
   "metadata": {},
   "outputs": [],
   "source": [
    "import requests\n",
    "\n",
    "data = {\n",
    "    \"url\": \"https://example.com/\"\n",
    "}\n",
    "\n",
    "headers = {\n",
    "    'Cache-Control': 'no-cache',\n",
    "    'Content-Type': 'application/json',\n",
    "}\n",
    "\n",
    "url = 'https://chrome.browserless.io/content?token=7bd1d93a-e848-4be8-80a5-55297a4f7bf8'\n",
    "response = requests.post(url, headers=headers, json=data)\n",
    "\n",
    "\n",
    "if response.status_code == 200:\n",
    "    print('Request was successful')\n",
    "    print('Response data:', response.text)\n",
    "else:\n",
    "    print('Request failed with status code:', response.status_code)\n",
    "    print('Response content:', response.text)"
   ]
  },
  {
   "cell_type": "code",
   "execution_count": null,
   "id": "6d471c5e-6c58-409f-953f-326022bdfcd0",
   "metadata": {},
   "outputs": [],
   "source": [
    "import requests\n",
    "\n",
    "# Define the API endpoint URL\n",
    "url = 'https://valinonline.com/products/dw-as-503-p12-627'\n",
    "\n",
    "# Define headers\n",
    "headers = {\n",
    "    'Cache-Control': 'no-cache',\n",
    "    'Content-Type': 'application/json',\n",
    "}\n",
    "\n",
    "# Define the request data in JSON format\n",
    "data = {\n",
    "    \"url\": \"https://example.com/\"\n",
    "}\n",
    "\n",
    "# Make the HTTP POST request\n",
    "response = requests.post(url, headers=headers, json=data)\n",
    "\n",
    "# Check the response\n",
    "if response.status_code == 200:\n",
    "    print('Request was successful')\n",
    "    print('Response data:', response.text)\n",
    "else:\n",
    "    print('Request failed with status code:', response.status_code)\n",
    "    print('Response content:', response.text)\n"
   ]
  },
  {
   "cell_type": "code",
   "execution_count": null,
   "id": "d1b30267-0592-4bfc-9a76-2bb3bd520949",
   "metadata": {},
   "outputs": [],
   "source": [
    "response = requests.post(url, headers=headers, json=data)\n",
    "response"
   ]
  },
  {
   "cell_type": "code",
   "execution_count": null,
   "id": "9e140b99-8e69-457c-9ff5-421e4b94c9da",
   "metadata": {},
   "outputs": [],
   "source": [
    "from bs4 import BeautifulSoup\n",
    "import re\n",
    "\n",
    "soup = BeautifulSoup(response.text, 'html.parser')\n",
    "\n",
    "sentence_pattern = r'(?<=\\.|\\?|\\!)\\s+'\n",
    "pattern = r'\\n+'\n",
    "# Remove new lines and tabulations before and after each sentence\n",
    "# cleaned_text = re.sub(sentence_pattern, ' ', text)\n",
    "\n",
    "# Remove <script> and <style> elements\n",
    "for script in soup(['script', 'style', 'a']):\n",
    "    script.extract()\n",
    "\n",
    "# Select only blocks that have text content\n",
    "text_blocks = [re.sub(pattern, '\\n', block.get_text()) for block in soup.find_all(['p', 'div', 'span']) if block.get_text(strip=True)]\n",
    "\n",
    "# Print the text content of selected blocks\n",
    "for block_text in text_blocks:\n",
    "    if len(block_text) > 0:\n",
    "        print(block_text)\n",
    "\n",
    "# print(f'The block text: \"\"\"{text_blocks[0]}\"\"\"')\n",
    "\n",
    "text_blocks"
   ]
  },
  {
   "cell_type": "code",
   "execution_count": null,
   "id": "d992e0e4-a2d6-4e39-9794-ae0e4d3ea43e",
   "metadata": {},
   "outputs": [],
   "source": [
    "with open('manufacturer_detail.txt', 'w') as f:\n",
    "    f.write('\\n'.join(text_blocks))"
   ]
  },
  {
   "cell_type": "code",
   "execution_count": null,
   "id": "8f878fbf-7424-4853-8cb2-c13b30d62d5c",
   "metadata": {},
   "outputs": [],
   "source": [
    "soup"
   ]
  },
  {
   "cell_type": "code",
   "execution_count": null,
   "id": "dea0ae2e-377a-44a9-87c7-30c80934e6c9",
   "metadata": {},
   "outputs": [],
   "source": [
    "soup.get_text().replace('\\n', '  ')"
   ]
  },
  {
   "cell_type": "code",
   "execution_count": null,
   "id": "0f43b7c9-e4bc-490a-924d-35e904a293e3",
   "metadata": {},
   "outputs": [],
   "source": [
    "from langchain.tools import BaseTool\n",
    "from langchain.agents import Tool, AgentType, initialize_agent\n",
    "from langchain.schema import SystemMessage\n",
    "from langchain.chat_models import ChatOpenAI\n",
    "from langchain.memory import ConversationSummaryBufferMemory\n",
    "from langchain.callbacks import StdOutCallbackHandler\n",
    "\n",
    "\n",
    "from pydantic import BaseModel, Field\n",
    "from typing import Type"
   ]
  },
  {
   "cell_type": "code",
   "execution_count": null,
   "id": "77511e24-ecaf-4212-b639-87bc2f7e363c",
   "metadata": {},
   "outputs": [],
   "source": [
    "class SearchWebsiteInput(BaseModel):\n",
    "    product_model: str = Field(description = \"This is manufacturer product model.\")\n",
    "    part_number: str = Field(description = \"This is manufacturer part number of product.\")\n",
    "\n",
    "\n",
    "class SearchWebsiteTool(BaseTool):\n",
    "    name = \"search_price\"\n",
    "    description = \"useful when you need to get price about product by their model or part number.\"\n",
    "    args_schema: Type[BaseModel] = SearchWebsiteInput\n",
    "    \n",
    "    def _run(self, product_model: str, part_number: str):\n",
    "        return search(f'{product_model} {part_number}')\n",
    "\n",
    "    def _arun(self, url: str):\n",
    "        raise NotImplementedError(\"error here\")"
   ]
  },
  {
   "cell_type": "code",
   "execution_count": null,
   "id": "b6119131-7356-40e6-87ef-df87fd76d1f7",
   "metadata": {},
   "outputs": [],
   "source": [
    "tools = [\n",
    "    SearchWebsiteTool()\n",
    "]"
   ]
  },
  {
   "cell_type": "code",
   "execution_count": null,
   "id": "4928437f-9935-45b2-8d07-5de3369f104f",
   "metadata": {},
   "outputs": [],
   "source": [
    "system_message = \"\"\"\n",
    "\n",
    "Answer the following questions as best you can. You have access to the following tools:\n",
    "\n",
    "{tools}\n",
    "\n",
    "Use the following format:\n",
    "\n",
    "Question: the input question you must answer\n",
    "Thought: you should always think about what to do\n",
    "Action: the action to take, should be one of [{tool_names}]\n",
    "Action Input: the input to the action\n",
    "Observation: the result of the action\n",
    "... (this Thought/Action/Action Input/Observation can repeat N times)\n",
    "Thought: I now know the final answer\n",
    "Final Answer: the final answer to the original input question\n",
    "\n",
    "Begin!\n",
    "\n",
    "Question: {input}\n",
    "Thought:{agent_scratchpad}\n",
    "\"\"\"\n",
    "\n",
    "system_message = SystemMessage(\n",
    "    content=\"You are a world class researcher, who can find price of manufacturer produc by their model, name or part number.\"\n",
    ")"
   ]
  },
  {
   "cell_type": "code",
   "execution_count": null,
   "id": "6d58ba23-399d-4e88-8f34-03fbf5156556",
   "metadata": {},
   "outputs": [],
   "source": [
    "agent_kwargs = {\n",
    "    \"system_message\": system_message\n",
    "}\n",
    "\n",
    "llm = ChatOpenAI(temperature=0, model='gpt-3.5-turbo', openai_api_key='')\n",
    "\n",
    "memory = ConversationSummaryBufferMemory(memory_key='memory', return_messages=True, llm=llm, max_token_limit=500)"
   ]
  },
  {
   "cell_type": "code",
   "execution_count": null,
   "id": "f3f712d8-5b05-45f1-8820-089a939da480",
   "metadata": {},
   "outputs": [],
   "source": [
    "agent = initialize_agent(\n",
    "    tools,\n",
    "    llm,\n",
    "    agent=AgentType.OPENAI_FUNCTIONS,\n",
    "    verbose=True,\n",
    "    agent_kwargs=agent_kwargs,\n",
    "    memory=memory,\n",
    "    callbacks=[\n",
    "        StdOutCallbackHandler()\n",
    "    ]\n",
    ")"
   ]
  },
  {
   "cell_type": "code",
   "execution_count": null,
   "id": "7050e710-32a9-49ec-91c2-98ac4a490f3f",
   "metadata": {},
   "outputs": [],
   "source": [
    "\n",
    "handler = StdOutCallbackHandler()\n",
    "chain.run(prompt, callbacks=[handler])\n"
   ]
  },
  {
   "cell_type": "code",
   "execution_count": null,
   "id": "039d04f2-78b0-4beb-a7ca-841fd2138318",
   "metadata": {},
   "outputs": [],
   "source": [
    "content = agent({\"input\": \"\"\"\n",
    "Hello,\n",
    "\n",
    "I am looking for a sensor, and I was wondering if it is possible to obtain it from you?\n",
    "\n",
    "Sensor details:\n",
    "CONTRINEX DW-AS-503-P12-627\n",
    "Nr. 532157\n",
    "\n",
    "And \n",
    "    Cable carrier: 1665.030.200.3000-4655 TSO_0 FA_MA Tsubaki 1 piece\n",
    "    Energy chain: 1665.030.125.140-4189.5 TS0_0 FA_MA Tsubaki 1 piece\n",
    "\n",
    "Attached is an image of the CONTRINEX M18x1 adapter with M12x1.\n",
    "\n",
    "Best regards,\n",
    "\n",
    "Edvard Lesar\n",
    "Phone: 070 525 775\n",
    "EUROBOX\n",
    "Podskrajnik 33, 1380 Cerknica\n",
    "\"\"\"})\n",
    "\n",
    "content"
   ]
  },
  {
   "cell_type": "code",
   "execution_count": null,
   "id": "8918d9cd-b047-4759-a6a0-94e59f7078c2",
   "metadata": {},
   "outputs": [],
   "source": [
    "import langchain\n",
    "\n",
    "langchain.debug = False"
   ]
  },
  {
   "cell_type": "raw",
   "id": "26b61fd4-ac30-4638-8bd7-02a1e38c993b",
   "metadata": {},
   "source": [
    "print(content)"
   ]
  },
  {
   "cell_type": "code",
   "execution_count": null,
   "id": "13231c63-a13d-47f6-9575-162469bacb5d",
   "metadata": {},
   "outputs": [],
   "source": [
    "content"
   ]
  },
  {
   "cell_type": "code",
   "execution_count": null,
   "id": "b46433aa-6691-4e46-b498-52a30b220d17",
   "metadata": {},
   "outputs": [],
   "source": [
    "print('-------- INPUT --------\\n\\n')\n",
    "print(content['input'])\n",
    "print('\\n\\n-------- OUTPUT --------\\n\\n')\n",
    "print(content['output'])"
   ]
  },
  {
   "cell_type": "code",
   "execution_count": null,
   "id": "ec735690-5714-48b3-9148-50c564d95ff8",
   "metadata": {},
   "outputs": [],
   "source": [
    "# from langchain.agents.format_scratchpad import format_to_openai_function_messages\n",
    "from langchain.agents.output_parsers import OpenAIFunctionsAgentOutputParser"
   ]
  },
  {
   "cell_type": "code",
   "execution_count": null,
   "id": "de9ab019-7ce9-4a92-9672-e8be633d82ed",
   "metadata": {},
   "outputs": [],
   "source": [
    "pip show langchain\n"
   ]
  },
  {
   "cell_type": "code",
   "execution_count": null,
   "id": "e1295047-50dc-4c75-8f86-180a2f84a8f1",
   "metadata": {},
   "outputs": [],
   "source": [
    "pip install openai"
   ]
  },
  {
   "cell_type": "code",
   "execution_count": null,
   "id": "ae649d6e-b62d-4961-a431-67b4d5708b23",
   "metadata": {},
   "outputs": [],
   "source": [
    "pip install tiktoken"
   ]
  },
  {
   "cell_type": "code",
   "execution_count": null,
   "id": "e396c64a-278e-4ed5-82b4-db766fb1ac4d",
   "metadata": {},
   "outputs": [],
   "source": []
  }
 ],
 "metadata": {
  "kernelspec": {
   "display_name": "Python 3 (ipykernel)",
   "language": "python",
   "name": "python3"
  },
  "language_info": {
   "codemirror_mode": {
    "name": "ipython",
    "version": 3
   },
   "file_extension": ".py",
   "mimetype": "text/x-python",
   "name": "python",
   "nbconvert_exporter": "python",
   "pygments_lexer": "ipython3",
   "version": "3.12.2"
  }
 },
 "nbformat": 4,
 "nbformat_minor": 5
}
