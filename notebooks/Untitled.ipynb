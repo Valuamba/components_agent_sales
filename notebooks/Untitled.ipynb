{
 "cells": [
  {
   "cell_type": "code",
   "execution_count": null,
   "id": "52f32809-1b96-4ab5-994d-e6479637da07",
   "metadata": {},
   "outputs": [],
   "source": [
    "pip install pyautogen"
   ]
  },
  {
   "cell_type": "code",
   "execution_count": 1,
   "id": "2a2e2687-ed76-4a62-9fba-7369021d3811",
   "metadata": {},
   "outputs": [],
   "source": [
    "config_list = [\n",
    "    {\n",
    "        \"model\": \"gpt-4\",\n",
    "        \"api_key\": \"\"\n",
    "    },\n",
    "    {\n",
    "        \"model\": \"gpt-3.5-turbo\",\n",
    "        \"api_key\": \"\"\n",
    "    }\n",
    "]"
   ]
  },
  {
   "cell_type": "code",
   "execution_count": 2,
   "id": "b1946897-ada0-4ccb-8534-04f94f7d8c4c",
   "metadata": {},
   "outputs": [
    {
     "name": "stdout",
     "output_type": "stream",
     "text": [
      "\u001b[33muser_proxy\u001b[0m (to assistant):\n",
      "\n",
      "\n",
      "Witam\n",
      "\n",
      "\n",
      "ZAPYTANIE ODNOŚNIE DOSTĘPNOŚCI N/W ARTYKUŁÓW\n",
      "\n",
      "\n",
      "- Prowadnik kabli \n",
      "-- \n",
      "Cable carrier  ( prowadnik kabla ) \t1665.030.200.3000-4655  TSO_0 FA_MA \tTsubaki \t1szt \t \n",
      "Energy chain  (prowadnik kabla ) \t1665.030.125.140-4189.5   TS0_0 FA_MA \tTsubaki \t1szt \t \n",
      " \n",
      "Jęśli możecie dostarczyć proszę o ofertę\n",
      " \n",
      " \n",
      "Pozdrawiam / Best regards\n",
      "\n",
      "\n",
      "--------------------------------------------------------------------------------\n",
      "\u001b[33massistant\u001b[0m (to user_proxy):\n",
      "\n",
      "Sorry for misunderstanding, as an AI developed by OpenAI, I don't have capability to browse the internet, so I can't check the availability of the specific products you are looking for. However, I can help you write a python script to send an email to request a quote for these items. \n",
      "\n",
      "Here is a simple python code to send an email using smtplib. Please replace 'your_email@gmail.com' with your email, 'your_password' with your password, and 'recipient_email@gmail.com' with the recipient's email. You would also update the subject and body variables with the content you want.\n",
      "\n",
      "```python\n",
      "import smtplib\n",
      "\n",
      "def send_email(user, password, recipient, subject, body):\n",
      "    FROM = user\n",
      "    TO = recipient\n",
      "    SUBJECT = subject\n",
      "    BODY = body\n",
      "\n",
      "    message = \"\"\"From: %s\\nTo: %s\\nSubject: %s\\n\\n%s\n",
      "    \"\"\" % (FROM, \", \".join(TO), SUBJECT, BODY)\n",
      "\n",
      "    try:\n",
      "        server = smtplib.SMTP(\"smtp.gmail.com\", 587)\n",
      "        server.ehlo()\n",
      "        server.starttls()\n",
      "        server.login(user, password)\n",
      "        server.sendmail(FROM, TO, message)\n",
      "        server.close()\n",
      "        print('successfully sent the mail')\n",
      "    except Exception as e:\n",
      "        print(\"failed to send mail\", str(e))\n",
      "\n",
      "#Please replace with your own email and password\n",
      "user = \"your_email@gmail.com\"\n",
      "password = \"your_password\"\n",
      "\n",
      "#Please replace with recipient's email\n",
      "recipient = [\"recipient_email@gmail.com\"]\n",
      "\n",
      "subject = \"ZAPYTANIE ODNOŚNIE DOSTĘPNOŚCI N/W ARTYKUŁÓW\"\n",
      "body = \"\"\"\n",
      "Prowadnik kabli \n",
      "--\n",
      "Cable carrier  ( prowadnik kabla ) 1665.030.200.3000-4655 TSO_0 FA_MA Tsubaki 1szt \n",
      "Energy chain  (prowadnik kabla ) 1665.030.125.140-4189.5 TS0_0 FA_MA Tsubaki 1szt \n",
      "\n",
      "Jeśli możecie dostarczyć proszę o ofertę\n",
      "\n",
      "Pozdrawiam / Best regards\n",
      "\"\"\"\n",
      "\n",
      "#send email\n",
      "send_email(user, password, recipient, subject, body)\n",
      "```\n",
      "\n",
      "You should replace your_email@gmail.com, your_password, and recipient_email@gmail.com with your actual email, password, and the recipient's email respectively. This python script sends an email using Gmail's SMTP server. Note that if you are using Gmail, you might need to enable 'Less secure app access' in your account settings.\n",
      "\n",
      "--------------------------------------------------------------------------------\n"
     ]
    },
    {
     "name": "stdin",
     "output_type": "stream",
     "text": [
      "Provide feedback to assistant. Press enter to skip and use auto-reply, or type 'exit' to end the conversation:  exit\n"
     ]
    }
   ],
   "source": [
    "from autogen import AssistantAgent, UserProxyAgent, config_list_from_json\n",
    "\n",
    "# Load LLM inference endpoints from an env variable or a file\n",
    "# See https://microsoft.github.io/autogen/docs/FAQ#set-your-api-endpoints\n",
    "# and OAI_CONFIG_LIST_sample.json\n",
    "\n",
    "\n",
    "\n",
    "assistant = AssistantAgent(\"assistant\", llm_config={\"config_list\": config_list})\n",
    "user_proxy = UserProxyAgent(\"user_proxy\", code_execution_config={\"work_dir\": \"coding\"})\n",
    "user_proxy.initiate_chat(assistant, message=\"\"\"\n",
    "Witam\n",
    "\n",
    "\n",
    "ZAPYTANIE ODNOŚNIE DOSTĘPNOŚCI N/W ARTYKUŁÓW\n",
    "\n",
    "\n",
    "- Prowadnik kabli \n",
    "-- \n",
    "Cable carrier  ( prowadnik kabla ) \t1665.030.200.3000-4655  TSO_0 FA_MA \tTsubaki \t1szt \t \n",
    "Energy chain  (prowadnik kabla ) \t1665.030.125.140-4189.5   TS0_0 FA_MA \tTsubaki \t1szt \t \n",
    " \n",
    "Jęśli możecie dostarczyć proszę o ofertę\n",
    " \n",
    " \n",
    "Pozdrawiam / Best regards\n",
    "\"\"\")\n",
    "# This initiates an automated chat between the two agents to solve the task"
   ]
  },
  {
   "cell_type": "code",
   "execution_count": 4,
   "id": "eec78861-abca-472b-8075-6bb5b4145c5b",
   "metadata": {},
   "outputs": [
    {
     "name": "stdout",
     "output_type": "stream",
     "text": [
      "Sorry for misunderstanding, as an AI developed by OpenAI, I don't have capability to browse the internet, so I can't check the availability of the specific products you are looking for. However, I can help you write a python script to send an email to request a quote for these items. \n",
      "\n",
      "Here is a simple python code to send an email using smtplib. Please replace 'your_email@gmail.com' with your email, 'your_password' with your password, and 'recipient_email@gmail.com' with the recipient's email. You would also update the subject and body variables with the content you want.\n",
      "\n",
      "```python\n",
      "import smtplib\n",
      "\n",
      "def send_email(user, password, recipient, subject, body):\n",
      "    FROM = user\n",
      "    TO = recipient\n",
      "    SUBJECT = subject\n",
      "    BODY = body\n",
      "\n",
      "    message = \"\"\"From: %s\\nTo: %s\\nSubject: %s\\n\\n%s\n",
      "    \"\"\" % (FROM, \", \".join(TO), SUBJECT, BODY)\n",
      "\n",
      "    try:\n",
      "        server = smtplib.SMTP(\"smtp.gmail.com\", 587)\n",
      "        server.ehlo()\n",
      "        server.starttls()\n",
      "        server.login(user, password)\n",
      "        server.sendmail(FROM, TO, message)\n",
      "        server.close()\n",
      "        print('successfully sent the mail')\n",
      "    except Exception as e:\n",
      "        print(\"failed to send mail\", str(e))\n",
      "\n",
      "#Please replace with your own email and password\n",
      "user = \"your_email@gmail.com\"\n",
      "password = \"your_password\"\n",
      "\n",
      "#Please replace with recipient's email\n",
      "recipient = [\"recipient_email@gmail.com\"]\n",
      "\n",
      "subject = \"ZAPYTANIE ODNOŚNIE DOSTĘPNOŚCI N/W ARTYKUŁÓW\"\n",
      "body = \"\"\"\n",
      "Prowadnik kabli \n",
      "--\n",
      "Cable carrier  ( prowadnik kabla ) 1665.030.200.3000-4655 TSO_0 FA_MA Tsubaki 1szt \n",
      "Energy chain  (prowadnik kabla ) 1665.030.125.140-4189.5 TS0_0 FA_MA Tsubaki 1szt \n",
      "\n",
      "Jeśli możecie dostarczyć proszę o ofertę\n",
      "\n",
      "Pozdrawiam / Best regards\n",
      "\"\"\"\n",
      "\n",
      "#send email\n",
      "send_email(user, password, recipient, subject, body)\n",
      "```\n",
      "\n",
      "You should replace your_email@gmail.com, your_password, and recipient_email@gmail.com with your actual email, password, and the recipient's email respectively. This python script sends an email using Gmail's SMTP server. Note that if you are using Gmail, you might need to enable 'Less secure app access' in your account settings.\n"
     ]
    }
   ],
   "source": [
    "print(user_proxy.last_message()[\"content\"])"
   ]
  },
  {
   "cell_type": "code",
   "execution_count": null,
   "id": "2284b2ca-87b9-4944-a8e3-18a3f1da1976",
   "metadata": {},
   "outputs": [],
   "source": [
    "assistant.system_message"
   ]
  },
  {
   "cell_type": "code",
   "execution_count": null,
   "id": "6c967f9d-88aa-4a0b-b846-efd5fcb2dcf3",
   "metadata": {},
   "outputs": [],
   "source": [
    "user_proxy.system_message"
   ]
  },
  {
   "cell_type": "code",
   "execution_count": null,
   "id": "238821b3-192f-4cb4-bcdb-57887d764c7c",
   "metadata": {},
   "outputs": [],
   "source": [
    "assistant = AssistantAgent(\"assistant\", llm_config={\"config_list\": config_list},\n",
    "                          system_message=\"\"\"\n",
    "Role: Manufacturer Parts Sales Email Analyst\n",
    "\n",
    "Job Description:\n",
    "\n",
    "As a Manufacturer Parts Sales Email Analyst, your primary responsibility will be to efficiently read and analyze email messages to identify articles, \n",
    "models, and relevant information related to manufacturer parts. Your role is crucial in ensuring accurate and timely responses to customer inquiries \n",
    "and facilitating smooth communication between our sales team and potential clients. \n",
    "                           \"\"\")"
   ]
  },
  {
   "cell_type": "code",
   "execution_count": 86,
   "id": "9a2a3135-dbae-463c-9400-174d18e7236f",
   "metadata": {},
   "outputs": [
    {
     "ename": "KeyboardInterrupt",
     "evalue": "Interrupted by user",
     "output_type": "error",
     "traceback": [
      "\u001b[0;31m---------------------------------------------------------------------------\u001b[0m",
      "\u001b[0;31mKeyboardInterrupt\u001b[0m                         Traceback (most recent call last)",
      "Cell \u001b[0;32mIn[86], line 2\u001b[0m\n\u001b[1;32m      1\u001b[0m user_proxy \u001b[38;5;241m=\u001b[39m UserProxyAgent(\u001b[38;5;124m\"\u001b[39m\u001b[38;5;124muser_proxy\u001b[39m\u001b[38;5;124m\"\u001b[39m, code_execution_config\u001b[38;5;241m=\u001b[39m{\u001b[38;5;124m\"\u001b[39m\u001b[38;5;124mwork_dir\u001b[39m\u001b[38;5;124m\"\u001b[39m: \u001b[38;5;124m\"\u001b[39m\u001b[38;5;124mcoding\u001b[39m\u001b[38;5;124m\"\u001b[39m})\n\u001b[0;32m----> 2\u001b[0m \u001b[43muser_proxy\u001b[49m\u001b[38;5;241;43m.\u001b[39;49m\u001b[43minitiate_chat\u001b[49m\u001b[43m(\u001b[49m\u001b[43massistant\u001b[49m\u001b[43m,\u001b[49m\u001b[43m \u001b[49m\u001b[43mmessage\u001b[49m\u001b[38;5;241;43m=\u001b[39;49m\u001b[38;5;124;43m\"\"\"\u001b[39;49m\n\u001b[1;32m      3\u001b[0m \u001b[38;5;124;43mWitam\u001b[39;49m\n\u001b[1;32m      4\u001b[0m \n\u001b[1;32m      5\u001b[0m \n\u001b[1;32m      6\u001b[0m \u001b[38;5;124;43mZAPYTANIE ODNOŚNIE DOSTĘPNOŚCI N/W ARTYKUŁÓW\u001b[39;49m\n\u001b[1;32m      7\u001b[0m \n\u001b[1;32m      8\u001b[0m \n\u001b[1;32m      9\u001b[0m \u001b[38;5;124;43m- Prowadnik kabli \u001b[39;49m\n\u001b[1;32m     10\u001b[0m \u001b[38;5;124;43m-- \u001b[39;49m\n\u001b[1;32m     11\u001b[0m \u001b[38;5;124;43mCable carrier  ( prowadnik kabla ) \t1665.030.200.3000-4655  TSO_0 FA_MA \tTsubaki \t1szt \t \u001b[39;49m\n\u001b[1;32m     12\u001b[0m \u001b[38;5;124;43mEnergy chain  (prowadnik kabla ) \t1665.030.125.140-4189.5   TS0_0 FA_MA \tTsubaki \t1szt \t \u001b[39;49m\n\u001b[1;32m     13\u001b[0m \u001b[38;5;124;43m \u001b[39;49m\n\u001b[1;32m     14\u001b[0m \u001b[38;5;124;43mJęśli możecie dostarczyć proszę o ofertę\u001b[39;49m\n\u001b[1;32m     15\u001b[0m \u001b[38;5;124;43m \u001b[39;49m\n\u001b[1;32m     16\u001b[0m \u001b[38;5;124;43m \u001b[39;49m\n\u001b[1;32m     17\u001b[0m \u001b[38;5;124;43mPozdrawiam / Best regards\u001b[39;49m\n\u001b[1;32m     18\u001b[0m \u001b[38;5;124;43m\"\"\"\u001b[39;49m\u001b[43m)\u001b[49m\n",
      "File \u001b[0;32m~/.asdf/installs/python/3.11.0/lib/python3.11/site-packages/autogen/agentchat/conversable_agent.py:550\u001b[0m, in \u001b[0;36mConversableAgent.initiate_chat\u001b[0;34m(self, recipient, clear_history, silent, **context)\u001b[0m\n\u001b[1;32m    536\u001b[0m \u001b[38;5;250m\u001b[39m\u001b[38;5;124;03m\"\"\"Initiate a chat with the recipient agent.\u001b[39;00m\n\u001b[1;32m    537\u001b[0m \n\u001b[1;32m    538\u001b[0m \u001b[38;5;124;03mReset the consecutive auto reply counter.\u001b[39;00m\n\u001b[0;32m   (...)\u001b[0m\n\u001b[1;32m    547\u001b[0m \u001b[38;5;124;03m        \"message\" needs to be provided if the `generate_init_message` method is not overridden.\u001b[39;00m\n\u001b[1;32m    548\u001b[0m \u001b[38;5;124;03m\"\"\"\u001b[39;00m\n\u001b[1;32m    549\u001b[0m \u001b[38;5;28mself\u001b[39m\u001b[38;5;241m.\u001b[39m_prepare_chat(recipient, clear_history)\n\u001b[0;32m--> 550\u001b[0m \u001b[38;5;28;43mself\u001b[39;49m\u001b[38;5;241;43m.\u001b[39;49m\u001b[43msend\u001b[49m\u001b[43m(\u001b[49m\u001b[38;5;28;43mself\u001b[39;49m\u001b[38;5;241;43m.\u001b[39;49m\u001b[43mgenerate_init_message\u001b[49m\u001b[43m(\u001b[49m\u001b[38;5;241;43m*\u001b[39;49m\u001b[38;5;241;43m*\u001b[39;49m\u001b[43mcontext\u001b[49m\u001b[43m)\u001b[49m\u001b[43m,\u001b[49m\u001b[43m \u001b[49m\u001b[43mrecipient\u001b[49m\u001b[43m,\u001b[49m\u001b[43m \u001b[49m\u001b[43msilent\u001b[49m\u001b[38;5;241;43m=\u001b[39;49m\u001b[43msilent\u001b[49m\u001b[43m)\u001b[49m\n",
      "File \u001b[0;32m~/.asdf/installs/python/3.11.0/lib/python3.11/site-packages/autogen/agentchat/conversable_agent.py:348\u001b[0m, in \u001b[0;36mConversableAgent.send\u001b[0;34m(self, message, recipient, request_reply, silent)\u001b[0m\n\u001b[1;32m    346\u001b[0m valid \u001b[38;5;241m=\u001b[39m \u001b[38;5;28mself\u001b[39m\u001b[38;5;241m.\u001b[39m_append_oai_message(message, \u001b[38;5;124m\"\u001b[39m\u001b[38;5;124massistant\u001b[39m\u001b[38;5;124m\"\u001b[39m, recipient)\n\u001b[1;32m    347\u001b[0m \u001b[38;5;28;01mif\u001b[39;00m valid:\n\u001b[0;32m--> 348\u001b[0m     \u001b[43mrecipient\u001b[49m\u001b[38;5;241;43m.\u001b[39;49m\u001b[43mreceive\u001b[49m\u001b[43m(\u001b[49m\u001b[43mmessage\u001b[49m\u001b[43m,\u001b[49m\u001b[43m \u001b[49m\u001b[38;5;28;43mself\u001b[39;49m\u001b[43m,\u001b[49m\u001b[43m \u001b[49m\u001b[43mrequest_reply\u001b[49m\u001b[43m,\u001b[49m\u001b[43m \u001b[49m\u001b[43msilent\u001b[49m\u001b[43m)\u001b[49m\n\u001b[1;32m    349\u001b[0m \u001b[38;5;28;01melse\u001b[39;00m:\n\u001b[1;32m    350\u001b[0m     \u001b[38;5;28;01mraise\u001b[39;00m \u001b[38;5;167;01mValueError\u001b[39;00m(\n\u001b[1;32m    351\u001b[0m         \u001b[38;5;124m\"\u001b[39m\u001b[38;5;124mMessage can\u001b[39m\u001b[38;5;124m'\u001b[39m\u001b[38;5;124mt be converted into a valid ChatCompletion message. Either content or function_call must be provided.\u001b[39m\u001b[38;5;124m\"\u001b[39m\n\u001b[1;32m    352\u001b[0m     )\n",
      "File \u001b[0;32m~/.asdf/installs/python/3.11.0/lib/python3.11/site-packages/autogen/agentchat/conversable_agent.py:483\u001b[0m, in \u001b[0;36mConversableAgent.receive\u001b[0;34m(self, message, sender, request_reply, silent)\u001b[0m\n\u001b[1;32m    481\u001b[0m reply \u001b[38;5;241m=\u001b[39m \u001b[38;5;28mself\u001b[39m\u001b[38;5;241m.\u001b[39mgenerate_reply(messages\u001b[38;5;241m=\u001b[39m\u001b[38;5;28mself\u001b[39m\u001b[38;5;241m.\u001b[39mchat_messages[sender], sender\u001b[38;5;241m=\u001b[39msender)\n\u001b[1;32m    482\u001b[0m \u001b[38;5;28;01mif\u001b[39;00m reply \u001b[38;5;129;01mis\u001b[39;00m \u001b[38;5;129;01mnot\u001b[39;00m \u001b[38;5;28;01mNone\u001b[39;00m:\n\u001b[0;32m--> 483\u001b[0m     \u001b[38;5;28;43mself\u001b[39;49m\u001b[38;5;241;43m.\u001b[39;49m\u001b[43msend\u001b[49m\u001b[43m(\u001b[49m\u001b[43mreply\u001b[49m\u001b[43m,\u001b[49m\u001b[43m \u001b[49m\u001b[43msender\u001b[49m\u001b[43m,\u001b[49m\u001b[43m \u001b[49m\u001b[43msilent\u001b[49m\u001b[38;5;241;43m=\u001b[39;49m\u001b[43msilent\u001b[49m\u001b[43m)\u001b[49m\n",
      "File \u001b[0;32m~/.asdf/installs/python/3.11.0/lib/python3.11/site-packages/autogen/agentchat/conversable_agent.py:348\u001b[0m, in \u001b[0;36mConversableAgent.send\u001b[0;34m(self, message, recipient, request_reply, silent)\u001b[0m\n\u001b[1;32m    346\u001b[0m valid \u001b[38;5;241m=\u001b[39m \u001b[38;5;28mself\u001b[39m\u001b[38;5;241m.\u001b[39m_append_oai_message(message, \u001b[38;5;124m\"\u001b[39m\u001b[38;5;124massistant\u001b[39m\u001b[38;5;124m\"\u001b[39m, recipient)\n\u001b[1;32m    347\u001b[0m \u001b[38;5;28;01mif\u001b[39;00m valid:\n\u001b[0;32m--> 348\u001b[0m     \u001b[43mrecipient\u001b[49m\u001b[38;5;241;43m.\u001b[39;49m\u001b[43mreceive\u001b[49m\u001b[43m(\u001b[49m\u001b[43mmessage\u001b[49m\u001b[43m,\u001b[49m\u001b[43m \u001b[49m\u001b[38;5;28;43mself\u001b[39;49m\u001b[43m,\u001b[49m\u001b[43m \u001b[49m\u001b[43mrequest_reply\u001b[49m\u001b[43m,\u001b[49m\u001b[43m \u001b[49m\u001b[43msilent\u001b[49m\u001b[43m)\u001b[49m\n\u001b[1;32m    349\u001b[0m \u001b[38;5;28;01melse\u001b[39;00m:\n\u001b[1;32m    350\u001b[0m     \u001b[38;5;28;01mraise\u001b[39;00m \u001b[38;5;167;01mValueError\u001b[39;00m(\n\u001b[1;32m    351\u001b[0m         \u001b[38;5;124m\"\u001b[39m\u001b[38;5;124mMessage can\u001b[39m\u001b[38;5;124m'\u001b[39m\u001b[38;5;124mt be converted into a valid ChatCompletion message. Either content or function_call must be provided.\u001b[39m\u001b[38;5;124m\"\u001b[39m\n\u001b[1;32m    352\u001b[0m     )\n",
      "File \u001b[0;32m~/.asdf/installs/python/3.11.0/lib/python3.11/site-packages/autogen/agentchat/conversable_agent.py:481\u001b[0m, in \u001b[0;36mConversableAgent.receive\u001b[0;34m(self, message, sender, request_reply, silent)\u001b[0m\n\u001b[1;32m    479\u001b[0m \u001b[38;5;28;01mif\u001b[39;00m request_reply \u001b[38;5;129;01mis\u001b[39;00m \u001b[38;5;28;01mFalse\u001b[39;00m \u001b[38;5;129;01mor\u001b[39;00m request_reply \u001b[38;5;129;01mis\u001b[39;00m \u001b[38;5;28;01mNone\u001b[39;00m \u001b[38;5;129;01mand\u001b[39;00m \u001b[38;5;28mself\u001b[39m\u001b[38;5;241m.\u001b[39mreply_at_receive[sender] \u001b[38;5;129;01mis\u001b[39;00m \u001b[38;5;28;01mFalse\u001b[39;00m:\n\u001b[1;32m    480\u001b[0m     \u001b[38;5;28;01mreturn\u001b[39;00m\n\u001b[0;32m--> 481\u001b[0m reply \u001b[38;5;241m=\u001b[39m \u001b[38;5;28;43mself\u001b[39;49m\u001b[38;5;241;43m.\u001b[39;49m\u001b[43mgenerate_reply\u001b[49m\u001b[43m(\u001b[49m\u001b[43mmessages\u001b[49m\u001b[38;5;241;43m=\u001b[39;49m\u001b[38;5;28;43mself\u001b[39;49m\u001b[38;5;241;43m.\u001b[39;49m\u001b[43mchat_messages\u001b[49m\u001b[43m[\u001b[49m\u001b[43msender\u001b[49m\u001b[43m]\u001b[49m\u001b[43m,\u001b[49m\u001b[43m \u001b[49m\u001b[43msender\u001b[49m\u001b[38;5;241;43m=\u001b[39;49m\u001b[43msender\u001b[49m\u001b[43m)\u001b[49m\n\u001b[1;32m    482\u001b[0m \u001b[38;5;28;01mif\u001b[39;00m reply \u001b[38;5;129;01mis\u001b[39;00m \u001b[38;5;129;01mnot\u001b[39;00m \u001b[38;5;28;01mNone\u001b[39;00m:\n\u001b[1;32m    483\u001b[0m     \u001b[38;5;28mself\u001b[39m\u001b[38;5;241m.\u001b[39msend(reply, sender, silent\u001b[38;5;241m=\u001b[39msilent)\n",
      "File \u001b[0;32m~/.asdf/installs/python/3.11.0/lib/python3.11/site-packages/autogen/agentchat/conversable_agent.py:906\u001b[0m, in \u001b[0;36mConversableAgent.generate_reply\u001b[0;34m(self, messages, sender, exclude)\u001b[0m\n\u001b[1;32m    904\u001b[0m     \u001b[38;5;28;01mcontinue\u001b[39;00m\n\u001b[1;32m    905\u001b[0m \u001b[38;5;28;01mif\u001b[39;00m \u001b[38;5;28mself\u001b[39m\u001b[38;5;241m.\u001b[39m_match_trigger(reply_func_tuple[\u001b[38;5;124m\"\u001b[39m\u001b[38;5;124mtrigger\u001b[39m\u001b[38;5;124m\"\u001b[39m], sender):\n\u001b[0;32m--> 906\u001b[0m     final, reply \u001b[38;5;241m=\u001b[39m \u001b[43mreply_func\u001b[49m\u001b[43m(\u001b[49m\u001b[38;5;28;43mself\u001b[39;49m\u001b[43m,\u001b[49m\u001b[43m \u001b[49m\u001b[43mmessages\u001b[49m\u001b[38;5;241;43m=\u001b[39;49m\u001b[43mmessages\u001b[49m\u001b[43m,\u001b[49m\u001b[43m \u001b[49m\u001b[43msender\u001b[49m\u001b[38;5;241;43m=\u001b[39;49m\u001b[43msender\u001b[49m\u001b[43m,\u001b[49m\u001b[43m \u001b[49m\u001b[43mconfig\u001b[49m\u001b[38;5;241;43m=\u001b[39;49m\u001b[43mreply_func_tuple\u001b[49m\u001b[43m[\u001b[49m\u001b[38;5;124;43m\"\u001b[39;49m\u001b[38;5;124;43mconfig\u001b[39;49m\u001b[38;5;124;43m\"\u001b[39;49m\u001b[43m]\u001b[49m\u001b[43m)\u001b[49m\n\u001b[1;32m    907\u001b[0m     \u001b[38;5;28;01mif\u001b[39;00m final:\n\u001b[1;32m    908\u001b[0m         \u001b[38;5;28;01mreturn\u001b[39;00m reply\n",
      "File \u001b[0;32m~/.asdf/installs/python/3.11.0/lib/python3.11/site-packages/autogen/agentchat/conversable_agent.py:733\u001b[0m, in \u001b[0;36mConversableAgent.check_termination_and_human_reply\u001b[0;34m(self, messages, sender, config)\u001b[0m\n\u001b[1;32m    731\u001b[0m no_human_input_msg \u001b[38;5;241m=\u001b[39m \u001b[38;5;124m\"\u001b[39m\u001b[38;5;124m\"\u001b[39m\n\u001b[1;32m    732\u001b[0m \u001b[38;5;28;01mif\u001b[39;00m \u001b[38;5;28mself\u001b[39m\u001b[38;5;241m.\u001b[39mhuman_input_mode \u001b[38;5;241m==\u001b[39m \u001b[38;5;124m\"\u001b[39m\u001b[38;5;124mALWAYS\u001b[39m\u001b[38;5;124m\"\u001b[39m:\n\u001b[0;32m--> 733\u001b[0m     reply \u001b[38;5;241m=\u001b[39m \u001b[38;5;28;43mself\u001b[39;49m\u001b[38;5;241;43m.\u001b[39;49m\u001b[43mget_human_input\u001b[49m\u001b[43m(\u001b[49m\n\u001b[1;32m    734\u001b[0m \u001b[43m        \u001b[49m\u001b[38;5;124;43mf\u001b[39;49m\u001b[38;5;124;43m\"\u001b[39;49m\u001b[38;5;124;43mProvide feedback to \u001b[39;49m\u001b[38;5;132;43;01m{\u001b[39;49;00m\u001b[43msender\u001b[49m\u001b[38;5;241;43m.\u001b[39;49m\u001b[43mname\u001b[49m\u001b[38;5;132;43;01m}\u001b[39;49;00m\u001b[38;5;124;43m. Press enter to skip and use auto-reply, or type \u001b[39;49m\u001b[38;5;124;43m'\u001b[39;49m\u001b[38;5;124;43mexit\u001b[39;49m\u001b[38;5;124;43m'\u001b[39;49m\u001b[38;5;124;43m to end the conversation: \u001b[39;49m\u001b[38;5;124;43m\"\u001b[39;49m\n\u001b[1;32m    735\u001b[0m \u001b[43m    \u001b[49m\u001b[43m)\u001b[49m\n\u001b[1;32m    736\u001b[0m     no_human_input_msg \u001b[38;5;241m=\u001b[39m \u001b[38;5;124m\"\u001b[39m\u001b[38;5;124mNO HUMAN INPUT RECEIVED.\u001b[39m\u001b[38;5;124m\"\u001b[39m \u001b[38;5;28;01mif\u001b[39;00m \u001b[38;5;129;01mnot\u001b[39;00m reply \u001b[38;5;28;01melse\u001b[39;00m \u001b[38;5;124m\"\u001b[39m\u001b[38;5;124m\"\u001b[39m\n\u001b[1;32m    737\u001b[0m     \u001b[38;5;66;03m# if the human input is empty, and the message is a termination message, then we will terminate the conversation\u001b[39;00m\n",
      "File \u001b[0;32m~/.asdf/installs/python/3.11.0/lib/python3.11/site-packages/autogen/agentchat/conversable_agent.py:993\u001b[0m, in \u001b[0;36mConversableAgent.get_human_input\u001b[0;34m(self, prompt)\u001b[0m\n\u001b[1;32m    982\u001b[0m \u001b[38;5;28;01mdef\u001b[39;00m \u001b[38;5;21mget_human_input\u001b[39m(\u001b[38;5;28mself\u001b[39m, prompt: \u001b[38;5;28mstr\u001b[39m) \u001b[38;5;241m-\u001b[39m\u001b[38;5;241m>\u001b[39m \u001b[38;5;28mstr\u001b[39m:\n\u001b[1;32m    983\u001b[0m \u001b[38;5;250m    \u001b[39m\u001b[38;5;124;03m\"\"\"Get human input.\u001b[39;00m\n\u001b[1;32m    984\u001b[0m \n\u001b[1;32m    985\u001b[0m \u001b[38;5;124;03m    Override this method to customize the way to get human input.\u001b[39;00m\n\u001b[0;32m   (...)\u001b[0m\n\u001b[1;32m    991\u001b[0m \u001b[38;5;124;03m        str: human input.\u001b[39;00m\n\u001b[1;32m    992\u001b[0m \u001b[38;5;124;03m    \"\"\"\u001b[39;00m\n\u001b[0;32m--> 993\u001b[0m     reply \u001b[38;5;241m=\u001b[39m \u001b[38;5;28;43minput\u001b[39;49m\u001b[43m(\u001b[49m\u001b[43mprompt\u001b[49m\u001b[43m)\u001b[49m\n\u001b[1;32m    994\u001b[0m     \u001b[38;5;28;01mreturn\u001b[39;00m reply\n",
      "File \u001b[0;32m~/.asdf/installs/python/3.11.0/lib/python3.11/site-packages/ipykernel/kernelbase.py:1187\u001b[0m, in \u001b[0;36mKernel.raw_input\u001b[0;34m(self, prompt)\u001b[0m\n\u001b[1;32m   1185\u001b[0m     msg \u001b[38;5;241m=\u001b[39m \u001b[38;5;124m\"\u001b[39m\u001b[38;5;124mraw_input was called, but this frontend does not support input requests.\u001b[39m\u001b[38;5;124m\"\u001b[39m\n\u001b[1;32m   1186\u001b[0m     \u001b[38;5;28;01mraise\u001b[39;00m StdinNotImplementedError(msg)\n\u001b[0;32m-> 1187\u001b[0m \u001b[38;5;28;01mreturn\u001b[39;00m \u001b[38;5;28;43mself\u001b[39;49m\u001b[38;5;241;43m.\u001b[39;49m\u001b[43m_input_request\u001b[49m\u001b[43m(\u001b[49m\n\u001b[1;32m   1188\u001b[0m \u001b[43m    \u001b[49m\u001b[38;5;28;43mstr\u001b[39;49m\u001b[43m(\u001b[49m\u001b[43mprompt\u001b[49m\u001b[43m)\u001b[49m\u001b[43m,\u001b[49m\n\u001b[1;32m   1189\u001b[0m \u001b[43m    \u001b[49m\u001b[38;5;28;43mself\u001b[39;49m\u001b[38;5;241;43m.\u001b[39;49m\u001b[43m_parent_ident\u001b[49m\u001b[43m[\u001b[49m\u001b[38;5;124;43m\"\u001b[39;49m\u001b[38;5;124;43mshell\u001b[39;49m\u001b[38;5;124;43m\"\u001b[39;49m\u001b[43m]\u001b[49m\u001b[43m,\u001b[49m\n\u001b[1;32m   1190\u001b[0m \u001b[43m    \u001b[49m\u001b[38;5;28;43mself\u001b[39;49m\u001b[38;5;241;43m.\u001b[39;49m\u001b[43mget_parent\u001b[49m\u001b[43m(\u001b[49m\u001b[38;5;124;43m\"\u001b[39;49m\u001b[38;5;124;43mshell\u001b[39;49m\u001b[38;5;124;43m\"\u001b[39;49m\u001b[43m)\u001b[49m\u001b[43m,\u001b[49m\n\u001b[1;32m   1191\u001b[0m \u001b[43m    \u001b[49m\u001b[43mpassword\u001b[49m\u001b[38;5;241;43m=\u001b[39;49m\u001b[38;5;28;43;01mFalse\u001b[39;49;00m\u001b[43m,\u001b[49m\n\u001b[1;32m   1192\u001b[0m \u001b[43m\u001b[49m\u001b[43m)\u001b[49m\n",
      "File \u001b[0;32m~/.asdf/installs/python/3.11.0/lib/python3.11/site-packages/ipykernel/kernelbase.py:1230\u001b[0m, in \u001b[0;36mKernel._input_request\u001b[0;34m(self, prompt, ident, parent, password)\u001b[0m\n\u001b[1;32m   1227\u001b[0m \u001b[38;5;28;01mexcept\u001b[39;00m \u001b[38;5;167;01mKeyboardInterrupt\u001b[39;00m:\n\u001b[1;32m   1228\u001b[0m     \u001b[38;5;66;03m# re-raise KeyboardInterrupt, to truncate traceback\u001b[39;00m\n\u001b[1;32m   1229\u001b[0m     msg \u001b[38;5;241m=\u001b[39m \u001b[38;5;124m\"\u001b[39m\u001b[38;5;124mInterrupted by user\u001b[39m\u001b[38;5;124m\"\u001b[39m\n\u001b[0;32m-> 1230\u001b[0m     \u001b[38;5;28;01mraise\u001b[39;00m \u001b[38;5;167;01mKeyboardInterrupt\u001b[39;00m(msg) \u001b[38;5;28;01mfrom\u001b[39;00m \u001b[38;5;28mNone\u001b[39m\n\u001b[1;32m   1231\u001b[0m \u001b[38;5;28;01mexcept\u001b[39;00m \u001b[38;5;167;01mException\u001b[39;00m:\n\u001b[1;32m   1232\u001b[0m     \u001b[38;5;28mself\u001b[39m\u001b[38;5;241m.\u001b[39mlog\u001b[38;5;241m.\u001b[39mwarning(\u001b[38;5;124m\"\u001b[39m\u001b[38;5;124mInvalid Message:\u001b[39m\u001b[38;5;124m\"\u001b[39m, exc_info\u001b[38;5;241m=\u001b[39m\u001b[38;5;28;01mTrue\u001b[39;00m)\n",
      "\u001b[0;31mKeyboardInterrupt\u001b[0m: Interrupted by user"
     ]
    }
   ],
   "source": [
    "user_proxy = UserProxyAgent(\"user_proxy\", code_execution_config={\"work_dir\": \"coding\"})\n",
    "user_proxy.initiate_chat(assistant, message=\"\"\"\n",
    "Witam\n",
    "\n",
    "\n",
    "ZAPYTANIE ODNOŚNIE DOSTĘPNOŚCI N/W ARTYKUŁÓW\n",
    "\n",
    "\n",
    "- Prowadnik kabli \n",
    "-- \n",
    "Cable carrier  ( prowadnik kabla ) \t1665.030.200.3000-4655  TSO_0 FA_MA \tTsubaki \t1szt \t \n",
    "Energy chain  (prowadnik kabla ) \t1665.030.125.140-4189.5   TS0_0 FA_MA \tTsubaki \t1szt \t \n",
    " \n",
    "Jęśli możecie dostarczyć proszę o ofertę\n",
    " \n",
    " \n",
    "Pozdrawiam / Best regards\n",
    "\"\"\")"
   ]
  },
  {
   "cell_type": "code",
   "execution_count": null,
   "id": "a5352f98-291b-4cd5-8c61-8477a0086271",
   "metadata": {},
   "outputs": [],
   "source": [
    "AssistantAgent?"
   ]
  },
  {
   "cell_type": "code",
   "execution_count": null,
   "id": "4c943314-3eb9-4e6a-9f50-95b034fa07fc",
   "metadata": {},
   "outputs": [],
   "source": [
    "import email\n",
    "import sys\n",
    "\n",
    "def deserialize_eml(eml_file):\n",
    "    try:\n",
    "        with open(eml_file, 'r', encoding='utf-8') as eml_file:\n",
    "            msg = email.message_from_file(eml_file)\n",
    "            return msg\n",
    "    except Exception as e:\n",
    "        print(f\"Error: {e}\")\n",
    "        return None\n",
    "\n",
    "#     msg = deserialize_eml(eml_file)\n",
    "\n",
    "#     if msg:\n",
    "#         print(\"Subject:\", msg[\"subject\"])\n",
    "#         print(\"From:\", msg[\"from\"])\n",
    "#         print(\"To:\", msg[\"to\"])\n",
    "#         print(\"\\nMessage Body:\")\n",
    "#         print(msg.get_payload())\n"
   ]
  },
  {
   "cell_type": "code",
   "execution_count": null,
   "id": "841a6545-c177-4d56-bac0-76a24c388616",
   "metadata": {},
   "outputs": [],
   "source": [
    "email_file_messaging_path = '/home/valuamba/Downloads/Re Offer №453757 13.11.2023, Contrinex _ FAMAGA Group GmbH & Co. KG .eml'\n",
    "\n",
    "email = deserialize_eml(email_file_messaging_path)"
   ]
  },
  {
   "cell_type": "code",
   "execution_count": null,
   "id": "57a33bbd-0f83-4d27-803a-79824f03c2c3",
   "metadata": {},
   "outputs": [],
   "source": [
    "email??"
   ]
  },
  {
   "cell_type": "code",
   "execution_count": null,
   "id": "68b5004d-1281-4cab-8eaa-9661303a96a6",
   "metadata": {},
   "outputs": [],
   "source": [
    "print(email.get_payload()[0])"
   ]
  },
  {
   "cell_type": "code",
   "execution_count": null,
   "id": "afd14790-96b7-4221-8ee0-db982726033d",
   "metadata": {},
   "outputs": [],
   "source": [
    "def get_text_from_message_part(part):\n",
    "    parts = []\n",
    "    if part.is_multipart():\n",
    "        for subpart in part.get_payload():\n",
    "            parts = parts + get_text_from_message_part(subpart)\n",
    "    elif part.get_content_type() == \"text/plain\":\n",
    "        charset = part.get_content_charset()\n",
    "        parts.append(part.get_payload(decode=True).decode(charset, errors=\"ignore\"))\n",
    "    return parts\n"
   ]
  },
  {
   "cell_type": "code",
   "execution_count": null,
   "id": "747a1630-b811-44a7-bff0-983cc40a66ca",
   "metadata": {},
   "outputs": [],
   "source": [
    "print(get_text_from_message_part(email)[0])"
   ]
  },
  {
   "cell_type": "code",
   "execution_count": null,
   "id": "2bda7c1b-fa4d-4b3f-9ce7-11e283eeb93c",
   "metadata": {},
   "outputs": [],
   "source": [
    "import email \n",
    "\n",
    "\n",
    "def get_text_from_message_part(part):\n",
    "    text = \"\"\n",
    "    if part.is_multipart():\n",
    "        for subpart in part.get_payload():\n",
    "            text += get_text_from_message_part(subpart)\n",
    "    elif part.get_content_type() == \"text/plain\":\n",
    "        charset = part.get_content_charset()\n",
    "        text += part.get_payload(decode=True).decode(charset, errors=\"ignore\")\n",
    "    return text\n",
    "\n",
    "def split_messages(eml_file):\n",
    "    messages = []\n",
    "    with open(eml_file, 'r', encoding='utf-8') as eml_file:\n",
    "        msg = email.message_from_file(eml_file)\n",
    "        if msg.is_multipart():\n",
    "            for part in msg.walk():\n",
    "                if part.get_content_type() == \"text/plain\":\n",
    "                    text = get_text_from_message_part(part)\n",
    "                    if text:\n",
    "                        messages.append(text)\n",
    "        else:\n",
    "            messages.append(get_text_from_message_part(msg))\n",
    "    return messages"
   ]
  },
  {
   "cell_type": "code",
   "execution_count": null,
   "id": "be45a551-1214-473c-b135-efd4c1c68592",
   "metadata": {},
   "outputs": [],
   "source": [
    "email_file_messaging_path = '/home/valuamba/Downloads/Re Offer №453757 13.11.2023, Contrinex _ FAMAGA Group GmbH & Co. KG .eml'\n",
    "\n",
    "messages = split_messages(email_file_messaging_path)\n",
    "\n",
    "for i, message in enumerate(messages, start=1):\n",
    "    print(f\"Message {i}:\\n\")\n",
    "    print(message)\n",
    "    print(\"\\n\" + \"=\" * 50 + \"\\n\")"
   ]
  },
  {
   "cell_type": "code",
   "execution_count": null,
   "id": "2e02c48a-8ff2-497e-a1b0-6b7d303bc948",
   "metadata": {},
   "outputs": [],
   "source": [
    "from email.parser import Parser\n",
    "\n",
    "\n",
    "pp = None\n",
    "with open(email_file_messaging_path) as f:\n",
    "    pp = Parser().parse(f)\n",
    "    \n",
    "pp\n"
   ]
  },
  {
   "cell_type": "code",
   "execution_count": null,
   "id": "c925d462-8cce-4426-9fa0-bdcc86d64dcc",
   "metadata": {},
   "outputs": [],
   "source": [
    "pp?\n"
   ]
  },
  {
   "cell_type": "code",
   "execution_count": null,
   "id": "254f9316-a4c7-4d52-8233-ff3ae67b531e",
   "metadata": {},
   "outputs": [],
   "source": [
    "import email\n",
    "\n",
    "with open(email_file_messaging_path, 'r', encoding='utf-8') as eml_file:\n",
    "    msg = email.message_from_file(eml_file)\n",
    "\n",
    "# for part in msg.walk():\n",
    "#     # each part is a either non-multipart, or another multipart message\n",
    "#     # that contains further parts... Message is organized like a tree\n",
    "    \n",
    "#     # print(part.get_payload())\n",
    "    \n",
    "#     if part.get_content_type() == 'text/plain':\n",
    "#         print(part.get_payload()) # prints the raw text\n",
    "\n",
    "        \n",
    "#     print('\\n\\n\\n-----------------------------------MESSAGE END --------------------------\\n\\n\\n')"
   ]
  },
  {
   "cell_type": "code",
   "execution_count": null,
   "id": "f8792b99-9db7-4a02-ac9f-b8c1df5eb071",
   "metadata": {},
   "outputs": [],
   "source": [
    "msg.is_multipart()"
   ]
  },
  {
   "cell_type": "code",
   "execution_count": null,
   "id": "1977bded-8d48-40ac-9883-25109c6e12da",
   "metadata": {},
   "outputs": [],
   "source": [
    "msg_0 = msg.get_payload()[1]\n",
    "\n",
    "msg_0.is_multipart()"
   ]
  },
  {
   "cell_type": "code",
   "execution_count": null,
   "id": "a98d85db-d060-448e-b216-125bccd8ee46",
   "metadata": {},
   "outputs": [],
   "source": [
    "msg_00 = msg_0.get_payload()[0]\n",
    "\n",
    "msg_00.get_body()"
   ]
  },
  {
   "cell_type": "code",
   "execution_count": null,
   "id": "56d5e782-4aa2-4395-b1c7-a6deb554898b",
   "metadata": {},
   "outputs": [],
   "source": [
    "msg_0.items()"
   ]
  },
  {
   "cell_type": "code",
   "execution_count": null,
   "id": "e36964c2-1654-4ec4-b381-a833a451d130",
   "metadata": {},
   "outputs": [],
   "source": [
    "msg_00??"
   ]
  },
  {
   "cell_type": "code",
   "execution_count": null,
   "id": "74129030-cc5b-40b6-9012-ffcf18a98632",
   "metadata": {},
   "outputs": [],
   "source": [
    "def parse_message_structure(message, deep: int = 0):\n",
    "    messages = []\n",
    "    if message.is_multipart():\n",
    "        for child in message.get_payload():\n",
    "            messages += parse_message_structure(child, deep + 1)\n",
    "\n",
    "    t = ''\n",
    "    for n in range(deep):\n",
    "        t += '-'\n",
    "            \n",
    "    print(t + str(message.items()))\n",
    "    print('\\n')\n",
    "    \n",
    "    messages.append(message)\n",
    "    \n",
    "    return messages\n",
    "    # print('\\n\\n ------------------- \\n\\n')\n",
    "\n"
   ]
  },
  {
   "cell_type": "code",
   "execution_count": null,
   "id": "181d06bd-92c9-4711-b8ba-6a371ae9af44",
   "metadata": {},
   "outputs": [],
   "source": [
    "msgs = parse_message_structure(msg)"
   ]
  },
  {
   "cell_type": "code",
   "execution_count": null,
   "id": "cca25cd2-6e3b-4d65-b877-41b2b17bca67",
   "metadata": {},
   "outputs": [],
   "source": [
    "# for m in msgs:\n",
    "#     if m.get_content_type() == 'text/plain':\n",
    "#         print(m)\n",
    "        \n",
    "print(msgs[5])        "
   ]
  },
  {
   "cell_type": "code",
   "execution_count": null,
   "id": "a24db25b-ab7e-4fb4-979b-e0ec55c302be",
   "metadata": {},
   "outputs": [],
   "source": []
  }
 ],
 "metadata": {
  "kernelspec": {
   "display_name": "Python 3 (ipykernel)",
   "language": "python",
   "name": "python3"
  },
  "language_info": {
   "codemirror_mode": {
    "name": "ipython",
    "version": 3
   },
   "file_extension": ".py",
   "mimetype": "text/x-python",
   "name": "python",
   "nbconvert_exporter": "python",
   "pygments_lexer": "ipython3",
   "version": "3.12.1"
  }
 },
 "nbformat": 4,
 "nbformat_minor": 5
}
