{
 "cells": [
  {
   "cell_type": "code",
   "execution_count": null,
   "id": "270f0635-c2f9-40ef-9358-36543d8a2760",
   "metadata": {},
   "outputs": [],
   "source": []
  }
 ],
 "metadata": {
  "kernelspec": {
   "display_name": "",
   "name": ""
  },
  "language_info": {
   "name": ""
  }
 },
 "nbformat": 4,
 "nbformat_minor": 5
}
