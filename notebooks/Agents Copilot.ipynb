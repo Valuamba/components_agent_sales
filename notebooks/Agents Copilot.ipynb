{
 "cells": [
  {
   "cell_type": "code",
   "execution_count": null,
   "id": "c1fa2a44-c172-46f3-a49a-485bca5ca964",
   "metadata": {},
   "outputs": [],
   "source": []
  },
  {
   "cell_type": "code",
   "execution_count": null,
   "id": "cd289d94-8f58-473f-abb8-ee1461ca7a26",
   "metadata": {},
   "outputs": [],
   "source": [
    "from models import Detail\n",
    "\n",
    "from psycopg2.extensions import cursor as CursorType\n",
    "\n",
    "\n",
    "class SearchPartCRMTool:\n",
    "    \n",
    "    def search_at_crm_db(self, input: str):\n",
    "        \n",
    "\n",
    "class DetailInfoRepository:\n",
    "\n",
    "    def __init__(self, cursor, vector_collection_name, similarity_search_limit):\n",
    "        self.cursor: CursorType = cursor\n",
    "        self.vector_collection_name = vector_collection_name\n",
    "        self.similarity_search_limit = similarity_search_limit\n",
    "\n",
    "    def get_top_relevant_messages(self, embeddings, k=3):\n",
    "        try:\n",
    "            query = f\"\"\"\n",
    "                WITH vector_matches AS (\n",
    "                    SELECT brand_id, name, embedding <=> '{embeddings}' AS distance\n",
    "                    FROM {self.vector_collection_name}\n",
    "                )\n",
    "                SELECT brand_id, name, distance\n",
    "                FROM vector_matches\n",
    "                ORDER BY distance\n",
    "                LIMIT '{k}';\n",
    "            \"\"\"\n",
    "            \n",
    "            self.cursor.execute(query)\n",
    "            all_matches = self.cursor.fetchall()\n",
    "            \n",
    "            relevant_matches = []\n",
    "            print('All matches:')\n",
    "            for doc in all_matches:\n",
    "                print(f'-- {round(doc[2], 2)}: {doc[1]}')\n",
    "                \n",
    "                if round(doc[2], 2) <= float(self.similarity_search_limit):\n",
    "                    relevant_matches.append({\n",
    "                        \"document\": doc,\n",
    "                        \"score\": doc[2]\n",
    "                        })\n",
    "\n",
    "            if len(relevant_matches) == 0:\n",
    "                print(\"No relevant matches found\")\n",
    "            else:\n",
    "                print(\"Relevant matches: \")\n",
    "                [print(f'-- {round(doc[\"score\"], 2)}: {doc[\"document\"][2]}') for doc in relevant_matches]\n",
    "            return relevant_matches\n",
    "        except Exception as e:\n",
    "            print(f\"[get_top_relevant_messages] {type(e).__name__} exception: {e}\")\n",
    "            return []\n",
    "\n",
    "    def select_detail_by_ids(self, details_ids):\n",
    "        details_ids_str = ', '.join([str(d) for d in details_ids])\n",
    "        query = f\"select * from details_info where id IN({details_ids_str})\"\n",
    "\n",
    "        self.cursor.execute(query)\n",
    "\n",
    "        all_matches = self.cursor.fetchall()\n",
    "\n",
    "        details = []\n",
    "        for match in all_matches:\n",
    "            details.append(Detail(\n",
    "                id=match[0],\n",
    "                part_number=match[1],\n",
    "                brand_name=match[4],\n",
    "                description=match[5]\n",
    "            ))\n",
    "        return details\n",
    "\n",
    "    def select_detail_by_part_number(self, part_number: str):\n",
    "        query = f\"select * from details_info where part_number='{part_number}'\"\n",
    "\n",
    "        try:\n",
    "            self.cursor.execute(query)\n",
    "\n",
    "            all_matches = self.cursor.fetchall()\n",
    "\n",
    "        \n",
    "            details = []\n",
    "            for match in all_matches:\n",
    "                details.append(Detail(\n",
    "                    id=match[0],\n",
    "                    part_number=match[1],\n",
    "                    brand_name=match[4],\n",
    "                    description=match[5]\n",
    "                ))\n",
    "            return details\n",
    "        except:\n",
    "            return []\n",
    "        \n",
    "    def select_brands_details(self, brand_ids):\n",
    "        ids_str = ', '.join([str(b) for b in brand_ids])\n",
    "\n",
    "        query = f\"select * from details_info where brand_id IN({ids_str})\"\n",
    "\n",
    "        self.cursor.execute(query)\n",
    "\n",
    "        return self.cursor.fetchall()"
   ]
  },
  {
   "cell_type": "code",
   "execution_count": 6,
   "id": "82f7ce61-a296-40aa-96f9-78f64d83359e",
   "metadata": {},
   "outputs": [
    {
     "data": {
      "text/plain": [
       "True"
      ]
     },
     "execution_count": 6,
     "metadata": {},
     "output_type": "execute_result"
    }
   ],
   "source": [
    "import openai\n",
    "from dotenv import load_dotenv\n",
    "from pprint import pprint\n",
    "\n",
    "load_dotenv()"
   ]
  },
  {
   "cell_type": "code",
   "execution_count": 7,
   "id": "ce78f64a-8e44-4ffe-b67d-4dace3a4dcb2",
   "metadata": {},
   "outputs": [],
   "source": [
    "client = openai.Client()"
   ]
  },
  {
   "cell_type": "code",
   "execution_count": 1,
   "id": "c5ac1122-c27c-4863-8bb1-cd00e29898b0",
   "metadata": {},
   "outputs": [],
   "source": [
    "PREFIX = \"\"\"Solve the following tasks as best you can. You have access to the following tools:\"\"\"\n",
    "\n",
    "FORMAT_INSTRUCTIONS = \"\"\"Use the following format:\n",
    "\n",
    "Question: the input question you must answer\n",
    "Thought: you should always think about what to do\n",
    "Action: the action to take, should be one of [{tool_names}]\n",
    "Action Input: the input to the action\n",
    "Observation: the result of the action\n",
    "... (this Thought/Action/Action Input/Observation can repeat N times)\n",
    "Thought: I now know the final answer\n",
    "Final Answer: the final answer to the original input question\"\"\"\n",
    "\n",
    "SUFFIX = \"\"\"Begin!\n",
    "\n",
    "Task: {input}\n",
    "Thought:{agent_scratchpad}\"\"\""
   ]
  },
  {
   "cell_type": "code",
   "execution_count": 2,
   "id": "b31b34ea-6b2e-42e1-8cc9-1ed704e28924",
   "metadata": {},
   "outputs": [],
   "source": [
    "question = \"\"\"\n",
    "Here is the customer request part/parts:\n",
    "\n",
    "Amount: 7\n",
    "Brand name: ENDRESS+HAUSER\n",
    "Part number: 71035522\n",
    "Country: Chile\n",
    "\n",
    "Please gather more info about price, technical info, manufacturer at company CRM database and Google.\n",
    "\n",
    "\"\"\""
   ]
  },
  {
   "cell_type": "code",
   "execution_count": 3,
   "id": "7e56cdaa-2d87-47e1-a6b8-e125e78b2432",
   "metadata": {},
   "outputs": [],
   "source": [
    "tools_str = \"\"\"\n",
    "    Search part at CRM: This tool is needed for search part at company CRM database, in 40% cases requisted detail by customer already exist at DB.\n",
    "    The input to this tool is a dictionary specifying the fields of the Search task, depends of data in customer request and will be passed into search CRM `search_part_crm` function.\n",
    "    Only add fields described by user\n",
    "    \n",
    "    Here are few task descriptions and corresponding input examples:\n",
    "    Task: search part with brand 'Endress+Hauser' and part number '71035522'\n",
    "    Example Input: {{ \"brand\": \"Endress+Hauser\", \"part_number\": \"71035522\"}}\n",
    "    Task: search part with brand \"INFRANOR\" and model \"CD1\"\n",
    "    Example Input: {{ \"brand\": \"INFRANOR\", \"part_number\": \"CD1\"}}\n",
    "    \n",
    "    \n",
    "    Search part at Google: This tool is needed for search part at Google, in 60% cases requisted detail by customer do not exist at CRM DB and needed to be searched at Google.\n",
    "    The input to this tool is a dictionary specifying the fields of the Search task, depends of data in customer request and will be passed into search CRM `search_part_google` function.\n",
    "    Only add fields described by user.\n",
    "    \n",
    "    Here are few task descriptions and corresponding input examples:\n",
    "    Task: search part with brand 'Endress+Hauser' and part number '71035522'\n",
    "    Example Input: {{ \"brand\": \"Endress+Hauser\", \"part_number\": \"71035522\"}}\n",
    "    Task: search part with brand \"INFRANOR\" and model \"CD1\"\n",
    "    Example Input: {{ \"brand\": \"INFRANOR\", \"part_number\": \"CD1\"}}\n",
    "\n",
    "\"\"\""
   ]
  },
  {
   "cell_type": "code",
   "execution_count": 4,
   "id": "f7c07b8d-11b6-4edc-8382-3fb4660526c9",
   "metadata": {},
   "outputs": [],
   "source": [
    "prompt = '\\n\\n'.join([\n",
    "    PREFIX,\n",
    "    tools_str,\n",
    "    FORMAT_INSTRUCTIONS.format(tool_names='Search part at CRM, Search part at Google'),\n",
    "    SUFFIX.format(input=question, agent_scratchpad='')\n",
    "])"
   ]
  },
  {
   "cell_type": "code",
   "execution_count": 9,
   "id": "04aa889e-f7c5-44a0-99a6-5c238ff5fc22",
   "metadata": {},
   "outputs": [],
   "source": [
    "stop = ['\\nObservation:', '\\n\\tObservation:']"
   ]
  },
  {
   "cell_type": "code",
   "execution_count": 10,
   "id": "b2fcd262-f4d4-42ef-a968-ee421912486f",
   "metadata": {},
   "outputs": [
    {
     "name": "stdout",
     "output_type": "stream",
     "text": [
      "Thought: The customer is requesting information on a specific part from the brand ENDRESS+HAUSER with the part number 71035522. They need 7 units and are located in Chile. They want to know the price, technical information, and manufacturer details. Since there's a 40% chance that the part exists in the company CRM database, I should start by searching there before moving on to Google.\n",
      "\n",
      "Action: Search part at CRM\n",
      "Action Input: { \"brand\": \"ENDRESS+HAUSER\", \"part_number\": \"71035522\" }\n"
     ]
    }
   ],
   "source": [
    "model1 = 'gpt-4-1106-preview'\n",
    "model2 = 'gpt-4'\n",
    "model = model1\n",
    "\n",
    "completion = client.chat.completions.create(model=model, \n",
    "        messages=[\n",
    "        {\"role\": \"user\", \"content\": prompt}\n",
    "    ], \n",
    "    stop=stop,\n",
    "    temperature=0)\n",
    "\n",
    "output = completion.choices[0].message.content\n",
    "\n",
    "print(completion.choices[0].message.content )"
   ]
  },
  {
   "cell_type": "code",
   "execution_count": 12,
   "id": "fc2f8b15-9b1f-4fe3-98e7-5d90f3a7cfdc",
   "metadata": {},
   "outputs": [],
   "source": [
    "from langchain.agents.mrkl.output_parser import MRKLOutputParser"
   ]
  },
  {
   "cell_type": "code",
   "execution_count": 13,
   "id": "41e5549c-364c-4c73-b980-790ddfd3ce1f",
   "metadata": {},
   "outputs": [],
   "source": [
    "output_parser = MRKLOutputParser()"
   ]
  },
  {
   "cell_type": "code",
   "execution_count": 16,
   "id": "fac36b34-ffcb-4831-a667-80cd17216025",
   "metadata": {},
   "outputs": [
    {
     "data": {
      "text/plain": [
       "AgentAction(tool='Search part at CRM', tool_input='{ \"brand\": \"ENDRESS+HAUSER\", \"part_number\": \"71035522\" }', log='Thought: The customer is requesting information on a specific part from the brand ENDRESS+HAUSER with the part number 71035522. They need 7 units and are located in Chile. They want to know the price, technical information, and manufacturer details. Since there\\'s a 40% chance that the part exists in the company CRM database, I should start by searching there before moving on to Google.\\n\\nAction: Search part at CRM\\nAction Input: { \"brand\": \"ENDRESS+HAUSER\", \"part_number\": \"71035522\" }')"
      ]
     },
     "execution_count": 16,
     "metadata": {},
     "output_type": "execute_result"
    }
   ],
   "source": [
    "agent_action = output_parser.parse(output)\n",
    "agent_action"
   ]
  },
  {
   "cell_type": "code",
   "execution_count": 29,
   "id": "d51ed1b2-3a46-49a6-825e-7080b5ffe097",
   "metadata": {},
   "outputs": [],
   "source": [
    "from pydantic import BaseModel\n",
    "import json"
   ]
  },
  {
   "cell_type": "code",
   "execution_count": 26,
   "id": "5d8e1c9f-5047-4e6c-9698-258d66e89024",
   "metadata": {},
   "outputs": [],
   "source": [
    "def parse_tool_input(tool_input: str, args_schema: BaseModel):\n",
    "    input_args = args_schema\n",
    "    if isinstance(tool_input, str):\n",
    "        if input_args is not None:\n",
    "            key_ = next(iter(input_args.__fields__.keys()))\n",
    "            input_args.validate({key_: tool_input})\n",
    "        return tool_input\n",
    "    else:\n",
    "        if input_args is not None:\n",
    "            result = input_args.parse_obj(tool_input)\n",
    "            return {k: v for k, v in result.dict().items() if k in tool_input}\n",
    "    return tool_input\n"
   ]
  },
  {
   "cell_type": "code",
   "execution_count": 24,
   "id": "40ea268c-06ea-4281-aefd-6607aaf5c169",
   "metadata": {},
   "outputs": [],
   "source": [
    "class DetailRequest(BaseModel):\n",
    "    brand: str\n",
    "    part_number: str\n"
   ]
  },
  {
   "cell_type": "code",
   "execution_count": 21,
   "id": "564821e9-3dad-4381-9d25-1861dfeb3149",
   "metadata": {},
   "outputs": [
    {
     "name": "stderr",
     "output_type": "stream",
     "text": [
      "/tmp/ipykernel_2639533/1626135491.py:3: PydanticDeprecatedSince20: The `__fields__` attribute is deprecated, use `model_fields` instead. Deprecated in Pydantic V2.0 to be removed in V3.0. See Pydantic V2 Migration Guide at https://errors.pydantic.dev/2.5/migration/\n",
      "  s.__fields__.keys()\n"
     ]
    },
    {
     "data": {
      "text/plain": [
       "dict_keys(['brand_name', 'part_number'])"
      ]
     },
     "execution_count": 21,
     "metadata": {},
     "output_type": "execute_result"
    }
   ],
   "source": [
    "s = DetailRequest\n",
    "\n",
    "s.__fields__.keys()"
   ]
  },
  {
   "cell_type": "code",
   "execution_count": 30,
   "id": "c2fba909-64fe-4247-bacd-b94b97025c3c",
   "metadata": {},
   "outputs": [
    {
     "data": {
      "text/plain": [
       "{'brand': 'ENDRESS+HAUSER', 'part_number': '71035522'}"
      ]
     },
     "execution_count": 30,
     "metadata": {},
     "output_type": "execute_result"
    }
   ],
   "source": [
    "json.loads(agent_action.tool_input)"
   ]
  },
  {
   "cell_type": "code",
   "execution_count": 31,
   "id": "90622d32-6fd8-4b0b-8da0-05f6cdd5f955",
   "metadata": {},
   "outputs": [
    {
     "name": "stderr",
     "output_type": "stream",
     "text": [
      "/tmp/ipykernel_2639533/41373246.py:10: PydanticDeprecatedSince20: The `parse_obj` method is deprecated; use `model_validate` instead. Deprecated in Pydantic V2.0 to be removed in V3.0. See Pydantic V2 Migration Guide at https://errors.pydantic.dev/2.5/migration/\n",
      "  result = input_args.parse_obj(tool_input)\n",
      "/tmp/ipykernel_2639533/41373246.py:11: PydanticDeprecatedSince20: The `dict` method is deprecated; use `model_dump` instead. Deprecated in Pydantic V2.0 to be removed in V3.0. See Pydantic V2 Migration Guide at https://errors.pydantic.dev/2.5/migration/\n",
      "  return {k: v for k, v in result.dict().items() if k in tool_input}\n"
     ]
    },
    {
     "data": {
      "text/plain": [
       "{'brand': 'ENDRESS+HAUSER', 'part_number': '71035522'}"
      ]
     },
     "execution_count": 31,
     "metadata": {},
     "output_type": "execute_result"
    }
   ],
   "source": [
    "parse_tool_input(json.loads(agent_action.tool_input), DetailRequest)"
   ]
  },
  {
   "cell_type": "code",
   "execution_count": 33,
   "id": "223ac7c3-bff5-4d43-a601-352de6987f95",
   "metadata": {},
   "outputs": [
    {
     "name": "stderr",
     "output_type": "stream",
     "text": [
      "/tmp/ipykernel_2639533/4242616663.py:1: PydanticDeprecatedSince20: The `parse_obj` method is deprecated; use `model_validate` instead. Deprecated in Pydantic V2.0 to be removed in V3.0. See Pydantic V2 Migration Guide at https://errors.pydantic.dev/2.5/migration/\n",
      "  DetailRequest.parse_obj(json.loads(agent_action.tool_input))\n"
     ]
    },
    {
     "data": {
      "text/plain": [
       "DetailRequest(brand='ENDRESS+HAUSER', part_number='71035522')"
      ]
     },
     "execution_count": 33,
     "metadata": {},
     "output_type": "execute_result"
    }
   ],
   "source": [
    "DetailRequest.parse_obj(json.loads(agent_action.tool_input))"
   ]
  },
  {
   "cell_type": "code",
   "execution_count": null,
   "id": "ea4ac9ec-7422-4315-94d5-2aeb25179ded",
   "metadata": {},
   "outputs": [],
   "source": [
    "search_part_at_crm()"
   ]
  },
  {
   "cell_type": "code",
   "execution_count": null,
   "id": "57e1270e-06f4-4420-b3b0-a0b93147aff8",
   "metadata": {},
   "outputs": [],
   "source": [
    "\n",
    "if agent_action == 'Search part at CRM':\n",
    "    parsed_tool_input = parse_tool_input(json.loads(agent_action.tool_input), DetailRequest)\n",
    "    tool_input_model = DetailRequest.parse_obj(parsed_tool_input)\n",
    "    search_part_at_crm(tool_input_model)\n",
    "    \n",
    "elif agent_action == 'Search part at Google':\n",
    "    parsed_tool_input = parse_tool_input(json.loads(agent_action.tool_input), DetailRequest)\n",
    "    tool_input_model = DetailRequest.parse_obj(parsed_tool_input)\n",
    "    search_at_google(tool_input_model)\n",
    "\n"
   ]
  }
 ],
 "metadata": {
  "kernelspec": {
   "display_name": "Python 3 (ipykernel)",
   "language": "python",
   "name": "python3"
  },
  "language_info": {
   "codemirror_mode": {
    "name": "ipython",
    "version": 3
   },
   "file_extension": ".py",
   "mimetype": "text/x-python",
   "name": "python",
   "nbconvert_exporter": "python",
   "pygments_lexer": "ipython3",
   "version": "3.12.2"
  }
 },
 "nbformat": 4,
 "nbformat_minor": 5
}
