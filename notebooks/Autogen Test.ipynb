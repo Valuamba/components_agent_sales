{
 "cells": [
  {
   "cell_type": "code",
   "execution_count": 21,
   "id": "f4e15f02-8efd-4fd5-9ff9-dfa63a38ca53",
   "metadata": {},
   "outputs": [
    {
     "data": {
      "text/plain": [
       "list"
      ]
     },
     "execution_count": 21,
     "metadata": {},
     "output_type": "execute_result"
    }
   ],
   "source": [
    "from autogen import AssistantAgent, UserProxyAgent, config_list_from_json, GroupChat, GroupChatManager\n",
    "\n",
    "# Load LLM inference endpoints from an env variable or a file\n",
    "# See https://microsoft.github.io/autogen/docs/FAQ#set-your-api-endpoints\n",
    "# and OAI_CONFIG_LIST_sample.json\n",
    "config_list = config_list_from_json(env_or_file=\"OAI_CONFIG_LIST.json\")\n",
    "type(config_list)"
   ]
  },
  {
   "cell_type": "code",
   "execution_count": 8,
   "id": "152237e7-72f4-40b1-8ac6-047eb5781b4b",
   "metadata": {},
   "outputs": [],
   "source": [
    "assistant = AssistantAgent(\"assistant\", llm_config={\"config_list\": config_list})\n"
   ]
  },
  {
   "cell_type": "code",
   "execution_count": 9,
   "id": "a517b01f-48bc-421b-b69d-f0ea7c3703f0",
   "metadata": {},
   "outputs": [],
   "source": [
    "user_proxy = UserProxyAgent(\"user_proxy\", code_execution_config={\"work_dir\": \"coding\", \"use_docker\": False}) # IMPORTANT: set to True to run code in docker, recommended\n"
   ]
  },
  {
   "cell_type": "code",
   "execution_count": null,
   "id": "e60fe776-f562-46e6-91d1-c5fb60ff2f9f",
   "metadata": {},
   "outputs": [],
   "source": [
    "user_proxy.initiate_chat(assistant, message=\"Plot a chart of NVDA and TESLA stock price change YTD.\")"
   ]
  },
  {
   "cell_type": "code",
   "execution_count": 11,
   "id": "6662fba0-99b2-4747-8e6c-8655bed75720",
   "metadata": {},
   "outputs": [],
   "source": [
    "sales_mananger_prompt = \"\"\"\n",
    "You are Sales Manager(SM) at manufacturer details dealer.  Also there are Research Analyst (RA), Customer Service Reprisentative (CSR).  The business model of the company is very simple: Customers ask to buy parts, and a CSR (Customer Service Representative) looks at the request to see what parts the customer needs. Then, an RA (Research Analyst) finds the best prices for these parts online and tells the CSR. The CSR makes an offer and sends it to the customer. The customer can either buy the parts or have questions, and the CSR helps with these questions.\n",
    "\n",
    "Description of the area of responsibility for each employee under your supervision.\n",
    "\n",
    "Agent 1. Customer Service Reprisentative (CSR)\n",
    "- classify customer request: extract details info from client email text body: brand name, part number, amount, model, serial number etc.\n",
    "- answer on technical questions\n",
    "- ping customer when it not responds\n",
    "- generate commercial offer\n",
    "\n",
    "Agent 2. Research Analyst (RA)\n",
    "- search at CRM database: search detail by brand name or model or part number at company CRM database\n",
    "- search at Google: search details at google with query\n",
    "\n",
    "Your responsibility as a Sales Manager is to make decisions based on the information provided and to assign tasks to your subordinates. The task should be set in the following format:\n",
    "\n",
    "Agent: responsible employee\n",
    "State: this is one or more words in CamelCase that describe the current state\n",
    "Task: a detailed description of the task in 1-2 sentences, which will be understandable to the employee.\n",
    "\n",
    "[Example 1]\n",
    "Agent: Customer Service Reprisentative (CSR)\n",
    "State: PartClassification\n",
    "Task: Customer sends email, you need to classify it and select information or generate response message.\n",
    "\"\"\""
   ]
  },
  {
   "cell_type": "code",
   "execution_count": 29,
   "id": "f5c234cc-35fa-4bfc-a557-429989394c31",
   "metadata": {},
   "outputs": [],
   "source": [
    "sales_manager_assistant = AssistantAgent(\n",
    "    \"sales_manager_assistant\",\n",
    "    sales_mananger_prompt,\n",
    "    llm_config={\"config_list\": config_list})"
   ]
  },
  {
   "cell_type": "code",
   "execution_count": 30,
   "id": "34b1e94d-982d-48e0-8b32-0a028c1a33a6",
   "metadata": {},
   "outputs": [],
   "source": [
    "csr_system_prompt = \"\"\"\n",
    "You are Customer Support Reprisentative at manufacturer details dealer.  To be concise your position would have abbreviature CSR. The business model of your company is quite simple:\n",
    "- client, usually it company owner or reprisentative leave request on getting manufacturer details offer, this offer going to CRM\n",
    "- CSR classify request, search details at CRM database and Google, get the best price\n",
    "- if there is no info about detail or this information is outdated, CSR would communcate with detail manufacturer or supplier, it depends on which link CSR opened at Google with this detail.\n",
    "- when info about detail was gathered CSR generate offer for client and continue to interact with custoemr. Price at offer was did with company commision.\n",
    "\n",
    "So you're role at company is to communicate with clients and customers, answer on their common questions about delivery, dates, prices and on technical questions about details technical specifications from datasheets. You have quarterly KPI's and percent from each deal.\n",
    "\n",
    "There are usual flow that you working every day, but consider that it could be different:\n",
    "- classify customer request: extract details info from client email text body: brand name, part number, amount, model, serial number etc.\n",
    "- answer on technical questions\n",
    "- ping customer when it not responds\n",
    "- generate commercial offer\n",
    "\"\"\"\n",
    "\n",
    "customer_support = AssistantAgent(\n",
    "    name=\"customer_service_assistant\",\n",
    "    system_message= csr_system_prompt,\n",
    "    llm_config={\"config_list\": config_list} \n",
    ")"
   ]
  },
  {
   "cell_type": "code",
   "execution_count": 31,
   "id": "40a5e8f0-8747-4a3d-85d0-244cfe4f8849",
   "metadata": {},
   "outputs": [],
   "source": [
    "user_proxy = UserProxyAgent(\n",
    "    name=\"User_proxy\",\n",
    "    system_message=\"A human admin.\",\n",
    "    code_execution_config={\n",
    "        \"last_n_messages\": 2,\n",
    "        \"work_dir\": \"groupchat\",\n",
    "        \"use_docker\": False,\n",
    "    },  # Please set use_docker=True if docker is available to run the generated code. Using docker is safer than running the generated code directly.\n",
    "    human_input_mode=\"TERMINATE\",\n",
    ")"
   ]
  },
  {
   "cell_type": "code",
   "execution_count": 32,
   "id": "815d6cfd-6238-4da5-9c88-b2c769ad93c1",
   "metadata": {},
   "outputs": [],
   "source": [
    "groupchat = GroupChat(agents=[user_proxy, customer_support, sales_manager_assistant], messages=[], max_round=12)\n"
   ]
  },
  {
   "cell_type": "code",
   "execution_count": 33,
   "id": "9131f686-f0c8-4fe1-a795-35f74d109b92",
   "metadata": {},
   "outputs": [],
   "source": [
    "manager = GroupChatManager(groupchat=groupchat, llm_config={\"config_list\": config_list})"
   ]
  },
  {
   "cell_type": "code",
   "execution_count": null,
   "id": "96006d5c-d38f-456f-a511-d47e24097a4a",
   "metadata": {},
   "outputs": [],
   "source": [
    "user_proxy.initiate_chat(\n",
    "    manager, message=\"\"\"\n",
    "First email from customer: Ramees Khan | AREC <ramees@arecuae.com\n",
    "Subject: Enquiry for Supply of Firetrol Battery Charger AS-2001 | AL RAMIZ\n",
    "To: info@famaga.ae\n",
    "\n",
    "Body:\n",
    "Dear Sir/Ma’am,\n",
    "We’re currently enquiring for Supply of Firetrol Battery Charger AS-2001 (Type 3AB LL-1580) Qty: 01 No. Please quote your best discounted prices and availability. I have attached a picture below for your reference\n",
    "\n",
    "Thanking you.\n",
    "Best Regards,\n",
    "RAMEES KHAN\n",
    "General Manager\n",
    "M: +971-52-6927466 | E: ramees@arecuae.com\n",
    "AL RAMIZ ELECT. CONT. LLC\n",
    "A: Industrial Area 17, Sharjah - United Arab Emirates\n",
    "A: P.O Box: 96286, Sharjah\n",
    "T: +971-6-5356891\n",
    "E: info@arecuae.com | W: www.arecuae.com\n",
    "Transformers/Maintenance, Erection & Testing | Rewinding – Transformers, Motors & Generators | Cables – Laying, Termination, Testing – HT &\n",
    "LT | Distribution Boards – MDB, SMDB, DB | Generator Alternator – Repair & Maintenance, Bus Bar Modification & Testing | MV, LV Electrical\n",
    "Panel – Installation & Testing | Hiring of all types of Testing Instruments – Oil Filter Plants, Oil Tanks, Vacuum Pumps, Crimping Tools & Generators.\n",
    "Disclaimer: This e-mail and any attachments may contain confidential and privileged information. If you are not the intended recipient, please\n",
    "notify the sender immediately by return e-mail, delete this e-mail and destroy any copies. Any dissemination or use of this information by a\n",
    "person other than the intended recipient is unauthorized and may be illegal\n",
    "\"\"\"\n",
    ")"
   ]
  },
  {
   "cell_type": "code",
   "execution_count": 1,
   "id": "3df1ad8d-22c3-4216-8fc8-bee7980c62b5",
   "metadata": {},
   "outputs": [
    {
     "data": {
      "text/plain": [
       "True"
      ]
     },
     "execution_count": 1,
     "metadata": {},
     "output_type": "execute_result"
    }
   ],
   "source": [
    "from openai import OpenAI\n",
    "from dotenv import load_dotenv\n",
    "import os\n",
    "\n",
    "load_dotenv()"
   ]
  },
  {
   "cell_type": "code",
   "execution_count": 2,
   "id": "0aeb50cc-bddb-42cd-b94d-3b9f2d0fca6b",
   "metadata": {},
   "outputs": [],
   "source": [
    "client = OpenAI(api_key=os.environ.get('OPENAI_API_KEY'))"
   ]
  },
  {
   "cell_type": "code",
   "execution_count": 10,
   "id": "7c3223c7-313e-42ea-9fbd-cb54ed79ea4b",
   "metadata": {},
   "outputs": [],
   "source": [
    "sales_mananger_prompt = \"\"\"\n",
    "You are Sales Manager(SM) at manufacturer details dealer. \n",
    "Also there are Research Analyst (RA), Customer Service Reprisentative (CSR).\n",
    "The business model of the company is very simple: Customers ask to buy parts, and a CSR (Customer Service Representative) looks at the request to see what parts the customer needs. Then, an RA (Research Analyst) finds the best prices for these parts online and tells the CSR. The CSR makes an offer and sends it to the customer. The customer can either buy the parts or have questions, and the CSR helps with these questions.\n",
    "\n",
    "Description of the area of responsibility for each employee under your supervision.\n",
    "\n",
    "Agent 1. Customer Service Reprisentative (CSR)\n",
    "- classify customer request: extract details info from client email text body: brand name, part number, amount, model, serial number etc.\n",
    "- answer on technical questions\n",
    "- ping customer when it not responds\n",
    "- generate commercial offer\n",
    "\n",
    "Agent 2. Research Analyst (RA)\n",
    "- search at CRM database: search detail by brand name or model or part number at company CRM database\n",
    "- search at Google: search details at google with query\n",
    "\n",
    "Your responsibility as a Sales Manager is to make decisions based on the information provided and to assign tasks to your subordinates. \n",
    "The task should be set in the following format:\n",
    "\n",
    "Starting below, you should follow this format:\n",
    "\n",
    "Agent: responsible employee\n",
    "State: this is one or more words in CamelCase that describe the current state\n",
    "Task: a detailed description of the task in 1-2 sentences, which will be understandable to the employee.\n",
    "Observation: the report from responsible employee about result completion of task\n",
    "... (this Agent/State/Task/Observation can repeat N times)\n",
    "\n",
    "\n",
    "[Example 1]\n",
    "Agent: Customer Service Reprisentative (CSR)\n",
    "State: PartClassification\n",
    "Task: Customer sends email, you need to classify it and select information or generate response message.\n",
    "Observation: I found the detail with brand name Firetrol and part number AS-2001\n",
    "\n",
    "Agent: CSR\n",
    "State: SearchAtCrmDb\n",
    "Task: Try to search detail Firetrol AS-2001 at CRM database and exract all info\n",
    "Observation: Detail was not found at CRM database.\n",
    "\n",
    "Agent: CSR\n",
    "State: SearchAtGoogle\n",
    "Task: Try to search detail Firetrol AS-2001 and price at Google.\n",
    "Observation: There are few links with price.\n",
    "\"\"\"\n",
    "\n",
    "csr_system_prompt = \"\"\"\n",
    "You are Customer Support Reprisentative at manufacturer details dealer.  To be concise your position would have abbreviature CSR. The business model of your company is quite simple:\n",
    "- client, usually it company owner or reprisentative leave request on getting manufacturer details offer, this offer going to CRM\n",
    "- CSR classify request, search details at CRM database and Google, get the best price\n",
    "- if there is no info about detail or this information is outdated, CSR would communcate with detail manufacturer or supplier, it depends on which link CSR opened at Google with this detail.\n",
    "- when info about detail was gathered CSR generate offer for client and continue to interact with custoemr. Price at offer was did with company commision.\n",
    "\n",
    "So you're role at company is to communicate with clients and customers, answer on their common questions about delivery, dates, prices and on technical questions about details technical specifications from datasheets. You have quarterly KPI's and percent from each deal.\n",
    "\n",
    "There are usual flow that you working every day, but consider that it could be different:\n",
    "- classify customer request: extract details info from client email text body: brand name, part number, amount, model, serial number etc.\n",
    "- answer on technical questions\n",
    "- ping customer when it not responds\n",
    "- generate commercial offer\n",
    "\"\"\"\n"
   ]
  },
  {
   "cell_type": "code",
   "execution_count": 11,
   "id": "8c5213db-c9ed-4963-b8c8-a26922cc1db4",
   "metadata": {},
   "outputs": [],
   "source": [
    "customer_request = \"\"\"\n",
    "First email from customer: Ramees Khan | AREC <ramees@arecuae.com\n",
    "Subject: Enquiry for Supply of Firetrol Battery Charger AS-2001 | AL RAMIZ\n",
    "To: info@famaga.ae\n",
    "\n",
    "Body:\n",
    "Dear Sir/Ma’am,\n",
    "We’re currently enquiring for Supply of Firetrol Battery Charger AS-2001 (Type 3AB LL-1580) Qty: 01 No.\n",
    "Please quote your best discounted prices and availability.\n",
    "I have attached a picture below for your reference\n",
    "\n",
    "Thanking you.\n",
    "Best Regards,\n",
    "RAMEES KHAN\n",
    "General Manager\n",
    "M: +971-52-6927466 | E: ramees@arecuae.com\n",
    "AL RAMIZ ELECT. CONT. LLC\n",
    "A: Industrial Area 17, Sharjah - United Arab Emirates\n",
    "A: P.O Box: 96286, Sharjah\n",
    "T: +971-6-5356891\n",
    "E: info@arecuae.com | W: www.arecuae.com\n",
    "Transformers/Maintenance, Erection & Testing | Rewinding – Transformers, Motors & Generators | Cables – Laying, Termination, Testing – HT &\n",
    "LT | Distribution Boards – MDB, SMDB, DB | Generator Alternator – Repair & Maintenance, Bus Bar Modification & Testing | MV, LV Electrical\n",
    "Panel – Installation & Testing | Hiring of all types of Testing Instruments – Oil Filter Plants, Oil Tanks, Vacuum Pumps, Crimping Tools & Generators.\n",
    "Disclaimer: This e-mail and any attachments may contain confidential and privileged information. If you are not the intended recipient, please\n",
    "notify the sender immediately by return e-mail, delete this e-mail and destroy any copies. Any dissemination or use of this information by a\n",
    "person other than the intended recipient is unauthorized and may be illegal\n",
    "\n",
    "\"\"\""
   ]
  },
  {
   "cell_type": "code",
   "execution_count": 8,
   "id": "fc5b354c-95a6-4790-84a0-815391c717f5",
   "metadata": {},
   "outputs": [],
   "source": [
    "stop = ['\\nObservation:', '\\n\\tObservation:']"
   ]
  },
  {
   "cell_type": "code",
   "execution_count": 25,
   "id": "fad5e132-fd8b-4989-b954-4cf2443ff220",
   "metadata": {},
   "outputs": [],
   "source": [
    "class BaseRole:\n",
    "    def __init__(self, content: str):\n",
    "        self.content = content\n",
    "\n",
    "class Assistant(BaseRole):\n",
    "    pass\n",
    "\n",
    "class Human(BaseRole):\n",
    "    pass"
   ]
  },
  {
   "cell_type": "code",
   "execution_count": 27,
   "id": "d88e28b4-a744-42f9-8ece-fea35bf98010",
   "metadata": {},
   "outputs": [
    {
     "data": {
      "text/plain": [
       "'kek'"
      ]
     },
     "execution_count": 27,
     "metadata": {},
     "output_type": "execute_result"
    }
   ],
   "source": [
    "Assistant(\"kek\").content"
   ]
  },
  {
   "cell_type": "code",
   "execution_count": 37,
   "id": "9910d712-d13d-4afc-9e71-0fa7a2cd9f65",
   "metadata": {},
   "outputs": [],
   "source": [
    "sales_manager_history = [\n",
    "    Human(customer_request),\n",
    "    Assistant(\"\"\"\n",
    "Agent: Customer Service Representative (CSR)\n",
    "State: PartClassification\n",
    "Task: We have received an email from a customer - Ramees Khan at AL RAMIZ ELECT. CONT. LLC. Please classify the information given in the email such as customer name, company name, mobile number, email id, and the part details for Firetrol Battery Charger AS-2001 (Type 3AB LL-1580) with Quantity: 01 No. Please also make a note of the customer's request for discounted prices and availability.\n",
    "Observation: there were found fields Customer Name, Company Name, Mobile Number, Email ID, Brand Name, Part Number, Quantity\n",
    "\"\"\"),\n",
    "    Assistant(\"\"\"\n",
    "Agent: Research Analyst (RA)\n",
    "State: SearchAtCrmDb\n",
    "Task: Check in our CRM database for the Firetrol Battery Charger AS-2001 (Type 3AB LL-1580), please note down the details like pricing, availability and any discount applicable.\n",
    "Observation: Detail was not found at our CRM\n",
    "\"\"\"),\n",
    "    Assistant(\"\"\"\n",
    "Agent: RA\n",
    "State: SearchAtGoogle\n",
    "Task: As we could not find the information about Firetrol Battery Charger AS-2001 (Type 3AB LL-1580) in our CRM, please try to find this detail on Google. Make note about prices, availability and any ongoing discounts on this product from various suppliers. \n",
    "Observation: There are few links at Google with price and few without price.\n",
    "\"\"\")\n",
    "]"
   ]
  },
  {
   "cell_type": "code",
   "execution_count": 39,
   "id": "5e4ffeac-7451-4f78-862d-a69c5e1164ad",
   "metadata": {},
   "outputs": [],
   "source": [
    "def prepare_input(messages):\n",
    "    final_text = \"\"\n",
    "    for msg in messages:\n",
    "        if isinstance(msg, Human):\n",
    "            final_text += f'H: {msg.content}\\n\\n'\n",
    "        elif isinstance(msg, Assistant):\n",
    "            final_text += f'A: {msg.content}\\n\\n'\n",
    "    return final_text\n",
    "        "
   ]
  },
  {
   "cell_type": "code",
   "execution_count": 35,
   "id": "1935722d-6d36-47a1-bc49-392ba289f4e9",
   "metadata": {},
   "outputs": [
    {
     "name": "stdout",
     "output_type": "stream",
     "text": [
      "H: \n",
      "First email from customer: Ramees Khan | AREC <ramees@arecuae.com\n",
      "Subject: Enquiry for Supply of Firetrol Battery Charger AS-2001 | AL RAMIZ\n",
      "To: info@famaga.ae\n",
      "\n",
      "Body:\n",
      "Dear Sir/Ma’am,\n",
      "We’re currently enquiring for Supply of Firetrol Battery Charger AS-2001 (Type 3AB LL-1580) Qty: 01 No.\n",
      "Please quote your best discounted prices and availability.\n",
      "I have attached a picture below for your reference\n",
      "\n",
      "Thanking you.\n",
      "Best Regards,\n",
      "RAMEES KHAN\n",
      "General Manager\n",
      "M: +971-52-6927466 | E: ramees@arecuae.com\n",
      "AL RAMIZ ELECT. CONT. LLC\n",
      "A: Industrial Area 17, Sharjah - United Arab Emirates\n",
      "A: P.O Box: 96286, Sharjah\n",
      "T: +971-6-5356891\n",
      "E: info@arecuae.com | W: www.arecuae.com\n",
      "Transformers/Maintenance, Erection & Testing | Rewinding – Transformers, Motors & Generators | Cables – Laying, Termination, Testing – HT &\n",
      "LT | Distribution Boards – MDB, SMDB, DB | Generator Alternator – Repair & Maintenance, Bus Bar Modification & Testing | MV, LV Electrical\n",
      "Panel – Installation & Testing | Hiring of all types of Testing Instruments – Oil Filter Plants, Oil Tanks, Vacuum Pumps, Crimping Tools & Generators.\n",
      "Disclaimer: This e-mail and any attachments may contain confidential and privileged information. If you are not the intended recipient, please\n",
      "notify the sender immediately by return e-mail, delete this e-mail and destroy any copies. Any dissemination or use of this information by a\n",
      "person other than the intended recipient is unauthorized and may be illegal\n",
      "\n",
      "\n",
      "\n",
      "A: \n",
      "Agent: Customer Service Representative (CSR)\n",
      "State: PartClassification\n",
      "Task: We have received an email from a customer - Ramees Khan at AL RAMIZ ELECT. CONT. LLC. Please classify the information given in the email such as customer name, company name, mobile number, email id, and the part details for Firetrol Battery Charger AS-2001 (Type 3AB LL-1580) with Quantity: 01 No. Please also make a note of the customer's request for discounted prices and availability.\n",
      "Observation: there were found fields Customer Name, Company Name, Mobile Number, Email ID, Brand Name, Part Number, Quantity\n",
      "\n",
      "\n",
      "A: \n",
      "Agent: Research Analyst (RA)\n",
      "State: SearchAtCrmDb\n",
      "Task: Check in our CRM database for the Firetrol Battery Charger AS-2001 (Type 3AB LL-1580), please note down the details like pricing, availability and any discount applicable.\n",
      "Observation: Detail was not found at our CRM\n",
      "\n",
      "\n",
      "\n"
     ]
    }
   ],
   "source": [
    "print(prepare_input())"
   ]
  },
  {
   "cell_type": "code",
   "execution_count": 38,
   "id": "25500c41-6287-4760-89b8-f7e64b84a5a8",
   "metadata": {},
   "outputs": [
    {
     "name": "stdout",
     "output_type": "stream",
     "text": [
      "A: \n",
      "Agent: CSR\n",
      "State: GenerateCommercialOffer\n",
      "Task: Based on the information provided from Google, generate a detailed commercial offer for the Firetrol Battery Charger AS-2001 (Type 3AB LL-1580) with Quantity: 01 No. Include the price, availability, any available discounts, and a reference picture. Send this offer to the customer Ramees Khan at AL RAMIZ ELECT. CONT. LLC via email at ramees@arecuae.com. \n"
     ]
    }
   ],
   "source": [
    "response = client.chat.completions.create(\n",
    "    model=\"gpt-4\",\n",
    "    messages=[\n",
    "        {\"role\": \"assistant\", \"content\": sales_mananger_prompt},\n",
    "        {\"role\": \"user\", \"content\": prepare_input(sales_manager_history)}\n",
    "    ],\n",
    "    stop=stop,\n",
    "    stream=False,\n",
    ")\n",
    "print(response.choices[0].message.content)"
   ]
  },
  {
   "cell_type": "code",
   "execution_count": 15,
   "id": "85358684-d8ca-4e1a-9d35-792797637ad9",
   "metadata": {},
   "outputs": [],
   "source": [
    "text = response.choices[0].message.content"
   ]
  },
  {
   "cell_type": "code",
   "execution_count": 16,
   "id": "1ae6890d-b802-4495-b09f-449c64cf0d23",
   "metadata": {},
   "outputs": [],
   "source": [
    "import re\n",
    "\n",
    "regex = r\"Agent\\s*\\d*\\s*:[\\s]*(.*?)[\\s]*State\\s*\\d*\\s*:[\\s]*(.*)[\\s]*Task\\s*\\d*\\s*:[\\s]*(.*)\"\n",
    "action_match = re.search(regex, text, re.DOTALL)"
   ]
  },
  {
   "cell_type": "code",
   "execution_count": 19,
   "id": "4e779a74-5c7e-4ef6-b53a-0a8eca4d3d81",
   "metadata": {},
   "outputs": [
    {
     "data": {
      "text/plain": [
       "('Customer Service Representative (CSR)',\n",
       " 'PartClassification',\n",
       " \"We have received an email from a customer - Ramees Khan at AL RAMIZ ELECT. CONT. LLC. Please classify the information given in the email such as customer name, company name, mobile number, email id, and the part details for Firetrol Battery Charger AS-2001 (Type 3AB LL-1580) with Quantity: 01 No. Please also make a note of the customer's request for discounted prices and availability.\")"
      ]
     },
     "execution_count": 19,
     "metadata": {},
     "output_type": "execute_result"
    }
   ],
   "source": [
    "agent = action_match.group(1).strip()\n",
    "state = action_match.group(2).strip()\n",
    "task = action_match.group(3).strip()\n",
    "\n",
    "agent, state, task"
   ]
  },
  {
   "cell_type": "code",
   "execution_count": 45,
   "id": "116a5d14-36c3-450a-8c5a-5c2c95d70bb2",
   "metadata": {},
   "outputs": [],
   "source": [
    "first_csr_request = \"\"\"\n",
    "We have received an email from a customer - Ramees Khan at AL RAMIZ ELECT. CONT. LLC. Please classify the information given in the email such as customer name, company name, mobile number, email id, and the part details for Firetrol Battery Charger AS-2001 (Type 3AB LL-1580) with Quantity: 01 No. Please also make a note of the customer's request for discounted prices and availability.\n",
    "\n",
    "Subject: Enquiry for Supply of Firetrol Battery Charger AS-2001 | AL RAMIZ\n",
    "To: info@famaga.ae\n",
    "\n",
    "Body:\n",
    "Dear Sir/Ma’am,\n",
    "We’re currently enquiring for Supply of Firetrol Battery Charger AS-2001 (Type 3AB LL-1580) Qty: 01 No.\n",
    "Please quote your best discounted prices and availability.\n",
    "I have attached a picture below for your reference\n",
    "\n",
    "Thanking you.\n",
    "Best Regards,\n",
    "RAMEES KHAN\n",
    "General Manager\n",
    "M: +971-52-6927466 | E: ramees@arecuae.com\n",
    "AL RAMIZ ELECT. CONT. LLC\n",
    "A: Industrial Area 17, Sharjah - United Arab Emirates\n",
    "A: P.O Box: 96286, Sharjah\n",
    "T: +971-6-5356891\n",
    "E: info@arecuae.com | W: www.arecuae.com\n",
    "Transformers/Maintenance, Erection & Testing | Rewinding – Transformers, Motors & Generators | Cables – Laying, Termination, Testing – HT &\n",
    "LT | Distribution Boards – MDB, SMDB, DB | Generator Alternator – Repair & Maintenance, Bus Bar Modification & Testing | MV, LV Electrical\n",
    "Panel – Installation & Testing | Hiring of all types of Testing Instruments – Oil Filter Plants, Oil Tanks, Vacuum Pumps, Crimping Tools & Generators.\n",
    "Disclaimer: This e-mail and any attachments may contain confidential and privileged information. If you are not the intended recipient, please\n",
    "notify the sender immediately by return e-mail, delete this e-mail and destroy any copies. Any dissemination or use of this information by a\n",
    "person other than the intended recipient is unauthorized and may be illegal\n",
    "\"\"\"\n"
   ]
  },
  {
   "cell_type": "code",
   "execution_count": 46,
   "id": "7659386d-0737-4069-ade4-c50651581338",
   "metadata": {},
   "outputs": [],
   "source": [
    "csr_history = [\n",
    "    Human(first_csr_request),\n",
    "    Assistant(\"\"\"\n",
    "Customer Name: Ramees Khan\n",
    "Company Name: AL RAMIZ ELECT. CONT. LLC\n",
    "Mobile Number: +971-52-6927466\n",
    "Email ID: ramees@arecuae.com\n",
    "\n",
    "Part Details: \n",
    "Brand Name: Firetrol\n",
    "Part Number: AS-2001 (Type 3AB LL-1580)\n",
    "Quantity: 01 \n",
    "\"\"\"),\n",
    "    Human(\"Check in our CRM database for the Firetrol Battery Charger AS-2001 (Type 3AB LL-1580), please note down the details like pricing, availability and any discount applicable.\"),\n",
    "    Assistant(\"\"\"\n",
    "Here info about Firetrol AS-2001 at CRM database:\n",
    "\n",
    "Id: 746602,\n",
    "Brand name: Firetrol Protection Systems,\n",
    "Part number: AS-2001,\n",
    "Description: Battery Charge\n",
    "\"\"\"),\n",
    "    Human(\"As we could not find the information about Firetrol Battery Charger AS-2001 (Type 3AB LL-1580) in our CRM, please try to find this detail on Google. Make note about prices, availability and any ongoing discounts on this product from various suppliers.\"),\n",
    "    Assistant(\"\"\"\n",
    "Here is price info of Firetrol AS-2001 at google:\n",
    "\n",
    "Here are the notes with prices in the requested format:\n",
    "\n",
    "Title: Firetrol AS-2001 Battery Charger, Untested. Looks Great, Will Guarantee\n",
    "Price: $900.00\n",
    "Link: picclick.com\n",
    "\n",
    "Title: Firetrol AS-2001 Battery Charger (aka LL-1580) - WS Supply Store\n",
    "Price: $1170.00\n",
    "Link: wssupplystore.com\n",
    "\n",
    "Title: Firetrol AS-2001 Battery Charger - Board Repair\n",
    "Price: $1699.20\n",
    "Link: board-repair.com\n",
    "    \n",
    "\"\"\")\n",
    "    \n",
    "]"
   ]
  },
  {
   "cell_type": "code",
   "execution_count": 49,
   "id": "99f7306e-0db8-44e8-aa21-a4c66df0c481",
   "metadata": {},
   "outputs": [
    {
     "name": "stdout",
     "output_type": "stream",
     "text": [
      "A: \n",
      "Dear Ramees Khan,\n",
      "\n",
      "I hope my email finds you well. Thank you for your interest in our products.\n",
      "\n",
      "As per your request for Firetrol Battery Charger AS-2001 (Type 3AB LL-1580), please find the detailed commercial offer below:\n",
      "\n",
      "Product information:\n",
      "Brand: Firetrol\n",
      "Model: AS-2001 (Type 3AB LL-1580)\n",
      "\n",
      "Quantity: 01 No.\n",
      "\n",
      "Availability: Since Firetrol Battery Charger AS-2001 (Type 3AB LL-1580) is limited in stock on the market, we would strongly recommend placing an order soon to secure one.\n",
      "\n",
      "Pricing:\n",
      "Based on the market research we have conducted, prices for the Firetrol Battery Charger AS-2001 (Type 3AB LL-1580) range between $900.00 and $1699.20. However, we are pleased to offer you a competitive price of $xxxx.xx (To be defined based on commission and discount applied).\n",
      "\n",
      "Please find the reference picture attached.\n",
      "\n",
      "Should you require any further information or have any queries, please do not hesitate to contact us.\n",
      "\n",
      "Looking forward to your positive response.\n",
      "\n",
      "Best Regards,\n",
      "\n",
      "[Your Name]\n",
      "Customer Support Representative \n",
      "[Your Contact Information]\n",
      "\n",
      "Note: Always attach a reference picture of the product in the actual email.\n"
     ]
    }
   ],
   "source": [
    "task = \"Based on the information provided from Google, generate a detailed commercial offer for the Firetrol Battery Charger AS-2001 (Type 3AB LL-1580) with Quantity: 01 No. Include the price, availability, any available discounts, and a reference picture. Send this offer to the customer Ramees Khan at AL RAMIZ ELECT. CONT. LLC via email at ramees@arecuae.com.\"\n",
    "\n",
    "response = client.chat.completions.create(\n",
    "    model=\"gpt-4\",\n",
    "    messages=[\n",
    "        {\"role\": \"assistant\", \"content\": csr_system_prompt},\n",
    "        {\"role\": \"user\", \"content\": f\"\"\"\n",
    "{prepare_input(csr_history)}\n",
    "\n",
    "H: {task}\n",
    "\"\"\"}\n",
    "    ],\n",
    "    stop=stop,\n",
    "    stream=False,\n",
    ")\n",
    "print(response.choices[0].message.content)"
   ]
  },
  {
   "cell_type": "code",
   "execution_count": 43,
   "id": "a8fd1437-f245-4272-9f96-afd8f449f6db",
   "metadata": {},
   "outputs": [
    {
     "name": "stdout",
     "output_type": "stream",
     "text": [
      "H: We have received an email from a customer - Ramees Khan at AL RAMIZ ELECT. CONT. LLC. Please classify the information given in the email such as customer name, company name, mobile number, email id, and the part details for Firetrol Battery Charger AS-2001 (Type 3AB LL-1580) with Quantity: 01 No. Please also make a note of the customer's request for discounted prices and availability.\n",
      "\n",
      "A: \n",
      "Customer Name: Ramees Khan\n",
      "Company Name: AL RAMIZ ELECT. CONT. LLC\n",
      "Mobile Number: +971-52-6927466\n",
      "Email ID: ramees@arecuae.com\n",
      "\n",
      "Part Details: \n",
      "Brand Name: Firetrol\n",
      "Part Number: AS-2001 (Type 3AB LL-1580)\n",
      "Quantity: 01 \n",
      "\n",
      "\n",
      "H: Check in our CRM database for the Firetrol Battery Charger AS-2001 (Type 3AB LL-1580), please note down the details like pricing, availability and any discount applicable.\n",
      "\n",
      "A: \n",
      "Here info about Firetrol AS-2001 at CRM database:\n",
      "\n",
      "Id: 746602,\n",
      "Brand name: Firetrol Protection Systems,\n",
      "Part number: AS-2001,\n",
      "Description: Battery Charge\n",
      "\n",
      "\n",
      "H: As we could not find the information about Firetrol Battery Charger AS-2001 (Type 3AB LL-1580) in our CRM, please try to find this detail on Google. Make note about prices, availability and any ongoing discounts on this product from various suppliers.\n",
      "\n",
      "A: \n",
      "Here is price info of Firetrol AS-2001 at google:\n",
      "\n",
      "Here are the notes with prices in the requested format:\n",
      "\n",
      "Title: Firetrol AS-2001 Battery Charger, Untested. Looks Great, Will Guarantee\n",
      "Price: $900.00\n",
      "Link: picclick.com\n",
      "\n",
      "Title: Firetrol AS-2001 Battery Charger (aka LL-1580) - WS Supply Store\n",
      "Price: $1170.00\n",
      "Link: wssupplystore.com\n",
      "\n",
      "Title: Firetrol AS-2001 Battery Charger - Board Repair\n",
      "Price: $1699.20\n",
      "Link: board-repair.com\n",
      "    \n",
      "\n",
      "\n",
      "\n"
     ]
    }
   ],
   "source": [
    "print(prepare_input(csr_history))"
   ]
  },
  {
   "cell_type": "code",
   "execution_count": 53,
   "id": "65eaaf00-aeaf-4f30-b9b3-b94348937d81",
   "metadata": {},
   "outputs": [],
   "source": [
    "import psycopg2\n",
    "from psycopg2 import OperationalError\n",
    "\n",
    "def create_connection(db_name, db_user, db_password, db_host, db_port):\n",
    "    connection = None\n",
    "    try:\n",
    "        connection = psycopg2.connect(\n",
    "            database=db_name,\n",
    "            user=db_user,\n",
    "            password=db_password,\n",
    "            host=db_host,\n",
    "            port=db_port,\n",
    "            sslmode='disable'\n",
    "        )\n",
    "        print(\"Connection to PostgreSQL DB successful\")\n",
    "    except OperationalError as e:\n",
    "        print(f\"The error '{e}' occurred\")\n",
    "    return connection\n"
   ]
  },
  {
   "cell_type": "code",
   "execution_count": 54,
   "id": "edb088f5-05fb-4d52-b84f-147172e6fb2b",
   "metadata": {},
   "outputs": [
    {
     "name": "stdout",
     "output_type": "stream",
     "text": [
      "The error 'connection to server at \"famaga-db.neon-dev.us\" (172.67.180.128), port 443 failed: expected authentication request from server, but received H\n",
      "' occurred\n"
     ]
    }
   ],
   "source": [
    "db_name = \"famaga\"\n",
    "db_user = \"admin\"\n",
    "db_password = \"5tgb%TGB\"\n",
    "db_host = \"famaga-db.neon-dev.us\"\n",
    "db_port = \"443\"\n",
    "\n",
    "\n",
    "connection = create_connection(db_name, db_user, db_password, db_host, db_port)"
   ]
  },
  {
   "cell_type": "code",
   "execution_count": 57,
   "id": "93732798-8010-4fe7-876d-9ce5f2103344",
   "metadata": {},
   "outputs": [
    {
     "name": "stdout",
     "output_type": "stream",
     "text": [
      "Connection to PostgreSQL DB successful\n"
     ]
    }
   ],
   "source": [
    "db_name = \"famaga\"\n",
    "db_user = \"admin\"\n",
    "db_password = \"5tgb%TGB\"\n",
    "db_host = \"154.38.160.240\"\n",
    "db_port = \"45043\"\n",
    "\n",
    "\n",
    "connection = create_connection(db_name, db_user, db_password, db_host, db_port)"
   ]
  },
  {
   "cell_type": "code",
   "execution_count": null,
   "id": "abf64f2a-414c-414a-96d6-da72bb67b7c5",
   "metadata": {},
   "outputs": [],
   "source": []
  }
 ],
 "metadata": {
  "kernelspec": {
   "display_name": "venv",
   "language": "python",
   "name": "venv"
  },
  "language_info": {
   "codemirror_mode": {
    "name": "ipython",
    "version": 3
   },
   "file_extension": ".py",
   "mimetype": "text/x-python",
   "name": "python",
   "nbconvert_exporter": "python",
   "pygments_lexer": "ipython3",
   "version": "3.12.2"
  }
 },
 "nbformat": 4,
 "nbformat_minor": 5
}
