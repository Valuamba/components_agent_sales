{
 "cells": [
  {
   "cell_type": "code",
   "execution_count": 34,
   "id": "06c361ad-eab4-48e1-a24f-3faf9843570a",
   "metadata": {},
   "outputs": [],
   "source": [
    "from selenium import webdriver\n",
    "from selenium.webdriver.chrome.service import Service\n",
    "from selenium.webdriver.chrome.options import Options\n",
    "from webdriver_manager.chrome import ChromeDriverManager\n",
    "\n",
    "from selenium.webdriver.common.by import By\n",
    "from selenium.webdriver.support.ui import WebDriverWait\n",
    "from selenium.webdriver.support import expected_conditions as EC\n",
    "\n",
    "from bs4 import BeautifulSoup\n",
    "from typing import List\n",
    "import re"
   ]
  },
  {
   "cell_type": "code",
   "execution_count": 35,
   "id": "683c0c74-4f07-470e-86e2-90fbc61bc99d",
   "metadata": {},
   "outputs": [],
   "source": [
    "from dotenv import load_dotenv\n",
    "import os\n",
    "from openai import OpenAI\n",
    "\n",
    "\n",
    "load_dotenv()\n",
    "openai_api_key = os.getenv(\"OPENAI_API_KEY\")\n",
    "\n",
    "client = OpenAI(api_key=openai_api_key)"
   ]
  },
  {
   "cell_type": "code",
   "execution_count": 45,
   "id": "d65e635b-3766-4dd8-8a3e-5811c3c0ed38",
   "metadata": {},
   "outputs": [],
   "source": [
    "def extract_html_from_web_page(url: str):\n",
    "    options = Options()\n",
    "    options.headless = True  # Run in headless mode (no browser UI)\n",
    "\n",
    "    # Initialize the WebDriver\n",
    "    service = Service(ChromeDriverManager().install())\n",
    "    driver = webdriver.Chrome(service=service, options=options)\n",
    "\n",
    "    try:\n",
    "        # Navigate to a URL in the domain to set cookies\n",
    "        driver.get(url)\n",
    "\n",
    "        # Add cookies from the curl command\n",
    "        driver.add_cookie({'name': '_wbauid', 'value': '4539604231702381935'})\n",
    "        driver.add_cookie({'name': 'CrmToken', 'value': '402f57dd0a0627d6c644806308f0ecab966d7cd383c015820432dc17913553c0c6bc45047335765ee6ee1a347faa3b59a75c5b7b5e22f2a259f19588'})\n",
    "\n",
    "        # Now navigate to the desired page\n",
    "        # url = 'http://crm-front.alljobswb.svc.k8s.stage-dp/account'\n",
    "        # driver.get(url)\n",
    "\n",
    "        # element = WebDriverWait(driver, 10).until(\n",
    "        #     EC.presence_of_element_located((By.ID, \"profile\"))\n",
    "        # )\n",
    "\n",
    "        # Get the page source\n",
    "        html_content = driver.page_source\n",
    "        return html_content\n",
    "\n",
    "    finally:\n",
    "        # Close the browser\n",
    "        driver.quit()\n",
    "    "
   ]
  },
  {
   "cell_type": "code",
   "execution_count": 46,
   "id": "3d877944-5ea5-401b-baf5-5d6124dc3111",
   "metadata": {},
   "outputs": [
    {
     "data": {
      "text/plain": [
       "'<html lang=\"en\"><head>\\n  <meta http-equiv=\"x-ua-compatible\" content=\"ie=edge\">\\n  <title>Float switch - Liquifloat FTS20 | Endress+Hauser</title>\\n  <meta name=\"viewport\" content=\"width=device-width, initial-scale=1, shrink-to-fit=no\">\\n  <meta name=\"description\" content=\"The Float switch FTS20 is a simple and cost-effective solution for point level detection in appropriate fluids. It is used in tanks and vessels as a pump protector or level alarm in open basins, e. g. in sewerage treatment plants. The float switch has two output options, a NAMUR switching signal or a change-over contact.\">\\n  <script>\\n  //<![CDATA[\\n  var domain = \\'endress.com\\';\\n  if (location.hostname.substr(location.hostname.length - domain.length, domain.length) === domain) {\\n    document.domain = domain;\\n  }\\n  //-->\\n  </script>\\n    <meta name=\"gwt:property\" content=\"baseUrl=/nebp-resources/js/\">\\n<script>\\n//<![CDATA[\\ndocument.nebpContext = {\\n  backendBaseURL: \"https://portal.endress.com/webapp/nebp-shopapp\",\\n  imageURL: \"https://portal.endress.com/wa002/picturepool/150/2/\",\\n  siteURL: \"https://www.endress.com/\",\\n  shopURL: \"/shop\",\\n  siteLocale: \"en\",\\n  locale: \"en\",\\n  vkorg: \"0800\",\\n  salesOrganisation: \"0800\",\\n  termsConditions: \"2018-01-29\",\\n  dataPrivacy: \"2016-10-04\",\\n  legacy: false,\\n  rpcTimeoutMillis: 600000\\n};\\n//]]>\\n</script>\\n\\n  <link rel=\"stylesheet\" href=\"/pc/components-b3328a99.css\">\\n  <link rel=\"stylesheet\" href=\"/pc/elements-fa7bac22.css\">\\n  <link rel=\"stylesheet\" href=\"/pc/main-2f1fc4f8.css\">\\n  <link rel=\"stylesheet\" href=\"/styles/main_prefixed-7df9c13a.css\">\\n  <link rel=\"shortcut icon\" href=\"/images/logo/favicon-fbf7b3c7.ico\">\\n  \\n  \\n  <link rel=\"canonical\" href=\"https://www.endress.com/en/field-instruments-overview/level-measurement/Float-switch-Liquifloat-FTS20\">\\n  <meta property=\"og:image\" content=\"https://www.endress.com/__image/a/39022/k/690c0f5fc7a6deeb0d771361088d33d68ffb7a30/ar/16-9/w/328/t/jpg/b/ffffff/n/true/fn/Liquifloat_FTS20_PP.jpg\">\\n  <meta property=\"og:type\" content=\"website\">\\n  <meta property=\"og:title\" content=\"Float switch\\nLiquifloat FTS20\">\\n<link rel=\"stylesheet\" href=\"https://www.endress.com/nebp-resources/js/dialogbox.css\"><link rel=\"stylesheet\" href=\"https://www.endress.com/nebp-resources/js/timebox.css\"><link rel=\"stylesheet\" href=\"https://www.endress.com/nebp-resources/js/eh-icon-fonts.cache.css\"><script src=\"https://www.endress.com/nebp-resources/js/3A7E5967700EB815F9065AC7AD534A40.cache.js\"></script><script type=\"text/javascript\" async=\"\" charset=\"utf-8\" id=\"utag_endress-hauser.main_4\" src=\"//tags.tiqcdn.com/utag/endress-hauser/main/prod/utag.4.js?utv=ut4.49.202312211359\"></script><script type=\"text/javascript\" async=\"\" charset=\"utf-8\" id=\"tiqapp\" src=\"//tags.tiqcdn.com/utag/tiqapp/utag.v.js?a=endress-hauser/main/202312211359&amp;cb=1703787556744\"></script><style>.HGGHS4C-e-a{position:fixed!important;overflow:hidden;top:0;right:0;bottom:0;left:0;width:100%;height:100%;z-index:313375;background:rgba(255,255,255,0.9);opacity:.9}@supports (-ms-ime-align:auto){.HGGHS4C-e-a{opacity:1}}.HGGHS4C-e-b{position:absolute;top:50%;left:50%;transform:translate3d(-50%,-50%,0);padding-bottom:64px}.HGGHS4C-e-d{text-align:center;font-size:16px;line-height:22px;margin-bottom:16px}.HGGHS4C-e-c{text-align:center;margin-top:17px}</style><style>@media (max-width:768px){.HGGHS4C-a-h::after{padding-top:3px;content:\"\\\\00e04c\";margin-left:auto;font-style:normal!important;font-weight:normal!important;font-variant:normal!important;text-transform:none!important;speak:none;line-height:1;-webkit-font-smoothing:antialiased;-moz-osx-font-smoothing:grayscale}}.eh-main .eh-integrationMarker,.eh-main>:last-child.eh-integrationMarker{padding-bottom:0}.eh-grid{padding:0}.eh-grid:not.eh-grid--fixed{display:block}.eh-grid--fixed .eh-row{display:flex;flex-flow:row wrap;align-items:stretch;width:100%}.eh-grid--fixed .eh-cell{display:flex;margin-top:0;margin-bottom:0}.eh-grid--fixed .eh-cell.eh-cell--column{flex-direction:column}.HGGHS4C-c-d{font-family:\"E+H_Serif-'"
      ]
     },
     "execution_count": 46,
     "metadata": {},
     "output_type": "execute_result"
    }
   ],
   "source": [
    "detail_page_url_1 = 'https://www.endress.com/en/field-instruments-overview/level-measurement/Float-switch-Liquifloat-FTS20?t.tabId=product-overview'\n",
    "detail_page_url_2 = 'https://www.galco.com/cd1-k-400-30-131427.html'\n",
    "detail_page_url_3 = 'https://www.nriparts.com/products/masterflex-7017-20-miscellaneous/268086'\n",
    "detail_page_url_4 = 'https://www.palmindustrial.com/products/cole-parmer-masterflex-7017-20-peristaltic-pump-head'\n",
    "detail_page_url_5 = 'https://www.walkerindustrial.com/Bircher-Reglomat-212174-p/212174.htm'\n",
    "\n",
    "detail_page_url = detail_page_url_1\n",
    "\n",
    "\n",
    "detail_page_content = extract_html_from_web_page(detail_page_url)\n",
    "detail_page_content[:4000]"
   ]
  },
  {
   "cell_type": "code",
   "execution_count": null,
   "id": "e80cb088-b06f-48eb-a08f-00ad92905a28",
   "metadata": {},
   "outputs": [],
   "source": [
    "detail_page_content"
   ]
  },
  {
   "cell_type": "code",
   "execution_count": 7,
   "id": "7c658800-2271-4bc9-999e-93749122a29b",
   "metadata": {},
   "outputs": [],
   "source": [
    "def pre_cleaning(soup):\n",
    "    for script in soup([\"script\", \"nav\", \"head\", \"style\"]):  # remove all javascript code\n",
    "        script.decompose()"
   ]
  },
  {
   "cell_type": "code",
   "execution_count": 53,
   "id": "2cb8f300-7573-4fc3-82f5-2f4a3e5a6d54",
   "metadata": {},
   "outputs": [],
   "source": [
    "soup = BeautifulSoup(detail_page_content, 'html.parser')\n",
    "\n",
    "# pre_cleaning(soup)"
   ]
  },
  {
   "cell_type": "code",
   "execution_count": 48,
   "id": "06605365-90d6-4134-b5ca-826761f5395f",
   "metadata": {},
   "outputs": [],
   "source": [
    "\n",
    "def search_html_with_parents(soup, search_terms: List[str], max_token_length: int, parent_depth: int = 1) -> List[str]:\n",
    "    \"\"\"\n",
    "    Search for the provided terms in the given HTML content and return a list of relevant elements, including parent elements.\n",
    "\n",
    "    :param html_content: A string containing the HTML content.\n",
    "    :param search_terms: A list of search terms, ranked in order of estimated relevance.\n",
    "    :param max_token_length: The maximum token length for the final list.\n",
    "    :param parent_depth: The depth of parent elements to include.\n",
    "    :return: A list of HTML elements that contain the search terms, along with their parent elements.\n",
    "    \"\"\"\n",
    "    # Dictionary to hold search results: {term: [elements]}\n",
    "    search_results = {term: [] for term in search_terms}\n",
    "\n",
    "    for term in search_terms:\n",
    "        # Find all elements containing the term\n",
    "        for element in soup.find_all(text=re.compile(re.escape(term), re.IGNORECASE)):\n",
    "            current_element = element.parent\n",
    "            # Traverse up to the specified parent depth\n",
    "            for _ in range(parent_depth):\n",
    "                if current_element.parent is not None:\n",
    "                    current_element = current_element.parent\n",
    "            search_results[term].append(str(current_element))\n",
    "\n",
    "    # Populate the final list with elements, prioritizing earlier terms\n",
    "    final_list = []\n",
    "    total_tokens = 0\n",
    "\n",
    "    for term in search_terms:\n",
    "        for element in search_results[term]:\n",
    "            element_tokens = len(element.split())\n",
    "            if total_tokens + element_tokens > max_token_length:\n",
    "                return final_list  # Return the list if adding the element would exceed the token limit\n",
    "            final_list.append(element)\n",
    "            total_tokens += element_tokens\n",
    "\n",
    "    return final_list"
   ]
  },
  {
   "cell_type": "code",
   "execution_count": 49,
   "id": "e319060c-59d1-4973-99c4-3f2a0b7d8973",
   "metadata": {},
   "outputs": [],
   "source": [
    "from urllib.parse import urljoin\n",
    "\n",
    "def extract_pdf_links(soup, url):\n",
    "    all_links = soup.find_all('a', href=True)\n",
    "    pdf_links = [link['href'] for link in all_links if link['href'].lower().endswith('.pdf')]        \n",
    "    pdf_links = [urljoin(url, link) for link in pdf_links]    \n",
    "    pdf_links = list(dict.fromkeys(pdf_links))\n",
    "    return pdf_links"
   ]
  },
  {
   "cell_type": "code",
   "execution_count": 24,
   "id": "32c0191a-115d-42ed-89c0-2b1201bc62bb",
   "metadata": {},
   "outputs": [
    {
     "data": {
      "text/plain": [
       "['https://bdih-download.endress.com/files/DLA/005056A500261ED98AD8C38FB68AB332/KA00180FA3_1719.pdf',\n",
       " 'https://bdih-download.endress.com/files/DLA/005056A500261EDBB8E104F635F12ACF/XA02429FEN_0121.pdf',\n",
       " 'https://bdih-download.endress.com/files/DLA/005056A500261EEDB3D93231997DE0E0/FA00001F00EN2522.pdf',\n",
       " 'https://bdih-download.endress.com/files/DLA/005056A500261EECB8E5C30F3045CCF9/FA00001Fes%20Catalogo%20Nivel_24.22.pdf',\n",
       " 'https://bdih-download.endress.com/files/DLA/005056A500261EDDAEB9613659243E9F/FA00001F00IT2522.pdf',\n",
       " 'https://bdih-download.endress.com/files/DLA/005056A500261EDDB3D92A9836B17B0A/FA00001F00DE2522.pdf',\n",
       " 'https://bdih-download.endress.com/files/DLA/0200030000091ED785BBCB2AC220053F/CP01266Z.pdf',\n",
       " 'https://bdih-download.endress.com/files/DLA/005056A500261ED8BB97BC80E3035109/EG-01033%20f.pdf',\n",
       " 'https://bdih-download.endress.com/files/DLA/005056A500261EED81837733718911E5/EU_01044_01.22.pdf',\n",
       " 'https://bdih-download.endress.com/files/DLA/005056A500261EDAA9AFA754A7DFE612/TÜV%2001%20ATEX%201709_EN.pdf']"
      ]
     },
     "execution_count": 24,
     "metadata": {},
     "output_type": "execute_result"
    }
   ],
   "source": [
    "extract_pdf_links(soup, detail_page_url)"
   ]
  },
  {
   "cell_type": "code",
   "execution_count": 79,
   "id": "221cfc31-3fbd-4469-b15d-01b2011226a8",
   "metadata": {},
   "outputs": [],
   "source": [
    "import re\n",
    "from bs4 import BeautifulSoup\n",
    "\n",
    "def extract_contact_info(soup):\n",
    "    # Define regex patterns for email and phone number\n",
    "    email_pattern = r'[a-zA-Z0-9_.+-]+@[a-zA-Z0-9-]+\\.[a-zA-Z0-9-.]+'\n",
    "    phone_pattern = r'\\s*(?:\\+?(\\d{1,3})[-. ]?)?(?:\\((\\d{1,4})\\)[-.\\s]*|(\\d{1,4})[-.\\s]*)?(\\d{1,4})[-.\\s]*(\\d{1,4})[-.\\s]*(\\d{1,4})\\s*'\n",
    "    \n",
    "    # Compile regex patterns\n",
    "    email_regex = re.compile(email_pattern)\n",
    "    \n",
    "    matches = re.findall(phone_pattern, text, re.MULTILINE)\n",
    "    phone_numbers = [''.join(match) for match in matches]\n",
    "\n",
    "    # Parse HTML content using BeautifulSoup\n",
    "    # Extract text content from HTML\n",
    "    text_content = soup.get_text()\n",
    "    # text_content = soup.find('footer').get_text()\n",
    "\n",
    "    # Find email addresses and phone numbers using regex\n",
    "    emails = email_regex.findall(text_content)\n",
    "\n",
    "    return emails, phone_numbers"
   ]
  },
  {
   "cell_type": "code",
   "execution_count": 86,
   "id": "f34539ba-18cd-4d1c-b9d7-8d5ec195a20f",
   "metadata": {},
   "outputs": [
    {
     "data": {
      "text/plain": [
       "(['info@endress.com'],\n",
       " ['12125551234',\n",
       "  '02079460991',\n",
       "  '0312345678',\n",
       "  '4930123456',\n",
       "  '0612345678',\n",
       "  '819012345678',\n",
       "  '270111234567',\n",
       "  '5550199',\n",
       "  '74951234567',\n",
       "  '1523456789',\n",
       "  '331234567',\n",
       "  '0212345678',\n",
       "  '912223456789',\n",
       "  '0301234567',\n",
       "  '5215512345678',\n",
       "  '0800123456',\n",
       "  '861012345678',\n",
       "  '351211234567',\n",
       "  '5551234',\n",
       "  '6431234567',\n",
       "  '41617157700'])"
      ]
     },
     "execution_count": 86,
     "metadata": {},
     "output_type": "execute_result"
    }
   ],
   "source": [
    "extract_contact_info(soup)"
   ]
  },
  {
   "cell_type": "code",
   "execution_count": 85,
   "id": "4544f5e4-f50b-4a4a-aeb9-ed47075d10f8",
   "metadata": {},
   "outputs": [],
   "source": [
    "footer = soup.find('footer')\n",
    "\n",
    "footer.get_text()\n",
    "\n",
    "phone_pattern = r'\\b(?:\\+\\d{1,2}\\s?)?(?:\\(\\d{1,4}\\)\\s?)?[0-9\\-]+\\b'\n",
    "phone_regex = re.compile(phone_pattern)\n"
   ]
  },
  {
   "cell_type": "code",
   "execution_count": null,
   "id": "81b49e00-2eb4-4999-ad24-c3c0731c6372",
   "metadata": {},
   "outputs": [],
   "source": [
    "soup.get_text()"
   ]
  },
  {
   "cell_type": "code",
   "execution_count": 73,
   "id": "1ae728a0-c8ab-4269-b30d-3a41cc9741cb",
   "metadata": {},
   "outputs": [
    {
     "name": "stdout",
     "output_type": "stream",
     "text": [
      "0 12125551234\n",
      "1 02079460991\n",
      "2 0312345678\n",
      "3 4930123456\n",
      "4 0612345678\n",
      "5 819012345678\n",
      "6 270111234567\n",
      "7 5550199\n",
      "8 74951234567\n",
      "9 1523456789\n",
      "10 331234567\n",
      "11 0212345678\n",
      "12 912223456789\n",
      "13 0301234567\n",
      "14 5215512345678\n",
      "15 0800123456\n",
      "16 861012345678\n",
      "17 351211234567\n",
      "18 5551234\n",
      "19 6431234567\n",
      "20 41617157700\n"
     ]
    }
   ],
   "source": [
    "import re\n",
    "\n",
    "def find_phone_numbers(text):\n",
    "    # Regex pattern to match phone numbers\n",
    "    pattern = r'\\s*(?:\\+?(\\d{1,3})[-. ]?)?(?:\\((\\d{1,4})\\)[-.\\s]*|(\\d{1,4})[-.\\s]*)?(\\d{1,4})[-.\\s]*(\\d{1,4})[-.\\s]*(\\d{1,4})\\s*'\n",
    "\n",
    "    # Finding all matches\n",
    "    matches = re.findall(pattern, text, re.MULTILINE)\n",
    "\n",
    "    # Formatting matched numbers for output\n",
    "    phone_numbers = [''.join(match) for match in matches]\n",
    "\n",
    "    return phone_numbers\n",
    "\n",
    "# Example text\n",
    "text = '''\n",
    "Offering\n",
    "\n",
    "Products\n",
    "\n",
    "Solutions\n",
    "\n",
    "Services\n",
    "\n",
    "Industries\n",
    "\n",
    "Company\n",
    "\n",
    "+1-212-555-1234 (International format with country code for the USA)\n",
    "020 7946 0991 (UK landline format without country code)\n",
    "(03) 1234 5678 (Australian landline format with area code)\n",
    "+49 30 123456 (German format with country code and area code)\n",
    "06-12345678 (Dutch mobile format without country code)\n",
    "+81-90-1234-5678 (Japanese mobile format with country code)\n",
    "+27 (0)11 123 4567 (South African format with country code and area code)\n",
    "555-0199 (North American local number without area code)\n",
    "+7 495 123-45-67 (Russian format with country code and area code)\n",
    "15 2345 6789 (Argentinian mobile format without country code)\n",
    "+33 1 23 45 67 89 (French format with country code and area code)\n",
    "(02) 1234 5678 (Australian landline format with a different area code)\n",
    "+91-22-23456789 (Indian format with country code and area code)\n",
    "030 1234567 (Italian landline format without country code)\n",
    "+52 1 55 1234 5678 (Mexican mobile format with country code and area code)\n",
    "0800 123 456 (UK freephone number format)\n",
    "+86 10 1234 5678 (Chinese format with country code and area code)\n",
    "+351 21 123 4567 (Portuguese format with country code and area code)\n",
    "555.1234 (North American local number in an alternative format without area code)\n",
    "+64 3-123 4567 (New Zealand format with country code and area code)\n",
    "\n",
    "Switzerland\n",
    "\n",
    "Tel.\n",
    "                              +41 61 715 7700\n",
    "\n",
    "info@endress.com\n",
    "\n",
    "Copyright © Endress+Hauser Group Services AG\n",
    "\n",
    "Imprint\n",
    "\n",
    "Terms of use\n",
    "\n",
    "Data Protection \n",
    "\n",
    "Legal - GTC\n",
    "'''\n",
    "\n",
    "# Finding phone numbers in the text\n",
    "phone_numbers = find_phone_numbers(text)\n",
    "\n",
    "# Output the phone numbers\n",
    "for idx, number in enumerate(phone_numbers):\n",
    "    print(f'{idx} {number}')\n"
   ]
  },
  {
   "cell_type": "code",
   "execution_count": 81,
   "id": "b21f9952-7e76-4ea7-acf3-54470b9bbd11",
   "metadata": {},
   "outputs": [
    {
     "name": "stderr",
     "output_type": "stream",
     "text": [
      "/tmp/ipykernel_3277746/511472134.py:16: DeprecationWarning: The 'text' argument to find()-type methods is deprecated. Use 'string' instead.\n",
      "  for element in soup.find_all(text=re.compile(re.escape(term), re.IGNORECASE)):\n"
     ]
    },
    {
     "data": {
      "text/plain": [
       "[]"
      ]
     },
     "execution_count": 81,
     "metadata": {},
     "output_type": "execute_result"
    }
   ],
   "source": [
    "\n",
    "# Example usage with parent depth:\n",
    "popular_currency_symbols = [\"$\", \"€\", \"£\", \"¥\", \"₹\", \"₽\", \"₩\", \"₣\", \"C$\", \"A$\", \"R$\", \"₺\", \"RM\", \"฿\", \"₱\", \"S$\", \"HK$\", \"NZ$\", \"kr\", \"zł\"]\n",
    "popular_currency_codes = [\"USD\", \"EUR\", \"GBP\", \"JPY\", \"INR\", \"RUB\", \"KRW\", \"CHF\", \"CAD\", \"AUD\", \"BRL\", \"TRY\", \"MYR\", \"THB\", \"PHP\", \"SGD\", \"HKD\", \"NZD\", \"SEK\", \"NOK\", \"DKK\", \"PLN\"]\n",
    "\n",
    "\n",
    "search_terms = popular_currency_symbols + popular_currency_codes\n",
    "\n",
    "search_terms = ['(\\(\\d{3}\\)\\s*[-\\.\\s]\\s*\\d{3}\\s*[-\\.\\s]??\\s*\\d{4}|\\d{3}[-\\.\\s]??\\d{3}[-\\.\\s]??\\d{4}|\\(\\d{3}\\)\\s*\\d{3}[-\\.\\s]??\\d{4}|\\d{3}[-\\.\\s]??\\d{4})']\n",
    "max_token_length = 50  # Example token length limit\n",
    "parent_depth = 1\n",
    "\n",
    "matched_elements = search_html_with_parents(soup, search_terms, max_token_length, parent_depth)\n",
    "matched_elements = list(set(matched_elements))\n",
    "matched_elements"
   ]
  },
  {
   "cell_type": "code",
   "execution_count": 82,
   "id": "b5df9c7a-8202-4d3b-85f8-40e9bd8852cd",
   "metadata": {},
   "outputs": [],
   "source": [
    "import re\n",
    "from bs4 import BeautifulSoup\n",
    "from typing import List\n",
    "\n",
    "def search_html_for_phone_numbers(soup, regex_pattern: str, max_token_length: int, parent_depth: int = 1) -> List[str]:\n",
    "    \"\"\"\n",
    "    Search for phone numbers in the given HTML content and return a list of relevant elements, including parent elements.\n",
    "\n",
    "    :param soup: BeautifulSoup object containing the HTML content.\n",
    "    :param regex_pattern: Regex pattern to match phone numbers.\n",
    "    :param max_token_length: The maximum token length for the final list.\n",
    "    :param parent_depth: The depth of parent elements to include.\n",
    "    :return: A list of HTML elements that contain phone numbers, along with their parent elements.\n",
    "    \"\"\"\n",
    "    # Find all elements containing phone numbers\n",
    "    phone_number_elements = soup.find_all(text=re.compile(regex_pattern))\n",
    "\n",
    "    final_list = []\n",
    "    total_tokens = 0\n",
    "\n",
    "    for element in phone_number_elements:\n",
    "        current_element = element.parent\n",
    "        # Traverse up to the specified parent depth\n",
    "        for _ in range(parent_depth):\n",
    "            if current_element.parent is not None:\n",
    "                current_element = current_element.parent\n",
    "        element_str = str(current_element)\n",
    "        element_tokens = len(element_str.split())\n",
    "\n",
    "        if total_tokens + element_tokens <= max_token_length:\n",
    "            final_list.append(element_str)\n",
    "            total_tokens += element_tokens\n",
    "\n",
    "    return final_list\n"
   ]
  },
  {
   "cell_type": "code",
   "execution_count": 100,
   "id": "323bfe55-2e64-41af-bbef-5118d707abb6",
   "metadata": {},
   "outputs": [
    {
     "name": "stderr",
     "output_type": "stream",
     "text": [
      "/tmp/ipykernel_3277746/511472134.py:16: DeprecationWarning: The 'text' argument to find()-type methods is deprecated. Use 'string' instead.\n",
      "  for element in soup.find_all(text=re.compile(re.escape(term), re.IGNORECASE)):\n"
     ]
    },
    {
     "data": {
      "text/plain": [
       "['<address class=\"eh-address\">\\n<p>Endress+Hauser AG</p>\\n<p>Switzerland</p>\\n<ul class=\"eh-link--list vertical\">\\n<li class=\"eh-link--list-item\">\\n<a class=\"eh-link eh-link--01\" href=\"tel:+41617157700\">Tel.\\n                              +41 61 715 7700</a>\\n</li>\\n<li class=\"eh-link--list-item\">\\n<a class=\"eh-link eh-link--01\" href=\"mailto:info@endress.com\">info@endress.com</a>\\n</li>\\n</ul>\\n</address>']"
      ]
     },
     "execution_count": 100,
     "metadata": {},
     "output_type": "execute_result"
    }
   ],
   "source": [
    "pattern = '(\\(\\d{3}\\)\\s*[-\\.\\s]\\s*\\d{3}\\s*[-\\.\\s]??\\s*\\d{4}|\\d{3}[-\\.\\s]??\\d{3}[-\\.\\s]??\\d{4}|\\(\\d{3}\\)\\s*\\d{3}[-\\.\\s]??\\d{4}|\\d{3}[-\\.\\s]??\\d{4})'\n",
    "phone_pattern = r'\\s*(?:\\+?(\\d{1,3})[-. ]?)?(?:\\((\\d{1,4})\\)[-.\\s]*|(\\d{1,4})[-.\\s]*)?(\\d{1,4})[-.\\s]*(\\d{1,4})[-.\\s]*(\\d{1,4})\\s*'\n",
    "phone_pattern = '7700'\n",
    "\n",
    "max_token_length = 50  # Example token length limit\n",
    "parent_depth = 3\n",
    "\n",
    "matched_elements = search_html_with_parents(el, phone_pattern, max_token_length, parent_depth)\n",
    "matched_elements"
   ]
  },
  {
   "cell_type": "code",
   "execution_count": 97,
   "id": "bbc41090-499c-49fd-a1ea-4e714fc5624b",
   "metadata": {},
   "outputs": [
    {
     "data": {
      "text/plain": [
       "<footer class=\"eh-footer\" id=\"footer\" style=\"padding-bottom: 160px;\">\n",
       "<div class=\"eh-center-page\">\n",
       "<div class=\"eh-grid eh-grid--no-spacing eh-footer--layout-grid\">\n",
       "<div class=\"eh-cell eh-cell--12-col\">\n",
       "<section class=\"eh-secondary-navigation eh-no-p-h eh-no-p-t\">\n",
       "<div class=\"eh-grid eh-grid--no-spacing\">\n",
       "<div class=\"eh-p-l eh-p-t eh-cell eh-cell--3-col eh-cell--12-col-small marker-footer-nav\">\n",
       "<label class=\"eh-label eh-label--01\">Offering</label>\n",
       "<ul class=\"eh-link--list vertical\">\n",
       "<li class=\"eh-link--list-item\">\n",
       "<a class=\"eh-link eh-link--01\" href=\"/en/field-instruments-overview\">Products</a>\n",
       "</li><li class=\"eh-link--list-item\">\n",
       "<a class=\"eh-link eh-link--01\" href=\"/en/process-solutions\">Solutions</a>\n",
       "</li><li class=\"eh-link--list-item\">\n",
       "<a class=\"eh-link eh-link--01\" href=\"/en/instrumentation-services\">Services</a>\n",
       "</li><li class=\"eh-link--list-item\">\n",
       "<a class=\"eh-link eh-link--01\" href=\"/en/industry-expertise\">Industries</a>\n",
       "</li>\n",
       "</ul>\n",
       "</div>\n",
       "<div class=\"eh-p-l eh-p-t eh-cell eh-cell--6-col eh-cell--12-col-small marker-footer-quicklinks\">\n",
       "<label class=\"eh-label eh-label--01\">Company</label>\n",
       "<ul class=\"eh-link--list vertical\">\n",
       "<li class=\"eh-link--list-item\" data-cs-tracking-target-id=\"93059\" data-cs-tracking-title=\"Contact Information\">\n",
       "<a class=\"eh-link eh-link--01\" data-cid=\"93059\" data-cs-tracking-target-id=\"93059\" href=\"/en/contact\" title=\"Contact\">Contact Information</a>\n",
       "</li><li class=\"eh-link--list-item\" data-cs-tracking-target-id=\"42304\" data-cs-tracking-title=\"Downloads\">\n",
       "<a class=\"eh-link eh-link--01\" data-cid=\"42304\" data-cs-tracking-target-id=\"42304\" href=\"/en/downloads\" title=\"Downloads\">Downloads</a>\n",
       "</li><li class=\"eh-link--list-item\" data-cs-tracking-target-id=\"955016\" data-cs-tracking-title=\"Sustainability\">\n",
       "<a class=\"eh-link eh-link--01\" data-cid=\"955016\" data-cs-tracking-target-id=\"955016\" href=\"/en/endress-hauser-group/endresshauser-at-a-glance/sustainability\" title=\"Sustainability\">Sustainability</a>\n",
       "</li><li class=\"eh-link--list-item\" data-cs-tracking-target-id=\"9728326\" data-cs-tracking-title=\"Human rights and environmental protection\">\n",
       "<a class=\"eh-link eh-link--01\" data-cid=\"9728326\" data-cs-tracking-target-id=\"9728326\" href=\"/en/endress-hauser-group/endresshauser-at-a-glance/sustainability/whistleblower-system\" title=\"Human rights and environmental protection\">Human rights and environmental protection</a>\n",
       "</li>\n",
       "</ul>\n",
       "</div>\n",
       "<div class=\"eh-p-l eh-p-t eh-cell eh-cell--3-col eh-cell--12-col-small marker-footer-contact\">\n",
       "<label class=\"eh-label eh-label--01\">Contact us</label>\n",
       "<address class=\"eh-address\">\n",
       "<p>Endress+Hauser AG</p>\n",
       "<p>Switzerland</p>\n",
       "<ul class=\"eh-link--list vertical\">\n",
       "<li class=\"eh-link--list-item\">\n",
       "<a class=\"eh-link eh-link--01\" href=\"tel:+41617157700\">Tel.\n",
       "                              +41 61 715 7700</a>\n",
       "</li>\n",
       "<li class=\"eh-link--list-item\">\n",
       "<a class=\"eh-link eh-link--01\" href=\"mailto:info@endress.com\">info@endress.com</a>\n",
       "</li>\n",
       "</ul>\n",
       "</address>\n",
       "</div>\n",
       "</div>\n",
       "</section>\n",
       "</div>\n",
       "</div>\n",
       "</div>\n",
       "<span class=\"eh-separator--horizontal eh-separator--01\"></span>\n",
       "<div class=\"eh-center-page\">\n",
       "<div class=\"eh-grid eh-grid--no-spacing eh-footer--layout-grid\">\n",
       "<div class=\"eh-cell eh-cell--9-col eh-cell--12-col-small\">\n",
       "<section class=\"eh-copyright eh-no-p-b marker-footer-legal\">\n",
       "<ul class=\"eh-link--list vertical horizontal-medium horizontal-large eh-m-t-s\">\n",
       "<li class=\"eh-link--list-item\">\n",
       "<label class=\"eh-label\">Copyright © Endress+Hauser Group Services AG</label>\n",
       "</li>\n",
       "<li class=\"eh-link--list-item\">\n",
       "<a class=\"eh-link eh-link--01\" href=\"/en/Imprint\">\n",
       "<span>Imprint</span>\n",
       "</a>\n",
       "</li><li class=\"eh-link--list-item\">\n",
       "<a class=\"eh-link eh-link--01\" href=\"/en/Terms-of-use\">\n",
       "<span>Terms of use</span>\n",
       "</a>\n",
       "</li><li class=\"eh-link--list-item\">\n",
       "<a class=\"eh-link eh-link--01\" href=\"/en/data-protection\">\n",
       "<span>Data Protection </span>\n",
       "</a>\n",
       "</li><li class=\"eh-link--list-item\">\n",
       "<a class=\"eh-link eh-link--01\" href=\"/en/Legal-GTC\">\n",
       "<span>Legal - GTC</span>\n",
       "</a>\n",
       "</li>\n",
       "</ul>\n",
       "</section>\n",
       "</div>\n",
       "<div class=\"eh-cell eh-cell--3-col eh-cell--12-col-small\">\n",
       "<section class=\"eh-social-links marker-footer-social\">\n",
       "<ul class=\"eh-icon-button--list horizontal\">\n",
       "<li class=\"eh-icon-button--list-item\">\n",
       "<a class=\"eh-link eh-button--09 eh-icon-button eh-icon-button--full-size fb\" data-cs-tracking-title=\"facebook\" href=\"https://www.facebook.com/EndressHauser\" rel=\"noopener\" target=\"_blank\">\n",
       "<i class=\"eh-icon icon-eh-facebook\"></i>\n",
       "</a>\n",
       "</li><li class=\"eh-icon-button--list-item\">\n",
       "<a class=\"eh-link eh-button--09 eh-icon-button eh-icon-button--full-size tw\" data-cs-tracking-title=\"twitter\" href=\"https://twitter.com/Endress_Hauser\" rel=\"noopener\" target=\"_blank\">\n",
       "<i class=\"eh-icon icon-eh-x\"></i>\n",
       "</a>\n",
       "</li><li class=\"eh-icon-button--list-item\">\n",
       "<a class=\"eh-link eh-button--09 eh-icon-button eh-icon-button--full-size yt\" data-cs-tracking-title=\"youtube\" href=\"http://www.youtube.com/EndressHauserAG\" rel=\"noopener\" target=\"_blank\">\n",
       "<i class=\"eh-icon icon-eh-youtube\"></i>\n",
       "</a>\n",
       "</li><li class=\"eh-icon-button--list-item\">\n",
       "<a class=\"eh-link eh-button--09 eh-icon-button eh-icon-button--full-size in\" data-cs-tracking-title=\"linkedin\" href=\"https://www.linkedin.com/company/endress-hauser-group\" rel=\"noopener\" target=\"_blank\">\n",
       "<i class=\"eh-icon icon-eh-linkedin\"></i>\n",
       "</a>\n",
       "</li><li class=\"eh-icon-button--list-item\">\n",
       "<a class=\"eh-link eh-button--09 eh-icon-button eh-icon-button--full-size ig\" data-cs-tracking-title=\"Instagram\" href=\"https://www.instagram.com/endresshauser_people/\" rel=\"noopener\" target=\"_blank\">\n",
       "<i class=\"eh-icon icon-eh-instagram\"></i>\n",
       "</a>\n",
       "</li>\n",
       "</ul>\n",
       "</section>\n",
       "</div>\n",
       "</div>\n",
       "</div>\n",
       "</footer>"
      ]
     },
     "execution_count": 97,
     "metadata": {},
     "output_type": "execute_result"
    }
   ],
   "source": [
    "el = soup.find('footer')\n",
    "\n",
    "el"
   ]
  },
  {
   "cell_type": "code",
   "execution_count": 79,
   "id": "b233531d-9d1a-4b31-8030-f3c335a15ec5",
   "metadata": {},
   "outputs": [
    {
     "name": "stdout",
     "output_type": "stream",
     "text": [
      "0: '<span class=\"price-wrapper\" data-price-amount=\"1754.5000\" data-price-type=\"finalPrice\" id=\"product-price-7364554\">\n",
      "<span class=\"price\">$1,754.50</span>\n",
      "</span>'\n",
      "1: '<div class=\"modal-content\" data-role=\"content\" id=\"modal-content-29\"><div class=\"modal-component\" data-bind=\"css: modalClass, hasFocus: focused\">\n",
      "<!-- ko if: state() || $data.modal --><!-- /ko -->\n",
      "</div></div>'\n"
     ]
    }
   ],
   "source": [
    "matched_elements_str = '\\n'.join([f'{idx}: \\'{m}\\'' for idx, m in enumerate(matched_elements)])\n",
    "print(matched_elements_str)"
   ]
  },
  {
   "cell_type": "code",
   "execution_count": 80,
   "id": "f6da0b3c-3b9a-42b3-9a52-58e0ad74bdec",
   "metadata": {},
   "outputs": [],
   "source": [
    "system_message = \"\"\"\n",
    "You are automated web-crawler working as part of a product that helps blind people use websites. You have been\n",
    "provided with a numbered list og HTML elements. Given a directive, your job is to identify the single element that\n",
    "is most relevant to the directive. Return the number of the element, wrapped in curved parentheses.\n",
    "\n",
    "[Example 1]\n",
    "We are given the following elements:\n",
    "{\n",
    "  1: '<th scope=\"row\" class=\"infobox-label\"><div style=\";\">&nbsp;<a href=\"/wiki/President_of_the_United_States\"\n",
    "  title=\"President of the United States\"></a> </div></th>',\n",
    "  2: '<th scope=\"row\" class=\"infobox-label\"><div style=\";\">&nbsp;<a href=\"/wiki/Vice_President_of_the_United_States\"\n",
    "  title=\"Vice President of the United States\">Vice President</a> </div></th>'\n",
    "  3: '<tr><th scope=\"row\" class=\"infobox-label\"><a href=\"/wiki/Left-_and_right-hand_traffic\" title=\"Left- and right-hand traffic\">\n",
    "  Driving side</a></th><td class=\"infobox-data\">right<sup id=\"cite_ref-drive_23_0\" class=\"reference\"><a \n",
    "  href=\"#cite_note_drive-23\">[h]</a></sup></td></tr>'\n",
    "}\n",
    "And the following directive\n",
    "\"Find an element that relates to the driving side in the United States\"\n",
    "\n",
    "In this case, we can see that the third element contains the information we`re looking for, so we should return:\n",
    "'(3)'\n",
    "\n",
    "Keep in mind that the innerText of an element is not the only way in which it can relate to a directive. Sometimes the most relevant\n",
    "element will be a link to a new page whose title seems relevant.\n",
    "\n",
    "You must always return a number. If you don't find an element that is directly relevant, think abstractly, and consider which\n",
    "element may be directionally similar to the directive.\n",
    "\n",
    "For example, let's take Example 1 again, but with a new directive:\n",
    "\"Find information about the population of Washington D.C.\"\n",
    "\n",
    "In this case, none of the elements are directly relevant, but the first element is directionally similar, because the President of\n",
    "the United States lives in Washington D.C. So we should return:\n",
    "'(1)'\n",
    "\"\"\"\n",
    "\n",
    "user_request = \"\"\"\n",
    "As an automated web-crawler, please find relevant price and manufacturer details from the following elements:\n",
    "{{\n",
    "  {matched_elements}\n",
    "}}\n",
    "\"\"\".format(matched_elements=matched_elements_str)"
   ]
  },
  {
   "cell_type": "code",
   "execution_count": 81,
   "id": "390d5019-36b7-49fe-93f3-5bc6e164414e",
   "metadata": {},
   "outputs": [],
   "source": [
    "response = client.chat.completions.create(\n",
    "    model=\"gpt-4\",\n",
    "    messages=[\n",
    "        {\"role\": \"assistant\", \"content\": system_message},\n",
    "        {\"role\": \"user\", \"content\": user_request}\n",
    "    ],\n",
    "    stream=False,\n",
    ")\n",
    "# response"
   ]
  },
  {
   "cell_type": "code",
   "execution_count": 82,
   "id": "d7424685-c1fc-47c8-ade7-1c058a8b8ac2",
   "metadata": {},
   "outputs": [
    {
     "name": "stdout",
     "output_type": "stream",
     "text": [
      "The directive to find price and manufacturer details is most relevant to the first element, thus return:\n",
      "'(0)'\n"
     ]
    }
   ],
   "source": [
    "print(response.choices[0].message.content)"
   ]
  },
  {
   "cell_type": "code",
   "execution_count": 50,
   "id": "0d97012c-d502-446d-97fa-c9eb826e1521",
   "metadata": {},
   "outputs": [
    {
     "name": "stdout",
     "output_type": "stream",
     "text": [
      "\n",
      "As an automated web-crawler, please find relevant price and manufacturer details from the following elements:\n",
      "{\n",
      "  0: '<div class=\"eh-price-widget--price\">\n",
      "<span class=\"eh-price-widget--price-prefix eh-label eh-font-metrics--14-22\">from</span>\n",
      "<span class=\"eh-price-widget--price-formatted eh-label eh-font-metrics--20-26\">€59.00</span>\n",
      "</div>'\n",
      "1: '<div class=\"eh-price-widget--price\">\n",
      "<span class=\"eh-price-widget--price-prefix eh-label eh-font-metrics--14-22\">from</span>\n",
      "<span class=\"eh-price-widget--price-formatted eh-label eh-font-metrics--20-26\">€67.00</span>\n",
      "</div>'\n",
      "2: '<div class=\"eh-quickselector--product-price-scale-price-value eh-font-bold\">\n",
      "<span>€67.00</span>\n",
      "</div>'\n",
      "3: '<div class=\"eh-quickselector--product-price-scale-price-value eh-font-bold\">\n",
      "<span>€63.00</span>\n",
      "</div>'\n",
      "4: '<div class=\"eh-quickselector--product-price-scale-price-value eh-font-bold\">\n",
      "<span>€59.00</span>\n",
      "</div>'\n",
      "}\n",
      "\n"
     ]
    }
   ],
   "source": [
    "print(user_request)"
   ]
  },
  {
   "cell_type": "code",
   "execution_count": 98,
   "id": "ee177575-7c49-4a57-ad19-89e47888c2f6",
   "metadata": {},
   "outputs": [
    {
     "name": "stdout",
     "output_type": "stream",
     "text": [
      "\n",
      "NEED HELP? CALL US AT 949.446.6757Log inorCreate account\n",
      "Cart\n",
      "0US DollarEuroBritish Pound SterlingCanadian DollarAustralian Dollar  USD  US Dollar  Euro  British Pound Sterling  Canadian Dollar  Australian Dollar\n",
      "Search\n",
      "MenuUS DollarEuroBritish Pound SterlingCanadian DollarAustralian Dollar  USD  US Dollar  Euro  British Pound Sterling  Canadian Dollar  Australian DollarCart 0FIND YOUR PART\n",
      "+-\n",
      "PLC's\n",
      "AUTOMATION\n",
      "COMPUTER PARTS\n",
      "CONNECTORS\n",
      "ELECTRICAL\n",
      "CIRCUIT BREAKERS\n",
      "SENSORS\n",
      "SWAGELOK\n",
      "FITTINGS\n",
      "VALVES\n",
      "LAB EQUIPMENT\n",
      "TEST EQUIPMENT\n",
      "PNEUMATICS\n",
      "POWER SUPPLIES\n",
      "PUMPS\n",
      "BEARINGS\n",
      "NETWORKINGABOUT PALM INDUSTRIAL\n",
      "PRODUCT GUARANTEE\n",
      "Sell Your Surplus\n",
      "OUR PARENT COMPANYLog in\n",
      "Create account\n",
      "SearchNEED HELP? CALL US AT 949.446.6757\n",
      "FIND YOUR PART\n",
      "PLC's\n",
      "AUTOMATION\n",
      "COMPUTER PARTS\n",
      "CONNECTORS\n",
      "ELECTRICAL\n",
      "CIRCUIT BREAKERS\n",
      "SENSORS\n",
      "SWAGELOK\n",
      "FITTINGS\n",
      "VALVES\n",
      "LAB EQUIPMENT\n",
      "TEST EQUIPMENT\n",
      "PNEUMATICS\n",
      "POWER SUPPLIES\n",
      "PUMPS\n",
      "BEARINGS\n",
      "NETWORKING\n",
      "ABOUT PALM INDUSTRIAL\n",
      "PRODUCT GUARANTEE\n",
      "Sell Your Surplus\n",
      "OUR PARENT COMPANYcole parmer\n",
      "Cole Parmer Masterflex 7017-20 Peristaltic Pump Head\n",
      "$69.99\n",
      "Default Title\n",
      "Default Title - $69.99 USD \n",
      "QuantityAdd to CartUsed\n",
      "Cole Parmer Masterflex 7017-20 Peristaltic Pump HeadGUARANTEED TO BE IN WORKING ORDER UPON ARRIVAL.\n",
      "WE OFFER A 30 DAY RIGHT OF RETURN.\n",
      "All items have passed our QA testing and inspection Process.\n",
      "We have been in the Industrial and manufacturing supply field for over 18 years and take pride in providing our customers with THE BEST CUSTOMER SERVICE.\n",
      "We accept Paypal. Payment must be made within 1 days of item ending.\n",
      "We take great care in packaging your products and use only the best materials. We usually ship USPS for smaller 1st class domestic shipments. For larger items, we use FedEx, USPS, Fedex Smart Post or UPS. We also ship freight for very large and heavy items. In order to give you the lowest possible rate, we combine shipping charges on multiple orders. We take great care when packaging your items to make sure they arrive safely. \n",
      "ESD packaging will be used for all items that require it.\n",
      "Expedited shipping is available for an additional fee.\n",
      "INTERNATIONAL BUYERS – PLEASE NOTE: IMPORT DUTIES, TAXES, AND CHARGES ARE NOT INCLUDED IN THE ITEM PRICE OR SHIPPING COST. THESE CHARGES ARE THE BUYER'S RESPONSIBILITY. PLEASE CHECK WITH YOUR COUNTRY'S CUSTOMS OFFICE TO DETERMINE WHAT THESE ADDITIONAL COSTS WILL BE PRIOR TO BIDDING OR BUYING. \n",
      "We do our best to describe everything. If you have questions, please feel free to email us. We strive hard to make sure our customers are happy. We hope that you will find your purchase satisfying. If by chance there is an issue with your item, please let us know right away. We are always ready to address any concern.\n",
      "For order questions, customer service and technical support please contact us via the Ebay Message System/Contact Seller. \n",
      "Disclaimer:\n",
      "Palmindustrial  is a division of The Palm Group LLC. \n",
      "We sell new and surplus product and use diverse supply channels to purchase such product. \n",
      "Palmindustrial  and The Palm Group LLC  are not affiliated with nor are an authorized distributor or representative of any manufacturer, brand or product listed. \n",
      "All items sold by Palmindustrial are covered under Palmindustrial’s warranty and not the manufacturer warranty. \n",
      "Designated trademarks, brand names and brands appearing herein are the property of their respective owners.Share this ProductShareTweetPin itFancy\n",
      "+1Sale \tView full product details → \n",
      "Quantity\n",
      "Unavailable\n",
      "Sold Out \n"
     ]
    }
   ],
   "source": [
    "print(soup.get_text().replace('  ', '').replace('\\n\\n', ''))"
   ]
  },
  {
   "cell_type": "code",
   "execution_count": 102,
   "id": "8f4aa2fc-ae01-46d6-8521-87f3486d05f9",
   "metadata": {},
   "outputs": [
    {
     "name": "stdout",
     "output_type": "stream",
     "text": [
      "['/v/vspfiles/pdf/datasheet/Bircher/SpotScan-Datasheet.pdf', '/v/vspfiles/pdf/datasheet/Bircher/SpotScan-Usermanual.pdf']\n"
     ]
    }
   ],
   "source": [
    "# Regular expression pattern to match URLs ending in .pdf\n",
    "pdf_regex = re.compile('.+\\.pdf$')\n",
    "\n",
    "# Find all links that match the regex pattern\n",
    "pdf_links = [link.get('href') for link in soup.find_all('a', href=pdf_regex)]\n",
    "\n",
    "print(pdf_links)"
   ]
  },
  {
   "cell_type": "code",
   "execution_count": 103,
   "id": "ae3e363c-09c3-4702-b4b6-99f37cc94385",
   "metadata": {},
   "outputs": [],
   "source": [
    "response = client.chat.completions.create(\n",
    "    model=\"gpt-4\",\n",
    "    messages=[\n",
    "        {\"role\": \"assistant\", \"content\": system_message},\n",
    "        {\"role\": \"user\", \"content\": user_request}\n",
    "    ],\n",
    "    stream=False,\n",
    ")\n",
    "# response"
   ]
  },
  {
   "cell_type": "code",
   "execution_count": 104,
   "id": "4c895629-a00f-482b-9123-635809b5ddf3",
   "metadata": {},
   "outputs": [
    {
     "data": {
      "text/plain": [
       "ChatCompletion(id='chatcmpl-8ZvhLbXfH0Un0BLrmyevGAIUIzeKo', choices=[Choice(finish_reason='stop', index=0, message=ChatCompletionMessage(content=\"'(0)'\", role='assistant', function_call=None, tool_calls=None), logprobs=None)], created=1703573963, model='gpt-4-0613', object='chat.completion', system_fingerprint=None, usage=CompletionUsage(completion_tokens=3, prompt_tokens=632, total_tokens=635))"
      ]
     },
     "execution_count": 104,
     "metadata": {},
     "output_type": "execute_result"
    }
   ],
   "source": [
    "response"
   ]
  },
  {
   "cell_type": "code",
   "execution_count": null,
   "id": "83ab1776-5e46-4950-9b74-5163f6506fea",
   "metadata": {},
   "outputs": [],
   "source": []
  }
 ],
 "metadata": {
  "kernelspec": {
   "display_name": "venv",
   "language": "python",
   "name": "venv"
  },
  "language_info": {
   "codemirror_mode": {
    "name": "ipython",
    "version": 3
   },
   "file_extension": ".py",
   "mimetype": "text/x-python",
   "name": "python",
   "nbconvert_exporter": "python",
   "pygments_lexer": "ipython3",
   "version": "3.12.1"
  }
 },
 "nbformat": 4,
 "nbformat_minor": 5
}
