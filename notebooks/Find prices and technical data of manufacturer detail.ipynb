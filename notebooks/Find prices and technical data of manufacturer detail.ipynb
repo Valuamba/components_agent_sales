{
 "cells": [
  {
   "cell_type": "code",
   "execution_count": 18,
   "id": "06c361ad-eab4-48e1-a24f-3faf9843570a",
   "metadata": {},
   "outputs": [],
   "source": [
    "from selenium import webdriver\n",
    "from selenium.webdriver.chrome.service import Service\n",
    "from selenium.webdriver.chrome.options import Options\n",
    "from webdriver_manager.chrome import ChromeDriverManager\n",
    "\n",
    "from selenium.webdriver.common.by import By\n",
    "from selenium.webdriver.support.ui import WebDriverWait\n",
    "from selenium.webdriver.support import expected_conditions as EC\n",
    "\n",
    "from bs4 import BeautifulSoup\n",
    "from typing import List\n",
    "import re"
   ]
  },
  {
   "cell_type": "code",
   "execution_count": 19,
   "id": "683c0c74-4f07-470e-86e2-90fbc61bc99d",
   "metadata": {},
   "outputs": [],
   "source": [
    "from dotenv import load_dotenv\n",
    "import os\n",
    "from openai import OpenAI\n",
    "\n",
    "\n",
    "load_dotenv()\n",
    "openai_api_key = os.getenv(\"OPENAI_API_KEY\")\n",
    "\n",
    "client = OpenAI(api_key=openai_api_key)"
   ]
  },
  {
   "cell_type": "code",
   "execution_count": 52,
   "id": "d65e635b-3766-4dd8-8a3e-5811c3c0ed38",
   "metadata": {},
   "outputs": [],
   "source": [
    "def extract_html_from_web_page(url: str):\n",
    "    options = Options()\n",
    "    options.headless = True  # Run in headless mode (no browser UI)\n",
    "\n",
    "    # Initialize the WebDriver\n",
    "    service = Service(ChromeDriverManager().install())\n",
    "    driver = webdriver.Chrome(service=service, options=options)\n",
    "\n",
    "    try:\n",
    "        # Navigate to a URL in the domain to set cookies\n",
    "        driver.get(url)\n",
    "\n",
    "        # Add cookies from the curl command\n",
    "        driver.add_cookie({'name': '_wbauid', 'value': '4539604231702381935'})\n",
    "        driver.add_cookie({'name': 'CrmToken', 'value': '402f57dd0a0627d6c644806308f0ecab966d7cd383c015820432dc17913553c0c6bc45047335765ee6ee1a347faa3b59a75c5b7b5e22f2a259f19588'})\n",
    "\n",
    "        # Now navigate to the desired page\n",
    "        # url = 'http://crm-front.alljobswb.svc.k8s.stage-dp/account'\n",
    "        # driver.get(url)\n",
    "\n",
    "        # element = WebDriverWait(driver, 10).until(\n",
    "        #     EC.presence_of_element_located((By.ID, \"profile\"))\n",
    "        # )\n",
    "\n",
    "        # Get the page source\n",
    "        html_content = driver.page_source\n",
    "        return html_content\n",
    "\n",
    "    finally:\n",
    "        # Close the browser\n",
    "        driver.quit()\n",
    "    "
   ]
  },
  {
   "cell_type": "code",
   "execution_count": 100,
   "id": "3d877944-5ea5-401b-baf5-5d6124dc3111",
   "metadata": {},
   "outputs": [
    {
     "data": {
      "text/plain": [
       "'<html class=\"no-js ie9 productdetails\" lang=\"en\"><!--<![endif]--><head><meta http-equiv=\"origin-trial\" content=\"Az520Inasey3TAyqLyojQa8MnmCALSEU29yQFW8dePZ7xQTvSt73pHazLFTK5f7SyLUJSo2uKLesEtEa9aUYcgMAAACPeyJvcmlnaW4iOiJodHRwczovL2dvb2dsZS5jb206NDQzIiwiZmVhdHVyZSI6IkRpc2FibGVUaGlyZFBhcnR5U3RvcmFnZVBhcnRpdGlvbmluZyIsImV4cGlyeSI6MTcyNTQwNzk5OSwiaXNTdWJkb21haW4iOnRydWUsImlzVGhpcmRQYXJ0eSI6dHJ1ZX0=\">\\n<meta http-equiv=\"Content-Type\" content=\"text/html; charset=UTF-8\">\\n\\n<script type=\"text/javascript\" async=\"\" src=\"https://www.google-analytics.com/analytics.js\"></script><script type=\"text/javascript\" async=\"\" src=\"https://www.googletagmanager.com/gtag/destination?id=G-KT7DRTSFL5&amp;l=dataLayer&amp;cx=c\"></script><script src=\"//bat.bing.com/bat.js\" async=\"\"></script><script type=\"text/javascript\" id=\"zsiqscript\" defer=\"\" src=\"https://salesiq.zoho.com/widget\"></script><script src=\"//bat.bing.com/bat.js\" async=\"\"></script><script type=\"text/javascript\" async=\"\" src=\"https://www.gstatic.com/recaptcha/releases/u-xcq3POCWFlCr3x8_IPxgPu/recaptcha__en.js\" crossorigin=\"anonymous\" integrity=\"sha384-CDkofqMo6hSAPRh2TZj9HOLusb5hze4z6vkh6YWvd810w+KTuT5lucK9hQN36Xh7\"></script><script type=\"text/javascript\" async=\"\" src=\"https://www.googletagmanager.com/gtag/js?id=UA-1399167-37&amp;l=dataLayer&amp;cx=c\"></script><script type=\"text/javascript\" src=\"/ruxitagentjs_ICA2NVfqru_10279231130031246.js\" data-dtconfig=\"rid=RID_1447456903|rpid=333292989|domain=walkerindustrial.com|reportUrl=/rb_bf64226adg|app=21aa3af8606471ce|cuc=8yp1p5ky|mel=100000|featureHash=ICA2NVfqru|ssv=4|lastModification=1702273408416|vcv=2|tp=500,50,0,1|rdnt=1|uxrgce=1|bp=3|agentUri=/ruxitagentjs_ICA2NVfqru_10279231130031246.js\"></script><script type=\"text/javascript\" src=\"/a/j/product_details.js\"></script>\\n\\t\\t\\t\\t<title>Bircher Reglomat SpotScan, 212174 Infrared Presence Sensor</title>\\n<meta name=\"description\" content=\"Bircher Reglomat SpotScan, 212174 Infrared Presence Sensor\">\\n<meta name=\"keywords\" content=\"Bircher Reglomat SpotScan, 212174 Infrared Presence Sensor\">\\n<meta property=\"og:title\" content=\"Bircher Reglomat SpotScan, 212174 Infrared Presence Sensor\">\\n<meta property=\"og:type\" content=\"product\">\\n<meta property=\"og:description\" content=\"Bircher Reglomat SpotScan, 212174 Infrared Presence Sensor\">\\n<meta property=\"og:site_name\" content=\"Walker Industrial - Automation Solutions Provider\">\\n<meta property=\"og:url\" content=\"https://www.walkerindustrial.com/product-p/212174.htm\">\\n<meta property=\"og:image\" content=\"https://www.walkerindustrial.com/v/vspfiles/photos/212174-2T.jpg\">\\n<meta name=\"robots\" content=\"index, follow\">\\n<meta name=\"GOOGLEBOT\" content=\"INDEX, FOLLOW\">\\n<meta name=\"google-site-verification\" content=\"HSG1MzTDw3Ww1MvWZqv8T4bUn-IWDQJ4eg4zA-wSHUw\">\\n<meta name=\"alexaVerifyID\" content=\"xnjcAobPqDK52dftEWF9LwEvHtQ\">\\n<meta name=\"msvalidate.01\" content=\"1468D12E8174444AAE67376FC99A2C6C\">\\n<meta name=\"baidu-site-verification\" content=\"vDEXy5pga2GpIAAm\">\\n\\n<link rel=\"canonical\" href=\"https://www.walkerindustrial.com/Bircher-Reglomat-212174-p/212174.htm\">\\n\\t\\t\\n<link type=\"text/css\" href=\"//ajax.googleapis.com/ajax/libs/jqueryui/1.8.4/themes/base/jquery-ui.css\" rel=\"stylesheet\">\\n<link type=\"text/css\" href=\"/a/c/default.css\" rel=\"stylesheet\">\\n\\n\\n\\n\\n\\n<script type=\"text/javascript\" src=\"https://code.jquery.com/jquery-1.12.4.min.js\"></script>\\n<script type=\"text/javascript\" src=\"/a/j/min/jquery-migrate-1.4.1-modified.min.js\"></script>\\n\\n<script type=\"text/javascript\" src=\"//ajax.googleapis.com/ajax/libs/jqueryui/1.8.4/jquery-ui.min.js\"></script>\\n\\n\\n\\n\\n<script type=\"text/javascript\">\\n\\tvar Config_VCompare_MaxProducts = \\'3\\';\\n\\tvar PageText_783 = \"Compare\";\\n\\tvar PageText_784 = \"Change Selections\";\\n\\tvar PageText_785 = \"You\\'ve attempted to select more than {0} items. Click {1} to continue with your initial {0} items or {2} to change your selections.\";\\n\\tvar PageText_819 = \"Product Comparison\";\\n    var PageText_822 = \"Compare\";\\n    var PageText_840 = \"Create Password\";\\n    var PageText_841 = \"Retype Pa'"
      ]
     },
     "execution_count": 100,
     "metadata": {},
     "output_type": "execute_result"
    }
   ],
   "source": [
    "detail_page_url_1 = 'https://www.endress.com/en/field-instruments-overview/level-measurement/Float-switch-Liquifloat-FTS20?t.tabId=product-overview'\n",
    "detail_page_url_2 = 'https://www.galco.com/cd1-k-400-30-131427.html'\n",
    "detail_page_url_3 = 'https://www.nriparts.com/products/masterflex-7017-20-miscellaneous/268086'\n",
    "detail_page_url_4 = 'https://www.palmindustrial.com/products/cole-parmer-masterflex-7017-20-peristaltic-pump-head'\n",
    "detail_page_url_5 = 'https://www.walkerindustrial.com/Bircher-Reglomat-212174-p/212174.htm'\n",
    "\n",
    "detail_page_url = detail_page_url_5\n",
    "\n",
    "\n",
    "detail_page_content = extract_html_from_web_page(detail_page_url)\n",
    "detail_page_content[:4000]"
   ]
  },
  {
   "cell_type": "code",
   "execution_count": 84,
   "id": "7c658800-2271-4bc9-999e-93749122a29b",
   "metadata": {},
   "outputs": [],
   "source": [
    "def pre_cleaning(soup):\n",
    "    for script in soup([\"script\", \"footer\", \"nav\", \"head\", \"style\"]):  # remove all javascript code\n",
    "        script.decompose()"
   ]
  },
  {
   "cell_type": "code",
   "execution_count": 101,
   "id": "2cb8f300-7573-4fc3-82f5-2f4a3e5a6d54",
   "metadata": {},
   "outputs": [],
   "source": [
    "soup = BeautifulSoup(detail_page_content, 'html.parser')\n",
    "\n",
    "pre_cleaning(soup)"
   ]
  },
  {
   "cell_type": "code",
   "execution_count": 86,
   "id": "06605365-90d6-4134-b5ca-826761f5395f",
   "metadata": {},
   "outputs": [],
   "source": [
    "\n",
    "def search_html_with_parents(soup, search_terms: List[str], max_token_length: int, parent_depth: int = 1) -> List[str]:\n",
    "    \"\"\"\n",
    "    Search for the provided terms in the given HTML content and return a list of relevant elements, including parent elements.\n",
    "\n",
    "    :param html_content: A string containing the HTML content.\n",
    "    :param search_terms: A list of search terms, ranked in order of estimated relevance.\n",
    "    :param max_token_length: The maximum token length for the final list.\n",
    "    :param parent_depth: The depth of parent elements to include.\n",
    "    :return: A list of HTML elements that contain the search terms, along with their parent elements.\n",
    "    \"\"\"\n",
    "    # Dictionary to hold search results: {term: [elements]}\n",
    "    search_results = {term: [] for term in search_terms}\n",
    "\n",
    "    for term in search_terms:\n",
    "        # Find all elements containing the term\n",
    "        for element in soup.find_all(text=re.compile(re.escape(term), re.IGNORECASE)):\n",
    "            current_element = element.parent\n",
    "            # Traverse up to the specified parent depth\n",
    "            for _ in range(parent_depth):\n",
    "                if current_element.parent is not None:\n",
    "                    current_element = current_element.parent\n",
    "            search_results[term].append(str(current_element))\n",
    "\n",
    "    # Populate the final list with elements, prioritizing earlier terms\n",
    "    final_list = []\n",
    "    total_tokens = 0\n",
    "\n",
    "    for term in search_terms:\n",
    "        for element in search_results[term]:\n",
    "            element_tokens = len(element.split())\n",
    "            if total_tokens + element_tokens > max_token_length:\n",
    "                return final_list  # Return the list if adding the element would exceed the token limit\n",
    "            final_list.append(element)\n",
    "            total_tokens += element_tokens\n",
    "\n",
    "    return final_list"
   ]
  },
  {
   "cell_type": "code",
   "execution_count": 87,
   "id": "b21f9952-7e76-4ea7-acf3-54470b9bbd11",
   "metadata": {},
   "outputs": [
    {
     "name": "stderr",
     "output_type": "stream",
     "text": [
      "/tmp/ipykernel_1398597/511472134.py:16: DeprecationWarning: The 'text' argument to find()-type methods is deprecated. Use 'string' instead.\n",
      "  for element in soup.find_all(text=re.compile(re.escape(term), re.IGNORECASE)):\n"
     ]
    },
    {
     "data": {
      "text/plain": [
       "['<div class=\"col-4\">\\n\\t\\t\\t\\t\\t\\t\\tMFG #: <strong>${ product.model }</strong>\\n</div>',\n",
       " '<div class=\"col-4\">\\n\\t\\t\\t\\t\\t\\t\\tProduct ID: <strong>${ getProductId() }</strong>\\n</div>']"
      ]
     },
     "execution_count": 87,
     "metadata": {},
     "output_type": "execute_result"
    }
   ],
   "source": [
    "\n",
    "# Example usage with parent depth:\n",
    "popular_currency_symbols = [\"$\", \"€\", \"£\", \"¥\", \"₹\", \"₽\", \"₩\", \"₣\", \"C$\", \"A$\", \"R$\", \"₺\", \"RM\", \"฿\", \"₱\", \"S$\", \"HK$\", \"NZ$\", \"kr\", \"zł\"]\n",
    "popular_currency_codes = [\"USD\", \"EUR\", \"GBP\", \"JPY\", \"INR\", \"RUB\", \"KRW\", \"CHF\", \"CAD\", \"AUD\", \"BRL\", \"TRY\", \"MYR\", \"THB\", \"PHP\", \"SGD\", \"HKD\", \"NZD\", \"SEK\", \"NOK\", \"DKK\", \"PLN\"]\n",
    "\n",
    "\n",
    "search_terms = popular_currency_symbols + popular_currency_codes\n",
    "max_token_length = 50  # Example token length limit\n",
    "parent_depth = 1\n",
    "\n",
    "matched_elements = search_html_with_parents(soup, search_terms, max_token_length, parent_depth)\n",
    "matched_elements = list(set(matched_elements))\n",
    "matched_elements"
   ]
  },
  {
   "cell_type": "code",
   "execution_count": 79,
   "id": "b233531d-9d1a-4b31-8030-f3c335a15ec5",
   "metadata": {},
   "outputs": [
    {
     "name": "stdout",
     "output_type": "stream",
     "text": [
      "0: '<span class=\"price-wrapper\" data-price-amount=\"1754.5000\" data-price-type=\"finalPrice\" id=\"product-price-7364554\">\n",
      "<span class=\"price\">$1,754.50</span>\n",
      "</span>'\n",
      "1: '<div class=\"modal-content\" data-role=\"content\" id=\"modal-content-29\"><div class=\"modal-component\" data-bind=\"css: modalClass, hasFocus: focused\">\n",
      "<!-- ko if: state() || $data.modal --><!-- /ko -->\n",
      "</div></div>'\n"
     ]
    }
   ],
   "source": [
    "matched_elements_str = '\\n'.join([f'{idx}: \\'{m}\\'' for idx, m in enumerate(matched_elements)])\n",
    "print(matched_elements_str)"
   ]
  },
  {
   "cell_type": "code",
   "execution_count": 80,
   "id": "f6da0b3c-3b9a-42b3-9a52-58e0ad74bdec",
   "metadata": {},
   "outputs": [],
   "source": [
    "system_message = \"\"\"\n",
    "You are automated web-crawler working as part of a product that helps blind people use websites. You have been\n",
    "provided with a numbered list og HTML elements. Given a directive, your job is to identify the single element that\n",
    "is most relevant to the directive. Return the number of the element, wrapped in curved parentheses.\n",
    "\n",
    "[Example 1]\n",
    "We are given the following elements:\n",
    "{\n",
    "  1: '<th scope=\"row\" class=\"infobox-label\"><div style=\";\">&nbsp;<a href=\"/wiki/President_of_the_United_States\"\n",
    "  title=\"President of the United States\"></a> </div></th>',\n",
    "  2: '<th scope=\"row\" class=\"infobox-label\"><div style=\";\">&nbsp;<a href=\"/wiki/Vice_President_of_the_United_States\"\n",
    "  title=\"Vice President of the United States\">Vice President</a> </div></th>'\n",
    "  3: '<tr><th scope=\"row\" class=\"infobox-label\"><a href=\"/wiki/Left-_and_right-hand_traffic\" title=\"Left- and right-hand traffic\">\n",
    "  Driving side</a></th><td class=\"infobox-data\">right<sup id=\"cite_ref-drive_23_0\" class=\"reference\"><a \n",
    "  href=\"#cite_note_drive-23\">[h]</a></sup></td></tr>'\n",
    "}\n",
    "And the following directive\n",
    "\"Find an element that relates to the driving side in the United States\"\n",
    "\n",
    "In this case, we can see that the third element contains the information we`re looking for, so we should return:\n",
    "'(3)'\n",
    "\n",
    "Keep in mind that the innerText of an element is not the only way in which it can relate to a directive. Sometimes the most relevant\n",
    "element will be a link to a new page whose title seems relevant.\n",
    "\n",
    "You must always return a number. If you don't find an element that is directly relevant, think abstractly, and consider which\n",
    "element may be directionally similar to the directive.\n",
    "\n",
    "For example, let's take Example 1 again, but with a new directive:\n",
    "\"Find information about the population of Washington D.C.\"\n",
    "\n",
    "In this case, none of the elements are directly relevant, but the first element is directionally similar, because the President of\n",
    "the United States lives in Washington D.C. So we should return:\n",
    "'(1)'\n",
    "\"\"\"\n",
    "\n",
    "user_request = \"\"\"\n",
    "As an automated web-crawler, please find relevant price and manufacturer details from the following elements:\n",
    "{{\n",
    "  {matched_elements}\n",
    "}}\n",
    "\"\"\".format(matched_elements=matched_elements_str)"
   ]
  },
  {
   "cell_type": "code",
   "execution_count": 81,
   "id": "390d5019-36b7-49fe-93f3-5bc6e164414e",
   "metadata": {},
   "outputs": [],
   "source": [
    "response = client.chat.completions.create(\n",
    "    model=\"gpt-4\",\n",
    "    messages=[\n",
    "        {\"role\": \"assistant\", \"content\": system_message},\n",
    "        {\"role\": \"user\", \"content\": user_request}\n",
    "    ],\n",
    "    stream=False,\n",
    ")\n",
    "# response"
   ]
  },
  {
   "cell_type": "code",
   "execution_count": 82,
   "id": "d7424685-c1fc-47c8-ade7-1c058a8b8ac2",
   "metadata": {},
   "outputs": [
    {
     "name": "stdout",
     "output_type": "stream",
     "text": [
      "The directive to find price and manufacturer details is most relevant to the first element, thus return:\n",
      "'(0)'\n"
     ]
    }
   ],
   "source": [
    "print(response.choices[0].message.content)"
   ]
  },
  {
   "cell_type": "code",
   "execution_count": 50,
   "id": "0d97012c-d502-446d-97fa-c9eb826e1521",
   "metadata": {},
   "outputs": [
    {
     "name": "stdout",
     "output_type": "stream",
     "text": [
      "\n",
      "As an automated web-crawler, please find relevant price and manufacturer details from the following elements:\n",
      "{\n",
      "  0: '<div class=\"eh-price-widget--price\">\n",
      "<span class=\"eh-price-widget--price-prefix eh-label eh-font-metrics--14-22\">from</span>\n",
      "<span class=\"eh-price-widget--price-formatted eh-label eh-font-metrics--20-26\">€59.00</span>\n",
      "</div>'\n",
      "1: '<div class=\"eh-price-widget--price\">\n",
      "<span class=\"eh-price-widget--price-prefix eh-label eh-font-metrics--14-22\">from</span>\n",
      "<span class=\"eh-price-widget--price-formatted eh-label eh-font-metrics--20-26\">€67.00</span>\n",
      "</div>'\n",
      "2: '<div class=\"eh-quickselector--product-price-scale-price-value eh-font-bold\">\n",
      "<span>€67.00</span>\n",
      "</div>'\n",
      "3: '<div class=\"eh-quickselector--product-price-scale-price-value eh-font-bold\">\n",
      "<span>€63.00</span>\n",
      "</div>'\n",
      "4: '<div class=\"eh-quickselector--product-price-scale-price-value eh-font-bold\">\n",
      "<span>€59.00</span>\n",
      "</div>'\n",
      "}\n",
      "\n"
     ]
    }
   ],
   "source": [
    "print(user_request)"
   ]
  },
  {
   "cell_type": "code",
   "execution_count": 98,
   "id": "ee177575-7c49-4a57-ad19-89e47888c2f6",
   "metadata": {},
   "outputs": [
    {
     "name": "stdout",
     "output_type": "stream",
     "text": [
      "\n",
      "NEED HELP? CALL US AT 949.446.6757Log inorCreate account\n",
      "Cart\n",
      "0US DollarEuroBritish Pound SterlingCanadian DollarAustralian Dollar  USD  US Dollar  Euro  British Pound Sterling  Canadian Dollar  Australian Dollar\n",
      "Search\n",
      "MenuUS DollarEuroBritish Pound SterlingCanadian DollarAustralian Dollar  USD  US Dollar  Euro  British Pound Sterling  Canadian Dollar  Australian DollarCart 0FIND YOUR PART\n",
      "+-\n",
      "PLC's\n",
      "AUTOMATION\n",
      "COMPUTER PARTS\n",
      "CONNECTORS\n",
      "ELECTRICAL\n",
      "CIRCUIT BREAKERS\n",
      "SENSORS\n",
      "SWAGELOK\n",
      "FITTINGS\n",
      "VALVES\n",
      "LAB EQUIPMENT\n",
      "TEST EQUIPMENT\n",
      "PNEUMATICS\n",
      "POWER SUPPLIES\n",
      "PUMPS\n",
      "BEARINGS\n",
      "NETWORKINGABOUT PALM INDUSTRIAL\n",
      "PRODUCT GUARANTEE\n",
      "Sell Your Surplus\n",
      "OUR PARENT COMPANYLog in\n",
      "Create account\n",
      "SearchNEED HELP? CALL US AT 949.446.6757\n",
      "FIND YOUR PART\n",
      "PLC's\n",
      "AUTOMATION\n",
      "COMPUTER PARTS\n",
      "CONNECTORS\n",
      "ELECTRICAL\n",
      "CIRCUIT BREAKERS\n",
      "SENSORS\n",
      "SWAGELOK\n",
      "FITTINGS\n",
      "VALVES\n",
      "LAB EQUIPMENT\n",
      "TEST EQUIPMENT\n",
      "PNEUMATICS\n",
      "POWER SUPPLIES\n",
      "PUMPS\n",
      "BEARINGS\n",
      "NETWORKING\n",
      "ABOUT PALM INDUSTRIAL\n",
      "PRODUCT GUARANTEE\n",
      "Sell Your Surplus\n",
      "OUR PARENT COMPANYcole parmer\n",
      "Cole Parmer Masterflex 7017-20 Peristaltic Pump Head\n",
      "$69.99\n",
      "Default Title\n",
      "Default Title - $69.99 USD \n",
      "QuantityAdd to CartUsed\n",
      "Cole Parmer Masterflex 7017-20 Peristaltic Pump HeadGUARANTEED TO BE IN WORKING ORDER UPON ARRIVAL.\n",
      "WE OFFER A 30 DAY RIGHT OF RETURN.\n",
      "All items have passed our QA testing and inspection Process.\n",
      "We have been in the Industrial and manufacturing supply field for over 18 years and take pride in providing our customers with THE BEST CUSTOMER SERVICE.\n",
      "We accept Paypal. Payment must be made within 1 days of item ending.\n",
      "We take great care in packaging your products and use only the best materials. We usually ship USPS for smaller 1st class domestic shipments. For larger items, we use FedEx, USPS, Fedex Smart Post or UPS. We also ship freight for very large and heavy items. In order to give you the lowest possible rate, we combine shipping charges on multiple orders. We take great care when packaging your items to make sure they arrive safely. \n",
      "ESD packaging will be used for all items that require it.\n",
      "Expedited shipping is available for an additional fee.\n",
      "INTERNATIONAL BUYERS – PLEASE NOTE: IMPORT DUTIES, TAXES, AND CHARGES ARE NOT INCLUDED IN THE ITEM PRICE OR SHIPPING COST. THESE CHARGES ARE THE BUYER'S RESPONSIBILITY. PLEASE CHECK WITH YOUR COUNTRY'S CUSTOMS OFFICE TO DETERMINE WHAT THESE ADDITIONAL COSTS WILL BE PRIOR TO BIDDING OR BUYING. \n",
      "We do our best to describe everything. If you have questions, please feel free to email us. We strive hard to make sure our customers are happy. We hope that you will find your purchase satisfying. If by chance there is an issue with your item, please let us know right away. We are always ready to address any concern.\n",
      "For order questions, customer service and technical support please contact us via the Ebay Message System/Contact Seller. \n",
      "Disclaimer:\n",
      "Palmindustrial  is a division of The Palm Group LLC. \n",
      "We sell new and surplus product and use diverse supply channels to purchase such product. \n",
      "Palmindustrial  and The Palm Group LLC  are not affiliated with nor are an authorized distributor or representative of any manufacturer, brand or product listed. \n",
      "All items sold by Palmindustrial are covered under Palmindustrial’s warranty and not the manufacturer warranty. \n",
      "Designated trademarks, brand names and brands appearing herein are the property of their respective owners.Share this ProductShareTweetPin itFancy\n",
      "+1Sale \tView full product details → \n",
      "Quantity\n",
      "Unavailable\n",
      "Sold Out \n"
     ]
    }
   ],
   "source": [
    "print(soup.get_text().replace('  ', '').replace('\\n\\n', ''))"
   ]
  },
  {
   "cell_type": "code",
   "execution_count": 102,
   "id": "8f4aa2fc-ae01-46d6-8521-87f3486d05f9",
   "metadata": {},
   "outputs": [
    {
     "name": "stdout",
     "output_type": "stream",
     "text": [
      "['/v/vspfiles/pdf/datasheet/Bircher/SpotScan-Datasheet.pdf', '/v/vspfiles/pdf/datasheet/Bircher/SpotScan-Usermanual.pdf']\n"
     ]
    }
   ],
   "source": [
    "# Regular expression pattern to match URLs ending in .pdf\n",
    "pdf_regex = re.compile('.+\\.pdf$')\n",
    "\n",
    "# Find all links that match the regex pattern\n",
    "pdf_links = [link.get('href') for link in soup.find_all('a', href=pdf_regex)]\n",
    "\n",
    "print(pdf_links)"
   ]
  },
  {
   "cell_type": "code",
   "execution_count": 103,
   "id": "ae3e363c-09c3-4702-b4b6-99f37cc94385",
   "metadata": {},
   "outputs": [],
   "source": [
    "response = client.chat.completions.create(\n",
    "    model=\"gpt-4\",\n",
    "    messages=[\n",
    "        {\"role\": \"assistant\", \"content\": system_message},\n",
    "        {\"role\": \"user\", \"content\": user_request}\n",
    "    ],\n",
    "    stream=False,\n",
    ")\n",
    "# response"
   ]
  },
  {
   "cell_type": "code",
   "execution_count": 104,
   "id": "4c895629-a00f-482b-9123-635809b5ddf3",
   "metadata": {},
   "outputs": [
    {
     "data": {
      "text/plain": [
       "ChatCompletion(id='chatcmpl-8ZvhLbXfH0Un0BLrmyevGAIUIzeKo', choices=[Choice(finish_reason='stop', index=0, message=ChatCompletionMessage(content=\"'(0)'\", role='assistant', function_call=None, tool_calls=None), logprobs=None)], created=1703573963, model='gpt-4-0613', object='chat.completion', system_fingerprint=None, usage=CompletionUsage(completion_tokens=3, prompt_tokens=632, total_tokens=635))"
      ]
     },
     "execution_count": 104,
     "metadata": {},
     "output_type": "execute_result"
    }
   ],
   "source": [
    "response"
   ]
  },
  {
   "cell_type": "code",
   "execution_count": null,
   "id": "83ab1776-5e46-4950-9b74-5163f6506fea",
   "metadata": {},
   "outputs": [],
   "source": []
  }
 ],
 "metadata": {
  "kernelspec": {
   "display_name": "virtualENV",
   "language": "python",
   "name": "virtualenv"
  },
  "language_info": {
   "codemirror_mode": {
    "name": "ipython",
    "version": 3
   },
   "file_extension": ".py",
   "mimetype": "text/x-python",
   "name": "python",
   "nbconvert_exporter": "python",
   "pygments_lexer": "ipython3",
   "version": "3.11.0"
  }
 },
 "nbformat": 4,
 "nbformat_minor": 5
}
