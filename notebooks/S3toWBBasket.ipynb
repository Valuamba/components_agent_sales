{
 "cells": [
  {
   "cell_type": "code",
   "execution_count": 3,
   "id": "60e1162f-8f91-49f1-a120-8ef047580df3",
   "metadata": {},
   "outputs": [],
   "source": [
    "import boto3\n",
    "from botocore.exceptions import NoCredentialsError\n",
    "\n",
    "def download_file_from_s3(bucket, url, item, region):\n",
    "    download_url = url.format(item, item)\n",
    "\n",
    "    # Create a file to save the downloaded content\n",
    "    try:\n",
    "        with open(item, 'wb') as file:\n",
    "\n",
    "            # Create a new session with S3 credentials\n",
    "            session = boto3.session.Session(\n",
    "                aws_access_key_id='GTFCGSSDTPICR71GOL6C',\n",
    "                aws_secret_access_key='9gVCJIDVIMYHbAWDvYP8HJNxuaLoiWtQxQClSBUk',\n",
    "                region_name=region\n",
    "            )\n",
    "\n",
    "            # Create a new S3 client\n",
    "            s3_client = session.client('s3')\n",
    "\n",
    "            # Perform the request to download the file\n",
    "            try:\n",
    "                response = s3_client.get_object(Bucket=bucket, Key=item)\n",
    "                file.write(response['Body'].read())\n",
    "                return file.name\n",
    "            except NoCredentialsError:\n",
    "                return \"Error: No credentials provided for S3 access.\"\n",
    "            except Exception as e:\n",
    "                return f\"Error downloading file: {str(e)}\"\n",
    "    except IOError as e:\n",
    "        return f\"Error creating file: {str(e)}\"\n",
    "\n",
    "# Usage\n",
    "\n"
   ]
  },
  {
   "cell_type": "code",
   "execution_count": 6,
   "id": "e4730eec-3dbd-497f-9dc7-fc6a6a564ddc",
   "metadata": {},
   "outputs": [
    {
     "name": "stdout",
     "output_type": "stream",
     "text": [
      "Error downloading file: An error occurred (InvalidAccessKeyId) when calling the GetObject operation: The AWS Access Key Id you provided does not exist in our records.\n"
     ]
    }
   ],
   "source": [
    "region = \"us-east-1\"\n",
    "bucket = \"scans\"\n",
    "item = \"112849\"\n",
    "# S3Host: https://swift.wildberries.ru/scans/%s/%s.jpg\n",
    "url = \"https://swift.wildberries.ru/scans/{}/{}.jpg\"\n",
    "\n",
    "downloaded_file = download_file_from_s3(bucket, url, item, region)\n",
    "print(downloaded_file)"
   ]
  },
  {
   "cell_type": "code",
   "execution_count": 10,
   "id": "515c4389-9456-4eb2-a2f1-7db5ffca6d17",
   "metadata": {},
   "outputs": [],
   "source": [
    "import boto3\n",
    "from botocore.config import Config\n",
    "\n",
    "def create_s3_client(access_key, secret_key, region, bucket, use_ssl):\n",
    "    # Configure the boto3 session\n",
    "    session = boto3.session.Session(\n",
    "        aws_access_key_id=access_key,\n",
    "        aws_secret_access_key=secret_key,\n",
    "        region_name=region\n",
    "    )\n",
    "\n",
    "    # Create an S3 client with the specified configurations\n",
    "    s3_client = session.client(\n",
    "        's3',\n",
    "        config=Config(signature_version='s3v4', s3={'addressing_style': 'path' if use_ssl else 'virtual'}),\n",
    "        use_ssl=use_ssl\n",
    "    )\n",
    "\n",
    "    return s3_client\n",
    "\n",
    "# Example usage\n",
    "appCfg = {\n",
    "    \"S3AccessKey\": \"GTFCGSSDTPICR71GOL6C\",\n",
    "    \"S3SecretKey\": \"9gVCJIDVIMYHbAWDvYP8HJNxuaLoiWtQxQClSBUk\",\n",
    "    \"S3Region\": \"us-east-1\",\n",
    "    \"S3Bucket\": \"scans\",\n",
    "    \"UseSSL\": True  # or False, depending on your requirement\n",
    "}\n",
    "\n",
    "s3_client = create_s3_client(\n",
    "    appCfg[\"S3AccessKey\"],\n",
    "    appCfg[\"S3SecretKey\"],\n",
    "    appCfg[\"S3Region\"],\n",
    "    appCfg[\"S3Bucket\"],\n",
    "    appCfg[\"UseSSL\"]\n",
    ")"
   ]
  },
  {
   "cell_type": "code",
   "execution_count": 11,
   "id": "9e198761-24b1-45ca-98b9-ca0d9bce0be1",
   "metadata": {},
   "outputs": [
    {
     "ename": "ClientError",
     "evalue": "An error occurred (InvalidAccessKeyId) when calling the ListBuckets operation: The AWS Access Key Id you provided does not exist in our records.",
     "output_type": "error",
     "traceback": [
      "\u001b[1;31m---------------------------------------------------------------------------\u001b[0m",
      "\u001b[1;31mClientError\u001b[0m                               Traceback (most recent call last)",
      "Cell \u001b[1;32mIn[11], line 1\u001b[0m\n\u001b[1;32m----> 1\u001b[0m \u001b[43ms3_client\u001b[49m\u001b[38;5;241;43m.\u001b[39;49m\u001b[43mlist_buckets\u001b[49m\u001b[43m(\u001b[49m\u001b[43m)\u001b[49m\n",
      "File \u001b[1;32m~\\components_agent_sales\\venv\\Lib\\site-packages\\botocore\\client.py:553\u001b[0m, in \u001b[0;36mClientCreator._create_api_method.<locals>._api_call\u001b[1;34m(self, *args, **kwargs)\u001b[0m\n\u001b[0;32m    549\u001b[0m     \u001b[38;5;28;01mraise\u001b[39;00m \u001b[38;5;167;01mTypeError\u001b[39;00m(\n\u001b[0;32m    550\u001b[0m         \u001b[38;5;124mf\u001b[39m\u001b[38;5;124m\"\u001b[39m\u001b[38;5;132;01m{\u001b[39;00mpy_operation_name\u001b[38;5;132;01m}\u001b[39;00m\u001b[38;5;124m() only accepts keyword arguments.\u001b[39m\u001b[38;5;124m\"\u001b[39m\n\u001b[0;32m    551\u001b[0m     )\n\u001b[0;32m    552\u001b[0m \u001b[38;5;66;03m# The \"self\" in this scope is referring to the BaseClient.\u001b[39;00m\n\u001b[1;32m--> 553\u001b[0m \u001b[38;5;28;01mreturn\u001b[39;00m \u001b[38;5;28;43mself\u001b[39;49m\u001b[38;5;241;43m.\u001b[39;49m\u001b[43m_make_api_call\u001b[49m\u001b[43m(\u001b[49m\u001b[43moperation_name\u001b[49m\u001b[43m,\u001b[49m\u001b[43m \u001b[49m\u001b[43mkwargs\u001b[49m\u001b[43m)\u001b[49m\n",
      "File \u001b[1;32m~\\components_agent_sales\\venv\\Lib\\site-packages\\botocore\\client.py:1009\u001b[0m, in \u001b[0;36mBaseClient._make_api_call\u001b[1;34m(self, operation_name, api_params)\u001b[0m\n\u001b[0;32m   1005\u001b[0m     error_code \u001b[38;5;241m=\u001b[39m error_info\u001b[38;5;241m.\u001b[39mget(\u001b[38;5;124m\"\u001b[39m\u001b[38;5;124mQueryErrorCode\u001b[39m\u001b[38;5;124m\"\u001b[39m) \u001b[38;5;129;01mor\u001b[39;00m error_info\u001b[38;5;241m.\u001b[39mget(\n\u001b[0;32m   1006\u001b[0m         \u001b[38;5;124m\"\u001b[39m\u001b[38;5;124mCode\u001b[39m\u001b[38;5;124m\"\u001b[39m\n\u001b[0;32m   1007\u001b[0m     )\n\u001b[0;32m   1008\u001b[0m     error_class \u001b[38;5;241m=\u001b[39m \u001b[38;5;28mself\u001b[39m\u001b[38;5;241m.\u001b[39mexceptions\u001b[38;5;241m.\u001b[39mfrom_code(error_code)\n\u001b[1;32m-> 1009\u001b[0m     \u001b[38;5;28;01mraise\u001b[39;00m error_class(parsed_response, operation_name)\n\u001b[0;32m   1010\u001b[0m \u001b[38;5;28;01melse\u001b[39;00m:\n\u001b[0;32m   1011\u001b[0m     \u001b[38;5;28;01mreturn\u001b[39;00m parsed_response\n",
      "\u001b[1;31mClientError\u001b[0m: An error occurred (InvalidAccessKeyId) when calling the ListBuckets operation: The AWS Access Key Id you provided does not exist in our records."
     ]
    }
   ],
   "source": [
    "s3_client.list_buckets()"
   ]
  },
  {
   "cell_type": "code",
   "execution_count": 12,
   "id": "a818d9be-853c-4cf8-9564-fe16bcfaa637",
   "metadata": {},
   "outputs": [],
   "source": [
    "import boto3\n",
    "from botocore.exceptions import ClientError\n",
    "\n",
    "def create_s3_session(access_key, secret_key, region, service_url, force_path):\n",
    "    try:\n",
    "        # Configure the boto3 session\n",
    "        session = boto3.session.Session(\n",
    "            aws_access_key_id=access_key,\n",
    "            aws_secret_access_key=secret_key,\n",
    "            region_name=region\n",
    "        )\n",
    "\n",
    "        # Create an S3 client with specific configuration\n",
    "        s3_client = session.client(\n",
    "            's3',\n",
    "            endpoint_url=service_url,\n",
    "            config=boto3.session.Config(s3={'addressing_style': 'path' if force_path else 'virtual'}),\n",
    "            use_ssl=service_url.startswith('https://')\n",
    "        )\n",
    "\n",
    "        return s3_client\n",
    "    except ClientError as e:\n",
    "        raise Exception(f\"Failed to create S3 session: {str(e)}\")\n"
   ]
  },
  {
   "cell_type": "code",
   "execution_count": 15,
   "id": "41f44577-e522-47bb-8a77-a477a1cbc51e",
   "metadata": {},
   "outputs": [],
   "source": [
    "\n",
    "# Example usage\n",
    "access_key = 'GTFCGSSDTPICR71GOL6C'\n",
    "secret_key = '9gVCJIDVIMYHbAWDvYP8HJNxuaLoiWtQxQClSBUk'\n",
    "region = 'us-east-1'\n",
    "service_url = 'https://swift.wildberries.ru'\n",
    "force_path = True  # or False\n",
    "\n",
    "s3_client = create_s3_session(access_key, secret_key, region, service_url, force_path)"
   ]
  },
  {
   "cell_type": "code",
   "execution_count": null,
   "id": "856c2c64-9055-47d0-9256-db39a515eb4c",
   "metadata": {},
   "outputs": [],
   "source": [
    "results = s3_client.list_buckets()"
   ]
  },
  {
   "cell_type": "code",
   "execution_count": 25,
   "id": "bced4419-5545-438d-ad8e-4e2eb1ec4d65",
   "metadata": {},
   "outputs": [],
   "source": [
    "results = s3_client.list_objects_v2(Bucket='scans')"
   ]
  },
  {
   "cell_type": "code",
   "execution_count": 28,
   "id": "30f907d3-01cc-4c8a-93cc-5dc5132e258e",
   "metadata": {},
   "outputs": [
    {
     "data": {
      "text/plain": [
       "998"
      ]
     },
     "execution_count": 28,
     "metadata": {},
     "output_type": "execute_result"
    }
   ],
   "source": [
    "len(results['Contents'])"
   ]
  },
  {
   "cell_type": "code",
   "execution_count": 30,
   "id": "f9c4b8d0-6a6b-4a6d-8af5-77f230227e0b",
   "metadata": {},
   "outputs": [
    {
     "data": {
      "text/plain": [
       "{'ResponseMetadata': {'RequestId': 'tx00000000000000000fc5c-0065ae886d-1a4e402d-datapro',\n",
       "  'HostId': '',\n",
       "  'HTTPStatusCode': 200,\n",
       "  'HTTPHeaders': {'content-length': '24682',\n",
       "   'accept-ranges': 'bytes',\n",
       "   'last-modified': 'Sun, 03 Sep 2023 01:54:01 GMT',\n",
       "   'x-rgw-object-type': 'Normal',\n",
       "   'etag': '\"482a15844e2010e832eb87ee75441bfd\"',\n",
       "   'x-amz-request-id': 'tx00000000000000000fc5c-0065ae886d-1a4e402d-datapro',\n",
       "   'content-type': 'binary/octet-stream',\n",
       "   'date': 'Mon, 22 Jan 2024 15:23:25 GMT'},\n",
       "  'RetryAttempts': 0},\n",
       " 'AcceptRanges': 'bytes',\n",
       " 'LastModified': datetime.datetime(2023, 9, 3, 1, 54, 1, tzinfo=tzutc()),\n",
       " 'ContentLength': 24682,\n",
       " 'ETag': '\"482a15844e2010e832eb87ee75441bfd\"',\n",
       " 'ContentType': 'binary/octet-stream',\n",
       " 'Metadata': {},\n",
       " 'Body': <botocore.response.StreamingBody at 0x1fe267f5360>}"
      ]
     },
     "execution_count": 30,
     "metadata": {},
     "output_type": "execute_result"
    }
   ],
   "source": [
    "s3_client.get_object(Bucket='scans', Key='843632/photo.jpg')"
   ]
  },
  {
   "cell_type": "code",
   "execution_count": null,
   "id": "0536e0c4-6f5f-48d7-9019-c44428bc7d16",
   "metadata": {},
   "outputs": [],
   "source": [
    "s3_client.list_objects_v2(Bucket='scans')"
   ]
  },
  {
   "cell_type": "code",
   "execution_count": null,
   "id": "8593d6f4-2b9e-4f6f-8401-3c810606b9d1",
   "metadata": {},
   "outputs": [],
   "source": []
  }
 ],
 "metadata": {
  "kernelspec": {
   "display_name": "venv",
   "language": "python",
   "name": "venv"
  },
  "language_info": {
   "codemirror_mode": {
    "name": "ipython",
    "version": 3
   },
   "file_extension": ".py",
   "mimetype": "text/x-python",
   "name": "python",
   "nbconvert_exporter": "python",
   "pygments_lexer": "ipython3",
   "version": "3.12.1"
  }
 },
 "nbformat": 4,
 "nbformat_minor": 5
}
