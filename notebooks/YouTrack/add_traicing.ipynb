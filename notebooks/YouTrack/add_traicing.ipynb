{
 "cells": [
  {
   "cell_type": "code",
   "execution_count": 1,
   "id": "7182e669-3e28-477a-aff7-59241b7e5686",
   "metadata": {},
   "outputs": [],
   "source": [
    "from pydantic import BaseModel, Field, HttpUrl\n",
    "from typing import List\n",
    "import configparser\n",
    "\n",
    "# Define Pydantic models for each config section\n",
    "class YouTrackConfig(BaseModel):\n",
    "    Token: str\n",
    "    BaseUrl: str\n",
    "\n",
    "class VsemRabotaConfig(BaseModel):\n",
    "    ProjectId: str\n",
    "    WBTeam: List[str] = Field(default_factory=list)\n",
    "    Name: str\n",
    "\n",
    "# Main configuration model that includes both sections\n",
    "class AppConfig(BaseModel):\n",
    "    YouTrack: YouTrackConfig\n",
    "    VsemRabota: VsemRabotaConfig\n",
    "\n",
    "# Parse the INI file\n",
    "def parse_config_to_model(config_file: str) -> AppConfig:\n",
    "    config = configparser.ConfigParser()\n",
    "    config.read(config_file)\n",
    "    \n",
    "    # YouTrack section\n",
    "    youtrack_token = config.get('YouTrack', 'Token').strip(\"'\")\n",
    "    youtrack_base_url = config.get('YouTrack', 'BaseUrl')\n",
    "    \n",
    "    # VsemRabota Config section\n",
    "    project_id = config.get('VsemRabota Config', 'ProjectId')\n",
    "    name = config.get('VsemRabota Config', 'Name')\n",
    "    wb_team = config.get('VsemRabota Config', 'WBTeam').split(', ')\n",
    "    \n",
    "    # Create instances of the models\n",
    "    youtrack_config = YouTrackConfig(Token=youtrack_token, BaseUrl=youtrack_base_url)\n",
    "    vsem_rabota_config = VsemRabotaConfig(ProjectId=project_id, WBTeam=wb_team, Name=name)\n",
    "    \n",
    "    # Aggregate into the main config model\n",
    "    app_config = AppConfig(YouTrack=youtrack_config, VsemRabota=vsem_rabota_config)\n",
    "    \n",
    "    return app_config"
   ]
  },
  {
   "cell_type": "code",
   "execution_count": 2,
   "id": "b34bd717-0041-444d-b458-052088df0bc3",
   "metadata": {},
   "outputs": [
    {
     "name": "stdout",
     "output_type": "stream",
     "text": [
      "YouTrack=YouTrackConfig(Token='perm:VmFsZW50aW5fTWFyY2h1aw==.NjktMzE1.IgVAwvLdgn8H1dpNCX2FOS9T0Yhdpn', BaseUrl='https://youtrack.wildberries.ru') VsemRabota=VsemRabotaConfig(ProjectId='77-167', WBTeam=['Valentin_Marchuk', 'Liventsev_sergei'], Name='VsemRabota')\n"
     ]
    }
   ],
   "source": [
    "config_file = 'yt.ini'  # Update this path\n",
    "config_model = parse_config_to_model(config_file)\n",
    "print(config_model)"
   ]
  },
  {
   "cell_type": "code",
   "execution_count": null,
   "id": "a5b314ba-b5ba-4602-8625-ac76fe2f1912",
   "metadata": {},
   "outputs": [],
   "source": [
    "import requests\n",
    "\n",
    "headers = {\n",
    "    'Authorization': f'Bearer {config_model.YouTrack.Token}',\n",
    "    'Content-Type': 'application/json',\n",
    "}\n",
    "\n",
    "search_query = 'Business Line:HR   State: Resolved sort by: {Threat Score} desc'\n",
    "\n",
    "response = requests.get(f'{config_model.YouTrack.Token}/api/issues?query={search_query}', headers=headers)"
   ]
  },
  {
   "cell_type": "code",
   "execution_count": 47,
   "id": "9a330715-f167-4d5e-838e-21f266f4d60a",
   "metadata": {},
   "outputs": [],
   "source": [
    "import requests\n",
    "from urllib.parse import urlencode\n",
    "\n",
    "class YouTrackAPIError(Exception):\n",
    "    \"\"\"Exception raised for errors in the YouTrack API.\"\"\"\n",
    "    def __init__(self, status_code, message):\n",
    "        super().__init__(f\"HTTP {status_code}: {message}\")\n",
    "        self.status_code = status_code\n",
    "        self.message = message\n",
    "\n",
    "class YouTrackClient:\n",
    "    def __init__(self, config):\n",
    "        self.config = config\n",
    "        self.headers = {\n",
    "            'Authorization': f'Bearer {self.config.Token}',\n",
    "            'Content-Type': 'application/json',\n",
    "        }\n",
    "\n",
    "    #     headers = {\n",
    "    #     'Authorization': f'Bearer {api_token}',\n",
    "    #     'Content-Type': 'application/json',\n",
    "    # }\n",
    "\n",
    "    def get(self, endpoint: str, params: dict = None) -> dict:\n",
    "        \"\"\"Sends a GET request to a specified endpoint with optional query parameters.\"\"\"\n",
    "        url = f\"{self.config.BaseUrl}{endpoint}\"\n",
    "        # param_str = '&'.join([f'{key}={value}' for key, value in params.items()])\n",
    "        if params:\n",
    "            url += f\"?{urlencode(params)}\"\n",
    "        try:\n",
    "            response = requests.get(url, headers=self.headers)\n",
    "            response.raise_for_status()\n",
    "            return response.json()\n",
    "        except requests.exceptions.HTTPError as e:\n",
    "            raise YouTrackAPIError(response.status_code, response.text) from e\n",
    "\n",
    "    def post(self, endpoint: str, data: dict = None) -> dict:\n",
    "        \"\"\"Sends a POST request to a specified endpoint with optional JSON data.\"\"\"\n",
    "        url = f\"{self.config.BaseUrl}{endpoint}\"\n",
    "        try:\n",
    "            response = requests.post(url, json=data, headers=self.headers)\n",
    "            response.raise_for_status()\n",
    "            return response.json()\n",
    "        except requests.exceptions.HTTPError as e:\n",
    "            raise YouTrackAPIError(response.status_code, response.text) from e\n",
    "\n",
    "    def get_issues(self, search_query: str, additional_params: dict = None) -> dict:\n",
    "        \"\"\"\n",
    "        Retrieves issues from YouTrack based on a search query and additional parameters.\n",
    "\n",
    "        :param search_query: A string representing the search query for filtering issues.\n",
    "        :param additional_params: Optional dictionary of additional query parameters.\n",
    "        :return: A dictionary containing the API response with issues.\n",
    "        \"\"\"\n",
    "        params = {'query': search_query}\n",
    "        if additional_params:\n",
    "            params.update(additional_params)\n",
    "        \n",
    "        return self.get('/api/issues', params=params)\n",
    "\n",
    "    def get_issue(self, issue_id, fields=None):\n",
    "        issue_fields = [\n",
    "            'id', 'idReadable', 'summary', 'description', 'reporter(id,login,fullName)',\n",
    "            'customFields($type,id,projectCustomField($type,id,field($type,id,name)),value($type,avatarUrl,buildLink,color(id),fullName,id,isResolved,localizedName,login,minutes,name,presentation,text))',\n",
    "            'linkType(name,sourceToTarget,targetToSource)',\n",
    "            'issues(id,idReadable,summary)'\n",
    "        ]\n",
    "        \n",
    "        if fields is None:\n",
    "            fields = 'id,idReadable,summary,description,customFields(id,projectCustomField(field(name))),linkType(name,sourceToTarget,targetToSource),issues(id,idReadable,summary)'\n",
    "            fields = ','.join(issue_fields)\n",
    "\n",
    "        params = {\n",
    "            'fields': fields\n",
    "        }\n",
    "\n",
    "        return self.get(f'/api/issues/{issue_id}', params=params)\n",
    "\n",
    "    def get_field(self, issue_id, field_id):\n",
    "        params = {'fields': 'id,projectCustomField(id,field(id,name)),value(id,isResolved,localizedName,name)'}\n",
    "        return self.get(f'/api/issues/{issue_id}/customFields/{field_id}', params=params)\n",
    "\n",
    "    def get_issue_history(self, issue_id):\n",
    "        'api/issues/SP-32/activities'\n",
    "\n",
    "        params = {\n",
    "            'categories': 'CustomFieldCategory,CommentsCategory',\n",
    "            'fields': 'author(name,login),timestamp,target(text),added(name),removed(name)'\n",
    "        }\n",
    "        return self.get(f'/api/issues/{issue_id}/activities', params=params)\n",
    "\n",
    "    def get_projects(self, additional_params: dict = None):\n",
    "        leader_fields = ['login', 'name', 'id']\n",
    "        createdby_fields = ['login', 'name', 'id']\n",
    "        \n",
    "        params = {'fields': 'id,name,shortName,createdBy(login,name,id),leader(login,name,id),key'}\n",
    "        if additional_params:\n",
    "            params.update(additional_params)\n",
    "        \n",
    "        return self.get('/api/admin/projects', params=params)\n",
    "    "
   ]
  },
  {
   "cell_type": "code",
   "execution_count": 32,
   "id": "4882c7de-56d6-4158-98ca-b707a92f5b59",
   "metadata": {},
   "outputs": [],
   "source": [
    "# youtrack_config = YouTrackConfig(Token='your_token_here', BaseUrl='https://your-instance.myjetbrains.com/youtrack')\n",
    "youtrack_client = YouTrackClient(config=config_model.YouTrack)\n",
    "        "
   ]
  },
  {
   "cell_type": "code",
   "execution_count": null,
   "id": "3a0bc63f-9833-49a7-b82f-1f398fe06464",
   "metadata": {},
   "outputs": [],
   "source": [
    "resp = youtrack_client.get_issue('VR-2934')\n",
    "\n",
    "# resp['customFields']\n",
    "resp\n"
   ]
  },
  {
   "cell_type": "code",
   "execution_count": 88,
   "id": "6a50dbbd-7fa3-45ac-a118-0c0c31fcf26b",
   "metadata": {},
   "outputs": [],
   "source": [
    "def get_customfield_value(customfield, issue):\n",
    "    return next(r['value'] for r in issue['customFields'] if r['projectCustomField']['field']['name'] == customfield)\n",
    "\n",
    "def get_issue_authority(issue):\n",
    "    assignee = get_customfield_value('Assignee', issue)\n",
    "    reviewer = get_customfield_value('Reviewer [HR]', issue)\n",
    "    product = get_customfield_value('Product', issue)\n",
    "    reporter = resp['reporter']['fullName']\n",
    "\n",
    "    return {\n",
    "        'assignee': assignee['fullName'] if assignee else None,\n",
    "        'reviewer': reviewer['fullName'] if reviewer else None,\n",
    "        'products': [p['name'] for p in product],\n",
    "        'reporter': reporter\n",
    "    }"
   ]
  },
  {
   "cell_type": "code",
   "execution_count": null,
   "id": "f0b3a404-2fa7-424f-8527-e2dedaced43d",
   "metadata": {},
   "outputs": [],
   "source": [
    "import pandas as pd\n",
    "\n",
    "file_path = r'C:\\Users\\MGroup\\Downloads\\VULN tokens.csv'\n",
    "df = pd.read_csv(file_path)\n",
    "\n",
    "issues = list(dict.fromkeys(df['Ссылка на youtrack'].values.tolist()))\n",
    "issues = [ i.replace('https://youtrack.wildberries.ru/issue/', '') for i in issues]\n",
    "issues"
   ]
  },
  {
   "cell_type": "code",
   "execution_count": null,
   "id": "5827b80d-68c1-4f7b-b19e-cc4b1ffa2caf",
   "metadata": {},
   "outputs": [],
   "source": [
    "df"
   ]
  },
  {
   "cell_type": "code",
   "execution_count": null,
   "id": "4de0dd3d-2f38-4d71-afd5-5c2252b19a61",
   "metadata": {},
   "outputs": [],
   "source": [
    "issues_authority = []\n",
    "for id in issues:\n",
    "    issue = youtrack_client.get_issue(id)\n",
    "    if issue is None:\n",
    "        print(f'Issue {id} was not found.')\n",
    "        continue\n",
    "    issue_authority = get_issue_authority(issue)\n",
    "    issues_authority.append({\n",
    "         'issue_id': id,\n",
    "        **issue_authority\n",
    "    })\n",
    "\n",
    "\n",
    "issues_authority"
   ]
  },
  {
   "cell_type": "code",
   "execution_count": 95,
   "id": "e2ae053d-14d7-402a-8ad3-8eda1a440287",
   "metadata": {},
   "outputs": [],
   "source": [
    "df['issue_id'] = df['Ссылка на youtrack'].str.extract(r'issue/(VR-\\d+)')\n",
    "\n",
    "json_df = pd.DataFrame(issues_authority)\n",
    "merged_df = pd.merge(df, json_df, on=\"issue_id\", how=\"left\")\n",
    "\n",
    "merged_df.to_csv('vulns.csv')"
   ]
  },
  {
   "cell_type": "code",
   "execution_count": 104,
   "id": "056d3a39-2d75-4ad9-abfa-de8d566b87c3",
   "metadata": {},
   "outputs": [
    {
     "data": {
      "text/plain": [
       "0        WB Team\n",
       "1        WB Team\n",
       "2        WB Team\n",
       "3        WB Team\n",
       "4       ATS Team\n",
       "         ...    \n",
       "72      ATS Team\n",
       "73    Empty Team\n",
       "74    Empty Team\n",
       "75    Empty Team\n",
       "76    Empty Team\n",
       "Name: products, Length: 77, dtype: object"
      ]
     },
     "execution_count": 104,
     "metadata": {},
     "output_type": "execute_result"
    }
   ],
   "source": [
    "merged_df['products'].apply(assign_team)"
   ]
  },
  {
   "cell_type": "code",
   "execution_count": null,
   "id": "78e038f7-8b8e-4b01-8537-908ebd78ff17",
   "metadata": {},
   "outputs": [],
   "source": [
    "\n",
    "# Define a function to determine the team based on the product\n",
    "def assign_team(products):\n",
    "    if any(product in ['admin', 'vsemrabota', 'wbteam'] for product in products):\n",
    "        return 'WB Team'\n",
    "    elif 'ats' in products:\n",
    "        return 'ATS Team'\n",
    "    else:\n",
    "        return 'Empty Team'\n",
    "\n",
    "# Apply the function to create a new 'Team' column\n",
    "merged_df['Team'] = merged_df['products'].apply(assign_team)\n",
    "\n",
    "# Group by 'Team' and then by 'issue_id', and collect tokens\n",
    "grouped_data = merged_df.groupby(['Team', 'issue_id'])['Секрет'].apply(list)\n",
    "\n",
    "output_format = {}\n",
    "for (team, issue_id), tokens in grouped_data.items():\n",
    "    if team not in output_format:\n",
    "        output_format[team] = []\n",
    "    output_format[team].append((issue_id, tokens))\n",
    "\n",
    "# Print in the desired format\n",
    "for team, issues in output_format.items():\n",
    "    print(f\"{team}:\")\n",
    "    for issue_id, tokens in issues:\n",
    "        print(f\"{issue_id}\")\n",
    "        for token in tokens:\n",
    "            print(f\"- {token}\")\n",
    "    print(\"\\n\")"
   ]
  },
  {
   "cell_type": "code",
   "execution_count": 108,
   "id": "88c2584d-e31e-42fe-96d8-638a0e5f452b",
   "metadata": {},
   "outputs": [],
   "source": [
    "merged_df.to_csv('vulns.csv')"
   ]
  },
  {
   "cell_type": "code",
   "execution_count": 20,
   "id": "5abcbe72-0cff-429d-9f92-13279a7adcb0",
   "metadata": {},
   "outputs": [
    {
     "name": "stdout",
     "output_type": "stream",
     "text": [
      "[{'id': '92-715620', '$type': 'Issue'}, {'id': '92-730734', '$type': 'Issue'}, {'id': '92-887120', '$type': 'Issue'}, {'id': '92-732032', '$type': 'Issue'}, {'id': '92-779165', '$type': 'Issue'}, {'id': '92-860643', '$type': 'Issue'}, {'id': '92-778840', '$type': 'Issue'}, {'id': '92-690675', '$type': 'Issue'}, {'id': '92-690639', '$type': 'Issue'}, {'id': '92-690615', '$type': 'Issue'}, {'id': '92-721263', '$type': 'Issue'}, {'id': '92-708541', '$type': 'Issue'}, {'id': '92-722135', '$type': 'Issue'}, {'id': '92-584660', '$type': 'Issue'}, {'id': '92-803271', '$type': 'Issue'}, {'id': '92-803320', '$type': 'Issue'}, {'id': '92-672794', '$type': 'Issue'}, {'id': '92-686096', '$type': 'Issue'}, {'id': '92-685816', '$type': 'Issue'}, {'id': '92-729859', '$type': 'Issue'}, {'id': '92-732665', '$type': 'Issue'}, {'id': '92-730768', '$type': 'Issue'}, {'id': '92-693085', '$type': 'Issue'}, {'id': '92-730682', '$type': 'Issue'}, {'id': '92-777825', '$type': 'Issue'}, {'id': '92-1029406', '$type': 'Issue'}, {'id': '92-838827', '$type': 'Issue'}]\n"
     ]
    }
   ],
   "source": [
    "issues = youtrack_client.get('/api/issues', params={'query': 'Business Line:HR   State: Resolved sort by: {Threat Score} desc'})\n",
    "print(issues)"
   ]
  },
  {
   "cell_type": "code",
   "execution_count": null,
   "id": "2e326394-7444-4a4f-87ad-8410b2eaebdb",
   "metadata": {},
   "outputs": [],
   "source": [
    "youtrack_client.get_issues('Business Line:HR   State: Resolved sort by: {Threat Score} desc')"
   ]
  },
  {
   "cell_type": "code",
   "execution_count": null,
   "id": "5cb6ba9f-cbcd-4a53-9204-7d61bdf7b1d6",
   "metadata": {},
   "outputs": [],
   "source": [
    "projects = youtrack_client.get_projects(\n",
    "    {'$top': '100', '$skip': '300'}\n",
    ")\n",
    "projects"
   ]
  },
  {
   "cell_type": "code",
   "execution_count": 44,
   "id": "c4042c48-15f6-4613-8962-99ad5bb9e6b2",
   "metadata": {},
   "outputs": [
    {
     "name": "stdout",
     "output_type": "stream",
     "text": [
      "query=Reviewer [HR]: Valentin_Marchuk, Vansevich.E, Mikhail_Shogin, grigorev.mark , Vitaliy_Guselnikov, aleksandrov.e23, krupenko.ilya, mustafetov.n , goncharov.v38, korolev.artem14  and State: Review \n"
     ]
    },
    {
     "data": {
      "text/plain": [
       "[{'id': '92-1177453', '$type': 'Issue'},\n",
       " {'id': '92-1106073', '$type': 'Issue'},\n",
       " {'id': '92-1177548', '$type': 'Issue'},\n",
       " {'id': '92-1101380', '$type': 'Issue'},\n",
       " {'id': '92-975486', '$type': 'Issue'},\n",
       " {'id': '92-1072736', '$type': 'Issue'},\n",
       " {'id': '92-1072253', '$type': 'Issue'},\n",
       " {'id': '92-1022092', '$type': 'Issue'},\n",
       " {'id': '92-1136199', '$type': 'Issue'},\n",
       " {'id': '92-1078352', '$type': 'Issue'},\n",
       " {'id': '92-1078349', '$type': 'Issue'},\n",
       " {'id': '92-1074757', '$type': 'Issue'},\n",
       " {'id': '92-1082991', '$type': 'Issue'},\n",
       " {'id': '92-1039379', '$type': 'Issue'},\n",
       " {'id': '92-1182121', '$type': 'Issue'},\n",
       " {'id': '92-1171940', '$type': 'Issue'},\n",
       " {'id': '92-1143505', '$type': 'Issue'},\n",
       " {'id': '92-1116084', '$type': 'Issue'},\n",
       " {'id': '92-1152478', '$type': 'Issue'},\n",
       " {'id': '92-1100264', '$type': 'Issue'},\n",
       " {'id': '92-944109', '$type': 'Issue'},\n",
       " {'id': '92-884017', '$type': 'Issue'},\n",
       " {'id': '92-884024', '$type': 'Issue'},\n",
       " {'id': '92-887370', '$type': 'Issue'},\n",
       " {'id': '92-1074057', '$type': 'Issue'}]"
      ]
     },
     "execution_count": 44,
     "metadata": {},
     "output_type": "execute_result"
    }
   ],
   "source": [
    "resp = youtrack_client.get_issues('Reviewer [HR]: Valentin_Marchuk, Vansevich.E, Mikhail_Shogin, grigorev.mark , Vitaliy_Guselnikov, aleksandrov.e23, krupenko.ilya, mustafetov.n , goncharov.v38, korolev.artem14  and State: Review ')\n",
    "resp"
   ]
  },
  {
   "cell_type": "code",
   "execution_count": 45,
   "id": "2595f651-974d-4298-856b-08156713e536",
   "metadata": {},
   "outputs": [
    {
     "name": "stdout",
     "output_type": "stream",
     "text": [
      "92-1177453\n",
      "fields=id,idReadable,summary,description,reporter(id,login,fullName),customFields($type,id,projectCustomField($type,id,field($type,id,name)),value($type,avatarUrl,buildLink,color(id),fullName,id,isResolved,localizedName,login,minutes,name,presentation,text)),linkType(name,sourceToTarget,targetToSource),issues(id,idReadable,summary)\n",
      "categories=CustomFieldCategory,CommentsCategory&fields=author(name,login),timestamp,target(text),added(name),removed(name)\n"
     ]
    },
    {
     "name": "stderr",
     "output_type": "stream",
     "text": [
      "C:\\Users\\MGroup\\AppData\\Local\\Temp\\ipykernel_28028\\1595032851.py:15: DeprecationWarning: datetime.datetime.utcfromtimestamp() is deprecated and scheduled for removal in a future version. Use timezone-aware objects to represent datetimes in UTC: datetime.datetime.fromtimestamp(timestamp, datetime.UTC).\n",
      "  latest_review_time = datetime.utcfromtimestamp(latest_review_timestamp_seconds)\n",
      "C:\\Users\\MGroup\\AppData\\Local\\Temp\\ipykernel_28028\\1595032851.py:16: DeprecationWarning: datetime.datetime.utcnow() is deprecated and scheduled for removal in a future version. Use timezone-aware objects to represent datetimes in UTC: datetime.datetime.now(datetime.UTC).\n",
      "  current_time = datetime.utcnow()\n"
     ]
    },
    {
     "name": "stdout",
     "output_type": "stream",
     "text": [
      "92-1106073\n",
      "fields=id,idReadable,summary,description,reporter(id,login,fullName),customFields($type,id,projectCustomField($type,id,field($type,id,name)),value($type,avatarUrl,buildLink,color(id),fullName,id,isResolved,localizedName,login,minutes,name,presentation,text)),linkType(name,sourceToTarget,targetToSource),issues(id,idReadable,summary)\n",
      "categories=CustomFieldCategory,CommentsCategory&fields=author(name,login),timestamp,target(text),added(name),removed(name)\n",
      "92-1177548\n",
      "fields=id,idReadable,summary,description,reporter(id,login,fullName),customFields($type,id,projectCustomField($type,id,field($type,id,name)),value($type,avatarUrl,buildLink,color(id),fullName,id,isResolved,localizedName,login,minutes,name,presentation,text)),linkType(name,sourceToTarget,targetToSource),issues(id,idReadable,summary)\n",
      "categories=CustomFieldCategory,CommentsCategory&fields=author(name,login),timestamp,target(text),added(name),removed(name)\n",
      "92-1101380\n",
      "fields=id,idReadable,summary,description,reporter(id,login,fullName),customFields($type,id,projectCustomField($type,id,field($type,id,name)),value($type,avatarUrl,buildLink,color(id),fullName,id,isResolved,localizedName,login,minutes,name,presentation,text)),linkType(name,sourceToTarget,targetToSource),issues(id,idReadable,summary)\n",
      "categories=CustomFieldCategory,CommentsCategory&fields=author(name,login),timestamp,target(text),added(name),removed(name)\n",
      "92-975486\n",
      "fields=id,idReadable,summary,description,reporter(id,login,fullName),customFields($type,id,projectCustomField($type,id,field($type,id,name)),value($type,avatarUrl,buildLink,color(id),fullName,id,isResolved,localizedName,login,minutes,name,presentation,text)),linkType(name,sourceToTarget,targetToSource),issues(id,idReadable,summary)\n",
      "categories=CustomFieldCategory,CommentsCategory&fields=author(name,login),timestamp,target(text),added(name),removed(name)\n",
      "92-1072736\n",
      "fields=id,idReadable,summary,description,reporter(id,login,fullName),customFields($type,id,projectCustomField($type,id,field($type,id,name)),value($type,avatarUrl,buildLink,color(id),fullName,id,isResolved,localizedName,login,minutes,name,presentation,text)),linkType(name,sourceToTarget,targetToSource),issues(id,idReadable,summary)\n",
      "categories=CustomFieldCategory,CommentsCategory&fields=author(name,login),timestamp,target(text),added(name),removed(name)\n",
      "92-1072253\n",
      "fields=id,idReadable,summary,description,reporter(id,login,fullName),customFields($type,id,projectCustomField($type,id,field($type,id,name)),value($type,avatarUrl,buildLink,color(id),fullName,id,isResolved,localizedName,login,minutes,name,presentation,text)),linkType(name,sourceToTarget,targetToSource),issues(id,idReadable,summary)\n",
      "categories=CustomFieldCategory,CommentsCategory&fields=author(name,login),timestamp,target(text),added(name),removed(name)\n",
      "92-1022092\n",
      "fields=id,idReadable,summary,description,reporter(id,login,fullName),customFields($type,id,projectCustomField($type,id,field($type,id,name)),value($type,avatarUrl,buildLink,color(id),fullName,id,isResolved,localizedName,login,minutes,name,presentation,text)),linkType(name,sourceToTarget,targetToSource),issues(id,idReadable,summary)\n",
      "categories=CustomFieldCategory,CommentsCategory&fields=author(name,login),timestamp,target(text),added(name),removed(name)\n",
      "92-1136199\n",
      "fields=id,idReadable,summary,description,reporter(id,login,fullName),customFields($type,id,projectCustomField($type,id,field($type,id,name)),value($type,avatarUrl,buildLink,color(id),fullName,id,isResolved,localizedName,login,minutes,name,presentation,text)),linkType(name,sourceToTarget,targetToSource),issues(id,idReadable,summary)\n",
      "categories=CustomFieldCategory,CommentsCategory&fields=author(name,login),timestamp,target(text),added(name),removed(name)\n",
      "92-1078352\n",
      "fields=id,idReadable,summary,description,reporter(id,login,fullName),customFields($type,id,projectCustomField($type,id,field($type,id,name)),value($type,avatarUrl,buildLink,color(id),fullName,id,isResolved,localizedName,login,minutes,name,presentation,text)),linkType(name,sourceToTarget,targetToSource),issues(id,idReadable,summary)\n",
      "categories=CustomFieldCategory,CommentsCategory&fields=author(name,login),timestamp,target(text),added(name),removed(name)\n",
      "92-1078349\n",
      "fields=id,idReadable,summary,description,reporter(id,login,fullName),customFields($type,id,projectCustomField($type,id,field($type,id,name)),value($type,avatarUrl,buildLink,color(id),fullName,id,isResolved,localizedName,login,minutes,name,presentation,text)),linkType(name,sourceToTarget,targetToSource),issues(id,idReadable,summary)\n",
      "categories=CustomFieldCategory,CommentsCategory&fields=author(name,login),timestamp,target(text),added(name),removed(name)\n",
      "92-1074757\n",
      "fields=id,idReadable,summary,description,reporter(id,login,fullName),customFields($type,id,projectCustomField($type,id,field($type,id,name)),value($type,avatarUrl,buildLink,color(id),fullName,id,isResolved,localizedName,login,minutes,name,presentation,text)),linkType(name,sourceToTarget,targetToSource),issues(id,idReadable,summary)\n",
      "categories=CustomFieldCategory,CommentsCategory&fields=author(name,login),timestamp,target(text),added(name),removed(name)\n",
      "92-1082991\n",
      "fields=id,idReadable,summary,description,reporter(id,login,fullName),customFields($type,id,projectCustomField($type,id,field($type,id,name)),value($type,avatarUrl,buildLink,color(id),fullName,id,isResolved,localizedName,login,minutes,name,presentation,text)),linkType(name,sourceToTarget,targetToSource),issues(id,idReadable,summary)\n",
      "categories=CustomFieldCategory,CommentsCategory&fields=author(name,login),timestamp,target(text),added(name),removed(name)\n",
      "92-1039379\n",
      "fields=id,idReadable,summary,description,reporter(id,login,fullName),customFields($type,id,projectCustomField($type,id,field($type,id,name)),value($type,avatarUrl,buildLink,color(id),fullName,id,isResolved,localizedName,login,minutes,name,presentation,text)),linkType(name,sourceToTarget,targetToSource),issues(id,idReadable,summary)\n",
      "categories=CustomFieldCategory,CommentsCategory&fields=author(name,login),timestamp,target(text),added(name),removed(name)\n",
      "92-1182121\n",
      "fields=id,idReadable,summary,description,reporter(id,login,fullName),customFields($type,id,projectCustomField($type,id,field($type,id,name)),value($type,avatarUrl,buildLink,color(id),fullName,id,isResolved,localizedName,login,minutes,name,presentation,text)),linkType(name,sourceToTarget,targetToSource),issues(id,idReadable,summary)\n",
      "categories=CustomFieldCategory,CommentsCategory&fields=author(name,login),timestamp,target(text),added(name),removed(name)\n",
      "92-1171940\n",
      "fields=id,idReadable,summary,description,reporter(id,login,fullName),customFields($type,id,projectCustomField($type,id,field($type,id,name)),value($type,avatarUrl,buildLink,color(id),fullName,id,isResolved,localizedName,login,minutes,name,presentation,text)),linkType(name,sourceToTarget,targetToSource),issues(id,idReadable,summary)\n",
      "categories=CustomFieldCategory,CommentsCategory&fields=author(name,login),timestamp,target(text),added(name),removed(name)\n",
      "92-1143505\n",
      "fields=id,idReadable,summary,description,reporter(id,login,fullName),customFields($type,id,projectCustomField($type,id,field($type,id,name)),value($type,avatarUrl,buildLink,color(id),fullName,id,isResolved,localizedName,login,minutes,name,presentation,text)),linkType(name,sourceToTarget,targetToSource),issues(id,idReadable,summary)\n",
      "categories=CustomFieldCategory,CommentsCategory&fields=author(name,login),timestamp,target(text),added(name),removed(name)\n",
      "92-1116084\n",
      "fields=id,idReadable,summary,description,reporter(id,login,fullName),customFields($type,id,projectCustomField($type,id,field($type,id,name)),value($type,avatarUrl,buildLink,color(id),fullName,id,isResolved,localizedName,login,minutes,name,presentation,text)),linkType(name,sourceToTarget,targetToSource),issues(id,idReadable,summary)\n",
      "categories=CustomFieldCategory,CommentsCategory&fields=author(name,login),timestamp,target(text),added(name),removed(name)\n",
      "92-1152478\n",
      "fields=id,idReadable,summary,description,reporter(id,login,fullName),customFields($type,id,projectCustomField($type,id,field($type,id,name)),value($type,avatarUrl,buildLink,color(id),fullName,id,isResolved,localizedName,login,minutes,name,presentation,text)),linkType(name,sourceToTarget,targetToSource),issues(id,idReadable,summary)\n",
      "categories=CustomFieldCategory,CommentsCategory&fields=author(name,login),timestamp,target(text),added(name),removed(name)\n",
      "92-1100264\n",
      "fields=id,idReadable,summary,description,reporter(id,login,fullName),customFields($type,id,projectCustomField($type,id,field($type,id,name)),value($type,avatarUrl,buildLink,color(id),fullName,id,isResolved,localizedName,login,minutes,name,presentation,text)),linkType(name,sourceToTarget,targetToSource),issues(id,idReadable,summary)\n",
      "categories=CustomFieldCategory,CommentsCategory&fields=author(name,login),timestamp,target(text),added(name),removed(name)\n",
      "92-944109\n",
      "fields=id,idReadable,summary,description,reporter(id,login,fullName),customFields($type,id,projectCustomField($type,id,field($type,id,name)),value($type,avatarUrl,buildLink,color(id),fullName,id,isResolved,localizedName,login,minutes,name,presentation,text)),linkType(name,sourceToTarget,targetToSource),issues(id,idReadable,summary)\n",
      "categories=CustomFieldCategory,CommentsCategory&fields=author(name,login),timestamp,target(text),added(name),removed(name)\n",
      "92-884017\n",
      "fields=id,idReadable,summary,description,reporter(id,login,fullName),customFields($type,id,projectCustomField($type,id,field($type,id,name)),value($type,avatarUrl,buildLink,color(id),fullName,id,isResolved,localizedName,login,minutes,name,presentation,text)),linkType(name,sourceToTarget,targetToSource),issues(id,idReadable,summary)\n",
      "categories=CustomFieldCategory,CommentsCategory&fields=author(name,login),timestamp,target(text),added(name),removed(name)\n",
      "92-884024\n",
      "fields=id,idReadable,summary,description,reporter(id,login,fullName),customFields($type,id,projectCustomField($type,id,field($type,id,name)),value($type,avatarUrl,buildLink,color(id),fullName,id,isResolved,localizedName,login,minutes,name,presentation,text)),linkType(name,sourceToTarget,targetToSource),issues(id,idReadable,summary)\n",
      "categories=CustomFieldCategory,CommentsCategory&fields=author(name,login),timestamp,target(text),added(name),removed(name)\n",
      "92-887370\n",
      "fields=id,idReadable,summary,description,reporter(id,login,fullName),customFields($type,id,projectCustomField($type,id,field($type,id,name)),value($type,avatarUrl,buildLink,color(id),fullName,id,isResolved,localizedName,login,minutes,name,presentation,text)),linkType(name,sourceToTarget,targetToSource),issues(id,idReadable,summary)\n",
      "categories=CustomFieldCategory,CommentsCategory&fields=author(name,login),timestamp,target(text),added(name),removed(name)\n",
      "92-1074057\n",
      "fields=id,idReadable,summary,description,reporter(id,login,fullName),customFields($type,id,projectCustomField($type,id,field($type,id,name)),value($type,avatarUrl,buildLink,color(id),fullName,id,isResolved,localizedName,login,minutes,name,presentation,text)),linkType(name,sourceToTarget,targetToSource),issues(id,idReadable,summary)\n",
      "categories=CustomFieldCategory,CommentsCategory&fields=author(name,login),timestamp,target(text),added(name),removed(name)\n"
     ]
    }
   ],
   "source": [
    "review_items = []\n",
    "\n",
    "for item in resp:\n",
    "    print(item['id'])\n",
    "    issue = youtrack_client.get_issue(item['id'])\n",
    "    history = youtrack_client.get_issue_history(issue[\"idReadable\"])\n",
    "    \n",
    "    latest_review_time, hours_passed = get_latest_review_time_and_passed_hours(history)\n",
    "    \n",
    "    reviewer = next(field['value']['login'] for field in issue['customFields'] if field['projectCustomField']['field']['name'] == 'Reviewer [HR]')\n",
    "    \n",
    "    review_items.append({\n",
    "        'reviewer': reviewer,\n",
    "        'issue_id': issue[\"idReadable\"],\n",
    "        'summary': issue[\"summary\"],\n",
    "        'latest_review_time': latest_review_time,\n",
    "        'hours_passed': hours_passed\n",
    "    })"
   ]
  },
  {
   "cell_type": "code",
   "execution_count": 17,
   "id": "b56076bd-0ca4-479a-9c66-d8dc217aa708",
   "metadata": {},
   "outputs": [
    {
     "data": {
      "text/plain": [
       "{'value': {'name': 'Шогин Михаил Михайлович',\n",
       "  'id': '24-4442',\n",
       "  '$type': 'User'},\n",
       " 'id': '86-578',\n",
       " 'projectCustomField': {'field': {'name': 'Reviewer [HR]',\n",
       "   'id': '42-918',\n",
       "   '$type': 'CustomField'},\n",
       "  'id': '86-578',\n",
       "  '$type': 'UserProjectCustomField'},\n",
       " '$type': 'SingleUserIssueCustomField'}"
      ]
     },
     "execution_count": 17,
     "metadata": {},
     "output_type": "execute_result"
    }
   ],
   "source": [
    "youtrack_client.get_field('VR-8939', '86-578')"
   ]
  },
  {
   "cell_type": "code",
   "execution_count": 42,
   "id": "9223f07b-4dd6-4048-bdba-803f0973fd99",
   "metadata": {},
   "outputs": [
    {
     "name": "stdout",
     "output_type": "stream",
     "text": [
      "fields=id,idReadable,summary,description,reporter(id,login,fullName),customFields($type,id,projectCustomField($type,id,field($type,id,name)),value($type,avatarUrl,buildLink,color(id),fullName,id,isResolved,localizedName,login,minutes,name,presentation,text)),linkType(name,sourceToTarget,targetToSource),issues(id,idReadable,summary)\n",
      "categories=CustomFieldCategory,CommentsCategory&fields=author(name,login),timestamp,target(text),added(name),removed(name)\n"
     ]
    },
    {
     "name": "stderr",
     "output_type": "stream",
     "text": [
      "C:\\Users\\MGroup\\AppData\\Local\\Temp\\ipykernel_28028\\1595032851.py:15: DeprecationWarning: datetime.datetime.utcfromtimestamp() is deprecated and scheduled for removal in a future version. Use timezone-aware objects to represent datetimes in UTC: datetime.datetime.fromtimestamp(timestamp, datetime.UTC).\n",
      "  latest_review_time = datetime.utcfromtimestamp(latest_review_timestamp_seconds)\n",
      "C:\\Users\\MGroup\\AppData\\Local\\Temp\\ipykernel_28028\\1595032851.py:16: DeprecationWarning: datetime.datetime.utcnow() is deprecated and scheduled for removal in a future version. Use timezone-aware objects to represent datetimes in UTC: datetime.datetime.now(datetime.UTC).\n",
      "  current_time = datetime.utcnow()\n"
     ]
    },
    {
     "data": {
      "text/plain": [
       "{'reviewer': 'Valentin_Marchuk',\n",
       " 'issue_id': 'VR-8816',\n",
       " 'summary': '[BE] Научиться запускать локально crm-api',\n",
       " 'latest_review_time': datetime.datetime(2024, 3, 11, 20, 10, 15, 607000),\n",
       " 'hours_passed': 1.4195444794444443}"
      ]
     },
     "execution_count": 42,
     "metadata": {},
     "output_type": "execute_result"
    }
   ],
   "source": [
    "issue = youtrack_client.get_issue('92-1177453')\n",
    "history = youtrack_client.get_issue_history(issue[\"idReadable\"])\n",
    "\n",
    "latest_review_time, hours_passed = get_latest_review_time_and_passed_hours(history)\n",
    "\n",
    "reviewer = next(field['value']['login'] for field in issue['customFields'] if field['projectCustomField']['field']['name'] == 'Reviewer [HR]')\n",
    "\n",
    "item = {\n",
    "    'reviewer': reviewer,\n",
    "    'issue_id': issue[\"idReadable\"],\n",
    "    'summary': issue[\"summary\"],\n",
    "    'latest_review_time': latest_review_time,\n",
    "    'hours_passed': hours_passed\n",
    "}\n",
    "# print(f'[{issue[\"idReadable\"]}] {issue[\"summary\"]} {reviewer}')\n",
    "\n",
    "item"
   ]
  },
  {
   "cell_type": "code",
   "execution_count": null,
   "id": "4e1feb6d-f633-4df6-9de8-bff214a94423",
   "metadata": {},
   "outputs": [],
   "source": [
    "youtrack_client.get_issue('VR-8939')"
   ]
  },
  {
   "cell_type": "code",
   "execution_count": null,
   "id": "415472e3-2273-48c0-bd70-9bb03be2a934",
   "metadata": {},
   "outputs": [],
   "source": [
    "history = youtrack_client.get_issue_history('VR-8816')\n",
    "\n",
    "history"
   ]
  },
  {
   "cell_type": "code",
   "execution_count": 37,
   "id": "786a93dd-d2fc-4b87-909e-8a833f4437d0",
   "metadata": {},
   "outputs": [],
   "source": [
    "activity_log = history"
   ]
  },
  {
   "cell_type": "code",
   "execution_count": 40,
   "id": "721aa3f1-daa4-463a-a60f-8e15dc852bff",
   "metadata": {},
   "outputs": [
    {
     "name": "stderr",
     "output_type": "stream",
     "text": [
      "C:\\Users\\MGroup\\AppData\\Local\\Temp\\ipykernel_28028\\1595032851.py:15: DeprecationWarning: datetime.datetime.utcfromtimestamp() is deprecated and scheduled for removal in a future version. Use timezone-aware objects to represent datetimes in UTC: datetime.datetime.fromtimestamp(timestamp, datetime.UTC).\n",
      "  latest_review_time = datetime.utcfromtimestamp(latest_review_timestamp_seconds)\n",
      "C:\\Users\\MGroup\\AppData\\Local\\Temp\\ipykernel_28028\\1595032851.py:16: DeprecationWarning: datetime.datetime.utcnow() is deprecated and scheduled for removal in a future version. Use timezone-aware objects to represent datetimes in UTC: datetime.datetime.now(datetime.UTC).\n",
      "  current_time = datetime.utcnow()\n"
     ]
    },
    {
     "data": {
      "text/plain": [
       "(datetime.datetime(2024, 3, 11, 20, 10, 15, 607000), 1.3813523625000002)"
      ]
     },
     "execution_count": 40,
     "metadata": {},
     "output_type": "execute_result"
    }
   ],
   "source": [
    "from datetime import datetime, timedelta\n",
    "\n",
    "def get_latest_review_time_and_passed_hours(activity_log):\n",
    "    # There was an error due to the first item in the log having 'added' as an integer. Let's correct this and process again.\n",
    "    latest_review_timestamp = None\n",
    "    for activity in activity_log:\n",
    "        if 'added' in activity and isinstance(activity['added'], list) and any('name' in d and d['name'] == 'Review' for d in activity['added']):\n",
    "            latest_review_timestamp = activity['timestamp']\n",
    "    \n",
    "    # Convert the timestamp from milliseconds to seconds\n",
    "    latest_review_timestamp_seconds = latest_review_timestamp / 1000 if latest_review_timestamp else None\n",
    "    \n",
    "    # Calculate the hours passed from the latest status change to \"Review\" until now\n",
    "    if latest_review_timestamp_seconds:\n",
    "        latest_review_time = datetime.utcfromtimestamp(latest_review_timestamp_seconds)\n",
    "        current_time = datetime.utcnow()\n",
    "        hours_passed = (current_time - latest_review_time).total_seconds() / 3600\n",
    "    else:\n",
    "        hours_passed = None\n",
    "    \n",
    "    return latest_review_time, hours_passed\n",
    "\n",
    "get_latest_review_time_and_passed_hours(activity_log)"
   ]
  },
  {
   "cell_type": "code",
   "execution_count": 48,
   "id": "efeed0de-b0c7-41b5-8c6a-5ea42a1bff55",
   "metadata": {},
   "outputs": [
    {
     "data": {
      "text/plain": [
       "[{'reviewer': 'Valentin_Marchuk',\n",
       "  'issue_id': 'VR-8816',\n",
       "  'summary': '[BE] Научиться запускать локально crm-api',\n",
       "  'latest_review_time': datetime.datetime(2024, 3, 11, 20, 10, 15, 607000),\n",
       "  'hours_passed': 1.4520275355555554},\n",
       " {'reviewer': 'Vansevich.E',\n",
       "  'issue_id': 'VR-8146',\n",
       "  'summary': '[BE] Написать клиент для WB Basket и подключить к HR Scans',\n",
       "  'latest_review_time': datetime.datetime(2024, 3, 11, 19, 25, 24, 315000),\n",
       "  'hours_passed': 2.2000160105555557},\n",
       " {'reviewer': 'Mikhail_Shogin',\n",
       "  'issue_id': 'HRWEB-2378',\n",
       "  'summary': '[ARCH] WB Basket. Описание архитектуры',\n",
       "  'latest_review_time': datetime.datetime(2024, 3, 11, 18, 23, 13, 427000),\n",
       "  'hours_passed': 3.236877321388889},\n",
       " {'reviewer': 'Valentin_Marchuk',\n",
       "  'issue_id': 'VR-8099',\n",
       "  'summary': '[BE] Локальное развертывание сервисов crm-api',\n",
       "  'latest_review_time': datetime.datetime(2024, 2, 6, 17, 32, 54, 681000),\n",
       "  'hours_passed': 820.076044315},\n",
       " {'reviewer': 'Mikhail_Shogin',\n",
       "  'issue_id': 'VR-6737',\n",
       "  'summary': '[BE] [Arch] Архитектура и декомпозиция {Получение доступа к wbteam сразу после проведения приказа в ЗУП}',\n",
       "  'latest_review_time': datetime.datetime(2024, 1, 17, 7, 25, 2, 125000),\n",
       "  'hours_passed': 1310.2083236808332},\n",
       " {'reviewer': 'Mikhail_Shogin',\n",
       "  'issue_id': 'VR-7795',\n",
       "  'summary': '[ARCH] Ввод реквизитов уволенными сотрудниками в WBTeam',\n",
       "  'latest_review_time': datetime.datetime(2024, 3, 7, 1, 55, 26, 986000),\n",
       "  'hours_passed': 115.70184697361111},\n",
       " {'reviewer': 'Mikhail_Shogin',\n",
       "  'issue_id': 'VR-7790',\n",
       "  'summary': '[ARCH] Исправить ADR по увольняемым',\n",
       "  'latest_review_time': datetime.datetime(2024, 2, 14, 8, 30, 23, 444000),\n",
       "  'hours_passed': 637.1200174725},\n",
       " {'reviewer': 'Mikhail_Shogin',\n",
       "  'issue_id': 'HRWEB-1985',\n",
       "  'summary': '[ARCH]Учет складских сотрудников подряда.',\n",
       "  'latest_review_time': datetime.datetime(2024, 2, 2, 6, 46, 49, 201000),\n",
       "  'hours_passed': 926.8467967661111},\n",
       " {'reviewer': 'Mikhail_Shogin',\n",
       "  'issue_id': 'VR-8443',\n",
       "  'summary': '[ARCH] Архитектура Займы. Показывать типы договоров',\n",
       "  'latest_review_time': datetime.datetime(2024, 3, 4, 8, 7, 36, 751000),\n",
       "  'hours_passed': 181.500820975},\n",
       " {'reviewer': 'Mikhail_Shogin',\n",
       "  'issue_id': 'VR-7866',\n",
       "  'summary': '[ARCH] Выгрузка списка расчётов тарификатора офиса в Excel',\n",
       "  'latest_review_time': datetime.datetime(2024, 3, 5, 16, 2, 41, 739000),\n",
       "  'hours_passed': 149.58321905111112},\n",
       " {'reviewer': 'Mikhail_Shogin',\n",
       "  'issue_id': 'VR-7865',\n",
       "  'summary': '[ARCH] Просмотр списка расчётов тарификатора офиса',\n",
       "  'latest_review_time': datetime.datetime(2024, 3, 5, 16, 3, 21, 88000),\n",
       "  'hours_passed': 149.57272436777777},\n",
       " {'reviewer': 'Mikhail_Shogin',\n",
       "  'issue_id': 'VR-7799',\n",
       "  'summary': '[ARCH] Соц. программы. Техника сотруднику. Актуализировать данные на основе данных из маркетплейса',\n",
       "  'latest_review_time': datetime.datetime(2024, 2, 9, 12, 46, 41, 157000),\n",
       "  'hours_passed': 752.8510450880556},\n",
       " {'reviewer': 'Mikhail_Shogin',\n",
       "  'issue_id': 'VR-7934',\n",
       "  'summary': 'ARCH] [hrdepts] Декомпозиция основных вариантов использования',\n",
       "  'latest_review_time': datetime.datetime(2024, 1, 26, 10, 58, 46, 415000),\n",
       "  'hours_passed': 1090.6501615647223},\n",
       " {'reviewer': 'Mikhail_Shogin',\n",
       "  'issue_id': 'VR-7490',\n",
       "  'summary': '[ARCH] Архитектура для [Epic] WBTeam. Полная история баланса ',\n",
       "  'latest_review_time': datetime.datetime(2024, 1, 16, 17, 41, 6, 329000),\n",
       "  'hours_passed': 1323.945650031111},\n",
       " {'reviewer': 'Vansevich.E',\n",
       "  'issue_id': 'VR-8880',\n",
       "  'summary': '[BE] Создать fx модуль для otel',\n",
       "  'latest_review_time': datetime.datetime(2024, 3, 7, 9, 34, 4, 715000),\n",
       "  'hours_passed': 108.06310554055555},\n",
       " {'reviewer': 'Vansevich.E',\n",
       "  'issue_id': 'VR-8737',\n",
       "  'summary': '[BE] Приведение метрик к общему стандарту',\n",
       "  'latest_review_time': datetime.datetime(2024, 3, 4, 20, 41, 5, 973000),\n",
       "  'hours_passed': 168.94647021222224},\n",
       " {'reviewer': 'Valentin_Marchuk',\n",
       "  'issue_id': 'VR-8507',\n",
       "  'summary': '[BE] Реализовать TokenExchange в crm-api',\n",
       "  'latest_review_time': datetime.datetime(2024, 3, 5, 12, 10, 16, 991000),\n",
       "  'hours_passed': 153.46051324083334},\n",
       " {'reviewer': 'Vansevich.E',\n",
       "  'issue_id': 'VR-8254',\n",
       "  'summary': '[BE] Подключить сервисы по 4 поиска к общему бэку',\n",
       "  'latest_review_time': datetime.datetime(2024, 3, 6, 14, 12, 16, 779000),\n",
       "  'hours_passed': 127.42780843972221},\n",
       " {'reviewer': 'Mikhail_Shogin',\n",
       "  'issue_id': 'HRWEB-2295',\n",
       "  'summary': '[BE] Декомпозиция переезда на Kafka',\n",
       "  'latest_review_time': datetime.datetime(2024, 3, 5, 6, 41, 48, 714000),\n",
       "  'hours_passed': 158.93625141666666},\n",
       " {'reviewer': 'Vansevich.E',\n",
       "  'issue_id': 'VR-8093',\n",
       "  'summary': '[FE] Переезд на новые кластера',\n",
       "  'latest_review_time': datetime.datetime(2024, 2, 22, 14, 56, 15, 898000),\n",
       "  'hours_passed': 438.6957935991667},\n",
       " {'reviewer': 'Vansevich.E',\n",
       "  'issue_id': 'VR-6289',\n",
       "  'summary': '[BE] Billing подпись. Добавить подпись в balance',\n",
       "  'latest_review_time': datetime.datetime(2023, 11, 22, 6, 31, 16, 669000),\n",
       "  'hours_passed': 2655.1134461047222},\n",
       " {'reviewer': 'Vansevich.E',\n",
       "  'issue_id': 'VR-5411',\n",
       "  'summary': '[BE] - AuthV3 - Написать клиент для работы с auth v3',\n",
       "  'latest_review_time': datetime.datetime(2023, 9, 21, 5, 54, 56, 457000),\n",
       "  'hours_passed': 4143.720484883611},\n",
       " {'reviewer': 'Vansevich.E',\n",
       "  'issue_id': 'VR-5417',\n",
       "  'summary': '[BE] - AuthV3 - Интеграция auth v3 в competition-api',\n",
       "  'latest_review_time': datetime.datetime(2023, 10, 2, 12, 44, 39, 130000),\n",
       "  'hours_passed': 3872.8930118497224},\n",
       " {'reviewer': 'Vansevich.E',\n",
       "  'issue_id': 'VR-5474',\n",
       "  'summary': '[BE] - AuthV3 - Интеграция клиента auth v3 в auth service',\n",
       "  'latest_review_time': datetime.datetime(2023, 9, 22, 5, 29, 45, 160000),\n",
       "  'hours_passed': 4120.142549654167},\n",
       " {'reviewer': 'Mikhail_Shogin',\n",
       "  'issue_id': 'HRWEB-2142',\n",
       "  'summary': '[ARCH] Описать принцип перехода на наш сиквенс для employee_id',\n",
       "  'latest_review_time': datetime.datetime(2024, 1, 23, 12, 5, 55, 38000),\n",
       "  'hours_passed': 1161.5404913563889}]"
      ]
     },
     "execution_count": 48,
     "metadata": {},
     "output_type": "execute_result"
    }
   ],
   "source": [
    "review_items"
   ]
  },
  {
   "cell_type": "code",
   "execution_count": 75,
   "id": "ae3b70c1-3505-4906-82ee-aee2a3363ce1",
   "metadata": {},
   "outputs": [
    {
     "name": "stdout",
     "output_type": "stream",
     "text": [
      "\\#review\n",
      "\n",
      "Задачи на ревью:\n",
      "\n",
      "@valuamba:\n",
      "34d [*\\[VR\\-8099\\]*](https://youtrack.wildberries.ru/issue/VR-8099) \\[BE\\] Локальное развертывание сервисов crm\\-api\n",
      "6d [*\\[VR\\-8507\\]*](https://youtrack.wildberries.ru/issue/VR-8507) \\[BE\\] Реализовать TokenExchange в crm\\-api\n",
      "1h [*\\[VR\\-8816\\]*](https://youtrack.wildberries.ru/issue/VR-8816) \\[BE\\] Научиться запускать локально crm\\-api\n",
      "\n",
      "@evansevich:\n",
      "172d [*\\[VR\\-5411\\]*](https://youtrack.wildberries.ru/issue/VR-5411) \\[BE\\] \\- AuthV3 \\- Написать клиент для работы с auth v3\n",
      "171d [*\\[VR\\-5474\\]*](https://youtrack.wildberries.ru/issue/VR-5474) \\[BE\\] \\- AuthV3 \\- Интеграция клиента auth v3 в auth service\n",
      "161d [*\\[VR\\-5417\\]*](https://youtrack.wildberries.ru/issue/VR-5417) \\[BE\\] \\- AuthV3 \\- Интеграция auth v3 в competition\\-api\n",
      "110d [*\\[VR\\-6289\\]*](https://youtrack.wildberries.ru/issue/VR-6289) \\[BE\\] Billing подпись\\. Добавить подпись в balance\n",
      "18d [*\\[VR\\-8093\\]*](https://youtrack.wildberries.ru/issue/VR-8093) \\[FE\\] Переезд на новые кластера\n",
      "7d [*\\[VR\\-8737\\]*](https://youtrack.wildberries.ru/issue/VR-8737) \\[BE\\] Приведение метрик к общему стандарту\n",
      "5d [*\\[VR\\-8254\\]*](https://youtrack.wildberries.ru/issue/VR-8254) \\[BE\\] Подключить сервисы по 4 поиска к общему бэку\n",
      "4d [*\\[VR\\-8880\\]*](https://youtrack.wildberries.ru/issue/VR-8880) \\[BE\\] Создать fx модуль для otel\n",
      "2h [*\\[VR\\-8146\\]*](https://youtrack.wildberries.ru/issue/VR-8146) \\[BE\\] Написать клиент для WB Basket и подключить к HR Scans\n",
      "\n",
      "@mshogin:\n",
      "55d [*\\[VR\\-7490\\]*](https://youtrack.wildberries.ru/issue/VR-7490) \\[ARCH\\] Архитектура для \\[Epic\\] WBTeam\\. Полная история баланса \n",
      "54d [*\\[VR\\-6737\\]*](https://youtrack.wildberries.ru/issue/VR-6737) \\[BE\\] \\[Arch\\] Архитектура и декомпозиция \\{Получение доступа к wbteam сразу после проведения приказа в ЗУП\\}\n",
      "48d [*\\[HRWEB\\-2142\\]*](https://youtrack.wildberries.ru/issue/HRWEB-2142) \\[ARCH\\] Описать принцип перехода на наш сиквенс для employee\\_id\n",
      "45d [*\\[VR\\-7934\\]*](https://youtrack.wildberries.ru/issue/VR-7934) ARCH\\] \\[hrdepts\\] Декомпозиция основных вариантов использования\n",
      "38d [*\\[HRWEB\\-1985\\]*](https://youtrack.wildberries.ru/issue/HRWEB-1985) \\[ARCH\\]Учет складских сотрудников подряда\\.\n",
      "31d [*\\[VR\\-7799\\]*](https://youtrack.wildberries.ru/issue/VR-7799) \\[ARCH\\] Соц\\. программы\\. Техника сотруднику\\. Актуализировать данные на основе данных из маркетплейса\n",
      "26d [*\\[VR\\-7790\\]*](https://youtrack.wildberries.ru/issue/VR-7790) \\[ARCH\\] Исправить ADR по увольняемым\n",
      "7d [*\\[VR\\-8443\\]*](https://youtrack.wildberries.ru/issue/VR-8443) \\[ARCH\\] Архитектура Займы\\. Показывать типы договоров\n",
      "6d [*\\[HRWEB\\-2295\\]*](https://youtrack.wildberries.ru/issue/HRWEB-2295) \\[BE\\] Декомпозиция переезда на Kafka\n",
      "6d [*\\[VR\\-7866\\]*](https://youtrack.wildberries.ru/issue/VR-7866) \\[ARCH\\] Выгрузка списка расчётов тарификатора офиса в Excel\n",
      "6d [*\\[VR\\-7865\\]*](https://youtrack.wildberries.ru/issue/VR-7865) \\[ARCH\\] Просмотр списка расчётов тарификатора офиса\n",
      "4d [*\\[VR\\-7795\\]*](https://youtrack.wildberries.ru/issue/VR-7795) \\[ARCH\\] Ввод реквизитов уволенными сотрудниками в WBTeam\n",
      "3h [*\\[HRWEB\\-2378\\]*](https://youtrack.wildberries.ru/issue/HRWEB-2378) \\[ARCH\\] WB Basket\\. Описание архитектуры\n"
     ]
    },
    {
     "name": "stderr",
     "output_type": "stream",
     "text": [
      "<>:25: SyntaxWarning: invalid escape sequence '\\#'\n",
      "<>:33: SyntaxWarning: invalid escape sequence '\\['\n",
      "<>:33: SyntaxWarning: invalid escape sequence '\\]'\n",
      "<>:25: SyntaxWarning: invalid escape sequence '\\#'\n",
      "<>:33: SyntaxWarning: invalid escape sequence '\\['\n",
      "<>:33: SyntaxWarning: invalid escape sequence '\\]'\n",
      "C:\\Users\\MGroup\\AppData\\Local\\Temp\\ipykernel_28028\\3021288058.py:25: SyntaxWarning: invalid escape sequence '\\#'\n",
      "  output = \"\\#review\\n\\nЗадачи на ревью:\\n\\n\"\n",
      "C:\\Users\\MGroup\\AppData\\Local\\Temp\\ipykernel_28028\\3021288058.py:33: SyntaxWarning: invalid escape sequence '\\['\n",
      "  output += f\"{time_passed} [*\\[{escape_markdown(issue['issue_id'])}\\]*]({issue_url}) {escape_markdown(issue['summary'])}\\n\"\n",
      "C:\\Users\\MGroup\\AppData\\Local\\Temp\\ipykernel_28028\\3021288058.py:33: SyntaxWarning: invalid escape sequence '\\]'\n",
      "  output += f\"{time_passed} [*\\[{escape_markdown(issue['issue_id'])}\\]*]({issue_url}) {escape_markdown(issue['summary'])}\\n\"\n"
     ]
    }
   ],
   "source": [
    "from collections import defaultdict\n",
    "from datetime import datetime\n",
    "import re\n",
    "\n",
    "def escape_markdown(text):\n",
    "    # Define the pattern for special Markdown characters that need to be escaped\n",
    "    special_chars_pattern = r'([_*\\[\\]()~`>#+\\-=|{}.!])'\n",
    "    # Replace each special character with its escaped version\n",
    "    escaped_text = re.sub(special_chars_pattern, r'\\\\\\1', text)\n",
    "    return escaped_text\n",
    "\n",
    "mapped_user_names = {\n",
    "    'Valentin_Marchuk': 'valuamba',\n",
    "    'Vansevich.E': 'evansevich',\n",
    "    'Mikhail_Shogin': 'mshogin'\n",
    "}\n",
    "\n",
    "grouped_issues = defaultdict(list)\n",
    "for issue in review_items:\n",
    "    grouped_issues[issue['reviewer']].append(issue)\n",
    "\n",
    "# \"[*\" + escapeMarkdown(issueStr) + \"*]\"  + \"(\" + issueUrl + \")\\n\\n\"\n",
    "\n",
    "# Sort and format output\n",
    "output = \"\\#review\\n\\nЗадачи на ревью:\\n\\n\"\n",
    "for reviewer, issues in grouped_issues.items():\n",
    "    output += f\"@{mapped_user_names[reviewer]}:\\n\"\n",
    "    # Sort issues by hours_passed\n",
    "    sorted_issues = sorted(issues, key=lambda x: x['hours_passed'], reverse=True)\n",
    "    for issue in sorted_issues:\n",
    "        issue_url = f'https://youtrack.wildberries.ru/issue/{issue[\"issue_id\"]}'\n",
    "        time_passed = f\"{int(issue['hours_passed'] / 24)}d\" if issue['hours_passed'] > 24 else f\"{round(issue['hours_passed'])}h\"\n",
    "        output += f\"{time_passed} [*\\[{escape_markdown(issue['issue_id'])}\\]*]({issue_url}) {escape_markdown(issue['summary'])}\\n\"\n",
    "    output += '\\n'\n",
    "\n",
    "print(output.strip())"
   ]
  },
  {
   "cell_type": "code",
   "execution_count": null,
   "id": "2c711e44-3791-4db8-bd55-55db385c05c3",
   "metadata": {},
   "outputs": [],
   "source": [
    "https://t.me/c/2011635320/2/3"
   ]
  },
  {
   "cell_type": "code",
   "execution_count": 77,
   "id": "af689b4c-e153-4a41-97eb-11f065e06ff3",
   "metadata": {},
   "outputs": [
    {
     "data": {
      "text/plain": [
       "Message(channel_chat_created=False, chat=Chat(id=-1001593412877, is_forum=True, title='HR INFRA TEAM', type=<ChatType.SUPERGROUP>), date=datetime.datetime(2024, 3, 11, 22, 13, 22, tzinfo=<UTC>), delete_chat_photo=False, entities=(MessageEntity(length=7, offset=0, type=<MessageEntityType.HASHTAG>), MessageEntity(length=9, offset=27, type=<MessageEntityType.MENTION>), MessageEntity(length=9, offset=42, type=<MessageEntityType.TEXT_LINK>, url='https://youtrack.wildberries.ru/issue/VR-8099'), MessageEntity(length=9, offset=42, type=<MessageEntityType.BOLD>), MessageEntity(length=9, offset=101, type=<MessageEntityType.TEXT_LINK>, url='https://youtrack.wildberries.ru/issue/VR-8507'), MessageEntity(length=9, offset=101, type=<MessageEntityType.BOLD>), MessageEntity(length=9, offset=155, type=<MessageEntityType.TEXT_LINK>, url='https://youtrack.wildberries.ru/issue/VR-8816'), MessageEntity(length=9, offset=155, type=<MessageEntityType.BOLD>), MessageEntity(length=11, offset=208, type=<MessageEntityType.MENTION>), MessageEntity(length=9, offset=226, type=<MessageEntityType.TEXT_LINK>, url='https://youtrack.wildberries.ru/issue/VR-5411'), MessageEntity(length=9, offset=226, type=<MessageEntityType.BOLD>), MessageEntity(length=9, offset=294, type=<MessageEntityType.TEXT_LINK>, url='https://youtrack.wildberries.ru/issue/VR-5474'), MessageEntity(length=9, offset=294, type=<MessageEntityType.BOLD>), MessageEntity(length=9, offset=367, type=<MessageEntityType.TEXT_LINK>, url='https://youtrack.wildberries.ru/issue/VR-5417'), MessageEntity(length=9, offset=367, type=<MessageEntityType.BOLD>), MessageEntity(length=9, offset=435, type=<MessageEntityType.TEXT_LINK>, url='https://youtrack.wildberries.ru/issue/VR-6289'), MessageEntity(length=9, offset=435, type=<MessageEntityType.BOLD>), MessageEntity(length=9, offset=498, type=<MessageEntityType.TEXT_LINK>, url='https://youtrack.wildberries.ru/issue/VR-8093'), MessageEntity(length=9, offset=498, type=<MessageEntityType.BOLD>), MessageEntity(length=9, offset=542, type=<MessageEntityType.TEXT_LINK>, url='https://youtrack.wildberries.ru/issue/VR-8737'), MessageEntity(length=9, offset=542, type=<MessageEntityType.BOLD>), MessageEntity(length=9, offset=597, type=<MessageEntityType.TEXT_LINK>, url='https://youtrack.wildberries.ru/issue/VR-8254'), MessageEntity(length=9, offset=597, type=<MessageEntityType.BOLD>), MessageEntity(length=9, offset=660, type=<MessageEntityType.TEXT_LINK>, url='https://youtrack.wildberries.ru/issue/VR-8880'), MessageEntity(length=9, offset=660, type=<MessageEntityType.BOLD>), MessageEntity(length=9, offset=705, type=<MessageEntityType.TEXT_LINK>, url='https://youtrack.wildberries.ru/issue/VR-8146'), MessageEntity(length=9, offset=705, type=<MessageEntityType.BOLD>), MessageEntity(length=8, offset=775, type=<MessageEntityType.MENTION>), MessageEntity(length=9, offset=789, type=<MessageEntityType.TEXT_LINK>, url='https://youtrack.wildberries.ru/issue/VR-7490'), MessageEntity(length=9, offset=789, type=<MessageEntityType.BOLD>), MessageEntity(length=9, offset=865, type=<MessageEntityType.TEXT_LINK>, url='https://youtrack.wildberries.ru/issue/VR-6737'), MessageEntity(length=9, offset=865, type=<MessageEntityType.BOLD>), MessageEntity(length=12, offset=984, type=<MessageEntityType.TEXT_LINK>, url='https://youtrack.wildberries.ru/issue/HRWEB-2142'), MessageEntity(length=12, offset=984, type=<MessageEntityType.BOLD>), MessageEntity(length=9, offset=1064, type=<MessageEntityType.TEXT_LINK>, url='https://youtrack.wildberries.ru/issue/VR-7934'), MessageEntity(length=9, offset=1064, type=<MessageEntityType.BOLD>), MessageEntity(length=12, offset=1140, type=<MessageEntityType.TEXT_LINK>, url='https://youtrack.wildberries.ru/issue/HRWEB-1985'), MessageEntity(length=12, offset=1140, type=<MessageEntityType.BOLD>), MessageEntity(length=9, offset=1199, type=<MessageEntityType.TEXT_LINK>, url='https://youtrack.wildberries.ru/issue/VR-7799'), MessageEntity(length=9, offset=1199, type=<MessageEntityType.BOLD>), MessageEntity(length=9, offset=1312, type=<MessageEntityType.TEXT_LINK>, url='https://youtrack.wildberries.ru/issue/VR-7790'), MessageEntity(length=9, offset=1312, type=<MessageEntityType.BOLD>), MessageEntity(length=9, offset=1361, type=<MessageEntityType.TEXT_LINK>, url='https://youtrack.wildberries.ru/issue/VR-8443'), MessageEntity(length=9, offset=1361, type=<MessageEntityType.BOLD>), MessageEntity(length=12, offset=1426, type=<MessageEntityType.TEXT_LINK>, url='https://youtrack.wildberries.ru/issue/HRWEB-2295'), MessageEntity(length=12, offset=1426, type=<MessageEntityType.BOLD>), MessageEntity(length=9, offset=1478, type=<MessageEntityType.TEXT_LINK>, url='https://youtrack.wildberries.ru/issue/VR-7866'), MessageEntity(length=9, offset=1478, type=<MessageEntityType.BOLD>), MessageEntity(length=9, offset=1550, type=<MessageEntityType.TEXT_LINK>, url='https://youtrack.wildberries.ru/issue/VR-7865'), MessageEntity(length=9, offset=1550, type=<MessageEntityType.BOLD>), MessageEntity(length=9, offset=1614, type=<MessageEntityType.TEXT_LINK>, url='https://youtrack.wildberries.ru/issue/VR-7795'), MessageEntity(length=9, offset=1614, type=<MessageEntityType.BOLD>), MessageEntity(length=12, offset=1683, type=<MessageEntityType.TEXT_LINK>, url='https://youtrack.wildberries.ru/issue/HRWEB-2378'), MessageEntity(length=12, offset=1683, type=<MessageEntityType.BOLD>)), from_user=User(first_name='Neo', id=6779084548, is_bot=True, username='hrtech_notifier_bot'), group_chat_created=False, is_topic_message=True, link_preview_options=LinkPreviewOptions(url='https://youtrack.wildberries.ru/issue/VR-5417'), message_id=10062, message_thread_id=10060, reply_to_message=Message(channel_chat_created=False, chat=Chat(id=-1001593412877, is_forum=True, title='HR INFRA TEAM', type=<ChatType.SUPERGROUP>), date=datetime.datetime(2024, 3, 11, 22, 13, 7, tzinfo=<UTC>), delete_chat_photo=False, forum_topic_created=ForumTopicCreated(icon_color=16478047, icon_custom_emoji_id='5067063649722434451', name='Code Review'), from_user=User(first_name='Valentin', id=6102292898, is_bot=False, is_premium=True, language_code='ru', last_name='Marchuk', username='valuamba'), group_chat_created=False, is_topic_message=True, message_id=10060, message_thread_id=10060, supergroup_chat_created=False), supergroup_chat_created=False, text='#review\\n\\nЗадачи на ревью:\\n\\n@valuamba:\\n34d [VR-8099] [BE] Локальное развертывание сервисов crm-api\\n6d [VR-8507] [BE] Реализовать TokenExchange в crm-api\\n1h [VR-8816] [BE] Научиться запускать локально crm-api\\n\\n@evansevich:\\n172d [VR-5411] [BE] - AuthV3 - Написать клиент для работы с auth v3\\n171d [VR-5474] [BE] - AuthV3 - Интеграция клиента auth v3 в auth service\\n161d [VR-5417] [BE] - AuthV3 - Интеграция auth v3 в competition-api\\n110d [VR-6289] [BE] Billing подпись. Добавить подпись в balance\\n18d [VR-8093] [FE] Переезд на новые кластера\\n7d [VR-8737] [BE] Приведение метрик к общему стандарту\\n5d [VR-8254] [BE] Подключить сервисы по 4 поиска к общему бэку\\n4d [VR-8880] [BE] Создать fx модуль для otel\\n2h [VR-8146] [BE] Написать клиент для WB Basket и подключить к HR Scans\\n\\n@mshogin:\\n55d [VR-7490] [ARCH] Архитектура для [Epic] WBTeam. Полная история баланса \\n54d [VR-6737] [BE] [Arch] Архитектура и декомпозиция {Получение доступа к wbteam сразу после проведения приказа в ЗУП}\\n48d [HRWEB-2142] [ARCH] Описать принцип перехода на наш сиквенс для employee_id\\n45d [VR-7934] ARCH] [hrdepts] Декомпозиция основных вариантов использования\\n38d [HRWEB-1985] [ARCH]Учет складских сотрудников подряда.\\n31d [VR-7799] [ARCH] Соц. программы. Техника сотруднику. Актуализировать данные на основе данных из маркетплейса\\n26d [VR-7790] [ARCH] Исправить ADR по увольняемым\\n7d [VR-8443] [ARCH] Архитектура Займы. Показывать типы договоров\\n6d [HRWEB-2295] [BE] Декомпозиция переезда на Kafka\\n6d [VR-7866] [ARCH] Выгрузка списка расчётов тарификатора офиса в Excel\\n6d [VR-7865] [ARCH] Просмотр списка расчётов тарификатора офиса\\n4d [VR-7795] [ARCH] Ввод реквизитов уволенными сотрудниками в WBTeam\\n3h [HRWEB-2378] [ARCH] WB Basket. Описание архитектуры')"
      ]
     },
     "execution_count": 77,
     "metadata": {},
     "output_type": "execute_result"
    }
   ],
   "source": [
    "import asyncio\n",
    "import telegram\n",
    "\n",
    "test_chat = -1002011635320\n",
    "test_thread = 2\n",
    "\n",
    "# https://t.me/c/1593412877/10060/10061\n",
    "bot = telegram.Bot(\"6779084548:AAEzWtAFQphlMonph8R-pw9IlU9YzFPal2k\")\n",
    "\n",
    "\n",
    "await bot.send_message(text=output.strip(), chat_id=-1001593412877, message_thread_id=10060, parse_mode='MarkdownV2')"
   ]
  },
  {
   "cell_type": "code",
   "execution_count": null,
   "id": "71f0f658-be1c-4046-a2ea-7095966e2cb3",
   "metadata": {},
   "outputs": [],
   "source": []
  }
 ],
 "metadata": {
  "kernelspec": {
   "display_name": "Python 3 (ipykernel)",
   "language": "python",
   "name": "python3"
  },
  "language_info": {
   "codemirror_mode": {
    "name": "ipython",
    "version": 3
   },
   "file_extension": ".py",
   "mimetype": "text/x-python",
   "name": "python",
   "nbconvert_exporter": "python",
   "pygments_lexer": "ipython3",
   "version": "3.12.2"
  }
 },
 "nbformat": 4,
 "nbformat_minor": 5
}
