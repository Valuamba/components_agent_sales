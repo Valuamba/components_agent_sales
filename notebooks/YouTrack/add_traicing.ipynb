{
 "cells": [
  {
   "cell_type": "code",
   "execution_count": 1,
   "id": "7182e669-3e28-477a-aff7-59241b7e5686",
   "metadata": {},
   "outputs": [],
   "source": [
    "from pydantic import BaseModel, Field, HttpUrl\n",
    "from typing import List\n",
    "import configparser\n",
    "\n",
    "# Define Pydantic models for each config section\n",
    "class YouTrackConfig(BaseModel):\n",
    "    Token: str\n",
    "    BaseUrl: str\n",
    "\n",
    "class VsemRabotaConfig(BaseModel):\n",
    "    ProjectId: str\n",
    "    WBTeam: List[str] = Field(default_factory=list)\n",
    "    Name: str\n",
    "\n",
    "# Main configuration model that includes both sections\n",
    "class AppConfig(BaseModel):\n",
    "    YouTrack: YouTrackConfig\n",
    "    VsemRabota: VsemRabotaConfig\n",
    "\n",
    "# Parse the INI file\n",
    "def parse_config_to_model(config_file: str) -> AppConfig:\n",
    "    config = configparser.ConfigParser()\n",
    "    config.read(config_file)\n",
    "    \n",
    "    # YouTrack section\n",
    "    youtrack_token = config.get('YouTrack', 'Token').strip(\"'\")\n",
    "    youtrack_base_url = config.get('YouTrack', 'BaseUrl')\n",
    "    \n",
    "    # VsemRabota Config section\n",
    "    project_id = config.get('VsemRabota Config', 'ProjectId')\n",
    "    name = config.get('VsemRabota Config', 'Name')\n",
    "    wb_team = config.get('VsemRabota Config', 'WBTeam').split(', ')\n",
    "    \n",
    "    # Create instances of the models\n",
    "    youtrack_config = YouTrackConfig(Token=youtrack_token, BaseUrl=youtrack_base_url)\n",
    "    vsem_rabota_config = VsemRabotaConfig(ProjectId=project_id, WBTeam=wb_team, Name=name)\n",
    "    \n",
    "    # Aggregate into the main config model\n",
    "    app_config = AppConfig(YouTrack=youtrack_config, VsemRabota=vsem_rabota_config)\n",
    "    \n",
    "    return app_config"
   ]
  },
  {
   "cell_type": "code",
   "execution_count": 2,
   "id": "b34bd717-0041-444d-b458-052088df0bc3",
   "metadata": {},
   "outputs": [
    {
     "name": "stdout",
     "output_type": "stream",
     "text": [
      "YouTrack=YouTrackConfig(Token='perm:VmFsZW50aW5fTWFyY2h1aw==.NjktMzE1.IgVAwvLdgn8H1dpNCX2FOS9T0Yhdpn', BaseUrl='https://youtrack.wildberries.ru') VsemRabota=VsemRabotaConfig(ProjectId='77-167', WBTeam=['Valentin_Marchuk', 'Liventsev_sergei'], Name='VsemRabota')\n"
     ]
    }
   ],
   "source": [
    "config_file = 'yt.ini'  # Update this path\n",
    "config_model = parse_config_to_model(config_file)\n",
    "print(config_model)"
   ]
  },
  {
   "cell_type": "code",
   "execution_count": null,
   "id": "a5b314ba-b5ba-4602-8625-ac76fe2f1912",
   "metadata": {},
   "outputs": [],
   "source": [
    "import requests\n",
    "\n",
    "headers = {\n",
    "    'Authorization': f'Bearer {config_model.YouTrack.Token}',\n",
    "    'Content-Type': 'application/json',\n",
    "}\n",
    "\n",
    "search_query = 'Business Line:HR   State: Resolved sort by: {Threat Score} desc'\n",
    "\n",
    "response = requests.get(f'{config_model.YouTrack.Token}/api/issues?query={search_query}', headers=headers)"
   ]
  },
  {
   "cell_type": "markdown",
   "id": "e4b337db-9845-4739-85ef-f091b8fda087",
   "metadata": {},
   "source": [
    "### Client"
   ]
  },
  {
   "cell_type": "code",
   "execution_count": 3,
   "id": "9a330715-f167-4d5e-838e-21f266f4d60a",
   "metadata": {},
   "outputs": [],
   "source": [
    "import requests\n",
    "from urllib.parse import urlencode\n",
    "\n",
    "class YouTrackAPIError(Exception):\n",
    "    \"\"\"Exception raised for errors in the YouTrack API.\"\"\"\n",
    "    def __init__(self, status_code, message):\n",
    "        super().__init__(f\"HTTP {status_code}: {message}\")\n",
    "        self.status_code = status_code\n",
    "        self.message = message\n",
    "\n",
    "class YouTrackClient:\n",
    "    def __init__(self, config):\n",
    "        self.config = config\n",
    "        self.headers = {\n",
    "            'Authorization': f'Bearer {self.config.Token}',\n",
    "            'Content-Type': 'application/json',\n",
    "        }\n",
    "\n",
    "    #     headers = {\n",
    "    #     'Authorization': f'Bearer {api_token}',\n",
    "    #     'Content-Type': 'application/json',\n",
    "    # }\n",
    "\n",
    "    def get(self, endpoint: str, params: dict = None) -> dict:\n",
    "        \"\"\"Sends a GET request to a specified endpoint with optional query parameters.\"\"\"\n",
    "        url = f\"{self.config.BaseUrl}{endpoint}\"\n",
    "        # param_str = '&'.join([f'{key}={value}' for key, value in params.items()])\n",
    "        if params:\n",
    "            url += f\"?{urlencode(params)}\"\n",
    "        try:\n",
    "            response = requests.get(url, headers=self.headers)\n",
    "            response.raise_for_status()\n",
    "            return response.json()\n",
    "        except requests.exceptions.HTTPError as e:\n",
    "            raise YouTrackAPIError(response.status_code, response.text) from e\n",
    "\n",
    "    def create_issue_with_custom_fields(self, issue_custom_fields, project_id, summary, description):\n",
    "        serialized_fields = issue_custom_fields.serialize()\n",
    "        \n",
    "        data = {\n",
    "            \"project\": {\"id\": project_id},\n",
    "            \"summary\": summary,\n",
    "            \"description\": description,\n",
    "            \"customFields\": serialized_fields,\n",
    "        }\n",
    "\n",
    "        return self.post('/api/issues', data=data)\n",
    "\n",
    "    def post(self, endpoint: str, data: dict = None) -> dict:\n",
    "        \"\"\"Sends a POST request to a specified endpoint with optional JSON data.\"\"\"\n",
    "        url = f\"{self.config.BaseUrl}{endpoint}\"\n",
    "        try:\n",
    "            response = requests.post(url, json=data, headers=self.headers)\n",
    "            response.raise_for_status()\n",
    "            return response.json()\n",
    "        except requests.exceptions.HTTPError as e:\n",
    "            raise YouTrackAPIError(response.status_code, response.text) from e\n",
    "\n",
    "    def get_issues(self, search_query: str, additional_params: dict = None) -> dict:\n",
    "        \"\"\"\n",
    "        Retrieves issues from YouTrack based on a search query and additional parameters.\n",
    "\n",
    "        :param search_query: A string representing the search query for filtering issues.\n",
    "        :param additional_params: Optional dictionary of additional query parameters.\n",
    "        :return: A dictionary containing the API response with issues.\n",
    "        \"\"\"\n",
    "        params = {'query': search_query}\n",
    "        if additional_params:\n",
    "            params.update(additional_params)\n",
    "        \n",
    "        return self.get('/api/issues', params=params)\n",
    "\n",
    "    def get_issue(self, issue_id, fields=None):\n",
    "        issue_fields = [\n",
    "            'id', 'idReadable', 'summary', 'description', 'reporter(id,login,fullName)',\n",
    "            'customFields($type,id,projectCustomField($type,id,field($type,id,name)),value($type,avatarUrl,buildLink,color(id),fullName,id,isResolved,localizedName,login,minutes,name,presentation,text))',\n",
    "            'linkType(name,sourceToTarget,targetToSource)',\n",
    "            'issues(id,idReadable,summary)'\n",
    "        ]\n",
    "        \n",
    "        if fields is None:\n",
    "            fields = 'id,idReadable,summary,description,customFields(id,projectCustomField(field(name))),linkType(name,sourceToTarget,targetToSource),issues(id,idReadable,summary)'\n",
    "            fields = ','.join(issue_fields)\n",
    "\n",
    "        params = {\n",
    "            'fields': fields\n",
    "        }\n",
    "\n",
    "        return self.get(f'/api/issues/{issue_id}', params=params)\n",
    "\n",
    "    def get_field(self, issue_id, field_id):\n",
    "        params = {'fields': 'id,projectCustomField(id,field(id,name)),value(id,isResolved,localizedName,name)'}\n",
    "        return self.get(f'/api/issues/{issue_id}/customFields/{field_id}', params=params)\n",
    "\n",
    "    def get_issue_history(self, issue_id):\n",
    "        'api/issues/SP-32/activities'\n",
    "\n",
    "        params = {\n",
    "            'categories': 'CustomFieldCategory,CommentsCategory',\n",
    "            'fields': 'author(name,login),timestamp,target(text),added(name),removed(name)'\n",
    "        }\n",
    "        return self.get(f'/api/issues/{issue_id}/activities', params=params)\n",
    "\n",
    "    def get_projects(self, additional_params: dict = None):\n",
    "        leader_fields = ['login', 'name', 'id']\n",
    "        createdby_fields = ['login', 'name', 'id']\n",
    "        \n",
    "        params = {'fields': 'id,name,shortName,createdBy(login,name,id),leader(login,name,id),key'}\n",
    "        if additional_params:\n",
    "            params.update(additional_params)\n",
    "        \n",
    "        return self.get('/api/admin/projects', params=params)\n",
    "\n",
    "    def get_project_by_name(self, shortName: str):\n",
    "        params = {\n",
    "            'fields': 'id,name,shortName',\n",
    "            'query': shortName\n",
    "        }\n",
    "\n",
    "        return self.get('/api/admin/projects', params=params)\n",
    "    "
   ]
  },
  {
   "cell_type": "markdown",
   "id": "ae7ba4ce-9892-4321-8cc3-be191d87fddc",
   "metadata": {},
   "source": [
    "### Initialize"
   ]
  },
  {
   "cell_type": "code",
   "execution_count": 4,
   "id": "4882c7de-56d6-4158-98ca-b707a92f5b59",
   "metadata": {},
   "outputs": [],
   "source": [
    "youtrack_client = YouTrackClient(config=config_model.YouTrack)\n",
    "        "
   ]
  },
  {
   "cell_type": "code",
   "execution_count": null,
   "id": "3a0bc63f-9833-49a7-b82f-1f398fe06464",
   "metadata": {},
   "outputs": [],
   "source": [
    "resp = youtrack_client.get_issue('VR-2934')\n",
    "\n",
    "# resp['customFields']\n",
    "resp\n"
   ]
  },
  {
   "cell_type": "code",
   "execution_count": null,
   "id": "6a50dbbd-7fa3-45ac-a118-0c0c31fcf26b",
   "metadata": {},
   "outputs": [],
   "source": [
    "def get_customfield_value(customfield, issue):\n",
    "    return next(r['value'] for r in issue['customFields'] if r['projectCustomField']['field']['name'] == customfield)\n",
    "\n",
    "def get_issue_authority(issue):\n",
    "    assignee = get_customfield_value('Assignee', issue)\n",
    "    reviewer = get_customfield_value('Reviewer [HR]', issue)\n",
    "    product = get_customfield_value('Product', issue)\n",
    "    reporter = resp['reporter']['fullName']\n",
    "\n",
    "    return {\n",
    "        'assignee': assignee['fullName'] if assignee else None,\n",
    "        'reviewer': reviewer['fullName'] if reviewer else None,\n",
    "        'products': [p['name'] for p in product],\n",
    "        'reporter': reporter\n",
    "    }"
   ]
  },
  {
   "cell_type": "code",
   "execution_count": null,
   "id": "f0b3a404-2fa7-424f-8527-e2dedaced43d",
   "metadata": {},
   "outputs": [],
   "source": [
    "import pandas as pd\n",
    "\n",
    "file_path = r'C:\\Users\\MGroup\\Downloads\\VULN tokens.csv'\n",
    "df = pd.read_csv(file_path)\n",
    "\n",
    "issues = list(dict.fromkeys(df['Ссылка на youtrack'].values.tolist()))\n",
    "issues = [ i.replace('https://youtrack.wildberries.ru/issue/', '') for i in issues]\n",
    "issues"
   ]
  },
  {
   "cell_type": "code",
   "execution_count": null,
   "id": "5827b80d-68c1-4f7b-b19e-cc4b1ffa2caf",
   "metadata": {},
   "outputs": [],
   "source": [
    "df"
   ]
  },
  {
   "cell_type": "code",
   "execution_count": null,
   "id": "4de0dd3d-2f38-4d71-afd5-5c2252b19a61",
   "metadata": {},
   "outputs": [],
   "source": [
    "issues_authority = []\n",
    "for id in issues:\n",
    "    issue = youtrack_client.get_issue(id)\n",
    "    if issue is None:\n",
    "        print(f'Issue {id} was not found.')\n",
    "        continue\n",
    "    issue_authority = get_issue_authority(issue)\n",
    "    issues_authority.append({\n",
    "         'issue_id': id,\n",
    "        **issue_authority\n",
    "    })\n",
    "\n",
    "\n",
    "issues_authority"
   ]
  },
  {
   "cell_type": "code",
   "execution_count": null,
   "id": "e2ae053d-14d7-402a-8ad3-8eda1a440287",
   "metadata": {},
   "outputs": [],
   "source": [
    "df['issue_id'] = df['Ссылка на youtrack'].str.extract(r'issue/(VR-\\d+)')\n",
    "\n",
    "json_df = pd.DataFrame(issues_authority)\n",
    "merged_df = pd.merge(df, json_df, on=\"issue_id\", how=\"left\")\n",
    "\n",
    "merged_df.to_csv('vulns.csv')"
   ]
  },
  {
   "cell_type": "code",
   "execution_count": null,
   "id": "056d3a39-2d75-4ad9-abfa-de8d566b87c3",
   "metadata": {},
   "outputs": [],
   "source": [
    "merged_df['products'].apply(assign_team)"
   ]
  },
  {
   "cell_type": "code",
   "execution_count": null,
   "id": "78e038f7-8b8e-4b01-8537-908ebd78ff17",
   "metadata": {},
   "outputs": [],
   "source": [
    "\n",
    "# Define a function to determine the team based on the product\n",
    "def assign_team(products):\n",
    "    if any(product in ['admin', 'vsemrabota', 'wbteam'] for product in products):\n",
    "        return 'WB Team'\n",
    "    elif 'ats' in products:\n",
    "        return 'ATS Team'\n",
    "    else:\n",
    "        return 'Empty Team'\n",
    "\n",
    "# Apply the function to create a new 'Team' column\n",
    "merged_df['Team'] = merged_df['products'].apply(assign_team)\n",
    "\n",
    "# Group by 'Team' and then by 'issue_id', and collect tokens\n",
    "grouped_data = merged_df.groupby(['Team', 'issue_id'])['Секрет'].apply(list)\n",
    "\n",
    "output_format = {}\n",
    "for (team, issue_id), tokens in grouped_data.items():\n",
    "    if team not in output_format:\n",
    "        output_format[team] = []\n",
    "    output_format[team].append((issue_id, tokens))\n",
    "\n",
    "# Print in the desired format\n",
    "for team, issues in output_format.items():\n",
    "    print(f\"{team}:\")\n",
    "    for issue_id, tokens in issues:\n",
    "        print(f\"{issue_id}\")\n",
    "        for token in tokens:\n",
    "            print(f\"- {token}\")\n",
    "    print(\"\\n\")"
   ]
  },
  {
   "cell_type": "code",
   "execution_count": null,
   "id": "88c2584d-e31e-42fe-96d8-638a0e5f452b",
   "metadata": {},
   "outputs": [],
   "source": [
    "merged_df.to_csv('vulns.csv')"
   ]
  },
  {
   "cell_type": "code",
   "execution_count": null,
   "id": "5abcbe72-0cff-429d-9f92-13279a7adcb0",
   "metadata": {},
   "outputs": [],
   "source": [
    "issues = youtrack_client.get('/api/issues', params={'query': 'Business Line:HR   State: Resolved sort by: {Threat Score} desc'})\n",
    "print(issues)"
   ]
  },
  {
   "cell_type": "code",
   "execution_count": null,
   "id": "2e326394-7444-4a4f-87ad-8410b2eaebdb",
   "metadata": {},
   "outputs": [],
   "source": [
    "youtrack_client.get_issues('Business Line:HR   State: Resolved sort by: {Threat Score} desc')"
   ]
  },
  {
   "cell_type": "code",
   "execution_count": 13,
   "id": "5cb6ba9f-cbcd-4a53-9204-7d61bdf7b1d6",
   "metadata": {},
   "outputs": [
    {
     "data": {
      "text/plain": [
       "{'shortName': 'VR', 'name': 'VsemRabota', 'id': '77-167', '$type': 'Project'}"
      ]
     },
     "execution_count": 13,
     "metadata": {},
     "output_type": "execute_result"
    }
   ],
   "source": [
    "def get_project_by_name(project_short_name: str):\n",
    "    projects = youtrack_client.get_project_by_name(project_short_name)\n",
    "\n",
    "    target_project = next(project for project in projects if project['shortName'] == project_short_name)\n",
    "    return target_project\n",
    "   \n",
    "get_project_by_name('VR')"
   ]
  },
  {
   "cell_type": "code",
   "execution_count": null,
   "id": "947403fc-fecb-4107-bdb1-2a910ae1b28c",
   "metadata": {},
   "outputs": [],
   "source": [
    "import json\n",
    "\n",
    "print(.dumps(youtrack_client.get_issue('VR-5418'), indent=2))"
   ]
  },
  {
   "cell_type": "code",
   "execution_count": null,
   "id": "c4042c48-15f6-4613-8962-99ad5bb9e6b2",
   "metadata": {},
   "outputs": [],
   "source": [
    "resp = youtrack_client.get_issues('Reviewer [HR]: Valentin_Marchuk, Vansevich.E, Mikhail_Shogin, grigorev.mark , Vitaliy_Guselnikov, aleksandrov.e23, krupenko.ilya, mustafetov.n , goncharov.v38, korolev.artem14  and State: Review ')\n",
    "resp"
   ]
  },
  {
   "cell_type": "code",
   "execution_count": null,
   "id": "2595f651-974d-4298-856b-08156713e536",
   "metadata": {},
   "outputs": [],
   "source": [
    "review_items = []\n",
    "\n",
    "for item in resp:\n",
    "    print(item['id'])\n",
    "    issue = youtrack_client.get_issue(item['id'])\n",
    "    history = youtrack_client.get_issue_history(issue[\"idReadable\"])\n",
    "    \n",
    "    latest_review_time, hours_passed = get_latest_review_time_and_passed_hours(history)\n",
    "    \n",
    "    reviewer = next(field['value']['login'] for field in issue['customFields'] if field['projectCustomField']['field']['name'] == 'Reviewer [HR]')\n",
    "    \n",
    "    review_items.append({\n",
    "        'reviewer': reviewer,\n",
    "        'issue_id': issue[\"idReadable\"],\n",
    "        'summary': issue[\"summary\"],\n",
    "        'latest_review_time': latest_review_time,\n",
    "        'hours_passed': hours_passed\n",
    "    })"
   ]
  },
  {
   "cell_type": "code",
   "execution_count": null,
   "id": "b56076bd-0ca4-479a-9c66-d8dc217aa708",
   "metadata": {},
   "outputs": [],
   "source": [
    "youtrack_client.get_field('VR-8939', '86-578')"
   ]
  },
  {
   "cell_type": "code",
   "execution_count": null,
   "id": "9223f07b-4dd6-4048-bdba-803f0973fd99",
   "metadata": {},
   "outputs": [],
   "source": [
    "issue = youtrack_client.get_issue('92-1177453')\n",
    "history = youtrack_client.get_issue_history(issue[\"idReadable\"])\n",
    "\n",
    "latest_review_time, hours_passed = get_latest_review_time_and_passed_hours(history)\n",
    "\n",
    "reviewer = next(field['value']['login'] for field in issue['customFields'] if field['projectCustomField']['field']['name'] == 'Reviewer [HR]')\n",
    "\n",
    "item = {\n",
    "    'reviewer': reviewer,\n",
    "    'issue_id': issue[\"idReadable\"],\n",
    "    'summary': issue[\"summary\"],\n",
    "    'latest_review_time': latest_review_time,\n",
    "    'hours_passed': hours_passed\n",
    "}\n",
    "# print(f'[{issue[\"idReadable\"]}] {issue[\"summary\"]} {reviewer}')\n",
    "\n",
    "item"
   ]
  },
  {
   "cell_type": "code",
   "execution_count": null,
   "id": "4e1feb6d-f633-4df6-9de8-bff214a94423",
   "metadata": {},
   "outputs": [],
   "source": [
    "youtrack_client.get_issue('VR-8939')"
   ]
  },
  {
   "cell_type": "code",
   "execution_count": null,
   "id": "415472e3-2273-48c0-bd70-9bb03be2a934",
   "metadata": {},
   "outputs": [],
   "source": [
    "history = youtrack_client.get_issue_history('VR-8816')\n",
    "\n",
    "history"
   ]
  },
  {
   "cell_type": "code",
   "execution_count": null,
   "id": "786a93dd-d2fc-4b87-909e-8a833f4437d0",
   "metadata": {},
   "outputs": [],
   "source": [
    "activity_log = history"
   ]
  },
  {
   "cell_type": "code",
   "execution_count": null,
   "id": "721aa3f1-daa4-463a-a60f-8e15dc852bff",
   "metadata": {},
   "outputs": [],
   "source": [
    "from datetime import datetime, timedelta\n",
    "\n",
    "def get_latest_review_time_and_passed_hours(activity_log):\n",
    "    # There was an error due to the first item in the log having 'added' as an integer. Let's correct this and process again.\n",
    "    latest_review_timestamp = None\n",
    "    for activity in activity_log:\n",
    "        if 'added' in activity and isinstance(activity['added'], list) and any('name' in d and d['name'] == 'Review' for d in activity['added']):\n",
    "            latest_review_timestamp = activity['timestamp']\n",
    "    \n",
    "    # Convert the timestamp from milliseconds to seconds\n",
    "    latest_review_timestamp_seconds = latest_review_timestamp / 1000 if latest_review_timestamp else None\n",
    "    \n",
    "    # Calculate the hours passed from the latest status change to \"Review\" until now\n",
    "    if latest_review_timestamp_seconds:\n",
    "        latest_review_time = datetime.utcfromtimestamp(latest_review_timestamp_seconds)\n",
    "        current_time = datetime.utcnow()\n",
    "        hours_passed = (current_time - latest_review_time).total_seconds() / 3600\n",
    "    else:\n",
    "        hours_passed = None\n",
    "    \n",
    "    return latest_review_time, hours_passed\n",
    "\n",
    "get_latest_review_time_and_passed_hours(activity_log)"
   ]
  },
  {
   "cell_type": "code",
   "execution_count": null,
   "id": "efeed0de-b0c7-41b5-8c6a-5ea42a1bff55",
   "metadata": {},
   "outputs": [],
   "source": [
    "review_items"
   ]
  },
  {
   "cell_type": "code",
   "execution_count": null,
   "id": "ae3b70c1-3505-4906-82ee-aee2a3363ce1",
   "metadata": {},
   "outputs": [],
   "source": [
    "from collections import defaultdict\n",
    "from datetime import datetime\n",
    "import re\n",
    "\n",
    "def escape_markdown(text):\n",
    "    # Define the pattern for special Markdown characters that need to be escaped\n",
    "    special_chars_pattern = r'([_*\\[\\]()~`>#+\\-=|{}.!])'\n",
    "    # Replace each special character with its escaped version\n",
    "    escaped_text = re.sub(special_chars_pattern, r'\\\\\\1', text)\n",
    "    return escaped_text\n",
    "\n",
    "mapped_user_names = {\n",
    "    'Valentin_Marchuk': 'valuamba',\n",
    "    'Vansevich.E': 'evansevich',\n",
    "    'Mikhail_Shogin': 'mshogin'\n",
    "}\n",
    "\n",
    "grouped_issues = defaultdict(list)\n",
    "for issue in review_items:\n",
    "    grouped_issues[issue['reviewer']].append(issue)\n",
    "\n",
    "# \"[*\" + escapeMarkdown(issueStr) + \"*]\"  + \"(\" + issueUrl + \")\\n\\n\"\n",
    "\n",
    "# Sort and format output\n",
    "output = \"\\#review\\n\\nЗадачи на ревью:\\n\\n\"\n",
    "for reviewer, issues in grouped_issues.items():\n",
    "    output += f\"@{mapped_user_names[reviewer]}:\\n\"\n",
    "    # Sort issues by hours_passed\n",
    "    sorted_issues = sorted(issues, key=lambda x: x['hours_passed'], reverse=True)\n",
    "    for issue in sorted_issues:\n",
    "        issue_url = f'https://youtrack.wildberries.ru/issue/{issue[\"issue_id\"]}'\n",
    "        time_passed = f\"{int(issue['hours_passed'] / 24)}d\" if issue['hours_passed'] > 24 else f\"{round(issue['hours_passed'])}h\"\n",
    "        output += f\"{time_passed} [*\\[{escape_markdown(issue['issue_id'])}\\]*]({issue_url}) {escape_markdown(issue['summary'])}\\n\"\n",
    "    output += '\\n'\n",
    "\n",
    "print(output.strip())"
   ]
  },
  {
   "cell_type": "code",
   "execution_count": null,
   "id": "2c711e44-3791-4db8-bd55-55db385c05c3",
   "metadata": {},
   "outputs": [],
   "source": [
    "https://t.me/c/2011635320/2/3"
   ]
  },
  {
   "cell_type": "code",
   "execution_count": null,
   "id": "af689b4c-e153-4a41-97eb-11f065e06ff3",
   "metadata": {},
   "outputs": [],
   "source": [
    "import asyncio\n",
    "import telegram\n",
    "\n",
    "test_chat = -1002011635320\n",
    "test_thread = 2\n",
    "\n",
    "# https://t.me/c/1593412877/10060/10061\n",
    "bot = telegram.Bot(\"6779084548:AAEzWtAFQphlMonph8R-pw9IlU9YzFPal2k\")\n",
    "\n",
    "\n",
    "await bot.send_message(text=output.strip(), chat_id=-1001593412877, message_thread_id=10060, parse_mode='MarkdownV2')"
   ]
  },
  {
   "cell_type": "markdown",
   "id": "3949e136-5a9c-4eef-adb6-5fb0d1ae18d0",
   "metadata": {},
   "source": [
    "### Custom Fields"
   ]
  },
  {
   "cell_type": "code",
   "execution_count": 19,
   "id": "a4b3bacb-3ff1-43f3-8958-784850eeaac2",
   "metadata": {},
   "outputs": [],
   "source": [
    "class CustomField:\n",
    "    def __init__(self, name, value, field_type=\"field_type\"):\n",
    "        self.name = name\n",
    "        self.value = value\n",
    "        self.field_type = field_type\n",
    "\n",
    "class EnumField(CustomField):\n",
    "    def __init__(self, name, value):\n",
    "        super().__init__(name, {\"name\": value}, field_type=\"SingleEnumIssueCustomField\")\n",
    "\n",
    "class UserField(CustomField):\n",
    "    def __init__(self, name, login):\n",
    "        super().__init__(name, {\"login\": login}, field_type=\"SingleUserIssueCustomField\")\n",
    "\n",
    "class MultiEnumField(CustomField):\n",
    "    def __init__(self, name, values):\n",
    "        super().__init__(name, [{\"name\": value} for value in values], field_type=\"MultiEnumIssueCustomField\")\n",
    "\n",
    "class PeriodField(CustomField):\n",
    "    def __init__(self, name, presentation):\n",
    "        super().__init__(name, {\"presentation\": presentation}, field_type=\"PeriodIssueCustomField\")\n",
    "\n",
    "class DateField(CustomField):\n",
    "    def __init__(self, name, value=None):\n",
    "        super().__init__(name, value, field_type=\"DateIssueCustomField\")\n",
    "\n",
    "class SimpleField(CustomField):\n",
    "    def __init__(self, name, value):\n",
    "        super().__init__(name, value, field_type=\"SimpleIssueCustomField\")\n"
   ]
  },
  {
   "cell_type": "code",
   "execution_count": 45,
   "id": "eb6ecb75-f194-449b-8ccc-fa4d311bb7be",
   "metadata": {},
   "outputs": [],
   "source": [
    "from datetime import datetime, timezone\n",
    "import pytz\n",
    "\n",
    "class VRIssueCustomFields:\n",
    "    def __init__(self, assignee, type, devs, reviewer_hr, priority, state, stream, estimation, complexity, product, environments, services, start_date=None, due_date=None):\n",
    "        self.assignee = assignee\n",
    "        self.type = type\n",
    "        self.devs = devs\n",
    "        self.reviewer_hr = reviewer_hr\n",
    "        self.priority = priority\n",
    "        self.state = state\n",
    "        self.stream = stream\n",
    "        self.estimation = estimation\n",
    "        self.complexity = complexity\n",
    "        self.product = product\n",
    "        self.environments = environments\n",
    "        self.services = services\n",
    "        self.start_date = self.convert_date_to_utc_millis(start_date)\n",
    "        self.due_date = self.convert_date_to_utc_millis(due_date)\n",
    "\n",
    "    def serialize(self):\n",
    "        custom_fields = [\n",
    "            EnumField(\"Type\", self.type),\n",
    "            EnumField(\"Devs\", self.devs),\n",
    "            UserField(\"Assignee\", self.assignee),\n",
    "            UserField(\"Reviewer [HR]\", self.reviewer_hr),\n",
    "            EnumField(\"Priority\", self.priority),\n",
    "            EnumField(\"State\", self.state),\n",
    "            EnumField(\"Stream\", self.stream),\n",
    "            PeriodField(\"Estimation\", self.estimation),\n",
    "            EnumField(\"Complexity\", self.complexity),\n",
    "            MultiEnumField(\"Product\", [self.product]),\n",
    "            EnumField(\"Environments\", self.environments),\n",
    "            MultiEnumField(\"Services\", self.services.split(',')),\n",
    "            DateField(\"Start Date\", self.start_date),\n",
    "            DateField(\"Due Date\", self.due_date),\n",
    "        ]\n",
    "\n",
    "        # Filtering out None values and adjusting for field type\n",
    "        serialized_fields = []\n",
    "        for field in custom_fields:\n",
    "            if field.value is not None:\n",
    "                serialized_fields.append({\"name\": field.name, \"value\": field.value, \"$type\": field.field_type})\n",
    "                # if isinstance(field, DateField):\n",
    "                #     # Ensure date fields are serialized with proper value format\n",
    "                #     serialized_fields.append({\"name\": field.name, \"value\": {\"$type\": \"Long\", \"value\": field.value}, \"$type\": field.field_type})\n",
    "                # else:\n",
    "                #     serialized_fields.append({\"name\": field.name, \"value\": field.value, \"$type\": field.field_type})\n",
    "        \n",
    "        return serialized_fields\n",
    "\n",
    "    @staticmethod\n",
    "    def convert_date_to_utc_millis(date_str):\n",
    "        if date_str is None:\n",
    "            return None\n",
    "        # Assuming the input format is 'YYYY-MM-DD'\n",
    "        dt = datetime.strptime(date_str, '%Y-%m-%d')\n",
    "        # Adjust for UTC+3\n",
    "        tz_utc_3 = pytz.timezone('Europe/Moscow')\n",
    "        dt = tz_utc_3.localize(dt)\n",
    "        # Convert to UTC\n",
    "        dt_utc = dt.astimezone(pytz.utc)\n",
    "        # Convert to milliseconds since epoch\n",
    "        return int(dt_utc.timestamp() * 1000)\n",
    "\n",
    "# Adapt EnumField, UserField, PeriodField, MultiEnumField, DateField, and SimpleField definitions as required\n"
   ]
  },
  {
   "cell_type": "code",
   "execution_count": null,
   "id": "afc2c5e2-c45e-4be6-b92c-a1396d86e364",
   "metadata": {},
   "outputs": [],
   "source": []
  },
  {
   "cell_type": "markdown",
   "id": "a3f61503-bdf7-462b-9e6c-6edc3a3e4bc5",
   "metadata": {},
   "source": [
    "### Create Task"
   ]
  },
  {
   "cell_type": "code",
   "execution_count": 41,
   "id": "521c4411-f1f3-4ded-b61a-8e4791971278",
   "metadata": {},
   "outputs": [],
   "source": [
    "# Instantiate VRIssueCustomFields with hardcoded values\n",
    "issue_custom_fields = VRIssueCustomFields(\n",
    "    assignee=\"grigorev.mark\",\n",
    "    type=\"Task\",\n",
    "    devs=\"BE\",\n",
    "    reviewer_hr=\"Markov.Kirill3\",\n",
    "    priority=\"Show-stopper\",\n",
    "    state=\"Review\",\n",
    "    stream=\"Product\",\n",
    "    estimation=\"4h\",\n",
    "    complexity=\"Вроде не изян\",\n",
    "    product=\"all\",\n",
    "    environments=\"prod\",\n",
    "    services=\"auth\",\n",
    "    start_date=None,  # Assuming these fields are optional and can be None\n",
    "    due_date='2024-05-19'\n",
    ")\n",
    "\n",
    "# To get the serialized form suitable for creating an issue in YouTrack\n",
    "serialized_fields = issue_custom_fields.serialize()\n",
    "\n",
    "# `serialized_fields` now contains the custom fields in the format expected by YouTrack API.\n"
   ]
  },
  {
   "cell_type": "code",
   "execution_count": 40,
   "id": "8c474908-195b-46b8-a5b6-d6b6dc93d4dc",
   "metadata": {},
   "outputs": [
    {
     "data": {
      "text/plain": [
       "[{'name': 'Type',\n",
       "  'value': {'name': 'Task'},\n",
       "  '$type': 'SingleEnumIssueCustomField'},\n",
       " {'name': 'Devs',\n",
       "  'value': {'name': 'BE'},\n",
       "  '$type': 'SingleEnumIssueCustomField'},\n",
       " {'name': 'Assignee',\n",
       "  'value': {'login': 'grigorev.mark'},\n",
       "  '$type': 'SingleUserIssueCustomField'},\n",
       " {'name': 'Reviewer [HR]',\n",
       "  'value': {'login': 'Markov.Kirill3'},\n",
       "  '$type': 'SingleUserIssueCustomField'},\n",
       " {'name': 'Priority',\n",
       "  'value': {'name': 'Show-stopper'},\n",
       "  '$type': 'SingleEnumIssueCustomField'},\n",
       " {'name': 'State',\n",
       "  'value': {'name': 'Review'},\n",
       "  '$type': 'SingleEnumIssueCustomField'},\n",
       " {'name': 'Stream',\n",
       "  'value': {'name': 'Product'},\n",
       "  '$type': 'SingleEnumIssueCustomField'},\n",
       " {'name': 'Estimation',\n",
       "  'value': {'presentation': '4h'},\n",
       "  '$type': 'PeriodIssueCustomField'},\n",
       " {'name': 'Complexity',\n",
       "  'value': {'name': 'Вроде не изян'},\n",
       "  '$type': 'SingleEnumIssueCustomField'},\n",
       " {'name': 'Product',\n",
       "  'value': [{'name': 'all'}],\n",
       "  '$type': 'MultiEnumIssueCustomField'},\n",
       " {'name': 'Environments',\n",
       "  'value': {'name': 'prod'},\n",
       "  '$type': 'SingleEnumIssueCustomField'},\n",
       " {'name': 'Services',\n",
       "  'value': [{'name': 'auth'}],\n",
       "  '$type': 'MultiEnumIssueCustomField'},\n",
       " {'name': 'Due Date',\n",
       "  'value': {'$type': 'Long', 'value': 1710795600000},\n",
       "  '$type': 'DateIssueCustomField'}]"
      ]
     },
     "execution_count": 40,
     "metadata": {},
     "output_type": "execute_result"
    }
   ],
   "source": [
    "serialized_fields"
   ]
  },
  {
   "cell_type": "code",
   "execution_count": 46,
   "id": "816ec998-b046-4f1e-8d58-7f0fca9db95c",
   "metadata": {},
   "outputs": [],
   "source": [
    "youtrack_client = YouTrackClient(config=config_model.YouTrack)\n"
   ]
  },
  {
   "cell_type": "code",
   "execution_count": 47,
   "id": "aae059a9-a837-478e-9a3c-518d70f9582c",
   "metadata": {},
   "outputs": [
    {
     "name": "stdout",
     "output_type": "stream",
     "text": [
      "{'id': '92-1208267', '$type': 'Issue'}\n"
     ]
    }
   ],
   "source": [
    "\n",
    "# Usage example:\n",
    "issue_custom_fields = VRIssueCustomFields(\n",
    "    assignee=\"grigorev.mark\",\n",
    "    type=\"Task\",\n",
    "    devs=\"BE\",\n",
    "    reviewer_hr=\"Valentin_Marchuk\",\n",
    "    priority=\"Normal\",\n",
    "    state=\"Review\",\n",
    "    stream=\"Product\",\n",
    "    estimation=\"4h\",\n",
    "    complexity=\"Вроде не изян\",\n",
    "    product=\"all\",\n",
    "    environments=\"prod\",\n",
    "    services=\"auth\",\n",
    "    start_date=None,\n",
    "    due_date='2024-05-19',\n",
    ")\n",
    "\n",
    "response_data = youtrack_client.create_issue_with_custom_fields(issue_custom_fields, \"77-167\", \"Test 1\", \"Test 2\")\n",
    "print(response_data)\n"
   ]
  },
  {
   "cell_type": "code",
   "execution_count": null,
   "id": "eabc9fcc-a885-4566-8613-58fef71c6893",
   "metadata": {},
   "outputs": [],
   "source": [
    "youtrack_client.get_issue('92-1208267')"
   ]
  },
  {
   "cell_type": "markdown",
   "id": "9b89d797-7ed4-4611-99d5-9fcc0b2fe065",
   "metadata": {},
   "source": [
    "## Retro"
   ]
  },
  {
   "cell_type": "code",
   "execution_count": null,
   "id": "8a95abaa-3d5c-447b-974a-51a30d5b94cc",
   "metadata": {},
   "outputs": [],
   "source": [
    "'updated by: grigorev.mark updated: 2024-03-15 .. now'"
   ]
  },
  {
   "cell_type": "code",
   "execution_count": null,
   "id": "4f55cf8d-6592-40d6-bbce-25219d56e82b",
   "metadata": {},
   "outputs": [],
   "source": [
    "\"\"\"Reviewer [HR]: Valentin_Marchuk, Vansevich.E, Mikhail_Shogin, grigorev.mark , \n",
    "Vitaliy_Guselnikov, aleksandrov.e23, krupenko.ilya, mustafetov.n , goncharov.v38, korolev.artem14  and State: Review\n",
    "\"\"\""
   ]
  },
  {
   "cell_type": "code",
   "execution_count": null,
   "id": "624445b7-27ca-45d5-b1ae-87356bbd22e4",
   "metadata": {},
   "outputs": [],
   "source": [
    "Valentin_Marchuk, Vansevich.E, grigorev.mark, Vitaliy_Guselnikov, aleksandrov.e23, krupenko.ilya, mustafetov.n, korolev.artem14"
   ]
  },
  {
   "cell_type": "code",
   "execution_count": 23,
   "id": "adfb796b-4c6c-4e54-946a-8171e1a8bd25",
   "metadata": {},
   "outputs": [],
   "source": [
    "def get_activity_issues(login):\n",
    "    resp = youtrack_client.get_issues(f'updated by: {login} updated: 2024-03-01 .. now')\n",
    "\n",
    "    issues = []\n",
    "    for item in resp:\n",
    "        issue = youtrack_client.get_issue(item['id'])\n",
    "        issues.append(issue)\n",
    "\n",
    "    issuesWithStates = [\n",
    "    {\n",
    "        'idReadable': i[\"idReadable\"],\n",
    "        'summary': i[\"summary\"],\n",
    "        'state': next((i['value']['name'] for i in i['customFields'] \n",
    "                       if i['projectCustomField']['field']['name'] == 'State' and i['value'] and i['value']['name'] in ['To Do', 'Canceled', 'Done', 'Review', 'Blocked', 'Canceled', 'In Progress']), None)\n",
    "    } for i in issues]\n",
    "\n",
    "    return issuesWithStates"
   ]
  },
  {
   "cell_type": "code",
   "execution_count": null,
   "id": "f956d194-a200-442a-b747-7148a28d7287",
   "metadata": {},
   "outputs": [],
   "source": []
  },
  {
   "cell_type": "code",
   "execution_count": null,
   "id": "c2a61f27-3cc1-4891-a829-cb75c5027a2b",
   "metadata": {},
   "outputs": [],
   "source": [
    "print('\\n'.join([f'[{i[\"idReadable\"]}] {i[\"summary\"]}' for i in issues]))"
   ]
  },
  {
   "cell_type": "code",
   "execution_count": 78,
   "id": "947f7ef3-5755-4118-9ba6-e8d8c6d1cfc6",
   "metadata": {},
   "outputs": [],
   "source": [
    "issuesWithStates = [\n",
    "    {\n",
    "        'idReadable': i[\"idReadable\"],\n",
    "        'summary': i[\"summary\"],\n",
    "        'state': next(i['value']['name'] for i in i['customFields'] if i['projectCustomField']['field']['name'] == 'State' and i['value'], None)\n",
    "    }\n",
    "        \n",
    "for i in issues]"
   ]
  },
  {
   "cell_type": "code",
   "execution_count": 24,
   "id": "404cefee-8cf6-4efc-845f-4f3a4570a5ee",
   "metadata": {},
   "outputs": [],
   "source": [
    "def print_issues(login, issues):\n",
    "    print(f'\\n\\n------------------- {login} -------------------\\n\\n')\n",
    "    state_importance = {\n",
    "        'Blocked': (7, '🚫'),\n",
    "        'To Do': (6, '📝'),\n",
    "        'In Progress': (5, '🔨'),\n",
    "        'Review': (4, '👀'),\n",
    "        'Waiting Response': (3, '⏳'),\n",
    "        'Done': (2, '✅'),\n",
    "        'Canceled': (1, '❌')  # Added \"Canceled\" state with emoji\n",
    "    }\n",
    "    \n",
    "    # Grouping issues by state and sorting\n",
    "    grouped_issues = {}\n",
    "    for issue in [i for i in issues if i['state']]:\n",
    "        state = issue['state']\n",
    "        if state in grouped_issues:\n",
    "            grouped_issues[state].append(issue)\n",
    "        else:\n",
    "            grouped_issues[state] = [issue]\n",
    "    \n",
    "    # Sorting states by their importance\n",
    "    sorted_states = sorted(grouped_issues.items(), key=lambda x: state_importance[x[0]][0], reverse=True)\n",
    "    \n",
    "    # Formatting output\n",
    "    for state, issues in sorted_states:\n",
    "        print(f\"{state} {state_importance[state][1]}\")\n",
    "        for issue in issues:\n",
    "            print(f\"[{issue['idReadable']}] {issue['summary']}\")\n",
    "        print()  # Add an extra line between groups for readability"
   ]
  },
  {
   "cell_type": "code",
   "execution_count": 28,
   "id": "8ef5b910-6b87-4f1a-a8c9-10313c2cea10",
   "metadata": {},
   "outputs": [],
   "source": [
    "participants = [\n",
    "    'korolev.artem14',\n",
    "    'Vansevich.E',\n",
    "    'grigorev.mark',\n",
    "    'Vitaliy_Guselnikov',\n",
    "    'Valentin_Marchuk',\n",
    "    'hlopkov.mihail2',\n",
    "    'aleksandrov.e23',\n",
    "    'krupenko.ilya',\n",
    "    'mustafetov.n',\n",
    "    'goncharov.v38',\n",
    "    'nevskiy.vilyam'\n",
    "]"
   ]
  },
  {
   "cell_type": "code",
   "execution_count": 30,
   "id": "32e12eb6-aad2-41d3-96d5-408d524bb6b4",
   "metadata": {},
   "outputs": [
    {
     "name": "stdout",
     "output_type": "stream",
     "text": [
      "\n",
      "\n",
      "------------------- Valentin_Marchuk -------------------\n",
      "\n",
      "\n",
      "Blocked 🚫\n",
      "[VR-8515] [BE] Реализовать маскировку в crm-api\n",
      "[HRWEB-2378] [ARCH] WB Basket. Описание архитектуры\n",
      "[VR-8146] [BE] Написать клиент для WB Basket и подключить к HR Scans\n",
      "[VR-9035] Понять какие интеграции планируются\n",
      "[VR-8662] [VULN-201] Race Condition на проверку кода при аутентификации по ОТП на всемработе\n",
      "[HRWEB-2300] Настроить алертинг по паникам для ns: hr\n",
      "[VR-6018] [VULN-15] CORS Misconfiguration на ресурсах всемработы\n",
      "\n",
      "To Do 📝\n",
      "[VR-9584] [BE] Внедрить взаимодействие с Я.Календарем на страницу\n",
      "[VR-8991] [ARCH] Оргструктура. Обновление данных в kafka\n",
      "[VR-9290] [UserStory] Интеграция AuthV3 в сервисы INFRA\n",
      "[VR-9287] [UserStory] Интеграция AuthV3 в сервисы C&B\n",
      "[VR-8407] [UserStory] MVP админки. Админка для L1 - hr-backoffice\n",
      "[VR-8946] [Epic] Развитие компетенций инженеров и членов команды\n",
      "[VR-9499] [UserStory] Развернуть datalake для будущей аналитики\n",
      "[VR-9498] [Epic] Развернуть datalake для будущей аналитики\n",
      "[VR-6899] [Story] HR INFRA. Добавление технических дашбордов.\n",
      "[VR-9487] [DO] Определить структуру Grafana Dashboard. Аналитка и декомпозиция\n",
      "[VR-9484] [Epic] Приземление данных, запросов и запуск сервисов вне РФ\n",
      "[VR-9485] [UserStory] Приземление данных, запросов и запуск сервисов в РБ\n",
      "[VR-9271] [UserStory] Temporal multiple clusters\n",
      "[VR-6417] [UserStory] HR CRM. Внедрить во все дерево зависимостей сервисов\n",
      "[VR-5427] [BE] - AuthV3 - Интеграция auth v3 в trf-office-api\n",
      "[VR-9261] Отключение сервисов в старых кластерах\n",
      "[VR-9447] [UserStory] Автоматизировать DevOps Workflow\n",
      "[VR-9259] [Epic] Автоматизация YouTrack\n",
      "[VR-8603] [Epic] Подготовка инфраструктуры для переезда на Kafka\n",
      "[VR-5997] [Epic] Все команды. Закрытие тех долга по уязвимостям ИБ\n",
      "[VR-9433] [KS] Провалидировать номера тестовых учеток и кодов\n",
      "[VR-9432] [BE] AuthV3. Завести тестовые учетки в AuthV3.\n",
      "[VR-9431] [PM] Создать номера для тестовых учеток\n",
      "[VR-9260] [UserStory] Автоматизация YouTrack & VCS\n",
      "[VR-8198] [UserStory] Поиск по сотруднику: ФИО, Телефон, ID\n",
      "[VR-9326] [BE] - AuthV3 - Интеграция auth v3 в income\n",
      "[VR-9321] [BE] - AuthV3 - Интеграция auth v3 в employee-cohort\n",
      "[VR-9322] [BE] - AuthV3 - Интеграция auth v3 в enforcement-orders\n",
      "[VR-9320] [BE] - AuthV3 - Интеграция auth v3 в ticket-debts\n",
      "[VR-9317] [BE] - AuthV3 - Интеграция auth v3 в accruals-api\n",
      "[VR-9319] [BE] - AuthV3 - Интеграция auth v3 в hr-debts\n",
      "[VR-9316] [BE] - AuthV3 - Интеграция auth v3 в personal-account\n",
      "[VR-9313] [BE] - AuthV3 - Интеграция auth v3 в fns-service\n",
      "[VR-9289] [UserStory] Интеграция AuthV3 в сервисы VsemRabota\n",
      "[VR-8408] [UserStory] Интеграция AuthV3 в сервисы WB Team\n",
      "[VR-8411] [BE] - AuthV3 - Интеграция auth v3 в executor-service\n",
      "[VR-9286] [UserStory] Интеграция AuthV3 в сервисы ATS\n",
      "[VR-8953] [AT] WB Team. Финансы. Перевод средств.\n",
      "[VR-9263] [BE] Доработать изменение при коммите со Stage в master\n",
      "[VR-9231] [UserStory] Поддержать маскировки для AuthV3\n",
      "[VR-9221] [BE] - AuthV3 - Интеграция auth v3 в executors-api\n",
      "[VR-9195] [BE] Переработка RBAC. Аналитика и декомпозиция.\n",
      "[VR-9194] [Epic] Переработка RBAC\n",
      "[VR-9186] [BE] Поддержать трейсинг в HRTech Client\n",
      "[VR-9177] [BE] Подключить ELK поиск к admin.vsemrabota.ru\n",
      "[VR-9175] [BE] Исследовать линтеры/другие решения и разработать MVP для проверки внедрения трейсинга в сервисы\n",
      "[VR-9174] [UserStory] Трейсинг. Внедрение продвинутых Linter или скриптов\n",
      "[VR-9173] [Epic] Внедрение продвинутых Linter или скриптов\n",
      "[VR-6321] [UserStory] C&B. Поправить заголовки Cors\n",
      "[VR-5906] [UserStory] Billing. Подпись транзакций. Добавить payment_pub_key в методы авторизации\n",
      "[VR-8858] [ARCH] Описать архитектуру простого поиска crm-service\n",
      "[VR-8254] [BE] Подключить сервисы по 4 поиска к общему бэку\n",
      "[VR-9129] [BE] Реализовать архитектуру для HRTech клиент и генерации Swagger\n",
      "[VR-9112] YT: Создание Test Run и Test Suite по команде из Epic и User Story\n",
      "[VR-9061] [UserStory] Test user story\n",
      "[VR-9027] [UserStory] HR INFRA. Онбординг сотрудников\n",
      "[VR-9028] [BE] Поулчить доступ к Stage & Prod vault в namespace alljobswb\n",
      "[VR-6010] [VULN-80] Подмена параметра scope на всемработе\n",
      "[HRWEB-2185] Переключение HR Scans на внешнее хранилище WB Basket\n",
      "[VR-8951] [BE] Курс асинхронная архитектура. Посмотреть и сделать конспект.\n",
      "[VR-7088] [UserStory] Синхронизация данных на проекте с Elasticsearch\n",
      "[VR-8968] [UserStory] HRTech общий dashboard\n",
      "[VR-8955] [BE] Поиск по орг-структуре. Архитектура поиска\n",
      "[VR-6981] [Epic] Покрытие автотестами проектов HR Tech\n",
      "[VR-8947] [UserStory] Развитие компетенций инженеров и членов команды\n",
      "[VR-8950] [BE] Курс асинхронная архитектура. Посмотреть и сделать конспект.\n",
      "[VR-8647] [ARCH] Написать ADR для elk-search\n",
      "[VR-8685] [BE] Разобраться почему не отображаются трейсы в payout сервис\n",
      "[VR-7628] [ARCH] Реализовать ADR для сервиса пушей Proxy notifier\n",
      "[VR-7591] [BE] Написать библиотеку PG Replicas и интегрировать в новый сервис Ромы\n",
      "[VR-7589] [BE] [ARCH] Написать ADR для библиотеки мастер-реплика\n",
      "[VR-7069] [BE] Добавить поддержку Allure отчетов\n",
      "[VR-7037] [Arch] [BE] Мастер/реплика. Написать архитектуру компонента БД\n",
      "[VR-6398] [BE] worksheet-backoffice-backend внедрить трассировку запросов\n",
      "[HRWEB-2382] [UserStory] Добавление продуктовых метрик HR Portal\n",
      "[VR-6787] WBteam. Подключение продуктовых метрик\n",
      "[VR-8815] [UserStory] HR INFRA. Закрытие техдолговых задач\n",
      "[VR-8812] [UserStory] Закрытие техдолга на WB Team\n",
      "[VR-8813] [BE] Запросы бесконечно висят в БД + не информативный логгер\n",
      "[VRA-20] Сбой получение реквизитов мобильного приложения\n",
      "[HRWEB-2354] [UserStory] Закрытие техдолговых задач в HR Portal\n",
      "[VR-6272] [UserStory] C&B. Добавление трассировки запросов.\n",
      "[HRWEB-2353] [BE] hr-wbusers 100k ошибок в логах\n",
      "\n",
      "In Progress 🔨\n",
      "[VR-9532] [BE] Декомпозиция [Epic] ATS. Интеграции ATS с календарями\n",
      "[VR-8406] [Epic] Админка для L1 - hr-backoffice\n",
      "[HRWEB-1474] HR Portal. Обработка данных. Переключение сервисов на новое хранилище файлов WB.Basket.\n",
      "[VR-6337] [Epic] Все Проекты. Добавление технических метрик и dashboards в Grafana\n",
      "[VR-7718] [Epic] Внедрить Temporal workflow\n",
      "[VR-9430] [UserStory] Аналитика, внедрение и интеграция AuthV3\n",
      "[VR-8122] Переезд на новые кластера xc/el\n",
      "[VR-7034] [Epic] Общий бэкенд\n",
      "[VR-6030] [Epic] Поиск по сотрудникам 4 варианта\n",
      "[VR-6319] [Epic] VsemRabota. Frontend & Backend. Изменение Cors-Origin заголовка\n",
      "[VR-5797] [Epic] Billing. Подпись транзакций\n",
      "[VR-6857] Все продукты. Переход на внешний сервис авторизации: auth v.3\n",
      "[VR-8954] [UserStory] Поиск по орг структуре\n",
      "[HRWEB-1847] [UserStory] Покрытие трейсингом сервисов HR Portal\n",
      "\n",
      "Review 👀\n",
      "[VR-9025] [ARCH] Migrate from AuthV1 QA profiles to AuthV3\n",
      "[VR-9067] HR-Toolkit: клиент для Temporal,TemporalFx\n",
      "[VR-5411] [BE] - AuthV3 - Написать клиент для работы с auth v3\n",
      "[HRWEB-2278] [BE] внедрить трейсинг в hr-notifications\n",
      "[VR-9076] Test 1\n",
      "[VR-8994] [ARCH] Описать архитектуру поиска TeamWB в crm-front\n",
      "[VR-8842] [ARCH] Описать архитектуру пролива данных из Portal в ELK\n",
      "\n",
      "Done ✅\n",
      "[VR-9449] [BE] Уведомлять о новых сообщениях под DevOps тасками\n",
      "[VR-9448] [BE] Уведомлять о новых DevOps тасках в бота\n",
      "[VR-8580] [BE] Подготовка инфраструктуры для переезда на кластера xc/el в alljobswb\n",
      "[VR-3454] [Epic] HR Support Team. Трейсинг. Повышение уровня observability сервисов\n",
      "[VR-9434] [BE] Разобраться с машинами\n",
      "[VR-5430] [BE] - AuthV3 - Интеграция auth v3 в hrcrm-api\n",
      "[VR-8507] [BE] Реализовать TokenExchange в auth\n",
      "[VR-8260] [BE] Разработка общего решения для AuthV3\n",
      "[VR-5424] [BE] - AuthV3 - Интеграция auth v3 в requisites-api\n",
      "[VR-5425] [BE] - AuthV3 - Интеграция auth v3 в competition-api\n",
      "[VR-5422] [BE] - AuthV3 - Интеграция auth v3 в hrcrm-api\n",
      "[VR-5418] [BE] - AuthV3 - Интеграция auth v3 в crm-api\n",
      "[VR-9192] [BE] Тестирование изменения среды разработки\n",
      "[VR-9064] [BE] Интеграция Gitlab с YouTrack\n",
      "[HRWEB-2383] [FE] Добавление продуктовых метрик в HR Portal. Аналитика и декомпозиция.\n",
      "[VR-9086] [BE] Поддержать pub token в ELK для proxy service\n",
      "[VR-9013] [BE] Запросить доступ на создание кластера ELK для стейджа\n",
      "[VR-8943] [BE] Оттестировать 4 поиска на Django admin\n",
      "[VR-8649] [BE] Добавить авторизацию в elk-search по токену\n",
      "[HRWEB-2371] [BE] Разобраться почему не строятся трейсы между сервисами\n",
      "[VR-8300] [FE] Sentry.io. Аналитка и декомозиция\n",
      "\n",
      "Canceled ❌\n",
      "[DOHR-13] Test Task\n",
      "[DOHR-12] Test Task\n",
      "[DOHR-11] Test Task\n",
      "[DOHR-8] Test Task\n",
      "[DOHR-10] Test Джигурда\n",
      "[DOHR-9] Test Джигурда\n",
      "[DOHR-1] Test\n",
      "[DOHR-4] Test 3\n",
      "[VR-5426] [BE] - AuthV3 - Интеграция auth v3 в vday-api\n",
      "[VR-5420] [BE] - AuthV3 - Интеграция auth v3 в crm-service\n",
      "[VR-8409] [BE] - AuthV3 - Интеграция auth v3 в adminka-api\n",
      "[VR-5416] [BE] - AuthV3 - Интеграция auth v3 в booking-api\n",
      "[VR-5413] [BE] - AuthV3 - Интеграция auth v3 в adminka-api\n",
      "[VR-5414] [BE] - AuthV3 - Интеграция auth v3 в bff\n",
      "[VR-5417] [BE] - AuthV3 - Интеграция auth v3 в competition-api\n",
      "[VR-3589] [Epic] Устранение уязвимостей ИБ\n",
      "\n"
     ]
    }
   ],
   "source": [
    "for login in participants[4:5]:\n",
    "    issues = get_activity_issues(login)\n",
    "    print_issues(login, issues)"
   ]
  },
  {
   "cell_type": "code",
   "execution_count": 21,
   "id": "18bfeb1d-0f65-443e-bbb5-2fd6d6d12f2b",
   "metadata": {},
   "outputs": [],
   "source": [
    "issues = get_activity_issues('grigorev.mark')"
   ]
  },
  {
   "cell_type": "code",
   "execution_count": 22,
   "id": "87685d93-beb8-4e97-a26e-30be839ba778",
   "metadata": {},
   "outputs": [
    {
     "data": {
      "text/plain": [
       "[{'idReadable': 'VR-9330',\n",
       "  'summary': '[BE] - AuthV3 - Интеграция auth v3 в orgstruct-api',\n",
       "  'state': None},\n",
       " {'idReadable': 'VR-9536',\n",
       "  'summary': '[BE] - AuthV3 - Интеграция auth v3 в chat-service',\n",
       "  'state': None},\n",
       " {'idReadable': 'HRWEB-2450',\n",
       "  'summary': '[BE] Написать клиент WB Basket для s3-adapter',\n",
       "  'state': None},\n",
       " {'idReadable': 'VR-9527',\n",
       "  'summary': '[BE] Добавить ошибку - 403 - Unauthorized в мидлваре AuthV1()',\n",
       "  'state': None},\n",
       " {'idReadable': 'VULN-4236',\n",
       "  'summary': '[team.wb.ru] Доступ в чужой аккаунт',\n",
       "  'state': None},\n",
       " {'idReadable': 'VR-9523',\n",
       "  'summary': '[BE] Убрать возможность обмена jwt токена на CRM/WB  токены для пользователей не являющихся сотрудниками',\n",
       "  'state': None},\n",
       " {'idReadable': 'VR-4118',\n",
       "  'summary': '[TECH] Все продукты. Переход на внешний сервис авторизации: auth v.3',\n",
       "  'state': None},\n",
       " {'idReadable': 'VR-8412',\n",
       "  'summary': '[BE] - AuthV3 - Интеграция auth v3 в staff-api',\n",
       "  'state': None},\n",
       " {'idReadable': 'VR-9132',\n",
       "  'summary': '[BE] Написать доку для AuthV3',\n",
       "  'state': None},\n",
       " {'idReadable': 'VR-9392',\n",
       "  'summary': '[BE] Добавить ошибку - 403 - Unauthorized в мидлваре AuthV1()',\n",
       "  'state': None},\n",
       " {'idReadable': 'VR-9237',\n",
       "  'summary': '[BE] - Паники на проде - hrcrm-api',\n",
       "  'state': None},\n",
       " {'idReadable': 'VR-9107',\n",
       "  'summary': '[BE]  Переход на безопасное извлечение данных сессии в Auth',\n",
       "  'state': None},\n",
       " {'idReadable': 'VR-9147',\n",
       "  'summary': '[BE] Описать в формате ADR - взаимодействие сервиса HRCRM-API с клиентами после внедрения AuthV3',\n",
       "  'state': None},\n",
       " {'idReadable': 'VR-8816',\n",
       "  'summary': '[BE] Научиться запускать локально crm-api',\n",
       "  'state': None},\n",
       " {'idReadable': 'VR-9124',\n",
       "  'summary': '[BE] Добавить метод для обмена токенами в клиент auth',\n",
       "  'state': None},\n",
       " {'idReadable': 'VR-9056',\n",
       "  'summary': '[BE] Реализовать Pub token для ELK',\n",
       "  'state': None},\n",
       " {'idReadable': 'VR-9001',\n",
       "  'summary': '[BE]  Поправить конфигурационный файл в Auth',\n",
       "  'state': None},\n",
       " {'idReadable': 'VR-9017',\n",
       "  'summary': '[BE]  Паники на проде/стейдже auth',\n",
       "  'state': None},\n",
       " {'idReadable': 'VR-8948',\n",
       "  'summary': '[BE] Курс асинхронная архитектура. Посмотреть и сделать конспект.',\n",
       "  'state': None},\n",
       " {'idReadable': 'HRWEB-2394',\n",
       "  'summary': '[ARCH] WB Basket. ADR для hr-vacations-backend',\n",
       "  'state': None},\n",
       " {'idReadable': 'HRWEB-2445',\n",
       "  'summary': '[ARCH] WB Basket. ADR для proof-papers',\n",
       "  'state': None}]"
      ]
     },
     "execution_count": 22,
     "metadata": {},
     "output_type": "execute_result"
    }
   ],
   "source": [
    "issues"
   ]
  },
  {
   "cell_type": "code",
   "execution_count": null,
   "id": "e24801e4-70a3-4d0e-847e-820912c3ee0a",
   "metadata": {},
   "outputs": [],
   "source": [
    "{'idReadable': 'VR-9124',\n",
    "  'summary': '[BE] Добавить метод для обмена токенами в клиент auth',"
   ]
  },
  {
   "cell_type": "code",
   "execution_count": null,
   "id": "4873d98a-e5d4-4203-899f-98a8650a5b5d",
   "metadata": {},
   "outputs": [],
   "source": [
    "issues[0]"
   ]
  },
  {
   "cell_type": "code",
   "execution_count": null,
   "id": "7c773b0a-3015-4aea-aab1-aacb1f2ef0be",
   "metadata": {},
   "outputs": [],
   "source": [
    "{'projectCustomField': {'field': {'name': 'State',\n",
    "     'id': '42-3',\n",
    "     '$type': 'CustomField'},\n",
    "    'id': '78-1996',\n",
    "    '$type': 'StateProjectCustomField'},\n",
    "   'value': {'isResolved': False,\n",
    "    'localizedName': None,\n",
    "    'name': 'In Progress',\n",
    "    'color': {'id': '25', '$type': 'FieldStyle'},\n",
    "    'id': '55-3717',\n",
    "    '$type': 'StateBundleElement'},\n",
    "   'id': '78-1996',\n",
    "   '$type': 'StateIssueCustomField'},"
   ]
  },
  {
   "cell_type": "code",
   "execution_count": 69,
   "id": "e233f57c-5286-47b5-8944-7e86dbf91eca",
   "metadata": {},
   "outputs": [
    {
     "data": {
      "text/plain": [
       "'In Progress'"
      ]
     },
     "execution_count": 69,
     "metadata": {},
     "output_type": "execute_result"
    }
   ],
   "source": [
    "issue = next(i for i in issues[0]['customFields'] if i['projectCustomField']['field']['name'] == 'State')\n",
    "\n",
    "issue['value']['name']"
   ]
  },
  {
   "cell_type": "code",
   "execution_count": null,
   "id": "996f5301-dbf1-43ee-b003-29258e04cec5",
   "metadata": {},
   "outputs": [],
   "source": [
    "issues[0]"
   ]
  },
  {
   "cell_type": "code",
   "execution_count": 68,
   "id": "7f194170-0471-46f5-b263-5331d8c95cb8",
   "metadata": {},
   "outputs": [
    {
     "data": {
      "text/plain": [
       "{'field': {'name': 'State', 'id': '42-3', '$type': 'CustomField'},\n",
       " 'id': '78-1996',\n",
       " '$type': 'StateProjectCustomField'}"
      ]
     },
     "execution_count": 68,
     "metadata": {},
     "output_type": "execute_result"
    }
   ],
   "source": []
  },
  {
   "cell_type": "code",
   "execution_count": null,
   "id": "090159ff-824e-462a-aa07-6d04b6a7caf2",
   "metadata": {},
   "outputs": [],
   "source": []
  }
 ],
 "metadata": {
  "kernelspec": {
   "display_name": "Python 3 (ipykernel)",
   "language": "python",
   "name": "python3"
  },
  "language_info": {
   "codemirror_mode": {
    "name": "ipython",
    "version": 3
   },
   "file_extension": ".py",
   "mimetype": "text/x-python",
   "name": "python",
   "nbconvert_exporter": "python",
   "pygments_lexer": "ipython3",
   "version": "3.12.2"
  }
 },
 "nbformat": 4,
 "nbformat_minor": 5
}
