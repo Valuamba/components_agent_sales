{
 "cells": [
  {
   "cell_type": "code",
   "execution_count": 9,
   "id": "7182e669-3e28-477a-aff7-59241b7e5686",
   "metadata": {},
   "outputs": [],
   "source": [
    "from pydantic import BaseModel, Field, HttpUrl\n",
    "from typing import List\n",
    "import configparser\n",
    "\n",
    "# Define Pydantic models for each config section\n",
    "class YouTrackConfig(BaseModel):\n",
    "    Token: str\n",
    "    BaseUrl: str\n",
    "\n",
    "class VsemRabotaConfig(BaseModel):\n",
    "    ProjectId: str\n",
    "    WBTeam: List[str] = Field(default_factory=list)\n",
    "    Name: str\n",
    "\n",
    "# Main configuration model that includes both sections\n",
    "class AppConfig(BaseModel):\n",
    "    YouTrack: YouTrackConfig\n",
    "    VsemRabota: VsemRabotaConfig\n",
    "\n",
    "# Parse the INI file\n",
    "def parse_config_to_model(config_file: str) -> AppConfig:\n",
    "    config = configparser.ConfigParser()\n",
    "    config.read(config_file)\n",
    "    \n",
    "    # YouTrack section\n",
    "    youtrack_token = config.get('YouTrack', 'Token').strip(\"'\")\n",
    "    youtrack_base_url = config.get('YouTrack', 'BaseUrl')\n",
    "    \n",
    "    # VsemRabota Config section\n",
    "    project_id = config.get('VsemRabota Config', 'ProjectId')\n",
    "    name = config.get('VsemRabota Config', 'Name')\n",
    "    wb_team = config.get('VsemRabota Config', 'WBTeam').split(', ')\n",
    "    \n",
    "    # Create instances of the models\n",
    "    youtrack_config = YouTrackConfig(Token=youtrack_token, BaseUrl=youtrack_base_url)\n",
    "    vsem_rabota_config = VsemRabotaConfig(ProjectId=project_id, WBTeam=wb_team, Name=name)\n",
    "    \n",
    "    # Aggregate into the main config model\n",
    "    app_config = AppConfig(YouTrack=youtrack_config, VsemRabota=vsem_rabota_config)\n",
    "    \n",
    "    return app_config"
   ]
  },
  {
   "cell_type": "code",
   "execution_count": 10,
   "id": "b34bd717-0041-444d-b458-052088df0bc3",
   "metadata": {},
   "outputs": [
    {
     "name": "stdout",
     "output_type": "stream",
     "text": [
      "YouTrack=YouTrackConfig(Token='perm:VmFsZW50aW5fTWFyY2h1aw==.NjktMzE1.IgVAwvLdgn8H1dpNCX2FOS9T0Yhdpn', BaseUrl='https://youtrack.wildberries.ru') VsemRabota=VsemRabotaConfig(ProjectId='77-167', WBTeam=['Valentin_Marchuk', 'Liventsev_sergei'], Name='VsemRabota')\n"
     ]
    }
   ],
   "source": [
    "config_file = 'yt.ini'  # Update this path\n",
    "config_model = parse_config_to_model(config_file)\n",
    "print(config_model)"
   ]
  },
  {
   "cell_type": "code",
   "execution_count": null,
   "id": "a5b314ba-b5ba-4602-8625-ac76fe2f1912",
   "metadata": {},
   "outputs": [],
   "source": [
    "import requests\n",
    "\n",
    "headers = {\n",
    "    'Authorization': f'Bearer {config_model.YouTrack.Token}',\n",
    "    'Content-Type': 'application/json',\n",
    "}\n",
    "\n",
    "search_query = 'Business Line:HR   State: Resolved sort by: {Threat Score} desc'\n",
    "\n",
    "response = requests.get(f'{config_model.YouTrack.Token}/api/issues?query={search_query}', headers=headers)"
   ]
  },
  {
   "cell_type": "code",
   "execution_count": 70,
   "id": "9a330715-f167-4d5e-838e-21f266f4d60a",
   "metadata": {},
   "outputs": [],
   "source": [
    "import requests\n",
    "from urllib.parse import urlencode\n",
    "\n",
    "class YouTrackAPIError(Exception):\n",
    "    \"\"\"Exception raised for errors in the YouTrack API.\"\"\"\n",
    "    def __init__(self, status_code, message):\n",
    "        super().__init__(f\"HTTP {status_code}: {message}\")\n",
    "        self.status_code = status_code\n",
    "        self.message = message\n",
    "\n",
    "class YouTrackClient:\n",
    "    def __init__(self, config):\n",
    "        self.config = config\n",
    "        self.headers = {\n",
    "            'Authorization': f'Bearer {self.config.Token}',\n",
    "            'Content-Type': 'application/json',\n",
    "        }\n",
    "\n",
    "    #     headers = {\n",
    "    #     'Authorization': f'Bearer {api_token}',\n",
    "    #     'Content-Type': 'application/json',\n",
    "    # }\n",
    "\n",
    "    def get(self, endpoint: str, params: dict = None) -> dict:\n",
    "        \"\"\"Sends a GET request to a specified endpoint with optional query parameters.\"\"\"\n",
    "        url = f\"{self.config.BaseUrl}{endpoint}\"\n",
    "        if params:\n",
    "            url += f\"?{urlencode(params)}\"\n",
    "        try:\n",
    "            response = requests.get(url, headers=self.headers)\n",
    "            response.raise_for_status()\n",
    "            return response.json()\n",
    "        except requests.exceptions.HTTPError as e:\n",
    "            raise YouTrackAPIError(response.status_code, response.text) from e\n",
    "\n",
    "    def post(self, endpoint: str, data: dict = None) -> dict:\n",
    "        \"\"\"Sends a POST request to a specified endpoint with optional JSON data.\"\"\"\n",
    "        url = f\"{self.config.BaseUrl}{endpoint}\"\n",
    "        try:\n",
    "            response = requests.post(url, json=data, headers=self.headers)\n",
    "            response.raise_for_status()\n",
    "            return response.json()\n",
    "        except requests.exceptions.HTTPError as e:\n",
    "            raise YouTrackAPIError(response.status_code, response.text) from e\n",
    "\n",
    "    def get_issues(self, search_query: str, additional_params: dict = None) -> dict:\n",
    "        \"\"\"\n",
    "        Retrieves issues from YouTrack based on a search query and additional parameters.\n",
    "\n",
    "        :param search_query: A string representing the search query for filtering issues.\n",
    "        :param additional_params: Optional dictionary of additional query parameters.\n",
    "        :return: A dictionary containing the API response with issues.\n",
    "        \"\"\"\n",
    "        params = {'query': search_query}\n",
    "        if additional_params:\n",
    "            params.update(additional_params)\n",
    "        \n",
    "        return self.get('/api/issues', params=params)\n",
    "\n",
    "    def get_issue(self, issue_id, fields=None):\n",
    "        issue_fields = [\n",
    "            'id', 'idReadable', 'summary', 'description', 'reporter(id,login,fullName)',\n",
    "            'customFields($type,id,projectCustomField($type,id,field($type,id,name)),value($type,avatarUrl,buildLink,color(id),fullName,id,isResolved,localizedName,login,minutes,name,presentation,text))',\n",
    "            'linkType(name,sourceToTarget,targetToSource)',\n",
    "            'issues(id,idReadable,summary)'\n",
    "        ]\n",
    "        \n",
    "        if fields is None:\n",
    "            fields = 'id,idReadable,summary,description,customFields(id,projectCustomField(field(name))),linkType(name,sourceToTarget,targetToSource),issues(id,idReadable,summary)'\n",
    "            fields = ','.join(issue_fields)\n",
    "\n",
    "        params = {\n",
    "            'fields': fields\n",
    "        }\n",
    "\n",
    "        return self.get(f'/api/issues/{issue_id}', params=params)\n",
    "\n",
    "    def get_projects(self, additional_params: dict = None):\n",
    "        leader_fields = ['login', 'name', 'id']\n",
    "        createdby_fields = ['login', 'name', 'id']\n",
    "        \n",
    "        params = {'fields': 'id,name,shortName,createdBy(login,name,id),leader(login,name,id),key'}\n",
    "        if additional_params:\n",
    "            params.update(additional_params)\n",
    "        \n",
    "        return self.get('/api/admin/projects', params=params)\n",
    "    "
   ]
  },
  {
   "cell_type": "code",
   "execution_count": 71,
   "id": "4882c7de-56d6-4158-98ca-b707a92f5b59",
   "metadata": {},
   "outputs": [],
   "source": [
    "# youtrack_config = YouTrackConfig(Token='your_token_here', BaseUrl='https://your-instance.myjetbrains.com/youtrack')\n",
    "youtrack_client = YouTrackClient(config=config_model.YouTrack)\n",
    "        "
   ]
  },
  {
   "cell_type": "code",
   "execution_count": null,
   "id": "3a0bc63f-9833-49a7-b82f-1f398fe06464",
   "metadata": {},
   "outputs": [],
   "source": [
    "resp = youtrack_client.get_issue('VR-2934')\n",
    "\n",
    "# resp['customFields']\n",
    "resp"
   ]
  },
  {
   "cell_type": "code",
   "execution_count": 88,
   "id": "6a50dbbd-7fa3-45ac-a118-0c0c31fcf26b",
   "metadata": {},
   "outputs": [],
   "source": [
    "def get_customfield_value(customfield, issue):\n",
    "    return next(r['value'] for r in issue['customFields'] if r['projectCustomField']['field']['name'] == customfield)\n",
    "\n",
    "def get_issue_authority(issue):\n",
    "    assignee = get_customfield_value('Assignee', issue)\n",
    "    reviewer = get_customfield_value('Reviewer [HR]', issue)\n",
    "    product = get_customfield_value('Product', issue)\n",
    "    reporter = resp['reporter']['fullName']\n",
    "\n",
    "    return {\n",
    "        'assignee': assignee['fullName'] if assignee else None,\n",
    "        'reviewer': reviewer['fullName'] if reviewer else None,\n",
    "        'products': [p['name'] for p in product],\n",
    "        'reporter': reporter\n",
    "    }"
   ]
  },
  {
   "cell_type": "code",
   "execution_count": null,
   "id": "f0b3a404-2fa7-424f-8527-e2dedaced43d",
   "metadata": {},
   "outputs": [],
   "source": [
    "import pandas as pd\n",
    "\n",
    "file_path = r'C:\\Users\\MGroup\\Downloads\\VULN tokens.csv'\n",
    "df = pd.read_csv(file_path)\n",
    "\n",
    "issues = list(dict.fromkeys(df['Ссылка на youtrack'].values.tolist()))\n",
    "issues = [ i.replace('https://youtrack.wildberries.ru/issue/', '') for i in issues]\n",
    "issues"
   ]
  },
  {
   "cell_type": "code",
   "execution_count": null,
   "id": "5827b80d-68c1-4f7b-b19e-cc4b1ffa2caf",
   "metadata": {},
   "outputs": [],
   "source": [
    "df"
   ]
  },
  {
   "cell_type": "code",
   "execution_count": null,
   "id": "4de0dd3d-2f38-4d71-afd5-5c2252b19a61",
   "metadata": {},
   "outputs": [],
   "source": [
    "issues_authority = []\n",
    "for id in issues:\n",
    "    issue = youtrack_client.get_issue(id)\n",
    "    if issue is None:\n",
    "        print(f'Issue {id} was not found.')\n",
    "        continue\n",
    "    issue_authority = get_issue_authority(issue)\n",
    "    issues_authority.append({\n",
    "         'issue_id': id,\n",
    "        **issue_authority\n",
    "    })\n",
    "\n",
    "\n",
    "issues_authority"
   ]
  },
  {
   "cell_type": "code",
   "execution_count": 95,
   "id": "e2ae053d-14d7-402a-8ad3-8eda1a440287",
   "metadata": {},
   "outputs": [],
   "source": [
    "df['issue_id'] = df['Ссылка на youtrack'].str.extract(r'issue/(VR-\\d+)')\n",
    "\n",
    "json_df = pd.DataFrame(issues_authority)\n",
    "merged_df = pd.merge(df, json_df, on=\"issue_id\", how=\"left\")\n",
    "\n",
    "merged_df.to_csv('vulns.csv')"
   ]
  },
  {
   "cell_type": "code",
   "execution_count": 104,
   "id": "056d3a39-2d75-4ad9-abfa-de8d566b87c3",
   "metadata": {},
   "outputs": [
    {
     "data": {
      "text/plain": [
       "0        WB Team\n",
       "1        WB Team\n",
       "2        WB Team\n",
       "3        WB Team\n",
       "4       ATS Team\n",
       "         ...    \n",
       "72      ATS Team\n",
       "73    Empty Team\n",
       "74    Empty Team\n",
       "75    Empty Team\n",
       "76    Empty Team\n",
       "Name: products, Length: 77, dtype: object"
      ]
     },
     "execution_count": 104,
     "metadata": {},
     "output_type": "execute_result"
    }
   ],
   "source": [
    "merged_df['products'].apply(assign_team)"
   ]
  },
  {
   "cell_type": "code",
   "execution_count": null,
   "id": "78e038f7-8b8e-4b01-8537-908ebd78ff17",
   "metadata": {},
   "outputs": [],
   "source": [
    "\n",
    "# Define a function to determine the team based on the product\n",
    "def assign_team(products):\n",
    "    if any(product in ['admin', 'vsemrabota', 'wbteam'] for product in products):\n",
    "        return 'WB Team'\n",
    "    elif 'ats' in products:\n",
    "        return 'ATS Team'\n",
    "    else:\n",
    "        return 'Empty Team'\n",
    "\n",
    "# Apply the function to create a new 'Team' column\n",
    "merged_df['Team'] = merged_df['products'].apply(assign_team)\n",
    "\n",
    "# Group by 'Team' and then by 'issue_id', and collect tokens\n",
    "grouped_data = merged_df.groupby(['Team', 'issue_id'])['Секрет'].apply(list)\n",
    "\n",
    "output_format = {}\n",
    "for (team, issue_id), tokens in grouped_data.items():\n",
    "    if team not in output_format:\n",
    "        output_format[team] = []\n",
    "    output_format[team].append((issue_id, tokens))\n",
    "\n",
    "# Print in the desired format\n",
    "for team, issues in output_format.items():\n",
    "    print(f\"{team}:\")\n",
    "    for issue_id, tokens in issues:\n",
    "        print(f\"{issue_id}\")\n",
    "        for token in tokens:\n",
    "            print(f\"- {token}\")\n",
    "    print(\"\\n\")"
   ]
  },
  {
   "cell_type": "code",
   "execution_count": 108,
   "id": "88c2584d-e31e-42fe-96d8-638a0e5f452b",
   "metadata": {},
   "outputs": [],
   "source": [
    "merged_df.to_csv('vulns.csv')"
   ]
  },
  {
   "cell_type": "code",
   "execution_count": 20,
   "id": "5abcbe72-0cff-429d-9f92-13279a7adcb0",
   "metadata": {},
   "outputs": [
    {
     "name": "stdout",
     "output_type": "stream",
     "text": [
      "[{'id': '92-715620', '$type': 'Issue'}, {'id': '92-730734', '$type': 'Issue'}, {'id': '92-887120', '$type': 'Issue'}, {'id': '92-732032', '$type': 'Issue'}, {'id': '92-779165', '$type': 'Issue'}, {'id': '92-860643', '$type': 'Issue'}, {'id': '92-778840', '$type': 'Issue'}, {'id': '92-690675', '$type': 'Issue'}, {'id': '92-690639', '$type': 'Issue'}, {'id': '92-690615', '$type': 'Issue'}, {'id': '92-721263', '$type': 'Issue'}, {'id': '92-708541', '$type': 'Issue'}, {'id': '92-722135', '$type': 'Issue'}, {'id': '92-584660', '$type': 'Issue'}, {'id': '92-803271', '$type': 'Issue'}, {'id': '92-803320', '$type': 'Issue'}, {'id': '92-672794', '$type': 'Issue'}, {'id': '92-686096', '$type': 'Issue'}, {'id': '92-685816', '$type': 'Issue'}, {'id': '92-729859', '$type': 'Issue'}, {'id': '92-732665', '$type': 'Issue'}, {'id': '92-730768', '$type': 'Issue'}, {'id': '92-693085', '$type': 'Issue'}, {'id': '92-730682', '$type': 'Issue'}, {'id': '92-777825', '$type': 'Issue'}, {'id': '92-1029406', '$type': 'Issue'}, {'id': '92-838827', '$type': 'Issue'}]\n"
     ]
    }
   ],
   "source": [
    "issues = youtrack_client.get('/api/issues', params={'query': 'Business Line:HR   State: Resolved sort by: {Threat Score} desc'})\n",
    "print(issues)"
   ]
  },
  {
   "cell_type": "code",
   "execution_count": null,
   "id": "2e326394-7444-4a4f-87ad-8410b2eaebdb",
   "metadata": {},
   "outputs": [],
   "source": [
    "youtrack_client.get_issues('Business Line:HR   State: Resolved sort by: {Threat Score} desc')"
   ]
  },
  {
   "cell_type": "code",
   "execution_count": null,
   "id": "5cb6ba9f-cbcd-4a53-9204-7d61bdf7b1d6",
   "metadata": {},
   "outputs": [],
   "source": [
    "projects = youtrack_client.get_projects(\n",
    "    {'$top': '100', '$skip': '300'}\n",
    ")\n",
    "projects"
   ]
  },
  {
   "cell_type": "code",
   "execution_count": null,
   "id": "c4042c48-15f6-4613-8962-99ad5bb9e6b2",
   "metadata": {},
   "outputs": [],
   "source": []
  }
 ],
 "metadata": {
  "kernelspec": {
   "display_name": "Python 3 (ipykernel)",
   "language": "python",
   "name": "python3"
  },
  "language_info": {
   "codemirror_mode": {
    "name": "ipython",
    "version": 3
   },
   "file_extension": ".py",
   "mimetype": "text/x-python",
   "name": "python",
   "nbconvert_exporter": "python",
   "pygments_lexer": "ipython3",
   "version": "3.12.2"
  }
 },
 "nbformat": 4,
 "nbformat_minor": 5
}
