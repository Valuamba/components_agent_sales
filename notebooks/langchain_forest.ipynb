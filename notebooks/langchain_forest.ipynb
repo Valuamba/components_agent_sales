{
 "cells": [
  {
   "cell_type": "code",
   "execution_count": 9,
   "id": "48490ff7-be82-487c-bbec-3996b8b42234",
   "metadata": {},
   "outputs": [
    {
     "name": "stdout",
     "output_type": "stream",
     "text": [
      "Requirement already satisfied: python-dotenv in /home/valuamba/.asdf/installs/python/3.11.0/lib/python3.11/site-packages (0.21.0)\n",
      "\n",
      "\u001b[1m[\u001b[0m\u001b[34;49mnotice\u001b[0m\u001b[1;39;49m]\u001b[0m\u001b[39;49m A new release of pip available: \u001b[0m\u001b[31;49m22.3.1\u001b[0m\u001b[39;49m -> \u001b[0m\u001b[32;49m23.3.1\u001b[0m\n",
      "\u001b[1m[\u001b[0m\u001b[34;49mnotice\u001b[0m\u001b[1;39;49m]\u001b[0m\u001b[39;49m To update, run: \u001b[0m\u001b[32;49mpip3 install --upgrade pip\u001b[0m\n",
      "Reshimming asdf python...\n"
     ]
    }
   ],
   "source": [
    "!pip install python-dotenv"
   ]
  },
  {
   "cell_type": "code",
   "execution_count": 10,
   "id": "222a3a4c-88c2-410b-ae9e-b22d6175f05e",
   "metadata": {},
   "outputs": [],
   "source": [
    "from dotenv import load_dotenv\n",
    "import os\n",
    "from langchain import PromptTemplate, LLMChain\n",
    "from langchain.llms import OpenAI\n",
    "\n",
    "load_dotenv()\n",
    "openai_api_key = os.getenv(\"OPENAI_API_KEY\")\n",
    "\n",
    "llm_1 = OpenAI(temperature=0.7, max_tokens=3000)\n",
    "llm_2 = OpenAI(temperature=0.4, max_tokens=3000)\n",
    "llm_3 = OpenAI(temperature=0.1, max_tokens=3000)"
   ]
  },
  {
   "cell_type": "code",
   "execution_count": 11,
   "id": "7add123b-b58b-4438-b4fc-ed6c9371018b",
   "metadata": {},
   "outputs": [],
   "source": [
    "template_1 = \"\"\"Imagine three different experts are answering this question.\n",
    "They will brainstorm the answer step by step reasoning carefully and taking all facts into consideration\n",
    "All experts will write down 1 step of their thinking,\n",
    "then share it with the group.\n",
    "They will each critique their response, and the all the responses of others\n",
    "They will check their answer based on science and the laws of physics\n",
    "Then all experts will go on to the next step and write down this step of their thinking.\n",
    "They will keep going through steps until they reach their conclusion taking into account the thoughts of the other experts\n",
    "If at any time they realise that there is a flaw in their logic they will backtrack to where that flaw occurred \n",
    "If any expert realises they're wrong at any point then they acknowledges this and start another train of thought\n",
    "Each expert will assign a likelihood of their current assertion being correct\n",
    "Continue until the experts agree on the single most likely location\n",
    "The question is {question}\n",
    "\n",
    "The experts reasoning is...\n",
    "\"\"\"\n",
    "\n",
    "template_2 = \"\"\"Imagine six different experts are answering this question.\n",
    "They will brainstorm the answer step by step reasoning carefully and taking all facts into consideration\n",
    "Each expert will share their first step with all of the other experts\n",
    "They will each critique their response, and the all the responses of others\n",
    "They will check their answer being careful to think through any consequences\n",
    "Each expert will then write down the next step of their thought process\n",
    "Each expert will assign a likelihood of their current assertion being correct\n",
    "Continue until the experts agree on the single most likely location\n",
    "The question is {question}\n",
    "\n",
    "The experts reasoning is...\n",
    "\"\"\"\n",
    "\n",
    "template_3 = \"\"\"Imagine four different experts are answering this question.\n",
    "They will first write down all the facts\n",
    "They will then consider three different alternative answers and communicate these answers to the other experts\n",
    "they will write down the likelihood of each answer\n",
    "Based on this they will each come up with a single answer\n",
    "The question is {question}\n",
    "\n",
    "The experts reasoning is...\n",
    "\"\"\"\n",
    "\n",
    "\n",
    "question = \"\"\"1. Carlos is at the swimming pool. \n",
    "2. He walks to the locker room, carrying a towel. \n",
    "3. He puts his watch in the towel and carries the towel tightly to a lounger at the poolside. \n",
    "4. At the lounger he opens and vigorously shakes the towel, then walks to the snack bar. \n",
    "5. He leaves the towel at the snack bar, then walks to the diving board. \n",
    "6. Later Carlos realises he has has lost his watch. Where is the single most likely location of the watch? \"\"\""
   ]
  },
  {
   "cell_type": "code",
   "execution_count": 12,
   "id": "92b820f9-ecd3-4915-90f1-1a2dce556397",
   "metadata": {},
   "outputs": [],
   "source": [
    "prompt1 = PromptTemplate(template=template_1, input_variables=[\"question\"])\n",
    "prompt2 = PromptTemplate(template=template_2, input_variables=[\"question\"])\n",
    "prompt3 = PromptTemplate(template=template_3, input_variables=[\"question\"])\n",
    "\n",
    "llm_chain_1 = LLMChain(prompt=prompt1, llm=llm_1)\n",
    "llm_chain_2 = LLMChain(prompt=prompt2, llm=llm_2)\n",
    "llm_chain_3 = LLMChain(prompt=prompt3, llm=llm_3)"
   ]
  },
  {
   "cell_type": "code",
   "execution_count": 13,
   "id": "fa840330-769f-4297-9f2b-0666a0a3ac10",
   "metadata": {},
   "outputs": [
    {
     "name": "stdout",
     "output_type": "stream",
     "text": [
      "\n",
      "Expert 1: Carlos put his watch in the towel and carried the towel tightly to a lounger. The most likely location of the watch is the lounger since it was the last place he had the watch before he left it. \n",
      "\n",
      "Expert 2: Carlos put his watch in the towel and vigorously shook the towel at the lounger. There is a possibility that the watch could have fallen out of the towel and could be near the lounger. \n",
      "\n",
      "Expert 3: Carlos left the towel at the snack bar before walking to the diving board. The watch could have fallen out of the towel while he was carrying it to the snack bar and may be somewhere near the snack bar.\n",
      "\n",
      "Expert 1: Carlos is most likely to have left his watch at the lounger. He shook the towel vigorously and may have shaken the watch out of the towel. \n",
      "\n",
      "Expert 2: Agreed, the lounger is the most likely location. However, it is also possible that Carlos left the watch at the snack bar, as he put down the towel and then walked away. \n",
      "\n",
      "Expert 3: I agree with the first two experts. It is most likely that Carlos left his watch at the lounger, but it is also possible that he left it at the snack bar. \n",
      "\n",
      "Expert 4: I agree with the first three experts. We should consider the possibility that the watch was left at the diving board. Carlos may have taken off the towel to dive and left the watch behind. \n",
      "\n",
      "Expert 5: I agree with the first four experts. We should also consider the possibility that the watch was left in the locker room. Carlos may have put the watch down when he was getting changed and forgotten to pick it up. \n",
      "\n",
      "Expert 6: I agree with the first five experts. We should consider all of the potential locations, but the most likely location is the lounger. The lounger is the last place Carlos was before he realised he had lost his watch, and it is the most likely place for him to have left it. \n",
      "\n",
      "The experts agree that the single most likely location of the watch is the lounger.\n",
      "\n",
      "1. Carlos is at the swimming pool. \n",
      "2. He walks to the locker room, carrying a towel. \n",
      "3. He puts his watch in the towel and carries the towel tightly to a lounger at the poolside. \n",
      "4. At the lounger he opens and vigorously shakes the towel, then walks to the snack bar. \n",
      "5. He leaves the towel at the snack bar, then walks to the diving board. \n",
      "6. Later Carlos realises he has has lost his watch. \n",
      "\n",
      "Alternative Answers: \n",
      "\n",
      "A. The watch is still in the towel at the snack bar. \n",
      "B. The watch is still at the lounger. \n",
      "C. The watch is somewhere in the pool. \n",
      "\n",
      "Likelihood of each answer: \n",
      "\n",
      "A. The watch is still in the towel at the snack bar. - Likely \n",
      "B. The watch is still at the lounger. - Possible \n",
      "C. The watch is somewhere in the pool. - Unlikely \n",
      "\n",
      "Conclusion: \n",
      "\n",
      "The single most likely location of the watch is in the towel at the snack bar.\n"
     ]
    }
   ],
   "source": [
    "response_1 = llm_chain_1.run(question)\n",
    "response_2 = llm_chain_2.run(question)\n",
    "response_3 = llm_chain_3.run(question)\n",
    "\n",
    "print(response_1)\n",
    "print(response_2)\n",
    "print(response_3)\n"
   ]
  },
  {
   "cell_type": "code",
   "execution_count": 16,
   "id": "629f58db-9b62-4344-91b0-9a6a11edb18e",
   "metadata": {},
   "outputs": [
    {
     "name": "stdout",
     "output_type": "stream",
     "text": [
      "\n",
      "1. Carlos is at the swimming pool. \n",
      "2. He walks to the locker room, carrying a towel. \n",
      "3. He puts his watch in the towel and carries the towel tightly to a lounger at the poolside. \n",
      "4. At the lounger he opens and vigorously shakes the towel, then walks to the snack bar. \n",
      "5. He leaves the towel at the snack bar, then walks to the diving board. \n",
      "6. Later Carlos realises he has has lost his watch. \n",
      "\n",
      "Alternative Answers: \n",
      "\n",
      "A. The watch is still in the towel at the snack bar. \n",
      "B. The watch is still at the lounger. \n",
      "C. The watch is somewhere in the pool. \n",
      "\n",
      "Likelihood of each answer: \n",
      "\n",
      "A. The watch is still in the towel at the snack bar. - Likely \n",
      "B. The watch is still at the lounger. - Possible \n",
      "C. The watch is somewhere in the pool. - Unlikely \n",
      "\n",
      "Conclusion: \n",
      "\n",
      "The single most likely location of the watch is in the towel at the snack bar.\n"
     ]
    }
   ],
   "source": [
    "print(response_3)\n"
   ]
  },
  {
   "cell_type": "code",
   "execution_count": 18,
   "id": "93f7782e-e6a3-4ae8-99ae-0ffb05e07278",
   "metadata": {},
   "outputs": [
    {
     "name": "stdout",
     "output_type": "stream",
     "text": [
      "Conclusion is A. The watch is still in the towel at the snack bar.\n"
     ]
    }
   ],
   "source": [
    "get_together = \"\"\"Several experts have been asked this question \n",
    "1. Carlos is at the swimming pool. \n",
    "2. He walks to the locker room, carrying a towel. \n",
    "3. He puts his watch in the towel and carries the towel tightly to a lounger at the poolside. \n",
    "4. At the lounger he opens and vigorously shakes the towel, then walks to the snack bar. \n",
    "5. He leaves the towel at the snack bar, then walks to the diving board. \n",
    "6. Later Carlos realises he has has lost his watch. \n",
    "Where is the single most likely location of the watch? their resulting answers are {answer} \n",
    "which answer is most likely? \n",
    "The most likely answer is...\"\"\"\n",
    "\n",
    "answer = response_1+response_2+response_3\n",
    "fusion = PromptTemplate(template=get_together, input_variables=[\"answer\"])\n",
    "\n",
    "wood_for_trees = OpenAI(temperature=0.1, max_tokens=3000)\n",
    "final = LLMChain(prompt=fusion, llm=wood_for_trees)\n",
    "conclusion = final.run(answer)\n",
    "\n",
    "print(f\"Conclusion is {conclusion}\")"
   ]
  },
  {
   "cell_type": "code",
   "execution_count": null,
   "id": "fcbfbb14-f1ca-4781-9571-2dd53ff9a511",
   "metadata": {},
   "outputs": [],
   "source": []
  }
 ],
 "metadata": {
  "kernelspec": {
   "display_name": "virtualENV",
   "language": "python",
   "name": "virtualenv"
  },
  "language_info": {
   "codemirror_mode": {
    "name": "ipython",
    "version": 3
   },
   "file_extension": ".py",
   "mimetype": "text/x-python",
   "name": "python",
   "nbconvert_exporter": "python",
   "pygments_lexer": "ipython3",
   "version": "3.11.0"
  }
 },
 "nbformat": 4,
 "nbformat_minor": 5
}
