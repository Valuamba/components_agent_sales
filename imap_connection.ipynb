{
 "cells": [
  {
   "cell_type": "code",
   "execution_count": 2,
   "id": "b0bddba7-2f77-4999-bb66-e101da72e252",
   "metadata": {},
   "outputs": [
    {
     "data": {
      "text/plain": [
       "('OK', [b'3520'])"
      ]
     },
     "execution_count": 2,
     "metadata": {},
     "output_type": "execute_result"
    }
   ],
   "source": [
    "import imaplib\n",
    "import email\n",
    "\n",
    "# IMAP server details\n",
    "host = 'mail2.famaga.de'\n",
    "username = 'test@famaga.de'\n",
    "password = '2l0kMOoGrEd8A72'\n",
    "\n",
    "# Connect to the IMAP server\n",
    "mail = imaplib.IMAP4_SSL(host)\n",
    "mail.login(username, password)\n",
    "mail.select('inbox')  # Connect to the inbox\n",
    "\n",
    "    # Here you can parse the email as needed"
   ]
  },
  {
   "cell_type": "code",
   "execution_count": null,
   "id": "564c4be9-0da7-472a-acf6-6bcb2409fe3f",
   "metadata": {},
   "outputs": [],
   "source": [
    "\n",
    "# Fetch emails\n",
    "_, message_numbers_raw = mail.search(None, 'ALL')\n",
    "for message_number in message_numbers_raw[0].split():\n",
    "    _, msg = mail.fetch(message_number, '(RFC822)')\n",
    "    # Parse the email message\n",
    "    email_message = email.message_from_bytes(msg[0][1])"
   ]
  }
 ],
 "metadata": {
  "kernelspec": {
   "display_name": "virtualENV",
   "language": "python",
   "name": "virtualenv"
  },
  "language_info": {
   "codemirror_mode": {
    "name": "ipython",
    "version": 3
   },
   "file_extension": ".py",
   "mimetype": "text/x-python",
   "name": "python",
   "nbconvert_exporter": "python",
   "pygments_lexer": "ipython3",
   "version": "3.11.0"
  }
 },
 "nbformat": 4,
 "nbformat_minor": 5
}
