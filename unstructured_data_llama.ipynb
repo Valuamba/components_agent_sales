{
 "cells": [
  {
   "cell_type": "code",
   "execution_count": 54,
   "id": "7ad894c0-3909-4765-a04c-01ba13d93a91",
   "metadata": {},
   "outputs": [],
   "source": [
    "%load_ext autoreload\n",
    "%autoreload 2"
   ]
  },
  {
   "cell_type": "code",
   "execution_count": null,
   "id": "b1881dc7-c23c-460a-a296-56074d740198",
   "metadata": {},
   "outputs": [],
   "source": [
    "!pip install llama-index llama-hub unstructured lxml cohere -qU"
   ]
  },
  {
   "cell_type": "code",
   "execution_count": 67,
   "id": "452dd0b2-b7bd-4800-8f1d-883de19f698a",
   "metadata": {},
   "outputs": [
    {
     "name": "stdout",
     "output_type": "stream",
     "text": [
      "Collecting environ\n",
      "  Using cached environ-1.0-py3-none-any.whl\n",
      "Installing collected packages: environ\n",
      "Successfully installed environ-1.0\n",
      "\n",
      "\u001b[1m[\u001b[0m\u001b[34;49mnotice\u001b[0m\u001b[1;39;49m]\u001b[0m\u001b[39;49m A new release of pip is available: \u001b[0m\u001b[31;49m23.2.1\u001b[0m\u001b[39;49m -> \u001b[0m\u001b[32;49m23.3.1\u001b[0m\n",
      "\u001b[1m[\u001b[0m\u001b[34;49mnotice\u001b[0m\u001b[1;39;49m]\u001b[0m\u001b[39;49m To update, run: \u001b[0m\u001b[32;49mpip install --upgrade pip\u001b[0m\n"
     ]
    }
   ],
   "source": [
    "!pip install environ"
   ]
  },
  {
   "cell_type": "code",
   "execution_count": null,
   "id": "51a53638-c16f-478c-b51d-a0048ff8cfec",
   "metadata": {},
   "outputs": [],
   "source": [
    "!pip install unstructured==0.10.18"
   ]
  },
  {
   "cell_type": "code",
   "execution_count": 2,
   "id": "c8d4a8b0-d72a-45fd-a7ce-04aa5d581e9b",
   "metadata": {},
   "outputs": [],
   "source": [
    "import nest_asyncio\n",
    "\n",
    "nest_asyncio.apply()"
   ]
  },
  {
   "cell_type": "code",
   "execution_count": 69,
   "id": "f4f7f20e-33c6-4fe6-8882-ba1d9c93dd63",
   "metadata": {},
   "outputs": [],
   "source": [
    "import os\n",
    "from dotenv import load_dotenv\n",
    "\n",
    "os.environ['OPENAI_API_KEY'] = os.getenv('OPENAI_API_KEY')\n",
    "os.environ['SERPER_API_KEY'] = os.getenv('SERPER_API_KEY')"
   ]
  },
  {
   "cell_type": "code",
   "execution_count": null,
   "id": "7f373c9a-556f-4936-9abf-1f3430861f23",
   "metadata": {},
   "outputs": [],
   "source": [
    "from llama_index.llama_pack import download_llama_pack\n",
    "\n",
    "EmbeddedTablesUnstructuredRetrieverPack = download_llama_pack('EmbeddedTablesUnstructuredRetrieverPack', './embedded_tables_unstructured_pack')"
   ]
  },
  {
   "cell_type": "code",
   "execution_count": null,
   "id": "0c5437fb-95b3-43b6-bc60-277beb8efc75",
   "metadata": {},
   "outputs": [],
   "source": [
    "import importlib\n",
    "importlib.reload(EmbeddedTablesUnstructuredRetrieverPack)\n"
   ]
  },
  {
   "cell_type": "code",
   "execution_count": null,
   "id": "c5f8cd5b-5668-43d6-a4e0-645e0ad20a5c",
   "metadata": {},
   "outputs": [],
   "source": [
    "from embedded_tables_unstructured_pack.base import EmbeddedTablesUnstructuredRetrieverPack\n",
    "\n",
    "EmbeddedTablesUnstructuredRetrieverPack??"
   ]
  },
  {
   "cell_type": "code",
   "execution_count": null,
   "id": "1a5e0530-1e96-4e71-bccc-9f1ccf459685",
   "metadata": {},
   "outputs": [],
   "source": [
    "dir(EmbeddedTablesUnstructuredRetrieverPack)"
   ]
  },
  {
   "cell_type": "code",
   "execution_count": null,
   "id": "cb5baeda-b2e2-48da-8e44-67e9f6380489",
   "metadata": {},
   "outputs": [],
   "source": [
    "!wget https://github.com/pdf2htmlEX/pdf2htmlEX/releases/download/v0.18.8.rc1/pdf2htmlEX-0.18.8.rc1-master-20200630-Ubuntu-bionic-x86_64.deb"
   ]
  },
  {
   "cell_type": "code",
   "execution_count": null,
   "id": "3719022b-14cd-4060-a643-723abfc9e21a",
   "metadata": {},
   "outputs": [],
   "source": [
    "!sudo apt install \"./pdf2htmlEX-0.18.8.rc1-master-20200630-Ubuntu-bionic-x86_64.deb\" -y"
   ]
  },
  {
   "cell_type": "raw",
   "id": "5bf4f555-4353-48e7-afa0-6bed9e6e55a2",
   "metadata": {},
   "source": [
    "!wget https://d18rn0p25nwr6d.cloudfront.net/CIK-0001045810/7df4dbdc-eb62-4d53-bc27-d334bfcb2335.pdf -o quarterly-nvidia.pdf"
   ]
  },
  {
   "cell_type": "code",
   "execution_count": null,
   "id": "e5d8f6ce-fcbe-43c5-ab88-a206afdbd3cd",
   "metadata": {},
   "outputs": [],
   "source": [
    "!wget https://www.combustion911.com/support/documentation/actuators/ic-20-ic-50-actuators_brochure.pdf -o ic-20-ic-50-datasheet.pdf"
   ]
  },
  {
   "cell_type": "code",
   "execution_count": null,
   "id": "a2f4c8ef-b2d5-4cd7-a0a8-971e9f0a6c8b",
   "metadata": {},
   "outputs": [],
   "source": [
    "import subprocess\n",
    "\n",
    "def convert_pdf_to_html(pdf_path, html_path):\n",
    "    command = f'pdf2htmlEX {pdf_path} --dest-dir {html_path}'\n",
    "    subprocess.call(command, shell=True)\n",
    "\n",
    "input_pdf = 'ic-20-ic-50-actuators_brochure.pdf'\n",
    "output_pdf = 'ic-20-ic-50-actuators_brochure'\n",
    "\n",
    "convert_pdf_to_html(input_pdf, output_pdf)"
   ]
  },
  {
   "cell_type": "code",
   "execution_count": null,
   "id": "a9367fd4-be63-479a-9805-4adf37e95d19",
   "metadata": {},
   "outputs": [],
   "source": [
    "embedded_tables_unstructured_pack = EmbeddedTablesUnstructuredRetrieverPack(\n",
    "    f'{output_pdf}/{output_pdf}.html',\n",
    "    nodes_save_path = f'{output_pdf}.pkl'\n",
    ")"
   ]
  },
  {
   "cell_type": "code",
   "execution_count": null,
   "id": "8cbd5b62-8727-49ae-b82e-d3c545eeed4c",
   "metadata": {},
   "outputs": [],
   "source": [
    "modules = embedded_tables_unstructured_pack.get_modules()\n",
    "display(modules)"
   ]
  },
  {
   "cell_type": "code",
   "execution_count": null,
   "id": "a05759bb-1582-41a5-9fe2-c80b95d6f9ad",
   "metadata": {},
   "outputs": [],
   "source": [
    "prompt = \"\"\"\n",
    "You are manufacturer sales manager. You help clients answer on question about technical specification of factory parts.\n",
    "You have deep knowledge about physics, engineering and constructing manufacturing parts.\n",
    "\n",
    "As a manufacturer sales manager please what is valtage of Actuator IC-20?\n",
    "\"\"\"\n",
    "\n",
    "response = embedded_tables_unstructured_pack.run('What is the difference between ic-20 and ic-50, build compare table?')\n",
    "print(response.response)"
   ]
  },
  {
   "cell_type": "code",
   "execution_count": null,
   "id": "2bcaed27-8881-43c7-bb9b-eaa5874b8f88",
   "metadata": {},
   "outputs": [],
   "source": [
    "print(response.response)"
   ]
  },
  {
   "cell_type": "code",
   "execution_count": null,
   "id": "2d537393-0fbb-4ebc-affb-844c07249cf0",
   "metadata": {},
   "outputs": [],
   "source": [
    "response = embedded_tables_unstructured_pack.run(\"\"\"\n",
    "This document is specification of actuators from manufacturer or seller.\n",
    "Please say me manufacturer details like address, details and other of actuators.\"\"\")\n",
    "response.response"
   ]
  },
  {
   "cell_type": "code",
   "execution_count": null,
   "id": "21d3b279-9636-40e2-92ef-e53d97f685a2",
   "metadata": {},
   "outputs": [],
   "source": [
    "response.response"
   ]
  },
  {
   "cell_type": "code",
   "execution_count": null,
   "id": "c9f262bd-c7a0-4858-b08b-738fd83e5a76",
   "metadata": {},
   "outputs": [],
   "source": [
    "from llama_index import VectorStoreIndex\n",
    "from llama_index.node_parser import UnstructuredElementNodeParser\n",
    "from typing import Dict, Any\n",
    "from llama_index.llama_pack.base import BaseLlamaPack\n",
    "from llama_index.retrievers import RecursiveRetriever\n",
    "from llama_index.query_engine import RetrieverQueryEngine\n",
    "from llama_index.readers.file.flat_reader import FlatReader\n",
    "from pathlib import Path\n",
    "from typing import Optional\n",
    "import os\n",
    "import pickle"
   ]
  },
  {
   "cell_type": "code",
   "execution_count": null,
   "id": "46afb9bd-ec35-478f-9da4-2da36f257d0c",
   "metadata": {},
   "outputs": [],
   "source": [
    "# def __init__(\n",
    "#         self,\n",
    "#         html_path: str,\n",
    "#         nodes_save_path: Optional[str] = None,\n",
    "#         **kwargs: Any,\n",
    "#     ) -> None:\n",
    "#         \"\"\"Init params.\"\"\"\n",
    "#         self.reader = FlatReader()\n",
    "\n",
    "#         docs = self.reader.load_data(Path(html_path))\n",
    "\n",
    "#         self.node_parser = UnstructuredElementNodeParser()\n",
    "#         if nodes_save_path is None or not os.path.exists(nodes_save_path):\n",
    "#             raw_nodes = self.node_parser.get_nodes_from_documents(docs)\n",
    "#             pickle.dump(raw_nodes, open(nodes_save_path, \"wb\"))\n",
    "#         else:\n",
    "#             raw_nodes = pickle.load(open(nodes_save_path, \"rb\"))\n",
    "\n",
    "#         base_nodes, node_mappings = self.node_parser.get_base_nodes_and_mappings(\n",
    "#             raw_nodes\n",
    "#         )\n",
    "#         # construct top-level vector index + query engine\n",
    "#         vector_index = VectorStoreIndex(base_nodes)\n",
    "#         vector_retriever = vector_index.as_retriever(similarity_top_k=1)\n",
    "#         self.recursive_retriever = RecursiveRetriever(\n",
    "#             \"vector\",\n",
    "#             retriever_dict={\"vector\": vector_retriever},\n",
    "#             node_dict=node_mappings,\n",
    "#             verbose=True,\n",
    "#         )\n",
    "#         service_context = ServiceContext.from_defaults(\n",
    "#           llm=OpenAI(model=\"gpt-4\")\n",
    "#         )\n",
    "\n",
    "#         self.query_engine = RetrieverQueryEngine.from_args(\n",
    "#           self.recursive_retriever,\n",
    "#           service_context=service_context\n",
    "#         )"
   ]
  },
  {
   "cell_type": "code",
   "execution_count": null,
   "id": "63079833-d333-4232-8365-c4c104809b25",
   "metadata": {},
   "outputs": [],
   "source": [
    "output_name = 'ic-20-ic-50-actuators_brochure'"
   ]
  },
  {
   "cell_type": "code",
   "execution_count": null,
   "id": "7be39a51-8633-4bb0-9042-cfe83f9d02bc",
   "metadata": {},
   "outputs": [],
   "source": [
    "html_path = f'./{output_name}/{output_name}.html'\n",
    "nodes_save_path = f'{output_name}.pkl'"
   ]
  },
  {
   "cell_type": "code",
   "execution_count": null,
   "id": "6192a144-7012-4fe4-afb9-52ba55727313",
   "metadata": {},
   "outputs": [],
   "source": [
    "html_path"
   ]
  },
  {
   "cell_type": "code",
   "execution_count": null,
   "id": "6349b89b-b1f0-4f20-9785-abad1724ac0d",
   "metadata": {},
   "outputs": [],
   "source": [
    "reader = FlatReader()"
   ]
  },
  {
   "cell_type": "code",
   "execution_count": null,
   "id": "62cdba1d-cce9-4cd9-8a24-936285ed0524",
   "metadata": {},
   "outputs": [],
   "source": [
    "docs = reader.load_data(Path(html_path))"
   ]
  },
  {
   "cell_type": "code",
   "execution_count": null,
   "id": "62764f3d-e01a-4822-91cb-9cd3122c55ee",
   "metadata": {},
   "outputs": [],
   "source": [
    "UnstructuredElementNodeParser?"
   ]
  },
  {
   "cell_type": "code",
   "execution_count": null,
   "id": "a3652f48-4a15-483a-ad11-3f7847877e8a",
   "metadata": {},
   "outputs": [],
   "source": [
    "node_parser = UnstructuredElementNodeParser()\n",
    "node_parser"
   ]
  },
  {
   "cell_type": "code",
   "execution_count": null,
   "id": "59ccc28a-dd19-4813-9fb7-792306af9fb9",
   "metadata": {},
   "outputs": [],
   "source": [
    "raw_nodes = pickle.load(open(nodes_save_path, \"rb\"))"
   ]
  },
  {
   "cell_type": "code",
   "execution_count": null,
   "id": "0b971221-f3eb-4e1d-ac72-398ce4a2d9c4",
   "metadata": {},
   "outputs": [],
   "source": [
    "import pprint\n",
    "\n",
    "for node in raw_nodes:\n",
    "    node.text = node.text.replace('\\ue601', ' ')"
   ]
  },
  {
   "cell_type": "code",
   "execution_count": null,
   "id": "82f1769d-d6d4-4ae5-b48e-9a7cf26b5ab8",
   "metadata": {},
   "outputs": [],
   "source": [
    "pprint.pprint(raw_nodes[0].__dict__)"
   ]
  },
  {
   "cell_type": "code",
   "execution_count": null,
   "id": "4d034eb5-8db9-407d-a695-93f7ff6ffc8d",
   "metadata": {},
   "outputs": [],
   "source": [
    "base_nodes, node_mappings = node_parser.get_base_nodes_and_mappings(\n",
    "            raw_nodes\n",
    "        )"
   ]
  },
  {
   "cell_type": "code",
   "execution_count": null,
   "id": "644cb904-0fa2-495c-a3a4-e4fd31fb5d74",
   "metadata": {},
   "outputs": [],
   "source": [
    "# base_nodes"
   ]
  },
  {
   "cell_type": "code",
   "execution_count": null,
   "id": "a51d90e9-2396-44fe-b9f1-a177c9d53eef",
   "metadata": {},
   "outputs": [],
   "source": [
    "vector_index = VectorStoreIndex(base_nodes)\n",
    "# vector_retriever = vector_index.as_retriever(similarity_top_k=1)\n",
    "\n",
    "vector_retriever = vector_index.as_retriever(similarity_top_k=3)\n",
    "vector_query_engine = vector_index.as_query_engine(similarity_top_k=3)\n",
    "\n",
    "recursive_retriever = RecursiveRetriever(\n",
    "            \"vector\",\n",
    "            retriever_dict={\"vector\": vector_retriever},\n",
    "            node_dict=node_mappings,\n",
    "            verbose=True,\n",
    "        )"
   ]
  },
  {
   "cell_type": "code",
   "execution_count": null,
   "id": "9c887659-999c-40ec-b45a-b74c1996e3bc",
   "metadata": {},
   "outputs": [],
   "source": [
    "service_context = ServiceContext.from_defaults(\n",
    "          llm=OpenAI(model=\"gpt-4\")\n",
    "        )\n",
    "\n",
    "query_engine = RetrieverQueryEngine.from_args(\n",
    "          recursive_retriever,\n",
    "          service_context=service_context\n",
    "        )"
   ]
  },
  {
   "cell_type": "code",
   "execution_count": null,
   "id": "a0c0de55-882b-475d-8e28-cbf98c357588",
   "metadata": {},
   "outputs": [],
   "source": [
    "from llama_index import ServiceContext\n",
    "from llama_index.llms import OpenAI"
   ]
  },
  {
   "cell_type": "code",
   "execution_count": null,
   "id": "00d7dd6b-5046-4307-95e3-a221cf83916b",
   "metadata": {},
   "outputs": [],
   "source": [
    "response = query_engine.query(prompt)\n"
   ]
  },
  {
   "cell_type": "code",
   "execution_count": null,
   "id": "674ff5e2-501e-413d-b35b-1d0a789bb760",
   "metadata": {},
   "outputs": [],
   "source": [
    "response.response"
   ]
  },
  {
   "cell_type": "code",
   "execution_count": null,
   "id": "4ffa8954-6932-4c65-953f-5a3cd0d827af",
   "metadata": {},
   "outputs": [],
   "source": [
    "import pprint\n",
    "\n",
    "\n",
    "pprint.pprint(base_nodes[0].__dict__)"
   ]
  },
  {
   "cell_type": "code",
   "execution_count": null,
   "id": "e0d0dcac-af85-43b4-bf21-4492de515440",
   "metadata": {},
   "outputs": [],
   "source": [
    "UnstructuredElementNodeParser??"
   ]
  },
  {
   "cell_type": "markdown",
   "id": "5713ff4e-7633-440e-be36-55da73a8d9fc",
   "metadata": {},
   "source": [
    "## Querying Google"
   ]
  },
  {
   "cell_type": "code",
   "execution_count": 3,
   "id": "95ff3b0b-9afd-4bf9-b8d0-ed835e7345ee",
   "metadata": {},
   "outputs": [],
   "source": [
    "import json\n",
    "import requests"
   ]
  },
  {
   "cell_type": "code",
   "execution_count": 4,
   "id": "632e1e75-4ab0-47f4-a834-8e10b655c9f6",
   "metadata": {},
   "outputs": [],
   "source": [
    "def search(query, country: str = 'us', page: int = 1):\n",
    "    url = \"https://google.serper.dev/search\"\n",
    "    \n",
    "    payload = json.dumps({\n",
    "      \"q\": query,\n",
    "      \"gl\": country,\n",
    "      \"page\": page\n",
    "    })\n",
    "\n",
    "    headers = {\n",
    "        'X-API-KEY': os.environ['SERPER_API_KEY'],\n",
    "        'Content-Type': 'application/json'\n",
    "    }\n",
    "\n",
    "    response = requests.request(\"POST\", url, headers=headers, data=payload)\n",
    "\n",
    "    return json.loads(response.text)"
   ]
  },
  {
   "cell_type": "code",
   "execution_count": null,
   "id": "8bab7770-ccac-4e2d-a960-c6bf0b4ce421",
   "metadata": {},
   "outputs": [],
   "source": [
    "query1 = 'CONTRINEX  DW-AS-503-P12-627  Nr. 532157'\n",
    "query2 = 'Actuator IC-20'\n",
    "\n",
    "results = []\n",
    "\n",
    "for i in range(2):\n",
    "    results += search(query2, page = i + 1)['organic']\n",
    "\n",
    "results"
   ]
  },
  {
   "cell_type": "code",
   "execution_count": null,
   "id": "f3b182ac-bedb-4197-8117-912069866a17",
   "metadata": {},
   "outputs": [],
   "source": [
    "# query_response_json = json.loads(search_response)\n",
    "\n",
    "print(json.dumps(results, indent=2))"
   ]
  },
  {
   "cell_type": "code",
   "execution_count": 9,
   "id": "1cc9397f-a85f-4680-a637-f7fa67404cf3",
   "metadata": {},
   "outputs": [
    {
     "data": {
      "text/plain": [
       "[{'title': 'Kromschroder Actuator IC 20-30W3E | 88300076 - Combustion 911',\n",
       "  'link': 'https://www.combustion911.com/products/actuators/ic-20/ic-20-30w3e.html',\n",
       "  'snippet': 'Kromschroder Actuator IC 20 is for applications that require precise, controlled rotary movement between 0 and 90 degrees. Control ratios up to 1:10.',\n",
       "  'currency': '$',\n",
       "  'price': 868,\n",
       "  'position': 3},\n",
       " {'title': 'Honeywell Kromschroder IC20 and IC40 Valve Actuators - Lesman: Instruments',\n",
       "  'link': 'https://www.lesman.com/honeywell-kromschroder-ic20-and-ic40-valve-actuators-for-bv-butterfly-valves',\n",
       "  'snippet': \"Honeywell Kromschroder's IC20 and IC40 valve actuators are used for control applications that require rotary movements between 0° and 90°.\",\n",
       "  'currency': '$',\n",
       "  'price': 452,\n",
       "  'position': 6},\n",
       " {'title': 'Kromschroder IC Actuators - KromAmericas',\n",
       "  'link': 'https://www.kromamericas.com/Catalog/actuators/ic',\n",
       "  'snippet': 'The Kromschroder actuators are designed for all applications that require precise, controlled rotary movement between 0 - 90 degrees.',\n",
       "  'currency': '$',\n",
       "  'price': 614,\n",
       "  'imageUrl': 'https://encrypted-tbn0.gstatic.com/images?q=tbn:ANd9GcR7-JBhiOcw_YJKkRm3GRXvsW5I7MY22fG9jgurAo6RlZU7O8xhlnHieVw&s',\n",
       "  'position': 7},\n",
       " {'title': 'UKC00080 | 88300080 | IC 20-30Q3E | KROMSCHRODER Actuator, 120VAC, 50/60HZ, 30S Running TIME, 3NM Torque, Continuous Control - Amazon.com',\n",
       "  'link': 'https://www.amazon.com/UKC00080-88300080-20-30Q3E-KROMSCHRODER-Actuator/dp/B07HCGNXK5',\n",
       "  'snippet': 'UKC00080 | 88300080 | IC 20-30Q3E | KROMSCHRODER Actuator, 120VAC, 50/60HZ, 30S Running TIME, 3NM Torque, Continuous Control: Amazon.com: Industrial ...',\n",
       "  'currency': '$',\n",
       "  'price': 1.699,\n",
       "  'position': 3},\n",
       " {'title': 'Kromschroder 88300080 KS88300080 IC20 Actuator IC20-30Q3E - Combustion Supplies',\n",
       "  'link': 'https://combustionsupplies.com/products/kromschroder-88300080-ks88300080-ic20-actuator-ic20-30q3e',\n",
       "  'snippet': 'In Stock P/N: KS88300080 Shown on Part:P/N: 88300080IC20-30Q3E ACTUATOR, 120VA 90-DEG, 30-SEC, CONTINUOUSSelection input signal:4-20 mA0-20 mA0-10 V.',\n",
       "  'currency': '$',\n",
       "  'price': 985,\n",
       "  'imageUrl': 'https://encrypted-tbn0.gstatic.com/images?q=tbn:ANd9GcTKF_ZdTnkn5oTVaPRQFAKg4LLe7cpBgaHHv_SvUkSprEnE3iQNcRuuB1U&s',\n",
       "  'position': 7},\n",
       " {'title': 'IC 20-30W3T | Krom Schroder by Honeywell | Actuators IC - NEX Instrument Inc',\n",
       "  'link': 'https://www.nexinstrument.com/ic20-30w3t',\n",
       "  'snippet': 'IC 20-30W3T | Krom Schroder by Honeywell | Actuators IC, Best Price in Town, Guaranteed Low Price!',\n",
       "  'currency': '$',\n",
       "  'price': 596,\n",
       "  'imageUrl': 'https://encrypted-tbn0.gstatic.com/images?q=tbn:ANd9GcTHxeWp0mamesiEaQBF8CeDHiOmqBFIuVStH4MsbGtIuz-rTXfSXEGi_TI&s',\n",
       "  'position': 9},\n",
       " {'title': 'KROM SCHRODER IC 20-30W3E Actuator (NEW) (USA) - eBay',\n",
       "  'link': 'https://www.ebay.com/itm/125836236455',\n",
       "  'snippet': 'These are surplus from my spare parts inventory. Local pick up is available and FREE.',\n",
       "  'currency': '$',\n",
       "  'price': 875,\n",
       "  'imageUrl': 'https://encrypted-tbn0.gstatic.com/images?q=tbn:ANd9GcQfbSMaJtkWjLxfkihAmbnQdBV7qnPpln8OEWOWVN6aI8M0n4Pn0Zujx2M&s',\n",
       "  'position': 10}]"
      ]
     },
     "execution_count": 9,
     "metadata": {},
     "output_type": "execute_result"
    }
   ],
   "source": [
    "['{price} // {title}'.format(price=resp['currency'] + str(resp['price']), title=resp['title']) for resp in results if 'price' in resp]\n",
    "\n",
    "links_with_price = [resp for resp in results if 'price' in resp]\n",
    "links_with_price"
   ]
  },
  {
   "cell_type": "code",
   "execution_count": null,
   "id": "52ddf6aa-8460-4eb8-9a38-31fac7201f28",
   "metadata": {},
   "outputs": [],
   "source": [
    "query_response_json['organic']"
   ]
  },
  {
   "cell_type": "markdown",
   "id": "a3b22372-0983-4e51-817f-7334cd5fe92c",
   "metadata": {},
   "source": [
    "## Parse Web Page"
   ]
  },
  {
   "cell_type": "code",
   "execution_count": 29,
   "id": "ea7c3df9-82af-41ab-a1c2-c56aedc1ab11",
   "metadata": {},
   "outputs": [],
   "source": [
    "from bs4 import BeautifulSoup\n",
    "import requests\n",
    "import pickle\n",
    "from llama_index.node_parser import UnstructuredElementNodeParser\n",
    "from llama_index.readers.file.flat_reader import FlatReader\n",
    "from pathlib import Path\n",
    "import pprint"
   ]
  },
  {
   "cell_type": "code",
   "execution_count": 19,
   "id": "8d0a4fd1-c4fe-4e78-8c8d-3192b32eea57",
   "metadata": {},
   "outputs": [],
   "source": [
    "response = requests.get(links_with_price[0]['link'])\n",
    "\n",
    "soup = BeautifulSoup(response.content, 'html.parser')"
   ]
  },
  {
   "cell_type": "code",
   "execution_count": 13,
   "id": "fd8ac366-ceaf-44a8-a5e8-274a028b0a5e",
   "metadata": {},
   "outputs": [],
   "source": [
    "with open('./assets/price.html', 'wb') as f:\n",
    "    f.write()"
   ]
  },
  {
   "cell_type": "code",
   "execution_count": null,
   "id": "73db264a-7f5d-4196-9cdb-2b29fdc73af0",
   "metadata": {},
   "outputs": [],
   "source": [
    "reader = FlatReader()\n",
    "docs = reader.load_data(Path('./assets/price.html'))\n",
    "\n",
    "node_parser = UnstructuredElementNodeParser()\n",
    "raw_nodes = node_parser.get_nodes_from_documents(docs)"
   ]
  },
  {
   "cell_type": "code",
   "execution_count": null,
   "id": "9909b883-32da-405f-8973-17f9f83f1f62",
   "metadata": {},
   "outputs": [],
   "source": [
    "pprint.pprint(raw_nodes[0].__dict__)"
   ]
  },
  {
   "cell_type": "code",
   "execution_count": 31,
   "id": "1ce3e80c-4a1d-47a8-a49c-d7311ad0308b",
   "metadata": {},
   "outputs": [],
   "source": [
    "base_nodes, node_mappings = node_parser.get_base_nodes_and_mappings(raw_nodes)"
   ]
  },
  {
   "cell_type": "code",
   "execution_count": null,
   "id": "2e23df5e-ee57-417d-9c21-468563c9004c",
   "metadata": {},
   "outputs": [],
   "source": [
    "base_nodes"
   ]
  },
  {
   "cell_type": "code",
   "execution_count": null,
   "id": "88a382ae-9809-4247-8c04-395cb7a48686",
   "metadata": {},
   "outputs": [],
   "source": [
    "node_mappings\n"
   ]
  },
  {
   "cell_type": "markdown",
   "id": "e4476bfc-ec29-4aa0-a73f-826706ae65dd",
   "metadata": {
    "jp-MarkdownHeadingCollapsed": true
   },
   "source": [
    "### Pickle"
   ]
  },
  {
   "cell_type": "code",
   "execution_count": 15,
   "id": "b3bb7b47-83ba-45a0-b377-2d54f65d8764",
   "metadata": {},
   "outputs": [],
   "source": [
    "with open(\"output.pkl\", \"wb\") as pkl_file:\n",
    "    pickle.dump(soup, pkl_file)"
   ]
  },
  {
   "cell_type": "code",
   "execution_count": null,
   "id": "8262e0cb-986c-4c0e-954a-0669102b41dd",
   "metadata": {},
   "outputs": [],
   "source": []
  },
  {
   "cell_type": "code",
   "execution_count": null,
   "id": "479988f1-d768-4c84-a0ab-2052e242be83",
   "metadata": {},
   "outputs": [],
   "source": [
    "pickled_soup = pickle.dumps(soup)\n",
    "\n",
    "\n",
    "pickle.loads(pickled_soup)"
   ]
  },
  {
   "cell_type": "code",
   "execution_count": 14,
   "id": "5229d111-6050-4862-b639-3c5cc8ec802e",
   "metadata": {},
   "outputs": [
    {
     "ename": "UnpicklingError",
     "evalue": "invalid load key, '<'.",
     "output_type": "error",
     "traceback": [
      "\u001b[0;31m---------------------------------------------------------------------------\u001b[0m",
      "\u001b[0;31mUnpicklingError\u001b[0m                           Traceback (most recent call last)",
      "Cell \u001b[0;32mIn[14], line 1\u001b[0m\n\u001b[0;32m----> 1\u001b[0m raw_nodes \u001b[38;5;241m=\u001b[39m \u001b[43mpickle\u001b[49m\u001b[38;5;241;43m.\u001b[39;49m\u001b[43mload\u001b[49m\u001b[43m(\u001b[49m\u001b[38;5;28;43mopen\u001b[39;49m\u001b[43m(\u001b[49m\u001b[38;5;124;43m'\u001b[39;49m\u001b[38;5;124;43m./assets/price.html\u001b[39;49m\u001b[38;5;124;43m'\u001b[39;49m\u001b[43m,\u001b[49m\u001b[43m \u001b[49m\u001b[38;5;124;43m'\u001b[39;49m\u001b[38;5;124;43mrb\u001b[39;49m\u001b[38;5;124;43m'\u001b[39;49m\u001b[43m)\u001b[49m\u001b[43m)\u001b[49m\n\u001b[1;32m      3\u001b[0m raw_nodes\n",
      "\u001b[0;31mUnpicklingError\u001b[0m: invalid load key, '<'."
     ]
    }
   ],
   "source": [
    "raw_nodes = pickle.load(open('./assets/price.html', 'rb'))\n",
    "\n",
    "raw_nodes"
   ]
  },
  {
   "cell_type": "code",
   "execution_count": 56,
   "id": "d7c08122-61d4-4716-99a2-04b47c8b0a0b",
   "metadata": {},
   "outputs": [],
   "source": [
    "from bs4 import BeautifulSoup\n",
    "import re\n",
    "\n",
    "# soup = BeautifulSoup(response.text, 'html.parser')\n",
    "\n",
    "sentence_pattern = r'(?<=\\.|\\?|\\!)\\s+'\n",
    "pattern = r'\\n+'\n",
    "# Remove new lines and tabulations before and after each sentence\n",
    "# cleaned_text = re.sub(sentence_pattern, ' ', text)\n",
    "\n",
    "# Remove <script> and <style> elements\n",
    "for script in soup(['script', 'style', 'a']):\n",
    "    script.extract()\n",
    "\n",
    "# Select only blocks that have text content\n",
    "# text_blocks = [re.sub(pattern, '\\n', block.get_text()) for block in soup.find_all(['p', 'div', 'span']) if block.get_text(strip=True)]\n",
    "\n",
    "# # Print the text content of selected blocks\n",
    "# for block_text in text_blocks:\n",
    "#     if len(block_text) > 0:\n",
    "#         print(block_text)\n",
    "\n",
    "# # print(f'The block text: \"\"\"{text_blocks[0]}\"\"\"')\n",
    "\n",
    "# text_blocks\n",
    "\n",
    "# self.reader = FlatReader()\n",
    "\n",
    "#         docs = self.reader.load_data(Path(html_path))\n",
    "\n",
    "#         self.node_parser = UnstructuredElementNodeParser()\n",
    "#         if nodes_save_path is None or not os.path.exists(nodes_save_path):\n",
    "#             raw_nodes = self.node_parser.get_nodes_from_documents(docs)\n",
    "#             pickle.dump(raw_nodes, open(nodes_save_path, \"wb\"))\n",
    "#         else:\n",
    "#             raw_nodes = pickle.load(open(nodes_save_path, \"rb\"))\n"
   ]
  },
  {
   "cell_type": "code",
   "execution_count": null,
   "id": "36fa9eee-abdf-419f-bc81-1fec8fd9bc29",
   "metadata": {},
   "outputs": [],
   "source": [
    "with open(\"output.pkl\", \"wb\") as pkl_file:\n",
    "    pickle.dump(soup, pkl_file)"
   ]
  },
  {
   "cell_type": "code",
   "execution_count": 8,
   "id": "b3296782-c94f-4338-a03a-63e9a8eb596a",
   "metadata": {},
   "outputs": [
    {
     "ename": "NameError",
     "evalue": "name 'response' is not defined",
     "output_type": "error",
     "traceback": [
      "\u001b[0;31m---------------------------------------------------------------------------\u001b[0m",
      "\u001b[0;31mNameError\u001b[0m                                 Traceback (most recent call last)",
      "Cell \u001b[0;32mIn[8], line 3\u001b[0m\n\u001b[1;32m      1\u001b[0m \u001b[38;5;66;03m# reader = FlatReader()\u001b[39;00m\n\u001b[1;32m      2\u001b[0m node_parser \u001b[38;5;241m=\u001b[39m UnstructuredElementNodeParser()\n\u001b[0;32m----> 3\u001b[0m raw_nodes \u001b[38;5;241m=\u001b[39m pickle\u001b[38;5;241m.\u001b[39mloads(\u001b[43mresponse\u001b[49m\u001b[38;5;241m.\u001b[39mcontent)\n\u001b[1;32m      5\u001b[0m base_nodes, node_mappings \u001b[38;5;241m=\u001b[39m node_parser\u001b[38;5;241m.\u001b[39mget_base_nodes_and_mappings(\n\u001b[1;32m      6\u001b[0m             raw_nodes\n\u001b[1;32m      7\u001b[0m         )\n",
      "\u001b[0;31mNameError\u001b[0m: name 'response' is not defined"
     ]
    }
   ],
   "source": [
    "# reader = FlatReader()\n",
    "node_parser = UnstructuredElementNodeParser()\n",
    "raw_nodes = pickle.loads(response.content)\n",
    "\n",
    "base_nodes, node_mappings = node_parser.get_base_nodes_and_mappings(\n",
    "            raw_nodes\n",
    "        )"
   ]
  },
  {
   "cell_type": "code",
   "execution_count": null,
   "id": "3381f3c1-9a3a-4387-82bd-99d5fa79b73c",
   "metadata": {},
   "outputs": [],
   "source": [
    "reader = FlatReader()\n",
    "# docs = reader.load_data(response.content)\n",
    "\n",
    "reader??"
   ]
  },
  {
   "cell_type": "code",
   "execution_count": null,
   "id": "c6303171-fe7e-4991-9d2e-30855483970c",
   "metadata": {},
   "outputs": [],
   "source": [
    "response.content"
   ]
  },
  {
   "cell_type": "markdown",
   "id": "007de35b-b681-4fc8-9fca-2e10d1a2c7fc",
   "metadata": {},
   "source": [
    "## Vectorize Html Page"
   ]
  },
  {
   "cell_type": "code",
   "execution_count": 44,
   "id": "e8252662-eed3-4d19-b328-a9351bbcbf71",
   "metadata": {},
   "outputs": [],
   "source": [
    "from llama_index import VectorStoreIndex\n",
    "from llama_index.retrievers import RecursiveRetriever\n",
    "from llama_index import ServiceContext\n",
    "from llama_index.query_engine import RetrieverQueryEngine\n",
    "from llama_index.llms import OpenAI"
   ]
  },
  {
   "cell_type": "code",
   "execution_count": 46,
   "id": "e2ed1d78-514d-45a2-9d23-4a3c1d00d35f",
   "metadata": {},
   "outputs": [],
   "source": [
    "similarity_top_k = 3"
   ]
  },
  {
   "cell_type": "code",
   "execution_count": 55,
   "id": "34cb4e54-1f86-42d1-b2f2-51eb8c46ffdd",
   "metadata": {},
   "outputs": [],
   "source": [
    "vector_index = VectorStoreIndex(base_nodes)\n",
    "\n",
    "vector_retriever = vector_index.as_retriever(similarity_top_k=similarity_top_k)\n",
    "# vector_query_engine = vector_index.as_query_engine(similarity_top_k=3)\n",
    "\n",
    "recursive_retriever = RecursiveRetriever(\n",
    "            \"vector\",\n",
    "            retriever_dict={\"vector\": vector_retriever},\n",
    "            node_dict=node_mappings,\n",
    "            verbose=True,\n",
    ")\n",
    "service_context = ServiceContext.from_defaults(llm=OpenAI(model=\"gpt-3.5-turbo\"))\n",
    "\n",
    "query_engine = RetrieverQueryEngine.from_args(recursive_retriever, service_context=service_context)"
   ]
  },
  {
   "cell_type": "code",
   "execution_count": 59,
   "id": "74d95f29-3950-4340-83f3-de777b6ab6e9",
   "metadata": {},
   "outputs": [
    {
     "name": "stdout",
     "output_type": "stream",
     "text": [
      "\u001b[1;3;34mRetrieving with query id None: Give technical specification of Actuator IC-20\n",
      "\u001b[0m\u001b[1;3;38;5;200mRetrieving text node: Applications (click on image for close-up view)\n",
      "\n",
      "IC 20..E, continuous control\n",
      "\n",
      "For processes that require high temperature accuracy and low circulation in the furnace. The actuator IC 20..E is controlled by a 4 – 20 mA, 0 – 20 mA or 0 – 10 V signal.\n",
      "\n",
      "Specifications\n",
      "\u001b[0m\u001b[1;3;38;5;200mRetrieved node with id, entering: id_41_table\n",
      "\u001b[0m\u001b[1;3;34mRetrieving with query id id_41_table: Give technical specification of Actuator IC-20\n",
      "\u001b[0m\u001b[1;3;38;5;200mRetrieved node with id, entering: id_46_table\n",
      "\u001b[0m\u001b[1;3;34mRetrieving with query id id_46_table: Give technical specification of Actuator IC-20\n",
      "\u001b[0m"
     ]
    }
   ],
   "source": [
    "response = query_engine.query(f'Give technical specification of {query2}')"
   ]
  },
  {
   "cell_type": "code",
   "execution_count": 61,
   "id": "bbd9ad78-6d1f-4962-a5ce-0703ac345808",
   "metadata": {},
   "outputs": [
    {
     "name": "stdout",
     "output_type": "stream",
     "text": [
      "The technical specifications of Actuator IC-20 are as follows:\n",
      "- Mains voltage: 230 V AC, -15/+10% 50/60 Hz\n",
      "- Power consumption: 4.9 VA at 50 Hz, 5.8 VA at 60 Hz\n",
      "- Angle of rotation: 0 – 90°, adjustable\n",
      "- Holding torque: torque\n",
      "- Switching power of the position switches: \n",
      "  - Voltage: 125 V~ 2 A, 250 V~ 2 A, <30 V= 2 A, <50 V= 1 A, <75 V= 0.75 A, <125 V= 0.5 A, <250 V= 0.25 A, 12…30 V~/= 100 mA\n",
      "  - Resistive load: 2 A, 0.5 A, 2 A\n",
      "  - Incandescent lamp load: 0.5 A, 0.4 A, 0.3 A, 0.2 A, 0.1 A\n",
      "  - Inductive load: 2 A, 2 A, 2 A, 1 A, 0.75 A, 0.5 A, 0.25 A\n",
      "- Power consumption: Terminals 1, 2 and 5: 4.9 VA at 50 Hz, 5.8 VA at 60 Hz, Terminal 3: 8.4 VA at 50 Hz, 9.5 VA at 60 Hz, in total not exceeding: 8.4 VA at 50 Hz, 9.5 VA at 60 Hz\n",
      "- Feedback output: Galvanically isolated, load impedance max. 500 Ω\n",
      "- Input: Galvanically isolated, 4 (0) – 20 mA: load impedance switchable from 50 Ω to 250 Ω, 0 – 10 V: 100 kΩ input resistance\n",
      "- Enclosure: IP 65 pursuant to IEC 529\n",
      "- Protection class: Impact-resistant and heat-resistant plastic\n",
      "- Electrical connection: Line entrance: 3 × M20 plastic screw connectors\n",
      "- Ambient temperature: -20 to 60°C, no condensation permitted.\n"
     ]
    }
   ],
   "source": [
    "print(response.response)"
   ]
  },
  {
   "cell_type": "markdown",
   "id": "aa8fd3bb-db4a-403b-8cd3-46e59b4facbc",
   "metadata": {},
   "source": [
    "### JSON Reader"
   ]
  },
  {
   "cell_type": "code",
   "execution_count": 70,
   "id": "b380af24-4074-4230-9fc7-578d541092b0",
   "metadata": {},
   "outputs": [],
   "source": [
    "from llama_index.readers import JSONReader\n",
    "from openai import OpenAI\n",
    "import os"
   ]
  },
  {
   "cell_type": "code",
   "execution_count": 71,
   "id": "6b7d1bcf-9d86-4de6-bc03-1234f998c329",
   "metadata": {},
   "outputs": [],
   "source": [
    "query2 = 'Actuator IC-20 datasheet'\n",
    "\n",
    "results = []\n",
    "\n",
    "for i in range(2):\n",
    "    results += search(query2, page = i + 1)['organic']\n",
    "\n",
    "links_with_price = [resp for resp in results if 'price' in resp]"
   ]
  },
  {
   "cell_type": "code",
   "execution_count": 75,
   "id": "020f06aa-26b7-4a73-9d3b-11f8b14f2da5",
   "metadata": {},
   "outputs": [
    {
     "name": "stdout",
     "output_type": "stream",
     "text": [
      "Title: Kromschroder Actuator IC 20-30W3E | 88300076 - Combustion 911\n",
      "Snippet: Actuator IC 20-30W3E · Running time: 30 seconds · Mains Voltage: 230 V AC, -15/+10% 50/60 Hz · Torque: 3.0Nm · Continuous Control: 0 (4) – 20 mA, 0 – 10 V · For ...\n",
      "Price: $868\n",
      "\n",
      "Title: KS88300080 - IC 20-30Q3E - KromAmericas\n",
      "Snippet: The actuators are designed for all applications that require precise, controlled rotary movement between 0° and 90°. In conjunction with a control element, ...\n",
      "Price: $1.324\n",
      "\n",
      "Title: IC 20-60W3E | Krom Schroder | Actuators IC - NEX Instrument Inc\n",
      "Snippet: IC 20-60W3E | Krom Schroder | Actuators IC, Best Price in Town, Guaranteed Low Price!\n",
      "Price: $1.258\n",
      "\n",
      "Title: Honeywell Kromschroder IC20 and IC40 Valve Actuators | Id - SOS Safety International Inc.\n",
      "Snippet: Honeywell Kromschroder's IC20 and IC40 valve actuators can be mounted directly onto BV butterfly valves for applications that require rotary movements ...\n",
      "Price: $452\n",
      "\n",
      "Title: Kromschroder IC20-30W3E 230v 50hZ Actuator - Industrial Boilerhouse Supplies, specialists in boiler equipment\n",
      "Snippet: Upgrade combustion control with Kromschröder IC20 Actuator. Designed for precision and efficiency, this 30W3E 230V 50Hz actuator delivers reliable ...\n",
      "Price: £1.171\n"
     ]
    }
   ],
   "source": [
    "joined_links = '\\n\\n'.join(['Title: {title}\\nSnippet: {snippet}\\nPrice: {currency}{price}'.format(\n",
    "    title=price_link['title'],\n",
    "    snippet=price_link['snippet'],\n",
    "    currency=price_link['currency'],\n",
    "    price=price_link['price']\n",
    ")  for price_link in links_with_price])\n",
    "\n",
    "print(joined_links)"
   ]
  },
  {
   "cell_type": "code",
   "execution_count": 64,
   "id": "0e7dce51-ad72-4139-b7de-ea740f5b6c80",
   "metadata": {},
   "outputs": [],
   "source": [
    "openai = OpenAI(model='gpt-4')"
   ]
  },
  {
   "cell_type": "code",
   "execution_count": 66,
   "id": "64fd55e5-fe8d-4342-bbdc-2e63cdbec55e",
   "metadata": {},
   "outputs": [
    {
     "data": {
      "text/plain": [
       "\u001b[0;31mType:\u001b[0m            OpenAI\n",
       "\u001b[0;31mString form:\u001b[0m     callback_manager=<llama_index.callbacks.base.CallbackManager object at 0x7fe87b6d7c10> model='gpt <...> M95L2MAJQG7jm7u7T3BlbkFJnPYMsCoR2gITOVpikeCz' api_base='https://api.openai.com/v1' api_version=''\n",
       "\u001b[0;31mFile:\u001b[0m            ~/projs/components_agent_sales/venv/lib/python3.11/site-packages/llama_index/llms/openai.py\n",
       "\u001b[0;31mDocstring:\u001b[0m       <no docstring>\n",
       "\u001b[0;31mClass docstring:\u001b[0m LLM interface.\n",
       "\u001b[0;31mInit docstring:\u001b[0m \n",
       "Create a new model by parsing and validating input data from keyword arguments.\n",
       "\n",
       "Raises ValidationError if the input data cannot be parsed to form a valid model."
      ]
     },
     "metadata": {},
     "output_type": "display_data"
    }
   ],
   "source": [
    "openai?"
   ]
  },
  {
   "cell_type": "code",
   "execution_count": 84,
   "id": "a22ca161-889d-4939-9667-e08bb5dc0b02",
   "metadata": {},
   "outputs": [
    {
     "data": {
      "text/plain": [
       "ChatCompletion(id='chatcmpl-8UrL7WPCh21QOQxtQ0XE0i4D2RDGB', choices=[Choice(finish_reason='stop', index=0, message=ChatCompletionMessage(content='Sure, here is the comparison table for Actuator IC-20 from different manufacturers and sellers:\\n\\n| Seller | Model | Description | Price |\\n|---|---|---|---|\\n| Combustion 911 | Kromschroder Actuator IC 20-30W3E | Running time: 30 seconds, Mains Voltage: 230 V AC, Torque: 3.0Nm, Continuous Control: 0 (4) – 20 mA, 0 – 10 V | $868 |\\n| KromAmericas | KS88300080 - IC 20-30Q3E | Designed for precise, controlled rotary movement between 0° and 90°. Compatible with a control element | $1.324 |\\n| NEX Instrument Inc | IC 20-60W3E | Designed for precise rotary movements, Claimed Best Price in Town | $1.258 |\\n| SOS Safety International Inc. | Honeywell Kromschroder IC20 | Can be mounted directly onto BV butterfly valves for rotary movements applications | $452 |\\n| Industrial Boilerhouse Supplies | Kromschroder IC20-30W3E 230v 50hZ | Upgrade combustion control, precision and efficiency, reliable | £1.171 |\\n\\nPlease note that the given prices might be subject to change as these are as per current market information. Also, the prices are in different currencies and might need conversion for accurate comparison.', role='assistant', function_call=None, tool_calls=None))], created=1702365569, model='gpt-4-0613', object='chat.completion', system_fingerprint=None, usage=CompletionUsage(completion_tokens=298, prompt_tokens=469, total_tokens=767))"
      ]
     },
     "execution_count": 84,
     "metadata": {},
     "output_type": "execute_result"
    }
   ],
   "source": [
    "\n",
    "client = OpenAI(api_key = os.getenv('OPENAI_API_KEY'))\n",
    "\n",
    "response = client.chat.completions.create(\n",
    "    model=\"gpt-4\",\n",
    "    messages=[\n",
    "        {\"role\": \"system\", \"content\": \"You are manufacturer details sales manager. You understand technical specification and trying to find the best offer on market in proportion price/qualuty. Your work is accept the market infromation and build tables that shows comparance between manufacturer details.\"},\n",
    "        {\"role\": \"user\", \"content\": f\"Hey, I need to buy Actuator IC-20, here is different offers:\\n{joined_links}. \\n\\nCould you please choose relevant variants and build comparance table. Put result into markdown format.\"}\n",
    "    ],\n",
    "    stream=False\n",
    ")\n",
    "response"
   ]
  },
  {
   "cell_type": "code",
   "execution_count": 80,
   "id": "d39429e6-78e4-4c03-a603-3a756630129e",
   "metadata": {},
   "outputs": [
    {
     "data": {
      "text/plain": [
       "ChatCompletion(id='chatcmpl-8UrIiRMSJzCOTr5ugPdvACNdK7cV3', choices=[Choice(finish_reason='stop', index=0, message=ChatCompletionMessage(content=\"Sure, I'll choose the relevant options for you and make a comparison table in markdown format. \\n\\n| Vendor | Product title | Key features | Price in $ |\\n|---|---|---|---|\\n| Combustion 911 | Kromschroder Actuator IC 20-30W3E  | Running time: 30 seconds, Mains Voltage: 230 V AC, Torque: 3.0Nm, Continuous Control: 0 (4) – 20 mA, 0 – 10 V | 868 |\\n| KromAmericas | KS88300080 - IC 20-30Q3E  | Designed for applications that require precise, controlled rotary movement between 0° and 90° | 1324 |\\n| NEX Instrument Inc | IC 20-60W3E  | Best Price in Town, Guaranteed Low Price! | 1258 |\\n| SOS Safety International Inc. | Honeywell Kromschroder IC20 and IC40 Valve Actuators | Can be mounted directly onto BV butterfly valves for applications that require rotary movements | 452 |\\n| Industrial Boilerhouse Supplies | Kromschroder IC20-30W3E 230v 50hZ Actuator | Designed for precision and efficiency, this 30W3E 230V 50Hz actuator delivers reliable | 1573 (approx, converted from £1.171) |\", role='assistant', function_call=None, tool_calls=None))], created=1702365420, model='gpt-4-0613', object='chat.completion', system_fingerprint=None, usage=CompletionUsage(completion_tokens=295, prompt_tokens=469, total_tokens=764))"
      ]
     },
     "execution_count": 80,
     "metadata": {},
     "output_type": "execute_result"
    }
   ],
   "source": [
    "from openai import OpenAI\n",
    "\n",
    "client = OpenAI(api_key = os.getenv('OPENAI_API_KEY'))\n",
    "\n",
    "stream = client.chat.completions.create(\n",
    "    model=\"gpt-4\",\n",
    "    messages=[\n",
    "        {\"role\": \"system\", \"content\": \"You are manufacturer details sales manager. You understand technical specification and trying to find the best offer on market in proportion price/qualuty. Your work is accept the market infromation and build tables that shows comparance between manufacturer details.\"},\n",
    "        {\"role\": \"user\", \"content\": f\"Hey, I need to buy Actuator IC-20, here is different offers:\\n{joined_links}. \\n\\nCould you please choose relevant variants and build comparance table. Put result into markdown format.\"}\n",
    "    ],\n",
    "    stream=False,\n",
    ")\n",
    "stream"
   ]
  },
  {
   "cell_type": "code",
   "execution_count": 83,
   "id": "f202b93e-c1f2-49ea-82e8-b4e975401ca9",
   "metadata": {},
   "outputs": [
    {
     "name": "stdout",
     "output_type": "stream",
     "text": [
      "Sure, I'll choose the relevant options for you and make a comparison table in markdown format. \n",
      "\n",
      "| Vendor | Product title | Key features | Price in $ |\n",
      "|---|---|---|---|\n",
      "| Combustion 911 | Kromschroder Actuator IC 20-30W3E  | Running time: 30 seconds, Mains Voltage: 230 V AC, Torque: 3.0Nm, Continuous Control: 0 (4) – 20 mA, 0 – 10 V | 868 |\n",
      "| KromAmericas | KS88300080 - IC 20-30Q3E  | Designed for applications that require precise, controlled rotary movement between 0° and 90° | 1324 |\n",
      "| NEX Instrument Inc | IC 20-60W3E  | Best Price in Town, Guaranteed Low Price! | 1258 |\n",
      "| SOS Safety International Inc. | Honeywell Kromschroder IC20 and IC40 Valve Actuators | Can be mounted directly onto BV butterfly valves for applications that require rotary movements | 452 |\n",
      "| Industrial Boilerhouse Supplies | Kromschroder IC20-30W3E 230v 50hZ Actuator | Designed for precision and efficiency, this 30W3E 230V 50Hz actuator delivers reliable | 1573 (approx, converted from £1.171) |\n"
     ]
    }
   ],
   "source": [
    "print(stream.choices[0].message.content)"
   ]
  },
  {
   "cell_type": "code",
   "execution_count": null,
   "id": "8218241d-5a84-45ed-9261-d1dd8414b919",
   "metadata": {},
   "outputs": [],
   "source": []
  }
 ],
 "metadata": {
  "kernelspec": {
   "display_name": "virtualENV",
   "language": "python",
   "name": "virtualenv"
  },
  "language_info": {
   "codemirror_mode": {
    "name": "ipython",
    "version": 3
   },
   "file_extension": ".py",
   "mimetype": "text/x-python",
   "name": "python",
   "nbconvert_exporter": "python",
   "pygments_lexer": "ipython3",
   "version": "3.11.0"
  }
 },
 "nbformat": 4,
 "nbformat_minor": 5
}
